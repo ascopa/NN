{
 "cells": [
  {
   "cell_type": "code",
   "execution_count": 4,
   "metadata": {},
   "outputs": [
    {
     "name": "stdout",
     "output_type": "stream",
     "text": [
      "Setting up [LPIPS] perceptual loss: trunk [alex], v[0.1], spatial [off]\n",
      "Loading model from: /opt/conda/lib/python3.7/site-packages/lpips/weights/v0.1/alex.pth\n",
      "Setting up [LPIPS] perceptual loss: trunk [vgg], v[0.1], spatial [off]\n",
      "Loading model from: /opt/conda/lib/python3.7/site-packages/lpips/weights/v0.1/vgg.pth\n",
      "/home/jovyan/datasets/drive\n",
      "/home/jovyan/FastGAN/eval_40000\n",
      "Number of real images: 170\n",
      "Number of synthetic images: 2006\n",
      "Number of augmented real images: 170\n"
     ]
    }
   ],
   "source": [
    "import os\n",
    "import torch.nn as nn\n",
    "from torchvision import transforms\n",
    "from torchvision.datasets import ImageFolder\n",
    "from torch.utils.data import DataLoader\n",
    "import lpips\n",
    "\n",
    "loss_fn_alex = lpips.LPIPS(net='alex') # best forward scores\n",
    "loss_fn_vgg = lpips.LPIPS(net='vgg') # closer to \"traditional\" perceptual loss, when used for optimization\n",
    "\n",
    "path_a = os.path.join('/home', 'jovyan', 'datasets', 'drive')\n",
    "print (path_a)\n",
    "path_b = os.path.join('/home', 'jovyan', 'FastGAN', 'eval_40000')\n",
    "print (path_b)\n",
    "image_size = 256\n",
    "\n",
    "transform = transforms.Compose([\n",
    "            transforms.Resize((image_size, image_size)),\n",
    "            transforms.ToTensor(),\n",
    "            transforms.Normalize([0.5, 0.5, 0.5], [0.5, 0.5, 0.5])\n",
    "        ])\n",
    "\n",
    "transform_augmented = transforms.Compose([\n",
    "    transforms.RandomHorizontalFlip(),\n",
    "    transforms.RandomResizedCrop(size=image_size, scale=(0.8, 1.0)),\n",
    "    transforms.ToTensor(),\n",
    "    transforms.Normalize([0.5, 0.5, 0.5], [0.5, 0.5, 0.5])\n",
    "])\n",
    "\n",
    "\n",
    "dset_a = ImageFolder(path_a, transform)\n",
    "print(\"Number of real images:\", len(dset_a))\n",
    "loader_a = DataLoader(dset_a, batch_size=32, num_workers=4)\n",
    "\n",
    "dset_b = ImageFolder(path_b, transform)\n",
    "print(\"Number of synthetic images:\", len(dset_b))\n",
    "loader_b = DataLoader(dset_b, batch_size=32, num_workers=4)\n",
    "\n",
    "augmented_images = ImageFolder(path_a, transform_augmented)\n",
    "print(\"Number of augmented real images:\", len(augmented_images))\n",
    "loader_aug = DataLoader(augmented_images, batch_size=32, num_workers=4)\n",
    "\n",
    "\n",
    "def normalize_batch(loader):\n",
    "    i=0\n",
    "    for img_batch,_ in loader:\n",
    "        nn.functional.normalize(img_batch)\n",
    "        i += 1\n",
    "        print(f\"Batch {i} normalized\")\n",
    "        \n",
    "def verify_norm(loader):\n",
    "    mean = 0.\n",
    "    std = 0.\n",
    "    for batch_idx, (real_images, _) in enumerate(loader):\n",
    "        for i in range(real_images.shape[0]):\n",
    "            normalized_image = nn.functional.normalize(real_images[i])\n",
    "            mean += normalized_image.mean()\n",
    "            std += normalized_image.std()\n",
    "    print(f\"Mean: {mean/len(dset_a)}\")\n",
    "    print(f\"Std: {std/len(dset_a)}\")"
   ]
  },
  {
   "cell_type": "code",
   "execution_count": 12,
   "metadata": {},
   "outputs": [
    {
     "name": "stdout",
     "output_type": "stream",
     "text": [
      "Setting up [LPIPS] perceptual loss: trunk [alex], v[0.1], spatial [off]\n",
      "Loading model from: /opt/conda/lib/python3.7/site-packages/lpips/weights/v0.1/alex.pth\n",
      "Mean distance between real and augmented: 0.30347901582717896\n",
      "Mean distancebetween real and synth: 0.20380167663097382\n"
     ]
    }
   ],
   "source": [
    "import lpips\n",
    "import torch\n",
    "\n",
    "# Define the LPIPS distance metric\n",
    "lpips_distance = lpips.LPIPS(net=\"alex\")\n",
    "\n",
    "# Load the datasets\n",
    "real_images = ImageFolder(path_a, transform)\n",
    "synth_images = ImageFolder(path_b, transform)\n",
    "augmented_images = ImageFolder(path_a, transform_augmented)\n",
    "\n",
    "# Define the number of images to sample from each dataset\n",
    "n_images = min(len(real_images), len(synth_images))\n",
    "\n",
    "# Sample the same number of images from each dataset\n",
    "indices_real = torch.randperm(len(real_images))[:n_images]\n",
    "indices_synth = torch.randperm(len(synth_images))[:n_images]\n",
    "indices_aug = torch.randperm(len(augmented_images))[:n_images]\n",
    "\n",
    "\n",
    "images_real = [real_images[i][0] for i in indices_real]\n",
    "images_synth = [synth_images[i][0] for i in indices_synth]\n",
    "images_aug = [augmented_images[i][0] for i in indices_aug]\n",
    "\n",
    "# Compute the LPIPS distance between the two sets of images\n",
    "distance_real_aug = lpips_distance(torch.stack(images_real), torch.stack(images_aug))\n",
    "mean_distance_real_aut = distance_real_aug.mean().item()\n",
    "\n",
    "print(f\"Mean distance between real and augmented: {mean_distance_real_aut}\")\n",
    "\n",
    "distance_real_synth = lpips_distance(torch.stack(images_real), torch.stack(images_synth))\n",
    "mean_distance_real_synth = distance_real_synth.mean().item()\n",
    "\n",
    "print(f\"Mean distancebetween real and synth: {mean_distance_real_synth}\")\n"
   ]
  },
  {
   "cell_type": "code",
   "execution_count": null,
   "metadata": {},
   "outputs": [],
   "source": []
  }
 ],
 "metadata": {
  "kernelspec": {
   "display_name": "Python 3",
   "language": "python",
   "name": "python3"
  },
  "language_info": {
   "codemirror_mode": {
    "name": "ipython",
    "version": 3
   },
   "file_extension": ".py",
   "mimetype": "text/x-python",
   "name": "python",
   "nbconvert_exporter": "python",
   "pygments_lexer": "ipython3",
   "version": "3.7.9"
  }
 },
 "nbformat": 4,
 "nbformat_minor": 4
}
