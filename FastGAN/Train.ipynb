{
 "cells": [
  {
   "cell_type": "markdown",
   "metadata": {},
   "source": [
    "Esta Jupyter Notebook es una adaptación de la red nueronal [implementada](https://github.com/odegeasslbc/FastGAN-pytorch) en el paper [\"Towards Faster and Stabilized GAN Training for High-fidelity Few-shot Image Synthesis\"](https://arxiv.org/pdf/2101.04775.pdf). La particularidad de la misma reside en su capacidad de generar imagenes a partir de datasets \"pequeños\" (>1000 muestras). El código está dividido en tres partes: definición de arquitectura generador/discriminador, funciones auxiliares (procesamiento de datasets, manejo de archivos) y algoritmo de entrenamiento."
   ]
  },
  {
   "cell_type": "markdown",
   "metadata": {},
   "source": [
    "Se utilizaron dos datasets, uno de retinas (Drive) con 160 imagenes en escala de grises y resolución 512x512. El otro consiste de patrones de venas o filamentos, en este caso 6000 imágenes también en escala de grises y resolución 256x256. El procesamiento de ambos casos se hace mediante las clases auxiliares de PyTorch ImageFolder y DataLoader, en batches de 32. Luego se entrena la red con el algoritmo convencional de GAN. Cada cierta cantidad de iteraciones se calcula la FID y se almacena ese valor. Con esto luego se compara en consecuentes iteraciones y se guarda el mejor modelo según esta métrica (menor es mejor). En ambos casos se ve un decenso progresivo de esta distancia, hasta una eventual meseta con sus pequeñas variaciones."
   ]
  },
  {
   "cell_type": "code",
   "execution_count": 1,
   "metadata": {},
   "outputs": [],
   "source": [
    "import torch\n",
    "import torch.nn as nn\n",
    "from torch.nn.utils import spectral_norm\n",
    "import torch.nn.functional as F\n",
    "\n",
    "import random\n",
    "\n",
    "seq = nn.Sequential\n",
    "\n",
    "def weights_init(m):\n",
    "    classname = m.__class__.__name__\n",
    "    if classname.find('Conv') != -1:\n",
    "        try:\n",
    "            m.weight.data.normal_(0.0, 0.02)\n",
    "        except:\n",
    "            pass\n",
    "    elif classname.find('BatchNorm') != -1:\n",
    "        m.weight.data.normal_(1.0, 0.02)\n",
    "        m.bias.data.fill_(0)\n",
    "\n",
    "def conv2d(*args, **kwargs):\n",
    "    return spectral_norm(nn.Conv2d(*args, **kwargs))\n",
    "\n",
    "def convTranspose2d(*args, **kwargs):\n",
    "    return spectral_norm(nn.ConvTranspose2d(*args, **kwargs))\n",
    "\n",
    "def batchNorm2d(*args, **kwargs):\n",
    "    return nn.BatchNorm2d(*args, **kwargs)\n",
    "\n",
    "def linear(*args, **kwargs):\n",
    "    return spectral_norm(nn.Linear(*args, **kwargs))\n",
    "\n",
    "class PixelNorm(nn.Module):\n",
    "    def forward(self, input):\n",
    "        return input * torch.rsqrt(torch.mean(input ** 2, dim=1, keepdim=True) + 1e-8)\n",
    "\n",
    "class Reshape(nn.Module):\n",
    "    def __init__(self, shape):\n",
    "        super().__init__()\n",
    "        self.target_shape = shape\n",
    "\n",
    "    def forward(self, feat):\n",
    "        batch = feat.shape[0]\n",
    "        return feat.view(batch, *self.target_shape)        \n",
    "\n",
    "\n",
    "class GLU(nn.Module):\n",
    "    def forward(self, x):\n",
    "        nc = x.size(1)\n",
    "        assert nc % 2 == 0, 'channels dont divide 2!'\n",
    "        nc = int(nc/2)\n",
    "        return x[:, :nc] * torch.sigmoid(x[:, nc:])\n",
    "\n",
    "\n",
    "class NoiseInjection(nn.Module):\n",
    "    def __init__(self):\n",
    "        super().__init__()\n",
    "\n",
    "        self.weight = nn.Parameter(torch.zeros(1), requires_grad=True)\n",
    "\n",
    "    def forward(self, feat, noise=None):\n",
    "        if noise is None:\n",
    "            batch, _, height, width = feat.shape\n",
    "            noise = torch.randn(batch, 1, height, width).to(feat.device)\n",
    "\n",
    "        return feat + self.weight * noise\n",
    "\n",
    "\n",
    "class Swish(nn.Module):\n",
    "    def forward(self, feat):\n",
    "        return feat * torch.sigmoid(feat)\n",
    "\n",
    "\n",
    "class SEBlock(nn.Module):\n",
    "    def __init__(self, ch_in, ch_out):\n",
    "        super().__init__()\n",
    "\n",
    "        self.main = nn.Sequential(  nn.AdaptiveAvgPool2d(4), \n",
    "                                    conv2d(ch_in, ch_out, 4, 1, 0, bias=False), Swish(),\n",
    "                                    conv2d(ch_out, ch_out, 1, 1, 0, bias=False), nn.Sigmoid() )\n",
    "\n",
    "    def forward(self, feat_small, feat_big):\n",
    "        return feat_big * self.main(feat_small)\n",
    "\n",
    "\n",
    "class InitLayer(nn.Module):\n",
    "    def __init__(self, nz, channel):\n",
    "        super().__init__()\n",
    "\n",
    "        self.init = nn.Sequential(\n",
    "                        convTranspose2d(nz, channel*2, 4, 1, 0, bias=False),\n",
    "                        batchNorm2d(channel*2), GLU() )\n",
    "\n",
    "    def forward(self, noise):\n",
    "        noise = noise.view(noise.shape[0], -1, 1, 1)\n",
    "        return self.init(noise)\n",
    "\n",
    "\n",
    "def UpBlock(in_planes, out_planes):\n",
    "    block = nn.Sequential(\n",
    "        nn.Upsample(scale_factor=2, mode='nearest'),\n",
    "        conv2d(in_planes, out_planes*2, 3, 1, 1, bias=False),\n",
    "        #convTranspose2d(in_planes, out_planes*2, 4, 2, 1, bias=False),\n",
    "        batchNorm2d(out_planes*2), GLU())\n",
    "    return block\n",
    "\n",
    "\n",
    "def UpBlockComp(in_planes, out_planes):\n",
    "    block = nn.Sequential(\n",
    "        nn.Upsample(scale_factor=2, mode='nearest'),\n",
    "        conv2d(in_planes, out_planes*2, 3, 1, 1, bias=False),\n",
    "        #convTranspose2d(in_planes, out_planes*2, 4, 2, 1, bias=False),\n",
    "        NoiseInjection(),\n",
    "        batchNorm2d(out_planes*2), GLU(),\n",
    "        conv2d(out_planes, out_planes*2, 3, 1, 1, bias=False),\n",
    "        NoiseInjection(),\n",
    "        batchNorm2d(out_planes*2), GLU()\n",
    "        )\n",
    "    return block\n",
    "\n",
    "\n",
    "class Generator(nn.Module):\n",
    "    def __init__(self, ngf=64, nz=100, nc=3, im_size=1024):\n",
    "        super(Generator, self).__init__()\n",
    "\n",
    "        nfc_multi = {4:16, 8:8, 16:4, 32:2, 64:2, 128:1, 256:0.5, 512:0.25, 1024:0.125}\n",
    "        nfc = {}\n",
    "        for k, v in nfc_multi.items():\n",
    "            nfc[k] = int(v*ngf)\n",
    "\n",
    "        self.im_size = im_size\n",
    "\n",
    "        self.init = InitLayer(nz, channel=nfc[4])\n",
    "                                \n",
    "        self.feat_8   = UpBlockComp(nfc[4], nfc[8])\n",
    "        self.feat_16  = UpBlock(nfc[8], nfc[16])\n",
    "        self.feat_32  = UpBlockComp(nfc[16], nfc[32])\n",
    "        self.feat_64  = UpBlock(nfc[32], nfc[64])\n",
    "        self.feat_128 = UpBlockComp(nfc[64], nfc[128])  \n",
    "        self.feat_256 = UpBlock(nfc[128], nfc[256]) \n",
    "\n",
    "        self.se_64  = SEBlock(nfc[4], nfc[64])\n",
    "        self.se_128 = SEBlock(nfc[8], nfc[128])\n",
    "        self.se_256 = SEBlock(nfc[16], nfc[256])\n",
    "\n",
    "        self.to_128 = conv2d(nfc[128], nc, 1, 1, 0, bias=False) \n",
    "        self.to_big = conv2d(nfc[im_size], nc, 3, 1, 1, bias=False) \n",
    "        \n",
    "        if im_size > 256:\n",
    "            self.feat_512 = UpBlockComp(nfc[256], nfc[512]) \n",
    "            self.se_512 = SEBlock(nfc[32], nfc[512])\n",
    "        if im_size > 512:\n",
    "            self.feat_1024 = UpBlock(nfc[512], nfc[1024])  \n",
    "        \n",
    "    def forward(self, input):\n",
    "        \n",
    "        feat_4   = self.init(input)\n",
    "        feat_8   = self.feat_8(feat_4)\n",
    "        feat_16  = self.feat_16(feat_8)\n",
    "        feat_32  = self.feat_32(feat_16)\n",
    "\n",
    "        feat_64  = self.se_64( feat_4, self.feat_64(feat_32) )\n",
    "\n",
    "        feat_128 = self.se_128( feat_8, self.feat_128(feat_64) )\n",
    "\n",
    "        feat_256 = self.se_256( feat_16, self.feat_256(feat_128) )\n",
    "\n",
    "        if self.im_size == 256:\n",
    "            return [self.to_big(feat_256), self.to_128(feat_128)]\n",
    "        \n",
    "        feat_512 = self.se_512( feat_32, self.feat_512(feat_256) )\n",
    "        if self.im_size == 512:\n",
    "            return [self.to_big(feat_512), self.to_128(feat_128)]\n",
    "\n",
    "        feat_1024 = self.feat_1024(feat_512)\n",
    "\n",
    "        im_128 = torch.tanh(self.to_128(feat_128))\n",
    "        im_1024 = torch.tanh(self.to_big(feat_1024))\n",
    "\n",
    "        return [im_1024, im_128]\n",
    "\n",
    "\n",
    "class DownBlock(nn.Module):\n",
    "    def __init__(self, in_planes, out_planes):\n",
    "        super(DownBlock, self).__init__()\n",
    "\n",
    "        self.main = nn.Sequential(\n",
    "            conv2d(in_planes, out_planes, 4, 2, 1, bias=False),\n",
    "            batchNorm2d(out_planes), nn.LeakyReLU(0.2, inplace=True),\n",
    "            )\n",
    "\n",
    "    def forward(self, feat):\n",
    "        return self.main(feat)\n",
    "\n",
    "\n",
    "class DownBlockComp(nn.Module):\n",
    "    def __init__(self, in_planes, out_planes):\n",
    "        super(DownBlockComp, self).__init__()\n",
    "\n",
    "        self.main = nn.Sequential(\n",
    "            conv2d(in_planes, out_planes, 4, 2, 1, bias=False),\n",
    "            batchNorm2d(out_planes), nn.LeakyReLU(0.2, inplace=True),\n",
    "            conv2d(out_planes, out_planes, 3, 1, 1, bias=False),\n",
    "            batchNorm2d(out_planes), nn.LeakyReLU(0.2)\n",
    "            )\n",
    "\n",
    "        self.direct = nn.Sequential(\n",
    "            nn.AvgPool2d(2, 2),\n",
    "            conv2d(in_planes, out_planes, 1, 1, 0, bias=False),\n",
    "            batchNorm2d(out_planes), nn.LeakyReLU(0.2))\n",
    "\n",
    "    def forward(self, feat):\n",
    "        return (self.main(feat) + self.direct(feat)) / 2\n",
    "\n",
    "\n",
    "class Discriminator(nn.Module):\n",
    "    def __init__(self, ndf=64, nc=3, im_size=512):\n",
    "        super(Discriminator, self).__init__()\n",
    "        self.ndf = ndf\n",
    "        self.im_size = im_size\n",
    "\n",
    "        nfc_multi = {4:16, 8:16, 16:8, 32:4, 64:2, 128:1, 256:0.5, 512:0.25, 1024:0.125}\n",
    "        nfc = {}\n",
    "        for k, v in nfc_multi.items():\n",
    "            nfc[k] = int(v*ndf)\n",
    "\n",
    "        if im_size == 1024:\n",
    "            self.down_from_big = nn.Sequential( \n",
    "                                    conv2d(nc, nfc[1024], 4, 2, 1, bias=False),\n",
    "                                    nn.LeakyReLU(0.2, inplace=True),\n",
    "                                    conv2d(nfc[1024], nfc[512], 4, 2, 1, bias=False),\n",
    "                                    batchNorm2d(nfc[512]),\n",
    "                                    nn.LeakyReLU(0.2, inplace=True))\n",
    "        elif im_size == 512:\n",
    "            self.down_from_big = nn.Sequential( \n",
    "                                    conv2d(nc, nfc[512], 4, 2, 1, bias=False),\n",
    "                                    nn.LeakyReLU(0.2, inplace=True) )\n",
    "        elif im_size == 256:\n",
    "            self.down_from_big = nn.Sequential( \n",
    "                                    conv2d(nc, nfc[512], 3, 1, 1, bias=False),\n",
    "                                    nn.LeakyReLU(0.2, inplace=True) )\n",
    "\n",
    "        self.down_4  = DownBlockComp(nfc[512], nfc[256])\n",
    "        self.down_8  = DownBlockComp(nfc[256], nfc[128])\n",
    "        self.down_16 = DownBlockComp(nfc[128], nfc[64])\n",
    "        self.down_32 = DownBlockComp(nfc[64],  nfc[32])\n",
    "        self.down_64 = DownBlockComp(nfc[32],  nfc[16])\n",
    "\n",
    "        self.rf_big = nn.Sequential(\n",
    "                            conv2d(nfc[16] , nfc[8], 1, 1, 0, bias=False),\n",
    "                            batchNorm2d(nfc[8]), nn.LeakyReLU(0.2, inplace=True),\n",
    "                            conv2d(nfc[8], 1, 4, 1, 0, bias=False))\n",
    "\n",
    "        self.se_2_16 = SEBlock(nfc[512], nfc[64])\n",
    "        self.se_4_32 = SEBlock(nfc[256], nfc[32])\n",
    "        self.se_8_64 = SEBlock(nfc[128], nfc[16])\n",
    "        \n",
    "        self.down_from_small = nn.Sequential( \n",
    "                                            conv2d(nc, nfc[256], 4, 2, 1, bias=False), \n",
    "                                            nn.LeakyReLU(0.2, inplace=True),\n",
    "                                            DownBlock(nfc[256],  nfc[128]),\n",
    "                                            DownBlock(nfc[128],  nfc[64]),\n",
    "                                            DownBlock(nfc[64],  nfc[32]), )\n",
    "\n",
    "        self.rf_small = conv2d(nfc[32], 1, 4, 1, 0, bias=False)\n",
    "\n",
    "        self.decoder_big = SimpleDecoder(nfc[16], nc)\n",
    "        self.decoder_part = SimpleDecoder(nfc[32], nc)\n",
    "        self.decoder_small = SimpleDecoder(nfc[32], nc)\n",
    "        \n",
    "    def forward(self, imgs, label, part=None):\n",
    "        if type(imgs) is not list:\n",
    "            imgs = [F.interpolate(imgs, size=self.im_size), F.interpolate(imgs, size=128)]\n",
    "\n",
    "        feat_2 = self.down_from_big(imgs[0])        \n",
    "        feat_4 = self.down_4(feat_2)\n",
    "        feat_8 = self.down_8(feat_4)\n",
    "        \n",
    "        feat_16 = self.down_16(feat_8)\n",
    "        feat_16 = self.se_2_16(feat_2, feat_16)\n",
    "\n",
    "        feat_32 = self.down_32(feat_16)\n",
    "        feat_32 = self.se_4_32(feat_4, feat_32)\n",
    "        \n",
    "        feat_last = self.down_64(feat_32)\n",
    "        feat_last = self.se_8_64(feat_8, feat_last)\n",
    "\n",
    "        #rf_0 = torch.cat([self.rf_big_1(feat_last).view(-1),self.rf_big_2(feat_last).view(-1)])\n",
    "        #rff_big = torch.sigmoid(self.rf_factor_big)\n",
    "        rf_0 = self.rf_big(feat_last).view(-1)\n",
    "\n",
    "        feat_small = self.down_from_small(imgs[1])\n",
    "        #rf_1 = torch.cat([self.rf_small_1(feat_small).view(-1),self.rf_small_2(feat_small).view(-1)])\n",
    "        rf_1 = self.rf_small(feat_small).view(-1)\n",
    "\n",
    "        if label=='real':    \n",
    "            rec_img_big = self.decoder_big(feat_last)\n",
    "            rec_img_small = self.decoder_small(feat_small)\n",
    "\n",
    "            assert part is not None\n",
    "            rec_img_part = None\n",
    "            if part==0:\n",
    "                rec_img_part = self.decoder_part(feat_32[:,:,:8,:8])\n",
    "            if part==1:\n",
    "                rec_img_part = self.decoder_part(feat_32[:,:,:8,8:])\n",
    "            if part==2:\n",
    "                rec_img_part = self.decoder_part(feat_32[:,:,8:,:8])\n",
    "            if part==3:\n",
    "                rec_img_part = self.decoder_part(feat_32[:,:,8:,8:])\n",
    "\n",
    "            return torch.cat([rf_0, rf_1]) , [rec_img_big, rec_img_small, rec_img_part]\n",
    "\n",
    "        return torch.cat([rf_0, rf_1]) \n",
    "\n",
    "\n",
    "class SimpleDecoder(nn.Module):\n",
    "    \"\"\"docstring for CAN_SimpleDecoder\"\"\"\n",
    "    def __init__(self, nfc_in=64, nc=3):\n",
    "        super(SimpleDecoder, self).__init__()\n",
    "\n",
    "        nfc_multi = {4:16, 8:8, 16:4, 32:2, 64:2, 128:1, 256:0.5, 512:0.25, 1024:0.125}\n",
    "        nfc = {}\n",
    "        for k, v in nfc_multi.items():\n",
    "            nfc[k] = int(v*32)\n",
    "\n",
    "        def upBlock(in_planes, out_planes):\n",
    "            block = nn.Sequential(\n",
    "                nn.Upsample(scale_factor=2, mode='nearest'),\n",
    "                conv2d(in_planes, out_planes*2, 3, 1, 1, bias=False),\n",
    "                batchNorm2d(out_planes*2), GLU())\n",
    "            return block\n",
    "\n",
    "        self.main = nn.Sequential(  nn.AdaptiveAvgPool2d(8),\n",
    "                                    upBlock(nfc_in, nfc[16]) ,\n",
    "                                    upBlock(nfc[16], nfc[32]),\n",
    "                                    upBlock(nfc[32], nfc[64]),\n",
    "                                    upBlock(nfc[64], nfc[128]),\n",
    "                                    conv2d(nfc[128], nc, 3, 1, 1, bias=False),\n",
    "                                    nn.Tanh() )\n",
    "\n",
    "    def forward(self, input):\n",
    "        # input shape: c x 4 x 4\n",
    "        return self.main(input)\n",
    "\n",
    "from random import randint\n",
    "def random_crop(image, size):\n",
    "    h, w = image.shape[2:]\n",
    "    ch = randint(0, h-size-1)\n",
    "    cw = randint(0, w-size-1)\n",
    "    return image[:,:,ch:ch+size,cw:cw+size]\n",
    "\n",
    "class TextureDiscriminator(nn.Module):\n",
    "    def __init__(self, ndf=64, nc=3, im_size=512):\n",
    "        super(TextureDiscriminator, self).__init__()\n",
    "        self.ndf = ndf\n",
    "        self.im_size = im_size\n",
    "\n",
    "        nfc_multi = {4:16, 8:8, 16:8, 32:4, 64:2, 128:1, 256:0.5, 512:0.25, 1024:0.125}\n",
    "        nfc = {}\n",
    "        for k, v in nfc_multi.items():\n",
    "            nfc[k] = int(v*ndf)\n",
    "\n",
    "        self.down_from_small = nn.Sequential( \n",
    "                                            conv2d(nc, nfc[256], 4, 2, 1, bias=False), \n",
    "                                            nn.LeakyReLU(0.2, inplace=True),\n",
    "                                            DownBlock(nfc[256],  nfc[128]),\n",
    "                                            DownBlock(nfc[128],  nfc[64]),\n",
    "                                            DownBlock(nfc[64],  nfc[32]), )\n",
    "        self.rf_small = nn.Sequential(\n",
    "                            conv2d(nfc[16], 1, 4, 1, 0, bias=False))\n",
    "\n",
    "        self.decoder_small = SimpleDecoder(nfc[32], nc)\n",
    "        \n",
    "    def forward(self, img, label):\n",
    "        img = random_crop(img, size=128)\n",
    "\n",
    "        feat_small = self.down_from_small(img)\n",
    "        rf = self.rf_small(feat_small).view(-1)\n",
    "        \n",
    "        if label=='real':    \n",
    "            rec_img_small = self.decoder_small(feat_small)\n",
    "\n",
    "            return rf, rec_img_small, img\n",
    "\n",
    "        return rf\n"
   ]
  },
  {
   "cell_type": "code",
   "execution_count": 2,
   "metadata": {},
   "outputs": [],
   "source": [
    "import os\n",
    "import numpy as np\n",
    "import torch\n",
    "import torch.utils.data as data\n",
    "from torch.utils.data import Dataset\n",
    "from PIL import Image\n",
    "from copy import deepcopy\n",
    "import shutil\n",
    "import json\n",
    "\n",
    "def InfiniteSampler(n):\n",
    "    \"\"\"Data sampler\"\"\"\n",
    "    i = n - 1\n",
    "    order = np.random.permutation(n)\n",
    "    while True:\n",
    "        yield order[i]\n",
    "        i += 1\n",
    "        if i >= n:\n",
    "            np.random.seed()\n",
    "            order = np.random.permutation(n)\n",
    "            i = 0\n",
    "\n",
    "\n",
    "class InfiniteSamplerWrapper(data.sampler.Sampler):\n",
    "    \"\"\"Data sampler wrapper\"\"\"\n",
    "    def __init__(self, data_source):\n",
    "        self.num_samples = len(data_source)\n",
    "\n",
    "    def __iter__(self):\n",
    "        return iter(InfiniteSampler(self.num_samples))\n",
    "\n",
    "    def __len__(self):\n",
    "        return 2 ** 31\n",
    "\n",
    "\n",
    "def copy_G_params(model):\n",
    "    flatten = deepcopy(list(p.data for p in model.parameters()))\n",
    "    return flatten\n",
    "    \n",
    "\n",
    "def load_params(model, new_param):\n",
    "    for p, new_p in zip(model.parameters(), new_param):\n",
    "        p.data.copy_(new_p)\n",
    "\n",
    "\n",
    "def get_dir(args):\n",
    "    task_name = 'train_results/' + args.name\n",
    "    saved_model_folder = os.path.join( task_name, 'models')\n",
    "    saved_image_folder = os.path.join( task_name, 'images')\n",
    "    \n",
    "    os.makedirs(saved_model_folder, exist_ok=True)\n",
    "    os.makedirs(saved_image_folder, exist_ok=True)\n",
    "\n",
    "\n",
    "    for f in os.listdir('./'):\n",
    "        if '.py' in f:\n",
    "            shutil.copy(f, task_name+'/'+f)\n",
    "    \n",
    "    with open( os.path.join(saved_model_folder, '../args.txt'), 'w') as f:\n",
    "        json.dump(args.__dict__, f, indent=2)\n",
    "\n",
    "    return saved_model_folder, saved_image_folder\n",
    "\n",
    "\n",
    "class  ImageFolder(Dataset):\n",
    "    \"\"\"docstring for ArtDataset\"\"\"\n",
    "    def __init__(self, root, transform=None):\n",
    "        super( ImageFolder, self).__init__()\n",
    "        self.root = root\n",
    "\n",
    "        self.frame = self._parse_frame()\n",
    "        self.transform = transform\n",
    "\n",
    "    def _parse_frame(self):\n",
    "        frame = []\n",
    "        img_names = os.listdir(self.root)\n",
    "        img_names.sort()\n",
    "        for i in range(len(img_names)):\n",
    "            image_path = os.path.join(self.root, img_names[i])\n",
    "            if image_path[-4:] == '.jpg' or image_path[-4:] == '.png' or image_path[-5:] == '.jpeg': \n",
    "                frame.append(image_path)\n",
    "        return frame\n",
    "\n",
    "    def __len__(self):\n",
    "        return len(self.frame)\n",
    "\n",
    "    def __getitem__(self, idx):\n",
    "        file = self.frame[idx]\n",
    "        img = Image.open(file).convert('RGB')\n",
    "            \n",
    "        if self.transform:\n",
    "            img = self.transform(img) \n",
    "\n",
    "        return img\n",
    "\n",
    "\n",
    "\n",
    "from io import BytesIO\n",
    "import lmdb\n",
    "from torch.utils.data import Dataset\n",
    "\n",
    "\n",
    "class MultiResolutionDataset(Dataset):\n",
    "    def __init__(self, path, transform, resolution=256):\n",
    "        self.env = lmdb.open(\n",
    "            path,\n",
    "            max_readers=32,\n",
    "            readonly=True,\n",
    "            lock=False,\n",
    "            readahead=False,\n",
    "            meminit=False,\n",
    "        )\n",
    "\n",
    "        if not self.env:\n",
    "            raise IOError('Cannot open lmdb dataset', path)\n",
    "\n",
    "        with self.env.begin(write=False) as txn:\n",
    "            self.length = int(txn.get('length'.encode('utf-8')).decode('utf-8'))\n",
    "\n",
    "        self.resolution = resolution\n",
    "        self.transform = transform\n",
    "\n",
    "    def __len__(self):\n",
    "        return self.length\n",
    "\n",
    "    def __getitem__(self, index):\n",
    "        with self.env.begin(write=False) as txn:\n",
    "            key = f'{self.resolution}-{str(index).zfill(5)}'.encode('utf-8')\n",
    "            img_bytes = txn.get(key)\n",
    "            #key_asp = f'aspect_ratio-{str(index).zfill(5)}'.encode('utf-8')\n",
    "            #aspect_ratio = float(txn.get(key_asp).decode())\n",
    "\n",
    "        buffer = BytesIO(img_bytes)\n",
    "        img = Image.open(buffer)\n",
    "        img = self.transform(img)\n",
    "\n",
    "        return img\n",
    "\n"
   ]
  },
  {
   "cell_type": "code",
   "execution_count": 3,
   "metadata": {},
   "outputs": [
    {
     "name": "stdout",
     "output_type": "stream",
     "text": [
      "/home/jovyan/NN/datasets/BV/train\n",
      "{'path': '/home/jovyan/NN/datasets/BV/train', 'cuda': 0, 'name': 'test_bv_256', 'iter': 100000, 'start_iter': 0, 'batch_size': 1, 'im_size': 256, 'ckpt': 'None', 'noise_dim': 400, 'fid_batch_size': 32}\n"
     ]
    },
    {
     "name": "stderr",
     "output_type": "stream",
     "text": [
      "Using cache found in /home/jovyan/.cache/torch/hub/pytorch_vision_v0.9.0\n",
      "/opt/conda/lib/python3.7/site-packages/torchvision/models/_utils.py:209: UserWarning: The parameter 'pretrained' is deprecated since 0.13 and may be removed in the future, please use 'weights' instead.\n",
      "  f\"The parameter '{pretrained_param}' is deprecated since 0.13 and may be removed in the future, \"\n",
      "/opt/conda/lib/python3.7/site-packages/torchvision/models/_utils.py:223: UserWarning: Arguments other than a weight enum or `None` for 'weights' are deprecated since 0.13 and may be removed in the future. The current behavior is equivalent to passing `weights=Inception_V3_Weights.IMAGENET1K_V1`. You can also use `weights=Inception_V3_Weights.DEFAULT` to get the most up-to-date weights.\n",
      "  warnings.warn(msg)\n",
      "  0%|          | 0/100001 [00:00<?, ?it/s]/opt/conda/lib/python3.7/site-packages/torch/functional.py:504: UserWarning: torch.meshgrid: in an upcoming release, it will be required to pass the indexing argument. (Triggered internally at ../aten/src/ATen/native/TensorShape.cpp:3190.)\n",
      "  return _VF.meshgrid(tensors, **kwargs)  # type: ignore[attr-defined]\n"
     ]
    },
    {
     "name": "stdout",
     "output_type": "stream",
     "text": [
      "GAN: loss d: 0.11228    loss g: -1.20325\n",
      "saving current model\n"
     ]
    },
    {
     "name": "stderr",
     "output_type": "stream",
     "text": [
      "\n",
      "  0%|          | 0/175 [00:00<?, ?it/s]\u001b[A"
     ]
    },
    {
     "name": "stdout",
     "output_type": "stream",
     "text": [
      "Number of real images: 5626\n"
     ]
    },
    {
     "name": "stderr",
     "output_type": "stream",
     "text": [
      "\n",
      "\n",
      "  0%|          | 0/15 [00:00<?, ?it/s]\u001b[A\u001b[A"
     ]
    },
    {
     "name": "stdout",
     "output_type": "stream",
     "text": [
      "Number of synthetic images: 500\n"
     ]
    },
    {
     "name": "stderr",
     "output_type": "stream",
     "text": [
      "  0%|          | 0/15 [00:00<?, ?it/s]\n",
      "  0%|          | 0/175 [00:09<?, ?it/s]"
     ]
    },
    {
     "name": "stdout",
     "output_type": "stream",
     "text": [
      "Current fid score: 4.9325711711390205\n",
      "Fid scores: [4.9325711711390205]\n",
      "New min fid score: 4.932571171139\n",
      "Saving best model\n"
     ]
    },
    {
     "name": "stderr",
     "output_type": "stream",
     "text": [
      "\n",
      "  0%|          | 101/100001 [00:29<3:04:35,  9.02it/s]"
     ]
    },
    {
     "name": "stdout",
     "output_type": "stream",
     "text": [
      "GAN: loss d: 1.76975    loss g: -2.20233\n"
     ]
    },
    {
     "name": "stderr",
     "output_type": "stream",
     "text": [
      "  0%|          | 203/100001 [00:40<2:56:52,  9.40it/s]"
     ]
    },
    {
     "name": "stdout",
     "output_type": "stream",
     "text": [
      "GAN: loss d: 3.11165    loss g: -2.10204\n"
     ]
    },
    {
     "name": "stderr",
     "output_type": "stream",
     "text": [
      "  0%|          | 303/100001 [00:51<2:55:01,  9.49it/s]"
     ]
    },
    {
     "name": "stdout",
     "output_type": "stream",
     "text": [
      "GAN: loss d: 2.53209    loss g: -2.52053\n"
     ]
    },
    {
     "name": "stderr",
     "output_type": "stream",
     "text": [
      "  0%|          | 401/100001 [01:01<3:10:29,  8.71it/s]"
     ]
    },
    {
     "name": "stdout",
     "output_type": "stream",
     "text": [
      "GAN: loss d: 2.50416    loss g: -3.84261\n"
     ]
    },
    {
     "name": "stderr",
     "output_type": "stream",
     "text": [
      "  1%|          | 502/100001 [01:12<2:58:49,  9.27it/s]"
     ]
    },
    {
     "name": "stdout",
     "output_type": "stream",
     "text": [
      "GAN: loss d: 3.48834    loss g: -3.39701\n"
     ]
    },
    {
     "name": "stderr",
     "output_type": "stream",
     "text": [
      "  1%|          | 601/100001 [01:23<3:06:29,  8.88it/s]"
     ]
    },
    {
     "name": "stdout",
     "output_type": "stream",
     "text": [
      "GAN: loss d: 4.15612    loss g: -3.85424\n"
     ]
    },
    {
     "name": "stderr",
     "output_type": "stream",
     "text": [
      "  1%|          | 701/100001 [01:33<3:10:50,  8.67it/s]"
     ]
    },
    {
     "name": "stdout",
     "output_type": "stream",
     "text": [
      "GAN: loss d: 3.24582    loss g: -3.86773\n"
     ]
    },
    {
     "name": "stderr",
     "output_type": "stream",
     "text": [
      "  1%|          | 801/100001 [01:44<3:01:07,  9.13it/s]"
     ]
    },
    {
     "name": "stdout",
     "output_type": "stream",
     "text": [
      "GAN: loss d: 3.95762    loss g: -3.00873\n"
     ]
    },
    {
     "name": "stderr",
     "output_type": "stream",
     "text": [
      "  1%|          | 903/100001 [01:55<2:52:37,  9.57it/s]"
     ]
    },
    {
     "name": "stdout",
     "output_type": "stream",
     "text": [
      "GAN: loss d: 3.96922    loss g: -2.81749\n"
     ]
    },
    {
     "name": "stderr",
     "output_type": "stream",
     "text": [
      "  1%|          | 1000/100001 [02:05<2:55:56,  9.38it/s]"
     ]
    },
    {
     "name": "stdout",
     "output_type": "stream",
     "text": [
      "GAN: loss d: 3.07037    loss g: -3.03211\n",
      "saving current model\n"
     ]
    },
    {
     "name": "stderr",
     "output_type": "stream",
     "text": [
      "\n",
      "  0%|          | 0/175 [00:00<?, ?it/s]\u001b[A"
     ]
    },
    {
     "name": "stdout",
     "output_type": "stream",
     "text": [
      "Number of real images: 5626\n"
     ]
    },
    {
     "name": "stderr",
     "output_type": "stream",
     "text": [
      "\n",
      "\n",
      "  0%|          | 0/15 [00:00<?, ?it/s]\u001b[A\u001b[A"
     ]
    },
    {
     "name": "stdout",
     "output_type": "stream",
     "text": [
      "Number of synthetic images: 500\n"
     ]
    },
    {
     "name": "stderr",
     "output_type": "stream",
     "text": [
      "  0%|          | 0/175 [00:09<?, ?it/s]\n",
      "  0%|          | 0/175 [00:09<?, ?it/s]\n",
      "  0%|          | 0/15 [00:00<?, ?it/s]"
     ]
    },
    {
     "name": "stdout",
     "output_type": "stream",
     "text": [
      "Current fid score: 2.4436189539080466\n",
      "Fid scores: [4.9325711711390205, 2.4436189539080466]\n",
      "New min fid score: 2.443618953908\n",
      "Saving best model\n"
     ]
    },
    {
     "name": "stderr",
     "output_type": "stream",
     "text": [
      "\n",
      "  1%|          | 1101/100001 [02:40<3:06:49,  8.82it/s]  "
     ]
    },
    {
     "name": "stdout",
     "output_type": "stream",
     "text": [
      "GAN: loss d: 3.11613    loss g: -3.17246\n"
     ]
    },
    {
     "name": "stderr",
     "output_type": "stream",
     "text": [
      "  1%|          | 1201/100001 [02:50<3:03:39,  8.97it/s]"
     ]
    },
    {
     "name": "stdout",
     "output_type": "stream",
     "text": [
      "GAN: loss d: 3.75906    loss g: -3.68266\n"
     ]
    },
    {
     "name": "stderr",
     "output_type": "stream",
     "text": [
      "  1%|▏         | 1301/100001 [03:01<3:01:28,  9.06it/s]"
     ]
    },
    {
     "name": "stdout",
     "output_type": "stream",
     "text": [
      "GAN: loss d: 4.27631    loss g: -2.30284\n"
     ]
    },
    {
     "name": "stderr",
     "output_type": "stream",
     "text": [
      "  1%|▏         | 1401/100001 [03:12<3:06:28,  8.81it/s]"
     ]
    },
    {
     "name": "stdout",
     "output_type": "stream",
     "text": [
      "GAN: loss d: 3.33603    loss g: -3.27635\n"
     ]
    },
    {
     "name": "stderr",
     "output_type": "stream",
     "text": [
      "  2%|▏         | 1501/100001 [03:22<3:02:26,  9.00it/s]"
     ]
    },
    {
     "name": "stdout",
     "output_type": "stream",
     "text": [
      "GAN: loss d: 5.46868    loss g: -2.31485\n"
     ]
    },
    {
     "name": "stderr",
     "output_type": "stream",
     "text": [
      "  2%|▏         | 1603/100001 [03:33<2:51:51,  9.54it/s]"
     ]
    },
    {
     "name": "stdout",
     "output_type": "stream",
     "text": [
      "GAN: loss d: 4.33008    loss g: -3.19097\n"
     ]
    },
    {
     "name": "stderr",
     "output_type": "stream",
     "text": [
      "  2%|▏         | 1701/100001 [03:44<3:00:49,  9.06it/s]"
     ]
    },
    {
     "name": "stdout",
     "output_type": "stream",
     "text": [
      "GAN: loss d: 4.42636    loss g: -4.17476\n"
     ]
    },
    {
     "name": "stderr",
     "output_type": "stream",
     "text": [
      "  2%|▏         | 1801/100001 [03:54<3:00:01,  9.09it/s]"
     ]
    },
    {
     "name": "stdout",
     "output_type": "stream",
     "text": [
      "GAN: loss d: 0.57256    loss g: -2.94561\n"
     ]
    },
    {
     "name": "stderr",
     "output_type": "stream",
     "text": [
      "  2%|▏         | 1901/100001 [04:05<3:02:26,  8.96it/s]"
     ]
    },
    {
     "name": "stdout",
     "output_type": "stream",
     "text": [
      "GAN: loss d: 3.36986    loss g: -2.90354\n"
     ]
    },
    {
     "name": "stderr",
     "output_type": "stream",
     "text": [
      "  2%|▏         | 2000/100001 [04:16<2:52:24,  9.47it/s]"
     ]
    },
    {
     "name": "stdout",
     "output_type": "stream",
     "text": [
      "GAN: loss d: 3.86788    loss g: -2.70855\n",
      "saving current model\n"
     ]
    },
    {
     "name": "stderr",
     "output_type": "stream",
     "text": [
      "\n",
      "  0%|          | 0/175 [00:00<?, ?it/s]\u001b[A"
     ]
    },
    {
     "name": "stdout",
     "output_type": "stream",
     "text": [
      "Number of real images: 5626\n"
     ]
    },
    {
     "name": "stderr",
     "output_type": "stream",
     "text": [
      "\n",
      "\n",
      "  0%|          | 0/15 [00:00<?, ?it/s]\u001b[A\u001b[A"
     ]
    },
    {
     "name": "stdout",
     "output_type": "stream",
     "text": [
      "Number of synthetic images: 500\n"
     ]
    },
    {
     "name": "stderr",
     "output_type": "stream",
     "text": [
      "  2%|▏         | 2002/100001 [04:36<120:16:03,  4.42s/it]"
     ]
    },
    {
     "name": "stdout",
     "output_type": "stream",
     "text": [
      "Current fid score: 2.836768048488924\n",
      "Fid scores: [4.9325711711390205, 2.4436189539080466, 2.836768048488924]\n"
     ]
    },
    {
     "name": "stderr",
     "output_type": "stream",
     "text": [
      "  0%|          | 0/175 [00:15<?, ?it/s]3:42,  9.40it/s]  \n",
      "  0%|          | 0/15 [00:07<?, ?it/s]\n",
      "  2%|▏         | 2103/100001 [04:47<2:53:32,  9.40it/s]"
     ]
    },
    {
     "name": "stdout",
     "output_type": "stream",
     "text": [
      "GAN: loss d: 2.88598    loss g: -2.19840\n"
     ]
    },
    {
     "name": "stderr",
     "output_type": "stream",
     "text": [
      "  2%|▏         | 2201/100001 [04:58<2:58:49,  9.11it/s]"
     ]
    },
    {
     "name": "stdout",
     "output_type": "stream",
     "text": [
      "GAN: loss d: 0.60857    loss g: -2.72787\n"
     ]
    },
    {
     "name": "stderr",
     "output_type": "stream",
     "text": [
      "  2%|▏         | 2301/100001 [05:09<3:01:24,  8.98it/s]"
     ]
    },
    {
     "name": "stdout",
     "output_type": "stream",
     "text": [
      "GAN: loss d: 1.85192    loss g: -1.78130\n"
     ]
    },
    {
     "name": "stderr",
     "output_type": "stream",
     "text": [
      "  2%|▏         | 2401/100001 [05:19<2:58:17,  9.12it/s]"
     ]
    },
    {
     "name": "stdout",
     "output_type": "stream",
     "text": [
      "GAN: loss d: 2.91972    loss g: -1.96335\n"
     ]
    },
    {
     "name": "stderr",
     "output_type": "stream",
     "text": [
      "  3%|▎         | 2503/100001 [05:30<2:49:46,  9.57it/s]"
     ]
    },
    {
     "name": "stdout",
     "output_type": "stream",
     "text": [
      "GAN: loss d: 1.32873    loss g: -2.14097\n"
     ]
    },
    {
     "name": "stderr",
     "output_type": "stream",
     "text": [
      "  3%|▎         | 2603/100001 [05:41<2:50:40,  9.51it/s]"
     ]
    },
    {
     "name": "stdout",
     "output_type": "stream",
     "text": [
      "GAN: loss d: 2.83893    loss g: -1.46832\n"
     ]
    },
    {
     "name": "stderr",
     "output_type": "stream",
     "text": [
      "  3%|▎         | 2701/100001 [05:51<3:01:51,  8.92it/s]"
     ]
    },
    {
     "name": "stdout",
     "output_type": "stream",
     "text": [
      "GAN: loss d: 3.60539    loss g: -1.82570\n"
     ]
    },
    {
     "name": "stderr",
     "output_type": "stream",
     "text": [
      "  3%|▎         | 2803/100001 [06:02<2:50:30,  9.50it/s]"
     ]
    },
    {
     "name": "stdout",
     "output_type": "stream",
     "text": [
      "GAN: loss d: 2.74653    loss g: -2.87371\n"
     ]
    },
    {
     "name": "stderr",
     "output_type": "stream",
     "text": [
      "  3%|▎         | 2901/100001 [06:13<3:01:44,  8.90it/s]"
     ]
    },
    {
     "name": "stdout",
     "output_type": "stream",
     "text": [
      "GAN: loss d: 1.34180    loss g: -2.26222\n"
     ]
    },
    {
     "name": "stderr",
     "output_type": "stream",
     "text": [
      "  3%|▎         | 3000/100001 [06:23<2:55:50,  9.19it/s]"
     ]
    },
    {
     "name": "stdout",
     "output_type": "stream",
     "text": [
      "GAN: loss d: 2.18994    loss g: -2.05426\n",
      "saving current model\n"
     ]
    },
    {
     "name": "stderr",
     "output_type": "stream",
     "text": [
      "\n",
      "  0%|          | 0/175 [00:00<?, ?it/s]\u001b[A"
     ]
    },
    {
     "name": "stdout",
     "output_type": "stream",
     "text": [
      "Number of real images: 5626\n"
     ]
    },
    {
     "name": "stderr",
     "output_type": "stream",
     "text": [
      "\n",
      "\n",
      "  0%|          | 0/15 [00:00<?, ?it/s]\u001b[A\u001b[A"
     ]
    },
    {
     "name": "stdout",
     "output_type": "stream",
     "text": [
      "Number of synthetic images: 500\n"
     ]
    },
    {
     "name": "stderr",
     "output_type": "stream",
     "text": [
      "  3%|▎         | 3001/100001 [06:44<168:39:58,  6.26s/it]"
     ]
    },
    {
     "name": "stdout",
     "output_type": "stream",
     "text": [
      "Current fid score: 2.7970490892296382\n",
      "Fid scores: [4.9325711711390205, 2.4436189539080466, 2.836768048488924, 2.7970490892296382]\n"
     ]
    },
    {
     "name": "stderr",
     "output_type": "stream",
     "text": [
      "  0%|          | 0/175 [00:10<?, ?it/s]25:08,  1.26it/s] \n",
      "  0%|          | 0/15 [00:01<?, ?it/s]\n",
      "  3%|▎         | 3101/100001 [06:55<2:59:54,  8.98it/s] "
     ]
    },
    {
     "name": "stdout",
     "output_type": "stream",
     "text": [
      "GAN: loss d: 3.59056    loss g: -1.44635\n"
     ]
    },
    {
     "name": "stderr",
     "output_type": "stream",
     "text": [
      "  3%|▎         | 3203/100001 [07:06<2:51:12,  9.42it/s]"
     ]
    },
    {
     "name": "stdout",
     "output_type": "stream",
     "text": [
      "GAN: loss d: -0.63185    loss g: -1.91404\n"
     ]
    },
    {
     "name": "stderr",
     "output_type": "stream",
     "text": [
      "  3%|▎         | 3301/100001 [07:16<3:02:10,  8.85it/s]"
     ]
    },
    {
     "name": "stdout",
     "output_type": "stream",
     "text": [
      "GAN: loss d: 1.68639    loss g: -1.98958\n"
     ]
    },
    {
     "name": "stderr",
     "output_type": "stream",
     "text": [
      "  3%|▎         | 3401/100001 [07:27<3:18:19,  8.12it/s]"
     ]
    },
    {
     "name": "stdout",
     "output_type": "stream",
     "text": [
      "GAN: loss d: 2.38232    loss g: -1.05239\n"
     ]
    },
    {
     "name": "stderr",
     "output_type": "stream",
     "text": [
      "  4%|▎         | 3501/100001 [07:38<3:01:21,  8.87it/s]"
     ]
    },
    {
     "name": "stdout",
     "output_type": "stream",
     "text": [
      "GAN: loss d: 1.30313    loss g: -1.98210\n"
     ]
    },
    {
     "name": "stderr",
     "output_type": "stream",
     "text": [
      "  4%|▎         | 3603/100001 [07:49<2:50:57,  9.40it/s]"
     ]
    },
    {
     "name": "stdout",
     "output_type": "stream",
     "text": [
      "GAN: loss d: 0.72753    loss g: -2.00575\n"
     ]
    },
    {
     "name": "stderr",
     "output_type": "stream",
     "text": [
      "  4%|▎         | 3701/100001 [07:59<2:57:00,  9.07it/s]"
     ]
    },
    {
     "name": "stdout",
     "output_type": "stream",
     "text": [
      "GAN: loss d: 2.53036    loss g: -2.16660\n"
     ]
    },
    {
     "name": "stderr",
     "output_type": "stream",
     "text": [
      "  4%|▍         | 3801/100001 [08:10<2:59:11,  8.95it/s]"
     ]
    },
    {
     "name": "stdout",
     "output_type": "stream",
     "text": [
      "GAN: loss d: 1.36984    loss g: -2.27189\n"
     ]
    },
    {
     "name": "stderr",
     "output_type": "stream",
     "text": [
      "  4%|▍         | 3901/100001 [08:21<2:59:38,  8.92it/s]"
     ]
    },
    {
     "name": "stdout",
     "output_type": "stream",
     "text": [
      "GAN: loss d: -0.02805    loss g: -1.12856\n"
     ]
    },
    {
     "name": "stderr",
     "output_type": "stream",
     "text": [
      "  4%|▍         | 4000/100001 [08:31<2:53:51,  9.20it/s]"
     ]
    },
    {
     "name": "stdout",
     "output_type": "stream",
     "text": [
      "GAN: loss d: 1.91383    loss g: -1.72303\n",
      "saving current model\n"
     ]
    },
    {
     "name": "stderr",
     "output_type": "stream",
     "text": [
      "\n",
      "  0%|          | 0/175 [00:00<?, ?it/s]\u001b[A"
     ]
    },
    {
     "name": "stdout",
     "output_type": "stream",
     "text": [
      "Number of real images: 5626\n"
     ]
    },
    {
     "name": "stderr",
     "output_type": "stream",
     "text": [
      "\n",
      "\n",
      "  0%|          | 0/15 [00:00<?, ?it/s]\u001b[A\u001b[A"
     ]
    },
    {
     "name": "stdout",
     "output_type": "stream",
     "text": [
      "Number of synthetic images: 500\n"
     ]
    },
    {
     "name": "stderr",
     "output_type": "stream",
     "text": [
      "  4%|▍         | 4002/100001 [08:52<118:22:39,  4.44s/it]"
     ]
    },
    {
     "name": "stdout",
     "output_type": "stream",
     "text": [
      "Current fid score: 3.1710357984691626\n",
      "Fid scores: [4.9325711711390205, 2.4436189539080466, 2.836768048488924, 2.7970490892296382, 3.1710357984691626]\n"
     ]
    },
    {
     "name": "stderr",
     "output_type": "stream",
     "text": [
      "  0%|          | 0/175 [00:10<?, ?it/s]3:26,  3.53it/s]  \n",
      "  0%|          | 0/15 [00:02<?, ?it/s]\n",
      "  4%|▍         | 4101/100001 [09:03<2:59:56,  8.88it/s]"
     ]
    },
    {
     "name": "stdout",
     "output_type": "stream",
     "text": [
      "GAN: loss d: 3.57068    loss g: -2.30481\n"
     ]
    },
    {
     "name": "stderr",
     "output_type": "stream",
     "text": [
      "  4%|▍         | 4201/100001 [09:13<2:55:11,  9.11it/s]"
     ]
    },
    {
     "name": "stdout",
     "output_type": "stream",
     "text": [
      "GAN: loss d: 2.14829    loss g: -1.68234\n"
     ]
    },
    {
     "name": "stderr",
     "output_type": "stream",
     "text": [
      "  4%|▍         | 4301/100001 [09:24<2:57:36,  8.98it/s]"
     ]
    },
    {
     "name": "stdout",
     "output_type": "stream",
     "text": [
      "GAN: loss d: 2.61217    loss g: -2.57849\n"
     ]
    },
    {
     "name": "stderr",
     "output_type": "stream",
     "text": [
      "  4%|▍         | 4401/100001 [09:35<2:53:50,  9.17it/s]"
     ]
    },
    {
     "name": "stdout",
     "output_type": "stream",
     "text": [
      "GAN: loss d: 2.58663    loss g: -2.21393\n"
     ]
    },
    {
     "name": "stderr",
     "output_type": "stream",
     "text": [
      "  5%|▍         | 4501/100001 [09:46<2:55:34,  9.07it/s]"
     ]
    },
    {
     "name": "stdout",
     "output_type": "stream",
     "text": [
      "GAN: loss d: 0.82770    loss g: -2.21730\n"
     ]
    },
    {
     "name": "stderr",
     "output_type": "stream",
     "text": [
      "  5%|▍         | 4603/100001 [09:57<2:46:37,  9.54it/s]"
     ]
    },
    {
     "name": "stdout",
     "output_type": "stream",
     "text": [
      "GAN: loss d: 2.74458    loss g: -1.91360\n"
     ]
    },
    {
     "name": "stderr",
     "output_type": "stream",
     "text": [
      "  5%|▍         | 4701/100001 [10:07<2:59:40,  8.84it/s]"
     ]
    },
    {
     "name": "stdout",
     "output_type": "stream",
     "text": [
      "GAN: loss d: 1.60524    loss g: -3.16018\n"
     ]
    },
    {
     "name": "stderr",
     "output_type": "stream",
     "text": [
      "  5%|▍         | 4801/100001 [10:18<2:58:22,  8.90it/s]"
     ]
    },
    {
     "name": "stdout",
     "output_type": "stream",
     "text": [
      "GAN: loss d: 2.02147    loss g: -1.94356\n"
     ]
    },
    {
     "name": "stderr",
     "output_type": "stream",
     "text": [
      "  5%|▍         | 4903/100001 [10:29<2:46:00,  9.55it/s]"
     ]
    },
    {
     "name": "stdout",
     "output_type": "stream",
     "text": [
      "GAN: loss d: 1.15514    loss g: -2.25404\n"
     ]
    },
    {
     "name": "stderr",
     "output_type": "stream",
     "text": [
      "  5%|▍         | 5000/100001 [10:39<2:52:34,  9.18it/s]"
     ]
    },
    {
     "name": "stdout",
     "output_type": "stream",
     "text": [
      "GAN: loss d: 2.27667    loss g: -2.21153\n",
      "saving current model\n"
     ]
    },
    {
     "name": "stderr",
     "output_type": "stream",
     "text": [
      "\n",
      "  0%|          | 0/175 [00:00<?, ?it/s]\u001b[A"
     ]
    },
    {
     "name": "stdout",
     "output_type": "stream",
     "text": [
      "Number of real images: 5626\n"
     ]
    },
    {
     "name": "stderr",
     "output_type": "stream",
     "text": [
      "\n",
      "\n",
      "  0%|          | 0/15 [00:00<?, ?it/s]\u001b[A\u001b[A"
     ]
    },
    {
     "name": "stdout",
     "output_type": "stream",
     "text": [
      "Number of synthetic images: 500\n"
     ]
    },
    {
     "name": "stderr",
     "output_type": "stream",
     "text": [
      "  5%|▌         | 5001/100001 [11:00<163:33:53,  6.20s/it]"
     ]
    },
    {
     "name": "stdout",
     "output_type": "stream",
     "text": [
      "Current fid score: 3.3000315606457526\n",
      "Fid scores: [4.9325711711390205, 2.4436189539080466, 2.836768048488924, 2.7970490892296382, 3.1710357984691626, 3.3000315606457526]\n"
     ]
    },
    {
     "name": "stderr",
     "output_type": "stream",
     "text": [
      "  0%|          | 0/175 [00:18<?, ?it/s]9:43,  9.32it/s]  \n",
      "  0%|          | 0/15 [00:09<?, ?it/s]\n",
      "  5%|▌         | 5101/100001 [11:10<2:55:31,  9.01it/s]"
     ]
    },
    {
     "name": "stdout",
     "output_type": "stream",
     "text": [
      "GAN: loss d: 2.43878    loss g: -2.67990\n"
     ]
    },
    {
     "name": "stderr",
     "output_type": "stream",
     "text": [
      "  5%|▌         | 5201/100001 [11:21<2:53:22,  9.11it/s]"
     ]
    },
    {
     "name": "stdout",
     "output_type": "stream",
     "text": [
      "GAN: loss d: 2.75215    loss g: -2.48290\n"
     ]
    },
    {
     "name": "stderr",
     "output_type": "stream",
     "text": [
      "  5%|▌         | 5301/100001 [11:32<2:52:59,  9.12it/s]"
     ]
    },
    {
     "name": "stdout",
     "output_type": "stream",
     "text": [
      "GAN: loss d: 2.75434    loss g: -1.67943\n"
     ]
    },
    {
     "name": "stderr",
     "output_type": "stream",
     "text": [
      "  5%|▌         | 5401/100001 [11:42<2:52:30,  9.14it/s]"
     ]
    },
    {
     "name": "stdout",
     "output_type": "stream",
     "text": [
      "GAN: loss d: 2.41501    loss g: -2.74671\n"
     ]
    },
    {
     "name": "stderr",
     "output_type": "stream",
     "text": [
      "  6%|▌         | 5501/100001 [11:53<2:55:54,  8.95it/s]"
     ]
    },
    {
     "name": "stdout",
     "output_type": "stream",
     "text": [
      "GAN: loss d: 2.11692    loss g: -2.56864\n"
     ]
    },
    {
     "name": "stderr",
     "output_type": "stream",
     "text": [
      "  6%|▌         | 5601/100001 [12:04<3:06:30,  8.44it/s]"
     ]
    },
    {
     "name": "stdout",
     "output_type": "stream",
     "text": [
      "GAN: loss d: 2.69079    loss g: -2.10310\n"
     ]
    },
    {
     "name": "stderr",
     "output_type": "stream",
     "text": [
      "  6%|▌         | 5703/100001 [12:15<2:46:41,  9.43it/s]"
     ]
    },
    {
     "name": "stdout",
     "output_type": "stream",
     "text": [
      "GAN: loss d: 1.38136    loss g: -2.23555\n"
     ]
    },
    {
     "name": "stderr",
     "output_type": "stream",
     "text": [
      "  6%|▌         | 5801/100001 [12:25<2:56:23,  8.90it/s]"
     ]
    },
    {
     "name": "stdout",
     "output_type": "stream",
     "text": [
      "GAN: loss d: 3.20895    loss g: -2.32583\n"
     ]
    },
    {
     "name": "stderr",
     "output_type": "stream",
     "text": [
      "  6%|▌         | 5901/100001 [12:36<2:57:00,  8.86it/s]"
     ]
    },
    {
     "name": "stdout",
     "output_type": "stream",
     "text": [
      "GAN: loss d: 0.97818    loss g: -2.08784\n"
     ]
    },
    {
     "name": "stderr",
     "output_type": "stream",
     "text": [
      "  6%|▌         | 6000/100001 [12:47<2:49:30,  9.24it/s]"
     ]
    },
    {
     "name": "stdout",
     "output_type": "stream",
     "text": [
      "GAN: loss d: 2.62699    loss g: -2.19364\n",
      "saving current model\n"
     ]
    },
    {
     "name": "stderr",
     "output_type": "stream",
     "text": [
      "\n",
      "  0%|          | 0/175 [00:00<?, ?it/s]\u001b[A"
     ]
    },
    {
     "name": "stdout",
     "output_type": "stream",
     "text": [
      "Number of real images: 5626\n"
     ]
    },
    {
     "name": "stderr",
     "output_type": "stream",
     "text": [
      "\n",
      "\n",
      "  0%|          | 0/15 [00:00<?, ?it/s]\u001b[A\u001b[A"
     ]
    },
    {
     "name": "stdout",
     "output_type": "stream",
     "text": [
      "Number of synthetic images: 500\n"
     ]
    },
    {
     "name": "stderr",
     "output_type": "stream",
     "text": [
      "  6%|▌         | 6002/100001 [13:07<114:12:13,  4.37s/it]"
     ]
    },
    {
     "name": "stdout",
     "output_type": "stream",
     "text": [
      "Current fid score: 2.70047286994032\n",
      "Fid scores: [4.9325711711390205, 2.4436189539080466, 2.836768048488924, 2.7970490892296382, 3.1710357984691626, 3.3000315606457526, 2.70047286994032]\n"
     ]
    },
    {
     "name": "stderr",
     "output_type": "stream",
     "text": [
      "  0%|          | 0/175 [00:14<?, ?it/s]0:49,  9.17it/s]  \n",
      "  0%|          | 0/15 [00:05<?, ?it/s]\n",
      "  6%|▌         | 6101/100001 [13:18<2:54:09,  8.99it/s]"
     ]
    },
    {
     "name": "stdout",
     "output_type": "stream",
     "text": [
      "GAN: loss d: 2.22168    loss g: -2.00923\n"
     ]
    },
    {
     "name": "stderr",
     "output_type": "stream",
     "text": [
      "  6%|▌         | 6201/100001 [13:28<2:51:23,  9.12it/s]"
     ]
    },
    {
     "name": "stdout",
     "output_type": "stream",
     "text": [
      "GAN: loss d: 2.60740    loss g: -1.79220\n"
     ]
    },
    {
     "name": "stderr",
     "output_type": "stream",
     "text": [
      "  6%|▋         | 6302/100001 [13:39<2:45:58,  9.41it/s]"
     ]
    },
    {
     "name": "stdout",
     "output_type": "stream",
     "text": [
      "GAN: loss d: 1.24049    loss g: -3.11138\n"
     ]
    },
    {
     "name": "stderr",
     "output_type": "stream",
     "text": [
      "  6%|▋         | 6401/100001 [13:50<2:55:08,  8.91it/s]"
     ]
    },
    {
     "name": "stdout",
     "output_type": "stream",
     "text": [
      "GAN: loss d: 0.82528    loss g: -2.11335\n"
     ]
    },
    {
     "name": "stderr",
     "output_type": "stream",
     "text": [
      "  7%|▋         | 6501/100001 [14:01<2:54:39,  8.92it/s]"
     ]
    },
    {
     "name": "stdout",
     "output_type": "stream",
     "text": [
      "GAN: loss d: 1.98074    loss g: -2.44331\n"
     ]
    },
    {
     "name": "stderr",
     "output_type": "stream",
     "text": [
      "  7%|▋         | 6601/100001 [14:11<2:55:19,  8.88it/s]"
     ]
    },
    {
     "name": "stdout",
     "output_type": "stream",
     "text": [
      "GAN: loss d: 2.07814    loss g: -2.34816\n"
     ]
    },
    {
     "name": "stderr",
     "output_type": "stream",
     "text": [
      "  7%|▋         | 6701/100001 [14:22<2:57:18,  8.77it/s]"
     ]
    },
    {
     "name": "stdout",
     "output_type": "stream",
     "text": [
      "GAN: loss d: 0.97262    loss g: -1.32685\n"
     ]
    },
    {
     "name": "stderr",
     "output_type": "stream",
     "text": [
      "  7%|▋         | 6801/100001 [14:33<2:52:09,  9.02it/s]"
     ]
    },
    {
     "name": "stdout",
     "output_type": "stream",
     "text": [
      "GAN: loss d: 1.93020    loss g: -2.21511\n"
     ]
    },
    {
     "name": "stderr",
     "output_type": "stream",
     "text": [
      "  7%|▋         | 6901/100001 [14:43<2:52:14,  9.01it/s]"
     ]
    },
    {
     "name": "stdout",
     "output_type": "stream",
     "text": [
      "GAN: loss d: -0.62143    loss g: -0.37938\n"
     ]
    },
    {
     "name": "stderr",
     "output_type": "stream",
     "text": [
      "  7%|▋         | 7000/100001 [14:54<2:44:30,  9.42it/s]"
     ]
    },
    {
     "name": "stdout",
     "output_type": "stream",
     "text": [
      "GAN: loss d: 0.40618    loss g: -2.22859\n",
      "saving current model\n"
     ]
    },
    {
     "name": "stderr",
     "output_type": "stream",
     "text": [
      "\n",
      "  0%|          | 0/175 [00:00<?, ?it/s]\u001b[A"
     ]
    },
    {
     "name": "stdout",
     "output_type": "stream",
     "text": [
      "Number of real images: 5626\n"
     ]
    },
    {
     "name": "stderr",
     "output_type": "stream",
     "text": [
      "\n",
      "\n",
      "  0%|          | 0/15 [00:00<?, ?it/s]\u001b[A\u001b[A"
     ]
    },
    {
     "name": "stdout",
     "output_type": "stream",
     "text": [
      "Number of synthetic images: 500\n"
     ]
    },
    {
     "name": "stderr",
     "output_type": "stream",
     "text": [
      "  0%|          | 0/175 [00:09<?, ?it/s]\n",
      "  0%|          | 0/15 [00:00<?, ?it/s]"
     ]
    },
    {
     "name": "stdout",
     "output_type": "stream",
     "text": [
      "Current fid score: 2.1638209867365674\n",
      "Fid scores: [4.9325711711390205, 2.4436189539080466, 2.836768048488924, 2.7970490892296382, 3.1710357984691626, 3.3000315606457526, 2.70047286994032, 2.1638209867365674]\n",
      "New min fid score: 2.163820986737\n",
      "Saving best model\n"
     ]
    },
    {
     "name": "stderr",
     "output_type": "stream",
     "text": [
      "\n",
      "  7%|▋         | 7101/100001 [15:28<2:48:48,  9.17it/s]  "
     ]
    },
    {
     "name": "stdout",
     "output_type": "stream",
     "text": [
      "GAN: loss d: 0.54775    loss g: -1.30715\n"
     ]
    },
    {
     "name": "stderr",
     "output_type": "stream",
     "text": [
      "  7%|▋         | 7201/100001 [15:39<2:48:46,  9.16it/s]"
     ]
    },
    {
     "name": "stdout",
     "output_type": "stream",
     "text": [
      "GAN: loss d: 0.88041    loss g: -2.14127\n"
     ]
    },
    {
     "name": "stderr",
     "output_type": "stream",
     "text": [
      "  7%|▋         | 7301/100001 [15:50<2:52:38,  8.95it/s]"
     ]
    },
    {
     "name": "stdout",
     "output_type": "stream",
     "text": [
      "GAN: loss d: 3.60349    loss g: -2.81040\n"
     ]
    },
    {
     "name": "stderr",
     "output_type": "stream",
     "text": [
      "  7%|▋         | 7401/100001 [16:01<2:53:59,  8.87it/s]"
     ]
    },
    {
     "name": "stdout",
     "output_type": "stream",
     "text": [
      "GAN: loss d: 3.67575    loss g: -2.63620\n"
     ]
    },
    {
     "name": "stderr",
     "output_type": "stream",
     "text": [
      "  8%|▊         | 7501/100001 [16:11<2:52:59,  8.91it/s]"
     ]
    },
    {
     "name": "stdout",
     "output_type": "stream",
     "text": [
      "GAN: loss d: 0.78895    loss g: -2.43691\n"
     ]
    },
    {
     "name": "stderr",
     "output_type": "stream",
     "text": [
      "  8%|▊         | 7601/100001 [16:22<2:51:32,  8.98it/s]"
     ]
    },
    {
     "name": "stdout",
     "output_type": "stream",
     "text": [
      "GAN: loss d: 2.17905    loss g: -2.05227\n"
     ]
    },
    {
     "name": "stderr",
     "output_type": "stream",
     "text": [
      "  8%|▊         | 7703/100001 [16:33<2:41:45,  9.51it/s]"
     ]
    },
    {
     "name": "stdout",
     "output_type": "stream",
     "text": [
      "GAN: loss d: 0.32963    loss g: -2.89382\n"
     ]
    },
    {
     "name": "stderr",
     "output_type": "stream",
     "text": [
      "  8%|▊         | 7801/100001 [16:43<2:47:54,  9.15it/s]"
     ]
    },
    {
     "name": "stdout",
     "output_type": "stream",
     "text": [
      "GAN: loss d: 2.35762    loss g: -2.73702\n"
     ]
    },
    {
     "name": "stderr",
     "output_type": "stream",
     "text": [
      "  8%|▊         | 7903/100001 [16:54<2:41:38,  9.50it/s]"
     ]
    },
    {
     "name": "stdout",
     "output_type": "stream",
     "text": [
      "GAN: loss d: 2.13681    loss g: -2.46917\n"
     ]
    },
    {
     "name": "stderr",
     "output_type": "stream",
     "text": [
      "  8%|▊         | 8000/100001 [17:04<2:40:37,  9.55it/s]"
     ]
    },
    {
     "name": "stdout",
     "output_type": "stream",
     "text": [
      "GAN: loss d: 3.13380    loss g: -2.59862\n",
      "saving current model\n"
     ]
    },
    {
     "name": "stderr",
     "output_type": "stream",
     "text": [
      "\n",
      "  0%|          | 0/175 [00:00<?, ?it/s]\u001b[A"
     ]
    },
    {
     "name": "stdout",
     "output_type": "stream",
     "text": [
      "Number of real images: 5626\n"
     ]
    },
    {
     "name": "stderr",
     "output_type": "stream",
     "text": [
      "\n",
      "\n",
      "  0%|          | 0/15 [00:00<?, ?it/s]\u001b[A\u001b[A"
     ]
    },
    {
     "name": "stdout",
     "output_type": "stream",
     "text": [
      "Number of synthetic images: 500\n"
     ]
    },
    {
     "name": "stderr",
     "output_type": "stream",
     "text": [
      "  0%|          | 0/175 [00:09<?, ?it/s]\n",
      "  0%|          | 0/15 [00:00<?, ?it/s]"
     ]
    },
    {
     "name": "stdout",
     "output_type": "stream",
     "text": [
      "Current fid score: 2.0204577684506617\n",
      "Fid scores: [4.9325711711390205, 2.4436189539080466, 2.836768048488924, 2.7970490892296382, 3.1710357984691626, 3.3000315606457526, 2.70047286994032, 2.1638209867365674, 2.0204577684506617]\n",
      "New min fid score: 2.020457768451\n",
      "Saving best model\n"
     ]
    },
    {
     "name": "stderr",
     "output_type": "stream",
     "text": [
      "\n",
      "  8%|▊         | 8103/100001 [17:39<2:41:38,  9.48it/s]  "
     ]
    },
    {
     "name": "stdout",
     "output_type": "stream",
     "text": [
      "GAN: loss d: 2.19225    loss g: -1.88721\n"
     ]
    },
    {
     "name": "stderr",
     "output_type": "stream",
     "text": [
      "  8%|▊         | 8201/100001 [17:50<2:48:32,  9.08it/s]"
     ]
    },
    {
     "name": "stdout",
     "output_type": "stream",
     "text": [
      "GAN: loss d: 0.82604    loss g: -1.42619\n"
     ]
    },
    {
     "name": "stderr",
     "output_type": "stream",
     "text": [
      "  8%|▊         | 8303/100001 [18:00<2:40:28,  9.52it/s]"
     ]
    },
    {
     "name": "stdout",
     "output_type": "stream",
     "text": [
      "GAN: loss d: 1.97749    loss g: -2.50050\n"
     ]
    },
    {
     "name": "stderr",
     "output_type": "stream",
     "text": [
      "  8%|▊         | 8401/100001 [18:11<2:47:25,  9.12it/s]"
     ]
    },
    {
     "name": "stdout",
     "output_type": "stream",
     "text": [
      "GAN: loss d: 4.48613    loss g: -1.27276\n"
     ]
    },
    {
     "name": "stderr",
     "output_type": "stream",
     "text": [
      "  9%|▊         | 8501/100001 [18:22<2:46:44,  9.15it/s]"
     ]
    },
    {
     "name": "stdout",
     "output_type": "stream",
     "text": [
      "GAN: loss d: 1.31729    loss g: -1.67787\n"
     ]
    },
    {
     "name": "stderr",
     "output_type": "stream",
     "text": [
      "  9%|▊         | 8601/100001 [18:32<2:53:26,  8.78it/s]"
     ]
    },
    {
     "name": "stdout",
     "output_type": "stream",
     "text": [
      "GAN: loss d: 1.34859    loss g: -2.37370\n"
     ]
    },
    {
     "name": "stderr",
     "output_type": "stream",
     "text": [
      "  9%|▊         | 8701/100001 [18:43<2:47:27,  9.09it/s]"
     ]
    },
    {
     "name": "stdout",
     "output_type": "stream",
     "text": [
      "GAN: loss d: 2.40500    loss g: -2.31184\n"
     ]
    },
    {
     "name": "stderr",
     "output_type": "stream",
     "text": [
      "  9%|▉         | 8803/100001 [18:54<2:40:48,  9.45it/s]"
     ]
    },
    {
     "name": "stdout",
     "output_type": "stream",
     "text": [
      "GAN: loss d: 1.74381    loss g: -1.74857\n"
     ]
    },
    {
     "name": "stderr",
     "output_type": "stream",
     "text": [
      "  9%|▉         | 8901/100001 [19:04<2:47:00,  9.09it/s]"
     ]
    },
    {
     "name": "stdout",
     "output_type": "stream",
     "text": [
      "GAN: loss d: 2.24130    loss g: -2.11770\n"
     ]
    },
    {
     "name": "stderr",
     "output_type": "stream",
     "text": [
      "  9%|▉         | 9000/100001 [19:15<2:41:03,  9.42it/s]"
     ]
    },
    {
     "name": "stdout",
     "output_type": "stream",
     "text": [
      "GAN: loss d: 4.70154    loss g: -1.27629\n",
      "saving current model\n"
     ]
    },
    {
     "name": "stderr",
     "output_type": "stream",
     "text": [
      "\n",
      "  0%|          | 0/175 [00:00<?, ?it/s]\u001b[A"
     ]
    },
    {
     "name": "stdout",
     "output_type": "stream",
     "text": [
      "Number of real images: 5626\n"
     ]
    },
    {
     "name": "stderr",
     "output_type": "stream",
     "text": [
      "\n",
      "\n",
      "  0%|          | 0/15 [00:00<?, ?it/s]\u001b[A\u001b[A"
     ]
    },
    {
     "name": "stdout",
     "output_type": "stream",
     "text": [
      "Number of synthetic images: 500\n"
     ]
    },
    {
     "name": "stderr",
     "output_type": "stream",
     "text": [
      "  0%|          | 0/175 [00:09<?, ?it/s]\n",
      "  0%|          | 0/15 [00:00<?, ?it/s]"
     ]
    },
    {
     "name": "stdout",
     "output_type": "stream",
     "text": [
      "Current fid score: 1.3914490073477666\n",
      "Fid scores: [4.9325711711390205, 2.4436189539080466, 2.836768048488924, 2.7970490892296382, 3.1710357984691626, 3.3000315606457526, 2.70047286994032, 2.1638209867365674, 2.0204577684506617, 1.3914490073477666]\n",
      "New min fid score: 1.391449007348\n",
      "Saving best model\n"
     ]
    },
    {
     "name": "stderr",
     "output_type": "stream",
     "text": [
      "\n",
      "  9%|▉         | 9103/100001 [19:50<2:38:29,  9.56it/s]  "
     ]
    },
    {
     "name": "stdout",
     "output_type": "stream",
     "text": [
      "GAN: loss d: 0.96642    loss g: -3.77566\n"
     ]
    },
    {
     "name": "stderr",
     "output_type": "stream",
     "text": [
      "  9%|▉         | 9203/100001 [20:00<2:38:47,  9.53it/s]"
     ]
    },
    {
     "name": "stdout",
     "output_type": "stream",
     "text": [
      "GAN: loss d: 1.60276    loss g: -2.27697\n"
     ]
    },
    {
     "name": "stderr",
     "output_type": "stream",
     "text": [
      "  9%|▉         | 9301/100001 [20:11<2:46:37,  9.07it/s]"
     ]
    },
    {
     "name": "stdout",
     "output_type": "stream",
     "text": [
      "GAN: loss d: 4.51117    loss g: -2.31656\n"
     ]
    },
    {
     "name": "stderr",
     "output_type": "stream",
     "text": [
      "  9%|▉         | 9401/100001 [20:22<2:47:35,  9.01it/s]"
     ]
    },
    {
     "name": "stdout",
     "output_type": "stream",
     "text": [
      "GAN: loss d: 3.38082    loss g: -2.94492\n"
     ]
    },
    {
     "name": "stderr",
     "output_type": "stream",
     "text": [
      " 10%|▉         | 9501/100001 [20:32<2:48:23,  8.96it/s]"
     ]
    },
    {
     "name": "stdout",
     "output_type": "stream",
     "text": [
      "GAN: loss d: 3.03541    loss g: -2.00160\n"
     ]
    },
    {
     "name": "stderr",
     "output_type": "stream",
     "text": [
      " 10%|▉         | 9601/100001 [20:43<2:47:43,  8.98it/s]"
     ]
    },
    {
     "name": "stdout",
     "output_type": "stream",
     "text": [
      "GAN: loss d: -0.14148    loss g: -2.68961\n"
     ]
    },
    {
     "name": "stderr",
     "output_type": "stream",
     "text": [
      " 10%|▉         | 9701/100001 [20:54<2:48:50,  8.91it/s]"
     ]
    },
    {
     "name": "stdout",
     "output_type": "stream",
     "text": [
      "GAN: loss d: 1.65965    loss g: -3.78979\n"
     ]
    },
    {
     "name": "stderr",
     "output_type": "stream",
     "text": [
      " 10%|▉         | 9803/100001 [21:05<2:39:12,  9.44it/s]"
     ]
    },
    {
     "name": "stdout",
     "output_type": "stream",
     "text": [
      "GAN: loss d: 3.45369    loss g: -1.57311\n"
     ]
    },
    {
     "name": "stderr",
     "output_type": "stream",
     "text": [
      " 10%|▉         | 9901/100001 [21:15<2:46:14,  9.03it/s]"
     ]
    },
    {
     "name": "stdout",
     "output_type": "stream",
     "text": [
      "GAN: loss d: 3.76434    loss g: -3.02031\n"
     ]
    },
    {
     "name": "stderr",
     "output_type": "stream",
     "text": [
      " 10%|▉         | 10000/100001 [21:26<2:38:16,  9.48it/s]"
     ]
    },
    {
     "name": "stdout",
     "output_type": "stream",
     "text": [
      "GAN: loss d: 2.40041    loss g: -1.47467\n",
      "saving current model\n"
     ]
    },
    {
     "name": "stderr",
     "output_type": "stream",
     "text": [
      "\n",
      "  0%|          | 0/175 [00:00<?, ?it/s]\u001b[A"
     ]
    },
    {
     "name": "stdout",
     "output_type": "stream",
     "text": [
      "Number of real images: 5626\n"
     ]
    },
    {
     "name": "stderr",
     "output_type": "stream",
     "text": [
      "\n",
      "\n",
      "  0%|          | 0/15 [00:00<?, ?it/s]\u001b[A\u001b[A"
     ]
    },
    {
     "name": "stdout",
     "output_type": "stream",
     "text": [
      "Number of synthetic images: 500\n"
     ]
    },
    {
     "name": "stderr",
     "output_type": "stream",
     "text": [
      " 10%|█         | 10002/100001 [21:47<110:34:20,  4.42s/it]"
     ]
    },
    {
     "name": "stdout",
     "output_type": "stream",
     "text": [
      "Current fid score: 1.4400591510301268\n",
      "Fid scores: [4.9325711711390205, 2.4436189539080466, 2.836768048488924, 2.7970490892296382, 3.1710357984691626, 3.3000315606457526, 2.70047286994032, 2.1638209867365674, 2.0204577684506617, 1.3914490073477666, 1.4400591510301268]\n"
     ]
    },
    {
     "name": "stderr",
     "output_type": "stream",
     "text": [
      "  0%|          | 0/175 [00:10<?, ?it/s]:24:59,  1.62it/s] \n",
      "  0%|          | 0/15 [00:01<?, ?it/s]\n",
      " 10%|█         | 10101/100001 [21:57<2:48:06,  8.91it/s] "
     ]
    },
    {
     "name": "stdout",
     "output_type": "stream",
     "text": [
      "GAN: loss d: 3.39923    loss g: -3.16227\n"
     ]
    },
    {
     "name": "stderr",
     "output_type": "stream",
     "text": [
      " 10%|█         | 10203/100001 [22:08<2:36:38,  9.55it/s]"
     ]
    },
    {
     "name": "stdout",
     "output_type": "stream",
     "text": [
      "GAN: loss d: 1.88673    loss g: -1.71210\n"
     ]
    },
    {
     "name": "stderr",
     "output_type": "stream",
     "text": [
      " 10%|█         | 10303/100001 [22:19<2:39:11,  9.39it/s]"
     ]
    },
    {
     "name": "stdout",
     "output_type": "stream",
     "text": [
      "GAN: loss d: 2.59827    loss g: -2.32161\n"
     ]
    },
    {
     "name": "stderr",
     "output_type": "stream",
     "text": [
      " 10%|█         | 10401/100001 [22:30<3:06:49,  7.99it/s]"
     ]
    },
    {
     "name": "stdout",
     "output_type": "stream",
     "text": [
      "GAN: loss d: -1.70450    loss g: -1.70373\n"
     ]
    },
    {
     "name": "stderr",
     "output_type": "stream",
     "text": [
      " 11%|█         | 10501/100001 [22:40<2:43:41,  9.11it/s]"
     ]
    },
    {
     "name": "stdout",
     "output_type": "stream",
     "text": [
      "GAN: loss d: 3.05508    loss g: -2.57932\n"
     ]
    },
    {
     "name": "stderr",
     "output_type": "stream",
     "text": [
      " 11%|█         | 10601/100001 [22:51<2:44:13,  9.07it/s]"
     ]
    },
    {
     "name": "stdout",
     "output_type": "stream",
     "text": [
      "GAN: loss d: 3.01174    loss g: -1.45072\n"
     ]
    },
    {
     "name": "stderr",
     "output_type": "stream",
     "text": [
      " 11%|█         | 10702/100001 [23:02<2:56:17,  8.44it/s]"
     ]
    },
    {
     "name": "stdout",
     "output_type": "stream",
     "text": [
      "GAN: loss d: 3.21696    loss g: -1.77407\n"
     ]
    },
    {
     "name": "stderr",
     "output_type": "stream",
     "text": [
      " 11%|█         | 10801/100001 [23:13<2:59:10,  8.30it/s]"
     ]
    },
    {
     "name": "stdout",
     "output_type": "stream",
     "text": [
      "GAN: loss d: 1.95030    loss g: -2.69977\n"
     ]
    },
    {
     "name": "stderr",
     "output_type": "stream",
     "text": [
      " 11%|█         | 10903/100001 [23:24<2:35:19,  9.56it/s]"
     ]
    },
    {
     "name": "stdout",
     "output_type": "stream",
     "text": [
      "GAN: loss d: 2.56838    loss g: -2.73528\n"
     ]
    },
    {
     "name": "stderr",
     "output_type": "stream",
     "text": [
      " 11%|█         | 11000/100001 [23:34<2:36:46,  9.46it/s]"
     ]
    },
    {
     "name": "stdout",
     "output_type": "stream",
     "text": [
      "GAN: loss d: 3.26963    loss g: -2.74915\n",
      "saving current model\n"
     ]
    },
    {
     "name": "stderr",
     "output_type": "stream",
     "text": [
      "\n",
      "  0%|          | 0/175 [00:00<?, ?it/s]\u001b[A"
     ]
    },
    {
     "name": "stdout",
     "output_type": "stream",
     "text": [
      "Number of real images: 5626\n"
     ]
    },
    {
     "name": "stderr",
     "output_type": "stream",
     "text": [
      "\n",
      "\n",
      "  0%|          | 0/15 [00:00<?, ?it/s]\u001b[A\u001b[A"
     ]
    },
    {
     "name": "stdout",
     "output_type": "stream",
     "text": [
      "Number of synthetic images: 500\n"
     ]
    },
    {
     "name": "stderr",
     "output_type": "stream",
     "text": [
      " 11%|█         | 11001/100001 [23:55<154:22:39,  6.24s/it]"
     ]
    },
    {
     "name": "stdout",
     "output_type": "stream",
     "text": [
      "Current fid score: 1.510807629476865\n",
      "Fid scores: [4.9325711711390205, 2.4436189539080466, 2.836768048488924, 2.7970490892296382, 3.1710357984691626, 3.3000315606457526, 2.70047286994032, 2.1638209867365674, 2.0204577684506617, 1.3914490073477666, 1.4400591510301268, 1.510807629476865]\n"
     ]
    },
    {
     "name": "stderr",
     "output_type": "stream",
     "text": [
      "  0%|          | 0/175 [00:11<?, ?it/s]35:01,  4.43it/s]  \n",
      "  0%|          | 0/15 [00:02<?, ?it/s]\n",
      " 11%|█         | 11101/100001 [24:05<2:45:58,  8.93it/s]"
     ]
    },
    {
     "name": "stdout",
     "output_type": "stream",
     "text": [
      "GAN: loss d: 4.84836    loss g: -1.57970\n"
     ]
    },
    {
     "name": "stderr",
     "output_type": "stream",
     "text": [
      " 11%|█         | 11201/100001 [24:16<2:44:33,  8.99it/s]"
     ]
    },
    {
     "name": "stdout",
     "output_type": "stream",
     "text": [
      "GAN: loss d: 3.33356    loss g: -2.01142\n"
     ]
    },
    {
     "name": "stderr",
     "output_type": "stream",
     "text": [
      " 11%|█▏        | 11301/100001 [24:27<2:43:37,  9.04it/s]"
     ]
    },
    {
     "name": "stdout",
     "output_type": "stream",
     "text": [
      "GAN: loss d: 1.85611    loss g: -1.22062\n"
     ]
    },
    {
     "name": "stderr",
     "output_type": "stream",
     "text": [
      " 11%|█▏        | 11401/100001 [24:37<2:42:59,  9.06it/s]"
     ]
    },
    {
     "name": "stdout",
     "output_type": "stream",
     "text": [
      "GAN: loss d: 1.56709    loss g: -2.29421\n"
     ]
    },
    {
     "name": "stderr",
     "output_type": "stream",
     "text": [
      " 12%|█▏        | 11501/100001 [24:48<2:41:25,  9.14it/s]"
     ]
    },
    {
     "name": "stdout",
     "output_type": "stream",
     "text": [
      "GAN: loss d: 1.52583    loss g: -2.56007\n"
     ]
    },
    {
     "name": "stderr",
     "output_type": "stream",
     "text": [
      " 12%|█▏        | 11601/100001 [24:59<2:41:54,  9.10it/s]"
     ]
    },
    {
     "name": "stdout",
     "output_type": "stream",
     "text": [
      "GAN: loss d: 4.79179    loss g: -1.42165\n"
     ]
    },
    {
     "name": "stderr",
     "output_type": "stream",
     "text": [
      " 12%|█▏        | 11703/100001 [25:10<2:34:38,  9.52it/s]"
     ]
    },
    {
     "name": "stdout",
     "output_type": "stream",
     "text": [
      "GAN: loss d: 1.69810    loss g: -2.54612\n"
     ]
    },
    {
     "name": "stderr",
     "output_type": "stream",
     "text": [
      " 12%|█▏        | 11803/100001 [25:20<2:35:23,  9.46it/s]"
     ]
    },
    {
     "name": "stdout",
     "output_type": "stream",
     "text": [
      "GAN: loss d: 2.88892    loss g: -3.45202\n"
     ]
    },
    {
     "name": "stderr",
     "output_type": "stream",
     "text": [
      " 12%|█▏        | 11901/100001 [25:31<2:46:37,  8.81it/s]"
     ]
    },
    {
     "name": "stdout",
     "output_type": "stream",
     "text": [
      "GAN: loss d: 2.37602    loss g: -2.49253\n"
     ]
    },
    {
     "name": "stderr",
     "output_type": "stream",
     "text": [
      " 12%|█▏        | 12000/100001 [25:41<2:35:14,  9.45it/s]"
     ]
    },
    {
     "name": "stdout",
     "output_type": "stream",
     "text": [
      "GAN: loss d: 2.74182    loss g: -1.46732\n",
      "saving current model\n"
     ]
    },
    {
     "name": "stderr",
     "output_type": "stream",
     "text": [
      "\n",
      "  0%|          | 0/175 [00:00<?, ?it/s]\u001b[A"
     ]
    },
    {
     "name": "stdout",
     "output_type": "stream",
     "text": [
      "Number of real images: 5626\n"
     ]
    },
    {
     "name": "stderr",
     "output_type": "stream",
     "text": [
      "\n",
      "\n",
      "  0%|          | 0/15 [00:00<?, ?it/s]\u001b[A\u001b[A"
     ]
    },
    {
     "name": "stdout",
     "output_type": "stream",
     "text": [
      "Number of synthetic images: 500\n"
     ]
    },
    {
     "name": "stderr",
     "output_type": "stream",
     "text": [
      " 12%|█▏        | 12001/100001 [26:02<153:26:15,  6.28s/it]"
     ]
    },
    {
     "name": "stdout",
     "output_type": "stream",
     "text": [
      "Current fid score: 2.258796488262803\n",
      "Fid scores: [4.9325711711390205, 2.4436189539080466, 2.836768048488924, 2.7970490892296382, 3.1710357984691626, 3.3000315606457526, 2.70047286994032, 2.1638209867365674, 2.0204577684506617, 1.3914490073477666, 1.4400591510301268, 1.510807629476865, 2.258796488262803]\n"
     ]
    },
    {
     "name": "stderr",
     "output_type": "stream",
     "text": [
      "  0%|          | 0/175 [00:15<?, ?it/s]37:43,  9.29it/s]  \n",
      "  0%|          | 0/15 [00:06<?, ?it/s]\n",
      " 12%|█▏        | 12101/100001 [26:13<2:42:28,  9.02it/s]"
     ]
    },
    {
     "name": "stdout",
     "output_type": "stream",
     "text": [
      "GAN: loss d: 2.75915    loss g: -2.09005\n"
     ]
    },
    {
     "name": "stderr",
     "output_type": "stream",
     "text": [
      " 12%|█▏        | 12201/100001 [26:24<2:45:54,  8.82it/s]"
     ]
    },
    {
     "name": "stdout",
     "output_type": "stream",
     "text": [
      "GAN: loss d: 2.97497    loss g: -2.25061\n"
     ]
    },
    {
     "name": "stderr",
     "output_type": "stream",
     "text": [
      " 12%|█▏        | 12303/100001 [26:34<2:33:22,  9.53it/s]"
     ]
    },
    {
     "name": "stdout",
     "output_type": "stream",
     "text": [
      "GAN: loss d: 2.06193    loss g: -2.42642\n"
     ]
    },
    {
     "name": "stderr",
     "output_type": "stream",
     "text": [
      " 12%|█▏        | 12401/100001 [26:45<2:40:29,  9.10it/s]"
     ]
    },
    {
     "name": "stdout",
     "output_type": "stream",
     "text": [
      "GAN: loss d: 3.58649    loss g: -1.97237\n"
     ]
    },
    {
     "name": "stderr",
     "output_type": "stream",
     "text": [
      " 13%|█▎        | 12503/100001 [26:56<2:33:38,  9.49it/s]"
     ]
    },
    {
     "name": "stdout",
     "output_type": "stream",
     "text": [
      "GAN: loss d: 1.87993    loss g: -2.94603\n"
     ]
    },
    {
     "name": "stderr",
     "output_type": "stream",
     "text": [
      " 13%|█▎        | 12601/100001 [27:06<2:39:49,  9.11it/s]"
     ]
    },
    {
     "name": "stdout",
     "output_type": "stream",
     "text": [
      "GAN: loss d: 4.28660    loss g: -1.95515\n"
     ]
    },
    {
     "name": "stderr",
     "output_type": "stream",
     "text": [
      " 13%|█▎        | 12701/100001 [27:17<2:41:07,  9.03it/s]"
     ]
    },
    {
     "name": "stdout",
     "output_type": "stream",
     "text": [
      "GAN: loss d: 1.84373    loss g: -2.83915\n"
     ]
    },
    {
     "name": "stderr",
     "output_type": "stream",
     "text": [
      " 13%|█▎        | 12801/100001 [27:28<2:42:10,  8.96it/s]"
     ]
    },
    {
     "name": "stdout",
     "output_type": "stream",
     "text": [
      "GAN: loss d: 0.96676    loss g: -2.41585\n"
     ]
    },
    {
     "name": "stderr",
     "output_type": "stream",
     "text": [
      " 13%|█▎        | 12901/100001 [27:39<2:42:55,  8.91it/s]"
     ]
    },
    {
     "name": "stdout",
     "output_type": "stream",
     "text": [
      "GAN: loss d: 2.89291    loss g: -2.98314\n"
     ]
    },
    {
     "name": "stderr",
     "output_type": "stream",
     "text": [
      " 13%|█▎        | 13000/100001 [27:49<2:35:33,  9.32it/s]"
     ]
    },
    {
     "name": "stdout",
     "output_type": "stream",
     "text": [
      "GAN: loss d: 1.33426    loss g: -2.20462\n",
      "saving current model\n"
     ]
    },
    {
     "name": "stderr",
     "output_type": "stream",
     "text": [
      "\n",
      "  0%|          | 0/175 [00:00<?, ?it/s]\u001b[A"
     ]
    },
    {
     "name": "stdout",
     "output_type": "stream",
     "text": [
      "Number of real images: 5626\n"
     ]
    },
    {
     "name": "stderr",
     "output_type": "stream",
     "text": [
      "\n",
      "\n",
      "  0%|          | 0/15 [00:00<?, ?it/s]\u001b[A\u001b[A"
     ]
    },
    {
     "name": "stdout",
     "output_type": "stream",
     "text": [
      "Number of synthetic images: 500\n"
     ]
    },
    {
     "name": "stderr",
     "output_type": "stream",
     "text": [
      " 13%|█▎        | 13001/100001 [28:10<151:08:55,  6.25s/it]"
     ]
    },
    {
     "name": "stdout",
     "output_type": "stream",
     "text": [
      "Current fid score: 1.7612340626121643\n",
      "Fid scores: [4.9325711711390205, 2.4436189539080466, 2.836768048488924, 2.7970490892296382, 3.1710357984691626, 3.3000315606457526, 2.70047286994032, 2.1638209867365674, 2.0204577684506617, 1.3914490073477666, 1.4400591510301268, 1.510807629476865, 2.258796488262803, 1.7612340626121643]\n"
     ]
    },
    {
     "name": "stderr",
     "output_type": "stream",
     "text": [
      "  0%|          | 0/175 [00:10<?, ?it/s]:15:39,  1.25it/s] \n",
      "  0%|          | 0/15 [00:01<?, ?it/s]\n",
      " 13%|█▎        | 13101/100001 [28:20<2:37:54,  9.17it/s] "
     ]
    },
    {
     "name": "stdout",
     "output_type": "stream",
     "text": [
      "GAN: loss d: 1.48911    loss g: -1.03621\n"
     ]
    },
    {
     "name": "stderr",
     "output_type": "stream",
     "text": [
      " 13%|█▎        | 13201/100001 [28:31<2:40:58,  8.99it/s]"
     ]
    },
    {
     "name": "stdout",
     "output_type": "stream",
     "text": [
      "GAN: loss d: 2.47912    loss g: -2.22206\n"
     ]
    },
    {
     "name": "stderr",
     "output_type": "stream",
     "text": [
      " 13%|█▎        | 13301/100001 [28:42<2:39:50,  9.04it/s]"
     ]
    },
    {
     "name": "stdout",
     "output_type": "stream",
     "text": [
      "GAN: loss d: -0.48315    loss g: -2.48321\n"
     ]
    },
    {
     "name": "stderr",
     "output_type": "stream",
     "text": [
      " 13%|█▎        | 13403/100001 [28:53<2:31:53,  9.50it/s]"
     ]
    },
    {
     "name": "stdout",
     "output_type": "stream",
     "text": [
      "GAN: loss d: 1.60328    loss g: -2.38742\n"
     ]
    },
    {
     "name": "stderr",
     "output_type": "stream",
     "text": [
      " 14%|█▎        | 13501/100001 [29:03<2:41:51,  8.91it/s]"
     ]
    },
    {
     "name": "stdout",
     "output_type": "stream",
     "text": [
      "GAN: loss d: 2.01352    loss g: -2.65691\n"
     ]
    },
    {
     "name": "stderr",
     "output_type": "stream",
     "text": [
      " 14%|█▎        | 13601/100001 [29:14<2:38:25,  9.09it/s]"
     ]
    },
    {
     "name": "stdout",
     "output_type": "stream",
     "text": [
      "GAN: loss d: 1.37709    loss g: -2.55361\n"
     ]
    },
    {
     "name": "stderr",
     "output_type": "stream",
     "text": [
      " 14%|█▎        | 13703/100001 [29:25<2:30:27,  9.56it/s]"
     ]
    },
    {
     "name": "stdout",
     "output_type": "stream",
     "text": [
      "GAN: loss d: 1.64718    loss g: -2.07253\n"
     ]
    },
    {
     "name": "stderr",
     "output_type": "stream",
     "text": [
      " 14%|█▍        | 13801/100001 [29:36<2:53:30,  8.28it/s]"
     ]
    },
    {
     "name": "stdout",
     "output_type": "stream",
     "text": [
      "GAN: loss d: 3.69427    loss g: -2.18382\n"
     ]
    },
    {
     "name": "stderr",
     "output_type": "stream",
     "text": [
      " 14%|█▍        | 13901/100001 [29:46<2:39:45,  8.98it/s]"
     ]
    },
    {
     "name": "stdout",
     "output_type": "stream",
     "text": [
      "GAN: loss d: 0.66396    loss g: -1.13543\n"
     ]
    },
    {
     "name": "stderr",
     "output_type": "stream",
     "text": [
      " 14%|█▍        | 14000/100001 [29:57<2:33:06,  9.36it/s]"
     ]
    },
    {
     "name": "stdout",
     "output_type": "stream",
     "text": [
      "GAN: loss d: 1.93415    loss g: -1.99472\n",
      "saving current model\n"
     ]
    },
    {
     "name": "stderr",
     "output_type": "stream",
     "text": [
      "\n",
      "  0%|          | 0/175 [00:00<?, ?it/s]\u001b[A"
     ]
    },
    {
     "name": "stdout",
     "output_type": "stream",
     "text": [
      "Number of real images: 5626\n"
     ]
    },
    {
     "name": "stderr",
     "output_type": "stream",
     "text": [
      "\n",
      "\n",
      "  0%|          | 0/15 [00:00<?, ?it/s]\u001b[A\u001b[A"
     ]
    },
    {
     "name": "stdout",
     "output_type": "stream",
     "text": [
      "Number of synthetic images: 500\n"
     ]
    },
    {
     "name": "stderr",
     "output_type": "stream",
     "text": [
      " 14%|█▍        | 14001/100001 [30:17<149:40:35,  6.27s/it]"
     ]
    },
    {
     "name": "stdout",
     "output_type": "stream",
     "text": [
      "Current fid score: 1.7264875375261077\n",
      "Fid scores: [4.9325711711390205, 2.4436189539080466, 2.836768048488924, 2.7970490892296382, 3.1710357984691626, 3.3000315606457526, 2.70047286994032, 2.1638209867365674, 2.0204577684506617, 1.3914490073477666, 1.4400591510301268, 1.510807629476865, 2.258796488262803, 1.7612340626121643, 1.7264875375261077]\n"
     ]
    },
    {
     "name": "stderr",
     "output_type": "stream",
     "text": [
      "  0%|          | 0/175 [00:10<?, ?it/s]25:26,  2.84it/s]  \n",
      "  0%|          | 0/15 [00:02<?, ?it/s]\n",
      " 14%|█▍        | 14101/100001 [30:28<2:36:47,  9.13it/s]"
     ]
    },
    {
     "name": "stdout",
     "output_type": "stream",
     "text": [
      "GAN: loss d: 1.63113    loss g: -1.57791\n"
     ]
    },
    {
     "name": "stderr",
     "output_type": "stream",
     "text": [
      " 14%|█▍        | 14201/100001 [30:39<2:35:41,  9.18it/s]"
     ]
    },
    {
     "name": "stdout",
     "output_type": "stream",
     "text": [
      "GAN: loss d: 4.06058    loss g: -2.82425\n"
     ]
    },
    {
     "name": "stderr",
     "output_type": "stream",
     "text": [
      " 14%|█▍        | 14303/100001 [30:50<2:31:24,  9.43it/s]"
     ]
    },
    {
     "name": "stdout",
     "output_type": "stream",
     "text": [
      "GAN: loss d: 1.82213    loss g: -1.14657\n"
     ]
    },
    {
     "name": "stderr",
     "output_type": "stream",
     "text": [
      " 14%|█▍        | 14403/100001 [31:00<2:28:32,  9.60it/s]"
     ]
    },
    {
     "name": "stdout",
     "output_type": "stream",
     "text": [
      "GAN: loss d: 4.80189    loss g: -2.31380\n"
     ]
    },
    {
     "name": "stderr",
     "output_type": "stream",
     "text": [
      " 15%|█▍        | 14501/100001 [31:11<2:37:13,  9.06it/s]"
     ]
    },
    {
     "name": "stdout",
     "output_type": "stream",
     "text": [
      "GAN: loss d: 1.64079    loss g: -2.55308\n"
     ]
    },
    {
     "name": "stderr",
     "output_type": "stream",
     "text": [
      " 15%|█▍        | 14601/100001 [31:22<2:36:37,  9.09it/s]"
     ]
    },
    {
     "name": "stdout",
     "output_type": "stream",
     "text": [
      "GAN: loss d: 2.39767    loss g: -2.36000\n"
     ]
    },
    {
     "name": "stderr",
     "output_type": "stream",
     "text": [
      " 15%|█▍        | 14701/100001 [31:32<2:36:13,  9.10it/s]"
     ]
    },
    {
     "name": "stdout",
     "output_type": "stream",
     "text": [
      "GAN: loss d: 3.07887    loss g: -1.77540\n"
     ]
    },
    {
     "name": "stderr",
     "output_type": "stream",
     "text": [
      " 15%|█▍        | 14803/100001 [31:43<2:31:07,  9.40it/s]"
     ]
    },
    {
     "name": "stdout",
     "output_type": "stream",
     "text": [
      "GAN: loss d: 3.60540    loss g: -2.34908\n"
     ]
    },
    {
     "name": "stderr",
     "output_type": "stream",
     "text": [
      " 15%|█▍        | 14901/100001 [31:54<2:37:44,  8.99it/s]"
     ]
    },
    {
     "name": "stdout",
     "output_type": "stream",
     "text": [
      "GAN: loss d: 0.75509    loss g: -2.88954\n"
     ]
    },
    {
     "name": "stderr",
     "output_type": "stream",
     "text": [
      " 15%|█▍        | 15000/100001 [32:04<2:30:16,  9.43it/s]"
     ]
    },
    {
     "name": "stdout",
     "output_type": "stream",
     "text": [
      "GAN: loss d: 2.99469    loss g: -3.49586\n",
      "saving current model\n"
     ]
    },
    {
     "name": "stderr",
     "output_type": "stream",
     "text": [
      "\n",
      "  0%|          | 0/175 [00:00<?, ?it/s]\u001b[A"
     ]
    },
    {
     "name": "stdout",
     "output_type": "stream",
     "text": [
      "Number of real images: 5626\n"
     ]
    },
    {
     "name": "stderr",
     "output_type": "stream",
     "text": [
      "\n",
      "\n",
      "  0%|          | 0/15 [00:00<?, ?it/s]\u001b[A\u001b[A"
     ]
    },
    {
     "name": "stdout",
     "output_type": "stream",
     "text": [
      "Number of synthetic images: 500\n"
     ]
    },
    {
     "name": "stderr",
     "output_type": "stream",
     "text": [
      "  0%|          | 0/175 [00:09<?, ?it/s]\n",
      "  0%|          | 0/15 [00:00<?, ?it/s]"
     ]
    },
    {
     "name": "stdout",
     "output_type": "stream",
     "text": [
      "Current fid score: 1.2524196801674918\n",
      "Fid scores: [4.9325711711390205, 2.4436189539080466, 2.836768048488924, 2.7970490892296382, 3.1710357984691626, 3.3000315606457526, 2.70047286994032, 2.1638209867365674, 2.0204577684506617, 1.3914490073477666, 1.4400591510301268, 1.510807629476865, 2.258796488262803, 1.7612340626121643, 1.7264875375261077, 1.2524196801674918]\n",
      "New min fid score: 1.252419680167\n",
      "Saving best model\n"
     ]
    },
    {
     "name": "stderr",
     "output_type": "stream",
     "text": [
      "\n",
      " 15%|█▌        | 15103/100001 [32:39<2:28:31,  9.53it/s]  "
     ]
    },
    {
     "name": "stdout",
     "output_type": "stream",
     "text": [
      "GAN: loss d: 3.17434    loss g: -2.80362\n"
     ]
    },
    {
     "name": "stderr",
     "output_type": "stream",
     "text": [
      " 15%|█▌        | 15201/100001 [32:50<2:37:34,  8.97it/s]"
     ]
    },
    {
     "name": "stdout",
     "output_type": "stream",
     "text": [
      "GAN: loss d: 1.33323    loss g: -2.26415\n"
     ]
    },
    {
     "name": "stderr",
     "output_type": "stream",
     "text": [
      " 15%|█▌        | 15303/100001 [33:00<2:27:08,  9.59it/s]"
     ]
    },
    {
     "name": "stdout",
     "output_type": "stream",
     "text": [
      "GAN: loss d: -0.90799    loss g: -2.85064\n"
     ]
    },
    {
     "name": "stderr",
     "output_type": "stream",
     "text": [
      " 15%|█▌        | 15401/100001 [33:11<2:34:01,  9.15it/s]"
     ]
    },
    {
     "name": "stdout",
     "output_type": "stream",
     "text": [
      "GAN: loss d: 3.84969    loss g: -2.24243\n"
     ]
    },
    {
     "name": "stderr",
     "output_type": "stream",
     "text": [
      " 16%|█▌        | 15501/100001 [33:22<2:36:35,  8.99it/s]"
     ]
    },
    {
     "name": "stdout",
     "output_type": "stream",
     "text": [
      "GAN: loss d: 3.32358    loss g: -2.34072\n"
     ]
    },
    {
     "name": "stderr",
     "output_type": "stream",
     "text": [
      " 16%|█▌        | 15603/100001 [33:32<2:28:37,  9.46it/s]"
     ]
    },
    {
     "name": "stdout",
     "output_type": "stream",
     "text": [
      "GAN: loss d: 1.01255    loss g: -2.96985\n"
     ]
    },
    {
     "name": "stderr",
     "output_type": "stream",
     "text": [
      " 16%|█▌        | 15701/100001 [33:43<2:38:32,  8.86it/s]"
     ]
    },
    {
     "name": "stdout",
     "output_type": "stream",
     "text": [
      "GAN: loss d: 3.85079    loss g: -2.69637\n"
     ]
    },
    {
     "name": "stderr",
     "output_type": "stream",
     "text": [
      " 16%|█▌        | 15803/100001 [33:54<2:27:10,  9.54it/s]"
     ]
    },
    {
     "name": "stdout",
     "output_type": "stream",
     "text": [
      "GAN: loss d: 0.14637    loss g: -2.32149\n"
     ]
    },
    {
     "name": "stderr",
     "output_type": "stream",
     "text": [
      " 16%|█▌        | 15903/100001 [34:05<2:27:37,  9.49it/s]"
     ]
    },
    {
     "name": "stdout",
     "output_type": "stream",
     "text": [
      "GAN: loss d: 1.65424    loss g: -2.09328\n"
     ]
    },
    {
     "name": "stderr",
     "output_type": "stream",
     "text": [
      " 16%|█▌        | 16000/100001 [34:15<2:27:26,  9.50it/s]"
     ]
    },
    {
     "name": "stdout",
     "output_type": "stream",
     "text": [
      "GAN: loss d: 2.98154    loss g: -3.21856\n",
      "saving current model\n"
     ]
    },
    {
     "name": "stderr",
     "output_type": "stream",
     "text": [
      "\n",
      "  0%|          | 0/175 [00:00<?, ?it/s]\u001b[A"
     ]
    },
    {
     "name": "stdout",
     "output_type": "stream",
     "text": [
      "Number of real images: 5626\n"
     ]
    },
    {
     "name": "stderr",
     "output_type": "stream",
     "text": [
      "\n",
      "\n",
      "  0%|          | 0/15 [00:00<?, ?it/s]\u001b[A\u001b[A"
     ]
    },
    {
     "name": "stdout",
     "output_type": "stream",
     "text": [
      "Number of synthetic images: 500\n"
     ]
    },
    {
     "name": "stderr",
     "output_type": "stream",
     "text": [
      " 16%|█▌        | 16001/100001 [34:36<145:35:23,  6.24s/it]"
     ]
    },
    {
     "name": "stdout",
     "output_type": "stream",
     "text": [
      "Current fid score: 1.3446567610169673\n",
      "Fid scores: [4.9325711711390205, 2.4436189539080466, 2.836768048488924, 2.7970490892296382, 3.1710357984691626, 3.3000315606457526, 2.70047286994032, 2.1638209867365674, 2.0204577684506617, 1.3914490073477666, 1.4400591510301268, 1.510807629476865, 2.258796488262803, 1.7612340626121643, 1.7264875375261077, 1.2524196801674918, 1.3446567610169673]\n"
     ]
    },
    {
     "name": "stderr",
     "output_type": "stream",
     "text": [
      "  0%|          | 0/175 [00:14<?, ?it/s]30:17,  9.31it/s]  \n",
      "  0%|          | 0/15 [00:06<?, ?it/s]\n",
      " 16%|█▌        | 16101/100001 [34:46<2:37:23,  8.88it/s]"
     ]
    },
    {
     "name": "stdout",
     "output_type": "stream",
     "text": [
      "GAN: loss d: 2.02759    loss g: -2.45612\n"
     ]
    },
    {
     "name": "stderr",
     "output_type": "stream",
     "text": [
      " 16%|█▌        | 16201/100001 [34:57<2:34:52,  9.02it/s]"
     ]
    },
    {
     "name": "stdout",
     "output_type": "stream",
     "text": [
      "GAN: loss d: 2.24860    loss g: -2.90505\n"
     ]
    },
    {
     "name": "stderr",
     "output_type": "stream",
     "text": [
      " 16%|█▋        | 16301/100001 [35:08<2:33:17,  9.10it/s]"
     ]
    },
    {
     "name": "stdout",
     "output_type": "stream",
     "text": [
      "GAN: loss d: 2.66357    loss g: -2.77762\n"
     ]
    },
    {
     "name": "stderr",
     "output_type": "stream",
     "text": [
      " 16%|█▋        | 16401/100001 [35:19<2:38:14,  8.81it/s]"
     ]
    },
    {
     "name": "stdout",
     "output_type": "stream",
     "text": [
      "GAN: loss d: 2.97657    loss g: -2.52207\n"
     ]
    },
    {
     "name": "stderr",
     "output_type": "stream",
     "text": [
      " 17%|█▋        | 16501/100001 [35:30<2:32:12,  9.14it/s]"
     ]
    },
    {
     "name": "stdout",
     "output_type": "stream",
     "text": [
      "GAN: loss d: 2.74406    loss g: -2.78944\n"
     ]
    },
    {
     "name": "stderr",
     "output_type": "stream",
     "text": [
      " 17%|█▋        | 16601/100001 [35:40<2:32:25,  9.12it/s]"
     ]
    },
    {
     "name": "stdout",
     "output_type": "stream",
     "text": [
      "GAN: loss d: 3.51622    loss g: -2.96608\n"
     ]
    },
    {
     "name": "stderr",
     "output_type": "stream",
     "text": [
      " 17%|█▋        | 16701/100001 [35:51<2:34:57,  8.96it/s]"
     ]
    },
    {
     "name": "stdout",
     "output_type": "stream",
     "text": [
      "GAN: loss d: 5.31259    loss g: -2.28375\n"
     ]
    },
    {
     "name": "stderr",
     "output_type": "stream",
     "text": [
      " 17%|█▋        | 16801/100001 [36:02<2:33:51,  9.01it/s]"
     ]
    },
    {
     "name": "stdout",
     "output_type": "stream",
     "text": [
      "GAN: loss d: 2.81697    loss g: -2.77225\n"
     ]
    },
    {
     "name": "stderr",
     "output_type": "stream",
     "text": [
      " 17%|█▋        | 16901/100001 [36:13<2:32:55,  9.06it/s]"
     ]
    },
    {
     "name": "stdout",
     "output_type": "stream",
     "text": [
      "GAN: loss d: 3.22143    loss g: -1.72479\n"
     ]
    },
    {
     "name": "stderr",
     "output_type": "stream",
     "text": [
      " 17%|█▋        | 17000/100001 [36:23<2:30:27,  9.19it/s]"
     ]
    },
    {
     "name": "stdout",
     "output_type": "stream",
     "text": [
      "GAN: loss d: 3.39620    loss g: -1.62548\n",
      "saving current model\n"
     ]
    },
    {
     "name": "stderr",
     "output_type": "stream",
     "text": [
      "\n",
      "  0%|          | 0/175 [00:00<?, ?it/s]\u001b[A"
     ]
    },
    {
     "name": "stdout",
     "output_type": "stream",
     "text": [
      "Number of real images: 5626\n"
     ]
    },
    {
     "name": "stderr",
     "output_type": "stream",
     "text": [
      "\n",
      "\n",
      "  0%|          | 0/15 [00:00<?, ?it/s]\u001b[A\u001b[A"
     ]
    },
    {
     "name": "stdout",
     "output_type": "stream",
     "text": [
      "Number of synthetic images: 500\n"
     ]
    },
    {
     "name": "stderr",
     "output_type": "stream",
     "text": [
      " 17%|█▋        | 17001/100001 [36:44<144:38:43,  6.27s/it]"
     ]
    },
    {
     "name": "stdout",
     "output_type": "stream",
     "text": [
      "Current fid score: 1.6110663800617644\n",
      "Fid scores: [4.9325711711390205, 2.4436189539080466, 2.836768048488924, 2.7970490892296382, 3.1710357984691626, 3.3000315606457526, 2.70047286994032, 2.1638209867365674, 2.0204577684506617, 1.3914490073477666, 1.4400591510301268, 1.510807629476865, 2.258796488262803, 1.7612340626121643, 1.7264875375261077, 1.2524196801674918, 1.3446567610169673, 1.6110663800617644]\n"
     ]
    },
    {
     "name": "stderr",
     "output_type": "stream",
     "text": [
      "  0%|          | 0/175 [00:10<?, ?it/s]:25:15,  2.21it/s] \n",
      "  0%|          | 0/15 [00:01<?, ?it/s]\n",
      " 17%|█▋        | 17103/100001 [36:55<2:24:15,  9.58it/s] "
     ]
    },
    {
     "name": "stdout",
     "output_type": "stream",
     "text": [
      "GAN: loss d: 3.18054    loss g: -1.88128\n"
     ]
    },
    {
     "name": "stderr",
     "output_type": "stream",
     "text": [
      " 17%|█▋        | 17201/100001 [37:05<2:35:30,  8.87it/s]"
     ]
    },
    {
     "name": "stdout",
     "output_type": "stream",
     "text": [
      "GAN: loss d: 1.91070    loss g: -2.16319\n"
     ]
    },
    {
     "name": "stderr",
     "output_type": "stream",
     "text": [
      " 17%|█▋        | 17301/100001 [37:16<2:33:44,  8.97it/s]"
     ]
    },
    {
     "name": "stdout",
     "output_type": "stream",
     "text": [
      "GAN: loss d: 2.91090    loss g: -1.77323\n"
     ]
    },
    {
     "name": "stderr",
     "output_type": "stream",
     "text": [
      " 17%|█▋        | 17401/100001 [37:27<2:30:57,  9.12it/s]"
     ]
    },
    {
     "name": "stdout",
     "output_type": "stream",
     "text": [
      "GAN: loss d: 4.01606    loss g: -2.29494\n"
     ]
    },
    {
     "name": "stderr",
     "output_type": "stream",
     "text": [
      " 18%|█▊        | 17502/100001 [37:38<2:32:09,  9.04it/s]"
     ]
    },
    {
     "name": "stdout",
     "output_type": "stream",
     "text": [
      "GAN: loss d: 2.94724    loss g: -2.42892\n"
     ]
    },
    {
     "name": "stderr",
     "output_type": "stream",
     "text": [
      " 18%|█▊        | 17601/100001 [37:48<2:32:41,  8.99it/s]"
     ]
    },
    {
     "name": "stdout",
     "output_type": "stream",
     "text": [
      "GAN: loss d: 1.35666    loss g: -2.15492\n"
     ]
    },
    {
     "name": "stderr",
     "output_type": "stream",
     "text": [
      " 18%|█▊        | 17701/100001 [37:59<2:32:13,  9.01it/s]"
     ]
    },
    {
     "name": "stdout",
     "output_type": "stream",
     "text": [
      "GAN: loss d: 4.42066    loss g: -2.56324\n"
     ]
    },
    {
     "name": "stderr",
     "output_type": "stream",
     "text": [
      " 18%|█▊        | 17801/100001 [38:10<2:32:05,  9.01it/s]"
     ]
    },
    {
     "name": "stdout",
     "output_type": "stream",
     "text": [
      "GAN: loss d: 3.46976    loss g: -2.97082\n"
     ]
    },
    {
     "name": "stderr",
     "output_type": "stream",
     "text": [
      " 18%|█▊        | 17903/100001 [38:21<2:23:50,  9.51it/s]"
     ]
    },
    {
     "name": "stdout",
     "output_type": "stream",
     "text": [
      "GAN: loss d: 2.50105    loss g: -2.82371\n"
     ]
    },
    {
     "name": "stderr",
     "output_type": "stream",
     "text": [
      " 18%|█▊        | 18000/100001 [38:31<2:30:07,  9.10it/s]"
     ]
    },
    {
     "name": "stdout",
     "output_type": "stream",
     "text": [
      "GAN: loss d: 4.21881    loss g: -0.95487\n",
      "saving current model\n"
     ]
    },
    {
     "name": "stderr",
     "output_type": "stream",
     "text": [
      "\n",
      "  0%|          | 0/175 [00:00<?, ?it/s]\u001b[A"
     ]
    },
    {
     "name": "stdout",
     "output_type": "stream",
     "text": [
      "Number of real images: 5626\n"
     ]
    },
    {
     "name": "stderr",
     "output_type": "stream",
     "text": [
      "\n",
      "\n",
      "  0%|          | 0/15 [00:00<?, ?it/s]\u001b[A\u001b[A"
     ]
    },
    {
     "name": "stdout",
     "output_type": "stream",
     "text": [
      "Number of synthetic images: 500\n"
     ]
    },
    {
     "name": "stderr",
     "output_type": "stream",
     "text": [
      "  0%|          | 0/175 [00:09<?, ?it/s]\n",
      "  0%|          | 0/15 [00:00<?, ?it/s]"
     ]
    },
    {
     "name": "stdout",
     "output_type": "stream",
     "text": [
      "Current fid score: 1.1499442444251073\n",
      "Fid scores: [4.9325711711390205, 2.4436189539080466, 2.836768048488924, 2.7970490892296382, 3.1710357984691626, 3.3000315606457526, 2.70047286994032, 2.1638209867365674, 2.0204577684506617, 1.3914490073477666, 1.4400591510301268, 1.510807629476865, 2.258796488262803, 1.7612340626121643, 1.7264875375261077, 1.2524196801674918, 1.3446567610169673, 1.6110663800617644, 1.1499442444251073]\n",
      "New min fid score: 1.149944244425\n",
      "Saving best model\n"
     ]
    },
    {
     "name": "stderr",
     "output_type": "stream",
     "text": [
      "\n",
      " 18%|█▊        | 18103/100001 [39:06<2:24:28,  9.45it/s]  "
     ]
    },
    {
     "name": "stdout",
     "output_type": "stream",
     "text": [
      "GAN: loss d: 2.83368    loss g: -2.60186\n"
     ]
    },
    {
     "name": "stderr",
     "output_type": "stream",
     "text": [
      " 18%|█▊        | 18203/100001 [39:16<2:24:34,  9.43it/s]"
     ]
    },
    {
     "name": "stdout",
     "output_type": "stream",
     "text": [
      "GAN: loss d: 3.53233    loss g: -2.30678\n"
     ]
    },
    {
     "name": "stderr",
     "output_type": "stream",
     "text": [
      " 18%|█▊        | 18302/100001 [39:27<2:27:54,  9.21it/s]"
     ]
    },
    {
     "name": "stdout",
     "output_type": "stream",
     "text": [
      "GAN: loss d: 0.81803    loss g: -1.22773\n"
     ]
    },
    {
     "name": "stderr",
     "output_type": "stream",
     "text": [
      " 18%|█▊        | 18401/100001 [39:38<2:37:05,  8.66it/s]"
     ]
    },
    {
     "name": "stdout",
     "output_type": "stream",
     "text": [
      "GAN: loss d: 2.21355    loss g: -2.37068\n"
     ]
    },
    {
     "name": "stderr",
     "output_type": "stream",
     "text": [
      " 19%|█▊        | 18501/100001 [39:48<2:31:28,  8.97it/s]"
     ]
    },
    {
     "name": "stdout",
     "output_type": "stream",
     "text": [
      "GAN: loss d: 3.86754    loss g: -3.33721\n"
     ]
    },
    {
     "name": "stderr",
     "output_type": "stream",
     "text": [
      " 19%|█▊        | 18601/100001 [39:59<2:32:11,  8.91it/s]"
     ]
    },
    {
     "name": "stdout",
     "output_type": "stream",
     "text": [
      "GAN: loss d: 2.51702    loss g: -3.24462\n"
     ]
    },
    {
     "name": "stderr",
     "output_type": "stream",
     "text": [
      " 19%|█▊        | 18701/100001 [40:10<2:29:19,  9.07it/s]"
     ]
    },
    {
     "name": "stdout",
     "output_type": "stream",
     "text": [
      "GAN: loss d: 1.49997    loss g: -2.96451\n"
     ]
    },
    {
     "name": "stderr",
     "output_type": "stream",
     "text": [
      " 19%|█▉        | 18801/100001 [40:20<2:27:29,  9.18it/s]"
     ]
    },
    {
     "name": "stdout",
     "output_type": "stream",
     "text": [
      "GAN: loss d: 1.67052    loss g: -2.27764\n"
     ]
    },
    {
     "name": "stderr",
     "output_type": "stream",
     "text": [
      " 19%|█▉        | 18902/100001 [40:31<2:25:46,  9.27it/s]"
     ]
    },
    {
     "name": "stdout",
     "output_type": "stream",
     "text": [
      "GAN: loss d: 3.18293    loss g: -3.09732\n"
     ]
    },
    {
     "name": "stderr",
     "output_type": "stream",
     "text": [
      " 19%|█▉        | 19000/100001 [40:42<2:26:48,  9.20it/s]"
     ]
    },
    {
     "name": "stdout",
     "output_type": "stream",
     "text": [
      "GAN: loss d: 2.71391    loss g: -2.65367\n",
      "saving current model\n"
     ]
    },
    {
     "name": "stderr",
     "output_type": "stream",
     "text": [
      "\n",
      "  0%|          | 0/175 [00:00<?, ?it/s]\u001b[A"
     ]
    },
    {
     "name": "stdout",
     "output_type": "stream",
     "text": [
      "Number of real images: 5626\n"
     ]
    },
    {
     "name": "stderr",
     "output_type": "stream",
     "text": [
      "\n",
      "\n",
      "  0%|          | 0/15 [00:00<?, ?it/s]\u001b[A\u001b[A"
     ]
    },
    {
     "name": "stdout",
     "output_type": "stream",
     "text": [
      "Number of synthetic images: 500\n"
     ]
    },
    {
     "name": "stderr",
     "output_type": "stream",
     "text": [
      " 19%|█▉        | 19001/100001 [41:02<141:09:46,  6.27s/it]"
     ]
    },
    {
     "name": "stdout",
     "output_type": "stream",
     "text": [
      "Current fid score: 1.1722391359154116\n",
      "Fid scores: [4.9325711711390205, 2.4436189539080466, 2.836768048488924, 2.7970490892296382, 3.1710357984691626, 3.3000315606457526, 2.70047286994032, 2.1638209867365674, 2.0204577684506617, 1.3914490073477666, 1.4400591510301268, 1.510807629476865, 2.258796488262803, 1.7612340626121643, 1.7264875375261077, 1.2524196801674918, 1.3446567610169673, 1.6110663800617644, 1.1499442444251073, 1.1722391359154116]\n"
     ]
    },
    {
     "name": "stderr",
     "output_type": "stream",
     "text": [
      "  0%|          | 0/175 [00:15<?, ?it/s]23:57,  9.37it/s]  \n",
      "  0%|          | 0/15 [00:06<?, ?it/s]\n",
      " 19%|█▉        | 19101/100001 [41:13<2:29:15,  9.03it/s]"
     ]
    },
    {
     "name": "stdout",
     "output_type": "stream",
     "text": [
      "GAN: loss d: 2.27665    loss g: -3.06996\n"
     ]
    },
    {
     "name": "stderr",
     "output_type": "stream",
     "text": [
      " 19%|█▉        | 19201/100001 [41:24<2:31:32,  8.89it/s]"
     ]
    },
    {
     "name": "stdout",
     "output_type": "stream",
     "text": [
      "GAN: loss d: 2.33820    loss g: -2.20891\n"
     ]
    },
    {
     "name": "stderr",
     "output_type": "stream",
     "text": [
      " 19%|█▉        | 19303/100001 [41:35<2:22:06,  9.46it/s]"
     ]
    },
    {
     "name": "stdout",
     "output_type": "stream",
     "text": [
      "GAN: loss d: -0.24310    loss g: -1.85666\n"
     ]
    },
    {
     "name": "stderr",
     "output_type": "stream",
     "text": [
      " 19%|█▉        | 19403/100001 [41:45<2:20:04,  9.59it/s]"
     ]
    },
    {
     "name": "stdout",
     "output_type": "stream",
     "text": [
      "GAN: loss d: 3.50738    loss g: -2.89611\n"
     ]
    },
    {
     "name": "stderr",
     "output_type": "stream",
     "text": [
      " 20%|█▉        | 19501/100001 [41:56<2:27:10,  9.12it/s]"
     ]
    },
    {
     "name": "stdout",
     "output_type": "stream",
     "text": [
      "GAN: loss d: 2.17932    loss g: -2.33938\n"
     ]
    },
    {
     "name": "stderr",
     "output_type": "stream",
     "text": [
      " 20%|█▉        | 19601/100001 [42:07<2:27:39,  9.08it/s]"
     ]
    },
    {
     "name": "stdout",
     "output_type": "stream",
     "text": [
      "GAN: loss d: 4.29394    loss g: -3.39360\n"
     ]
    },
    {
     "name": "stderr",
     "output_type": "stream",
     "text": [
      " 20%|█▉        | 19702/100001 [42:17<2:25:41,  9.19it/s]"
     ]
    },
    {
     "name": "stdout",
     "output_type": "stream",
     "text": [
      "GAN: loss d: 1.06404    loss g: -2.02499\n"
     ]
    },
    {
     "name": "stderr",
     "output_type": "stream",
     "text": [
      " 20%|█▉        | 19801/100001 [42:28<2:29:01,  8.97it/s]"
     ]
    },
    {
     "name": "stdout",
     "output_type": "stream",
     "text": [
      "GAN: loss d: 0.96977    loss g: -1.72229\n"
     ]
    },
    {
     "name": "stderr",
     "output_type": "stream",
     "text": [
      " 20%|█▉        | 19903/100001 [42:39<2:21:07,  9.46it/s]"
     ]
    },
    {
     "name": "stdout",
     "output_type": "stream",
     "text": [
      "GAN: loss d: 3.33038    loss g: -2.79746\n"
     ]
    },
    {
     "name": "stderr",
     "output_type": "stream",
     "text": [
      " 20%|█▉        | 20000/100001 [42:49<2:21:46,  9.40it/s]"
     ]
    },
    {
     "name": "stdout",
     "output_type": "stream",
     "text": [
      "GAN: loss d: 3.26062    loss g: -1.64605\n",
      "saving current model\n"
     ]
    },
    {
     "name": "stderr",
     "output_type": "stream",
     "text": [
      "\n",
      "  0%|          | 0/175 [00:00<?, ?it/s]\u001b[A"
     ]
    },
    {
     "name": "stdout",
     "output_type": "stream",
     "text": [
      "Number of real images: 5626\n"
     ]
    },
    {
     "name": "stderr",
     "output_type": "stream",
     "text": [
      "\n",
      "\n",
      "  0%|          | 0/15 [00:00<?, ?it/s]\u001b[A\u001b[A"
     ]
    },
    {
     "name": "stdout",
     "output_type": "stream",
     "text": [
      "Number of synthetic images: 500\n"
     ]
    },
    {
     "name": "stderr",
     "output_type": "stream",
     "text": [
      " 20%|██        | 20003/100001 [43:10<75:24:24,  3.39s/it] "
     ]
    },
    {
     "name": "stdout",
     "output_type": "stream",
     "text": [
      "Current fid score: 1.7200074762966437\n",
      "Fid scores: [4.9325711711390205, 2.4436189539080466, 2.836768048488924, 2.7970490892296382, 3.1710357984691626, 3.3000315606457526, 2.70047286994032, 2.1638209867365674, 2.0204577684506617, 1.3914490073477666, 1.4400591510301268, 1.510807629476865, 2.258796488262803, 1.7612340626121643, 1.7264875375261077, 1.2524196801674918, 1.3446567610169673, 1.6110663800617644, 1.1499442444251073, 1.1722391359154116, 1.7200074762966437]\n"
     ]
    },
    {
     "name": "stderr",
     "output_type": "stream",
     "text": [
      "  0%|          | 0/175 [00:10<?, ?it/s]:31:09,  1.27it/s]\n",
      "  0%|          | 0/15 [00:01<?, ?it/s]\n",
      " 20%|██        | 20101/100001 [43:20<2:27:28,  9.03it/s] "
     ]
    },
    {
     "name": "stdout",
     "output_type": "stream",
     "text": [
      "GAN: loss d: 0.96657    loss g: -2.69117\n"
     ]
    },
    {
     "name": "stderr",
     "output_type": "stream",
     "text": [
      " 20%|██        | 20201/100001 [43:31<2:31:26,  8.78it/s]"
     ]
    },
    {
     "name": "stdout",
     "output_type": "stream",
     "text": [
      "GAN: loss d: 4.26047    loss g: -2.40650\n"
     ]
    },
    {
     "name": "stderr",
     "output_type": "stream",
     "text": [
      " 20%|██        | 20303/100001 [43:42<2:21:14,  9.40it/s]"
     ]
    },
    {
     "name": "stdout",
     "output_type": "stream",
     "text": [
      "GAN: loss d: 2.80168    loss g: -3.56729\n"
     ]
    },
    {
     "name": "stderr",
     "output_type": "stream",
     "text": [
      " 20%|██        | 20403/100001 [43:53<2:19:58,  9.48it/s]"
     ]
    },
    {
     "name": "stdout",
     "output_type": "stream",
     "text": [
      "GAN: loss d: 3.49538    loss g: -3.43370\n"
     ]
    },
    {
     "name": "stderr",
     "output_type": "stream",
     "text": [
      " 21%|██        | 20501/100001 [44:03<2:28:57,  8.90it/s]"
     ]
    },
    {
     "name": "stdout",
     "output_type": "stream",
     "text": [
      "GAN: loss d: 3.12535    loss g: -2.76242\n"
     ]
    },
    {
     "name": "stderr",
     "output_type": "stream",
     "text": [
      " 21%|██        | 20603/100001 [44:14<2:20:32,  9.42it/s]"
     ]
    },
    {
     "name": "stdout",
     "output_type": "stream",
     "text": [
      "GAN: loss d: 2.33269    loss g: -2.69309\n"
     ]
    },
    {
     "name": "stderr",
     "output_type": "stream",
     "text": [
      " 21%|██        | 20701/100001 [44:25<2:26:41,  9.01it/s]"
     ]
    },
    {
     "name": "stdout",
     "output_type": "stream",
     "text": [
      "GAN: loss d: 3.04975    loss g: -2.00516\n"
     ]
    },
    {
     "name": "stderr",
     "output_type": "stream",
     "text": [
      " 21%|██        | 20801/100001 [44:35<2:26:49,  8.99it/s]"
     ]
    },
    {
     "name": "stdout",
     "output_type": "stream",
     "text": [
      "GAN: loss d: 2.26434    loss g: -2.98647\n"
     ]
    },
    {
     "name": "stderr",
     "output_type": "stream",
     "text": [
      " 21%|██        | 20901/100001 [44:46<2:25:48,  9.04it/s]"
     ]
    },
    {
     "name": "stdout",
     "output_type": "stream",
     "text": [
      "GAN: loss d: 2.17130    loss g: -2.50100\n"
     ]
    },
    {
     "name": "stderr",
     "output_type": "stream",
     "text": [
      " 21%|██        | 21000/100001 [44:57<2:18:59,  9.47it/s]"
     ]
    },
    {
     "name": "stdout",
     "output_type": "stream",
     "text": [
      "GAN: loss d: 1.10591    loss g: -2.07091\n",
      "saving current model\n"
     ]
    },
    {
     "name": "stderr",
     "output_type": "stream",
     "text": [
      "\n",
      "  0%|          | 0/175 [00:00<?, ?it/s]\u001b[A"
     ]
    },
    {
     "name": "stdout",
     "output_type": "stream",
     "text": [
      "Number of real images: 5626\n"
     ]
    },
    {
     "name": "stderr",
     "output_type": "stream",
     "text": [
      "\n",
      "\n",
      "  0%|          | 0/15 [00:00<?, ?it/s]\u001b[A\u001b[A"
     ]
    },
    {
     "name": "stdout",
     "output_type": "stream",
     "text": [
      "Number of synthetic images: 500\n"
     ]
    },
    {
     "name": "stderr",
     "output_type": "stream",
     "text": [
      " 21%|██        | 21002/100001 [45:17<96:36:14,  4.40s/it] "
     ]
    },
    {
     "name": "stdout",
     "output_type": "stream",
     "text": [
      "Current fid score: 2.156615950015553\n",
      "Fid scores: [4.9325711711390205, 2.4436189539080466, 2.836768048488924, 2.7970490892296382, 3.1710357984691626, 3.3000315606457526, 2.70047286994032, 2.1638209867365674, 2.0204577684506617, 1.3914490073477666, 1.4400591510301268, 1.510807629476865, 2.258796488262803, 1.7612340626121643, 1.7264875375261077, 1.2524196801674918, 1.3446567610169673, 1.6110663800617644, 1.1499442444251073, 1.1722391359154116, 1.7200074762966437, 2.156615950015553]\n"
     ]
    },
    {
     "name": "stderr",
     "output_type": "stream",
     "text": [
      "  0%|          | 0/175 [00:11<?, ?it/s]11:38,  5.23it/s] \n",
      "  0%|          | 0/15 [00:02<?, ?it/s]\n",
      " 21%|██        | 21101/100001 [45:28<2:25:13,  9.05it/s]"
     ]
    },
    {
     "name": "stdout",
     "output_type": "stream",
     "text": [
      "GAN: loss d: 4.03690    loss g: -2.27299\n"
     ]
    },
    {
     "name": "stderr",
     "output_type": "stream",
     "text": [
      " 21%|██        | 21201/100001 [45:39<2:25:24,  9.03it/s]"
     ]
    },
    {
     "name": "stdout",
     "output_type": "stream",
     "text": [
      "GAN: loss d: 2.07901    loss g: -2.17409\n"
     ]
    },
    {
     "name": "stderr",
     "output_type": "stream",
     "text": [
      " 21%|██▏       | 21301/100001 [45:49<2:23:22,  9.15it/s]"
     ]
    },
    {
     "name": "stdout",
     "output_type": "stream",
     "text": [
      "GAN: loss d: 3.73111    loss g: -1.97079\n"
     ]
    },
    {
     "name": "stderr",
     "output_type": "stream",
     "text": [
      " 21%|██▏       | 21401/100001 [46:00<2:27:19,  8.89it/s]"
     ]
    },
    {
     "name": "stdout",
     "output_type": "stream",
     "text": [
      "GAN: loss d: 2.24591    loss g: -2.28067\n"
     ]
    },
    {
     "name": "stderr",
     "output_type": "stream",
     "text": [
      " 22%|██▏       | 21503/100001 [46:11<2:17:51,  9.49it/s]"
     ]
    },
    {
     "name": "stdout",
     "output_type": "stream",
     "text": [
      "GAN: loss d: 1.44303    loss g: -2.24217\n"
     ]
    },
    {
     "name": "stderr",
     "output_type": "stream",
     "text": [
      " 22%|██▏       | 21601/100001 [46:22<2:25:12,  9.00it/s]"
     ]
    },
    {
     "name": "stdout",
     "output_type": "stream",
     "text": [
      "GAN: loss d: 3.75054    loss g: -2.53800\n"
     ]
    },
    {
     "name": "stderr",
     "output_type": "stream",
     "text": [
      " 22%|██▏       | 21703/100001 [46:32<2:17:57,  9.46it/s]"
     ]
    },
    {
     "name": "stdout",
     "output_type": "stream",
     "text": [
      "GAN: loss d: 1.90348    loss g: -1.92425\n"
     ]
    },
    {
     "name": "stderr",
     "output_type": "stream",
     "text": [
      " 22%|██▏       | 21803/100001 [46:43<2:17:43,  9.46it/s]"
     ]
    },
    {
     "name": "stdout",
     "output_type": "stream",
     "text": [
      "GAN: loss d: 3.90830    loss g: -2.47407\n"
     ]
    },
    {
     "name": "stderr",
     "output_type": "stream",
     "text": [
      " 22%|██▏       | 21901/100001 [46:54<2:23:04,  9.10it/s]"
     ]
    },
    {
     "name": "stdout",
     "output_type": "stream",
     "text": [
      "GAN: loss d: 2.19485    loss g: -2.82885\n"
     ]
    },
    {
     "name": "stderr",
     "output_type": "stream",
     "text": [
      " 22%|██▏       | 22000/100001 [47:04<2:19:19,  9.33it/s]"
     ]
    },
    {
     "name": "stdout",
     "output_type": "stream",
     "text": [
      "GAN: loss d: 4.00239    loss g: -2.06885\n",
      "saving current model\n"
     ]
    },
    {
     "name": "stderr",
     "output_type": "stream",
     "text": [
      "\n",
      "  0%|          | 0/175 [00:00<?, ?it/s]\u001b[A"
     ]
    },
    {
     "name": "stdout",
     "output_type": "stream",
     "text": [
      "Number of real images: 5626\n"
     ]
    },
    {
     "name": "stderr",
     "output_type": "stream",
     "text": [
      "\n",
      "\n",
      "  0%|          | 0/15 [00:00<?, ?it/s]\u001b[A\u001b[A"
     ]
    },
    {
     "name": "stdout",
     "output_type": "stream",
     "text": [
      "Number of synthetic images: 500\n"
     ]
    },
    {
     "name": "stderr",
     "output_type": "stream",
     "text": [
      " 22%|██▏       | 22001/100001 [47:25<134:29:21,  6.21s/it]"
     ]
    },
    {
     "name": "stdout",
     "output_type": "stream",
     "text": [
      "Current fid score: 1.3325966607336674\n",
      "Fid scores: [4.9325711711390205, 2.4436189539080466, 2.836768048488924, 2.7970490892296382, 3.1710357984691626, 3.3000315606457526, 2.70047286994032, 2.1638209867365674, 2.0204577684506617, 1.3914490073477666, 1.4400591510301268, 1.510807629476865, 2.258796488262803, 1.7612340626121643, 1.7264875375261077, 1.2524196801674918, 1.3446567610169673, 1.6110663800617644, 1.1499442444251073, 1.1722391359154116, 1.7200074762966437, 2.156615950015553, 1.3325966607336674]\n"
     ]
    },
    {
     "name": "stderr",
     "output_type": "stream",
     "text": [
      "  0%|          | 0/175 [00:15<?, ?it/s]20:37,  9.24it/s]  \n",
      "  0%|          | 0/15 [00:06<?, ?it/s]\n",
      " 22%|██▏       | 22101/100001 [47:35<2:25:50,  8.90it/s]"
     ]
    },
    {
     "name": "stdout",
     "output_type": "stream",
     "text": [
      "GAN: loss d: 2.93981    loss g: -2.85826\n"
     ]
    },
    {
     "name": "stderr",
     "output_type": "stream",
     "text": [
      " 22%|██▏       | 22201/100001 [47:46<2:24:43,  8.96it/s]"
     ]
    },
    {
     "name": "stdout",
     "output_type": "stream",
     "text": [
      "GAN: loss d: 1.98689    loss g: -2.98288\n"
     ]
    },
    {
     "name": "stderr",
     "output_type": "stream",
     "text": [
      " 22%|██▏       | 22301/100001 [47:57<2:24:14,  8.98it/s]"
     ]
    },
    {
     "name": "stdout",
     "output_type": "stream",
     "text": [
      "GAN: loss d: 2.47507    loss g: -2.87936\n"
     ]
    },
    {
     "name": "stderr",
     "output_type": "stream",
     "text": [
      " 22%|██▏       | 22401/100001 [48:08<2:25:21,  8.90it/s]"
     ]
    },
    {
     "name": "stdout",
     "output_type": "stream",
     "text": [
      "GAN: loss d: 3.63626    loss g: -2.30685\n"
     ]
    },
    {
     "name": "stderr",
     "output_type": "stream",
     "text": [
      " 23%|██▎       | 22503/100001 [48:18<2:16:06,  9.49it/s]"
     ]
    },
    {
     "name": "stdout",
     "output_type": "stream",
     "text": [
      "GAN: loss d: 2.92161    loss g: -3.00054\n"
     ]
    },
    {
     "name": "stderr",
     "output_type": "stream",
     "text": [
      " 23%|██▎       | 22603/100001 [48:29<2:15:23,  9.53it/s]"
     ]
    },
    {
     "name": "stdout",
     "output_type": "stream",
     "text": [
      "GAN: loss d: 2.86727    loss g: -2.89716\n"
     ]
    },
    {
     "name": "stderr",
     "output_type": "stream",
     "text": [
      " 23%|██▎       | 22701/100001 [48:40<2:22:29,  9.04it/s]"
     ]
    },
    {
     "name": "stdout",
     "output_type": "stream",
     "text": [
      "GAN: loss d: 2.37606    loss g: -2.98366\n"
     ]
    },
    {
     "name": "stderr",
     "output_type": "stream",
     "text": [
      " 23%|██▎       | 22801/100001 [48:50<2:20:48,  9.14it/s]"
     ]
    },
    {
     "name": "stdout",
     "output_type": "stream",
     "text": [
      "GAN: loss d: 3.80364    loss g: -2.82690\n"
     ]
    },
    {
     "name": "stderr",
     "output_type": "stream",
     "text": [
      " 23%|██▎       | 22901/100001 [49:01<2:25:21,  8.84it/s]"
     ]
    },
    {
     "name": "stdout",
     "output_type": "stream",
     "text": [
      "GAN: loss d: 0.76334    loss g: -2.77931\n"
     ]
    },
    {
     "name": "stderr",
     "output_type": "stream",
     "text": [
      " 23%|██▎       | 23000/100001 [49:12<2:19:34,  9.19it/s]"
     ]
    },
    {
     "name": "stdout",
     "output_type": "stream",
     "text": [
      "GAN: loss d: 3.46442    loss g: -2.91774\n",
      "saving current model\n"
     ]
    },
    {
     "name": "stderr",
     "output_type": "stream",
     "text": [
      "\n",
      "  0%|          | 0/175 [00:00<?, ?it/s]\u001b[A"
     ]
    },
    {
     "name": "stdout",
     "output_type": "stream",
     "text": [
      "Number of real images: 5626\n"
     ]
    },
    {
     "name": "stderr",
     "output_type": "stream",
     "text": [
      "\n",
      "\n",
      "  0%|          | 0/15 [00:00<?, ?it/s]\u001b[A\u001b[A"
     ]
    },
    {
     "name": "stdout",
     "output_type": "stream",
     "text": [
      "Number of synthetic images: 500\n"
     ]
    },
    {
     "name": "stderr",
     "output_type": "stream",
     "text": [
      "  0%|          | 0/175 [00:09<?, ?it/s]\n",
      "  0%|          | 0/15 [00:00<?, ?it/s]"
     ]
    },
    {
     "name": "stdout",
     "output_type": "stream",
     "text": [
      "Current fid score: 0.8853521448197945\n",
      "Fid scores: [4.9325711711390205, 2.4436189539080466, 2.836768048488924, 2.7970490892296382, 3.1710357984691626, 3.3000315606457526, 2.70047286994032, 2.1638209867365674, 2.0204577684506617, 1.3914490073477666, 1.4400591510301268, 1.510807629476865, 2.258796488262803, 1.7612340626121643, 1.7264875375261077, 1.2524196801674918, 1.3446567610169673, 1.6110663800617644, 1.1499442444251073, 1.1722391359154116, 1.7200074762966437, 2.156615950015553, 1.3325966607336674, 0.8853521448197945]\n",
      "New min fid score: 0.885352144820\n",
      "Saving best model\n"
     ]
    },
    {
     "name": "stderr",
     "output_type": "stream",
     "text": [
      "\n",
      " 23%|██▎       | 23101/100001 [49:46<2:22:12,  9.01it/s]  "
     ]
    },
    {
     "name": "stdout",
     "output_type": "stream",
     "text": [
      "GAN: loss d: 4.67685    loss g: -3.10255\n"
     ]
    },
    {
     "name": "stderr",
     "output_type": "stream",
     "text": [
      " 23%|██▎       | 23201/100001 [49:57<2:21:12,  9.07it/s]"
     ]
    },
    {
     "name": "stdout",
     "output_type": "stream",
     "text": [
      "GAN: loss d: 2.84290    loss g: -2.42059\n"
     ]
    },
    {
     "name": "stderr",
     "output_type": "stream",
     "text": [
      " 23%|██▎       | 23301/100001 [50:08<2:22:27,  8.97it/s]"
     ]
    },
    {
     "name": "stdout",
     "output_type": "stream",
     "text": [
      "GAN: loss d: 3.13258    loss g: -1.89033\n"
     ]
    },
    {
     "name": "stderr",
     "output_type": "stream",
     "text": [
      " 23%|██▎       | 23401/100001 [50:18<2:23:44,  8.88it/s]"
     ]
    },
    {
     "name": "stdout",
     "output_type": "stream",
     "text": [
      "GAN: loss d: 3.24798    loss g: -2.39125\n"
     ]
    },
    {
     "name": "stderr",
     "output_type": "stream",
     "text": [
      " 24%|██▎       | 23503/100001 [50:29<2:13:11,  9.57it/s]"
     ]
    },
    {
     "name": "stdout",
     "output_type": "stream",
     "text": [
      "GAN: loss d: 2.10187    loss g: -1.55092\n"
     ]
    },
    {
     "name": "stderr",
     "output_type": "stream",
     "text": [
      " 24%|██▎       | 23601/100001 [50:40<2:19:27,  9.13it/s]"
     ]
    },
    {
     "name": "stdout",
     "output_type": "stream",
     "text": [
      "GAN: loss d: 3.45703    loss g: -2.06106\n"
     ]
    },
    {
     "name": "stderr",
     "output_type": "stream",
     "text": [
      " 24%|██▎       | 23701/100001 [50:51<2:22:03,  8.95it/s]"
     ]
    },
    {
     "name": "stdout",
     "output_type": "stream",
     "text": [
      "GAN: loss d: 4.49057    loss g: -2.58896\n"
     ]
    },
    {
     "name": "stderr",
     "output_type": "stream",
     "text": [
      " 24%|██▍       | 23802/100001 [51:01<2:17:01,  9.27it/s]"
     ]
    },
    {
     "name": "stdout",
     "output_type": "stream",
     "text": [
      "GAN: loss d: 3.49725    loss g: -3.07009\n"
     ]
    },
    {
     "name": "stderr",
     "output_type": "stream",
     "text": [
      " 24%|██▍       | 23902/100001 [51:12<2:18:09,  9.18it/s]"
     ]
    },
    {
     "name": "stdout",
     "output_type": "stream",
     "text": [
      "GAN: loss d: 4.19964    loss g: -2.04439\n"
     ]
    },
    {
     "name": "stderr",
     "output_type": "stream",
     "text": [
      " 24%|██▍       | 24000/100001 [51:23<2:19:30,  9.08it/s]"
     ]
    },
    {
     "name": "stdout",
     "output_type": "stream",
     "text": [
      "GAN: loss d: 3.56877    loss g: -2.58759\n",
      "saving current model\n"
     ]
    },
    {
     "name": "stderr",
     "output_type": "stream",
     "text": [
      "\n",
      "  0%|          | 0/175 [00:00<?, ?it/s]\u001b[A"
     ]
    },
    {
     "name": "stdout",
     "output_type": "stream",
     "text": [
      "Number of real images: 5626\n"
     ]
    },
    {
     "name": "stderr",
     "output_type": "stream",
     "text": [
      "\n",
      "\n",
      "  0%|          | 0/15 [00:00<?, ?it/s]\u001b[A\u001b[A"
     ]
    },
    {
     "name": "stdout",
     "output_type": "stream",
     "text": [
      "Number of synthetic images: 500\n"
     ]
    },
    {
     "name": "stderr",
     "output_type": "stream",
     "text": [
      " 24%|██▍       | 24001/100001 [51:43<131:35:16,  6.23s/it]"
     ]
    },
    {
     "name": "stdout",
     "output_type": "stream",
     "text": [
      "Current fid score: 1.0566829426710669\n",
      "Fid scores: [4.9325711711390205, 2.4436189539080466, 2.836768048488924, 2.7970490892296382, 3.1710357984691626, 3.3000315606457526, 2.70047286994032, 2.1638209867365674, 2.0204577684506617, 1.3914490073477666, 1.4400591510301268, 1.510807629476865, 2.258796488262803, 1.7612340626121643, 1.7264875375261077, 1.2524196801674918, 1.3446567610169673, 1.6110663800617644, 1.1499442444251073, 1.1722391359154116, 1.7200074762966437, 2.156615950015553, 1.3325966607336674, 0.8853521448197945, 1.0566829426710669]\n"
     ]
    },
    {
     "name": "stderr",
     "output_type": "stream",
     "text": [
      "  0%|          | 0/175 [00:10<?, ?it/s]20:32,  2.87it/s]  \n",
      "  0%|          | 0/15 [00:02<?, ?it/s]\n",
      " 24%|██▍       | 24103/100001 [51:54<2:13:21,  9.49it/s]"
     ]
    },
    {
     "name": "stdout",
     "output_type": "stream",
     "text": [
      "GAN: loss d: 4.04452    loss g: -2.34702\n"
     ]
    },
    {
     "name": "stderr",
     "output_type": "stream",
     "text": [
      " 24%|██▍       | 24201/100001 [52:05<2:21:19,  8.94it/s]"
     ]
    },
    {
     "name": "stdout",
     "output_type": "stream",
     "text": [
      "GAN: loss d: 2.69010    loss g: -2.38525\n"
     ]
    },
    {
     "name": "stderr",
     "output_type": "stream",
     "text": [
      " 24%|██▍       | 24301/100001 [52:15<2:19:40,  9.03it/s]"
     ]
    },
    {
     "name": "stdout",
     "output_type": "stream",
     "text": [
      "GAN: loss d: 2.72038    loss g: -3.03347\n"
     ]
    },
    {
     "name": "stderr",
     "output_type": "stream",
     "text": [
      " 24%|██▍       | 24401/100001 [52:26<2:18:14,  9.11it/s]"
     ]
    },
    {
     "name": "stdout",
     "output_type": "stream",
     "text": [
      "GAN: loss d: 1.37460    loss g: -0.91664\n"
     ]
    },
    {
     "name": "stderr",
     "output_type": "stream",
     "text": [
      " 25%|██▍       | 24501/100001 [52:37<2:20:16,  8.97it/s]"
     ]
    },
    {
     "name": "stdout",
     "output_type": "stream",
     "text": [
      "GAN: loss d: 1.44755    loss g: -2.53740\n"
     ]
    },
    {
     "name": "stderr",
     "output_type": "stream",
     "text": [
      " 25%|██▍       | 24601/100001 [52:47<2:18:21,  9.08it/s]"
     ]
    },
    {
     "name": "stdout",
     "output_type": "stream",
     "text": [
      "GAN: loss d: 3.38304    loss g: -2.46464\n"
     ]
    },
    {
     "name": "stderr",
     "output_type": "stream",
     "text": [
      " 25%|██▍       | 24701/100001 [52:58<2:21:43,  8.86it/s]"
     ]
    },
    {
     "name": "stdout",
     "output_type": "stream",
     "text": [
      "GAN: loss d: 2.06608    loss g: -2.43442\n"
     ]
    },
    {
     "name": "stderr",
     "output_type": "stream",
     "text": [
      " 25%|██▍       | 24803/100001 [53:09<2:11:46,  9.51it/s]"
     ]
    },
    {
     "name": "stdout",
     "output_type": "stream",
     "text": [
      "GAN: loss d: 2.27832    loss g: -2.86022\n"
     ]
    },
    {
     "name": "stderr",
     "output_type": "stream",
     "text": [
      " 25%|██▍       | 24901/100001 [53:20<2:18:56,  9.01it/s]"
     ]
    },
    {
     "name": "stdout",
     "output_type": "stream",
     "text": [
      "GAN: loss d: 3.86912    loss g: -2.40543\n"
     ]
    },
    {
     "name": "stderr",
     "output_type": "stream",
     "text": [
      " 25%|██▍       | 25000/100001 [53:30<2:15:15,  9.24it/s]"
     ]
    },
    {
     "name": "stdout",
     "output_type": "stream",
     "text": [
      "GAN: loss d: 4.00580    loss g: -2.49903\n",
      "saving current model\n"
     ]
    },
    {
     "name": "stderr",
     "output_type": "stream",
     "text": [
      "\n",
      "  0%|          | 0/175 [00:00<?, ?it/s]\u001b[A"
     ]
    },
    {
     "name": "stdout",
     "output_type": "stream",
     "text": [
      "Number of real images: 5626\n"
     ]
    },
    {
     "name": "stderr",
     "output_type": "stream",
     "text": [
      "\n",
      "\n",
      "  0%|          | 0/15 [00:00<?, ?it/s]\u001b[A\u001b[A"
     ]
    },
    {
     "name": "stdout",
     "output_type": "stream",
     "text": [
      "Number of synthetic images: 500\n"
     ]
    },
    {
     "name": "stderr",
     "output_type": "stream",
     "text": [
      " 25%|██▌       | 25002/100001 [53:51<92:10:49,  4.42s/it] "
     ]
    },
    {
     "name": "stdout",
     "output_type": "stream",
     "text": [
      "Current fid score: 1.2350619895546657\n",
      "Fid scores: [4.9325711711390205, 2.4436189539080466, 2.836768048488924, 2.7970490892296382, 3.1710357984691626, 3.3000315606457526, 2.70047286994032, 2.1638209867365674, 2.0204577684506617, 1.3914490073477666, 1.4400591510301268, 1.510807629476865, 2.258796488262803, 1.7612340626121643, 1.7264875375261077, 1.2524196801674918, 1.3446567610169673, 1.6110663800617644, 1.1499442444251073, 1.1722391359154116, 1.7200074762966437, 2.156615950015553, 1.3325966607336674, 0.8853521448197945, 1.0566829426710669, 1.2350619895546657]\n"
     ]
    },
    {
     "name": "stderr",
     "output_type": "stream",
     "text": [
      "  0%|          | 0/175 [00:18<?, ?it/s]10:54,  9.54it/s] \n",
      "  0%|          | 0/15 [00:09<?, ?it/s]\n",
      " 25%|██▌       | 25101/100001 [54:02<2:19:55,  8.92it/s]"
     ]
    },
    {
     "name": "stdout",
     "output_type": "stream",
     "text": [
      "GAN: loss d: 3.71555    loss g: -1.82651\n"
     ]
    },
    {
     "name": "stderr",
     "output_type": "stream",
     "text": [
      " 25%|██▌       | 25201/100001 [54:12<2:17:23,  9.07it/s]"
     ]
    },
    {
     "name": "stdout",
     "output_type": "stream",
     "text": [
      "GAN: loss d: 3.10861    loss g: -3.15021\n"
     ]
    },
    {
     "name": "stderr",
     "output_type": "stream",
     "text": [
      " 25%|██▌       | 25301/100001 [54:23<2:19:38,  8.92it/s]"
     ]
    },
    {
     "name": "stdout",
     "output_type": "stream",
     "text": [
      "GAN: loss d: 2.99079    loss g: -2.43761\n"
     ]
    },
    {
     "name": "stderr",
     "output_type": "stream",
     "text": [
      " 25%|██▌       | 25403/100001 [54:34<2:10:22,  9.54it/s]"
     ]
    },
    {
     "name": "stdout",
     "output_type": "stream",
     "text": [
      "GAN: loss d: 2.99253    loss g: -3.25686\n"
     ]
    },
    {
     "name": "stderr",
     "output_type": "stream",
     "text": [
      " 26%|██▌       | 25503/100001 [54:45<2:09:44,  9.57it/s]"
     ]
    },
    {
     "name": "stdout",
     "output_type": "stream",
     "text": [
      "GAN: loss d: 3.06771    loss g: -2.80932\n"
     ]
    },
    {
     "name": "stderr",
     "output_type": "stream",
     "text": [
      " 26%|██▌       | 25601/100001 [54:55<2:16:32,  9.08it/s]"
     ]
    },
    {
     "name": "stdout",
     "output_type": "stream",
     "text": [
      "GAN: loss d: 1.06218    loss g: -1.75217\n"
     ]
    },
    {
     "name": "stderr",
     "output_type": "stream",
     "text": [
      " 26%|██▌       | 25701/100001 [55:06<2:17:34,  9.00it/s]"
     ]
    },
    {
     "name": "stdout",
     "output_type": "stream",
     "text": [
      "GAN: loss d: 3.84411    loss g: -2.38868\n"
     ]
    },
    {
     "name": "stderr",
     "output_type": "stream",
     "text": [
      " 26%|██▌       | 25801/100001 [55:17<2:17:13,  9.01it/s]"
     ]
    },
    {
     "name": "stdout",
     "output_type": "stream",
     "text": [
      "GAN: loss d: 0.34340    loss g: -2.07566\n"
     ]
    },
    {
     "name": "stderr",
     "output_type": "stream",
     "text": [
      " 26%|██▌       | 25903/100001 [55:28<2:09:57,  9.50it/s]"
     ]
    },
    {
     "name": "stdout",
     "output_type": "stream",
     "text": [
      "GAN: loss d: 2.68543    loss g: -1.81544\n"
     ]
    },
    {
     "name": "stderr",
     "output_type": "stream",
     "text": [
      " 26%|██▌       | 26000/100001 [55:38<2:12:22,  9.32it/s]"
     ]
    },
    {
     "name": "stdout",
     "output_type": "stream",
     "text": [
      "GAN: loss d: 2.16564    loss g: -1.71590\n",
      "saving current model\n"
     ]
    },
    {
     "name": "stderr",
     "output_type": "stream",
     "text": [
      "\n",
      "  0%|          | 0/175 [00:00<?, ?it/s]\u001b[A"
     ]
    },
    {
     "name": "stdout",
     "output_type": "stream",
     "text": [
      "Number of real images: 5626\n"
     ]
    },
    {
     "name": "stderr",
     "output_type": "stream",
     "text": [
      "\n",
      "\n",
      "  0%|          | 0/15 [00:00<?, ?it/s]\u001b[A\u001b[A"
     ]
    },
    {
     "name": "stdout",
     "output_type": "stream",
     "text": [
      "Number of synthetic images: 500\n"
     ]
    },
    {
     "name": "stderr",
     "output_type": "stream",
     "text": [
      " 26%|██▌       | 26003/100001 [55:59<69:45:44,  3.39s/it] "
     ]
    },
    {
     "name": "stdout",
     "output_type": "stream",
     "text": [
      "Current fid score: 1.0571616917674866\n",
      "Fid scores: [4.9325711711390205, 2.4436189539080466, 2.836768048488924, 2.7970490892296382, 3.1710357984691626, 3.3000315606457526, 2.70047286994032, 2.1638209867365674, 2.0204577684506617, 1.3914490073477666, 1.4400591510301268, 1.510807629476865, 2.258796488262803, 1.7612340626121643, 1.7264875375261077, 1.2524196801674918, 1.3446567610169673, 1.6110663800617644, 1.1499442444251073, 1.1722391359154116, 1.7200074762966437, 2.156615950015553, 1.3325966607336674, 0.8853521448197945, 1.0566829426710669, 1.2350619895546657, 1.0571616917674866]\n"
     ]
    },
    {
     "name": "stderr",
     "output_type": "stream",
     "text": [
      "  0%|          | 0/175 [00:14<?, ?it/s]10:09,  9.47it/s] \n",
      "  0%|          | 0/15 [00:06<?, ?it/s]\n",
      " 26%|██▌       | 26103/100001 [56:09<2:08:49,  9.56it/s]"
     ]
    },
    {
     "name": "stdout",
     "output_type": "stream",
     "text": [
      "GAN: loss d: 4.79036    loss g: -1.80083\n"
     ]
    },
    {
     "name": "stderr",
     "output_type": "stream",
     "text": [
      " 26%|██▌       | 26201/100001 [56:20<2:15:56,  9.05it/s]"
     ]
    },
    {
     "name": "stdout",
     "output_type": "stream",
     "text": [
      "GAN: loss d: 2.23159    loss g: -2.02272\n"
     ]
    },
    {
     "name": "stderr",
     "output_type": "stream",
     "text": [
      " 26%|██▋       | 26301/100001 [56:31<2:18:50,  8.85it/s]"
     ]
    },
    {
     "name": "stdout",
     "output_type": "stream",
     "text": [
      "GAN: loss d: 5.39317    loss g: -3.42414\n"
     ]
    },
    {
     "name": "stderr",
     "output_type": "stream",
     "text": [
      " 26%|██▋       | 26401/100001 [56:41<2:17:49,  8.90it/s]"
     ]
    },
    {
     "name": "stdout",
     "output_type": "stream",
     "text": [
      "GAN: loss d: 2.31338    loss g: -2.69326\n"
     ]
    },
    {
     "name": "stderr",
     "output_type": "stream",
     "text": [
      " 27%|██▋       | 26501/100001 [56:52<2:15:41,  9.03it/s]"
     ]
    },
    {
     "name": "stdout",
     "output_type": "stream",
     "text": [
      "GAN: loss d: 1.41695    loss g: -2.27847\n"
     ]
    },
    {
     "name": "stderr",
     "output_type": "stream",
     "text": [
      " 27%|██▋       | 26603/100001 [57:03<2:09:56,  9.41it/s]"
     ]
    },
    {
     "name": "stdout",
     "output_type": "stream",
     "text": [
      "GAN: loss d: 3.43595    loss g: -2.43638\n"
     ]
    },
    {
     "name": "stderr",
     "output_type": "stream",
     "text": [
      " 27%|██▋       | 26701/100001 [57:13<2:15:57,  8.99it/s]"
     ]
    },
    {
     "name": "stdout",
     "output_type": "stream",
     "text": [
      "GAN: loss d: 5.06144    loss g: -3.58102\n"
     ]
    },
    {
     "name": "stderr",
     "output_type": "stream",
     "text": [
      " 27%|██▋       | 26801/100001 [57:24<2:15:16,  9.02it/s]"
     ]
    },
    {
     "name": "stdout",
     "output_type": "stream",
     "text": [
      "GAN: loss d: 4.08997    loss g: -1.90854\n"
     ]
    },
    {
     "name": "stderr",
     "output_type": "stream",
     "text": [
      " 27%|██▋       | 26901/100001 [57:35<2:14:08,  9.08it/s]"
     ]
    },
    {
     "name": "stdout",
     "output_type": "stream",
     "text": [
      "GAN: loss d: 2.58751    loss g: -1.31164\n"
     ]
    },
    {
     "name": "stderr",
     "output_type": "stream",
     "text": [
      " 27%|██▋       | 27000/100001 [57:46<2:12:01,  9.22it/s]"
     ]
    },
    {
     "name": "stdout",
     "output_type": "stream",
     "text": [
      "GAN: loss d: 2.01984    loss g: -2.81269\n",
      "saving current model\n"
     ]
    },
    {
     "name": "stderr",
     "output_type": "stream",
     "text": [
      "\n",
      "  0%|          | 0/175 [00:00<?, ?it/s]\u001b[A"
     ]
    },
    {
     "name": "stdout",
     "output_type": "stream",
     "text": [
      "Number of real images: 5626\n"
     ]
    },
    {
     "name": "stderr",
     "output_type": "stream",
     "text": [
      "\n",
      "\n",
      "  0%|          | 0/15 [00:00<?, ?it/s]\u001b[A\u001b[A"
     ]
    },
    {
     "name": "stdout",
     "output_type": "stream",
     "text": [
      "Number of synthetic images: 500\n"
     ]
    },
    {
     "name": "stderr",
     "output_type": "stream",
     "text": [
      " 27%|██▋       | 27002/100001 [58:06<88:45:50,  4.38s/it] "
     ]
    },
    {
     "name": "stdout",
     "output_type": "stream",
     "text": [
      "Current fid score: 1.370510241710825\n",
      "Fid scores: [4.9325711711390205, 2.4436189539080466, 2.836768048488924, 2.7970490892296382, 3.1710357984691626, 3.3000315606457526, 2.70047286994032, 2.1638209867365674, 2.0204577684506617, 1.3914490073477666, 1.4400591510301268, 1.510807629476865, 2.258796488262803, 1.7612340626121643, 1.7264875375261077, 1.2524196801674918, 1.3446567610169673, 1.6110663800617644, 1.1499442444251073, 1.1722391359154116, 1.7200074762966437, 2.156615950015553, 1.3325966607336674, 0.8853521448197945, 1.0566829426710669, 1.2350619895546657, 1.0571616917674866, 1.370510241710825]\n"
     ]
    },
    {
     "name": "stderr",
     "output_type": "stream",
     "text": [
      "  0%|          | 0/175 [00:10<?, ?it/s]13:07,  2.81it/s] \n",
      "  0%|          | 0/15 [00:01<?, ?it/s]\n",
      " 27%|██▋       | 27101/100001 [58:17<2:17:35,  8.83it/s]"
     ]
    },
    {
     "name": "stdout",
     "output_type": "stream",
     "text": [
      "GAN: loss d: 2.56979    loss g: -2.14122\n"
     ]
    },
    {
     "name": "stderr",
     "output_type": "stream",
     "text": [
      " 27%|██▋       | 27203/100001 [58:28<2:08:49,  9.42it/s]"
     ]
    },
    {
     "name": "stdout",
     "output_type": "stream",
     "text": [
      "GAN: loss d: -0.45959    loss g: -1.68397\n"
     ]
    },
    {
     "name": "stderr",
     "output_type": "stream",
     "text": [
      " 27%|██▋       | 27301/100001 [58:38<2:15:38,  8.93it/s]"
     ]
    },
    {
     "name": "stdout",
     "output_type": "stream",
     "text": [
      "GAN: loss d: 1.56875    loss g: -2.05246\n"
     ]
    },
    {
     "name": "stderr",
     "output_type": "stream",
     "text": [
      " 27%|██▋       | 27401/100001 [58:49<2:13:38,  9.05it/s]"
     ]
    },
    {
     "name": "stdout",
     "output_type": "stream",
     "text": [
      "GAN: loss d: 1.74446    loss g: -2.42673\n"
     ]
    },
    {
     "name": "stderr",
     "output_type": "stream",
     "text": [
      " 28%|██▊       | 27501/100001 [59:00<2:11:26,  9.19it/s]"
     ]
    },
    {
     "name": "stdout",
     "output_type": "stream",
     "text": [
      "GAN: loss d: 2.09652    loss g: -2.71634\n"
     ]
    },
    {
     "name": "stderr",
     "output_type": "stream",
     "text": [
      " 28%|██▊       | 27601/100001 [59:10<2:17:08,  8.80it/s]"
     ]
    },
    {
     "name": "stdout",
     "output_type": "stream",
     "text": [
      "GAN: loss d: 1.11046    loss g: -1.84547\n"
     ]
    },
    {
     "name": "stderr",
     "output_type": "stream",
     "text": [
      " 28%|██▊       | 27701/100001 [59:21<2:13:31,  9.02it/s]"
     ]
    },
    {
     "name": "stdout",
     "output_type": "stream",
     "text": [
      "GAN: loss d: 0.39471    loss g: -2.30790\n"
     ]
    },
    {
     "name": "stderr",
     "output_type": "stream",
     "text": [
      " 28%|██▊       | 27802/100001 [59:32<2:10:01,  9.25it/s]"
     ]
    },
    {
     "name": "stdout",
     "output_type": "stream",
     "text": [
      "GAN: loss d: 2.16662    loss g: -2.91818\n"
     ]
    },
    {
     "name": "stderr",
     "output_type": "stream",
     "text": [
      " 28%|██▊       | 27901/100001 [59:43<2:13:03,  9.03it/s]"
     ]
    },
    {
     "name": "stdout",
     "output_type": "stream",
     "text": [
      "GAN: loss d: 2.37782    loss g: -2.70289\n"
     ]
    },
    {
     "name": "stderr",
     "output_type": "stream",
     "text": [
      " 28%|██▊       | 28000/100001 [59:53<2:06:04,  9.52it/s]"
     ]
    },
    {
     "name": "stdout",
     "output_type": "stream",
     "text": [
      "GAN: loss d: 2.01911    loss g: -3.56561\n",
      "saving current model\n"
     ]
    },
    {
     "name": "stderr",
     "output_type": "stream",
     "text": [
      "\n",
      "  0%|          | 0/175 [00:00<?, ?it/s]\u001b[A"
     ]
    },
    {
     "name": "stdout",
     "output_type": "stream",
     "text": [
      "Number of real images: 5626\n"
     ]
    },
    {
     "name": "stderr",
     "output_type": "stream",
     "text": [
      "\n",
      "\n",
      "  0%|          | 0/15 [00:00<?, ?it/s]\u001b[A\u001b[A"
     ]
    },
    {
     "name": "stdout",
     "output_type": "stream",
     "text": [
      "Number of synthetic images: 500\n"
     ]
    },
    {
     "name": "stderr",
     "output_type": "stream",
     "text": [
      " 28%|██▊       | 28001/100001 [1:00:14<125:00:05,  6.25s/it]"
     ]
    },
    {
     "name": "stdout",
     "output_type": "stream",
     "text": [
      "Current fid score: 1.5065921467893446\n",
      "Fid scores: [4.9325711711390205, 2.4436189539080466, 2.836768048488924, 2.7970490892296382, 3.1710357984691626, 3.3000315606457526, 2.70047286994032, 2.1638209867365674, 2.0204577684506617, 1.3914490073477666, 1.4400591510301268, 1.510807629476865, 2.258796488262803, 1.7612340626121643, 1.7264875375261077, 1.2524196801674918, 1.3446567610169673, 1.6110663800617644, 1.1499442444251073, 1.1722391359154116, 1.7200074762966437, 2.156615950015553, 1.3325966607336674, 0.8853521448197945, 1.0566829426710669, 1.2350619895546657, 1.0571616917674866, 1.370510241710825, 1.5065921467893446]\n"
     ]
    },
    {
     "name": "stderr",
     "output_type": "stream",
     "text": [
      "  0%|          | 0/175 [00:19<?, ?it/s]2:10:19,  9.20it/s]  \n",
      "  0%|          | 0/15 [00:10<?, ?it/s]\n",
      " 28%|██▊       | 28101/100001 [1:00:25<2:15:10,  8.87it/s]"
     ]
    },
    {
     "name": "stdout",
     "output_type": "stream",
     "text": [
      "GAN: loss d: 2.03534    loss g: -2.22489\n"
     ]
    },
    {
     "name": "stderr",
     "output_type": "stream",
     "text": [
      " 28%|██▊       | 28201/100001 [1:00:35<2:14:13,  8.92it/s]"
     ]
    },
    {
     "name": "stdout",
     "output_type": "stream",
     "text": [
      "GAN: loss d: 2.78523    loss g: -2.64110\n"
     ]
    },
    {
     "name": "stderr",
     "output_type": "stream",
     "text": [
      " 28%|██▊       | 28301/100001 [1:00:46<2:14:28,  8.89it/s]"
     ]
    },
    {
     "name": "stdout",
     "output_type": "stream",
     "text": [
      "GAN: loss d: 2.84607    loss g: -2.91777\n"
     ]
    },
    {
     "name": "stderr",
     "output_type": "stream",
     "text": [
      " 28%|██▊       | 28402/100001 [1:00:57<2:11:09,  9.10it/s]"
     ]
    },
    {
     "name": "stdout",
     "output_type": "stream",
     "text": [
      "GAN: loss d: 2.19214    loss g: -2.54113\n"
     ]
    },
    {
     "name": "stderr",
     "output_type": "stream",
     "text": [
      " 29%|██▊       | 28503/100001 [1:01:08<2:06:11,  9.44it/s]"
     ]
    },
    {
     "name": "stdout",
     "output_type": "stream",
     "text": [
      "GAN: loss d: 1.51690    loss g: -1.53791\n"
     ]
    },
    {
     "name": "stderr",
     "output_type": "stream",
     "text": [
      " 29%|██▊       | 28601/100001 [1:01:18<2:10:11,  9.14it/s]"
     ]
    },
    {
     "name": "stdout",
     "output_type": "stream",
     "text": [
      "GAN: loss d: 3.35865    loss g: -3.01581\n"
     ]
    },
    {
     "name": "stderr",
     "output_type": "stream",
     "text": [
      " 29%|██▊       | 28701/100001 [1:01:29<2:12:46,  8.95it/s]"
     ]
    },
    {
     "name": "stdout",
     "output_type": "stream",
     "text": [
      "GAN: loss d: 1.65870    loss g: -1.95885\n"
     ]
    },
    {
     "name": "stderr",
     "output_type": "stream",
     "text": [
      " 29%|██▉       | 28801/100001 [1:01:40<2:12:05,  8.98it/s]"
     ]
    },
    {
     "name": "stdout",
     "output_type": "stream",
     "text": [
      "GAN: loss d: 4.06861    loss g: -2.01041\n"
     ]
    },
    {
     "name": "stderr",
     "output_type": "stream",
     "text": [
      " 29%|██▉       | 28903/100001 [1:01:51<2:03:20,  9.61it/s]"
     ]
    },
    {
     "name": "stdout",
     "output_type": "stream",
     "text": [
      "GAN: loss d: 3.56358    loss g: -2.74996\n"
     ]
    },
    {
     "name": "stderr",
     "output_type": "stream",
     "text": [
      " 29%|██▉       | 29000/100001 [1:02:01<2:07:03,  9.31it/s]"
     ]
    },
    {
     "name": "stdout",
     "output_type": "stream",
     "text": [
      "GAN: loss d: 2.22556    loss g: -2.98357\n",
      "saving current model\n"
     ]
    },
    {
     "name": "stderr",
     "output_type": "stream",
     "text": [
      "\n",
      "  0%|          | 0/175 [00:00<?, ?it/s]\u001b[A"
     ]
    },
    {
     "name": "stdout",
     "output_type": "stream",
     "text": [
      "Number of real images: 5626\n"
     ]
    },
    {
     "name": "stderr",
     "output_type": "stream",
     "text": [
      "\n",
      "\n",
      "  0%|          | 0/15 [00:00<?, ?it/s]\u001b[A\u001b[A"
     ]
    },
    {
     "name": "stdout",
     "output_type": "stream",
     "text": [
      "Number of synthetic images: 500\n"
     ]
    },
    {
     "name": "stderr",
     "output_type": "stream",
     "text": [
      " 29%|██▉       | 29001/100001 [1:02:22<123:13:38,  6.25s/it]"
     ]
    },
    {
     "name": "stdout",
     "output_type": "stream",
     "text": [
      "Current fid score: 1.6719117315531875\n",
      "Fid scores: [4.9325711711390205, 2.4436189539080466, 2.836768048488924, 2.7970490892296382, 3.1710357984691626, 3.3000315606457526, 2.70047286994032, 2.1638209867365674, 2.0204577684506617, 1.3914490073477666, 1.4400591510301268, 1.510807629476865, 2.258796488262803, 1.7612340626121643, 1.7264875375261077, 1.2524196801674918, 1.3446567610169673, 1.6110663800617644, 1.1499442444251073, 1.1722391359154116, 1.7200074762966437, 2.156615950015553, 1.3325966607336674, 0.8853521448197945, 1.0566829426710669, 1.2350619895546657, 1.0571616917674866, 1.370510241710825, 1.5065921467893446, 1.6719117315531875]\n"
     ]
    },
    {
     "name": "stderr",
     "output_type": "stream",
     "text": [
      "  0%|          | 0/175 [00:15<?, ?it/s]2:07:38,  9.26it/s]  \n",
      "  0%|          | 0/15 [00:06<?, ?it/s]\n",
      " 29%|██▉       | 29103/100001 [1:02:32<2:04:47,  9.47it/s]"
     ]
    },
    {
     "name": "stdout",
     "output_type": "stream",
     "text": [
      "GAN: loss d: 3.36696    loss g: -2.90080\n"
     ]
    },
    {
     "name": "stderr",
     "output_type": "stream",
     "text": [
      " 29%|██▉       | 29203/100001 [1:02:43<2:04:59,  9.44it/s]"
     ]
    },
    {
     "name": "stdout",
     "output_type": "stream",
     "text": [
      "GAN: loss d: 2.92635    loss g: -2.42789\n"
     ]
    },
    {
     "name": "stderr",
     "output_type": "stream",
     "text": [
      " 29%|██▉       | 29303/100001 [1:02:54<2:03:56,  9.51it/s]"
     ]
    },
    {
     "name": "stdout",
     "output_type": "stream",
     "text": [
      "GAN: loss d: 4.22301    loss g: -2.65209\n"
     ]
    },
    {
     "name": "stderr",
     "output_type": "stream",
     "text": [
      " 29%|██▉       | 29401/100001 [1:03:04<2:09:40,  9.07it/s]"
     ]
    },
    {
     "name": "stdout",
     "output_type": "stream",
     "text": [
      "GAN: loss d: 3.49018    loss g: -3.57636\n"
     ]
    },
    {
     "name": "stderr",
     "output_type": "stream",
     "text": [
      " 30%|██▉       | 29503/100001 [1:03:15<2:04:22,  9.45it/s]"
     ]
    },
    {
     "name": "stdout",
     "output_type": "stream",
     "text": [
      "GAN: loss d: 3.18270    loss g: -2.87072\n"
     ]
    },
    {
     "name": "stderr",
     "output_type": "stream",
     "text": [
      " 30%|██▉       | 29603/100001 [1:03:26<2:03:52,  9.47it/s]"
     ]
    },
    {
     "name": "stdout",
     "output_type": "stream",
     "text": [
      "GAN: loss d: 2.52105    loss g: -3.44176\n"
     ]
    },
    {
     "name": "stderr",
     "output_type": "stream",
     "text": [
      " 30%|██▉       | 29702/100001 [1:03:37<2:05:53,  9.31it/s]"
     ]
    },
    {
     "name": "stdout",
     "output_type": "stream",
     "text": [
      "GAN: loss d: 1.04323    loss g: -3.50699\n"
     ]
    },
    {
     "name": "stderr",
     "output_type": "stream",
     "text": [
      " 30%|██▉       | 29801/100001 [1:03:47<2:12:11,  8.85it/s]"
     ]
    },
    {
     "name": "stdout",
     "output_type": "stream",
     "text": [
      "GAN: loss d: 4.69372    loss g: -2.15193\n"
     ]
    },
    {
     "name": "stderr",
     "output_type": "stream",
     "text": [
      " 30%|██▉       | 29901/100001 [1:03:58<2:10:20,  8.96it/s]"
     ]
    },
    {
     "name": "stdout",
     "output_type": "stream",
     "text": [
      "GAN: loss d: 0.89186    loss g: -3.36165\n"
     ]
    },
    {
     "name": "stderr",
     "output_type": "stream",
     "text": [
      " 30%|██▉       | 30000/100001 [1:04:09<2:04:04,  9.40it/s]"
     ]
    },
    {
     "name": "stdout",
     "output_type": "stream",
     "text": [
      "GAN: loss d: 1.86435    loss g: -3.96728\n",
      "saving current model\n"
     ]
    },
    {
     "name": "stderr",
     "output_type": "stream",
     "text": [
      "\n",
      "  0%|          | 0/175 [00:00<?, ?it/s]\u001b[A"
     ]
    },
    {
     "name": "stdout",
     "output_type": "stream",
     "text": [
      "Number of real images: 5626\n"
     ]
    },
    {
     "name": "stderr",
     "output_type": "stream",
     "text": [
      "\n",
      "\n",
      "  0%|          | 0/15 [00:00<?, ?it/s]\u001b[A\u001b[A"
     ]
    },
    {
     "name": "stdout",
     "output_type": "stream",
     "text": [
      "Number of synthetic images: 500\n"
     ]
    },
    {
     "name": "stderr",
     "output_type": "stream",
     "text": [
      " 30%|███       | 30001/100001 [1:04:29<120:32:28,  6.20s/it]"
     ]
    },
    {
     "name": "stdout",
     "output_type": "stream",
     "text": [
      "Current fid score: 1.909778493483067\n",
      "Fid scores: [4.9325711711390205, 2.4436189539080466, 2.836768048488924, 2.7970490892296382, 3.1710357984691626, 3.3000315606457526, 2.70047286994032, 2.1638209867365674, 2.0204577684506617, 1.3914490073477666, 1.4400591510301268, 1.510807629476865, 2.258796488262803, 1.7612340626121643, 1.7264875375261077, 1.2524196801674918, 1.3446567610169673, 1.6110663800617644, 1.1499442444251073, 1.1722391359154116, 1.7200074762966437, 2.156615950015553, 1.3325966607336674, 0.8853521448197945, 1.0566829426710669, 1.2350619895546657, 1.0571616917674866, 1.370510241710825, 1.5065921467893446, 1.6719117315531875, 1.909778493483067]\n"
     ]
    },
    {
     "name": "stderr",
     "output_type": "stream",
     "text": [
      "  0%|          | 0/175 [00:10<?, ?it/s]15:18:37,  1.27it/s] \n",
      "  0%|          | 0/15 [00:01<?, ?it/s]\n",
      " 30%|███       | 30101/100001 [1:04:40<2:11:02,  8.89it/s] "
     ]
    },
    {
     "name": "stdout",
     "output_type": "stream",
     "text": [
      "GAN: loss d: 3.15908    loss g: -3.06725\n"
     ]
    },
    {
     "name": "stderr",
     "output_type": "stream",
     "text": [
      " 30%|███       | 30201/100001 [1:04:51<2:11:17,  8.86it/s]"
     ]
    },
    {
     "name": "stdout",
     "output_type": "stream",
     "text": [
      "GAN: loss d: 2.85482    loss g: -2.08806\n"
     ]
    },
    {
     "name": "stderr",
     "output_type": "stream",
     "text": [
      " 30%|███       | 30303/100001 [1:05:02<2:02:20,  9.49it/s]"
     ]
    },
    {
     "name": "stdout",
     "output_type": "stream",
     "text": [
      "GAN: loss d: 1.69854    loss g: -2.12906\n"
     ]
    },
    {
     "name": "stderr",
     "output_type": "stream",
     "text": [
      " 30%|███       | 30401/100001 [1:05:12<2:10:40,  8.88it/s]"
     ]
    },
    {
     "name": "stdout",
     "output_type": "stream",
     "text": [
      "GAN: loss d: 3.02409    loss g: -2.61111\n"
     ]
    },
    {
     "name": "stderr",
     "output_type": "stream",
     "text": [
      " 31%|███       | 30501/100001 [1:05:23<2:07:09,  9.11it/s]"
     ]
    },
    {
     "name": "stdout",
     "output_type": "stream",
     "text": [
      "GAN: loss d: 3.86234    loss g: -2.70407\n"
     ]
    },
    {
     "name": "stderr",
     "output_type": "stream",
     "text": [
      " 31%|███       | 30603/100001 [1:05:34<2:01:49,  9.49it/s]"
     ]
    },
    {
     "name": "stdout",
     "output_type": "stream",
     "text": [
      "GAN: loss d: 2.73129    loss g: -2.55165\n"
     ]
    },
    {
     "name": "stderr",
     "output_type": "stream",
     "text": [
      " 31%|███       | 30703/100001 [1:05:44<2:02:20,  9.44it/s]"
     ]
    },
    {
     "name": "stdout",
     "output_type": "stream",
     "text": [
      "GAN: loss d: 3.39596    loss g: -3.24693\n"
     ]
    },
    {
     "name": "stderr",
     "output_type": "stream",
     "text": [
      " 31%|███       | 30801/100001 [1:05:55<2:07:48,  9.02it/s]"
     ]
    },
    {
     "name": "stdout",
     "output_type": "stream",
     "text": [
      "GAN: loss d: 3.44850    loss g: -1.88301\n"
     ]
    },
    {
     "name": "stderr",
     "output_type": "stream",
     "text": [
      " 31%|███       | 30901/100001 [1:06:06<2:07:34,  9.03it/s]"
     ]
    },
    {
     "name": "stdout",
     "output_type": "stream",
     "text": [
      "GAN: loss d: 3.83379    loss g: -3.29575\n"
     ]
    },
    {
     "name": "stderr",
     "output_type": "stream",
     "text": [
      " 31%|███       | 31000/100001 [1:06:16<2:02:50,  9.36it/s]"
     ]
    },
    {
     "name": "stdout",
     "output_type": "stream",
     "text": [
      "GAN: loss d: 3.27700    loss g: -2.71363\n",
      "saving current model\n"
     ]
    },
    {
     "name": "stderr",
     "output_type": "stream",
     "text": [
      "\n",
      "  0%|          | 0/175 [00:00<?, ?it/s]\u001b[A"
     ]
    },
    {
     "name": "stdout",
     "output_type": "stream",
     "text": [
      "Number of real images: 5626\n"
     ]
    },
    {
     "name": "stderr",
     "output_type": "stream",
     "text": [
      "\n",
      "\n",
      "  0%|          | 0/15 [00:00<?, ?it/s]\u001b[A\u001b[A"
     ]
    },
    {
     "name": "stdout",
     "output_type": "stream",
     "text": [
      "Number of synthetic images: 500\n"
     ]
    },
    {
     "name": "stderr",
     "output_type": "stream",
     "text": [
      " 31%|███       | 31002/100001 [1:06:37<84:45:50,  4.42s/it] "
     ]
    },
    {
     "name": "stdout",
     "output_type": "stream",
     "text": [
      "Current fid score: 1.7204413818191568\n",
      "Fid scores: [4.9325711711390205, 2.4436189539080466, 2.836768048488924, 2.7970490892296382, 3.1710357984691626, 3.3000315606457526, 2.70047286994032, 2.1638209867365674, 2.0204577684506617, 1.3914490073477666, 1.4400591510301268, 1.510807629476865, 2.258796488262803, 1.7612340626121643, 1.7264875375261077, 1.2524196801674918, 1.3446567610169673, 1.6110663800617644, 1.1499442444251073, 1.1722391359154116, 1.7200074762966437, 2.156615950015553, 1.3325966607336674, 0.8853521448197945, 1.0566829426710669, 1.2350619895546657, 1.0571616917674866, 1.370510241710825, 1.5065921467893446, 1.6719117315531875, 1.909778493483067, 1.7204413818191568]\n"
     ]
    },
    {
     "name": "stderr",
     "output_type": "stream",
     "text": [
      "  0%|          | 0/175 [00:11<?, ?it/s]3:43:34,  5.14it/s] \n",
      "  0%|          | 0/15 [00:02<?, ?it/s]\n",
      " 31%|███       | 31103/100001 [1:06:48<2:02:25,  9.38it/s]"
     ]
    },
    {
     "name": "stdout",
     "output_type": "stream",
     "text": [
      "GAN: loss d: 2.90932    loss g: -2.66737\n"
     ]
    },
    {
     "name": "stderr",
     "output_type": "stream",
     "text": [
      " 31%|███       | 31201/100001 [1:06:58<2:07:18,  9.01it/s]"
     ]
    },
    {
     "name": "stdout",
     "output_type": "stream",
     "text": [
      "GAN: loss d: 4.60926    loss g: -3.35823\n"
     ]
    },
    {
     "name": "stderr",
     "output_type": "stream",
     "text": [
      " 31%|███▏      | 31301/100001 [1:07:09<2:08:08,  8.94it/s]"
     ]
    },
    {
     "name": "stdout",
     "output_type": "stream",
     "text": [
      "GAN: loss d: 2.48197    loss g: -3.45981\n"
     ]
    },
    {
     "name": "stderr",
     "output_type": "stream",
     "text": [
      " 31%|███▏      | 31401/100001 [1:07:20<2:06:45,  9.02it/s]"
     ]
    },
    {
     "name": "stdout",
     "output_type": "stream",
     "text": [
      "GAN: loss d: 1.15329    loss g: -3.06990\n"
     ]
    },
    {
     "name": "stderr",
     "output_type": "stream",
     "text": [
      " 32%|███▏      | 31502/100001 [1:07:31<2:03:27,  9.25it/s]"
     ]
    },
    {
     "name": "stdout",
     "output_type": "stream",
     "text": [
      "GAN: loss d: 2.97556    loss g: -2.29039\n"
     ]
    },
    {
     "name": "stderr",
     "output_type": "stream",
     "text": [
      " 32%|███▏      | 31603/100001 [1:07:41<2:00:47,  9.44it/s]"
     ]
    },
    {
     "name": "stdout",
     "output_type": "stream",
     "text": [
      "GAN: loss d: 2.19292    loss g: -3.66729\n"
     ]
    },
    {
     "name": "stderr",
     "output_type": "stream",
     "text": [
      " 32%|███▏      | 31702/100001 [1:07:52<2:03:16,  9.23it/s]"
     ]
    },
    {
     "name": "stdout",
     "output_type": "stream",
     "text": [
      "GAN: loss d: 4.01484    loss g: -2.44637\n"
     ]
    },
    {
     "name": "stderr",
     "output_type": "stream",
     "text": [
      " 32%|███▏      | 31803/100001 [1:08:03<2:00:19,  9.45it/s]"
     ]
    },
    {
     "name": "stdout",
     "output_type": "stream",
     "text": [
      "GAN: loss d: 2.29248    loss g: -2.78381\n"
     ]
    },
    {
     "name": "stderr",
     "output_type": "stream",
     "text": [
      " 32%|███▏      | 31901/100001 [1:08:13<2:05:46,  9.02it/s]"
     ]
    },
    {
     "name": "stdout",
     "output_type": "stream",
     "text": [
      "GAN: loss d: 1.65780    loss g: -3.16307\n"
     ]
    },
    {
     "name": "stderr",
     "output_type": "stream",
     "text": [
      " 32%|███▏      | 32000/100001 [1:08:24<1:59:17,  9.50it/s]"
     ]
    },
    {
     "name": "stdout",
     "output_type": "stream",
     "text": [
      "GAN: loss d: 3.03491    loss g: -1.67981\n",
      "saving current model\n"
     ]
    },
    {
     "name": "stderr",
     "output_type": "stream",
     "text": [
      "\n",
      "  0%|          | 0/175 [00:00<?, ?it/s]\u001b[A"
     ]
    },
    {
     "name": "stdout",
     "output_type": "stream",
     "text": [
      "Number of real images: 5626\n"
     ]
    },
    {
     "name": "stderr",
     "output_type": "stream",
     "text": [
      "\n",
      "\n",
      "  0%|          | 0/15 [00:00<?, ?it/s]\u001b[A\u001b[A"
     ]
    },
    {
     "name": "stdout",
     "output_type": "stream",
     "text": [
      "Number of synthetic images: 500\n"
     ]
    },
    {
     "name": "stderr",
     "output_type": "stream",
     "text": [
      " 32%|███▏      | 32001/100001 [1:08:45<117:58:44,  6.25s/it]"
     ]
    },
    {
     "name": "stdout",
     "output_type": "stream",
     "text": [
      "Current fid score: 1.5624610984128573\n",
      "Fid scores: [4.9325711711390205, 2.4436189539080466, 2.836768048488924, 2.7970490892296382, 3.1710357984691626, 3.3000315606457526, 2.70047286994032, 2.1638209867365674, 2.0204577684506617, 1.3914490073477666, 1.4400591510301268, 1.510807629476865, 2.258796488262803, 1.7612340626121643, 1.7264875375261077, 1.2524196801674918, 1.3446567610169673, 1.6110663800617644, 1.1499442444251073, 1.1722391359154116, 1.7200074762966437, 2.156615950015553, 1.3325966607336674, 0.8853521448197945, 1.0566829426710669, 1.2350619895546657, 1.0571616917674866, 1.370510241710825, 1.5065921467893446, 1.6719117315531875, 1.909778493483067, 1.7204413818191568, 1.5624610984128573]\n"
     ]
    },
    {
     "name": "stderr",
     "output_type": "stream",
     "text": [
      "  0%|          | 0/175 [00:15<?, ?it/s]2:01:31,  9.32it/s]  \n",
      "  0%|          | 0/15 [00:06<?, ?it/s]\n",
      " 32%|███▏      | 32101/100001 [1:08:55<2:04:38,  9.08it/s]"
     ]
    },
    {
     "name": "stdout",
     "output_type": "stream",
     "text": [
      "GAN: loss d: 1.01093    loss g: -2.87606\n"
     ]
    },
    {
     "name": "stderr",
     "output_type": "stream",
     "text": [
      " 32%|███▏      | 32201/100001 [1:09:06<2:07:04,  8.89it/s]"
     ]
    },
    {
     "name": "stdout",
     "output_type": "stream",
     "text": [
      "GAN: loss d: 4.97984    loss g: -3.36776\n"
     ]
    },
    {
     "name": "stderr",
     "output_type": "stream",
     "text": [
      " 32%|███▏      | 32302/100001 [1:09:17<2:06:53,  8.89it/s]"
     ]
    },
    {
     "name": "stdout",
     "output_type": "stream",
     "text": [
      "GAN: loss d: 4.28655    loss g: -3.26236\n"
     ]
    },
    {
     "name": "stderr",
     "output_type": "stream",
     "text": [
      " 32%|███▏      | 32401/100001 [1:09:28<2:16:22,  8.26it/s]"
     ]
    },
    {
     "name": "stdout",
     "output_type": "stream",
     "text": [
      "GAN: loss d: 3.19092    loss g: -3.05249\n"
     ]
    },
    {
     "name": "stderr",
     "output_type": "stream",
     "text": [
      " 33%|███▎      | 32501/100001 [1:09:38<2:05:24,  8.97it/s]"
     ]
    },
    {
     "name": "stdout",
     "output_type": "stream",
     "text": [
      "GAN: loss d: 3.64461    loss g: -3.68965\n"
     ]
    },
    {
     "name": "stderr",
     "output_type": "stream",
     "text": [
      " 33%|███▎      | 32601/100001 [1:09:49<2:02:11,  9.19it/s]"
     ]
    },
    {
     "name": "stdout",
     "output_type": "stream",
     "text": [
      "GAN: loss d: 3.75225    loss g: -3.13228\n"
     ]
    },
    {
     "name": "stderr",
     "output_type": "stream",
     "text": [
      " 33%|███▎      | 32703/100001 [1:10:00<1:57:19,  9.56it/s]"
     ]
    },
    {
     "name": "stdout",
     "output_type": "stream",
     "text": [
      "GAN: loss d: 3.67754    loss g: -2.14583\n"
     ]
    },
    {
     "name": "stderr",
     "output_type": "stream",
     "text": [
      " 33%|███▎      | 32801/100001 [1:10:10<2:02:02,  9.18it/s]"
     ]
    },
    {
     "name": "stdout",
     "output_type": "stream",
     "text": [
      "GAN: loss d: 2.16272    loss g: -2.33269\n"
     ]
    },
    {
     "name": "stderr",
     "output_type": "stream",
     "text": [
      " 33%|███▎      | 32901/100001 [1:10:21<2:04:17,  9.00it/s]"
     ]
    },
    {
     "name": "stdout",
     "output_type": "stream",
     "text": [
      "GAN: loss d: 4.36151    loss g: -3.18825\n"
     ]
    },
    {
     "name": "stderr",
     "output_type": "stream",
     "text": [
      " 33%|███▎      | 33000/100001 [1:10:32<1:59:42,  9.33it/s]"
     ]
    },
    {
     "name": "stdout",
     "output_type": "stream",
     "text": [
      "GAN: loss d: 3.81950    loss g: -2.87582\n",
      "saving current model\n"
     ]
    },
    {
     "name": "stderr",
     "output_type": "stream",
     "text": [
      "\n",
      "  0%|          | 0/175 [00:00<?, ?it/s]\u001b[A"
     ]
    },
    {
     "name": "stdout",
     "output_type": "stream",
     "text": [
      "Number of real images: 5626\n"
     ]
    },
    {
     "name": "stderr",
     "output_type": "stream",
     "text": [
      "\n",
      "\n",
      "  0%|          | 0/15 [00:00<?, ?it/s]\u001b[A\u001b[A"
     ]
    },
    {
     "name": "stdout",
     "output_type": "stream",
     "text": [
      "Number of synthetic images: 500\n"
     ]
    },
    {
     "name": "stderr",
     "output_type": "stream",
     "text": [
      " 33%|███▎      | 33001/100001 [1:10:52<116:07:32,  6.24s/it]"
     ]
    },
    {
     "name": "stdout",
     "output_type": "stream",
     "text": [
      "Current fid score: 1.0753806585584016\n",
      "Fid scores: [4.9325711711390205, 2.4436189539080466, 2.836768048488924, 2.7970490892296382, 3.1710357984691626, 3.3000315606457526, 2.70047286994032, 2.1638209867365674, 2.0204577684506617, 1.3914490073477666, 1.4400591510301268, 1.510807629476865, 2.258796488262803, 1.7612340626121643, 1.7264875375261077, 1.2524196801674918, 1.3446567610169673, 1.6110663800617644, 1.1499442444251073, 1.1722391359154116, 1.7200074762966437, 2.156615950015553, 1.3325966607336674, 0.8853521448197945, 1.0566829426710669, 1.2350619895546657, 1.0571616917674866, 1.370510241710825, 1.5065921467893446, 1.6719117315531875, 1.909778493483067, 1.7204413818191568, 1.5624610984128573, 1.0753806585584016]\n"
     ]
    },
    {
     "name": "stderr",
     "output_type": "stream",
     "text": [
      "  0%|          | 0/175 [00:14<?, ?it/s]2:02:42,  9.09it/s]  \n",
      "  0%|          | 0/15 [00:05<?, ?it/s]\n",
      " 33%|███▎      | 33103/100001 [1:11:03<1:58:09,  9.44it/s]"
     ]
    },
    {
     "name": "stdout",
     "output_type": "stream",
     "text": [
      "GAN: loss d: 2.51885    loss g: -2.68619\n"
     ]
    },
    {
     "name": "stderr",
     "output_type": "stream",
     "text": [
      " 33%|███▎      | 33203/100001 [1:11:14<1:56:52,  9.52it/s]"
     ]
    },
    {
     "name": "stdout",
     "output_type": "stream",
     "text": [
      "GAN: loss d: 1.06769    loss g: -3.58262\n"
     ]
    },
    {
     "name": "stderr",
     "output_type": "stream",
     "text": [
      " 33%|███▎      | 33301/100001 [1:11:24<2:04:08,  8.96it/s]"
     ]
    },
    {
     "name": "stdout",
     "output_type": "stream",
     "text": [
      "GAN: loss d: 1.56829    loss g: -2.41783\n"
     ]
    },
    {
     "name": "stderr",
     "output_type": "stream",
     "text": [
      " 33%|███▎      | 33401/100001 [1:11:35<2:02:55,  9.03it/s]"
     ]
    },
    {
     "name": "stdout",
     "output_type": "stream",
     "text": [
      "GAN: loss d: 1.46627    loss g: -3.46695\n"
     ]
    },
    {
     "name": "stderr",
     "output_type": "stream",
     "text": [
      " 34%|███▎      | 33503/100001 [1:11:46<1:57:19,  9.45it/s]"
     ]
    },
    {
     "name": "stdout",
     "output_type": "stream",
     "text": [
      "GAN: loss d: 3.65168    loss g: -1.92056\n"
     ]
    },
    {
     "name": "stderr",
     "output_type": "stream",
     "text": [
      " 34%|███▎      | 33603/100001 [1:11:57<1:56:35,  9.49it/s]"
     ]
    },
    {
     "name": "stdout",
     "output_type": "stream",
     "text": [
      "GAN: loss d: 2.96359    loss g: -2.34677\n"
     ]
    },
    {
     "name": "stderr",
     "output_type": "stream",
     "text": [
      " 34%|███▎      | 33701/100001 [1:12:07<2:04:10,  8.90it/s]"
     ]
    },
    {
     "name": "stdout",
     "output_type": "stream",
     "text": [
      "GAN: loss d: 1.79662    loss g: -1.61473\n"
     ]
    },
    {
     "name": "stderr",
     "output_type": "stream",
     "text": [
      " 34%|███▍      | 33801/100001 [1:12:18<2:01:58,  9.05it/s]"
     ]
    },
    {
     "name": "stdout",
     "output_type": "stream",
     "text": [
      "GAN: loss d: 3.64813    loss g: -3.01349\n"
     ]
    },
    {
     "name": "stderr",
     "output_type": "stream",
     "text": [
      " 34%|███▍      | 33901/100001 [1:12:29<2:01:12,  9.09it/s]"
     ]
    },
    {
     "name": "stdout",
     "output_type": "stream",
     "text": [
      "GAN: loss d: 1.12162    loss g: -2.55429\n"
     ]
    },
    {
     "name": "stderr",
     "output_type": "stream",
     "text": [
      " 34%|███▍      | 34000/100001 [1:12:39<1:57:02,  9.40it/s]"
     ]
    },
    {
     "name": "stdout",
     "output_type": "stream",
     "text": [
      "GAN: loss d: 2.10942    loss g: -2.21164\n",
      "saving current model\n"
     ]
    },
    {
     "name": "stderr",
     "output_type": "stream",
     "text": [
      "\n",
      "  0%|          | 0/175 [00:00<?, ?it/s]\u001b[A"
     ]
    },
    {
     "name": "stdout",
     "output_type": "stream",
     "text": [
      "Number of real images: 5626\n"
     ]
    },
    {
     "name": "stderr",
     "output_type": "stream",
     "text": [
      "\n",
      "\n",
      "  0%|          | 0/15 [00:00<?, ?it/s]\u001b[A\u001b[A"
     ]
    },
    {
     "name": "stdout",
     "output_type": "stream",
     "text": [
      "Number of synthetic images: 500\n"
     ]
    },
    {
     "name": "stderr",
     "output_type": "stream",
     "text": [
      "  0%|          | 0/175 [00:08<?, ?it/s]\n",
      "  0%|          | 0/175 [00:09<?, ?it/s]114:11:21,  6.23s/it]\n",
      "  0%|          | 0/15 [00:00<?, ?it/s]\n",
      " 34%|███▍      | 34002/100001 [1:13:00<80:29:23,  4.39s/it] "
     ]
    },
    {
     "name": "stdout",
     "output_type": "stream",
     "text": [
      "Current fid score: 1.3278843704483485\n",
      "Fid scores: [4.9325711711390205, 2.4436189539080466, 2.836768048488924, 2.7970490892296382, 3.1710357984691626, 3.3000315606457526, 2.70047286994032, 2.1638209867365674, 2.0204577684506617, 1.3914490073477666, 1.4400591510301268, 1.510807629476865, 2.258796488262803, 1.7612340626121643, 1.7264875375261077, 1.2524196801674918, 1.3446567610169673, 1.6110663800617644, 1.1499442444251073, 1.1722391359154116, 1.7200074762966437, 2.156615950015553, 1.3325966607336674, 0.8853521448197945, 1.0566829426710669, 1.2350619895546657, 1.0571616917674866, 1.370510241710825, 1.5065921467893446, 1.6719117315531875, 1.909778493483067, 1.7204413818191568, 1.5624610984128573, 1.0753806585584016, 1.3278843704483485]\n"
     ]
    },
    {
     "name": "stderr",
     "output_type": "stream",
     "text": [
      " 34%|███▍      | 34101/100001 [1:13:10<1:59:49,  9.17it/s] "
     ]
    },
    {
     "name": "stdout",
     "output_type": "stream",
     "text": [
      "GAN: loss d: 3.13994    loss g: -2.43833\n"
     ]
    },
    {
     "name": "stderr",
     "output_type": "stream",
     "text": [
      " 34%|███▍      | 34201/100001 [1:13:21<2:01:39,  9.01it/s]"
     ]
    },
    {
     "name": "stdout",
     "output_type": "stream",
     "text": [
      "GAN: loss d: 3.15827    loss g: -2.87127\n"
     ]
    },
    {
     "name": "stderr",
     "output_type": "stream",
     "text": [
      " 34%|███▍      | 34302/100001 [1:13:32<2:02:04,  8.97it/s]"
     ]
    },
    {
     "name": "stdout",
     "output_type": "stream",
     "text": [
      "GAN: loss d: 1.60719    loss g: -1.93138\n"
     ]
    },
    {
     "name": "stderr",
     "output_type": "stream",
     "text": [
      " 34%|███▍      | 34401/100001 [1:13:43<2:19:04,  7.86it/s]"
     ]
    },
    {
     "name": "stdout",
     "output_type": "stream",
     "text": [
      "GAN: loss d: 4.53041    loss g: -2.19966\n"
     ]
    },
    {
     "name": "stderr",
     "output_type": "stream",
     "text": [
      " 35%|███▍      | 34501/100001 [1:13:53<2:01:39,  8.97it/s]"
     ]
    },
    {
     "name": "stdout",
     "output_type": "stream",
     "text": [
      "GAN: loss d: 4.76335    loss g: -2.71171\n"
     ]
    },
    {
     "name": "stderr",
     "output_type": "stream",
     "text": [
      " 35%|███▍      | 34603/100001 [1:14:04<1:55:04,  9.47it/s]"
     ]
    },
    {
     "name": "stdout",
     "output_type": "stream",
     "text": [
      "GAN: loss d: 1.58945    loss g: -3.50345\n"
     ]
    },
    {
     "name": "stderr",
     "output_type": "stream",
     "text": [
      " 35%|███▍      | 34703/100001 [1:14:15<1:54:43,  9.49it/s]"
     ]
    },
    {
     "name": "stdout",
     "output_type": "stream",
     "text": [
      "GAN: loss d: 1.74078    loss g: -2.11325\n"
     ]
    },
    {
     "name": "stderr",
     "output_type": "stream",
     "text": [
      " 35%|███▍      | 34803/100001 [1:14:26<1:54:38,  9.48it/s]"
     ]
    },
    {
     "name": "stdout",
     "output_type": "stream",
     "text": [
      "GAN: loss d: 4.07960    loss g: -3.25935\n"
     ]
    },
    {
     "name": "stderr",
     "output_type": "stream",
     "text": [
      " 35%|███▍      | 34901/100001 [1:14:36<2:01:19,  8.94it/s]"
     ]
    },
    {
     "name": "stdout",
     "output_type": "stream",
     "text": [
      "GAN: loss d: 0.70610    loss g: -3.39776\n"
     ]
    },
    {
     "name": "stderr",
     "output_type": "stream",
     "text": [
      " 35%|███▍      | 35000/100001 [1:14:47<1:56:23,  9.31it/s]"
     ]
    },
    {
     "name": "stdout",
     "output_type": "stream",
     "text": [
      "GAN: loss d: 1.60351    loss g: -2.37382\n",
      "saving current model\n"
     ]
    },
    {
     "name": "stderr",
     "output_type": "stream",
     "text": [
      "\n",
      "  0%|          | 0/175 [00:00<?, ?it/s]\u001b[A"
     ]
    },
    {
     "name": "stdout",
     "output_type": "stream",
     "text": [
      "Number of real images: 5626\n"
     ]
    },
    {
     "name": "stderr",
     "output_type": "stream",
     "text": [
      "\n",
      "\n",
      "  0%|          | 0/15 [00:00<?, ?it/s]\u001b[A\u001b[A"
     ]
    },
    {
     "name": "stdout",
     "output_type": "stream",
     "text": [
      "Number of synthetic images: 500\n"
     ]
    },
    {
     "name": "stderr",
     "output_type": "stream",
     "text": [
      " 35%|███▌      | 35001/100001 [1:15:07<112:30:07,  6.23s/it]"
     ]
    },
    {
     "name": "stdout",
     "output_type": "stream",
     "text": [
      "Current fid score: 1.3533378755873358\n",
      "Fid scores: [4.9325711711390205, 2.4436189539080466, 2.836768048488924, 2.7970490892296382, 3.1710357984691626, 3.3000315606457526, 2.70047286994032, 2.1638209867365674, 2.0204577684506617, 1.3914490073477666, 1.4400591510301268, 1.510807629476865, 2.258796488262803, 1.7612340626121643, 1.7264875375261077, 1.2524196801674918, 1.3446567610169673, 1.6110663800617644, 1.1499442444251073, 1.1722391359154116, 1.7200074762966437, 2.156615950015553, 1.3325966607336674, 0.8853521448197945, 1.0566829426710669, 1.2350619895546657, 1.0571616917674866, 1.370510241710825, 1.5065921467893446, 1.6719117315531875, 1.909778493483067, 1.7204413818191568, 1.5624610984128573, 1.0753806585584016, 1.3278843704483485, 1.3533378755873358]\n"
     ]
    },
    {
     "name": "stderr",
     "output_type": "stream",
     "text": [
      "  0%|          | 0/175 [00:18<?, ?it/s]1:53:58,  9.49it/s]  \n",
      "  0%|          | 0/15 [00:09<?, ?it/s]\n",
      " 35%|███▌      | 35101/100001 [1:15:18<1:59:02,  9.09it/s]"
     ]
    },
    {
     "name": "stdout",
     "output_type": "stream",
     "text": [
      "GAN: loss d: 2.23573    loss g: -2.43461\n"
     ]
    },
    {
     "name": "stderr",
     "output_type": "stream",
     "text": [
      " 35%|███▌      | 35201/100001 [1:15:29<1:58:15,  9.13it/s]"
     ]
    },
    {
     "name": "stdout",
     "output_type": "stream",
     "text": [
      "GAN: loss d: 4.28901    loss g: -3.76075\n"
     ]
    },
    {
     "name": "stderr",
     "output_type": "stream",
     "text": [
      " 35%|███▌      | 35301/100001 [1:15:39<1:58:57,  9.06it/s]"
     ]
    },
    {
     "name": "stdout",
     "output_type": "stream",
     "text": [
      "GAN: loss d: 3.92883    loss g: -2.09996\n"
     ]
    },
    {
     "name": "stderr",
     "output_type": "stream",
     "text": [
      " 35%|███▌      | 35403/100001 [1:15:50<1:53:02,  9.52it/s]"
     ]
    },
    {
     "name": "stdout",
     "output_type": "stream",
     "text": [
      "GAN: loss d: 4.70620    loss g: -3.25044\n"
     ]
    },
    {
     "name": "stderr",
     "output_type": "stream",
     "text": [
      " 36%|███▌      | 35501/100001 [1:16:01<1:58:22,  9.08it/s]"
     ]
    },
    {
     "name": "stdout",
     "output_type": "stream",
     "text": [
      "GAN: loss d: 2.55612    loss g: -1.21348\n"
     ]
    },
    {
     "name": "stderr",
     "output_type": "stream",
     "text": [
      " 36%|███▌      | 35601/100001 [1:16:11<1:57:56,  9.10it/s]"
     ]
    },
    {
     "name": "stdout",
     "output_type": "stream",
     "text": [
      "GAN: loss d: 3.58526    loss g: -2.20988\n"
     ]
    },
    {
     "name": "stderr",
     "output_type": "stream",
     "text": [
      " 36%|███▌      | 35701/100001 [1:16:22<1:59:58,  8.93it/s]"
     ]
    },
    {
     "name": "stdout",
     "output_type": "stream",
     "text": [
      "GAN: loss d: 5.37008    loss g: -2.49867\n"
     ]
    },
    {
     "name": "stderr",
     "output_type": "stream",
     "text": [
      " 36%|███▌      | 35803/100001 [1:16:33<1:52:24,  9.52it/s]"
     ]
    },
    {
     "name": "stdout",
     "output_type": "stream",
     "text": [
      "GAN: loss d: 4.37214    loss g: -3.34074\n"
     ]
    },
    {
     "name": "stderr",
     "output_type": "stream",
     "text": [
      " 36%|███▌      | 35901/100001 [1:16:44<1:59:57,  8.91it/s]"
     ]
    },
    {
     "name": "stdout",
     "output_type": "stream",
     "text": [
      "GAN: loss d: 5.41305    loss g: -3.28659\n"
     ]
    },
    {
     "name": "stderr",
     "output_type": "stream",
     "text": [
      " 36%|███▌      | 36000/100001 [1:16:54<1:51:11,  9.59it/s]"
     ]
    },
    {
     "name": "stdout",
     "output_type": "stream",
     "text": [
      "GAN: loss d: 2.54995    loss g: -3.09640\n",
      "saving current model\n"
     ]
    },
    {
     "name": "stderr",
     "output_type": "stream",
     "text": [
      "\n",
      "  0%|          | 0/175 [00:00<?, ?it/s]\u001b[A"
     ]
    },
    {
     "name": "stdout",
     "output_type": "stream",
     "text": [
      "Number of real images: 5626\n"
     ]
    },
    {
     "name": "stderr",
     "output_type": "stream",
     "text": [
      "\n",
      "\n",
      "  0%|          | 0/15 [00:00<?, ?it/s]\u001b[A\u001b[A"
     ]
    },
    {
     "name": "stdout",
     "output_type": "stream",
     "text": [
      "Number of synthetic images: 500\n"
     ]
    },
    {
     "name": "stderr",
     "output_type": "stream",
     "text": [
      " 36%|███▌      | 36001/100001 [1:17:15<111:35:48,  6.28s/it]"
     ]
    },
    {
     "name": "stdout",
     "output_type": "stream",
     "text": [
      "Current fid score: 1.8988524337341843\n",
      "Fid scores: [4.9325711711390205, 2.4436189539080466, 2.836768048488924, 2.7970490892296382, 3.1710357984691626, 3.3000315606457526, 2.70047286994032, 2.1638209867365674, 2.0204577684506617, 1.3914490073477666, 1.4400591510301268, 1.510807629476865, 2.258796488262803, 1.7612340626121643, 1.7264875375261077, 1.2524196801674918, 1.3446567610169673, 1.6110663800617644, 1.1499442444251073, 1.1722391359154116, 1.7200074762966437, 2.156615950015553, 1.3325966607336674, 0.8853521448197945, 1.0566829426710669, 1.2350619895546657, 1.0571616917674866, 1.370510241710825, 1.5065921467893446, 1.6719117315531875, 1.909778493483067, 1.7204413818191568, 1.5624610984128573, 1.0753806585584016, 1.3278843704483485, 1.3533378755873358, 1.8988524337341843]\n"
     ]
    },
    {
     "name": "stderr",
     "output_type": "stream",
     "text": [
      "  0%|          | 0/175 [00:14<?, ?it/s]1:55:11,  9.25it/s]  \n",
      "  0%|          | 0/15 [00:06<?, ?it/s]\n",
      " 36%|███▌      | 36101/100001 [1:17:26<1:58:40,  8.97it/s]"
     ]
    },
    {
     "name": "stdout",
     "output_type": "stream",
     "text": [
      "GAN: loss d: 4.66335    loss g: -3.65305\n"
     ]
    },
    {
     "name": "stderr",
     "output_type": "stream",
     "text": [
      " 36%|███▌      | 36201/100001 [1:17:36<2:00:18,  8.84it/s]"
     ]
    },
    {
     "name": "stdout",
     "output_type": "stream",
     "text": [
      "GAN: loss d: 2.91885    loss g: -3.06692\n"
     ]
    },
    {
     "name": "stderr",
     "output_type": "stream",
     "text": [
      " 36%|███▋      | 36301/100001 [1:17:47<2:00:13,  8.83it/s]"
     ]
    },
    {
     "name": "stdout",
     "output_type": "stream",
     "text": [
      "GAN: loss d: 4.73206    loss g: -3.10434\n"
     ]
    },
    {
     "name": "stderr",
     "output_type": "stream",
     "text": [
      " 36%|███▋      | 36403/100001 [1:17:58<1:50:47,  9.57it/s]"
     ]
    },
    {
     "name": "stdout",
     "output_type": "stream",
     "text": [
      "GAN: loss d: 4.35494    loss g: -2.59766\n"
     ]
    },
    {
     "name": "stderr",
     "output_type": "stream",
     "text": [
      " 37%|███▋      | 36501/100001 [1:18:09<1:56:27,  9.09it/s]"
     ]
    },
    {
     "name": "stdout",
     "output_type": "stream",
     "text": [
      "GAN: loss d: 3.51153    loss g: -2.61752\n"
     ]
    },
    {
     "name": "stderr",
     "output_type": "stream",
     "text": [
      " 37%|███▋      | 36601/100001 [1:18:19<1:58:12,  8.94it/s]"
     ]
    },
    {
     "name": "stdout",
     "output_type": "stream",
     "text": [
      "GAN: loss d: 3.73058    loss g: -3.13989\n"
     ]
    },
    {
     "name": "stderr",
     "output_type": "stream",
     "text": [
      " 37%|███▋      | 36701/100001 [1:18:30<1:58:48,  8.88it/s]"
     ]
    },
    {
     "name": "stdout",
     "output_type": "stream",
     "text": [
      "GAN: loss d: 3.92938    loss g: -2.64385\n"
     ]
    },
    {
     "name": "stderr",
     "output_type": "stream",
     "text": [
      " 37%|███▋      | 36801/100001 [1:18:41<1:56:30,  9.04it/s]"
     ]
    },
    {
     "name": "stdout",
     "output_type": "stream",
     "text": [
      "GAN: loss d: 1.26901    loss g: -1.93343\n"
     ]
    },
    {
     "name": "stderr",
     "output_type": "stream",
     "text": [
      " 37%|███▋      | 36903/100001 [1:18:52<1:51:21,  9.44it/s]"
     ]
    },
    {
     "name": "stdout",
     "output_type": "stream",
     "text": [
      "GAN: loss d: 2.27723    loss g: -2.28870\n"
     ]
    },
    {
     "name": "stderr",
     "output_type": "stream",
     "text": [
      " 37%|███▋      | 37000/100001 [1:19:02<1:52:47,  9.31it/s]"
     ]
    },
    {
     "name": "stdout",
     "output_type": "stream",
     "text": [
      "GAN: loss d: 2.56234    loss g: -2.58579\n",
      "saving current model\n"
     ]
    },
    {
     "name": "stderr",
     "output_type": "stream",
     "text": [
      "\n",
      "  0%|          | 0/175 [00:00<?, ?it/s]\u001b[A"
     ]
    },
    {
     "name": "stdout",
     "output_type": "stream",
     "text": [
      "Number of real images: 5626\n"
     ]
    },
    {
     "name": "stderr",
     "output_type": "stream",
     "text": [
      "\n",
      "\n",
      "  0%|          | 0/15 [00:00<?, ?it/s]\u001b[A\u001b[A"
     ]
    },
    {
     "name": "stdout",
     "output_type": "stream",
     "text": [
      "Number of synthetic images: 500\n"
     ]
    },
    {
     "name": "stderr",
     "output_type": "stream",
     "text": [
      " 37%|███▋      | 37001/100001 [1:19:23<110:30:38,  6.31s/it]"
     ]
    },
    {
     "name": "stdout",
     "output_type": "stream",
     "text": [
      "Current fid score: 1.311208359333218\n",
      "Fid scores: [4.9325711711390205, 2.4436189539080466, 2.836768048488924, 2.7970490892296382, 3.1710357984691626, 3.3000315606457526, 2.70047286994032, 2.1638209867365674, 2.0204577684506617, 1.3914490073477666, 1.4400591510301268, 1.510807629476865, 2.258796488262803, 1.7612340626121643, 1.7264875375261077, 1.2524196801674918, 1.3446567610169673, 1.6110663800617644, 1.1499442444251073, 1.1722391359154116, 1.7200074762966437, 2.156615950015553, 1.3325966607336674, 0.8853521448197945, 1.0566829426710669, 1.2350619895546657, 1.0571616917674866, 1.370510241710825, 1.5065921467893446, 1.6719117315531875, 1.909778493483067, 1.7204413818191568, 1.5624610984128573, 1.0753806585584016, 1.3278843704483485, 1.3533378755873358, 1.8988524337341843, 1.311208359333218]\n"
     ]
    },
    {
     "name": "stderr",
     "output_type": "stream",
     "text": [
      "  0%|          | 0/175 [00:10<?, ?it/s]10:30:24,  1.67it/s] \n",
      "  0%|          | 0/15 [00:01<?, ?it/s]\n",
      " 37%|███▋      | 37101/100001 [1:19:33<1:54:17,  9.17it/s] "
     ]
    },
    {
     "name": "stdout",
     "output_type": "stream",
     "text": [
      "GAN: loss d: 2.03816    loss g: -2.41803\n"
     ]
    },
    {
     "name": "stderr",
     "output_type": "stream",
     "text": [
      " 37%|███▋      | 37201/100001 [1:19:44<1:56:06,  9.01it/s]"
     ]
    },
    {
     "name": "stdout",
     "output_type": "stream",
     "text": [
      "GAN: loss d: 3.61847    loss g: -3.06240\n"
     ]
    },
    {
     "name": "stderr",
     "output_type": "stream",
     "text": [
      " 37%|███▋      | 37303/100001 [1:19:55<1:50:01,  9.50it/s]"
     ]
    },
    {
     "name": "stdout",
     "output_type": "stream",
     "text": [
      "GAN: loss d: 2.00677    loss g: -3.52297\n"
     ]
    },
    {
     "name": "stderr",
     "output_type": "stream",
     "text": [
      " 37%|███▋      | 37401/100001 [1:20:06<1:56:21,  8.97it/s]"
     ]
    },
    {
     "name": "stdout",
     "output_type": "stream",
     "text": [
      "GAN: loss d: 1.81862    loss g: -3.18002\n"
     ]
    },
    {
     "name": "stderr",
     "output_type": "stream",
     "text": [
      " 38%|███▊      | 37501/100001 [1:20:16<1:56:02,  8.98it/s]"
     ]
    },
    {
     "name": "stdout",
     "output_type": "stream",
     "text": [
      "GAN: loss d: 3.74208    loss g: -3.43452\n"
     ]
    },
    {
     "name": "stderr",
     "output_type": "stream",
     "text": [
      " 38%|███▊      | 37602/100001 [1:20:27<1:53:52,  9.13it/s]"
     ]
    },
    {
     "name": "stdout",
     "output_type": "stream",
     "text": [
      "GAN: loss d: 1.96561    loss g: -2.38333\n"
     ]
    },
    {
     "name": "stderr",
     "output_type": "stream",
     "text": [
      " 38%|███▊      | 37703/100001 [1:20:38<1:49:51,  9.45it/s]"
     ]
    },
    {
     "name": "stdout",
     "output_type": "stream",
     "text": [
      "GAN: loss d: -0.08912    loss g: -2.14132\n"
     ]
    },
    {
     "name": "stderr",
     "output_type": "stream",
     "text": [
      " 38%|███▊      | 37803/100001 [1:20:49<1:49:33,  9.46it/s]"
     ]
    },
    {
     "name": "stdout",
     "output_type": "stream",
     "text": [
      "GAN: loss d: 4.56441    loss g: -1.80776\n"
     ]
    },
    {
     "name": "stderr",
     "output_type": "stream",
     "text": [
      " 38%|███▊      | 37903/100001 [1:20:59<1:48:37,  9.53it/s]"
     ]
    },
    {
     "name": "stdout",
     "output_type": "stream",
     "text": [
      "GAN: loss d: 2.31780    loss g: -2.13921\n"
     ]
    },
    {
     "name": "stderr",
     "output_type": "stream",
     "text": [
      " 38%|███▊      | 38000/100001 [1:21:10<1:51:42,  9.25it/s]"
     ]
    },
    {
     "name": "stdout",
     "output_type": "stream",
     "text": [
      "GAN: loss d: 3.30735    loss g: -2.27221\n",
      "saving current model\n"
     ]
    },
    {
     "name": "stderr",
     "output_type": "stream",
     "text": [
      "\n",
      "  0%|          | 0/175 [00:00<?, ?it/s]\u001b[A"
     ]
    },
    {
     "name": "stdout",
     "output_type": "stream",
     "text": [
      "Number of real images: 5626\n"
     ]
    },
    {
     "name": "stderr",
     "output_type": "stream",
     "text": [
      "\n",
      "\n",
      "  0%|          | 0/15 [00:00<?, ?it/s]\u001b[A\u001b[A"
     ]
    },
    {
     "name": "stdout",
     "output_type": "stream",
     "text": [
      "Number of synthetic images: 500\n"
     ]
    },
    {
     "name": "stderr",
     "output_type": "stream",
     "text": [
      " 38%|███▊      | 38001/100001 [1:21:30<107:51:06,  6.26s/it]"
     ]
    },
    {
     "name": "stdout",
     "output_type": "stream",
     "text": [
      "Current fid score: 1.315135188974292\n",
      "Fid scores: [4.9325711711390205, 2.4436189539080466, 2.836768048488924, 2.7970490892296382, 3.1710357984691626, 3.3000315606457526, 2.70047286994032, 2.1638209867365674, 2.0204577684506617, 1.3914490073477666, 1.4400591510301268, 1.510807629476865, 2.258796488262803, 1.7612340626121643, 1.7264875375261077, 1.2524196801674918, 1.3446567610169673, 1.6110663800617644, 1.1499442444251073, 1.1722391359154116, 1.7200074762966437, 2.156615950015553, 1.3325966607336674, 0.8853521448197945, 1.0566829426710669, 1.2350619895546657, 1.0571616917674866, 1.370510241710825, 1.5065921467893446, 1.6719117315531875, 1.909778493483067, 1.7204413818191568, 1.5624610984128573, 1.0753806585584016, 1.3278843704483485, 1.3533378755873358, 1.8988524337341843, 1.311208359333218, 1.315135188974292]\n"
     ]
    },
    {
     "name": "stderr",
     "output_type": "stream",
     "text": [
      "  0%|          | 0/175 [00:19<?, ?it/s]1:52:55,  9.14it/s]  \n",
      "  0%|          | 0/15 [00:10<?, ?it/s]\n",
      " 38%|███▊      | 38103/100001 [1:21:41<1:49:22,  9.43it/s]"
     ]
    },
    {
     "name": "stdout",
     "output_type": "stream",
     "text": [
      "GAN: loss d: 0.83309    loss g: -2.16858\n"
     ]
    },
    {
     "name": "stderr",
     "output_type": "stream",
     "text": [
      " 38%|███▊      | 38201/100001 [1:21:52<1:53:11,  9.10it/s]"
     ]
    },
    {
     "name": "stdout",
     "output_type": "stream",
     "text": [
      "GAN: loss d: 2.67157    loss g: -3.19315\n"
     ]
    },
    {
     "name": "stderr",
     "output_type": "stream",
     "text": [
      " 38%|███▊      | 38301/100001 [1:22:02<1:54:00,  9.02it/s]"
     ]
    },
    {
     "name": "stdout",
     "output_type": "stream",
     "text": [
      "GAN: loss d: 1.19441    loss g: -1.87206\n"
     ]
    },
    {
     "name": "stderr",
     "output_type": "stream",
     "text": [
      " 38%|███▊      | 38401/100001 [1:22:13<1:55:55,  8.86it/s]"
     ]
    },
    {
     "name": "stdout",
     "output_type": "stream",
     "text": [
      "GAN: loss d: 5.07221    loss g: -2.75640\n"
     ]
    },
    {
     "name": "stderr",
     "output_type": "stream",
     "text": [
      " 39%|███▊      | 38501/100001 [1:22:24<1:51:55,  9.16it/s]"
     ]
    },
    {
     "name": "stdout",
     "output_type": "stream",
     "text": [
      "GAN: loss d: 2.09703    loss g: -2.28469\n"
     ]
    },
    {
     "name": "stderr",
     "output_type": "stream",
     "text": [
      " 39%|███▊      | 38601/100001 [1:22:34<1:54:02,  8.97it/s]"
     ]
    },
    {
     "name": "stdout",
     "output_type": "stream",
     "text": [
      "GAN: loss d: 4.10641    loss g: -1.67271\n"
     ]
    },
    {
     "name": "stderr",
     "output_type": "stream",
     "text": [
      " 39%|███▊      | 38701/100001 [1:22:45<1:52:38,  9.07it/s]"
     ]
    },
    {
     "name": "stdout",
     "output_type": "stream",
     "text": [
      "GAN: loss d: 2.86609    loss g: -3.40073\n"
     ]
    },
    {
     "name": "stderr",
     "output_type": "stream",
     "text": [
      " 39%|███▉      | 38801/100001 [1:22:56<1:54:27,  8.91it/s]"
     ]
    },
    {
     "name": "stdout",
     "output_type": "stream",
     "text": [
      "GAN: loss d: 2.83119    loss g: -4.03117\n"
     ]
    },
    {
     "name": "stderr",
     "output_type": "stream",
     "text": [
      " 39%|███▉      | 38901/100001 [1:23:07<1:53:31,  8.97it/s]"
     ]
    },
    {
     "name": "stdout",
     "output_type": "stream",
     "text": [
      "GAN: loss d: 1.89546    loss g: -2.64824\n"
     ]
    },
    {
     "name": "stderr",
     "output_type": "stream",
     "text": [
      " 39%|███▉      | 39000/100001 [1:23:17<1:50:20,  9.21it/s]"
     ]
    },
    {
     "name": "stdout",
     "output_type": "stream",
     "text": [
      "GAN: loss d: 2.15930    loss g: -2.11417\n",
      "saving current model\n"
     ]
    },
    {
     "name": "stderr",
     "output_type": "stream",
     "text": [
      "\n",
      "  0%|          | 0/175 [00:00<?, ?it/s]\u001b[A"
     ]
    },
    {
     "name": "stdout",
     "output_type": "stream",
     "text": [
      "Number of real images: 5626\n"
     ]
    },
    {
     "name": "stderr",
     "output_type": "stream",
     "text": [
      "\n",
      "\n",
      "  0%|          | 0/15 [00:00<?, ?it/s]\u001b[A\u001b[A"
     ]
    },
    {
     "name": "stdout",
     "output_type": "stream",
     "text": [
      "Number of synthetic images: 500\n"
     ]
    },
    {
     "name": "stderr",
     "output_type": "stream",
     "text": [
      " 39%|███▉      | 39001/100001 [1:23:38<105:52:14,  6.25s/it]"
     ]
    },
    {
     "name": "stdout",
     "output_type": "stream",
     "text": [
      "Current fid score: 1.6493025123445122\n",
      "Fid scores: [4.9325711711390205, 2.4436189539080466, 2.836768048488924, 2.7970490892296382, 3.1710357984691626, 3.3000315606457526, 2.70047286994032, 2.1638209867365674, 2.0204577684506617, 1.3914490073477666, 1.4400591510301268, 1.510807629476865, 2.258796488262803, 1.7612340626121643, 1.7264875375261077, 1.2524196801674918, 1.3446567610169673, 1.6110663800617644, 1.1499442444251073, 1.1722391359154116, 1.7200074762966437, 2.156615950015553, 1.3325966607336674, 0.8853521448197945, 1.0566829426710669, 1.2350619895546657, 1.0571616917674866, 1.370510241710825, 1.5065921467893446, 1.6719117315531875, 1.909778493483067, 1.7204413818191568, 1.5624610984128573, 1.0753806585584016, 1.3278843704483485, 1.3533378755873358, 1.8988524337341843, 1.311208359333218, 1.315135188974292, 1.6493025123445122]\n"
     ]
    },
    {
     "name": "stderr",
     "output_type": "stream",
     "text": [
      "  0%|          | 0/175 [00:15<?, ?it/s]1:50:32,  9.19it/s]  \n",
      "  0%|          | 0/15 [00:06<?, ?it/s]\n",
      " 39%|███▉      | 39101/100001 [1:23:49<1:54:24,  8.87it/s]"
     ]
    },
    {
     "name": "stdout",
     "output_type": "stream",
     "text": [
      "GAN: loss d: 2.61833    loss g: -3.27118\n"
     ]
    },
    {
     "name": "stderr",
     "output_type": "stream",
     "text": [
      " 39%|███▉      | 39203/100001 [1:24:00<1:46:30,  9.51it/s]"
     ]
    },
    {
     "name": "stdout",
     "output_type": "stream",
     "text": [
      "GAN: loss d: 1.91437    loss g: -3.12452\n"
     ]
    },
    {
     "name": "stderr",
     "output_type": "stream",
     "text": [
      " 39%|███▉      | 39301/100001 [1:24:10<1:50:49,  9.13it/s]"
     ]
    },
    {
     "name": "stdout",
     "output_type": "stream",
     "text": [
      "GAN: loss d: 2.15209    loss g: -2.05488\n"
     ]
    },
    {
     "name": "stderr",
     "output_type": "stream",
     "text": [
      " 39%|███▉      | 39401/100001 [1:24:21<1:53:26,  8.90it/s]"
     ]
    },
    {
     "name": "stdout",
     "output_type": "stream",
     "text": [
      "GAN: loss d: 1.09342    loss g: -3.40625\n"
     ]
    },
    {
     "name": "stderr",
     "output_type": "stream",
     "text": [
      " 40%|███▉      | 39503/100001 [1:24:32<1:46:14,  9.49it/s]"
     ]
    },
    {
     "name": "stdout",
     "output_type": "stream",
     "text": [
      "GAN: loss d: 2.75531    loss g: -1.68061\n"
     ]
    },
    {
     "name": "stderr",
     "output_type": "stream",
     "text": [
      " 40%|███▉      | 39601/100001 [1:24:42<1:55:58,  8.68it/s]"
     ]
    },
    {
     "name": "stdout",
     "output_type": "stream",
     "text": [
      "GAN: loss d: 1.71876    loss g: -1.97784\n"
     ]
    },
    {
     "name": "stderr",
     "output_type": "stream",
     "text": [
      " 40%|███▉      | 39701/100001 [1:24:53<1:54:19,  8.79it/s]"
     ]
    },
    {
     "name": "stdout",
     "output_type": "stream",
     "text": [
      "GAN: loss d: 3.13731    loss g: -2.61075\n"
     ]
    },
    {
     "name": "stderr",
     "output_type": "stream",
     "text": [
      " 40%|███▉      | 39801/100001 [1:25:03<1:49:13,  9.19it/s]"
     ]
    },
    {
     "name": "stdout",
     "output_type": "stream",
     "text": [
      "GAN: loss d: 1.03277    loss g: -2.78108\n"
     ]
    },
    {
     "name": "stderr",
     "output_type": "stream",
     "text": [
      " 40%|███▉      | 39901/100001 [1:25:14<1:50:29,  9.07it/s]"
     ]
    },
    {
     "name": "stdout",
     "output_type": "stream",
     "text": [
      "GAN: loss d: 0.66647    loss g: -2.43448\n"
     ]
    },
    {
     "name": "stderr",
     "output_type": "stream",
     "text": [
      " 40%|███▉      | 40000/100001 [1:25:25<1:47:16,  9.32it/s]"
     ]
    },
    {
     "name": "stdout",
     "output_type": "stream",
     "text": [
      "GAN: loss d: 2.28955    loss g: -2.90598\n",
      "saving current model\n"
     ]
    },
    {
     "name": "stderr",
     "output_type": "stream",
     "text": [
      "\n",
      "  0%|          | 0/175 [00:00<?, ?it/s]\u001b[A"
     ]
    },
    {
     "name": "stdout",
     "output_type": "stream",
     "text": [
      "Number of real images: 5626\n"
     ]
    },
    {
     "name": "stderr",
     "output_type": "stream",
     "text": [
      "\n",
      "\n",
      "  0%|          | 0/15 [00:00<?, ?it/s]\u001b[A\u001b[A"
     ]
    },
    {
     "name": "stdout",
     "output_type": "stream",
     "text": [
      "Number of synthetic images: 500\n"
     ]
    },
    {
     "name": "stderr",
     "output_type": "stream",
     "text": [
      " 40%|████      | 40001/100001 [1:25:45<104:01:17,  6.24s/it]"
     ]
    },
    {
     "name": "stdout",
     "output_type": "stream",
     "text": [
      "Current fid score: 1.2255098483436484\n",
      "Fid scores: [4.9325711711390205, 2.4436189539080466, 2.836768048488924, 2.7970490892296382, 3.1710357984691626, 3.3000315606457526, 2.70047286994032, 2.1638209867365674, 2.0204577684506617, 1.3914490073477666, 1.4400591510301268, 1.510807629476865, 2.258796488262803, 1.7612340626121643, 1.7264875375261077, 1.2524196801674918, 1.3446567610169673, 1.6110663800617644, 1.1499442444251073, 1.1722391359154116, 1.7200074762966437, 2.156615950015553, 1.3325966607336674, 0.8853521448197945, 1.0566829426710669, 1.2350619895546657, 1.0571616917674866, 1.370510241710825, 1.5065921467893446, 1.6719117315531875, 1.909778493483067, 1.7204413818191568, 1.5624610984128573, 1.0753806585584016, 1.3278843704483485, 1.3533378755873358, 1.8988524337341843, 1.311208359333218, 1.315135188974292, 1.6493025123445122, 1.2255098483436484]\n"
     ]
    },
    {
     "name": "stderr",
     "output_type": "stream",
     "text": [
      "  0%|          | 0/175 [00:10<?, ?it/s]13:12:40,  1.26it/s] \n",
      "  0%|          | 0/15 [00:01<?, ?it/s]\n",
      " 40%|████      | 40101/100001 [1:25:56<1:51:00,  8.99it/s] "
     ]
    },
    {
     "name": "stdout",
     "output_type": "stream",
     "text": [
      "GAN: loss d: 2.55620    loss g: -2.77915\n"
     ]
    },
    {
     "name": "stderr",
     "output_type": "stream",
     "text": [
      " 40%|████      | 40201/100001 [1:26:07<1:50:06,  9.05it/s]"
     ]
    },
    {
     "name": "stdout",
     "output_type": "stream",
     "text": [
      "GAN: loss d: 3.48434    loss g: -2.17913\n"
     ]
    },
    {
     "name": "stderr",
     "output_type": "stream",
     "text": [
      " 40%|████      | 40301/100001 [1:26:18<1:50:18,  9.02it/s]"
     ]
    },
    {
     "name": "stdout",
     "output_type": "stream",
     "text": [
      "GAN: loss d: 1.30685    loss g: -2.65713\n"
     ]
    },
    {
     "name": "stderr",
     "output_type": "stream",
     "text": [
      " 40%|████      | 40401/100001 [1:26:28<1:51:39,  8.90it/s]"
     ]
    },
    {
     "name": "stdout",
     "output_type": "stream",
     "text": [
      "GAN: loss d: 4.47334    loss g: -2.43525\n"
     ]
    },
    {
     "name": "stderr",
     "output_type": "stream",
     "text": [
      " 41%|████      | 40501/100001 [1:26:39<1:50:17,  8.99it/s]"
     ]
    },
    {
     "name": "stdout",
     "output_type": "stream",
     "text": [
      "GAN: loss d: 4.46831    loss g: -3.50421\n"
     ]
    },
    {
     "name": "stderr",
     "output_type": "stream",
     "text": [
      " 41%|████      | 40601/100001 [1:26:50<1:51:01,  8.92it/s]"
     ]
    },
    {
     "name": "stdout",
     "output_type": "stream",
     "text": [
      "GAN: loss d: 3.30628    loss g: -3.56530\n"
     ]
    },
    {
     "name": "stderr",
     "output_type": "stream",
     "text": [
      " 41%|████      | 40701/100001 [1:27:00<1:48:40,  9.09it/s]"
     ]
    },
    {
     "name": "stdout",
     "output_type": "stream",
     "text": [
      "GAN: loss d: 4.21418    loss g: -1.65408\n"
     ]
    },
    {
     "name": "stderr",
     "output_type": "stream",
     "text": [
      " 41%|████      | 40801/100001 [1:27:11<1:48:04,  9.13it/s]"
     ]
    },
    {
     "name": "stdout",
     "output_type": "stream",
     "text": [
      "GAN: loss d: 1.99649    loss g: -3.54519\n"
     ]
    },
    {
     "name": "stderr",
     "output_type": "stream",
     "text": [
      " 41%|████      | 40902/100001 [1:27:22<1:46:22,  9.26it/s]"
     ]
    },
    {
     "name": "stdout",
     "output_type": "stream",
     "text": [
      "GAN: loss d: 3.34923    loss g: -2.41461\n"
     ]
    },
    {
     "name": "stderr",
     "output_type": "stream",
     "text": [
      " 41%|████      | 41000/100001 [1:27:32<1:44:19,  9.43it/s]"
     ]
    },
    {
     "name": "stdout",
     "output_type": "stream",
     "text": [
      "GAN: loss d: 2.76682    loss g: -1.86976\n",
      "saving current model\n"
     ]
    },
    {
     "name": "stderr",
     "output_type": "stream",
     "text": [
      "\n",
      "  0%|          | 0/175 [00:00<?, ?it/s]\u001b[A"
     ]
    },
    {
     "name": "stdout",
     "output_type": "stream",
     "text": [
      "Number of real images: 5626\n"
     ]
    },
    {
     "name": "stderr",
     "output_type": "stream",
     "text": [
      "\n",
      "\n",
      "  0%|          | 0/15 [00:00<?, ?it/s]\u001b[A\u001b[A"
     ]
    },
    {
     "name": "stdout",
     "output_type": "stream",
     "text": [
      "Number of synthetic images: 500\n"
     ]
    },
    {
     "name": "stderr",
     "output_type": "stream",
     "text": [
      " 41%|████      | 41001/100001 [1:27:53<103:28:17,  6.31s/it]"
     ]
    },
    {
     "name": "stdout",
     "output_type": "stream",
     "text": [
      "Current fid score: 1.1651169222250104\n",
      "Fid scores: [4.9325711711390205, 2.4436189539080466, 2.836768048488924, 2.7970490892296382, 3.1710357984691626, 3.3000315606457526, 2.70047286994032, 2.1638209867365674, 2.0204577684506617, 1.3914490073477666, 1.4400591510301268, 1.510807629476865, 2.258796488262803, 1.7612340626121643, 1.7264875375261077, 1.2524196801674918, 1.3446567610169673, 1.6110663800617644, 1.1499442444251073, 1.1722391359154116, 1.7200074762966437, 2.156615950015553, 1.3325966607336674, 0.8853521448197945, 1.0566829426710669, 1.2350619895546657, 1.0571616917674866, 1.370510241710825, 1.5065921467893446, 1.6719117315531875, 1.909778493483067, 1.7204413818191568, 1.5624610984128573, 1.0753806585584016, 1.3278843704483485, 1.3533378755873358, 1.8988524337341843, 1.311208359333218, 1.315135188974292, 1.6493025123445122, 1.2255098483436484, 1.1651169222250104]\n"
     ]
    },
    {
     "name": "stderr",
     "output_type": "stream",
     "text": [
      "  0%|          | 0/175 [00:10<?, ?it/s]4:34:53,  3.58it/s]  \n",
      "  0%|          | 0/15 [00:02<?, ?it/s]\n",
      " 41%|████      | 41103/100001 [1:28:04<1:42:25,  9.58it/s]"
     ]
    },
    {
     "name": "stdout",
     "output_type": "stream",
     "text": [
      "GAN: loss d: 3.16723    loss g: -2.65777\n"
     ]
    },
    {
     "name": "stderr",
     "output_type": "stream",
     "text": [
      " 41%|████      | 41201/100001 [1:28:15<1:47:45,  9.09it/s]"
     ]
    },
    {
     "name": "stdout",
     "output_type": "stream",
     "text": [
      "GAN: loss d: 4.57437    loss g: -3.06480\n"
     ]
    },
    {
     "name": "stderr",
     "output_type": "stream",
     "text": [
      " 41%|████▏     | 41301/100001 [1:28:25<1:47:42,  9.08it/s]"
     ]
    },
    {
     "name": "stdout",
     "output_type": "stream",
     "text": [
      "GAN: loss d: 2.85533    loss g: -3.33908\n"
     ]
    },
    {
     "name": "stderr",
     "output_type": "stream",
     "text": [
      " 41%|████▏     | 41402/100001 [1:28:36<1:45:58,  9.22it/s]"
     ]
    },
    {
     "name": "stdout",
     "output_type": "stream",
     "text": [
      "GAN: loss d: 3.26810    loss g: -2.35973\n"
     ]
    },
    {
     "name": "stderr",
     "output_type": "stream",
     "text": [
      " 42%|████▏     | 41501/100001 [1:28:47<1:58:32,  8.22it/s]"
     ]
    },
    {
     "name": "stdout",
     "output_type": "stream",
     "text": [
      "GAN: loss d: 0.84186    loss g: -1.99358\n"
     ]
    },
    {
     "name": "stderr",
     "output_type": "stream",
     "text": [
      " 42%|████▏     | 41601/100001 [1:28:58<1:59:45,  8.13it/s]"
     ]
    },
    {
     "name": "stdout",
     "output_type": "stream",
     "text": [
      "GAN: loss d: 4.34059    loss g: -3.57279\n"
     ]
    },
    {
     "name": "stderr",
     "output_type": "stream",
     "text": [
      " 42%|████▏     | 41703/100001 [1:29:09<1:41:59,  9.53it/s]"
     ]
    },
    {
     "name": "stdout",
     "output_type": "stream",
     "text": [
      "GAN: loss d: 0.72973    loss g: -3.06006\n"
     ]
    },
    {
     "name": "stderr",
     "output_type": "stream",
     "text": [
      " 42%|████▏     | 41801/100001 [1:29:19<1:47:38,  9.01it/s]"
     ]
    },
    {
     "name": "stdout",
     "output_type": "stream",
     "text": [
      "GAN: loss d: 2.34579    loss g: -3.04756\n"
     ]
    },
    {
     "name": "stderr",
     "output_type": "stream",
     "text": [
      " 42%|████▏     | 41901/100001 [1:29:30<1:54:53,  8.43it/s]"
     ]
    },
    {
     "name": "stdout",
     "output_type": "stream",
     "text": [
      "GAN: loss d: 1.60201    loss g: -3.52799\n"
     ]
    },
    {
     "name": "stderr",
     "output_type": "stream",
     "text": [
      " 42%|████▏     | 42000/100001 [1:29:40<1:43:14,  9.36it/s]"
     ]
    },
    {
     "name": "stdout",
     "output_type": "stream",
     "text": [
      "GAN: loss d: 2.67074    loss g: -1.97722\n",
      "saving current model\n"
     ]
    },
    {
     "name": "stderr",
     "output_type": "stream",
     "text": [
      "\n",
      "  0%|          | 0/175 [00:00<?, ?it/s]\u001b[A"
     ]
    },
    {
     "name": "stdout",
     "output_type": "stream",
     "text": [
      "Number of real images: 5626\n"
     ]
    },
    {
     "name": "stderr",
     "output_type": "stream",
     "text": [
      "\n",
      "\n",
      "  0%|          | 0/15 [00:00<?, ?it/s]\u001b[A\u001b[A"
     ]
    },
    {
     "name": "stdout",
     "output_type": "stream",
     "text": [
      "Number of synthetic images: 500\n"
     ]
    },
    {
     "name": "stderr",
     "output_type": "stream",
     "text": [
      "  0%|          | 0/175 [00:09<?, ?it/s]\n",
      "  0%|          | 0/15 [00:00<?, ?it/s]"
     ]
    },
    {
     "name": "stdout",
     "output_type": "stream",
     "text": [
      "Current fid score: 0.8573076997493629\n",
      "Fid scores: [4.9325711711390205, 2.4436189539080466, 2.836768048488924, 2.7970490892296382, 3.1710357984691626, 3.3000315606457526, 2.70047286994032, 2.1638209867365674, 2.0204577684506617, 1.3914490073477666, 1.4400591510301268, 1.510807629476865, 2.258796488262803, 1.7612340626121643, 1.7264875375261077, 1.2524196801674918, 1.3446567610169673, 1.6110663800617644, 1.1499442444251073, 1.1722391359154116, 1.7200074762966437, 2.156615950015553, 1.3325966607336674, 0.8853521448197945, 1.0566829426710669, 1.2350619895546657, 1.0571616917674866, 1.370510241710825, 1.5065921467893446, 1.6719117315531875, 1.909778493483067, 1.7204413818191568, 1.5624610984128573, 1.0753806585584016, 1.3278843704483485, 1.3533378755873358, 1.8988524337341843, 1.311208359333218, 1.315135188974292, 1.6493025123445122, 1.2255098483436484, 1.1651169222250104, 0.8573076997493629]\n",
      "New min fid score: 0.857307699749\n",
      "Saving best model\n"
     ]
    },
    {
     "name": "stderr",
     "output_type": "stream",
     "text": [
      "\n",
      " 42%|████▏     | 42103/100001 [1:30:15<1:41:49,  9.48it/s]  "
     ]
    },
    {
     "name": "stdout",
     "output_type": "stream",
     "text": [
      "GAN: loss d: 2.86482    loss g: -1.56712\n"
     ]
    },
    {
     "name": "stderr",
     "output_type": "stream",
     "text": [
      " 42%|████▏     | 42201/100001 [1:30:26<1:47:30,  8.96it/s]"
     ]
    },
    {
     "name": "stdout",
     "output_type": "stream",
     "text": [
      "GAN: loss d: 0.67089    loss g: -2.35125\n"
     ]
    },
    {
     "name": "stderr",
     "output_type": "stream",
     "text": [
      " 42%|████▏     | 42301/100001 [1:30:37<1:46:51,  9.00it/s]"
     ]
    },
    {
     "name": "stdout",
     "output_type": "stream",
     "text": [
      "GAN: loss d: 3.82523    loss g: -2.91260\n"
     ]
    },
    {
     "name": "stderr",
     "output_type": "stream",
     "text": [
      " 42%|████▏     | 42402/100001 [1:30:47<1:44:52,  9.15it/s]"
     ]
    },
    {
     "name": "stdout",
     "output_type": "stream",
     "text": [
      "GAN: loss d: 4.01511    loss g: -2.58679\n"
     ]
    },
    {
     "name": "stderr",
     "output_type": "stream",
     "text": [
      " 43%|████▎     | 42501/100001 [1:30:58<1:47:08,  8.94it/s]"
     ]
    },
    {
     "name": "stdout",
     "output_type": "stream",
     "text": [
      "GAN: loss d: 2.16204    loss g: -2.85552\n"
     ]
    },
    {
     "name": "stderr",
     "output_type": "stream",
     "text": [
      " 43%|████▎     | 42601/100001 [1:31:09<1:48:28,  8.82it/s]"
     ]
    },
    {
     "name": "stdout",
     "output_type": "stream",
     "text": [
      "GAN: loss d: 2.30976    loss g: -3.23489\n"
     ]
    },
    {
     "name": "stderr",
     "output_type": "stream",
     "text": [
      " 43%|████▎     | 42701/100001 [1:31:20<1:46:32,  8.96it/s]"
     ]
    },
    {
     "name": "stdout",
     "output_type": "stream",
     "text": [
      "GAN: loss d: 4.18691    loss g: -3.33575\n"
     ]
    },
    {
     "name": "stderr",
     "output_type": "stream",
     "text": [
      " 43%|████▎     | 42803/100001 [1:31:30<1:40:14,  9.51it/s]"
     ]
    },
    {
     "name": "stdout",
     "output_type": "stream",
     "text": [
      "GAN: loss d: 3.04786    loss g: -2.62325\n"
     ]
    },
    {
     "name": "stderr",
     "output_type": "stream",
     "text": [
      " 43%|████▎     | 42901/100001 [1:31:41<1:57:29,  8.10it/s]"
     ]
    },
    {
     "name": "stdout",
     "output_type": "stream",
     "text": [
      "GAN: loss d: 3.20816    loss g: -2.34585\n"
     ]
    },
    {
     "name": "stderr",
     "output_type": "stream",
     "text": [
      " 43%|████▎     | 43000/100001 [1:31:51<1:42:54,  9.23it/s]"
     ]
    },
    {
     "name": "stdout",
     "output_type": "stream",
     "text": [
      "GAN: loss d: 2.65785    loss g: -2.96002\n",
      "saving current model\n"
     ]
    },
    {
     "name": "stderr",
     "output_type": "stream",
     "text": [
      "\n",
      "  0%|          | 0/175 [00:00<?, ?it/s]\u001b[A"
     ]
    },
    {
     "name": "stdout",
     "output_type": "stream",
     "text": [
      "Number of real images: 5626\n"
     ]
    },
    {
     "name": "stderr",
     "output_type": "stream",
     "text": [
      "\n",
      "\n",
      "  0%|          | 0/15 [00:00<?, ?it/s]\u001b[A\u001b[A"
     ]
    },
    {
     "name": "stdout",
     "output_type": "stream",
     "text": [
      "Number of synthetic images: 500\n"
     ]
    },
    {
     "name": "stderr",
     "output_type": "stream",
     "text": [
      "  0%|          | 0/175 [00:09<?, ?it/s]\n",
      "  0%|          | 0/15 [00:00<?, ?it/s]"
     ]
    },
    {
     "name": "stdout",
     "output_type": "stream",
     "text": [
      "Current fid score: 0.729450667331303\n",
      "Fid scores: [4.9325711711390205, 2.4436189539080466, 2.836768048488924, 2.7970490892296382, 3.1710357984691626, 3.3000315606457526, 2.70047286994032, 2.1638209867365674, 2.0204577684506617, 1.3914490073477666, 1.4400591510301268, 1.510807629476865, 2.258796488262803, 1.7612340626121643, 1.7264875375261077, 1.2524196801674918, 1.3446567610169673, 1.6110663800617644, 1.1499442444251073, 1.1722391359154116, 1.7200074762966437, 2.156615950015553, 1.3325966607336674, 0.8853521448197945, 1.0566829426710669, 1.2350619895546657, 1.0571616917674866, 1.370510241710825, 1.5065921467893446, 1.6719117315531875, 1.909778493483067, 1.7204413818191568, 1.5624610984128573, 1.0753806585584016, 1.3278843704483485, 1.3533378755873358, 1.8988524337341843, 1.311208359333218, 1.315135188974292, 1.6493025123445122, 1.2255098483436484, 1.1651169222250104, 0.8573076997493629, 0.729450667331303]\n",
      "New min fid score: 0.729450667331\n",
      "Saving best model\n"
     ]
    },
    {
     "name": "stderr",
     "output_type": "stream",
     "text": [
      "\n",
      " 43%|████▎     | 43101/100001 [1:32:26<1:44:58,  9.03it/s]  "
     ]
    },
    {
     "name": "stdout",
     "output_type": "stream",
     "text": [
      "GAN: loss d: 1.64913    loss g: -2.08537\n"
     ]
    },
    {
     "name": "stderr",
     "output_type": "stream",
     "text": [
      " 43%|████▎     | 43202/100001 [1:32:37<1:44:22,  9.07it/s]"
     ]
    },
    {
     "name": "stdout",
     "output_type": "stream",
     "text": [
      "GAN: loss d: 3.67008    loss g: -2.03221\n"
     ]
    },
    {
     "name": "stderr",
     "output_type": "stream",
     "text": [
      " 43%|████▎     | 43301/100001 [1:32:47<1:46:31,  8.87it/s]"
     ]
    },
    {
     "name": "stdout",
     "output_type": "stream",
     "text": [
      "GAN: loss d: 0.45109    loss g: -3.51701\n"
     ]
    },
    {
     "name": "stderr",
     "output_type": "stream",
     "text": [
      " 43%|████▎     | 43401/100001 [1:32:58<1:45:20,  8.96it/s]"
     ]
    },
    {
     "name": "stdout",
     "output_type": "stream",
     "text": [
      "GAN: loss d: 0.22896    loss g: -3.12506\n"
     ]
    },
    {
     "name": "stderr",
     "output_type": "stream",
     "text": [
      " 44%|████▎     | 43503/100001 [1:33:09<1:39:04,  9.50it/s]"
     ]
    },
    {
     "name": "stdout",
     "output_type": "stream",
     "text": [
      "GAN: loss d: 4.46239    loss g: -2.74742\n"
     ]
    },
    {
     "name": "stderr",
     "output_type": "stream",
     "text": [
      " 44%|████▎     | 43601/100001 [1:33:20<1:43:24,  9.09it/s]"
     ]
    },
    {
     "name": "stdout",
     "output_type": "stream",
     "text": [
      "GAN: loss d: 4.70009    loss g: -1.78847\n"
     ]
    },
    {
     "name": "stderr",
     "output_type": "stream",
     "text": [
      " 44%|████▎     | 43701/100001 [1:33:30<1:45:19,  8.91it/s]"
     ]
    },
    {
     "name": "stdout",
     "output_type": "stream",
     "text": [
      "GAN: loss d: 4.16279    loss g: -2.02544\n"
     ]
    },
    {
     "name": "stderr",
     "output_type": "stream",
     "text": [
      " 44%|████▍     | 43801/100001 [1:33:41<1:46:07,  8.83it/s]"
     ]
    },
    {
     "name": "stdout",
     "output_type": "stream",
     "text": [
      "GAN: loss d: 1.92227    loss g: -1.98430\n"
     ]
    },
    {
     "name": "stderr",
     "output_type": "stream",
     "text": [
      " 44%|████▍     | 43901/100001 [1:33:52<1:43:01,  9.08it/s]"
     ]
    },
    {
     "name": "stdout",
     "output_type": "stream",
     "text": [
      "GAN: loss d: 0.17845    loss g: -2.19588\n"
     ]
    },
    {
     "name": "stderr",
     "output_type": "stream",
     "text": [
      " 44%|████▍     | 44000/100001 [1:34:02<1:41:00,  9.24it/s]"
     ]
    },
    {
     "name": "stdout",
     "output_type": "stream",
     "text": [
      "GAN: loss d: 2.65440    loss g: -3.47473\n",
      "saving current model\n"
     ]
    },
    {
     "name": "stderr",
     "output_type": "stream",
     "text": [
      "\n",
      "  0%|          | 0/175 [00:00<?, ?it/s]\u001b[A"
     ]
    },
    {
     "name": "stdout",
     "output_type": "stream",
     "text": [
      "Number of real images: 5626\n"
     ]
    },
    {
     "name": "stderr",
     "output_type": "stream",
     "text": [
      "\n",
      "\n",
      "  0%|          | 0/15 [00:00<?, ?it/s]\u001b[A\u001b[A"
     ]
    },
    {
     "name": "stdout",
     "output_type": "stream",
     "text": [
      "Number of synthetic images: 500\n"
     ]
    },
    {
     "name": "stderr",
     "output_type": "stream",
     "text": [
      "  0%|          | 0/175 [00:09<?, ?it/s]\n",
      "  0%|          | 0/15 [00:00<?, ?it/s]"
     ]
    },
    {
     "name": "stdout",
     "output_type": "stream",
     "text": [
      "Current fid score: 0.7234077685869522\n",
      "Fid scores: [4.9325711711390205, 2.4436189539080466, 2.836768048488924, 2.7970490892296382, 3.1710357984691626, 3.3000315606457526, 2.70047286994032, 2.1638209867365674, 2.0204577684506617, 1.3914490073477666, 1.4400591510301268, 1.510807629476865, 2.258796488262803, 1.7612340626121643, 1.7264875375261077, 1.2524196801674918, 1.3446567610169673, 1.6110663800617644, 1.1499442444251073, 1.1722391359154116, 1.7200074762966437, 2.156615950015553, 1.3325966607336674, 0.8853521448197945, 1.0566829426710669, 1.2350619895546657, 1.0571616917674866, 1.370510241710825, 1.5065921467893446, 1.6719117315531875, 1.909778493483067, 1.7204413818191568, 1.5624610984128573, 1.0753806585584016, 1.3278843704483485, 1.3533378755873358, 1.8988524337341843, 1.311208359333218, 1.315135188974292, 1.6493025123445122, 1.2255098483436484, 1.1651169222250104, 0.8573076997493629, 0.729450667331303, 0.7234077685869522]\n",
      "New min fid score: 0.723407768587\n",
      "Saving best model\n"
     ]
    },
    {
     "name": "stderr",
     "output_type": "stream",
     "text": [
      "\n",
      " 44%|████▍     | 44101/100001 [1:34:37<1:43:26,  9.01it/s]  "
     ]
    },
    {
     "name": "stdout",
     "output_type": "stream",
     "text": [
      "GAN: loss d: 3.81681    loss g: -2.18933\n"
     ]
    },
    {
     "name": "stderr",
     "output_type": "stream",
     "text": [
      " 44%|████▍     | 44203/100001 [1:34:48<1:39:02,  9.39it/s]"
     ]
    },
    {
     "name": "stdout",
     "output_type": "stream",
     "text": [
      "GAN: loss d: 4.74100    loss g: -3.55847\n"
     ]
    },
    {
     "name": "stderr",
     "output_type": "stream",
     "text": [
      " 44%|████▍     | 44301/100001 [1:34:58<1:41:47,  9.12it/s]"
     ]
    },
    {
     "name": "stdout",
     "output_type": "stream",
     "text": [
      "GAN: loss d: 5.87719    loss g: -1.57098\n"
     ]
    },
    {
     "name": "stderr",
     "output_type": "stream",
     "text": [
      " 44%|████▍     | 44401/100001 [1:35:09<1:42:43,  9.02it/s]"
     ]
    },
    {
     "name": "stdout",
     "output_type": "stream",
     "text": [
      "GAN: loss d: 3.79406    loss g: -2.58864\n"
     ]
    },
    {
     "name": "stderr",
     "output_type": "stream",
     "text": [
      " 45%|████▍     | 44501/100001 [1:35:20<1:43:21,  8.95it/s]"
     ]
    },
    {
     "name": "stdout",
     "output_type": "stream",
     "text": [
      "GAN: loss d: 3.45373    loss g: -1.89640\n"
     ]
    },
    {
     "name": "stderr",
     "output_type": "stream",
     "text": [
      " 45%|████▍     | 44602/100001 [1:35:31<1:40:20,  9.20it/s]"
     ]
    },
    {
     "name": "stdout",
     "output_type": "stream",
     "text": [
      "GAN: loss d: 5.26320    loss g: -2.83208\n"
     ]
    },
    {
     "name": "stderr",
     "output_type": "stream",
     "text": [
      " 45%|████▍     | 44701/100001 [1:35:41<1:42:42,  8.97it/s]"
     ]
    },
    {
     "name": "stdout",
     "output_type": "stream",
     "text": [
      "GAN: loss d: 4.37219    loss g: -2.02965\n"
     ]
    },
    {
     "name": "stderr",
     "output_type": "stream",
     "text": [
      " 45%|████▍     | 44803/100001 [1:35:52<1:37:38,  9.42it/s]"
     ]
    },
    {
     "name": "stdout",
     "output_type": "stream",
     "text": [
      "GAN: loss d: 2.85125    loss g: -2.11140\n"
     ]
    },
    {
     "name": "stderr",
     "output_type": "stream",
     "text": [
      " 45%|████▍     | 44901/100001 [1:36:03<1:41:52,  9.01it/s]"
     ]
    },
    {
     "name": "stdout",
     "output_type": "stream",
     "text": [
      "GAN: loss d: 2.42349    loss g: -4.34554\n"
     ]
    },
    {
     "name": "stderr",
     "output_type": "stream",
     "text": [
      " 45%|████▍     | 45000/100001 [1:36:13<1:38:04,  9.35it/s]"
     ]
    },
    {
     "name": "stdout",
     "output_type": "stream",
     "text": [
      "GAN: loss d: 3.48635    loss g: -2.05353\n",
      "saving current model\n"
     ]
    },
    {
     "name": "stderr",
     "output_type": "stream",
     "text": [
      "\n",
      "  0%|          | 0/175 [00:00<?, ?it/s]\u001b[A"
     ]
    },
    {
     "name": "stdout",
     "output_type": "stream",
     "text": [
      "Number of real images: 5626\n"
     ]
    },
    {
     "name": "stderr",
     "output_type": "stream",
     "text": [
      "\n",
      "\n",
      "  0%|          | 0/15 [00:00<?, ?it/s]\u001b[A\u001b[A"
     ]
    },
    {
     "name": "stdout",
     "output_type": "stream",
     "text": [
      "Number of synthetic images: 500\n"
     ]
    },
    {
     "name": "stderr",
     "output_type": "stream",
     "text": [
      " 45%|████▌     | 45001/100001 [1:36:34<96:00:01,  6.28s/it]"
     ]
    },
    {
     "name": "stdout",
     "output_type": "stream",
     "text": [
      "Current fid score: 1.255932364362664\n",
      "Fid scores: [4.9325711711390205, 2.4436189539080466, 2.836768048488924, 2.7970490892296382, 3.1710357984691626, 3.3000315606457526, 2.70047286994032, 2.1638209867365674, 2.0204577684506617, 1.3914490073477666, 1.4400591510301268, 1.510807629476865, 2.258796488262803, 1.7612340626121643, 1.7264875375261077, 1.2524196801674918, 1.3446567610169673, 1.6110663800617644, 1.1499442444251073, 1.1722391359154116, 1.7200074762966437, 2.156615950015553, 1.3325966607336674, 0.8853521448197945, 1.0566829426710669, 1.2350619895546657, 1.0571616917674866, 1.370510241710825, 1.5065921467893446, 1.6719117315531875, 1.909778493483067, 1.7204413818191568, 1.5624610984128573, 1.0753806585584016, 1.3278843704483485, 1.3533378755873358, 1.8988524337341843, 1.311208359333218, 1.315135188974292, 1.6493025123445122, 1.2255098483436484, 1.1651169222250104, 0.8573076997493629, 0.729450667331303, 0.7234077685869522, 1.255932364362664]\n"
     ]
    },
    {
     "name": "stderr",
     "output_type": "stream",
     "text": [
      "  0%|          | 0/175 [00:18<?, ?it/s]1:38:04,  9.33it/s] \n",
      "  0%|          | 0/15 [00:09<?, ?it/s]\n",
      " 45%|████▌     | 45101/100001 [1:36:45<1:43:07,  8.87it/s]"
     ]
    },
    {
     "name": "stdout",
     "output_type": "stream",
     "text": [
      "GAN: loss d: 3.87438    loss g: -1.71638\n"
     ]
    },
    {
     "name": "stderr",
     "output_type": "stream",
     "text": [
      " 45%|████▌     | 45201/100001 [1:36:56<1:40:09,  9.12it/s]"
     ]
    },
    {
     "name": "stdout",
     "output_type": "stream",
     "text": [
      "GAN: loss d: 2.11442    loss g: -2.04221\n"
     ]
    },
    {
     "name": "stderr",
     "output_type": "stream",
     "text": [
      " 45%|████▌     | 45301/100001 [1:37:06<1:44:13,  8.75it/s]"
     ]
    },
    {
     "name": "stdout",
     "output_type": "stream",
     "text": [
      "GAN: loss d: 5.58689    loss g: -1.62493\n"
     ]
    },
    {
     "name": "stderr",
     "output_type": "stream",
     "text": [
      " 45%|████▌     | 45401/100001 [1:37:17<1:42:41,  8.86it/s]"
     ]
    },
    {
     "name": "stdout",
     "output_type": "stream",
     "text": [
      "GAN: loss d: 1.94205    loss g: -3.11918\n"
     ]
    },
    {
     "name": "stderr",
     "output_type": "stream",
     "text": [
      " 46%|████▌     | 45501/100001 [1:37:28<1:40:12,  9.06it/s]"
     ]
    },
    {
     "name": "stdout",
     "output_type": "stream",
     "text": [
      "GAN: loss d: 2.67384    loss g: -3.26237\n"
     ]
    },
    {
     "name": "stderr",
     "output_type": "stream",
     "text": [
      " 46%|████▌     | 45601/100001 [1:37:38<1:42:56,  8.81it/s]"
     ]
    },
    {
     "name": "stdout",
     "output_type": "stream",
     "text": [
      "GAN: loss d: 2.30222    loss g: -2.73295\n"
     ]
    },
    {
     "name": "stderr",
     "output_type": "stream",
     "text": [
      " 46%|████▌     | 45703/100001 [1:37:49<1:34:43,  9.55it/s]"
     ]
    },
    {
     "name": "stdout",
     "output_type": "stream",
     "text": [
      "GAN: loss d: 3.12415    loss g: -3.31763\n"
     ]
    },
    {
     "name": "stderr",
     "output_type": "stream",
     "text": [
      " 46%|████▌     | 45801/100001 [1:38:00<1:40:31,  8.99it/s]"
     ]
    },
    {
     "name": "stdout",
     "output_type": "stream",
     "text": [
      "GAN: loss d: 3.75545    loss g: -4.41861\n"
     ]
    },
    {
     "name": "stderr",
     "output_type": "stream",
     "text": [
      " 46%|████▌     | 45901/100001 [1:38:11<1:38:39,  9.14it/s]"
     ]
    },
    {
     "name": "stdout",
     "output_type": "stream",
     "text": [
      "GAN: loss d: 3.98152    loss g: -2.62706\n"
     ]
    },
    {
     "name": "stderr",
     "output_type": "stream",
     "text": [
      " 46%|████▌     | 46000/100001 [1:38:21<1:35:33,  9.42it/s]"
     ]
    },
    {
     "name": "stdout",
     "output_type": "stream",
     "text": [
      "GAN: loss d: 3.13840    loss g: -3.50223\n",
      "saving current model\n"
     ]
    },
    {
     "name": "stderr",
     "output_type": "stream",
     "text": [
      "\n",
      "  0%|          | 0/175 [00:00<?, ?it/s]\u001b[A"
     ]
    },
    {
     "name": "stdout",
     "output_type": "stream",
     "text": [
      "Number of real images: 5626\n"
     ]
    },
    {
     "name": "stderr",
     "output_type": "stream",
     "text": [
      "\n",
      "\n",
      "  0%|          | 0/15 [00:00<?, ?it/s]\u001b[A\u001b[A"
     ]
    },
    {
     "name": "stdout",
     "output_type": "stream",
     "text": [
      "Number of synthetic images: 500\n"
     ]
    },
    {
     "name": "stderr",
     "output_type": "stream",
     "text": [
      " 46%|████▌     | 46002/100001 [1:38:42<66:35:09,  4.44s/it]"
     ]
    },
    {
     "name": "stdout",
     "output_type": "stream",
     "text": [
      "Current fid score: 1.0928023592549607\n",
      "Fid scores: [4.9325711711390205, 2.4436189539080466, 2.836768048488924, 2.7970490892296382, 3.1710357984691626, 3.3000315606457526, 2.70047286994032, 2.1638209867365674, 2.0204577684506617, 1.3914490073477666, 1.4400591510301268, 1.510807629476865, 2.258796488262803, 1.7612340626121643, 1.7264875375261077, 1.2524196801674918, 1.3446567610169673, 1.6110663800617644, 1.1499442444251073, 1.1722391359154116, 1.7200074762966437, 2.156615950015553, 1.3325966607336674, 0.8853521448197945, 1.0566829426710669, 1.2350619895546657, 1.0571616917674866, 1.370510241710825, 1.5065921467893446, 1.6719117315531875, 1.909778493483067, 1.7204413818191568, 1.5624610984128573, 1.0753806585584016, 1.3278843704483485, 1.3533378755873358, 1.8988524337341843, 1.311208359333218, 1.315135188974292, 1.6493025123445122, 1.2255098483436484, 1.1651169222250104, 0.8573076997493629, 0.729450667331303, 0.7234077685869522, 1.255932364362664, 1.0928023592549607]\n"
     ]
    },
    {
     "name": "stderr",
     "output_type": "stream",
     "text": [
      "  0%|          | 0/175 [00:15<?, ?it/s]1:35:51,  9.38it/s] \n",
      "  0%|          | 0/15 [00:06<?, ?it/s]\n",
      " 46%|████▌     | 46101/100001 [1:38:53<1:41:12,  8.88it/s]"
     ]
    },
    {
     "name": "stdout",
     "output_type": "stream",
     "text": [
      "GAN: loss d: 3.88345    loss g: -2.41285\n"
     ]
    },
    {
     "name": "stderr",
     "output_type": "stream",
     "text": [
      " 46%|████▌     | 46203/100001 [1:39:04<1:34:24,  9.50it/s]"
     ]
    },
    {
     "name": "stdout",
     "output_type": "stream",
     "text": [
      "GAN: loss d: 4.85148    loss g: -2.67090\n"
     ]
    },
    {
     "name": "stderr",
     "output_type": "stream",
     "text": [
      " 46%|████▋     | 46303/100001 [1:39:14<1:35:01,  9.42it/s]"
     ]
    },
    {
     "name": "stdout",
     "output_type": "stream",
     "text": [
      "GAN: loss d: 4.85223    loss g: -3.70353\n"
     ]
    },
    {
     "name": "stderr",
     "output_type": "stream",
     "text": [
      " 46%|████▋     | 46401/100001 [1:39:25<1:40:00,  8.93it/s]"
     ]
    },
    {
     "name": "stdout",
     "output_type": "stream",
     "text": [
      "GAN: loss d: 5.05939    loss g: -3.96589\n"
     ]
    },
    {
     "name": "stderr",
     "output_type": "stream",
     "text": [
      " 47%|████▋     | 46502/100001 [1:39:36<1:35:37,  9.32it/s]"
     ]
    },
    {
     "name": "stdout",
     "output_type": "stream",
     "text": [
      "GAN: loss d: 2.53743    loss g: -2.89687\n"
     ]
    },
    {
     "name": "stderr",
     "output_type": "stream",
     "text": [
      " 47%|████▋     | 46601/100001 [1:39:46<1:39:07,  8.98it/s]"
     ]
    },
    {
     "name": "stdout",
     "output_type": "stream",
     "text": [
      "GAN: loss d: 4.00942    loss g: -2.56063\n"
     ]
    },
    {
     "name": "stderr",
     "output_type": "stream",
     "text": [
      " 47%|████▋     | 46701/100001 [1:39:57<1:40:31,  8.84it/s]"
     ]
    },
    {
     "name": "stdout",
     "output_type": "stream",
     "text": [
      "GAN: loss d: 4.09818    loss g: -2.94198\n"
     ]
    },
    {
     "name": "stderr",
     "output_type": "stream",
     "text": [
      " 47%|████▋     | 46803/100001 [1:40:08<1:33:30,  9.48it/s]"
     ]
    },
    {
     "name": "stdout",
     "output_type": "stream",
     "text": [
      "GAN: loss d: 3.08636    loss g: -3.13884\n"
     ]
    },
    {
     "name": "stderr",
     "output_type": "stream",
     "text": [
      " 47%|████▋     | 46901/100001 [1:40:19<1:38:23,  9.00it/s]"
     ]
    },
    {
     "name": "stdout",
     "output_type": "stream",
     "text": [
      "GAN: loss d: 5.02149    loss g: -2.09413\n"
     ]
    },
    {
     "name": "stderr",
     "output_type": "stream",
     "text": [
      " 47%|████▋     | 47000/100001 [1:40:29<1:34:07,  9.38it/s]"
     ]
    },
    {
     "name": "stdout",
     "output_type": "stream",
     "text": [
      "GAN: loss d: 2.98507    loss g: -1.97151\n",
      "saving current model\n"
     ]
    },
    {
     "name": "stderr",
     "output_type": "stream",
     "text": [
      "\n",
      "  0%|          | 0/175 [00:00<?, ?it/s]\u001b[A"
     ]
    },
    {
     "name": "stdout",
     "output_type": "stream",
     "text": [
      "Number of real images: 5626\n"
     ]
    },
    {
     "name": "stderr",
     "output_type": "stream",
     "text": [
      "\n",
      "\n",
      "  0%|          | 0/15 [00:00<?, ?it/s]\u001b[A\u001b[A"
     ]
    },
    {
     "name": "stdout",
     "output_type": "stream",
     "text": [
      "Number of synthetic images: 500\n"
     ]
    },
    {
     "name": "stderr",
     "output_type": "stream",
     "text": [
      "  0%|          | 0/175 [00:09<?, ?it/s]\n",
      "  0%|          | 0/15 [00:00<?, ?it/s]"
     ]
    },
    {
     "name": "stdout",
     "output_type": "stream",
     "text": [
      "Current fid score: 0.7040761586618522\n",
      "Fid scores: [4.9325711711390205, 2.4436189539080466, 2.836768048488924, 2.7970490892296382, 3.1710357984691626, 3.3000315606457526, 2.70047286994032, 2.1638209867365674, 2.0204577684506617, 1.3914490073477666, 1.4400591510301268, 1.510807629476865, 2.258796488262803, 1.7612340626121643, 1.7264875375261077, 1.2524196801674918, 1.3446567610169673, 1.6110663800617644, 1.1499442444251073, 1.1722391359154116, 1.7200074762966437, 2.156615950015553, 1.3325966607336674, 0.8853521448197945, 1.0566829426710669, 1.2350619895546657, 1.0571616917674866, 1.370510241710825, 1.5065921467893446, 1.6719117315531875, 1.909778493483067, 1.7204413818191568, 1.5624610984128573, 1.0753806585584016, 1.3278843704483485, 1.3533378755873358, 1.8988524337341843, 1.311208359333218, 1.315135188974292, 1.6493025123445122, 1.2255098483436484, 1.1651169222250104, 0.8573076997493629, 0.729450667331303, 0.7234077685869522, 1.255932364362664, 1.0928023592549607, 0.7040761586618522]\n",
      "New min fid score: 0.704076158662\n",
      "Saving best model\n"
     ]
    },
    {
     "name": "stderr",
     "output_type": "stream",
     "text": [
      "\n",
      " 47%|████▋     | 47101/100001 [1:41:04<1:38:29,  8.95it/s]  "
     ]
    },
    {
     "name": "stdout",
     "output_type": "stream",
     "text": [
      "GAN: loss d: 4.53945    loss g: -2.05012\n"
     ]
    },
    {
     "name": "stderr",
     "output_type": "stream",
     "text": [
      " 47%|████▋     | 47201/100001 [1:41:14<1:36:49,  9.09it/s]"
     ]
    },
    {
     "name": "stdout",
     "output_type": "stream",
     "text": [
      "GAN: loss d: 2.55433    loss g: -3.51753\n"
     ]
    },
    {
     "name": "stderr",
     "output_type": "stream",
     "text": [
      " 47%|████▋     | 47301/100001 [1:41:25<1:38:33,  8.91it/s]"
     ]
    },
    {
     "name": "stdout",
     "output_type": "stream",
     "text": [
      "GAN: loss d: 1.30980    loss g: -2.54926\n"
     ]
    },
    {
     "name": "stderr",
     "output_type": "stream",
     "text": [
      " 47%|████▋     | 47401/100001 [1:41:36<1:37:51,  8.96it/s]"
     ]
    },
    {
     "name": "stdout",
     "output_type": "stream",
     "text": [
      "GAN: loss d: 2.03962    loss g: -1.75897\n"
     ]
    },
    {
     "name": "stderr",
     "output_type": "stream",
     "text": [
      " 48%|████▊     | 47502/100001 [1:41:47<1:35:46,  9.14it/s]"
     ]
    },
    {
     "name": "stdout",
     "output_type": "stream",
     "text": [
      "GAN: loss d: 5.01392    loss g: -1.81321\n"
     ]
    },
    {
     "name": "stderr",
     "output_type": "stream",
     "text": [
      " 48%|████▊     | 47601/100001 [1:41:57<1:37:27,  8.96it/s]"
     ]
    },
    {
     "name": "stdout",
     "output_type": "stream",
     "text": [
      "GAN: loss d: 2.32171    loss g: -2.61958\n"
     ]
    },
    {
     "name": "stderr",
     "output_type": "stream",
     "text": [
      " 48%|████▊     | 47701/100001 [1:42:08<1:35:14,  9.15it/s]"
     ]
    },
    {
     "name": "stdout",
     "output_type": "stream",
     "text": [
      "GAN: loss d: 1.34997    loss g: -2.11288\n"
     ]
    },
    {
     "name": "stderr",
     "output_type": "stream",
     "text": [
      " 48%|████▊     | 47801/100001 [1:42:19<1:35:59,  9.06it/s]"
     ]
    },
    {
     "name": "stdout",
     "output_type": "stream",
     "text": [
      "GAN: loss d: 1.54083    loss g: -3.19004\n"
     ]
    },
    {
     "name": "stderr",
     "output_type": "stream",
     "text": [
      " 48%|████▊     | 47903/100001 [1:42:29<1:31:58,  9.44it/s]"
     ]
    },
    {
     "name": "stdout",
     "output_type": "stream",
     "text": [
      "GAN: loss d: 2.34926    loss g: -2.80013\n"
     ]
    },
    {
     "name": "stderr",
     "output_type": "stream",
     "text": [
      " 48%|████▊     | 48000/100001 [1:42:40<1:31:42,  9.45it/s]"
     ]
    },
    {
     "name": "stdout",
     "output_type": "stream",
     "text": [
      "GAN: loss d: 2.27835    loss g: -3.06728\n",
      "saving current model\n"
     ]
    },
    {
     "name": "stderr",
     "output_type": "stream",
     "text": [
      "\n",
      "  0%|          | 0/175 [00:00<?, ?it/s]\u001b[A"
     ]
    },
    {
     "name": "stdout",
     "output_type": "stream",
     "text": [
      "Number of real images: 5626\n"
     ]
    },
    {
     "name": "stderr",
     "output_type": "stream",
     "text": [
      "\n",
      "\n",
      "  0%|          | 0/15 [00:00<?, ?it/s]\u001b[A\u001b[A"
     ]
    },
    {
     "name": "stdout",
     "output_type": "stream",
     "text": [
      "Number of synthetic images: 500\n"
     ]
    },
    {
     "name": "stderr",
     "output_type": "stream",
     "text": [
      " 48%|████▊     | 48001/100001 [1:43:00<89:27:29,  6.19s/it]"
     ]
    },
    {
     "name": "stdout",
     "output_type": "stream",
     "text": [
      "Current fid score: 0.9959458987264469\n",
      "Fid scores: [4.9325711711390205, 2.4436189539080466, 2.836768048488924, 2.7970490892296382, 3.1710357984691626, 3.3000315606457526, 2.70047286994032, 2.1638209867365674, 2.0204577684506617, 1.3914490073477666, 1.4400591510301268, 1.510807629476865, 2.258796488262803, 1.7612340626121643, 1.7264875375261077, 1.2524196801674918, 1.3446567610169673, 1.6110663800617644, 1.1499442444251073, 1.1722391359154116, 1.7200074762966437, 2.156615950015553, 1.3325966607336674, 0.8853521448197945, 1.0566829426710669, 1.2350619895546657, 1.0571616917674866, 1.370510241710825, 1.5065921467893446, 1.6719117315531875, 1.909778493483067, 1.7204413818191568, 1.5624610984128573, 1.0753806585584016, 1.3278843704483485, 1.3533378755873358, 1.8988524337341843, 1.311208359333218, 1.315135188974292, 1.6493025123445122, 1.2255098483436484, 1.1651169222250104, 0.8573076997493629, 0.729450667331303, 0.7234077685869522, 1.255932364362664, 1.0928023592549607, 0.7040761586618522, 0.9959458987264469]\n"
     ]
    },
    {
     "name": "stderr",
     "output_type": "stream",
     "text": [
      "  0%|          | 0/175 [00:19<?, ?it/s]1:33:16,  9.27it/s] \n",
      "  0%|          | 0/15 [00:10<?, ?it/s]\n",
      " 48%|████▊     | 48101/100001 [1:43:11<1:34:52,  9.12it/s]"
     ]
    },
    {
     "name": "stdout",
     "output_type": "stream",
     "text": [
      "GAN: loss d: 3.38981    loss g: -2.84726\n"
     ]
    },
    {
     "name": "stderr",
     "output_type": "stream",
     "text": [
      " 48%|████▊     | 48201/100001 [1:43:22<1:35:17,  9.06it/s]"
     ]
    },
    {
     "name": "stdout",
     "output_type": "stream",
     "text": [
      "GAN: loss d: 2.91445    loss g: -2.83064\n"
     ]
    },
    {
     "name": "stderr",
     "output_type": "stream",
     "text": [
      " 48%|████▊     | 48301/100001 [1:43:32<1:36:24,  8.94it/s]"
     ]
    },
    {
     "name": "stdout",
     "output_type": "stream",
     "text": [
      "GAN: loss d: 0.89644    loss g: -3.85656\n"
     ]
    },
    {
     "name": "stderr",
     "output_type": "stream",
     "text": [
      " 48%|████▊     | 48401/100001 [1:43:43<1:34:39,  9.09it/s]"
     ]
    },
    {
     "name": "stdout",
     "output_type": "stream",
     "text": [
      "GAN: loss d: 3.86852    loss g: -2.03840\n"
     ]
    },
    {
     "name": "stderr",
     "output_type": "stream",
     "text": [
      " 49%|████▊     | 48503/100001 [1:43:54<1:29:32,  9.58it/s]"
     ]
    },
    {
     "name": "stdout",
     "output_type": "stream",
     "text": [
      "GAN: loss d: 3.81917    loss g: -3.26800\n"
     ]
    },
    {
     "name": "stderr",
     "output_type": "stream",
     "text": [
      " 49%|████▊     | 48601/100001 [1:44:05<1:34:46,  9.04it/s]"
     ]
    },
    {
     "name": "stdout",
     "output_type": "stream",
     "text": [
      "GAN: loss d: 2.04999    loss g: -2.34668\n"
     ]
    },
    {
     "name": "stderr",
     "output_type": "stream",
     "text": [
      " 49%|████▊     | 48701/100001 [1:44:15<1:33:24,  9.15it/s]"
     ]
    },
    {
     "name": "stdout",
     "output_type": "stream",
     "text": [
      "GAN: loss d: 4.12378    loss g: -1.64221\n"
     ]
    },
    {
     "name": "stderr",
     "output_type": "stream",
     "text": [
      " 49%|████▉     | 48801/100001 [1:44:26<1:34:51,  9.00it/s]"
     ]
    },
    {
     "name": "stdout",
     "output_type": "stream",
     "text": [
      "GAN: loss d: 5.12383    loss g: -1.55947\n"
     ]
    },
    {
     "name": "stderr",
     "output_type": "stream",
     "text": [
      " 49%|████▉     | 48901/100001 [1:44:37<1:33:13,  9.14it/s]"
     ]
    },
    {
     "name": "stdout",
     "output_type": "stream",
     "text": [
      "GAN: loss d: 5.05010    loss g: -3.09975\n"
     ]
    },
    {
     "name": "stderr",
     "output_type": "stream",
     "text": [
      " 49%|████▉     | 49000/100001 [1:44:47<1:31:09,  9.32it/s]"
     ]
    },
    {
     "name": "stdout",
     "output_type": "stream",
     "text": [
      "GAN: loss d: 3.14942    loss g: -2.02068\n",
      "saving current model\n"
     ]
    },
    {
     "name": "stderr",
     "output_type": "stream",
     "text": [
      "\n",
      "  0%|          | 0/175 [00:00<?, ?it/s]\u001b[A"
     ]
    },
    {
     "name": "stdout",
     "output_type": "stream",
     "text": [
      "Number of real images: 5626\n"
     ]
    },
    {
     "name": "stderr",
     "output_type": "stream",
     "text": [
      "\n",
      "\n",
      "  0%|          | 0/15 [00:00<?, ?it/s]\u001b[A\u001b[A"
     ]
    },
    {
     "name": "stdout",
     "output_type": "stream",
     "text": [
      "Number of synthetic images: 500\n"
     ]
    },
    {
     "name": "stderr",
     "output_type": "stream",
     "text": [
      " 49%|████▉     | 49002/100001 [1:45:08<61:59:04,  4.38s/it]"
     ]
    },
    {
     "name": "stdout",
     "output_type": "stream",
     "text": [
      "Current fid score: 1.0384877788784266\n",
      "Fid scores: [4.9325711711390205, 2.4436189539080466, 2.836768048488924, 2.7970490892296382, 3.1710357984691626, 3.3000315606457526, 2.70047286994032, 2.1638209867365674, 2.0204577684506617, 1.3914490073477666, 1.4400591510301268, 1.510807629476865, 2.258796488262803, 1.7612340626121643, 1.7264875375261077, 1.2524196801674918, 1.3446567610169673, 1.6110663800617644, 1.1499442444251073, 1.1722391359154116, 1.7200074762966437, 2.156615950015553, 1.3325966607336674, 0.8853521448197945, 1.0566829426710669, 1.2350619895546657, 1.0571616917674866, 1.370510241710825, 1.5065921467893446, 1.6719117315531875, 1.909778493483067, 1.7204413818191568, 1.5624610984128573, 1.0753806585584016, 1.3278843704483485, 1.3533378755873358, 1.8988524337341843, 1.311208359333218, 1.315135188974292, 1.6493025123445122, 1.2255098483436484, 1.1651169222250104, 0.8573076997493629, 0.729450667331303, 0.7234077685869522, 1.255932364362664, 1.0928023592549607, 0.7040761586618522, 0.9959458987264469, 1.0384877788784266]\n"
     ]
    },
    {
     "name": "stderr",
     "output_type": "stream",
     "text": [
      "  0%|          | 0/175 [00:15<?, ?it/s]1:31:06,  9.32it/s] \n",
      "  0%|          | 0/15 [00:06<?, ?it/s]\n",
      " 49%|████▉     | 49103/100001 [1:45:19<1:29:15,  9.50it/s]"
     ]
    },
    {
     "name": "stdout",
     "output_type": "stream",
     "text": [
      "GAN: loss d: 1.24040    loss g: -2.63590\n"
     ]
    },
    {
     "name": "stderr",
     "output_type": "stream",
     "text": [
      " 49%|████▉     | 49201/100001 [1:45:29<1:34:38,  8.95it/s]"
     ]
    },
    {
     "name": "stdout",
     "output_type": "stream",
     "text": [
      "GAN: loss d: 2.80417    loss g: -2.34717\n"
     ]
    },
    {
     "name": "stderr",
     "output_type": "stream",
     "text": [
      " 49%|████▉     | 49301/100001 [1:45:40<1:32:43,  9.11it/s]"
     ]
    },
    {
     "name": "stdout",
     "output_type": "stream",
     "text": [
      "GAN: loss d: 3.53895    loss g: -3.24696\n"
     ]
    },
    {
     "name": "stderr",
     "output_type": "stream",
     "text": [
      " 49%|████▉     | 49402/100001 [1:45:51<1:30:26,  9.33it/s]"
     ]
    },
    {
     "name": "stdout",
     "output_type": "stream",
     "text": [
      "GAN: loss d: 4.21042    loss g: -2.32683\n"
     ]
    },
    {
     "name": "stderr",
     "output_type": "stream",
     "text": [
      " 50%|████▉     | 49501/100001 [1:46:01<1:33:59,  8.95it/s]"
     ]
    },
    {
     "name": "stdout",
     "output_type": "stream",
     "text": [
      "GAN: loss d: 1.80400    loss g: -4.08585\n"
     ]
    },
    {
     "name": "stderr",
     "output_type": "stream",
     "text": [
      " 50%|████▉     | 49602/100001 [1:46:12<1:32:28,  9.08it/s]"
     ]
    },
    {
     "name": "stdout",
     "output_type": "stream",
     "text": [
      "GAN: loss d: 2.66957    loss g: -2.61682\n"
     ]
    },
    {
     "name": "stderr",
     "output_type": "stream",
     "text": [
      " 50%|████▉     | 49703/100001 [1:46:23<1:28:30,  9.47it/s]"
     ]
    },
    {
     "name": "stdout",
     "output_type": "stream",
     "text": [
      "GAN: loss d: 3.46355    loss g: -2.52849\n"
     ]
    },
    {
     "name": "stderr",
     "output_type": "stream",
     "text": [
      " 50%|████▉     | 49801/100001 [1:46:33<1:32:55,  9.00it/s]"
     ]
    },
    {
     "name": "stdout",
     "output_type": "stream",
     "text": [
      "GAN: loss d: 3.50014    loss g: -2.62452\n"
     ]
    },
    {
     "name": "stderr",
     "output_type": "stream",
     "text": [
      " 50%|████▉     | 49901/100001 [1:46:44<1:32:09,  9.06it/s]"
     ]
    },
    {
     "name": "stdout",
     "output_type": "stream",
     "text": [
      "GAN: loss d: 0.14069    loss g: -1.58158\n"
     ]
    },
    {
     "name": "stderr",
     "output_type": "stream",
     "text": [
      " 50%|████▉     | 50000/100001 [1:46:55<1:27:58,  9.47it/s]"
     ]
    },
    {
     "name": "stdout",
     "output_type": "stream",
     "text": [
      "GAN: loss d: 1.28449    loss g: -2.79388\n",
      "saving current model\n"
     ]
    },
    {
     "name": "stderr",
     "output_type": "stream",
     "text": [
      "\n",
      "  0%|          | 0/175 [00:00<?, ?it/s]\u001b[A"
     ]
    },
    {
     "name": "stdout",
     "output_type": "stream",
     "text": [
      "Number of real images: 5626\n"
     ]
    },
    {
     "name": "stderr",
     "output_type": "stream",
     "text": [
      "\n",
      "\n",
      "  0%|          | 0/15 [00:00<?, ?it/s]\u001b[A\u001b[A"
     ]
    },
    {
     "name": "stdout",
     "output_type": "stream",
     "text": [
      "Number of synthetic images: 500\n"
     ]
    },
    {
     "name": "stderr",
     "output_type": "stream",
     "text": [
      " 50%|█████     | 50001/100001 [1:47:15<86:54:58,  6.26s/it]"
     ]
    },
    {
     "name": "stdout",
     "output_type": "stream",
     "text": [
      "Current fid score: 1.0041953604475395\n",
      "Fid scores: [4.9325711711390205, 2.4436189539080466, 2.836768048488924, 2.7970490892296382, 3.1710357984691626, 3.3000315606457526, 2.70047286994032, 2.1638209867365674, 2.0204577684506617, 1.3914490073477666, 1.4400591510301268, 1.510807629476865, 2.258796488262803, 1.7612340626121643, 1.7264875375261077, 1.2524196801674918, 1.3446567610169673, 1.6110663800617644, 1.1499442444251073, 1.1722391359154116, 1.7200074762966437, 2.156615950015553, 1.3325966607336674, 0.8853521448197945, 1.0566829426710669, 1.2350619895546657, 1.0571616917674866, 1.370510241710825, 1.5065921467893446, 1.6719117315531875, 1.909778493483067, 1.7204413818191568, 1.5624610984128573, 1.0753806585584016, 1.3278843704483485, 1.3533378755873358, 1.8988524337341843, 1.311208359333218, 1.315135188974292, 1.6493025123445122, 1.2255098483436484, 1.1651169222250104, 0.8573076997493629, 0.729450667331303, 0.7234077685869522, 1.255932364362664, 1.0928023592549607, 0.7040761586618522, 0.9959458987264469, 1.0384877788784266, 1.0041953604475395]\n"
     ]
    },
    {
     "name": "stderr",
     "output_type": "stream",
     "text": [
      "  0%|          | 0/175 [00:10<?, ?it/s]11:02:37,  1.26it/s]\n",
      "  0%|          | 0/15 [00:01<?, ?it/s]\n",
      " 50%|█████     | 50101/100001 [1:47:26<1:32:32,  8.99it/s] "
     ]
    },
    {
     "name": "stdout",
     "output_type": "stream",
     "text": [
      "GAN: loss d: 3.04993    loss g: -3.42943\n"
     ]
    },
    {
     "name": "stderr",
     "output_type": "stream",
     "text": [
      " 50%|█████     | 50201/100001 [1:47:37<1:32:37,  8.96it/s]"
     ]
    },
    {
     "name": "stdout",
     "output_type": "stream",
     "text": [
      "GAN: loss d: 3.88402    loss g: -2.33316\n"
     ]
    },
    {
     "name": "stderr",
     "output_type": "stream",
     "text": [
      " 50%|█████     | 50301/100001 [1:47:47<1:32:14,  8.98it/s]"
     ]
    },
    {
     "name": "stdout",
     "output_type": "stream",
     "text": [
      "GAN: loss d: 3.51050    loss g: -3.82181\n"
     ]
    },
    {
     "name": "stderr",
     "output_type": "stream",
     "text": [
      " 50%|█████     | 50401/100001 [1:47:58<1:32:16,  8.96it/s]"
     ]
    },
    {
     "name": "stdout",
     "output_type": "stream",
     "text": [
      "GAN: loss d: 5.61383    loss g: -3.35981\n"
     ]
    },
    {
     "name": "stderr",
     "output_type": "stream",
     "text": [
      " 51%|█████     | 50501/100001 [1:48:09<1:30:34,  9.11it/s]"
     ]
    },
    {
     "name": "stdout",
     "output_type": "stream",
     "text": [
      "GAN: loss d: 4.99367    loss g: -1.79190\n"
     ]
    },
    {
     "name": "stderr",
     "output_type": "stream",
     "text": [
      " 51%|█████     | 50601/100001 [1:48:20<1:31:30,  9.00it/s]"
     ]
    },
    {
     "name": "stdout",
     "output_type": "stream",
     "text": [
      "GAN: loss d: 4.58303    loss g: -2.24576\n"
     ]
    },
    {
     "name": "stderr",
     "output_type": "stream",
     "text": [
      " 51%|█████     | 50703/100001 [1:48:30<1:25:44,  9.58it/s]"
     ]
    },
    {
     "name": "stdout",
     "output_type": "stream",
     "text": [
      "GAN: loss d: 2.17286    loss g: -1.47811\n"
     ]
    },
    {
     "name": "stderr",
     "output_type": "stream",
     "text": [
      " 51%|█████     | 50801/100001 [1:48:41<1:31:50,  8.93it/s]"
     ]
    },
    {
     "name": "stdout",
     "output_type": "stream",
     "text": [
      "GAN: loss d: 5.51973    loss g: -2.18755\n"
     ]
    },
    {
     "name": "stderr",
     "output_type": "stream",
     "text": [
      " 51%|█████     | 50901/100001 [1:48:52<1:31:21,  8.96it/s]"
     ]
    },
    {
     "name": "stdout",
     "output_type": "stream",
     "text": [
      "GAN: loss d: 1.65701    loss g: -2.83853\n"
     ]
    },
    {
     "name": "stderr",
     "output_type": "stream",
     "text": [
      " 51%|█████     | 51000/100001 [1:49:02<1:27:10,  9.37it/s]"
     ]
    },
    {
     "name": "stdout",
     "output_type": "stream",
     "text": [
      "GAN: loss d: 1.97013    loss g: -4.24411\n",
      "saving current model\n"
     ]
    },
    {
     "name": "stderr",
     "output_type": "stream",
     "text": [
      "\n",
      "  0%|          | 0/175 [00:00<?, ?it/s]\u001b[A"
     ]
    },
    {
     "name": "stdout",
     "output_type": "stream",
     "text": [
      "Number of real images: 5626\n"
     ]
    },
    {
     "name": "stderr",
     "output_type": "stream",
     "text": [
      "\n",
      "\n",
      "  0%|          | 0/15 [00:00<?, ?it/s]\u001b[A\u001b[A"
     ]
    },
    {
     "name": "stdout",
     "output_type": "stream",
     "text": [
      "Number of synthetic images: 500\n"
     ]
    },
    {
     "name": "stderr",
     "output_type": "stream",
     "text": [
      " 51%|█████     | 51001/100001 [1:49:23<86:34:24,  6.36s/it]"
     ]
    },
    {
     "name": "stdout",
     "output_type": "stream",
     "text": [
      "Current fid score: 1.0275497493719996\n",
      "Fid scores: [4.9325711711390205, 2.4436189539080466, 2.836768048488924, 2.7970490892296382, 3.1710357984691626, 3.3000315606457526, 2.70047286994032, 2.1638209867365674, 2.0204577684506617, 1.3914490073477666, 1.4400591510301268, 1.510807629476865, 2.258796488262803, 1.7612340626121643, 1.7264875375261077, 1.2524196801674918, 1.3446567610169673, 1.6110663800617644, 1.1499442444251073, 1.1722391359154116, 1.7200074762966437, 2.156615950015553, 1.3325966607336674, 0.8853521448197945, 1.0566829426710669, 1.2350619895546657, 1.0571616917674866, 1.370510241710825, 1.5065921467893446, 1.6719117315531875, 1.909778493483067, 1.7204413818191568, 1.5624610984128573, 1.0753806585584016, 1.3278843704483485, 1.3533378755873358, 1.8988524337341843, 1.311208359333218, 1.315135188974292, 1.6493025123445122, 1.2255098483436484, 1.1651169222250104, 0.8573076997493629, 0.729450667331303, 0.7234077685869522, 1.255932364362664, 1.0928023592549607, 0.7040761586618522, 0.9959458987264469, 1.0384877788784266, 1.0041953604475395, 1.0275497493719996]\n"
     ]
    },
    {
     "name": "stderr",
     "output_type": "stream",
     "text": [
      "  0%|          | 0/175 [00:10<?, ?it/s]3:48:18,  3.58it/s] \n",
      "  0%|          | 0/15 [00:02<?, ?it/s]\n",
      " 51%|█████     | 51101/100001 [1:49:34<1:29:29,  9.11it/s]"
     ]
    },
    {
     "name": "stdout",
     "output_type": "stream",
     "text": [
      "GAN: loss d: 5.74182    loss g: -2.72941\n"
     ]
    },
    {
     "name": "stderr",
     "output_type": "stream",
     "text": [
      " 51%|█████     | 51201/100001 [1:49:45<1:30:48,  8.96it/s]"
     ]
    },
    {
     "name": "stdout",
     "output_type": "stream",
     "text": [
      "GAN: loss d: 1.24374    loss g: -1.94692\n"
     ]
    },
    {
     "name": "stderr",
     "output_type": "stream",
     "text": [
      " 51%|█████▏    | 51303/100001 [1:49:55<1:25:33,  9.49it/s]"
     ]
    },
    {
     "name": "stdout",
     "output_type": "stream",
     "text": [
      "GAN: loss d: 2.66151    loss g: -3.20278\n"
     ]
    },
    {
     "name": "stderr",
     "output_type": "stream",
     "text": [
      " 51%|█████▏    | 51401/100001 [1:50:06<1:30:49,  8.92it/s]"
     ]
    },
    {
     "name": "stdout",
     "output_type": "stream",
     "text": [
      "GAN: loss d: 2.09520    loss g: -3.12502\n"
     ]
    },
    {
     "name": "stderr",
     "output_type": "stream",
     "text": [
      " 52%|█████▏    | 51502/100001 [1:50:17<1:28:51,  9.10it/s]"
     ]
    },
    {
     "name": "stdout",
     "output_type": "stream",
     "text": [
      "GAN: loss d: 0.35592    loss g: -2.37639\n"
     ]
    },
    {
     "name": "stderr",
     "output_type": "stream",
     "text": [
      " 52%|█████▏    | 51601/100001 [1:50:27<1:29:02,  9.06it/s]"
     ]
    },
    {
     "name": "stdout",
     "output_type": "stream",
     "text": [
      "GAN: loss d: 1.43699    loss g: -1.64542\n"
     ]
    },
    {
     "name": "stderr",
     "output_type": "stream",
     "text": [
      " 52%|█████▏    | 51701/100001 [1:50:38<1:33:15,  8.63it/s]"
     ]
    },
    {
     "name": "stdout",
     "output_type": "stream",
     "text": [
      "GAN: loss d: 1.41360    loss g: -2.47852\n"
     ]
    },
    {
     "name": "stderr",
     "output_type": "stream",
     "text": [
      " 52%|█████▏    | 51801/100001 [1:50:49<1:29:56,  8.93it/s]"
     ]
    },
    {
     "name": "stdout",
     "output_type": "stream",
     "text": [
      "GAN: loss d: 5.21411    loss g: -2.68580\n"
     ]
    },
    {
     "name": "stderr",
     "output_type": "stream",
     "text": [
      " 52%|█████▏    | 51901/100001 [1:51:00<1:28:36,  9.05it/s]"
     ]
    },
    {
     "name": "stdout",
     "output_type": "stream",
     "text": [
      "GAN: loss d: 2.97095    loss g: -1.20607\n"
     ]
    },
    {
     "name": "stderr",
     "output_type": "stream",
     "text": [
      " 52%|█████▏    | 52000/100001 [1:51:10<1:24:58,  9.41it/s]"
     ]
    },
    {
     "name": "stdout",
     "output_type": "stream",
     "text": [
      "GAN: loss d: 4.30906    loss g: -3.38824\n",
      "saving current model\n"
     ]
    },
    {
     "name": "stderr",
     "output_type": "stream",
     "text": [
      "\n",
      "  0%|          | 0/175 [00:00<?, ?it/s]\u001b[A"
     ]
    },
    {
     "name": "stdout",
     "output_type": "stream",
     "text": [
      "Number of real images: 5626\n"
     ]
    },
    {
     "name": "stderr",
     "output_type": "stream",
     "text": [
      "\n",
      "\n",
      "  0%|          | 0/15 [00:00<?, ?it/s]\u001b[A\u001b[A"
     ]
    },
    {
     "name": "stdout",
     "output_type": "stream",
     "text": [
      "Number of synthetic images: 500\n"
     ]
    },
    {
     "name": "stderr",
     "output_type": "stream",
     "text": [
      " 52%|█████▏    | 52001/100001 [1:51:31<83:45:35,  6.28s/it]"
     ]
    },
    {
     "name": "stdout",
     "output_type": "stream",
     "text": [
      "Current fid score: 0.9626051752721381\n",
      "Fid scores: [4.9325711711390205, 2.4436189539080466, 2.836768048488924, 2.7970490892296382, 3.1710357984691626, 3.3000315606457526, 2.70047286994032, 2.1638209867365674, 2.0204577684506617, 1.3914490073477666, 1.4400591510301268, 1.510807629476865, 2.258796488262803, 1.7612340626121643, 1.7264875375261077, 1.2524196801674918, 1.3446567610169673, 1.6110663800617644, 1.1499442444251073, 1.1722391359154116, 1.7200074762966437, 2.156615950015553, 1.3325966607336674, 0.8853521448197945, 1.0566829426710669, 1.2350619895546657, 1.0571616917674866, 1.370510241710825, 1.5065921467893446, 1.6719117315531875, 1.909778493483067, 1.7204413818191568, 1.5624610984128573, 1.0753806585584016, 1.3278843704483485, 1.3533378755873358, 1.8988524337341843, 1.311208359333218, 1.315135188974292, 1.6493025123445122, 1.2255098483436484, 1.1651169222250104, 0.8573076997493629, 0.729450667331303, 0.7234077685869522, 1.255932364362664, 1.0928023592549607, 0.7040761586618522, 0.9959458987264469, 1.0384877788784266, 1.0041953604475395, 1.0275497493719996, 0.9626051752721381]\n"
     ]
    },
    {
     "name": "stderr",
     "output_type": "stream",
     "text": [
      "  0%|          | 0/175 [00:15<?, ?it/s]1:26:00,  9.29it/s] \n",
      "  0%|          | 0/15 [00:07<?, ?it/s]\n",
      " 52%|█████▏    | 52102/100001 [1:51:42<1:26:49,  9.19it/s]"
     ]
    },
    {
     "name": "stdout",
     "output_type": "stream",
     "text": [
      "GAN: loss d: 4.04603    loss g: -2.35704\n"
     ]
    },
    {
     "name": "stderr",
     "output_type": "stream",
     "text": [
      " 52%|█████▏    | 52201/100001 [1:51:52<1:27:47,  9.07it/s]"
     ]
    },
    {
     "name": "stdout",
     "output_type": "stream",
     "text": [
      "GAN: loss d: 1.91024    loss g: -2.00015\n"
     ]
    },
    {
     "name": "stderr",
     "output_type": "stream",
     "text": [
      " 52%|█████▏    | 52301/100001 [1:52:03<1:28:47,  8.95it/s]"
     ]
    },
    {
     "name": "stdout",
     "output_type": "stream",
     "text": [
      "GAN: loss d: 1.74281    loss g: -1.76843\n"
     ]
    },
    {
     "name": "stderr",
     "output_type": "stream",
     "text": [
      " 52%|█████▏    | 52401/100001 [1:52:14<1:29:04,  8.91it/s]"
     ]
    },
    {
     "name": "stdout",
     "output_type": "stream",
     "text": [
      "GAN: loss d: 4.46174    loss g: -3.12210\n"
     ]
    },
    {
     "name": "stderr",
     "output_type": "stream",
     "text": [
      " 53%|█████▎    | 52501/100001 [1:52:25<1:29:37,  8.83it/s]"
     ]
    },
    {
     "name": "stdout",
     "output_type": "stream",
     "text": [
      "GAN: loss d: 3.11910    loss g: -2.32070\n"
     ]
    },
    {
     "name": "stderr",
     "output_type": "stream",
     "text": [
      " 53%|█████▎    | 52601/100001 [1:52:35<1:28:03,  8.97it/s]"
     ]
    },
    {
     "name": "stdout",
     "output_type": "stream",
     "text": [
      "GAN: loss d: 5.12706    loss g: -3.14268\n"
     ]
    },
    {
     "name": "stderr",
     "output_type": "stream",
     "text": [
      " 53%|█████▎    | 52702/100001 [1:52:46<1:26:18,  9.13it/s]"
     ]
    },
    {
     "name": "stdout",
     "output_type": "stream",
     "text": [
      "GAN: loss d: 4.24974    loss g: -2.43347\n"
     ]
    },
    {
     "name": "stderr",
     "output_type": "stream",
     "text": [
      " 53%|█████▎    | 52802/100001 [1:52:57<1:26:11,  9.13it/s]"
     ]
    },
    {
     "name": "stdout",
     "output_type": "stream",
     "text": [
      "GAN: loss d: 1.37367    loss g: -3.24276\n"
     ]
    },
    {
     "name": "stderr",
     "output_type": "stream",
     "text": [
      " 53%|█████▎    | 52901/100001 [1:53:08<1:27:08,  9.01it/s]"
     ]
    },
    {
     "name": "stdout",
     "output_type": "stream",
     "text": [
      "GAN: loss d: 3.40746    loss g: -2.22116\n"
     ]
    },
    {
     "name": "stderr",
     "output_type": "stream",
     "text": [
      " 53%|█████▎    | 53000/100001 [1:53:18<1:24:15,  9.30it/s]"
     ]
    },
    {
     "name": "stdout",
     "output_type": "stream",
     "text": [
      "GAN: loss d: 1.66875    loss g: -3.53626\n",
      "saving current model\n"
     ]
    },
    {
     "name": "stderr",
     "output_type": "stream",
     "text": [
      "\n",
      "  0%|          | 0/175 [00:00<?, ?it/s]\u001b[A"
     ]
    },
    {
     "name": "stdout",
     "output_type": "stream",
     "text": [
      "Number of real images: 5626\n"
     ]
    },
    {
     "name": "stderr",
     "output_type": "stream",
     "text": [
      "\n",
      "\n",
      "  0%|          | 0/15 [00:00<?, ?it/s]\u001b[A\u001b[A"
     ]
    },
    {
     "name": "stdout",
     "output_type": "stream",
     "text": [
      "Number of synthetic images: 500\n"
     ]
    },
    {
     "name": "stderr",
     "output_type": "stream",
     "text": [
      " 53%|█████▎    | 53001/100001 [1:53:39<80:48:34,  6.19s/it]"
     ]
    },
    {
     "name": "stdout",
     "output_type": "stream",
     "text": [
      "Current fid score: 1.1457413635081757\n",
      "Fid scores: [4.9325711711390205, 2.4436189539080466, 2.836768048488924, 2.7970490892296382, 3.1710357984691626, 3.3000315606457526, 2.70047286994032, 2.1638209867365674, 2.0204577684506617, 1.3914490073477666, 1.4400591510301268, 1.510807629476865, 2.258796488262803, 1.7612340626121643, 1.7264875375261077, 1.2524196801674918, 1.3446567610169673, 1.6110663800617644, 1.1499442444251073, 1.1722391359154116, 1.7200074762966437, 2.156615950015553, 1.3325966607336674, 0.8853521448197945, 1.0566829426710669, 1.2350619895546657, 1.0571616917674866, 1.370510241710825, 1.5065921467893446, 1.6719117315531875, 1.909778493483067, 1.7204413818191568, 1.5624610984128573, 1.0753806585584016, 1.3278843704483485, 1.3533378755873358, 1.8988524337341843, 1.311208359333218, 1.315135188974292, 1.6493025123445122, 1.2255098483436484, 1.1651169222250104, 0.8573076997493629, 0.729450667331303, 0.7234077685869522, 1.255932364362664, 1.0928023592549607, 0.7040761586618522, 0.9959458987264469, 1.0384877788784266, 1.0041953604475395, 1.0275497493719996, 0.9626051752721381, 1.1457413635081757]\n"
     ]
    },
    {
     "name": "stderr",
     "output_type": "stream",
     "text": [
      "  0%|          | 0/175 [00:14<?, ?it/s]1:22:59,  9.43it/s] \n",
      "  0%|          | 0/15 [00:05<?, ?it/s]\n",
      " 53%|█████▎    | 53101/100001 [1:53:49<1:28:35,  8.82it/s]"
     ]
    },
    {
     "name": "stdout",
     "output_type": "stream",
     "text": [
      "GAN: loss d: 2.59396    loss g: -2.97515\n"
     ]
    },
    {
     "name": "stderr",
     "output_type": "stream",
     "text": [
      " 53%|█████▎    | 53201/100001 [1:54:00<1:27:29,  8.92it/s]"
     ]
    },
    {
     "name": "stdout",
     "output_type": "stream",
     "text": [
      "GAN: loss d: 0.37726    loss g: -1.45449\n"
     ]
    },
    {
     "name": "stderr",
     "output_type": "stream",
     "text": [
      " 53%|█████▎    | 53303/100001 [1:54:11<1:21:58,  9.49it/s]"
     ]
    },
    {
     "name": "stdout",
     "output_type": "stream",
     "text": [
      "GAN: loss d: 1.90701    loss g: -2.24230\n"
     ]
    },
    {
     "name": "stderr",
     "output_type": "stream",
     "text": [
      " 53%|█████▎    | 53401/100001 [1:54:22<1:26:46,  8.95it/s]"
     ]
    },
    {
     "name": "stdout",
     "output_type": "stream",
     "text": [
      "GAN: loss d: 0.96234    loss g: -3.14316\n"
     ]
    },
    {
     "name": "stderr",
     "output_type": "stream",
     "text": [
      " 54%|█████▎    | 53501/100001 [1:54:32<1:28:00,  8.81it/s]"
     ]
    },
    {
     "name": "stdout",
     "output_type": "stream",
     "text": [
      "GAN: loss d: 2.21145    loss g: -3.54081\n"
     ]
    },
    {
     "name": "stderr",
     "output_type": "stream",
     "text": [
      " 54%|█████▎    | 53601/100001 [1:54:43<1:26:10,  8.97it/s]"
     ]
    },
    {
     "name": "stdout",
     "output_type": "stream",
     "text": [
      "GAN: loss d: 4.81631    loss g: -2.31979\n"
     ]
    },
    {
     "name": "stderr",
     "output_type": "stream",
     "text": [
      " 54%|█████▎    | 53701/100001 [1:54:54<1:26:36,  8.91it/s]"
     ]
    },
    {
     "name": "stdout",
     "output_type": "stream",
     "text": [
      "GAN: loss d: 3.43290    loss g: -2.49513\n"
     ]
    },
    {
     "name": "stderr",
     "output_type": "stream",
     "text": [
      " 54%|█████▍    | 53801/100001 [1:55:05<1:25:52,  8.97it/s]"
     ]
    },
    {
     "name": "stdout",
     "output_type": "stream",
     "text": [
      "GAN: loss d: 4.75864    loss g: -2.49049\n"
     ]
    },
    {
     "name": "stderr",
     "output_type": "stream",
     "text": [
      " 54%|█████▍    | 53903/100001 [1:55:15<1:20:42,  9.52it/s]"
     ]
    },
    {
     "name": "stdout",
     "output_type": "stream",
     "text": [
      "GAN: loss d: 2.42771    loss g: -3.40496\n"
     ]
    },
    {
     "name": "stderr",
     "output_type": "stream",
     "text": [
      " 54%|█████▍    | 54000/100001 [1:55:26<1:22:47,  9.26it/s]"
     ]
    },
    {
     "name": "stdout",
     "output_type": "stream",
     "text": [
      "GAN: loss d: 4.01652    loss g: -2.70205\n",
      "saving current model\n"
     ]
    },
    {
     "name": "stderr",
     "output_type": "stream",
     "text": [
      "\n",
      "  0%|          | 0/175 [00:00<?, ?it/s]\u001b[A"
     ]
    },
    {
     "name": "stdout",
     "output_type": "stream",
     "text": [
      "Number of real images: 5626\n"
     ]
    },
    {
     "name": "stderr",
     "output_type": "stream",
     "text": [
      "\n",
      "\n",
      "  0%|          | 0/15 [00:00<?, ?it/s]\u001b[A\u001b[A"
     ]
    },
    {
     "name": "stdout",
     "output_type": "stream",
     "text": [
      "Number of synthetic images: 500\n"
     ]
    },
    {
     "name": "stderr",
     "output_type": "stream",
     "text": [
      " 54%|█████▍    | 54002/100001 [1:55:47<56:30:23,  4.42s/it]"
     ]
    },
    {
     "name": "stdout",
     "output_type": "stream",
     "text": [
      "Current fid score: 1.0125328386101629\n",
      "Fid scores: [4.9325711711390205, 2.4436189539080466, 2.836768048488924, 2.7970490892296382, 3.1710357984691626, 3.3000315606457526, 2.70047286994032, 2.1638209867365674, 2.0204577684506617, 1.3914490073477666, 1.4400591510301268, 1.510807629476865, 2.258796488262803, 1.7612340626121643, 1.7264875375261077, 1.2524196801674918, 1.3446567610169673, 1.6110663800617644, 1.1499442444251073, 1.1722391359154116, 1.7200074762966437, 2.156615950015553, 1.3325966607336674, 0.8853521448197945, 1.0566829426710669, 1.2350619895546657, 1.0571616917674866, 1.370510241710825, 1.5065921467893446, 1.6719117315531875, 1.909778493483067, 1.7204413818191568, 1.5624610984128573, 1.0753806585584016, 1.3278843704483485, 1.3533378755873358, 1.8988524337341843, 1.311208359333218, 1.315135188974292, 1.6493025123445122, 1.2255098483436484, 1.1651169222250104, 0.8573076997493629, 0.729450667331303, 0.7234077685869522, 1.255932364362664, 1.0928023592549607, 0.7040761586618522, 0.9959458987264469, 1.0384877788784266, 1.0041953604475395, 1.0275497493719996, 0.9626051752721381, 1.1457413635081757, 1.0125328386101629]\n"
     ]
    },
    {
     "name": "stderr",
     "output_type": "stream",
     "text": [
      "  0%|          | 0/175 [00:10<?, ?it/s]4:32:55,  2.81it/s] \n",
      "  0%|          | 0/15 [00:01<?, ?it/s]\n",
      " 54%|█████▍    | 54103/100001 [1:55:57<1:21:04,  9.43it/s]"
     ]
    },
    {
     "name": "stdout",
     "output_type": "stream",
     "text": [
      "GAN: loss d: 4.31737    loss g: -3.00493\n"
     ]
    },
    {
     "name": "stderr",
     "output_type": "stream",
     "text": [
      " 54%|█████▍    | 54201/100001 [1:56:08<1:24:02,  9.08it/s]"
     ]
    },
    {
     "name": "stdout",
     "output_type": "stream",
     "text": [
      "GAN: loss d: 4.20334    loss g: -2.54039\n"
     ]
    },
    {
     "name": "stderr",
     "output_type": "stream",
     "text": [
      " 54%|█████▍    | 54301/100001 [1:56:19<1:24:06,  9.06it/s]"
     ]
    },
    {
     "name": "stdout",
     "output_type": "stream",
     "text": [
      "GAN: loss d: 2.73025    loss g: -2.01325\n"
     ]
    },
    {
     "name": "stderr",
     "output_type": "stream",
     "text": [
      " 54%|█████▍    | 54403/100001 [1:56:30<1:19:15,  9.59it/s]"
     ]
    },
    {
     "name": "stdout",
     "output_type": "stream",
     "text": [
      "GAN: loss d: 2.89834    loss g: -2.61928\n"
     ]
    },
    {
     "name": "stderr",
     "output_type": "stream",
     "text": [
      " 55%|█████▍    | 54501/100001 [1:56:40<1:23:55,  9.04it/s]"
     ]
    },
    {
     "name": "stdout",
     "output_type": "stream",
     "text": [
      "GAN: loss d: 2.33819    loss g: -2.16993\n"
     ]
    },
    {
     "name": "stderr",
     "output_type": "stream",
     "text": [
      " 55%|█████▍    | 54601/100001 [1:56:51<1:23:39,  9.04it/s]"
     ]
    },
    {
     "name": "stdout",
     "output_type": "stream",
     "text": [
      "GAN: loss d: 5.48584    loss g: -2.81181\n"
     ]
    },
    {
     "name": "stderr",
     "output_type": "stream",
     "text": [
      " 55%|█████▍    | 54701/100001 [1:57:01<1:25:26,  8.84it/s]"
     ]
    },
    {
     "name": "stdout",
     "output_type": "stream",
     "text": [
      "GAN: loss d: 1.47283    loss g: -3.50288\n"
     ]
    },
    {
     "name": "stderr",
     "output_type": "stream",
     "text": [
      " 55%|█████▍    | 54801/100001 [1:57:12<1:24:27,  8.92it/s]"
     ]
    },
    {
     "name": "stdout",
     "output_type": "stream",
     "text": [
      "GAN: loss d: 1.97590    loss g: -1.54095\n"
     ]
    },
    {
     "name": "stderr",
     "output_type": "stream",
     "text": [
      " 55%|█████▍    | 54901/100001 [1:57:23<1:24:23,  8.91it/s]"
     ]
    },
    {
     "name": "stdout",
     "output_type": "stream",
     "text": [
      "GAN: loss d: -0.51743    loss g: -2.06969\n"
     ]
    },
    {
     "name": "stderr",
     "output_type": "stream",
     "text": [
      " 55%|█████▍    | 55000/100001 [1:57:34<1:19:52,  9.39it/s]"
     ]
    },
    {
     "name": "stdout",
     "output_type": "stream",
     "text": [
      "GAN: loss d: 3.76220    loss g: -1.96222\n",
      "saving current model\n"
     ]
    },
    {
     "name": "stderr",
     "output_type": "stream",
     "text": [
      "\n",
      "  0%|          | 0/175 [00:00<?, ?it/s]\u001b[A"
     ]
    },
    {
     "name": "stdout",
     "output_type": "stream",
     "text": [
      "Number of real images: 5626\n"
     ]
    },
    {
     "name": "stderr",
     "output_type": "stream",
     "text": [
      "\n",
      "\n",
      "  0%|          | 0/15 [00:00<?, ?it/s]\u001b[A\u001b[A"
     ]
    },
    {
     "name": "stdout",
     "output_type": "stream",
     "text": [
      "Number of synthetic images: 500\n"
     ]
    },
    {
     "name": "stderr",
     "output_type": "stream",
     "text": [
      " 55%|█████▌    | 55002/100001 [1:57:54<55:32:16,  4.44s/it]"
     ]
    },
    {
     "name": "stdout",
     "output_type": "stream",
     "text": [
      "Current fid score: 1.036193935005457\n",
      "Fid scores: [4.9325711711390205, 2.4436189539080466, 2.836768048488924, 2.7970490892296382, 3.1710357984691626, 3.3000315606457526, 2.70047286994032, 2.1638209867365674, 2.0204577684506617, 1.3914490073477666, 1.4400591510301268, 1.510807629476865, 2.258796488262803, 1.7612340626121643, 1.7264875375261077, 1.2524196801674918, 1.3446567610169673, 1.6110663800617644, 1.1499442444251073, 1.1722391359154116, 1.7200074762966437, 2.156615950015553, 1.3325966607336674, 0.8853521448197945, 1.0566829426710669, 1.2350619895546657, 1.0571616917674866, 1.370510241710825, 1.5065921467893446, 1.6719117315531875, 1.909778493483067, 1.7204413818191568, 1.5624610984128573, 1.0753806585584016, 1.3278843704483485, 1.3533378755873358, 1.8988524337341843, 1.311208359333218, 1.315135188974292, 1.6493025123445122, 1.2255098483436484, 1.1651169222250104, 0.8573076997493629, 0.729450667331303, 0.7234077685869522, 1.255932364362664, 1.0928023592549607, 0.7040761586618522, 0.9959458987264469, 1.0384877788784266, 1.0041953604475395, 1.0275497493719996, 0.9626051752721381, 1.1457413635081757, 1.0125328386101629, 1.036193935005457]\n"
     ]
    },
    {
     "name": "stderr",
     "output_type": "stream",
     "text": [
      "  0%|          | 0/175 [00:18<?, ?it/s]1:19:22,  9.43it/s] \n",
      "  0%|          | 0/15 [00:09<?, ?it/s]\n",
      " 55%|█████▌    | 55101/100001 [1:58:05<1:22:41,  9.05it/s]"
     ]
    },
    {
     "name": "stdout",
     "output_type": "stream",
     "text": [
      "GAN: loss d: 2.70388    loss g: -3.08074\n"
     ]
    },
    {
     "name": "stderr",
     "output_type": "stream",
     "text": [
      " 55%|█████▌    | 55201/100001 [1:58:16<1:23:11,  8.98it/s]"
     ]
    },
    {
     "name": "stdout",
     "output_type": "stream",
     "text": [
      "GAN: loss d: 1.06213    loss g: -2.06170\n"
     ]
    },
    {
     "name": "stderr",
     "output_type": "stream",
     "text": [
      " 55%|█████▌    | 55303/100001 [1:58:27<1:18:43,  9.46it/s]"
     ]
    },
    {
     "name": "stdout",
     "output_type": "stream",
     "text": [
      "GAN: loss d: 3.26339    loss g: -2.37622\n"
     ]
    },
    {
     "name": "stderr",
     "output_type": "stream",
     "text": [
      " 55%|█████▌    | 55401/100001 [1:58:37<1:23:40,  8.88it/s]"
     ]
    },
    {
     "name": "stdout",
     "output_type": "stream",
     "text": [
      "GAN: loss d: 4.12147    loss g: -3.11820\n"
     ]
    },
    {
     "name": "stderr",
     "output_type": "stream",
     "text": [
      " 56%|█████▌    | 55501/100001 [1:58:48<1:21:57,  9.05it/s]"
     ]
    },
    {
     "name": "stdout",
     "output_type": "stream",
     "text": [
      "GAN: loss d: 1.49625    loss g: -3.56247\n"
     ]
    },
    {
     "name": "stderr",
     "output_type": "stream",
     "text": [
      " 56%|█████▌    | 55601/100001 [1:58:59<1:21:29,  9.08it/s]"
     ]
    },
    {
     "name": "stdout",
     "output_type": "stream",
     "text": [
      "GAN: loss d: 3.43473    loss g: -2.07808\n"
     ]
    },
    {
     "name": "stderr",
     "output_type": "stream",
     "text": [
      " 56%|█████▌    | 55701/100001 [1:59:09<1:22:43,  8.93it/s]"
     ]
    },
    {
     "name": "stdout",
     "output_type": "stream",
     "text": [
      "GAN: loss d: 5.11587    loss g: -2.32152\n"
     ]
    },
    {
     "name": "stderr",
     "output_type": "stream",
     "text": [
      " 56%|█████▌    | 55803/100001 [1:59:20<1:17:28,  9.51it/s]"
     ]
    },
    {
     "name": "stdout",
     "output_type": "stream",
     "text": [
      "GAN: loss d: 2.63234    loss g: -3.34731\n"
     ]
    },
    {
     "name": "stderr",
     "output_type": "stream",
     "text": [
      " 56%|█████▌    | 55901/100001 [1:59:31<1:22:33,  8.90it/s]"
     ]
    },
    {
     "name": "stdout",
     "output_type": "stream",
     "text": [
      "GAN: loss d: 4.42445    loss g: -3.20455\n"
     ]
    },
    {
     "name": "stderr",
     "output_type": "stream",
     "text": [
      " 56%|█████▌    | 56000/100001 [1:59:42<1:17:53,  9.41it/s]"
     ]
    },
    {
     "name": "stdout",
     "output_type": "stream",
     "text": [
      "GAN: loss d: 1.94150    loss g: -3.14027\n",
      "saving current model\n"
     ]
    },
    {
     "name": "stderr",
     "output_type": "stream",
     "text": [
      "\n",
      "  0%|          | 0/175 [00:00<?, ?it/s]\u001b[A"
     ]
    },
    {
     "name": "stdout",
     "output_type": "stream",
     "text": [
      "Number of real images: 5626\n"
     ]
    },
    {
     "name": "stderr",
     "output_type": "stream",
     "text": [
      "\n",
      "\n",
      "  0%|          | 0/15 [00:00<?, ?it/s]\u001b[A\u001b[A"
     ]
    },
    {
     "name": "stdout",
     "output_type": "stream",
     "text": [
      "Number of synthetic images: 500\n"
     ]
    },
    {
     "name": "stderr",
     "output_type": "stream",
     "text": [
      " 56%|█████▌    | 56001/100001 [2:00:02<76:50:04,  6.29s/it]"
     ]
    },
    {
     "name": "stdout",
     "output_type": "stream",
     "text": [
      "Current fid score: 0.9974276879460966\n",
      "Fid scores: [4.9325711711390205, 2.4436189539080466, 2.836768048488924, 2.7970490892296382, 3.1710357984691626, 3.3000315606457526, 2.70047286994032, 2.1638209867365674, 2.0204577684506617, 1.3914490073477666, 1.4400591510301268, 1.510807629476865, 2.258796488262803, 1.7612340626121643, 1.7264875375261077, 1.2524196801674918, 1.3446567610169673, 1.6110663800617644, 1.1499442444251073, 1.1722391359154116, 1.7200074762966437, 2.156615950015553, 1.3325966607336674, 0.8853521448197945, 1.0566829426710669, 1.2350619895546657, 1.0571616917674866, 1.370510241710825, 1.5065921467893446, 1.6719117315531875, 1.909778493483067, 1.7204413818191568, 1.5624610984128573, 1.0753806585584016, 1.3278843704483485, 1.3533378755873358, 1.8988524337341843, 1.311208359333218, 1.315135188974292, 1.6493025123445122, 1.2255098483436484, 1.1651169222250104, 0.8573076997493629, 0.729450667331303, 0.7234077685869522, 1.255932364362664, 1.0928023592549607, 0.7040761586618522, 0.9959458987264469, 1.0384877788784266, 1.0041953604475395, 1.0275497493719996, 0.9626051752721381, 1.1457413635081757, 1.0125328386101629, 1.036193935005457, 0.9974276879460966]\n"
     ]
    },
    {
     "name": "stderr",
     "output_type": "stream",
     "text": [
      "  0%|          | 0/175 [00:15<?, ?it/s]1:17:53,  9.40it/s] \n",
      "  0%|          | 0/15 [00:06<?, ?it/s]\n",
      " 56%|█████▌    | 56101/100001 [2:00:13<1:21:51,  8.94it/s]"
     ]
    },
    {
     "name": "stdout",
     "output_type": "stream",
     "text": [
      "GAN: loss d: 3.26634    loss g: -2.90534\n"
     ]
    },
    {
     "name": "stderr",
     "output_type": "stream",
     "text": [
      " 56%|█████▌    | 56201/100001 [2:00:24<1:35:16,  7.66it/s]"
     ]
    },
    {
     "name": "stdout",
     "output_type": "stream",
     "text": [
      "GAN: loss d: 2.55931    loss g: -2.14974\n"
     ]
    },
    {
     "name": "stderr",
     "output_type": "stream",
     "text": [
      " 56%|█████▋    | 56301/100001 [2:00:35<1:22:34,  8.82it/s]"
     ]
    },
    {
     "name": "stdout",
     "output_type": "stream",
     "text": [
      "GAN: loss d: 3.40201    loss g: -4.38920\n"
     ]
    },
    {
     "name": "stderr",
     "output_type": "stream",
     "text": [
      " 56%|█████▋    | 56401/100001 [2:00:45<1:20:31,  9.02it/s]"
     ]
    },
    {
     "name": "stdout",
     "output_type": "stream",
     "text": [
      "GAN: loss d: 3.69472    loss g: -3.03110\n"
     ]
    },
    {
     "name": "stderr",
     "output_type": "stream",
     "text": [
      " 57%|█████▋    | 56501/100001 [2:00:56<1:19:56,  9.07it/s]"
     ]
    },
    {
     "name": "stdout",
     "output_type": "stream",
     "text": [
      "GAN: loss d: 5.95771    loss g: -2.68952\n"
     ]
    },
    {
     "name": "stderr",
     "output_type": "stream",
     "text": [
      " 57%|█████▋    | 56601/100001 [2:01:07<1:24:14,  8.59it/s]"
     ]
    },
    {
     "name": "stdout",
     "output_type": "stream",
     "text": [
      "GAN: loss d: 0.84524    loss g: -2.21238\n"
     ]
    },
    {
     "name": "stderr",
     "output_type": "stream",
     "text": [
      " 57%|█████▋    | 56701/100001 [2:01:18<1:29:58,  8.02it/s]"
     ]
    },
    {
     "name": "stdout",
     "output_type": "stream",
     "text": [
      "GAN: loss d: 3.46150    loss g: -2.92252\n"
     ]
    },
    {
     "name": "stderr",
     "output_type": "stream",
     "text": [
      " 57%|█████▋    | 56801/100001 [2:01:28<1:20:38,  8.93it/s]"
     ]
    },
    {
     "name": "stdout",
     "output_type": "stream",
     "text": [
      "GAN: loss d: 6.62659    loss g: -3.16978\n"
     ]
    },
    {
     "name": "stderr",
     "output_type": "stream",
     "text": [
      " 57%|█████▋    | 56901/100001 [2:01:39<1:20:08,  8.96it/s]"
     ]
    },
    {
     "name": "stdout",
     "output_type": "stream",
     "text": [
      "GAN: loss d: 5.02797    loss g: -3.30670\n"
     ]
    },
    {
     "name": "stderr",
     "output_type": "stream",
     "text": [
      " 57%|█████▋    | 57000/100001 [2:01:50<1:17:27,  9.25it/s]"
     ]
    },
    {
     "name": "stdout",
     "output_type": "stream",
     "text": [
      "GAN: loss d: 4.65094    loss g: -3.21475\n",
      "saving current model\n"
     ]
    },
    {
     "name": "stderr",
     "output_type": "stream",
     "text": [
      "\n",
      "  0%|          | 0/175 [00:00<?, ?it/s]\u001b[A"
     ]
    },
    {
     "name": "stdout",
     "output_type": "stream",
     "text": [
      "Number of real images: 5626\n"
     ]
    },
    {
     "name": "stderr",
     "output_type": "stream",
     "text": [
      "\n",
      "\n",
      "  0%|          | 0/15 [00:00<?, ?it/s]\u001b[A\u001b[A"
     ]
    },
    {
     "name": "stdout",
     "output_type": "stream",
     "text": [
      "Number of synthetic images: 500\n"
     ]
    },
    {
     "name": "stderr",
     "output_type": "stream",
     "text": [
      " 57%|█████▋    | 57002/100001 [2:02:10<52:46:03,  4.42s/it]"
     ]
    },
    {
     "name": "stdout",
     "output_type": "stream",
     "text": [
      "Current fid score: 1.1198680116327786\n",
      "Fid scores: [4.9325711711390205, 2.4436189539080466, 2.836768048488924, 2.7970490892296382, 3.1710357984691626, 3.3000315606457526, 2.70047286994032, 2.1638209867365674, 2.0204577684506617, 1.3914490073477666, 1.4400591510301268, 1.510807629476865, 2.258796488262803, 1.7612340626121643, 1.7264875375261077, 1.2524196801674918, 1.3446567610169673, 1.6110663800617644, 1.1499442444251073, 1.1722391359154116, 1.7200074762966437, 2.156615950015553, 1.3325966607336674, 0.8853521448197945, 1.0566829426710669, 1.2350619895546657, 1.0571616917674866, 1.370510241710825, 1.5065921467893446, 1.6719117315531875, 1.909778493483067, 1.7204413818191568, 1.5624610984128573, 1.0753806585584016, 1.3278843704483485, 1.3533378755873358, 1.8988524337341843, 1.311208359333218, 1.315135188974292, 1.6493025123445122, 1.2255098483436484, 1.1651169222250104, 0.8573076997493629, 0.729450667331303, 0.7234077685869522, 1.255932364362664, 1.0928023592549607, 0.7040761586618522, 0.9959458987264469, 1.0384877788784266, 1.0041953604475395, 1.0275497493719996, 0.9626051752721381, 1.1457413635081757, 1.0125328386101629, 1.036193935005457, 0.9974276879460966, 1.1198680116327786]\n"
     ]
    },
    {
     "name": "stderr",
     "output_type": "stream",
     "text": [
      "  0%|          | 0/175 [00:10<?, ?it/s]7:21:27,  1.62it/s] \n",
      "  0%|          | 0/15 [00:01<?, ?it/s]\n",
      " 57%|█████▋    | 57101/100001 [2:02:21<1:19:27,  9.00it/s]"
     ]
    },
    {
     "name": "stdout",
     "output_type": "stream",
     "text": [
      "GAN: loss d: 3.41317    loss g: -3.17907\n"
     ]
    },
    {
     "name": "stderr",
     "output_type": "stream",
     "text": [
      " 57%|█████▋    | 57201/100001 [2:02:32<1:21:14,  8.78it/s]"
     ]
    },
    {
     "name": "stdout",
     "output_type": "stream",
     "text": [
      "GAN: loss d: 1.86546    loss g: -2.04155\n"
     ]
    },
    {
     "name": "stderr",
     "output_type": "stream",
     "text": [
      " 57%|█████▋    | 57301/100001 [2:02:42<1:17:57,  9.13it/s]"
     ]
    },
    {
     "name": "stdout",
     "output_type": "stream",
     "text": [
      "GAN: loss d: 5.23916    loss g: -3.52138\n"
     ]
    },
    {
     "name": "stderr",
     "output_type": "stream",
     "text": [
      " 57%|█████▋    | 57401/100001 [2:02:53<1:18:50,  9.01it/s]"
     ]
    },
    {
     "name": "stdout",
     "output_type": "stream",
     "text": [
      "GAN: loss d: 3.92891    loss g: -2.93084\n"
     ]
    },
    {
     "name": "stderr",
     "output_type": "stream",
     "text": [
      " 58%|█████▊    | 57502/100001 [2:03:04<1:16:55,  9.21it/s]"
     ]
    },
    {
     "name": "stdout",
     "output_type": "stream",
     "text": [
      "GAN: loss d: 4.62136    loss g: -2.13225\n"
     ]
    },
    {
     "name": "stderr",
     "output_type": "stream",
     "text": [
      " 58%|█████▊    | 57601/100001 [2:03:15<1:19:01,  8.94it/s]"
     ]
    },
    {
     "name": "stdout",
     "output_type": "stream",
     "text": [
      "GAN: loss d: 2.13205    loss g: -3.72810\n"
     ]
    },
    {
     "name": "stderr",
     "output_type": "stream",
     "text": [
      " 58%|█████▊    | 57701/100001 [2:03:25<1:17:46,  9.06it/s]"
     ]
    },
    {
     "name": "stdout",
     "output_type": "stream",
     "text": [
      "GAN: loss d: 2.53113    loss g: -2.95231\n"
     ]
    },
    {
     "name": "stderr",
     "output_type": "stream",
     "text": [
      " 58%|█████▊    | 57801/100001 [2:03:36<1:18:22,  8.97it/s]"
     ]
    },
    {
     "name": "stdout",
     "output_type": "stream",
     "text": [
      "GAN: loss d: 4.09701    loss g: -3.42271\n"
     ]
    },
    {
     "name": "stderr",
     "output_type": "stream",
     "text": [
      " 58%|█████▊    | 57901/100001 [2:03:47<1:17:29,  9.05it/s]"
     ]
    },
    {
     "name": "stdout",
     "output_type": "stream",
     "text": [
      "GAN: loss d: 4.23665    loss g: -3.58686\n"
     ]
    },
    {
     "name": "stderr",
     "output_type": "stream",
     "text": [
      " 58%|█████▊    | 58000/100001 [2:03:57<1:13:51,  9.48it/s]"
     ]
    },
    {
     "name": "stdout",
     "output_type": "stream",
     "text": [
      "GAN: loss d: 1.42605    loss g: -1.82626\n",
      "saving current model\n"
     ]
    },
    {
     "name": "stderr",
     "output_type": "stream",
     "text": [
      "\n",
      "  0%|          | 0/175 [00:00<?, ?it/s]\u001b[A"
     ]
    },
    {
     "name": "stdout",
     "output_type": "stream",
     "text": [
      "Number of real images: 5626\n"
     ]
    },
    {
     "name": "stderr",
     "output_type": "stream",
     "text": [
      "\n",
      "\n",
      "  0%|          | 0/15 [00:00<?, ?it/s]\u001b[A\u001b[A"
     ]
    },
    {
     "name": "stdout",
     "output_type": "stream",
     "text": [
      "Number of synthetic images: 500\n"
     ]
    },
    {
     "name": "stderr",
     "output_type": "stream",
     "text": [
      " 58%|█████▊    | 58001/100001 [2:04:18<73:00:57,  6.26s/it]"
     ]
    },
    {
     "name": "stdout",
     "output_type": "stream",
     "text": [
      "Current fid score: 1.0722105710591663\n",
      "Fid scores: [4.9325711711390205, 2.4436189539080466, 2.836768048488924, 2.7970490892296382, 3.1710357984691626, 3.3000315606457526, 2.70047286994032, 2.1638209867365674, 2.0204577684506617, 1.3914490073477666, 1.4400591510301268, 1.510807629476865, 2.258796488262803, 1.7612340626121643, 1.7264875375261077, 1.2524196801674918, 1.3446567610169673, 1.6110663800617644, 1.1499442444251073, 1.1722391359154116, 1.7200074762966437, 2.156615950015553, 1.3325966607336674, 0.8853521448197945, 1.0566829426710669, 1.2350619895546657, 1.0571616917674866, 1.370510241710825, 1.5065921467893446, 1.6719117315531875, 1.909778493483067, 1.7204413818191568, 1.5624610984128573, 1.0753806585584016, 1.3278843704483485, 1.3533378755873358, 1.8988524337341843, 1.311208359333218, 1.315135188974292, 1.6493025123445122, 1.2255098483436484, 1.1651169222250104, 0.8573076997493629, 0.729450667331303, 0.7234077685869522, 1.255932364362664, 1.0928023592549607, 0.7040761586618522, 0.9959458987264469, 1.0384877788784266, 1.0041953604475395, 1.0275497493719996, 0.9626051752721381, 1.1457413635081757, 1.0125328386101629, 1.036193935005457, 0.9974276879460966, 1.1198680116327786, 1.0722105710591663]\n"
     ]
    },
    {
     "name": "stderr",
     "output_type": "stream",
     "text": [
      "  0%|          | 0/175 [00:19<?, ?it/s]1:14:46,  9.34it/s] \n",
      "  0%|          | 0/15 [00:11<?, ?it/s]\n",
      " 58%|█████▊    | 58103/100001 [2:04:29<1:13:16,  9.53it/s]"
     ]
    },
    {
     "name": "stdout",
     "output_type": "stream",
     "text": [
      "GAN: loss d: 4.98987    loss g: -3.03587\n"
     ]
    },
    {
     "name": "stderr",
     "output_type": "stream",
     "text": [
      " 58%|█████▊    | 58201/100001 [2:04:39<1:17:22,  9.00it/s]"
     ]
    },
    {
     "name": "stdout",
     "output_type": "stream",
     "text": [
      "GAN: loss d: 3.86833    loss g: -3.28006\n"
     ]
    },
    {
     "name": "stderr",
     "output_type": "stream",
     "text": [
      " 58%|█████▊    | 58301/100001 [2:04:50<1:32:28,  7.52it/s]"
     ]
    },
    {
     "name": "stdout",
     "output_type": "stream",
     "text": [
      "GAN: loss d: 4.02265    loss g: -2.05889\n"
     ]
    },
    {
     "name": "stderr",
     "output_type": "stream",
     "text": [
      " 58%|█████▊    | 58401/100001 [2:05:01<1:23:15,  8.33it/s]"
     ]
    },
    {
     "name": "stdout",
     "output_type": "stream",
     "text": [
      "GAN: loss d: 3.75173    loss g: -2.77728\n"
     ]
    },
    {
     "name": "stderr",
     "output_type": "stream",
     "text": [
      " 59%|█████▊    | 58501/100001 [2:05:12<1:22:25,  8.39it/s]"
     ]
    },
    {
     "name": "stdout",
     "output_type": "stream",
     "text": [
      "GAN: loss d: 3.02117    loss g: -2.65492\n"
     ]
    },
    {
     "name": "stderr",
     "output_type": "stream",
     "text": [
      " 59%|█████▊    | 58601/100001 [2:05:22<1:16:12,  9.05it/s]"
     ]
    },
    {
     "name": "stdout",
     "output_type": "stream",
     "text": [
      "GAN: loss d: 1.93699    loss g: -1.40790\n"
     ]
    },
    {
     "name": "stderr",
     "output_type": "stream",
     "text": [
      " 59%|█████▊    | 58701/100001 [2:05:33<1:15:22,  9.13it/s]"
     ]
    },
    {
     "name": "stdout",
     "output_type": "stream",
     "text": [
      "GAN: loss d: 5.34358    loss g: -2.65096\n"
     ]
    },
    {
     "name": "stderr",
     "output_type": "stream",
     "text": [
      " 59%|█████▉    | 58801/100001 [2:05:44<1:18:48,  8.71it/s]"
     ]
    },
    {
     "name": "stdout",
     "output_type": "stream",
     "text": [
      "GAN: loss d: 2.35825    loss g: -2.57996\n"
     ]
    },
    {
     "name": "stderr",
     "output_type": "stream",
     "text": [
      " 59%|█████▉    | 58901/100001 [2:05:55<1:15:43,  9.05it/s]"
     ]
    },
    {
     "name": "stdout",
     "output_type": "stream",
     "text": [
      "GAN: loss d: 3.15399    loss g: -2.11924\n"
     ]
    },
    {
     "name": "stderr",
     "output_type": "stream",
     "text": [
      " 59%|█████▉    | 59000/100001 [2:06:05<1:13:45,  9.27it/s]"
     ]
    },
    {
     "name": "stdout",
     "output_type": "stream",
     "text": [
      "GAN: loss d: 4.36356    loss g: -3.23372\n",
      "saving current model\n"
     ]
    },
    {
     "name": "stderr",
     "output_type": "stream",
     "text": [
      "\n",
      "  0%|          | 0/175 [00:00<?, ?it/s]\u001b[A"
     ]
    },
    {
     "name": "stdout",
     "output_type": "stream",
     "text": [
      "Number of real images: 5626\n"
     ]
    },
    {
     "name": "stderr",
     "output_type": "stream",
     "text": [
      "\n",
      "\n",
      "  0%|          | 0/15 [00:00<?, ?it/s]\u001b[A\u001b[A"
     ]
    },
    {
     "name": "stdout",
     "output_type": "stream",
     "text": [
      "Number of synthetic images: 500\n"
     ]
    },
    {
     "name": "stderr",
     "output_type": "stream",
     "text": [
      " 59%|█████▉    | 59001/100001 [2:06:26<71:06:34,  6.24s/it]"
     ]
    },
    {
     "name": "stdout",
     "output_type": "stream",
     "text": [
      "Current fid score: 1.1868924591897212\n",
      "Fid scores: [4.9325711711390205, 2.4436189539080466, 2.836768048488924, 2.7970490892296382, 3.1710357984691626, 3.3000315606457526, 2.70047286994032, 2.1638209867365674, 2.0204577684506617, 1.3914490073477666, 1.4400591510301268, 1.510807629476865, 2.258796488262803, 1.7612340626121643, 1.7264875375261077, 1.2524196801674918, 1.3446567610169673, 1.6110663800617644, 1.1499442444251073, 1.1722391359154116, 1.7200074762966437, 2.156615950015553, 1.3325966607336674, 0.8853521448197945, 1.0566829426710669, 1.2350619895546657, 1.0571616917674866, 1.370510241710825, 1.5065921467893446, 1.6719117315531875, 1.909778493483067, 1.7204413818191568, 1.5624610984128573, 1.0753806585584016, 1.3278843704483485, 1.3533378755873358, 1.8988524337341843, 1.311208359333218, 1.315135188974292, 1.6493025123445122, 1.2255098483436484, 1.1651169222250104, 0.8573076997493629, 0.729450667331303, 0.7234077685869522, 1.255932364362664, 1.0928023592549607, 0.7040761586618522, 0.9959458987264469, 1.0384877788784266, 1.0041953604475395, 1.0275497493719996, 0.9626051752721381, 1.1457413635081757, 1.0125328386101629, 1.036193935005457, 0.9974276879460966, 1.1198680116327786, 1.0722105710591663, 1.1868924591897212]\n"
     ]
    },
    {
     "name": "stderr",
     "output_type": "stream",
     "text": [
      "  0%|          | 0/175 [00:15<?, ?it/s]1:13:11,  9.32it/s] \n",
      "  0%|          | 0/15 [00:07<?, ?it/s]\n",
      " 59%|█████▉    | 59101/100001 [2:06:37<1:15:03,  9.08it/s]"
     ]
    },
    {
     "name": "stdout",
     "output_type": "stream",
     "text": [
      "GAN: loss d: 2.59319    loss g: -3.22438\n"
     ]
    },
    {
     "name": "stderr",
     "output_type": "stream",
     "text": [
      " 59%|█████▉    | 59201/100001 [2:06:47<1:15:15,  9.04it/s]"
     ]
    },
    {
     "name": "stdout",
     "output_type": "stream",
     "text": [
      "GAN: loss d: 4.47879    loss g: -3.50746\n"
     ]
    },
    {
     "name": "stderr",
     "output_type": "stream",
     "text": [
      " 59%|█████▉    | 59303/100001 [2:06:58<1:11:45,  9.45it/s]"
     ]
    },
    {
     "name": "stdout",
     "output_type": "stream",
     "text": [
      "GAN: loss d: 4.93049    loss g: -2.11500\n"
     ]
    },
    {
     "name": "stderr",
     "output_type": "stream",
     "text": [
      " 59%|█████▉    | 59401/100001 [2:07:09<1:21:12,  8.33it/s]"
     ]
    },
    {
     "name": "stdout",
     "output_type": "stream",
     "text": [
      "GAN: loss d: 2.34019    loss g: -3.08565\n"
     ]
    },
    {
     "name": "stderr",
     "output_type": "stream",
     "text": [
      " 60%|█████▉    | 59501/100001 [2:07:20<1:15:34,  8.93it/s]"
     ]
    },
    {
     "name": "stdout",
     "output_type": "stream",
     "text": [
      "GAN: loss d: 1.46846    loss g: -3.28223\n"
     ]
    },
    {
     "name": "stderr",
     "output_type": "stream",
     "text": [
      " 60%|█████▉    | 59603/100001 [2:07:30<1:10:57,  9.49it/s]"
     ]
    },
    {
     "name": "stdout",
     "output_type": "stream",
     "text": [
      "GAN: loss d: 0.64749    loss g: -3.01954\n"
     ]
    },
    {
     "name": "stderr",
     "output_type": "stream",
     "text": [
      " 60%|█████▉    | 59701/100001 [2:07:41<1:13:47,  9.10it/s]"
     ]
    },
    {
     "name": "stdout",
     "output_type": "stream",
     "text": [
      "GAN: loss d: 5.67011    loss g: -2.61798\n"
     ]
    },
    {
     "name": "stderr",
     "output_type": "stream",
     "text": [
      " 60%|█████▉    | 59801/100001 [2:07:52<1:14:56,  8.94it/s]"
     ]
    },
    {
     "name": "stdout",
     "output_type": "stream",
     "text": [
      "GAN: loss d: 5.22291    loss g: -1.85280\n"
     ]
    },
    {
     "name": "stderr",
     "output_type": "stream",
     "text": [
      " 60%|█████▉    | 59901/100001 [2:08:02<1:14:32,  8.97it/s]"
     ]
    },
    {
     "name": "stdout",
     "output_type": "stream",
     "text": [
      "GAN: loss d: 5.26674    loss g: -2.62018\n"
     ]
    },
    {
     "name": "stderr",
     "output_type": "stream",
     "text": [
      " 60%|█████▉    | 60000/100001 [2:08:13<1:11:35,  9.31it/s]"
     ]
    },
    {
     "name": "stdout",
     "output_type": "stream",
     "text": [
      "GAN: loss d: 4.00872    loss g: -4.35506\n",
      "saving current model\n"
     ]
    },
    {
     "name": "stderr",
     "output_type": "stream",
     "text": [
      "\n",
      "  0%|          | 0/175 [00:00<?, ?it/s]\u001b[A"
     ]
    },
    {
     "name": "stdout",
     "output_type": "stream",
     "text": [
      "Number of real images: 5626\n"
     ]
    },
    {
     "name": "stderr",
     "output_type": "stream",
     "text": [
      "\n",
      "\n",
      "  0%|          | 0/15 [00:00<?, ?it/s]\u001b[A\u001b[A"
     ]
    },
    {
     "name": "stdout",
     "output_type": "stream",
     "text": [
      "Number of synthetic images: 500\n"
     ]
    },
    {
     "name": "stderr",
     "output_type": "stream",
     "text": [
      " 60%|██████    | 60001/100001 [2:08:34<69:23:07,  6.24s/it]"
     ]
    },
    {
     "name": "stdout",
     "output_type": "stream",
     "text": [
      "Current fid score: 1.0989353857280975\n",
      "Fid scores: [4.9325711711390205, 2.4436189539080466, 2.836768048488924, 2.7970490892296382, 3.1710357984691626, 3.3000315606457526, 2.70047286994032, 2.1638209867365674, 2.0204577684506617, 1.3914490073477666, 1.4400591510301268, 1.510807629476865, 2.258796488262803, 1.7612340626121643, 1.7264875375261077, 1.2524196801674918, 1.3446567610169673, 1.6110663800617644, 1.1499442444251073, 1.1722391359154116, 1.7200074762966437, 2.156615950015553, 1.3325966607336674, 0.8853521448197945, 1.0566829426710669, 1.2350619895546657, 1.0571616917674866, 1.370510241710825, 1.5065921467893446, 1.6719117315531875, 1.909778493483067, 1.7204413818191568, 1.5624610984128573, 1.0753806585584016, 1.3278843704483485, 1.3533378755873358, 1.8988524337341843, 1.311208359333218, 1.315135188974292, 1.6493025123445122, 1.2255098483436484, 1.1651169222250104, 0.8573076997493629, 0.729450667331303, 0.7234077685869522, 1.255932364362664, 1.0928023592549607, 0.7040761586618522, 0.9959458987264469, 1.0384877788784266, 1.0041953604475395, 1.0275497493719996, 0.9626051752721381, 1.1457413635081757, 1.0125328386101629, 1.036193935005457, 0.9974276879460966, 1.1198680116327786, 1.0722105710591663, 1.1868924591897212, 1.0989353857280975]\n"
     ]
    },
    {
     "name": "stderr",
     "output_type": "stream",
     "text": [
      "  0%|          | 0/175 [00:10<?, ?it/s]8:50:04,  1.26it/s] \n",
      "  0%|          | 0/15 [00:01<?, ?it/s]\n",
      " 60%|██████    | 60101/100001 [2:08:44<1:12:51,  9.13it/s]"
     ]
    },
    {
     "name": "stdout",
     "output_type": "stream",
     "text": [
      "GAN: loss d: 3.61980    loss g: -4.02432\n"
     ]
    },
    {
     "name": "stderr",
     "output_type": "stream",
     "text": [
      " 60%|██████    | 60201/100001 [2:08:55<1:14:07,  8.95it/s]"
     ]
    },
    {
     "name": "stdout",
     "output_type": "stream",
     "text": [
      "GAN: loss d: 2.26719    loss g: -1.77488\n"
     ]
    },
    {
     "name": "stderr",
     "output_type": "stream",
     "text": [
      " 60%|██████    | 60301/100001 [2:09:06<1:13:33,  9.00it/s]"
     ]
    },
    {
     "name": "stdout",
     "output_type": "stream",
     "text": [
      "GAN: loss d: 3.23649    loss g: -2.61768\n"
     ]
    },
    {
     "name": "stderr",
     "output_type": "stream",
     "text": [
      " 60%|██████    | 60401/100001 [2:09:17<1:13:04,  9.03it/s]"
     ]
    },
    {
     "name": "stdout",
     "output_type": "stream",
     "text": [
      "GAN: loss d: 1.58607    loss g: -2.08391\n"
     ]
    },
    {
     "name": "stderr",
     "output_type": "stream",
     "text": [
      " 61%|██████    | 60503/100001 [2:09:27<1:09:47,  9.43it/s]"
     ]
    },
    {
     "name": "stdout",
     "output_type": "stream",
     "text": [
      "GAN: loss d: 4.13939    loss g: -3.14798\n"
     ]
    },
    {
     "name": "stderr",
     "output_type": "stream",
     "text": [
      " 61%|██████    | 60601/100001 [2:09:38<1:13:07,  8.98it/s]"
     ]
    },
    {
     "name": "stdout",
     "output_type": "stream",
     "text": [
      "GAN: loss d: 5.95986    loss g: -2.76980\n"
     ]
    },
    {
     "name": "stderr",
     "output_type": "stream",
     "text": [
      " 61%|██████    | 60701/100001 [2:09:49<1:14:38,  8.78it/s]"
     ]
    },
    {
     "name": "stdout",
     "output_type": "stream",
     "text": [
      "GAN: loss d: 1.91089    loss g: -3.78218\n"
     ]
    },
    {
     "name": "stderr",
     "output_type": "stream",
     "text": [
      " 61%|██████    | 60801/100001 [2:09:59<1:11:17,  9.16it/s]"
     ]
    },
    {
     "name": "stdout",
     "output_type": "stream",
     "text": [
      "GAN: loss d: 4.51797    loss g: -3.32080\n"
     ]
    },
    {
     "name": "stderr",
     "output_type": "stream",
     "text": [
      " 61%|██████    | 60902/100001 [2:10:10<1:11:29,  9.11it/s]"
     ]
    },
    {
     "name": "stdout",
     "output_type": "stream",
     "text": [
      "GAN: loss d: 4.48741    loss g: -2.98507\n"
     ]
    },
    {
     "name": "stderr",
     "output_type": "stream",
     "text": [
      " 61%|██████    | 61000/100001 [2:10:21<1:10:53,  9.17it/s]"
     ]
    },
    {
     "name": "stdout",
     "output_type": "stream",
     "text": [
      "GAN: loss d: 2.74618    loss g: -2.66506\n",
      "saving current model\n"
     ]
    },
    {
     "name": "stderr",
     "output_type": "stream",
     "text": [
      "\n",
      "  0%|          | 0/175 [00:00<?, ?it/s]\u001b[A"
     ]
    },
    {
     "name": "stdout",
     "output_type": "stream",
     "text": [
      "Number of real images: 5626\n"
     ]
    },
    {
     "name": "stderr",
     "output_type": "stream",
     "text": [
      "\n",
      "\n",
      "  0%|          | 0/15 [00:00<?, ?it/s]\u001b[A\u001b[A"
     ]
    },
    {
     "name": "stdout",
     "output_type": "stream",
     "text": [
      "Number of synthetic images: 500\n"
     ]
    },
    {
     "name": "stderr",
     "output_type": "stream",
     "text": [
      " 61%|██████    | 61002/100001 [2:10:41<47:35:28,  4.39s/it]"
     ]
    },
    {
     "name": "stdout",
     "output_type": "stream",
     "text": [
      "Current fid score: 1.1118880007531615\n",
      "Fid scores: [4.9325711711390205, 2.4436189539080466, 2.836768048488924, 2.7970490892296382, 3.1710357984691626, 3.3000315606457526, 2.70047286994032, 2.1638209867365674, 2.0204577684506617, 1.3914490073477666, 1.4400591510301268, 1.510807629476865, 2.258796488262803, 1.7612340626121643, 1.7264875375261077, 1.2524196801674918, 1.3446567610169673, 1.6110663800617644, 1.1499442444251073, 1.1722391359154116, 1.7200074762966437, 2.156615950015553, 1.3325966607336674, 0.8853521448197945, 1.0566829426710669, 1.2350619895546657, 1.0571616917674866, 1.370510241710825, 1.5065921467893446, 1.6719117315531875, 1.909778493483067, 1.7204413818191568, 1.5624610984128573, 1.0753806585584016, 1.3278843704483485, 1.3533378755873358, 1.8988524337341843, 1.311208359333218, 1.315135188974292, 1.6493025123445122, 1.2255098483436484, 1.1651169222250104, 0.8573076997493629, 0.729450667331303, 0.7234077685869522, 1.255932364362664, 1.0928023592549607, 0.7040761586618522, 0.9959458987264469, 1.0384877788784266, 1.0041953604475395, 1.0275497493719996, 0.9626051752721381, 1.1457413635081757, 1.0125328386101629, 1.036193935005457, 0.9974276879460966, 1.1198680116327786, 1.0722105710591663, 1.1868924591897212, 1.0989353857280975, 1.1118880007531615]\n"
     ]
    },
    {
     "name": "stderr",
     "output_type": "stream",
     "text": [
      "  0%|          | 0/175 [00:10<?, ?it/s]3:01:54,  3.57it/s] \n",
      "  0%|          | 0/15 [00:02<?, ?it/s]\n",
      " 61%|██████    | 61101/100001 [2:10:52<1:13:20,  8.84it/s]"
     ]
    },
    {
     "name": "stdout",
     "output_type": "stream",
     "text": [
      "GAN: loss d: 3.80001    loss g: -3.25632\n"
     ]
    },
    {
     "name": "stderr",
     "output_type": "stream",
     "text": [
      " 61%|██████    | 61201/100001 [2:11:03<1:13:45,  8.77it/s]"
     ]
    },
    {
     "name": "stdout",
     "output_type": "stream",
     "text": [
      "GAN: loss d: 1.42962    loss g: -1.74832\n"
     ]
    },
    {
     "name": "stderr",
     "output_type": "stream",
     "text": [
      " 61%|██████▏   | 61303/100001 [2:11:14<1:08:04,  9.47it/s]"
     ]
    },
    {
     "name": "stdout",
     "output_type": "stream",
     "text": [
      "GAN: loss d: 3.92259    loss g: -2.19796\n"
     ]
    },
    {
     "name": "stderr",
     "output_type": "stream",
     "text": [
      " 61%|██████▏   | 61403/100001 [2:11:24<1:07:22,  9.55it/s]"
     ]
    },
    {
     "name": "stdout",
     "output_type": "stream",
     "text": [
      "GAN: loss d: 1.04620    loss g: -2.62874\n"
     ]
    },
    {
     "name": "stderr",
     "output_type": "stream",
     "text": [
      " 62%|██████▏   | 61501/100001 [2:11:35<1:20:27,  7.98it/s]"
     ]
    },
    {
     "name": "stdout",
     "output_type": "stream",
     "text": [
      "GAN: loss d: 2.73909    loss g: -2.60115\n"
     ]
    },
    {
     "name": "stderr",
     "output_type": "stream",
     "text": [
      " 62%|██████▏   | 61601/100001 [2:11:46<1:18:42,  8.13it/s]"
     ]
    },
    {
     "name": "stdout",
     "output_type": "stream",
     "text": [
      "GAN: loss d: 4.05728    loss g: -2.20291\n"
     ]
    },
    {
     "name": "stderr",
     "output_type": "stream",
     "text": [
      " 62%|██████▏   | 61701/100001 [2:11:56<1:12:29,  8.81it/s]"
     ]
    },
    {
     "name": "stdout",
     "output_type": "stream",
     "text": [
      "GAN: loss d: 2.24871    loss g: -3.27514\n"
     ]
    },
    {
     "name": "stderr",
     "output_type": "stream",
     "text": [
      " 62%|██████▏   | 61801/100001 [2:12:07<1:10:54,  8.98it/s]"
     ]
    },
    {
     "name": "stdout",
     "output_type": "stream",
     "text": [
      "GAN: loss d: 3.06870    loss g: -3.16722\n"
     ]
    },
    {
     "name": "stderr",
     "output_type": "stream",
     "text": [
      " 62%|██████▏   | 61901/100001 [2:12:18<1:11:30,  8.88it/s]"
     ]
    },
    {
     "name": "stdout",
     "output_type": "stream",
     "text": [
      "GAN: loss d: 1.97525    loss g: -3.10593\n"
     ]
    },
    {
     "name": "stderr",
     "output_type": "stream",
     "text": [
      " 62%|██████▏   | 62000/100001 [2:12:28<1:06:44,  9.49it/s]"
     ]
    },
    {
     "name": "stdout",
     "output_type": "stream",
     "text": [
      "GAN: loss d: 2.37563    loss g: -1.30409\n",
      "saving current model\n"
     ]
    },
    {
     "name": "stderr",
     "output_type": "stream",
     "text": [
      "\n",
      "  0%|          | 0/175 [00:00<?, ?it/s]\u001b[A"
     ]
    },
    {
     "name": "stdout",
     "output_type": "stream",
     "text": [
      "Number of real images: 5626\n"
     ]
    },
    {
     "name": "stderr",
     "output_type": "stream",
     "text": [
      "\n",
      "\n",
      "  0%|          | 0/15 [00:00<?, ?it/s]\u001b[A\u001b[A"
     ]
    },
    {
     "name": "stdout",
     "output_type": "stream",
     "text": [
      "Number of synthetic images: 500\n"
     ]
    },
    {
     "name": "stderr",
     "output_type": "stream",
     "text": [
      " 62%|██████▏   | 62001/100001 [2:12:49<66:26:22,  6.29s/it]"
     ]
    },
    {
     "name": "stdout",
     "output_type": "stream",
     "text": [
      "Current fid score: 1.0102777182878384\n",
      "Fid scores: [4.9325711711390205, 2.4436189539080466, 2.836768048488924, 2.7970490892296382, 3.1710357984691626, 3.3000315606457526, 2.70047286994032, 2.1638209867365674, 2.0204577684506617, 1.3914490073477666, 1.4400591510301268, 1.510807629476865, 2.258796488262803, 1.7612340626121643, 1.7264875375261077, 1.2524196801674918, 1.3446567610169673, 1.6110663800617644, 1.1499442444251073, 1.1722391359154116, 1.7200074762966437, 2.156615950015553, 1.3325966607336674, 0.8853521448197945, 1.0566829426710669, 1.2350619895546657, 1.0571616917674866, 1.370510241710825, 1.5065921467893446, 1.6719117315531875, 1.909778493483067, 1.7204413818191568, 1.5624610984128573, 1.0753806585584016, 1.3278843704483485, 1.3533378755873358, 1.8988524337341843, 1.311208359333218, 1.315135188974292, 1.6493025123445122, 1.2255098483436484, 1.1651169222250104, 0.8573076997493629, 0.729450667331303, 0.7234077685869522, 1.255932364362664, 1.0928023592549607, 0.7040761586618522, 0.9959458987264469, 1.0384877788784266, 1.0041953604475395, 1.0275497493719996, 0.9626051752721381, 1.1457413635081757, 1.0125328386101629, 1.036193935005457, 0.9974276879460966, 1.1198680116327786, 1.0722105710591663, 1.1868924591897212, 1.0989353857280975, 1.1118880007531615, 1.0102777182878384]\n"
     ]
    },
    {
     "name": "stderr",
     "output_type": "stream",
     "text": [
      "  0%|          | 0/175 [00:18<?, ?it/s]1:07:03,  9.43it/s] \n",
      "  0%|          | 0/15 [00:09<?, ?it/s]\n",
      " 62%|██████▏   | 62101/100001 [2:13:00<1:08:53,  9.17it/s]"
     ]
    },
    {
     "name": "stdout",
     "output_type": "stream",
     "text": [
      "GAN: loss d: 2.78645    loss g: -3.12818\n"
     ]
    },
    {
     "name": "stderr",
     "output_type": "stream",
     "text": [
      " 62%|██████▏   | 62201/100001 [2:13:11<1:10:59,  8.87it/s]"
     ]
    },
    {
     "name": "stdout",
     "output_type": "stream",
     "text": [
      "GAN: loss d: 2.79856    loss g: -3.02614\n"
     ]
    },
    {
     "name": "stderr",
     "output_type": "stream",
     "text": [
      " 62%|██████▏   | 62301/100001 [2:13:21<1:10:14,  8.95it/s]"
     ]
    },
    {
     "name": "stdout",
     "output_type": "stream",
     "text": [
      "GAN: loss d: 2.74287    loss g: -3.02786\n"
     ]
    },
    {
     "name": "stderr",
     "output_type": "stream",
     "text": [
      " 62%|██████▏   | 62401/100001 [2:13:32<1:09:52,  8.97it/s]"
     ]
    },
    {
     "name": "stdout",
     "output_type": "stream",
     "text": [
      "GAN: loss d: 3.82191    loss g: -3.41777\n"
     ]
    },
    {
     "name": "stderr",
     "output_type": "stream",
     "text": [
      " 63%|██████▎   | 62501/100001 [2:13:43<1:09:21,  9.01it/s]"
     ]
    },
    {
     "name": "stdout",
     "output_type": "stream",
     "text": [
      "GAN: loss d: 6.15898    loss g: -3.01391\n"
     ]
    },
    {
     "name": "stderr",
     "output_type": "stream",
     "text": [
      " 63%|██████▎   | 62601/100001 [2:13:54<1:08:14,  9.14it/s]"
     ]
    },
    {
     "name": "stdout",
     "output_type": "stream",
     "text": [
      "GAN: loss d: 1.66891    loss g: -2.27468\n"
     ]
    },
    {
     "name": "stderr",
     "output_type": "stream",
     "text": [
      " 63%|██████▎   | 62703/100001 [2:14:04<1:05:14,  9.53it/s]"
     ]
    },
    {
     "name": "stdout",
     "output_type": "stream",
     "text": [
      "GAN: loss d: 6.16321    loss g: -1.88558\n"
     ]
    },
    {
     "name": "stderr",
     "output_type": "stream",
     "text": [
      " 63%|██████▎   | 62801/100001 [2:14:15<1:08:07,  9.10it/s]"
     ]
    },
    {
     "name": "stdout",
     "output_type": "stream",
     "text": [
      "GAN: loss d: 3.83599    loss g: -2.05527\n"
     ]
    },
    {
     "name": "stderr",
     "output_type": "stream",
     "text": [
      " 63%|██████▎   | 62901/100001 [2:14:26<1:08:23,  9.04it/s]"
     ]
    },
    {
     "name": "stdout",
     "output_type": "stream",
     "text": [
      "GAN: loss d: 3.56249    loss g: -3.53299\n"
     ]
    },
    {
     "name": "stderr",
     "output_type": "stream",
     "text": [
      " 63%|██████▎   | 63000/100001 [2:14:36<1:06:10,  9.32it/s]"
     ]
    },
    {
     "name": "stdout",
     "output_type": "stream",
     "text": [
      "GAN: loss d: 5.33426    loss g: -1.61171\n",
      "saving current model\n"
     ]
    },
    {
     "name": "stderr",
     "output_type": "stream",
     "text": [
      "\n",
      "  0%|          | 0/175 [00:00<?, ?it/s]\u001b[A"
     ]
    },
    {
     "name": "stdout",
     "output_type": "stream",
     "text": [
      "Number of real images: 5626\n"
     ]
    },
    {
     "name": "stderr",
     "output_type": "stream",
     "text": [
      "\n",
      "\n",
      "  0%|          | 0/15 [00:00<?, ?it/s]\u001b[A\u001b[A"
     ]
    },
    {
     "name": "stdout",
     "output_type": "stream",
     "text": [
      "Number of synthetic images: 500\n"
     ]
    },
    {
     "name": "stderr",
     "output_type": "stream",
     "text": [
      " 63%|██████▎   | 63002/100001 [2:14:57<45:17:21,  4.41s/it]"
     ]
    },
    {
     "name": "stdout",
     "output_type": "stream",
     "text": [
      "Current fid score: 0.9995344110008837\n",
      "Fid scores: [4.9325711711390205, 2.4436189539080466, 2.836768048488924, 2.7970490892296382, 3.1710357984691626, 3.3000315606457526, 2.70047286994032, 2.1638209867365674, 2.0204577684506617, 1.3914490073477666, 1.4400591510301268, 1.510807629476865, 2.258796488262803, 1.7612340626121643, 1.7264875375261077, 1.2524196801674918, 1.3446567610169673, 1.6110663800617644, 1.1499442444251073, 1.1722391359154116, 1.7200074762966437, 2.156615950015553, 1.3325966607336674, 0.8853521448197945, 1.0566829426710669, 1.2350619895546657, 1.0571616917674866, 1.370510241710825, 1.5065921467893446, 1.6719117315531875, 1.909778493483067, 1.7204413818191568, 1.5624610984128573, 1.0753806585584016, 1.3278843704483485, 1.3533378755873358, 1.8988524337341843, 1.311208359333218, 1.315135188974292, 1.6493025123445122, 1.2255098483436484, 1.1651169222250104, 0.8573076997493629, 0.729450667331303, 0.7234077685869522, 1.255932364362664, 1.0928023592549607, 0.7040761586618522, 0.9959458987264469, 1.0384877788784266, 1.0041953604475395, 1.0275497493719996, 0.9626051752721381, 1.1457413635081757, 1.0125328386101629, 1.036193935005457, 0.9974276879460966, 1.1198680116327786, 1.0722105710591663, 1.1868924591897212, 1.0989353857280975, 1.1118880007531615, 1.0102777182878384, 0.9995344110008837]\n"
     ]
    },
    {
     "name": "stderr",
     "output_type": "stream",
     "text": [
      "  0%|          | 0/175 [00:14<?, ?it/s]1:07:36,  9.11it/s] \n",
      "  0%|          | 0/15 [00:06<?, ?it/s]\n",
      " 63%|██████▎   | 63103/100001 [2:15:08<1:04:35,  9.52it/s]"
     ]
    },
    {
     "name": "stdout",
     "output_type": "stream",
     "text": [
      "GAN: loss d: 4.41368    loss g: -2.26127\n"
     ]
    },
    {
     "name": "stderr",
     "output_type": "stream",
     "text": [
      " 63%|██████▎   | 63202/100001 [2:15:18<1:06:43,  9.19it/s]"
     ]
    },
    {
     "name": "stdout",
     "output_type": "stream",
     "text": [
      "GAN: loss d: 4.37366    loss g: -3.72598\n"
     ]
    },
    {
     "name": "stderr",
     "output_type": "stream",
     "text": [
      " 63%|██████▎   | 63301/100001 [2:15:29<1:09:11,  8.84it/s]"
     ]
    },
    {
     "name": "stdout",
     "output_type": "stream",
     "text": [
      "GAN: loss d: 0.35336    loss g: -1.69260\n"
     ]
    },
    {
     "name": "stderr",
     "output_type": "stream",
     "text": [
      " 63%|██████▎   | 63401/100001 [2:15:40<1:07:22,  9.05it/s]"
     ]
    },
    {
     "name": "stdout",
     "output_type": "stream",
     "text": [
      "GAN: loss d: 3.40369    loss g: -2.53726\n"
     ]
    },
    {
     "name": "stderr",
     "output_type": "stream",
     "text": [
      " 64%|██████▎   | 63501/100001 [2:15:51<1:07:03,  9.07it/s]"
     ]
    },
    {
     "name": "stdout",
     "output_type": "stream",
     "text": [
      "GAN: loss d: 2.61741    loss g: -2.24479\n"
     ]
    },
    {
     "name": "stderr",
     "output_type": "stream",
     "text": [
      " 64%|██████▎   | 63601/100001 [2:16:01<1:09:48,  8.69it/s]"
     ]
    },
    {
     "name": "stdout",
     "output_type": "stream",
     "text": [
      "GAN: loss d: 4.52730    loss g: -2.16436\n"
     ]
    },
    {
     "name": "stderr",
     "output_type": "stream",
     "text": [
      " 64%|██████▎   | 63703/100001 [2:16:12<1:04:40,  9.35it/s]"
     ]
    },
    {
     "name": "stdout",
     "output_type": "stream",
     "text": [
      "GAN: loss d: 3.06925    loss g: -2.93903\n"
     ]
    },
    {
     "name": "stderr",
     "output_type": "stream",
     "text": [
      " 64%|██████▍   | 63801/100001 [2:16:23<1:23:19,  7.24it/s]"
     ]
    },
    {
     "name": "stdout",
     "output_type": "stream",
     "text": [
      "GAN: loss d: 5.14059    loss g: -1.95855\n"
     ]
    },
    {
     "name": "stderr",
     "output_type": "stream",
     "text": [
      " 64%|██████▍   | 63901/100001 [2:16:34<1:06:34,  9.04it/s]"
     ]
    },
    {
     "name": "stdout",
     "output_type": "stream",
     "text": [
      "GAN: loss d: 3.95107    loss g: -2.87288\n"
     ]
    },
    {
     "name": "stderr",
     "output_type": "stream",
     "text": [
      " 64%|██████▍   | 64000/100001 [2:16:44<1:03:31,  9.45it/s]"
     ]
    },
    {
     "name": "stdout",
     "output_type": "stream",
     "text": [
      "GAN: loss d: 5.49546    loss g: -3.76937\n",
      "saving current model\n"
     ]
    },
    {
     "name": "stderr",
     "output_type": "stream",
     "text": [
      "\n",
      "  0%|          | 0/175 [00:00<?, ?it/s]\u001b[A"
     ]
    },
    {
     "name": "stdout",
     "output_type": "stream",
     "text": [
      "Number of real images: 5626\n"
     ]
    },
    {
     "name": "stderr",
     "output_type": "stream",
     "text": [
      "\n",
      "\n",
      "  0%|          | 0/15 [00:00<?, ?it/s]\u001b[A\u001b[A"
     ]
    },
    {
     "name": "stdout",
     "output_type": "stream",
     "text": [
      "Number of synthetic images: 500\n"
     ]
    },
    {
     "name": "stderr",
     "output_type": "stream",
     "text": [
      " 64%|██████▍   | 64001/100001 [2:17:05<62:41:44,  6.27s/it]"
     ]
    },
    {
     "name": "stdout",
     "output_type": "stream",
     "text": [
      "Current fid score: 0.824310139795422\n",
      "Fid scores: [4.9325711711390205, 2.4436189539080466, 2.836768048488924, 2.7970490892296382, 3.1710357984691626, 3.3000315606457526, 2.70047286994032, 2.1638209867365674, 2.0204577684506617, 1.3914490073477666, 1.4400591510301268, 1.510807629476865, 2.258796488262803, 1.7612340626121643, 1.7264875375261077, 1.2524196801674918, 1.3446567610169673, 1.6110663800617644, 1.1499442444251073, 1.1722391359154116, 1.7200074762966437, 2.156615950015553, 1.3325966607336674, 0.8853521448197945, 1.0566829426710669, 1.2350619895546657, 1.0571616917674866, 1.370510241710825, 1.5065921467893446, 1.6719117315531875, 1.909778493483067, 1.7204413818191568, 1.5624610984128573, 1.0753806585584016, 1.3278843704483485, 1.3533378755873358, 1.8988524337341843, 1.311208359333218, 1.315135188974292, 1.6493025123445122, 1.2255098483436484, 1.1651169222250104, 0.8573076997493629, 0.729450667331303, 0.7234077685869522, 1.255932364362664, 1.0928023592549607, 0.7040761586618522, 0.9959458987264469, 1.0384877788784266, 1.0041953604475395, 1.0275497493719996, 0.9626051752721381, 1.1457413635081757, 1.0125328386101629, 1.036193935005457, 0.9974276879460966, 1.1198680116327786, 1.0722105710591663, 1.1868924591897212, 1.0989353857280975, 1.1118880007531615, 1.0102777182878384, 0.9995344110008837, 0.824310139795422]\n"
     ]
    },
    {
     "name": "stderr",
     "output_type": "stream",
     "text": [
      "  0%|          | 0/175 [00:10<?, ?it/s]4:32:06,  2.20it/s] \n",
      "  0%|          | 0/15 [00:01<?, ?it/s]\n",
      " 64%|██████▍   | 64101/100001 [2:17:15<1:05:07,  9.19it/s]"
     ]
    },
    {
     "name": "stdout",
     "output_type": "stream",
     "text": [
      "GAN: loss d: 3.59769    loss g: -1.91191\n"
     ]
    },
    {
     "name": "stderr",
     "output_type": "stream",
     "text": [
      " 64%|██████▍   | 64202/100001 [2:17:26<1:03:57,  9.33it/s]"
     ]
    },
    {
     "name": "stdout",
     "output_type": "stream",
     "text": [
      "GAN: loss d: 4.33441    loss g: -2.31249\n"
     ]
    },
    {
     "name": "stderr",
     "output_type": "stream",
     "text": [
      " 64%|██████▍   | 64302/100001 [2:17:37<1:04:28,  9.23it/s]"
     ]
    },
    {
     "name": "stdout",
     "output_type": "stream",
     "text": [
      "GAN: loss d: 1.14396    loss g: -2.52241\n"
     ]
    },
    {
     "name": "stderr",
     "output_type": "stream",
     "text": [
      " 64%|██████▍   | 64401/100001 [2:17:48<1:06:10,  8.97it/s]"
     ]
    },
    {
     "name": "stdout",
     "output_type": "stream",
     "text": [
      "GAN: loss d: 3.93753    loss g: -2.67015\n"
     ]
    },
    {
     "name": "stderr",
     "output_type": "stream",
     "text": [
      " 65%|██████▍   | 64501/100001 [2:17:58<1:05:29,  9.03it/s]"
     ]
    },
    {
     "name": "stdout",
     "output_type": "stream",
     "text": [
      "GAN: loss d: -0.43280    loss g: -1.94971\n"
     ]
    },
    {
     "name": "stderr",
     "output_type": "stream",
     "text": [
      " 65%|██████▍   | 64601/100001 [2:18:09<1:04:57,  9.08it/s]"
     ]
    },
    {
     "name": "stdout",
     "output_type": "stream",
     "text": [
      "GAN: loss d: 3.85978    loss g: -2.21671\n"
     ]
    },
    {
     "name": "stderr",
     "output_type": "stream",
     "text": [
      " 65%|██████▍   | 64701/100001 [2:18:20<1:05:40,  8.96it/s]"
     ]
    },
    {
     "name": "stdout",
     "output_type": "stream",
     "text": [
      "GAN: loss d: 2.58990    loss g: -2.84796\n"
     ]
    },
    {
     "name": "stderr",
     "output_type": "stream",
     "text": [
      " 65%|██████▍   | 64801/100001 [2:18:30<1:03:57,  9.17it/s]"
     ]
    },
    {
     "name": "stdout",
     "output_type": "stream",
     "text": [
      "GAN: loss d: 2.16817    loss g: -1.56767\n"
     ]
    },
    {
     "name": "stderr",
     "output_type": "stream",
     "text": [
      " 65%|██████▍   | 64901/100001 [2:18:41<1:06:47,  8.76it/s]"
     ]
    },
    {
     "name": "stdout",
     "output_type": "stream",
     "text": [
      "GAN: loss d: 3.43568    loss g: -2.08782\n"
     ]
    },
    {
     "name": "stderr",
     "output_type": "stream",
     "text": [
      " 65%|██████▍   | 65000/100001 [2:18:52<1:01:47,  9.44it/s]"
     ]
    },
    {
     "name": "stdout",
     "output_type": "stream",
     "text": [
      "GAN: loss d: 4.28417    loss g: -2.52823\n",
      "saving current model\n"
     ]
    },
    {
     "name": "stderr",
     "output_type": "stream",
     "text": [
      "\n",
      "  0%|          | 0/175 [00:00<?, ?it/s]\u001b[A"
     ]
    },
    {
     "name": "stdout",
     "output_type": "stream",
     "text": [
      "Number of real images: 5626\n"
     ]
    },
    {
     "name": "stderr",
     "output_type": "stream",
     "text": [
      "\n",
      "\n",
      "  0%|          | 0/15 [00:00<?, ?it/s]\u001b[A\u001b[A"
     ]
    },
    {
     "name": "stdout",
     "output_type": "stream",
     "text": [
      "Number of synthetic images: 500\n"
     ]
    },
    {
     "name": "stderr",
     "output_type": "stream",
     "text": [
      " 65%|██████▌   | 65001/100001 [2:19:12<61:30:55,  6.33s/it]"
     ]
    },
    {
     "name": "stdout",
     "output_type": "stream",
     "text": [
      "Current fid score: 0.881621828617444\n",
      "Fid scores: [4.9325711711390205, 2.4436189539080466, 2.836768048488924, 2.7970490892296382, 3.1710357984691626, 3.3000315606457526, 2.70047286994032, 2.1638209867365674, 2.0204577684506617, 1.3914490073477666, 1.4400591510301268, 1.510807629476865, 2.258796488262803, 1.7612340626121643, 1.7264875375261077, 1.2524196801674918, 1.3446567610169673, 1.6110663800617644, 1.1499442444251073, 1.1722391359154116, 1.7200074762966437, 2.156615950015553, 1.3325966607336674, 0.8853521448197945, 1.0566829426710669, 1.2350619895546657, 1.0571616917674866, 1.370510241710825, 1.5065921467893446, 1.6719117315531875, 1.909778493483067, 1.7204413818191568, 1.5624610984128573, 1.0753806585584016, 1.3278843704483485, 1.3533378755873358, 1.8988524337341843, 1.311208359333218, 1.315135188974292, 1.6493025123445122, 1.2255098483436484, 1.1651169222250104, 0.8573076997493629, 0.729450667331303, 0.7234077685869522, 1.255932364362664, 1.0928023592549607, 0.7040761586618522, 0.9959458987264469, 1.0384877788784266, 1.0041953604475395, 1.0275497493719996, 0.9626051752721381, 1.1457413635081757, 1.0125328386101629, 1.036193935005457, 0.9974276879460966, 1.1198680116327786, 1.0722105710591663, 1.1868924591897212, 1.0989353857280975, 1.1118880007531615, 1.0102777182878384, 0.9995344110008837, 0.824310139795422, 0.881621828617444]\n"
     ]
    },
    {
     "name": "stderr",
     "output_type": "stream",
     "text": [
      "  0%|          | 0/175 [00:18<?, ?it/s]1:03:27,  9.17it/s] \n",
      "  0%|          | 0/15 [00:09<?, ?it/s]\n",
      " 65%|██████▌   | 65101/100001 [2:19:23<1:04:07,  9.07it/s]"
     ]
    },
    {
     "name": "stdout",
     "output_type": "stream",
     "text": [
      "GAN: loss d: 2.53280    loss g: -3.69042\n"
     ]
    },
    {
     "name": "stderr",
     "output_type": "stream",
     "text": [
      " 65%|██████▌   | 65203/100001 [2:19:34<1:01:11,  9.48it/s]"
     ]
    },
    {
     "name": "stdout",
     "output_type": "stream",
     "text": [
      "GAN: loss d: 5.65926    loss g: -3.40092\n"
     ]
    },
    {
     "name": "stderr",
     "output_type": "stream",
     "text": [
      " 65%|██████▌   | 65301/100001 [2:19:45<1:04:19,  8.99it/s]"
     ]
    },
    {
     "name": "stdout",
     "output_type": "stream",
     "text": [
      "GAN: loss d: 5.33952    loss g: -1.58479\n"
     ]
    },
    {
     "name": "stderr",
     "output_type": "stream",
     "text": [
      " 65%|██████▌   | 65401/100001 [2:19:55<1:03:31,  9.08it/s]"
     ]
    },
    {
     "name": "stdout",
     "output_type": "stream",
     "text": [
      "GAN: loss d: 5.67582    loss g: -2.38370\n"
     ]
    },
    {
     "name": "stderr",
     "output_type": "stream",
     "text": [
      " 66%|██████▌   | 65501/100001 [2:20:06<1:04:27,  8.92it/s]"
     ]
    },
    {
     "name": "stdout",
     "output_type": "stream",
     "text": [
      "GAN: loss d: 3.32212    loss g: -3.75378\n"
     ]
    },
    {
     "name": "stderr",
     "output_type": "stream",
     "text": [
      " 66%|██████▌   | 65601/100001 [2:20:17<1:04:26,  8.90it/s]"
     ]
    },
    {
     "name": "stdout",
     "output_type": "stream",
     "text": [
      "GAN: loss d: 2.68074    loss g: -2.12558\n"
     ]
    },
    {
     "name": "stderr",
     "output_type": "stream",
     "text": [
      " 66%|██████▌   | 65701/100001 [2:20:27<1:04:08,  8.91it/s]"
     ]
    },
    {
     "name": "stdout",
     "output_type": "stream",
     "text": [
      "GAN: loss d: 2.90798    loss g: -2.17118\n"
     ]
    },
    {
     "name": "stderr",
     "output_type": "stream",
     "text": [
      " 66%|██████▌   | 65803/100001 [2:20:38<59:54,  9.51it/s]  "
     ]
    },
    {
     "name": "stdout",
     "output_type": "stream",
     "text": [
      "GAN: loss d: 6.51270    loss g: -2.77279\n"
     ]
    },
    {
     "name": "stderr",
     "output_type": "stream",
     "text": [
      " 66%|██████▌   | 65901/100001 [2:20:49<1:02:10,  9.14it/s]"
     ]
    },
    {
     "name": "stdout",
     "output_type": "stream",
     "text": [
      "GAN: loss d: 2.68348    loss g: -4.41899\n"
     ]
    },
    {
     "name": "stderr",
     "output_type": "stream",
     "text": [
      " 66%|██████▌   | 66000/100001 [2:21:00<59:52,  9.46it/s]  "
     ]
    },
    {
     "name": "stdout",
     "output_type": "stream",
     "text": [
      "GAN: loss d: 4.59215    loss g: -3.37487\n",
      "saving current model\n"
     ]
    },
    {
     "name": "stderr",
     "output_type": "stream",
     "text": [
      "\n",
      "  0%|          | 0/175 [00:00<?, ?it/s]\u001b[A"
     ]
    },
    {
     "name": "stdout",
     "output_type": "stream",
     "text": [
      "Number of real images: 5626\n"
     ]
    },
    {
     "name": "stderr",
     "output_type": "stream",
     "text": [
      "\n",
      "\n",
      "  0%|          | 0/15 [00:00<?, ?it/s]\u001b[A\u001b[A"
     ]
    },
    {
     "name": "stdout",
     "output_type": "stream",
     "text": [
      "Number of synthetic images: 500\n"
     ]
    },
    {
     "name": "stderr",
     "output_type": "stream",
     "text": [
      " 66%|██████▌   | 66001/100001 [2:21:20<59:16:16,  6.28s/it]"
     ]
    },
    {
     "name": "stdout",
     "output_type": "stream",
     "text": [
      "Current fid score: 1.1556114222191525\n",
      "Fid scores: [4.9325711711390205, 2.4436189539080466, 2.836768048488924, 2.7970490892296382, 3.1710357984691626, 3.3000315606457526, 2.70047286994032, 2.1638209867365674, 2.0204577684506617, 1.3914490073477666, 1.4400591510301268, 1.510807629476865, 2.258796488262803, 1.7612340626121643, 1.7264875375261077, 1.2524196801674918, 1.3446567610169673, 1.6110663800617644, 1.1499442444251073, 1.1722391359154116, 1.7200074762966437, 2.156615950015553, 1.3325966607336674, 0.8853521448197945, 1.0566829426710669, 1.2350619895546657, 1.0571616917674866, 1.370510241710825, 1.5065921467893446, 1.6719117315531875, 1.909778493483067, 1.7204413818191568, 1.5624610984128573, 1.0753806585584016, 1.3278843704483485, 1.3533378755873358, 1.8988524337341843, 1.311208359333218, 1.315135188974292, 1.6493025123445122, 1.2255098483436484, 1.1651169222250104, 0.8573076997493629, 0.729450667331303, 0.7234077685869522, 1.255932364362664, 1.0928023592549607, 0.7040761586618522, 0.9959458987264469, 1.0384877788784266, 1.0041953604475395, 1.0275497493719996, 0.9626051752721381, 1.1457413635081757, 1.0125328386101629, 1.036193935005457, 0.9974276879460966, 1.1198680116327786, 1.0722105710591663, 1.1868924591897212, 1.0989353857280975, 1.1118880007531615, 1.0102777182878384, 0.9995344110008837, 0.824310139795422, 0.881621828617444, 1.1556114222191525]\n"
     ]
    },
    {
     "name": "stderr",
     "output_type": "stream",
     "text": [
      "  0%|          | 0/175 [00:15<?, ?it/s]1:00:06,  9.41it/s] \n",
      "  0%|          | 0/15 [00:06<?, ?it/s]\n",
      " 66%|██████▌   | 66101/100001 [2:21:31<1:03:46,  8.86it/s]"
     ]
    },
    {
     "name": "stdout",
     "output_type": "stream",
     "text": [
      "GAN: loss d: 4.15565    loss g: -3.21831\n"
     ]
    },
    {
     "name": "stderr",
     "output_type": "stream",
     "text": [
      " 66%|██████▌   | 66201/100001 [2:21:42<1:02:59,  8.94it/s]"
     ]
    },
    {
     "name": "stdout",
     "output_type": "stream",
     "text": [
      "GAN: loss d: 6.98301    loss g: -2.99653\n"
     ]
    },
    {
     "name": "stderr",
     "output_type": "stream",
     "text": [
      " 66%|██████▋   | 66301/100001 [2:21:52<1:01:54,  9.07it/s]"
     ]
    },
    {
     "name": "stdout",
     "output_type": "stream",
     "text": [
      "GAN: loss d: 4.57786    loss g: -3.58802\n"
     ]
    },
    {
     "name": "stderr",
     "output_type": "stream",
     "text": [
      " 66%|██████▋   | 66401/100001 [2:22:03<1:02:38,  8.94it/s]"
     ]
    },
    {
     "name": "stdout",
     "output_type": "stream",
     "text": [
      "GAN: loss d: 2.61609    loss g: -2.55911\n"
     ]
    },
    {
     "name": "stderr",
     "output_type": "stream",
     "text": [
      " 67%|██████▋   | 66503/100001 [2:22:14<58:33,  9.53it/s]  "
     ]
    },
    {
     "name": "stdout",
     "output_type": "stream",
     "text": [
      "GAN: loss d: 2.38953    loss g: -2.22277\n"
     ]
    },
    {
     "name": "stderr",
     "output_type": "stream",
     "text": [
      " 67%|██████▋   | 66603/100001 [2:22:25<58:56,  9.44it/s]  "
     ]
    },
    {
     "name": "stdout",
     "output_type": "stream",
     "text": [
      "GAN: loss d: 2.81719    loss g: -2.45761\n"
     ]
    },
    {
     "name": "stderr",
     "output_type": "stream",
     "text": [
      " 67%|██████▋   | 66701/100001 [2:22:35<1:02:26,  8.89it/s]"
     ]
    },
    {
     "name": "stdout",
     "output_type": "stream",
     "text": [
      "GAN: loss d: 3.44497    loss g: -2.41281\n"
     ]
    },
    {
     "name": "stderr",
     "output_type": "stream",
     "text": [
      " 67%|██████▋   | 66801/100001 [2:22:46<1:00:53,  9.09it/s]"
     ]
    },
    {
     "name": "stdout",
     "output_type": "stream",
     "text": [
      "GAN: loss d: 3.83278    loss g: -1.66765\n"
     ]
    },
    {
     "name": "stderr",
     "output_type": "stream",
     "text": [
      " 67%|██████▋   | 66901/100001 [2:22:57<1:01:02,  9.04it/s]"
     ]
    },
    {
     "name": "stdout",
     "output_type": "stream",
     "text": [
      "GAN: loss d: 3.68504    loss g: -2.44645\n"
     ]
    },
    {
     "name": "stderr",
     "output_type": "stream",
     "text": [
      " 67%|██████▋   | 67000/100001 [2:23:07<58:40,  9.37it/s]  "
     ]
    },
    {
     "name": "stdout",
     "output_type": "stream",
     "text": [
      "GAN: loss d: 2.88289    loss g: -2.87415\n",
      "saving current model\n"
     ]
    },
    {
     "name": "stderr",
     "output_type": "stream",
     "text": [
      "\n",
      "  0%|          | 0/175 [00:00<?, ?it/s]\u001b[A"
     ]
    },
    {
     "name": "stdout",
     "output_type": "stream",
     "text": [
      "Number of real images: 5626\n"
     ]
    },
    {
     "name": "stderr",
     "output_type": "stream",
     "text": [
      "\n",
      "\n",
      "  0%|          | 0/15 [00:00<?, ?it/s]\u001b[A\u001b[A"
     ]
    },
    {
     "name": "stdout",
     "output_type": "stream",
     "text": [
      "Number of synthetic images: 500\n"
     ]
    },
    {
     "name": "stderr",
     "output_type": "stream",
     "text": [
      " 67%|██████▋   | 67001/100001 [2:23:28<57:24:40,  6.26s/it]"
     ]
    },
    {
     "name": "stdout",
     "output_type": "stream",
     "text": [
      "Current fid score: 0.7701034215973799\n",
      "Fid scores: [4.9325711711390205, 2.4436189539080466, 2.836768048488924, 2.7970490892296382, 3.1710357984691626, 3.3000315606457526, 2.70047286994032, 2.1638209867365674, 2.0204577684506617, 1.3914490073477666, 1.4400591510301268, 1.510807629476865, 2.258796488262803, 1.7612340626121643, 1.7264875375261077, 1.2524196801674918, 1.3446567610169673, 1.6110663800617644, 1.1499442444251073, 1.1722391359154116, 1.7200074762966437, 2.156615950015553, 1.3325966607336674, 0.8853521448197945, 1.0566829426710669, 1.2350619895546657, 1.0571616917674866, 1.370510241710825, 1.5065921467893446, 1.6719117315531875, 1.909778493483067, 1.7204413818191568, 1.5624610984128573, 1.0753806585584016, 1.3278843704483485, 1.3533378755873358, 1.8988524337341843, 1.311208359333218, 1.315135188974292, 1.6493025123445122, 1.2255098483436484, 1.1651169222250104, 0.8573076997493629, 0.729450667331303, 0.7234077685869522, 1.255932364362664, 1.0928023592549607, 0.7040761586618522, 0.9959458987264469, 1.0384877788784266, 1.0041953604475395, 1.0275497493719996, 0.9626051752721381, 1.1457413635081757, 1.0125328386101629, 1.036193935005457, 0.9974276879460966, 1.1198680116327786, 1.0722105710591663, 1.1868924591897212, 1.0989353857280975, 1.1118880007531615, 1.0102777182878384, 0.9995344110008837, 0.824310139795422, 0.881621828617444, 1.1556114222191525, 0.7701034215973799]\n"
     ]
    },
    {
     "name": "stderr",
     "output_type": "stream",
     "text": [
      "  0%|          | 0/175 [00:10<?, ?it/s]7:17:48,  1.26it/s] \n",
      "  0%|          | 0/15 [00:01<?, ?it/s]\n",
      " 67%|██████▋   | 67103/100001 [2:23:39<57:39,  9.51it/s]  "
     ]
    },
    {
     "name": "stdout",
     "output_type": "stream",
     "text": [
      "GAN: loss d: 3.59596    loss g: -2.58337\n"
     ]
    },
    {
     "name": "stderr",
     "output_type": "stream",
     "text": [
      " 67%|██████▋   | 67201/100001 [2:23:49<1:00:27,  9.04it/s]"
     ]
    },
    {
     "name": "stdout",
     "output_type": "stream",
     "text": [
      "GAN: loss d: 1.05010    loss g: -2.94855\n"
     ]
    },
    {
     "name": "stderr",
     "output_type": "stream",
     "text": [
      " 67%|██████▋   | 67301/100001 [2:24:00<1:00:13,  9.05it/s]"
     ]
    },
    {
     "name": "stdout",
     "output_type": "stream",
     "text": [
      "GAN: loss d: 3.64276    loss g: -2.61693\n"
     ]
    },
    {
     "name": "stderr",
     "output_type": "stream",
     "text": [
      " 67%|██████▋   | 67401/100001 [2:24:11<1:00:49,  8.93it/s]"
     ]
    },
    {
     "name": "stdout",
     "output_type": "stream",
     "text": [
      "GAN: loss d: 3.31562    loss g: -1.99725\n"
     ]
    },
    {
     "name": "stderr",
     "output_type": "stream",
     "text": [
      " 68%|██████▊   | 67503/100001 [2:24:21<57:15,  9.46it/s]  "
     ]
    },
    {
     "name": "stdout",
     "output_type": "stream",
     "text": [
      "GAN: loss d: 1.88995    loss g: -1.99282\n"
     ]
    },
    {
     "name": "stderr",
     "output_type": "stream",
     "text": [
      " 68%|██████▊   | 67601/100001 [2:24:32<1:00:17,  8.96it/s]"
     ]
    },
    {
     "name": "stdout",
     "output_type": "stream",
     "text": [
      "GAN: loss d: 3.66804    loss g: -3.90902\n"
     ]
    },
    {
     "name": "stderr",
     "output_type": "stream",
     "text": [
      " 68%|██████▊   | 67701/100001 [2:24:42<59:18,  9.08it/s]  "
     ]
    },
    {
     "name": "stdout",
     "output_type": "stream",
     "text": [
      "GAN: loss d: 3.98724    loss g: -3.36978\n"
     ]
    },
    {
     "name": "stderr",
     "output_type": "stream",
     "text": [
      " 68%|██████▊   | 67801/100001 [2:24:53<58:45,  9.13it/s]  "
     ]
    },
    {
     "name": "stdout",
     "output_type": "stream",
     "text": [
      "GAN: loss d: 1.55772    loss g: -2.28078\n"
     ]
    },
    {
     "name": "stderr",
     "output_type": "stream",
     "text": [
      " 68%|██████▊   | 67901/100001 [2:25:04<58:30,  9.14it/s]"
     ]
    },
    {
     "name": "stdout",
     "output_type": "stream",
     "text": [
      "GAN: loss d: 4.88946    loss g: -2.95050\n"
     ]
    },
    {
     "name": "stderr",
     "output_type": "stream",
     "text": [
      " 68%|██████▊   | 68000/100001 [2:25:14<56:12,  9.49it/s]"
     ]
    },
    {
     "name": "stdout",
     "output_type": "stream",
     "text": [
      "GAN: loss d: 5.01068    loss g: -2.36544\n",
      "saving current model\n"
     ]
    },
    {
     "name": "stderr",
     "output_type": "stream",
     "text": [
      "\n",
      "  0%|          | 0/175 [00:00<?, ?it/s]\u001b[A"
     ]
    },
    {
     "name": "stdout",
     "output_type": "stream",
     "text": [
      "Number of real images: 5626\n"
     ]
    },
    {
     "name": "stderr",
     "output_type": "stream",
     "text": [
      "\n",
      "\n",
      "  0%|          | 0/15 [00:00<?, ?it/s]\u001b[A\u001b[A"
     ]
    },
    {
     "name": "stdout",
     "output_type": "stream",
     "text": [
      "Number of synthetic images: 500\n"
     ]
    },
    {
     "name": "stderr",
     "output_type": "stream",
     "text": [
      " 68%|██████▊   | 68002/100001 [2:25:35<38:43:46,  4.36s/it]"
     ]
    },
    {
     "name": "stdout",
     "output_type": "stream",
     "text": [
      "Current fid score: 0.9216314518395592\n",
      "Fid scores: [4.9325711711390205, 2.4436189539080466, 2.836768048488924, 2.7970490892296382, 3.1710357984691626, 3.3000315606457526, 2.70047286994032, 2.1638209867365674, 2.0204577684506617, 1.3914490073477666, 1.4400591510301268, 1.510807629476865, 2.258796488262803, 1.7612340626121643, 1.7264875375261077, 1.2524196801674918, 1.3446567610169673, 1.6110663800617644, 1.1499442444251073, 1.1722391359154116, 1.7200074762966437, 2.156615950015553, 1.3325966607336674, 0.8853521448197945, 1.0566829426710669, 1.2350619895546657, 1.0571616917674866, 1.370510241710825, 1.5065921467893446, 1.6719117315531875, 1.909778493483067, 1.7204413818191568, 1.5624610984128573, 1.0753806585584016, 1.3278843704483485, 1.3533378755873358, 1.8988524337341843, 1.311208359333218, 1.315135188974292, 1.6493025123445122, 1.2255098483436484, 1.1651169222250104, 0.8573076997493629, 0.729450667331303, 0.7234077685869522, 1.255932364362664, 1.0928023592549607, 0.7040761586618522, 0.9959458987264469, 1.0384877788784266, 1.0041953604475395, 1.0275497493719996, 0.9626051752721381, 1.1457413635081757, 1.0125328386101629, 1.036193935005457, 0.9974276879460966, 1.1198680116327786, 1.0722105710591663, 1.1868924591897212, 1.0989353857280975, 1.1118880007531615, 1.0102777182878384, 0.9995344110008837, 0.824310139795422, 0.881621828617444, 1.1556114222191525, 0.7701034215973799, 0.9216314518395592]\n"
     ]
    },
    {
     "name": "stderr",
     "output_type": "stream",
     "text": [
      "  0%|          | 0/15 [00:01<?, ?it/s]<3:07:12,  2.85it/s] \n",
      " 68%|██████▊   | 68101/100001 [2:25:45<58:48,  9.04it/s]  "
     ]
    },
    {
     "name": "stdout",
     "output_type": "stream",
     "text": [
      "GAN: loss d: 2.00635    loss g: -2.28346\n"
     ]
    },
    {
     "name": "stderr",
     "output_type": "stream",
     "text": [
      " 68%|██████▊   | 68201/100001 [2:25:56<58:52,  9.00it/s]"
     ]
    },
    {
     "name": "stdout",
     "output_type": "stream",
     "text": [
      "GAN: loss d: 2.85000    loss g: -1.62758\n"
     ]
    },
    {
     "name": "stderr",
     "output_type": "stream",
     "text": [
      " 68%|██████▊   | 68301/100001 [2:26:07<59:25,  8.89it/s]"
     ]
    },
    {
     "name": "stdout",
     "output_type": "stream",
     "text": [
      "GAN: loss d: 3.44547    loss g: -3.24706\n"
     ]
    },
    {
     "name": "stderr",
     "output_type": "stream",
     "text": [
      " 68%|██████▊   | 68401/100001 [2:26:17<58:46,  8.96it/s]"
     ]
    },
    {
     "name": "stdout",
     "output_type": "stream",
     "text": [
      "GAN: loss d: 2.86767    loss g: -2.03804\n"
     ]
    },
    {
     "name": "stderr",
     "output_type": "stream",
     "text": [
      "  0%|          | 0/175 [01:00<?, ?it/s]54:59,  9.55it/s]\n",
      " 69%|██████▊   | 68503/100001 [2:26:28<55:14,  9.50it/s]"
     ]
    },
    {
     "name": "stdout",
     "output_type": "stream",
     "text": [
      "GAN: loss d: 1.70782    loss g: -1.41917\n"
     ]
    },
    {
     "name": "stderr",
     "output_type": "stream",
     "text": [
      " 69%|██████▊   | 68603/100001 [2:26:39<55:18,  9.46it/s]"
     ]
    },
    {
     "name": "stdout",
     "output_type": "stream",
     "text": [
      "GAN: loss d: 2.79049    loss g: -2.84829\n"
     ]
    },
    {
     "name": "stderr",
     "output_type": "stream",
     "text": [
      " 69%|██████▊   | 68703/100001 [2:26:49<54:56,  9.49it/s]"
     ]
    },
    {
     "name": "stdout",
     "output_type": "stream",
     "text": [
      "GAN: loss d: 3.27495    loss g: -2.82263\n"
     ]
    },
    {
     "name": "stderr",
     "output_type": "stream",
     "text": [
      " 69%|██████▉   | 68803/100001 [2:27:00<54:06,  9.61it/s]"
     ]
    },
    {
     "name": "stdout",
     "output_type": "stream",
     "text": [
      "GAN: loss d: 3.83351    loss g: -3.04924\n"
     ]
    },
    {
     "name": "stderr",
     "output_type": "stream",
     "text": [
      " 69%|██████▉   | 68901/100001 [2:27:10<56:39,  9.15it/s]"
     ]
    },
    {
     "name": "stdout",
     "output_type": "stream",
     "text": [
      "GAN: loss d: 5.04187    loss g: -3.73674\n"
     ]
    },
    {
     "name": "stderr",
     "output_type": "stream",
     "text": [
      " 69%|██████▉   | 69000/100001 [2:27:21<54:59,  9.40it/s]"
     ]
    },
    {
     "name": "stdout",
     "output_type": "stream",
     "text": [
      "GAN: loss d: 5.94304    loss g: -2.04773\n",
      "saving current model\n"
     ]
    },
    {
     "name": "stderr",
     "output_type": "stream",
     "text": [
      "\n",
      "  0%|          | 0/175 [00:00<?, ?it/s]\u001b[A"
     ]
    },
    {
     "name": "stdout",
     "output_type": "stream",
     "text": [
      "Number of real images: 5626\n"
     ]
    },
    {
     "name": "stderr",
     "output_type": "stream",
     "text": [
      "\n",
      "\n",
      "  0%|          | 0/15 [00:00<?, ?it/s]\u001b[A\u001b[A"
     ]
    },
    {
     "name": "stdout",
     "output_type": "stream",
     "text": [
      "Number of synthetic images: 500\n"
     ]
    },
    {
     "name": "stderr",
     "output_type": "stream",
     "text": [
      " 69%|██████▉   | 69001/100001 [2:27:41<53:38:37,  6.23s/it]"
     ]
    },
    {
     "name": "stdout",
     "output_type": "stream",
     "text": [
      "Current fid score: 1.055044746537881\n",
      "Fid scores: [4.9325711711390205, 2.4436189539080466, 2.836768048488924, 2.7970490892296382, 3.1710357984691626, 3.3000315606457526, 2.70047286994032, 2.1638209867365674, 2.0204577684506617, 1.3914490073477666, 1.4400591510301268, 1.510807629476865, 2.258796488262803, 1.7612340626121643, 1.7264875375261077, 1.2524196801674918, 1.3446567610169673, 1.6110663800617644, 1.1499442444251073, 1.1722391359154116, 1.7200074762966437, 2.156615950015553, 1.3325966607336674, 0.8853521448197945, 1.0566829426710669, 1.2350619895546657, 1.0571616917674866, 1.370510241710825, 1.5065921467893446, 1.6719117315531875, 1.909778493483067, 1.7204413818191568, 1.5624610984128573, 1.0753806585584016, 1.3278843704483485, 1.3533378755873358, 1.8988524337341843, 1.311208359333218, 1.315135188974292, 1.6493025123445122, 1.2255098483436484, 1.1651169222250104, 0.8573076997493629, 0.729450667331303, 0.7234077685869522, 1.255932364362664, 1.0928023592549607, 0.7040761586618522, 0.9959458987264469, 1.0384877788784266, 1.0041953604475395, 1.0275497493719996, 0.9626051752721381, 1.1457413635081757, 1.0125328386101629, 1.036193935005457, 0.9974276879460966, 1.1198680116327786, 1.0722105710591663, 1.1868924591897212, 1.0989353857280975, 1.1118880007531615, 1.0102777182878384, 0.9995344110008837, 0.824310139795422, 0.881621828617444, 1.1556114222191525, 0.7701034215973799, 0.9216314518395592, 1.055044746537881]\n"
     ]
    },
    {
     "name": "stderr",
     "output_type": "stream",
     "text": [
      "  0%|          | 0/175 [00:15<?, ?it/s]55:08,  9.35it/s]   \n",
      "  0%|          | 0/15 [00:06<?, ?it/s]\n",
      " 69%|██████▉   | 69101/100001 [2:27:52<57:43,  8.92it/s]"
     ]
    },
    {
     "name": "stdout",
     "output_type": "stream",
     "text": [
      "GAN: loss d: 4.47737    loss g: -2.85030\n"
     ]
    },
    {
     "name": "stderr",
     "output_type": "stream",
     "text": [
      " 69%|██████▉   | 69201/100001 [2:28:03<57:26,  8.94it/s]"
     ]
    },
    {
     "name": "stdout",
     "output_type": "stream",
     "text": [
      "GAN: loss d: 4.49854    loss g: -2.02793\n"
     ]
    },
    {
     "name": "stderr",
     "output_type": "stream",
     "text": [
      " 69%|██████▉   | 69303/100001 [2:28:13<53:52,  9.50it/s]"
     ]
    },
    {
     "name": "stdout",
     "output_type": "stream",
     "text": [
      "GAN: loss d: 4.07453    loss g: -2.73460\n"
     ]
    },
    {
     "name": "stderr",
     "output_type": "stream",
     "text": [
      " 69%|██████▉   | 69403/100001 [2:28:24<53:10,  9.59it/s]"
     ]
    },
    {
     "name": "stdout",
     "output_type": "stream",
     "text": [
      "GAN: loss d: 5.15427    loss g: -3.43693\n"
     ]
    },
    {
     "name": "stderr",
     "output_type": "stream",
     "text": [
      " 70%|██████▉   | 69501/100001 [2:28:34<56:24,  9.01it/s]"
     ]
    },
    {
     "name": "stdout",
     "output_type": "stream",
     "text": [
      "GAN: loss d: 4.28881    loss g: -3.40694\n"
     ]
    },
    {
     "name": "stderr",
     "output_type": "stream",
     "text": [
      " 70%|██████▉   | 69601/100001 [2:28:45<54:49,  9.24it/s]"
     ]
    },
    {
     "name": "stdout",
     "output_type": "stream",
     "text": [
      "GAN: loss d: 6.69190    loss g: -2.74212\n"
     ]
    },
    {
     "name": "stderr",
     "output_type": "stream",
     "text": [
      " 70%|██████▉   | 69703/100001 [2:28:56<53:00,  9.53it/s]"
     ]
    },
    {
     "name": "stdout",
     "output_type": "stream",
     "text": [
      "GAN: loss d: 1.87925    loss g: -2.15691\n"
     ]
    },
    {
     "name": "stderr",
     "output_type": "stream",
     "text": [
      " 70%|██████▉   | 69801/100001 [2:29:06<55:46,  9.02it/s]"
     ]
    },
    {
     "name": "stdout",
     "output_type": "stream",
     "text": [
      "GAN: loss d: 1.42788    loss g: -2.03576\n"
     ]
    },
    {
     "name": "stderr",
     "output_type": "stream",
     "text": [
      " 70%|██████▉   | 69901/100001 [2:29:17<56:21,  8.90it/s]"
     ]
    },
    {
     "name": "stdout",
     "output_type": "stream",
     "text": [
      "GAN: loss d: 2.65001    loss g: -2.27572\n"
     ]
    },
    {
     "name": "stderr",
     "output_type": "stream",
     "text": [
      " 70%|██████▉   | 70000/100001 [2:29:27<53:29,  9.35it/s]"
     ]
    },
    {
     "name": "stdout",
     "output_type": "stream",
     "text": [
      "GAN: loss d: 3.40104    loss g: -3.01057\n",
      "saving current model\n"
     ]
    },
    {
     "name": "stderr",
     "output_type": "stream",
     "text": [
      "\n",
      "  0%|          | 0/175 [00:00<?, ?it/s]\u001b[A"
     ]
    },
    {
     "name": "stdout",
     "output_type": "stream",
     "text": [
      "Number of real images: 5626\n"
     ]
    },
    {
     "name": "stderr",
     "output_type": "stream",
     "text": [
      "\n",
      "\n",
      "  0%|          | 0/15 [00:00<?, ?it/s]\u001b[A\u001b[A"
     ]
    },
    {
     "name": "stdout",
     "output_type": "stream",
     "text": [
      "Number of synthetic images: 500\n"
     ]
    },
    {
     "name": "stderr",
     "output_type": "stream",
     "text": [
      " 70%|███████   | 70001/100001 [2:29:48<51:56:05,  6.23s/it]"
     ]
    },
    {
     "name": "stdout",
     "output_type": "stream",
     "text": [
      "Current fid score: 1.0930198188167104\n",
      "Fid scores: [4.9325711711390205, 2.4436189539080466, 2.836768048488924, 2.7970490892296382, 3.1710357984691626, 3.3000315606457526, 2.70047286994032, 2.1638209867365674, 2.0204577684506617, 1.3914490073477666, 1.4400591510301268, 1.510807629476865, 2.258796488262803, 1.7612340626121643, 1.7264875375261077, 1.2524196801674918, 1.3446567610169673, 1.6110663800617644, 1.1499442444251073, 1.1722391359154116, 1.7200074762966437, 2.156615950015553, 1.3325966607336674, 0.8853521448197945, 1.0566829426710669, 1.2350619895546657, 1.0571616917674866, 1.370510241710825, 1.5065921467893446, 1.6719117315531875, 1.909778493483067, 1.7204413818191568, 1.5624610984128573, 1.0753806585584016, 1.3278843704483485, 1.3533378755873358, 1.8988524337341843, 1.311208359333218, 1.315135188974292, 1.6493025123445122, 1.2255098483436484, 1.1651169222250104, 0.8573076997493629, 0.729450667331303, 0.7234077685869522, 1.255932364362664, 1.0928023592549607, 0.7040761586618522, 0.9959458987264469, 1.0384877788784266, 1.0041953604475395, 1.0275497493719996, 0.9626051752721381, 1.1457413635081757, 1.0125328386101629, 1.036193935005457, 0.9974276879460966, 1.1198680116327786, 1.0722105710591663, 1.1868924591897212, 1.0989353857280975, 1.1118880007531615, 1.0102777182878384, 0.9995344110008837, 0.824310139795422, 0.881621828617444, 1.1556114222191525, 0.7701034215973799, 0.9216314518395592, 1.055044746537881, 1.0930198188167104]\n"
     ]
    },
    {
     "name": "stderr",
     "output_type": "stream",
     "text": [
      "  0%|          | 0/175 [00:14<?, ?it/s]52:39,  9.48it/s]   \n",
      "  0%|          | 0/15 [00:05<?, ?it/s]\n",
      " 70%|███████   | 70101/100001 [2:29:58<55:44,  8.94it/s]"
     ]
    },
    {
     "name": "stdout",
     "output_type": "stream",
     "text": [
      "GAN: loss d: 0.39289    loss g: -3.02794\n"
     ]
    },
    {
     "name": "stderr",
     "output_type": "stream",
     "text": [
      " 70%|███████   | 70203/100001 [2:30:09<51:51,  9.58it/s]"
     ]
    },
    {
     "name": "stdout",
     "output_type": "stream",
     "text": [
      "GAN: loss d: 3.18473    loss g: -2.07709\n"
     ]
    },
    {
     "name": "stderr",
     "output_type": "stream",
     "text": [
      " 70%|███████   | 70303/100001 [2:30:20<52:10,  9.49it/s]"
     ]
    },
    {
     "name": "stdout",
     "output_type": "stream",
     "text": [
      "GAN: loss d: 2.71759    loss g: -2.76338\n"
     ]
    },
    {
     "name": "stderr",
     "output_type": "stream",
     "text": [
      " 70%|███████   | 70401/100001 [2:30:30<54:46,  9.01it/s]"
     ]
    },
    {
     "name": "stdout",
     "output_type": "stream",
     "text": [
      "GAN: loss d: 3.72881    loss g: -2.14794\n"
     ]
    },
    {
     "name": "stderr",
     "output_type": "stream",
     "text": [
      " 71%|███████   | 70501/100001 [2:30:41<54:39,  9.00it/s]"
     ]
    },
    {
     "name": "stdout",
     "output_type": "stream",
     "text": [
      "GAN: loss d: 3.94664    loss g: -3.87573\n"
     ]
    },
    {
     "name": "stderr",
     "output_type": "stream",
     "text": [
      " 71%|███████   | 70601/100001 [2:30:52<54:10,  9.05it/s]"
     ]
    },
    {
     "name": "stdout",
     "output_type": "stream",
     "text": [
      "GAN: loss d: 3.85173    loss g: -1.97315\n"
     ]
    },
    {
     "name": "stderr",
     "output_type": "stream",
     "text": [
      " 71%|███████   | 70701/100001 [2:31:02<53:24,  9.14it/s]"
     ]
    },
    {
     "name": "stdout",
     "output_type": "stream",
     "text": [
      "GAN: loss d: 5.11216    loss g: -2.48294\n"
     ]
    },
    {
     "name": "stderr",
     "output_type": "stream",
     "text": [
      " 71%|███████   | 70801/100001 [2:31:13<54:17,  8.96it/s]"
     ]
    },
    {
     "name": "stdout",
     "output_type": "stream",
     "text": [
      "GAN: loss d: 3.59290    loss g: -2.35934\n"
     ]
    },
    {
     "name": "stderr",
     "output_type": "stream",
     "text": [
      " 71%|███████   | 70903/100001 [2:31:24<50:36,  9.58it/s]"
     ]
    },
    {
     "name": "stdout",
     "output_type": "stream",
     "text": [
      "GAN: loss d: 3.63008    loss g: -2.79210\n"
     ]
    },
    {
     "name": "stderr",
     "output_type": "stream",
     "text": [
      " 71%|███████   | 71000/100001 [2:31:34<51:32,  9.38it/s]"
     ]
    },
    {
     "name": "stdout",
     "output_type": "stream",
     "text": [
      "GAN: loss d: 4.74359    loss g: -3.01939\n",
      "saving current model\n"
     ]
    },
    {
     "name": "stderr",
     "output_type": "stream",
     "text": [
      "\n",
      "  0%|          | 0/175 [00:00<?, ?it/s]\u001b[A"
     ]
    },
    {
     "name": "stdout",
     "output_type": "stream",
     "text": [
      "Number of real images: 5626\n"
     ]
    },
    {
     "name": "stderr",
     "output_type": "stream",
     "text": [
      "\n",
      "\n",
      "  0%|          | 0/15 [00:00<?, ?it/s]\u001b[A\u001b[A"
     ]
    },
    {
     "name": "stdout",
     "output_type": "stream",
     "text": [
      "Number of synthetic images: 500\n"
     ]
    },
    {
     "name": "stderr",
     "output_type": "stream",
     "text": [
      " 71%|███████   | 71003/100001 [2:31:55<27:30:04,  3.41s/it]"
     ]
    },
    {
     "name": "stdout",
     "output_type": "stream",
     "text": [
      "Current fid score: 0.912387109456084\n",
      "Fid scores: [4.9325711711390205, 2.4436189539080466, 2.836768048488924, 2.7970490892296382, 3.1710357984691626, 3.3000315606457526, 2.70047286994032, 2.1638209867365674, 2.0204577684506617, 1.3914490073477666, 1.4400591510301268, 1.510807629476865, 2.258796488262803, 1.7612340626121643, 1.7264875375261077, 1.2524196801674918, 1.3446567610169673, 1.6110663800617644, 1.1499442444251073, 1.1722391359154116, 1.7200074762966437, 2.156615950015553, 1.3325966607336674, 0.8853521448197945, 1.0566829426710669, 1.2350619895546657, 1.0571616917674866, 1.370510241710825, 1.5065921467893446, 1.6719117315531875, 1.909778493483067, 1.7204413818191568, 1.5624610984128573, 1.0753806585584016, 1.3278843704483485, 1.3533378755873358, 1.8988524337341843, 1.311208359333218, 1.315135188974292, 1.6493025123445122, 1.2255098483436484, 1.1651169222250104, 0.8573076997493629, 0.729450667331303, 0.7234077685869522, 1.255932364362664, 1.0928023592549607, 0.7040761586618522, 0.9959458987264469, 1.0384877788784266, 1.0041953604475395, 1.0275497493719996, 0.9626051752721381, 1.1457413635081757, 1.0125328386101629, 1.036193935005457, 0.9974276879460966, 1.1198680116327786, 1.0722105710591663, 1.1868924591897212, 1.0989353857280975, 1.1118880007531615, 1.0102777182878384, 0.9995344110008837, 0.824310139795422, 0.881621828617444, 1.1556114222191525, 0.7701034215973799, 0.9216314518395592, 1.055044746537881, 1.0930198188167104, 0.912387109456084]\n"
     ]
    },
    {
     "name": "stderr",
     "output_type": "stream",
     "text": [
      "  0%|          | 0/175 [00:10<?, ?it/s]2:49:49,  2.85it/s] \n",
      "  0%|          | 0/15 [00:02<?, ?it/s]\n",
      " 71%|███████   | 71101/100001 [2:32:05<52:31,  9.17it/s]  "
     ]
    },
    {
     "name": "stdout",
     "output_type": "stream",
     "text": [
      "GAN: loss d: 2.47873    loss g: -2.04096\n"
     ]
    },
    {
     "name": "stderr",
     "output_type": "stream",
     "text": [
      " 71%|███████   | 71201/100001 [2:32:16<53:05,  9.04it/s]"
     ]
    },
    {
     "name": "stdout",
     "output_type": "stream",
     "text": [
      "GAN: loss d: 4.58785    loss g: -2.84905\n"
     ]
    },
    {
     "name": "stderr",
     "output_type": "stream",
     "text": [
      " 71%|███████▏  | 71301/100001 [2:32:26<52:26,  9.12it/s]"
     ]
    },
    {
     "name": "stdout",
     "output_type": "stream",
     "text": [
      "GAN: loss d: 4.98986    loss g: -2.20012\n"
     ]
    },
    {
     "name": "stderr",
     "output_type": "stream",
     "text": [
      " 71%|███████▏  | 71401/100001 [2:32:37<53:55,  8.84it/s]"
     ]
    },
    {
     "name": "stdout",
     "output_type": "stream",
     "text": [
      "GAN: loss d: 3.08682    loss g: -3.09422\n"
     ]
    },
    {
     "name": "stderr",
     "output_type": "stream",
     "text": [
      " 72%|███████▏  | 71501/100001 [2:32:48<53:25,  8.89it/s]"
     ]
    },
    {
     "name": "stdout",
     "output_type": "stream",
     "text": [
      "GAN: loss d: 1.27456    loss g: -3.04816\n"
     ]
    },
    {
     "name": "stderr",
     "output_type": "stream",
     "text": [
      " 72%|███████▏  | 71601/100001 [2:32:58<52:08,  9.08it/s]"
     ]
    },
    {
     "name": "stdout",
     "output_type": "stream",
     "text": [
      "GAN: loss d: 3.59678    loss g: -1.77921\n"
     ]
    },
    {
     "name": "stderr",
     "output_type": "stream",
     "text": [
      " 72%|███████▏  | 71701/100001 [2:33:09<52:08,  9.04it/s]"
     ]
    },
    {
     "name": "stdout",
     "output_type": "stream",
     "text": [
      "GAN: loss d: 6.06143    loss g: -2.99898\n"
     ]
    },
    {
     "name": "stderr",
     "output_type": "stream",
     "text": [
      " 72%|███████▏  | 71803/100001 [2:33:20<48:58,  9.60it/s]"
     ]
    },
    {
     "name": "stdout",
     "output_type": "stream",
     "text": [
      "GAN: loss d: 3.94484    loss g: -3.05569\n"
     ]
    },
    {
     "name": "stderr",
     "output_type": "stream",
     "text": [
      " 72%|███████▏  | 71901/100001 [2:33:30<50:53,  9.20it/s]"
     ]
    },
    {
     "name": "stdout",
     "output_type": "stream",
     "text": [
      "GAN: loss d: 2.84808    loss g: -2.20336\n"
     ]
    },
    {
     "name": "stderr",
     "output_type": "stream",
     "text": [
      " 72%|███████▏  | 72000/100001 [2:33:41<49:06,  9.50it/s]"
     ]
    },
    {
     "name": "stdout",
     "output_type": "stream",
     "text": [
      "GAN: loss d: 5.04370    loss g: -2.28656\n",
      "saving current model\n"
     ]
    },
    {
     "name": "stderr",
     "output_type": "stream",
     "text": [
      "\n",
      "  0%|          | 0/175 [00:00<?, ?it/s]\u001b[A"
     ]
    },
    {
     "name": "stdout",
     "output_type": "stream",
     "text": [
      "Number of real images: 5626\n"
     ]
    },
    {
     "name": "stderr",
     "output_type": "stream",
     "text": [
      "\n",
      "\n",
      "  0%|          | 0/15 [00:00<?, ?it/s]\u001b[A\u001b[A"
     ]
    },
    {
     "name": "stdout",
     "output_type": "stream",
     "text": [
      "Number of synthetic images: 500\n"
     ]
    },
    {
     "name": "stderr",
     "output_type": "stream",
     "text": [
      " 72%|███████▏  | 72001/100001 [2:34:01<48:28:57,  6.23s/it]"
     ]
    },
    {
     "name": "stdout",
     "output_type": "stream",
     "text": [
      "Current fid score: 0.9528460937144203\n",
      "Fid scores: [4.9325711711390205, 2.4436189539080466, 2.836768048488924, 2.7970490892296382, 3.1710357984691626, 3.3000315606457526, 2.70047286994032, 2.1638209867365674, 2.0204577684506617, 1.3914490073477666, 1.4400591510301268, 1.510807629476865, 2.258796488262803, 1.7612340626121643, 1.7264875375261077, 1.2524196801674918, 1.3446567610169673, 1.6110663800617644, 1.1499442444251073, 1.1722391359154116, 1.7200074762966437, 2.156615950015553, 1.3325966607336674, 0.8853521448197945, 1.0566829426710669, 1.2350619895546657, 1.0571616917674866, 1.370510241710825, 1.5065921467893446, 1.6719117315531875, 1.909778493483067, 1.7204413818191568, 1.5624610984128573, 1.0753806585584016, 1.3278843704483485, 1.3533378755873358, 1.8988524337341843, 1.311208359333218, 1.315135188974292, 1.6493025123445122, 1.2255098483436484, 1.1651169222250104, 0.8573076997493629, 0.729450667331303, 0.7234077685869522, 1.255932364362664, 1.0928023592549607, 0.7040761586618522, 0.9959458987264469, 1.0384877788784266, 1.0041953604475395, 1.0275497493719996, 0.9626051752721381, 1.1457413635081757, 1.0125328386101629, 1.036193935005457, 0.9974276879460966, 1.1198680116327786, 1.0722105710591663, 1.1868924591897212, 1.0989353857280975, 1.1118880007531615, 1.0102777182878384, 0.9995344110008837, 0.824310139795422, 0.881621828617444, 1.1556114222191525, 0.7701034215973799, 0.9216314518395592, 1.055044746537881, 1.0930198188167104, 0.912387109456084, 0.9528460937144203]\n"
     ]
    },
    {
     "name": "stderr",
     "output_type": "stream",
     "text": [
      "  0%|          | 0/175 [00:18<?, ?it/s]49:15,  9.45it/s]   \n",
      "  0%|          | 0/15 [00:09<?, ?it/s]\n",
      " 72%|███████▏  | 72101/100001 [2:34:12<52:32,  8.85it/s]"
     ]
    },
    {
     "name": "stdout",
     "output_type": "stream",
     "text": [
      "GAN: loss d: 0.15829    loss g: -2.76815\n"
     ]
    },
    {
     "name": "stderr",
     "output_type": "stream",
     "text": [
      " 72%|███████▏  | 72201/100001 [2:34:23<52:18,  8.86it/s]"
     ]
    },
    {
     "name": "stdout",
     "output_type": "stream",
     "text": [
      "GAN: loss d: 4.11333    loss g: -2.60841\n"
     ]
    },
    {
     "name": "stderr",
     "output_type": "stream",
     "text": [
      " 72%|███████▏  | 72303/100001 [2:34:34<48:38,  9.49it/s]"
     ]
    },
    {
     "name": "stdout",
     "output_type": "stream",
     "text": [
      "GAN: loss d: 2.75872    loss g: -2.98838\n"
     ]
    },
    {
     "name": "stderr",
     "output_type": "stream",
     "text": [
      " 72%|███████▏  | 72403/100001 [2:34:44<48:06,  9.56it/s]"
     ]
    },
    {
     "name": "stdout",
     "output_type": "stream",
     "text": [
      "GAN: loss d: 5.73118    loss g: -1.76971\n"
     ]
    },
    {
     "name": "stderr",
     "output_type": "stream",
     "text": [
      " 73%|███████▎  | 72503/100001 [2:34:55<47:58,  9.55it/s]"
     ]
    },
    {
     "name": "stdout",
     "output_type": "stream",
     "text": [
      "GAN: loss d: 3.14735    loss g: -2.12622\n"
     ]
    },
    {
     "name": "stderr",
     "output_type": "stream",
     "text": [
      " 73%|███████▎  | 72601/100001 [2:35:05<51:06,  8.93it/s]"
     ]
    },
    {
     "name": "stdout",
     "output_type": "stream",
     "text": [
      "GAN: loss d: 1.27622    loss g: -2.44094\n"
     ]
    },
    {
     "name": "stderr",
     "output_type": "stream",
     "text": [
      " 73%|███████▎  | 72701/100001 [2:35:16<49:22,  9.22it/s]"
     ]
    },
    {
     "name": "stdout",
     "output_type": "stream",
     "text": [
      "GAN: loss d: 4.55059    loss g: -3.33599\n"
     ]
    },
    {
     "name": "stderr",
     "output_type": "stream",
     "text": [
      " 73%|███████▎  | 72801/100001 [2:35:26<49:30,  9.16it/s]"
     ]
    },
    {
     "name": "stdout",
     "output_type": "stream",
     "text": [
      "GAN: loss d: 0.74081    loss g: -1.83702\n"
     ]
    },
    {
     "name": "stderr",
     "output_type": "stream",
     "text": [
      " 73%|███████▎  | 72901/100001 [2:35:37<50:04,  9.02it/s]"
     ]
    },
    {
     "name": "stdout",
     "output_type": "stream",
     "text": [
      "GAN: loss d: -1.55259    loss g: -2.16415\n"
     ]
    },
    {
     "name": "stderr",
     "output_type": "stream",
     "text": [
      " 73%|███████▎  | 73000/100001 [2:35:48<48:01,  9.37it/s]"
     ]
    },
    {
     "name": "stdout",
     "output_type": "stream",
     "text": [
      "GAN: loss d: 4.50192    loss g: -2.41674\n",
      "saving current model\n"
     ]
    },
    {
     "name": "stderr",
     "output_type": "stream",
     "text": [
      "\n",
      "  0%|          | 0/175 [00:00<?, ?it/s]\u001b[A"
     ]
    },
    {
     "name": "stdout",
     "output_type": "stream",
     "text": [
      "Number of real images: 5626\n"
     ]
    },
    {
     "name": "stderr",
     "output_type": "stream",
     "text": [
      "\n",
      "\n",
      "  0%|          | 0/15 [00:00<?, ?it/s]\u001b[A\u001b[A"
     ]
    },
    {
     "name": "stdout",
     "output_type": "stream",
     "text": [
      "Number of synthetic images: 500\n"
     ]
    },
    {
     "name": "stderr",
     "output_type": "stream",
     "text": [
      " 73%|███████▎  | 73002/100001 [2:36:08<32:58:36,  4.40s/it]"
     ]
    },
    {
     "name": "stdout",
     "output_type": "stream",
     "text": [
      "Current fid score: 0.9098320468963905\n",
      "Fid scores: [4.9325711711390205, 2.4436189539080466, 2.836768048488924, 2.7970490892296382, 3.1710357984691626, 3.3000315606457526, 2.70047286994032, 2.1638209867365674, 2.0204577684506617, 1.3914490073477666, 1.4400591510301268, 1.510807629476865, 2.258796488262803, 1.7612340626121643, 1.7264875375261077, 1.2524196801674918, 1.3446567610169673, 1.6110663800617644, 1.1499442444251073, 1.1722391359154116, 1.7200074762966437, 2.156615950015553, 1.3325966607336674, 0.8853521448197945, 1.0566829426710669, 1.2350619895546657, 1.0571616917674866, 1.370510241710825, 1.5065921467893446, 1.6719117315531875, 1.909778493483067, 1.7204413818191568, 1.5624610984128573, 1.0753806585584016, 1.3278843704483485, 1.3533378755873358, 1.8988524337341843, 1.311208359333218, 1.315135188974292, 1.6493025123445122, 1.2255098483436484, 1.1651169222250104, 0.8573076997493629, 0.729450667331303, 0.7234077685869522, 1.255932364362664, 1.0928023592549607, 0.7040761586618522, 0.9959458987264469, 1.0384877788784266, 1.0041953604475395, 1.0275497493719996, 0.9626051752721381, 1.1457413635081757, 1.0125328386101629, 1.036193935005457, 0.9974276879460966, 1.1198680116327786, 1.0722105710591663, 1.1868924591897212, 1.0989353857280975, 1.1118880007531615, 1.0102777182878384, 0.9995344110008837, 0.824310139795422, 0.881621828617444, 1.1556114222191525, 0.7701034215973799, 0.9216314518395592, 1.055044746537881, 1.0930198188167104, 0.912387109456084, 0.9528460937144203, 0.9098320468963905]\n"
     ]
    },
    {
     "name": "stderr",
     "output_type": "stream",
     "text": [
      "  0%|          | 0/175 [00:14<?, ?it/s]47:46,  9.40it/s]   \n",
      "  0%|          | 0/15 [00:06<?, ?it/s]\n",
      " 73%|███████▎  | 73101/100001 [2:36:19<49:49,  9.00it/s]"
     ]
    },
    {
     "name": "stdout",
     "output_type": "stream",
     "text": [
      "GAN: loss d: 2.99705    loss g: -3.32247\n"
     ]
    },
    {
     "name": "stderr",
     "output_type": "stream",
     "text": [
      " 73%|███████▎  | 73201/100001 [2:36:29<48:59,  9.12it/s]"
     ]
    },
    {
     "name": "stdout",
     "output_type": "stream",
     "text": [
      "GAN: loss d: 1.16183    loss g: -2.85138\n"
     ]
    },
    {
     "name": "stderr",
     "output_type": "stream",
     "text": [
      " 73%|███████▎  | 73303/100001 [2:36:40<46:00,  9.67it/s]"
     ]
    },
    {
     "name": "stdout",
     "output_type": "stream",
     "text": [
      "GAN: loss d: 1.81886    loss g: -3.22231\n"
     ]
    },
    {
     "name": "stderr",
     "output_type": "stream",
     "text": [
      " 73%|███████▎  | 73401/100001 [2:36:51<48:42,  9.10it/s]"
     ]
    },
    {
     "name": "stdout",
     "output_type": "stream",
     "text": [
      "GAN: loss d: 2.40435    loss g: -2.77698\n"
     ]
    },
    {
     "name": "stderr",
     "output_type": "stream",
     "text": [
      " 74%|███████▎  | 73501/100001 [2:37:01<48:35,  9.09it/s]"
     ]
    },
    {
     "name": "stdout",
     "output_type": "stream",
     "text": [
      "GAN: loss d: 4.40278    loss g: -2.47429\n"
     ]
    },
    {
     "name": "stderr",
     "output_type": "stream",
     "text": [
      " 74%|███████▎  | 73603/100001 [2:37:12<45:58,  9.57it/s]"
     ]
    },
    {
     "name": "stdout",
     "output_type": "stream",
     "text": [
      "GAN: loss d: 5.72775    loss g: -2.04874\n"
     ]
    },
    {
     "name": "stderr",
     "output_type": "stream",
     "text": [
      " 74%|███████▎  | 73703/100001 [2:37:22<46:06,  9.51it/s]"
     ]
    },
    {
     "name": "stdout",
     "output_type": "stream",
     "text": [
      "GAN: loss d: 5.13716    loss g: -1.73420\n"
     ]
    },
    {
     "name": "stderr",
     "output_type": "stream",
     "text": [
      " 74%|███████▍  | 73801/100001 [2:37:33<48:06,  9.08it/s]"
     ]
    },
    {
     "name": "stdout",
     "output_type": "stream",
     "text": [
      "GAN: loss d: 6.23431    loss g: -3.70786\n"
     ]
    },
    {
     "name": "stderr",
     "output_type": "stream",
     "text": [
      " 74%|███████▍  | 73901/100001 [2:37:43<47:17,  9.20it/s]"
     ]
    },
    {
     "name": "stdout",
     "output_type": "stream",
     "text": [
      "GAN: loss d: 3.59105    loss g: -2.47754\n"
     ]
    },
    {
     "name": "stderr",
     "output_type": "stream",
     "text": [
      " 74%|███████▍  | 74000/100001 [2:37:54<45:19,  9.56it/s]"
     ]
    },
    {
     "name": "stdout",
     "output_type": "stream",
     "text": [
      "GAN: loss d: 2.74489    loss g: -3.31090\n",
      "saving current model\n"
     ]
    },
    {
     "name": "stderr",
     "output_type": "stream",
     "text": [
      "\n",
      "  0%|          | 0/175 [00:00<?, ?it/s]\u001b[A"
     ]
    },
    {
     "name": "stdout",
     "output_type": "stream",
     "text": [
      "Number of real images: 5626\n"
     ]
    },
    {
     "name": "stderr",
     "output_type": "stream",
     "text": [
      "\n",
      "\n",
      "  0%|          | 0/15 [00:00<?, ?it/s]\u001b[A\u001b[A"
     ]
    },
    {
     "name": "stdout",
     "output_type": "stream",
     "text": [
      "Number of synthetic images: 500\n"
     ]
    },
    {
     "name": "stderr",
     "output_type": "stream",
     "text": [
      " 74%|███████▍  | 74001/100001 [2:38:15<45:07:06,  6.25s/it]"
     ]
    },
    {
     "name": "stdout",
     "output_type": "stream",
     "text": [
      "Current fid score: 0.8685090871365695\n",
      "Fid scores: [4.9325711711390205, 2.4436189539080466, 2.836768048488924, 2.7970490892296382, 3.1710357984691626, 3.3000315606457526, 2.70047286994032, 2.1638209867365674, 2.0204577684506617, 1.3914490073477666, 1.4400591510301268, 1.510807629476865, 2.258796488262803, 1.7612340626121643, 1.7264875375261077, 1.2524196801674918, 1.3446567610169673, 1.6110663800617644, 1.1499442444251073, 1.1722391359154116, 1.7200074762966437, 2.156615950015553, 1.3325966607336674, 0.8853521448197945, 1.0566829426710669, 1.2350619895546657, 1.0571616917674866, 1.370510241710825, 1.5065921467893446, 1.6719117315531875, 1.909778493483067, 1.7204413818191568, 1.5624610984128573, 1.0753806585584016, 1.3278843704483485, 1.3533378755873358, 1.8988524337341843, 1.311208359333218, 1.315135188974292, 1.6493025123445122, 1.2255098483436484, 1.1651169222250104, 0.8573076997493629, 0.729450667331303, 0.7234077685869522, 1.255932364362664, 1.0928023592549607, 0.7040761586618522, 0.9959458987264469, 1.0384877788784266, 1.0041953604475395, 1.0275497493719996, 0.9626051752721381, 1.1457413635081757, 1.0125328386101629, 1.036193935005457, 0.9974276879460966, 1.1198680116327786, 1.0722105710591663, 1.1868924591897212, 1.0989353857280975, 1.1118880007531615, 1.0102777182878384, 0.9995344110008837, 0.824310139795422, 0.881621828617444, 1.1556114222191525, 0.7701034215973799, 0.9216314518395592, 1.055044746537881, 1.0930198188167104, 0.912387109456084, 0.9528460937144203, 0.9098320468963905, 0.8685090871365695]\n"
     ]
    },
    {
     "name": "stderr",
     "output_type": "stream",
     "text": [
      "  0%|          | 0/175 [00:10<?, ?it/s]4:16:33,  1.69it/s] \n",
      "  0%|          | 0/15 [00:01<?, ?it/s]\n",
      " 74%|███████▍  | 74103/100001 [2:38:25<44:45,  9.64it/s]  "
     ]
    },
    {
     "name": "stdout",
     "output_type": "stream",
     "text": [
      "GAN: loss d: 5.83741    loss g: -3.44548\n"
     ]
    },
    {
     "name": "stderr",
     "output_type": "stream",
     "text": [
      " 74%|███████▍  | 74203/100001 [2:38:36<45:21,  9.48it/s]"
     ]
    },
    {
     "name": "stdout",
     "output_type": "stream",
     "text": [
      "GAN: loss d: 4.77732    loss g: -2.51431\n"
     ]
    },
    {
     "name": "stderr",
     "output_type": "stream",
     "text": [
      " 74%|███████▍  | 74301/100001 [2:38:46<48:21,  8.86it/s]"
     ]
    },
    {
     "name": "stdout",
     "output_type": "stream",
     "text": [
      "GAN: loss d: 6.10330    loss g: -3.57619\n"
     ]
    },
    {
     "name": "stderr",
     "output_type": "stream",
     "text": [
      " 74%|███████▍  | 74402/100001 [2:38:57<45:24,  9.39it/s]"
     ]
    },
    {
     "name": "stdout",
     "output_type": "stream",
     "text": [
      "GAN: loss d: 3.37225    loss g: -2.46623\n"
     ]
    },
    {
     "name": "stderr",
     "output_type": "stream",
     "text": [
      " 75%|███████▍  | 74501/100001 [2:39:07<46:41,  9.10it/s]"
     ]
    },
    {
     "name": "stdout",
     "output_type": "stream",
     "text": [
      "GAN: loss d: 4.58439    loss g: -2.81438\n"
     ]
    },
    {
     "name": "stderr",
     "output_type": "stream",
     "text": [
      " 75%|███████▍  | 74603/100001 [2:39:18<44:36,  9.49it/s]"
     ]
    },
    {
     "name": "stdout",
     "output_type": "stream",
     "text": [
      "GAN: loss d: 4.79302    loss g: -1.94881\n"
     ]
    },
    {
     "name": "stderr",
     "output_type": "stream",
     "text": [
      " 75%|███████▍  | 74701/100001 [2:39:29<46:26,  9.08it/s]"
     ]
    },
    {
     "name": "stdout",
     "output_type": "stream",
     "text": [
      "GAN: loss d: 3.89416    loss g: -3.15256\n"
     ]
    },
    {
     "name": "stderr",
     "output_type": "stream",
     "text": [
      " 75%|███████▍  | 74801/100001 [2:39:39<46:19,  9.07it/s]"
     ]
    },
    {
     "name": "stdout",
     "output_type": "stream",
     "text": [
      "GAN: loss d: 5.18633    loss g: -2.88240\n"
     ]
    },
    {
     "name": "stderr",
     "output_type": "stream",
     "text": [
      " 75%|███████▍  | 74903/100001 [2:39:50<43:27,  9.63it/s]"
     ]
    },
    {
     "name": "stdout",
     "output_type": "stream",
     "text": [
      "GAN: loss d: 3.11746    loss g: -2.70019\n"
     ]
    },
    {
     "name": "stderr",
     "output_type": "stream",
     "text": [
      " 75%|███████▍  | 75000/100001 [2:40:00<44:25,  9.38it/s]"
     ]
    },
    {
     "name": "stdout",
     "output_type": "stream",
     "text": [
      "GAN: loss d: 2.77242    loss g: -1.96683\n",
      "saving current model\n"
     ]
    },
    {
     "name": "stderr",
     "output_type": "stream",
     "text": [
      "\n",
      "  0%|          | 0/175 [00:00<?, ?it/s]\u001b[A"
     ]
    },
    {
     "name": "stdout",
     "output_type": "stream",
     "text": [
      "Number of real images: 5626\n"
     ]
    },
    {
     "name": "stderr",
     "output_type": "stream",
     "text": [
      "\n",
      "\n",
      "  0%|          | 0/15 [00:00<?, ?it/s]\u001b[A\u001b[A"
     ]
    },
    {
     "name": "stdout",
     "output_type": "stream",
     "text": [
      "Number of synthetic images: 500\n"
     ]
    },
    {
     "name": "stderr",
     "output_type": "stream",
     "text": [
      " 75%|███████▌  | 75003/100001 [2:40:21<24:00:26,  3.46s/it]"
     ]
    },
    {
     "name": "stdout",
     "output_type": "stream",
     "text": [
      "Current fid score: 1.4180429038533404\n",
      "Fid scores: [4.9325711711390205, 2.4436189539080466, 2.836768048488924, 2.7970490892296382, 3.1710357984691626, 3.3000315606457526, 2.70047286994032, 2.1638209867365674, 2.0204577684506617, 1.3914490073477666, 1.4400591510301268, 1.510807629476865, 2.258796488262803, 1.7612340626121643, 1.7264875375261077, 1.2524196801674918, 1.3446567610169673, 1.6110663800617644, 1.1499442444251073, 1.1722391359154116, 1.7200074762966437, 2.156615950015553, 1.3325966607336674, 0.8853521448197945, 1.0566829426710669, 1.2350619895546657, 1.0571616917674866, 1.370510241710825, 1.5065921467893446, 1.6719117315531875, 1.909778493483067, 1.7204413818191568, 1.5624610984128573, 1.0753806585584016, 1.3278843704483485, 1.3533378755873358, 1.8988524337341843, 1.311208359333218, 1.315135188974292, 1.6493025123445122, 1.2255098483436484, 1.1651169222250104, 0.8573076997493629, 0.729450667331303, 0.7234077685869522, 1.255932364362664, 1.0928023592549607, 0.7040761586618522, 0.9959458987264469, 1.0384877788784266, 1.0041953604475395, 1.0275497493719996, 0.9626051752721381, 1.1457413635081757, 1.0125328386101629, 1.036193935005457, 0.9974276879460966, 1.1198680116327786, 1.0722105710591663, 1.1868924591897212, 1.0989353857280975, 1.1118880007531615, 1.0102777182878384, 0.9995344110008837, 0.824310139795422, 0.881621828617444, 1.1556114222191525, 0.7701034215973799, 0.9216314518395592, 1.055044746537881, 1.0930198188167104, 0.912387109456084, 0.9528460937144203, 0.9098320468963905, 0.8685090871365695, 1.4180429038533404]\n"
     ]
    },
    {
     "name": "stderr",
     "output_type": "stream",
     "text": [
      "  0%|          | 0/175 [00:18<?, ?it/s]44:02,  9.43it/s]   \n",
      "  0%|          | 0/15 [00:10<?, ?it/s]\n",
      " 75%|███████▌  | 75101/100001 [2:40:32<45:27,  9.13it/s]"
     ]
    },
    {
     "name": "stdout",
     "output_type": "stream",
     "text": [
      "GAN: loss d: 4.06336    loss g: -2.58311\n"
     ]
    },
    {
     "name": "stderr",
     "output_type": "stream",
     "text": [
      " 75%|███████▌  | 75201/100001 [2:40:42<45:47,  9.03it/s]"
     ]
    },
    {
     "name": "stdout",
     "output_type": "stream",
     "text": [
      "GAN: loss d: 4.72408    loss g: -2.90204\n"
     ]
    },
    {
     "name": "stderr",
     "output_type": "stream",
     "text": [
      " 75%|███████▌  | 75303/100001 [2:40:53<42:55,  9.59it/s]"
     ]
    },
    {
     "name": "stdout",
     "output_type": "stream",
     "text": [
      "GAN: loss d: 1.74854    loss g: -2.82426\n"
     ]
    },
    {
     "name": "stderr",
     "output_type": "stream",
     "text": [
      " 75%|███████▌  | 75401/100001 [2:41:04<45:32,  9.00it/s]"
     ]
    },
    {
     "name": "stdout",
     "output_type": "stream",
     "text": [
      "GAN: loss d: 2.38724    loss g: -3.26899\n"
     ]
    },
    {
     "name": "stderr",
     "output_type": "stream",
     "text": [
      " 76%|███████▌  | 75503/100001 [2:41:14<42:30,  9.60it/s]"
     ]
    },
    {
     "name": "stdout",
     "output_type": "stream",
     "text": [
      "GAN: loss d: 3.98668    loss g: -2.47752\n"
     ]
    },
    {
     "name": "stderr",
     "output_type": "stream",
     "text": [
      " 76%|███████▌  | 75601/100001 [2:41:25<44:09,  9.21it/s]"
     ]
    },
    {
     "name": "stdout",
     "output_type": "stream",
     "text": [
      "GAN: loss d: 1.47165    loss g: -3.15860\n"
     ]
    },
    {
     "name": "stderr",
     "output_type": "stream",
     "text": [
      " 76%|███████▌  | 75701/100001 [2:41:35<45:02,  8.99it/s]"
     ]
    },
    {
     "name": "stdout",
     "output_type": "stream",
     "text": [
      "GAN: loss d: 4.47607    loss g: -1.91487\n"
     ]
    },
    {
     "name": "stderr",
     "output_type": "stream",
     "text": [
      " 76%|███████▌  | 75801/100001 [2:41:46<44:13,  9.12it/s]"
     ]
    },
    {
     "name": "stdout",
     "output_type": "stream",
     "text": [
      "GAN: loss d: 2.41098    loss g: -3.47843\n"
     ]
    },
    {
     "name": "stderr",
     "output_type": "stream",
     "text": [
      " 76%|███████▌  | 75901/100001 [2:41:57<45:03,  8.91it/s]"
     ]
    },
    {
     "name": "stdout",
     "output_type": "stream",
     "text": [
      "GAN: loss d: 4.54685    loss g: -3.31919\n"
     ]
    },
    {
     "name": "stderr",
     "output_type": "stream",
     "text": [
      " 76%|███████▌  | 76000/100001 [2:42:07<42:07,  9.50it/s]"
     ]
    },
    {
     "name": "stdout",
     "output_type": "stream",
     "text": [
      "GAN: loss d: 3.04638    loss g: -2.18787\n",
      "saving current model\n"
     ]
    },
    {
     "name": "stderr",
     "output_type": "stream",
     "text": [
      "\n",
      "  0%|          | 0/175 [00:00<?, ?it/s]\u001b[A"
     ]
    },
    {
     "name": "stdout",
     "output_type": "stream",
     "text": [
      "Number of real images: 5626\n"
     ]
    },
    {
     "name": "stderr",
     "output_type": "stream",
     "text": [
      "\n",
      "\n",
      "  0%|          | 0/15 [00:00<?, ?it/s]\u001b[A\u001b[A"
     ]
    },
    {
     "name": "stdout",
     "output_type": "stream",
     "text": [
      "Number of synthetic images: 500\n"
     ]
    },
    {
     "name": "stderr",
     "output_type": "stream",
     "text": [
      " 76%|███████▌  | 76003/100001 [2:42:28<22:37:39,  3.39s/it]"
     ]
    },
    {
     "name": "stdout",
     "output_type": "stream",
     "text": [
      "Current fid score: 1.0362397864138515\n",
      "Fid scores: [4.9325711711390205, 2.4436189539080466, 2.836768048488924, 2.7970490892296382, 3.1710357984691626, 3.3000315606457526, 2.70047286994032, 2.1638209867365674, 2.0204577684506617, 1.3914490073477666, 1.4400591510301268, 1.510807629476865, 2.258796488262803, 1.7612340626121643, 1.7264875375261077, 1.2524196801674918, 1.3446567610169673, 1.6110663800617644, 1.1499442444251073, 1.1722391359154116, 1.7200074762966437, 2.156615950015553, 1.3325966607336674, 0.8853521448197945, 1.0566829426710669, 1.2350619895546657, 1.0571616917674866, 1.370510241710825, 1.5065921467893446, 1.6719117315531875, 1.909778493483067, 1.7204413818191568, 1.5624610984128573, 1.0753806585584016, 1.3278843704483485, 1.3533378755873358, 1.8988524337341843, 1.311208359333218, 1.315135188974292, 1.6493025123445122, 1.2255098483436484, 1.1651169222250104, 0.8573076997493629, 0.729450667331303, 0.7234077685869522, 1.255932364362664, 1.0928023592549607, 0.7040761586618522, 0.9959458987264469, 1.0384877788784266, 1.0041953604475395, 1.0275497493719996, 0.9626051752721381, 1.1457413635081757, 1.0125328386101629, 1.036193935005457, 0.9974276879460966, 1.1198680116327786, 1.0722105710591663, 1.1868924591897212, 1.0989353857280975, 1.1118880007531615, 1.0102777182878384, 0.9995344110008837, 0.824310139795422, 0.881621828617444, 1.1556114222191525, 0.7701034215973799, 0.9216314518395592, 1.055044746537881, 1.0930198188167104, 0.912387109456084, 0.9528460937144203, 0.9098320468963905, 0.8685090871365695, 1.4180429038533404, 1.0362397864138515]\n"
     ]
    },
    {
     "name": "stderr",
     "output_type": "stream",
     "text": [
      "  0%|          | 0/175 [00:15<?, ?it/s]43:01,  9.28it/s]   \n",
      "  0%|          | 0/15 [00:06<?, ?it/s]\n",
      " 76%|███████▌  | 76103/100001 [2:42:39<41:56,  9.50it/s]"
     ]
    },
    {
     "name": "stdout",
     "output_type": "stream",
     "text": [
      "GAN: loss d: 0.89994    loss g: -2.77195\n"
     ]
    },
    {
     "name": "stderr",
     "output_type": "stream",
     "text": [
      " 76%|███████▌  | 76201/100001 [2:42:49<43:56,  9.03it/s]"
     ]
    },
    {
     "name": "stdout",
     "output_type": "stream",
     "text": [
      "GAN: loss d: 3.65302    loss g: -2.43961\n"
     ]
    },
    {
     "name": "stderr",
     "output_type": "stream",
     "text": [
      " 76%|███████▋  | 76303/100001 [2:43:00<41:40,  9.48it/s]"
     ]
    },
    {
     "name": "stdout",
     "output_type": "stream",
     "text": [
      "GAN: loss d: 2.61549    loss g: -2.62017\n"
     ]
    },
    {
     "name": "stderr",
     "output_type": "stream",
     "text": [
      " 76%|███████▋  | 76401/100001 [2:43:10<42:40,  9.22it/s]"
     ]
    },
    {
     "name": "stdout",
     "output_type": "stream",
     "text": [
      "GAN: loss d: 0.55565    loss g: -2.05977\n"
     ]
    },
    {
     "name": "stderr",
     "output_type": "stream",
     "text": [
      " 77%|███████▋  | 76501/100001 [2:43:21<43:09,  9.08it/s]"
     ]
    },
    {
     "name": "stdout",
     "output_type": "stream",
     "text": [
      "GAN: loss d: 5.12657    loss g: -3.02164\n"
     ]
    },
    {
     "name": "stderr",
     "output_type": "stream",
     "text": [
      " 77%|███████▋  | 76601/100001 [2:43:32<43:21,  8.99it/s]"
     ]
    },
    {
     "name": "stdout",
     "output_type": "stream",
     "text": [
      "GAN: loss d: 1.53942    loss g: -2.05367\n"
     ]
    },
    {
     "name": "stderr",
     "output_type": "stream",
     "text": [
      " 77%|███████▋  | 76703/100001 [2:43:42<41:05,  9.45it/s]"
     ]
    },
    {
     "name": "stdout",
     "output_type": "stream",
     "text": [
      "GAN: loss d: 3.80236    loss g: -2.20048\n"
     ]
    },
    {
     "name": "stderr",
     "output_type": "stream",
     "text": [
      " 77%|███████▋  | 76801/100001 [2:43:53<43:18,  8.93it/s]"
     ]
    },
    {
     "name": "stdout",
     "output_type": "stream",
     "text": [
      "GAN: loss d: 5.13650    loss g: -3.41596\n"
     ]
    },
    {
     "name": "stderr",
     "output_type": "stream",
     "text": [
      " 77%|███████▋  | 76901/100001 [2:44:03<42:10,  9.13it/s]"
     ]
    },
    {
     "name": "stdout",
     "output_type": "stream",
     "text": [
      "GAN: loss d: 3.66515    loss g: -3.44784\n"
     ]
    },
    {
     "name": "stderr",
     "output_type": "stream",
     "text": [
      " 77%|███████▋  | 77000/100001 [2:44:14<40:24,  9.49it/s]"
     ]
    },
    {
     "name": "stdout",
     "output_type": "stream",
     "text": [
      "GAN: loss d: 3.10991    loss g: -2.91038\n",
      "saving current model\n"
     ]
    },
    {
     "name": "stderr",
     "output_type": "stream",
     "text": [
      "\n",
      "  0%|          | 0/175 [00:00<?, ?it/s]\u001b[A"
     ]
    },
    {
     "name": "stdout",
     "output_type": "stream",
     "text": [
      "Number of real images: 5626\n"
     ]
    },
    {
     "name": "stderr",
     "output_type": "stream",
     "text": [
      "\n",
      "\n",
      "  0%|          | 0/15 [00:00<?, ?it/s]\u001b[A\u001b[A"
     ]
    },
    {
     "name": "stdout",
     "output_type": "stream",
     "text": [
      "Number of synthetic images: 500\n"
     ]
    },
    {
     "name": "stderr",
     "output_type": "stream",
     "text": [
      " 77%|███████▋  | 77003/100001 [2:44:35<21:45:24,  3.41s/it]"
     ]
    },
    {
     "name": "stdout",
     "output_type": "stream",
     "text": [
      "Current fid score: 0.9403458634711086\n",
      "Fid scores: [4.9325711711390205, 2.4436189539080466, 2.836768048488924, 2.7970490892296382, 3.1710357984691626, 3.3000315606457526, 2.70047286994032, 2.1638209867365674, 2.0204577684506617, 1.3914490073477666, 1.4400591510301268, 1.510807629476865, 2.258796488262803, 1.7612340626121643, 1.7264875375261077, 1.2524196801674918, 1.3446567610169673, 1.6110663800617644, 1.1499442444251073, 1.1722391359154116, 1.7200074762966437, 2.156615950015553, 1.3325966607336674, 0.8853521448197945, 1.0566829426710669, 1.2350619895546657, 1.0571616917674866, 1.370510241710825, 1.5065921467893446, 1.6719117315531875, 1.909778493483067, 1.7204413818191568, 1.5624610984128573, 1.0753806585584016, 1.3278843704483485, 1.3533378755873358, 1.8988524337341843, 1.311208359333218, 1.315135188974292, 1.6493025123445122, 1.2255098483436484, 1.1651169222250104, 0.8573076997493629, 0.729450667331303, 0.7234077685869522, 1.255932364362664, 1.0928023592549607, 0.7040761586618522, 0.9959458987264469, 1.0384877788784266, 1.0041953604475395, 1.0275497493719996, 0.9626051752721381, 1.1457413635081757, 1.0125328386101629, 1.036193935005457, 0.9974276879460966, 1.1198680116327786, 1.0722105710591663, 1.1868924591897212, 1.0989353857280975, 1.1118880007531615, 1.0102777182878384, 0.9995344110008837, 0.824310139795422, 0.881621828617444, 1.1556114222191525, 0.7701034215973799, 0.9216314518395592, 1.055044746537881, 1.0930198188167104, 0.912387109456084, 0.9528460937144203, 0.9098320468963905, 0.8685090871365695, 1.4180429038533404, 1.0362397864138515, 0.9403458634711086]\n"
     ]
    },
    {
     "name": "stderr",
     "output_type": "stream",
     "text": [
      "  0%|          | 0/175 [00:10<?, ?it/s]5:02:43,  1.27it/s] \n",
      "  0%|          | 0/15 [00:01<?, ?it/s]\n",
      " 77%|███████▋  | 77103/100001 [2:44:45<40:23,  9.45it/s]  "
     ]
    },
    {
     "name": "stdout",
     "output_type": "stream",
     "text": [
      "GAN: loss d: 3.41491    loss g: -2.60091\n"
     ]
    },
    {
     "name": "stderr",
     "output_type": "stream",
     "text": [
      " 77%|███████▋  | 77203/100001 [2:44:56<39:16,  9.68it/s]"
     ]
    },
    {
     "name": "stdout",
     "output_type": "stream",
     "text": [
      "GAN: loss d: 3.62623    loss g: -2.20763\n"
     ]
    },
    {
     "name": "stderr",
     "output_type": "stream",
     "text": [
      " 77%|███████▋  | 77301/100001 [2:45:06<41:05,  9.21it/s]"
     ]
    },
    {
     "name": "stdout",
     "output_type": "stream",
     "text": [
      "GAN: loss d: 4.81737    loss g: -2.69001\n"
     ]
    },
    {
     "name": "stderr",
     "output_type": "stream",
     "text": [
      " 77%|███████▋  | 77403/100001 [2:45:17<39:51,  9.45it/s]"
     ]
    },
    {
     "name": "stdout",
     "output_type": "stream",
     "text": [
      "GAN: loss d: 5.39924    loss g: -3.71900\n"
     ]
    },
    {
     "name": "stderr",
     "output_type": "stream",
     "text": [
      " 78%|███████▊  | 77501/100001 [2:45:27<41:59,  8.93it/s]"
     ]
    },
    {
     "name": "stdout",
     "output_type": "stream",
     "text": [
      "GAN: loss d: 2.70091    loss g: -3.73725\n"
     ]
    },
    {
     "name": "stderr",
     "output_type": "stream",
     "text": [
      " 78%|███████▊  | 77601/100001 [2:45:38<41:49,  8.92it/s]"
     ]
    },
    {
     "name": "stdout",
     "output_type": "stream",
     "text": [
      "GAN: loss d: 5.07280    loss g: -2.14582\n"
     ]
    },
    {
     "name": "stderr",
     "output_type": "stream",
     "text": [
      " 78%|███████▊  | 77701/100001 [2:45:49<41:10,  9.03it/s]"
     ]
    },
    {
     "name": "stdout",
     "output_type": "stream",
     "text": [
      "GAN: loss d: 4.70427    loss g: -3.16686\n"
     ]
    },
    {
     "name": "stderr",
     "output_type": "stream",
     "text": [
      " 78%|███████▊  | 77801/100001 [2:45:59<40:07,  9.22it/s]"
     ]
    },
    {
     "name": "stdout",
     "output_type": "stream",
     "text": [
      "GAN: loss d: 2.49384    loss g: -2.84288\n"
     ]
    },
    {
     "name": "stderr",
     "output_type": "stream",
     "text": [
      " 78%|███████▊  | 77901/100001 [2:46:10<39:49,  9.25it/s]"
     ]
    },
    {
     "name": "stdout",
     "output_type": "stream",
     "text": [
      "GAN: loss d: 2.98802    loss g: -2.74177\n"
     ]
    },
    {
     "name": "stderr",
     "output_type": "stream",
     "text": [
      " 78%|███████▊  | 78000/100001 [2:46:20<39:10,  9.36it/s]"
     ]
    },
    {
     "name": "stdout",
     "output_type": "stream",
     "text": [
      "GAN: loss d: 2.61754    loss g: -4.60214\n",
      "saving current model\n"
     ]
    },
    {
     "name": "stderr",
     "output_type": "stream",
     "text": [
      "\n",
      "  0%|          | 0/175 [00:00<?, ?it/s]\u001b[A"
     ]
    },
    {
     "name": "stdout",
     "output_type": "stream",
     "text": [
      "Number of real images: 5626\n"
     ]
    },
    {
     "name": "stderr",
     "output_type": "stream",
     "text": [
      "\n",
      "\n",
      "  0%|          | 0/15 [00:00<?, ?it/s]\u001b[A\u001b[A"
     ]
    },
    {
     "name": "stdout",
     "output_type": "stream",
     "text": [
      "Number of synthetic images: 500\n"
     ]
    },
    {
     "name": "stderr",
     "output_type": "stream",
     "text": [
      " 78%|███████▊  | 78001/100001 [2:46:41<38:00:56,  6.22s/it]"
     ]
    },
    {
     "name": "stdout",
     "output_type": "stream",
     "text": [
      "Current fid score: 0.8865479866780177\n",
      "Fid scores: [4.9325711711390205, 2.4436189539080466, 2.836768048488924, 2.7970490892296382, 3.1710357984691626, 3.3000315606457526, 2.70047286994032, 2.1638209867365674, 2.0204577684506617, 1.3914490073477666, 1.4400591510301268, 1.510807629476865, 2.258796488262803, 1.7612340626121643, 1.7264875375261077, 1.2524196801674918, 1.3446567610169673, 1.6110663800617644, 1.1499442444251073, 1.1722391359154116, 1.7200074762966437, 2.156615950015553, 1.3325966607336674, 0.8853521448197945, 1.0566829426710669, 1.2350619895546657, 1.0571616917674866, 1.370510241710825, 1.5065921467893446, 1.6719117315531875, 1.909778493483067, 1.7204413818191568, 1.5624610984128573, 1.0753806585584016, 1.3278843704483485, 1.3533378755873358, 1.8988524337341843, 1.311208359333218, 1.315135188974292, 1.6493025123445122, 1.2255098483436484, 1.1651169222250104, 0.8573076997493629, 0.729450667331303, 0.7234077685869522, 1.255932364362664, 1.0928023592549607, 0.7040761586618522, 0.9959458987264469, 1.0384877788784266, 1.0041953604475395, 1.0275497493719996, 0.9626051752721381, 1.1457413635081757, 1.0125328386101629, 1.036193935005457, 0.9974276879460966, 1.1198680116327786, 1.0722105710591663, 1.1868924591897212, 1.0989353857280975, 1.1118880007531615, 1.0102777182878384, 0.9995344110008837, 0.824310139795422, 0.881621828617444, 1.1556114222191525, 0.7701034215973799, 0.9216314518395592, 1.055044746537881, 1.0930198188167104, 0.912387109456084, 0.9528460937144203, 0.9098320468963905, 0.8685090871365695, 1.4180429038533404, 1.0362397864138515, 0.9403458634711086, 0.8865479866780177]\n"
     ]
    },
    {
     "name": "stderr",
     "output_type": "stream",
     "text": [
      "  0%|          | 0/175 [00:11<?, ?it/s]1:23:06,  4.41it/s] \n",
      "  0%|          | 0/15 [00:02<?, ?it/s]\n",
      " 78%|███████▊  | 78101/100001 [2:46:51<40:28,  9.02it/s]  "
     ]
    },
    {
     "name": "stdout",
     "output_type": "stream",
     "text": [
      "GAN: loss d: 2.60280    loss g: -3.14198\n"
     ]
    },
    {
     "name": "stderr",
     "output_type": "stream",
     "text": [
      " 78%|███████▊  | 78201/100001 [2:47:02<40:53,  8.89it/s]"
     ]
    },
    {
     "name": "stdout",
     "output_type": "stream",
     "text": [
      "GAN: loss d: -1.25065    loss g: -1.93135\n"
     ]
    },
    {
     "name": "stderr",
     "output_type": "stream",
     "text": [
      " 78%|███████▊  | 78303/100001 [2:47:13<38:14,  9.46it/s]"
     ]
    },
    {
     "name": "stdout",
     "output_type": "stream",
     "text": [
      "GAN: loss d: 0.15144    loss g: -3.15615\n"
     ]
    },
    {
     "name": "stderr",
     "output_type": "stream",
     "text": [
      " 78%|███████▊  | 78401/100001 [2:47:23<39:30,  9.11it/s]"
     ]
    },
    {
     "name": "stdout",
     "output_type": "stream",
     "text": [
      "GAN: loss d: 2.65080    loss g: -2.60405\n"
     ]
    },
    {
     "name": "stderr",
     "output_type": "stream",
     "text": [
      " 79%|███████▊  | 78501/100001 [2:47:34<39:41,  9.03it/s]"
     ]
    },
    {
     "name": "stdout",
     "output_type": "stream",
     "text": [
      "GAN: loss d: 3.01446    loss g: -2.64031\n"
     ]
    },
    {
     "name": "stderr",
     "output_type": "stream",
     "text": [
      " 79%|███████▊  | 78601/100001 [2:47:44<39:28,  9.04it/s]"
     ]
    },
    {
     "name": "stdout",
     "output_type": "stream",
     "text": [
      "GAN: loss d: 5.10537    loss g: -3.45984\n"
     ]
    },
    {
     "name": "stderr",
     "output_type": "stream",
     "text": [
      " 79%|███████▊  | 78703/100001 [2:47:55<37:10,  9.55it/s]"
     ]
    },
    {
     "name": "stdout",
     "output_type": "stream",
     "text": [
      "GAN: loss d: 3.06388    loss g: -3.04179\n"
     ]
    },
    {
     "name": "stderr",
     "output_type": "stream",
     "text": [
      " 79%|███████▉  | 78803/100001 [2:48:06<37:06,  9.52it/s]"
     ]
    },
    {
     "name": "stdout",
     "output_type": "stream",
     "text": [
      "GAN: loss d: 5.26640    loss g: -4.10182\n"
     ]
    },
    {
     "name": "stderr",
     "output_type": "stream",
     "text": [
      " 79%|███████▉  | 78903/100001 [2:48:17<36:58,  9.51it/s]"
     ]
    },
    {
     "name": "stdout",
     "output_type": "stream",
     "text": [
      "GAN: loss d: 4.06816    loss g: -2.40065\n"
     ]
    },
    {
     "name": "stderr",
     "output_type": "stream",
     "text": [
      " 79%|███████▉  | 79000/100001 [2:48:27<36:36,  9.56it/s]"
     ]
    },
    {
     "name": "stdout",
     "output_type": "stream",
     "text": [
      "GAN: loss d: 4.62353    loss g: -2.49868\n",
      "saving current model\n"
     ]
    },
    {
     "name": "stderr",
     "output_type": "stream",
     "text": [
      "\n",
      "  0%|          | 0/175 [00:00<?, ?it/s]\u001b[A"
     ]
    },
    {
     "name": "stdout",
     "output_type": "stream",
     "text": [
      "Number of real images: 5626\n"
     ]
    },
    {
     "name": "stderr",
     "output_type": "stream",
     "text": [
      "\n",
      "\n",
      "  0%|          | 0/15 [00:00<?, ?it/s]\u001b[A\u001b[A"
     ]
    },
    {
     "name": "stdout",
     "output_type": "stream",
     "text": [
      "Number of synthetic images: 500\n"
     ]
    },
    {
     "name": "stderr",
     "output_type": "stream",
     "text": [
      "  0%|          | 0/175 [00:09<?, ?it/s]\n",
      "  0%|          | 0/15 [00:00<?, ?it/s]"
     ]
    },
    {
     "name": "stdout",
     "output_type": "stream",
     "text": [
      "Current fid score: 0.654682383834114\n",
      "Fid scores: [4.9325711711390205, 2.4436189539080466, 2.836768048488924, 2.7970490892296382, 3.1710357984691626, 3.3000315606457526, 2.70047286994032, 2.1638209867365674, 2.0204577684506617, 1.3914490073477666, 1.4400591510301268, 1.510807629476865, 2.258796488262803, 1.7612340626121643, 1.7264875375261077, 1.2524196801674918, 1.3446567610169673, 1.6110663800617644, 1.1499442444251073, 1.1722391359154116, 1.7200074762966437, 2.156615950015553, 1.3325966607336674, 0.8853521448197945, 1.0566829426710669, 1.2350619895546657, 1.0571616917674866, 1.370510241710825, 1.5065921467893446, 1.6719117315531875, 1.909778493483067, 1.7204413818191568, 1.5624610984128573, 1.0753806585584016, 1.3278843704483485, 1.3533378755873358, 1.8988524337341843, 1.311208359333218, 1.315135188974292, 1.6493025123445122, 1.2255098483436484, 1.1651169222250104, 0.8573076997493629, 0.729450667331303, 0.7234077685869522, 1.255932364362664, 1.0928023592549607, 0.7040761586618522, 0.9959458987264469, 1.0384877788784266, 1.0041953604475395, 1.0275497493719996, 0.9626051752721381, 1.1457413635081757, 1.0125328386101629, 1.036193935005457, 0.9974276879460966, 1.1198680116327786, 1.0722105710591663, 1.1868924591897212, 1.0989353857280975, 1.1118880007531615, 1.0102777182878384, 0.9995344110008837, 0.824310139795422, 0.881621828617444, 1.1556114222191525, 0.7701034215973799, 0.9216314518395592, 1.055044746537881, 1.0930198188167104, 0.912387109456084, 0.9528460937144203, 0.9098320468963905, 0.8685090871365695, 1.4180429038533404, 1.0362397864138515, 0.9403458634711086, 0.8865479866780177, 0.654682383834114]\n",
      "New min fid score: 0.654682383834\n",
      "Saving best model\n"
     ]
    },
    {
     "name": "stderr",
     "output_type": "stream",
     "text": [
      "\n",
      " 79%|███████▉  | 79101/100001 [2:49:01<38:27,  9.06it/s]   "
     ]
    },
    {
     "name": "stdout",
     "output_type": "stream",
     "text": [
      "GAN: loss d: 5.95334    loss g: -2.88069\n"
     ]
    },
    {
     "name": "stderr",
     "output_type": "stream",
     "text": [
      " 79%|███████▉  | 79201/100001 [2:49:12<38:16,  9.06it/s]"
     ]
    },
    {
     "name": "stdout",
     "output_type": "stream",
     "text": [
      "GAN: loss d: 5.27055    loss g: -2.54238\n"
     ]
    },
    {
     "name": "stderr",
     "output_type": "stream",
     "text": [
      " 79%|███████▉  | 79301/100001 [2:49:22<37:52,  9.11it/s]"
     ]
    },
    {
     "name": "stdout",
     "output_type": "stream",
     "text": [
      "GAN: loss d: 3.97634    loss g: -2.57427\n"
     ]
    },
    {
     "name": "stderr",
     "output_type": "stream",
     "text": [
      " 79%|███████▉  | 79401/100001 [2:49:33<37:49,  9.08it/s]"
     ]
    },
    {
     "name": "stdout",
     "output_type": "stream",
     "text": [
      "GAN: loss d: 3.31572    loss g: -1.79394\n"
     ]
    },
    {
     "name": "stderr",
     "output_type": "stream",
     "text": [
      " 80%|███████▉  | 79501/100001 [2:49:44<44:15,  7.72it/s]"
     ]
    },
    {
     "name": "stdout",
     "output_type": "stream",
     "text": [
      "GAN: loss d: 3.64296    loss g: -3.95728\n"
     ]
    },
    {
     "name": "stderr",
     "output_type": "stream",
     "text": [
      " 80%|███████▉  | 79603/100001 [2:49:54<35:58,  9.45it/s]"
     ]
    },
    {
     "name": "stdout",
     "output_type": "stream",
     "text": [
      "GAN: loss d: 2.39018    loss g: -2.85655\n"
     ]
    },
    {
     "name": "stderr",
     "output_type": "stream",
     "text": [
      " 80%|███████▉  | 79701/100001 [2:50:05<37:10,  9.10it/s]"
     ]
    },
    {
     "name": "stdout",
     "output_type": "stream",
     "text": [
      "GAN: loss d: 4.54295    loss g: -3.06554\n"
     ]
    },
    {
     "name": "stderr",
     "output_type": "stream",
     "text": [
      " 80%|███████▉  | 79801/100001 [2:50:15<36:59,  9.10it/s]"
     ]
    },
    {
     "name": "stdout",
     "output_type": "stream",
     "text": [
      "GAN: loss d: 4.07447    loss g: -3.70416\n"
     ]
    },
    {
     "name": "stderr",
     "output_type": "stream",
     "text": [
      " 80%|███████▉  | 79901/100001 [2:50:26<36:59,  9.06it/s]"
     ]
    },
    {
     "name": "stdout",
     "output_type": "stream",
     "text": [
      "GAN: loss d: 3.65585    loss g: -2.40086\n"
     ]
    },
    {
     "name": "stderr",
     "output_type": "stream",
     "text": [
      " 80%|███████▉  | 80000/100001 [2:50:36<34:54,  9.55it/s]"
     ]
    },
    {
     "name": "stdout",
     "output_type": "stream",
     "text": [
      "GAN: loss d: 2.44062    loss g: -2.01519\n",
      "saving current model\n"
     ]
    },
    {
     "name": "stderr",
     "output_type": "stream",
     "text": [
      "\n",
      "  0%|          | 0/175 [00:00<?, ?it/s]\u001b[A"
     ]
    },
    {
     "name": "stdout",
     "output_type": "stream",
     "text": [
      "Number of real images: 5626\n"
     ]
    },
    {
     "name": "stderr",
     "output_type": "stream",
     "text": [
      "\n",
      "\n",
      "  0%|          | 0/15 [00:00<?, ?it/s]\u001b[A\u001b[A"
     ]
    },
    {
     "name": "stdout",
     "output_type": "stream",
     "text": [
      "Number of synthetic images: 500\n"
     ]
    },
    {
     "name": "stderr",
     "output_type": "stream",
     "text": [
      " 80%|████████  | 80003/100001 [2:50:57<18:53:23,  3.40s/it]"
     ]
    },
    {
     "name": "stdout",
     "output_type": "stream",
     "text": [
      "Current fid score: 0.7872794435801893\n",
      "Fid scores: [4.9325711711390205, 2.4436189539080466, 2.836768048488924, 2.7970490892296382, 3.1710357984691626, 3.3000315606457526, 2.70047286994032, 2.1638209867365674, 2.0204577684506617, 1.3914490073477666, 1.4400591510301268, 1.510807629476865, 2.258796488262803, 1.7612340626121643, 1.7264875375261077, 1.2524196801674918, 1.3446567610169673, 1.6110663800617644, 1.1499442444251073, 1.1722391359154116, 1.7200074762966437, 2.156615950015553, 1.3325966607336674, 0.8853521448197945, 1.0566829426710669, 1.2350619895546657, 1.0571616917674866, 1.370510241710825, 1.5065921467893446, 1.6719117315531875, 1.909778493483067, 1.7204413818191568, 1.5624610984128573, 1.0753806585584016, 1.3278843704483485, 1.3533378755873358, 1.8988524337341843, 1.311208359333218, 1.315135188974292, 1.6493025123445122, 1.2255098483436484, 1.1651169222250104, 0.8573076997493629, 0.729450667331303, 0.7234077685869522, 1.255932364362664, 1.0928023592549607, 0.7040761586618522, 0.9959458987264469, 1.0384877788784266, 1.0041953604475395, 1.0275497493719996, 0.9626051752721381, 1.1457413635081757, 1.0125328386101629, 1.036193935005457, 0.9974276879460966, 1.1198680116327786, 1.0722105710591663, 1.1868924591897212, 1.0989353857280975, 1.1118880007531615, 1.0102777182878384, 0.9995344110008837, 0.824310139795422, 0.881621828617444, 1.1556114222191525, 0.7701034215973799, 0.9216314518395592, 1.055044746537881, 1.0930198188167104, 0.912387109456084, 0.9528460937144203, 0.9098320468963905, 0.8685090871365695, 1.4180429038533404, 1.0362397864138515, 0.9403458634711086, 0.8865479866780177, 0.654682383834114, 0.7872794435801893]\n"
     ]
    },
    {
     "name": "stderr",
     "output_type": "stream",
     "text": [
      "  0%|          | 0/175 [00:14<?, ?it/s]34:44,  9.57it/s]   \n",
      "  0%|          | 0/15 [00:05<?, ?it/s]\n",
      " 80%|████████  | 80101/100001 [2:51:08<37:03,  8.95it/s]"
     ]
    },
    {
     "name": "stdout",
     "output_type": "stream",
     "text": [
      "GAN: loss d: 3.33949    loss g: -1.84982\n"
     ]
    },
    {
     "name": "stderr",
     "output_type": "stream",
     "text": [
      " 80%|████████  | 80201/100001 [2:51:18<36:16,  9.10it/s]"
     ]
    },
    {
     "name": "stdout",
     "output_type": "stream",
     "text": [
      "GAN: loss d: 3.03848    loss g: -1.92360\n"
     ]
    },
    {
     "name": "stderr",
     "output_type": "stream",
     "text": [
      " 80%|████████  | 80301/100001 [2:51:29<36:26,  9.01it/s]"
     ]
    },
    {
     "name": "stdout",
     "output_type": "stream",
     "text": [
      "GAN: loss d: 3.61577    loss g: -3.30746\n"
     ]
    },
    {
     "name": "stderr",
     "output_type": "stream",
     "text": [
      " 80%|████████  | 80403/100001 [2:51:40<34:14,  9.54it/s]"
     ]
    },
    {
     "name": "stdout",
     "output_type": "stream",
     "text": [
      "GAN: loss d: 3.64813    loss g: -2.03913\n"
     ]
    },
    {
     "name": "stderr",
     "output_type": "stream",
     "text": [
      " 81%|████████  | 80503/100001 [2:51:50<33:49,  9.61it/s]"
     ]
    },
    {
     "name": "stdout",
     "output_type": "stream",
     "text": [
      "GAN: loss d: 0.67894    loss g: -1.29852\n"
     ]
    },
    {
     "name": "stderr",
     "output_type": "stream",
     "text": [
      " 81%|████████  | 80603/100001 [2:52:01<34:08,  9.47it/s]"
     ]
    },
    {
     "name": "stdout",
     "output_type": "stream",
     "text": [
      "GAN: loss d: 2.54582    loss g: -3.23277\n"
     ]
    },
    {
     "name": "stderr",
     "output_type": "stream",
     "text": [
      " 81%|████████  | 80703/100001 [2:52:11<33:48,  9.52it/s]"
     ]
    },
    {
     "name": "stdout",
     "output_type": "stream",
     "text": [
      "GAN: loss d: 1.92854    loss g: -1.35753\n"
     ]
    },
    {
     "name": "stderr",
     "output_type": "stream",
     "text": [
      " 81%|████████  | 80801/100001 [2:52:22<34:55,  9.16it/s]"
     ]
    },
    {
     "name": "stdout",
     "output_type": "stream",
     "text": [
      "GAN: loss d: 3.58816    loss g: -2.19167\n"
     ]
    },
    {
     "name": "stderr",
     "output_type": "stream",
     "text": [
      " 81%|████████  | 80901/100001 [2:52:32<34:30,  9.23it/s]"
     ]
    },
    {
     "name": "stdout",
     "output_type": "stream",
     "text": [
      "GAN: loss d: 2.78356    loss g: -2.32175\n"
     ]
    },
    {
     "name": "stderr",
     "output_type": "stream",
     "text": [
      " 81%|████████  | 81000/100001 [2:52:43<33:06,  9.57it/s]"
     ]
    },
    {
     "name": "stdout",
     "output_type": "stream",
     "text": [
      "GAN: loss d: 1.72433    loss g: -2.46833\n",
      "saving current model\n"
     ]
    },
    {
     "name": "stderr",
     "output_type": "stream",
     "text": [
      "\n",
      "  0%|          | 0/175 [00:00<?, ?it/s]\u001b[A"
     ]
    },
    {
     "name": "stdout",
     "output_type": "stream",
     "text": [
      "Number of real images: 5626\n"
     ]
    },
    {
     "name": "stderr",
     "output_type": "stream",
     "text": [
      "\n",
      "\n",
      "  0%|          | 0/15 [00:00<?, ?it/s]\u001b[A\u001b[A"
     ]
    },
    {
     "name": "stdout",
     "output_type": "stream",
     "text": [
      "Number of synthetic images: 500\n"
     ]
    },
    {
     "name": "stderr",
     "output_type": "stream",
     "text": [
      " 81%|████████  | 81001/100001 [2:53:04<33:04:53,  6.27s/it]"
     ]
    },
    {
     "name": "stdout",
     "output_type": "stream",
     "text": [
      "Current fid score: 0.7486202855804116\n",
      "Fid scores: [4.9325711711390205, 2.4436189539080466, 2.836768048488924, 2.7970490892296382, 3.1710357984691626, 3.3000315606457526, 2.70047286994032, 2.1638209867365674, 2.0204577684506617, 1.3914490073477666, 1.4400591510301268, 1.510807629476865, 2.258796488262803, 1.7612340626121643, 1.7264875375261077, 1.2524196801674918, 1.3446567610169673, 1.6110663800617644, 1.1499442444251073, 1.1722391359154116, 1.7200074762966437, 2.156615950015553, 1.3325966607336674, 0.8853521448197945, 1.0566829426710669, 1.2350619895546657, 1.0571616917674866, 1.370510241710825, 1.5065921467893446, 1.6719117315531875, 1.909778493483067, 1.7204413818191568, 1.5624610984128573, 1.0753806585584016, 1.3278843704483485, 1.3533378755873358, 1.8988524337341843, 1.311208359333218, 1.315135188974292, 1.6493025123445122, 1.2255098483436484, 1.1651169222250104, 0.8573076997493629, 0.729450667331303, 0.7234077685869522, 1.255932364362664, 1.0928023592549607, 0.7040761586618522, 0.9959458987264469, 1.0384877788784266, 1.0041953604475395, 1.0275497493719996, 0.9626051752721381, 1.1457413635081757, 1.0125328386101629, 1.036193935005457, 0.9974276879460966, 1.1198680116327786, 1.0722105710591663, 1.1868924591897212, 1.0989353857280975, 1.1118880007531615, 1.0102777182878384, 0.9995344110008837, 0.824310139795422, 0.881621828617444, 1.1556114222191525, 0.7701034215973799, 0.9216314518395592, 1.055044746537881, 1.0930198188167104, 0.912387109456084, 0.9528460937144203, 0.9098320468963905, 0.8685090871365695, 1.4180429038533404, 1.0362397864138515, 0.9403458634711086, 0.8865479866780177, 0.654682383834114, 0.7872794435801893, 0.7486202855804116]\n"
     ]
    },
    {
     "name": "stderr",
     "output_type": "stream",
     "text": [
      "  0%|          | 0/175 [00:10<?, ?it/s]1:50:30,  2.86it/s] \n",
      "  0%|          | 0/15 [00:02<?, ?it/s]\n",
      " 81%|████████  | 81101/100001 [2:53:14<34:41,  9.08it/s]  "
     ]
    },
    {
     "name": "stdout",
     "output_type": "stream",
     "text": [
      "GAN: loss d: 1.64999    loss g: -2.72496\n"
     ]
    },
    {
     "name": "stderr",
     "output_type": "stream",
     "text": [
      " 81%|████████  | 81203/100001 [2:53:25<33:05,  9.47it/s]"
     ]
    },
    {
     "name": "stdout",
     "output_type": "stream",
     "text": [
      "GAN: loss d: 2.85356    loss g: -2.75277\n"
     ]
    },
    {
     "name": "stderr",
     "output_type": "stream",
     "text": [
      " 81%|████████▏ | 81301/100001 [2:53:35<34:27,  9.04it/s]"
     ]
    },
    {
     "name": "stdout",
     "output_type": "stream",
     "text": [
      "GAN: loss d: 3.89256    loss g: -2.87523\n"
     ]
    },
    {
     "name": "stderr",
     "output_type": "stream",
     "text": [
      " 81%|████████▏ | 81401/100001 [2:53:46<33:43,  9.19it/s]"
     ]
    },
    {
     "name": "stdout",
     "output_type": "stream",
     "text": [
      "GAN: loss d: 3.85302    loss g: -2.39992\n"
     ]
    },
    {
     "name": "stderr",
     "output_type": "stream",
     "text": [
      " 82%|████████▏ | 81501/100001 [2:53:56<33:34,  9.18it/s]"
     ]
    },
    {
     "name": "stdout",
     "output_type": "stream",
     "text": [
      "GAN: loss d: 2.26434    loss g: -2.63483\n"
     ]
    },
    {
     "name": "stderr",
     "output_type": "stream",
     "text": [
      " 82%|████████▏ | 81603/100001 [2:54:07<32:16,  9.50it/s]"
     ]
    },
    {
     "name": "stdout",
     "output_type": "stream",
     "text": [
      "GAN: loss d: 2.57449    loss g: -2.33347\n"
     ]
    },
    {
     "name": "stderr",
     "output_type": "stream",
     "text": [
      " 82%|████████▏ | 81701/100001 [2:54:18<34:01,  8.96it/s]"
     ]
    },
    {
     "name": "stdout",
     "output_type": "stream",
     "text": [
      "GAN: loss d: 3.95013    loss g: -2.56641\n"
     ]
    },
    {
     "name": "stderr",
     "output_type": "stream",
     "text": [
      " 82%|████████▏ | 81803/100001 [2:54:28<31:52,  9.52it/s]"
     ]
    },
    {
     "name": "stdout",
     "output_type": "stream",
     "text": [
      "GAN: loss d: 4.01195    loss g: -2.75511\n"
     ]
    },
    {
     "name": "stderr",
     "output_type": "stream",
     "text": [
      " 82%|████████▏ | 81903/100001 [2:54:39<31:02,  9.72it/s]"
     ]
    },
    {
     "name": "stdout",
     "output_type": "stream",
     "text": [
      "GAN: loss d: 2.26538    loss g: -2.57857\n"
     ]
    },
    {
     "name": "stderr",
     "output_type": "stream",
     "text": [
      " 82%|████████▏ | 82000/100001 [2:54:49<31:34,  9.50it/s]"
     ]
    },
    {
     "name": "stdout",
     "output_type": "stream",
     "text": [
      "GAN: loss d: 2.03309    loss g: -3.97115\n",
      "saving current model\n"
     ]
    },
    {
     "name": "stderr",
     "output_type": "stream",
     "text": [
      "\n",
      "  0%|          | 0/175 [00:00<?, ?it/s]\u001b[A"
     ]
    },
    {
     "name": "stdout",
     "output_type": "stream",
     "text": [
      "Number of real images: 5626\n"
     ]
    },
    {
     "name": "stderr",
     "output_type": "stream",
     "text": [
      "\n",
      "\n",
      "  0%|          | 0/15 [00:00<?, ?it/s]\u001b[A\u001b[A"
     ]
    },
    {
     "name": "stdout",
     "output_type": "stream",
     "text": [
      "Number of synthetic images: 500\n"
     ]
    },
    {
     "name": "stderr",
     "output_type": "stream",
     "text": [
      " 82%|████████▏ | 82001/100001 [2:55:10<31:13:10,  6.24s/it]"
     ]
    },
    {
     "name": "stdout",
     "output_type": "stream",
     "text": [
      "Current fid score: 0.8276288430551872\n",
      "Fid scores: [4.9325711711390205, 2.4436189539080466, 2.836768048488924, 2.7970490892296382, 3.1710357984691626, 3.3000315606457526, 2.70047286994032, 2.1638209867365674, 2.0204577684506617, 1.3914490073477666, 1.4400591510301268, 1.510807629476865, 2.258796488262803, 1.7612340626121643, 1.7264875375261077, 1.2524196801674918, 1.3446567610169673, 1.6110663800617644, 1.1499442444251073, 1.1722391359154116, 1.7200074762966437, 2.156615950015553, 1.3325966607336674, 0.8853521448197945, 1.0566829426710669, 1.2350619895546657, 1.0571616917674866, 1.370510241710825, 1.5065921467893446, 1.6719117315531875, 1.909778493483067, 1.7204413818191568, 1.5624610984128573, 1.0753806585584016, 1.3278843704483485, 1.3533378755873358, 1.8988524337341843, 1.311208359333218, 1.315135188974292, 1.6493025123445122, 1.2255098483436484, 1.1651169222250104, 0.8573076997493629, 0.729450667331303, 0.7234077685869522, 1.255932364362664, 1.0928023592549607, 0.7040761586618522, 0.9959458987264469, 1.0384877788784266, 1.0041953604475395, 1.0275497493719996, 0.9626051752721381, 1.1457413635081757, 1.0125328386101629, 1.036193935005457, 0.9974276879460966, 1.1198680116327786, 1.0722105710591663, 1.1868924591897212, 1.0989353857280975, 1.1118880007531615, 1.0102777182878384, 0.9995344110008837, 0.824310139795422, 0.881621828617444, 1.1556114222191525, 0.7701034215973799, 0.9216314518395592, 1.055044746537881, 1.0930198188167104, 0.912387109456084, 0.9528460937144203, 0.9098320468963905, 0.8685090871365695, 1.4180429038533404, 1.0362397864138515, 0.9403458634711086, 0.8865479866780177, 0.654682383834114, 0.7872794435801893, 0.7486202855804116, 0.8276288430551872]\n"
     ]
    },
    {
     "name": "stderr",
     "output_type": "stream",
     "text": [
      "  0%|          | 0/175 [00:18<?, ?it/s]31:57,  9.35it/s]   \n",
      "  0%|          | 0/15 [00:09<?, ?it/s]\n",
      " 82%|████████▏ | 82101/100001 [2:55:21<33:08,  9.00it/s]"
     ]
    },
    {
     "name": "stdout",
     "output_type": "stream",
     "text": [
      "GAN: loss d: 3.27839    loss g: -2.85429\n"
     ]
    },
    {
     "name": "stderr",
     "output_type": "stream",
     "text": [
      " 82%|████████▏ | 82201/100001 [2:55:31<32:28,  9.14it/s]"
     ]
    },
    {
     "name": "stdout",
     "output_type": "stream",
     "text": [
      "GAN: loss d: 1.63670    loss g: -2.45014\n"
     ]
    },
    {
     "name": "stderr",
     "output_type": "stream",
     "text": [
      " 82%|████████▏ | 82303/100001 [2:55:42<30:48,  9.58it/s]"
     ]
    },
    {
     "name": "stdout",
     "output_type": "stream",
     "text": [
      "GAN: loss d: 2.52390    loss g: -3.21720\n"
     ]
    },
    {
     "name": "stderr",
     "output_type": "stream",
     "text": [
      " 82%|████████▏ | 82403/100001 [2:55:52<30:41,  9.56it/s]"
     ]
    },
    {
     "name": "stdout",
     "output_type": "stream",
     "text": [
      "GAN: loss d: 0.94114    loss g: -1.89421\n"
     ]
    },
    {
     "name": "stderr",
     "output_type": "stream",
     "text": [
      " 83%|████████▎ | 82503/100001 [2:56:03<30:38,  9.52it/s]"
     ]
    },
    {
     "name": "stdout",
     "output_type": "stream",
     "text": [
      "GAN: loss d: 4.58098    loss g: -2.17472\n"
     ]
    },
    {
     "name": "stderr",
     "output_type": "stream",
     "text": [
      " 83%|████████▎ | 82603/100001 [2:56:14<30:09,  9.61it/s]"
     ]
    },
    {
     "name": "stdout",
     "output_type": "stream",
     "text": [
      "GAN: loss d: 2.67937    loss g: -3.20371\n"
     ]
    },
    {
     "name": "stderr",
     "output_type": "stream",
     "text": [
      " 83%|████████▎ | 82703/100001 [2:56:24<29:59,  9.61it/s]"
     ]
    },
    {
     "name": "stdout",
     "output_type": "stream",
     "text": [
      "GAN: loss d: 2.27210    loss g: -2.46388\n"
     ]
    },
    {
     "name": "stderr",
     "output_type": "stream",
     "text": [
      " 83%|████████▎ | 82801/100001 [2:56:34<31:52,  9.00it/s]"
     ]
    },
    {
     "name": "stdout",
     "output_type": "stream",
     "text": [
      "GAN: loss d: 5.35358    loss g: -2.63987\n"
     ]
    },
    {
     "name": "stderr",
     "output_type": "stream",
     "text": [
      " 83%|████████▎ | 82901/100001 [2:56:45<31:25,  9.07it/s]"
     ]
    },
    {
     "name": "stdout",
     "output_type": "stream",
     "text": [
      "GAN: loss d: 5.47907    loss g: -2.88970\n"
     ]
    },
    {
     "name": "stderr",
     "output_type": "stream",
     "text": [
      " 83%|████████▎ | 83000/100001 [2:56:56<30:05,  9.41it/s]"
     ]
    },
    {
     "name": "stdout",
     "output_type": "stream",
     "text": [
      "GAN: loss d: 2.39232    loss g: -2.73903\n",
      "saving current model\n"
     ]
    },
    {
     "name": "stderr",
     "output_type": "stream",
     "text": [
      "\n",
      "  0%|          | 0/175 [00:00<?, ?it/s]\u001b[A"
     ]
    },
    {
     "name": "stdout",
     "output_type": "stream",
     "text": [
      "Number of real images: 5626\n"
     ]
    },
    {
     "name": "stderr",
     "output_type": "stream",
     "text": [
      "\n",
      "\n",
      "  0%|          | 0/15 [00:00<?, ?it/s]\u001b[A\u001b[A"
     ]
    },
    {
     "name": "stdout",
     "output_type": "stream",
     "text": [
      "Number of synthetic images: 500\n"
     ]
    },
    {
     "name": "stderr",
     "output_type": "stream",
     "text": [
      " 83%|████████▎ | 83003/100001 [2:57:16<16:10:34,  3.43s/it]"
     ]
    },
    {
     "name": "stdout",
     "output_type": "stream",
     "text": [
      "Current fid score: 0.8432492936206799\n",
      "Fid scores: [4.9325711711390205, 2.4436189539080466, 2.836768048488924, 2.7970490892296382, 3.1710357984691626, 3.3000315606457526, 2.70047286994032, 2.1638209867365674, 2.0204577684506617, 1.3914490073477666, 1.4400591510301268, 1.510807629476865, 2.258796488262803, 1.7612340626121643, 1.7264875375261077, 1.2524196801674918, 1.3446567610169673, 1.6110663800617644, 1.1499442444251073, 1.1722391359154116, 1.7200074762966437, 2.156615950015553, 1.3325966607336674, 0.8853521448197945, 1.0566829426710669, 1.2350619895546657, 1.0571616917674866, 1.370510241710825, 1.5065921467893446, 1.6719117315531875, 1.909778493483067, 1.7204413818191568, 1.5624610984128573, 1.0753806585584016, 1.3278843704483485, 1.3533378755873358, 1.8988524337341843, 1.311208359333218, 1.315135188974292, 1.6493025123445122, 1.2255098483436484, 1.1651169222250104, 0.8573076997493629, 0.729450667331303, 0.7234077685869522, 1.255932364362664, 1.0928023592549607, 0.7040761586618522, 0.9959458987264469, 1.0384877788784266, 1.0041953604475395, 1.0275497493719996, 0.9626051752721381, 1.1457413635081757, 1.0125328386101629, 1.036193935005457, 0.9974276879460966, 1.1198680116327786, 1.0722105710591663, 1.1868924591897212, 1.0989353857280975, 1.1118880007531615, 1.0102777182878384, 0.9995344110008837, 0.824310139795422, 0.881621828617444, 1.1556114222191525, 0.7701034215973799, 0.9216314518395592, 1.055044746537881, 1.0930198188167104, 0.912387109456084, 0.9528460937144203, 0.9098320468963905, 0.8685090871365695, 1.4180429038533404, 1.0362397864138515, 0.9403458634711086, 0.8865479866780177, 0.654682383834114, 0.7872794435801893, 0.7486202855804116, 0.8276288430551872, 0.8432492936206799]\n"
     ]
    },
    {
     "name": "stderr",
     "output_type": "stream",
     "text": [
      "  0%|          | 0/175 [00:14<?, ?it/s]30:40,  9.21it/s]   \n",
      "  0%|          | 0/15 [00:06<?, ?it/s]\n",
      " 83%|████████▎ | 83101/100001 [2:57:27<30:51,  9.13it/s]"
     ]
    },
    {
     "name": "stdout",
     "output_type": "stream",
     "text": [
      "GAN: loss d: 4.89560    loss g: -3.91842\n"
     ]
    },
    {
     "name": "stderr",
     "output_type": "stream",
     "text": [
      " 83%|████████▎ | 83201/100001 [2:57:37<30:49,  9.08it/s]"
     ]
    },
    {
     "name": "stdout",
     "output_type": "stream",
     "text": [
      "GAN: loss d: 5.78453    loss g: -2.39345\n"
     ]
    },
    {
     "name": "stderr",
     "output_type": "stream",
     "text": [
      " 83%|████████▎ | 83301/100001 [2:57:48<30:53,  9.01it/s]"
     ]
    },
    {
     "name": "stdout",
     "output_type": "stream",
     "text": [
      "GAN: loss d: 1.78119    loss g: -2.76271\n"
     ]
    },
    {
     "name": "stderr",
     "output_type": "stream",
     "text": [
      " 83%|████████▎ | 83403/100001 [2:57:59<29:05,  9.51it/s]"
     ]
    },
    {
     "name": "stdout",
     "output_type": "stream",
     "text": [
      "GAN: loss d: 2.30064    loss g: -2.77470\n"
     ]
    },
    {
     "name": "stderr",
     "output_type": "stream",
     "text": [
      " 84%|████████▎ | 83501/100001 [2:58:09<29:52,  9.20it/s]"
     ]
    },
    {
     "name": "stdout",
     "output_type": "stream",
     "text": [
      "GAN: loss d: 4.02355    loss g: -3.94353\n"
     ]
    },
    {
     "name": "stderr",
     "output_type": "stream",
     "text": [
      " 84%|████████▎ | 83601/100001 [2:58:20<30:30,  8.96it/s]"
     ]
    },
    {
     "name": "stdout",
     "output_type": "stream",
     "text": [
      "GAN: loss d: 5.16240    loss g: -2.61474\n"
     ]
    },
    {
     "name": "stderr",
     "output_type": "stream",
     "text": [
      " 84%|████████▎ | 83701/100001 [2:58:30<29:37,  9.17it/s]"
     ]
    },
    {
     "name": "stdout",
     "output_type": "stream",
     "text": [
      "GAN: loss d: 2.38934    loss g: -2.56593\n"
     ]
    },
    {
     "name": "stderr",
     "output_type": "stream",
     "text": [
      " 84%|████████▍ | 83803/100001 [2:58:41<28:02,  9.63it/s]"
     ]
    },
    {
     "name": "stdout",
     "output_type": "stream",
     "text": [
      "GAN: loss d: 4.09288    loss g: -1.99617\n"
     ]
    },
    {
     "name": "stderr",
     "output_type": "stream",
     "text": [
      " 84%|████████▍ | 83903/100001 [2:58:52<28:06,  9.55it/s]"
     ]
    },
    {
     "name": "stdout",
     "output_type": "stream",
     "text": [
      "GAN: loss d: 2.05681    loss g: -3.58267\n"
     ]
    },
    {
     "name": "stderr",
     "output_type": "stream",
     "text": [
      " 84%|████████▍ | 84000/100001 [2:59:02<28:34,  9.33it/s]"
     ]
    },
    {
     "name": "stdout",
     "output_type": "stream",
     "text": [
      "GAN: loss d: 3.50093    loss g: -3.35872\n",
      "saving current model\n"
     ]
    },
    {
     "name": "stderr",
     "output_type": "stream",
     "text": [
      "\n",
      "  0%|          | 0/175 [00:00<?, ?it/s]\u001b[A"
     ]
    },
    {
     "name": "stdout",
     "output_type": "stream",
     "text": [
      "Number of real images: 5626\n"
     ]
    },
    {
     "name": "stderr",
     "output_type": "stream",
     "text": [
      "\n",
      "\n",
      "  0%|          | 0/15 [00:00<?, ?it/s]\u001b[A\u001b[A"
     ]
    },
    {
     "name": "stdout",
     "output_type": "stream",
     "text": [
      "Number of synthetic images: 500\n"
     ]
    },
    {
     "name": "stderr",
     "output_type": "stream",
     "text": [
      " 84%|████████▍ | 84001/100001 [2:59:23<27:57:39,  6.29s/it]"
     ]
    },
    {
     "name": "stdout",
     "output_type": "stream",
     "text": [
      "Current fid score: 1.4735561527750747\n",
      "Fid scores: [4.9325711711390205, 2.4436189539080466, 2.836768048488924, 2.7970490892296382, 3.1710357984691626, 3.3000315606457526, 2.70047286994032, 2.1638209867365674, 2.0204577684506617, 1.3914490073477666, 1.4400591510301268, 1.510807629476865, 2.258796488262803, 1.7612340626121643, 1.7264875375261077, 1.2524196801674918, 1.3446567610169673, 1.6110663800617644, 1.1499442444251073, 1.1722391359154116, 1.7200074762966437, 2.156615950015553, 1.3325966607336674, 0.8853521448197945, 1.0566829426710669, 1.2350619895546657, 1.0571616917674866, 1.370510241710825, 1.5065921467893446, 1.6719117315531875, 1.909778493483067, 1.7204413818191568, 1.5624610984128573, 1.0753806585584016, 1.3278843704483485, 1.3533378755873358, 1.8988524337341843, 1.311208359333218, 1.315135188974292, 1.6493025123445122, 1.2255098483436484, 1.1651169222250104, 0.8573076997493629, 0.729450667331303, 0.7234077685869522, 1.255932364362664, 1.0928023592549607, 0.7040761586618522, 0.9959458987264469, 1.0384877788784266, 1.0041953604475395, 1.0275497493719996, 0.9626051752721381, 1.1457413635081757, 1.0125328386101629, 1.036193935005457, 0.9974276879460966, 1.1198680116327786, 1.0722105710591663, 1.1868924591897212, 1.0989353857280975, 1.1118880007531615, 1.0102777182878384, 0.9995344110008837, 0.824310139795422, 0.881621828617444, 1.1556114222191525, 0.7701034215973799, 0.9216314518395592, 1.055044746537881, 1.0930198188167104, 0.912387109456084, 0.9528460937144203, 0.9098320468963905, 0.8685090871365695, 1.4180429038533404, 1.0362397864138515, 0.9403458634711086, 0.8865479866780177, 0.654682383834114, 0.7872794435801893, 0.7486202855804116, 0.8276288430551872, 0.8432492936206799, 1.4735561527750747]\n"
     ]
    },
    {
     "name": "stderr",
     "output_type": "stream",
     "text": [
      "  0%|          | 0/175 [00:10<?, ?it/s]2:39:20,  1.67it/s] \n",
      "  0%|          | 0/15 [00:01<?, ?it/s]\n",
      " 84%|████████▍ | 84101/100001 [2:59:33<29:25,  9.01it/s]  "
     ]
    },
    {
     "name": "stdout",
     "output_type": "stream",
     "text": [
      "GAN: loss d: 1.42849    loss g: -1.82577\n"
     ]
    },
    {
     "name": "stderr",
     "output_type": "stream",
     "text": [
      " 84%|████████▍ | 84203/100001 [2:59:44<27:47,  9.47it/s]"
     ]
    },
    {
     "name": "stdout",
     "output_type": "stream",
     "text": [
      "GAN: loss d: 2.50056    loss g: -2.19456\n"
     ]
    },
    {
     "name": "stderr",
     "output_type": "stream",
     "text": [
      " 84%|████████▍ | 84303/100001 [2:59:55<27:24,  9.54it/s]"
     ]
    },
    {
     "name": "stdout",
     "output_type": "stream",
     "text": [
      "GAN: loss d: 0.65169    loss g: -3.53023\n"
     ]
    },
    {
     "name": "stderr",
     "output_type": "stream",
     "text": [
      " 84%|████████▍ | 84401/100001 [3:00:05<28:24,  9.15it/s]"
     ]
    },
    {
     "name": "stdout",
     "output_type": "stream",
     "text": [
      "GAN: loss d: 4.45426    loss g: -2.35608\n"
     ]
    },
    {
     "name": "stderr",
     "output_type": "stream",
     "text": [
      " 85%|████████▍ | 84503/100001 [3:00:16<26:52,  9.61it/s]"
     ]
    },
    {
     "name": "stdout",
     "output_type": "stream",
     "text": [
      "GAN: loss d: 4.51931    loss g: -3.16537\n"
     ]
    },
    {
     "name": "stderr",
     "output_type": "stream",
     "text": [
      " 85%|████████▍ | 84603/100001 [3:00:26<27:05,  9.48it/s]"
     ]
    },
    {
     "name": "stdout",
     "output_type": "stream",
     "text": [
      "GAN: loss d: 3.20940    loss g: -4.43016\n"
     ]
    },
    {
     "name": "stderr",
     "output_type": "stream",
     "text": [
      " 85%|████████▍ | 84701/100001 [3:00:37<28:24,  8.98it/s]"
     ]
    },
    {
     "name": "stdout",
     "output_type": "stream",
     "text": [
      "GAN: loss d: 4.03312    loss g: -1.81281\n"
     ]
    },
    {
     "name": "stderr",
     "output_type": "stream",
     "text": [
      " 85%|████████▍ | 84801/100001 [3:00:47<27:32,  9.20it/s]"
     ]
    },
    {
     "name": "stdout",
     "output_type": "stream",
     "text": [
      "GAN: loss d: 3.42814    loss g: -3.53810\n"
     ]
    },
    {
     "name": "stderr",
     "output_type": "stream",
     "text": [
      " 85%|████████▍ | 84901/100001 [3:00:58<27:30,  9.15it/s]"
     ]
    },
    {
     "name": "stdout",
     "output_type": "stream",
     "text": [
      "GAN: loss d: 2.52765    loss g: -3.49412\n"
     ]
    },
    {
     "name": "stderr",
     "output_type": "stream",
     "text": [
      " 85%|████████▍ | 85000/100001 [3:01:08<26:02,  9.60it/s]"
     ]
    },
    {
     "name": "stdout",
     "output_type": "stream",
     "text": [
      "GAN: loss d: 1.24487    loss g: -4.51080\n",
      "saving current model\n"
     ]
    },
    {
     "name": "stderr",
     "output_type": "stream",
     "text": [
      "\n",
      "  0%|          | 0/175 [00:00<?, ?it/s]\u001b[A"
     ]
    },
    {
     "name": "stdout",
     "output_type": "stream",
     "text": [
      "Number of real images: 5626\n"
     ]
    },
    {
     "name": "stderr",
     "output_type": "stream",
     "text": [
      "\n",
      "\n",
      "  0%|          | 0/15 [00:00<?, ?it/s]\u001b[A\u001b[A"
     ]
    },
    {
     "name": "stdout",
     "output_type": "stream",
     "text": [
      "Number of synthetic images: 500\n"
     ]
    },
    {
     "name": "stderr",
     "output_type": "stream",
     "text": [
      " 85%|████████▌ | 85001/100001 [3:01:29<26:11:31,  6.29s/it]"
     ]
    },
    {
     "name": "stdout",
     "output_type": "stream",
     "text": [
      "Current fid score: 0.9081298055185769\n",
      "Fid scores: [4.9325711711390205, 2.4436189539080466, 2.836768048488924, 2.7970490892296382, 3.1710357984691626, 3.3000315606457526, 2.70047286994032, 2.1638209867365674, 2.0204577684506617, 1.3914490073477666, 1.4400591510301268, 1.510807629476865, 2.258796488262803, 1.7612340626121643, 1.7264875375261077, 1.2524196801674918, 1.3446567610169673, 1.6110663800617644, 1.1499442444251073, 1.1722391359154116, 1.7200074762966437, 2.156615950015553, 1.3325966607336674, 0.8853521448197945, 1.0566829426710669, 1.2350619895546657, 1.0571616917674866, 1.370510241710825, 1.5065921467893446, 1.6719117315531875, 1.909778493483067, 1.7204413818191568, 1.5624610984128573, 1.0753806585584016, 1.3278843704483485, 1.3533378755873358, 1.8988524337341843, 1.311208359333218, 1.315135188974292, 1.6493025123445122, 1.2255098483436484, 1.1651169222250104, 0.8573076997493629, 0.729450667331303, 0.7234077685869522, 1.255932364362664, 1.0928023592549607, 0.7040761586618522, 0.9959458987264469, 1.0384877788784266, 1.0041953604475395, 1.0275497493719996, 0.9626051752721381, 1.1457413635081757, 1.0125328386101629, 1.036193935005457, 0.9974276879460966, 1.1198680116327786, 1.0722105710591663, 1.1868924591897212, 1.0989353857280975, 1.1118880007531615, 1.0102777182878384, 0.9995344110008837, 0.824310139795422, 0.881621828617444, 1.1556114222191525, 0.7701034215973799, 0.9216314518395592, 1.055044746537881, 1.0930198188167104, 0.912387109456084, 0.9528460937144203, 0.9098320468963905, 0.8685090871365695, 1.4180429038533404, 1.0362397864138515, 0.9403458634711086, 0.8865479866780177, 0.654682383834114, 0.7872794435801893, 0.7486202855804116, 0.8276288430551872, 0.8432492936206799, 1.4735561527750747, 0.9081298055185769]\n"
     ]
    },
    {
     "name": "stderr",
     "output_type": "stream",
     "text": [
      "  0%|          | 0/175 [00:19<?, ?it/s]26:22,  9.42it/s]   \n",
      "  0%|          | 0/15 [00:10<?, ?it/s]\n",
      " 85%|████████▌ | 85101/100001 [3:01:40<27:15,  9.11it/s]"
     ]
    },
    {
     "name": "stdout",
     "output_type": "stream",
     "text": [
      "GAN: loss d: 0.99884    loss g: -3.29873\n"
     ]
    },
    {
     "name": "stderr",
     "output_type": "stream",
     "text": [
      " 85%|████████▌ | 85201/100001 [3:01:50<27:10,  9.08it/s]"
     ]
    },
    {
     "name": "stdout",
     "output_type": "stream",
     "text": [
      "GAN: loss d: 4.58296    loss g: -3.53693\n"
     ]
    },
    {
     "name": "stderr",
     "output_type": "stream",
     "text": [
      " 85%|████████▌ | 85301/100001 [3:02:01<26:47,  9.14it/s]"
     ]
    },
    {
     "name": "stdout",
     "output_type": "stream",
     "text": [
      "GAN: loss d: 5.13369    loss g: -3.26136\n"
     ]
    },
    {
     "name": "stderr",
     "output_type": "stream",
     "text": [
      " 85%|████████▌ | 85401/100001 [3:02:12<26:48,  9.08it/s]"
     ]
    },
    {
     "name": "stdout",
     "output_type": "stream",
     "text": [
      "GAN: loss d: 4.26222    loss g: -3.03487\n"
     ]
    },
    {
     "name": "stderr",
     "output_type": "stream",
     "text": [
      " 86%|████████▌ | 85503/100001 [3:02:22<25:15,  9.56it/s]"
     ]
    },
    {
     "name": "stdout",
     "output_type": "stream",
     "text": [
      "GAN: loss d: 3.31183    loss g: -4.08355\n"
     ]
    },
    {
     "name": "stderr",
     "output_type": "stream",
     "text": [
      " 86%|████████▌ | 85603/100001 [3:02:33<25:02,  9.59it/s]"
     ]
    },
    {
     "name": "stdout",
     "output_type": "stream",
     "text": [
      "GAN: loss d: 4.45932    loss g: -2.42373\n"
     ]
    },
    {
     "name": "stderr",
     "output_type": "stream",
     "text": [
      " 86%|████████▌ | 85703/100001 [3:02:44<25:01,  9.52it/s]"
     ]
    },
    {
     "name": "stdout",
     "output_type": "stream",
     "text": [
      "GAN: loss d: 5.26594    loss g: -2.42838\n"
     ]
    },
    {
     "name": "stderr",
     "output_type": "stream",
     "text": [
      " 86%|████████▌ | 85803/100001 [3:02:54<25:00,  9.46it/s]"
     ]
    },
    {
     "name": "stdout",
     "output_type": "stream",
     "text": [
      "GAN: loss d: 3.67896    loss g: -3.32413\n"
     ]
    },
    {
     "name": "stderr",
     "output_type": "stream",
     "text": [
      " 86%|████████▌ | 85901/100001 [3:03:05<26:06,  9.00it/s]"
     ]
    },
    {
     "name": "stdout",
     "output_type": "stream",
     "text": [
      "GAN: loss d: 2.88746    loss g: -3.76020\n"
     ]
    },
    {
     "name": "stderr",
     "output_type": "stream",
     "text": [
      " 86%|████████▌ | 86000/100001 [3:03:15<24:54,  9.37it/s]"
     ]
    },
    {
     "name": "stdout",
     "output_type": "stream",
     "text": [
      "GAN: loss d: 4.33018    loss g: -1.65268\n",
      "saving current model\n"
     ]
    },
    {
     "name": "stderr",
     "output_type": "stream",
     "text": [
      "\n",
      "  0%|          | 0/175 [00:00<?, ?it/s]\u001b[A"
     ]
    },
    {
     "name": "stdout",
     "output_type": "stream",
     "text": [
      "Number of real images: 5626\n"
     ]
    },
    {
     "name": "stderr",
     "output_type": "stream",
     "text": [
      "\n",
      "\n",
      "  0%|          | 0/15 [00:00<?, ?it/s]\u001b[A\u001b[A"
     ]
    },
    {
     "name": "stdout",
     "output_type": "stream",
     "text": [
      "Number of synthetic images: 500\n"
     ]
    },
    {
     "name": "stderr",
     "output_type": "stream",
     "text": [
      " 86%|████████▌ | 86003/100001 [3:03:36<13:07:03,  3.37s/it]"
     ]
    },
    {
     "name": "stdout",
     "output_type": "stream",
     "text": [
      "Current fid score: 0.8279901188847809\n",
      "Fid scores: [4.9325711711390205, 2.4436189539080466, 2.836768048488924, 2.7970490892296382, 3.1710357984691626, 3.3000315606457526, 2.70047286994032, 2.1638209867365674, 2.0204577684506617, 1.3914490073477666, 1.4400591510301268, 1.510807629476865, 2.258796488262803, 1.7612340626121643, 1.7264875375261077, 1.2524196801674918, 1.3446567610169673, 1.6110663800617644, 1.1499442444251073, 1.1722391359154116, 1.7200074762966437, 2.156615950015553, 1.3325966607336674, 0.8853521448197945, 1.0566829426710669, 1.2350619895546657, 1.0571616917674866, 1.370510241710825, 1.5065921467893446, 1.6719117315531875, 1.909778493483067, 1.7204413818191568, 1.5624610984128573, 1.0753806585584016, 1.3278843704483485, 1.3533378755873358, 1.8988524337341843, 1.311208359333218, 1.315135188974292, 1.6493025123445122, 1.2255098483436484, 1.1651169222250104, 0.8573076997493629, 0.729450667331303, 0.7234077685869522, 1.255932364362664, 1.0928023592549607, 0.7040761586618522, 0.9959458987264469, 1.0384877788784266, 1.0041953604475395, 1.0275497493719996, 0.9626051752721381, 1.1457413635081757, 1.0125328386101629, 1.036193935005457, 0.9974276879460966, 1.1198680116327786, 1.0722105710591663, 1.1868924591897212, 1.0989353857280975, 1.1118880007531615, 1.0102777182878384, 0.9995344110008837, 0.824310139795422, 0.881621828617444, 1.1556114222191525, 0.7701034215973799, 0.9216314518395592, 1.055044746537881, 1.0930198188167104, 0.912387109456084, 0.9528460937144203, 0.9098320468963905, 0.8685090871365695, 1.4180429038533404, 1.0362397864138515, 0.9403458634711086, 0.8865479866780177, 0.654682383834114, 0.7872794435801893, 0.7486202855804116, 0.8276288430551872, 0.8432492936206799, 1.4735561527750747, 0.9081298055185769, 0.8279901188847809]\n"
     ]
    },
    {
     "name": "stderr",
     "output_type": "stream",
     "text": [
      "  0%|          | 0/175 [00:15<?, ?it/s]24:44,  9.39it/s]   \n",
      "  0%|          | 0/15 [00:06<?, ?it/s]\n",
      " 86%|████████▌ | 86101/100001 [3:03:46<25:48,  8.97it/s]"
     ]
    },
    {
     "name": "stdout",
     "output_type": "stream",
     "text": [
      "GAN: loss d: 4.72816    loss g: -2.05837\n"
     ]
    },
    {
     "name": "stderr",
     "output_type": "stream",
     "text": [
      " 86%|████████▌ | 86201/100001 [3:03:57<25:18,  9.09it/s]"
     ]
    },
    {
     "name": "stdout",
     "output_type": "stream",
     "text": [
      "GAN: loss d: 3.19787    loss g: -3.16885\n"
     ]
    },
    {
     "name": "stderr",
     "output_type": "stream",
     "text": [
      " 86%|████████▋ | 86301/100001 [3:04:07<24:49,  9.20it/s]"
     ]
    },
    {
     "name": "stdout",
     "output_type": "stream",
     "text": [
      "GAN: loss d: 2.89203    loss g: -3.65641\n"
     ]
    },
    {
     "name": "stderr",
     "output_type": "stream",
     "text": [
      " 86%|████████▋ | 86403/100001 [3:04:18<23:33,  9.62it/s]"
     ]
    },
    {
     "name": "stdout",
     "output_type": "stream",
     "text": [
      "GAN: loss d: 4.16110    loss g: -2.66762\n"
     ]
    },
    {
     "name": "stderr",
     "output_type": "stream",
     "text": [
      " 87%|████████▋ | 86501/100001 [3:04:29<24:51,  9.05it/s]"
     ]
    },
    {
     "name": "stdout",
     "output_type": "stream",
     "text": [
      "GAN: loss d: 3.20223    loss g: -4.33896\n"
     ]
    },
    {
     "name": "stderr",
     "output_type": "stream",
     "text": [
      " 87%|████████▋ | 86603/100001 [3:04:39<23:14,  9.61it/s]"
     ]
    },
    {
     "name": "stdout",
     "output_type": "stream",
     "text": [
      "GAN: loss d: 4.17625    loss g: -2.48181\n"
     ]
    },
    {
     "name": "stderr",
     "output_type": "stream",
     "text": [
      " 87%|████████▋ | 86701/100001 [3:04:50<30:32,  7.26it/s]"
     ]
    },
    {
     "name": "stdout",
     "output_type": "stream",
     "text": [
      "GAN: loss d: 5.16231    loss g: -3.61709\n"
     ]
    },
    {
     "name": "stderr",
     "output_type": "stream",
     "text": [
      " 87%|████████▋ | 86801/100001 [3:05:01<24:31,  8.97it/s]"
     ]
    },
    {
     "name": "stdout",
     "output_type": "stream",
     "text": [
      "GAN: loss d: 3.04092    loss g: -2.46761\n"
     ]
    },
    {
     "name": "stderr",
     "output_type": "stream",
     "text": [
      " 87%|████████▋ | 86903/100001 [3:05:11<22:48,  9.57it/s]"
     ]
    },
    {
     "name": "stdout",
     "output_type": "stream",
     "text": [
      "GAN: loss d: 2.44760    loss g: -2.94633\n"
     ]
    },
    {
     "name": "stderr",
     "output_type": "stream",
     "text": [
      " 87%|████████▋ | 87000/100001 [3:05:22<23:05,  9.38it/s]"
     ]
    },
    {
     "name": "stdout",
     "output_type": "stream",
     "text": [
      "GAN: loss d: 1.76865    loss g: -3.76128\n",
      "saving current model\n"
     ]
    },
    {
     "name": "stderr",
     "output_type": "stream",
     "text": [
      "\n",
      "  0%|          | 0/175 [00:00<?, ?it/s]\u001b[A"
     ]
    },
    {
     "name": "stdout",
     "output_type": "stream",
     "text": [
      "Number of real images: 5626\n"
     ]
    },
    {
     "name": "stderr",
     "output_type": "stream",
     "text": [
      "\n",
      "\n",
      "  0%|          | 0/15 [00:00<?, ?it/s]\u001b[A\u001b[A"
     ]
    },
    {
     "name": "stdout",
     "output_type": "stream",
     "text": [
      "Number of synthetic images: 500\n"
     ]
    },
    {
     "name": "stderr",
     "output_type": "stream",
     "text": [
      "  0%|          | 0/175 [00:09<?, ?it/s]\n",
      "  0%|          | 0/15 [00:00<?, ?it/s]"
     ]
    },
    {
     "name": "stdout",
     "output_type": "stream",
     "text": [
      "Current fid score: 0.5618525289789034\n",
      "Fid scores: [4.9325711711390205, 2.4436189539080466, 2.836768048488924, 2.7970490892296382, 3.1710357984691626, 3.3000315606457526, 2.70047286994032, 2.1638209867365674, 2.0204577684506617, 1.3914490073477666, 1.4400591510301268, 1.510807629476865, 2.258796488262803, 1.7612340626121643, 1.7264875375261077, 1.2524196801674918, 1.3446567610169673, 1.6110663800617644, 1.1499442444251073, 1.1722391359154116, 1.7200074762966437, 2.156615950015553, 1.3325966607336674, 0.8853521448197945, 1.0566829426710669, 1.2350619895546657, 1.0571616917674866, 1.370510241710825, 1.5065921467893446, 1.6719117315531875, 1.909778493483067, 1.7204413818191568, 1.5624610984128573, 1.0753806585584016, 1.3278843704483485, 1.3533378755873358, 1.8988524337341843, 1.311208359333218, 1.315135188974292, 1.6493025123445122, 1.2255098483436484, 1.1651169222250104, 0.8573076997493629, 0.729450667331303, 0.7234077685869522, 1.255932364362664, 1.0928023592549607, 0.7040761586618522, 0.9959458987264469, 1.0384877788784266, 1.0041953604475395, 1.0275497493719996, 0.9626051752721381, 1.1457413635081757, 1.0125328386101629, 1.036193935005457, 0.9974276879460966, 1.1198680116327786, 1.0722105710591663, 1.1868924591897212, 1.0989353857280975, 1.1118880007531615, 1.0102777182878384, 0.9995344110008837, 0.824310139795422, 0.881621828617444, 1.1556114222191525, 0.7701034215973799, 0.9216314518395592, 1.055044746537881, 1.0930198188167104, 0.912387109456084, 0.9528460937144203, 0.9098320468963905, 0.8685090871365695, 1.4180429038533404, 1.0362397864138515, 0.9403458634711086, 0.8865479866780177, 0.654682383834114, 0.7872794435801893, 0.7486202855804116, 0.8276288430551872, 0.8432492936206799, 1.4735561527750747, 0.9081298055185769, 0.8279901188847809, 0.5618525289789034]\n",
      "New min fid score: 0.561852528979\n",
      "Saving best model\n"
     ]
    },
    {
     "name": "stderr",
     "output_type": "stream",
     "text": [
      "\n",
      " 87%|████████▋ | 87101/100001 [3:05:56<23:47,  9.04it/s]   "
     ]
    },
    {
     "name": "stdout",
     "output_type": "stream",
     "text": [
      "GAN: loss d: 0.27198    loss g: -1.83414\n"
     ]
    },
    {
     "name": "stderr",
     "output_type": "stream",
     "text": [
      " 87%|████████▋ | 87201/100001 [3:06:07<23:36,  9.04it/s]"
     ]
    },
    {
     "name": "stdout",
     "output_type": "stream",
     "text": [
      "GAN: loss d: 2.91164    loss g: -2.30393\n"
     ]
    },
    {
     "name": "stderr",
     "output_type": "stream",
     "text": [
      " 87%|████████▋ | 87301/100001 [3:06:17<23:28,  9.02it/s]"
     ]
    },
    {
     "name": "stdout",
     "output_type": "stream",
     "text": [
      "GAN: loss d: -0.42284    loss g: -2.50458\n"
     ]
    },
    {
     "name": "stderr",
     "output_type": "stream",
     "text": [
      " 87%|████████▋ | 87401/100001 [3:06:28<23:19,  9.00it/s]"
     ]
    },
    {
     "name": "stdout",
     "output_type": "stream",
     "text": [
      "GAN: loss d: 1.64923    loss g: -3.97464\n"
     ]
    },
    {
     "name": "stderr",
     "output_type": "stream",
     "text": [
      " 88%|████████▊ | 87503/100001 [3:06:39<21:52,  9.52it/s]"
     ]
    },
    {
     "name": "stdout",
     "output_type": "stream",
     "text": [
      "GAN: loss d: 4.28061    loss g: -2.29208\n"
     ]
    },
    {
     "name": "stderr",
     "output_type": "stream",
     "text": [
      " 88%|████████▊ | 87603/100001 [3:06:49<21:50,  9.46it/s]"
     ]
    },
    {
     "name": "stdout",
     "output_type": "stream",
     "text": [
      "GAN: loss d: 2.56071    loss g: -2.91261\n"
     ]
    },
    {
     "name": "stderr",
     "output_type": "stream",
     "text": [
      " 88%|████████▊ | 87701/100001 [3:07:00<22:35,  9.07it/s]"
     ]
    },
    {
     "name": "stdout",
     "output_type": "stream",
     "text": [
      "GAN: loss d: 5.44219    loss g: -2.80097\n"
     ]
    },
    {
     "name": "stderr",
     "output_type": "stream",
     "text": [
      " 88%|████████▊ | 87801/100001 [3:07:10<22:05,  9.20it/s]"
     ]
    },
    {
     "name": "stdout",
     "output_type": "stream",
     "text": [
      "GAN: loss d: 5.80646    loss g: -2.19807\n"
     ]
    },
    {
     "name": "stderr",
     "output_type": "stream",
     "text": [
      " 88%|████████▊ | 87903/100001 [3:07:21<21:03,  9.57it/s]"
     ]
    },
    {
     "name": "stdout",
     "output_type": "stream",
     "text": [
      "GAN: loss d: 4.02303    loss g: -2.41496\n"
     ]
    },
    {
     "name": "stderr",
     "output_type": "stream",
     "text": [
      " 88%|████████▊ | 88000/100001 [3:07:31<21:49,  9.17it/s]"
     ]
    },
    {
     "name": "stdout",
     "output_type": "stream",
     "text": [
      "GAN: loss d: 1.59842    loss g: -3.43963\n",
      "saving current model\n"
     ]
    },
    {
     "name": "stderr",
     "output_type": "stream",
     "text": [
      "\n",
      "  0%|          | 0/175 [00:00<?, ?it/s]\u001b[A"
     ]
    },
    {
     "name": "stdout",
     "output_type": "stream",
     "text": [
      "Number of real images: 5626\n"
     ]
    },
    {
     "name": "stderr",
     "output_type": "stream",
     "text": [
      "\n",
      "\n",
      "  0%|          | 0/15 [00:00<?, ?it/s]\u001b[A\u001b[A"
     ]
    },
    {
     "name": "stdout",
     "output_type": "stream",
     "text": [
      "Number of synthetic images: 500\n"
     ]
    },
    {
     "name": "stderr",
     "output_type": "stream",
     "text": [
      " 88%|████████▊ | 88001/100001 [3:07:52<20:53:06,  6.27s/it]"
     ]
    },
    {
     "name": "stdout",
     "output_type": "stream",
     "text": [
      "Current fid score: 0.713588734264853\n",
      "Fid scores: [4.9325711711390205, 2.4436189539080466, 2.836768048488924, 2.7970490892296382, 3.1710357984691626, 3.3000315606457526, 2.70047286994032, 2.1638209867365674, 2.0204577684506617, 1.3914490073477666, 1.4400591510301268, 1.510807629476865, 2.258796488262803, 1.7612340626121643, 1.7264875375261077, 1.2524196801674918, 1.3446567610169673, 1.6110663800617644, 1.1499442444251073, 1.1722391359154116, 1.7200074762966437, 2.156615950015553, 1.3325966607336674, 0.8853521448197945, 1.0566829426710669, 1.2350619895546657, 1.0571616917674866, 1.370510241710825, 1.5065921467893446, 1.6719117315531875, 1.909778493483067, 1.7204413818191568, 1.5624610984128573, 1.0753806585584016, 1.3278843704483485, 1.3533378755873358, 1.8988524337341843, 1.311208359333218, 1.315135188974292, 1.6493025123445122, 1.2255098483436484, 1.1651169222250104, 0.8573076997493629, 0.729450667331303, 0.7234077685869522, 1.255932364362664, 1.0928023592549607, 0.7040761586618522, 0.9959458987264469, 1.0384877788784266, 1.0041953604475395, 1.0275497493719996, 0.9626051752721381, 1.1457413635081757, 1.0125328386101629, 1.036193935005457, 0.9974276879460966, 1.1198680116327786, 1.0722105710591663, 1.1868924591897212, 1.0989353857280975, 1.1118880007531615, 1.0102777182878384, 0.9995344110008837, 0.824310139795422, 0.881621828617444, 1.1556114222191525, 0.7701034215973799, 0.9216314518395592, 1.055044746537881, 1.0930198188167104, 0.912387109456084, 0.9528460937144203, 0.9098320468963905, 0.8685090871365695, 1.4180429038533404, 1.0362397864138515, 0.9403458634711086, 0.8865479866780177, 0.654682383834114, 0.7872794435801893, 0.7486202855804116, 0.8276288430551872, 0.8432492936206799, 1.4735561527750747, 0.9081298055185769, 0.8279901188847809, 0.5618525289789034, 0.713588734264853]\n"
     ]
    },
    {
     "name": "stderr",
     "output_type": "stream",
     "text": [
      "  0%|          | 0/175 [00:10<?, ?it/s]55:15,  3.62it/s]   \n",
      "  0%|          | 0/15 [00:02<?, ?it/s]\n",
      " 88%|████████▊ | 88101/100001 [3:08:03<22:10,  8.95it/s]"
     ]
    },
    {
     "name": "stdout",
     "output_type": "stream",
     "text": [
      "GAN: loss d: 5.73677    loss g: -3.51438\n"
     ]
    },
    {
     "name": "stderr",
     "output_type": "stream",
     "text": [
      " 88%|████████▊ | 88203/100001 [3:08:13<20:33,  9.56it/s]"
     ]
    },
    {
     "name": "stdout",
     "output_type": "stream",
     "text": [
      "GAN: loss d: 5.32688    loss g: -2.56451\n"
     ]
    },
    {
     "name": "stderr",
     "output_type": "stream",
     "text": [
      " 88%|████████▊ | 88301/100001 [3:08:24<21:51,  8.92it/s]"
     ]
    },
    {
     "name": "stdout",
     "output_type": "stream",
     "text": [
      "GAN: loss d: 3.32065    loss g: -4.09593\n"
     ]
    },
    {
     "name": "stderr",
     "output_type": "stream",
     "text": [
      " 88%|████████▊ | 88401/100001 [3:08:34<21:22,  9.04it/s]"
     ]
    },
    {
     "name": "stdout",
     "output_type": "stream",
     "text": [
      "GAN: loss d: 2.06493    loss g: -2.48573\n"
     ]
    },
    {
     "name": "stderr",
     "output_type": "stream",
     "text": [
      " 89%|████████▊ | 88501/100001 [3:08:45<20:51,  9.19it/s]"
     ]
    },
    {
     "name": "stdout",
     "output_type": "stream",
     "text": [
      "GAN: loss d: 2.88362    loss g: -3.30824\n"
     ]
    },
    {
     "name": "stderr",
     "output_type": "stream",
     "text": [
      " 89%|████████▊ | 88601/100001 [3:08:56<21:03,  9.02it/s]"
     ]
    },
    {
     "name": "stdout",
     "output_type": "stream",
     "text": [
      "GAN: loss d: 3.86444    loss g: -3.47115\n"
     ]
    },
    {
     "name": "stderr",
     "output_type": "stream",
     "text": [
      " 89%|████████▊ | 88703/100001 [3:09:07<20:12,  9.32it/s]"
     ]
    },
    {
     "name": "stdout",
     "output_type": "stream",
     "text": [
      "GAN: loss d: -1.91229    loss g: -3.05885\n"
     ]
    },
    {
     "name": "stderr",
     "output_type": "stream",
     "text": [
      " 89%|████████▉ | 88803/100001 [3:09:17<19:41,  9.48it/s]"
     ]
    },
    {
     "name": "stdout",
     "output_type": "stream",
     "text": [
      "GAN: loss d: 1.50788    loss g: -2.45537\n"
     ]
    },
    {
     "name": "stderr",
     "output_type": "stream",
     "text": [
      " 89%|████████▉ | 88901/100001 [3:09:27<20:15,  9.13it/s]"
     ]
    },
    {
     "name": "stdout",
     "output_type": "stream",
     "text": [
      "GAN: loss d: 3.15248    loss g: -3.01039\n"
     ]
    },
    {
     "name": "stderr",
     "output_type": "stream",
     "text": [
      " 89%|████████▉ | 89000/100001 [3:09:38<19:27,  9.42it/s]"
     ]
    },
    {
     "name": "stdout",
     "output_type": "stream",
     "text": [
      "GAN: loss d: 1.37324    loss g: -2.52729\n",
      "saving current model\n"
     ]
    },
    {
     "name": "stderr",
     "output_type": "stream",
     "text": [
      "\n",
      "  0%|          | 0/175 [00:00<?, ?it/s]\u001b[A"
     ]
    },
    {
     "name": "stdout",
     "output_type": "stream",
     "text": [
      "Number of real images: 5626\n"
     ]
    },
    {
     "name": "stderr",
     "output_type": "stream",
     "text": [
      "\n",
      "\n",
      "  0%|          | 0/15 [00:00<?, ?it/s]\u001b[A\u001b[A"
     ]
    },
    {
     "name": "stdout",
     "output_type": "stream",
     "text": [
      "Number of synthetic images: 500\n"
     ]
    },
    {
     "name": "stderr",
     "output_type": "stream",
     "text": [
      " 89%|████████▉ | 89001/100001 [3:09:59<19:07:29,  6.26s/it]"
     ]
    },
    {
     "name": "stdout",
     "output_type": "stream",
     "text": [
      "Current fid score: 0.6471811844749737\n",
      "Fid scores: [4.9325711711390205, 2.4436189539080466, 2.836768048488924, 2.7970490892296382, 3.1710357984691626, 3.3000315606457526, 2.70047286994032, 2.1638209867365674, 2.0204577684506617, 1.3914490073477666, 1.4400591510301268, 1.510807629476865, 2.258796488262803, 1.7612340626121643, 1.7264875375261077, 1.2524196801674918, 1.3446567610169673, 1.6110663800617644, 1.1499442444251073, 1.1722391359154116, 1.7200074762966437, 2.156615950015553, 1.3325966607336674, 0.8853521448197945, 1.0566829426710669, 1.2350619895546657, 1.0571616917674866, 1.370510241710825, 1.5065921467893446, 1.6719117315531875, 1.909778493483067, 1.7204413818191568, 1.5624610984128573, 1.0753806585584016, 1.3278843704483485, 1.3533378755873358, 1.8988524337341843, 1.311208359333218, 1.315135188974292, 1.6493025123445122, 1.2255098483436484, 1.1651169222250104, 0.8573076997493629, 0.729450667331303, 0.7234077685869522, 1.255932364362664, 1.0928023592549607, 0.7040761586618522, 0.9959458987264469, 1.0384877788784266, 1.0041953604475395, 1.0275497493719996, 0.9626051752721381, 1.1457413635081757, 1.0125328386101629, 1.036193935005457, 0.9974276879460966, 1.1198680116327786, 1.0722105710591663, 1.1868924591897212, 1.0989353857280975, 1.1118880007531615, 1.0102777182878384, 0.9995344110008837, 0.824310139795422, 0.881621828617444, 1.1556114222191525, 0.7701034215973799, 0.9216314518395592, 1.055044746537881, 1.0930198188167104, 0.912387109456084, 0.9528460937144203, 0.9098320468963905, 0.8685090871365695, 1.4180429038533404, 1.0362397864138515, 0.9403458634711086, 0.8865479866780177, 0.654682383834114, 0.7872794435801893, 0.7486202855804116, 0.8276288430551872, 0.8432492936206799, 1.4735561527750747, 0.9081298055185769, 0.8279901188847809, 0.5618525289789034, 0.713588734264853, 0.6471811844749737]\n"
     ]
    },
    {
     "name": "stderr",
     "output_type": "stream",
     "text": [
      "  0%|          | 0/175 [00:15<?, ?it/s]18:58,  9.61it/s]   \n",
      "  0%|          | 0/15 [00:06<?, ?it/s]\n",
      " 89%|████████▉ | 89101/100001 [3:10:09<19:40,  9.23it/s]"
     ]
    },
    {
     "name": "stdout",
     "output_type": "stream",
     "text": [
      "GAN: loss d: 3.28171    loss g: -2.60862\n"
     ]
    },
    {
     "name": "stderr",
     "output_type": "stream",
     "text": [
      " 89%|████████▉ | 89203/100001 [3:10:20<18:48,  9.56it/s]"
     ]
    },
    {
     "name": "stdout",
     "output_type": "stream",
     "text": [
      "GAN: loss d: 2.15869    loss g: -3.09983\n"
     ]
    },
    {
     "name": "stderr",
     "output_type": "stream",
     "text": [
      " 89%|████████▉ | 89301/100001 [3:10:30<19:44,  9.03it/s]"
     ]
    },
    {
     "name": "stdout",
     "output_type": "stream",
     "text": [
      "GAN: loss d: 1.41775    loss g: -1.71379\n"
     ]
    },
    {
     "name": "stderr",
     "output_type": "stream",
     "text": [
      " 89%|████████▉ | 89401/100001 [3:10:41<19:22,  9.12it/s]"
     ]
    },
    {
     "name": "stdout",
     "output_type": "stream",
     "text": [
      "GAN: loss d: 4.93675    loss g: -3.57555\n"
     ]
    },
    {
     "name": "stderr",
     "output_type": "stream",
     "text": [
      " 90%|████████▉ | 89501/100001 [3:10:52<19:18,  9.07it/s]"
     ]
    },
    {
     "name": "stdout",
     "output_type": "stream",
     "text": [
      "GAN: loss d: 4.73063    loss g: -3.02979\n"
     ]
    },
    {
     "name": "stderr",
     "output_type": "stream",
     "text": [
      " 90%|████████▉ | 89601/100001 [3:11:02<19:23,  8.94it/s]"
     ]
    },
    {
     "name": "stdout",
     "output_type": "stream",
     "text": [
      "GAN: loss d: 2.56313    loss g: -3.04178\n"
     ]
    },
    {
     "name": "stderr",
     "output_type": "stream",
     "text": [
      " 90%|████████▉ | 89701/100001 [3:11:13<20:53,  8.22it/s]"
     ]
    },
    {
     "name": "stdout",
     "output_type": "stream",
     "text": [
      "GAN: loss d: 0.96663    loss g: -1.66668\n"
     ]
    },
    {
     "name": "stderr",
     "output_type": "stream",
     "text": [
      " 90%|████████▉ | 89801/100001 [3:11:23<18:41,  9.09it/s]"
     ]
    },
    {
     "name": "stdout",
     "output_type": "stream",
     "text": [
      "GAN: loss d: 3.34629    loss g: -2.82445\n"
     ]
    },
    {
     "name": "stderr",
     "output_type": "stream",
     "text": [
      " 90%|████████▉ | 89901/100001 [3:11:34<18:30,  9.09it/s]"
     ]
    },
    {
     "name": "stdout",
     "output_type": "stream",
     "text": [
      "GAN: loss d: 1.12432    loss g: -2.74118\n"
     ]
    },
    {
     "name": "stderr",
     "output_type": "stream",
     "text": [
      " 90%|████████▉ | 90000/100001 [3:11:45<17:28,  9.54it/s]"
     ]
    },
    {
     "name": "stdout",
     "output_type": "stream",
     "text": [
      "GAN: loss d: 5.22294    loss g: -1.97930\n",
      "saving current model\n"
     ]
    },
    {
     "name": "stderr",
     "output_type": "stream",
     "text": [
      "\n",
      "  0%|          | 0/175 [00:00<?, ?it/s]\u001b[A"
     ]
    },
    {
     "name": "stdout",
     "output_type": "stream",
     "text": [
      "Number of real images: 5626\n"
     ]
    },
    {
     "name": "stderr",
     "output_type": "stream",
     "text": [
      "\n",
      "\n",
      "  0%|          | 0/15 [00:00<?, ?it/s]\u001b[A\u001b[A"
     ]
    },
    {
     "name": "stdout",
     "output_type": "stream",
     "text": [
      "Number of synthetic images: 500\n"
     ]
    },
    {
     "name": "stderr",
     "output_type": "stream",
     "text": [
      " 90%|█████████ | 90001/100001 [3:12:05<17:09:53,  6.18s/it]"
     ]
    },
    {
     "name": "stdout",
     "output_type": "stream",
     "text": [
      "Current fid score: 0.8401059950867982\n",
      "Fid scores: [4.9325711711390205, 2.4436189539080466, 2.836768048488924, 2.7970490892296382, 3.1710357984691626, 3.3000315606457526, 2.70047286994032, 2.1638209867365674, 2.0204577684506617, 1.3914490073477666, 1.4400591510301268, 1.510807629476865, 2.258796488262803, 1.7612340626121643, 1.7264875375261077, 1.2524196801674918, 1.3446567610169673, 1.6110663800617644, 1.1499442444251073, 1.1722391359154116, 1.7200074762966437, 2.156615950015553, 1.3325966607336674, 0.8853521448197945, 1.0566829426710669, 1.2350619895546657, 1.0571616917674866, 1.370510241710825, 1.5065921467893446, 1.6719117315531875, 1.909778493483067, 1.7204413818191568, 1.5624610984128573, 1.0753806585584016, 1.3278843704483485, 1.3533378755873358, 1.8988524337341843, 1.311208359333218, 1.315135188974292, 1.6493025123445122, 1.2255098483436484, 1.1651169222250104, 0.8573076997493629, 0.729450667331303, 0.7234077685869522, 1.255932364362664, 1.0928023592549607, 0.7040761586618522, 0.9959458987264469, 1.0384877788784266, 1.0041953604475395, 1.0275497493719996, 0.9626051752721381, 1.1457413635081757, 1.0125328386101629, 1.036193935005457, 0.9974276879460966, 1.1198680116327786, 1.0722105710591663, 1.1868924591897212, 1.0989353857280975, 1.1118880007531615, 1.0102777182878384, 0.9995344110008837, 0.824310139795422, 0.881621828617444, 1.1556114222191525, 0.7701034215973799, 0.9216314518395592, 1.055044746537881, 1.0930198188167104, 0.912387109456084, 0.9528460937144203, 0.9098320468963905, 0.8685090871365695, 1.4180429038533404, 1.0362397864138515, 0.9403458634711086, 0.8865479866780177, 0.654682383834114, 0.7872794435801893, 0.7486202855804116, 0.8276288430551872, 0.8432492936206799, 1.4735561527750747, 0.9081298055185769, 0.8279901188847809, 0.5618525289789034, 0.713588734264853, 0.6471811844749737, 0.8401059950867982]\n"
     ]
    },
    {
     "name": "stderr",
     "output_type": "stream",
     "text": [
      "  0%|          | 0/175 [00:14<?, ?it/s]17:18,  9.59it/s]   \n",
      "  0%|          | 0/15 [00:05<?, ?it/s]\n",
      " 90%|█████████ | 90101/100001 [3:12:15<18:10,  9.08it/s]"
     ]
    },
    {
     "name": "stdout",
     "output_type": "stream",
     "text": [
      "GAN: loss d: 1.47925    loss g: -2.65714\n"
     ]
    },
    {
     "name": "stderr",
     "output_type": "stream",
     "text": [
      " 90%|█████████ | 90203/100001 [3:12:26<17:11,  9.50it/s]"
     ]
    },
    {
     "name": "stdout",
     "output_type": "stream",
     "text": [
      "GAN: loss d: 3.54722    loss g: -1.98092\n"
     ]
    },
    {
     "name": "stderr",
     "output_type": "stream",
     "text": [
      " 90%|█████████ | 90301/100001 [3:12:37<17:45,  9.11it/s]"
     ]
    },
    {
     "name": "stdout",
     "output_type": "stream",
     "text": [
      "GAN: loss d: 1.74355    loss g: -2.27749\n"
     ]
    },
    {
     "name": "stderr",
     "output_type": "stream",
     "text": [
      " 90%|█████████ | 90401/100001 [3:12:47<17:36,  9.09it/s]"
     ]
    },
    {
     "name": "stdout",
     "output_type": "stream",
     "text": [
      "GAN: loss d: 1.47828    loss g: -1.74544\n"
     ]
    },
    {
     "name": "stderr",
     "output_type": "stream",
     "text": [
      " 91%|█████████ | 90503/100001 [3:12:58<16:31,  9.58it/s]"
     ]
    },
    {
     "name": "stdout",
     "output_type": "stream",
     "text": [
      "GAN: loss d: 5.78984    loss g: -3.05430\n"
     ]
    },
    {
     "name": "stderr",
     "output_type": "stream",
     "text": [
      " 91%|█████████ | 90601/100001 [3:13:08<16:56,  9.24it/s]"
     ]
    },
    {
     "name": "stdout",
     "output_type": "stream",
     "text": [
      "GAN: loss d: 0.95593    loss g: -2.00916\n"
     ]
    },
    {
     "name": "stderr",
     "output_type": "stream",
     "text": [
      " 91%|█████████ | 90701/100001 [3:13:19<17:26,  8.88it/s]"
     ]
    },
    {
     "name": "stdout",
     "output_type": "stream",
     "text": [
      "GAN: loss d: 2.02653    loss g: -2.85837\n"
     ]
    },
    {
     "name": "stderr",
     "output_type": "stream",
     "text": [
      " 91%|█████████ | 90803/100001 [3:13:30<15:58,  9.59it/s]"
     ]
    },
    {
     "name": "stdout",
     "output_type": "stream",
     "text": [
      "GAN: loss d: 5.94175    loss g: -2.37470\n"
     ]
    },
    {
     "name": "stderr",
     "output_type": "stream",
     "text": [
      " 91%|█████████ | 90903/100001 [3:13:40<15:48,  9.59it/s]"
     ]
    },
    {
     "name": "stdout",
     "output_type": "stream",
     "text": [
      "GAN: loss d: 0.97106    loss g: -3.02016\n"
     ]
    },
    {
     "name": "stderr",
     "output_type": "stream",
     "text": [
      " 91%|█████████ | 91000/100001 [3:13:51<15:49,  9.48it/s]"
     ]
    },
    {
     "name": "stdout",
     "output_type": "stream",
     "text": [
      "GAN: loss d: 5.60192    loss g: -2.61443\n",
      "saving current model\n"
     ]
    },
    {
     "name": "stderr",
     "output_type": "stream",
     "text": [
      "\n",
      "  0%|          | 0/175 [00:00<?, ?it/s]\u001b[A"
     ]
    },
    {
     "name": "stdout",
     "output_type": "stream",
     "text": [
      "Number of real images: 5626\n"
     ]
    },
    {
     "name": "stderr",
     "output_type": "stream",
     "text": [
      "\n",
      "\n",
      "  0%|          | 0/15 [00:00<?, ?it/s]\u001b[A\u001b[A"
     ]
    },
    {
     "name": "stdout",
     "output_type": "stream",
     "text": [
      "Number of synthetic images: 500\n"
     ]
    },
    {
     "name": "stderr",
     "output_type": "stream",
     "text": [
      " 91%|█████████ | 91002/100001 [3:14:11<10:57:58,  4.39s/it]"
     ]
    },
    {
     "name": "stdout",
     "output_type": "stream",
     "text": [
      "Current fid score: 0.6723170241446965\n",
      "Fid scores: [4.9325711711390205, 2.4436189539080466, 2.836768048488924, 2.7970490892296382, 3.1710357984691626, 3.3000315606457526, 2.70047286994032, 2.1638209867365674, 2.0204577684506617, 1.3914490073477666, 1.4400591510301268, 1.510807629476865, 2.258796488262803, 1.7612340626121643, 1.7264875375261077, 1.2524196801674918, 1.3446567610169673, 1.6110663800617644, 1.1499442444251073, 1.1722391359154116, 1.7200074762966437, 2.156615950015553, 1.3325966607336674, 0.8853521448197945, 1.0566829426710669, 1.2350619895546657, 1.0571616917674866, 1.370510241710825, 1.5065921467893446, 1.6719117315531875, 1.909778493483067, 1.7204413818191568, 1.5624610984128573, 1.0753806585584016, 1.3278843704483485, 1.3533378755873358, 1.8988524337341843, 1.311208359333218, 1.315135188974292, 1.6493025123445122, 1.2255098483436484, 1.1651169222250104, 0.8573076997493629, 0.729450667331303, 0.7234077685869522, 1.255932364362664, 1.0928023592549607, 0.7040761586618522, 0.9959458987264469, 1.0384877788784266, 1.0041953604475395, 1.0275497493719996, 0.9626051752721381, 1.1457413635081757, 1.0125328386101629, 1.036193935005457, 0.9974276879460966, 1.1198680116327786, 1.0722105710591663, 1.1868924591897212, 1.0989353857280975, 1.1118880007531615, 1.0102777182878384, 0.9995344110008837, 0.824310139795422, 0.881621828617444, 1.1556114222191525, 0.7701034215973799, 0.9216314518395592, 1.055044746537881, 1.0930198188167104, 0.912387109456084, 0.9528460937144203, 0.9098320468963905, 0.8685090871365695, 1.4180429038533404, 1.0362397864138515, 0.9403458634711086, 0.8865479866780177, 0.654682383834114, 0.7872794435801893, 0.7486202855804116, 0.8276288430551872, 0.8432492936206799, 1.4735561527750747, 0.9081298055185769, 0.8279901188847809, 0.5618525289789034, 0.713588734264853, 0.6471811844749737, 0.8401059950867982, 0.6723170241446965]\n"
     ]
    },
    {
     "name": "stderr",
     "output_type": "stream",
     "text": [
      "  0%|          | 0/175 [00:10<?, ?it/s]41:58,  3.57it/s]   \n",
      "  0%|          | 0/15 [00:02<?, ?it/s]\n",
      " 91%|█████████ | 91101/100001 [3:14:22<16:14,  9.13it/s]"
     ]
    },
    {
     "name": "stdout",
     "output_type": "stream",
     "text": [
      "GAN: loss d: 5.24364    loss g: -2.23632\n"
     ]
    },
    {
     "name": "stderr",
     "output_type": "stream",
     "text": [
      " 91%|█████████ | 91201/100001 [3:14:32<16:30,  8.89it/s]"
     ]
    },
    {
     "name": "stdout",
     "output_type": "stream",
     "text": [
      "GAN: loss d: 4.43927    loss g: -3.24532\n"
     ]
    },
    {
     "name": "stderr",
     "output_type": "stream",
     "text": [
      " 91%|█████████▏| 91303/100001 [3:14:43<15:13,  9.52it/s]"
     ]
    },
    {
     "name": "stdout",
     "output_type": "stream",
     "text": [
      "GAN: loss d: 4.59290    loss g: -3.06485\n"
     ]
    },
    {
     "name": "stderr",
     "output_type": "stream",
     "text": [
      " 91%|█████████▏| 91401/100001 [3:14:54<15:49,  9.06it/s]"
     ]
    },
    {
     "name": "stdout",
     "output_type": "stream",
     "text": [
      "GAN: loss d: 1.86747    loss g: -2.88676\n"
     ]
    },
    {
     "name": "stderr",
     "output_type": "stream",
     "text": [
      " 92%|█████████▏| 91503/100001 [3:15:04<14:36,  9.69it/s]"
     ]
    },
    {
     "name": "stdout",
     "output_type": "stream",
     "text": [
      "GAN: loss d: 1.97576    loss g: -3.19378\n"
     ]
    },
    {
     "name": "stderr",
     "output_type": "stream",
     "text": [
      " 92%|█████████▏| 91603/100001 [3:15:15<14:28,  9.67it/s]"
     ]
    },
    {
     "name": "stdout",
     "output_type": "stream",
     "text": [
      "GAN: loss d: 4.14989    loss g: -2.84063\n"
     ]
    },
    {
     "name": "stderr",
     "output_type": "stream",
     "text": [
      " 92%|█████████▏| 91701/100001 [3:15:25<15:16,  9.05it/s]"
     ]
    },
    {
     "name": "stdout",
     "output_type": "stream",
     "text": [
      "GAN: loss d: 2.14883    loss g: -3.61147\n"
     ]
    },
    {
     "name": "stderr",
     "output_type": "stream",
     "text": [
      " 92%|█████████▏| 91801/100001 [3:15:36<15:21,  8.90it/s]"
     ]
    },
    {
     "name": "stdout",
     "output_type": "stream",
     "text": [
      "GAN: loss d: 1.94466    loss g: -2.54776\n"
     ]
    },
    {
     "name": "stderr",
     "output_type": "stream",
     "text": [
      " 92%|█████████▏| 91901/100001 [3:15:46<15:07,  8.93it/s]"
     ]
    },
    {
     "name": "stdout",
     "output_type": "stream",
     "text": [
      "GAN: loss d: -0.51774    loss g: -2.19975\n"
     ]
    },
    {
     "name": "stderr",
     "output_type": "stream",
     "text": [
      " 92%|█████████▏| 92000/100001 [3:15:57<14:04,  9.48it/s]"
     ]
    },
    {
     "name": "stdout",
     "output_type": "stream",
     "text": [
      "GAN: loss d: 1.54364    loss g: -2.84353\n",
      "saving current model\n"
     ]
    },
    {
     "name": "stderr",
     "output_type": "stream",
     "text": [
      "\n",
      "  0%|          | 0/175 [00:00<?, ?it/s]\u001b[A"
     ]
    },
    {
     "name": "stdout",
     "output_type": "stream",
     "text": [
      "Number of real images: 5626\n"
     ]
    },
    {
     "name": "stderr",
     "output_type": "stream",
     "text": [
      "\n",
      "\n",
      "  0%|          | 0/15 [00:00<?, ?it/s]\u001b[A\u001b[A"
     ]
    },
    {
     "name": "stdout",
     "output_type": "stream",
     "text": [
      "Number of synthetic images: 500\n"
     ]
    },
    {
     "name": "stderr",
     "output_type": "stream",
     "text": [
      " 92%|█████████▏| 92001/100001 [3:16:18<13:56:05,  6.27s/it]"
     ]
    },
    {
     "name": "stdout",
     "output_type": "stream",
     "text": [
      "Current fid score: 0.7179703810530107\n",
      "Fid scores: [4.9325711711390205, 2.4436189539080466, 2.836768048488924, 2.7970490892296382, 3.1710357984691626, 3.3000315606457526, 2.70047286994032, 2.1638209867365674, 2.0204577684506617, 1.3914490073477666, 1.4400591510301268, 1.510807629476865, 2.258796488262803, 1.7612340626121643, 1.7264875375261077, 1.2524196801674918, 1.3446567610169673, 1.6110663800617644, 1.1499442444251073, 1.1722391359154116, 1.7200074762966437, 2.156615950015553, 1.3325966607336674, 0.8853521448197945, 1.0566829426710669, 1.2350619895546657, 1.0571616917674866, 1.370510241710825, 1.5065921467893446, 1.6719117315531875, 1.909778493483067, 1.7204413818191568, 1.5624610984128573, 1.0753806585584016, 1.3278843704483485, 1.3533378755873358, 1.8988524337341843, 1.311208359333218, 1.315135188974292, 1.6493025123445122, 1.2255098483436484, 1.1651169222250104, 0.8573076997493629, 0.729450667331303, 0.7234077685869522, 1.255932364362664, 1.0928023592549607, 0.7040761586618522, 0.9959458987264469, 1.0384877788784266, 1.0041953604475395, 1.0275497493719996, 0.9626051752721381, 1.1457413635081757, 1.0125328386101629, 1.036193935005457, 0.9974276879460966, 1.1198680116327786, 1.0722105710591663, 1.1868924591897212, 1.0989353857280975, 1.1118880007531615, 1.0102777182878384, 0.9995344110008837, 0.824310139795422, 0.881621828617444, 1.1556114222191525, 0.7701034215973799, 0.9216314518395592, 1.055044746537881, 1.0930198188167104, 0.912387109456084, 0.9528460937144203, 0.9098320468963905, 0.8685090871365695, 1.4180429038533404, 1.0362397864138515, 0.9403458634711086, 0.8865479866780177, 0.654682383834114, 0.7872794435801893, 0.7486202855804116, 0.8276288430551872, 0.8432492936206799, 1.4735561527750747, 0.9081298055185769, 0.8279901188847809, 0.5618525289789034, 0.713588734264853, 0.6471811844749737, 0.8401059950867982, 0.6723170241446965, 0.7179703810530107]\n"
     ]
    },
    {
     "name": "stderr",
     "output_type": "stream",
     "text": [
      "  0%|          | 0/175 [00:18<?, ?it/s]13:56,  9.46it/s]   \n",
      "  0%|          | 0/15 [00:09<?, ?it/s]\n",
      " 92%|█████████▏| 92103/100001 [3:16:28<13:44,  9.58it/s]"
     ]
    },
    {
     "name": "stdout",
     "output_type": "stream",
     "text": [
      "GAN: loss d: 1.25941    loss g: -2.35089\n"
     ]
    },
    {
     "name": "stderr",
     "output_type": "stream",
     "text": [
      " 92%|█████████▏| 92201/100001 [3:16:39<14:23,  9.04it/s]"
     ]
    },
    {
     "name": "stdout",
     "output_type": "stream",
     "text": [
      "GAN: loss d: 3.49604    loss g: -1.71901\n"
     ]
    },
    {
     "name": "stderr",
     "output_type": "stream",
     "text": [
      " 92%|█████████▏| 92301/100001 [3:16:49<14:00,  9.16it/s]"
     ]
    },
    {
     "name": "stdout",
     "output_type": "stream",
     "text": [
      "GAN: loss d: 5.91877    loss g: -1.79000\n"
     ]
    },
    {
     "name": "stderr",
     "output_type": "stream",
     "text": [
      " 92%|█████████▏| 92401/100001 [3:17:00<14:06,  8.98it/s]"
     ]
    },
    {
     "name": "stdout",
     "output_type": "stream",
     "text": [
      "GAN: loss d: 3.31729    loss g: -2.09991\n"
     ]
    },
    {
     "name": "stderr",
     "output_type": "stream",
     "text": [
      " 93%|█████████▎| 92503/100001 [3:17:11<13:15,  9.42it/s]"
     ]
    },
    {
     "name": "stdout",
     "output_type": "stream",
     "text": [
      "GAN: loss d: 5.89067    loss g: -2.97343\n"
     ]
    },
    {
     "name": "stderr",
     "output_type": "stream",
     "text": [
      " 93%|█████████▎| 92601/100001 [3:17:21<13:50,  8.91it/s]"
     ]
    },
    {
     "name": "stdout",
     "output_type": "stream",
     "text": [
      "GAN: loss d: 2.80747    loss g: -3.83575\n"
     ]
    },
    {
     "name": "stderr",
     "output_type": "stream",
     "text": [
      " 93%|█████████▎| 92701/100001 [3:17:32<13:45,  8.84it/s]"
     ]
    },
    {
     "name": "stdout",
     "output_type": "stream",
     "text": [
      "GAN: loss d: 5.76603    loss g: -1.24384\n"
     ]
    },
    {
     "name": "stderr",
     "output_type": "stream",
     "text": [
      " 93%|█████████▎| 92801/100001 [3:17:43<13:27,  8.92it/s]"
     ]
    },
    {
     "name": "stdout",
     "output_type": "stream",
     "text": [
      "GAN: loss d: 3.43211    loss g: -2.31518\n"
     ]
    },
    {
     "name": "stderr",
     "output_type": "stream",
     "text": [
      " 93%|█████████▎| 92903/100001 [3:17:54<12:23,  9.55it/s]"
     ]
    },
    {
     "name": "stdout",
     "output_type": "stream",
     "text": [
      "GAN: loss d: 3.47153    loss g: -1.73065\n"
     ]
    },
    {
     "name": "stderr",
     "output_type": "stream",
     "text": [
      " 93%|█████████▎| 93000/100001 [3:18:04<12:28,  9.36it/s]"
     ]
    },
    {
     "name": "stdout",
     "output_type": "stream",
     "text": [
      "GAN: loss d: 5.36838    loss g: -3.11029\n",
      "saving current model\n"
     ]
    },
    {
     "name": "stderr",
     "output_type": "stream",
     "text": [
      "\n",
      "  0%|          | 0/175 [00:00<?, ?it/s]\u001b[A"
     ]
    },
    {
     "name": "stdout",
     "output_type": "stream",
     "text": [
      "Number of real images: 5626\n"
     ]
    },
    {
     "name": "stderr",
     "output_type": "stream",
     "text": [
      "\n",
      "\n",
      "  0%|          | 0/15 [00:00<?, ?it/s]\u001b[A\u001b[A"
     ]
    },
    {
     "name": "stdout",
     "output_type": "stream",
     "text": [
      "Number of synthetic images: 500\n"
     ]
    },
    {
     "name": "stderr",
     "output_type": "stream",
     "text": [
      " 93%|█████████▎| 93001/100001 [3:18:24<12:03:06,  6.20s/it]"
     ]
    },
    {
     "name": "stdout",
     "output_type": "stream",
     "text": [
      "Current fid score: 0.7063738161164395\n",
      "Fid scores: [4.9325711711390205, 2.4436189539080466, 2.836768048488924, 2.7970490892296382, 3.1710357984691626, 3.3000315606457526, 2.70047286994032, 2.1638209867365674, 2.0204577684506617, 1.3914490073477666, 1.4400591510301268, 1.510807629476865, 2.258796488262803, 1.7612340626121643, 1.7264875375261077, 1.2524196801674918, 1.3446567610169673, 1.6110663800617644, 1.1499442444251073, 1.1722391359154116, 1.7200074762966437, 2.156615950015553, 1.3325966607336674, 0.8853521448197945, 1.0566829426710669, 1.2350619895546657, 1.0571616917674866, 1.370510241710825, 1.5065921467893446, 1.6719117315531875, 1.909778493483067, 1.7204413818191568, 1.5624610984128573, 1.0753806585584016, 1.3278843704483485, 1.3533378755873358, 1.8988524337341843, 1.311208359333218, 1.315135188974292, 1.6493025123445122, 1.2255098483436484, 1.1651169222250104, 0.8573076997493629, 0.729450667331303, 0.7234077685869522, 1.255932364362664, 1.0928023592549607, 0.7040761586618522, 0.9959458987264469, 1.0384877788784266, 1.0041953604475395, 1.0275497493719996, 0.9626051752721381, 1.1457413635081757, 1.0125328386101629, 1.036193935005457, 0.9974276879460966, 1.1198680116327786, 1.0722105710591663, 1.1868924591897212, 1.0989353857280975, 1.1118880007531615, 1.0102777182878384, 0.9995344110008837, 0.824310139795422, 0.881621828617444, 1.1556114222191525, 0.7701034215973799, 0.9216314518395592, 1.055044746537881, 1.0930198188167104, 0.912387109456084, 0.9528460937144203, 0.9098320468963905, 0.8685090871365695, 1.4180429038533404, 1.0362397864138515, 0.9403458634711086, 0.8865479866780177, 0.654682383834114, 0.7872794435801893, 0.7486202855804116, 0.8276288430551872, 0.8432492936206799, 1.4735561527750747, 0.9081298055185769, 0.8279901188847809, 0.5618525289789034, 0.713588734264853, 0.6471811844749737, 0.8401059950867982, 0.6723170241446965, 0.7179703810530107, 0.7063738161164395]\n"
     ]
    },
    {
     "name": "stderr",
     "output_type": "stream",
     "text": [
      "  0%|          | 0/175 [00:15<?, ?it/s]12:21,  9.37it/s]   \n",
      "  0%|          | 0/15 [00:06<?, ?it/s]\n",
      " 93%|█████████▎| 93103/100001 [3:18:35<12:10,  9.44it/s]"
     ]
    },
    {
     "name": "stdout",
     "output_type": "stream",
     "text": [
      "GAN: loss d: 3.03772    loss g: -1.73965\n"
     ]
    },
    {
     "name": "stderr",
     "output_type": "stream",
     "text": [
      " 93%|█████████▎| 93203/100001 [3:18:46<11:44,  9.65it/s]"
     ]
    },
    {
     "name": "stdout",
     "output_type": "stream",
     "text": [
      "GAN: loss d: 4.47487    loss g: -3.26510\n"
     ]
    },
    {
     "name": "stderr",
     "output_type": "stream",
     "text": [
      " 93%|█████████▎| 93303/100001 [3:18:56<11:42,  9.53it/s]"
     ]
    },
    {
     "name": "stdout",
     "output_type": "stream",
     "text": [
      "GAN: loss d: 6.22568    loss g: -3.20752\n"
     ]
    },
    {
     "name": "stderr",
     "output_type": "stream",
     "text": [
      " 93%|█████████▎| 93401/100001 [3:19:07<11:59,  9.17it/s]"
     ]
    },
    {
     "name": "stdout",
     "output_type": "stream",
     "text": [
      "GAN: loss d: 1.31771    loss g: -3.71105\n"
     ]
    },
    {
     "name": "stderr",
     "output_type": "stream",
     "text": [
      " 94%|█████████▎| 93503/100001 [3:19:17<11:29,  9.42it/s]"
     ]
    },
    {
     "name": "stdout",
     "output_type": "stream",
     "text": [
      "GAN: loss d: -1.00733    loss g: -1.27930\n"
     ]
    },
    {
     "name": "stderr",
     "output_type": "stream",
     "text": [
      " 94%|█████████▎| 93603/100001 [3:19:28<11:17,  9.44it/s]"
     ]
    },
    {
     "name": "stdout",
     "output_type": "stream",
     "text": [
      "GAN: loss d: 3.59085    loss g: -2.33154\n"
     ]
    },
    {
     "name": "stderr",
     "output_type": "stream",
     "text": [
      " 94%|█████████▎| 93701/100001 [3:19:38<11:25,  9.19it/s]"
     ]
    },
    {
     "name": "stdout",
     "output_type": "stream",
     "text": [
      "GAN: loss d: 2.96151    loss g: -2.24858\n"
     ]
    },
    {
     "name": "stderr",
     "output_type": "stream",
     "text": [
      " 94%|█████████▍| 93801/100001 [3:19:49<11:23,  9.07it/s]"
     ]
    },
    {
     "name": "stdout",
     "output_type": "stream",
     "text": [
      "GAN: loss d: 3.54366    loss g: -3.51906\n"
     ]
    },
    {
     "name": "stderr",
     "output_type": "stream",
     "text": [
      " 94%|█████████▍| 93903/100001 [3:20:00<10:37,  9.57it/s]"
     ]
    },
    {
     "name": "stdout",
     "output_type": "stream",
     "text": [
      "GAN: loss d: 3.01959    loss g: -2.13685\n"
     ]
    },
    {
     "name": "stderr",
     "output_type": "stream",
     "text": [
      " 94%|█████████▍| 94000/100001 [3:20:10<10:38,  9.40it/s]"
     ]
    },
    {
     "name": "stdout",
     "output_type": "stream",
     "text": [
      "GAN: loss d: 3.71619    loss g: -3.20426\n",
      "saving current model\n"
     ]
    },
    {
     "name": "stderr",
     "output_type": "stream",
     "text": [
      "\n",
      "  0%|          | 0/175 [00:00<?, ?it/s]\u001b[A"
     ]
    },
    {
     "name": "stdout",
     "output_type": "stream",
     "text": [
      "Number of real images: 5626\n"
     ]
    },
    {
     "name": "stderr",
     "output_type": "stream",
     "text": [
      "\n",
      "\n",
      "  0%|          | 0/15 [00:00<?, ?it/s]\u001b[A\u001b[A"
     ]
    },
    {
     "name": "stdout",
     "output_type": "stream",
     "text": [
      "Number of synthetic images: 500\n"
     ]
    },
    {
     "name": "stderr",
     "output_type": "stream",
     "text": [
      " 94%|█████████▍| 94001/100001 [3:20:30<10:17:35,  6.18s/it]"
     ]
    },
    {
     "name": "stdout",
     "output_type": "stream",
     "text": [
      "Current fid score: 0.5706874232965049\n",
      "Fid scores: [4.9325711711390205, 2.4436189539080466, 2.836768048488924, 2.7970490892296382, 3.1710357984691626, 3.3000315606457526, 2.70047286994032, 2.1638209867365674, 2.0204577684506617, 1.3914490073477666, 1.4400591510301268, 1.510807629476865, 2.258796488262803, 1.7612340626121643, 1.7264875375261077, 1.2524196801674918, 1.3446567610169673, 1.6110663800617644, 1.1499442444251073, 1.1722391359154116, 1.7200074762966437, 2.156615950015553, 1.3325966607336674, 0.8853521448197945, 1.0566829426710669, 1.2350619895546657, 1.0571616917674866, 1.370510241710825, 1.5065921467893446, 1.6719117315531875, 1.909778493483067, 1.7204413818191568, 1.5624610984128573, 1.0753806585584016, 1.3278843704483485, 1.3533378755873358, 1.8988524337341843, 1.311208359333218, 1.315135188974292, 1.6493025123445122, 1.2255098483436484, 1.1651169222250104, 0.8573076997493629, 0.729450667331303, 0.7234077685869522, 1.255932364362664, 1.0928023592549607, 0.7040761586618522, 0.9959458987264469, 1.0384877788784266, 1.0041953604475395, 1.0275497493719996, 0.9626051752721381, 1.1457413635081757, 1.0125328386101629, 1.036193935005457, 0.9974276879460966, 1.1198680116327786, 1.0722105710591663, 1.1868924591897212, 1.0989353857280975, 1.1118880007531615, 1.0102777182878384, 0.9995344110008837, 0.824310139795422, 0.881621828617444, 1.1556114222191525, 0.7701034215973799, 0.9216314518395592, 1.055044746537881, 1.0930198188167104, 0.912387109456084, 0.9528460937144203, 0.9098320468963905, 0.8685090871365695, 1.4180429038533404, 1.0362397864138515, 0.9403458634711086, 0.8865479866780177, 0.654682383834114, 0.7872794435801893, 0.7486202855804116, 0.8276288430551872, 0.8432492936206799, 1.4735561527750747, 0.9081298055185769, 0.8279901188847809, 0.5618525289789034, 0.713588734264853, 0.6471811844749737, 0.8401059950867982, 0.6723170241446965, 0.7179703810530107, 0.7063738161164395, 0.5706874232965049]\n"
     ]
    },
    {
     "name": "stderr",
     "output_type": "stream",
     "text": [
      "  0%|          | 0/175 [00:10<?, ?it/s]58:44,  1.70it/s]   \n",
      "  0%|          | 0/15 [00:01<?, ?it/s]\n",
      " 94%|█████████▍| 94101/100001 [3:20:41<10:54,  9.01it/s]"
     ]
    },
    {
     "name": "stdout",
     "output_type": "stream",
     "text": [
      "GAN: loss d: 1.06653    loss g: -2.80952\n"
     ]
    },
    {
     "name": "stderr",
     "output_type": "stream",
     "text": [
      " 94%|█████████▍| 94202/100001 [3:20:52<10:16,  9.41it/s]"
     ]
    },
    {
     "name": "stdout",
     "output_type": "stream",
     "text": [
      "GAN: loss d: 3.90453    loss g: -1.65037\n"
     ]
    },
    {
     "name": "stderr",
     "output_type": "stream",
     "text": [
      " 94%|█████████▍| 94301/100001 [3:21:02<10:27,  9.09it/s]"
     ]
    },
    {
     "name": "stdout",
     "output_type": "stream",
     "text": [
      "GAN: loss d: 2.94845    loss g: -3.35781\n"
     ]
    },
    {
     "name": "stderr",
     "output_type": "stream",
     "text": [
      " 94%|█████████▍| 94401/100001 [3:21:13<10:32,  8.86it/s]"
     ]
    },
    {
     "name": "stdout",
     "output_type": "stream",
     "text": [
      "GAN: loss d: 1.62329    loss g: -3.42008\n"
     ]
    },
    {
     "name": "stderr",
     "output_type": "stream",
     "text": [
      " 95%|█████████▍| 94501/100001 [3:21:24<10:15,  8.93it/s]"
     ]
    },
    {
     "name": "stdout",
     "output_type": "stream",
     "text": [
      "GAN: loss d: 6.29451    loss g: -3.43182\n"
     ]
    },
    {
     "name": "stderr",
     "output_type": "stream",
     "text": [
      " 95%|█████████▍| 94601/100001 [3:21:34<09:45,  9.22it/s]"
     ]
    },
    {
     "name": "stdout",
     "output_type": "stream",
     "text": [
      "GAN: loss d: 3.85701    loss g: -2.38177\n"
     ]
    },
    {
     "name": "stderr",
     "output_type": "stream",
     "text": [
      " 95%|█████████▍| 94703/100001 [3:21:45<09:13,  9.58it/s]"
     ]
    },
    {
     "name": "stdout",
     "output_type": "stream",
     "text": [
      "GAN: loss d: 3.78014    loss g: -3.15581\n"
     ]
    },
    {
     "name": "stderr",
     "output_type": "stream",
     "text": [
      " 95%|█████████▍| 94801/100001 [3:21:55<09:26,  9.18it/s]"
     ]
    },
    {
     "name": "stdout",
     "output_type": "stream",
     "text": [
      "GAN: loss d: 1.42490    loss g: -1.97295\n"
     ]
    },
    {
     "name": "stderr",
     "output_type": "stream",
     "text": [
      " 95%|█████████▍| 94903/100001 [3:22:06<08:49,  9.62it/s]"
     ]
    },
    {
     "name": "stdout",
     "output_type": "stream",
     "text": [
      "GAN: loss d: 6.69426    loss g: -2.31017\n"
     ]
    },
    {
     "name": "stderr",
     "output_type": "stream",
     "text": [
      " 95%|█████████▍| 95000/100001 [3:22:16<08:45,  9.52it/s]"
     ]
    },
    {
     "name": "stdout",
     "output_type": "stream",
     "text": [
      "GAN: loss d: 5.76751    loss g: -2.07114\n",
      "saving current model\n"
     ]
    },
    {
     "name": "stderr",
     "output_type": "stream",
     "text": [
      "\n",
      "  0%|          | 0/175 [00:00<?, ?it/s]\u001b[A"
     ]
    },
    {
     "name": "stdout",
     "output_type": "stream",
     "text": [
      "Number of real images: 5626\n"
     ]
    },
    {
     "name": "stderr",
     "output_type": "stream",
     "text": [
      "\n",
      "\n",
      "  0%|          | 0/15 [00:00<?, ?it/s]\u001b[A\u001b[A"
     ]
    },
    {
     "name": "stdout",
     "output_type": "stream",
     "text": [
      "Number of synthetic images: 500\n"
     ]
    },
    {
     "name": "stderr",
     "output_type": "stream",
     "text": [
      " 95%|█████████▌| 95002/100001 [3:22:37<6:05:52,  4.39s/it]"
     ]
    },
    {
     "name": "stdout",
     "output_type": "stream",
     "text": [
      "Current fid score: 0.6522531323057805\n",
      "Fid scores: [4.9325711711390205, 2.4436189539080466, 2.836768048488924, 2.7970490892296382, 3.1710357984691626, 3.3000315606457526, 2.70047286994032, 2.1638209867365674, 2.0204577684506617, 1.3914490073477666, 1.4400591510301268, 1.510807629476865, 2.258796488262803, 1.7612340626121643, 1.7264875375261077, 1.2524196801674918, 1.3446567610169673, 1.6110663800617644, 1.1499442444251073, 1.1722391359154116, 1.7200074762966437, 2.156615950015553, 1.3325966607336674, 0.8853521448197945, 1.0566829426710669, 1.2350619895546657, 1.0571616917674866, 1.370510241710825, 1.5065921467893446, 1.6719117315531875, 1.909778493483067, 1.7204413818191568, 1.5624610984128573, 1.0753806585584016, 1.3278843704483485, 1.3533378755873358, 1.8988524337341843, 1.311208359333218, 1.315135188974292, 1.6493025123445122, 1.2255098483436484, 1.1651169222250104, 0.8573076997493629, 0.729450667331303, 0.7234077685869522, 1.255932364362664, 1.0928023592549607, 0.7040761586618522, 0.9959458987264469, 1.0384877788784266, 1.0041953604475395, 1.0275497493719996, 0.9626051752721381, 1.1457413635081757, 1.0125328386101629, 1.036193935005457, 0.9974276879460966, 1.1198680116327786, 1.0722105710591663, 1.1868924591897212, 1.0989353857280975, 1.1118880007531615, 1.0102777182878384, 0.9995344110008837, 0.824310139795422, 0.881621828617444, 1.1556114222191525, 0.7701034215973799, 0.9216314518395592, 1.055044746537881, 1.0930198188167104, 0.912387109456084, 0.9528460937144203, 0.9098320468963905, 0.8685090871365695, 1.4180429038533404, 1.0362397864138515, 0.9403458634711086, 0.8865479866780177, 0.654682383834114, 0.7872794435801893, 0.7486202855804116, 0.8276288430551872, 0.8432492936206799, 1.4735561527750747, 0.9081298055185769, 0.8279901188847809, 0.5618525289789034, 0.713588734264853, 0.6471811844749737, 0.8401059950867982, 0.6723170241446965, 0.7179703810530107, 0.7063738161164395, 0.5706874232965049, 0.6522531323057805]\n"
     ]
    },
    {
     "name": "stderr",
     "output_type": "stream",
     "text": [
      "  0%|          | 0/175 [00:19<?, ?it/s]08:35,  9.52it/s]  \n",
      "  0%|          | 0/15 [00:10<?, ?it/s]\n",
      " 95%|█████████▌| 95101/100001 [3:22:48<09:09,  8.92it/s]"
     ]
    },
    {
     "name": "stdout",
     "output_type": "stream",
     "text": [
      "GAN: loss d: 2.71668    loss g: -4.08709\n"
     ]
    },
    {
     "name": "stderr",
     "output_type": "stream",
     "text": [
      " 95%|█████████▌| 95203/100001 [3:22:58<08:17,  9.64it/s]"
     ]
    },
    {
     "name": "stdout",
     "output_type": "stream",
     "text": [
      "GAN: loss d: 2.24713    loss g: -2.25741\n"
     ]
    },
    {
     "name": "stderr",
     "output_type": "stream",
     "text": [
      " 95%|█████████▌| 95301/100001 [3:23:09<08:33,  9.16it/s]"
     ]
    },
    {
     "name": "stdout",
     "output_type": "stream",
     "text": [
      "GAN: loss d: 2.53773    loss g: -3.47486\n"
     ]
    },
    {
     "name": "stderr",
     "output_type": "stream",
     "text": [
      " 95%|█████████▌| 95401/100001 [3:23:19<08:23,  9.14it/s]"
     ]
    },
    {
     "name": "stdout",
     "output_type": "stream",
     "text": [
      "GAN: loss d: 1.15603    loss g: -1.53361\n"
     ]
    },
    {
     "name": "stderr",
     "output_type": "stream",
     "text": [
      " 96%|█████████▌| 95503/100001 [3:23:30<07:49,  9.59it/s]"
     ]
    },
    {
     "name": "stdout",
     "output_type": "stream",
     "text": [
      "GAN: loss d: 4.50000    loss g: -3.39024\n"
     ]
    },
    {
     "name": "stderr",
     "output_type": "stream",
     "text": [
      " 96%|█████████▌| 95601/100001 [3:23:40<07:59,  9.19it/s]"
     ]
    },
    {
     "name": "stdout",
     "output_type": "stream",
     "text": [
      "GAN: loss d: 3.52683    loss g: -3.48539\n"
     ]
    },
    {
     "name": "stderr",
     "output_type": "stream",
     "text": [
      " 96%|█████████▌| 95701/100001 [3:23:51<07:51,  9.12it/s]"
     ]
    },
    {
     "name": "stdout",
     "output_type": "stream",
     "text": [
      "GAN: loss d: 2.01020    loss g: -3.68434\n"
     ]
    },
    {
     "name": "stderr",
     "output_type": "stream",
     "text": [
      " 96%|█████████▌| 95803/100001 [3:24:02<07:16,  9.62it/s]"
     ]
    },
    {
     "name": "stdout",
     "output_type": "stream",
     "text": [
      "GAN: loss d: 4.15650    loss g: -2.10246\n"
     ]
    },
    {
     "name": "stderr",
     "output_type": "stream",
     "text": [
      " 96%|█████████▌| 95903/100001 [3:24:12<07:10,  9.52it/s]"
     ]
    },
    {
     "name": "stdout",
     "output_type": "stream",
     "text": [
      "GAN: loss d: 5.26579    loss g: -3.08077\n"
     ]
    },
    {
     "name": "stderr",
     "output_type": "stream",
     "text": [
      " 96%|█████████▌| 96000/100001 [3:24:23<07:08,  9.33it/s]"
     ]
    },
    {
     "name": "stdout",
     "output_type": "stream",
     "text": [
      "GAN: loss d: 4.23552    loss g: -2.16621\n",
      "saving current model\n"
     ]
    },
    {
     "name": "stderr",
     "output_type": "stream",
     "text": [
      "\n",
      "  0%|          | 0/175 [00:00<?, ?it/s]\u001b[A"
     ]
    },
    {
     "name": "stdout",
     "output_type": "stream",
     "text": [
      "Number of real images: 5626\n"
     ]
    },
    {
     "name": "stderr",
     "output_type": "stream",
     "text": [
      "\n",
      "\n",
      "  0%|          | 0/15 [00:00<?, ?it/s]\u001b[A\u001b[A"
     ]
    },
    {
     "name": "stdout",
     "output_type": "stream",
     "text": [
      "Number of synthetic images: 500\n"
     ]
    },
    {
     "name": "stderr",
     "output_type": "stream",
     "text": [
      " 96%|█████████▌| 96001/100001 [3:24:43<7:00:15,  6.30s/it]"
     ]
    },
    {
     "name": "stdout",
     "output_type": "stream",
     "text": [
      "Current fid score: 0.6864320262466137\n",
      "Fid scores: [4.9325711711390205, 2.4436189539080466, 2.836768048488924, 2.7970490892296382, 3.1710357984691626, 3.3000315606457526, 2.70047286994032, 2.1638209867365674, 2.0204577684506617, 1.3914490073477666, 1.4400591510301268, 1.510807629476865, 2.258796488262803, 1.7612340626121643, 1.7264875375261077, 1.2524196801674918, 1.3446567610169673, 1.6110663800617644, 1.1499442444251073, 1.1722391359154116, 1.7200074762966437, 2.156615950015553, 1.3325966607336674, 0.8853521448197945, 1.0566829426710669, 1.2350619895546657, 1.0571616917674866, 1.370510241710825, 1.5065921467893446, 1.6719117315531875, 1.909778493483067, 1.7204413818191568, 1.5624610984128573, 1.0753806585584016, 1.3278843704483485, 1.3533378755873358, 1.8988524337341843, 1.311208359333218, 1.315135188974292, 1.6493025123445122, 1.2255098483436484, 1.1651169222250104, 0.8573076997493629, 0.729450667331303, 0.7234077685869522, 1.255932364362664, 1.0928023592549607, 0.7040761586618522, 0.9959458987264469, 1.0384877788784266, 1.0041953604475395, 1.0275497493719996, 0.9626051752721381, 1.1457413635081757, 1.0125328386101629, 1.036193935005457, 0.9974276879460966, 1.1198680116327786, 1.0722105710591663, 1.1868924591897212, 1.0989353857280975, 1.1118880007531615, 1.0102777182878384, 0.9995344110008837, 0.824310139795422, 0.881621828617444, 1.1556114222191525, 0.7701034215973799, 0.9216314518395592, 1.055044746537881, 1.0930198188167104, 0.912387109456084, 0.9528460937144203, 0.9098320468963905, 0.8685090871365695, 1.4180429038533404, 1.0362397864138515, 0.9403458634711086, 0.8865479866780177, 0.654682383834114, 0.7872794435801893, 0.7486202855804116, 0.8276288430551872, 0.8432492936206799, 1.4735561527750747, 0.9081298055185769, 0.8279901188847809, 0.5618525289789034, 0.713588734264853, 0.6471811844749737, 0.8401059950867982, 0.6723170241446965, 0.7179703810530107, 0.7063738161164395, 0.5706874232965049, 0.6522531323057805, 0.6864320262466137]\n"
     ]
    },
    {
     "name": "stderr",
     "output_type": "stream",
     "text": [
      "  0%|          | 0/175 [00:15<?, ?it/s]06:54,  9.51it/s]  \n",
      "  0%|          | 0/15 [00:06<?, ?it/s]\n",
      " 96%|█████████▌| 96101/100001 [3:24:54<07:12,  9.01it/s]"
     ]
    },
    {
     "name": "stdout",
     "output_type": "stream",
     "text": [
      "GAN: loss d: 4.26372    loss g: -2.01082\n"
     ]
    },
    {
     "name": "stderr",
     "output_type": "stream",
     "text": [
      " 96%|█████████▌| 96203/100001 [3:25:05<06:41,  9.46it/s]"
     ]
    },
    {
     "name": "stdout",
     "output_type": "stream",
     "text": [
      "GAN: loss d: 3.70050    loss g: -2.64934\n"
     ]
    },
    {
     "name": "stderr",
     "output_type": "stream",
     "text": [
      " 96%|█████████▋| 96301/100001 [3:25:15<06:48,  9.05it/s]"
     ]
    },
    {
     "name": "stdout",
     "output_type": "stream",
     "text": [
      "GAN: loss d: 3.18216    loss g: -2.13355\n"
     ]
    },
    {
     "name": "stderr",
     "output_type": "stream",
     "text": [
      " 96%|█████████▋| 96401/100001 [3:25:26<06:44,  8.90it/s]"
     ]
    },
    {
     "name": "stdout",
     "output_type": "stream",
     "text": [
      "GAN: loss d: 2.53565    loss g: -3.47917\n"
     ]
    },
    {
     "name": "stderr",
     "output_type": "stream",
     "text": [
      " 97%|█████████▋| 96503/100001 [3:25:37<06:11,  9.42it/s]"
     ]
    },
    {
     "name": "stdout",
     "output_type": "stream",
     "text": [
      "GAN: loss d: 3.22873    loss g: -3.10305\n"
     ]
    },
    {
     "name": "stderr",
     "output_type": "stream",
     "text": [
      " 97%|█████████▋| 96601/100001 [3:25:47<06:17,  9.00it/s]"
     ]
    },
    {
     "name": "stdout",
     "output_type": "stream",
     "text": [
      "GAN: loss d: 3.36115    loss g: -2.85410\n"
     ]
    },
    {
     "name": "stderr",
     "output_type": "stream",
     "text": [
      " 97%|█████████▋| 96703/100001 [3:25:58<05:48,  9.46it/s]"
     ]
    },
    {
     "name": "stdout",
     "output_type": "stream",
     "text": [
      "GAN: loss d: 2.27870    loss g: -3.87875\n"
     ]
    },
    {
     "name": "stderr",
     "output_type": "stream",
     "text": [
      " 97%|█████████▋| 96801/100001 [3:26:08<05:54,  9.02it/s]"
     ]
    },
    {
     "name": "stdout",
     "output_type": "stream",
     "text": [
      "GAN: loss d: 2.43614    loss g: -3.17809\n"
     ]
    },
    {
     "name": "stderr",
     "output_type": "stream",
     "text": [
      " 97%|█████████▋| 96903/100001 [3:26:19<05:27,  9.46it/s]"
     ]
    },
    {
     "name": "stdout",
     "output_type": "stream",
     "text": [
      "GAN: loss d: 5.22828    loss g: -2.65167\n"
     ]
    },
    {
     "name": "stderr",
     "output_type": "stream",
     "text": [
      " 97%|█████████▋| 97000/100001 [3:26:29<05:20,  9.37it/s]"
     ]
    },
    {
     "name": "stdout",
     "output_type": "stream",
     "text": [
      "GAN: loss d: 3.29200    loss g: -2.72639\n",
      "saving current model\n"
     ]
    },
    {
     "name": "stderr",
     "output_type": "stream",
     "text": [
      "\n",
      "  0%|          | 0/175 [00:00<?, ?it/s]\u001b[A"
     ]
    },
    {
     "name": "stdout",
     "output_type": "stream",
     "text": [
      "Number of real images: 5626\n"
     ]
    },
    {
     "name": "stderr",
     "output_type": "stream",
     "text": [
      "\n",
      "\n",
      "  0%|          | 0/15 [00:00<?, ?it/s]\u001b[A\u001b[A"
     ]
    },
    {
     "name": "stdout",
     "output_type": "stream",
     "text": [
      "Number of synthetic images: 500\n"
     ]
    },
    {
     "name": "stderr",
     "output_type": "stream",
     "text": [
      " 97%|█████████▋| 97003/100001 [3:26:50<2:51:36,  3.43s/it]"
     ]
    },
    {
     "name": "stdout",
     "output_type": "stream",
     "text": [
      "Current fid score: 0.9063511547435112\n",
      "Fid scores: [4.9325711711390205, 2.4436189539080466, 2.836768048488924, 2.7970490892296382, 3.1710357984691626, 3.3000315606457526, 2.70047286994032, 2.1638209867365674, 2.0204577684506617, 1.3914490073477666, 1.4400591510301268, 1.510807629476865, 2.258796488262803, 1.7612340626121643, 1.7264875375261077, 1.2524196801674918, 1.3446567610169673, 1.6110663800617644, 1.1499442444251073, 1.1722391359154116, 1.7200074762966437, 2.156615950015553, 1.3325966607336674, 0.8853521448197945, 1.0566829426710669, 1.2350619895546657, 1.0571616917674866, 1.370510241710825, 1.5065921467893446, 1.6719117315531875, 1.909778493483067, 1.7204413818191568, 1.5624610984128573, 1.0753806585584016, 1.3278843704483485, 1.3533378755873358, 1.8988524337341843, 1.311208359333218, 1.315135188974292, 1.6493025123445122, 1.2255098483436484, 1.1651169222250104, 0.8573076997493629, 0.729450667331303, 0.7234077685869522, 1.255932364362664, 1.0928023592549607, 0.7040761586618522, 0.9959458987264469, 1.0384877788784266, 1.0041953604475395, 1.0275497493719996, 0.9626051752721381, 1.1457413635081757, 1.0125328386101629, 1.036193935005457, 0.9974276879460966, 1.1198680116327786, 1.0722105710591663, 1.1868924591897212, 1.0989353857280975, 1.1118880007531615, 1.0102777182878384, 0.9995344110008837, 0.824310139795422, 0.881621828617444, 1.1556114222191525, 0.7701034215973799, 0.9216314518395592, 1.055044746537881, 1.0930198188167104, 0.912387109456084, 0.9528460937144203, 0.9098320468963905, 0.8685090871365695, 1.4180429038533404, 1.0362397864138515, 0.9403458634711086, 0.8865479866780177, 0.654682383834114, 0.7872794435801893, 0.7486202855804116, 0.8276288430551872, 0.8432492936206799, 1.4735561527750747, 0.9081298055185769, 0.8279901188847809, 0.5618525289789034, 0.713588734264853, 0.6471811844749737, 0.8401059950867982, 0.6723170241446965, 0.7179703810530107, 0.7063738161164395, 0.5706874232965049, 0.6522531323057805, 0.6864320262466137, 0.9063511547435112]\n"
     ]
    },
    {
     "name": "stderr",
     "output_type": "stream",
     "text": [
      "  0%|          | 0/175 [00:10<?, ?it/s]39:43,  1.26it/s]  \n",
      "  0%|          | 0/15 [00:01<?, ?it/s]\n",
      " 97%|█████████▋| 97101/100001 [3:27:00<05:18,  9.09it/s]"
     ]
    },
    {
     "name": "stdout",
     "output_type": "stream",
     "text": [
      "GAN: loss d: 0.81463    loss g: -1.95560\n"
     ]
    },
    {
     "name": "stderr",
     "output_type": "stream",
     "text": [
      " 97%|█████████▋| 97201/100001 [3:27:11<05:10,  9.03it/s]"
     ]
    },
    {
     "name": "stdout",
     "output_type": "stream",
     "text": [
      "GAN: loss d: 2.61837    loss g: -2.42285\n"
     ]
    },
    {
     "name": "stderr",
     "output_type": "stream",
     "text": [
      " 97%|█████████▋| 97301/100001 [3:27:22<04:58,  9.06it/s]"
     ]
    },
    {
     "name": "stdout",
     "output_type": "stream",
     "text": [
      "GAN: loss d: 3.83058    loss g: -2.58858\n"
     ]
    },
    {
     "name": "stderr",
     "output_type": "stream",
     "text": [
      " 97%|█████████▋| 97401/100001 [3:27:32<04:50,  8.94it/s]"
     ]
    },
    {
     "name": "stdout",
     "output_type": "stream",
     "text": [
      "GAN: loss d: 7.96688    loss g: -2.09366\n"
     ]
    },
    {
     "name": "stderr",
     "output_type": "stream",
     "text": [
      " 98%|█████████▊| 97503/100001 [3:27:43<04:19,  9.61it/s]"
     ]
    },
    {
     "name": "stdout",
     "output_type": "stream",
     "text": [
      "GAN: loss d: 1.57314    loss g: -2.84164\n"
     ]
    },
    {
     "name": "stderr",
     "output_type": "stream",
     "text": [
      " 98%|█████████▊| 97601/100001 [3:27:54<04:25,  9.02it/s]"
     ]
    },
    {
     "name": "stdout",
     "output_type": "stream",
     "text": [
      "GAN: loss d: 3.03532    loss g: -3.14237\n"
     ]
    },
    {
     "name": "stderr",
     "output_type": "stream",
     "text": [
      " 98%|█████████▊| 97703/100001 [3:28:04<04:01,  9.52it/s]"
     ]
    },
    {
     "name": "stdout",
     "output_type": "stream",
     "text": [
      "GAN: loss d: 4.82320    loss g: -3.24619\n"
     ]
    },
    {
     "name": "stderr",
     "output_type": "stream",
     "text": [
      " 98%|█████████▊| 97801/100001 [3:28:15<04:06,  8.94it/s]"
     ]
    },
    {
     "name": "stdout",
     "output_type": "stream",
     "text": [
      "GAN: loss d: 2.56151    loss g: -3.51856\n"
     ]
    },
    {
     "name": "stderr",
     "output_type": "stream",
     "text": [
      " 98%|█████████▊| 97901/100001 [3:28:25<03:49,  9.17it/s]"
     ]
    },
    {
     "name": "stdout",
     "output_type": "stream",
     "text": [
      "GAN: loss d: 1.77156    loss g: -4.14797\n"
     ]
    },
    {
     "name": "stderr",
     "output_type": "stream",
     "text": [
      " 98%|█████████▊| 98000/100001 [3:28:36<03:37,  9.21it/s]"
     ]
    },
    {
     "name": "stdout",
     "output_type": "stream",
     "text": [
      "GAN: loss d: 5.27937    loss g: -2.78190\n",
      "saving current model\n"
     ]
    },
    {
     "name": "stderr",
     "output_type": "stream",
     "text": [
      "\n",
      "  0%|          | 0/175 [00:00<?, ?it/s]\u001b[A"
     ]
    },
    {
     "name": "stdout",
     "output_type": "stream",
     "text": [
      "Number of real images: 5626\n"
     ]
    },
    {
     "name": "stderr",
     "output_type": "stream",
     "text": [
      "\n",
      "\n",
      "  0%|          | 0/15 [00:00<?, ?it/s]\u001b[A\u001b[A"
     ]
    },
    {
     "name": "stdout",
     "output_type": "stream",
     "text": [
      "Number of synthetic images: 500\n"
     ]
    },
    {
     "name": "stderr",
     "output_type": "stream",
     "text": [
      " 98%|█████████▊| 98001/100001 [3:28:56<3:28:16,  6.25s/it]"
     ]
    },
    {
     "name": "stdout",
     "output_type": "stream",
     "text": [
      "Current fid score: 0.8830504949681668\n",
      "Fid scores: [4.9325711711390205, 2.4436189539080466, 2.836768048488924, 2.7970490892296382, 3.1710357984691626, 3.3000315606457526, 2.70047286994032, 2.1638209867365674, 2.0204577684506617, 1.3914490073477666, 1.4400591510301268, 1.510807629476865, 2.258796488262803, 1.7612340626121643, 1.7264875375261077, 1.2524196801674918, 1.3446567610169673, 1.6110663800617644, 1.1499442444251073, 1.1722391359154116, 1.7200074762966437, 2.156615950015553, 1.3325966607336674, 0.8853521448197945, 1.0566829426710669, 1.2350619895546657, 1.0571616917674866, 1.370510241710825, 1.5065921467893446, 1.6719117315531875, 1.909778493483067, 1.7204413818191568, 1.5624610984128573, 1.0753806585584016, 1.3278843704483485, 1.3533378755873358, 1.8988524337341843, 1.311208359333218, 1.315135188974292, 1.6493025123445122, 1.2255098483436484, 1.1651169222250104, 0.8573076997493629, 0.729450667331303, 0.7234077685869522, 1.255932364362664, 1.0928023592549607, 0.7040761586618522, 0.9959458987264469, 1.0384877788784266, 1.0041953604475395, 1.0275497493719996, 0.9626051752721381, 1.1457413635081757, 1.0125328386101629, 1.036193935005457, 0.9974276879460966, 1.1198680116327786, 1.0722105710591663, 1.1868924591897212, 1.0989353857280975, 1.1118880007531615, 1.0102777182878384, 0.9995344110008837, 0.824310139795422, 0.881621828617444, 1.1556114222191525, 0.7701034215973799, 0.9216314518395592, 1.055044746537881, 1.0930198188167104, 0.912387109456084, 0.9528460937144203, 0.9098320468963905, 0.8685090871365695, 1.4180429038533404, 1.0362397864138515, 0.9403458634711086, 0.8865479866780177, 0.654682383834114, 0.7872794435801893, 0.7486202855804116, 0.8276288430551872, 0.8432492936206799, 1.4735561527750747, 0.9081298055185769, 0.8279901188847809, 0.5618525289789034, 0.713588734264853, 0.6471811844749737, 0.8401059950867982, 0.6723170241446965, 0.7179703810530107, 0.7063738161164395, 0.5706874232965049, 0.6522531323057805, 0.6864320262466137, 0.9063511547435112, 0.8830504949681668]\n"
     ]
    },
    {
     "name": "stderr",
     "output_type": "stream",
     "text": [
      "  0%|          | 0/175 [00:10<?, ?it/s]09:09,  3.62it/s]  \n",
      "  0%|          | 0/15 [00:02<?, ?it/s]\n",
      " 98%|█████████▊| 98101/100001 [3:29:07<03:28,  9.11it/s]"
     ]
    },
    {
     "name": "stdout",
     "output_type": "stream",
     "text": [
      "GAN: loss d: 4.04327    loss g: -2.60338\n"
     ]
    },
    {
     "name": "stderr",
     "output_type": "stream",
     "text": [
      " 98%|█████████▊| 98203/100001 [3:29:18<03:11,  9.41it/s]"
     ]
    },
    {
     "name": "stdout",
     "output_type": "stream",
     "text": [
      "GAN: loss d: 2.82561    loss g: -2.48113\n"
     ]
    },
    {
     "name": "stderr",
     "output_type": "stream",
     "text": [
      " 98%|█████████▊| 98303/100001 [3:29:28<02:57,  9.57it/s]"
     ]
    },
    {
     "name": "stdout",
     "output_type": "stream",
     "text": [
      "GAN: loss d: 2.38234    loss g: -2.44248\n"
     ]
    },
    {
     "name": "stderr",
     "output_type": "stream",
     "text": [
      " 98%|█████████▊| 98401/100001 [3:29:39<02:53,  9.20it/s]"
     ]
    },
    {
     "name": "stdout",
     "output_type": "stream",
     "text": [
      "GAN: loss d: 5.98482    loss g: -3.35594\n"
     ]
    },
    {
     "name": "stderr",
     "output_type": "stream",
     "text": [
      " 99%|█████████▊| 98501/100001 [3:29:49<02:47,  8.96it/s]"
     ]
    },
    {
     "name": "stdout",
     "output_type": "stream",
     "text": [
      "GAN: loss d: 3.17938    loss g: -3.49101\n"
     ]
    },
    {
     "name": "stderr",
     "output_type": "stream",
     "text": [
      " 99%|█████████▊| 98601/100001 [3:30:00<02:32,  9.20it/s]"
     ]
    },
    {
     "name": "stdout",
     "output_type": "stream",
     "text": [
      "GAN: loss d: 4.25328    loss g: -2.81784\n"
     ]
    },
    {
     "name": "stderr",
     "output_type": "stream",
     "text": [
      " 99%|█████████▊| 98703/100001 [3:30:11<02:15,  9.55it/s]"
     ]
    },
    {
     "name": "stdout",
     "output_type": "stream",
     "text": [
      "GAN: loss d: 1.07002    loss g: -2.71549\n"
     ]
    },
    {
     "name": "stderr",
     "output_type": "stream",
     "text": [
      " 99%|█████████▉| 98801/100001 [3:30:21<02:13,  9.02it/s]"
     ]
    },
    {
     "name": "stdout",
     "output_type": "stream",
     "text": [
      "GAN: loss d: 1.22394    loss g: -2.68571\n"
     ]
    },
    {
     "name": "stderr",
     "output_type": "stream",
     "text": [
      " 99%|█████████▉| 98901/100001 [3:30:32<02:02,  8.97it/s]"
     ]
    },
    {
     "name": "stdout",
     "output_type": "stream",
     "text": [
      "GAN: loss d: 1.26395    loss g: -2.44233\n"
     ]
    },
    {
     "name": "stderr",
     "output_type": "stream",
     "text": [
      " 99%|█████████▉| 99000/100001 [3:30:42<01:46,  9.43it/s]"
     ]
    },
    {
     "name": "stdout",
     "output_type": "stream",
     "text": [
      "GAN: loss d: 2.94005    loss g: -3.63240\n",
      "saving current model\n"
     ]
    },
    {
     "name": "stderr",
     "output_type": "stream",
     "text": [
      "\n",
      "  0%|          | 0/175 [00:00<?, ?it/s]\u001b[A"
     ]
    },
    {
     "name": "stdout",
     "output_type": "stream",
     "text": [
      "Number of real images: 5626\n"
     ]
    },
    {
     "name": "stderr",
     "output_type": "stream",
     "text": [
      "\n",
      "\n",
      "  0%|          | 0/15 [00:00<?, ?it/s]\u001b[A\u001b[A"
     ]
    },
    {
     "name": "stdout",
     "output_type": "stream",
     "text": [
      "Number of synthetic images: 500\n"
     ]
    },
    {
     "name": "stderr",
     "output_type": "stream",
     "text": [
      " 99%|█████████▉| 99001/100001 [3:31:03<1:44:04,  6.24s/it]"
     ]
    },
    {
     "name": "stdout",
     "output_type": "stream",
     "text": [
      "Current fid score: 0.7861302132954187\n",
      "Fid scores: [4.9325711711390205, 2.4436189539080466, 2.836768048488924, 2.7970490892296382, 3.1710357984691626, 3.3000315606457526, 2.70047286994032, 2.1638209867365674, 2.0204577684506617, 1.3914490073477666, 1.4400591510301268, 1.510807629476865, 2.258796488262803, 1.7612340626121643, 1.7264875375261077, 1.2524196801674918, 1.3446567610169673, 1.6110663800617644, 1.1499442444251073, 1.1722391359154116, 1.7200074762966437, 2.156615950015553, 1.3325966607336674, 0.8853521448197945, 1.0566829426710669, 1.2350619895546657, 1.0571616917674866, 1.370510241710825, 1.5065921467893446, 1.6719117315531875, 1.909778493483067, 1.7204413818191568, 1.5624610984128573, 1.0753806585584016, 1.3278843704483485, 1.3533378755873358, 1.8988524337341843, 1.311208359333218, 1.315135188974292, 1.6493025123445122, 1.2255098483436484, 1.1651169222250104, 0.8573076997493629, 0.729450667331303, 0.7234077685869522, 1.255932364362664, 1.0928023592549607, 0.7040761586618522, 0.9959458987264469, 1.0384877788784266, 1.0041953604475395, 1.0275497493719996, 0.9626051752721381, 1.1457413635081757, 1.0125328386101629, 1.036193935005457, 0.9974276879460966, 1.1198680116327786, 1.0722105710591663, 1.1868924591897212, 1.0989353857280975, 1.1118880007531615, 1.0102777182878384, 0.9995344110008837, 0.824310139795422, 0.881621828617444, 1.1556114222191525, 0.7701034215973799, 0.9216314518395592, 1.055044746537881, 1.0930198188167104, 0.912387109456084, 0.9528460937144203, 0.9098320468963905, 0.8685090871365695, 1.4180429038533404, 1.0362397864138515, 0.9403458634711086, 0.8865479866780177, 0.654682383834114, 0.7872794435801893, 0.7486202855804116, 0.8276288430551872, 0.8432492936206799, 1.4735561527750747, 0.9081298055185769, 0.8279901188847809, 0.5618525289789034, 0.713588734264853, 0.6471811844749737, 0.8401059950867982, 0.6723170241446965, 0.7179703810530107, 0.7063738161164395, 0.5706874232965049, 0.6522531323057805, 0.6864320262466137, 0.9063511547435112, 0.8830504949681668, 0.7861302132954187]\n"
     ]
    },
    {
     "name": "stderr",
     "output_type": "stream",
     "text": [
      "  0%|          | 0/175 [00:15<?, ?it/s]01:41,  9.33it/s]  \n",
      "  0%|          | 0/15 [00:06<?, ?it/s]\n",
      " 99%|█████████▉| 99101/100001 [3:31:13<01:38,  9.10it/s]"
     ]
    },
    {
     "name": "stdout",
     "output_type": "stream",
     "text": [
      "GAN: loss d: 4.87069    loss g: -1.81006\n"
     ]
    },
    {
     "name": "stderr",
     "output_type": "stream",
     "text": [
      " 99%|█████████▉| 99203/100001 [3:31:24<01:24,  9.47it/s]"
     ]
    },
    {
     "name": "stdout",
     "output_type": "stream",
     "text": [
      "GAN: loss d: 4.90478    loss g: -2.19463\n"
     ]
    },
    {
     "name": "stderr",
     "output_type": "stream",
     "text": [
      " 99%|█████████▉| 99301/100001 [3:31:35<01:17,  9.06it/s]"
     ]
    },
    {
     "name": "stdout",
     "output_type": "stream",
     "text": [
      "GAN: loss d: -0.29569    loss g: -2.34939\n"
     ]
    },
    {
     "name": "stderr",
     "output_type": "stream",
     "text": [
      " 99%|█████████▉| 99403/100001 [3:31:46<01:02,  9.56it/s]"
     ]
    },
    {
     "name": "stdout",
     "output_type": "stream",
     "text": [
      "GAN: loss d: 2.80457    loss g: -3.83867\n"
     ]
    },
    {
     "name": "stderr",
     "output_type": "stream",
     "text": [
      "100%|█████████▉| 99501/100001 [3:31:56<00:54,  9.20it/s]"
     ]
    },
    {
     "name": "stdout",
     "output_type": "stream",
     "text": [
      "GAN: loss d: 2.85554    loss g: -3.09374\n"
     ]
    },
    {
     "name": "stderr",
     "output_type": "stream",
     "text": [
      "100%|█████████▉| 99601/100001 [3:32:06<00:44,  9.08it/s]"
     ]
    },
    {
     "name": "stdout",
     "output_type": "stream",
     "text": [
      "GAN: loss d: 3.51532    loss g: -2.63679\n"
     ]
    },
    {
     "name": "stderr",
     "output_type": "stream",
     "text": [
      "100%|█████████▉| 99703/100001 [3:32:17<00:31,  9.49it/s]"
     ]
    },
    {
     "name": "stdout",
     "output_type": "stream",
     "text": [
      "GAN: loss d: 4.58085    loss g: -2.83571\n"
     ]
    },
    {
     "name": "stderr",
     "output_type": "stream",
     "text": [
      "100%|█████████▉| 99803/100001 [3:32:28<00:20,  9.52it/s]"
     ]
    },
    {
     "name": "stdout",
     "output_type": "stream",
     "text": [
      "GAN: loss d: 4.96967    loss g: -2.62525\n"
     ]
    },
    {
     "name": "stderr",
     "output_type": "stream",
     "text": [
      "100%|█████████▉| 99903/100001 [3:32:38<00:10,  9.54it/s]"
     ]
    },
    {
     "name": "stdout",
     "output_type": "stream",
     "text": [
      "GAN: loss d: 6.25903    loss g: -2.35975\n"
     ]
    },
    {
     "name": "stderr",
     "output_type": "stream",
     "text": [
      "100%|█████████▉| 100000/100001 [3:32:49<00:00,  9.41it/s]"
     ]
    },
    {
     "name": "stdout",
     "output_type": "stream",
     "text": [
      "GAN: loss d: 6.08190    loss g: -2.57457\n",
      "saving current model\n"
     ]
    },
    {
     "name": "stderr",
     "output_type": "stream",
     "text": [
      "\n",
      "  0%|          | 0/175 [00:00<?, ?it/s]\u001b[A"
     ]
    },
    {
     "name": "stdout",
     "output_type": "stream",
     "text": [
      "Number of real images: 5626\n"
     ]
    },
    {
     "name": "stderr",
     "output_type": "stream",
     "text": [
      "\n",
      "\n",
      "  0%|          | 0/15 [00:00<?, ?it/s]\u001b[A\u001b[A"
     ]
    },
    {
     "name": "stdout",
     "output_type": "stream",
     "text": [
      "Number of synthetic images: 500\n"
     ]
    },
    {
     "name": "stderr",
     "output_type": "stream",
     "text": [
      "100%|██████████| 100001/100001 [3:33:09<00:00,  7.82it/s]"
     ]
    },
    {
     "name": "stdout",
     "output_type": "stream",
     "text": [
      "Current fid score: 0.8972841056864596\n",
      "Fid scores: [4.9325711711390205, 2.4436189539080466, 2.836768048488924, 2.7970490892296382, 3.1710357984691626, 3.3000315606457526, 2.70047286994032, 2.1638209867365674, 2.0204577684506617, 1.3914490073477666, 1.4400591510301268, 1.510807629476865, 2.258796488262803, 1.7612340626121643, 1.7264875375261077, 1.2524196801674918, 1.3446567610169673, 1.6110663800617644, 1.1499442444251073, 1.1722391359154116, 1.7200074762966437, 2.156615950015553, 1.3325966607336674, 0.8853521448197945, 1.0566829426710669, 1.2350619895546657, 1.0571616917674866, 1.370510241710825, 1.5065921467893446, 1.6719117315531875, 1.909778493483067, 1.7204413818191568, 1.5624610984128573, 1.0753806585584016, 1.3278843704483485, 1.3533378755873358, 1.8988524337341843, 1.311208359333218, 1.315135188974292, 1.6493025123445122, 1.2255098483436484, 1.1651169222250104, 0.8573076997493629, 0.729450667331303, 0.7234077685869522, 1.255932364362664, 1.0928023592549607, 0.7040761586618522, 0.9959458987264469, 1.0384877788784266, 1.0041953604475395, 1.0275497493719996, 0.9626051752721381, 1.1457413635081757, 1.0125328386101629, 1.036193935005457, 0.9974276879460966, 1.1198680116327786, 1.0722105710591663, 1.1868924591897212, 1.0989353857280975, 1.1118880007531615, 1.0102777182878384, 0.9995344110008837, 0.824310139795422, 0.881621828617444, 1.1556114222191525, 0.7701034215973799, 0.9216314518395592, 1.055044746537881, 1.0930198188167104, 0.912387109456084, 0.9528460937144203, 0.9098320468963905, 0.8685090871365695, 1.4180429038533404, 1.0362397864138515, 0.9403458634711086, 0.8865479866780177, 0.654682383834114, 0.7872794435801893, 0.7486202855804116, 0.8276288430551872, 0.8432492936206799, 1.4735561527750747, 0.9081298055185769, 0.8279901188847809, 0.5618525289789034, 0.713588734264853, 0.6471811844749737, 0.8401059950867982, 0.6723170241446965, 0.7179703810530107, 0.7063738161164395, 0.5706874232965049, 0.6522531323057805, 0.6864320262466137, 0.9063511547435112, 0.8830504949681668, 0.7861302132954187, 0.8972841056864596]\n"
     ]
    },
    {
     "name": "stderr",
     "output_type": "stream",
     "text": [
      "\n"
     ]
    }
   ],
   "source": [
    "import torch\n",
    "from torch import nn\n",
    "import torch.optim as optim\n",
    "import torch.nn.functional as F\n",
    "from torchvision import transforms\n",
    "from torchvision import utils as vutils\n",
    "from torch.utils.data.dataloader import DataLoader\n",
    "from scipy import linalg\n",
    "import sys\n",
    "\n",
    "import argparse\n",
    "import random\n",
    "from tqdm import tqdm\n",
    "import easydict\n",
    "\n",
    "from diffaug import DiffAugment\n",
    "\n",
    "policy = 'color,translation'\n",
    "\n",
    "\n",
    "class FIDScore:\n",
    "    def __init__(self, path_a, path_b, image_size, batch_size, device='cuda'):\n",
    "        self.device = device\n",
    "        self.image_size = image_size\n",
    "        self.path_a = path_a\n",
    "        self.path_b = path_b\n",
    "        self.batch_size = batch_size\n",
    "        self.inception = self.load_patched_inception_v3().eval().to(device)\n",
    "        self.transform = transforms.Compose([\n",
    "            transforms.Resize((self.image_size, self.image_size)),\n",
    "            transforms.ToTensor(),\n",
    "            transforms.Normalize([0.5, 0.5, 0.5], [0.5, 0.5, 0.5])\n",
    "        ])\n",
    "\n",
    "    @torch.no_grad()\n",
    "    def extract_features(self, loader):\n",
    "        #for batch_idx, batch_data in enumerate(loader):\n",
    "            #print(f\"Batch {batch_idx} - Batch shape: {batch_data.shape}, Batch contents: {batch_data}\")\n",
    "        pbar = tqdm(loader)\n",
    "        feature_list = []\n",
    "        for img in loader:\n",
    "            img = img.to(self.device)\n",
    "            feature = self.inception(img)[0].view(img.shape[0], -1)\n",
    "            feature_list.append(feature.to('cpu'))\n",
    "        features = torch.cat(feature_list, 0)\n",
    "        return features\n",
    "\n",
    "    def calc_fid(self, sample_mean, sample_cov, real_mean, real_cov, eps=1e-6):\n",
    "        cov_sqrt, _ = linalg.sqrtm(sample_cov @ real_cov, disp=False)\n",
    "        if not np.isfinite(cov_sqrt).all():\n",
    "            print('product of cov matrices is singular')\n",
    "            offset = np.eye(sample_cov.shape[0]) * eps\n",
    "            cov_sqrt = linalg.sqrtm((sample_cov + offset) @ (real_cov + offset))\n",
    "        if np.iscomplexobj(cov_sqrt):\n",
    "            if not np.allclose(np.diagonal(cov_sqrt).imag, 0, atol=1e-3):\n",
    "                m = np.max(np.abs(cov_sqrt.imag))\n",
    "                raise ValueError(f'Imaginary component {m}')\n",
    "            cov_sqrt = cov_sqrt.real\n",
    "        mean_diff = sample_mean - real_mean\n",
    "        mean_norm = mean_diff @ mean_diff\n",
    "        trace = np.trace(sample_cov) + np.trace(real_cov) - 2 * np.trace(cov_sqrt)\n",
    "        fid = mean_norm + trace\n",
    "        return fid\n",
    "\n",
    "    def __call__(self, num_workers=4):\n",
    "        dset_a = ImageFolder(self.path_a, self.transform)\n",
    "        print(\"Number of real images:\", len(dset_a))\n",
    "        loader_a = DataLoader(dset_a, batch_size=self.batch_size, num_workers=num_workers, drop_last=True)\n",
    "        features_a = self.extract_features(loader_a).numpy()\n",
    "        real_mean = np.mean(features_a, 0)\n",
    "        real_cov = np.cov(features_a, rowvar=False)\n",
    "\n",
    "        dset_b = ImageFolder(self.path_b, self.transform)\n",
    "        print(\"Number of synthetic images:\", len(dset_b))\n",
    "        loader_b = DataLoader(dset_b, batch_size=self.batch_size, num_workers=num_workers, drop_last=True)\n",
    "        features_b = self.extract_features(loader_b).numpy()\n",
    "        sample_mean = np.mean(features_b, 0)\n",
    "        sample_cov = np.cov(features_b, rowvar=False)\n",
    "\n",
    "        fid = self.calc_fid(sample_mean, sample_cov, real_mean, real_cov)\n",
    "\n",
    "        return fid\n",
    "\n",
    "    @staticmethod\n",
    "    def load_patched_inception_v3():\n",
    "        inception = torch.hub.load('pytorch/vision:v0.9.0', 'inception_v3', pretrained=True)\n",
    "        inception.fc = nn.Identity()\n",
    "        return inception\n",
    "\n",
    "\n",
    "# torch.backends.cudnn.benchmark = True\n",
    "\n",
    "\n",
    "def crop_image_by_part(image, part):\n",
    "    hw = image.shape[2] // 2\n",
    "    if part == 0:\n",
    "        return image[:, :, :hw, :hw]\n",
    "    if part == 1:\n",
    "        return image[:, :, :hw, hw:]\n",
    "    if part == 2:\n",
    "        return image[:, :, hw:, :hw]\n",
    "    if part == 3:\n",
    "        return image[:, :, hw:, hw:]\n",
    "\n",
    "\n",
    "def train_d(net, data, label=\"real\"):\n",
    "    \"\"\"Train function of discriminator\"\"\"\n",
    "    if label == \"real\":\n",
    "        part = random.randint(0, 3)\n",
    "        pred, [rec_all, rec_small, rec_part] = net(data, label, part=part)\n",
    "        err = F.relu(torch.rand_like(pred) * 0.2 + 0.8 - pred).mean()\n",
    "        err.backward()\n",
    "        return pred.mean().item(), rec_all, rec_small, rec_part\n",
    "    else:\n",
    "        pred = net(data, label)\n",
    "        err = F.relu(torch.rand_like(pred) * 0.2 + 0.8 + pred).mean()\n",
    "        err.backward()\n",
    "        return pred.mean().item()\n",
    "\n",
    "\n",
    "def train(args):\n",
    "    data_root = args.path\n",
    "    total_iterations = args.iter\n",
    "    checkpoint = args.ckpt\n",
    "    batch_size = args.batch_size\n",
    "    im_size = args.im_size\n",
    "    ndf = 64\n",
    "    ngf = 64\n",
    "    nz = args.noise_dim\n",
    "    nlr = 0.0001\n",
    "    nbeta1 = 0.5\n",
    "    use_cuda = True\n",
    "    multi_gpu = True\n",
    "    dataloader_workers = 8\n",
    "    current_iteration = args.start_iter\n",
    "    save_interval = 100\n",
    "    saved_model_folder, saved_image_folder = get_dir(args)\n",
    "    fid_batch_size = args.fid_batch_size\n",
    "    save_results_dir = args.name\n",
    "    \n",
    "\n",
    "    device = torch.device(\"cpu\")\n",
    "    if use_cuda:\n",
    "        device = torch.device(\"cuda:0\")\n",
    "\n",
    "    transform_list = [\n",
    "        transforms.Resize((int(im_size), int(im_size))),\n",
    "        transforms.RandomHorizontalFlip(),\n",
    "        transforms.ToTensor(),\n",
    "        transforms.Normalize(mean=[0.5, 0.5, 0.5], std=[0.5, 0.5, 0.5])\n",
    "    ]\n",
    "    trans = transforms.Compose(transform_list)\n",
    "\n",
    "    if 'lmdb' in data_root:\n",
    "        from operation import MultiResolutionDataset\n",
    "        dataset = MultiResolutionDataset(data_root, trans, 1024)\n",
    "    else:\n",
    "        dataset = ImageFolder(root=data_root, transform=trans)\n",
    "\n",
    "    dataloader = iter(DataLoader(dataset, batch_size=batch_size, shuffle=False,\n",
    "                                 sampler=InfiniteSamplerWrapper(dataset), num_workers=dataloader_workers,\n",
    "                                 pin_memory=True))\n",
    "    '''\n",
    "    loader = MultiEpochsDataLoader(dataset, batch_size=batch_size, \n",
    "                               shuffle=True, num_workers=dataloader_workers, \n",
    "                               pin_memory=True)\n",
    "    dataloader = CudaDataLoader(loader, 'cuda')\n",
    "    '''\n",
    "\n",
    "    # from model_s import Generator, Discriminator\n",
    "    netG = Generator(ngf=ngf, nz=nz, im_size=im_size)\n",
    "    netG.apply(weights_init)\n",
    "\n",
    "    netD = Discriminator(ndf=ndf, im_size=im_size)\n",
    "    netD.apply(weights_init)\n",
    "\n",
    "    netG.to(device)\n",
    "    netD.to(device)\n",
    "\n",
    "    avg_param_G = copy_G_params(netG)\n",
    "\n",
    "    optimizerG = optim.Adam(netG.parameters(), lr=nlr, betas=(nbeta1, 0.999))\n",
    "    optimizerD = optim.Adam(netD.parameters(), lr=nlr, betas=(nbeta1, 0.999))\n",
    "    \n",
    "    generated_images = os.path.join(os.getcwd(), 'train_results', save_results_dir, \"images\")    \n",
    "    fid = FIDScore(data_root, generated_images, im_size, fid_batch_size)\n",
    "    fid_scores = []\n",
    "    losses = []\n",
    "    min_fid_score = 999\n",
    "    \n",
    "    data = {\n",
    "            \"loss_d\": [],\n",
    "            \"loss_g\": []\n",
    "        }\n",
    "\n",
    "    loss_results_path = os.path.join(os.getcwd(), 'train_results', save_results_dir, \"loss.json\")      \n",
    "\n",
    "    \n",
    "    if checkpoint != 'None':\n",
    "        ckpt = torch.load(checkpoint)\n",
    "        netG.load_state_dict({k.replace('module.', ''): v for k, v in ckpt['g'].items()})\n",
    "        netD.load_state_dict({k.replace('module.', ''): v for k, v in ckpt['d'].items()})\n",
    "        avg_param_G = ckpt['g_ema']\n",
    "        optimizerG.load_state_dict(ckpt['opt_g'])\n",
    "        optimizerD.load_state_dict(ckpt['opt_d'])\n",
    "        current_iteration = int(checkpoint.split('_')[-1].split('.')[0])\n",
    "        del ckpt\n",
    "\n",
    "    if multi_gpu:\n",
    "        netG = nn.DataParallel(netG.to(device))\n",
    "        netD = nn.DataParallel(netD.to(device))\n",
    "\n",
    "    for iteration in tqdm(range(current_iteration, total_iterations + 1)):\n",
    "        real_image = next(dataloader)\n",
    "        real_image = real_image.to(device)\n",
    "        current_batch_size = real_image.size(0)\n",
    "        noise = torch.Tensor(current_batch_size, nz).normal_(0, 1).to(device)\n",
    "\n",
    "        fake_images = netG(noise)\n",
    "\n",
    "        real_image = DiffAugment(real_image, policy=policy)\n",
    "        fake_images = [DiffAugment(fake, policy=policy) for fake in fake_images]\n",
    "\n",
    "        ## 2. train Discriminator\n",
    "        netD.zero_grad()\n",
    "\n",
    "        err_dr, rec_img_all, rec_img_small, rec_img_part = train_d(netD, real_image, label=\"real\")\n",
    "        train_d(netD, [fi.detach() for fi in fake_images], label=\"fake\")\n",
    "        optimizerD.step()\n",
    "\n",
    "        ## 3. train Generator\n",
    "        netG.zero_grad()\n",
    "        pred_g = netD(fake_images, \"fake\")\n",
    "        err_g = -pred_g.mean()\n",
    "\n",
    "        err_g.backward()\n",
    "        optimizerG.step()\n",
    "\n",
    "        for p, avg_p in zip(netG.parameters(), avg_param_G):\n",
    "            avg_p.mul_(0.999).add_(0.001 * p.data)\n",
    "\n",
    "            \n",
    "        if iteration % 100 == 0:\n",
    "            print(\"GAN: loss d: %.5f    loss g: %.5f\" % (err_dr, -err_g.item()))\n",
    "            data[\"loss_d\"].append(err_dr)\n",
    "            data[\"loss_g\"].append(-err_g.item())\n",
    "            \n",
    "            with open(loss_results_path, \"w\") as json_file:\n",
    "                json.dump(data, json_file, indent=4)\n",
    "\n",
    "        \n",
    "        if iteration % (save_interval * 10) == 0 or iteration == total_iterations:\n",
    "            backup_para = copy_G_params(netG)\n",
    "            load_params(netG, avg_param_G)\n",
    "            print (\"saving current model\")\n",
    "            torch.save({'g': netG.state_dict(), 'd': netD.state_dict()}, saved_model_folder + '/last_model.pth')\n",
    "            with torch.no_grad():\n",
    "                for i in range (500):\n",
    "                    fixed_noise = torch.FloatTensor(1, nz).normal_(0, 1).to(device)\n",
    "                    generated_images = netG(fixed_noise)                \n",
    "                    #print(\"saved %d image\" % i)\n",
    "                    vutils.save_image(generated_images[0].add(1).mul(0.5), saved_image_folder + '/%d.jpg' % i)\n",
    "\n",
    "            fid_score = fid()\n",
    "            fid_scores.append(fid_score)\n",
    "            print ('Current fid score:' , fid_score)\n",
    "            print ('Fid scores:' , fid_scores)\n",
    "            \n",
    "            fid_results_path = os.path.join(os.getcwd(), 'train_results', save_results_dir, \"fid.txt\")    \n",
    "\n",
    "            with open(fid_results_path, 'w') as file:\n",
    "                for value in fid_scores:\n",
    "                    file.write(str(value) + '\\n')\n",
    "            \n",
    "            if fid_score < min_fid_score:\n",
    "                min_fid_score = fid_score\n",
    "                print('New min fid score: %.12f' % fid_score)\n",
    "                print('Saving best model')\n",
    "                torch.save({'g': netG.state_dict(), 'd': netD.state_dict()}, saved_model_folder + '/min_fid_model.pth')\n",
    "                #load_params(netG, backup_para)\n",
    "                #torch.save({'g': netG.state_dict(), 'd': netD.state_dict(), 'g_ema': avg_param_G, 'opt_g': optimizerG.state_dict(), 'opt_d': optimizerD.state_dict()}, saved_model_folder + '/all_%d.pth' % iteration)\n",
    "\n",
    "            load_params(netG, backup_para)\n",
    "\n",
    "\n",
    "if __name__ == \"__main__\":\n",
    "    #data_root = os.path.join(os.path.abspath('..'), \"datasets\", \"drive\", \"img\")\n",
    "    #test_name= 'drive'\n",
    "    #im_size= 512\n",
    "    data_root = os.path.join(os.path.abspath('..'), \"datasets\", \"BV\", \"train\")\n",
    "    test_name= 'test_bv_256'\n",
    "    im_size= 256\n",
    "    print (data_root)\n",
    "    args = easydict.EasyDict({\n",
    "        \"path\": data_root,\n",
    "        \"cuda\": 0,\n",
    "        \"name\": test_name,\n",
    "        \"iter\": 100000,\n",
    "        \"start_iter\": 0, \n",
    "        \"batch_size\": 1,\n",
    "        \"im_size\": im_size,\n",
    "        \"ckpt\": 'None',\n",
    "        \"noise_dim\": 400,\n",
    "        \"fid_batch_size\": 32\n",
    "    })\n",
    "    \n",
    "    print(args)\n",
    "    torch.cuda.empty_cache()\n",
    "    #print(torch.cuda.memory_summary(device=None, abbreviated=False))\n",
    "    train(args)\n"
   ]
  },
  {
   "cell_type": "code",
   "execution_count": null,
   "metadata": {},
   "outputs": [],
   "source": []
  }
 ],
 "metadata": {
  "kernelspec": {
   "display_name": "Python 3",
   "language": "python",
   "name": "python3"
  },
  "language_info": {
   "codemirror_mode": {
    "name": "ipython",
    "version": 3
   },
   "file_extension": ".py",
   "mimetype": "text/x-python",
   "name": "python",
   "nbconvert_exporter": "python",
   "pygments_lexer": "ipython3",
   "version": "3.7.9"
  }
 },
 "nbformat": 4,
 "nbformat_minor": 4
}
