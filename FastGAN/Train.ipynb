{
 "cells": [
  {
   "cell_type": "markdown",
   "metadata": {},
   "source": [
    "Esta Jupyter Notebook es una adaptación de la red nueronal [implementada](https://github.com/odegeasslbc/FastGAN-pytorch) en el paper [\"Towards Faster and Stabilized GAN Training for High-fidelity Few-shot Image Synthesis\"](https://arxiv.org/pdf/2101.04775.pdf). La particularidad de la misma reside en su capacidad de generar imagenes a partir de datasets \"pequeños\" (>1000 muestras). El código está dividido en tres partes: definición de arquitectura generador/discriminador, funciones auxiliares (procesamiento de datasets, manejo de archivos) y algoritmo de entrenamiento."
   ]
  },
  {
   "cell_type": "markdown",
   "metadata": {},
   "source": [
    "Se utilizaron dos datasets, uno de retinas (Drive) con 160 imagenes en escala de grises y resolución 512x512. El otro consiste de patrones de venas o filamentos, en este caso 6000 imágenes también en escala de grises y resolución 256x256. El procesamiento de ambos casos se hace mediante las clases auxiliares de PyTorch ImageFolder y DataLoader, en batches de 32. Luego se entrena la red con el algoritmo convencional de GAN. Cada cierta cantidad de iteraciones se calcula la FID y se almacena ese valor. Con esto luego se compara en consecuentes iteraciones y se guarda el mejor modelo según esta métrica (menor es mejor). En ambos casos se ve un decenso progresivo de esta distancia, hasta una eventual meseta con sus pequeñas variaciones."
   ]
  },
  {
   "cell_type": "code",
   "execution_count": 1,
   "metadata": {},
   "outputs": [],
   "source": [
    "import torch\n",
    "import torch.nn as nn\n",
    "from torch.nn.utils import spectral_norm\n",
    "import torch.nn.functional as F\n",
    "\n",
    "import random\n",
    "\n",
    "seq = nn.Sequential\n",
    "\n",
    "def weights_init(m):\n",
    "    classname = m.__class__.__name__\n",
    "    if classname.find('Conv') != -1:\n",
    "        try:\n",
    "            m.weight.data.normal_(0.0, 0.02)\n",
    "        except:\n",
    "            pass\n",
    "    elif classname.find('BatchNorm') != -1:\n",
    "        m.weight.data.normal_(1.0, 0.02)\n",
    "        m.bias.data.fill_(0)\n",
    "\n",
    "def conv2d(*args, **kwargs):\n",
    "    return spectral_norm(nn.Conv2d(*args, **kwargs))\n",
    "\n",
    "def convTranspose2d(*args, **kwargs):\n",
    "    return spectral_norm(nn.ConvTranspose2d(*args, **kwargs))\n",
    "\n",
    "def batchNorm2d(*args, **kwargs):\n",
    "    return nn.BatchNorm2d(*args, **kwargs)\n",
    "\n",
    "def linear(*args, **kwargs):\n",
    "    return spectral_norm(nn.Linear(*args, **kwargs))\n",
    "\n",
    "class PixelNorm(nn.Module):\n",
    "    def forward(self, input):\n",
    "        return input * torch.rsqrt(torch.mean(input ** 2, dim=1, keepdim=True) + 1e-8)\n",
    "\n",
    "class Reshape(nn.Module):\n",
    "    def __init__(self, shape):\n",
    "        super().__init__()\n",
    "        self.target_shape = shape\n",
    "\n",
    "    def forward(self, feat):\n",
    "        batch = feat.shape[0]\n",
    "        return feat.view(batch, *self.target_shape)        \n",
    "\n",
    "\n",
    "class GLU(nn.Module):\n",
    "    def forward(self, x):\n",
    "        nc = x.size(1)\n",
    "        assert nc % 2 == 0, 'channels dont divide 2!'\n",
    "        nc = int(nc/2)\n",
    "        return x[:, :nc] * torch.sigmoid(x[:, nc:])\n",
    "\n",
    "\n",
    "class NoiseInjection(nn.Module):\n",
    "    def __init__(self):\n",
    "        super().__init__()\n",
    "\n",
    "        self.weight = nn.Parameter(torch.zeros(1), requires_grad=True)\n",
    "\n",
    "    def forward(self, feat, noise=None):\n",
    "        if noise is None:\n",
    "            batch, _, height, width = feat.shape\n",
    "            noise = torch.randn(batch, 1, height, width).to(feat.device)\n",
    "\n",
    "        return feat + self.weight * noise\n",
    "\n",
    "\n",
    "class Swish(nn.Module):\n",
    "    def forward(self, feat):\n",
    "        return feat * torch.sigmoid(feat)\n",
    "\n",
    "\n",
    "class SEBlock(nn.Module):\n",
    "    def __init__(self, ch_in, ch_out):\n",
    "        super().__init__()\n",
    "\n",
    "        self.main = nn.Sequential(  nn.AdaptiveAvgPool2d(4), \n",
    "                                    conv2d(ch_in, ch_out, 4, 1, 0, bias=False), Swish(),\n",
    "                                    conv2d(ch_out, ch_out, 1, 1, 0, bias=False), nn.Sigmoid() )\n",
    "\n",
    "    def forward(self, feat_small, feat_big):\n",
    "        return feat_big * self.main(feat_small)\n",
    "\n",
    "\n",
    "class InitLayer(nn.Module):\n",
    "    def __init__(self, nz, channel):\n",
    "        super().__init__()\n",
    "\n",
    "        self.init = nn.Sequential(\n",
    "                        convTranspose2d(nz, channel*2, 4, 1, 0, bias=False),\n",
    "                        batchNorm2d(channel*2), GLU() )\n",
    "\n",
    "    def forward(self, noise):\n",
    "        noise = noise.view(noise.shape[0], -1, 1, 1)\n",
    "        return self.init(noise)\n",
    "\n",
    "\n",
    "def UpBlock(in_planes, out_planes):\n",
    "    block = nn.Sequential(\n",
    "        nn.Upsample(scale_factor=2, mode='nearest'),\n",
    "        conv2d(in_planes, out_planes*2, 3, 1, 1, bias=False),\n",
    "        #convTranspose2d(in_planes, out_planes*2, 4, 2, 1, bias=False),\n",
    "        batchNorm2d(out_planes*2), GLU())\n",
    "    return block\n",
    "\n",
    "\n",
    "def UpBlockComp(in_planes, out_planes):\n",
    "    block = nn.Sequential(\n",
    "        nn.Upsample(scale_factor=2, mode='nearest'),\n",
    "        conv2d(in_planes, out_planes*2, 3, 1, 1, bias=False),\n",
    "        #convTranspose2d(in_planes, out_planes*2, 4, 2, 1, bias=False),\n",
    "        NoiseInjection(),\n",
    "        batchNorm2d(out_planes*2), GLU(),\n",
    "        conv2d(out_planes, out_planes*2, 3, 1, 1, bias=False),\n",
    "        NoiseInjection(),\n",
    "        batchNorm2d(out_planes*2), GLU()\n",
    "        )\n",
    "    return block\n",
    "\n",
    "\n",
    "class Generator(nn.Module):\n",
    "    def __init__(self, ngf=64, nz=100, nc=3, im_size=1024):\n",
    "        super(Generator, self).__init__()\n",
    "\n",
    "        nfc_multi = {4:16, 8:8, 16:4, 32:2, 64:2, 128:1, 256:0.5, 512:0.25, 1024:0.125}\n",
    "        nfc = {}\n",
    "        for k, v in nfc_multi.items():\n",
    "            nfc[k] = int(v*ngf)\n",
    "\n",
    "        self.im_size = im_size\n",
    "\n",
    "        self.init = InitLayer(nz, channel=nfc[4])\n",
    "                                \n",
    "        self.feat_8   = UpBlockComp(nfc[4], nfc[8])\n",
    "        self.feat_16  = UpBlock(nfc[8], nfc[16])\n",
    "        self.feat_32  = UpBlockComp(nfc[16], nfc[32])\n",
    "        self.feat_64  = UpBlock(nfc[32], nfc[64])\n",
    "        self.feat_128 = UpBlockComp(nfc[64], nfc[128])  \n",
    "        self.feat_256 = UpBlock(nfc[128], nfc[256]) \n",
    "\n",
    "        self.se_64  = SEBlock(nfc[4], nfc[64])\n",
    "        self.se_128 = SEBlock(nfc[8], nfc[128])\n",
    "        self.se_256 = SEBlock(nfc[16], nfc[256])\n",
    "\n",
    "        self.to_128 = conv2d(nfc[128], nc, 1, 1, 0, bias=False) \n",
    "        self.to_big = conv2d(nfc[im_size], nc, 3, 1, 1, bias=False) \n",
    "        \n",
    "        if im_size > 256:\n",
    "            self.feat_512 = UpBlockComp(nfc[256], nfc[512]) \n",
    "            self.se_512 = SEBlock(nfc[32], nfc[512])\n",
    "        if im_size > 512:\n",
    "            self.feat_1024 = UpBlock(nfc[512], nfc[1024])  \n",
    "        \n",
    "    def forward(self, input):\n",
    "        \n",
    "        feat_4   = self.init(input)\n",
    "        feat_8   = self.feat_8(feat_4)\n",
    "        feat_16  = self.feat_16(feat_8)\n",
    "        feat_32  = self.feat_32(feat_16)\n",
    "\n",
    "        feat_64  = self.se_64( feat_4, self.feat_64(feat_32) )\n",
    "\n",
    "        feat_128 = self.se_128( feat_8, self.feat_128(feat_64) )\n",
    "\n",
    "        feat_256 = self.se_256( feat_16, self.feat_256(feat_128) )\n",
    "\n",
    "        if self.im_size == 256:\n",
    "            return [self.to_big(feat_256), self.to_128(feat_128)]\n",
    "        \n",
    "        feat_512 = self.se_512( feat_32, self.feat_512(feat_256) )\n",
    "        if self.im_size == 512:\n",
    "            return [self.to_big(feat_512), self.to_128(feat_128)]\n",
    "\n",
    "        feat_1024 = self.feat_1024(feat_512)\n",
    "\n",
    "        im_128 = torch.tanh(self.to_128(feat_128))\n",
    "        im_1024 = torch.tanh(self.to_big(feat_1024))\n",
    "\n",
    "        return [im_1024, im_128]\n",
    "\n",
    "\n",
    "class DownBlock(nn.Module):\n",
    "    def __init__(self, in_planes, out_planes):\n",
    "        super(DownBlock, self).__init__()\n",
    "\n",
    "        self.main = nn.Sequential(\n",
    "            conv2d(in_planes, out_planes, 4, 2, 1, bias=False),\n",
    "            batchNorm2d(out_planes), nn.LeakyReLU(0.2, inplace=True),\n",
    "            )\n",
    "\n",
    "    def forward(self, feat):\n",
    "        return self.main(feat)\n",
    "\n",
    "\n",
    "class DownBlockComp(nn.Module):\n",
    "    def __init__(self, in_planes, out_planes):\n",
    "        super(DownBlockComp, self).__init__()\n",
    "\n",
    "        self.main = nn.Sequential(\n",
    "            conv2d(in_planes, out_planes, 4, 2, 1, bias=False),\n",
    "            batchNorm2d(out_planes), nn.LeakyReLU(0.2, inplace=True),\n",
    "            conv2d(out_planes, out_planes, 3, 1, 1, bias=False),\n",
    "            batchNorm2d(out_planes), nn.LeakyReLU(0.2)\n",
    "            )\n",
    "\n",
    "        self.direct = nn.Sequential(\n",
    "            nn.AvgPool2d(2, 2),\n",
    "            conv2d(in_planes, out_planes, 1, 1, 0, bias=False),\n",
    "            batchNorm2d(out_planes), nn.LeakyReLU(0.2))\n",
    "\n",
    "    def forward(self, feat):\n",
    "        return (self.main(feat) + self.direct(feat)) / 2\n",
    "\n",
    "\n",
    "class Discriminator(nn.Module):\n",
    "    def __init__(self, ndf=64, nc=3, im_size=512):\n",
    "        super(Discriminator, self).__init__()\n",
    "        self.ndf = ndf\n",
    "        self.im_size = im_size\n",
    "\n",
    "        nfc_multi = {4:16, 8:16, 16:8, 32:4, 64:2, 128:1, 256:0.5, 512:0.25, 1024:0.125}\n",
    "        nfc = {}\n",
    "        for k, v in nfc_multi.items():\n",
    "            nfc[k] = int(v*ndf)\n",
    "\n",
    "        if im_size == 1024:\n",
    "            self.down_from_big = nn.Sequential( \n",
    "                                    conv2d(nc, nfc[1024], 4, 2, 1, bias=False),\n",
    "                                    nn.LeakyReLU(0.2, inplace=True),\n",
    "                                    conv2d(nfc[1024], nfc[512], 4, 2, 1, bias=False),\n",
    "                                    batchNorm2d(nfc[512]),\n",
    "                                    nn.LeakyReLU(0.2, inplace=True))\n",
    "        elif im_size == 512:\n",
    "            self.down_from_big = nn.Sequential( \n",
    "                                    conv2d(nc, nfc[512], 4, 2, 1, bias=False),\n",
    "                                    nn.LeakyReLU(0.2, inplace=True) )\n",
    "        elif im_size == 256:\n",
    "            self.down_from_big = nn.Sequential( \n",
    "                                    conv2d(nc, nfc[512], 3, 1, 1, bias=False),\n",
    "                                    nn.LeakyReLU(0.2, inplace=True) )\n",
    "\n",
    "        self.down_4  = DownBlockComp(nfc[512], nfc[256])\n",
    "        self.down_8  = DownBlockComp(nfc[256], nfc[128])\n",
    "        self.down_16 = DownBlockComp(nfc[128], nfc[64])\n",
    "        self.down_32 = DownBlockComp(nfc[64],  nfc[32])\n",
    "        self.down_64 = DownBlockComp(nfc[32],  nfc[16])\n",
    "\n",
    "        self.rf_big = nn.Sequential(\n",
    "                            conv2d(nfc[16] , nfc[8], 1, 1, 0, bias=False),\n",
    "                            batchNorm2d(nfc[8]), nn.LeakyReLU(0.2, inplace=True),\n",
    "                            conv2d(nfc[8], 1, 4, 1, 0, bias=False))\n",
    "\n",
    "        self.se_2_16 = SEBlock(nfc[512], nfc[64])\n",
    "        self.se_4_32 = SEBlock(nfc[256], nfc[32])\n",
    "        self.se_8_64 = SEBlock(nfc[128], nfc[16])\n",
    "        \n",
    "        self.down_from_small = nn.Sequential( \n",
    "                                            conv2d(nc, nfc[256], 4, 2, 1, bias=False), \n",
    "                                            nn.LeakyReLU(0.2, inplace=True),\n",
    "                                            DownBlock(nfc[256],  nfc[128]),\n",
    "                                            DownBlock(nfc[128],  nfc[64]),\n",
    "                                            DownBlock(nfc[64],  nfc[32]), )\n",
    "\n",
    "        self.rf_small = conv2d(nfc[32], 1, 4, 1, 0, bias=False)\n",
    "\n",
    "        self.decoder_big = SimpleDecoder(nfc[16], nc)\n",
    "        self.decoder_part = SimpleDecoder(nfc[32], nc)\n",
    "        self.decoder_small = SimpleDecoder(nfc[32], nc)\n",
    "        \n",
    "    def forward(self, imgs, label, part=None):\n",
    "        if type(imgs) is not list:\n",
    "            imgs = [F.interpolate(imgs, size=self.im_size), F.interpolate(imgs, size=128)]\n",
    "\n",
    "        feat_2 = self.down_from_big(imgs[0])        \n",
    "        feat_4 = self.down_4(feat_2)\n",
    "        feat_8 = self.down_8(feat_4)\n",
    "        \n",
    "        feat_16 = self.down_16(feat_8)\n",
    "        feat_16 = self.se_2_16(feat_2, feat_16)\n",
    "\n",
    "        feat_32 = self.down_32(feat_16)\n",
    "        feat_32 = self.se_4_32(feat_4, feat_32)\n",
    "        \n",
    "        feat_last = self.down_64(feat_32)\n",
    "        feat_last = self.se_8_64(feat_8, feat_last)\n",
    "\n",
    "        #rf_0 = torch.cat([self.rf_big_1(feat_last).view(-1),self.rf_big_2(feat_last).view(-1)])\n",
    "        #rff_big = torch.sigmoid(self.rf_factor_big)\n",
    "        rf_0 = self.rf_big(feat_last).view(-1)\n",
    "\n",
    "        feat_small = self.down_from_small(imgs[1])\n",
    "        #rf_1 = torch.cat([self.rf_small_1(feat_small).view(-1),self.rf_small_2(feat_small).view(-1)])\n",
    "        rf_1 = self.rf_small(feat_small).view(-1)\n",
    "\n",
    "        if label=='real':    \n",
    "            rec_img_big = self.decoder_big(feat_last)\n",
    "            rec_img_small = self.decoder_small(feat_small)\n",
    "\n",
    "            assert part is not None\n",
    "            rec_img_part = None\n",
    "            if part==0:\n",
    "                rec_img_part = self.decoder_part(feat_32[:,:,:8,:8])\n",
    "            if part==1:\n",
    "                rec_img_part = self.decoder_part(feat_32[:,:,:8,8:])\n",
    "            if part==2:\n",
    "                rec_img_part = self.decoder_part(feat_32[:,:,8:,:8])\n",
    "            if part==3:\n",
    "                rec_img_part = self.decoder_part(feat_32[:,:,8:,8:])\n",
    "\n",
    "            return torch.cat([rf_0, rf_1]) , [rec_img_big, rec_img_small, rec_img_part]\n",
    "\n",
    "        return torch.cat([rf_0, rf_1]) \n",
    "\n",
    "\n",
    "class SimpleDecoder(nn.Module):\n",
    "    \"\"\"docstring for CAN_SimpleDecoder\"\"\"\n",
    "    def __init__(self, nfc_in=64, nc=3):\n",
    "        super(SimpleDecoder, self).__init__()\n",
    "\n",
    "        nfc_multi = {4:16, 8:8, 16:4, 32:2, 64:2, 128:1, 256:0.5, 512:0.25, 1024:0.125}\n",
    "        nfc = {}\n",
    "        for k, v in nfc_multi.items():\n",
    "            nfc[k] = int(v*32)\n",
    "\n",
    "        def upBlock(in_planes, out_planes):\n",
    "            block = nn.Sequential(\n",
    "                nn.Upsample(scale_factor=2, mode='nearest'),\n",
    "                conv2d(in_planes, out_planes*2, 3, 1, 1, bias=False),\n",
    "                batchNorm2d(out_planes*2), GLU())\n",
    "            return block\n",
    "\n",
    "        self.main = nn.Sequential(  nn.AdaptiveAvgPool2d(8),\n",
    "                                    upBlock(nfc_in, nfc[16]) ,\n",
    "                                    upBlock(nfc[16], nfc[32]),\n",
    "                                    upBlock(nfc[32], nfc[64]),\n",
    "                                    upBlock(nfc[64], nfc[128]),\n",
    "                                    conv2d(nfc[128], nc, 3, 1, 1, bias=False),\n",
    "                                    nn.Tanh() )\n",
    "\n",
    "    def forward(self, input):\n",
    "        # input shape: c x 4 x 4\n",
    "        return self.main(input)\n",
    "\n",
    "from random import randint\n",
    "def random_crop(image, size):\n",
    "    h, w = image.shape[2:]\n",
    "    ch = randint(0, h-size-1)\n",
    "    cw = randint(0, w-size-1)\n",
    "    return image[:,:,ch:ch+size,cw:cw+size]\n",
    "\n",
    "class TextureDiscriminator(nn.Module):\n",
    "    def __init__(self, ndf=64, nc=3, im_size=512):\n",
    "        super(TextureDiscriminator, self).__init__()\n",
    "        self.ndf = ndf\n",
    "        self.im_size = im_size\n",
    "\n",
    "        nfc_multi = {4:16, 8:8, 16:8, 32:4, 64:2, 128:1, 256:0.5, 512:0.25, 1024:0.125}\n",
    "        nfc = {}\n",
    "        for k, v in nfc_multi.items():\n",
    "            nfc[k] = int(v*ndf)\n",
    "\n",
    "        self.down_from_small = nn.Sequential( \n",
    "                                            conv2d(nc, nfc[256], 4, 2, 1, bias=False), \n",
    "                                            nn.LeakyReLU(0.2, inplace=True),\n",
    "                                            DownBlock(nfc[256],  nfc[128]),\n",
    "                                            DownBlock(nfc[128],  nfc[64]),\n",
    "                                            DownBlock(nfc[64],  nfc[32]), )\n",
    "        self.rf_small = nn.Sequential(\n",
    "                            conv2d(nfc[16], 1, 4, 1, 0, bias=False))\n",
    "\n",
    "        self.decoder_small = SimpleDecoder(nfc[32], nc)\n",
    "        \n",
    "    def forward(self, img, label):\n",
    "        img = random_crop(img, size=128)\n",
    "\n",
    "        feat_small = self.down_from_small(img)\n",
    "        rf = self.rf_small(feat_small).view(-1)\n",
    "        \n",
    "        if label=='real':    \n",
    "            rec_img_small = self.decoder_small(feat_small)\n",
    "\n",
    "            return rf, rec_img_small, img\n",
    "\n",
    "        return rf\n"
   ]
  },
  {
   "cell_type": "code",
   "execution_count": 2,
   "metadata": {},
   "outputs": [],
   "source": [
    "import os\n",
    "import numpy as np\n",
    "import torch\n",
    "import torch.utils.data as data\n",
    "from torch.utils.data import Dataset\n",
    "from PIL import Image\n",
    "from copy import deepcopy\n",
    "import shutil\n",
    "import json\n",
    "\n",
    "def InfiniteSampler(n):\n",
    "    \"\"\"Data sampler\"\"\"\n",
    "    i = n - 1\n",
    "    order = np.random.permutation(n)\n",
    "    while True:\n",
    "        yield order[i]\n",
    "        i += 1\n",
    "        if i >= n:\n",
    "            np.random.seed()\n",
    "            order = np.random.permutation(n)\n",
    "            i = 0\n",
    "\n",
    "\n",
    "class InfiniteSamplerWrapper(data.sampler.Sampler):\n",
    "    \"\"\"Data sampler wrapper\"\"\"\n",
    "    def __init__(self, data_source):\n",
    "        self.num_samples = len(data_source)\n",
    "\n",
    "    def __iter__(self):\n",
    "        return iter(InfiniteSampler(self.num_samples))\n",
    "\n",
    "    def __len__(self):\n",
    "        return 2 ** 31\n",
    "\n",
    "\n",
    "def copy_G_params(model):\n",
    "    flatten = deepcopy(list(p.data for p in model.parameters()))\n",
    "    return flatten\n",
    "    \n",
    "\n",
    "def load_params(model, new_param):\n",
    "    for p, new_p in zip(model.parameters(), new_param):\n",
    "        p.data.copy_(new_p)\n",
    "\n",
    "\n",
    "def get_dir(args):\n",
    "    task_name = 'train_results/' + args.name\n",
    "    saved_model_folder = os.path.join( task_name, 'models')\n",
    "    saved_image_folder = os.path.join( task_name, 'images')\n",
    "    \n",
    "    os.makedirs(saved_model_folder, exist_ok=True)\n",
    "    os.makedirs(saved_image_folder, exist_ok=True)\n",
    "\n",
    "\n",
    "    for f in os.listdir('./'):\n",
    "        if '.py' in f:\n",
    "            shutil.copy(f, task_name+'/'+f)\n",
    "    \n",
    "    with open( os.path.join(saved_model_folder, '../args.txt'), 'w') as f:\n",
    "        json.dump(args.__dict__, f, indent=2)\n",
    "\n",
    "    return saved_model_folder, saved_image_folder\n",
    "\n",
    "\n",
    "class  ImageFolder(Dataset):\n",
    "    \"\"\"docstring for ArtDataset\"\"\"\n",
    "    def __init__(self, root, transform=None):\n",
    "        super( ImageFolder, self).__init__()\n",
    "        self.root = root\n",
    "\n",
    "        self.frame = self._parse_frame()\n",
    "        self.transform = transform\n",
    "\n",
    "    def _parse_frame(self):\n",
    "        frame = []\n",
    "        img_names = os.listdir(self.root)\n",
    "        img_names.sort()\n",
    "        for i in range(len(img_names)):\n",
    "            image_path = os.path.join(self.root, img_names[i])\n",
    "            if image_path[-4:] == '.jpg' or image_path[-4:] == '.png' or image_path[-5:] == '.jpeg': \n",
    "                frame.append(image_path)\n",
    "        return frame\n",
    "\n",
    "    def __len__(self):\n",
    "        return len(self.frame)\n",
    "\n",
    "    def __getitem__(self, idx):\n",
    "        file = self.frame[idx]\n",
    "        img = Image.open(file).convert('RGB')\n",
    "            \n",
    "        if self.transform:\n",
    "            img = self.transform(img) \n",
    "\n",
    "        return img\n",
    "\n",
    "\n",
    "\n",
    "from io import BytesIO\n",
    "import lmdb\n",
    "from torch.utils.data import Dataset\n",
    "\n",
    "\n",
    "class MultiResolutionDataset(Dataset):\n",
    "    def __init__(self, path, transform, resolution=256):\n",
    "        self.env = lmdb.open(\n",
    "            path,\n",
    "            max_readers=32,\n",
    "            readonly=True,\n",
    "            lock=False,\n",
    "            readahead=False,\n",
    "            meminit=False,\n",
    "        )\n",
    "\n",
    "        if not self.env:\n",
    "            raise IOError('Cannot open lmdb dataset', path)\n",
    "\n",
    "        with self.env.begin(write=False) as txn:\n",
    "            self.length = int(txn.get('length'.encode('utf-8')).decode('utf-8'))\n",
    "\n",
    "        self.resolution = resolution\n",
    "        self.transform = transform\n",
    "\n",
    "    def __len__(self):\n",
    "        return self.length\n",
    "\n",
    "    def __getitem__(self, index):\n",
    "        with self.env.begin(write=False) as txn:\n",
    "            key = f'{self.resolution}-{str(index).zfill(5)}'.encode('utf-8')\n",
    "            img_bytes = txn.get(key)\n",
    "            #key_asp = f'aspect_ratio-{str(index).zfill(5)}'.encode('utf-8')\n",
    "            #aspect_ratio = float(txn.get(key_asp).decode())\n",
    "\n",
    "        buffer = BytesIO(img_bytes)\n",
    "        img = Image.open(buffer)\n",
    "        img = self.transform(img)\n",
    "\n",
    "        return img\n",
    "\n"
   ]
  },
  {
   "cell_type": "code",
   "execution_count": 3,
   "metadata": {},
   "outputs": [
    {
     "name": "stdout",
     "output_type": "stream",
     "text": [
      "/home/jovyan/NN/datasets/BV/img\n",
      "{'path': '/home/jovyan/NN/datasets/BV/img', 'cuda': 0, 'name': 'test_bv_256', 'iter': 100000, 'start_iter': 0, 'batch_size': 1, 'im_size': 256, 'ckpt': 'None', 'noise_dim': 400, 'fid_batch_size': 32}\n"
     ]
    },
    {
     "name": "stderr",
     "output_type": "stream",
     "text": [
      "Using cache found in /home/jovyan/.cache/torch/hub/pytorch_vision_v0.9.0\n",
      "/opt/conda/lib/python3.7/site-packages/torchvision/models/_utils.py:209: UserWarning: The parameter 'pretrained' is deprecated since 0.13 and may be removed in the future, please use 'weights' instead.\n",
      "  f\"The parameter '{pretrained_param}' is deprecated since 0.13 and may be removed in the future, \"\n",
      "/opt/conda/lib/python3.7/site-packages/torchvision/models/_utils.py:223: UserWarning: Arguments other than a weight enum or `None` for 'weights' are deprecated since 0.13 and may be removed in the future. The current behavior is equivalent to passing `weights=Inception_V3_Weights.IMAGENET1K_V1`. You can also use `weights=Inception_V3_Weights.DEFAULT` to get the most up-to-date weights.\n",
      "  warnings.warn(msg)\n",
      "  0%|          | 0/100001 [00:00<?, ?it/s]/opt/conda/lib/python3.7/site-packages/torch/functional.py:504: UserWarning: torch.meshgrid: in an upcoming release, it will be required to pass the indexing argument. (Triggered internally at ../aten/src/ATen/native/TensorShape.cpp:3190.)\n",
      "  return _VF.meshgrid(tensors, **kwargs)  # type: ignore[attr-defined]\n"
     ]
    },
    {
     "name": "stdout",
     "output_type": "stream",
     "text": [
      "GAN: loss d: 0.16187    loss g: -1.08549\n",
      "saving current model\n"
     ]
    },
    {
     "name": "stderr",
     "output_type": "stream",
     "text": [
      "\n",
      "  0%|          | 0/195 [00:00<?, ?it/s]\u001b[A"
     ]
    },
    {
     "name": "stdout",
     "output_type": "stream",
     "text": [
      "Number of real images: 6252\n"
     ]
    },
    {
     "name": "stderr",
     "output_type": "stream",
     "text": [
      "\n",
      "\n",
      "  0%|          | 0/15 [00:00<?, ?it/s]\u001b[A\u001b[A"
     ]
    },
    {
     "name": "stdout",
     "output_type": "stream",
     "text": [
      "Number of synthetic images: 500\n"
     ]
    },
    {
     "name": "stderr",
     "output_type": "stream",
     "text": [
      "  0%|          | 0/15 [00:00<?, ?it/s]"
     ]
    },
    {
     "name": "stdout",
     "output_type": "stream",
     "text": [
      "Current fid score: 4.781169086965528\n",
      "Fid scores: [4.781169086965528]\n",
      "New min fid score: 4.781169086966\n",
      "Saving best model\n"
     ]
    },
    {
     "name": "stderr",
     "output_type": "stream",
     "text": [
      "\n",
      "  0%|          | 101/100001 [00:36<3:04:23,  9.03it/s]"
     ]
    },
    {
     "name": "stdout",
     "output_type": "stream",
     "text": [
      "GAN: loss d: 0.93040    loss g: -2.23905\n"
     ]
    },
    {
     "name": "stderr",
     "output_type": "stream",
     "text": [
      "  0%|          | 201/100001 [00:47<3:04:18,  9.02it/s]"
     ]
    },
    {
     "name": "stdout",
     "output_type": "stream",
     "text": [
      "GAN: loss d: 2.85406    loss g: -2.09455\n"
     ]
    },
    {
     "name": "stderr",
     "output_type": "stream",
     "text": [
      "  0%|          | 303/100001 [00:58<2:54:33,  9.52it/s]"
     ]
    },
    {
     "name": "stdout",
     "output_type": "stream",
     "text": [
      "GAN: loss d: 1.88629    loss g: -2.42986\n"
     ]
    },
    {
     "name": "stderr",
     "output_type": "stream",
     "text": [
      "  0%|          | 401/100001 [01:08<3:02:23,  9.10it/s]"
     ]
    },
    {
     "name": "stdout",
     "output_type": "stream",
     "text": [
      "GAN: loss d: 3.02655    loss g: -3.28287\n"
     ]
    },
    {
     "name": "stderr",
     "output_type": "stream",
     "text": [
      "  1%|          | 503/100001 [01:19<2:53:01,  9.58it/s]"
     ]
    },
    {
     "name": "stdout",
     "output_type": "stream",
     "text": [
      "GAN: loss d: 2.67360    loss g: -3.10849\n"
     ]
    },
    {
     "name": "stderr",
     "output_type": "stream",
     "text": [
      "  1%|          | 603/100001 [01:30<2:55:10,  9.46it/s]"
     ]
    },
    {
     "name": "stdout",
     "output_type": "stream",
     "text": [
      "GAN: loss d: 1.30227    loss g: -2.67247\n"
     ]
    },
    {
     "name": "stderr",
     "output_type": "stream",
     "text": [
      "  1%|          | 701/100001 [01:40<3:06:29,  8.87it/s]"
     ]
    },
    {
     "name": "stdout",
     "output_type": "stream",
     "text": [
      "GAN: loss d: 2.63365    loss g: -3.13599\n"
     ]
    },
    {
     "name": "stderr",
     "output_type": "stream",
     "text": [
      "  1%|          | 803/100001 [01:51<2:52:12,  9.60it/s]"
     ]
    },
    {
     "name": "stdout",
     "output_type": "stream",
     "text": [
      "GAN: loss d: 1.31789    loss g: -1.99603\n"
     ]
    },
    {
     "name": "stderr",
     "output_type": "stream",
     "text": [
      "  1%|          | 903/100001 [02:02<2:55:26,  9.41it/s]"
     ]
    },
    {
     "name": "stdout",
     "output_type": "stream",
     "text": [
      "GAN: loss d: 3.16565    loss g: -4.11163\n"
     ]
    },
    {
     "name": "stderr",
     "output_type": "stream",
     "text": [
      "  1%|          | 1000/100001 [02:12<2:55:00,  9.43it/s]"
     ]
    },
    {
     "name": "stdout",
     "output_type": "stream",
     "text": [
      "GAN: loss d: 2.62833    loss g: -3.28407\n",
      "saving current model\n"
     ]
    },
    {
     "name": "stderr",
     "output_type": "stream",
     "text": [
      "\n",
      "\n",
      "  0%|          | 0/195 [00:00<?, ?it/s]\u001b[A\u001b[A"
     ]
    },
    {
     "name": "stdout",
     "output_type": "stream",
     "text": [
      "Number of real images: 6252\n"
     ]
    },
    {
     "name": "stderr",
     "output_type": "stream",
     "text": [
      "\n",
      "\n",
      "\n",
      "  0%|          | 0/15 [00:00<?, ?it/s]\u001b[A\u001b[A\u001b[A"
     ]
    },
    {
     "name": "stdout",
     "output_type": "stream",
     "text": [
      "Number of synthetic images: 500\n"
     ]
    },
    {
     "name": "stderr",
     "output_type": "stream",
     "text": [
      "  0%|          | 0/195 [00:10<?, ?it/s]\n",
      "  0%|          | 0/15 [00:00<?, ?it/s]"
     ]
    },
    {
     "name": "stdout",
     "output_type": "stream",
     "text": [
      "Current fid score: 2.5563023530045648\n",
      "Fid scores: [4.781169086965528, 2.5563023530045648]\n",
      "New min fid score: 2.556302353005\n",
      "Saving best model\n"
     ]
    },
    {
     "name": "stderr",
     "output_type": "stream",
     "text": [
      "\n",
      "  1%|          | 1103/100001 [02:48<2:53:03,  9.52it/s]  "
     ]
    },
    {
     "name": "stdout",
     "output_type": "stream",
     "text": [
      "GAN: loss d: 2.66120    loss g: -1.53990\n"
     ]
    },
    {
     "name": "stderr",
     "output_type": "stream",
     "text": [
      "  1%|          | 1201/100001 [02:58<3:03:12,  8.99it/s]"
     ]
    },
    {
     "name": "stdout",
     "output_type": "stream",
     "text": [
      "GAN: loss d: 2.39860    loss g: -2.40917\n"
     ]
    },
    {
     "name": "stderr",
     "output_type": "stream",
     "text": [
      "  1%|▏         | 1301/100001 [03:09<3:00:14,  9.13it/s]"
     ]
    },
    {
     "name": "stdout",
     "output_type": "stream",
     "text": [
      "GAN: loss d: 3.10291    loss g: -2.19158\n"
     ]
    },
    {
     "name": "stderr",
     "output_type": "stream",
     "text": [
      "  1%|▏         | 1401/100001 [03:20<2:59:56,  9.13it/s]"
     ]
    },
    {
     "name": "stdout",
     "output_type": "stream",
     "text": [
      "GAN: loss d: 0.87745    loss g: -1.37657\n"
     ]
    },
    {
     "name": "stderr",
     "output_type": "stream",
     "text": [
      "  2%|▏         | 1501/100001 [03:30<3:05:53,  8.83it/s]"
     ]
    },
    {
     "name": "stdout",
     "output_type": "stream",
     "text": [
      "GAN: loss d: 1.67873    loss g: -1.75835\n"
     ]
    },
    {
     "name": "stderr",
     "output_type": "stream",
     "text": [
      "  2%|▏         | 1601/100001 [03:41<2:59:14,  9.15it/s]"
     ]
    },
    {
     "name": "stdout",
     "output_type": "stream",
     "text": [
      "GAN: loss d: 0.12730    loss g: -2.54800\n"
     ]
    },
    {
     "name": "stderr",
     "output_type": "stream",
     "text": [
      "  2%|▏         | 1703/100001 [03:52<2:51:59,  9.53it/s]"
     ]
    },
    {
     "name": "stdout",
     "output_type": "stream",
     "text": [
      "GAN: loss d: 1.69957    loss g: -1.77930\n"
     ]
    },
    {
     "name": "stderr",
     "output_type": "stream",
     "text": [
      "  2%|▏         | 1801/100001 [04:02<3:00:50,  9.05it/s]"
     ]
    },
    {
     "name": "stdout",
     "output_type": "stream",
     "text": [
      "GAN: loss d: 1.65370    loss g: -2.41020\n"
     ]
    },
    {
     "name": "stderr",
     "output_type": "stream",
     "text": [
      "  2%|▏         | 1901/100001 [04:13<2:57:26,  9.21it/s]"
     ]
    },
    {
     "name": "stdout",
     "output_type": "stream",
     "text": [
      "GAN: loss d: 0.44845    loss g: -1.52736\n"
     ]
    },
    {
     "name": "stderr",
     "output_type": "stream",
     "text": [
      "  2%|▏         | 2000/100001 [04:24<2:50:47,  9.56it/s]"
     ]
    },
    {
     "name": "stdout",
     "output_type": "stream",
     "text": [
      "GAN: loss d: 1.65640    loss g: -2.12258\n",
      "saving current model\n"
     ]
    },
    {
     "name": "stderr",
     "output_type": "stream",
     "text": [
      "\n",
      "\n",
      "  0%|          | 0/195 [00:00<?, ?it/s]\u001b[A\u001b[A"
     ]
    },
    {
     "name": "stdout",
     "output_type": "stream",
     "text": [
      "Number of real images: 6252\n"
     ]
    },
    {
     "name": "stderr",
     "output_type": "stream",
     "text": [
      "\n",
      "\n",
      "\n",
      "  0%|          | 0/15 [00:00<?, ?it/s]\u001b[A\u001b[A\u001b[A"
     ]
    },
    {
     "name": "stdout",
     "output_type": "stream",
     "text": [
      "Number of synthetic images: 500\n"
     ]
    },
    {
     "name": "stderr",
     "output_type": "stream",
     "text": [
      "  0%|          | 0/195 [00:10<?, ?it/s]\n",
      "  0%|          | 0/15 [00:00<?, ?it/s]"
     ]
    },
    {
     "name": "stdout",
     "output_type": "stream",
     "text": [
      "Current fid score: 2.463046801314256\n",
      "Fid scores: [4.781169086965528, 2.5563023530045648, 2.463046801314256]\n",
      "New min fid score: 2.463046801314\n",
      "Saving best model\n"
     ]
    },
    {
     "name": "stderr",
     "output_type": "stream",
     "text": [
      "\n",
      "  2%|▏         | 2101/100001 [04:59<3:03:46,  8.88it/s]  "
     ]
    },
    {
     "name": "stdout",
     "output_type": "stream",
     "text": [
      "GAN: loss d: 1.05228    loss g: -1.95834\n"
     ]
    },
    {
     "name": "stderr",
     "output_type": "stream",
     "text": [
      "  2%|▏         | 2203/100001 [05:10<2:51:33,  9.50it/s]"
     ]
    },
    {
     "name": "stdout",
     "output_type": "stream",
     "text": [
      "GAN: loss d: 1.12035    loss g: -2.26841\n"
     ]
    },
    {
     "name": "stderr",
     "output_type": "stream",
     "text": [
      "  2%|▏         | 2303/100001 [05:21<2:51:12,  9.51it/s]"
     ]
    },
    {
     "name": "stdout",
     "output_type": "stream",
     "text": [
      "GAN: loss d: 1.89024    loss g: -1.82029\n"
     ]
    },
    {
     "name": "stderr",
     "output_type": "stream",
     "text": [
      "  2%|▏         | 2403/100001 [05:32<2:52:40,  9.42it/s]"
     ]
    },
    {
     "name": "stdout",
     "output_type": "stream",
     "text": [
      "GAN: loss d: -0.09351    loss g: -1.39992\n"
     ]
    },
    {
     "name": "stderr",
     "output_type": "stream",
     "text": [
      "  3%|▎         | 2501/100001 [05:42<2:59:21,  9.06it/s]"
     ]
    },
    {
     "name": "stdout",
     "output_type": "stream",
     "text": [
      "GAN: loss d: 0.59526    loss g: -1.50167\n"
     ]
    },
    {
     "name": "stderr",
     "output_type": "stream",
     "text": [
      "  3%|▎         | 2603/100001 [05:53<2:48:37,  9.63it/s]"
     ]
    },
    {
     "name": "stdout",
     "output_type": "stream",
     "text": [
      "GAN: loss d: 2.64048    loss g: -1.74632\n"
     ]
    },
    {
     "name": "stderr",
     "output_type": "stream",
     "text": [
      "  3%|▎         | 2701/100001 [06:04<3:00:16,  9.00it/s]"
     ]
    },
    {
     "name": "stdout",
     "output_type": "stream",
     "text": [
      "GAN: loss d: 3.24801    loss g: -1.34407\n"
     ]
    },
    {
     "name": "stderr",
     "output_type": "stream",
     "text": [
      "  3%|▎         | 2801/100001 [06:14<3:01:12,  8.94it/s]"
     ]
    },
    {
     "name": "stdout",
     "output_type": "stream",
     "text": [
      "GAN: loss d: 1.40133    loss g: -1.65817\n"
     ]
    },
    {
     "name": "stderr",
     "output_type": "stream",
     "text": [
      "  3%|▎         | 2901/100001 [06:25<2:57:45,  9.10it/s]"
     ]
    },
    {
     "name": "stdout",
     "output_type": "stream",
     "text": [
      "GAN: loss d: 1.03612    loss g: -2.17414\n"
     ]
    },
    {
     "name": "stderr",
     "output_type": "stream",
     "text": [
      "  3%|▎         | 3000/100001 [06:36<2:57:38,  9.10it/s]"
     ]
    },
    {
     "name": "stdout",
     "output_type": "stream",
     "text": [
      "GAN: loss d: 2.50212    loss g: -2.36073\n",
      "saving current model\n"
     ]
    },
    {
     "name": "stderr",
     "output_type": "stream",
     "text": [
      "\n",
      "\n",
      "  0%|          | 0/195 [00:00<?, ?it/s]\u001b[A\u001b[A"
     ]
    },
    {
     "name": "stdout",
     "output_type": "stream",
     "text": [
      "Number of real images: 6252\n"
     ]
    },
    {
     "name": "stderr",
     "output_type": "stream",
     "text": [
      "\n",
      "\n",
      "\n",
      "  0%|          | 0/15 [00:00<?, ?it/s]\u001b[A\u001b[A\u001b[A"
     ]
    },
    {
     "name": "stdout",
     "output_type": "stream",
     "text": [
      "Number of synthetic images: 500\n"
     ]
    },
    {
     "name": "stderr",
     "output_type": "stream",
     "text": [
      "  3%|▎         | 3002/100001 [06:57<124:29:44,  4.62s/it]"
     ]
    },
    {
     "name": "stdout",
     "output_type": "stream",
     "text": [
      "Current fid score: 2.4992711961120584\n",
      "Fid scores: [4.781169086965528, 2.5563023530045648, 2.463046801314256, 2.4992711961120584]\n"
     ]
    },
    {
     "name": "stderr",
     "output_type": "stream",
     "text": [
      "  0%|          | 0/195 [00:16<?, ?it/s]2:21,  9.37it/s]  \n",
      "  0%|          | 0/15 [00:07<?, ?it/s]\n",
      "  3%|▎         | 3101/100001 [07:08<3:00:57,  8.92it/s]"
     ]
    },
    {
     "name": "stdout",
     "output_type": "stream",
     "text": [
      "GAN: loss d: 2.37225    loss g: -2.39837\n"
     ]
    },
    {
     "name": "stderr",
     "output_type": "stream",
     "text": [
      "  3%|▎         | 3203/100001 [07:19<2:50:18,  9.47it/s]"
     ]
    },
    {
     "name": "stdout",
     "output_type": "stream",
     "text": [
      "GAN: loss d: 2.42368    loss g: -2.11451\n"
     ]
    },
    {
     "name": "stderr",
     "output_type": "stream",
     "text": [
      "  3%|▎         | 3301/100001 [07:30<2:57:04,  9.10it/s]"
     ]
    },
    {
     "name": "stdout",
     "output_type": "stream",
     "text": [
      "GAN: loss d: 2.05480    loss g: -1.28093\n"
     ]
    },
    {
     "name": "stderr",
     "output_type": "stream",
     "text": [
      "  3%|▎         | 3401/100001 [07:40<3:01:18,  8.88it/s]"
     ]
    },
    {
     "name": "stdout",
     "output_type": "stream",
     "text": [
      "GAN: loss d: 1.78780    loss g: -2.82454\n"
     ]
    },
    {
     "name": "stderr",
     "output_type": "stream",
     "text": [
      "  4%|▎         | 3503/100001 [07:51<2:48:53,  9.52it/s]"
     ]
    },
    {
     "name": "stdout",
     "output_type": "stream",
     "text": [
      "GAN: loss d: 2.36725    loss g: -2.32822\n"
     ]
    },
    {
     "name": "stderr",
     "output_type": "stream",
     "text": [
      "  4%|▎         | 3601/100001 [08:02<2:59:21,  8.96it/s]"
     ]
    },
    {
     "name": "stdout",
     "output_type": "stream",
     "text": [
      "GAN: loss d: 2.21212    loss g: -2.93407\n"
     ]
    },
    {
     "name": "stderr",
     "output_type": "stream",
     "text": [
      "  4%|▎         | 3701/100001 [08:12<2:58:15,  9.00it/s]"
     ]
    },
    {
     "name": "stdout",
     "output_type": "stream",
     "text": [
      "GAN: loss d: 1.68310    loss g: -1.04325\n"
     ]
    },
    {
     "name": "stderr",
     "output_type": "stream",
     "text": [
      "  4%|▍         | 3803/100001 [08:23<2:47:39,  9.56it/s]"
     ]
    },
    {
     "name": "stdout",
     "output_type": "stream",
     "text": [
      "GAN: loss d: 0.27845    loss g: -1.31149\n"
     ]
    },
    {
     "name": "stderr",
     "output_type": "stream",
     "text": [
      "  4%|▍         | 3901/100001 [08:34<2:57:39,  9.02it/s]"
     ]
    },
    {
     "name": "stdout",
     "output_type": "stream",
     "text": [
      "GAN: loss d: 0.91861    loss g: -2.39474\n"
     ]
    },
    {
     "name": "stderr",
     "output_type": "stream",
     "text": [
      "  4%|▍         | 4000/100001 [08:45<2:49:33,  9.44it/s]"
     ]
    },
    {
     "name": "stdout",
     "output_type": "stream",
     "text": [
      "GAN: loss d: 1.93843    loss g: -1.57695\n",
      "saving current model\n"
     ]
    },
    {
     "name": "stderr",
     "output_type": "stream",
     "text": [
      "\n",
      "\n",
      "  0%|          | 0/195 [00:00<?, ?it/s]\u001b[A\u001b[A"
     ]
    },
    {
     "name": "stdout",
     "output_type": "stream",
     "text": [
      "Number of real images: 6252\n"
     ]
    },
    {
     "name": "stderr",
     "output_type": "stream",
     "text": [
      "\n",
      "\n",
      "\n",
      "  0%|          | 0/15 [00:00<?, ?it/s]\u001b[A\u001b[A\u001b[A"
     ]
    },
    {
     "name": "stdout",
     "output_type": "stream",
     "text": [
      "Number of synthetic images: 500\n"
     ]
    },
    {
     "name": "stderr",
     "output_type": "stream",
     "text": [
      "  0%|          | 0/195 [00:10<?, ?it/s]\n",
      "  0%|          | 0/15 [00:00<?, ?it/s]"
     ]
    },
    {
     "name": "stdout",
     "output_type": "stream",
     "text": [
      "Current fid score: 2.218550049566371\n",
      "Fid scores: [4.781169086965528, 2.5563023530045648, 2.463046801314256, 2.4992711961120584, 2.218550049566371]\n",
      "New min fid score: 2.218550049566\n",
      "Saving best model\n"
     ]
    },
    {
     "name": "stderr",
     "output_type": "stream",
     "text": [
      "\n",
      "  4%|▍         | 4101/100001 [09:20<2:54:23,  9.17it/s]  "
     ]
    },
    {
     "name": "stdout",
     "output_type": "stream",
     "text": [
      "GAN: loss d: 1.86900    loss g: -2.35830\n"
     ]
    },
    {
     "name": "stderr",
     "output_type": "stream",
     "text": [
      "  4%|▍         | 4201/100001 [09:31<2:55:36,  9.09it/s]"
     ]
    },
    {
     "name": "stdout",
     "output_type": "stream",
     "text": [
      "GAN: loss d: 0.45050    loss g: -1.52871\n"
     ]
    },
    {
     "name": "stderr",
     "output_type": "stream",
     "text": [
      "  4%|▍         | 4301/100001 [09:41<2:59:53,  8.87it/s]"
     ]
    },
    {
     "name": "stdout",
     "output_type": "stream",
     "text": [
      "GAN: loss d: 2.46526    loss g: -1.79336\n"
     ]
    },
    {
     "name": "stderr",
     "output_type": "stream",
     "text": [
      "  4%|▍         | 4401/100001 [09:52<2:57:32,  8.97it/s]"
     ]
    },
    {
     "name": "stdout",
     "output_type": "stream",
     "text": [
      "GAN: loss d: -0.06913    loss g: -3.08338\n"
     ]
    },
    {
     "name": "stderr",
     "output_type": "stream",
     "text": [
      "  5%|▍         | 4501/100001 [10:03<2:56:31,  9.02it/s]"
     ]
    },
    {
     "name": "stdout",
     "output_type": "stream",
     "text": [
      "GAN: loss d: 2.12434    loss g: -2.84068\n"
     ]
    },
    {
     "name": "stderr",
     "output_type": "stream",
     "text": [
      "  5%|▍         | 4603/100001 [10:14<2:47:54,  9.47it/s]"
     ]
    },
    {
     "name": "stdout",
     "output_type": "stream",
     "text": [
      "GAN: loss d: 2.44647    loss g: -2.17904\n"
     ]
    },
    {
     "name": "stderr",
     "output_type": "stream",
     "text": [
      "  5%|▍         | 4701/100001 [10:24<2:55:44,  9.04it/s]"
     ]
    },
    {
     "name": "stdout",
     "output_type": "stream",
     "text": [
      "GAN: loss d: 2.79961    loss g: -1.94733\n"
     ]
    },
    {
     "name": "stderr",
     "output_type": "stream",
     "text": [
      "  5%|▍         | 4801/100001 [10:35<2:54:38,  9.09it/s]"
     ]
    },
    {
     "name": "stdout",
     "output_type": "stream",
     "text": [
      "GAN: loss d: -1.38654    loss g: -1.55529\n"
     ]
    },
    {
     "name": "stderr",
     "output_type": "stream",
     "text": [
      "  5%|▍         | 4902/100001 [10:46<2:50:51,  9.28it/s]"
     ]
    },
    {
     "name": "stdout",
     "output_type": "stream",
     "text": [
      "GAN: loss d: 1.92366    loss g: -1.78129\n"
     ]
    },
    {
     "name": "stderr",
     "output_type": "stream",
     "text": [
      "  5%|▍         | 5000/100001 [10:56<2:50:00,  9.31it/s]"
     ]
    },
    {
     "name": "stdout",
     "output_type": "stream",
     "text": [
      "GAN: loss d: 1.75374    loss g: -2.99911\n",
      "saving current model\n"
     ]
    },
    {
     "name": "stderr",
     "output_type": "stream",
     "text": [
      "\n",
      "\n",
      "  0%|          | 0/195 [00:00<?, ?it/s]\u001b[A\u001b[A"
     ]
    },
    {
     "name": "stdout",
     "output_type": "stream",
     "text": [
      "Number of real images: 6252\n"
     ]
    },
    {
     "name": "stderr",
     "output_type": "stream",
     "text": [
      "\n",
      "\n",
      "\n",
      "  0%|          | 0/15 [00:00<?, ?it/s]\u001b[A\u001b[A\u001b[A"
     ]
    },
    {
     "name": "stdout",
     "output_type": "stream",
     "text": [
      "Number of synthetic images: 500\n"
     ]
    },
    {
     "name": "stderr",
     "output_type": "stream",
     "text": [
      "  5%|▌         | 5001/100001 [11:18<173:24:59,  6.57s/it]"
     ]
    },
    {
     "name": "stdout",
     "output_type": "stream",
     "text": [
      "Current fid score: 2.964950268119857\n",
      "Fid scores: [4.781169086965528, 2.5563023530045648, 2.463046801314256, 2.4992711961120584, 2.218550049566371, 2.964950268119857]\n"
     ]
    },
    {
     "name": "stderr",
     "output_type": "stream",
     "text": [
      "  0%|          | 0/195 [00:19<?, ?it/s]8:43,  9.38it/s]  \n",
      "  0%|          | 0/15 [00:09<?, ?it/s]\n",
      "  5%|▌         | 5101/100001 [11:29<2:56:45,  8.95it/s]"
     ]
    },
    {
     "name": "stdout",
     "output_type": "stream",
     "text": [
      "GAN: loss d: 0.26573    loss g: -2.12950\n"
     ]
    },
    {
     "name": "stderr",
     "output_type": "stream",
     "text": [
      "  5%|▌         | 5203/100001 [11:40<2:47:12,  9.45it/s]"
     ]
    },
    {
     "name": "stdout",
     "output_type": "stream",
     "text": [
      "GAN: loss d: 2.01376    loss g: -2.97789\n"
     ]
    },
    {
     "name": "stderr",
     "output_type": "stream",
     "text": [
      "  5%|▌         | 5303/100001 [11:50<2:47:01,  9.45it/s]"
     ]
    },
    {
     "name": "stdout",
     "output_type": "stream",
     "text": [
      "GAN: loss d: 1.00692    loss g: -1.84090\n"
     ]
    },
    {
     "name": "stderr",
     "output_type": "stream",
     "text": [
      "  5%|▌         | 5403/100001 [12:01<2:45:19,  9.54it/s]"
     ]
    },
    {
     "name": "stdout",
     "output_type": "stream",
     "text": [
      "GAN: loss d: 2.68431    loss g: -2.09562\n"
     ]
    },
    {
     "name": "stderr",
     "output_type": "stream",
     "text": [
      "  6%|▌         | 5501/100001 [12:12<2:56:30,  8.92it/s]"
     ]
    },
    {
     "name": "stdout",
     "output_type": "stream",
     "text": [
      "GAN: loss d: -0.41040    loss g: -2.66975\n"
     ]
    },
    {
     "name": "stderr",
     "output_type": "stream",
     "text": [
      "  6%|▌         | 5603/100001 [12:23<2:43:59,  9.59it/s]"
     ]
    },
    {
     "name": "stdout",
     "output_type": "stream",
     "text": [
      "GAN: loss d: 2.84979    loss g: -1.86999\n"
     ]
    },
    {
     "name": "stderr",
     "output_type": "stream",
     "text": [
      "  6%|▌         | 5703/100001 [12:33<2:45:06,  9.52it/s]"
     ]
    },
    {
     "name": "stdout",
     "output_type": "stream",
     "text": [
      "GAN: loss d: -1.51867    loss g: -2.27526\n"
     ]
    },
    {
     "name": "stderr",
     "output_type": "stream",
     "text": [
      "  6%|▌         | 5801/100001 [12:44<2:53:08,  9.07it/s]"
     ]
    },
    {
     "name": "stdout",
     "output_type": "stream",
     "text": [
      "GAN: loss d: 0.76777    loss g: -1.59499\n"
     ]
    },
    {
     "name": "stderr",
     "output_type": "stream",
     "text": [
      "  6%|▌         | 5903/100001 [12:55<2:45:57,  9.45it/s]"
     ]
    },
    {
     "name": "stdout",
     "output_type": "stream",
     "text": [
      "GAN: loss d: 1.48095    loss g: -2.41566\n"
     ]
    },
    {
     "name": "stderr",
     "output_type": "stream",
     "text": [
      "  6%|▌         | 6000/100001 [13:05<2:47:54,  9.33it/s]"
     ]
    },
    {
     "name": "stdout",
     "output_type": "stream",
     "text": [
      "GAN: loss d: 1.50324    loss g: -1.94455\n",
      "saving current model\n"
     ]
    },
    {
     "name": "stderr",
     "output_type": "stream",
     "text": [
      "\n",
      "\n",
      "  0%|          | 0/195 [00:00<?, ?it/s]\u001b[A\u001b[A"
     ]
    },
    {
     "name": "stdout",
     "output_type": "stream",
     "text": [
      "Number of real images: 6252\n"
     ]
    },
    {
     "name": "stderr",
     "output_type": "stream",
     "text": [
      "\n",
      "\n",
      "\n",
      "  0%|          | 0/15 [00:00<?, ?it/s]\u001b[A\u001b[A\u001b[A"
     ]
    },
    {
     "name": "stdout",
     "output_type": "stream",
     "text": [
      "Number of synthetic images: 500\n"
     ]
    },
    {
     "name": "stderr",
     "output_type": "stream",
     "text": [
      "  6%|▌         | 6001/100001 [13:26<170:03:21,  6.51s/it]"
     ]
    },
    {
     "name": "stdout",
     "output_type": "stream",
     "text": [
      "Current fid score: 3.4702528654377076\n",
      "Fid scores: [4.781169086965528, 2.5563023530045648, 2.463046801314256, 2.4992711961120584, 2.218550049566371, 2.964950268119857, 3.4702528654377076]\n"
     ]
    },
    {
     "name": "stderr",
     "output_type": "stream",
     "text": [
      "  0%|          | 0/195 [00:15<?, ?it/s]9:29,  9.24it/s]  \n",
      "  0%|          | 0/15 [00:05<?, ?it/s]\n",
      "  6%|▌         | 6103/100001 [13:37<2:44:18,  9.52it/s]"
     ]
    },
    {
     "name": "stdout",
     "output_type": "stream",
     "text": [
      "GAN: loss d: 2.28627    loss g: -2.06892\n"
     ]
    },
    {
     "name": "stderr",
     "output_type": "stream",
     "text": [
      "  6%|▌         | 6203/100001 [13:48<2:45:06,  9.47it/s]"
     ]
    },
    {
     "name": "stdout",
     "output_type": "stream",
     "text": [
      "GAN: loss d: 2.28305    loss g: -1.49046\n"
     ]
    },
    {
     "name": "stderr",
     "output_type": "stream",
     "text": [
      "  6%|▋         | 6301/100001 [13:59<2:53:46,  8.99it/s]"
     ]
    },
    {
     "name": "stdout",
     "output_type": "stream",
     "text": [
      "GAN: loss d: 1.14322    loss g: -1.08818\n"
     ]
    },
    {
     "name": "stderr",
     "output_type": "stream",
     "text": [
      "  6%|▋         | 6401/100001 [14:09<2:56:01,  8.86it/s]"
     ]
    },
    {
     "name": "stdout",
     "output_type": "stream",
     "text": [
      "GAN: loss d: 2.50853    loss g: -2.13750\n"
     ]
    },
    {
     "name": "stderr",
     "output_type": "stream",
     "text": [
      "  7%|▋         | 6501/100001 [14:20<2:51:02,  9.11it/s]"
     ]
    },
    {
     "name": "stdout",
     "output_type": "stream",
     "text": [
      "GAN: loss d: 1.53559    loss g: -1.57254\n"
     ]
    },
    {
     "name": "stderr",
     "output_type": "stream",
     "text": [
      "  7%|▋         | 6601/100001 [14:31<2:57:49,  8.75it/s]"
     ]
    },
    {
     "name": "stdout",
     "output_type": "stream",
     "text": [
      "GAN: loss d: 1.59413    loss g: -2.01964\n"
     ]
    },
    {
     "name": "stderr",
     "output_type": "stream",
     "text": [
      "  7%|▋         | 6703/100001 [14:42<2:42:50,  9.55it/s]"
     ]
    },
    {
     "name": "stdout",
     "output_type": "stream",
     "text": [
      "GAN: loss d: 2.41327    loss g: -2.49632\n"
     ]
    },
    {
     "name": "stderr",
     "output_type": "stream",
     "text": [
      "  7%|▋         | 6801/100001 [14:52<2:55:26,  8.85it/s]"
     ]
    },
    {
     "name": "stdout",
     "output_type": "stream",
     "text": [
      "GAN: loss d: 2.72073    loss g: -1.73313\n"
     ]
    },
    {
     "name": "stderr",
     "output_type": "stream",
     "text": [
      "  7%|▋         | 6901/100001 [15:03<2:54:34,  8.89it/s]"
     ]
    },
    {
     "name": "stdout",
     "output_type": "stream",
     "text": [
      "GAN: loss d: 2.12726    loss g: -3.04954\n"
     ]
    },
    {
     "name": "stderr",
     "output_type": "stream",
     "text": [
      "  7%|▋         | 7000/100001 [15:14<2:45:38,  9.36it/s]"
     ]
    },
    {
     "name": "stdout",
     "output_type": "stream",
     "text": [
      "GAN: loss d: 1.94320    loss g: -1.87420\n",
      "saving current model\n"
     ]
    },
    {
     "name": "stderr",
     "output_type": "stream",
     "text": [
      "\n",
      "\n",
      "  0%|          | 0/195 [00:00<?, ?it/s]\u001b[A\u001b[A"
     ]
    },
    {
     "name": "stdout",
     "output_type": "stream",
     "text": [
      "Number of real images: 6252\n"
     ]
    },
    {
     "name": "stderr",
     "output_type": "stream",
     "text": [
      "\n",
      "\n",
      "\n",
      "  0%|          | 0/15 [00:00<?, ?it/s]\u001b[A\u001b[A\u001b[A"
     ]
    },
    {
     "name": "stdout",
     "output_type": "stream",
     "text": [
      "Number of synthetic images: 500\n"
     ]
    },
    {
     "name": "stderr",
     "output_type": "stream",
     "text": [
      "  7%|▋         | 7002/100001 [15:35<118:43:27,  4.60s/it]"
     ]
    },
    {
     "name": "stdout",
     "output_type": "stream",
     "text": [
      "Current fid score: 2.613245115961785\n",
      "Fid scores: [4.781169086965528, 2.5563023530045648, 2.463046801314256, 2.4992711961120584, 2.218550049566371, 2.964950268119857, 3.4702528654377076, 2.613245115961785]\n"
     ]
    },
    {
     "name": "stderr",
     "output_type": "stream",
     "text": [
      "  0%|          | 0/195 [00:11<?, ?it/s]43:24,  1.19s/it] \n",
      "  0%|          | 0/15 [00:01<?, ?it/s]\n",
      "  7%|▋         | 7103/100001 [15:46<2:43:44,  9.46it/s] "
     ]
    },
    {
     "name": "stdout",
     "output_type": "stream",
     "text": [
      "GAN: loss d: 1.00858    loss g: -1.54118\n"
     ]
    },
    {
     "name": "stderr",
     "output_type": "stream",
     "text": [
      "  7%|▋         | 7203/100001 [15:57<2:41:59,  9.55it/s]"
     ]
    },
    {
     "name": "stdout",
     "output_type": "stream",
     "text": [
      "GAN: loss d: -0.30318    loss g: -0.93318\n"
     ]
    },
    {
     "name": "stderr",
     "output_type": "stream",
     "text": [
      "  7%|▋         | 7303/100001 [16:08<2:44:06,  9.41it/s]"
     ]
    },
    {
     "name": "stdout",
     "output_type": "stream",
     "text": [
      "GAN: loss d: 1.72790    loss g: -2.58553\n"
     ]
    },
    {
     "name": "stderr",
     "output_type": "stream",
     "text": [
      "  7%|▋         | 7401/100001 [16:18<2:50:57,  9.03it/s]"
     ]
    },
    {
     "name": "stdout",
     "output_type": "stream",
     "text": [
      "GAN: loss d: 2.75472    loss g: -1.20193\n"
     ]
    },
    {
     "name": "stderr",
     "output_type": "stream",
     "text": [
      "  8%|▊         | 7503/100001 [16:29<2:41:14,  9.56it/s]"
     ]
    },
    {
     "name": "stdout",
     "output_type": "stream",
     "text": [
      "GAN: loss d: 0.42361    loss g: -1.60571\n"
     ]
    },
    {
     "name": "stderr",
     "output_type": "stream",
     "text": [
      "  8%|▊         | 7603/100001 [16:40<2:41:30,  9.54it/s]"
     ]
    },
    {
     "name": "stdout",
     "output_type": "stream",
     "text": [
      "GAN: loss d: -0.47841    loss g: -1.61181\n"
     ]
    },
    {
     "name": "stderr",
     "output_type": "stream",
     "text": [
      "  8%|▊         | 7701/100001 [16:50<2:50:55,  9.00it/s]"
     ]
    },
    {
     "name": "stdout",
     "output_type": "stream",
     "text": [
      "GAN: loss d: 1.58884    loss g: -1.33520\n"
     ]
    },
    {
     "name": "stderr",
     "output_type": "stream",
     "text": [
      "  8%|▊         | 7803/100001 [17:01<2:40:39,  9.56it/s]"
     ]
    },
    {
     "name": "stdout",
     "output_type": "stream",
     "text": [
      "GAN: loss d: 3.38349    loss g: -1.37104\n"
     ]
    },
    {
     "name": "stderr",
     "output_type": "stream",
     "text": [
      "  8%|▊         | 7901/100001 [17:12<2:49:14,  9.07it/s]"
     ]
    },
    {
     "name": "stdout",
     "output_type": "stream",
     "text": [
      "GAN: loss d: 1.84010    loss g: -2.17749\n"
     ]
    },
    {
     "name": "stderr",
     "output_type": "stream",
     "text": [
      "  8%|▊         | 8000/100001 [17:22<2:42:10,  9.45it/s]"
     ]
    },
    {
     "name": "stdout",
     "output_type": "stream",
     "text": [
      "GAN: loss d: 1.97770    loss g: -2.07728\n",
      "saving current model\n"
     ]
    },
    {
     "name": "stderr",
     "output_type": "stream",
     "text": [
      "\n",
      "\n",
      "  0%|          | 0/195 [00:00<?, ?it/s]\u001b[A\u001b[A"
     ]
    },
    {
     "name": "stdout",
     "output_type": "stream",
     "text": [
      "Number of real images: 6252\n"
     ]
    },
    {
     "name": "stderr",
     "output_type": "stream",
     "text": [
      "\n",
      "\n",
      "\n",
      "  0%|          | 0/15 [00:00<?, ?it/s]\u001b[A\u001b[A\u001b[A"
     ]
    },
    {
     "name": "stdout",
     "output_type": "stream",
     "text": [
      "Number of synthetic images: 500\n"
     ]
    },
    {
     "name": "stderr",
     "output_type": "stream",
     "text": [
      "  8%|▊         | 8001/100001 [17:44<167:33:37,  6.56s/it]"
     ]
    },
    {
     "name": "stdout",
     "output_type": "stream",
     "text": [
      "Current fid score: 2.34790911689727\n",
      "Fid scores: [4.781169086965528, 2.5563023530045648, 2.463046801314256, 2.4992711961120584, 2.218550049566371, 2.964950268119857, 3.4702528654377076, 2.613245115961785, 2.34790911689727]\n"
     ]
    },
    {
     "name": "stderr",
     "output_type": "stream",
     "text": [
      "  0%|          | 0/195 [00:15<?, ?it/s]4:56,  9.29it/s]  \n",
      "  0%|          | 0/15 [00:05<?, ?it/s]\n",
      "  8%|▊         | 8103/100001 [17:55<2:41:08,  9.50it/s]"
     ]
    },
    {
     "name": "stdout",
     "output_type": "stream",
     "text": [
      "GAN: loss d: 1.58630    loss g: -1.51900\n"
     ]
    },
    {
     "name": "stderr",
     "output_type": "stream",
     "text": [
      "  8%|▊         | 8201/100001 [18:05<2:48:42,  9.07it/s]"
     ]
    },
    {
     "name": "stdout",
     "output_type": "stream",
     "text": [
      "GAN: loss d: 1.29613    loss g: -1.84410\n"
     ]
    },
    {
     "name": "stderr",
     "output_type": "stream",
     "text": [
      "  8%|▊         | 8303/100001 [18:16<2:40:33,  9.52it/s]"
     ]
    },
    {
     "name": "stdout",
     "output_type": "stream",
     "text": [
      "GAN: loss d: -0.52304    loss g: -1.78090\n"
     ]
    },
    {
     "name": "stderr",
     "output_type": "stream",
     "text": [
      "  8%|▊         | 8403/100001 [18:27<2:38:53,  9.61it/s]"
     ]
    },
    {
     "name": "stdout",
     "output_type": "stream",
     "text": [
      "GAN: loss d: 1.58125    loss g: -1.97458\n"
     ]
    },
    {
     "name": "stderr",
     "output_type": "stream",
     "text": [
      "  9%|▊         | 8501/100001 [18:37<2:49:25,  9.00it/s]"
     ]
    },
    {
     "name": "stdout",
     "output_type": "stream",
     "text": [
      "GAN: loss d: 1.24967    loss g: -2.38496\n"
     ]
    },
    {
     "name": "stderr",
     "output_type": "stream",
     "text": [
      "  9%|▊         | 8601/100001 [18:48<2:47:52,  9.07it/s]"
     ]
    },
    {
     "name": "stdout",
     "output_type": "stream",
     "text": [
      "GAN: loss d: 3.15433    loss g: -3.29486\n"
     ]
    },
    {
     "name": "stderr",
     "output_type": "stream",
     "text": [
      "  9%|▊         | 8703/100001 [18:59<2:38:38,  9.59it/s]"
     ]
    },
    {
     "name": "stdout",
     "output_type": "stream",
     "text": [
      "GAN: loss d: 0.88080    loss g: -2.41886\n"
     ]
    },
    {
     "name": "stderr",
     "output_type": "stream",
     "text": [
      "  9%|▉         | 8801/100001 [19:10<2:51:07,  8.88it/s]"
     ]
    },
    {
     "name": "stdout",
     "output_type": "stream",
     "text": [
      "GAN: loss d: 2.22848    loss g: -2.91712\n"
     ]
    },
    {
     "name": "stderr",
     "output_type": "stream",
     "text": [
      "  9%|▉         | 8901/100001 [19:20<2:50:21,  8.91it/s]"
     ]
    },
    {
     "name": "stdout",
     "output_type": "stream",
     "text": [
      "GAN: loss d: 0.27185    loss g: -1.65201\n"
     ]
    },
    {
     "name": "stderr",
     "output_type": "stream",
     "text": [
      "  9%|▉         | 9000/100001 [19:31<2:45:21,  9.17it/s]"
     ]
    },
    {
     "name": "stdout",
     "output_type": "stream",
     "text": [
      "GAN: loss d: 0.68445    loss g: -1.75032\n",
      "saving current model\n"
     ]
    },
    {
     "name": "stderr",
     "output_type": "stream",
     "text": [
      "\n",
      "\n",
      "  0%|          | 0/195 [00:00<?, ?it/s]\u001b[A\u001b[A"
     ]
    },
    {
     "name": "stdout",
     "output_type": "stream",
     "text": [
      "Number of real images: 6252\n"
     ]
    },
    {
     "name": "stderr",
     "output_type": "stream",
     "text": [
      "\n",
      "\n",
      "\n",
      "  0%|          | 0/15 [00:00<?, ?it/s]\u001b[A\u001b[A\u001b[A"
     ]
    },
    {
     "name": "stdout",
     "output_type": "stream",
     "text": [
      "Number of synthetic images: 500\n"
     ]
    },
    {
     "name": "stderr",
     "output_type": "stream",
     "text": [
      "  9%|▉         | 9001/100001 [19:53<166:11:41,  6.57s/it]"
     ]
    },
    {
     "name": "stdout",
     "output_type": "stream",
     "text": [
      "Current fid score: 2.6919041220970037\n",
      "Fid scores: [4.781169086965528, 2.5563023530045648, 2.463046801314256, 2.4992711961120584, 2.218550049566371, 2.964950268119857, 3.4702528654377076, 2.613245115961785, 2.34790911689727, 2.6919041220970037]\n"
     ]
    },
    {
     "name": "stderr",
     "output_type": "stream",
     "text": [
      "  0%|          | 0/195 [00:11<?, ?it/s]34:11,  2.04s/it] \n",
      "  0%|          | 0/15 [00:01<?, ?it/s]\n",
      "  9%|▉         | 9103/100001 [20:04<2:39:35,  9.49it/s] "
     ]
    },
    {
     "name": "stdout",
     "output_type": "stream",
     "text": [
      "GAN: loss d: 1.26770    loss g: -2.19447\n"
     ]
    },
    {
     "name": "stderr",
     "output_type": "stream",
     "text": [
      "  9%|▉         | 9203/100001 [20:14<2:38:28,  9.55it/s]"
     ]
    },
    {
     "name": "stdout",
     "output_type": "stream",
     "text": [
      "GAN: loss d: 1.11560    loss g: -1.50972\n"
     ]
    },
    {
     "name": "stderr",
     "output_type": "stream",
     "text": [
      "  9%|▉         | 9301/100001 [20:25<2:46:27,  9.08it/s]"
     ]
    },
    {
     "name": "stdout",
     "output_type": "stream",
     "text": [
      "GAN: loss d: 1.86389    loss g: -2.83226\n"
     ]
    },
    {
     "name": "stderr",
     "output_type": "stream",
     "text": [
      "  9%|▉         | 9401/100001 [20:35<2:49:03,  8.93it/s]"
     ]
    },
    {
     "name": "stdout",
     "output_type": "stream",
     "text": [
      "GAN: loss d: 3.83755    loss g: -1.81424\n"
     ]
    },
    {
     "name": "stderr",
     "output_type": "stream",
     "text": [
      " 10%|▉         | 9501/100001 [20:46<2:47:40,  9.00it/s]"
     ]
    },
    {
     "name": "stdout",
     "output_type": "stream",
     "text": [
      "GAN: loss d: 2.40403    loss g: -2.40083\n"
     ]
    },
    {
     "name": "stderr",
     "output_type": "stream",
     "text": [
      " 10%|▉         | 9601/100001 [20:57<2:45:14,  9.12it/s]"
     ]
    },
    {
     "name": "stdout",
     "output_type": "stream",
     "text": [
      "GAN: loss d: 3.57484    loss g: -2.03590\n"
     ]
    },
    {
     "name": "stderr",
     "output_type": "stream",
     "text": [
      " 10%|▉         | 9703/100001 [21:08<2:37:28,  9.56it/s]"
     ]
    },
    {
     "name": "stdout",
     "output_type": "stream",
     "text": [
      "GAN: loss d: 1.89941    loss g: -1.65648\n"
     ]
    },
    {
     "name": "stderr",
     "output_type": "stream",
     "text": [
      " 10%|▉         | 9803/100001 [21:19<2:37:55,  9.52it/s]"
     ]
    },
    {
     "name": "stdout",
     "output_type": "stream",
     "text": [
      "GAN: loss d: 2.47202    loss g: -2.46554\n"
     ]
    },
    {
     "name": "stderr",
     "output_type": "stream",
     "text": [
      " 10%|▉         | 9901/100001 [21:29<2:44:10,  9.15it/s]"
     ]
    },
    {
     "name": "stdout",
     "output_type": "stream",
     "text": [
      "GAN: loss d: 4.08292    loss g: -1.44490\n"
     ]
    },
    {
     "name": "stderr",
     "output_type": "stream",
     "text": [
      " 10%|▉         | 10000/100001 [21:40<2:38:31,  9.46it/s]"
     ]
    },
    {
     "name": "stdout",
     "output_type": "stream",
     "text": [
      "GAN: loss d: 2.85564    loss g: -2.79963\n",
      "saving current model\n"
     ]
    },
    {
     "name": "stderr",
     "output_type": "stream",
     "text": [
      "\n",
      "\n",
      "  0%|          | 0/195 [00:00<?, ?it/s]\u001b[A\u001b[A"
     ]
    },
    {
     "name": "stdout",
     "output_type": "stream",
     "text": [
      "Number of real images: 6252\n"
     ]
    },
    {
     "name": "stderr",
     "output_type": "stream",
     "text": [
      "\n",
      "\n",
      "\n",
      "  0%|          | 0/15 [00:00<?, ?it/s]\u001b[A\u001b[A\u001b[A"
     ]
    },
    {
     "name": "stdout",
     "output_type": "stream",
     "text": [
      "Number of synthetic images: 500\n"
     ]
    },
    {
     "name": "stderr",
     "output_type": "stream",
     "text": [
      " 10%|█         | 10001/100001 [22:01<163:23:34,  6.54s/it]"
     ]
    },
    {
     "name": "stdout",
     "output_type": "stream",
     "text": [
      "Current fid score: 2.3144257756644073\n",
      "Fid scores: [4.781169086965528, 2.5563023530045648, 2.463046801314256, 2.4992711961120584, 2.218550049566371, 2.964950268119857, 3.4702528654377076, 2.613245115961785, 2.34790911689727, 2.6919041220970037, 2.3144257756644073]\n"
     ]
    },
    {
     "name": "stderr",
     "output_type": "stream",
     "text": [
      "  0%|          | 0/195 [00:16<?, ?it/s]39:55,  9.37it/s]  \n",
      "  0%|          | 0/15 [00:06<?, ?it/s]\n",
      " 10%|█         | 10102/100001 [22:12<2:43:13,  9.18it/s]"
     ]
    },
    {
     "name": "stdout",
     "output_type": "stream",
     "text": [
      "GAN: loss d: 2.63514    loss g: -2.51396\n"
     ]
    },
    {
     "name": "stderr",
     "output_type": "stream",
     "text": [
      " 10%|█         | 10203/100001 [22:23<2:36:04,  9.59it/s]"
     ]
    },
    {
     "name": "stdout",
     "output_type": "stream",
     "text": [
      "GAN: loss d: 2.75288    loss g: -2.98527\n"
     ]
    },
    {
     "name": "stderr",
     "output_type": "stream",
     "text": [
      " 10%|█         | 10303/100001 [22:34<2:35:52,  9.59it/s]"
     ]
    },
    {
     "name": "stdout",
     "output_type": "stream",
     "text": [
      "GAN: loss d: 1.58117    loss g: -1.99547\n"
     ]
    },
    {
     "name": "stderr",
     "output_type": "stream",
     "text": [
      " 10%|█         | 10401/100001 [22:44<2:46:56,  8.94it/s]"
     ]
    },
    {
     "name": "stdout",
     "output_type": "stream",
     "text": [
      "GAN: loss d: 3.05874    loss g: -2.46672\n"
     ]
    },
    {
     "name": "stderr",
     "output_type": "stream",
     "text": [
      " 11%|█         | 10501/100001 [22:55<2:44:05,  9.09it/s]"
     ]
    },
    {
     "name": "stdout",
     "output_type": "stream",
     "text": [
      "GAN: loss d: 0.91300    loss g: -2.46668\n"
     ]
    },
    {
     "name": "stderr",
     "output_type": "stream",
     "text": [
      " 11%|█         | 10601/100001 [23:06<2:48:55,  8.82it/s]"
     ]
    },
    {
     "name": "stdout",
     "output_type": "stream",
     "text": [
      "GAN: loss d: -0.54821    loss g: -1.49633\n"
     ]
    },
    {
     "name": "stderr",
     "output_type": "stream",
     "text": [
      " 11%|█         | 10701/100001 [23:16<2:47:10,  8.90it/s]"
     ]
    },
    {
     "name": "stdout",
     "output_type": "stream",
     "text": [
      "GAN: loss d: 2.11218    loss g: -2.34341\n"
     ]
    },
    {
     "name": "stderr",
     "output_type": "stream",
     "text": [
      " 11%|█         | 10803/100001 [23:27<2:37:24,  9.44it/s]"
     ]
    },
    {
     "name": "stdout",
     "output_type": "stream",
     "text": [
      "GAN: loss d: 3.22412    loss g: -3.27736\n"
     ]
    },
    {
     "name": "stderr",
     "output_type": "stream",
     "text": [
      " 11%|█         | 10903/100001 [23:38<2:36:30,  9.49it/s]"
     ]
    },
    {
     "name": "stdout",
     "output_type": "stream",
     "text": [
      "GAN: loss d: 4.04967    loss g: -2.23552\n"
     ]
    },
    {
     "name": "stderr",
     "output_type": "stream",
     "text": [
      " 11%|█         | 11000/100001 [23:48<2:36:54,  9.45it/s]"
     ]
    },
    {
     "name": "stdout",
     "output_type": "stream",
     "text": [
      "GAN: loss d: 2.80610    loss g: -2.06656\n",
      "saving current model\n"
     ]
    },
    {
     "name": "stderr",
     "output_type": "stream",
     "text": [
      "\n",
      "\n",
      "  0%|          | 0/195 [00:00<?, ?it/s]\u001b[A\u001b[A"
     ]
    },
    {
     "name": "stdout",
     "output_type": "stream",
     "text": [
      "Number of real images: 6252\n"
     ]
    },
    {
     "name": "stderr",
     "output_type": "stream",
     "text": [
      "\n",
      "\n",
      "\n",
      "  0%|          | 0/15 [00:00<?, ?it/s]\u001b[A\u001b[A\u001b[A"
     ]
    },
    {
     "name": "stdout",
     "output_type": "stream",
     "text": [
      "Number of synthetic images: 500\n"
     ]
    },
    {
     "name": "stderr",
     "output_type": "stream",
     "text": [
      " 11%|█         | 11002/100001 [24:10<113:27:19,  4.59s/it]"
     ]
    },
    {
     "name": "stdout",
     "output_type": "stream",
     "text": [
      "Current fid score: 2.3240966003506536\n",
      "Fid scores: [4.781169086965528, 2.5563023530045648, 2.463046801314256, 2.4992711961120584, 2.218550049566371, 2.964950268119857, 3.4702528654377076, 2.613245115961785, 2.34790911689727, 2.6919041220970037, 2.3144257756644073, 2.3240966003506536]\n"
     ]
    },
    {
     "name": "stderr",
     "output_type": "stream",
     "text": [
      "  0%|          | 0/195 [00:11<?, ?it/s]:12:29,  3.24s/it] \n",
      "  0%|          | 0/15 [00:01<?, ?it/s]\n",
      " 11%|█         | 11103/100001 [24:21<2:39:04,  9.31it/s] "
     ]
    },
    {
     "name": "stdout",
     "output_type": "stream",
     "text": [
      "GAN: loss d: 2.65720    loss g: -1.84916\n"
     ]
    },
    {
     "name": "stderr",
     "output_type": "stream",
     "text": [
      " 11%|█         | 11203/100001 [24:32<2:34:51,  9.56it/s]"
     ]
    },
    {
     "name": "stdout",
     "output_type": "stream",
     "text": [
      "GAN: loss d: 3.09783    loss g: -2.41028\n"
     ]
    },
    {
     "name": "stderr",
     "output_type": "stream",
     "text": [
      " 11%|█▏        | 11303/100001 [24:42<2:36:02,  9.47it/s]"
     ]
    },
    {
     "name": "stdout",
     "output_type": "stream",
     "text": [
      "GAN: loss d: 1.15817    loss g: -1.97179\n"
     ]
    },
    {
     "name": "stderr",
     "output_type": "stream",
     "text": [
      " 11%|█▏        | 11401/100001 [24:53<2:43:19,  9.04it/s]"
     ]
    },
    {
     "name": "stdout",
     "output_type": "stream",
     "text": [
      "GAN: loss d: 1.24422    loss g: -1.71068\n"
     ]
    },
    {
     "name": "stderr",
     "output_type": "stream",
     "text": [
      " 12%|█▏        | 11501/100001 [25:04<2:42:59,  9.05it/s]"
     ]
    },
    {
     "name": "stdout",
     "output_type": "stream",
     "text": [
      "GAN: loss d: 2.21453    loss g: -1.77085\n"
     ]
    },
    {
     "name": "stderr",
     "output_type": "stream",
     "text": [
      " 12%|█▏        | 11603/100001 [25:14<2:34:42,  9.52it/s]"
     ]
    },
    {
     "name": "stdout",
     "output_type": "stream",
     "text": [
      "GAN: loss d: 1.43359    loss g: -1.69829\n"
     ]
    },
    {
     "name": "stderr",
     "output_type": "stream",
     "text": [
      " 12%|█▏        | 11701/100001 [25:25<2:44:55,  8.92it/s]"
     ]
    },
    {
     "name": "stdout",
     "output_type": "stream",
     "text": [
      "GAN: loss d: 1.77445    loss g: -3.46747\n"
     ]
    },
    {
     "name": "stderr",
     "output_type": "stream",
     "text": [
      " 12%|█▏        | 11802/100001 [25:36<2:37:53,  9.31it/s]"
     ]
    },
    {
     "name": "stdout",
     "output_type": "stream",
     "text": [
      "GAN: loss d: 3.05774    loss g: -2.45047\n"
     ]
    },
    {
     "name": "stderr",
     "output_type": "stream",
     "text": [
      " 12%|█▏        | 11903/100001 [25:46<2:35:02,  9.47it/s]"
     ]
    },
    {
     "name": "stdout",
     "output_type": "stream",
     "text": [
      "GAN: loss d: 2.98357    loss g: -3.54704\n"
     ]
    },
    {
     "name": "stderr",
     "output_type": "stream",
     "text": [
      " 12%|█▏        | 12000/100001 [25:57<2:35:16,  9.45it/s]"
     ]
    },
    {
     "name": "stdout",
     "output_type": "stream",
     "text": [
      "GAN: loss d: 1.67627    loss g: -2.43364\n",
      "saving current model\n"
     ]
    },
    {
     "name": "stderr",
     "output_type": "stream",
     "text": [
      "\n",
      "\n",
      "  0%|          | 0/195 [00:00<?, ?it/s]\u001b[A\u001b[A"
     ]
    },
    {
     "name": "stdout",
     "output_type": "stream",
     "text": [
      "Number of real images: 6252\n"
     ]
    },
    {
     "name": "stderr",
     "output_type": "stream",
     "text": [
      "\n",
      "\n",
      "\n",
      "  0%|          | 0/15 [00:00<?, ?it/s]\u001b[A\u001b[A\u001b[A"
     ]
    },
    {
     "name": "stdout",
     "output_type": "stream",
     "text": [
      "Number of synthetic images: 500\n"
     ]
    },
    {
     "name": "stderr",
     "output_type": "stream",
     "text": [
      "  0%|          | 0/195 [00:10<?, ?it/s]\n",
      "  0%|          | 0/15 [00:00<?, ?it/s]"
     ]
    },
    {
     "name": "stdout",
     "output_type": "stream",
     "text": [
      "Current fid score: 1.993653403354564\n",
      "Fid scores: [4.781169086965528, 2.5563023530045648, 2.463046801314256, 2.4992711961120584, 2.218550049566371, 2.964950268119857, 3.4702528654377076, 2.613245115961785, 2.34790911689727, 2.6919041220970037, 2.3144257756644073, 2.3240966003506536, 1.993653403354564]\n",
      "New min fid score: 1.993653403355\n",
      "Saving best model\n"
     ]
    },
    {
     "name": "stderr",
     "output_type": "stream",
     "text": [
      "\n",
      " 12%|█▏        | 12103/100001 [26:33<2:35:03,  9.45it/s]  "
     ]
    },
    {
     "name": "stdout",
     "output_type": "stream",
     "text": [
      "GAN: loss d: 1.87715    loss g: -2.27072\n"
     ]
    },
    {
     "name": "stderr",
     "output_type": "stream",
     "text": [
      " 12%|█▏        | 12201/100001 [26:43<2:42:01,  9.03it/s]"
     ]
    },
    {
     "name": "stdout",
     "output_type": "stream",
     "text": [
      "GAN: loss d: 1.66552    loss g: -2.92092\n"
     ]
    },
    {
     "name": "stderr",
     "output_type": "stream",
     "text": [
      " 12%|█▏        | 12301/100001 [26:54<2:38:46,  9.21it/s]"
     ]
    },
    {
     "name": "stdout",
     "output_type": "stream",
     "text": [
      "GAN: loss d: -0.67573    loss g: -0.42641\n"
     ]
    },
    {
     "name": "stderr",
     "output_type": "stream",
     "text": [
      " 12%|█▏        | 12403/100001 [27:05<2:36:25,  9.33it/s]"
     ]
    },
    {
     "name": "stdout",
     "output_type": "stream",
     "text": [
      "GAN: loss d: 0.86001    loss g: -2.41170\n"
     ]
    },
    {
     "name": "stderr",
     "output_type": "stream",
     "text": [
      " 13%|█▎        | 12503/100001 [27:15<2:33:38,  9.49it/s]"
     ]
    },
    {
     "name": "stdout",
     "output_type": "stream",
     "text": [
      "GAN: loss d: 3.81342    loss g: -2.89942\n"
     ]
    },
    {
     "name": "stderr",
     "output_type": "stream",
     "text": [
      " 13%|█▎        | 12601/100001 [27:26<2:42:48,  8.95it/s]"
     ]
    },
    {
     "name": "stdout",
     "output_type": "stream",
     "text": [
      "GAN: loss d: 4.27850    loss g: -2.44286\n"
     ]
    },
    {
     "name": "stderr",
     "output_type": "stream",
     "text": [
      " 13%|█▎        | 12703/100001 [27:37<2:33:24,  9.48it/s]"
     ]
    },
    {
     "name": "stdout",
     "output_type": "stream",
     "text": [
      "GAN: loss d: 4.10741    loss g: -2.49000\n"
     ]
    },
    {
     "name": "stderr",
     "output_type": "stream",
     "text": [
      " 13%|█▎        | 12801/100001 [27:47<2:39:55,  9.09it/s]"
     ]
    },
    {
     "name": "stdout",
     "output_type": "stream",
     "text": [
      "GAN: loss d: 1.13625    loss g: -2.45995\n"
     ]
    },
    {
     "name": "stderr",
     "output_type": "stream",
     "text": [
      " 13%|█▎        | 12903/100001 [27:58<2:31:50,  9.56it/s]"
     ]
    },
    {
     "name": "stdout",
     "output_type": "stream",
     "text": [
      "GAN: loss d: 1.22803    loss g: -2.63769\n"
     ]
    },
    {
     "name": "stderr",
     "output_type": "stream",
     "text": [
      " 13%|█▎        | 13000/100001 [28:09<2:36:20,  9.27it/s]"
     ]
    },
    {
     "name": "stdout",
     "output_type": "stream",
     "text": [
      "GAN: loss d: 1.71791    loss g: -2.97292\n",
      "saving current model\n"
     ]
    },
    {
     "name": "stderr",
     "output_type": "stream",
     "text": [
      "\n",
      "\n",
      "  0%|          | 0/195 [00:00<?, ?it/s]\u001b[A\u001b[A"
     ]
    },
    {
     "name": "stdout",
     "output_type": "stream",
     "text": [
      "Number of real images: 6252\n"
     ]
    },
    {
     "name": "stderr",
     "output_type": "stream",
     "text": [
      "\n",
      "\n",
      "\n",
      "  0%|          | 0/15 [00:00<?, ?it/s]\u001b[A\u001b[A\u001b[A"
     ]
    },
    {
     "name": "stdout",
     "output_type": "stream",
     "text": [
      "Number of synthetic images: 500\n"
     ]
    },
    {
     "name": "stderr",
     "output_type": "stream",
     "text": [
      " 13%|█▎        | 13002/100001 [28:30<110:12:59,  4.56s/it]"
     ]
    },
    {
     "name": "stdout",
     "output_type": "stream",
     "text": [
      "Current fid score: 2.697158487724515\n",
      "Fid scores: [4.781169086965528, 2.5563023530045648, 2.463046801314256, 2.4992711961120584, 2.218550049566371, 2.964950268119857, 3.4702528654377076, 2.613245115961785, 2.34790911689727, 2.6919041220970037, 2.3144257756644073, 2.3240966003506536, 1.993653403354564, 2.697158487724515]\n"
     ]
    },
    {
     "name": "stderr",
     "output_type": "stream",
     "text": [
      "  0%|          | 0/195 [00:10<?, ?it/s]:55:52,  3.22s/it] \n",
      "  0%|          | 0/15 [00:01<?, ?it/s]\n",
      " 13%|█▎        | 13101/100001 [28:41<2:45:16,  8.76it/s] "
     ]
    },
    {
     "name": "stdout",
     "output_type": "stream",
     "text": [
      "GAN: loss d: -0.03435    loss g: -2.63270\n"
     ]
    },
    {
     "name": "stderr",
     "output_type": "stream",
     "text": [
      " 13%|█▎        | 13201/100001 [28:51<2:42:25,  8.91it/s]"
     ]
    },
    {
     "name": "stdout",
     "output_type": "stream",
     "text": [
      "GAN: loss d: 2.45452    loss g: -2.25986\n"
     ]
    },
    {
     "name": "stderr",
     "output_type": "stream",
     "text": [
      " 13%|█▎        | 13302/100001 [29:02<2:38:25,  9.12it/s]"
     ]
    },
    {
     "name": "stdout",
     "output_type": "stream",
     "text": [
      "GAN: loss d: 2.82129    loss g: -1.84782\n"
     ]
    },
    {
     "name": "stderr",
     "output_type": "stream",
     "text": [
      " 13%|█▎        | 13403/100001 [29:13<2:30:41,  9.58it/s]"
     ]
    },
    {
     "name": "stdout",
     "output_type": "stream",
     "text": [
      "GAN: loss d: 3.42432    loss g: -3.25162\n"
     ]
    },
    {
     "name": "stderr",
     "output_type": "stream",
     "text": [
      " 14%|█▎        | 13503/100001 [29:24<2:31:00,  9.55it/s]"
     ]
    },
    {
     "name": "stdout",
     "output_type": "stream",
     "text": [
      "GAN: loss d: 2.63741    loss g: -3.27637\n"
     ]
    },
    {
     "name": "stderr",
     "output_type": "stream",
     "text": [
      " 14%|█▎        | 13601/100001 [29:34<2:40:49,  8.95it/s]"
     ]
    },
    {
     "name": "stdout",
     "output_type": "stream",
     "text": [
      "GAN: loss d: 2.07978    loss g: -3.12393\n"
     ]
    },
    {
     "name": "stderr",
     "output_type": "stream",
     "text": [
      " 14%|█▎        | 13701/100001 [29:45<2:42:43,  8.84it/s]"
     ]
    },
    {
     "name": "stdout",
     "output_type": "stream",
     "text": [
      "GAN: loss d: 1.54101    loss g: -2.87125\n"
     ]
    },
    {
     "name": "stderr",
     "output_type": "stream",
     "text": [
      " 14%|█▍        | 13801/100001 [29:56<2:40:44,  8.94it/s]"
     ]
    },
    {
     "name": "stdout",
     "output_type": "stream",
     "text": [
      "GAN: loss d: 3.23495    loss g: -3.34888\n"
     ]
    },
    {
     "name": "stderr",
     "output_type": "stream",
     "text": [
      " 14%|█▍        | 13902/100001 [30:07<2:34:56,  9.26it/s]"
     ]
    },
    {
     "name": "stdout",
     "output_type": "stream",
     "text": [
      "GAN: loss d: 2.94916    loss g: -3.17805\n"
     ]
    },
    {
     "name": "stderr",
     "output_type": "stream",
     "text": [
      " 14%|█▍        | 14000/100001 [30:17<2:32:05,  9.42it/s]"
     ]
    },
    {
     "name": "stdout",
     "output_type": "stream",
     "text": [
      "GAN: loss d: 2.82251    loss g: -2.67575\n",
      "saving current model\n"
     ]
    },
    {
     "name": "stderr",
     "output_type": "stream",
     "text": [
      "\n",
      "\n",
      "  0%|          | 0/195 [00:00<?, ?it/s]\u001b[A\u001b[A"
     ]
    },
    {
     "name": "stdout",
     "output_type": "stream",
     "text": [
      "Number of real images: 6252\n"
     ]
    },
    {
     "name": "stderr",
     "output_type": "stream",
     "text": [
      "\n",
      "\n",
      "\n",
      "  0%|          | 0/15 [00:00<?, ?it/s]\u001b[A\u001b[A\u001b[A"
     ]
    },
    {
     "name": "stdout",
     "output_type": "stream",
     "text": [
      "Number of synthetic images: 500\n"
     ]
    },
    {
     "name": "stderr",
     "output_type": "stream",
     "text": [
      "  0%|          | 0/195 [00:10<?, ?it/s]\n",
      "  0%|          | 0/15 [00:00<?, ?it/s]"
     ]
    },
    {
     "name": "stdout",
     "output_type": "stream",
     "text": [
      "Current fid score: 1.7994096039010472\n",
      "Fid scores: [4.781169086965528, 2.5563023530045648, 2.463046801314256, 2.4992711961120584, 2.218550049566371, 2.964950268119857, 3.4702528654377076, 2.613245115961785, 2.34790911689727, 2.6919041220970037, 2.3144257756644073, 2.3240966003506536, 1.993653403354564, 2.697158487724515, 1.7994096039010472]\n",
      "New min fid score: 1.799409603901\n",
      "Saving best model\n"
     ]
    },
    {
     "name": "stderr",
     "output_type": "stream",
     "text": [
      "\n",
      " 14%|█▍        | 14101/100001 [30:52<2:39:02,  9.00it/s]  "
     ]
    },
    {
     "name": "stdout",
     "output_type": "stream",
     "text": [
      "GAN: loss d: 2.85359    loss g: -2.90154\n"
     ]
    },
    {
     "name": "stderr",
     "output_type": "stream",
     "text": [
      " 14%|█▍        | 14203/100001 [31:03<2:30:02,  9.53it/s]"
     ]
    },
    {
     "name": "stdout",
     "output_type": "stream",
     "text": [
      "GAN: loss d: 4.29075    loss g: -3.50490\n"
     ]
    },
    {
     "name": "stderr",
     "output_type": "stream",
     "text": [
      " 14%|█▍        | 14301/100001 [31:14<2:40:11,  8.92it/s]"
     ]
    },
    {
     "name": "stdout",
     "output_type": "stream",
     "text": [
      "GAN: loss d: 4.50983    loss g: -3.13362\n"
     ]
    },
    {
     "name": "stderr",
     "output_type": "stream",
     "text": [
      " 14%|█▍        | 14403/100001 [31:25<2:30:09,  9.50it/s]"
     ]
    },
    {
     "name": "stdout",
     "output_type": "stream",
     "text": [
      "GAN: loss d: 3.68738    loss g: -3.21457\n"
     ]
    },
    {
     "name": "stderr",
     "output_type": "stream",
     "text": [
      " 15%|█▍        | 14502/100001 [31:35<2:35:21,  9.17it/s]"
     ]
    },
    {
     "name": "stdout",
     "output_type": "stream",
     "text": [
      "GAN: loss d: 2.41647    loss g: -2.96403\n"
     ]
    },
    {
     "name": "stderr",
     "output_type": "stream",
     "text": [
      " 15%|█▍        | 14601/100001 [31:46<2:38:29,  8.98it/s]"
     ]
    },
    {
     "name": "stdout",
     "output_type": "stream",
     "text": [
      "GAN: loss d: 3.48201    loss g: -3.26794\n"
     ]
    },
    {
     "name": "stderr",
     "output_type": "stream",
     "text": [
      " 15%|█▍        | 14703/100001 [31:57<2:30:28,  9.45it/s]"
     ]
    },
    {
     "name": "stdout",
     "output_type": "stream",
     "text": [
      "GAN: loss d: 2.87819    loss g: -2.60713\n"
     ]
    },
    {
     "name": "stderr",
     "output_type": "stream",
     "text": [
      " 15%|█▍        | 14801/100001 [32:07<2:40:38,  8.84it/s]"
     ]
    },
    {
     "name": "stdout",
     "output_type": "stream",
     "text": [
      "GAN: loss d: 4.00435    loss g: -2.40892\n"
     ]
    },
    {
     "name": "stderr",
     "output_type": "stream",
     "text": [
      " 15%|█▍        | 14903/100001 [32:18<2:30:55,  9.40it/s]"
     ]
    },
    {
     "name": "stdout",
     "output_type": "stream",
     "text": [
      "GAN: loss d: 3.24125    loss g: -3.85679\n"
     ]
    },
    {
     "name": "stderr",
     "output_type": "stream",
     "text": [
      " 15%|█▍        | 15000/100001 [32:29<2:28:12,  9.56it/s]"
     ]
    },
    {
     "name": "stdout",
     "output_type": "stream",
     "text": [
      "GAN: loss d: 2.73605    loss g: -3.20691\n",
      "saving current model\n"
     ]
    },
    {
     "name": "stderr",
     "output_type": "stream",
     "text": [
      "\n",
      "\n",
      "  0%|          | 0/195 [00:00<?, ?it/s]\u001b[A\u001b[A"
     ]
    },
    {
     "name": "stdout",
     "output_type": "stream",
     "text": [
      "Number of real images: 6252\n"
     ]
    },
    {
     "name": "stderr",
     "output_type": "stream",
     "text": [
      "\n",
      "\n",
      "\n",
      "  0%|          | 0/15 [00:00<?, ?it/s]\u001b[A\u001b[A\u001b[A"
     ]
    },
    {
     "name": "stdout",
     "output_type": "stream",
     "text": [
      "Number of synthetic images: 500\n"
     ]
    },
    {
     "name": "stderr",
     "output_type": "stream",
     "text": [
      " 15%|█▌        | 15001/100001 [32:50<153:55:24,  6.52s/it]"
     ]
    },
    {
     "name": "stdout",
     "output_type": "stream",
     "text": [
      "Current fid score: 2.91434783406185\n",
      "Fid scores: [4.781169086965528, 2.5563023530045648, 2.463046801314256, 2.4992711961120584, 2.218550049566371, 2.964950268119857, 3.4702528654377076, 2.613245115961785, 2.34790911689727, 2.6919041220970037, 2.3144257756644073, 2.3240966003506536, 1.993653403354564, 2.697158487724515, 1.7994096039010472, 2.91434783406185]\n"
     ]
    },
    {
     "name": "stderr",
     "output_type": "stream",
     "text": [
      "  0%|          | 0/195 [00:15<?, ?it/s]32:00,  9.31it/s]  \n",
      "  0%|          | 0/15 [00:05<?, ?it/s]\n",
      " 15%|█▌        | 15103/100001 [33:01<2:29:56,  9.44it/s]"
     ]
    },
    {
     "name": "stdout",
     "output_type": "stream",
     "text": [
      "GAN: loss d: 2.09112    loss g: -2.27686\n"
     ]
    },
    {
     "name": "stderr",
     "output_type": "stream",
     "text": [
      " 15%|█▌        | 15201/100001 [33:12<2:34:28,  9.15it/s]"
     ]
    },
    {
     "name": "stdout",
     "output_type": "stream",
     "text": [
      "GAN: loss d: 2.82536    loss g: -2.94742\n"
     ]
    },
    {
     "name": "stderr",
     "output_type": "stream",
     "text": [
      " 15%|█▌        | 15303/100001 [33:23<2:29:02,  9.47it/s]"
     ]
    },
    {
     "name": "stdout",
     "output_type": "stream",
     "text": [
      "GAN: loss d: 3.92893    loss g: -2.56059\n"
     ]
    },
    {
     "name": "stderr",
     "output_type": "stream",
     "text": [
      " 15%|█▌        | 15403/100001 [33:33<2:27:40,  9.55it/s]"
     ]
    },
    {
     "name": "stdout",
     "output_type": "stream",
     "text": [
      "GAN: loss d: 3.48458    loss g: -2.58281\n"
     ]
    },
    {
     "name": "stderr",
     "output_type": "stream",
     "text": [
      " 16%|█▌        | 15503/100001 [33:44<2:26:36,  9.61it/s]"
     ]
    },
    {
     "name": "stdout",
     "output_type": "stream",
     "text": [
      "GAN: loss d: 3.02661    loss g: -2.76005\n"
     ]
    },
    {
     "name": "stderr",
     "output_type": "stream",
     "text": [
      " 16%|█▌        | 15601/100001 [33:54<2:35:21,  9.05it/s]"
     ]
    },
    {
     "name": "stdout",
     "output_type": "stream",
     "text": [
      "GAN: loss d: 3.23205    loss g: -2.57851\n"
     ]
    },
    {
     "name": "stderr",
     "output_type": "stream",
     "text": [
      " 16%|█▌        | 15701/100001 [34:05<2:33:25,  9.16it/s]"
     ]
    },
    {
     "name": "stdout",
     "output_type": "stream",
     "text": [
      "GAN: loss d: 4.09810    loss g: -2.74188\n"
     ]
    },
    {
     "name": "stderr",
     "output_type": "stream",
     "text": [
      " 16%|█▌        | 15801/100001 [34:16<2:37:24,  8.91it/s]"
     ]
    },
    {
     "name": "stdout",
     "output_type": "stream",
     "text": [
      "GAN: loss d: 1.90882    loss g: -2.47860\n"
     ]
    },
    {
     "name": "stderr",
     "output_type": "stream",
     "text": [
      " 16%|█▌        | 15903/100001 [34:27<2:30:07,  9.34it/s]"
     ]
    },
    {
     "name": "stdout",
     "output_type": "stream",
     "text": [
      "GAN: loss d: 2.29393    loss g: -2.01466\n"
     ]
    },
    {
     "name": "stderr",
     "output_type": "stream",
     "text": [
      " 16%|█▌        | 16000/100001 [34:37<2:30:55,  9.28it/s]"
     ]
    },
    {
     "name": "stdout",
     "output_type": "stream",
     "text": [
      "GAN: loss d: 3.40224    loss g: -2.98492\n",
      "saving current model\n"
     ]
    },
    {
     "name": "stderr",
     "output_type": "stream",
     "text": [
      "\n",
      "\n",
      "  0%|          | 0/195 [00:00<?, ?it/s]\u001b[A\u001b[A"
     ]
    },
    {
     "name": "stdout",
     "output_type": "stream",
     "text": [
      "Number of real images: 6252\n"
     ]
    },
    {
     "name": "stderr",
     "output_type": "stream",
     "text": [
      "\n",
      "\n",
      "\n",
      "  0%|          | 0/15 [00:00<?, ?it/s]\u001b[A\u001b[A\u001b[A"
     ]
    },
    {
     "name": "stdout",
     "output_type": "stream",
     "text": [
      "Number of synthetic images: 500\n"
     ]
    },
    {
     "name": "stderr",
     "output_type": "stream",
     "text": [
      " 16%|█▌        | 16002/100001 [34:59<107:10:00,  4.59s/it]"
     ]
    },
    {
     "name": "stdout",
     "output_type": "stream",
     "text": [
      "Current fid score: 2.7811489268397516\n",
      "Fid scores: [4.781169086965528, 2.5563023530045648, 2.463046801314256, 2.4992711961120584, 2.218550049566371, 2.964950268119857, 3.4702528654377076, 2.613245115961785, 2.34790911689727, 2.6919041220970037, 2.3144257756644073, 2.3240966003506536, 1.993653403354564, 2.697158487724515, 1.7994096039010472, 2.91434783406185, 2.7811489268397516]\n"
     ]
    },
    {
     "name": "stderr",
     "output_type": "stream",
     "text": [
      "  0%|          | 0/195 [00:19<?, ?it/s]31:58,  9.20it/s]  \n",
      "  0%|          | 0/15 [00:09<?, ?it/s]\n",
      " 16%|█▌        | 16102/100001 [35:10<2:37:39,  8.87it/s]"
     ]
    },
    {
     "name": "stdout",
     "output_type": "stream",
     "text": [
      "GAN: loss d: 4.10797    loss g: -2.78467\n"
     ]
    },
    {
     "name": "stderr",
     "output_type": "stream",
     "text": [
      " 16%|█▌        | 16201/100001 [35:20<2:33:47,  9.08it/s]"
     ]
    },
    {
     "name": "stdout",
     "output_type": "stream",
     "text": [
      "GAN: loss d: 1.37459    loss g: -2.61999\n"
     ]
    },
    {
     "name": "stderr",
     "output_type": "stream",
     "text": [
      " 16%|█▋        | 16301/100001 [35:31<2:36:58,  8.89it/s]"
     ]
    },
    {
     "name": "stdout",
     "output_type": "stream",
     "text": [
      "GAN: loss d: 3.38353    loss g: -2.20961\n"
     ]
    },
    {
     "name": "stderr",
     "output_type": "stream",
     "text": [
      " 16%|█▋        | 16401/100001 [35:42<2:32:51,  9.12it/s]"
     ]
    },
    {
     "name": "stdout",
     "output_type": "stream",
     "text": [
      "GAN: loss d: 2.81546    loss g: -2.40517\n"
     ]
    },
    {
     "name": "stderr",
     "output_type": "stream",
     "text": [
      " 17%|█▋        | 16501/100001 [35:52<2:34:56,  8.98it/s]"
     ]
    },
    {
     "name": "stdout",
     "output_type": "stream",
     "text": [
      "GAN: loss d: 2.75252    loss g: -2.57830\n"
     ]
    },
    {
     "name": "stderr",
     "output_type": "stream",
     "text": [
      " 17%|█▋        | 16601/100001 [36:03<2:35:02,  8.97it/s]"
     ]
    },
    {
     "name": "stdout",
     "output_type": "stream",
     "text": [
      "GAN: loss d: 3.62996    loss g: -2.28415\n"
     ]
    },
    {
     "name": "stderr",
     "output_type": "stream",
     "text": [
      " 17%|█▋        | 16703/100001 [36:14<2:25:46,  9.52it/s]"
     ]
    },
    {
     "name": "stdout",
     "output_type": "stream",
     "text": [
      "GAN: loss d: 2.21121    loss g: -2.36257\n"
     ]
    },
    {
     "name": "stderr",
     "output_type": "stream",
     "text": [
      " 17%|█▋        | 16801/100001 [36:25<2:35:42,  8.91it/s]"
     ]
    },
    {
     "name": "stdout",
     "output_type": "stream",
     "text": [
      "GAN: loss d: 2.44735    loss g: -1.87408\n"
     ]
    },
    {
     "name": "stderr",
     "output_type": "stream",
     "text": [
      " 17%|█▋        | 16901/100001 [36:35<2:35:58,  8.88it/s]"
     ]
    },
    {
     "name": "stdout",
     "output_type": "stream",
     "text": [
      "GAN: loss d: 2.24710    loss g: -2.49971\n"
     ]
    },
    {
     "name": "stderr",
     "output_type": "stream",
     "text": [
      " 17%|█▋        | 17000/100001 [36:46<2:26:32,  9.44it/s]"
     ]
    },
    {
     "name": "stdout",
     "output_type": "stream",
     "text": [
      "GAN: loss d: 3.78003    loss g: -2.65133\n",
      "saving current model\n"
     ]
    },
    {
     "name": "stderr",
     "output_type": "stream",
     "text": [
      "\n",
      "\n",
      "  0%|          | 0/195 [00:00<?, ?it/s]\u001b[A\u001b[A"
     ]
    },
    {
     "name": "stdout",
     "output_type": "stream",
     "text": [
      "Number of real images: 6252\n"
     ]
    },
    {
     "name": "stderr",
     "output_type": "stream",
     "text": [
      "\n",
      "\n",
      "\n",
      "  0%|          | 0/15 [00:00<?, ?it/s]\u001b[A\u001b[A\u001b[A"
     ]
    },
    {
     "name": "stdout",
     "output_type": "stream",
     "text": [
      "Number of synthetic images: 500\n"
     ]
    },
    {
     "name": "stderr",
     "output_type": "stream",
     "text": [
      " 17%|█▋        | 17002/100001 [37:08<106:45:52,  4.63s/it]"
     ]
    },
    {
     "name": "stdout",
     "output_type": "stream",
     "text": [
      "Current fid score: 2.2334427836959794\n",
      "Fid scores: [4.781169086965528, 2.5563023530045648, 2.463046801314256, 2.4992711961120584, 2.218550049566371, 2.964950268119857, 3.4702528654377076, 2.613245115961785, 2.34790911689727, 2.6919041220970037, 2.3144257756644073, 2.3240966003506536, 1.993653403354564, 2.697158487724515, 1.7994096039010472, 2.91434783406185, 2.7811489268397516, 2.2334427836959794]\n"
     ]
    },
    {
     "name": "stderr",
     "output_type": "stream",
     "text": [
      "  0%|          | 0/195 [00:15<?, ?it/s]27:49,  9.35it/s]  \n",
      "  0%|          | 0/15 [00:05<?, ?it/s]\n",
      " 17%|█▋        | 17101/100001 [37:18<2:35:25,  8.89it/s]"
     ]
    },
    {
     "name": "stdout",
     "output_type": "stream",
     "text": [
      "GAN: loss d: 2.82460    loss g: -2.55229\n"
     ]
    },
    {
     "name": "stderr",
     "output_type": "stream",
     "text": [
      " 17%|█▋        | 17201/100001 [37:29<2:31:47,  9.09it/s]"
     ]
    },
    {
     "name": "stdout",
     "output_type": "stream",
     "text": [
      "GAN: loss d: 2.67245    loss g: -2.31812\n"
     ]
    },
    {
     "name": "stderr",
     "output_type": "stream",
     "text": [
      " 17%|█▋        | 17302/100001 [37:40<2:27:47,  9.33it/s]"
     ]
    },
    {
     "name": "stdout",
     "output_type": "stream",
     "text": [
      "GAN: loss d: 3.08588    loss g: -2.32002\n"
     ]
    },
    {
     "name": "stderr",
     "output_type": "stream",
     "text": [
      " 17%|█▋        | 17401/100001 [37:51<2:31:58,  9.06it/s]"
     ]
    },
    {
     "name": "stdout",
     "output_type": "stream",
     "text": [
      "GAN: loss d: 1.65284    loss g: -2.11139\n"
     ]
    },
    {
     "name": "stderr",
     "output_type": "stream",
     "text": [
      " 18%|█▊        | 17501/100001 [38:01<2:35:28,  8.84it/s]"
     ]
    },
    {
     "name": "stdout",
     "output_type": "stream",
     "text": [
      "GAN: loss d: 2.24451    loss g: -2.37264\n"
     ]
    },
    {
     "name": "stderr",
     "output_type": "stream",
     "text": [
      " 18%|█▊        | 17601/100001 [38:12<2:33:21,  8.96it/s]"
     ]
    },
    {
     "name": "stdout",
     "output_type": "stream",
     "text": [
      "GAN: loss d: 3.58705    loss g: -2.67363\n"
     ]
    },
    {
     "name": "stderr",
     "output_type": "stream",
     "text": [
      " 18%|█▊        | 17703/100001 [38:23<2:25:20,  9.44it/s]"
     ]
    },
    {
     "name": "stdout",
     "output_type": "stream",
     "text": [
      "GAN: loss d: 2.43371    loss g: -2.14516\n"
     ]
    },
    {
     "name": "stderr",
     "output_type": "stream",
     "text": [
      " 18%|█▊        | 17801/100001 [38:34<2:31:14,  9.06it/s]"
     ]
    },
    {
     "name": "stdout",
     "output_type": "stream",
     "text": [
      "GAN: loss d: 3.83973    loss g: -2.86565\n"
     ]
    },
    {
     "name": "stderr",
     "output_type": "stream",
     "text": [
      " 18%|█▊        | 17903/100001 [38:45<2:22:43,  9.59it/s]"
     ]
    },
    {
     "name": "stdout",
     "output_type": "stream",
     "text": [
      "GAN: loss d: 4.07985    loss g: -2.62701\n"
     ]
    },
    {
     "name": "stderr",
     "output_type": "stream",
     "text": [
      " 18%|█▊        | 18000/100001 [38:55<2:24:57,  9.43it/s]"
     ]
    },
    {
     "name": "stdout",
     "output_type": "stream",
     "text": [
      "GAN: loss d: 2.67455    loss g: -2.22377\n",
      "saving current model\n"
     ]
    },
    {
     "name": "stderr",
     "output_type": "stream",
     "text": [
      "\n",
      "\n",
      "  0%|          | 0/195 [00:00<?, ?it/s]\u001b[A\u001b[A"
     ]
    },
    {
     "name": "stdout",
     "output_type": "stream",
     "text": [
      "Number of real images: 6252\n"
     ]
    },
    {
     "name": "stderr",
     "output_type": "stream",
     "text": [
      "\n",
      "\n",
      "\n",
      "  0%|          | 0/15 [00:00<?, ?it/s]\u001b[A\u001b[A\u001b[A"
     ]
    },
    {
     "name": "stdout",
     "output_type": "stream",
     "text": [
      "Number of synthetic images: 500\n"
     ]
    },
    {
     "name": "stderr",
     "output_type": "stream",
     "text": [
      " 18%|█▊        | 18002/100001 [39:17<105:26:35,  4.63s/it]"
     ]
    },
    {
     "name": "stdout",
     "output_type": "stream",
     "text": [
      "Current fid score: 2.2575362052527765\n",
      "Fid scores: [4.781169086965528, 2.5563023530045648, 2.463046801314256, 2.4992711961120584, 2.218550049566371, 2.964950268119857, 3.4702528654377076, 2.613245115961785, 2.34790911689727, 2.6919041220970037, 2.3144257756644073, 2.3240966003506536, 1.993653403354564, 2.697158487724515, 1.7994096039010472, 2.91434783406185, 2.7811489268397516, 2.2334427836959794, 2.2575362052527765]\n"
     ]
    },
    {
     "name": "stderr",
     "output_type": "stream",
     "text": [
      "  0%|          | 0/195 [00:11<?, ?it/s]:11:51,  1.19s/it] \n",
      "  0%|          | 0/15 [00:01<?, ?it/s]\n",
      " 18%|█▊        | 18103/100001 [39:27<2:23:01,  9.54it/s] "
     ]
    },
    {
     "name": "stdout",
     "output_type": "stream",
     "text": [
      "GAN: loss d: 3.31984    loss g: -2.65186\n"
     ]
    },
    {
     "name": "stderr",
     "output_type": "stream",
     "text": [
      " 18%|█▊        | 18203/100001 [39:38<2:24:24,  9.44it/s]"
     ]
    },
    {
     "name": "stdout",
     "output_type": "stream",
     "text": [
      "GAN: loss d: 2.59874    loss g: -2.01980\n"
     ]
    },
    {
     "name": "stderr",
     "output_type": "stream",
     "text": [
      " 18%|█▊        | 18303/100001 [39:49<2:23:41,  9.48it/s]"
     ]
    },
    {
     "name": "stdout",
     "output_type": "stream",
     "text": [
      "GAN: loss d: 2.38586    loss g: -2.15113\n"
     ]
    },
    {
     "name": "stderr",
     "output_type": "stream",
     "text": [
      " 18%|█▊        | 18401/100001 [39:59<2:30:54,  9.01it/s]"
     ]
    },
    {
     "name": "stdout",
     "output_type": "stream",
     "text": [
      "GAN: loss d: 2.94847    loss g: -2.07744\n"
     ]
    },
    {
     "name": "stderr",
     "output_type": "stream",
     "text": [
      " 19%|█▊        | 18503/100001 [40:10<2:24:59,  9.37it/s]"
     ]
    },
    {
     "name": "stdout",
     "output_type": "stream",
     "text": [
      "GAN: loss d: 4.41196    loss g: -2.44506\n"
     ]
    },
    {
     "name": "stderr",
     "output_type": "stream",
     "text": [
      " 19%|█▊        | 18603/100001 [40:21<2:24:52,  9.36it/s]"
     ]
    },
    {
     "name": "stdout",
     "output_type": "stream",
     "text": [
      "GAN: loss d: 2.21234    loss g: -2.81951\n"
     ]
    },
    {
     "name": "stderr",
     "output_type": "stream",
     "text": [
      " 19%|█▊        | 18703/100001 [40:32<2:23:16,  9.46it/s]"
     ]
    },
    {
     "name": "stdout",
     "output_type": "stream",
     "text": [
      "GAN: loss d: 2.47094    loss g: -1.87183\n"
     ]
    },
    {
     "name": "stderr",
     "output_type": "stream",
     "text": [
      " 19%|█▉        | 18803/100001 [40:43<2:21:28,  9.57it/s]"
     ]
    },
    {
     "name": "stdout",
     "output_type": "stream",
     "text": [
      "GAN: loss d: 2.70583    loss g: -2.01329\n"
     ]
    },
    {
     "name": "stderr",
     "output_type": "stream",
     "text": [
      " 19%|█▉        | 18903/100001 [40:53<2:21:05,  9.58it/s]"
     ]
    },
    {
     "name": "stdout",
     "output_type": "stream",
     "text": [
      "GAN: loss d: 2.96559    loss g: -2.48863\n"
     ]
    },
    {
     "name": "stderr",
     "output_type": "stream",
     "text": [
      " 19%|█▉        | 19000/100001 [41:04<2:24:13,  9.36it/s]"
     ]
    },
    {
     "name": "stdout",
     "output_type": "stream",
     "text": [
      "GAN: loss d: 2.38597    loss g: -2.34172\n",
      "saving current model\n"
     ]
    },
    {
     "name": "stderr",
     "output_type": "stream",
     "text": [
      "\n",
      "\n",
      "  0%|          | 0/195 [00:00<?, ?it/s]\u001b[A\u001b[A"
     ]
    },
    {
     "name": "stdout",
     "output_type": "stream",
     "text": [
      "Number of real images: 6252\n"
     ]
    },
    {
     "name": "stderr",
     "output_type": "stream",
     "text": [
      "\n",
      "\n",
      "\n",
      "  0%|          | 0/15 [00:00<?, ?it/s]\u001b[A\u001b[A\u001b[A"
     ]
    },
    {
     "name": "stdout",
     "output_type": "stream",
     "text": [
      "Number of synthetic images: 500\n"
     ]
    },
    {
     "name": "stderr",
     "output_type": "stream",
     "text": [
      " 19%|█▉        | 19001/100001 [41:25<148:35:24,  6.60s/it]"
     ]
    },
    {
     "name": "stdout",
     "output_type": "stream",
     "text": [
      "Current fid score: 2.130950188976346\n",
      "Fid scores: [4.781169086965528, 2.5563023530045648, 2.463046801314256, 2.4992711961120584, 2.218550049566371, 2.964950268119857, 3.4702528654377076, 2.613245115961785, 2.34790911689727, 2.6919041220970037, 2.3144257756644073, 2.3240966003506536, 1.993653403354564, 2.697158487724515, 1.7994096039010472, 2.91434783406185, 2.7811489268397516, 2.2334427836959794, 2.2575362052527765, 2.130950188976346]\n"
     ]
    },
    {
     "name": "stderr",
     "output_type": "stream",
     "text": [
      "  0%|          | 0/195 [00:15<?, ?it/s]24:09,  9.36it/s]  \n",
      "  0%|          | 0/15 [00:06<?, ?it/s]\n",
      " 19%|█▉        | 19101/100001 [41:36<2:30:14,  8.97it/s]"
     ]
    },
    {
     "name": "stdout",
     "output_type": "stream",
     "text": [
      "GAN: loss d: 3.13204    loss g: -2.17095\n"
     ]
    },
    {
     "name": "stderr",
     "output_type": "stream",
     "text": [
      " 19%|█▉        | 19203/100001 [41:47<2:20:54,  9.56it/s]"
     ]
    },
    {
     "name": "stdout",
     "output_type": "stream",
     "text": [
      "GAN: loss d: 3.62979    loss g: -2.00142\n"
     ]
    },
    {
     "name": "stderr",
     "output_type": "stream",
     "text": [
      " 19%|█▉        | 19301/100001 [41:58<2:31:13,  8.89it/s]"
     ]
    },
    {
     "name": "stdout",
     "output_type": "stream",
     "text": [
      "GAN: loss d: 3.49661    loss g: -2.42614\n"
     ]
    },
    {
     "name": "stderr",
     "output_type": "stream",
     "text": [
      " 19%|█▉        | 19402/100001 [42:08<2:24:22,  9.30it/s]"
     ]
    },
    {
     "name": "stdout",
     "output_type": "stream",
     "text": [
      "GAN: loss d: 1.73692    loss g: -2.21328\n"
     ]
    },
    {
     "name": "stderr",
     "output_type": "stream",
     "text": [
      " 20%|█▉        | 19501/100001 [42:19<2:28:27,  9.04it/s]"
     ]
    },
    {
     "name": "stdout",
     "output_type": "stream",
     "text": [
      "GAN: loss d: 2.98320    loss g: -1.91137\n"
     ]
    },
    {
     "name": "stderr",
     "output_type": "stream",
     "text": [
      " 20%|█▉        | 19601/100001 [42:30<2:29:23,  8.97it/s]"
     ]
    },
    {
     "name": "stdout",
     "output_type": "stream",
     "text": [
      "GAN: loss d: 3.77593    loss g: -2.46887\n"
     ]
    },
    {
     "name": "stderr",
     "output_type": "stream",
     "text": [
      " 20%|█▉        | 19702/100001 [42:41<2:24:34,  9.26it/s]"
     ]
    },
    {
     "name": "stdout",
     "output_type": "stream",
     "text": [
      "GAN: loss d: 1.84979    loss g: -2.30526\n"
     ]
    },
    {
     "name": "stderr",
     "output_type": "stream",
     "text": [
      " 20%|█▉        | 19801/100001 [42:51<2:29:30,  8.94it/s]"
     ]
    },
    {
     "name": "stdout",
     "output_type": "stream",
     "text": [
      "GAN: loss d: 2.76374    loss g: -1.68687\n"
     ]
    },
    {
     "name": "stderr",
     "output_type": "stream",
     "text": [
      " 20%|█▉        | 19903/100001 [43:02<2:20:12,  9.52it/s]"
     ]
    },
    {
     "name": "stdout",
     "output_type": "stream",
     "text": [
      "GAN: loss d: 3.27787    loss g: -2.46770\n"
     ]
    },
    {
     "name": "stderr",
     "output_type": "stream",
     "text": [
      " 20%|█▉        | 20000/100001 [43:13<2:20:22,  9.50it/s]"
     ]
    },
    {
     "name": "stdout",
     "output_type": "stream",
     "text": [
      "GAN: loss d: 3.38820    loss g: -2.60401\n",
      "saving current model\n"
     ]
    },
    {
     "name": "stderr",
     "output_type": "stream",
     "text": [
      "\n",
      "\n",
      "  0%|          | 0/195 [00:00<?, ?it/s]\u001b[A\u001b[A"
     ]
    },
    {
     "name": "stdout",
     "output_type": "stream",
     "text": [
      "Number of real images: 6252\n"
     ]
    },
    {
     "name": "stderr",
     "output_type": "stream",
     "text": [
      "\n",
      "\n",
      "\n",
      "  0%|          | 0/15 [00:00<?, ?it/s]\u001b[A\u001b[A\u001b[A"
     ]
    },
    {
     "name": "stdout",
     "output_type": "stream",
     "text": [
      "Number of synthetic images: 500\n"
     ]
    },
    {
     "name": "stderr",
     "output_type": "stream",
     "text": [
      " 20%|██        | 20001/100001 [43:34<145:23:20,  6.54s/it]"
     ]
    },
    {
     "name": "stdout",
     "output_type": "stream",
     "text": [
      "Current fid score: 2.15637473746202\n",
      "Fid scores: [4.781169086965528, 2.5563023530045648, 2.463046801314256, 2.4992711961120584, 2.218550049566371, 2.964950268119857, 3.4702528654377076, 2.613245115961785, 2.34790911689727, 2.6919041220970037, 2.3144257756644073, 2.3240966003506536, 1.993653403354564, 2.697158487724515, 1.7994096039010472, 2.91434783406185, 2.7811489268397516, 2.2334427836959794, 2.2575362052527765, 2.130950188976346, 2.15637473746202]\n"
     ]
    },
    {
     "name": "stderr",
     "output_type": "stream",
     "text": [
      "  0%|          | 0/195 [00:11<?, ?it/s]:07:09,  2.03s/it] \n",
      "  0%|          | 0/15 [00:01<?, ?it/s]\n",
      " 20%|██        | 20101/100001 [43:45<2:24:34,  9.21it/s] "
     ]
    },
    {
     "name": "stdout",
     "output_type": "stream",
     "text": [
      "GAN: loss d: 3.31896    loss g: -3.43313\n"
     ]
    },
    {
     "name": "stderr",
     "output_type": "stream",
     "text": [
      " 20%|██        | 20201/100001 [43:55<2:29:08,  8.92it/s]"
     ]
    },
    {
     "name": "stdout",
     "output_type": "stream",
     "text": [
      "GAN: loss d: 3.42636    loss g: -2.28006\n"
     ]
    },
    {
     "name": "stderr",
     "output_type": "stream",
     "text": [
      " 20%|██        | 20301/100001 [44:06<2:30:59,  8.80it/s]"
     ]
    },
    {
     "name": "stdout",
     "output_type": "stream",
     "text": [
      "GAN: loss d: 3.35267    loss g: -3.12542\n"
     ]
    },
    {
     "name": "stderr",
     "output_type": "stream",
     "text": [
      " 20%|██        | 20401/100001 [44:17<2:25:42,  9.10it/s]"
     ]
    },
    {
     "name": "stdout",
     "output_type": "stream",
     "text": [
      "GAN: loss d: 2.51953    loss g: -2.51458\n"
     ]
    },
    {
     "name": "stderr",
     "output_type": "stream",
     "text": [
      " 21%|██        | 20503/100001 [44:28<2:18:46,  9.55it/s]"
     ]
    },
    {
     "name": "stdout",
     "output_type": "stream",
     "text": [
      "GAN: loss d: 3.02755    loss g: -2.84862\n"
     ]
    },
    {
     "name": "stderr",
     "output_type": "stream",
     "text": [
      " 21%|██        | 20603/100001 [44:39<2:18:58,  9.52it/s]"
     ]
    },
    {
     "name": "stdout",
     "output_type": "stream",
     "text": [
      "GAN: loss d: 3.55456    loss g: -2.29179\n"
     ]
    },
    {
     "name": "stderr",
     "output_type": "stream",
     "text": [
      " 21%|██        | 20701/100001 [44:49<2:25:19,  9.09it/s]"
     ]
    },
    {
     "name": "stdout",
     "output_type": "stream",
     "text": [
      "GAN: loss d: 3.64299    loss g: -2.66721\n"
     ]
    },
    {
     "name": "stderr",
     "output_type": "stream",
     "text": [
      " 21%|██        | 20803/100001 [45:00<2:19:30,  9.46it/s]"
     ]
    },
    {
     "name": "stdout",
     "output_type": "stream",
     "text": [
      "GAN: loss d: 2.68529    loss g: -1.99521\n"
     ]
    },
    {
     "name": "stderr",
     "output_type": "stream",
     "text": [
      " 21%|██        | 20903/100001 [45:11<2:19:50,  9.43it/s]"
     ]
    },
    {
     "name": "stdout",
     "output_type": "stream",
     "text": [
      "GAN: loss d: 4.16805    loss g: -2.15125\n"
     ]
    },
    {
     "name": "stderr",
     "output_type": "stream",
     "text": [
      " 21%|██        | 21000/100001 [45:21<2:23:53,  9.15it/s]"
     ]
    },
    {
     "name": "stdout",
     "output_type": "stream",
     "text": [
      "GAN: loss d: 2.92912    loss g: -1.74348\n",
      "saving current model\n"
     ]
    },
    {
     "name": "stderr",
     "output_type": "stream",
     "text": [
      "\n",
      "\n",
      "  0%|          | 0/195 [00:00<?, ?it/s]\u001b[A\u001b[A"
     ]
    },
    {
     "name": "stdout",
     "output_type": "stream",
     "text": [
      "Number of real images: 6252\n"
     ]
    },
    {
     "name": "stderr",
     "output_type": "stream",
     "text": [
      "\n",
      "\n",
      "\n",
      "  0%|          | 0/15 [00:00<?, ?it/s]\u001b[A\u001b[A\u001b[A"
     ]
    },
    {
     "name": "stdout",
     "output_type": "stream",
     "text": [
      "Number of synthetic images: 500\n"
     ]
    },
    {
     "name": "stderr",
     "output_type": "stream",
     "text": [
      " 21%|██        | 21002/100001 [45:43<102:35:45,  4.68s/it]"
     ]
    },
    {
     "name": "stdout",
     "output_type": "stream",
     "text": [
      "Current fid score: 2.4389161668575845\n",
      "Fid scores: [4.781169086965528, 2.5563023530045648, 2.463046801314256, 2.4992711961120584, 2.218550049566371, 2.964950268119857, 3.4702528654377076, 2.613245115961785, 2.34790911689727, 2.6919041220970037, 2.3144257756644073, 2.3240966003506536, 1.993653403354564, 2.697158487724515, 1.7994096039010472, 2.91434783406185, 2.7811489268397516, 2.2334427836959794, 2.2575362052527765, 2.130950188976346, 2.15637473746202, 2.4389161668575845]\n"
     ]
    },
    {
     "name": "stderr",
     "output_type": "stream",
     "text": [
      "  0%|          | 0/195 [00:16<?, ?it/s]19:32,  9.43it/s]  \n",
      "  0%|          | 0/15 [00:06<?, ?it/s]\n",
      " 21%|██        | 21103/100001 [45:54<2:19:01,  9.46it/s]"
     ]
    },
    {
     "name": "stdout",
     "output_type": "stream",
     "text": [
      "GAN: loss d: 3.32479    loss g: -2.29746\n"
     ]
    },
    {
     "name": "stderr",
     "output_type": "stream",
     "text": [
      " 21%|██        | 21201/100001 [46:05<2:24:52,  9.07it/s]"
     ]
    },
    {
     "name": "stdout",
     "output_type": "stream",
     "text": [
      "GAN: loss d: 3.27996    loss g: -2.58958\n"
     ]
    },
    {
     "name": "stderr",
     "output_type": "stream",
     "text": [
      " 21%|██▏       | 21301/100001 [46:15<2:25:39,  9.01it/s]"
     ]
    },
    {
     "name": "stdout",
     "output_type": "stream",
     "text": [
      "GAN: loss d: 3.13050    loss g: -2.17435\n"
     ]
    },
    {
     "name": "stderr",
     "output_type": "stream",
     "text": [
      " 21%|██▏       | 21401/100001 [46:26<2:24:51,  9.04it/s]"
     ]
    },
    {
     "name": "stdout",
     "output_type": "stream",
     "text": [
      "GAN: loss d: 3.78756    loss g: -3.05470\n"
     ]
    },
    {
     "name": "stderr",
     "output_type": "stream",
     "text": [
      " 22%|██▏       | 21501/100001 [46:37<2:25:53,  8.97it/s]"
     ]
    },
    {
     "name": "stdout",
     "output_type": "stream",
     "text": [
      "GAN: loss d: 3.37940    loss g: -2.97065\n"
     ]
    },
    {
     "name": "stderr",
     "output_type": "stream",
     "text": [
      " 22%|██▏       | 21603/100001 [46:48<2:16:38,  9.56it/s]"
     ]
    },
    {
     "name": "stdout",
     "output_type": "stream",
     "text": [
      "GAN: loss d: 3.85527    loss g: -1.99138\n"
     ]
    },
    {
     "name": "stderr",
     "output_type": "stream",
     "text": [
      " 22%|██▏       | 21701/100001 [46:58<2:25:07,  8.99it/s]"
     ]
    },
    {
     "name": "stdout",
     "output_type": "stream",
     "text": [
      "GAN: loss d: 3.76814    loss g: -2.95450\n"
     ]
    },
    {
     "name": "stderr",
     "output_type": "stream",
     "text": [
      " 22%|██▏       | 21801/100001 [47:09<2:22:52,  9.12it/s]"
     ]
    },
    {
     "name": "stdout",
     "output_type": "stream",
     "text": [
      "GAN: loss d: 4.08954    loss g: -2.89202\n"
     ]
    },
    {
     "name": "stderr",
     "output_type": "stream",
     "text": [
      " 22%|██▏       | 21902/100001 [47:20<2:21:23,  9.21it/s]"
     ]
    },
    {
     "name": "stdout",
     "output_type": "stream",
     "text": [
      "GAN: loss d: 3.54851    loss g: -3.61872\n"
     ]
    },
    {
     "name": "stderr",
     "output_type": "stream",
     "text": [
      " 22%|██▏       | 22000/100001 [47:30<2:20:45,  9.24it/s]"
     ]
    },
    {
     "name": "stdout",
     "output_type": "stream",
     "text": [
      "GAN: loss d: 5.19127    loss g: -3.11075\n",
      "saving current model\n"
     ]
    },
    {
     "name": "stderr",
     "output_type": "stream",
     "text": [
      "\n",
      "\n",
      "  0%|          | 0/195 [00:00<?, ?it/s]\u001b[A\u001b[A"
     ]
    },
    {
     "name": "stdout",
     "output_type": "stream",
     "text": [
      "Number of real images: 6252\n"
     ]
    },
    {
     "name": "stderr",
     "output_type": "stream",
     "text": [
      "\n",
      "\n",
      "\n",
      "  0%|          | 0/15 [00:00<?, ?it/s]\u001b[A\u001b[A\u001b[A"
     ]
    },
    {
     "name": "stdout",
     "output_type": "stream",
     "text": [
      "Number of synthetic images: 500\n"
     ]
    },
    {
     "name": "stderr",
     "output_type": "stream",
     "text": [
      " 22%|██▏       | 22001/100001 [47:52<143:22:34,  6.62s/it]"
     ]
    },
    {
     "name": "stdout",
     "output_type": "stream",
     "text": [
      "Current fid score: 2.2519582703541623\n",
      "Fid scores: [4.781169086965528, 2.5563023530045648, 2.463046801314256, 2.4992711961120584, 2.218550049566371, 2.964950268119857, 3.4702528654377076, 2.613245115961785, 2.34790911689727, 2.6919041220970037, 2.3144257756644073, 2.3240966003506536, 1.993653403354564, 2.697158487724515, 1.7994096039010472, 2.91434783406185, 2.7811489268397516, 2.2334427836959794, 2.2575362052527765, 2.130950188976346, 2.15637473746202, 2.4389161668575845, 2.2519582703541623]\n"
     ]
    },
    {
     "name": "stderr",
     "output_type": "stream",
     "text": [
      "  0%|          | 0/195 [00:11<?, ?it/s]:22:48,  2.74s/it] \n",
      "  0%|          | 0/15 [00:01<?, ?it/s]\n",
      " 22%|██▏       | 22101/100001 [48:03<2:21:43,  9.16it/s] "
     ]
    },
    {
     "name": "stdout",
     "output_type": "stream",
     "text": [
      "GAN: loss d: 2.88454    loss g: -3.08946\n"
     ]
    },
    {
     "name": "stderr",
     "output_type": "stream",
     "text": [
      " 22%|██▏       | 22201/100001 [48:14<2:25:28,  8.91it/s]"
     ]
    },
    {
     "name": "stdout",
     "output_type": "stream",
     "text": [
      "GAN: loss d: 3.42733    loss g: -3.18463\n"
     ]
    },
    {
     "name": "stderr",
     "output_type": "stream",
     "text": [
      " 22%|██▏       | 22301/100001 [48:24<2:24:52,  8.94it/s]"
     ]
    },
    {
     "name": "stdout",
     "output_type": "stream",
     "text": [
      "GAN: loss d: 3.30786    loss g: -3.04608\n"
     ]
    },
    {
     "name": "stderr",
     "output_type": "stream",
     "text": [
      " 22%|██▏       | 22401/100001 [48:35<2:24:02,  8.98it/s]"
     ]
    },
    {
     "name": "stdout",
     "output_type": "stream",
     "text": [
      "GAN: loss d: 4.25153    loss g: -2.86836\n"
     ]
    },
    {
     "name": "stderr",
     "output_type": "stream",
     "text": [
      " 23%|██▎       | 22503/100001 [48:46<2:16:03,  9.49it/s]"
     ]
    },
    {
     "name": "stdout",
     "output_type": "stream",
     "text": [
      "GAN: loss d: 3.21665    loss g: -3.08192\n"
     ]
    },
    {
     "name": "stderr",
     "output_type": "stream",
     "text": [
      " 23%|██▎       | 22601/100001 [48:57<2:23:48,  8.97it/s]"
     ]
    },
    {
     "name": "stdout",
     "output_type": "stream",
     "text": [
      "GAN: loss d: 3.48343    loss g: -2.29075\n"
     ]
    },
    {
     "name": "stderr",
     "output_type": "stream",
     "text": [
      " 23%|██▎       | 22701/100001 [49:07<2:22:35,  9.04it/s]"
     ]
    },
    {
     "name": "stdout",
     "output_type": "stream",
     "text": [
      "GAN: loss d: 2.24836    loss g: -3.05185\n"
     ]
    },
    {
     "name": "stderr",
     "output_type": "stream",
     "text": [
      " 23%|██▎       | 22803/100001 [49:18<2:15:15,  9.51it/s]"
     ]
    },
    {
     "name": "stdout",
     "output_type": "stream",
     "text": [
      "GAN: loss d: 3.39572    loss g: -2.53198\n"
     ]
    },
    {
     "name": "stderr",
     "output_type": "stream",
     "text": [
      " 23%|██▎       | 22903/100001 [49:29<2:13:54,  9.60it/s]"
     ]
    },
    {
     "name": "stdout",
     "output_type": "stream",
     "text": [
      "GAN: loss d: 2.99881    loss g: -3.32488\n"
     ]
    },
    {
     "name": "stderr",
     "output_type": "stream",
     "text": [
      " 23%|██▎       | 23000/100001 [49:39<2:15:41,  9.46it/s]"
     ]
    },
    {
     "name": "stdout",
     "output_type": "stream",
     "text": [
      "GAN: loss d: 4.34185    loss g: -2.98050\n",
      "saving current model\n"
     ]
    },
    {
     "name": "stderr",
     "output_type": "stream",
     "text": [
      "\n",
      "\n",
      "  0%|          | 0/195 [00:00<?, ?it/s]\u001b[A\u001b[A"
     ]
    },
    {
     "name": "stdout",
     "output_type": "stream",
     "text": [
      "Number of real images: 6252\n"
     ]
    },
    {
     "name": "stderr",
     "output_type": "stream",
     "text": [
      "\n",
      "\n",
      "\n",
      "  0%|          | 0/15 [00:00<?, ?it/s]\u001b[A\u001b[A\u001b[A"
     ]
    },
    {
     "name": "stdout",
     "output_type": "stream",
     "text": [
      "Number of synthetic images: 500\n"
     ]
    },
    {
     "name": "stderr",
     "output_type": "stream",
     "text": [
      " 23%|██▎       | 23001/100001 [50:01<139:15:58,  6.51s/it]"
     ]
    },
    {
     "name": "stdout",
     "output_type": "stream",
     "text": [
      "Current fid score: 2.1827718797205335\n",
      "Fid scores: [4.781169086965528, 2.5563023530045648, 2.463046801314256, 2.4992711961120584, 2.218550049566371, 2.964950268119857, 3.4702528654377076, 2.613245115961785, 2.34790911689727, 2.6919041220970037, 2.3144257756644073, 2.3240966003506536, 1.993653403354564, 2.697158487724515, 1.7994096039010472, 2.91434783406185, 2.7811489268397516, 2.2334427836959794, 2.2575362052527765, 2.130950188976346, 2.15637473746202, 2.4389161668575845, 2.2519582703541623, 2.1827718797205335]\n"
     ]
    },
    {
     "name": "stderr",
     "output_type": "stream",
     "text": [
      "  0%|          | 0/195 [00:16<?, ?it/s]20:37,  9.12it/s]  \n",
      "  0%|          | 0/15 [00:06<?, ?it/s]\n",
      " 23%|██▎       | 23103/100001 [50:12<2:15:14,  9.48it/s]"
     ]
    },
    {
     "name": "stdout",
     "output_type": "stream",
     "text": [
      "GAN: loss d: 4.30791    loss g: -3.36224\n"
     ]
    },
    {
     "name": "stderr",
     "output_type": "stream",
     "text": [
      " 23%|██▎       | 23201/100001 [50:22<2:21:22,  9.05it/s]"
     ]
    },
    {
     "name": "stdout",
     "output_type": "stream",
     "text": [
      "GAN: loss d: 4.07695    loss g: -4.13216\n"
     ]
    },
    {
     "name": "stderr",
     "output_type": "stream",
     "text": [
      " 23%|██▎       | 23303/100001 [50:33<2:14:49,  9.48it/s]"
     ]
    },
    {
     "name": "stdout",
     "output_type": "stream",
     "text": [
      "GAN: loss d: 3.41212    loss g: -2.67912\n"
     ]
    },
    {
     "name": "stderr",
     "output_type": "stream",
     "text": [
      " 23%|██▎       | 23401/100001 [50:44<2:22:15,  8.97it/s]"
     ]
    },
    {
     "name": "stdout",
     "output_type": "stream",
     "text": [
      "GAN: loss d: 3.16900    loss g: -2.57531\n"
     ]
    },
    {
     "name": "stderr",
     "output_type": "stream",
     "text": [
      " 24%|██▎       | 23503/100001 [50:55<2:12:54,  9.59it/s]"
     ]
    },
    {
     "name": "stdout",
     "output_type": "stream",
     "text": [
      "GAN: loss d: 3.48620    loss g: -2.53043\n"
     ]
    },
    {
     "name": "stderr",
     "output_type": "stream",
     "text": [
      " 24%|██▎       | 23601/100001 [51:05<2:21:47,  8.98it/s]"
     ]
    },
    {
     "name": "stdout",
     "output_type": "stream",
     "text": [
      "GAN: loss d: 4.16489    loss g: -2.98157\n"
     ]
    },
    {
     "name": "stderr",
     "output_type": "stream",
     "text": [
      " 24%|██▎       | 23701/100001 [51:16<2:21:43,  8.97it/s]"
     ]
    },
    {
     "name": "stdout",
     "output_type": "stream",
     "text": [
      "GAN: loss d: 4.38389    loss g: -3.23036\n"
     ]
    },
    {
     "name": "stderr",
     "output_type": "stream",
     "text": [
      " 24%|██▍       | 23801/100001 [51:27<2:21:09,  9.00it/s]"
     ]
    },
    {
     "name": "stdout",
     "output_type": "stream",
     "text": [
      "GAN: loss d: 3.97985    loss g: -3.04019\n"
     ]
    },
    {
     "name": "stderr",
     "output_type": "stream",
     "text": [
      " 24%|██▍       | 23901/100001 [51:37<2:22:48,  8.88it/s]"
     ]
    },
    {
     "name": "stdout",
     "output_type": "stream",
     "text": [
      "GAN: loss d: 3.37871    loss g: -2.79468\n"
     ]
    },
    {
     "name": "stderr",
     "output_type": "stream",
     "text": [
      " 24%|██▍       | 24000/100001 [51:48<2:16:47,  9.26it/s]"
     ]
    },
    {
     "name": "stdout",
     "output_type": "stream",
     "text": [
      "GAN: loss d: 3.68500    loss g: -3.03173\n",
      "saving current model\n"
     ]
    },
    {
     "name": "stderr",
     "output_type": "stream",
     "text": [
      "\n",
      "\n",
      "  0%|          | 0/195 [00:00<?, ?it/s]\u001b[A\u001b[A"
     ]
    },
    {
     "name": "stdout",
     "output_type": "stream",
     "text": [
      "Number of real images: 6252\n"
     ]
    },
    {
     "name": "stderr",
     "output_type": "stream",
     "text": [
      "\n",
      "\n",
      "\n",
      "  0%|          | 0/15 [00:00<?, ?it/s]\u001b[A\u001b[A\u001b[A"
     ]
    },
    {
     "name": "stdout",
     "output_type": "stream",
     "text": [
      "Number of synthetic images: 500\n"
     ]
    },
    {
     "name": "stderr",
     "output_type": "stream",
     "text": [
      " 24%|██▍       | 24001/100001 [52:10<138:11:15,  6.55s/it]"
     ]
    },
    {
     "name": "stdout",
     "output_type": "stream",
     "text": [
      "Current fid score: 2.3576301559437454\n",
      "Fid scores: [4.781169086965528, 2.5563023530045648, 2.463046801314256, 2.4992711961120584, 2.218550049566371, 2.964950268119857, 3.4702528654377076, 2.613245115961785, 2.34790911689727, 2.6919041220970037, 2.3144257756644073, 2.3240966003506536, 1.993653403354564, 2.697158487724515, 1.7994096039010472, 2.91434783406185, 2.7811489268397516, 2.2334427836959794, 2.2575362052527765, 2.130950188976346, 2.15637473746202, 2.4389161668575845, 2.2519582703541623, 2.1827718797205335, 2.3576301559437454]\n"
     ]
    },
    {
     "name": "stderr",
     "output_type": "stream",
     "text": [
      "  0%|          | 0/195 [00:11<?, ?it/s]:15:29,  2.71s/it] \n",
      "  0%|          | 0/15 [00:01<?, ?it/s]\n",
      " 24%|██▍       | 24101/100001 [52:20<2:20:09,  9.03it/s] "
     ]
    },
    {
     "name": "stdout",
     "output_type": "stream",
     "text": [
      "GAN: loss d: 4.23455    loss g: -3.63235\n"
     ]
    },
    {
     "name": "stderr",
     "output_type": "stream",
     "text": [
      " 24%|██▍       | 24201/100001 [52:31<2:22:55,  8.84it/s]"
     ]
    },
    {
     "name": "stdout",
     "output_type": "stream",
     "text": [
      "GAN: loss d: 3.88400    loss g: -3.15673\n"
     ]
    },
    {
     "name": "stderr",
     "output_type": "stream",
     "text": [
      " 24%|██▍       | 24303/100001 [52:42<2:13:12,  9.47it/s]"
     ]
    },
    {
     "name": "stdout",
     "output_type": "stream",
     "text": [
      "GAN: loss d: 3.23685    loss g: -3.12619\n"
     ]
    },
    {
     "name": "stderr",
     "output_type": "stream",
     "text": [
      " 24%|██▍       | 24403/100001 [52:53<2:12:42,  9.49it/s]"
     ]
    },
    {
     "name": "stdout",
     "output_type": "stream",
     "text": [
      "GAN: loss d: 2.81624    loss g: -2.27031\n"
     ]
    },
    {
     "name": "stderr",
     "output_type": "stream",
     "text": [
      " 25%|██▍       | 24501/100001 [53:03<2:19:59,  8.99it/s]"
     ]
    },
    {
     "name": "stdout",
     "output_type": "stream",
     "text": [
      "GAN: loss d: 2.52496    loss g: -2.95235\n"
     ]
    },
    {
     "name": "stderr",
     "output_type": "stream",
     "text": [
      " 25%|██▍       | 24601/100001 [53:14<2:20:29,  8.95it/s]"
     ]
    },
    {
     "name": "stdout",
     "output_type": "stream",
     "text": [
      "GAN: loss d: 2.95289    loss g: -3.08760\n"
     ]
    },
    {
     "name": "stderr",
     "output_type": "stream",
     "text": [
      " 25%|██▍       | 24701/100001 [53:25<2:20:09,  8.95it/s]"
     ]
    },
    {
     "name": "stdout",
     "output_type": "stream",
     "text": [
      "GAN: loss d: 3.34526    loss g: -3.73234\n"
     ]
    },
    {
     "name": "stderr",
     "output_type": "stream",
     "text": [
      " 25%|██▍       | 24802/100001 [53:36<2:16:46,  9.16it/s]"
     ]
    },
    {
     "name": "stdout",
     "output_type": "stream",
     "text": [
      "GAN: loss d: 3.51941    loss g: -2.99314\n"
     ]
    },
    {
     "name": "stderr",
     "output_type": "stream",
     "text": [
      " 25%|██▍       | 24903/100001 [53:46<2:13:41,  9.36it/s]"
     ]
    },
    {
     "name": "stdout",
     "output_type": "stream",
     "text": [
      "GAN: loss d: 3.36606    loss g: -3.02349\n"
     ]
    },
    {
     "name": "stderr",
     "output_type": "stream",
     "text": [
      " 25%|██▍       | 25000/100001 [53:57<2:12:34,  9.43it/s]"
     ]
    },
    {
     "name": "stdout",
     "output_type": "stream",
     "text": [
      "GAN: loss d: 3.35648    loss g: -2.54423\n",
      "saving current model\n"
     ]
    },
    {
     "name": "stderr",
     "output_type": "stream",
     "text": [
      "\n",
      "\n",
      "  0%|          | 0/195 [00:00<?, ?it/s]\u001b[A\u001b[A"
     ]
    },
    {
     "name": "stdout",
     "output_type": "stream",
     "text": [
      "Number of real images: 6252\n"
     ]
    },
    {
     "name": "stderr",
     "output_type": "stream",
     "text": [
      "\n",
      "\n",
      "\n",
      "  0%|          | 0/15 [00:00<?, ?it/s]\u001b[A\u001b[A\u001b[A"
     ]
    },
    {
     "name": "stdout",
     "output_type": "stream",
     "text": [
      "Number of synthetic images: 500\n"
     ]
    },
    {
     "name": "stderr",
     "output_type": "stream",
     "text": [
      " 25%|██▌       | 25002/100001 [54:19<96:11:00,  4.62s/it] "
     ]
    },
    {
     "name": "stdout",
     "output_type": "stream",
     "text": [
      "Current fid score: 2.6942066386249337\n",
      "Fid scores: [4.781169086965528, 2.5563023530045648, 2.463046801314256, 2.4992711961120584, 2.218550049566371, 2.964950268119857, 3.4702528654377076, 2.613245115961785, 2.34790911689727, 2.6919041220970037, 2.3144257756644073, 2.3240966003506536, 1.993653403354564, 2.697158487724515, 1.7994096039010472, 2.91434783406185, 2.7811489268397516, 2.2334427836959794, 2.2575362052527765, 2.130950188976346, 2.15637473746202, 2.4389161668575845, 2.2519582703541623, 2.1827718797205335, 2.3576301559437454, 2.6942066386249337]\n"
     ]
    },
    {
     "name": "stderr",
     "output_type": "stream",
     "text": [
      "  0%|          | 0/195 [00:19<?, ?it/s]11:36,  9.49it/s] \n",
      "  0%|          | 0/15 [00:09<?, ?it/s]\n",
      " 25%|██▌       | 25101/100001 [54:29<2:15:22,  9.22it/s]"
     ]
    },
    {
     "name": "stdout",
     "output_type": "stream",
     "text": [
      "GAN: loss d: 4.07264    loss g: -2.43436\n"
     ]
    },
    {
     "name": "stderr",
     "output_type": "stream",
     "text": [
      " 25%|██▌       | 25201/100001 [54:40<2:17:05,  9.09it/s]"
     ]
    },
    {
     "name": "stdout",
     "output_type": "stream",
     "text": [
      "GAN: loss d: 3.91923    loss g: -2.79681\n"
     ]
    },
    {
     "name": "stderr",
     "output_type": "stream",
     "text": [
      " 25%|██▌       | 25302/100001 [54:51<2:15:23,  9.20it/s]"
     ]
    },
    {
     "name": "stdout",
     "output_type": "stream",
     "text": [
      "GAN: loss d: 2.98870    loss g: -2.67149\n"
     ]
    },
    {
     "name": "stderr",
     "output_type": "stream",
     "text": [
      " 25%|██▌       | 25401/100001 [55:01<2:17:25,  9.05it/s]"
     ]
    },
    {
     "name": "stdout",
     "output_type": "stream",
     "text": [
      "GAN: loss d: 3.09493    loss g: -3.88022\n"
     ]
    },
    {
     "name": "stderr",
     "output_type": "stream",
     "text": [
      " 26%|██▌       | 25503/100001 [55:12<2:10:31,  9.51it/s]"
     ]
    },
    {
     "name": "stdout",
     "output_type": "stream",
     "text": [
      "GAN: loss d: 3.26603    loss g: -2.84887\n"
     ]
    },
    {
     "name": "stderr",
     "output_type": "stream",
     "text": [
      " 26%|██▌       | 25601/100001 [55:23<2:17:15,  9.03it/s]"
     ]
    },
    {
     "name": "stdout",
     "output_type": "stream",
     "text": [
      "GAN: loss d: 3.22812    loss g: -2.68000\n"
     ]
    },
    {
     "name": "stderr",
     "output_type": "stream",
     "text": [
      " 26%|██▌       | 25703/100001 [55:34<2:10:07,  9.52it/s]"
     ]
    },
    {
     "name": "stdout",
     "output_type": "stream",
     "text": [
      "GAN: loss d: 3.07477    loss g: -2.56984\n"
     ]
    },
    {
     "name": "stderr",
     "output_type": "stream",
     "text": [
      " 26%|██▌       | 25801/100001 [55:44<2:17:24,  9.00it/s]"
     ]
    },
    {
     "name": "stdout",
     "output_type": "stream",
     "text": [
      "GAN: loss d: 3.85912    loss g: -3.26773\n"
     ]
    },
    {
     "name": "stderr",
     "output_type": "stream",
     "text": [
      " 26%|██▌       | 25903/100001 [55:55<2:09:56,  9.50it/s]"
     ]
    },
    {
     "name": "stdout",
     "output_type": "stream",
     "text": [
      "GAN: loss d: 4.12199    loss g: -2.87507\n"
     ]
    },
    {
     "name": "stderr",
     "output_type": "stream",
     "text": [
      " 26%|██▌       | 26000/100001 [56:05<2:14:35,  9.16it/s]"
     ]
    },
    {
     "name": "stdout",
     "output_type": "stream",
     "text": [
      "GAN: loss d: 2.88748    loss g: -3.48110\n",
      "saving current model\n"
     ]
    },
    {
     "name": "stderr",
     "output_type": "stream",
     "text": [
      "\n",
      "\n",
      "  0%|          | 0/195 [00:00<?, ?it/s]\u001b[A\u001b[A"
     ]
    },
    {
     "name": "stdout",
     "output_type": "stream",
     "text": [
      "Number of real images: 6252\n"
     ]
    },
    {
     "name": "stderr",
     "output_type": "stream",
     "text": [
      "\n",
      "\n",
      "\n",
      "  0%|          | 0/15 [00:00<?, ?it/s]\u001b[A\u001b[A\u001b[A"
     ]
    },
    {
     "name": "stdout",
     "output_type": "stream",
     "text": [
      "Number of synthetic images: 500\n"
     ]
    },
    {
     "name": "stderr",
     "output_type": "stream",
     "text": [
      " 26%|██▌       | 26001/100001 [56:27<134:59:49,  6.57s/it]"
     ]
    },
    {
     "name": "stdout",
     "output_type": "stream",
     "text": [
      "Current fid score: 2.6747271169665723\n",
      "Fid scores: [4.781169086965528, 2.5563023530045648, 2.463046801314256, 2.4992711961120584, 2.218550049566371, 2.964950268119857, 3.4702528654377076, 2.613245115961785, 2.34790911689727, 2.6919041220970037, 2.3144257756644073, 2.3240966003506536, 1.993653403354564, 2.697158487724515, 1.7994096039010472, 2.91434783406185, 2.7811489268397516, 2.2334427836959794, 2.2575362052527765, 2.130950188976346, 2.15637473746202, 2.4389161668575845, 2.2519582703541623, 2.1827718797205335, 2.3576301559437454, 2.6942066386249337, 2.6747271169665723]\n"
     ]
    },
    {
     "name": "stderr",
     "output_type": "stream",
     "text": [
      "  0%|          | 0/195 [00:15<?, ?it/s]14:56,  9.13it/s]  \n",
      "  0%|          | 0/15 [00:05<?, ?it/s]\n",
      " 26%|██▌       | 26101/100001 [56:38<2:16:08,  9.05it/s]"
     ]
    },
    {
     "name": "stdout",
     "output_type": "stream",
     "text": [
      "GAN: loss d: 4.34436    loss g: -3.01715\n"
     ]
    },
    {
     "name": "stderr",
     "output_type": "stream",
     "text": [
      " 26%|██▌       | 26201/100001 [56:49<2:14:28,  9.15it/s]"
     ]
    },
    {
     "name": "stdout",
     "output_type": "stream",
     "text": [
      "GAN: loss d: 2.94691    loss g: -2.86312\n"
     ]
    },
    {
     "name": "stderr",
     "output_type": "stream",
     "text": [
      " 26%|██▋       | 26303/100001 [57:00<2:09:13,  9.50it/s]"
     ]
    },
    {
     "name": "stdout",
     "output_type": "stream",
     "text": [
      "GAN: loss d: 3.49197    loss g: -3.22904\n"
     ]
    },
    {
     "name": "stderr",
     "output_type": "stream",
     "text": [
      " 26%|██▋       | 26403/100001 [57:10<2:09:34,  9.47it/s]"
     ]
    },
    {
     "name": "stdout",
     "output_type": "stream",
     "text": [
      "GAN: loss d: 3.68977    loss g: -3.08499\n"
     ]
    },
    {
     "name": "stderr",
     "output_type": "stream",
     "text": [
      " 27%|██▋       | 26503/100001 [57:21<2:08:30,  9.53it/s]"
     ]
    },
    {
     "name": "stdout",
     "output_type": "stream",
     "text": [
      "GAN: loss d: 3.23713    loss g: -3.09187\n"
     ]
    },
    {
     "name": "stderr",
     "output_type": "stream",
     "text": [
      " 27%|██▋       | 26603/100001 [57:32<2:11:08,  9.33it/s]"
     ]
    },
    {
     "name": "stdout",
     "output_type": "stream",
     "text": [
      "GAN: loss d: 3.07839    loss g: -2.36554\n"
     ]
    },
    {
     "name": "stderr",
     "output_type": "stream",
     "text": [
      " 27%|██▋       | 26703/100001 [57:43<2:08:37,  9.50it/s]"
     ]
    },
    {
     "name": "stdout",
     "output_type": "stream",
     "text": [
      "GAN: loss d: 5.50664    loss g: -3.54237\n"
     ]
    },
    {
     "name": "stderr",
     "output_type": "stream",
     "text": [
      " 27%|██▋       | 26801/100001 [57:53<2:14:09,  9.09it/s]"
     ]
    },
    {
     "name": "stdout",
     "output_type": "stream",
     "text": [
      "GAN: loss d: 4.94567    loss g: -2.60725\n"
     ]
    },
    {
     "name": "stderr",
     "output_type": "stream",
     "text": [
      " 27%|██▋       | 26901/100001 [58:04<2:13:15,  9.14it/s]"
     ]
    },
    {
     "name": "stdout",
     "output_type": "stream",
     "text": [
      "GAN: loss d: 4.31142    loss g: -2.62542\n"
     ]
    },
    {
     "name": "stderr",
     "output_type": "stream",
     "text": [
      " 27%|██▋       | 27000/100001 [58:14<2:10:54,  9.29it/s]"
     ]
    },
    {
     "name": "stdout",
     "output_type": "stream",
     "text": [
      "GAN: loss d: 3.09841    loss g: -3.14204\n",
      "saving current model\n"
     ]
    },
    {
     "name": "stderr",
     "output_type": "stream",
     "text": [
      "\n",
      "\n",
      "  0%|          | 0/195 [00:00<?, ?it/s]\u001b[A\u001b[A"
     ]
    },
    {
     "name": "stdout",
     "output_type": "stream",
     "text": [
      "Number of real images: 6252\n"
     ]
    },
    {
     "name": "stderr",
     "output_type": "stream",
     "text": [
      "\n",
      "\n",
      "\n",
      "  0%|          | 0/15 [00:00<?, ?it/s]\u001b[A\u001b[A\u001b[A"
     ]
    },
    {
     "name": "stdout",
     "output_type": "stream",
     "text": [
      "Number of synthetic images: 500\n"
     ]
    },
    {
     "name": "stderr",
     "output_type": "stream",
     "text": [
      " 27%|██▋       | 27001/100001 [58:36<132:02:13,  6.51s/it]"
     ]
    },
    {
     "name": "stdout",
     "output_type": "stream",
     "text": [
      "Current fid score: 2.8508206571304022\n",
      "Fid scores: [4.781169086965528, 2.5563023530045648, 2.463046801314256, 2.4992711961120584, 2.218550049566371, 2.964950268119857, 3.4702528654377076, 2.613245115961785, 2.34790911689727, 2.6919041220970037, 2.3144257756644073, 2.3240966003506536, 1.993653403354564, 2.697158487724515, 1.7994096039010472, 2.91434783406185, 2.7811489268397516, 2.2334427836959794, 2.2575362052527765, 2.130950188976346, 2.15637473746202, 2.4389161668575845, 2.2519582703541623, 2.1827718797205335, 2.3576301559437454, 2.6942066386249337, 2.6747271169665723, 2.8508206571304022]\n"
     ]
    },
    {
     "name": "stderr",
     "output_type": "stream",
     "text": [
      "  0%|          | 0/195 [00:19<?, ?it/s]08:06,  9.49it/s]  \n",
      "  0%|          | 0/15 [00:09<?, ?it/s]\n",
      " 27%|██▋       | 27101/100001 [58:47<2:14:21,  9.04it/s]"
     ]
    },
    {
     "name": "stdout",
     "output_type": "stream",
     "text": [
      "GAN: loss d: 3.53305    loss g: -2.67798\n"
     ]
    },
    {
     "name": "stderr",
     "output_type": "stream",
     "text": [
      " 27%|██▋       | 27203/100001 [58:57<2:06:44,  9.57it/s]"
     ]
    },
    {
     "name": "stdout",
     "output_type": "stream",
     "text": [
      "GAN: loss d: 3.93566    loss g: -2.37970\n"
     ]
    },
    {
     "name": "stderr",
     "output_type": "stream",
     "text": [
      " 27%|██▋       | 27301/100001 [59:08<2:14:20,  9.02it/s]"
     ]
    },
    {
     "name": "stdout",
     "output_type": "stream",
     "text": [
      "GAN: loss d: 2.95165    loss g: -2.62939\n"
     ]
    },
    {
     "name": "stderr",
     "output_type": "stream",
     "text": [
      " 27%|██▋       | 27403/100001 [59:19<2:06:29,  9.57it/s]"
     ]
    },
    {
     "name": "stdout",
     "output_type": "stream",
     "text": [
      "GAN: loss d: 4.54937    loss g: -2.05187\n"
     ]
    },
    {
     "name": "stderr",
     "output_type": "stream",
     "text": [
      " 28%|██▊       | 27501/100001 [59:29<2:15:00,  8.95it/s]"
     ]
    },
    {
     "name": "stdout",
     "output_type": "stream",
     "text": [
      "GAN: loss d: 5.02089    loss g: -2.49944\n"
     ]
    },
    {
     "name": "stderr",
     "output_type": "stream",
     "text": [
      " 28%|██▊       | 27601/100001 [59:40<2:15:43,  8.89it/s]"
     ]
    },
    {
     "name": "stdout",
     "output_type": "stream",
     "text": [
      "GAN: loss d: 5.14888    loss g: -2.84440\n"
     ]
    },
    {
     "name": "stderr",
     "output_type": "stream",
     "text": [
      " 28%|██▊       | 27701/100001 [59:51<2:16:10,  8.85it/s]"
     ]
    },
    {
     "name": "stdout",
     "output_type": "stream",
     "text": [
      "GAN: loss d: 5.10662    loss g: -2.02416\n"
     ]
    },
    {
     "name": "stderr",
     "output_type": "stream",
     "text": [
      " 28%|██▊       | 27803/100001 [1:00:02<2:06:55,  9.48it/s]"
     ]
    },
    {
     "name": "stdout",
     "output_type": "stream",
     "text": [
      "GAN: loss d: 4.02192    loss g: -2.04139\n"
     ]
    },
    {
     "name": "stderr",
     "output_type": "stream",
     "text": [
      " 28%|██▊       | 27903/100001 [1:00:13<2:05:44,  9.56it/s]"
     ]
    },
    {
     "name": "stdout",
     "output_type": "stream",
     "text": [
      "GAN: loss d: 4.57180    loss g: -2.51864\n"
     ]
    },
    {
     "name": "stderr",
     "output_type": "stream",
     "text": [
      " 28%|██▊       | 28000/100001 [1:00:23<2:07:08,  9.44it/s]"
     ]
    },
    {
     "name": "stdout",
     "output_type": "stream",
     "text": [
      "GAN: loss d: 3.91637    loss g: -3.00962\n",
      "saving current model\n"
     ]
    },
    {
     "name": "stderr",
     "output_type": "stream",
     "text": [
      "\n",
      "\n",
      "  0%|          | 0/195 [00:00<?, ?it/s]\u001b[A\u001b[A"
     ]
    },
    {
     "name": "stdout",
     "output_type": "stream",
     "text": [
      "Number of real images: 6252\n"
     ]
    },
    {
     "name": "stderr",
     "output_type": "stream",
     "text": [
      "\n",
      "\n",
      "\n",
      "  0%|          | 0/15 [00:00<?, ?it/s]\u001b[A\u001b[A\u001b[A"
     ]
    },
    {
     "name": "stdout",
     "output_type": "stream",
     "text": [
      "Number of synthetic images: 500\n"
     ]
    },
    {
     "name": "stderr",
     "output_type": "stream",
     "text": [
      " 28%|██▊       | 28001/100001 [1:00:45<132:26:46,  6.62s/it]"
     ]
    },
    {
     "name": "stdout",
     "output_type": "stream",
     "text": [
      "Current fid score: 2.837364124793419\n",
      "Fid scores: [4.781169086965528, 2.5563023530045648, 2.463046801314256, 2.4992711961120584, 2.218550049566371, 2.964950268119857, 3.4702528654377076, 2.613245115961785, 2.34790911689727, 2.6919041220970037, 2.3144257756644073, 2.3240966003506536, 1.993653403354564, 2.697158487724515, 1.7994096039010472, 2.91434783406185, 2.7811489268397516, 2.2334427836959794, 2.2575362052527765, 2.130950188976346, 2.15637473746202, 2.4389161668575845, 2.2519582703541623, 2.1827718797205335, 2.3576301559437454, 2.6942066386249337, 2.6747271169665723, 2.8508206571304022, 2.837364124793419]\n"
     ]
    },
    {
     "name": "stderr",
     "output_type": "stream",
     "text": [
      "  0%|          | 0/195 [00:15<?, ?it/s]2:10:42,  9.18it/s]  \n",
      "  0%|          | 0/15 [00:05<?, ?it/s]\n",
      " 28%|██▊       | 28101/100001 [1:00:56<2:13:11,  9.00it/s]"
     ]
    },
    {
     "name": "stdout",
     "output_type": "stream",
     "text": [
      "GAN: loss d: 3.82479    loss g: -2.89008\n"
     ]
    },
    {
     "name": "stderr",
     "output_type": "stream",
     "text": [
      " 28%|██▊       | 28201/100001 [1:01:06<2:13:40,  8.95it/s]"
     ]
    },
    {
     "name": "stdout",
     "output_type": "stream",
     "text": [
      "GAN: loss d: 5.37704    loss g: -3.56450\n"
     ]
    },
    {
     "name": "stderr",
     "output_type": "stream",
     "text": [
      " 28%|██▊       | 28301/100001 [1:01:17<2:12:31,  9.02it/s]"
     ]
    },
    {
     "name": "stdout",
     "output_type": "stream",
     "text": [
      "GAN: loss d: 4.41609    loss g: -2.10725\n"
     ]
    },
    {
     "name": "stderr",
     "output_type": "stream",
     "text": [
      " 28%|██▊       | 28403/100001 [1:01:28<2:06:13,  9.45it/s]"
     ]
    },
    {
     "name": "stdout",
     "output_type": "stream",
     "text": [
      "GAN: loss d: 3.20598    loss g: -2.70756\n"
     ]
    },
    {
     "name": "stderr",
     "output_type": "stream",
     "text": [
      " 29%|██▊       | 28501/100001 [1:01:39<2:13:57,  8.90it/s]"
     ]
    },
    {
     "name": "stdout",
     "output_type": "stream",
     "text": [
      "GAN: loss d: 5.26205    loss g: -2.23926\n"
     ]
    },
    {
     "name": "stderr",
     "output_type": "stream",
     "text": [
      " 29%|██▊       | 28603/100001 [1:01:49<2:05:55,  9.45it/s]"
     ]
    },
    {
     "name": "stdout",
     "output_type": "stream",
     "text": [
      "GAN: loss d: 3.82569    loss g: -2.94901\n"
     ]
    },
    {
     "name": "stderr",
     "output_type": "stream",
     "text": [
      " 29%|██▊       | 28701/100001 [1:02:00<2:09:42,  9.16it/s]"
     ]
    },
    {
     "name": "stdout",
     "output_type": "stream",
     "text": [
      "GAN: loss d: 4.42617    loss g: -2.25975\n"
     ]
    },
    {
     "name": "stderr",
     "output_type": "stream",
     "text": [
      " 29%|██▉       | 28802/100001 [1:02:11<2:07:45,  9.29it/s]"
     ]
    },
    {
     "name": "stdout",
     "output_type": "stream",
     "text": [
      "GAN: loss d: 3.98704    loss g: -2.04574\n"
     ]
    },
    {
     "name": "stderr",
     "output_type": "stream",
     "text": [
      " 29%|██▉       | 28901/100001 [1:02:21<2:12:46,  8.93it/s]"
     ]
    },
    {
     "name": "stdout",
     "output_type": "stream",
     "text": [
      "GAN: loss d: 4.41203    loss g: -3.00940\n"
     ]
    },
    {
     "name": "stderr",
     "output_type": "stream",
     "text": [
      " 29%|██▉       | 29000/100001 [1:02:32<2:11:20,  9.01it/s]"
     ]
    },
    {
     "name": "stdout",
     "output_type": "stream",
     "text": [
      "GAN: loss d: 4.53560    loss g: -2.61762\n",
      "saving current model\n"
     ]
    },
    {
     "name": "stderr",
     "output_type": "stream",
     "text": [
      "\n",
      "\n",
      "  0%|          | 0/195 [00:00<?, ?it/s]\u001b[A\u001b[A"
     ]
    },
    {
     "name": "stdout",
     "output_type": "stream",
     "text": [
      "Number of real images: 6252\n"
     ]
    },
    {
     "name": "stderr",
     "output_type": "stream",
     "text": [
      "\n",
      "\n",
      "\n",
      "  0%|          | 0/15 [00:00<?, ?it/s]\u001b[A\u001b[A\u001b[A"
     ]
    },
    {
     "name": "stdout",
     "output_type": "stream",
     "text": [
      "Number of synthetic images: 500\n"
     ]
    },
    {
     "name": "stderr",
     "output_type": "stream",
     "text": [
      " 29%|██▉       | 29001/100001 [1:02:53<129:35:24,  6.57s/it]"
     ]
    },
    {
     "name": "stdout",
     "output_type": "stream",
     "text": [
      "Current fid score: 2.920850907282844\n",
      "Fid scores: [4.781169086965528, 2.5563023530045648, 2.463046801314256, 2.4992711961120584, 2.218550049566371, 2.964950268119857, 3.4702528654377076, 2.613245115961785, 2.34790911689727, 2.6919041220970037, 2.3144257756644073, 2.3240966003506536, 1.993653403354564, 2.697158487724515, 1.7994096039010472, 2.91434783406185, 2.7811489268397516, 2.2334427836959794, 2.2575362052527765, 2.130950188976346, 2.15637473746202, 2.4389161668575845, 2.2519582703541623, 2.1827718797205335, 2.3576301559437454, 2.6942066386249337, 2.6747271169665723, 2.8508206571304022, 2.837364124793419, 2.920850907282844]\n"
     ]
    },
    {
     "name": "stderr",
     "output_type": "stream",
     "text": [
      "  0%|          | 0/195 [00:11<?, ?it/s]40:12:13,  2.04s/it] \n",
      "  0%|          | 0/15 [00:01<?, ?it/s]\n",
      " 29%|██▉       | 29101/100001 [1:03:04<2:11:14,  9.00it/s] "
     ]
    },
    {
     "name": "stdout",
     "output_type": "stream",
     "text": [
      "GAN: loss d: 4.27624    loss g: -3.78947\n"
     ]
    },
    {
     "name": "stderr",
     "output_type": "stream",
     "text": [
      " 29%|██▉       | 29203/100001 [1:03:15<2:03:23,  9.56it/s]"
     ]
    },
    {
     "name": "stdout",
     "output_type": "stream",
     "text": [
      "GAN: loss d: 3.67158    loss g: -3.23541\n"
     ]
    },
    {
     "name": "stderr",
     "output_type": "stream",
     "text": [
      " 29%|██▉       | 29301/100001 [1:03:26<2:12:32,  8.89it/s]"
     ]
    },
    {
     "name": "stdout",
     "output_type": "stream",
     "text": [
      "GAN: loss d: 3.18758    loss g: -3.03189\n"
     ]
    },
    {
     "name": "stderr",
     "output_type": "stream",
     "text": [
      " 29%|██▉       | 29403/100001 [1:03:37<2:03:58,  9.49it/s]"
     ]
    },
    {
     "name": "stdout",
     "output_type": "stream",
     "text": [
      "GAN: loss d: 3.61042    loss g: -3.37041\n"
     ]
    },
    {
     "name": "stderr",
     "output_type": "stream",
     "text": [
      " 30%|██▉       | 29501/100001 [1:03:47<2:09:29,  9.07it/s]"
     ]
    },
    {
     "name": "stdout",
     "output_type": "stream",
     "text": [
      "GAN: loss d: 4.04434    loss g: -3.38623\n"
     ]
    },
    {
     "name": "stderr",
     "output_type": "stream",
     "text": [
      " 30%|██▉       | 29603/100001 [1:03:58<2:02:56,  9.54it/s]"
     ]
    },
    {
     "name": "stdout",
     "output_type": "stream",
     "text": [
      "GAN: loss d: 2.62232    loss g: -2.84355\n"
     ]
    },
    {
     "name": "stderr",
     "output_type": "stream",
     "text": [
      " 30%|██▉       | 29701/100001 [1:04:09<2:11:22,  8.92it/s]"
     ]
    },
    {
     "name": "stdout",
     "output_type": "stream",
     "text": [
      "GAN: loss d: 4.43917    loss g: -3.33359\n"
     ]
    },
    {
     "name": "stderr",
     "output_type": "stream",
     "text": [
      " 30%|██▉       | 29801/100001 [1:04:19<2:11:04,  8.93it/s]"
     ]
    },
    {
     "name": "stdout",
     "output_type": "stream",
     "text": [
      "GAN: loss d: 3.89731    loss g: -2.91343\n"
     ]
    },
    {
     "name": "stderr",
     "output_type": "stream",
     "text": [
      " 30%|██▉       | 29901/100001 [1:04:30<2:11:17,  8.90it/s]"
     ]
    },
    {
     "name": "stdout",
     "output_type": "stream",
     "text": [
      "GAN: loss d: 4.60645    loss g: -2.84725\n"
     ]
    },
    {
     "name": "stderr",
     "output_type": "stream",
     "text": [
      " 30%|██▉       | 30000/100001 [1:04:41<2:06:13,  9.24it/s]"
     ]
    },
    {
     "name": "stdout",
     "output_type": "stream",
     "text": [
      "GAN: loss d: 5.14593    loss g: -2.74181\n",
      "saving current model\n"
     ]
    },
    {
     "name": "stderr",
     "output_type": "stream",
     "text": [
      "\n",
      "\n",
      "  0%|          | 0/195 [00:00<?, ?it/s]\u001b[A\u001b[A"
     ]
    },
    {
     "name": "stdout",
     "output_type": "stream",
     "text": [
      "Number of real images: 6252\n"
     ]
    },
    {
     "name": "stderr",
     "output_type": "stream",
     "text": [
      "\n",
      "\n",
      "\n",
      "  0%|          | 0/15 [00:00<?, ?it/s]\u001b[A\u001b[A\u001b[A"
     ]
    },
    {
     "name": "stdout",
     "output_type": "stream",
     "text": [
      "Number of synthetic images: 500\n"
     ]
    },
    {
     "name": "stderr",
     "output_type": "stream",
     "text": [
      " 30%|███       | 30001/100001 [1:05:02<127:39:58,  6.57s/it]"
     ]
    },
    {
     "name": "stdout",
     "output_type": "stream",
     "text": [
      "Current fid score: 2.6905573257954796\n",
      "Fid scores: [4.781169086965528, 2.5563023530045648, 2.463046801314256, 2.4992711961120584, 2.218550049566371, 2.964950268119857, 3.4702528654377076, 2.613245115961785, 2.34790911689727, 2.6919041220970037, 2.3144257756644073, 2.3240966003506536, 1.993653403354564, 2.697158487724515, 1.7994096039010472, 2.91434783406185, 2.7811489268397516, 2.2334427836959794, 2.2575362052527765, 2.130950188976346, 2.15637473746202, 2.4389161668575845, 2.2519582703541623, 2.1827718797205335, 2.3576301559437454, 2.6942066386249337, 2.6747271169665723, 2.8508206571304022, 2.837364124793419, 2.920850907282844, 2.6905573257954796]\n"
     ]
    },
    {
     "name": "stderr",
     "output_type": "stream",
     "text": [
      "  0%|          | 0/195 [00:16<?, ?it/s]2:03:55,  9.41it/s]  \n",
      "  0%|          | 0/15 [00:06<?, ?it/s]\n",
      " 30%|███       | 30101/100001 [1:05:13<2:09:37,  8.99it/s]"
     ]
    },
    {
     "name": "stdout",
     "output_type": "stream",
     "text": [
      "GAN: loss d: 3.57353    loss g: -2.69841\n"
     ]
    },
    {
     "name": "stderr",
     "output_type": "stream",
     "text": [
      " 30%|███       | 30201/100001 [1:05:24<2:09:11,  9.00it/s]"
     ]
    },
    {
     "name": "stdout",
     "output_type": "stream",
     "text": [
      "GAN: loss d: 3.14749    loss g: -2.90933\n"
     ]
    },
    {
     "name": "stderr",
     "output_type": "stream",
     "text": [
      " 30%|███       | 30301/100001 [1:05:35<2:10:21,  8.91it/s]"
     ]
    },
    {
     "name": "stdout",
     "output_type": "stream",
     "text": [
      "GAN: loss d: 3.81748    loss g: -3.12715\n"
     ]
    },
    {
     "name": "stderr",
     "output_type": "stream",
     "text": [
      " 30%|███       | 30401/100001 [1:05:45<2:08:19,  9.04it/s]"
     ]
    },
    {
     "name": "stdout",
     "output_type": "stream",
     "text": [
      "GAN: loss d: 3.16121    loss g: -2.85614\n"
     ]
    },
    {
     "name": "stderr",
     "output_type": "stream",
     "text": [
      " 31%|███       | 30501/100001 [1:05:56<2:09:32,  8.94it/s]"
     ]
    },
    {
     "name": "stdout",
     "output_type": "stream",
     "text": [
      "GAN: loss d: 4.08917    loss g: -3.70055\n"
     ]
    },
    {
     "name": "stderr",
     "output_type": "stream",
     "text": [
      " 31%|███       | 30603/100001 [1:06:07<2:01:33,  9.51it/s]"
     ]
    },
    {
     "name": "stdout",
     "output_type": "stream",
     "text": [
      "GAN: loss d: 5.28172    loss g: -2.21984\n"
     ]
    },
    {
     "name": "stderr",
     "output_type": "stream",
     "text": [
      " 31%|███       | 30701/100001 [1:06:18<2:08:15,  9.00it/s]"
     ]
    },
    {
     "name": "stdout",
     "output_type": "stream",
     "text": [
      "GAN: loss d: 0.05831    loss g: -0.99043\n"
     ]
    },
    {
     "name": "stderr",
     "output_type": "stream",
     "text": [
      " 31%|███       | 30803/100001 [1:06:29<2:02:03,  9.45it/s]"
     ]
    },
    {
     "name": "stdout",
     "output_type": "stream",
     "text": [
      "GAN: loss d: 3.30112    loss g: -1.89822\n"
     ]
    },
    {
     "name": "stderr",
     "output_type": "stream",
     "text": [
      " 31%|███       | 30901/100001 [1:06:39<2:07:04,  9.06it/s]"
     ]
    },
    {
     "name": "stdout",
     "output_type": "stream",
     "text": [
      "GAN: loss d: 2.00070    loss g: -2.30437\n"
     ]
    },
    {
     "name": "stderr",
     "output_type": "stream",
     "text": [
      " 31%|███       | 31000/100001 [1:06:50<2:04:47,  9.22it/s]"
     ]
    },
    {
     "name": "stdout",
     "output_type": "stream",
     "text": [
      "GAN: loss d: 2.75015    loss g: -2.12329\n",
      "saving current model\n"
     ]
    },
    {
     "name": "stderr",
     "output_type": "stream",
     "text": [
      "\n",
      "\n",
      "  0%|          | 0/195 [00:00<?, ?it/s]\u001b[A\u001b[A"
     ]
    },
    {
     "name": "stdout",
     "output_type": "stream",
     "text": [
      "Number of real images: 6252\n"
     ]
    },
    {
     "name": "stderr",
     "output_type": "stream",
     "text": [
      "\n",
      "\n",
      "\n",
      "  0%|          | 0/15 [00:00<?, ?it/s]\u001b[A\u001b[A\u001b[A"
     ]
    },
    {
     "name": "stdout",
     "output_type": "stream",
     "text": [
      "Number of synthetic images: 500\n"
     ]
    },
    {
     "name": "stderr",
     "output_type": "stream",
     "text": [
      "  0%|          | 0/195 [00:10<?, ?it/s]\n",
      "  0%|          | 0/15 [00:00<?, ?it/s]"
     ]
    },
    {
     "name": "stdout",
     "output_type": "stream",
     "text": [
      "Current fid score: 1.3344332586511385\n",
      "Fid scores: [4.781169086965528, 2.5563023530045648, 2.463046801314256, 2.4992711961120584, 2.218550049566371, 2.964950268119857, 3.4702528654377076, 2.613245115961785, 2.34790911689727, 2.6919041220970037, 2.3144257756644073, 2.3240966003506536, 1.993653403354564, 2.697158487724515, 1.7994096039010472, 2.91434783406185, 2.7811489268397516, 2.2334427836959794, 2.2575362052527765, 2.130950188976346, 2.15637473746202, 2.4389161668575845, 2.2519582703541623, 2.1827718797205335, 2.3576301559437454, 2.6942066386249337, 2.6747271169665723, 2.8508206571304022, 2.837364124793419, 2.920850907282844, 2.6905573257954796, 1.3344332586511385]\n",
      "New min fid score: 1.334433258651\n",
      "Saving best model\n"
     ]
    },
    {
     "name": "stderr",
     "output_type": "stream",
     "text": [
      "\n",
      " 31%|███       | 31101/100001 [1:07:25<2:08:20,  8.95it/s]  "
     ]
    },
    {
     "name": "stdout",
     "output_type": "stream",
     "text": [
      "GAN: loss d: 0.03712    loss g: -1.96289\n"
     ]
    },
    {
     "name": "stderr",
     "output_type": "stream",
     "text": [
      " 31%|███       | 31201/100001 [1:07:36<2:06:57,  9.03it/s]"
     ]
    },
    {
     "name": "stdout",
     "output_type": "stream",
     "text": [
      "GAN: loss d: 2.22391    loss g: -2.13239\n"
     ]
    },
    {
     "name": "stderr",
     "output_type": "stream",
     "text": [
      " 31%|███▏      | 31303/100001 [1:07:47<2:00:40,  9.49it/s]"
     ]
    },
    {
     "name": "stdout",
     "output_type": "stream",
     "text": [
      "GAN: loss d: 3.30924    loss g: -2.17872\n"
     ]
    },
    {
     "name": "stderr",
     "output_type": "stream",
     "text": [
      " 31%|███▏      | 31403/100001 [1:07:58<2:01:18,  9.42it/s]"
     ]
    },
    {
     "name": "stdout",
     "output_type": "stream",
     "text": [
      "GAN: loss d: 1.69664    loss g: -2.45506\n"
     ]
    },
    {
     "name": "stderr",
     "output_type": "stream",
     "text": [
      " 32%|███▏      | 31503/100001 [1:08:08<2:00:08,  9.50it/s]"
     ]
    },
    {
     "name": "stdout",
     "output_type": "stream",
     "text": [
      "GAN: loss d: 0.74189    loss g: -1.91618\n"
     ]
    },
    {
     "name": "stderr",
     "output_type": "stream",
     "text": [
      " 32%|███▏      | 31601/100001 [1:08:19<2:06:59,  8.98it/s]"
     ]
    },
    {
     "name": "stdout",
     "output_type": "stream",
     "text": [
      "GAN: loss d: 2.08941    loss g: -2.56452\n"
     ]
    },
    {
     "name": "stderr",
     "output_type": "stream",
     "text": [
      " 32%|███▏      | 31701/100001 [1:08:30<2:08:18,  8.87it/s]"
     ]
    },
    {
     "name": "stdout",
     "output_type": "stream",
     "text": [
      "GAN: loss d: 3.44240    loss g: -2.20737\n"
     ]
    },
    {
     "name": "stderr",
     "output_type": "stream",
     "text": [
      " 32%|███▏      | 31801/100001 [1:08:40<2:05:58,  9.02it/s]"
     ]
    },
    {
     "name": "stdout",
     "output_type": "stream",
     "text": [
      "GAN: loss d: 3.31665    loss g: -2.51635\n"
     ]
    },
    {
     "name": "stderr",
     "output_type": "stream",
     "text": [
      " 32%|███▏      | 31901/100001 [1:08:51<2:04:06,  9.14it/s]"
     ]
    },
    {
     "name": "stdout",
     "output_type": "stream",
     "text": [
      "GAN: loss d: 3.14919    loss g: -2.62125\n"
     ]
    },
    {
     "name": "stderr",
     "output_type": "stream",
     "text": [
      " 32%|███▏      | 32000/100001 [1:09:02<2:00:27,  9.41it/s]"
     ]
    },
    {
     "name": "stdout",
     "output_type": "stream",
     "text": [
      "GAN: loss d: 1.07526    loss g: -2.58116\n",
      "saving current model\n"
     ]
    },
    {
     "name": "stderr",
     "output_type": "stream",
     "text": [
      "\n",
      "\n",
      "  0%|          | 0/195 [00:00<?, ?it/s]\u001b[A\u001b[A"
     ]
    },
    {
     "name": "stdout",
     "output_type": "stream",
     "text": [
      "Number of real images: 6252\n"
     ]
    },
    {
     "name": "stderr",
     "output_type": "stream",
     "text": [
      "\n",
      "\n",
      "\n",
      "  0%|          | 0/15 [00:00<?, ?it/s]\u001b[A\u001b[A\u001b[A"
     ]
    },
    {
     "name": "stdout",
     "output_type": "stream",
     "text": [
      "Number of synthetic images: 500\n"
     ]
    },
    {
     "name": "stderr",
     "output_type": "stream",
     "text": [
      " 32%|███▏      | 32001/100001 [1:09:23<124:42:48,  6.60s/it]"
     ]
    },
    {
     "name": "stdout",
     "output_type": "stream",
     "text": [
      "Current fid score: 2.1663599865511003\n",
      "Fid scores: [4.781169086965528, 2.5563023530045648, 2.463046801314256, 2.4992711961120584, 2.218550049566371, 2.964950268119857, 3.4702528654377076, 2.613245115961785, 2.34790911689727, 2.6919041220970037, 2.3144257756644073, 2.3240966003506536, 1.993653403354564, 2.697158487724515, 1.7994096039010472, 2.91434783406185, 2.7811489268397516, 2.2334427836959794, 2.2575362052527765, 2.130950188976346, 2.15637473746202, 2.4389161668575845, 2.2519582703541623, 2.1827718797205335, 2.3576301559437454, 2.6942066386249337, 2.6747271169665723, 2.8508206571304022, 2.837364124793419, 2.920850907282844, 2.6905573257954796, 1.3344332586511385, 2.1663599865511003]\n"
     ]
    },
    {
     "name": "stderr",
     "output_type": "stream",
     "text": [
      "  0%|          | 0/195 [00:16<?, ?it/s]2:02:40,  9.23it/s]  \n",
      "  0%|          | 0/15 [00:06<?, ?it/s]\n",
      " 32%|███▏      | 32101/100001 [1:09:34<2:05:46,  9.00it/s]"
     ]
    },
    {
     "name": "stdout",
     "output_type": "stream",
     "text": [
      "GAN: loss d: 3.23128    loss g: -2.05105\n"
     ]
    },
    {
     "name": "stderr",
     "output_type": "stream",
     "text": [
      " 32%|███▏      | 32203/100001 [1:09:45<1:59:05,  9.49it/s]"
     ]
    },
    {
     "name": "stdout",
     "output_type": "stream",
     "text": [
      "GAN: loss d: 3.41797    loss g: -2.37486\n"
     ]
    },
    {
     "name": "stderr",
     "output_type": "stream",
     "text": [
      " 32%|███▏      | 32301/100001 [1:09:56<2:05:34,  8.98it/s]"
     ]
    },
    {
     "name": "stdout",
     "output_type": "stream",
     "text": [
      "GAN: loss d: 1.83369    loss g: -1.84043\n"
     ]
    },
    {
     "name": "stderr",
     "output_type": "stream",
     "text": [
      " 32%|███▏      | 32401/100001 [1:10:06<2:07:03,  8.87it/s]"
     ]
    },
    {
     "name": "stdout",
     "output_type": "stream",
     "text": [
      "GAN: loss d: 0.17134    loss g: -1.00796\n"
     ]
    },
    {
     "name": "stderr",
     "output_type": "stream",
     "text": [
      " 33%|███▎      | 32501/100001 [1:10:17<2:05:39,  8.95it/s]"
     ]
    },
    {
     "name": "stdout",
     "output_type": "stream",
     "text": [
      "GAN: loss d: 2.20527    loss g: -2.28091\n"
     ]
    },
    {
     "name": "stderr",
     "output_type": "stream",
     "text": [
      " 33%|███▎      | 32603/100001 [1:10:28<1:59:27,  9.40it/s]"
     ]
    },
    {
     "name": "stdout",
     "output_type": "stream",
     "text": [
      "GAN: loss d: 0.41970    loss g: -2.11118\n"
     ]
    },
    {
     "name": "stderr",
     "output_type": "stream",
     "text": [
      " 33%|███▎      | 32701/100001 [1:10:39<2:05:05,  8.97it/s]"
     ]
    },
    {
     "name": "stdout",
     "output_type": "stream",
     "text": [
      "GAN: loss d: 2.54604    loss g: -1.67887\n"
     ]
    },
    {
     "name": "stderr",
     "output_type": "stream",
     "text": [
      " 33%|███▎      | 32801/100001 [1:10:49<2:05:11,  8.95it/s]"
     ]
    },
    {
     "name": "stdout",
     "output_type": "stream",
     "text": [
      "GAN: loss d: 1.67456    loss g: -2.18647\n"
     ]
    },
    {
     "name": "stderr",
     "output_type": "stream",
     "text": [
      " 33%|███▎      | 32901/100001 [1:11:00<2:04:26,  8.99it/s]"
     ]
    },
    {
     "name": "stdout",
     "output_type": "stream",
     "text": [
      "GAN: loss d: 1.48633    loss g: -2.49833\n"
     ]
    },
    {
     "name": "stderr",
     "output_type": "stream",
     "text": [
      " 33%|███▎      | 33000/100001 [1:11:11<2:02:19,  9.13it/s]"
     ]
    },
    {
     "name": "stdout",
     "output_type": "stream",
     "text": [
      "GAN: loss d: 1.85508    loss g: -2.36800\n",
      "saving current model\n"
     ]
    },
    {
     "name": "stderr",
     "output_type": "stream",
     "text": [
      "\n",
      "\n",
      "  0%|          | 0/195 [00:00<?, ?it/s]\u001b[A\u001b[A"
     ]
    },
    {
     "name": "stdout",
     "output_type": "stream",
     "text": [
      "Number of real images: 6252\n"
     ]
    },
    {
     "name": "stderr",
     "output_type": "stream",
     "text": [
      "\n",
      "\n",
      "\n",
      "  0%|          | 0/15 [00:00<?, ?it/s]\u001b[A\u001b[A\u001b[A"
     ]
    },
    {
     "name": "stdout",
     "output_type": "stream",
     "text": [
      "Number of synthetic images: 500\n"
     ]
    },
    {
     "name": "stderr",
     "output_type": "stream",
     "text": [
      "  0%|          | 0/195 [00:10<?, ?it/s]\n",
      "  0%|          | 0/15 [00:00<?, ?it/s]"
     ]
    },
    {
     "name": "stdout",
     "output_type": "stream",
     "text": [
      "Current fid score: 0.855827226287527\n",
      "Fid scores: [4.781169086965528, 2.5563023530045648, 2.463046801314256, 2.4992711961120584, 2.218550049566371, 2.964950268119857, 3.4702528654377076, 2.613245115961785, 2.34790911689727, 2.6919041220970037, 2.3144257756644073, 2.3240966003506536, 1.993653403354564, 2.697158487724515, 1.7994096039010472, 2.91434783406185, 2.7811489268397516, 2.2334427836959794, 2.2575362052527765, 2.130950188976346, 2.15637473746202, 2.4389161668575845, 2.2519582703541623, 2.1827718797205335, 2.3576301559437454, 2.6942066386249337, 2.6747271169665723, 2.8508206571304022, 2.837364124793419, 2.920850907282844, 2.6905573257954796, 1.3344332586511385, 2.1663599865511003, 0.855827226287527]\n",
      "New min fid score: 0.855827226288\n",
      "Saving best model\n"
     ]
    },
    {
     "name": "stderr",
     "output_type": "stream",
     "text": [
      "\n",
      " 33%|███▎      | 33101/100001 [1:11:46<2:01:49,  9.15it/s]  "
     ]
    },
    {
     "name": "stdout",
     "output_type": "stream",
     "text": [
      "GAN: loss d: 2.15667    loss g: -2.59279\n"
     ]
    },
    {
     "name": "stderr",
     "output_type": "stream",
     "text": [
      " 33%|███▎      | 33203/100001 [1:11:57<1:57:21,  9.49it/s]"
     ]
    },
    {
     "name": "stdout",
     "output_type": "stream",
     "text": [
      "GAN: loss d: 2.73130    loss g: -2.46073\n"
     ]
    },
    {
     "name": "stderr",
     "output_type": "stream",
     "text": [
      " 33%|███▎      | 33301/100001 [1:12:08<2:03:55,  8.97it/s]"
     ]
    },
    {
     "name": "stdout",
     "output_type": "stream",
     "text": [
      "GAN: loss d: 1.95118    loss g: -2.60242\n"
     ]
    },
    {
     "name": "stderr",
     "output_type": "stream",
     "text": [
      " 33%|███▎      | 33401/100001 [1:12:18<2:04:01,  8.95it/s]"
     ]
    },
    {
     "name": "stdout",
     "output_type": "stream",
     "text": [
      "GAN: loss d: 3.18761    loss g: -2.09360\n"
     ]
    },
    {
     "name": "stderr",
     "output_type": "stream",
     "text": [
      " 34%|███▎      | 33501/100001 [1:12:29<2:00:24,  9.20it/s]"
     ]
    },
    {
     "name": "stdout",
     "output_type": "stream",
     "text": [
      "GAN: loss d: 2.99523    loss g: -2.07438\n"
     ]
    },
    {
     "name": "stderr",
     "output_type": "stream",
     "text": [
      " 34%|███▎      | 33603/100001 [1:12:40<1:57:10,  9.44it/s]"
     ]
    },
    {
     "name": "stdout",
     "output_type": "stream",
     "text": [
      "GAN: loss d: 3.18238    loss g: -2.28194\n"
     ]
    },
    {
     "name": "stderr",
     "output_type": "stream",
     "text": [
      " 34%|███▎      | 33703/100001 [1:12:51<1:56:14,  9.51it/s]"
     ]
    },
    {
     "name": "stdout",
     "output_type": "stream",
     "text": [
      "GAN: loss d: 1.35519    loss g: -1.97991\n"
     ]
    },
    {
     "name": "stderr",
     "output_type": "stream",
     "text": [
      " 34%|███▍      | 33801/100001 [1:13:01<2:02:07,  9.03it/s]"
     ]
    },
    {
     "name": "stdout",
     "output_type": "stream",
     "text": [
      "GAN: loss d: 3.85415    loss g: -1.64572\n"
     ]
    },
    {
     "name": "stderr",
     "output_type": "stream",
     "text": [
      " 34%|███▍      | 33901/100001 [1:13:12<2:01:50,  9.04it/s]"
     ]
    },
    {
     "name": "stdout",
     "output_type": "stream",
     "text": [
      "GAN: loss d: 3.33784    loss g: -1.61507\n"
     ]
    },
    {
     "name": "stderr",
     "output_type": "stream",
     "text": [
      " 34%|███▍      | 34000/100001 [1:13:22<1:56:31,  9.44it/s]"
     ]
    },
    {
     "name": "stdout",
     "output_type": "stream",
     "text": [
      "GAN: loss d: 2.33318    loss g: -2.39413\n",
      "saving current model\n"
     ]
    },
    {
     "name": "stderr",
     "output_type": "stream",
     "text": [
      "\n",
      "\n",
      "  0%|          | 0/195 [00:00<?, ?it/s]\u001b[A\u001b[A"
     ]
    },
    {
     "name": "stdout",
     "output_type": "stream",
     "text": [
      "Number of real images: 6252\n"
     ]
    },
    {
     "name": "stderr",
     "output_type": "stream",
     "text": [
      "\n",
      "\n",
      "\n",
      "  0%|          | 0/15 [00:00<?, ?it/s]\u001b[A\u001b[A\u001b[A"
     ]
    },
    {
     "name": "stdout",
     "output_type": "stream",
     "text": [
      "Number of synthetic images: 500\n"
     ]
    },
    {
     "name": "stderr",
     "output_type": "stream",
     "text": [
      "  0%|          | 0/195 [00:10<?, ?it/s]\n",
      "  0%|          | 0/15 [00:00<?, ?it/s]"
     ]
    },
    {
     "name": "stdout",
     "output_type": "stream",
     "text": [
      "Current fid score: 0.7591339506391392\n",
      "Fid scores: [4.781169086965528, 2.5563023530045648, 2.463046801314256, 2.4992711961120584, 2.218550049566371, 2.964950268119857, 3.4702528654377076, 2.613245115961785, 2.34790911689727, 2.6919041220970037, 2.3144257756644073, 2.3240966003506536, 1.993653403354564, 2.697158487724515, 1.7994096039010472, 2.91434783406185, 2.7811489268397516, 2.2334427836959794, 2.2575362052527765, 2.130950188976346, 2.15637473746202, 2.4389161668575845, 2.2519582703541623, 2.1827718797205335, 2.3576301559437454, 2.6942066386249337, 2.6747271169665723, 2.8508206571304022, 2.837364124793419, 2.920850907282844, 2.6905573257954796, 1.3344332586511385, 2.1663599865511003, 0.855827226287527, 0.7591339506391392]\n",
      "New min fid score: 0.759133950639\n",
      "Saving best model\n"
     ]
    },
    {
     "name": "stderr",
     "output_type": "stream",
     "text": [
      "\n",
      " 34%|███▍      | 34101/100001 [1:13:58<2:02:18,  8.98it/s]  "
     ]
    },
    {
     "name": "stdout",
     "output_type": "stream",
     "text": [
      "GAN: loss d: 2.42127    loss g: -2.09455\n"
     ]
    },
    {
     "name": "stderr",
     "output_type": "stream",
     "text": [
      " 34%|███▍      | 34201/100001 [1:14:09<2:02:20,  8.96it/s]"
     ]
    },
    {
     "name": "stdout",
     "output_type": "stream",
     "text": [
      "GAN: loss d: 3.01786    loss g: -2.66825\n"
     ]
    },
    {
     "name": "stderr",
     "output_type": "stream",
     "text": [
      " 34%|███▍      | 34301/100001 [1:14:19<1:59:35,  9.16it/s]"
     ]
    },
    {
     "name": "stdout",
     "output_type": "stream",
     "text": [
      "GAN: loss d: 2.87580    loss g: -2.17792\n"
     ]
    },
    {
     "name": "stderr",
     "output_type": "stream",
     "text": [
      " 34%|███▍      | 34403/100001 [1:14:30<1:57:10,  9.33it/s]"
     ]
    },
    {
     "name": "stdout",
     "output_type": "stream",
     "text": [
      "GAN: loss d: 3.44021    loss g: -2.04640\n"
     ]
    },
    {
     "name": "stderr",
     "output_type": "stream",
     "text": [
      " 35%|███▍      | 34501/100001 [1:14:41<2:03:11,  8.86it/s]"
     ]
    },
    {
     "name": "stdout",
     "output_type": "stream",
     "text": [
      "GAN: loss d: 4.37956    loss g: -1.49522\n"
     ]
    },
    {
     "name": "stderr",
     "output_type": "stream",
     "text": [
      " 35%|███▍      | 34603/100001 [1:14:52<1:54:44,  9.50it/s]"
     ]
    },
    {
     "name": "stdout",
     "output_type": "stream",
     "text": [
      "GAN: loss d: 2.46413    loss g: -2.08612\n"
     ]
    },
    {
     "name": "stderr",
     "output_type": "stream",
     "text": [
      " 35%|███▍      | 34703/100001 [1:15:03<1:55:14,  9.44it/s]"
     ]
    },
    {
     "name": "stdout",
     "output_type": "stream",
     "text": [
      "GAN: loss d: 2.27634    loss g: -1.78148\n"
     ]
    },
    {
     "name": "stderr",
     "output_type": "stream",
     "text": [
      " 35%|███▍      | 34801/100001 [1:15:13<1:59:58,  9.06it/s]"
     ]
    },
    {
     "name": "stdout",
     "output_type": "stream",
     "text": [
      "GAN: loss d: 2.77207    loss g: -1.40113\n"
     ]
    },
    {
     "name": "stderr",
     "output_type": "stream",
     "text": [
      " 35%|███▍      | 34901/100001 [1:15:24<1:59:11,  9.10it/s]"
     ]
    },
    {
     "name": "stdout",
     "output_type": "stream",
     "text": [
      "GAN: loss d: 2.42766    loss g: -2.12750\n"
     ]
    },
    {
     "name": "stderr",
     "output_type": "stream",
     "text": [
      " 35%|███▍      | 35000/100001 [1:15:34<1:57:23,  9.23it/s]"
     ]
    },
    {
     "name": "stdout",
     "output_type": "stream",
     "text": [
      "GAN: loss d: 1.16284    loss g: -2.15454\n",
      "saving current model\n"
     ]
    },
    {
     "name": "stderr",
     "output_type": "stream",
     "text": [
      "\n",
      "\n",
      "  0%|          | 0/195 [00:00<?, ?it/s]\u001b[A\u001b[A"
     ]
    },
    {
     "name": "stdout",
     "output_type": "stream",
     "text": [
      "Number of real images: 6252\n"
     ]
    },
    {
     "name": "stderr",
     "output_type": "stream",
     "text": [
      "\n",
      "\n",
      "\n",
      "  0%|          | 0/15 [00:00<?, ?it/s]\u001b[A\u001b[A\u001b[A"
     ]
    },
    {
     "name": "stdout",
     "output_type": "stream",
     "text": [
      "Number of synthetic images: 500\n"
     ]
    },
    {
     "name": "stderr",
     "output_type": "stream",
     "text": [
      " 35%|███▌      | 35001/100001 [1:15:56<116:54:42,  6.48s/it]"
     ]
    },
    {
     "name": "stdout",
     "output_type": "stream",
     "text": [
      "Current fid score: 1.0899071055671108\n",
      "Fid scores: [4.781169086965528, 2.5563023530045648, 2.463046801314256, 2.4992711961120584, 2.218550049566371, 2.964950268119857, 3.4702528654377076, 2.613245115961785, 2.34790911689727, 2.6919041220970037, 2.3144257756644073, 2.3240966003506536, 1.993653403354564, 2.697158487724515, 1.7994096039010472, 2.91434783406185, 2.7811489268397516, 2.2334427836959794, 2.2575362052527765, 2.130950188976346, 2.15637473746202, 2.4389161668575845, 2.2519582703541623, 2.1827718797205335, 2.3576301559437454, 2.6942066386249337, 2.6747271169665723, 2.8508206571304022, 2.837364124793419, 2.920850907282844, 2.6905573257954796, 1.3344332586511385, 2.1663599865511003, 0.855827226287527, 0.7591339506391392, 1.0899071055671108]\n"
     ]
    },
    {
     "name": "stderr",
     "output_type": "stream",
     "text": [
      "  0%|          | 0/195 [00:14<?, ?it/s]1:56:58,  9.26it/s]  \n",
      "  0%|          | 0/15 [00:04<?, ?it/s]\n",
      " 35%|███▌      | 35103/100001 [1:16:07<1:55:11,  9.39it/s]"
     ]
    },
    {
     "name": "stdout",
     "output_type": "stream",
     "text": [
      "GAN: loss d: 3.82028    loss g: -1.52949\n"
     ]
    },
    {
     "name": "stderr",
     "output_type": "stream",
     "text": [
      " 35%|███▌      | 35201/100001 [1:16:17<2:00:42,  8.95it/s]"
     ]
    },
    {
     "name": "stdout",
     "output_type": "stream",
     "text": [
      "GAN: loss d: 2.76100    loss g: -2.26470\n"
     ]
    },
    {
     "name": "stderr",
     "output_type": "stream",
     "text": [
      " 35%|███▌      | 35301/100001 [1:16:28<2:00:01,  8.98it/s]"
     ]
    },
    {
     "name": "stdout",
     "output_type": "stream",
     "text": [
      "GAN: loss d: 0.95858    loss g: -2.03870\n"
     ]
    },
    {
     "name": "stderr",
     "output_type": "stream",
     "text": [
      " 35%|███▌      | 35401/100001 [1:16:39<2:01:01,  8.90it/s]"
     ]
    },
    {
     "name": "stdout",
     "output_type": "stream",
     "text": [
      "GAN: loss d: -0.22749    loss g: -2.33597\n"
     ]
    },
    {
     "name": "stderr",
     "output_type": "stream",
     "text": [
      " 36%|███▌      | 35503/100001 [1:16:50<1:53:05,  9.51it/s]"
     ]
    },
    {
     "name": "stdout",
     "output_type": "stream",
     "text": [
      "GAN: loss d: 1.48905    loss g: -2.15876\n"
     ]
    },
    {
     "name": "stderr",
     "output_type": "stream",
     "text": [
      " 36%|███▌      | 35601/100001 [1:17:00<1:59:13,  9.00it/s]"
     ]
    },
    {
     "name": "stdout",
     "output_type": "stream",
     "text": [
      "GAN: loss d: 3.33175    loss g: -2.44521\n"
     ]
    },
    {
     "name": "stderr",
     "output_type": "stream",
     "text": [
      " 36%|███▌      | 35701/100001 [1:17:11<2:00:09,  8.92it/s]"
     ]
    },
    {
     "name": "stdout",
     "output_type": "stream",
     "text": [
      "GAN: loss d: 2.88678    loss g: -2.69352\n"
     ]
    },
    {
     "name": "stderr",
     "output_type": "stream",
     "text": [
      " 36%|███▌      | 35801/100001 [1:17:22<1:57:16,  9.12it/s]"
     ]
    },
    {
     "name": "stdout",
     "output_type": "stream",
     "text": [
      "GAN: loss d: 0.81256    loss g: -2.32421\n"
     ]
    },
    {
     "name": "stderr",
     "output_type": "stream",
     "text": [
      " 36%|███▌      | 35901/100001 [1:17:32<1:59:41,  8.93it/s]"
     ]
    },
    {
     "name": "stdout",
     "output_type": "stream",
     "text": [
      "GAN: loss d: 1.11629    loss g: -2.06608\n"
     ]
    },
    {
     "name": "stderr",
     "output_type": "stream",
     "text": [
      " 36%|███▌      | 36000/100001 [1:17:43<1:53:25,  9.40it/s]"
     ]
    },
    {
     "name": "stdout",
     "output_type": "stream",
     "text": [
      "GAN: loss d: 4.15066    loss g: -1.84505\n",
      "saving current model\n"
     ]
    },
    {
     "name": "stderr",
     "output_type": "stream",
     "text": [
      "\n",
      "\n",
      "  0%|          | 0/195 [00:00<?, ?it/s]\u001b[A\u001b[A"
     ]
    },
    {
     "name": "stdout",
     "output_type": "stream",
     "text": [
      "Number of real images: 6252\n"
     ]
    },
    {
     "name": "stderr",
     "output_type": "stream",
     "text": [
      "\n",
      "\n",
      "\n",
      "  0%|          | 0/15 [00:00<?, ?it/s]\u001b[A\u001b[A\u001b[A"
     ]
    },
    {
     "name": "stdout",
     "output_type": "stream",
     "text": [
      "Number of synthetic images: 500\n"
     ]
    },
    {
     "name": "stderr",
     "output_type": "stream",
     "text": [
      " 36%|███▌      | 36001/100001 [1:18:04<115:28:02,  6.50s/it]"
     ]
    },
    {
     "name": "stdout",
     "output_type": "stream",
     "text": [
      "Current fid score: 1.556975725398381\n",
      "Fid scores: [4.781169086965528, 2.5563023530045648, 2.463046801314256, 2.4992711961120584, 2.218550049566371, 2.964950268119857, 3.4702528654377076, 2.613245115961785, 2.34790911689727, 2.6919041220970037, 2.3144257756644073, 2.3240966003506536, 1.993653403354564, 2.697158487724515, 1.7994096039010472, 2.91434783406185, 2.7811489268397516, 2.2334427836959794, 2.2575362052527765, 2.130950188976346, 2.15637473746202, 2.4389161668575845, 2.2519582703541623, 2.1827718797205335, 2.3576301559437454, 2.6942066386249337, 2.6747271169665723, 2.8508206571304022, 2.837364124793419, 2.920850907282844, 2.6905573257954796, 1.3344332586511385, 2.1663599865511003, 0.855827226287527, 0.7591339506391392, 1.0899071055671108, 1.556975725398381]\n"
     ]
    },
    {
     "name": "stderr",
     "output_type": "stream",
     "text": [
      "  0%|          | 0/195 [00:19<?, ?it/s]1:52:37,  9.46it/s]  \n",
      "  0%|          | 0/15 [00:09<?, ?it/s]\n",
      " 36%|███▌      | 36101/100001 [1:18:15<1:58:15,  9.01it/s]"
     ]
    },
    {
     "name": "stdout",
     "output_type": "stream",
     "text": [
      "GAN: loss d: 2.28396    loss g: -1.65792\n"
     ]
    },
    {
     "name": "stderr",
     "output_type": "stream",
     "text": [
      " 36%|███▌      | 36201/100001 [1:18:26<2:01:06,  8.78it/s]"
     ]
    },
    {
     "name": "stdout",
     "output_type": "stream",
     "text": [
      "GAN: loss d: 2.03706    loss g: -1.92304\n"
     ]
    },
    {
     "name": "stderr",
     "output_type": "stream",
     "text": [
      " 36%|███▋      | 36301/100001 [1:18:37<1:59:50,  8.86it/s]"
     ]
    },
    {
     "name": "stdout",
     "output_type": "stream",
     "text": [
      "GAN: loss d: 2.70637    loss g: -2.08064\n"
     ]
    },
    {
     "name": "stderr",
     "output_type": "stream",
     "text": [
      " 36%|███▋      | 36401/100001 [1:18:47<1:57:31,  9.02it/s]"
     ]
    },
    {
     "name": "stdout",
     "output_type": "stream",
     "text": [
      "GAN: loss d: 1.80564    loss g: -1.80694\n"
     ]
    },
    {
     "name": "stderr",
     "output_type": "stream",
     "text": [
      " 37%|███▋      | 36503/100001 [1:18:58<1:51:13,  9.52it/s]"
     ]
    },
    {
     "name": "stdout",
     "output_type": "stream",
     "text": [
      "GAN: loss d: 4.62015    loss g: -1.52261\n"
     ]
    },
    {
     "name": "stderr",
     "output_type": "stream",
     "text": [
      " 37%|███▋      | 36603/100001 [1:19:09<1:51:16,  9.50it/s]"
     ]
    },
    {
     "name": "stdout",
     "output_type": "stream",
     "text": [
      "GAN: loss d: 2.98693    loss g: -1.94235\n"
     ]
    },
    {
     "name": "stderr",
     "output_type": "stream",
     "text": [
      " 37%|███▋      | 36701/100001 [1:19:20<1:56:59,  9.02it/s]"
     ]
    },
    {
     "name": "stdout",
     "output_type": "stream",
     "text": [
      "GAN: loss d: 0.44437    loss g: -1.81103\n"
     ]
    },
    {
     "name": "stderr",
     "output_type": "stream",
     "text": [
      " 37%|███▋      | 36801/100001 [1:19:30<1:59:16,  8.83it/s]"
     ]
    },
    {
     "name": "stdout",
     "output_type": "stream",
     "text": [
      "GAN: loss d: 2.38665    loss g: -1.60534\n"
     ]
    },
    {
     "name": "stderr",
     "output_type": "stream",
     "text": [
      " 37%|███▋      | 36901/100001 [1:19:41<1:57:29,  8.95it/s]"
     ]
    },
    {
     "name": "stdout",
     "output_type": "stream",
     "text": [
      "GAN: loss d: 3.67772    loss g: -2.17064\n"
     ]
    },
    {
     "name": "stderr",
     "output_type": "stream",
     "text": [
      " 37%|███▋      | 37000/100001 [1:19:52<1:51:26,  9.42it/s]"
     ]
    },
    {
     "name": "stdout",
     "output_type": "stream",
     "text": [
      "GAN: loss d: 0.96152    loss g: -1.84610\n",
      "saving current model\n"
     ]
    },
    {
     "name": "stderr",
     "output_type": "stream",
     "text": [
      "\n",
      "\n",
      "  0%|          | 0/195 [00:00<?, ?it/s]\u001b[A\u001b[A"
     ]
    },
    {
     "name": "stdout",
     "output_type": "stream",
     "text": [
      "Number of real images: 6252\n"
     ]
    },
    {
     "name": "stderr",
     "output_type": "stream",
     "text": [
      "\n",
      "\n",
      "\n",
      "  0%|          | 0/15 [00:00<?, ?it/s]\u001b[A\u001b[A\u001b[A"
     ]
    },
    {
     "name": "stdout",
     "output_type": "stream",
     "text": [
      "Number of synthetic images: 500\n"
     ]
    },
    {
     "name": "stderr",
     "output_type": "stream",
     "text": [
      " 37%|███▋      | 37001/100001 [1:20:13<114:53:24,  6.57s/it]"
     ]
    },
    {
     "name": "stdout",
     "output_type": "stream",
     "text": [
      "Current fid score: 1.6322229933262378\n",
      "Fid scores: [4.781169086965528, 2.5563023530045648, 2.463046801314256, 2.4992711961120584, 2.218550049566371, 2.964950268119857, 3.4702528654377076, 2.613245115961785, 2.34790911689727, 2.6919041220970037, 2.3144257756644073, 2.3240966003506536, 1.993653403354564, 2.697158487724515, 1.7994096039010472, 2.91434783406185, 2.7811489268397516, 2.2334427836959794, 2.2575362052527765, 2.130950188976346, 2.15637473746202, 2.4389161668575845, 2.2519582703541623, 2.1827718797205335, 2.3576301559437454, 2.6942066386249337, 2.6747271169665723, 2.8508206571304022, 2.837364124793419, 2.920850907282844, 2.6905573257954796, 1.3344332586511385, 2.1663599865511003, 0.855827226287527, 0.7591339506391392, 1.0899071055671108, 1.556975725398381, 1.6322229933262378]\n"
     ]
    },
    {
     "name": "stderr",
     "output_type": "stream",
     "text": [
      "  0%|          | 0/195 [00:15<?, ?it/s]1:51:49,  9.38it/s]  \n",
      "  0%|          | 0/15 [00:05<?, ?it/s]\n",
      " 37%|███▋      | 37101/100001 [1:20:24<1:57:47,  8.90it/s]"
     ]
    },
    {
     "name": "stdout",
     "output_type": "stream",
     "text": [
      "GAN: loss d: -0.37496    loss g: -2.52394\n"
     ]
    },
    {
     "name": "stderr",
     "output_type": "stream",
     "text": [
      " 37%|███▋      | 37201/100001 [1:20:35<1:54:52,  9.11it/s]"
     ]
    },
    {
     "name": "stdout",
     "output_type": "stream",
     "text": [
      "GAN: loss d: 2.93148    loss g: -1.96190\n"
     ]
    },
    {
     "name": "stderr",
     "output_type": "stream",
     "text": [
      " 37%|███▋      | 37301/100001 [1:20:46<1:56:42,  8.95it/s]"
     ]
    },
    {
     "name": "stdout",
     "output_type": "stream",
     "text": [
      "GAN: loss d: 1.17849    loss g: -1.33493\n"
     ]
    },
    {
     "name": "stderr",
     "output_type": "stream",
     "text": [
      " 37%|███▋      | 37401/100001 [1:20:56<1:55:02,  9.07it/s]"
     ]
    },
    {
     "name": "stdout",
     "output_type": "stream",
     "text": [
      "GAN: loss d: 2.76933    loss g: -1.67341\n"
     ]
    },
    {
     "name": "stderr",
     "output_type": "stream",
     "text": [
      " 38%|███▊      | 37503/100001 [1:21:07<1:48:53,  9.57it/s]"
     ]
    },
    {
     "name": "stdout",
     "output_type": "stream",
     "text": [
      "GAN: loss d: 2.48539    loss g: -1.96527\n"
     ]
    },
    {
     "name": "stderr",
     "output_type": "stream",
     "text": [
      " 38%|███▊      | 37601/100001 [1:21:18<1:54:37,  9.07it/s]"
     ]
    },
    {
     "name": "stdout",
     "output_type": "stream",
     "text": [
      "GAN: loss d: 3.34030    loss g: -1.96384\n"
     ]
    },
    {
     "name": "stderr",
     "output_type": "stream",
     "text": [
      " 38%|███▊      | 37703/100001 [1:21:28<1:49:46,  9.46it/s]"
     ]
    },
    {
     "name": "stdout",
     "output_type": "stream",
     "text": [
      "GAN: loss d: 2.29825    loss g: -1.61829\n"
     ]
    },
    {
     "name": "stderr",
     "output_type": "stream",
     "text": [
      "  0%|          | 0/195 [1:21:25<?, ?it/s]52:55,  9.18it/s]\n",
      " 38%|███▊      | 37801/100001 [1:21:39<1:55:26,  8.98it/s]"
     ]
    },
    {
     "name": "stdout",
     "output_type": "stream",
     "text": [
      "GAN: loss d: 3.93955    loss g: -2.01179\n"
     ]
    },
    {
     "name": "stderr",
     "output_type": "stream",
     "text": [
      " 38%|███▊      | 37901/100001 [1:21:50<1:54:15,  9.06it/s]"
     ]
    },
    {
     "name": "stdout",
     "output_type": "stream",
     "text": [
      "GAN: loss d: 3.27955    loss g: -2.14062\n"
     ]
    },
    {
     "name": "stderr",
     "output_type": "stream",
     "text": [
      " 38%|███▊      | 38000/100001 [1:22:00<1:50:50,  9.32it/s]"
     ]
    },
    {
     "name": "stdout",
     "output_type": "stream",
     "text": [
      "GAN: loss d: 3.78334    loss g: -2.60449\n",
      "saving current model\n"
     ]
    },
    {
     "name": "stderr",
     "output_type": "stream",
     "text": [
      "\n",
      "  0%|          | 0/195 [00:00<?, ?it/s]\u001b[A"
     ]
    },
    {
     "name": "stdout",
     "output_type": "stream",
     "text": [
      "Number of real images: 6252\n"
     ]
    },
    {
     "name": "stderr",
     "output_type": "stream",
     "text": [
      "\n",
      "\n",
      "  0%|          | 0/15 [00:00<?, ?it/s]\u001b[A\u001b[A"
     ]
    },
    {
     "name": "stdout",
     "output_type": "stream",
     "text": [
      "Number of synthetic images: 500\n"
     ]
    },
    {
     "name": "stderr",
     "output_type": "stream",
     "text": [
      " 38%|███▊      | 38001/100001 [1:22:22<113:08:58,  6.57s/it]"
     ]
    },
    {
     "name": "stdout",
     "output_type": "stream",
     "text": [
      "Current fid score: 1.4239017743813775\n",
      "Fid scores: [4.781169086965528, 2.5563023530045648, 2.463046801314256, 2.4992711961120584, 2.218550049566371, 2.964950268119857, 3.4702528654377076, 2.613245115961785, 2.34790911689727, 2.6919041220970037, 2.3144257756644073, 2.3240966003506536, 1.993653403354564, 2.697158487724515, 1.7994096039010472, 2.91434783406185, 2.7811489268397516, 2.2334427836959794, 2.2575362052527765, 2.130950188976346, 2.15637473746202, 2.4389161668575845, 2.2519582703541623, 2.1827718797205335, 2.3576301559437454, 2.6942066386249337, 2.6747271169665723, 2.8508206571304022, 2.837364124793419, 2.920850907282844, 2.6905573257954796, 1.3344332586511385, 2.1663599865511003, 0.855827226287527, 0.7591339506391392, 1.0899071055671108, 1.556975725398381, 1.6322229933262378, 1.4239017743813775]\n"
     ]
    },
    {
     "name": "stderr",
     "output_type": "stream",
     "text": [
      "  0%|          | 0/15 [00:03<?, ?it/s]<2:02:53,  8.41it/s]  \n",
      " 38%|███▊      | 38103/100001 [1:22:33<1:48:44,  9.49it/s]"
     ]
    },
    {
     "name": "stdout",
     "output_type": "stream",
     "text": [
      "GAN: loss d: 2.72281    loss g: -1.53042\n"
     ]
    },
    {
     "name": "stderr",
     "output_type": "stream",
     "text": [
      " 38%|███▊      | 38201/100001 [1:22:43<1:56:04,  8.87it/s]"
     ]
    },
    {
     "name": "stdout",
     "output_type": "stream",
     "text": [
      "GAN: loss d: 2.53955    loss g: -1.96201\n"
     ]
    },
    {
     "name": "stderr",
     "output_type": "stream",
     "text": [
      " 38%|███▊      | 38301/100001 [1:22:54<1:54:51,  8.95it/s]"
     ]
    },
    {
     "name": "stdout",
     "output_type": "stream",
     "text": [
      "GAN: loss d: 2.49282    loss g: -2.06374\n"
     ]
    },
    {
     "name": "stderr",
     "output_type": "stream",
     "text": [
      " 38%|███▊      | 38401/100001 [1:23:05<1:55:09,  8.92it/s]"
     ]
    },
    {
     "name": "stdout",
     "output_type": "stream",
     "text": [
      "GAN: loss d: 1.88937    loss g: -2.32630\n"
     ]
    },
    {
     "name": "stderr",
     "output_type": "stream",
     "text": [
      " 39%|███▊      | 38501/100001 [1:23:16<1:53:17,  9.05it/s]"
     ]
    },
    {
     "name": "stdout",
     "output_type": "stream",
     "text": [
      "GAN: loss d: 1.46133    loss g: -2.20565\n"
     ]
    },
    {
     "name": "stderr",
     "output_type": "stream",
     "text": [
      "  0%|          | 0/195 [01:14<?, ?it/s]1:52:07,  9.13it/s]\n",
      " 39%|███▊      | 38603/100001 [1:23:27<1:49:22,  9.36it/s]"
     ]
    },
    {
     "name": "stdout",
     "output_type": "stream",
     "text": [
      "GAN: loss d: 1.07150    loss g: -2.29153\n"
     ]
    },
    {
     "name": "stderr",
     "output_type": "stream",
     "text": [
      " 39%|███▊      | 38703/100001 [1:23:37<1:46:52,  9.56it/s]"
     ]
    },
    {
     "name": "stdout",
     "output_type": "stream",
     "text": [
      "GAN: loss d: 1.44278    loss g: -2.40301\n"
     ]
    },
    {
     "name": "stderr",
     "output_type": "stream",
     "text": [
      " 39%|███▉      | 38801/100001 [1:23:48<1:52:54,  9.03it/s]"
     ]
    },
    {
     "name": "stdout",
     "output_type": "stream",
     "text": [
      "GAN: loss d: 2.20139    loss g: -2.49163\n"
     ]
    },
    {
     "name": "stderr",
     "output_type": "stream",
     "text": [
      " 39%|███▉      | 38901/100001 [1:23:58<1:53:53,  8.94it/s]"
     ]
    },
    {
     "name": "stdout",
     "output_type": "stream",
     "text": [
      "GAN: loss d: 3.12755    loss g: -2.32398\n"
     ]
    },
    {
     "name": "stderr",
     "output_type": "stream",
     "text": [
      " 39%|███▉      | 39000/100001 [1:24:09<1:48:35,  9.36it/s]"
     ]
    },
    {
     "name": "stdout",
     "output_type": "stream",
     "text": [
      "GAN: loss d: 3.31894    loss g: -2.75488\n",
      "saving current model\n"
     ]
    },
    {
     "name": "stderr",
     "output_type": "stream",
     "text": [
      "\n",
      "  0%|          | 0/195 [00:00<?, ?it/s]\u001b[A"
     ]
    },
    {
     "name": "stdout",
     "output_type": "stream",
     "text": [
      "Number of real images: 6252\n"
     ]
    },
    {
     "name": "stderr",
     "output_type": "stream",
     "text": [
      "\n",
      "\n",
      "  0%|          | 0/15 [00:00<?, ?it/s]\u001b[A\u001b[A"
     ]
    },
    {
     "name": "stdout",
     "output_type": "stream",
     "text": [
      "Number of synthetic images: 500\n"
     ]
    },
    {
     "name": "stderr",
     "output_type": "stream",
     "text": [
      " 39%|███▉      | 39001/100001 [1:24:30<109:47:05,  6.48s/it]"
     ]
    },
    {
     "name": "stdout",
     "output_type": "stream",
     "text": [
      "Current fid score: 1.5249018576080395\n",
      "Fid scores: [4.781169086965528, 2.5563023530045648, 2.463046801314256, 2.4992711961120584, 2.218550049566371, 2.964950268119857, 3.4702528654377076, 2.613245115961785, 2.34790911689727, 2.6919041220970037, 2.3144257756644073, 2.3240966003506536, 1.993653403354564, 2.697158487724515, 1.7994096039010472, 2.91434783406185, 2.7811489268397516, 2.2334427836959794, 2.2575362052527765, 2.130950188976346, 2.15637473746202, 2.4389161668575845, 2.2519582703541623, 2.1827718797205335, 2.3576301559437454, 2.6942066386249337, 2.6747271169665723, 2.8508206571304022, 2.837364124793419, 2.920850907282844, 2.6905573257954796, 1.3344332586511385, 2.1663599865511003, 0.855827226287527, 0.7591339506391392, 1.0899071055671108, 1.556975725398381, 1.6322229933262378, 1.4239017743813775, 1.5249018576080395]\n"
     ]
    },
    {
     "name": "stderr",
     "output_type": "stream",
     "text": [
      "  0%|          | 0/195 [00:15<?, ?it/s]1:49:31,  9.28it/s]  \n",
      "  0%|          | 0/15 [00:05<?, ?it/s]\n",
      " 39%|███▉      | 39101/100001 [1:24:41<1:53:56,  8.91it/s]"
     ]
    },
    {
     "name": "stdout",
     "output_type": "stream",
     "text": [
      "GAN: loss d: 3.63913    loss g: -2.54258\n"
     ]
    },
    {
     "name": "stderr",
     "output_type": "stream",
     "text": [
      " 39%|███▉      | 39201/100001 [1:24:52<1:50:46,  9.15it/s]"
     ]
    },
    {
     "name": "stdout",
     "output_type": "stream",
     "text": [
      "GAN: loss d: 0.60384    loss g: -2.20282\n"
     ]
    },
    {
     "name": "stderr",
     "output_type": "stream",
     "text": [
      " 39%|███▉      | 39301/100001 [1:25:03<1:53:21,  8.92it/s]"
     ]
    },
    {
     "name": "stdout",
     "output_type": "stream",
     "text": [
      "GAN: loss d: 0.04294    loss g: -2.83731\n"
     ]
    },
    {
     "name": "stderr",
     "output_type": "stream",
     "text": [
      " 39%|███▉      | 39401/100001 [1:25:13<1:53:23,  8.91it/s]"
     ]
    },
    {
     "name": "stdout",
     "output_type": "stream",
     "text": [
      "GAN: loss d: 1.82907    loss g: -1.99651\n"
     ]
    },
    {
     "name": "stderr",
     "output_type": "stream",
     "text": [
      " 40%|███▉      | 39501/100001 [1:25:24<1:53:11,  8.91it/s]"
     ]
    },
    {
     "name": "stdout",
     "output_type": "stream",
     "text": [
      "GAN: loss d: 2.73762    loss g: -2.04973\n"
     ]
    },
    {
     "name": "stderr",
     "output_type": "stream",
     "text": [
      " 40%|███▉      | 39601/100001 [1:25:35<1:53:02,  8.91it/s]"
     ]
    },
    {
     "name": "stdout",
     "output_type": "stream",
     "text": [
      "GAN: loss d: 5.55677    loss g: -2.04843\n"
     ]
    },
    {
     "name": "stderr",
     "output_type": "stream",
     "text": [
      " 40%|███▉      | 39703/100001 [1:25:46<1:46:46,  9.41it/s]"
     ]
    },
    {
     "name": "stdout",
     "output_type": "stream",
     "text": [
      "GAN: loss d: 2.43347    loss g: -1.55349\n"
     ]
    },
    {
     "name": "stderr",
     "output_type": "stream",
     "text": [
      " 40%|███▉      | 39803/100001 [1:25:57<1:46:23,  9.43it/s]"
     ]
    },
    {
     "name": "stdout",
     "output_type": "stream",
     "text": [
      "GAN: loss d: 1.82460    loss g: -1.07762\n"
     ]
    },
    {
     "name": "stderr",
     "output_type": "stream",
     "text": [
      " 40%|███▉      | 39903/100001 [1:26:07<1:46:28,  9.41it/s]"
     ]
    },
    {
     "name": "stdout",
     "output_type": "stream",
     "text": [
      "GAN: loss d: 2.29254    loss g: -1.47541\n"
     ]
    },
    {
     "name": "stderr",
     "output_type": "stream",
     "text": [
      " 40%|███▉      | 40000/100001 [1:26:18<1:45:39,  9.46it/s]"
     ]
    },
    {
     "name": "stdout",
     "output_type": "stream",
     "text": [
      "GAN: loss d: 2.54085    loss g: -2.59048\n",
      "saving current model\n"
     ]
    },
    {
     "name": "stderr",
     "output_type": "stream",
     "text": [
      "\n",
      "  0%|          | 0/195 [00:00<?, ?it/s]\u001b[A"
     ]
    },
    {
     "name": "stdout",
     "output_type": "stream",
     "text": [
      "Number of real images: 6252\n"
     ]
    },
    {
     "name": "stderr",
     "output_type": "stream",
     "text": [
      "\n",
      "\n",
      "  0%|          | 0/15 [00:00<?, ?it/s]\u001b[A\u001b[A"
     ]
    },
    {
     "name": "stdout",
     "output_type": "stream",
     "text": [
      "Number of synthetic images: 500\n"
     ]
    },
    {
     "name": "stderr",
     "output_type": "stream",
     "text": [
      " 40%|████      | 40001/100001 [1:26:39<108:12:13,  6.49s/it]"
     ]
    },
    {
     "name": "stdout",
     "output_type": "stream",
     "text": [
      "Current fid score: 1.2095302975349256\n",
      "Fid scores: [4.781169086965528, 2.5563023530045648, 2.463046801314256, 2.4992711961120584, 2.218550049566371, 2.964950268119857, 3.4702528654377076, 2.613245115961785, 2.34790911689727, 2.6919041220970037, 2.3144257756644073, 2.3240966003506536, 1.993653403354564, 2.697158487724515, 1.7994096039010472, 2.91434783406185, 2.7811489268397516, 2.2334427836959794, 2.2575362052527765, 2.130950188976346, 2.15637473746202, 2.4389161668575845, 2.2519582703541623, 2.1827718797205335, 2.3576301559437454, 2.6942066386249337, 2.6747271169665723, 2.8508206571304022, 2.837364124793419, 2.920850907282844, 2.6905573257954796, 1.3344332586511385, 2.1663599865511003, 0.855827226287527, 0.7591339506391392, 1.0899071055671108, 1.556975725398381, 1.6322229933262378, 1.4239017743813775, 1.5249018576080395, 1.2095302975349256]\n"
     ]
    },
    {
     "name": "stderr",
     "output_type": "stream",
     "text": [
      "  0%|          | 0/195 [00:11<?, ?it/s]24:56:28,  1.50s/it] \n",
      "  0%|          | 0/15 [00:01<?, ?it/s]\n",
      " 40%|████      | 40101/100001 [1:26:50<1:49:38,  9.11it/s] "
     ]
    },
    {
     "name": "stdout",
     "output_type": "stream",
     "text": [
      "GAN: loss d: 2.29579    loss g: -2.27412\n"
     ]
    },
    {
     "name": "stderr",
     "output_type": "stream",
     "text": [
      " 40%|████      | 40201/100001 [1:27:00<1:49:13,  9.13it/s]"
     ]
    },
    {
     "name": "stdout",
     "output_type": "stream",
     "text": [
      "GAN: loss d: 1.78743    loss g: -1.66695\n"
     ]
    },
    {
     "name": "stderr",
     "output_type": "stream",
     "text": [
      " 40%|████      | 40302/100001 [1:27:11<1:49:33,  9.08it/s]"
     ]
    },
    {
     "name": "stdout",
     "output_type": "stream",
     "text": [
      "GAN: loss d: 1.81164    loss g: -2.41264\n"
     ]
    },
    {
     "name": "stderr",
     "output_type": "stream",
     "text": [
      " 40%|████      | 40403/100001 [1:27:22<1:44:18,  9.52it/s]"
     ]
    },
    {
     "name": "stdout",
     "output_type": "stream",
     "text": [
      "GAN: loss d: 1.55553    loss g: -1.57711\n"
     ]
    },
    {
     "name": "stderr",
     "output_type": "stream",
     "text": [
      " 41%|████      | 40501/100001 [1:27:33<1:50:27,  8.98it/s]"
     ]
    },
    {
     "name": "stdout",
     "output_type": "stream",
     "text": [
      "GAN: loss d: 3.36264    loss g: -1.83456\n"
     ]
    },
    {
     "name": "stderr",
     "output_type": "stream",
     "text": [
      " 41%|████      | 40601/100001 [1:27:43<1:51:06,  8.91it/s]"
     ]
    },
    {
     "name": "stdout",
     "output_type": "stream",
     "text": [
      "GAN: loss d: 0.42807    loss g: -1.17814\n"
     ]
    },
    {
     "name": "stderr",
     "output_type": "stream",
     "text": [
      " 41%|████      | 40701/100001 [1:27:54<1:49:46,  9.00it/s]"
     ]
    },
    {
     "name": "stdout",
     "output_type": "stream",
     "text": [
      "GAN: loss d: 2.18085    loss g: -1.45559\n"
     ]
    },
    {
     "name": "stderr",
     "output_type": "stream",
     "text": [
      " 41%|████      | 40801/100001 [1:28:05<1:50:44,  8.91it/s]"
     ]
    },
    {
     "name": "stdout",
     "output_type": "stream",
     "text": [
      "GAN: loss d: 2.57504    loss g: -1.41880\n"
     ]
    },
    {
     "name": "stderr",
     "output_type": "stream",
     "text": [
      " 41%|████      | 40903/100001 [1:28:16<1:43:54,  9.48it/s]"
     ]
    },
    {
     "name": "stdout",
     "output_type": "stream",
     "text": [
      "GAN: loss d: 0.44051    loss g: -1.22314\n"
     ]
    },
    {
     "name": "stderr",
     "output_type": "stream",
     "text": [
      " 41%|████      | 41000/100001 [1:28:26<1:46:49,  9.21it/s]"
     ]
    },
    {
     "name": "stdout",
     "output_type": "stream",
     "text": [
      "GAN: loss d: 1.44281    loss g: -1.63666\n",
      "saving current model\n"
     ]
    },
    {
     "name": "stderr",
     "output_type": "stream",
     "text": [
      "\n",
      "  0%|          | 0/195 [00:00<?, ?it/s]\u001b[A"
     ]
    },
    {
     "name": "stdout",
     "output_type": "stream",
     "text": [
      "Number of real images: 6252\n"
     ]
    },
    {
     "name": "stderr",
     "output_type": "stream",
     "text": [
      "\n",
      "\n",
      "  0%|          | 0/15 [00:00<?, ?it/s]\u001b[A\u001b[A"
     ]
    },
    {
     "name": "stdout",
     "output_type": "stream",
     "text": [
      "Number of synthetic images: 500\n"
     ]
    },
    {
     "name": "stderr",
     "output_type": "stream",
     "text": [
      " 41%|████      | 41001/100001 [1:28:48<107:52:03,  6.58s/it]"
     ]
    },
    {
     "name": "stdout",
     "output_type": "stream",
     "text": [
      "Current fid score: 0.8666642624319927\n",
      "Fid scores: [4.781169086965528, 2.5563023530045648, 2.463046801314256, 2.4992711961120584, 2.218550049566371, 2.964950268119857, 3.4702528654377076, 2.613245115961785, 2.34790911689727, 2.6919041220970037, 2.3144257756644073, 2.3240966003506536, 1.993653403354564, 2.697158487724515, 1.7994096039010472, 2.91434783406185, 2.7811489268397516, 2.2334427836959794, 2.2575362052527765, 2.130950188976346, 2.15637473746202, 2.4389161668575845, 2.2519582703541623, 2.1827718797205335, 2.3576301559437454, 2.6942066386249337, 2.6747271169665723, 2.8508206571304022, 2.837364124793419, 2.920850907282844, 2.6905573257954796, 1.3344332586511385, 2.1663599865511003, 0.855827226287527, 0.7591339506391392, 1.0899071055671108, 1.556975725398381, 1.6322229933262378, 1.4239017743813775, 1.5249018576080395, 1.2095302975349256, 0.8666642624319927]\n"
     ]
    },
    {
     "name": "stderr",
     "output_type": "stream",
     "text": [
      "  0%|          | 0/195 [00:15<?, ?it/s]1:45:50,  9.28it/s]  \n",
      "  0%|          | 0/15 [00:06<?, ?it/s]\n",
      " 41%|████      | 41103/100001 [1:28:59<1:43:42,  9.47it/s]"
     ]
    },
    {
     "name": "stdout",
     "output_type": "stream",
     "text": [
      "GAN: loss d: 0.55567    loss g: -1.19149\n"
     ]
    },
    {
     "name": "stderr",
     "output_type": "stream",
     "text": [
      " 41%|████      | 41201/100001 [1:29:09<1:49:27,  8.95it/s]"
     ]
    },
    {
     "name": "stdout",
     "output_type": "stream",
     "text": [
      "GAN: loss d: 2.55426    loss g: -2.19783\n"
     ]
    },
    {
     "name": "stderr",
     "output_type": "stream",
     "text": [
      " 41%|████▏     | 41301/100001 [1:29:20<1:48:01,  9.06it/s]"
     ]
    },
    {
     "name": "stdout",
     "output_type": "stream",
     "text": [
      "GAN: loss d: 0.13798    loss g: -1.71715\n"
     ]
    },
    {
     "name": "stderr",
     "output_type": "stream",
     "text": [
      " 41%|████▏     | 41403/100001 [1:29:31<1:41:59,  9.57it/s]"
     ]
    },
    {
     "name": "stdout",
     "output_type": "stream",
     "text": [
      "GAN: loss d: 0.86759    loss g: -1.03862\n"
     ]
    },
    {
     "name": "stderr",
     "output_type": "stream",
     "text": [
      " 42%|████▏     | 41501/100001 [1:29:42<1:51:04,  8.78it/s]"
     ]
    },
    {
     "name": "stdout",
     "output_type": "stream",
     "text": [
      "GAN: loss d: 0.79680    loss g: -1.05172\n"
     ]
    },
    {
     "name": "stderr",
     "output_type": "stream",
     "text": [
      " 42%|████▏     | 41603/100001 [1:29:53<1:43:05,  9.44it/s]"
     ]
    },
    {
     "name": "stdout",
     "output_type": "stream",
     "text": [
      "GAN: loss d: -0.49141    loss g: -1.32241\n"
     ]
    },
    {
     "name": "stderr",
     "output_type": "stream",
     "text": [
      " 42%|████▏     | 41701/100001 [1:30:03<1:47:43,  9.02it/s]"
     ]
    },
    {
     "name": "stdout",
     "output_type": "stream",
     "text": [
      "GAN: loss d: 1.05933    loss g: -1.90901\n"
     ]
    },
    {
     "name": "stderr",
     "output_type": "stream",
     "text": [
      " 42%|████▏     | 41801/100001 [1:30:14<1:46:46,  9.08it/s]"
     ]
    },
    {
     "name": "stdout",
     "output_type": "stream",
     "text": [
      "GAN: loss d: 2.55906    loss g: -1.27070\n"
     ]
    },
    {
     "name": "stderr",
     "output_type": "stream",
     "text": [
      " 42%|████▏     | 41903/100001 [1:30:25<1:42:28,  9.45it/s]"
     ]
    },
    {
     "name": "stdout",
     "output_type": "stream",
     "text": [
      "GAN: loss d: 0.59104    loss g: -0.76912\n"
     ]
    },
    {
     "name": "stderr",
     "output_type": "stream",
     "text": [
      " 42%|████▏     | 42000/100001 [1:30:35<1:43:24,  9.35it/s]"
     ]
    },
    {
     "name": "stdout",
     "output_type": "stream",
     "text": [
      "GAN: loss d: -0.41048    loss g: -2.02533\n",
      "saving current model\n"
     ]
    },
    {
     "name": "stderr",
     "output_type": "stream",
     "text": [
      "\n",
      "  0%|          | 0/195 [00:00<?, ?it/s]\u001b[A"
     ]
    },
    {
     "name": "stdout",
     "output_type": "stream",
     "text": [
      "Number of real images: 6252\n"
     ]
    },
    {
     "name": "stderr",
     "output_type": "stream",
     "text": [
      "\n",
      "\n",
      "  0%|          | 0/15 [00:00<?, ?it/s]\u001b[A\u001b[A"
     ]
    },
    {
     "name": "stdout",
     "output_type": "stream",
     "text": [
      "Number of synthetic images: 500\n"
     ]
    },
    {
     "name": "stderr",
     "output_type": "stream",
     "text": [
      " 42%|████▏     | 42001/100001 [1:30:57<105:34:39,  6.55s/it]"
     ]
    },
    {
     "name": "stdout",
     "output_type": "stream",
     "text": [
      "Current fid score: 1.061769574879687\n",
      "Fid scores: [4.781169086965528, 2.5563023530045648, 2.463046801314256, 2.4992711961120584, 2.218550049566371, 2.964950268119857, 3.4702528654377076, 2.613245115961785, 2.34790911689727, 2.6919041220970037, 2.3144257756644073, 2.3240966003506536, 1.993653403354564, 2.697158487724515, 1.7994096039010472, 2.91434783406185, 2.7811489268397516, 2.2334427836959794, 2.2575362052527765, 2.130950188976346, 2.15637473746202, 2.4389161668575845, 2.2519582703541623, 2.1827718797205335, 2.3576301559437454, 2.6942066386249337, 2.6747271169665723, 2.8508206571304022, 2.837364124793419, 2.920850907282844, 2.6905573257954796, 1.3344332586511385, 2.1663599865511003, 0.855827226287527, 0.7591339506391392, 1.0899071055671108, 1.556975725398381, 1.6322229933262378, 1.4239017743813775, 1.5249018576080395, 1.2095302975349256, 0.8666642624319927, 1.061769574879687]\n"
     ]
    },
    {
     "name": "stderr",
     "output_type": "stream",
     "text": [
      "  0%|          | 0/195 [00:11<?, ?it/s]43:45:03,  2.72s/it] \n",
      "  0%|          | 0/15 [00:01<?, ?it/s]\n",
      " 42%|████▏     | 42102/100001 [1:31:08<1:45:07,  9.18it/s] "
     ]
    },
    {
     "name": "stdout",
     "output_type": "stream",
     "text": [
      "GAN: loss d: 1.85268    loss g: -2.09184\n"
     ]
    },
    {
     "name": "stderr",
     "output_type": "stream",
     "text": [
      " 42%|████▏     | 42201/100001 [1:31:18<1:45:40,  9.12it/s]"
     ]
    },
    {
     "name": "stdout",
     "output_type": "stream",
     "text": [
      "GAN: loss d: 1.14805    loss g: -1.58078\n"
     ]
    },
    {
     "name": "stderr",
     "output_type": "stream",
     "text": [
      " 42%|████▏     | 42302/100001 [1:31:29<1:43:29,  9.29it/s]"
     ]
    },
    {
     "name": "stdout",
     "output_type": "stream",
     "text": [
      "GAN: loss d: -0.20910    loss g: -1.35192\n"
     ]
    },
    {
     "name": "stderr",
     "output_type": "stream",
     "text": [
      " 42%|████▏     | 42402/100001 [1:31:40<1:42:53,  9.33it/s]"
     ]
    },
    {
     "name": "stdout",
     "output_type": "stream",
     "text": [
      "GAN: loss d: 2.67604    loss g: -1.72507\n"
     ]
    },
    {
     "name": "stderr",
     "output_type": "stream",
     "text": [
      " 43%|████▎     | 42501/100001 [1:31:51<1:47:27,  8.92it/s]"
     ]
    },
    {
     "name": "stdout",
     "output_type": "stream",
     "text": [
      "GAN: loss d: 1.80978    loss g: -1.49441\n"
     ]
    },
    {
     "name": "stderr",
     "output_type": "stream",
     "text": [
      " 43%|████▎     | 42603/100001 [1:32:02<1:42:12,  9.36it/s]"
     ]
    },
    {
     "name": "stdout",
     "output_type": "stream",
     "text": [
      "GAN: loss d: 3.98221    loss g: -1.67648\n"
     ]
    },
    {
     "name": "stderr",
     "output_type": "stream",
     "text": [
      " 43%|████▎     | 42701/100001 [1:32:12<1:47:24,  8.89it/s]"
     ]
    },
    {
     "name": "stdout",
     "output_type": "stream",
     "text": [
      "GAN: loss d: 1.83986    loss g: -1.58164\n"
     ]
    },
    {
     "name": "stderr",
     "output_type": "stream",
     "text": [
      " 43%|████▎     | 42801/100001 [1:32:23<1:43:43,  9.19it/s]"
     ]
    },
    {
     "name": "stdout",
     "output_type": "stream",
     "text": [
      "GAN: loss d: 1.39383    loss g: -1.38147\n"
     ]
    },
    {
     "name": "stderr",
     "output_type": "stream",
     "text": [
      " 43%|████▎     | 42903/100001 [1:32:34<1:40:42,  9.45it/s]"
     ]
    },
    {
     "name": "stdout",
     "output_type": "stream",
     "text": [
      "GAN: loss d: 1.24952    loss g: -0.86875\n"
     ]
    },
    {
     "name": "stderr",
     "output_type": "stream",
     "text": [
      " 43%|████▎     | 43000/100001 [1:32:44<1:42:10,  9.30it/s]"
     ]
    },
    {
     "name": "stdout",
     "output_type": "stream",
     "text": [
      "GAN: loss d: 1.94763    loss g: -2.05625\n",
      "saving current model\n"
     ]
    },
    {
     "name": "stderr",
     "output_type": "stream",
     "text": [
      "\n",
      "  0%|          | 0/195 [00:00<?, ?it/s]\u001b[A"
     ]
    },
    {
     "name": "stdout",
     "output_type": "stream",
     "text": [
      "Number of real images: 6252\n"
     ]
    },
    {
     "name": "stderr",
     "output_type": "stream",
     "text": [
      "\n",
      "\n",
      "  0%|          | 0/15 [00:00<?, ?it/s]\u001b[A\u001b[A"
     ]
    },
    {
     "name": "stdout",
     "output_type": "stream",
     "text": [
      "Number of synthetic images: 500\n"
     ]
    },
    {
     "name": "stderr",
     "output_type": "stream",
     "text": [
      " 43%|████▎     | 43002/100001 [1:33:05<72:21:01,  4.57s/it] "
     ]
    },
    {
     "name": "stdout",
     "output_type": "stream",
     "text": [
      "Current fid score: 1.0549228395687074\n",
      "Fid scores: [4.781169086965528, 2.5563023530045648, 2.463046801314256, 2.4992711961120584, 2.218550049566371, 2.964950268119857, 3.4702528654377076, 2.613245115961785, 2.34790911689727, 2.6919041220970037, 2.3144257756644073, 2.3240966003506536, 1.993653403354564, 2.697158487724515, 1.7994096039010472, 2.91434783406185, 2.7811489268397516, 2.2334427836959794, 2.2575362052527765, 2.130950188976346, 2.15637473746202, 2.4389161668575845, 2.2519582703541623, 2.1827718797205335, 2.3576301559437454, 2.6942066386249337, 2.6747271169665723, 2.8508206571304022, 2.837364124793419, 2.920850907282844, 2.6905573257954796, 1.3344332586511385, 2.1663599865511003, 0.855827226287527, 0.7591339506391392, 1.0899071055671108, 1.556975725398381, 1.6322229933262378, 1.4239017743813775, 1.5249018576080395, 1.2095302975349256, 0.8666642624319927, 1.061769574879687, 1.0549228395687074]\n"
     ]
    },
    {
     "name": "stderr",
     "output_type": "stream",
     "text": [
      "  0%|          | 0/195 [00:16<?, ?it/s]1:40:57,  9.40it/s] \n",
      "  0%|          | 0/15 [00:06<?, ?it/s]\n",
      " 43%|████▎     | 43101/100001 [1:33:16<1:45:42,  8.97it/s]"
     ]
    },
    {
     "name": "stdout",
     "output_type": "stream",
     "text": [
      "GAN: loss d: 2.47195    loss g: -1.79694\n"
     ]
    },
    {
     "name": "stderr",
     "output_type": "stream",
     "text": [
      " 43%|████▎     | 43201/100001 [1:33:27<1:43:27,  9.15it/s]"
     ]
    },
    {
     "name": "stdout",
     "output_type": "stream",
     "text": [
      "GAN: loss d: 0.61053    loss g: -1.94039\n"
     ]
    },
    {
     "name": "stderr",
     "output_type": "stream",
     "text": [
      " 43%|████▎     | 43303/100001 [1:33:38<1:39:17,  9.52it/s]"
     ]
    },
    {
     "name": "stdout",
     "output_type": "stream",
     "text": [
      "GAN: loss d: 3.38750    loss g: -1.50617\n"
     ]
    },
    {
     "name": "stderr",
     "output_type": "stream",
     "text": [
      " 43%|████▎     | 43403/100001 [1:33:48<1:39:57,  9.44it/s]"
     ]
    },
    {
     "name": "stdout",
     "output_type": "stream",
     "text": [
      "GAN: loss d: 1.35624    loss g: -1.20786\n"
     ]
    },
    {
     "name": "stderr",
     "output_type": "stream",
     "text": [
      " 44%|████▎     | 43503/100001 [1:33:59<1:39:12,  9.49it/s]"
     ]
    },
    {
     "name": "stdout",
     "output_type": "stream",
     "text": [
      "GAN: loss d: 0.06202    loss g: -1.07765\n"
     ]
    },
    {
     "name": "stderr",
     "output_type": "stream",
     "text": [
      " 44%|████▎     | 43601/100001 [1:34:10<1:44:27,  9.00it/s]"
     ]
    },
    {
     "name": "stdout",
     "output_type": "stream",
     "text": [
      "GAN: loss d: 0.72594    loss g: -1.60559\n"
     ]
    },
    {
     "name": "stderr",
     "output_type": "stream",
     "text": [
      " 44%|████▎     | 43701/100001 [1:34:20<1:45:22,  8.90it/s]"
     ]
    },
    {
     "name": "stdout",
     "output_type": "stream",
     "text": [
      "GAN: loss d: 0.40072    loss g: -1.09150\n"
     ]
    },
    {
     "name": "stderr",
     "output_type": "stream",
     "text": [
      " 44%|████▍     | 43801/100001 [1:34:31<1:45:52,  8.85it/s]"
     ]
    },
    {
     "name": "stdout",
     "output_type": "stream",
     "text": [
      "GAN: loss d: 1.24336    loss g: -2.04453\n"
     ]
    },
    {
     "name": "stderr",
     "output_type": "stream",
     "text": [
      " 44%|████▍     | 43901/100001 [1:34:42<1:45:36,  8.85it/s]"
     ]
    },
    {
     "name": "stdout",
     "output_type": "stream",
     "text": [
      "GAN: loss d: 3.37720    loss g: -1.46533\n"
     ]
    },
    {
     "name": "stderr",
     "output_type": "stream",
     "text": [
      " 44%|████▍     | 44000/100001 [1:34:52<1:41:09,  9.23it/s]"
     ]
    },
    {
     "name": "stdout",
     "output_type": "stream",
     "text": [
      "GAN: loss d: 2.89471    loss g: -1.55118\n",
      "saving current model\n"
     ]
    },
    {
     "name": "stderr",
     "output_type": "stream",
     "text": [
      "\n",
      "  0%|          | 0/195 [00:00<?, ?it/s]\u001b[A"
     ]
    },
    {
     "name": "stdout",
     "output_type": "stream",
     "text": [
      "Number of real images: 6252\n"
     ]
    },
    {
     "name": "stderr",
     "output_type": "stream",
     "text": [
      "\n",
      "\n",
      "  0%|          | 0/15 [00:00<?, ?it/s]\u001b[A\u001b[A"
     ]
    },
    {
     "name": "stdout",
     "output_type": "stream",
     "text": [
      "Number of synthetic images: 500\n"
     ]
    },
    {
     "name": "stderr",
     "output_type": "stream",
     "text": [
      " 44%|████▍     | 44001/100001 [1:35:14<101:44:09,  6.54s/it]"
     ]
    },
    {
     "name": "stdout",
     "output_type": "stream",
     "text": [
      "Current fid score: 0.8332865353009247\n",
      "Fid scores: [4.781169086965528, 2.5563023530045648, 2.463046801314256, 2.4992711961120584, 2.218550049566371, 2.964950268119857, 3.4702528654377076, 2.613245115961785, 2.34790911689727, 2.6919041220970037, 2.3144257756644073, 2.3240966003506536, 1.993653403354564, 2.697158487724515, 1.7994096039010472, 2.91434783406185, 2.7811489268397516, 2.2334427836959794, 2.2575362052527765, 2.130950188976346, 2.15637473746202, 2.4389161668575845, 2.2519582703541623, 2.1827718797205335, 2.3576301559437454, 2.6942066386249337, 2.6747271169665723, 2.8508206571304022, 2.837364124793419, 2.920850907282844, 2.6905573257954796, 1.3344332586511385, 2.1663599865511003, 0.855827226287527, 0.7591339506391392, 1.0899071055671108, 1.556975725398381, 1.6322229933262378, 1.4239017743813775, 1.5249018576080395, 1.2095302975349256, 0.8666642624319927, 1.061769574879687, 1.0549228395687074, 0.8332865353009247]\n"
     ]
    },
    {
     "name": "stderr",
     "output_type": "stream",
     "text": [
      "  0%|          | 0/195 [00:11<?, ?it/s]42:09:58,  2.71s/it] \n",
      "  0%|          | 0/15 [00:01<?, ?it/s]\n",
      " 44%|████▍     | 44101/100001 [1:35:25<1:43:54,  8.97it/s] "
     ]
    },
    {
     "name": "stdout",
     "output_type": "stream",
     "text": [
      "GAN: loss d: 2.99117    loss g: -2.29976\n"
     ]
    },
    {
     "name": "stderr",
     "output_type": "stream",
     "text": [
      " 44%|████▍     | 44201/100001 [1:35:35<1:41:44,  9.14it/s]"
     ]
    },
    {
     "name": "stdout",
     "output_type": "stream",
     "text": [
      "GAN: loss d: -1.15517    loss g: -1.67000\n"
     ]
    },
    {
     "name": "stderr",
     "output_type": "stream",
     "text": [
      " 44%|████▍     | 44301/100001 [1:35:46<1:42:16,  9.08it/s]"
     ]
    },
    {
     "name": "stdout",
     "output_type": "stream",
     "text": [
      "GAN: loss d: -0.05601    loss g: -1.78209\n"
     ]
    },
    {
     "name": "stderr",
     "output_type": "stream",
     "text": [
      " 44%|████▍     | 44403/100001 [1:35:57<1:37:25,  9.51it/s]"
     ]
    },
    {
     "name": "stdout",
     "output_type": "stream",
     "text": [
      "GAN: loss d: 0.26331    loss g: -1.10698\n"
     ]
    },
    {
     "name": "stderr",
     "output_type": "stream",
     "text": [
      " 45%|████▍     | 44503/100001 [1:36:08<1:36:58,  9.54it/s]"
     ]
    },
    {
     "name": "stdout",
     "output_type": "stream",
     "text": [
      "GAN: loss d: 3.57331    loss g: -2.64655\n"
     ]
    },
    {
     "name": "stderr",
     "output_type": "stream",
     "text": [
      " 45%|████▍     | 44602/100001 [1:36:18<1:39:41,  9.26it/s]"
     ]
    },
    {
     "name": "stdout",
     "output_type": "stream",
     "text": [
      "GAN: loss d: 2.77821    loss g: -2.35242\n"
     ]
    },
    {
     "name": "stderr",
     "output_type": "stream",
     "text": [
      " 45%|████▍     | 44703/100001 [1:36:29<1:37:45,  9.43it/s]"
     ]
    },
    {
     "name": "stdout",
     "output_type": "stream",
     "text": [
      "GAN: loss d: 2.27146    loss g: -1.94867\n"
     ]
    },
    {
     "name": "stderr",
     "output_type": "stream",
     "text": [
      " 45%|████▍     | 44801/100001 [1:36:40<1:42:39,  8.96it/s]"
     ]
    },
    {
     "name": "stdout",
     "output_type": "stream",
     "text": [
      "GAN: loss d: 2.92229    loss g: -2.14946\n"
     ]
    },
    {
     "name": "stderr",
     "output_type": "stream",
     "text": [
      " 45%|████▍     | 44901/100001 [1:36:50<1:43:17,  8.89it/s]"
     ]
    },
    {
     "name": "stdout",
     "output_type": "stream",
     "text": [
      "GAN: loss d: 3.15098    loss g: -2.15958\n"
     ]
    },
    {
     "name": "stderr",
     "output_type": "stream",
     "text": [
      " 45%|████▍     | 45000/100001 [1:37:01<1:38:49,  9.28it/s]"
     ]
    },
    {
     "name": "stdout",
     "output_type": "stream",
     "text": [
      "GAN: loss d: 4.77438    loss g: -2.04283\n",
      "saving current model\n"
     ]
    },
    {
     "name": "stderr",
     "output_type": "stream",
     "text": [
      "\n",
      "  0%|          | 0/195 [00:00<?, ?it/s]\u001b[A"
     ]
    },
    {
     "name": "stdout",
     "output_type": "stream",
     "text": [
      "Number of real images: 6252\n"
     ]
    },
    {
     "name": "stderr",
     "output_type": "stream",
     "text": [
      "\n",
      "\n",
      "  0%|          | 0/15 [00:00<?, ?it/s]\u001b[A\u001b[A"
     ]
    },
    {
     "name": "stdout",
     "output_type": "stream",
     "text": [
      "Number of synthetic images: 500\n"
     ]
    },
    {
     "name": "stderr",
     "output_type": "stream",
     "text": [
      " 45%|████▌     | 45001/100001 [1:37:23<100:58:43,  6.61s/it]"
     ]
    },
    {
     "name": "stdout",
     "output_type": "stream",
     "text": [
      "Current fid score: 1.4093295915717334\n",
      "Fid scores: [4.781169086965528, 2.5563023530045648, 2.463046801314256, 2.4992711961120584, 2.218550049566371, 2.964950268119857, 3.4702528654377076, 2.613245115961785, 2.34790911689727, 2.6919041220970037, 2.3144257756644073, 2.3240966003506536, 1.993653403354564, 2.697158487724515, 1.7994096039010472, 2.91434783406185, 2.7811489268397516, 2.2334427836959794, 2.2575362052527765, 2.130950188976346, 2.15637473746202, 2.4389161668575845, 2.2519582703541623, 2.1827718797205335, 2.3576301559437454, 2.6942066386249337, 2.6747271169665723, 2.8508206571304022, 2.837364124793419, 2.920850907282844, 2.6905573257954796, 1.3344332586511385, 2.1663599865511003, 0.855827226287527, 0.7591339506391392, 1.0899071055671108, 1.556975725398381, 1.6322229933262378, 1.4239017743813775, 1.5249018576080395, 1.2095302975349256, 0.8666642624319927, 1.061769574879687, 1.0549228395687074, 0.8332865353009247, 1.4093295915717334]\n"
     ]
    },
    {
     "name": "stderr",
     "output_type": "stream",
     "text": [
      "  0%|          | 0/195 [00:16<?, ?it/s]1:36:24,  9.50it/s]  \n",
      "  0%|          | 0/15 [00:06<?, ?it/s]\n",
      " 45%|████▌     | 45101/100001 [1:37:33<1:42:31,  8.92it/s]"
     ]
    },
    {
     "name": "stdout",
     "output_type": "stream",
     "text": [
      "GAN: loss d: 4.00195    loss g: -2.13178\n"
     ]
    },
    {
     "name": "stderr",
     "output_type": "stream",
     "text": [
      " 45%|████▌     | 45203/100001 [1:37:44<1:35:32,  9.56it/s]"
     ]
    },
    {
     "name": "stdout",
     "output_type": "stream",
     "text": [
      "GAN: loss d: 3.63363    loss g: -1.98759\n"
     ]
    },
    {
     "name": "stderr",
     "output_type": "stream",
     "text": [
      " 45%|████▌     | 45301/100001 [1:37:55<1:39:21,  9.18it/s]"
     ]
    },
    {
     "name": "stdout",
     "output_type": "stream",
     "text": [
      "GAN: loss d: 0.96588    loss g: -1.98540\n"
     ]
    },
    {
     "name": "stderr",
     "output_type": "stream",
     "text": [
      " 45%|████▌     | 45401/100001 [1:38:05<1:42:14,  8.90it/s]"
     ]
    },
    {
     "name": "stdout",
     "output_type": "stream",
     "text": [
      "GAN: loss d: 2.13327    loss g: -2.19840\n"
     ]
    },
    {
     "name": "stderr",
     "output_type": "stream",
     "text": [
      " 46%|████▌     | 45501/100001 [1:38:16<1:38:37,  9.21it/s]"
     ]
    },
    {
     "name": "stdout",
     "output_type": "stream",
     "text": [
      "GAN: loss d: 0.74456    loss g: -1.62704\n"
     ]
    },
    {
     "name": "stderr",
     "output_type": "stream",
     "text": [
      " 46%|████▌     | 45603/100001 [1:38:27<1:37:01,  9.34it/s]"
     ]
    },
    {
     "name": "stdout",
     "output_type": "stream",
     "text": [
      "GAN: loss d: 4.04818    loss g: -1.75964\n"
     ]
    },
    {
     "name": "stderr",
     "output_type": "stream",
     "text": [
      " 46%|████▌     | 45701/100001 [1:38:38<1:42:36,  8.82it/s]"
     ]
    },
    {
     "name": "stdout",
     "output_type": "stream",
     "text": [
      "GAN: loss d: 0.23201    loss g: -1.61221\n"
     ]
    },
    {
     "name": "stderr",
     "output_type": "stream",
     "text": [
      " 46%|████▌     | 45803/100001 [1:38:49<1:34:55,  9.52it/s]"
     ]
    },
    {
     "name": "stdout",
     "output_type": "stream",
     "text": [
      "GAN: loss d: 2.63277    loss g: -1.61097\n"
     ]
    },
    {
     "name": "stderr",
     "output_type": "stream",
     "text": [
      " 46%|████▌     | 45901/100001 [1:38:59<1:39:26,  9.07it/s]"
     ]
    },
    {
     "name": "stdout",
     "output_type": "stream",
     "text": [
      "GAN: loss d: 3.46248    loss g: -2.05144\n"
     ]
    },
    {
     "name": "stderr",
     "output_type": "stream",
     "text": [
      " 46%|████▌     | 46000/100001 [1:39:10<1:36:26,  9.33it/s]"
     ]
    },
    {
     "name": "stdout",
     "output_type": "stream",
     "text": [
      "GAN: loss d: 1.11191    loss g: -1.35154\n",
      "saving current model\n"
     ]
    },
    {
     "name": "stderr",
     "output_type": "stream",
     "text": [
      "\n",
      "  0%|          | 0/195 [00:00<?, ?it/s]\u001b[A"
     ]
    },
    {
     "name": "stdout",
     "output_type": "stream",
     "text": [
      "Number of real images: 6252\n"
     ]
    },
    {
     "name": "stderr",
     "output_type": "stream",
     "text": [
      "\n",
      "\n",
      "  0%|          | 0/15 [00:00<?, ?it/s]\u001b[A\u001b[A"
     ]
    },
    {
     "name": "stdout",
     "output_type": "stream",
     "text": [
      "Number of synthetic images: 500\n"
     ]
    },
    {
     "name": "stderr",
     "output_type": "stream",
     "text": [
      " 46%|████▌     | 46002/100001 [1:39:31<68:52:54,  4.59s/it]"
     ]
    },
    {
     "name": "stdout",
     "output_type": "stream",
     "text": [
      "Current fid score: 0.8253746464537564\n",
      "Fid scores: [4.781169086965528, 2.5563023530045648, 2.463046801314256, 2.4992711961120584, 2.218550049566371, 2.964950268119857, 3.4702528654377076, 2.613245115961785, 2.34790911689727, 2.6919041220970037, 2.3144257756644073, 2.3240966003506536, 1.993653403354564, 2.697158487724515, 1.7994096039010472, 2.91434783406185, 2.7811489268397516, 2.2334427836959794, 2.2575362052527765, 2.130950188976346, 2.15637473746202, 2.4389161668575845, 2.2519582703541623, 2.1827718797205335, 2.3576301559437454, 2.6942066386249337, 2.6747271169665723, 2.8508206571304022, 2.837364124793419, 2.920850907282844, 2.6905573257954796, 1.3344332586511385, 2.1663599865511003, 0.855827226287527, 0.7591339506391392, 1.0899071055671108, 1.556975725398381, 1.6322229933262378, 1.4239017743813775, 1.5249018576080395, 1.2095302975349256, 0.8666642624319927, 1.061769574879687, 1.0549228395687074, 0.8332865353009247, 1.4093295915717334, 0.8253746464537564]\n"
     ]
    },
    {
     "name": "stderr",
     "output_type": "stream",
     "text": [
      "  0%|          | 0/195 [00:14<?, ?it/s]1:35:04,  9.46it/s] \n",
      "  0%|          | 0/15 [00:05<?, ?it/s]\n",
      " 46%|████▌     | 46103/100001 [1:39:42<1:33:54,  9.57it/s]"
     ]
    },
    {
     "name": "stdout",
     "output_type": "stream",
     "text": [
      "GAN: loss d: 2.95353    loss g: -2.28773\n"
     ]
    },
    {
     "name": "stderr",
     "output_type": "stream",
     "text": [
      " 46%|████▌     | 46201/100001 [1:39:53<1:41:40,  8.82it/s]"
     ]
    },
    {
     "name": "stdout",
     "output_type": "stream",
     "text": [
      "GAN: loss d: 1.93190    loss g: -1.23623\n"
     ]
    },
    {
     "name": "stderr",
     "output_type": "stream",
     "text": [
      " 46%|████▋     | 46301/100001 [1:40:03<1:38:00,  9.13it/s]"
     ]
    },
    {
     "name": "stdout",
     "output_type": "stream",
     "text": [
      "GAN: loss d: 2.68257    loss g: -1.55371\n"
     ]
    },
    {
     "name": "stderr",
     "output_type": "stream",
     "text": [
      " 46%|████▋     | 46403/100001 [1:40:14<1:34:45,  9.43it/s]"
     ]
    },
    {
     "name": "stdout",
     "output_type": "stream",
     "text": [
      "GAN: loss d: 3.92109    loss g: -2.28762\n"
     ]
    },
    {
     "name": "stderr",
     "output_type": "stream",
     "text": [
      " 47%|████▋     | 46501/100001 [1:40:25<1:38:07,  9.09it/s]"
     ]
    },
    {
     "name": "stdout",
     "output_type": "stream",
     "text": [
      "GAN: loss d: 4.62906    loss g: -1.99938\n"
     ]
    },
    {
     "name": "stderr",
     "output_type": "stream",
     "text": [
      " 47%|████▋     | 46603/100001 [1:40:36<1:35:22,  9.33it/s]"
     ]
    },
    {
     "name": "stdout",
     "output_type": "stream",
     "text": [
      "GAN: loss d: 1.61358    loss g: -1.75272\n"
     ]
    },
    {
     "name": "stderr",
     "output_type": "stream",
     "text": [
      " 47%|████▋     | 46701/100001 [1:40:46<1:38:50,  8.99it/s]"
     ]
    },
    {
     "name": "stdout",
     "output_type": "stream",
     "text": [
      "GAN: loss d: 1.60873    loss g: -2.37716\n"
     ]
    },
    {
     "name": "stderr",
     "output_type": "stream",
     "text": [
      " 47%|████▋     | 46801/100001 [1:40:57<1:38:43,  8.98it/s]"
     ]
    },
    {
     "name": "stdout",
     "output_type": "stream",
     "text": [
      "GAN: loss d: 2.52806    loss g: -1.60992\n"
     ]
    },
    {
     "name": "stderr",
     "output_type": "stream",
     "text": [
      " 47%|████▋     | 46903/100001 [1:41:08<1:32:55,  9.52it/s]"
     ]
    },
    {
     "name": "stdout",
     "output_type": "stream",
     "text": [
      "GAN: loss d: 1.45612    loss g: -2.51839\n"
     ]
    },
    {
     "name": "stderr",
     "output_type": "stream",
     "text": [
      " 47%|████▋     | 47000/100001 [1:41:19<1:35:51,  9.22it/s]"
     ]
    },
    {
     "name": "stdout",
     "output_type": "stream",
     "text": [
      "GAN: loss d: 2.60478    loss g: -1.67307\n",
      "saving current model\n"
     ]
    },
    {
     "name": "stderr",
     "output_type": "stream",
     "text": [
      "\n",
      "  0%|          | 0/195 [00:00<?, ?it/s]\u001b[A"
     ]
    },
    {
     "name": "stdout",
     "output_type": "stream",
     "text": [
      "Number of real images: 6252\n"
     ]
    },
    {
     "name": "stderr",
     "output_type": "stream",
     "text": [
      "\n",
      "\n",
      "  0%|          | 0/15 [00:00<?, ?it/s]\u001b[A\u001b[A"
     ]
    },
    {
     "name": "stdout",
     "output_type": "stream",
     "text": [
      "Number of synthetic images: 500\n"
     ]
    },
    {
     "name": "stderr",
     "output_type": "stream",
     "text": [
      " 47%|████▋     | 47002/100001 [1:41:40<67:31:54,  4.59s/it]"
     ]
    },
    {
     "name": "stdout",
     "output_type": "stream",
     "text": [
      "Current fid score: 1.0501828097794572\n",
      "Fid scores: [4.781169086965528, 2.5563023530045648, 2.463046801314256, 2.4992711961120584, 2.218550049566371, 2.964950268119857, 3.4702528654377076, 2.613245115961785, 2.34790911689727, 2.6919041220970037, 2.3144257756644073, 2.3240966003506536, 1.993653403354564, 2.697158487724515, 1.7994096039010472, 2.91434783406185, 2.7811489268397516, 2.2334427836959794, 2.2575362052527765, 2.130950188976346, 2.15637473746202, 2.4389161668575845, 2.2519582703541623, 2.1827718797205335, 2.3576301559437454, 2.6942066386249337, 2.6747271169665723, 2.8508206571304022, 2.837364124793419, 2.920850907282844, 2.6905573257954796, 1.3344332586511385, 2.1663599865511003, 0.855827226287527, 0.7591339506391392, 1.0899071055671108, 1.556975725398381, 1.6322229933262378, 1.4239017743813775, 1.5249018576080395, 1.2095302975349256, 0.8666642624319927, 1.061769574879687, 1.0549228395687074, 0.8332865353009247, 1.4093295915717334, 0.8253746464537564, 1.0501828097794572]\n"
     ]
    },
    {
     "name": "stderr",
     "output_type": "stream",
     "text": [
      "  0%|          | 0/195 [00:19<?, ?it/s]1:35:05,  9.27it/s] \n",
      "  0%|          | 0/15 [00:09<?, ?it/s]\n",
      " 47%|████▋     | 47101/100001 [1:41:51<1:40:21,  8.78it/s]"
     ]
    },
    {
     "name": "stdout",
     "output_type": "stream",
     "text": [
      "GAN: loss d: 2.45028    loss g: -2.14359\n"
     ]
    },
    {
     "name": "stderr",
     "output_type": "stream",
     "text": [
      " 47%|████▋     | 47201/100001 [1:42:01<1:38:11,  8.96it/s]"
     ]
    },
    {
     "name": "stdout",
     "output_type": "stream",
     "text": [
      "GAN: loss d: 2.67447    loss g: -1.80685\n"
     ]
    },
    {
     "name": "stderr",
     "output_type": "stream",
     "text": [
      " 47%|████▋     | 47301/100001 [1:42:12<1:37:34,  9.00it/s]"
     ]
    },
    {
     "name": "stdout",
     "output_type": "stream",
     "text": [
      "GAN: loss d: 0.46103    loss g: -0.56856\n"
     ]
    },
    {
     "name": "stderr",
     "output_type": "stream",
     "text": [
      " 47%|████▋     | 47403/100001 [1:42:23<1:31:53,  9.54it/s]"
     ]
    },
    {
     "name": "stdout",
     "output_type": "stream",
     "text": [
      "GAN: loss d: 3.10698    loss g: -2.38335\n"
     ]
    },
    {
     "name": "stderr",
     "output_type": "stream",
     "text": [
      " 48%|████▊     | 47503/100001 [1:42:34<1:33:32,  9.35it/s]"
     ]
    },
    {
     "name": "stdout",
     "output_type": "stream",
     "text": [
      "GAN: loss d: 1.32290    loss g: -1.90309\n"
     ]
    },
    {
     "name": "stderr",
     "output_type": "stream",
     "text": [
      " 48%|████▊     | 47601/100001 [1:42:45<1:38:02,  8.91it/s]"
     ]
    },
    {
     "name": "stdout",
     "output_type": "stream",
     "text": [
      "GAN: loss d: 1.54484    loss g: -1.73548\n"
     ]
    },
    {
     "name": "stderr",
     "output_type": "stream",
     "text": [
      " 48%|████▊     | 47701/100001 [1:42:55<1:35:28,  9.13it/s]"
     ]
    },
    {
     "name": "stdout",
     "output_type": "stream",
     "text": [
      "GAN: loss d: 1.23205    loss g: -1.50610\n"
     ]
    },
    {
     "name": "stderr",
     "output_type": "stream",
     "text": [
      " 48%|████▊     | 47801/100001 [1:43:06<1:36:16,  9.04it/s]"
     ]
    },
    {
     "name": "stdout",
     "output_type": "stream",
     "text": [
      "GAN: loss d: 2.92835    loss g: -1.95326\n"
     ]
    },
    {
     "name": "stderr",
     "output_type": "stream",
     "text": [
      " 48%|████▊     | 47903/100001 [1:43:17<1:31:28,  9.49it/s]"
     ]
    },
    {
     "name": "stdout",
     "output_type": "stream",
     "text": [
      "GAN: loss d: 1.63851    loss g: -1.85324\n"
     ]
    },
    {
     "name": "stderr",
     "output_type": "stream",
     "text": [
      " 48%|████▊     | 48000/100001 [1:43:27<1:31:25,  9.48it/s]"
     ]
    },
    {
     "name": "stdout",
     "output_type": "stream",
     "text": [
      "GAN: loss d: 4.24778    loss g: -2.05614\n",
      "saving current model\n"
     ]
    },
    {
     "name": "stderr",
     "output_type": "stream",
     "text": [
      "\n",
      "  0%|          | 0/195 [00:00<?, ?it/s]\u001b[A"
     ]
    },
    {
     "name": "stdout",
     "output_type": "stream",
     "text": [
      "Number of real images: 6252\n"
     ]
    },
    {
     "name": "stderr",
     "output_type": "stream",
     "text": [
      "\n",
      "\n",
      "  0%|          | 0/15 [00:00<?, ?it/s]\u001b[A\u001b[A"
     ]
    },
    {
     "name": "stdout",
     "output_type": "stream",
     "text": [
      "Number of synthetic images: 500\n"
     ]
    },
    {
     "name": "stderr",
     "output_type": "stream",
     "text": [
      "  0%|          | 0/195 [00:10<?, ?it/s]\n",
      "  0%|          | 0/15 [00:00<?, ?it/s]"
     ]
    },
    {
     "name": "stdout",
     "output_type": "stream",
     "text": [
      "Current fid score: 0.753537841488491\n",
      "Fid scores: [4.781169086965528, 2.5563023530045648, 2.463046801314256, 2.4992711961120584, 2.218550049566371, 2.964950268119857, 3.4702528654377076, 2.613245115961785, 2.34790911689727, 2.6919041220970037, 2.3144257756644073, 2.3240966003506536, 1.993653403354564, 2.697158487724515, 1.7994096039010472, 2.91434783406185, 2.7811489268397516, 2.2334427836959794, 2.2575362052527765, 2.130950188976346, 2.15637473746202, 2.4389161668575845, 2.2519582703541623, 2.1827718797205335, 2.3576301559437454, 2.6942066386249337, 2.6747271169665723, 2.8508206571304022, 2.837364124793419, 2.920850907282844, 2.6905573257954796, 1.3344332586511385, 2.1663599865511003, 0.855827226287527, 0.7591339506391392, 1.0899071055671108, 1.556975725398381, 1.6322229933262378, 1.4239017743813775, 1.5249018576080395, 1.2095302975349256, 0.8666642624319927, 1.061769574879687, 1.0549228395687074, 0.8332865353009247, 1.4093295915717334, 0.8253746464537564, 1.0501828097794572, 0.753537841488491]\n",
      "New min fid score: 0.753537841488\n",
      "Saving best model\n"
     ]
    },
    {
     "name": "stderr",
     "output_type": "stream",
     "text": [
      "\n",
      " 48%|████▊     | 48103/100001 [1:44:03<1:31:09,  9.49it/s]  "
     ]
    },
    {
     "name": "stdout",
     "output_type": "stream",
     "text": [
      "GAN: loss d: 2.08287    loss g: -1.92819\n"
     ]
    },
    {
     "name": "stderr",
     "output_type": "stream",
     "text": [
      " 48%|████▊     | 48201/100001 [1:44:14<1:35:07,  9.08it/s]"
     ]
    },
    {
     "name": "stdout",
     "output_type": "stream",
     "text": [
      "GAN: loss d: 1.09418    loss g: -1.89911\n"
     ]
    },
    {
     "name": "stderr",
     "output_type": "stream",
     "text": [
      " 48%|████▊     | 48303/100001 [1:44:24<1:30:55,  9.48it/s]"
     ]
    },
    {
     "name": "stdout",
     "output_type": "stream",
     "text": [
      "GAN: loss d: 2.01434    loss g: -1.87737\n"
     ]
    },
    {
     "name": "stderr",
     "output_type": "stream",
     "text": [
      " 48%|████▊     | 48403/100001 [1:44:35<1:31:11,  9.43it/s]"
     ]
    },
    {
     "name": "stdout",
     "output_type": "stream",
     "text": [
      "GAN: loss d: 1.25081    loss g: -1.41992\n"
     ]
    },
    {
     "name": "stderr",
     "output_type": "stream",
     "text": [
      " 49%|████▊     | 48503/100001 [1:44:46<1:31:06,  9.42it/s]"
     ]
    },
    {
     "name": "stdout",
     "output_type": "stream",
     "text": [
      "GAN: loss d: 2.22361    loss g: -2.13587\n"
     ]
    },
    {
     "name": "stderr",
     "output_type": "stream",
     "text": [
      " 49%|████▊     | 48601/100001 [1:44:56<1:35:35,  8.96it/s]"
     ]
    },
    {
     "name": "stdout",
     "output_type": "stream",
     "text": [
      "GAN: loss d: 3.54766    loss g: -1.77303\n"
     ]
    },
    {
     "name": "stderr",
     "output_type": "stream",
     "text": [
      " 49%|████▊     | 48701/100001 [1:45:07<1:33:20,  9.16it/s]"
     ]
    },
    {
     "name": "stdout",
     "output_type": "stream",
     "text": [
      "GAN: loss d: 3.28231    loss g: -1.87762\n"
     ]
    },
    {
     "name": "stderr",
     "output_type": "stream",
     "text": [
      " 49%|████▉     | 48801/100001 [1:45:18<1:35:12,  8.96it/s]"
     ]
    },
    {
     "name": "stdout",
     "output_type": "stream",
     "text": [
      "GAN: loss d: 3.70756    loss g: -1.80019\n"
     ]
    },
    {
     "name": "stderr",
     "output_type": "stream",
     "text": [
      " 49%|████▉     | 48903/100001 [1:45:29<1:29:51,  9.48it/s]"
     ]
    },
    {
     "name": "stdout",
     "output_type": "stream",
     "text": [
      "GAN: loss d: 2.52165    loss g: -1.69124\n"
     ]
    },
    {
     "name": "stderr",
     "output_type": "stream",
     "text": [
      " 49%|████▉     | 49000/100001 [1:45:39<1:30:18,  9.41it/s]"
     ]
    },
    {
     "name": "stdout",
     "output_type": "stream",
     "text": [
      "GAN: loss d: 4.14693    loss g: -2.04845\n",
      "saving current model\n"
     ]
    },
    {
     "name": "stderr",
     "output_type": "stream",
     "text": [
      "\n",
      "  0%|          | 0/195 [00:00<?, ?it/s]\u001b[A"
     ]
    },
    {
     "name": "stdout",
     "output_type": "stream",
     "text": [
      "Number of real images: 6252\n"
     ]
    },
    {
     "name": "stderr",
     "output_type": "stream",
     "text": [
      "\n",
      "\n",
      "  0%|          | 0/15 [00:00<?, ?it/s]\u001b[A\u001b[A"
     ]
    },
    {
     "name": "stdout",
     "output_type": "stream",
     "text": [
      "Number of synthetic images: 500\n"
     ]
    },
    {
     "name": "stderr",
     "output_type": "stream",
     "text": [
      " 49%|████▉     | 49002/100001 [1:46:01<64:58:52,  4.59s/it]"
     ]
    },
    {
     "name": "stdout",
     "output_type": "stream",
     "text": [
      "Current fid score: 0.9101388104903059\n",
      "Fid scores: [4.781169086965528, 2.5563023530045648, 2.463046801314256, 2.4992711961120584, 2.218550049566371, 2.964950268119857, 3.4702528654377076, 2.613245115961785, 2.34790911689727, 2.6919041220970037, 2.3144257756644073, 2.3240966003506536, 1.993653403354564, 2.697158487724515, 1.7994096039010472, 2.91434783406185, 2.7811489268397516, 2.2334427836959794, 2.2575362052527765, 2.130950188976346, 2.15637473746202, 2.4389161668575845, 2.2519582703541623, 2.1827718797205335, 2.3576301559437454, 2.6942066386249337, 2.6747271169665723, 2.8508206571304022, 2.837364124793419, 2.920850907282844, 2.6905573257954796, 1.3344332586511385, 2.1663599865511003, 0.855827226287527, 0.7591339506391392, 1.0899071055671108, 1.556975725398381, 1.6322229933262378, 1.4239017743813775, 1.5249018576080395, 1.2095302975349256, 0.8666642624319927, 1.061769574879687, 1.0549228395687074, 0.8332865353009247, 1.4093295915717334, 0.8253746464537564, 1.0501828097794572, 0.753537841488491, 0.9101388104903059]\n"
     ]
    },
    {
     "name": "stderr",
     "output_type": "stream",
     "text": [
      "  0%|          | 0/195 [00:19<?, ?it/s]1:30:49,  9.34it/s] \n",
      "  0%|          | 0/15 [00:10<?, ?it/s]\n",
      " 49%|████▉     | 49101/100001 [1:46:11<1:34:37,  8.97it/s]"
     ]
    },
    {
     "name": "stdout",
     "output_type": "stream",
     "text": [
      "GAN: loss d: 3.93128    loss g: -1.59074\n"
     ]
    },
    {
     "name": "stderr",
     "output_type": "stream",
     "text": [
      " 49%|████▉     | 49203/100001 [1:46:22<1:28:36,  9.56it/s]"
     ]
    },
    {
     "name": "stdout",
     "output_type": "stream",
     "text": [
      "GAN: loss d: 4.11487    loss g: -1.72947\n"
     ]
    },
    {
     "name": "stderr",
     "output_type": "stream",
     "text": [
      " 49%|████▉     | 49301/100001 [1:46:33<1:34:19,  8.96it/s]"
     ]
    },
    {
     "name": "stdout",
     "output_type": "stream",
     "text": [
      "GAN: loss d: 2.29182    loss g: -1.79057\n"
     ]
    },
    {
     "name": "stderr",
     "output_type": "stream",
     "text": [
      " 49%|████▉     | 49401/100001 [1:46:43<1:33:24,  9.03it/s]"
     ]
    },
    {
     "name": "stdout",
     "output_type": "stream",
     "text": [
      "GAN: loss d: 1.14147    loss g: -1.54353\n"
     ]
    },
    {
     "name": "stderr",
     "output_type": "stream",
     "text": [
      " 50%|████▉     | 49503/100001 [1:46:54<1:27:21,  9.63it/s]"
     ]
    },
    {
     "name": "stdout",
     "output_type": "stream",
     "text": [
      "GAN: loss d: 2.53826    loss g: -1.76162\n"
     ]
    },
    {
     "name": "stderr",
     "output_type": "stream",
     "text": [
      " 50%|████▉     | 49603/100001 [1:47:05<1:28:04,  9.54it/s]"
     ]
    },
    {
     "name": "stdout",
     "output_type": "stream",
     "text": [
      "GAN: loss d: 3.25045    loss g: -1.70731\n"
     ]
    },
    {
     "name": "stderr",
     "output_type": "stream",
     "text": [
      " 50%|████▉     | 49701/100001 [1:47:15<1:31:51,  9.13it/s]"
     ]
    },
    {
     "name": "stdout",
     "output_type": "stream",
     "text": [
      "GAN: loss d: 2.79748    loss g: -2.20222\n"
     ]
    },
    {
     "name": "stderr",
     "output_type": "stream",
     "text": [
      " 50%|████▉     | 49803/100001 [1:47:26<1:29:16,  9.37it/s]"
     ]
    },
    {
     "name": "stdout",
     "output_type": "stream",
     "text": [
      "GAN: loss d: -0.38827    loss g: -2.06679\n"
     ]
    },
    {
     "name": "stderr",
     "output_type": "stream",
     "text": [
      " 50%|████▉     | 49903/100001 [1:47:37<1:27:21,  9.56it/s]"
     ]
    },
    {
     "name": "stdout",
     "output_type": "stream",
     "text": [
      "GAN: loss d: 1.57605    loss g: -1.75300\n"
     ]
    },
    {
     "name": "stderr",
     "output_type": "stream",
     "text": [
      " 50%|████▉     | 50000/100001 [1:47:47<1:30:45,  9.18it/s]"
     ]
    },
    {
     "name": "stdout",
     "output_type": "stream",
     "text": [
      "GAN: loss d: 3.52767    loss g: -1.96982\n",
      "saving current model\n"
     ]
    },
    {
     "name": "stderr",
     "output_type": "stream",
     "text": [
      "\n",
      "  0%|          | 0/195 [00:00<?, ?it/s]\u001b[A"
     ]
    },
    {
     "name": "stdout",
     "output_type": "stream",
     "text": [
      "Number of real images: 6252\n"
     ]
    },
    {
     "name": "stderr",
     "output_type": "stream",
     "text": [
      "\n",
      "\n",
      "  0%|          | 0/15 [00:00<?, ?it/s]\u001b[A\u001b[A"
     ]
    },
    {
     "name": "stdout",
     "output_type": "stream",
     "text": [
      "Number of synthetic images: 500\n"
     ]
    },
    {
     "name": "stderr",
     "output_type": "stream",
     "text": [
      " 50%|█████     | 50001/100001 [1:48:09<90:28:24,  6.51s/it]"
     ]
    },
    {
     "name": "stdout",
     "output_type": "stream",
     "text": [
      "Current fid score: 0.8306977745111297\n",
      "Fid scores: [4.781169086965528, 2.5563023530045648, 2.463046801314256, 2.4992711961120584, 2.218550049566371, 2.964950268119857, 3.4702528654377076, 2.613245115961785, 2.34790911689727, 2.6919041220970037, 2.3144257756644073, 2.3240966003506536, 1.993653403354564, 2.697158487724515, 1.7994096039010472, 2.91434783406185, 2.7811489268397516, 2.2334427836959794, 2.2575362052527765, 2.130950188976346, 2.15637473746202, 2.4389161668575845, 2.2519582703541623, 2.1827718797205335, 2.3576301559437454, 2.6942066386249337, 2.6747271169665723, 2.8508206571304022, 2.837364124793419, 2.920850907282844, 2.6905573257954796, 1.3344332586511385, 2.1663599865511003, 0.855827226287527, 0.7591339506391392, 1.0899071055671108, 1.556975725398381, 1.6322229933262378, 1.4239017743813775, 1.5249018576080395, 1.2095302975349256, 0.8666642624319927, 1.061769574879687, 1.0549228395687074, 0.8332865353009247, 1.4093295915717334, 0.8253746464537564, 1.0501828097794572, 0.753537841488491, 0.9101388104903059, 0.8306977745111297]\n"
     ]
    },
    {
     "name": "stderr",
     "output_type": "stream",
     "text": [
      "  0%|          | 0/195 [00:15<?, ?it/s]1:27:47,  9.48it/s] \n",
      "  0%|          | 0/15 [00:05<?, ?it/s]\n",
      " 50%|█████     | 50103/100001 [1:48:19<1:27:49,  9.47it/s]"
     ]
    },
    {
     "name": "stdout",
     "output_type": "stream",
     "text": [
      "GAN: loss d: 0.98268    loss g: -1.43144\n"
     ]
    },
    {
     "name": "stderr",
     "output_type": "stream",
     "text": [
      " 50%|█████     | 50201/100001 [1:48:30<1:30:39,  9.16it/s]"
     ]
    },
    {
     "name": "stdout",
     "output_type": "stream",
     "text": [
      "GAN: loss d: 2.45282    loss g: -2.18326\n"
     ]
    },
    {
     "name": "stderr",
     "output_type": "stream",
     "text": [
      " 50%|█████     | 50301/100001 [1:48:40<1:31:46,  9.03it/s]"
     ]
    },
    {
     "name": "stdout",
     "output_type": "stream",
     "text": [
      "GAN: loss d: 2.61678    loss g: -1.54875\n"
     ]
    },
    {
     "name": "stderr",
     "output_type": "stream",
     "text": [
      " 50%|█████     | 50403/100001 [1:48:51<1:25:55,  9.62it/s]"
     ]
    },
    {
     "name": "stdout",
     "output_type": "stream",
     "text": [
      "GAN: loss d: 1.27486    loss g: -1.47031\n"
     ]
    },
    {
     "name": "stderr",
     "output_type": "stream",
     "text": [
      " 51%|█████     | 50501/100001 [1:49:02<1:30:35,  9.11it/s]"
     ]
    },
    {
     "name": "stdout",
     "output_type": "stream",
     "text": [
      "GAN: loss d: 2.50382    loss g: -1.49167\n"
     ]
    },
    {
     "name": "stderr",
     "output_type": "stream",
     "text": [
      " 51%|█████     | 50603/100001 [1:49:13<1:27:11,  9.44it/s]"
     ]
    },
    {
     "name": "stdout",
     "output_type": "stream",
     "text": [
      "GAN: loss d: 4.28577    loss g: -2.86039\n"
     ]
    },
    {
     "name": "stderr",
     "output_type": "stream",
     "text": [
      " 51%|█████     | 50703/100001 [1:49:23<1:26:12,  9.53it/s]"
     ]
    },
    {
     "name": "stdout",
     "output_type": "stream",
     "text": [
      "GAN: loss d: 4.20002    loss g: -2.02438\n"
     ]
    },
    {
     "name": "stderr",
     "output_type": "stream",
     "text": [
      " 51%|█████     | 50801/100001 [1:49:34<1:30:18,  9.08it/s]"
     ]
    },
    {
     "name": "stdout",
     "output_type": "stream",
     "text": [
      "GAN: loss d: 2.99061    loss g: -2.48927\n"
     ]
    },
    {
     "name": "stderr",
     "output_type": "stream",
     "text": [
      " 51%|█████     | 50903/100001 [1:49:44<1:25:13,  9.60it/s]"
     ]
    },
    {
     "name": "stdout",
     "output_type": "stream",
     "text": [
      "GAN: loss d: 1.74804    loss g: -1.57198\n"
     ]
    },
    {
     "name": "stderr",
     "output_type": "stream",
     "text": [
      " 51%|█████     | 51000/100001 [1:49:55<1:25:15,  9.58it/s]"
     ]
    },
    {
     "name": "stdout",
     "output_type": "stream",
     "text": [
      "GAN: loss d: 3.33180    loss g: -1.99692\n",
      "saving current model\n"
     ]
    },
    {
     "name": "stderr",
     "output_type": "stream",
     "text": [
      "\n",
      "  0%|          | 0/195 [00:00<?, ?it/s]\u001b[A"
     ]
    },
    {
     "name": "stdout",
     "output_type": "stream",
     "text": [
      "Number of real images: 6252\n"
     ]
    },
    {
     "name": "stderr",
     "output_type": "stream",
     "text": [
      "\n",
      "\n",
      "  0%|          | 0/15 [00:00<?, ?it/s]\u001b[A\u001b[A"
     ]
    },
    {
     "name": "stdout",
     "output_type": "stream",
     "text": [
      "Number of synthetic images: 500\n"
     ]
    },
    {
     "name": "stderr",
     "output_type": "stream",
     "text": [
      " 51%|█████     | 51001/100001 [1:50:16<89:04:18,  6.54s/it]"
     ]
    },
    {
     "name": "stdout",
     "output_type": "stream",
     "text": [
      "Current fid score: 1.0361210015169284\n",
      "Fid scores: [4.781169086965528, 2.5563023530045648, 2.463046801314256, 2.4992711961120584, 2.218550049566371, 2.964950268119857, 3.4702528654377076, 2.613245115961785, 2.34790911689727, 2.6919041220970037, 2.3144257756644073, 2.3240966003506536, 1.993653403354564, 2.697158487724515, 1.7994096039010472, 2.91434783406185, 2.7811489268397516, 2.2334427836959794, 2.2575362052527765, 2.130950188976346, 2.15637473746202, 2.4389161668575845, 2.2519582703541623, 2.1827718797205335, 2.3576301559437454, 2.6942066386249337, 2.6747271169665723, 2.8508206571304022, 2.837364124793419, 2.920850907282844, 2.6905573257954796, 1.3344332586511385, 2.1663599865511003, 0.855827226287527, 0.7591339506391392, 1.0899071055671108, 1.556975725398381, 1.6322229933262378, 1.4239017743813775, 1.5249018576080395, 1.2095302975349256, 0.8666642624319927, 1.061769574879687, 1.0549228395687074, 0.8332865353009247, 1.4093295915717334, 0.8253746464537564, 1.0501828097794572, 0.753537841488491, 0.9101388104903059, 0.8306977745111297, 1.0361210015169284]\n"
     ]
    },
    {
     "name": "stderr",
     "output_type": "stream",
     "text": [
      "  0%|          | 0/195 [00:11<?, ?it/s]27:37:48,  2.03s/it]\n",
      "  0%|          | 0/15 [00:01<?, ?it/s]\n",
      " 51%|█████     | 51103/100001 [1:50:27<1:24:56,  9.59it/s] "
     ]
    },
    {
     "name": "stdout",
     "output_type": "stream",
     "text": [
      "GAN: loss d: 2.56841    loss g: -2.04526\n"
     ]
    },
    {
     "name": "stderr",
     "output_type": "stream",
     "text": [
      " 51%|█████     | 51201/100001 [1:50:37<1:28:20,  9.21it/s]"
     ]
    },
    {
     "name": "stdout",
     "output_type": "stream",
     "text": [
      "GAN: loss d: 3.05392    loss g: -1.73639\n"
     ]
    },
    {
     "name": "stderr",
     "output_type": "stream",
     "text": [
      " 51%|█████▏    | 51301/100001 [1:50:48<1:28:30,  9.17it/s]"
     ]
    },
    {
     "name": "stdout",
     "output_type": "stream",
     "text": [
      "GAN: loss d: 4.71871    loss g: -2.36251\n"
     ]
    },
    {
     "name": "stderr",
     "output_type": "stream",
     "text": [
      " 51%|█████▏    | 51403/100001 [1:50:59<1:24:13,  9.62it/s]"
     ]
    },
    {
     "name": "stdout",
     "output_type": "stream",
     "text": [
      "GAN: loss d: 3.53658    loss g: -1.95540\n"
     ]
    },
    {
     "name": "stderr",
     "output_type": "stream",
     "text": [
      " 52%|█████▏    | 51503/100001 [1:51:09<1:24:12,  9.60it/s]"
     ]
    },
    {
     "name": "stdout",
     "output_type": "stream",
     "text": [
      "GAN: loss d: -0.16008    loss g: -1.43326\n"
     ]
    },
    {
     "name": "stderr",
     "output_type": "stream",
     "text": [
      " 52%|█████▏    | 51603/100001 [1:51:20<1:25:03,  9.48it/s]"
     ]
    },
    {
     "name": "stdout",
     "output_type": "stream",
     "text": [
      "GAN: loss d: 0.56641    loss g: -1.37706\n"
     ]
    },
    {
     "name": "stderr",
     "output_type": "stream",
     "text": [
      " 52%|█████▏    | 51701/100001 [1:51:30<1:28:25,  9.10it/s]"
     ]
    },
    {
     "name": "stdout",
     "output_type": "stream",
     "text": [
      "GAN: loss d: 4.03654    loss g: -1.71893\n"
     ]
    },
    {
     "name": "stderr",
     "output_type": "stream",
     "text": [
      " 52%|█████▏    | 51801/100001 [1:51:41<1:28:56,  9.03it/s]"
     ]
    },
    {
     "name": "stdout",
     "output_type": "stream",
     "text": [
      "GAN: loss d: 2.42286    loss g: -1.89066\n"
     ]
    },
    {
     "name": "stderr",
     "output_type": "stream",
     "text": [
      " 52%|█████▏    | 51901/100001 [1:51:52<1:28:25,  9.07it/s]"
     ]
    },
    {
     "name": "stdout",
     "output_type": "stream",
     "text": [
      "GAN: loss d: 1.80172    loss g: -2.12499\n"
     ]
    },
    {
     "name": "stderr",
     "output_type": "stream",
     "text": [
      " 52%|█████▏    | 52000/100001 [1:52:02<1:25:15,  9.38it/s]"
     ]
    },
    {
     "name": "stdout",
     "output_type": "stream",
     "text": [
      "GAN: loss d: 2.42961    loss g: -2.46393\n",
      "saving current model\n"
     ]
    },
    {
     "name": "stderr",
     "output_type": "stream",
     "text": [
      "\n",
      "  0%|          | 0/195 [00:00<?, ?it/s]\u001b[A"
     ]
    },
    {
     "name": "stdout",
     "output_type": "stream",
     "text": [
      "Number of real images: 6252\n"
     ]
    },
    {
     "name": "stderr",
     "output_type": "stream",
     "text": [
      "\n",
      "\n",
      "  0%|          | 0/15 [00:00<?, ?it/s]\u001b[A\u001b[A"
     ]
    },
    {
     "name": "stdout",
     "output_type": "stream",
     "text": [
      "Number of synthetic images: 500\n"
     ]
    },
    {
     "name": "stderr",
     "output_type": "stream",
     "text": [
      " 52%|█████▏    | 52003/100001 [1:52:24<47:44:57,  3.58s/it]"
     ]
    },
    {
     "name": "stdout",
     "output_type": "stream",
     "text": [
      "Current fid score: 0.8622839615512738\n",
      "Fid scores: [4.781169086965528, 2.5563023530045648, 2.463046801314256, 2.4992711961120584, 2.218550049566371, 2.964950268119857, 3.4702528654377076, 2.613245115961785, 2.34790911689727, 2.6919041220970037, 2.3144257756644073, 2.3240966003506536, 1.993653403354564, 2.697158487724515, 1.7994096039010472, 2.91434783406185, 2.7811489268397516, 2.2334427836959794, 2.2575362052527765, 2.130950188976346, 2.15637473746202, 2.4389161668575845, 2.2519582703541623, 2.1827718797205335, 2.3576301559437454, 2.6942066386249337, 2.6747271169665723, 2.8508206571304022, 2.837364124793419, 2.920850907282844, 2.6905573257954796, 1.3344332586511385, 2.1663599865511003, 0.855827226287527, 0.7591339506391392, 1.0899071055671108, 1.556975725398381, 1.6322229933262378, 1.4239017743813775, 1.5249018576080395, 1.2095302975349256, 0.8666642624319927, 1.061769574879687, 1.0549228395687074, 0.8332865353009247, 1.4093295915717334, 0.8253746464537564, 1.0501828097794572, 0.753537841488491, 0.9101388104903059, 0.8306977745111297, 1.0361210015169284, 0.8622839615512738]\n"
     ]
    },
    {
     "name": "stderr",
     "output_type": "stream",
     "text": [
      "  0%|          | 0/195 [00:16<?, ?it/s]1:24:22,  9.47it/s] \n",
      "  0%|          | 0/15 [00:06<?, ?it/s]\n",
      " 52%|█████▏    | 52103/100001 [1:52:35<1:23:57,  9.51it/s]"
     ]
    },
    {
     "name": "stdout",
     "output_type": "stream",
     "text": [
      "GAN: loss d: 3.41033    loss g: -1.91872\n"
     ]
    },
    {
     "name": "stderr",
     "output_type": "stream",
     "text": [
      " 52%|█████▏    | 52201/100001 [1:52:45<1:28:51,  8.97it/s]"
     ]
    },
    {
     "name": "stdout",
     "output_type": "stream",
     "text": [
      "GAN: loss d: 4.27867    loss g: -2.35942\n"
     ]
    },
    {
     "name": "stderr",
     "output_type": "stream",
     "text": [
      " 52%|█████▏    | 52303/100001 [1:52:56<1:23:54,  9.47it/s]"
     ]
    },
    {
     "name": "stdout",
     "output_type": "stream",
     "text": [
      "GAN: loss d: 3.46330    loss g: -1.69115\n"
     ]
    },
    {
     "name": "stderr",
     "output_type": "stream",
     "text": [
      " 52%|█████▏    | 52401/100001 [1:53:06<1:27:47,  9.04it/s]"
     ]
    },
    {
     "name": "stdout",
     "output_type": "stream",
     "text": [
      "GAN: loss d: 1.80665    loss g: -1.68810\n"
     ]
    },
    {
     "name": "stderr",
     "output_type": "stream",
     "text": [
      " 53%|█████▎    | 52503/100001 [1:53:17<1:23:13,  9.51it/s]"
     ]
    },
    {
     "name": "stdout",
     "output_type": "stream",
     "text": [
      "GAN: loss d: 1.51592    loss g: -2.27883\n"
     ]
    },
    {
     "name": "stderr",
     "output_type": "stream",
     "text": [
      " 53%|█████▎    | 52603/100001 [1:53:28<1:21:35,  9.68it/s]"
     ]
    },
    {
     "name": "stdout",
     "output_type": "stream",
     "text": [
      "GAN: loss d: 1.72988    loss g: -2.19830\n"
     ]
    },
    {
     "name": "stderr",
     "output_type": "stream",
     "text": [
      " 53%|█████▎    | 52703/100001 [1:53:38<1:21:47,  9.64it/s]"
     ]
    },
    {
     "name": "stdout",
     "output_type": "stream",
     "text": [
      "GAN: loss d: 2.29483    loss g: -2.40407\n"
     ]
    },
    {
     "name": "stderr",
     "output_type": "stream",
     "text": [
      " 53%|█████▎    | 52803/100001 [1:53:49<1:22:54,  9.49it/s]"
     ]
    },
    {
     "name": "stdout",
     "output_type": "stream",
     "text": [
      "GAN: loss d: 1.40954    loss g: -2.12099\n"
     ]
    },
    {
     "name": "stderr",
     "output_type": "stream",
     "text": [
      " 53%|█████▎    | 52903/100001 [1:54:00<1:22:08,  9.56it/s]"
     ]
    },
    {
     "name": "stdout",
     "output_type": "stream",
     "text": [
      "GAN: loss d: 0.38189    loss g: -2.35491\n"
     ]
    },
    {
     "name": "stderr",
     "output_type": "stream",
     "text": [
      " 53%|█████▎    | 53000/100001 [1:54:10<1:22:23,  9.51it/s]"
     ]
    },
    {
     "name": "stdout",
     "output_type": "stream",
     "text": [
      "GAN: loss d: 3.41399    loss g: -2.01602\n",
      "saving current model\n"
     ]
    },
    {
     "name": "stderr",
     "output_type": "stream",
     "text": [
      "\n",
      "  0%|          | 0/195 [00:00<?, ?it/s]\u001b[A"
     ]
    },
    {
     "name": "stdout",
     "output_type": "stream",
     "text": [
      "Number of real images: 6252\n"
     ]
    },
    {
     "name": "stderr",
     "output_type": "stream",
     "text": [
      "\n",
      "\n",
      "  0%|          | 0/15 [00:00<?, ?it/s]\u001b[A\u001b[A"
     ]
    },
    {
     "name": "stdout",
     "output_type": "stream",
     "text": [
      "Number of synthetic images: 500\n"
     ]
    },
    {
     "name": "stderr",
     "output_type": "stream",
     "text": [
      " 53%|█████▎    | 53001/100001 [1:54:31<85:03:41,  6.52s/it]"
     ]
    },
    {
     "name": "stdout",
     "output_type": "stream",
     "text": [
      "Current fid score: 1.0211583963511188\n",
      "Fid scores: [4.781169086965528, 2.5563023530045648, 2.463046801314256, 2.4992711961120584, 2.218550049566371, 2.964950268119857, 3.4702528654377076, 2.613245115961785, 2.34790911689727, 2.6919041220970037, 2.3144257756644073, 2.3240966003506536, 1.993653403354564, 2.697158487724515, 1.7994096039010472, 2.91434783406185, 2.7811489268397516, 2.2334427836959794, 2.2575362052527765, 2.130950188976346, 2.15637473746202, 2.4389161668575845, 2.2519582703541623, 2.1827718797205335, 2.3576301559437454, 2.6942066386249337, 2.6747271169665723, 2.8508206571304022, 2.837364124793419, 2.920850907282844, 2.6905573257954796, 1.3344332586511385, 2.1663599865511003, 0.855827226287527, 0.7591339506391392, 1.0899071055671108, 1.556975725398381, 1.6322229933262378, 1.4239017743813775, 1.5249018576080395, 1.2095302975349256, 0.8666642624319927, 1.061769574879687, 1.0549228395687074, 0.8332865353009247, 1.4093295915717334, 0.8253746464537564, 1.0501828097794572, 0.753537841488491, 0.9101388104903059, 0.8306977745111297, 1.0361210015169284, 0.8622839615512738, 1.0211583963511188]\n"
     ]
    },
    {
     "name": "stderr",
     "output_type": "stream",
     "text": [
      "  0%|          | 0/195 [00:11<?, ?it/s]35:15:25,  2.70s/it]\n",
      "  0%|          | 0/15 [00:01<?, ?it/s]\n",
      " 53%|█████▎    | 53103/100001 [1:54:42<1:21:27,  9.60it/s] "
     ]
    },
    {
     "name": "stdout",
     "output_type": "stream",
     "text": [
      "GAN: loss d: 4.32745    loss g: -2.12563\n"
     ]
    },
    {
     "name": "stderr",
     "output_type": "stream",
     "text": [
      " 53%|█████▎    | 53203/100001 [1:54:53<1:21:05,  9.62it/s]"
     ]
    },
    {
     "name": "stdout",
     "output_type": "stream",
     "text": [
      "GAN: loss d: 1.32029    loss g: -2.59497\n"
     ]
    },
    {
     "name": "stderr",
     "output_type": "stream",
     "text": [
      " 53%|█████▎    | 53303/100001 [1:55:03<1:20:32,  9.66it/s]"
     ]
    },
    {
     "name": "stdout",
     "output_type": "stream",
     "text": [
      "GAN: loss d: 1.47350    loss g: -1.82941\n"
     ]
    },
    {
     "name": "stderr",
     "output_type": "stream",
     "text": [
      " 53%|█████▎    | 53401/100001 [1:55:14<1:26:19,  9.00it/s]"
     ]
    },
    {
     "name": "stdout",
     "output_type": "stream",
     "text": [
      "GAN: loss d: 2.82909    loss g: -1.73012\n"
     ]
    },
    {
     "name": "stderr",
     "output_type": "stream",
     "text": [
      " 54%|█████▎    | 53501/100001 [1:55:24<1:25:30,  9.06it/s]"
     ]
    },
    {
     "name": "stdout",
     "output_type": "stream",
     "text": [
      "GAN: loss d: 4.34410    loss g: -2.24091\n"
     ]
    },
    {
     "name": "stderr",
     "output_type": "stream",
     "text": [
      " 54%|█████▎    | 53603/100001 [1:55:35<1:20:06,  9.65it/s]"
     ]
    },
    {
     "name": "stdout",
     "output_type": "stream",
     "text": [
      "GAN: loss d: 4.18892    loss g: -2.78441\n"
     ]
    },
    {
     "name": "stderr",
     "output_type": "stream",
     "text": [
      " 54%|█████▎    | 53701/100001 [1:55:45<1:24:22,  9.14it/s]"
     ]
    },
    {
     "name": "stdout",
     "output_type": "stream",
     "text": [
      "GAN: loss d: 4.65666    loss g: -1.97962\n"
     ]
    },
    {
     "name": "stderr",
     "output_type": "stream",
     "text": [
      " 54%|█████▍    | 53803/100001 [1:55:56<1:20:49,  9.53it/s]"
     ]
    },
    {
     "name": "stdout",
     "output_type": "stream",
     "text": [
      "GAN: loss d: 2.48652    loss g: -2.02428\n"
     ]
    },
    {
     "name": "stderr",
     "output_type": "stream",
     "text": [
      " 54%|█████▍    | 53903/100001 [1:56:07<1:20:01,  9.60it/s]"
     ]
    },
    {
     "name": "stdout",
     "output_type": "stream",
     "text": [
      "GAN: loss d: 1.19558    loss g: -2.08584\n"
     ]
    },
    {
     "name": "stderr",
     "output_type": "stream",
     "text": [
      " 54%|█████▍    | 54000/100001 [1:56:17<1:19:50,  9.60it/s]"
     ]
    },
    {
     "name": "stdout",
     "output_type": "stream",
     "text": [
      "GAN: loss d: 1.48006    loss g: -2.37874\n",
      "saving current model\n"
     ]
    },
    {
     "name": "stderr",
     "output_type": "stream",
     "text": [
      "\n",
      "  0%|          | 0/195 [00:00<?, ?it/s]\u001b[A"
     ]
    },
    {
     "name": "stdout",
     "output_type": "stream",
     "text": [
      "Number of real images: 6252\n"
     ]
    },
    {
     "name": "stderr",
     "output_type": "stream",
     "text": [
      "\n",
      "\n",
      "  0%|          | 0/15 [00:00<?, ?it/s]\u001b[A\u001b[A"
     ]
    },
    {
     "name": "stdout",
     "output_type": "stream",
     "text": [
      "Number of synthetic images: 500\n"
     ]
    },
    {
     "name": "stderr",
     "output_type": "stream",
     "text": [
      " 54%|█████▍    | 54001/100001 [1:56:39<83:40:38,  6.55s/it]"
     ]
    },
    {
     "name": "stdout",
     "output_type": "stream",
     "text": [
      "Current fid score: 1.0494697313231427\n",
      "Fid scores: [4.781169086965528, 2.5563023530045648, 2.463046801314256, 2.4992711961120584, 2.218550049566371, 2.964950268119857, 3.4702528654377076, 2.613245115961785, 2.34790911689727, 2.6919041220970037, 2.3144257756644073, 2.3240966003506536, 1.993653403354564, 2.697158487724515, 1.7994096039010472, 2.91434783406185, 2.7811489268397516, 2.2334427836959794, 2.2575362052527765, 2.130950188976346, 2.15637473746202, 2.4389161668575845, 2.2519582703541623, 2.1827718797205335, 2.3576301559437454, 2.6942066386249337, 2.6747271169665723, 2.8508206571304022, 2.837364124793419, 2.920850907282844, 2.6905573257954796, 1.3344332586511385, 2.1663599865511003, 0.855827226287527, 0.7591339506391392, 1.0899071055671108, 1.556975725398381, 1.6322229933262378, 1.4239017743813775, 1.5249018576080395, 1.2095302975349256, 0.8666642624319927, 1.061769574879687, 1.0549228395687074, 0.8332865353009247, 1.4093295915717334, 0.8253746464537564, 1.0501828097794572, 0.753537841488491, 0.9101388104903059, 0.8306977745111297, 1.0361210015169284, 0.8622839615512738, 1.0211583963511188, 1.0494697313231427]\n"
     ]
    },
    {
     "name": "stderr",
     "output_type": "stream",
     "text": [
      "  0%|          | 0/195 [00:16<?, ?it/s]1:23:18,  9.19it/s] \n",
      "  0%|          | 0/15 [00:06<?, ?it/s]\n",
      " 54%|█████▍    | 54103/100001 [1:56:49<1:19:13,  9.66it/s]"
     ]
    },
    {
     "name": "stdout",
     "output_type": "stream",
     "text": [
      "GAN: loss d: 5.87905    loss g: -1.81054\n"
     ]
    },
    {
     "name": "stderr",
     "output_type": "stream",
     "text": [
      " 54%|█████▍    | 54201/100001 [1:57:00<1:24:32,  9.03it/s]"
     ]
    },
    {
     "name": "stdout",
     "output_type": "stream",
     "text": [
      "GAN: loss d: 2.58555    loss g: -2.20822\n"
     ]
    },
    {
     "name": "stderr",
     "output_type": "stream",
     "text": [
      " 54%|█████▍    | 54303/100001 [1:57:11<1:19:29,  9.58it/s]"
     ]
    },
    {
     "name": "stdout",
     "output_type": "stream",
     "text": [
      "GAN: loss d: 1.47752    loss g: -2.72305\n"
     ]
    },
    {
     "name": "stderr",
     "output_type": "stream",
     "text": [
      " 54%|█████▍    | 54403/100001 [1:57:21<1:19:47,  9.52it/s]"
     ]
    },
    {
     "name": "stdout",
     "output_type": "stream",
     "text": [
      "GAN: loss d: 1.80970    loss g: -1.54034\n"
     ]
    },
    {
     "name": "stderr",
     "output_type": "stream",
     "text": [
      " 55%|█████▍    | 54503/100001 [1:57:32<1:21:06,  9.35it/s]"
     ]
    },
    {
     "name": "stdout",
     "output_type": "stream",
     "text": [
      "GAN: loss d: 2.74138    loss g: -1.62494\n"
     ]
    },
    {
     "name": "stderr",
     "output_type": "stream",
     "text": [
      " 55%|█████▍    | 54603/100001 [1:57:42<1:19:40,  9.50it/s]"
     ]
    },
    {
     "name": "stdout",
     "output_type": "stream",
     "text": [
      "GAN: loss d: 2.56128    loss g: -2.04437\n"
     ]
    },
    {
     "name": "stderr",
     "output_type": "stream",
     "text": [
      " 55%|█████▍    | 54701/100001 [1:57:53<1:21:38,  9.25it/s]"
     ]
    },
    {
     "name": "stdout",
     "output_type": "stream",
     "text": [
      "GAN: loss d: -2.27229    loss g: -1.84648\n"
     ]
    },
    {
     "name": "stderr",
     "output_type": "stream",
     "text": [
      " 55%|█████▍    | 54803/100001 [1:58:04<1:19:16,  9.50it/s]"
     ]
    },
    {
     "name": "stdout",
     "output_type": "stream",
     "text": [
      "GAN: loss d: 2.18366    loss g: -1.98866\n"
     ]
    },
    {
     "name": "stderr",
     "output_type": "stream",
     "text": [
      " 55%|█████▍    | 54903/100001 [1:58:14<1:19:31,  9.45it/s]"
     ]
    },
    {
     "name": "stdout",
     "output_type": "stream",
     "text": [
      "GAN: loss d: 2.59318    loss g: -2.05262\n"
     ]
    },
    {
     "name": "stderr",
     "output_type": "stream",
     "text": [
      " 55%|█████▍    | 55000/100001 [1:58:24<1:18:33,  9.55it/s]"
     ]
    },
    {
     "name": "stdout",
     "output_type": "stream",
     "text": [
      "GAN: loss d: 2.44993    loss g: -2.12959\n",
      "saving current model\n"
     ]
    },
    {
     "name": "stderr",
     "output_type": "stream",
     "text": [
      "\n",
      "  0%|          | 0/195 [00:00<?, ?it/s]\u001b[A"
     ]
    },
    {
     "name": "stdout",
     "output_type": "stream",
     "text": [
      "Number of real images: 6252\n"
     ]
    },
    {
     "name": "stderr",
     "output_type": "stream",
     "text": [
      "\n",
      "\n",
      "  0%|          | 0/15 [00:00<?, ?it/s]\u001b[A\u001b[A"
     ]
    },
    {
     "name": "stdout",
     "output_type": "stream",
     "text": [
      "Number of synthetic images: 500\n"
     ]
    },
    {
     "name": "stderr",
     "output_type": "stream",
     "text": [
      "  0%|          | 0/195 [00:10<?, ?it/s]\n",
      "  0%|          | 0/15 [00:00<?, ?it/s]"
     ]
    },
    {
     "name": "stdout",
     "output_type": "stream",
     "text": [
      "Current fid score: 0.7210932457566237\n",
      "Fid scores: [4.781169086965528, 2.5563023530045648, 2.463046801314256, 2.4992711961120584, 2.218550049566371, 2.964950268119857, 3.4702528654377076, 2.613245115961785, 2.34790911689727, 2.6919041220970037, 2.3144257756644073, 2.3240966003506536, 1.993653403354564, 2.697158487724515, 1.7994096039010472, 2.91434783406185, 2.7811489268397516, 2.2334427836959794, 2.2575362052527765, 2.130950188976346, 2.15637473746202, 2.4389161668575845, 2.2519582703541623, 2.1827718797205335, 2.3576301559437454, 2.6942066386249337, 2.6747271169665723, 2.8508206571304022, 2.837364124793419, 2.920850907282844, 2.6905573257954796, 1.3344332586511385, 2.1663599865511003, 0.855827226287527, 0.7591339506391392, 1.0899071055671108, 1.556975725398381, 1.6322229933262378, 1.4239017743813775, 1.5249018576080395, 1.2095302975349256, 0.8666642624319927, 1.061769574879687, 1.0549228395687074, 0.8332865353009247, 1.4093295915717334, 0.8253746464537564, 1.0501828097794572, 0.753537841488491, 0.9101388104903059, 0.8306977745111297, 1.0361210015169284, 0.8622839615512738, 1.0211583963511188, 1.0494697313231427, 0.7210932457566237]\n",
      "New min fid score: 0.721093245757\n",
      "Saving best model\n"
     ]
    },
    {
     "name": "stderr",
     "output_type": "stream",
     "text": [
      "\n",
      " 55%|█████▌    | 55103/100001 [1:59:00<1:18:41,  9.51it/s] "
     ]
    },
    {
     "name": "stdout",
     "output_type": "stream",
     "text": [
      "GAN: loss d: 4.02731    loss g: -2.00236\n"
     ]
    },
    {
     "name": "stderr",
     "output_type": "stream",
     "text": [
      " 55%|█████▌    | 55201/100001 [1:59:11<1:22:11,  9.09it/s]"
     ]
    },
    {
     "name": "stdout",
     "output_type": "stream",
     "text": [
      "GAN: loss d: 4.27995    loss g: -2.38366\n"
     ]
    },
    {
     "name": "stderr",
     "output_type": "stream",
     "text": [
      " 55%|█████▌    | 55303/100001 [1:59:21<1:18:01,  9.55it/s]"
     ]
    },
    {
     "name": "stdout",
     "output_type": "stream",
     "text": [
      "GAN: loss d: 3.71214    loss g: -2.03977\n"
     ]
    },
    {
     "name": "stderr",
     "output_type": "stream",
     "text": [
      " 55%|█████▌    | 55401/100001 [1:59:32<1:22:59,  8.96it/s]"
     ]
    },
    {
     "name": "stdout",
     "output_type": "stream",
     "text": [
      "GAN: loss d: 3.36482    loss g: -2.07442\n"
     ]
    },
    {
     "name": "stderr",
     "output_type": "stream",
     "text": [
      " 56%|█████▌    | 55501/100001 [1:59:42<1:22:29,  8.99it/s]"
     ]
    },
    {
     "name": "stdout",
     "output_type": "stream",
     "text": [
      "GAN: loss d: 2.55260    loss g: -2.12491\n"
     ]
    },
    {
     "name": "stderr",
     "output_type": "stream",
     "text": [
      " 56%|█████▌    | 55603/100001 [1:59:53<1:17:00,  9.61it/s]"
     ]
    },
    {
     "name": "stdout",
     "output_type": "stream",
     "text": [
      "GAN: loss d: 4.21380    loss g: -2.58956\n"
     ]
    },
    {
     "name": "stderr",
     "output_type": "stream",
     "text": [
      " 56%|█████▌    | 55703/100001 [2:00:04<1:16:39,  9.63it/s]"
     ]
    },
    {
     "name": "stdout",
     "output_type": "stream",
     "text": [
      "GAN: loss d: 3.25040    loss g: -2.80699\n"
     ]
    },
    {
     "name": "stderr",
     "output_type": "stream",
     "text": [
      " 56%|█████▌    | 55803/100001 [2:00:14<1:17:28,  9.51it/s]"
     ]
    },
    {
     "name": "stdout",
     "output_type": "stream",
     "text": [
      "GAN: loss d: 2.34496    loss g: -2.29132\n"
     ]
    },
    {
     "name": "stderr",
     "output_type": "stream",
     "text": [
      " 56%|█████▌    | 55903/100001 [2:00:25<1:16:17,  9.63it/s]"
     ]
    },
    {
     "name": "stdout",
     "output_type": "stream",
     "text": [
      "GAN: loss d: 3.27701    loss g: -2.24767\n"
     ]
    },
    {
     "name": "stderr",
     "output_type": "stream",
     "text": [
      " 56%|█████▌    | 56000/100001 [2:00:35<1:17:15,  9.49it/s]"
     ]
    },
    {
     "name": "stdout",
     "output_type": "stream",
     "text": [
      "GAN: loss d: 1.05379    loss g: -2.04763\n",
      "saving current model\n"
     ]
    },
    {
     "name": "stderr",
     "output_type": "stream",
     "text": [
      "\n",
      "  0%|          | 0/195 [00:00<?, ?it/s]\u001b[A"
     ]
    },
    {
     "name": "stdout",
     "output_type": "stream",
     "text": [
      "Number of real images: 6252\n"
     ]
    },
    {
     "name": "stderr",
     "output_type": "stream",
     "text": [
      "\n",
      "\n",
      "  0%|          | 0/15 [00:00<?, ?it/s]\u001b[A\u001b[A"
     ]
    },
    {
     "name": "stdout",
     "output_type": "stream",
     "text": [
      "Number of synthetic images: 500\n"
     ]
    },
    {
     "name": "stderr",
     "output_type": "stream",
     "text": [
      " 56%|█████▌    | 56001/100001 [2:00:57<79:42:51,  6.52s/it]"
     ]
    },
    {
     "name": "stdout",
     "output_type": "stream",
     "text": [
      "Current fid score: 1.1723560449956096\n",
      "Fid scores: [4.781169086965528, 2.5563023530045648, 2.463046801314256, 2.4992711961120584, 2.218550049566371, 2.964950268119857, 3.4702528654377076, 2.613245115961785, 2.34790911689727, 2.6919041220970037, 2.3144257756644073, 2.3240966003506536, 1.993653403354564, 2.697158487724515, 1.7994096039010472, 2.91434783406185, 2.7811489268397516, 2.2334427836959794, 2.2575362052527765, 2.130950188976346, 2.15637473746202, 2.4389161668575845, 2.2519582703541623, 2.1827718797205335, 2.3576301559437454, 2.6942066386249337, 2.6747271169665723, 2.8508206571304022, 2.837364124793419, 2.920850907282844, 2.6905573257954796, 1.3344332586511385, 2.1663599865511003, 0.855827226287527, 0.7591339506391392, 1.0899071055671108, 1.556975725398381, 1.6322229933262378, 1.4239017743813775, 1.5249018576080395, 1.2095302975349256, 0.8666642624319927, 1.061769574879687, 1.0549228395687074, 0.8332865353009247, 1.4093295915717334, 0.8253746464537564, 1.0501828097794572, 0.753537841488491, 0.9101388104903059, 0.8306977745111297, 1.0361210015169284, 0.8622839615512738, 1.0211583963511188, 1.0494697313231427, 0.7210932457566237, 1.1723560449956096]\n"
     ]
    },
    {
     "name": "stderr",
     "output_type": "stream",
     "text": [
      "  0%|          | 0/195 [00:16<?, ?it/s]1:18:18,  9.35it/s] \n",
      "  0%|          | 0/15 [00:06<?, ?it/s]\n",
      " 56%|█████▌    | 56103/100001 [2:01:08<1:17:55,  9.39it/s]"
     ]
    },
    {
     "name": "stdout",
     "output_type": "stream",
     "text": [
      "GAN: loss d: 2.63984    loss g: -2.50012\n"
     ]
    },
    {
     "name": "stderr",
     "output_type": "stream",
     "text": [
      " 56%|█████▌    | 56203/100001 [2:01:18<1:17:02,  9.47it/s]"
     ]
    },
    {
     "name": "stdout",
     "output_type": "stream",
     "text": [
      "GAN: loss d: 3.65073    loss g: -2.06274\n"
     ]
    },
    {
     "name": "stderr",
     "output_type": "stream",
     "text": [
      " 56%|█████▋    | 56303/100001 [2:01:29<1:16:11,  9.56it/s]"
     ]
    },
    {
     "name": "stdout",
     "output_type": "stream",
     "text": [
      "GAN: loss d: 1.89532    loss g: -2.21688\n"
     ]
    },
    {
     "name": "stderr",
     "output_type": "stream",
     "text": [
      " 56%|█████▋    | 56401/100001 [2:01:39<1:18:22,  9.27it/s]"
     ]
    },
    {
     "name": "stdout",
     "output_type": "stream",
     "text": [
      "GAN: loss d: 4.48385    loss g: -2.04427\n"
     ]
    },
    {
     "name": "stderr",
     "output_type": "stream",
     "text": [
      " 57%|█████▋    | 56501/100001 [2:01:50<1:20:07,  9.05it/s]"
     ]
    },
    {
     "name": "stdout",
     "output_type": "stream",
     "text": [
      "GAN: loss d: 3.62857    loss g: -3.20289\n"
     ]
    },
    {
     "name": "stderr",
     "output_type": "stream",
     "text": [
      " 57%|█████▋    | 56603/100001 [2:02:01<1:15:45,  9.55it/s]"
     ]
    },
    {
     "name": "stdout",
     "output_type": "stream",
     "text": [
      "GAN: loss d: 3.98896    loss g: -2.61879\n"
     ]
    },
    {
     "name": "stderr",
     "output_type": "stream",
     "text": [
      " 57%|█████▋    | 56703/100001 [2:02:11<1:15:13,  9.59it/s]"
     ]
    },
    {
     "name": "stdout",
     "output_type": "stream",
     "text": [
      "GAN: loss d: 2.06864    loss g: -1.78924\n"
     ]
    },
    {
     "name": "stderr",
     "output_type": "stream",
     "text": [
      " 57%|█████▋    | 56803/100001 [2:02:22<1:15:52,  9.49it/s]"
     ]
    },
    {
     "name": "stdout",
     "output_type": "stream",
     "text": [
      "GAN: loss d: 4.23007    loss g: -2.17647\n"
     ]
    },
    {
     "name": "stderr",
     "output_type": "stream",
     "text": [
      " 57%|█████▋    | 56903/100001 [2:02:32<1:14:40,  9.62it/s]"
     ]
    },
    {
     "name": "stdout",
     "output_type": "stream",
     "text": [
      "GAN: loss d: 3.97565    loss g: -2.54206\n"
     ]
    },
    {
     "name": "stderr",
     "output_type": "stream",
     "text": [
      " 57%|█████▋    | 57000/100001 [2:02:43<1:14:38,  9.60it/s]"
     ]
    },
    {
     "name": "stdout",
     "output_type": "stream",
     "text": [
      "GAN: loss d: 2.90820    loss g: -1.71728\n",
      "saving current model\n"
     ]
    },
    {
     "name": "stderr",
     "output_type": "stream",
     "text": [
      "\n",
      "  0%|          | 0/195 [00:00<?, ?it/s]\u001b[A"
     ]
    },
    {
     "name": "stdout",
     "output_type": "stream",
     "text": [
      "Number of real images: 6252\n"
     ]
    },
    {
     "name": "stderr",
     "output_type": "stream",
     "text": [
      "\n",
      "\n",
      "  0%|          | 0/15 [00:00<?, ?it/s]\u001b[A\u001b[A"
     ]
    },
    {
     "name": "stdout",
     "output_type": "stream",
     "text": [
      "Number of synthetic images: 500\n"
     ]
    },
    {
     "name": "stderr",
     "output_type": "stream",
     "text": [
      " 57%|█████▋    | 57001/100001 [2:03:04<77:53:33,  6.52s/it]"
     ]
    },
    {
     "name": "stdout",
     "output_type": "stream",
     "text": [
      "Current fid score: 1.6164965744993367\n",
      "Fid scores: [4.781169086965528, 2.5563023530045648, 2.463046801314256, 2.4992711961120584, 2.218550049566371, 2.964950268119857, 3.4702528654377076, 2.613245115961785, 2.34790911689727, 2.6919041220970037, 2.3144257756644073, 2.3240966003506536, 1.993653403354564, 2.697158487724515, 1.7994096039010472, 2.91434783406185, 2.7811489268397516, 2.2334427836959794, 2.2575362052527765, 2.130950188976346, 2.15637473746202, 2.4389161668575845, 2.2519582703541623, 2.1827718797205335, 2.3576301559437454, 2.6942066386249337, 2.6747271169665723, 2.8508206571304022, 2.837364124793419, 2.920850907282844, 2.6905573257954796, 1.3344332586511385, 2.1663599865511003, 0.855827226287527, 0.7591339506391392, 1.0899071055671108, 1.556975725398381, 1.6322229933262378, 1.4239017743813775, 1.5249018576080395, 1.2095302975349256, 0.8666642624319927, 1.061769574879687, 1.0549228395687074, 0.8332865353009247, 1.4093295915717334, 0.8253746464537564, 1.0501828097794572, 0.753537841488491, 0.9101388104903059, 0.8306977745111297, 1.0361210015169284, 0.8622839615512738, 1.0211583963511188, 1.0494697313231427, 0.7210932457566237, 1.1723560449956096, 1.6164965744993367]\n"
     ]
    },
    {
     "name": "stderr",
     "output_type": "stream",
     "text": [
      "  0%|          | 0/195 [00:14<?, ?it/s]1:15:42,  9.46it/s] \n",
      "  0%|          | 0/15 [00:05<?, ?it/s]\n",
      " 57%|█████▋    | 57101/100001 [2:03:15<1:19:21,  9.01it/s]"
     ]
    },
    {
     "name": "stdout",
     "output_type": "stream",
     "text": [
      "GAN: loss d: 3.83227    loss g: -2.15232\n"
     ]
    },
    {
     "name": "stderr",
     "output_type": "stream",
     "text": [
      " 57%|█████▋    | 57201/100001 [2:03:25<1:18:55,  9.04it/s]"
     ]
    },
    {
     "name": "stdout",
     "output_type": "stream",
     "text": [
      "GAN: loss d: 2.40197    loss g: -2.08079\n"
     ]
    },
    {
     "name": "stderr",
     "output_type": "stream",
     "text": [
      " 57%|█████▋    | 57303/100001 [2:03:36<1:14:41,  9.53it/s]"
     ]
    },
    {
     "name": "stdout",
     "output_type": "stream",
     "text": [
      "GAN: loss d: 2.97292    loss g: -2.10944\n"
     ]
    },
    {
     "name": "stderr",
     "output_type": "stream",
     "text": [
      " 57%|█████▋    | 57403/100001 [2:03:47<1:13:19,  9.68it/s]"
     ]
    },
    {
     "name": "stdout",
     "output_type": "stream",
     "text": [
      "GAN: loss d: 2.58207    loss g: -2.77816\n"
     ]
    },
    {
     "name": "stderr",
     "output_type": "stream",
     "text": [
      " 58%|█████▊    | 57501/100001 [2:03:57<1:17:47,  9.11it/s]"
     ]
    },
    {
     "name": "stdout",
     "output_type": "stream",
     "text": [
      "GAN: loss d: 2.79139    loss g: -2.42201\n"
     ]
    },
    {
     "name": "stderr",
     "output_type": "stream",
     "text": [
      " 58%|█████▊    | 57603/100001 [2:04:08<1:13:27,  9.62it/s]"
     ]
    },
    {
     "name": "stdout",
     "output_type": "stream",
     "text": [
      "GAN: loss d: 2.38559    loss g: -2.12936\n"
     ]
    },
    {
     "name": "stderr",
     "output_type": "stream",
     "text": [
      " 58%|█████▊    | 57701/100001 [2:04:18<1:17:24,  9.11it/s]"
     ]
    },
    {
     "name": "stdout",
     "output_type": "stream",
     "text": [
      "GAN: loss d: 3.93656    loss g: -1.95988\n"
     ]
    },
    {
     "name": "stderr",
     "output_type": "stream",
     "text": [
      " 58%|█████▊    | 57803/100001 [2:04:29<1:12:51,  9.65it/s]"
     ]
    },
    {
     "name": "stdout",
     "output_type": "stream",
     "text": [
      "GAN: loss d: 3.66982    loss g: -2.24154\n"
     ]
    },
    {
     "name": "stderr",
     "output_type": "stream",
     "text": [
      " 58%|█████▊    | 57903/100001 [2:04:40<1:13:21,  9.56it/s]"
     ]
    },
    {
     "name": "stdout",
     "output_type": "stream",
     "text": [
      "GAN: loss d: 3.19696    loss g: -2.24921\n"
     ]
    },
    {
     "name": "stderr",
     "output_type": "stream",
     "text": [
      " 58%|█████▊    | 58000/100001 [2:04:50<1:13:14,  9.56it/s]"
     ]
    },
    {
     "name": "stdout",
     "output_type": "stream",
     "text": [
      "GAN: loss d: 3.22053    loss g: -2.18169\n",
      "saving current model\n"
     ]
    },
    {
     "name": "stderr",
     "output_type": "stream",
     "text": [
      "\n",
      "  0%|          | 0/195 [00:00<?, ?it/s]\u001b[A"
     ]
    },
    {
     "name": "stdout",
     "output_type": "stream",
     "text": [
      "Number of real images: 6252\n"
     ]
    },
    {
     "name": "stderr",
     "output_type": "stream",
     "text": [
      "\n",
      "\n",
      "  0%|          | 0/15 [00:00<?, ?it/s]\u001b[A\u001b[A"
     ]
    },
    {
     "name": "stdout",
     "output_type": "stream",
     "text": [
      "Number of synthetic images: 500\n"
     ]
    },
    {
     "name": "stderr",
     "output_type": "stream",
     "text": [
      " 58%|█████▊    | 58001/100001 [2:05:11<76:04:18,  6.52s/it]"
     ]
    },
    {
     "name": "stdout",
     "output_type": "stream",
     "text": [
      "Current fid score: 1.768061074180352\n",
      "Fid scores: [4.781169086965528, 2.5563023530045648, 2.463046801314256, 2.4992711961120584, 2.218550049566371, 2.964950268119857, 3.4702528654377076, 2.613245115961785, 2.34790911689727, 2.6919041220970037, 2.3144257756644073, 2.3240966003506536, 1.993653403354564, 2.697158487724515, 1.7994096039010472, 2.91434783406185, 2.7811489268397516, 2.2334427836959794, 2.2575362052527765, 2.130950188976346, 2.15637473746202, 2.4389161668575845, 2.2519582703541623, 2.1827718797205335, 2.3576301559437454, 2.6942066386249337, 2.6747271169665723, 2.8508206571304022, 2.837364124793419, 2.920850907282844, 2.6905573257954796, 1.3344332586511385, 2.1663599865511003, 0.855827226287527, 0.7591339506391392, 1.0899071055671108, 1.556975725398381, 1.6322229933262378, 1.4239017743813775, 1.5249018576080395, 1.2095302975349256, 0.8666642624319927, 1.061769574879687, 1.0549228395687074, 0.8332865353009247, 1.4093295915717334, 0.8253746464537564, 1.0501828097794572, 0.753537841488491, 0.9101388104903059, 0.8306977745111297, 1.0361210015169284, 0.8622839615512738, 1.0211583963511188, 1.0494697313231427, 0.7210932457566237, 1.1723560449956096, 1.6164965744993367, 1.768061074180352]\n"
     ]
    },
    {
     "name": "stderr",
     "output_type": "stream",
     "text": [
      "  0%|          | 0/195 [00:19<?, ?it/s]1:14:57,  9.32it/s] \n",
      "  0%|          | 0/15 [00:09<?, ?it/s]\n",
      " 58%|█████▊    | 58103/100001 [2:05:22<1:12:56,  9.57it/s]"
     ]
    },
    {
     "name": "stdout",
     "output_type": "stream",
     "text": [
      "GAN: loss d: 2.47403    loss g: -2.05265\n"
     ]
    },
    {
     "name": "stderr",
     "output_type": "stream",
     "text": [
      " 58%|█████▊    | 58203/100001 [2:05:33<1:12:24,  9.62it/s]"
     ]
    },
    {
     "name": "stdout",
     "output_type": "stream",
     "text": [
      "GAN: loss d: 2.74844    loss g: -1.55790\n"
     ]
    },
    {
     "name": "stderr",
     "output_type": "stream",
     "text": [
      " 58%|█████▊    | 58301/100001 [2:05:43<1:15:07,  9.25it/s]"
     ]
    },
    {
     "name": "stdout",
     "output_type": "stream",
     "text": [
      "GAN: loss d: 2.91053    loss g: -2.31608\n"
     ]
    },
    {
     "name": "stderr",
     "output_type": "stream",
     "text": [
      " 58%|█████▊    | 58403/100001 [2:05:54<1:12:53,  9.51it/s]"
     ]
    },
    {
     "name": "stdout",
     "output_type": "stream",
     "text": [
      "GAN: loss d: 2.82322    loss g: -2.21556\n"
     ]
    },
    {
     "name": "stderr",
     "output_type": "stream",
     "text": [
      " 59%|█████▊    | 58503/100001 [2:06:04<1:12:45,  9.51it/s]"
     ]
    },
    {
     "name": "stdout",
     "output_type": "stream",
     "text": [
      "GAN: loss d: 3.67058    loss g: -2.09691\n"
     ]
    },
    {
     "name": "stderr",
     "output_type": "stream",
     "text": [
      " 59%|█████▊    | 58601/100001 [2:06:15<1:15:05,  9.19it/s]"
     ]
    },
    {
     "name": "stdout",
     "output_type": "stream",
     "text": [
      "GAN: loss d: 2.58714    loss g: -2.10489\n"
     ]
    },
    {
     "name": "stderr",
     "output_type": "stream",
     "text": [
      " 59%|█████▊    | 58701/100001 [2:06:25<1:14:50,  9.20it/s]"
     ]
    },
    {
     "name": "stdout",
     "output_type": "stream",
     "text": [
      "GAN: loss d: 3.35175    loss g: -2.10347\n"
     ]
    },
    {
     "name": "stderr",
     "output_type": "stream",
     "text": [
      " 59%|█████▉    | 58803/100001 [2:06:36<1:11:28,  9.61it/s]"
     ]
    },
    {
     "name": "stdout",
     "output_type": "stream",
     "text": [
      "GAN: loss d: 2.95237    loss g: -1.39291\n"
     ]
    },
    {
     "name": "stderr",
     "output_type": "stream",
     "text": [
      " 59%|█████▉    | 58903/100001 [2:06:47<1:11:40,  9.56it/s]"
     ]
    },
    {
     "name": "stdout",
     "output_type": "stream",
     "text": [
      "GAN: loss d: 2.89036    loss g: -2.00764\n"
     ]
    },
    {
     "name": "stderr",
     "output_type": "stream",
     "text": [
      " 59%|█████▉    | 59000/100001 [2:06:57<1:11:29,  9.56it/s]"
     ]
    },
    {
     "name": "stdout",
     "output_type": "stream",
     "text": [
      "GAN: loss d: 3.83058    loss g: -2.00936\n",
      "saving current model\n"
     ]
    },
    {
     "name": "stderr",
     "output_type": "stream",
     "text": [
      "\n",
      "  0%|          | 0/195 [00:00<?, ?it/s]\u001b[A"
     ]
    },
    {
     "name": "stdout",
     "output_type": "stream",
     "text": [
      "Number of real images: 6252\n"
     ]
    },
    {
     "name": "stderr",
     "output_type": "stream",
     "text": [
      "\n",
      "\n",
      "  0%|          | 0/15 [00:00<?, ?it/s]\u001b[A\u001b[A"
     ]
    },
    {
     "name": "stdout",
     "output_type": "stream",
     "text": [
      "Number of synthetic images: 500\n"
     ]
    },
    {
     "name": "stderr",
     "output_type": "stream",
     "text": [
      " 59%|█████▉    | 59001/100001 [2:07:19<74:55:34,  6.58s/it]"
     ]
    },
    {
     "name": "stdout",
     "output_type": "stream",
     "text": [
      "Current fid score: 2.2152855954706574\n",
      "Fid scores: [4.781169086965528, 2.5563023530045648, 2.463046801314256, 2.4992711961120584, 2.218550049566371, 2.964950268119857, 3.4702528654377076, 2.613245115961785, 2.34790911689727, 2.6919041220970037, 2.3144257756644073, 2.3240966003506536, 1.993653403354564, 2.697158487724515, 1.7994096039010472, 2.91434783406185, 2.7811489268397516, 2.2334427836959794, 2.2575362052527765, 2.130950188976346, 2.15637473746202, 2.4389161668575845, 2.2519582703541623, 2.1827718797205335, 2.3576301559437454, 2.6942066386249337, 2.6747271169665723, 2.8508206571304022, 2.837364124793419, 2.920850907282844, 2.6905573257954796, 1.3344332586511385, 2.1663599865511003, 0.855827226287527, 0.7591339506391392, 1.0899071055671108, 1.556975725398381, 1.6322229933262378, 1.4239017743813775, 1.5249018576080395, 1.2095302975349256, 0.8666642624319927, 1.061769574879687, 1.0549228395687074, 0.8332865353009247, 1.4093295915717334, 0.8253746464537564, 1.0501828097794572, 0.753537841488491, 0.9101388104903059, 0.8306977745111297, 1.0361210015169284, 0.8622839615512738, 1.0211583963511188, 1.0494697313231427, 0.7210932457566237, 1.1723560449956096, 1.6164965744993367, 1.768061074180352, 2.2152855954706574]\n"
     ]
    },
    {
     "name": "stderr",
     "output_type": "stream",
     "text": [
      "  0%|          | 0/195 [00:15<?, ?it/s]1:11:17,  9.58it/s] \n",
      "  0%|          | 0/15 [00:05<?, ?it/s]\n",
      " 59%|█████▉    | 59101/100001 [2:07:29<1:13:24,  9.29it/s]"
     ]
    },
    {
     "name": "stdout",
     "output_type": "stream",
     "text": [
      "GAN: loss d: 3.19512    loss g: -2.14055\n"
     ]
    },
    {
     "name": "stderr",
     "output_type": "stream",
     "text": [
      " 59%|█████▉    | 59201/100001 [2:07:40<1:14:01,  9.19it/s]"
     ]
    },
    {
     "name": "stdout",
     "output_type": "stream",
     "text": [
      "GAN: loss d: 2.86974    loss g: -2.17007\n"
     ]
    },
    {
     "name": "stderr",
     "output_type": "stream",
     "text": [
      " 59%|█████▉    | 59303/100001 [2:07:51<1:10:11,  9.66it/s]"
     ]
    },
    {
     "name": "stdout",
     "output_type": "stream",
     "text": [
      "GAN: loss d: 2.95058    loss g: -2.19671\n"
     ]
    },
    {
     "name": "stderr",
     "output_type": "stream",
     "text": [
      " 59%|█████▉    | 59403/100001 [2:08:01<1:10:31,  9.59it/s]"
     ]
    },
    {
     "name": "stdout",
     "output_type": "stream",
     "text": [
      "GAN: loss d: 3.13513    loss g: -2.48242\n"
     ]
    },
    {
     "name": "stderr",
     "output_type": "stream",
     "text": [
      " 60%|█████▉    | 59503/100001 [2:08:12<1:10:02,  9.64it/s]"
     ]
    },
    {
     "name": "stdout",
     "output_type": "stream",
     "text": [
      "GAN: loss d: 2.99769    loss g: -1.94793\n"
     ]
    },
    {
     "name": "stderr",
     "output_type": "stream",
     "text": [
      " 60%|█████▉    | 59601/100001 [2:08:22<1:14:17,  9.06it/s]"
     ]
    },
    {
     "name": "stdout",
     "output_type": "stream",
     "text": [
      "GAN: loss d: 1.47507    loss g: -1.98813\n"
     ]
    },
    {
     "name": "stderr",
     "output_type": "stream",
     "text": [
      " 60%|█████▉    | 59703/100001 [2:08:33<1:11:01,  9.46it/s]"
     ]
    },
    {
     "name": "stdout",
     "output_type": "stream",
     "text": [
      "GAN: loss d: 2.29283    loss g: -2.74637\n"
     ]
    },
    {
     "name": "stderr",
     "output_type": "stream",
     "text": [
      " 60%|█████▉    | 59803/100001 [2:08:44<1:10:00,  9.57it/s]"
     ]
    },
    {
     "name": "stdout",
     "output_type": "stream",
     "text": [
      "GAN: loss d: 3.71421    loss g: -1.18111\n"
     ]
    },
    {
     "name": "stderr",
     "output_type": "stream",
     "text": [
      " 60%|█████▉    | 59903/100001 [2:08:54<1:09:45,  9.58it/s]"
     ]
    },
    {
     "name": "stdout",
     "output_type": "stream",
     "text": [
      "GAN: loss d: 1.01935    loss g: -2.16442\n"
     ]
    },
    {
     "name": "stderr",
     "output_type": "stream",
     "text": [
      " 60%|█████▉    | 60000/100001 [2:09:04<1:12:05,  9.25it/s]"
     ]
    },
    {
     "name": "stdout",
     "output_type": "stream",
     "text": [
      "GAN: loss d: 2.53078    loss g: -2.44429\n",
      "saving current model\n"
     ]
    },
    {
     "name": "stderr",
     "output_type": "stream",
     "text": [
      "\n",
      "  0%|          | 0/195 [00:00<?, ?it/s]\u001b[A"
     ]
    },
    {
     "name": "stdout",
     "output_type": "stream",
     "text": [
      "Number of real images: 6252\n"
     ]
    },
    {
     "name": "stderr",
     "output_type": "stream",
     "text": [
      "\n",
      "\n",
      "  0%|          | 0/15 [00:00<?, ?it/s]\u001b[A\u001b[A"
     ]
    },
    {
     "name": "stdout",
     "output_type": "stream",
     "text": [
      "Number of synthetic images: 500\n"
     ]
    },
    {
     "name": "stderr",
     "output_type": "stream",
     "text": [
      " 60%|██████    | 60002/100001 [2:09:26<51:41:08,  4.65s/it]"
     ]
    },
    {
     "name": "stdout",
     "output_type": "stream",
     "text": [
      "Current fid score: 2.1226241732258586\n",
      "Fid scores: [4.781169086965528, 2.5563023530045648, 2.463046801314256, 2.4992711961120584, 2.218550049566371, 2.964950268119857, 3.4702528654377076, 2.613245115961785, 2.34790911689727, 2.6919041220970037, 2.3144257756644073, 2.3240966003506536, 1.993653403354564, 2.697158487724515, 1.7994096039010472, 2.91434783406185, 2.7811489268397516, 2.2334427836959794, 2.2575362052527765, 2.130950188976346, 2.15637473746202, 2.4389161668575845, 2.2519582703541623, 2.1827718797205335, 2.3576301559437454, 2.6942066386249337, 2.6747271169665723, 2.8508206571304022, 2.837364124793419, 2.920850907282844, 2.6905573257954796, 1.3344332586511385, 2.1663599865511003, 0.855827226287527, 0.7591339506391392, 1.0899071055671108, 1.556975725398381, 1.6322229933262378, 1.4239017743813775, 1.5249018576080395, 1.2095302975349256, 0.8666642624319927, 1.061769574879687, 1.0549228395687074, 0.8332865353009247, 1.4093295915717334, 0.8253746464537564, 1.0501828097794572, 0.753537841488491, 0.9101388104903059, 0.8306977745111297, 1.0361210015169284, 0.8622839615512738, 1.0211583963511188, 1.0494697313231427, 0.7210932457566237, 1.1723560449956096, 1.6164965744993367, 1.768061074180352, 2.2152855954706574, 2.1226241732258586]\n"
     ]
    },
    {
     "name": "stderr",
     "output_type": "stream",
     "text": [
      "  0%|          | 0/195 [00:19<?, ?it/s]1:10:08,  9.48it/s] \n",
      "  0%|          | 0/15 [00:10<?, ?it/s]\n",
      " 60%|██████    | 60101/100001 [2:09:37<1:11:51,  9.25it/s]"
     ]
    },
    {
     "name": "stdout",
     "output_type": "stream",
     "text": [
      "GAN: loss d: 1.13264    loss g: -2.72548\n"
     ]
    },
    {
     "name": "stderr",
     "output_type": "stream",
     "text": [
      " 60%|██████    | 60203/100001 [2:09:48<1:09:11,  9.59it/s]"
     ]
    },
    {
     "name": "stdout",
     "output_type": "stream",
     "text": [
      "GAN: loss d: 2.38701    loss g: -2.00876\n"
     ]
    },
    {
     "name": "stderr",
     "output_type": "stream",
     "text": [
      " 60%|██████    | 60301/100001 [2:09:58<1:12:54,  9.08it/s]"
     ]
    },
    {
     "name": "stdout",
     "output_type": "stream",
     "text": [
      "GAN: loss d: 2.59144    loss g: -2.03973\n"
     ]
    },
    {
     "name": "stderr",
     "output_type": "stream",
     "text": [
      " 60%|██████    | 60403/100001 [2:10:09<1:10:04,  9.42it/s]"
     ]
    },
    {
     "name": "stdout",
     "output_type": "stream",
     "text": [
      "GAN: loss d: 2.75943    loss g: -1.87606\n"
     ]
    },
    {
     "name": "stderr",
     "output_type": "stream",
     "text": [
      " 61%|██████    | 60503/100001 [2:10:19<1:09:31,  9.47it/s]"
     ]
    },
    {
     "name": "stdout",
     "output_type": "stream",
     "text": [
      "GAN: loss d: 2.29613    loss g: -2.12290\n"
     ]
    },
    {
     "name": "stderr",
     "output_type": "stream",
     "text": [
      " 61%|██████    | 60601/100001 [2:10:30<1:12:09,  9.10it/s]"
     ]
    },
    {
     "name": "stdout",
     "output_type": "stream",
     "text": [
      "GAN: loss d: 3.48502    loss g: -2.35644\n"
     ]
    },
    {
     "name": "stderr",
     "output_type": "stream",
     "text": [
      " 61%|██████    | 60703/100001 [2:10:41<1:08:16,  9.59it/s]"
     ]
    },
    {
     "name": "stdout",
     "output_type": "stream",
     "text": [
      "GAN: loss d: 3.62856    loss g: -2.61770\n"
     ]
    },
    {
     "name": "stderr",
     "output_type": "stream",
     "text": [
      " 61%|██████    | 60803/100001 [2:10:51<1:07:24,  9.69it/s]"
     ]
    },
    {
     "name": "stdout",
     "output_type": "stream",
     "text": [
      "GAN: loss d: 1.59158    loss g: -1.94860\n"
     ]
    },
    {
     "name": "stderr",
     "output_type": "stream",
     "text": [
      " 61%|██████    | 60901/100001 [2:11:02<1:10:47,  9.20it/s]"
     ]
    },
    {
     "name": "stdout",
     "output_type": "stream",
     "text": [
      "GAN: loss d: 4.15371    loss g: -1.80168\n"
     ]
    },
    {
     "name": "stderr",
     "output_type": "stream",
     "text": [
      " 61%|██████    | 61000/100001 [2:11:12<1:08:43,  9.46it/s]"
     ]
    },
    {
     "name": "stdout",
     "output_type": "stream",
     "text": [
      "GAN: loss d: 2.55475    loss g: -2.16182\n",
      "saving current model\n"
     ]
    },
    {
     "name": "stderr",
     "output_type": "stream",
     "text": [
      "\n",
      "  0%|          | 0/195 [00:00<?, ?it/s]\u001b[A"
     ]
    },
    {
     "name": "stdout",
     "output_type": "stream",
     "text": [
      "Number of real images: 6252\n"
     ]
    },
    {
     "name": "stderr",
     "output_type": "stream",
     "text": [
      "\n",
      "\n",
      "  0%|          | 0/15 [00:00<?, ?it/s]\u001b[A\u001b[A"
     ]
    },
    {
     "name": "stdout",
     "output_type": "stream",
     "text": [
      "Number of synthetic images: 500\n"
     ]
    },
    {
     "name": "stderr",
     "output_type": "stream",
     "text": [
      "  0%|          | 0/195 [00:10<?, ?it/s]\n",
      "  0%|          | 0/15 [00:00<?, ?it/s]"
     ]
    },
    {
     "name": "stdout",
     "output_type": "stream",
     "text": [
      "Current fid score: 0.6317119417673425\n",
      "Fid scores: [4.781169086965528, 2.5563023530045648, 2.463046801314256, 2.4992711961120584, 2.218550049566371, 2.964950268119857, 3.4702528654377076, 2.613245115961785, 2.34790911689727, 2.6919041220970037, 2.3144257756644073, 2.3240966003506536, 1.993653403354564, 2.697158487724515, 1.7994096039010472, 2.91434783406185, 2.7811489268397516, 2.2334427836959794, 2.2575362052527765, 2.130950188976346, 2.15637473746202, 2.4389161668575845, 2.2519582703541623, 2.1827718797205335, 2.3576301559437454, 2.6942066386249337, 2.6747271169665723, 2.8508206571304022, 2.837364124793419, 2.920850907282844, 2.6905573257954796, 1.3344332586511385, 2.1663599865511003, 0.855827226287527, 0.7591339506391392, 1.0899071055671108, 1.556975725398381, 1.6322229933262378, 1.4239017743813775, 1.5249018576080395, 1.2095302975349256, 0.8666642624319927, 1.061769574879687, 1.0549228395687074, 0.8332865353009247, 1.4093295915717334, 0.8253746464537564, 1.0501828097794572, 0.753537841488491, 0.9101388104903059, 0.8306977745111297, 1.0361210015169284, 0.8622839615512738, 1.0211583963511188, 1.0494697313231427, 0.7210932457566237, 1.1723560449956096, 1.6164965744993367, 1.768061074180352, 2.2152855954706574, 2.1226241732258586, 0.6317119417673425]\n",
      "New min fid score: 0.631711941767\n",
      "Saving best model\n"
     ]
    },
    {
     "name": "stderr",
     "output_type": "stream",
     "text": [
      "\n",
      " 61%|██████    | 61103/100001 [2:11:47<1:07:03,  9.67it/s] "
     ]
    },
    {
     "name": "stdout",
     "output_type": "stream",
     "text": [
      "GAN: loss d: 4.24876    loss g: -1.85368\n"
     ]
    },
    {
     "name": "stderr",
     "output_type": "stream",
     "text": [
      " 61%|██████    | 61203/100001 [2:11:58<1:07:01,  9.65it/s]"
     ]
    },
    {
     "name": "stdout",
     "output_type": "stream",
     "text": [
      "GAN: loss d: 2.55378    loss g: -2.27662\n"
     ]
    },
    {
     "name": "stderr",
     "output_type": "stream",
     "text": [
      " 61%|██████▏   | 61301/100001 [2:12:09<1:11:45,  8.99it/s]"
     ]
    },
    {
     "name": "stdout",
     "output_type": "stream",
     "text": [
      "GAN: loss d: -0.15248    loss g: -2.01885\n"
     ]
    },
    {
     "name": "stderr",
     "output_type": "stream",
     "text": [
      " 61%|██████▏   | 61403/100001 [2:12:19<1:06:11,  9.72it/s]"
     ]
    },
    {
     "name": "stdout",
     "output_type": "stream",
     "text": [
      "GAN: loss d: 4.01728    loss g: -2.57027\n"
     ]
    },
    {
     "name": "stderr",
     "output_type": "stream",
     "text": [
      " 62%|██████▏   | 61501/100001 [2:12:30<1:09:09,  9.28it/s]"
     ]
    },
    {
     "name": "stdout",
     "output_type": "stream",
     "text": [
      "GAN: loss d: 3.78939    loss g: -1.49260\n"
     ]
    },
    {
     "name": "stderr",
     "output_type": "stream",
     "text": [
      " 62%|██████▏   | 61603/100001 [2:12:40<1:06:30,  9.62it/s]"
     ]
    },
    {
     "name": "stdout",
     "output_type": "stream",
     "text": [
      "GAN: loss d: 0.00394    loss g: -2.28569\n"
     ]
    },
    {
     "name": "stderr",
     "output_type": "stream",
     "text": [
      " 62%|██████▏   | 61703/100001 [2:12:51<1:06:38,  9.58it/s]"
     ]
    },
    {
     "name": "stdout",
     "output_type": "stream",
     "text": [
      "GAN: loss d: 3.46870    loss g: -1.86964\n"
     ]
    },
    {
     "name": "stderr",
     "output_type": "stream",
     "text": [
      " 62%|██████▏   | 61801/100001 [2:13:01<1:10:14,  9.06it/s]"
     ]
    },
    {
     "name": "stdout",
     "output_type": "stream",
     "text": [
      "GAN: loss d: 1.52463    loss g: -2.88115\n"
     ]
    },
    {
     "name": "stderr",
     "output_type": "stream",
     "text": [
      " 62%|██████▏   | 61903/100001 [2:13:12<1:06:18,  9.58it/s]"
     ]
    },
    {
     "name": "stdout",
     "output_type": "stream",
     "text": [
      "GAN: loss d: 2.97304    loss g: -2.12205\n"
     ]
    },
    {
     "name": "stderr",
     "output_type": "stream",
     "text": [
      " 62%|██████▏   | 62000/100001 [2:13:22<1:07:02,  9.45it/s]"
     ]
    },
    {
     "name": "stdout",
     "output_type": "stream",
     "text": [
      "GAN: loss d: 1.36782    loss g: -2.18142\n",
      "saving current model\n"
     ]
    },
    {
     "name": "stderr",
     "output_type": "stream",
     "text": [
      "\n",
      "  0%|          | 0/195 [00:00<?, ?it/s]\u001b[A"
     ]
    },
    {
     "name": "stdout",
     "output_type": "stream",
     "text": [
      "Number of real images: 6252\n"
     ]
    },
    {
     "name": "stderr",
     "output_type": "stream",
     "text": [
      "\n",
      "\n",
      "  0%|          | 0/15 [00:00<?, ?it/s]\u001b[A\u001b[A"
     ]
    },
    {
     "name": "stdout",
     "output_type": "stream",
     "text": [
      "Number of synthetic images: 500\n"
     ]
    },
    {
     "name": "stderr",
     "output_type": "stream",
     "text": [
      " 62%|██████▏   | 62001/100001 [2:13:44<68:37:49,  6.50s/it]"
     ]
    },
    {
     "name": "stdout",
     "output_type": "stream",
     "text": [
      "Current fid score: 1.2031446041186733\n",
      "Fid scores: [4.781169086965528, 2.5563023530045648, 2.463046801314256, 2.4992711961120584, 2.218550049566371, 2.964950268119857, 3.4702528654377076, 2.613245115961785, 2.34790911689727, 2.6919041220970037, 2.3144257756644073, 2.3240966003506536, 1.993653403354564, 2.697158487724515, 1.7994096039010472, 2.91434783406185, 2.7811489268397516, 2.2334427836959794, 2.2575362052527765, 2.130950188976346, 2.15637473746202, 2.4389161668575845, 2.2519582703541623, 2.1827718797205335, 2.3576301559437454, 2.6942066386249337, 2.6747271169665723, 2.8508206571304022, 2.837364124793419, 2.920850907282844, 2.6905573257954796, 1.3344332586511385, 2.1663599865511003, 0.855827226287527, 0.7591339506391392, 1.0899071055671108, 1.556975725398381, 1.6322229933262378, 1.4239017743813775, 1.5249018576080395, 1.2095302975349256, 0.8666642624319927, 1.061769574879687, 1.0549228395687074, 0.8332865353009247, 1.4093295915717334, 0.8253746464537564, 1.0501828097794572, 0.753537841488491, 0.9101388104903059, 0.8306977745111297, 1.0361210015169284, 0.8622839615512738, 1.0211583963511188, 1.0494697313231427, 0.7210932457566237, 1.1723560449956096, 1.6164965744993367, 1.768061074180352, 2.2152855954706574, 2.1226241732258586, 0.6317119417673425, 1.2031446041186733]\n"
     ]
    },
    {
     "name": "stderr",
     "output_type": "stream",
     "text": [
      "  0%|          | 0/195 [00:11<?, ?it/s]21:16:55,  2.02s/it]\n",
      "  0%|          | 0/15 [00:01<?, ?it/s]\n",
      " 62%|██████▏   | 62103/100001 [2:13:55<1:05:19,  9.67it/s] "
     ]
    },
    {
     "name": "stdout",
     "output_type": "stream",
     "text": [
      "GAN: loss d: 2.05124    loss g: -2.44435\n"
     ]
    },
    {
     "name": "stderr",
     "output_type": "stream",
     "text": [
      " 62%|██████▏   | 62201/100001 [2:14:05<1:09:16,  9.09it/s]"
     ]
    },
    {
     "name": "stdout",
     "output_type": "stream",
     "text": [
      "GAN: loss d: 4.31675    loss g: -2.40868\n"
     ]
    },
    {
     "name": "stderr",
     "output_type": "stream",
     "text": [
      " 62%|██████▏   | 62301/100001 [2:14:16<1:09:27,  9.05it/s]"
     ]
    },
    {
     "name": "stdout",
     "output_type": "stream",
     "text": [
      "GAN: loss d: 2.66848    loss g: -2.64175\n"
     ]
    },
    {
     "name": "stderr",
     "output_type": "stream",
     "text": [
      " 62%|██████▏   | 62401/100001 [2:14:26<1:09:26,  9.02it/s]"
     ]
    },
    {
     "name": "stdout",
     "output_type": "stream",
     "text": [
      "GAN: loss d: 1.62719    loss g: -1.94103\n"
     ]
    },
    {
     "name": "stderr",
     "output_type": "stream",
     "text": [
      " 63%|██████▎   | 62503/100001 [2:14:37<1:05:50,  9.49it/s]"
     ]
    },
    {
     "name": "stdout",
     "output_type": "stream",
     "text": [
      "GAN: loss d: 3.36049    loss g: -1.82620\n"
     ]
    },
    {
     "name": "stderr",
     "output_type": "stream",
     "text": [
      " 63%|██████▎   | 62603/100001 [2:14:48<1:04:42,  9.63it/s]"
     ]
    },
    {
     "name": "stdout",
     "output_type": "stream",
     "text": [
      "GAN: loss d: 1.55988    loss g: -1.54851\n"
     ]
    },
    {
     "name": "stderr",
     "output_type": "stream",
     "text": [
      " 63%|██████▎   | 62703/100001 [2:14:58<1:05:45,  9.45it/s]"
     ]
    },
    {
     "name": "stdout",
     "output_type": "stream",
     "text": [
      "GAN: loss d: 4.67697    loss g: -1.85151\n"
     ]
    },
    {
     "name": "stderr",
     "output_type": "stream",
     "text": [
      " 63%|██████▎   | 62803/100001 [2:15:09<1:04:30,  9.61it/s]"
     ]
    },
    {
     "name": "stdout",
     "output_type": "stream",
     "text": [
      "GAN: loss d: 0.74665    loss g: -2.05575\n"
     ]
    },
    {
     "name": "stderr",
     "output_type": "stream",
     "text": [
      " 63%|██████▎   | 62903/100001 [2:15:19<1:04:45,  9.55it/s]"
     ]
    },
    {
     "name": "stdout",
     "output_type": "stream",
     "text": [
      "GAN: loss d: 2.34644    loss g: -2.53100\n"
     ]
    },
    {
     "name": "stderr",
     "output_type": "stream",
     "text": [
      " 63%|██████▎   | 63000/100001 [2:15:30<1:04:01,  9.63it/s]"
     ]
    },
    {
     "name": "stdout",
     "output_type": "stream",
     "text": [
      "GAN: loss d: 2.47392    loss g: -1.45092\n",
      "saving current model\n"
     ]
    },
    {
     "name": "stderr",
     "output_type": "stream",
     "text": [
      "\n",
      "  0%|          | 0/195 [00:00<?, ?it/s]\u001b[A"
     ]
    },
    {
     "name": "stdout",
     "output_type": "stream",
     "text": [
      "Number of real images: 6252\n"
     ]
    },
    {
     "name": "stderr",
     "output_type": "stream",
     "text": [
      "\n",
      "\n",
      "  0%|          | 0/15 [00:00<?, ?it/s]\u001b[A\u001b[A"
     ]
    },
    {
     "name": "stdout",
     "output_type": "stream",
     "text": [
      "Number of synthetic images: 500\n"
     ]
    },
    {
     "name": "stderr",
     "output_type": "stream",
     "text": [
      " 63%|██████▎   | 63001/100001 [2:15:51<66:59:35,  6.52s/it]"
     ]
    },
    {
     "name": "stdout",
     "output_type": "stream",
     "text": [
      "Current fid score: 1.037733761688667\n",
      "Fid scores: [4.781169086965528, 2.5563023530045648, 2.463046801314256, 2.4992711961120584, 2.218550049566371, 2.964950268119857, 3.4702528654377076, 2.613245115961785, 2.34790911689727, 2.6919041220970037, 2.3144257756644073, 2.3240966003506536, 1.993653403354564, 2.697158487724515, 1.7994096039010472, 2.91434783406185, 2.7811489268397516, 2.2334427836959794, 2.2575362052527765, 2.130950188976346, 2.15637473746202, 2.4389161668575845, 2.2519582703541623, 2.1827718797205335, 2.3576301559437454, 2.6942066386249337, 2.6747271169665723, 2.8508206571304022, 2.837364124793419, 2.920850907282844, 2.6905573257954796, 1.3344332586511385, 2.1663599865511003, 0.855827226287527, 0.7591339506391392, 1.0899071055671108, 1.556975725398381, 1.6322229933262378, 1.4239017743813775, 1.5249018576080395, 1.2095302975349256, 0.8666642624319927, 1.061769574879687, 1.0549228395687074, 0.8332865353009247, 1.4093295915717334, 0.8253746464537564, 1.0501828097794572, 0.753537841488491, 0.9101388104903059, 0.8306977745111297, 1.0361210015169284, 0.8622839615512738, 1.0211583963511188, 1.0494697313231427, 0.7210932457566237, 1.1723560449956096, 1.6164965744993367, 1.768061074180352, 2.2152855954706574, 2.1226241732258586, 0.6317119417673425, 1.2031446041186733, 1.037733761688667]\n"
     ]
    },
    {
     "name": "stderr",
     "output_type": "stream",
     "text": [
      "  0%|          | 0/195 [00:16<?, ?it/s]1:05:47,  9.36it/s] \n",
      "  0%|          | 0/15 [00:06<?, ?it/s]\n",
      " 63%|██████▎   | 63101/100001 [2:16:02<1:07:47,  9.07it/s]"
     ]
    },
    {
     "name": "stdout",
     "output_type": "stream",
     "text": [
      "GAN: loss d: 0.99300    loss g: -1.49272\n"
     ]
    },
    {
     "name": "stderr",
     "output_type": "stream",
     "text": [
      " 63%|██████▎   | 63203/100001 [2:16:13<1:04:18,  9.54it/s]"
     ]
    },
    {
     "name": "stdout",
     "output_type": "stream",
     "text": [
      "GAN: loss d: 3.00693    loss g: -2.25623\n"
     ]
    },
    {
     "name": "stderr",
     "output_type": "stream",
     "text": [
      " 63%|██████▎   | 63303/100001 [2:16:23<1:03:16,  9.67it/s]"
     ]
    },
    {
     "name": "stdout",
     "output_type": "stream",
     "text": [
      "GAN: loss d: 1.46271    loss g: -2.43185\n"
     ]
    },
    {
     "name": "stderr",
     "output_type": "stream",
     "text": [
      " 63%|██████▎   | 63403/100001 [2:16:34<1:03:48,  9.56it/s]"
     ]
    },
    {
     "name": "stdout",
     "output_type": "stream",
     "text": [
      "GAN: loss d: 1.76940    loss g: -1.63881\n"
     ]
    },
    {
     "name": "stderr",
     "output_type": "stream",
     "text": [
      " 64%|██████▎   | 63503/100001 [2:16:44<1:03:38,  9.56it/s]"
     ]
    },
    {
     "name": "stdout",
     "output_type": "stream",
     "text": [
      "GAN: loss d: 3.22349    loss g: -2.61157\n"
     ]
    },
    {
     "name": "stderr",
     "output_type": "stream",
     "text": [
      " 64%|██████▎   | 63603/100001 [2:16:55<1:03:10,  9.60it/s]"
     ]
    },
    {
     "name": "stdout",
     "output_type": "stream",
     "text": [
      "GAN: loss d: 1.28711    loss g: -1.95557\n"
     ]
    },
    {
     "name": "stderr",
     "output_type": "stream",
     "text": [
      " 64%|██████▎   | 63703/100001 [2:17:05<1:03:00,  9.60it/s]"
     ]
    },
    {
     "name": "stdout",
     "output_type": "stream",
     "text": [
      "GAN: loss d: 1.19688    loss g: -2.63748\n"
     ]
    },
    {
     "name": "stderr",
     "output_type": "stream",
     "text": [
      " 64%|██████▍   | 63803/100001 [2:17:16<1:03:10,  9.55it/s]"
     ]
    },
    {
     "name": "stdout",
     "output_type": "stream",
     "text": [
      "GAN: loss d: 3.97172    loss g: -2.46852\n"
     ]
    },
    {
     "name": "stderr",
     "output_type": "stream",
     "text": [
      " 64%|██████▍   | 63903/100001 [2:17:26<1:02:29,  9.63it/s]"
     ]
    },
    {
     "name": "stdout",
     "output_type": "stream",
     "text": [
      "GAN: loss d: 2.75366    loss g: -2.06391\n"
     ]
    },
    {
     "name": "stderr",
     "output_type": "stream",
     "text": [
      " 64%|██████▍   | 64000/100001 [2:17:37<1:02:36,  9.58it/s]"
     ]
    },
    {
     "name": "stdout",
     "output_type": "stream",
     "text": [
      "GAN: loss d: 2.71291    loss g: -2.45611\n",
      "saving current model\n"
     ]
    },
    {
     "name": "stderr",
     "output_type": "stream",
     "text": [
      "\n",
      "  0%|          | 0/195 [00:00<?, ?it/s]\u001b[A"
     ]
    },
    {
     "name": "stdout",
     "output_type": "stream",
     "text": [
      "Number of real images: 6252\n"
     ]
    },
    {
     "name": "stderr",
     "output_type": "stream",
     "text": [
      "\n",
      "\n",
      "  0%|          | 0/15 [00:00<?, ?it/s]\u001b[A\u001b[A"
     ]
    },
    {
     "name": "stdout",
     "output_type": "stream",
     "text": [
      "Number of synthetic images: 500\n"
     ]
    },
    {
     "name": "stderr",
     "output_type": "stream",
     "text": [
      " 64%|██████▍   | 64003/100001 [2:17:58<35:30:04,  3.55s/it]"
     ]
    },
    {
     "name": "stdout",
     "output_type": "stream",
     "text": [
      "Current fid score: 1.0837845443159715\n",
      "Fid scores: [4.781169086965528, 2.5563023530045648, 2.463046801314256, 2.4992711961120584, 2.218550049566371, 2.964950268119857, 3.4702528654377076, 2.613245115961785, 2.34790911689727, 2.6919041220970037, 2.3144257756644073, 2.3240966003506536, 1.993653403354564, 2.697158487724515, 1.7994096039010472, 2.91434783406185, 2.7811489268397516, 2.2334427836959794, 2.2575362052527765, 2.130950188976346, 2.15637473746202, 2.4389161668575845, 2.2519582703541623, 2.1827718797205335, 2.3576301559437454, 2.6942066386249337, 2.6747271169665723, 2.8508206571304022, 2.837364124793419, 2.920850907282844, 2.6905573257954796, 1.3344332586511385, 2.1663599865511003, 0.855827226287527, 0.7591339506391392, 1.0899071055671108, 1.556975725398381, 1.6322229933262378, 1.4239017743813775, 1.5249018576080395, 1.2095302975349256, 0.8666642624319927, 1.061769574879687, 1.0549228395687074, 0.8332865353009247, 1.4093295915717334, 0.8253746464537564, 1.0501828097794572, 0.753537841488491, 0.9101388104903059, 0.8306977745111297, 1.0361210015169284, 0.8622839615512738, 1.0211583963511188, 1.0494697313231427, 0.7210932457566237, 1.1723560449956096, 1.6164965744993367, 1.768061074180352, 2.2152855954706574, 2.1226241732258586, 0.6317119417673425, 1.2031446041186733, 1.037733761688667, 1.0837845443159715]\n"
     ]
    },
    {
     "name": "stderr",
     "output_type": "stream",
     "text": [
      "  0%|          | 0/195 [00:11<?, ?it/s]26:57:31,  2.70s/it]\n",
      "  0%|          | 0/15 [00:01<?, ?it/s]\n",
      " 64%|██████▍   | 64103/100001 [2:18:09<1:02:57,  9.50it/s] "
     ]
    },
    {
     "name": "stdout",
     "output_type": "stream",
     "text": [
      "GAN: loss d: 3.76436    loss g: -1.95876\n"
     ]
    },
    {
     "name": "stderr",
     "output_type": "stream",
     "text": [
      " 64%|██████▍   | 64203/100001 [2:18:20<1:01:37,  9.68it/s]"
     ]
    },
    {
     "name": "stdout",
     "output_type": "stream",
     "text": [
      "GAN: loss d: 3.33108    loss g: -1.66988\n"
     ]
    },
    {
     "name": "stderr",
     "output_type": "stream",
     "text": [
      " 64%|██████▍   | 64302/100001 [2:18:30<1:04:04,  9.28it/s]"
     ]
    },
    {
     "name": "stdout",
     "output_type": "stream",
     "text": [
      "GAN: loss d: 1.77725    loss g: -2.99838\n"
     ]
    },
    {
     "name": "stderr",
     "output_type": "stream",
     "text": [
      " 64%|██████▍   | 64401/100001 [2:18:40<1:05:31,  9.06it/s]"
     ]
    },
    {
     "name": "stdout",
     "output_type": "stream",
     "text": [
      "GAN: loss d: 3.64270    loss g: -1.91829\n"
     ]
    },
    {
     "name": "stderr",
     "output_type": "stream",
     "text": [
      " 65%|██████▍   | 64503/100001 [2:18:51<1:01:01,  9.70it/s]"
     ]
    },
    {
     "name": "stdout",
     "output_type": "stream",
     "text": [
      "GAN: loss d: 3.26596    loss g: -1.48758\n"
     ]
    },
    {
     "name": "stderr",
     "output_type": "stream",
     "text": [
      " 65%|██████▍   | 64603/100001 [2:19:02<1:02:43,  9.41it/s]"
     ]
    },
    {
     "name": "stdout",
     "output_type": "stream",
     "text": [
      "GAN: loss d: 2.57325    loss g: -1.98225\n"
     ]
    },
    {
     "name": "stderr",
     "output_type": "stream",
     "text": [
      " 65%|██████▍   | 64701/100001 [2:19:12<1:04:55,  9.06it/s]"
     ]
    },
    {
     "name": "stdout",
     "output_type": "stream",
     "text": [
      "GAN: loss d: 2.46048    loss g: -1.99619\n"
     ]
    },
    {
     "name": "stderr",
     "output_type": "stream",
     "text": [
      " 65%|██████▍   | 64803/100001 [2:19:23<1:00:08,  9.75it/s]"
     ]
    },
    {
     "name": "stdout",
     "output_type": "stream",
     "text": [
      "GAN: loss d: 1.45929    loss g: -2.82645\n"
     ]
    },
    {
     "name": "stderr",
     "output_type": "stream",
     "text": [
      " 65%|██████▍   | 64901/100001 [2:19:33<1:05:30,  8.93it/s]"
     ]
    },
    {
     "name": "stdout",
     "output_type": "stream",
     "text": [
      "GAN: loss d: 1.03219    loss g: -2.34419\n"
     ]
    },
    {
     "name": "stderr",
     "output_type": "stream",
     "text": [
      " 65%|██████▍   | 65000/100001 [2:19:44<1:02:18,  9.36it/s]"
     ]
    },
    {
     "name": "stdout",
     "output_type": "stream",
     "text": [
      "GAN: loss d: 3.45901    loss g: -2.07084\n",
      "saving current model\n"
     ]
    },
    {
     "name": "stderr",
     "output_type": "stream",
     "text": [
      "\n",
      "  0%|          | 0/195 [00:00<?, ?it/s]\u001b[A"
     ]
    },
    {
     "name": "stdout",
     "output_type": "stream",
     "text": [
      "Number of real images: 6252\n"
     ]
    },
    {
     "name": "stderr",
     "output_type": "stream",
     "text": [
      "\n",
      "\n",
      "  0%|          | 0/15 [00:00<?, ?it/s]\u001b[A\u001b[A"
     ]
    },
    {
     "name": "stdout",
     "output_type": "stream",
     "text": [
      "Number of synthetic images: 500\n"
     ]
    },
    {
     "name": "stderr",
     "output_type": "stream",
     "text": [
      " 65%|██████▌   | 65001/100001 [2:20:05<63:04:34,  6.49s/it]"
     ]
    },
    {
     "name": "stdout",
     "output_type": "stream",
     "text": [
      "Current fid score: 0.9380651985760089\n",
      "Fid scores: [4.781169086965528, 2.5563023530045648, 2.463046801314256, 2.4992711961120584, 2.218550049566371, 2.964950268119857, 3.4702528654377076, 2.613245115961785, 2.34790911689727, 2.6919041220970037, 2.3144257756644073, 2.3240966003506536, 1.993653403354564, 2.697158487724515, 1.7994096039010472, 2.91434783406185, 2.7811489268397516, 2.2334427836959794, 2.2575362052527765, 2.130950188976346, 2.15637473746202, 2.4389161668575845, 2.2519582703541623, 2.1827718797205335, 2.3576301559437454, 2.6942066386249337, 2.6747271169665723, 2.8508206571304022, 2.837364124793419, 2.920850907282844, 2.6905573257954796, 1.3344332586511385, 2.1663599865511003, 0.855827226287527, 0.7591339506391392, 1.0899071055671108, 1.556975725398381, 1.6322229933262378, 1.4239017743813775, 1.5249018576080395, 1.2095302975349256, 0.8666642624319927, 1.061769574879687, 1.0549228395687074, 0.8332865353009247, 1.4093295915717334, 0.8253746464537564, 1.0501828097794572, 0.753537841488491, 0.9101388104903059, 0.8306977745111297, 1.0361210015169284, 0.8622839615512738, 1.0211583963511188, 1.0494697313231427, 0.7210932457566237, 1.1723560449956096, 1.6164965744993367, 1.768061074180352, 2.2152855954706574, 2.1226241732258586, 0.6317119417673425, 1.2031446041186733, 1.037733761688667, 1.0837845443159715, 0.9380651985760089]\n"
     ]
    },
    {
     "name": "stderr",
     "output_type": "stream",
     "text": [
      "  0%|          | 0/195 [00:16<?, ?it/s]1:01:37,  9.45it/s] \n",
      "  0%|          | 0/15 [00:06<?, ?it/s]\n",
      " 65%|██████▌   | 65103/100001 [2:20:16<1:01:15,  9.49it/s]"
     ]
    },
    {
     "name": "stdout",
     "output_type": "stream",
     "text": [
      "GAN: loss d: 3.54757    loss g: -2.27354\n"
     ]
    },
    {
     "name": "stderr",
     "output_type": "stream",
     "text": [
      " 65%|██████▌   | 65201/100001 [2:20:26<1:03:59,  9.06it/s]"
     ]
    },
    {
     "name": "stdout",
     "output_type": "stream",
     "text": [
      "GAN: loss d: 0.88146    loss g: -1.39964\n"
     ]
    },
    {
     "name": "stderr",
     "output_type": "stream",
     "text": [
      " 65%|██████▌   | 65301/100001 [2:20:37<1:04:59,  8.90it/s]"
     ]
    },
    {
     "name": "stdout",
     "output_type": "stream",
     "text": [
      "GAN: loss d: 1.47444    loss g: -2.13049\n"
     ]
    },
    {
     "name": "stderr",
     "output_type": "stream",
     "text": [
      " 65%|██████▌   | 65403/100001 [2:20:48<1:00:07,  9.59it/s]"
     ]
    },
    {
     "name": "stdout",
     "output_type": "stream",
     "text": [
      "GAN: loss d: -1.45517    loss g: -2.74653\n"
     ]
    },
    {
     "name": "stderr",
     "output_type": "stream",
     "text": [
      " 66%|██████▌   | 65503/100001 [2:20:58<59:57,  9.59it/s]  "
     ]
    },
    {
     "name": "stdout",
     "output_type": "stream",
     "text": [
      "GAN: loss d: 0.79211    loss g: -2.14911\n"
     ]
    },
    {
     "name": "stderr",
     "output_type": "stream",
     "text": [
      " 66%|██████▌   | 65603/100001 [2:21:09<1:00:21,  9.50it/s]"
     ]
    },
    {
     "name": "stdout",
     "output_type": "stream",
     "text": [
      "GAN: loss d: 2.36673    loss g: -2.45135\n"
     ]
    },
    {
     "name": "stderr",
     "output_type": "stream",
     "text": [
      " 66%|██████▌   | 65703/100001 [2:21:19<59:44,  9.57it/s]  "
     ]
    },
    {
     "name": "stdout",
     "output_type": "stream",
     "text": [
      "GAN: loss d: 2.04035    loss g: -1.62665\n"
     ]
    },
    {
     "name": "stderr",
     "output_type": "stream",
     "text": [
      " 66%|██████▌   | 65801/100001 [2:21:30<1:02:52,  9.06it/s]"
     ]
    },
    {
     "name": "stdout",
     "output_type": "stream",
     "text": [
      "GAN: loss d: 3.41672    loss g: -1.74389\n"
     ]
    },
    {
     "name": "stderr",
     "output_type": "stream",
     "text": [
      " 66%|██████▌   | 65901/100001 [2:21:40<1:02:49,  9.05it/s]"
     ]
    },
    {
     "name": "stdout",
     "output_type": "stream",
     "text": [
      "GAN: loss d: 4.30413    loss g: -1.83199\n"
     ]
    },
    {
     "name": "stderr",
     "output_type": "stream",
     "text": [
      " 66%|██████▌   | 66000/100001 [2:21:51<1:01:08,  9.27it/s]"
     ]
    },
    {
     "name": "stdout",
     "output_type": "stream",
     "text": [
      "GAN: loss d: 2.58222    loss g: -1.93395\n",
      "saving current model\n"
     ]
    },
    {
     "name": "stderr",
     "output_type": "stream",
     "text": [
      "\n",
      "  0%|          | 0/195 [00:00<?, ?it/s]\u001b[A"
     ]
    },
    {
     "name": "stdout",
     "output_type": "stream",
     "text": [
      "Number of real images: 6252\n"
     ]
    },
    {
     "name": "stderr",
     "output_type": "stream",
     "text": [
      "\n",
      "\n",
      "  0%|          | 0/15 [00:00<?, ?it/s]\u001b[A\u001b[A"
     ]
    },
    {
     "name": "stdout",
     "output_type": "stream",
     "text": [
      "Number of synthetic images: 500\n"
     ]
    },
    {
     "name": "stderr",
     "output_type": "stream",
     "text": [
      " 66%|██████▌   | 66001/100001 [2:22:12<61:43:30,  6.54s/it]"
     ]
    },
    {
     "name": "stdout",
     "output_type": "stream",
     "text": [
      "Current fid score: 0.9150319052622109\n",
      "Fid scores: [4.781169086965528, 2.5563023530045648, 2.463046801314256, 2.4992711961120584, 2.218550049566371, 2.964950268119857, 3.4702528654377076, 2.613245115961785, 2.34790911689727, 2.6919041220970037, 2.3144257756644073, 2.3240966003506536, 1.993653403354564, 2.697158487724515, 1.7994096039010472, 2.91434783406185, 2.7811489268397516, 2.2334427836959794, 2.2575362052527765, 2.130950188976346, 2.15637473746202, 2.4389161668575845, 2.2519582703541623, 2.1827718797205335, 2.3576301559437454, 2.6942066386249337, 2.6747271169665723, 2.8508206571304022, 2.837364124793419, 2.920850907282844, 2.6905573257954796, 1.3344332586511385, 2.1663599865511003, 0.855827226287527, 0.7591339506391392, 1.0899071055671108, 1.556975725398381, 1.6322229933262378, 1.4239017743813775, 1.5249018576080395, 1.2095302975349256, 0.8666642624319927, 1.061769574879687, 1.0549228395687074, 0.8332865353009247, 1.4093295915717334, 0.8253746464537564, 1.0501828097794572, 0.753537841488491, 0.9101388104903059, 0.8306977745111297, 1.0361210015169284, 0.8622839615512738, 1.0211583963511188, 1.0494697313231427, 0.7210932457566237, 1.1723560449956096, 1.6164965744993367, 1.768061074180352, 2.2152855954706574, 2.1226241732258586, 0.6317119417673425, 1.2031446041186733, 1.037733761688667, 1.0837845443159715, 0.9380651985760089, 0.9150319052622109]\n"
     ]
    },
    {
     "name": "stderr",
     "output_type": "stream",
     "text": [
      "  0%|          | 0/15 [00:04<?, ?it/s]<1:00:02,  9.43it/s] \n",
      " 66%|██████▌   | 66103/100001 [2:22:23<58:34,  9.64it/s]  "
     ]
    },
    {
     "name": "stdout",
     "output_type": "stream",
     "text": [
      "GAN: loss d: 2.69976    loss g: -2.13456\n"
     ]
    },
    {
     "name": "stderr",
     "output_type": "stream",
     "text": [
      " 66%|██████▌   | 66203/100001 [2:22:34<58:26,  9.64it/s]  "
     ]
    },
    {
     "name": "stdout",
     "output_type": "stream",
     "text": [
      "GAN: loss d: -0.32206    loss g: -2.49671\n"
     ]
    },
    {
     "name": "stderr",
     "output_type": "stream",
     "text": [
      " 66%|██████▋   | 66303/100001 [2:22:44<58:45,  9.56it/s]  "
     ]
    },
    {
     "name": "stdout",
     "output_type": "stream",
     "text": [
      "GAN: loss d: 2.20184    loss g: -2.12877\n"
     ]
    },
    {
     "name": "stderr",
     "output_type": "stream",
     "text": [
      " 66%|██████▋   | 66403/100001 [2:22:55<57:33,  9.73it/s]  "
     ]
    },
    {
     "name": "stdout",
     "output_type": "stream",
     "text": [
      "GAN: loss d: 1.96926    loss g: -1.84853\n"
     ]
    },
    {
     "name": "stderr",
     "output_type": "stream",
     "text": [
      " 67%|██████▋   | 66503/100001 [2:23:05<58:08,  9.60it/s]  "
     ]
    },
    {
     "name": "stdout",
     "output_type": "stream",
     "text": [
      "GAN: loss d: 2.59467    loss g: -1.47892\n"
     ]
    },
    {
     "name": "stderr",
     "output_type": "stream",
     "text": [
      " 67%|██████▋   | 66601/100001 [2:23:16<1:01:01,  9.12it/s]"
     ]
    },
    {
     "name": "stdout",
     "output_type": "stream",
     "text": [
      "GAN: loss d: 2.81203    loss g: -1.53618\n"
     ]
    },
    {
     "name": "stderr",
     "output_type": "stream",
     "text": [
      " 67%|██████▋   | 66703/100001 [2:23:26<58:01,  9.57it/s]  "
     ]
    },
    {
     "name": "stdout",
     "output_type": "stream",
     "text": [
      "GAN: loss d: 3.50962    loss g: -2.38402\n"
     ]
    },
    {
     "name": "stderr",
     "output_type": "stream",
     "text": [
      " 67%|██████▋   | 66803/100001 [2:23:37<58:20,  9.48it/s]  "
     ]
    },
    {
     "name": "stdout",
     "output_type": "stream",
     "text": [
      "GAN: loss d: 3.76005    loss g: -2.61208\n"
     ]
    },
    {
     "name": "stderr",
     "output_type": "stream",
     "text": [
      " 67%|██████▋   | 66903/100001 [2:23:47<56:58,  9.68it/s]  "
     ]
    },
    {
     "name": "stdout",
     "output_type": "stream",
     "text": [
      "GAN: loss d: 2.62352    loss g: -1.44328\n"
     ]
    },
    {
     "name": "stderr",
     "output_type": "stream",
     "text": [
      "  0%|          | 0/195 [01:56<?, ?it/s]57:22,  9.59it/s]\n"
     ]
    },
    {
     "name": "stdout",
     "output_type": "stream",
     "text": [
      "GAN: loss d: 4.91093    loss g: -1.93542\n",
      "saving current model\n"
     ]
    },
    {
     "name": "stderr",
     "output_type": "stream",
     "text": [
      "\n",
      "  0%|          | 0/195 [00:00<?, ?it/s]\u001b[A"
     ]
    },
    {
     "name": "stdout",
     "output_type": "stream",
     "text": [
      "Number of real images: 6252\n"
     ]
    },
    {
     "name": "stderr",
     "output_type": "stream",
     "text": [
      "\n",
      "\n",
      "  0%|          | 0/15 [00:00<?, ?it/s]\u001b[A\u001b[A"
     ]
    },
    {
     "name": "stdout",
     "output_type": "stream",
     "text": [
      "Number of synthetic images: 500\n"
     ]
    },
    {
     "name": "stderr",
     "output_type": "stream",
     "text": [
      " 67%|██████▋   | 67001/100001 [2:24:19<60:21:01,  6.58s/it]"
     ]
    },
    {
     "name": "stdout",
     "output_type": "stream",
     "text": [
      "Current fid score: 0.808499389931665\n",
      "Fid scores: [4.781169086965528, 2.5563023530045648, 2.463046801314256, 2.4992711961120584, 2.218550049566371, 2.964950268119857, 3.4702528654377076, 2.613245115961785, 2.34790911689727, 2.6919041220970037, 2.3144257756644073, 2.3240966003506536, 1.993653403354564, 2.697158487724515, 1.7994096039010472, 2.91434783406185, 2.7811489268397516, 2.2334427836959794, 2.2575362052527765, 2.130950188976346, 2.15637473746202, 2.4389161668575845, 2.2519582703541623, 2.1827718797205335, 2.3576301559437454, 2.6942066386249337, 2.6747271169665723, 2.8508206571304022, 2.837364124793419, 2.920850907282844, 2.6905573257954796, 1.3344332586511385, 2.1663599865511003, 0.855827226287527, 0.7591339506391392, 1.0899071055671108, 1.556975725398381, 1.6322229933262378, 1.4239017743813775, 1.5249018576080395, 1.2095302975349256, 0.8666642624319927, 1.061769574879687, 1.0549228395687074, 0.8332865353009247, 1.4093295915717334, 0.8253746464537564, 1.0501828097794572, 0.753537841488491, 0.9101388104903059, 0.8306977745111297, 1.0361210015169284, 0.8622839615512738, 1.0211583963511188, 1.0494697313231427, 0.7210932457566237, 1.1723560449956096, 1.6164965744993367, 1.768061074180352, 2.2152855954706574, 2.1226241732258586, 0.6317119417673425, 1.2031446041186733, 1.037733761688667, 1.0837845443159715, 0.9380651985760089, 0.9150319052622109, 0.808499389931665]\n"
     ]
    },
    {
     "name": "stderr",
     "output_type": "stream",
     "text": [
      "  0%|          | 0/195 [00:16<?, ?it/s]57:46,  9.50it/s]   \n",
      "  0%|          | 0/15 [00:06<?, ?it/s]\n",
      " 67%|██████▋   | 67103/100001 [2:24:30<57:18,  9.57it/s]  "
     ]
    },
    {
     "name": "stdout",
     "output_type": "stream",
     "text": [
      "GAN: loss d: 2.83508    loss g: -1.86374\n"
     ]
    },
    {
     "name": "stderr",
     "output_type": "stream",
     "text": [
      " 67%|██████▋   | 67203/100001 [2:24:41<57:12,  9.56it/s]"
     ]
    },
    {
     "name": "stdout",
     "output_type": "stream",
     "text": [
      "GAN: loss d: 1.52032    loss g: -2.12798\n"
     ]
    },
    {
     "name": "stderr",
     "output_type": "stream",
     "text": [
      " 67%|██████▋   | 67303/100001 [2:24:51<56:47,  9.60it/s]"
     ]
    },
    {
     "name": "stdout",
     "output_type": "stream",
     "text": [
      "GAN: loss d: 2.25363    loss g: -2.39550\n"
     ]
    },
    {
     "name": "stderr",
     "output_type": "stream",
     "text": [
      " 67%|██████▋   | 67401/100001 [2:25:02<59:35,  9.12it/s]  "
     ]
    },
    {
     "name": "stdout",
     "output_type": "stream",
     "text": [
      "GAN: loss d: 4.43236    loss g: -1.92104\n"
     ]
    },
    {
     "name": "stderr",
     "output_type": "stream",
     "text": [
      " 68%|██████▊   | 67503/100001 [2:25:13<56:36,  9.57it/s]"
     ]
    },
    {
     "name": "stdout",
     "output_type": "stream",
     "text": [
      "GAN: loss d: 3.54567    loss g: -1.92035\n"
     ]
    },
    {
     "name": "stderr",
     "output_type": "stream",
     "text": [
      " 68%|██████▊   | 67603/100001 [2:25:23<57:13,  9.43it/s]"
     ]
    },
    {
     "name": "stdout",
     "output_type": "stream",
     "text": [
      "GAN: loss d: 1.53811    loss g: -2.01082\n"
     ]
    },
    {
     "name": "stderr",
     "output_type": "stream",
     "text": [
      " 68%|██████▊   | 67701/100001 [2:25:34<59:09,  9.10it/s]"
     ]
    },
    {
     "name": "stdout",
     "output_type": "stream",
     "text": [
      "GAN: loss d: 3.46785    loss g: -2.32977\n"
     ]
    },
    {
     "name": "stderr",
     "output_type": "stream",
     "text": [
      " 68%|██████▊   | 67801/100001 [2:25:44<58:52,  9.12it/s]"
     ]
    },
    {
     "name": "stdout",
     "output_type": "stream",
     "text": [
      "GAN: loss d: 2.86669    loss g: -2.14941\n"
     ]
    },
    {
     "name": "stderr",
     "output_type": "stream",
     "text": [
      " 68%|██████▊   | 67903/100001 [2:25:55<56:40,  9.44it/s]"
     ]
    },
    {
     "name": "stdout",
     "output_type": "stream",
     "text": [
      "GAN: loss d: 4.95331    loss g: -2.20449\n"
     ]
    },
    {
     "name": "stderr",
     "output_type": "stream",
     "text": [
      " 68%|██████▊   | 68000/100001 [2:26:05<56:23,  9.46it/s]"
     ]
    },
    {
     "name": "stdout",
     "output_type": "stream",
     "text": [
      "GAN: loss d: 2.46392    loss g: -1.62631\n",
      "saving current model\n"
     ]
    },
    {
     "name": "stderr",
     "output_type": "stream",
     "text": [
      "\n",
      "  0%|          | 0/195 [00:00<?, ?it/s]\u001b[A"
     ]
    },
    {
     "name": "stdout",
     "output_type": "stream",
     "text": [
      "Number of real images: 6252\n"
     ]
    },
    {
     "name": "stderr",
     "output_type": "stream",
     "text": [
      "\n",
      "\n",
      "  0%|          | 0/15 [00:00<?, ?it/s]\u001b[A\u001b[A"
     ]
    },
    {
     "name": "stdout",
     "output_type": "stream",
     "text": [
      "Number of synthetic images: 500\n"
     ]
    },
    {
     "name": "stderr",
     "output_type": "stream",
     "text": [
      " 68%|██████▊   | 68001/100001 [2:26:27<58:10:26,  6.54s/it]"
     ]
    },
    {
     "name": "stdout",
     "output_type": "stream",
     "text": [
      "Current fid score: 0.799970201460674\n",
      "Fid scores: [4.781169086965528, 2.5563023530045648, 2.463046801314256, 2.4992711961120584, 2.218550049566371, 2.964950268119857, 3.4702528654377076, 2.613245115961785, 2.34790911689727, 2.6919041220970037, 2.3144257756644073, 2.3240966003506536, 1.993653403354564, 2.697158487724515, 1.7994096039010472, 2.91434783406185, 2.7811489268397516, 2.2334427836959794, 2.2575362052527765, 2.130950188976346, 2.15637473746202, 2.4389161668575845, 2.2519582703541623, 2.1827718797205335, 2.3576301559437454, 2.6942066386249337, 2.6747271169665723, 2.8508206571304022, 2.837364124793419, 2.920850907282844, 2.6905573257954796, 1.3344332586511385, 2.1663599865511003, 0.855827226287527, 0.7591339506391392, 1.0899071055671108, 1.556975725398381, 1.6322229933262378, 1.4239017743813775, 1.5249018576080395, 1.2095302975349256, 0.8666642624319927, 1.061769574879687, 1.0549228395687074, 0.8332865353009247, 1.4093295915717334, 0.8253746464537564, 1.0501828097794572, 0.753537841488491, 0.9101388104903059, 0.8306977745111297, 1.0361210015169284, 0.8622839615512738, 1.0211583963511188, 1.0494697313231427, 0.7210932457566237, 1.1723560449956096, 1.6164965744993367, 1.768061074180352, 2.2152855954706574, 2.1226241732258586, 0.6317119417673425, 1.2031446041186733, 1.037733761688667, 1.0837845443159715, 0.9380651985760089, 0.9150319052622109, 0.808499389931665, 0.799970201460674]\n"
     ]
    },
    {
     "name": "stderr",
     "output_type": "stream",
     "text": [
      "  0%|          | 0/195 [00:14<?, ?it/s]56:15,  9.47it/s]   \n",
      "  0%|          | 0/15 [00:05<?, ?it/s]\n",
      " 68%|██████▊   | 68103/100001 [2:26:38<56:07,  9.47it/s]"
     ]
    },
    {
     "name": "stdout",
     "output_type": "stream",
     "text": [
      "GAN: loss d: 3.38098    loss g: -1.48337\n"
     ]
    },
    {
     "name": "stderr",
     "output_type": "stream",
     "text": [
      " 68%|██████▊   | 68201/100001 [2:26:48<57:28,  9.22it/s]"
     ]
    },
    {
     "name": "stdout",
     "output_type": "stream",
     "text": [
      "GAN: loss d: 2.85773    loss g: -2.54909\n"
     ]
    },
    {
     "name": "stderr",
     "output_type": "stream",
     "text": [
      " 68%|██████▊   | 68303/100001 [2:26:59<55:04,  9.59it/s]"
     ]
    },
    {
     "name": "stdout",
     "output_type": "stream",
     "text": [
      "GAN: loss d: 2.19576    loss g: -1.66610\n"
     ]
    },
    {
     "name": "stderr",
     "output_type": "stream",
     "text": [
      " 68%|██████▊   | 68403/100001 [2:27:09<55:24,  9.51it/s]"
     ]
    },
    {
     "name": "stdout",
     "output_type": "stream",
     "text": [
      "GAN: loss d: 2.04282    loss g: -2.24960\n"
     ]
    },
    {
     "name": "stderr",
     "output_type": "stream",
     "text": [
      " 69%|██████▊   | 68501/100001 [2:27:20<56:56,  9.22it/s]"
     ]
    },
    {
     "name": "stdout",
     "output_type": "stream",
     "text": [
      "GAN: loss d: 4.49659    loss g: -2.49537\n"
     ]
    },
    {
     "name": "stderr",
     "output_type": "stream",
     "text": [
      " 69%|██████▊   | 68601/100001 [2:27:30<56:39,  9.24it/s]"
     ]
    },
    {
     "name": "stdout",
     "output_type": "stream",
     "text": [
      "GAN: loss d: 2.47434    loss g: -1.74131\n"
     ]
    },
    {
     "name": "stderr",
     "output_type": "stream",
     "text": [
      " 69%|██████▊   | 68701/100001 [2:27:41<56:34,  9.22it/s]"
     ]
    },
    {
     "name": "stdout",
     "output_type": "stream",
     "text": [
      "GAN: loss d: 4.74564    loss g: -2.70393\n"
     ]
    },
    {
     "name": "stderr",
     "output_type": "stream",
     "text": [
      " 69%|██████▉   | 68803/100001 [2:27:52<54:21,  9.57it/s]"
     ]
    },
    {
     "name": "stdout",
     "output_type": "stream",
     "text": [
      "GAN: loss d: -0.45276    loss g: -1.13353\n"
     ]
    },
    {
     "name": "stderr",
     "output_type": "stream",
     "text": [
      " 69%|██████▉   | 68903/100001 [2:28:02<54:39,  9.48it/s]"
     ]
    },
    {
     "name": "stdout",
     "output_type": "stream",
     "text": [
      "GAN: loss d: 3.26338    loss g: -2.83216\n"
     ]
    },
    {
     "name": "stderr",
     "output_type": "stream",
     "text": [
      " 69%|██████▉   | 69000/100001 [2:28:13<53:46,  9.61it/s]"
     ]
    },
    {
     "name": "stdout",
     "output_type": "stream",
     "text": [
      "GAN: loss d: 4.19930    loss g: -1.51915\n",
      "saving current model\n"
     ]
    },
    {
     "name": "stderr",
     "output_type": "stream",
     "text": [
      "\n",
      "  0%|          | 0/195 [00:00<?, ?it/s]\u001b[A"
     ]
    },
    {
     "name": "stdout",
     "output_type": "stream",
     "text": [
      "Number of real images: 6252\n"
     ]
    },
    {
     "name": "stderr",
     "output_type": "stream",
     "text": [
      "\n",
      "\n",
      "  0%|          | 0/15 [00:00<?, ?it/s]\u001b[A\u001b[A"
     ]
    },
    {
     "name": "stdout",
     "output_type": "stream",
     "text": [
      "Number of synthetic images: 500\n"
     ]
    },
    {
     "name": "stderr",
     "output_type": "stream",
     "text": [
      " 69%|██████▉   | 69001/100001 [2:28:34<56:03:26,  6.51s/it]"
     ]
    },
    {
     "name": "stdout",
     "output_type": "stream",
     "text": [
      "Current fid score: 0.8919625371349333\n",
      "Fid scores: [4.781169086965528, 2.5563023530045648, 2.463046801314256, 2.4992711961120584, 2.218550049566371, 2.964950268119857, 3.4702528654377076, 2.613245115961785, 2.34790911689727, 2.6919041220970037, 2.3144257756644073, 2.3240966003506536, 1.993653403354564, 2.697158487724515, 1.7994096039010472, 2.91434783406185, 2.7811489268397516, 2.2334427836959794, 2.2575362052527765, 2.130950188976346, 2.15637473746202, 2.4389161668575845, 2.2519582703541623, 2.1827718797205335, 2.3576301559437454, 2.6942066386249337, 2.6747271169665723, 2.8508206571304022, 2.837364124793419, 2.920850907282844, 2.6905573257954796, 1.3344332586511385, 2.1663599865511003, 0.855827226287527, 0.7591339506391392, 1.0899071055671108, 1.556975725398381, 1.6322229933262378, 1.4239017743813775, 1.5249018576080395, 1.2095302975349256, 0.8666642624319927, 1.061769574879687, 1.0549228395687074, 0.8332865353009247, 1.4093295915717334, 0.8253746464537564, 1.0501828097794572, 0.753537841488491, 0.9101388104903059, 0.8306977745111297, 1.0361210015169284, 0.8622839615512738, 1.0211583963511188, 1.0494697313231427, 0.7210932457566237, 1.1723560449956096, 1.6164965744993367, 1.768061074180352, 2.2152855954706574, 2.1226241732258586, 0.6317119417673425, 1.2031446041186733, 1.037733761688667, 1.0837845443159715, 0.9380651985760089, 0.9150319052622109, 0.808499389931665, 0.799970201460674, 0.8919625371349333]\n"
     ]
    },
    {
     "name": "stderr",
     "output_type": "stream",
     "text": [
      "  0%|          | 0/195 [00:19<?, ?it/s]54:27,  9.46it/s]   \n",
      "  0%|          | 0/15 [00:09<?, ?it/s]\n",
      " 69%|██████▉   | 69101/100001 [2:28:45<56:36,  9.10it/s]"
     ]
    },
    {
     "name": "stdout",
     "output_type": "stream",
     "text": [
      "GAN: loss d: 4.07372    loss g: -2.68033\n"
     ]
    },
    {
     "name": "stderr",
     "output_type": "stream",
     "text": [
      " 69%|██████▉   | 69202/100001 [2:28:55<54:44,  9.38it/s]"
     ]
    },
    {
     "name": "stdout",
     "output_type": "stream",
     "text": [
      "GAN: loss d: 5.44550    loss g: -2.60096\n"
     ]
    },
    {
     "name": "stderr",
     "output_type": "stream",
     "text": [
      " 69%|██████▉   | 69301/100001 [2:29:06<56:49,  9.00it/s]"
     ]
    },
    {
     "name": "stdout",
     "output_type": "stream",
     "text": [
      "GAN: loss d: 2.71244    loss g: -2.08591\n"
     ]
    },
    {
     "name": "stderr",
     "output_type": "stream",
     "text": [
      " 69%|██████▉   | 69403/100001 [2:29:17<53:52,  9.47it/s]"
     ]
    },
    {
     "name": "stdout",
     "output_type": "stream",
     "text": [
      "GAN: loss d: 3.26616    loss g: -2.19451\n"
     ]
    },
    {
     "name": "stderr",
     "output_type": "stream",
     "text": [
      " 70%|██████▉   | 69503/100001 [2:29:27<53:03,  9.58it/s]"
     ]
    },
    {
     "name": "stdout",
     "output_type": "stream",
     "text": [
      "GAN: loss d: 0.57583    loss g: -1.68271\n"
     ]
    },
    {
     "name": "stderr",
     "output_type": "stream",
     "text": [
      " 70%|██████▉   | 69603/100001 [2:29:38<52:40,  9.62it/s]"
     ]
    },
    {
     "name": "stdout",
     "output_type": "stream",
     "text": [
      "GAN: loss d: 2.96548    loss g: -2.27298\n"
     ]
    },
    {
     "name": "stderr",
     "output_type": "stream",
     "text": [
      " 70%|██████▉   | 69701/100001 [2:29:48<54:17,  9.30it/s]"
     ]
    },
    {
     "name": "stdout",
     "output_type": "stream",
     "text": [
      "GAN: loss d: 2.49581    loss g: -1.57444\n"
     ]
    },
    {
     "name": "stderr",
     "output_type": "stream",
     "text": [
      " 70%|██████▉   | 69803/100001 [2:29:59<52:56,  9.51it/s]"
     ]
    },
    {
     "name": "stdout",
     "output_type": "stream",
     "text": [
      "GAN: loss d: 5.68037    loss g: -1.88125\n"
     ]
    },
    {
     "name": "stderr",
     "output_type": "stream",
     "text": [
      " 70%|██████▉   | 69903/100001 [2:30:10<51:51,  9.67it/s]"
     ]
    },
    {
     "name": "stdout",
     "output_type": "stream",
     "text": [
      "GAN: loss d: 1.72353    loss g: -2.37204\n"
     ]
    },
    {
     "name": "stderr",
     "output_type": "stream",
     "text": [
      " 70%|██████▉   | 70000/100001 [2:30:20<52:31,  9.52it/s]"
     ]
    },
    {
     "name": "stdout",
     "output_type": "stream",
     "text": [
      "GAN: loss d: 2.89784    loss g: -2.24432\n",
      "saving current model\n"
     ]
    },
    {
     "name": "stderr",
     "output_type": "stream",
     "text": [
      "\n",
      "  0%|          | 0/195 [00:00<?, ?it/s]\u001b[A"
     ]
    },
    {
     "name": "stdout",
     "output_type": "stream",
     "text": [
      "Number of real images: 6252\n"
     ]
    },
    {
     "name": "stderr",
     "output_type": "stream",
     "text": [
      "\n",
      "\n",
      "  0%|          | 0/15 [00:00<?, ?it/s]\u001b[A\u001b[A"
     ]
    },
    {
     "name": "stdout",
     "output_type": "stream",
     "text": [
      "Number of synthetic images: 500\n"
     ]
    },
    {
     "name": "stderr",
     "output_type": "stream",
     "text": [
      " 70%|███████   | 70003/100001 [2:30:42<29:43:05,  3.57s/it]"
     ]
    },
    {
     "name": "stdout",
     "output_type": "stream",
     "text": [
      "Current fid score: 0.8143693713058333\n",
      "Fid scores: [4.781169086965528, 2.5563023530045648, 2.463046801314256, 2.4992711961120584, 2.218550049566371, 2.964950268119857, 3.4702528654377076, 2.613245115961785, 2.34790911689727, 2.6919041220970037, 2.3144257756644073, 2.3240966003506536, 1.993653403354564, 2.697158487724515, 1.7994096039010472, 2.91434783406185, 2.7811489268397516, 2.2334427836959794, 2.2575362052527765, 2.130950188976346, 2.15637473746202, 2.4389161668575845, 2.2519582703541623, 2.1827718797205335, 2.3576301559437454, 2.6942066386249337, 2.6747271169665723, 2.8508206571304022, 2.837364124793419, 2.920850907282844, 2.6905573257954796, 1.3344332586511385, 2.1663599865511003, 0.855827226287527, 0.7591339506391392, 1.0899071055671108, 1.556975725398381, 1.6322229933262378, 1.4239017743813775, 1.5249018576080395, 1.2095302975349256, 0.8666642624319927, 1.061769574879687, 1.0549228395687074, 0.8332865353009247, 1.4093295915717334, 0.8253746464537564, 1.0501828097794572, 0.753537841488491, 0.9101388104903059, 0.8306977745111297, 1.0361210015169284, 0.8622839615512738, 1.0211583963511188, 1.0494697313231427, 0.7210932457566237, 1.1723560449956096, 1.6164965744993367, 1.768061074180352, 2.2152855954706574, 2.1226241732258586, 0.6317119417673425, 1.2031446041186733, 1.037733761688667, 1.0837845443159715, 0.9380651985760089, 0.9150319052622109, 0.808499389931665, 0.799970201460674, 0.8919625371349333, 0.8143693713058333]\n"
     ]
    },
    {
     "name": "stderr",
     "output_type": "stream",
     "text": [
      "  0%|          | 0/195 [00:15<?, ?it/s]54:19,  9.19it/s]   \n",
      "  0%|          | 0/15 [00:05<?, ?it/s]\n",
      " 70%|███████   | 70103/100001 [2:30:52<51:21,  9.70it/s]"
     ]
    },
    {
     "name": "stdout",
     "output_type": "stream",
     "text": [
      "GAN: loss d: 1.66076    loss g: -2.79361\n"
     ]
    },
    {
     "name": "stderr",
     "output_type": "stream",
     "text": [
      " 70%|███████   | 70203/100001 [2:31:03<52:06,  9.53it/s]"
     ]
    },
    {
     "name": "stdout",
     "output_type": "stream",
     "text": [
      "GAN: loss d: 3.21364    loss g: -2.04703\n"
     ]
    },
    {
     "name": "stderr",
     "output_type": "stream",
     "text": [
      " 70%|███████   | 70303/100001 [2:31:13<51:02,  9.70it/s]"
     ]
    },
    {
     "name": "stdout",
     "output_type": "stream",
     "text": [
      "GAN: loss d: 4.00726    loss g: -1.83581\n"
     ]
    },
    {
     "name": "stderr",
     "output_type": "stream",
     "text": [
      " 70%|███████   | 70401/100001 [2:31:24<53:04,  9.30it/s]"
     ]
    },
    {
     "name": "stdout",
     "output_type": "stream",
     "text": [
      "GAN: loss d: 3.29683    loss g: -2.22988\n"
     ]
    },
    {
     "name": "stderr",
     "output_type": "stream",
     "text": [
      " 71%|███████   | 70501/100001 [2:31:34<54:53,  8.96it/s]"
     ]
    },
    {
     "name": "stdout",
     "output_type": "stream",
     "text": [
      "GAN: loss d: 1.91463    loss g: -2.21219\n"
     ]
    },
    {
     "name": "stderr",
     "output_type": "stream",
     "text": [
      " 71%|███████   | 70603/100001 [2:31:45<50:46,  9.65it/s]"
     ]
    },
    {
     "name": "stdout",
     "output_type": "stream",
     "text": [
      "GAN: loss d: 4.13692    loss g: -2.26855\n"
     ]
    },
    {
     "name": "stderr",
     "output_type": "stream",
     "text": [
      " 71%|███████   | 70703/100001 [2:31:56<51:49,  9.42it/s]"
     ]
    },
    {
     "name": "stdout",
     "output_type": "stream",
     "text": [
      "GAN: loss d: 2.62718    loss g: -2.83749\n"
     ]
    },
    {
     "name": "stderr",
     "output_type": "stream",
     "text": [
      " 71%|███████   | 70801/100001 [2:32:06<54:12,  8.98it/s]"
     ]
    },
    {
     "name": "stdout",
     "output_type": "stream",
     "text": [
      "GAN: loss d: 4.96532    loss g: -2.00965\n"
     ]
    },
    {
     "name": "stderr",
     "output_type": "stream",
     "text": [
      " 71%|███████   | 70903/100001 [2:32:17<50:34,  9.59it/s]"
     ]
    },
    {
     "name": "stdout",
     "output_type": "stream",
     "text": [
      "GAN: loss d: 0.35045    loss g: -1.66862\n"
     ]
    },
    {
     "name": "stderr",
     "output_type": "stream",
     "text": [
      " 71%|███████   | 71000/100001 [2:32:27<50:03,  9.66it/s]"
     ]
    },
    {
     "name": "stdout",
     "output_type": "stream",
     "text": [
      "GAN: loss d: 0.67850    loss g: -1.31067\n",
      "saving current model\n"
     ]
    },
    {
     "name": "stderr",
     "output_type": "stream",
     "text": [
      "\n",
      "  0%|          | 0/195 [00:00<?, ?it/s]\u001b[A"
     ]
    },
    {
     "name": "stdout",
     "output_type": "stream",
     "text": [
      "Number of real images: 6252\n"
     ]
    },
    {
     "name": "stderr",
     "output_type": "stream",
     "text": [
      "\n",
      "\n",
      "  0%|          | 0/15 [00:00<?, ?it/s]\u001b[A\u001b[A"
     ]
    },
    {
     "name": "stdout",
     "output_type": "stream",
     "text": [
      "Number of synthetic images: 500\n"
     ]
    },
    {
     "name": "stderr",
     "output_type": "stream",
     "text": [
      " 71%|███████   | 71001/100001 [2:32:49<52:36:41,  6.53s/it]"
     ]
    },
    {
     "name": "stdout",
     "output_type": "stream",
     "text": [
      "Current fid score: 0.8586844360966879\n",
      "Fid scores: [4.781169086965528, 2.5563023530045648, 2.463046801314256, 2.4992711961120584, 2.218550049566371, 2.964950268119857, 3.4702528654377076, 2.613245115961785, 2.34790911689727, 2.6919041220970037, 2.3144257756644073, 2.3240966003506536, 1.993653403354564, 2.697158487724515, 1.7994096039010472, 2.91434783406185, 2.7811489268397516, 2.2334427836959794, 2.2575362052527765, 2.130950188976346, 2.15637473746202, 2.4389161668575845, 2.2519582703541623, 2.1827718797205335, 2.3576301559437454, 2.6942066386249337, 2.6747271169665723, 2.8508206571304022, 2.837364124793419, 2.920850907282844, 2.6905573257954796, 1.3344332586511385, 2.1663599865511003, 0.855827226287527, 0.7591339506391392, 1.0899071055671108, 1.556975725398381, 1.6322229933262378, 1.4239017743813775, 1.5249018576080395, 1.2095302975349256, 0.8666642624319927, 1.061769574879687, 1.0549228395687074, 0.8332865353009247, 1.4093295915717334, 0.8253746464537564, 1.0501828097794572, 0.753537841488491, 0.9101388104903059, 0.8306977745111297, 1.0361210015169284, 0.8622839615512738, 1.0211583963511188, 1.0494697313231427, 0.7210932457566237, 1.1723560449956096, 1.6164965744993367, 1.768061074180352, 2.2152855954706574, 2.1226241732258586, 0.6317119417673425, 1.2031446041186733, 1.037733761688667, 1.0837845443159715, 0.9380651985760089, 0.9150319052622109, 0.808499389931665, 0.799970201460674, 0.8919625371349333, 0.8143693713058333, 0.8586844360966879]\n"
     ]
    },
    {
     "name": "stderr",
     "output_type": "stream",
     "text": [
      "  0%|          | 0/195 [00:19<?, ?it/s]51:26,  9.37it/s]   \n",
      "  0%|          | 0/15 [00:10<?, ?it/s]\n",
      " 71%|███████   | 71101/100001 [2:32:59<52:07,  9.24it/s]"
     ]
    },
    {
     "name": "stdout",
     "output_type": "stream",
     "text": [
      "GAN: loss d: 0.06842    loss g: -1.78348\n"
     ]
    },
    {
     "name": "stderr",
     "output_type": "stream",
     "text": [
      " 71%|███████   | 71201/100001 [2:33:10<52:20,  9.17it/s]"
     ]
    },
    {
     "name": "stdout",
     "output_type": "stream",
     "text": [
      "GAN: loss d: 3.92725    loss g: -2.40865\n"
     ]
    },
    {
     "name": "stderr",
     "output_type": "stream",
     "text": [
      " 71%|███████▏  | 71303/100001 [2:33:20<50:22,  9.49it/s]"
     ]
    },
    {
     "name": "stdout",
     "output_type": "stream",
     "text": [
      "GAN: loss d: 1.39261    loss g: -2.87749\n"
     ]
    },
    {
     "name": "stderr",
     "output_type": "stream",
     "text": [
      " 71%|███████▏  | 71401/100001 [2:33:31<53:23,  8.93it/s]"
     ]
    },
    {
     "name": "stdout",
     "output_type": "stream",
     "text": [
      "GAN: loss d: 3.82241    loss g: -2.26460\n"
     ]
    },
    {
     "name": "stderr",
     "output_type": "stream",
     "text": [
      " 72%|███████▏  | 71501/100001 [2:33:42<52:40,  9.02it/s]"
     ]
    },
    {
     "name": "stdout",
     "output_type": "stream",
     "text": [
      "GAN: loss d: 4.01940    loss g: -1.36374\n"
     ]
    },
    {
     "name": "stderr",
     "output_type": "stream",
     "text": [
      " 72%|███████▏  | 71603/100001 [2:33:52<49:09,  9.63it/s]"
     ]
    },
    {
     "name": "stdout",
     "output_type": "stream",
     "text": [
      "GAN: loss d: 2.78098    loss g: -1.59270\n"
     ]
    },
    {
     "name": "stderr",
     "output_type": "stream",
     "text": [
      " 72%|███████▏  | 71703/100001 [2:34:03<49:57,  9.44it/s]"
     ]
    },
    {
     "name": "stdout",
     "output_type": "stream",
     "text": [
      "GAN: loss d: 2.62567    loss g: -2.58705\n"
     ]
    },
    {
     "name": "stderr",
     "output_type": "stream",
     "text": [
      " 72%|███████▏  | 71801/100001 [2:34:13<51:59,  9.04it/s]"
     ]
    },
    {
     "name": "stdout",
     "output_type": "stream",
     "text": [
      "GAN: loss d: -0.10233    loss g: -1.51079\n"
     ]
    },
    {
     "name": "stderr",
     "output_type": "stream",
     "text": [
      " 72%|███████▏  | 71903/100001 [2:34:24<49:18,  9.50it/s]"
     ]
    },
    {
     "name": "stdout",
     "output_type": "stream",
     "text": [
      "GAN: loss d: 0.66765    loss g: -2.52688\n"
     ]
    },
    {
     "name": "stderr",
     "output_type": "stream",
     "text": [
      " 72%|███████▏  | 72000/100001 [2:34:34<49:25,  9.44it/s]"
     ]
    },
    {
     "name": "stdout",
     "output_type": "stream",
     "text": [
      "GAN: loss d: 3.17364    loss g: -2.41564\n",
      "saving current model\n"
     ]
    },
    {
     "name": "stderr",
     "output_type": "stream",
     "text": [
      "\n",
      "  0%|          | 0/195 [00:00<?, ?it/s]\u001b[A"
     ]
    },
    {
     "name": "stdout",
     "output_type": "stream",
     "text": [
      "Number of real images: 6252\n"
     ]
    },
    {
     "name": "stderr",
     "output_type": "stream",
     "text": [
      "\n",
      "\n",
      "  0%|          | 0/15 [00:00<?, ?it/s]\u001b[A\u001b[A"
     ]
    },
    {
     "name": "stdout",
     "output_type": "stream",
     "text": [
      "Number of synthetic images: 500\n"
     ]
    },
    {
     "name": "stderr",
     "output_type": "stream",
     "text": [
      " 72%|███████▏  | 72001/100001 [2:34:56<50:19:32,  6.47s/it]"
     ]
    },
    {
     "name": "stdout",
     "output_type": "stream",
     "text": [
      "Current fid score: 0.8256128930717352\n",
      "Fid scores: [4.781169086965528, 2.5563023530045648, 2.463046801314256, 2.4992711961120584, 2.218550049566371, 2.964950268119857, 3.4702528654377076, 2.613245115961785, 2.34790911689727, 2.6919041220970037, 2.3144257756644073, 2.3240966003506536, 1.993653403354564, 2.697158487724515, 1.7994096039010472, 2.91434783406185, 2.7811489268397516, 2.2334427836959794, 2.2575362052527765, 2.130950188976346, 2.15637473746202, 2.4389161668575845, 2.2519582703541623, 2.1827718797205335, 2.3576301559437454, 2.6942066386249337, 2.6747271169665723, 2.8508206571304022, 2.837364124793419, 2.920850907282844, 2.6905573257954796, 1.3344332586511385, 2.1663599865511003, 0.855827226287527, 0.7591339506391392, 1.0899071055671108, 1.556975725398381, 1.6322229933262378, 1.4239017743813775, 1.5249018576080395, 1.2095302975349256, 0.8666642624319927, 1.061769574879687, 1.0549228395687074, 0.8332865353009247, 1.4093295915717334, 0.8253746464537564, 1.0501828097794572, 0.753537841488491, 0.9101388104903059, 0.8306977745111297, 1.0361210015169284, 0.8622839615512738, 1.0211583963511188, 1.0494697313231427, 0.7210932457566237, 1.1723560449956096, 1.6164965744993367, 1.768061074180352, 2.2152855954706574, 2.1226241732258586, 0.6317119417673425, 1.2031446041186733, 1.037733761688667, 1.0837845443159715, 0.9380651985760089, 0.9150319052622109, 0.808499389931665, 0.799970201460674, 0.8919625371349333, 0.8143693713058333, 0.8586844360966879, 0.8256128930717352]\n"
     ]
    },
    {
     "name": "stderr",
     "output_type": "stream",
     "text": [
      "  0%|          | 0/195 [00:15<?, ?it/s]50:15,  9.27it/s]   \n",
      "  0%|          | 0/15 [00:05<?, ?it/s]\n",
      " 72%|███████▏  | 72103/100001 [2:35:06<48:23,  9.61it/s]"
     ]
    },
    {
     "name": "stdout",
     "output_type": "stream",
     "text": [
      "GAN: loss d: 3.44804    loss g: -2.05577\n"
     ]
    },
    {
     "name": "stderr",
     "output_type": "stream",
     "text": [
      " 72%|███████▏  | 72201/100001 [2:35:17<50:04,  9.25it/s]"
     ]
    },
    {
     "name": "stdout",
     "output_type": "stream",
     "text": [
      "GAN: loss d: 4.42777    loss g: -2.25580\n"
     ]
    },
    {
     "name": "stderr",
     "output_type": "stream",
     "text": [
      " 72%|███████▏  | 72303/100001 [2:35:27<48:49,  9.45it/s]"
     ]
    },
    {
     "name": "stdout",
     "output_type": "stream",
     "text": [
      "GAN: loss d: 2.76025    loss g: -2.81913\n"
     ]
    },
    {
     "name": "stderr",
     "output_type": "stream",
     "text": [
      " 72%|███████▏  | 72403/100001 [2:35:38<47:20,  9.71it/s]"
     ]
    },
    {
     "name": "stdout",
     "output_type": "stream",
     "text": [
      "GAN: loss d: 3.48319    loss g: -2.41220\n"
     ]
    },
    {
     "name": "stderr",
     "output_type": "stream",
     "text": [
      " 73%|███████▎  | 72503/100001 [2:35:49<48:02,  9.54it/s]"
     ]
    },
    {
     "name": "stdout",
     "output_type": "stream",
     "text": [
      "GAN: loss d: 3.69640    loss g: -2.21884\n"
     ]
    },
    {
     "name": "stderr",
     "output_type": "stream",
     "text": [
      " 73%|███████▎  | 72601/100001 [2:35:59<50:43,  9.00it/s]"
     ]
    },
    {
     "name": "stdout",
     "output_type": "stream",
     "text": [
      "GAN: loss d: 2.16334    loss g: -1.39843\n"
     ]
    },
    {
     "name": "stderr",
     "output_type": "stream",
     "text": [
      " 73%|███████▎  | 72703/100001 [2:36:10<47:50,  9.51it/s]"
     ]
    },
    {
     "name": "stdout",
     "output_type": "stream",
     "text": [
      "GAN: loss d: 2.03386    loss g: -2.37881\n"
     ]
    },
    {
     "name": "stderr",
     "output_type": "stream",
     "text": [
      " 73%|███████▎  | 72803/100001 [2:36:20<47:32,  9.54it/s]"
     ]
    },
    {
     "name": "stdout",
     "output_type": "stream",
     "text": [
      "GAN: loss d: 4.29108    loss g: -2.50427\n"
     ]
    },
    {
     "name": "stderr",
     "output_type": "stream",
     "text": [
      " 73%|███████▎  | 72903/100001 [2:36:31<47:08,  9.58it/s]"
     ]
    },
    {
     "name": "stdout",
     "output_type": "stream",
     "text": [
      "GAN: loss d: 3.79690    loss g: -2.11599\n"
     ]
    },
    {
     "name": "stderr",
     "output_type": "stream",
     "text": [
      " 73%|███████▎  | 73000/100001 [2:36:41<48:01,  9.37it/s]"
     ]
    },
    {
     "name": "stdout",
     "output_type": "stream",
     "text": [
      "GAN: loss d: 2.01308    loss g: -2.06731\n",
      "saving current model\n"
     ]
    },
    {
     "name": "stderr",
     "output_type": "stream",
     "text": [
      "\n",
      "  0%|          | 0/195 [00:00<?, ?it/s]\u001b[A"
     ]
    },
    {
     "name": "stdout",
     "output_type": "stream",
     "text": [
      "Number of real images: 6252\n"
     ]
    },
    {
     "name": "stderr",
     "output_type": "stream",
     "text": [
      "\n",
      "\n",
      "  0%|          | 0/15 [00:00<?, ?it/s]\u001b[A\u001b[A"
     ]
    },
    {
     "name": "stdout",
     "output_type": "stream",
     "text": [
      "Number of synthetic images: 500\n"
     ]
    },
    {
     "name": "stderr",
     "output_type": "stream",
     "text": [
      " 73%|███████▎  | 73001/100001 [2:37:03<49:14:34,  6.57s/it]"
     ]
    },
    {
     "name": "stdout",
     "output_type": "stream",
     "text": [
      "Current fid score: 0.8573169783381545\n",
      "Fid scores: [4.781169086965528, 2.5563023530045648, 2.463046801314256, 2.4992711961120584, 2.218550049566371, 2.964950268119857, 3.4702528654377076, 2.613245115961785, 2.34790911689727, 2.6919041220970037, 2.3144257756644073, 2.3240966003506536, 1.993653403354564, 2.697158487724515, 1.7994096039010472, 2.91434783406185, 2.7811489268397516, 2.2334427836959794, 2.2575362052527765, 2.130950188976346, 2.15637473746202, 2.4389161668575845, 2.2519582703541623, 2.1827718797205335, 2.3576301559437454, 2.6942066386249337, 2.6747271169665723, 2.8508206571304022, 2.837364124793419, 2.920850907282844, 2.6905573257954796, 1.3344332586511385, 2.1663599865511003, 0.855827226287527, 0.7591339506391392, 1.0899071055671108, 1.556975725398381, 1.6322229933262378, 1.4239017743813775, 1.5249018576080395, 1.2095302975349256, 0.8666642624319927, 1.061769574879687, 1.0549228395687074, 0.8332865353009247, 1.4093295915717334, 0.8253746464537564, 1.0501828097794572, 0.753537841488491, 0.9101388104903059, 0.8306977745111297, 1.0361210015169284, 0.8622839615512738, 1.0211583963511188, 1.0494697313231427, 0.7210932457566237, 1.1723560449956096, 1.6164965744993367, 1.768061074180352, 2.2152855954706574, 2.1226241732258586, 0.6317119417673425, 1.2031446041186733, 1.037733761688667, 1.0837845443159715, 0.9380651985760089, 0.9150319052622109, 0.808499389931665, 0.799970201460674, 0.8919625371349333, 0.8143693713058333, 0.8586844360966879, 0.8256128930717352, 0.8573169783381545]\n"
     ]
    },
    {
     "name": "stderr",
     "output_type": "stream",
     "text": [
      "  0%|          | 0/195 [00:11<?, ?it/s]15:15:54,  2.04s/it]\n",
      "  0%|          | 0/15 [00:01<?, ?it/s]\n",
      " 73%|███████▎  | 73103/100001 [2:37:14<46:52,  9.57it/s]   "
     ]
    },
    {
     "name": "stdout",
     "output_type": "stream",
     "text": [
      "GAN: loss d: 1.85907    loss g: -2.57519\n"
     ]
    },
    {
     "name": "stderr",
     "output_type": "stream",
     "text": [
      " 73%|███████▎  | 73201/100001 [2:37:24<49:31,  9.02it/s]"
     ]
    },
    {
     "name": "stdout",
     "output_type": "stream",
     "text": [
      "GAN: loss d: 2.80226    loss g: -2.20284\n"
     ]
    },
    {
     "name": "stderr",
     "output_type": "stream",
     "text": [
      " 73%|███████▎  | 73303/100001 [2:37:35<46:34,  9.55it/s]"
     ]
    },
    {
     "name": "stdout",
     "output_type": "stream",
     "text": [
      "GAN: loss d: 2.70009    loss g: -2.76296\n"
     ]
    },
    {
     "name": "stderr",
     "output_type": "stream",
     "text": [
      " 73%|███████▎  | 73403/100001 [2:37:46<46:17,  9.58it/s]"
     ]
    },
    {
     "name": "stdout",
     "output_type": "stream",
     "text": [
      "GAN: loss d: 4.84947    loss g: -2.12314\n"
     ]
    },
    {
     "name": "stderr",
     "output_type": "stream",
     "text": [
      " 74%|███████▎  | 73501/100001 [2:37:56<49:01,  9.01it/s]"
     ]
    },
    {
     "name": "stdout",
     "output_type": "stream",
     "text": [
      "GAN: loss d: 1.22319    loss g: -3.11796\n"
     ]
    },
    {
     "name": "stderr",
     "output_type": "stream",
     "text": [
      " 74%|███████▎  | 73603/100001 [2:38:07<46:07,  9.54it/s]"
     ]
    },
    {
     "name": "stdout",
     "output_type": "stream",
     "text": [
      "GAN: loss d: 2.70637    loss g: -2.70413\n"
     ]
    },
    {
     "name": "stderr",
     "output_type": "stream",
     "text": [
      " 74%|███████▎  | 73703/100001 [2:38:17<45:52,  9.56it/s]"
     ]
    },
    {
     "name": "stdout",
     "output_type": "stream",
     "text": [
      "GAN: loss d: 1.61799    loss g: -1.52612\n"
     ]
    },
    {
     "name": "stderr",
     "output_type": "stream",
     "text": [
      " 74%|███████▍  | 73803/100001 [2:38:28<45:56,  9.50it/s]"
     ]
    },
    {
     "name": "stdout",
     "output_type": "stream",
     "text": [
      "GAN: loss d: 4.08464    loss g: -1.91204\n"
     ]
    },
    {
     "name": "stderr",
     "output_type": "stream",
     "text": [
      " 74%|███████▍  | 73901/100001 [2:38:38<47:45,  9.11it/s]"
     ]
    },
    {
     "name": "stdout",
     "output_type": "stream",
     "text": [
      "GAN: loss d: 1.67520    loss g: -2.41747\n"
     ]
    },
    {
     "name": "stderr",
     "output_type": "stream",
     "text": [
      " 74%|███████▍  | 74000/100001 [2:38:49<46:20,  9.35it/s]"
     ]
    },
    {
     "name": "stdout",
     "output_type": "stream",
     "text": [
      "GAN: loss d: 3.95727    loss g: -2.52174\n",
      "saving current model\n"
     ]
    },
    {
     "name": "stderr",
     "output_type": "stream",
     "text": [
      "\n",
      "  0%|          | 0/195 [00:00<?, ?it/s]\u001b[A"
     ]
    },
    {
     "name": "stdout",
     "output_type": "stream",
     "text": [
      "Number of real images: 6252\n"
     ]
    },
    {
     "name": "stderr",
     "output_type": "stream",
     "text": [
      "\n",
      "\n",
      "  0%|          | 0/15 [00:00<?, ?it/s]\u001b[A\u001b[A"
     ]
    },
    {
     "name": "stdout",
     "output_type": "stream",
     "text": [
      "Number of synthetic images: 500\n"
     ]
    },
    {
     "name": "stderr",
     "output_type": "stream",
     "text": [
      " 74%|███████▍  | 74001/100001 [2:39:10<47:06:18,  6.52s/it]"
     ]
    },
    {
     "name": "stdout",
     "output_type": "stream",
     "text": [
      "Current fid score: 0.8552612111319675\n",
      "Fid scores: [4.781169086965528, 2.5563023530045648, 2.463046801314256, 2.4992711961120584, 2.218550049566371, 2.964950268119857, 3.4702528654377076, 2.613245115961785, 2.34790911689727, 2.6919041220970037, 2.3144257756644073, 2.3240966003506536, 1.993653403354564, 2.697158487724515, 1.7994096039010472, 2.91434783406185, 2.7811489268397516, 2.2334427836959794, 2.2575362052527765, 2.130950188976346, 2.15637473746202, 2.4389161668575845, 2.2519582703541623, 2.1827718797205335, 2.3576301559437454, 2.6942066386249337, 2.6747271169665723, 2.8508206571304022, 2.837364124793419, 2.920850907282844, 2.6905573257954796, 1.3344332586511385, 2.1663599865511003, 0.855827226287527, 0.7591339506391392, 1.0899071055671108, 1.556975725398381, 1.6322229933262378, 1.4239017743813775, 1.5249018576080395, 1.2095302975349256, 0.8666642624319927, 1.061769574879687, 1.0549228395687074, 0.8332865353009247, 1.4093295915717334, 0.8253746464537564, 1.0501828097794572, 0.753537841488491, 0.9101388104903059, 0.8306977745111297, 1.0361210015169284, 0.8622839615512738, 1.0211583963511188, 1.0494697313231427, 0.7210932457566237, 1.1723560449956096, 1.6164965744993367, 1.768061074180352, 2.2152855954706574, 2.1226241732258586, 0.6317119417673425, 1.2031446041186733, 1.037733761688667, 1.0837845443159715, 0.9380651985760089, 0.9150319052622109, 0.808499389931665, 0.799970201460674, 0.8919625371349333, 0.8143693713058333, 0.8586844360966879, 0.8256128930717352, 0.8573169783381545, 0.8552612111319675]\n"
     ]
    },
    {
     "name": "stderr",
     "output_type": "stream",
     "text": [
      "  0%|          | 0/195 [00:16<?, ?it/s]45:44,  9.46it/s]   \n",
      "  0%|          | 0/15 [00:06<?, ?it/s]\n",
      " 74%|███████▍  | 74103/100001 [2:39:21<45:17,  9.53it/s]"
     ]
    },
    {
     "name": "stdout",
     "output_type": "stream",
     "text": [
      "GAN: loss d: 2.36268    loss g: -2.54880\n"
     ]
    },
    {
     "name": "stderr",
     "output_type": "stream",
     "text": [
      " 74%|███████▍  | 74203/100001 [2:39:32<45:02,  9.55it/s]"
     ]
    },
    {
     "name": "stdout",
     "output_type": "stream",
     "text": [
      "GAN: loss d: 4.49515    loss g: -2.04077\n"
     ]
    },
    {
     "name": "stderr",
     "output_type": "stream",
     "text": [
      " 74%|███████▍  | 74303/100001 [2:39:42<44:45,  9.57it/s]"
     ]
    },
    {
     "name": "stdout",
     "output_type": "stream",
     "text": [
      "GAN: loss d: 2.64668    loss g: -1.97074\n"
     ]
    },
    {
     "name": "stderr",
     "output_type": "stream",
     "text": [
      " 74%|███████▍  | 74403/100001 [2:39:53<44:22,  9.61it/s]"
     ]
    },
    {
     "name": "stdout",
     "output_type": "stream",
     "text": [
      "GAN: loss d: 1.07423    loss g: -2.16809\n"
     ]
    },
    {
     "name": "stderr",
     "output_type": "stream",
     "text": [
      " 75%|███████▍  | 74503/100001 [2:40:03<44:00,  9.66it/s]"
     ]
    },
    {
     "name": "stdout",
     "output_type": "stream",
     "text": [
      "GAN: loss d: 3.28708    loss g: -1.91217\n"
     ]
    },
    {
     "name": "stderr",
     "output_type": "stream",
     "text": [
      " 75%|███████▍  | 74601/100001 [2:40:14<46:49,  9.04it/s]"
     ]
    },
    {
     "name": "stdout",
     "output_type": "stream",
     "text": [
      "GAN: loss d: 2.75679    loss g: -2.75561\n"
     ]
    },
    {
     "name": "stderr",
     "output_type": "stream",
     "text": [
      " 75%|███████▍  | 74703/100001 [2:40:24<43:51,  9.61it/s]"
     ]
    },
    {
     "name": "stdout",
     "output_type": "stream",
     "text": [
      "GAN: loss d: 2.39690    loss g: -2.35908\n"
     ]
    },
    {
     "name": "stderr",
     "output_type": "stream",
     "text": [
      " 75%|███████▍  | 74801/100001 [2:40:35<47:13,  8.89it/s]"
     ]
    },
    {
     "name": "stdout",
     "output_type": "stream",
     "text": [
      "GAN: loss d: -0.06931    loss g: -2.45480\n"
     ]
    },
    {
     "name": "stderr",
     "output_type": "stream",
     "text": [
      " 75%|███████▍  | 74903/100001 [2:40:46<44:22,  9.43it/s]"
     ]
    },
    {
     "name": "stdout",
     "output_type": "stream",
     "text": [
      "GAN: loss d: 2.35287    loss g: -2.43063\n"
     ]
    },
    {
     "name": "stderr",
     "output_type": "stream",
     "text": [
      " 75%|███████▍  | 75000/100001 [2:40:56<43:58,  9.48it/s]"
     ]
    },
    {
     "name": "stdout",
     "output_type": "stream",
     "text": [
      "GAN: loss d: 3.81054    loss g: -2.13793\n",
      "saving current model\n"
     ]
    },
    {
     "name": "stderr",
     "output_type": "stream",
     "text": [
      "\n",
      "  0%|          | 0/195 [00:00<?, ?it/s]\u001b[A"
     ]
    },
    {
     "name": "stdout",
     "output_type": "stream",
     "text": [
      "Number of real images: 6252\n"
     ]
    },
    {
     "name": "stderr",
     "output_type": "stream",
     "text": [
      "\n",
      "\n",
      "  0%|          | 0/15 [00:00<?, ?it/s]\u001b[A\u001b[A"
     ]
    },
    {
     "name": "stdout",
     "output_type": "stream",
     "text": [
      "Number of synthetic images: 500\n"
     ]
    },
    {
     "name": "stderr",
     "output_type": "stream",
     "text": [
      " 75%|███████▌  | 75001/100001 [2:41:18<45:55:03,  6.61s/it]"
     ]
    },
    {
     "name": "stdout",
     "output_type": "stream",
     "text": [
      "Current fid score: 0.7613616173214552\n",
      "Fid scores: [4.781169086965528, 2.5563023530045648, 2.463046801314256, 2.4992711961120584, 2.218550049566371, 2.964950268119857, 3.4702528654377076, 2.613245115961785, 2.34790911689727, 2.6919041220970037, 2.3144257756644073, 2.3240966003506536, 1.993653403354564, 2.697158487724515, 1.7994096039010472, 2.91434783406185, 2.7811489268397516, 2.2334427836959794, 2.2575362052527765, 2.130950188976346, 2.15637473746202, 2.4389161668575845, 2.2519582703541623, 2.1827718797205335, 2.3576301559437454, 2.6942066386249337, 2.6747271169665723, 2.8508206571304022, 2.837364124793419, 2.920850907282844, 2.6905573257954796, 1.3344332586511385, 2.1663599865511003, 0.855827226287527, 0.7591339506391392, 1.0899071055671108, 1.556975725398381, 1.6322229933262378, 1.4239017743813775, 1.5249018576080395, 1.2095302975349256, 0.8666642624319927, 1.061769574879687, 1.0549228395687074, 0.8332865353009247, 1.4093295915717334, 0.8253746464537564, 1.0501828097794572, 0.753537841488491, 0.9101388104903059, 0.8306977745111297, 1.0361210015169284, 0.8622839615512738, 1.0211583963511188, 1.0494697313231427, 0.7210932457566237, 1.1723560449956096, 1.6164965744993367, 1.768061074180352, 2.2152855954706574, 2.1226241732258586, 0.6317119417673425, 1.2031446041186733, 1.037733761688667, 1.0837845443159715, 0.9380651985760089, 0.9150319052622109, 0.808499389931665, 0.799970201460674, 0.8919625371349333, 0.8143693713058333, 0.8586844360966879, 0.8256128930717352, 0.8573169783381545, 0.8552612111319675, 0.7613616173214552]\n"
     ]
    },
    {
     "name": "stderr",
     "output_type": "stream",
     "text": [
      "  0%|          | 0/195 [00:11<?, ?it/s]19:01:07,  2.74s/it]\n",
      "  0%|          | 0/15 [00:01<?, ?it/s]\n",
      " 75%|███████▌  | 75103/100001 [2:41:29<43:10,  9.61it/s]   "
     ]
    },
    {
     "name": "stdout",
     "output_type": "stream",
     "text": [
      "GAN: loss d: 1.18765    loss g: -1.93162\n"
     ]
    },
    {
     "name": "stderr",
     "output_type": "stream",
     "text": [
      " 75%|███████▌  | 75201/100001 [2:41:39<45:10,  9.15it/s]"
     ]
    },
    {
     "name": "stdout",
     "output_type": "stream",
     "text": [
      "GAN: loss d: -0.06202    loss g: -2.42489\n"
     ]
    },
    {
     "name": "stderr",
     "output_type": "stream",
     "text": [
      " 75%|███████▌  | 75303/100001 [2:41:50<42:46,  9.62it/s]"
     ]
    },
    {
     "name": "stdout",
     "output_type": "stream",
     "text": [
      "GAN: loss d: 2.38304    loss g: -2.21551\n"
     ]
    },
    {
     "name": "stderr",
     "output_type": "stream",
     "text": [
      " 75%|███████▌  | 75403/100001 [2:42:00<43:26,  9.44it/s]"
     ]
    },
    {
     "name": "stdout",
     "output_type": "stream",
     "text": [
      "GAN: loss d: 3.86003    loss g: -1.94886\n"
     ]
    },
    {
     "name": "stderr",
     "output_type": "stream",
     "text": [
      " 76%|███████▌  | 75501/100001 [2:42:11<45:11,  9.03it/s]"
     ]
    },
    {
     "name": "stdout",
     "output_type": "stream",
     "text": [
      "GAN: loss d: 1.66405    loss g: -2.52049\n"
     ]
    },
    {
     "name": "stderr",
     "output_type": "stream",
     "text": [
      " 76%|███████▌  | 75601/100001 [2:42:21<45:56,  8.85it/s]"
     ]
    },
    {
     "name": "stdout",
     "output_type": "stream",
     "text": [
      "GAN: loss d: 4.51518    loss g: -2.07119\n"
     ]
    },
    {
     "name": "stderr",
     "output_type": "stream",
     "text": [
      " 76%|███████▌  | 75701/100001 [2:42:32<44:46,  9.05it/s]"
     ]
    },
    {
     "name": "stdout",
     "output_type": "stream",
     "text": [
      "GAN: loss d: 3.36528    loss g: -2.28620\n"
     ]
    },
    {
     "name": "stderr",
     "output_type": "stream",
     "text": [
      " 76%|███████▌  | 75803/100001 [2:42:43<41:39,  9.68it/s]"
     ]
    },
    {
     "name": "stdout",
     "output_type": "stream",
     "text": [
      "GAN: loss d: 2.30336    loss g: -1.85562\n"
     ]
    },
    {
     "name": "stderr",
     "output_type": "stream",
     "text": [
      " 76%|███████▌  | 75903/100001 [2:42:53<41:50,  9.60it/s]"
     ]
    },
    {
     "name": "stdout",
     "output_type": "stream",
     "text": [
      "GAN: loss d: 4.54063    loss g: -2.40568\n"
     ]
    },
    {
     "name": "stderr",
     "output_type": "stream",
     "text": [
      " 76%|███████▌  | 76000/100001 [2:43:03<41:48,  9.57it/s]"
     ]
    },
    {
     "name": "stdout",
     "output_type": "stream",
     "text": [
      "GAN: loss d: 4.99626    loss g: -2.66970\n",
      "saving current model\n"
     ]
    },
    {
     "name": "stderr",
     "output_type": "stream",
     "text": [
      "\n",
      "  0%|          | 0/195 [00:00<?, ?it/s]\u001b[A"
     ]
    },
    {
     "name": "stdout",
     "output_type": "stream",
     "text": [
      "Number of real images: 6252\n"
     ]
    },
    {
     "name": "stderr",
     "output_type": "stream",
     "text": [
      "\n",
      "\n",
      "  0%|          | 0/15 [00:00<?, ?it/s]\u001b[A\u001b[A"
     ]
    },
    {
     "name": "stdout",
     "output_type": "stream",
     "text": [
      "Number of synthetic images: 500\n"
     ]
    },
    {
     "name": "stderr",
     "output_type": "stream",
     "text": [
      " 76%|███████▌  | 76001/100001 [2:43:25<43:24:54,  6.51s/it]"
     ]
    },
    {
     "name": "stdout",
     "output_type": "stream",
     "text": [
      "Current fid score: 0.6842404076214379\n",
      "Fid scores: [4.781169086965528, 2.5563023530045648, 2.463046801314256, 2.4992711961120584, 2.218550049566371, 2.964950268119857, 3.4702528654377076, 2.613245115961785, 2.34790911689727, 2.6919041220970037, 2.3144257756644073, 2.3240966003506536, 1.993653403354564, 2.697158487724515, 1.7994096039010472, 2.91434783406185, 2.7811489268397516, 2.2334427836959794, 2.2575362052527765, 2.130950188976346, 2.15637473746202, 2.4389161668575845, 2.2519582703541623, 2.1827718797205335, 2.3576301559437454, 2.6942066386249337, 2.6747271169665723, 2.8508206571304022, 2.837364124793419, 2.920850907282844, 2.6905573257954796, 1.3344332586511385, 2.1663599865511003, 0.855827226287527, 0.7591339506391392, 1.0899071055671108, 1.556975725398381, 1.6322229933262378, 1.4239017743813775, 1.5249018576080395, 1.2095302975349256, 0.8666642624319927, 1.061769574879687, 1.0549228395687074, 0.8332865353009247, 1.4093295915717334, 0.8253746464537564, 1.0501828097794572, 0.753537841488491, 0.9101388104903059, 0.8306977745111297, 1.0361210015169284, 0.8622839615512738, 1.0211583963511188, 1.0494697313231427, 0.7210932457566237, 1.1723560449956096, 1.6164965744993367, 1.768061074180352, 2.2152855954706574, 2.1226241732258586, 0.6317119417673425, 1.2031446041186733, 1.037733761688667, 1.0837845443159715, 0.9380651985760089, 0.9150319052622109, 0.808499389931665, 0.799970201460674, 0.8919625371349333, 0.8143693713058333, 0.8586844360966879, 0.8256128930717352, 0.8573169783381545, 0.8552612111319675, 0.7613616173214552, 0.6842404076214379]\n"
     ]
    },
    {
     "name": "stderr",
     "output_type": "stream",
     "text": [
      "  0%|          | 0/195 [00:16<?, ?it/s]43:38,  9.15it/s]   \n",
      "  0%|          | 0/15 [00:06<?, ?it/s]\n",
      " 76%|███████▌  | 76103/100001 [2:43:36<41:47,  9.53it/s]"
     ]
    },
    {
     "name": "stdout",
     "output_type": "stream",
     "text": [
      "GAN: loss d: 1.24304    loss g: -3.52853\n"
     ]
    },
    {
     "name": "stderr",
     "output_type": "stream",
     "text": [
      " 76%|███████▌  | 76203/100001 [2:43:46<41:40,  9.52it/s]"
     ]
    },
    {
     "name": "stdout",
     "output_type": "stream",
     "text": [
      "GAN: loss d: 2.24996    loss g: -2.33179\n"
     ]
    },
    {
     "name": "stderr",
     "output_type": "stream",
     "text": [
      " 76%|███████▋  | 76303/100001 [2:43:57<41:10,  9.59it/s]"
     ]
    },
    {
     "name": "stdout",
     "output_type": "stream",
     "text": [
      "GAN: loss d: 3.93162    loss g: -2.70498\n"
     ]
    },
    {
     "name": "stderr",
     "output_type": "stream",
     "text": [
      " 76%|███████▋  | 76403/100001 [2:44:07<41:20,  9.51it/s]"
     ]
    },
    {
     "name": "stdout",
     "output_type": "stream",
     "text": [
      "GAN: loss d: 1.85102    loss g: -2.28974\n"
     ]
    },
    {
     "name": "stderr",
     "output_type": "stream",
     "text": [
      " 77%|███████▋  | 76501/100001 [2:44:18<43:50,  8.93it/s]"
     ]
    },
    {
     "name": "stdout",
     "output_type": "stream",
     "text": [
      "GAN: loss d: 1.69117    loss g: -2.77612\n"
     ]
    },
    {
     "name": "stderr",
     "output_type": "stream",
     "text": [
      " 77%|███████▋  | 76603/100001 [2:44:29<41:00,  9.51it/s]"
     ]
    },
    {
     "name": "stdout",
     "output_type": "stream",
     "text": [
      "GAN: loss d: 2.11086    loss g: -1.84068\n"
     ]
    },
    {
     "name": "stderr",
     "output_type": "stream",
     "text": [
      " 77%|███████▋  | 76701/100001 [2:44:39<42:30,  9.14it/s]"
     ]
    },
    {
     "name": "stdout",
     "output_type": "stream",
     "text": [
      "GAN: loss d: 5.01067    loss g: -2.21466\n"
     ]
    },
    {
     "name": "stderr",
     "output_type": "stream",
     "text": [
      " 77%|███████▋  | 76801/100001 [2:44:50<42:26,  9.11it/s]"
     ]
    },
    {
     "name": "stdout",
     "output_type": "stream",
     "text": [
      "GAN: loss d: 3.63653    loss g: -2.28063\n"
     ]
    },
    {
     "name": "stderr",
     "output_type": "stream",
     "text": [
      " 77%|███████▋  | 76903/100001 [2:45:01<40:48,  9.43it/s]"
     ]
    },
    {
     "name": "stdout",
     "output_type": "stream",
     "text": [
      "GAN: loss d: 1.59273    loss g: -2.47215\n"
     ]
    },
    {
     "name": "stderr",
     "output_type": "stream",
     "text": [
      " 77%|███████▋  | 77000/100001 [2:45:11<41:36,  9.21it/s]"
     ]
    },
    {
     "name": "stdout",
     "output_type": "stream",
     "text": [
      "GAN: loss d: 2.45216    loss g: -1.96692\n",
      "saving current model\n"
     ]
    },
    {
     "name": "stderr",
     "output_type": "stream",
     "text": [
      "\n",
      "  0%|          | 0/195 [00:00<?, ?it/s]\u001b[A"
     ]
    },
    {
     "name": "stdout",
     "output_type": "stream",
     "text": [
      "Number of real images: 6252\n"
     ]
    },
    {
     "name": "stderr",
     "output_type": "stream",
     "text": [
      "\n",
      "\n",
      "  0%|          | 0/15 [00:00<?, ?it/s]\u001b[A\u001b[A"
     ]
    },
    {
     "name": "stdout",
     "output_type": "stream",
     "text": [
      "Number of synthetic images: 500\n"
     ]
    },
    {
     "name": "stderr",
     "output_type": "stream",
     "text": [
      " 77%|███████▋  | 77001/100001 [2:45:32<41:40:02,  6.52s/it]"
     ]
    },
    {
     "name": "stdout",
     "output_type": "stream",
     "text": [
      "Current fid score: 0.6530841946693293\n",
      "Fid scores: [4.781169086965528, 2.5563023530045648, 2.463046801314256, 2.4992711961120584, 2.218550049566371, 2.964950268119857, 3.4702528654377076, 2.613245115961785, 2.34790911689727, 2.6919041220970037, 2.3144257756644073, 2.3240966003506536, 1.993653403354564, 2.697158487724515, 1.7994096039010472, 2.91434783406185, 2.7811489268397516, 2.2334427836959794, 2.2575362052527765, 2.130950188976346, 2.15637473746202, 2.4389161668575845, 2.2519582703541623, 2.1827718797205335, 2.3576301559437454, 2.6942066386249337, 2.6747271169665723, 2.8508206571304022, 2.837364124793419, 2.920850907282844, 2.6905573257954796, 1.3344332586511385, 2.1663599865511003, 0.855827226287527, 0.7591339506391392, 1.0899071055671108, 1.556975725398381, 1.6322229933262378, 1.4239017743813775, 1.5249018576080395, 1.2095302975349256, 0.8666642624319927, 1.061769574879687, 1.0549228395687074, 0.8332865353009247, 1.4093295915717334, 0.8253746464537564, 1.0501828097794572, 0.753537841488491, 0.9101388104903059, 0.8306977745111297, 1.0361210015169284, 0.8622839615512738, 1.0211583963511188, 1.0494697313231427, 0.7210932457566237, 1.1723560449956096, 1.6164965744993367, 1.768061074180352, 2.2152855954706574, 2.1226241732258586, 0.6317119417673425, 1.2031446041186733, 1.037733761688667, 1.0837845443159715, 0.9380651985760089, 0.9150319052622109, 0.808499389931665, 0.799970201460674, 0.8919625371349333, 0.8143693713058333, 0.8586844360966879, 0.8256128930717352, 0.8573169783381545, 0.8552612111319675, 0.7613616173214552, 0.6842404076214379, 0.6530841946693293]\n"
     ]
    },
    {
     "name": "stderr",
     "output_type": "stream",
     "text": [
      "  0%|          | 0/195 [00:11<?, ?it/s]17:15:24,  2.70s/it]\n",
      "  0%|          | 0/15 [00:01<?, ?it/s]\n",
      " 77%|███████▋  | 77103/100001 [2:45:43<39:08,  9.75it/s]   "
     ]
    },
    {
     "name": "stdout",
     "output_type": "stream",
     "text": [
      "GAN: loss d: 1.74850    loss g: -2.40332\n"
     ]
    },
    {
     "name": "stderr",
     "output_type": "stream",
     "text": [
      " 77%|███████▋  | 77203/100001 [2:45:54<39:27,  9.63it/s]"
     ]
    },
    {
     "name": "stdout",
     "output_type": "stream",
     "text": [
      "GAN: loss d: 2.04256    loss g: -2.58525\n"
     ]
    },
    {
     "name": "stderr",
     "output_type": "stream",
     "text": [
      " 77%|███████▋  | 77301/100001 [2:46:04<40:57,  9.24it/s]"
     ]
    },
    {
     "name": "stdout",
     "output_type": "stream",
     "text": [
      "GAN: loss d: 1.98609    loss g: -2.26686\n"
     ]
    },
    {
     "name": "stderr",
     "output_type": "stream",
     "text": [
      " 77%|███████▋  | 77403/100001 [2:46:15<39:29,  9.54it/s]"
     ]
    },
    {
     "name": "stdout",
     "output_type": "stream",
     "text": [
      "GAN: loss d: 2.26093    loss g: -1.61531\n"
     ]
    },
    {
     "name": "stderr",
     "output_type": "stream",
     "text": [
      " 78%|███████▊  | 77501/100001 [2:46:25<40:54,  9.17it/s]"
     ]
    },
    {
     "name": "stdout",
     "output_type": "stream",
     "text": [
      "GAN: loss d: 3.68714    loss g: -1.93710\n"
     ]
    },
    {
     "name": "stderr",
     "output_type": "stream",
     "text": [
      " 78%|███████▊  | 77603/100001 [2:46:36<39:31,  9.45it/s]"
     ]
    },
    {
     "name": "stdout",
     "output_type": "stream",
     "text": [
      "GAN: loss d: 4.50041    loss g: -2.73181\n"
     ]
    },
    {
     "name": "stderr",
     "output_type": "stream",
     "text": [
      " 78%|███████▊  | 77703/100001 [2:46:47<39:20,  9.45it/s]"
     ]
    },
    {
     "name": "stdout",
     "output_type": "stream",
     "text": [
      "GAN: loss d: 3.21488    loss g: -2.75389\n"
     ]
    },
    {
     "name": "stderr",
     "output_type": "stream",
     "text": [
      " 78%|███████▊  | 77803/100001 [2:46:57<38:16,  9.67it/s]"
     ]
    },
    {
     "name": "stdout",
     "output_type": "stream",
     "text": [
      "GAN: loss d: 2.97236    loss g: -1.76732\n"
     ]
    },
    {
     "name": "stderr",
     "output_type": "stream",
     "text": [
      " 78%|███████▊  | 77903/100001 [2:47:08<38:09,  9.65it/s]"
     ]
    },
    {
     "name": "stdout",
     "output_type": "stream",
     "text": [
      "GAN: loss d: 1.14764    loss g: -1.70624\n"
     ]
    },
    {
     "name": "stderr",
     "output_type": "stream",
     "text": [
      " 78%|███████▊  | 78000/100001 [2:47:18<38:35,  9.50it/s]"
     ]
    },
    {
     "name": "stdout",
     "output_type": "stream",
     "text": [
      "GAN: loss d: 4.98769    loss g: -1.91539\n",
      "saving current model\n"
     ]
    },
    {
     "name": "stderr",
     "output_type": "stream",
     "text": [
      "\n",
      "  0%|          | 0/195 [00:00<?, ?it/s]\u001b[A"
     ]
    },
    {
     "name": "stdout",
     "output_type": "stream",
     "text": [
      "Number of real images: 6252\n"
     ]
    },
    {
     "name": "stderr",
     "output_type": "stream",
     "text": [
      "\n",
      "\n",
      "  0%|          | 0/15 [00:00<?, ?it/s]\u001b[A\u001b[A"
     ]
    },
    {
     "name": "stdout",
     "output_type": "stream",
     "text": [
      "Number of synthetic images: 500\n"
     ]
    },
    {
     "name": "stderr",
     "output_type": "stream",
     "text": [
      " 78%|███████▊  | 78001/100001 [2:47:39<39:30:01,  6.46s/it]"
     ]
    },
    {
     "name": "stdout",
     "output_type": "stream",
     "text": [
      "Current fid score: 0.7431871029727688\n",
      "Fid scores: [4.781169086965528, 2.5563023530045648, 2.463046801314256, 2.4992711961120584, 2.218550049566371, 2.964950268119857, 3.4702528654377076, 2.613245115961785, 2.34790911689727, 2.6919041220970037, 2.3144257756644073, 2.3240966003506536, 1.993653403354564, 2.697158487724515, 1.7994096039010472, 2.91434783406185, 2.7811489268397516, 2.2334427836959794, 2.2575362052527765, 2.130950188976346, 2.15637473746202, 2.4389161668575845, 2.2519582703541623, 2.1827718797205335, 2.3576301559437454, 2.6942066386249337, 2.6747271169665723, 2.8508206571304022, 2.837364124793419, 2.920850907282844, 2.6905573257954796, 1.3344332586511385, 2.1663599865511003, 0.855827226287527, 0.7591339506391392, 1.0899071055671108, 1.556975725398381, 1.6322229933262378, 1.4239017743813775, 1.5249018576080395, 1.2095302975349256, 0.8666642624319927, 1.061769574879687, 1.0549228395687074, 0.8332865353009247, 1.4093295915717334, 0.8253746464537564, 1.0501828097794572, 0.753537841488491, 0.9101388104903059, 0.8306977745111297, 1.0361210015169284, 0.8622839615512738, 1.0211583963511188, 1.0494697313231427, 0.7210932457566237, 1.1723560449956096, 1.6164965744993367, 1.768061074180352, 2.2152855954706574, 2.1226241732258586, 0.6317119417673425, 1.2031446041186733, 1.037733761688667, 1.0837845443159715, 0.9380651985760089, 0.9150319052622109, 0.808499389931665, 0.799970201460674, 0.8919625371349333, 0.8143693713058333, 0.8586844360966879, 0.8256128930717352, 0.8573169783381545, 0.8552612111319675, 0.7613616173214552, 0.6842404076214379, 0.6530841946693293, 0.7431871029727688]\n"
     ]
    },
    {
     "name": "stderr",
     "output_type": "stream",
     "text": [
      "  0%|          | 0/195 [00:16<?, ?it/s]38:21,  9.53it/s]   \n",
      "  0%|          | 0/15 [00:06<?, ?it/s]\n",
      " 78%|███████▊  | 78103/100001 [2:47:50<38:06,  9.58it/s]"
     ]
    },
    {
     "name": "stdout",
     "output_type": "stream",
     "text": [
      "GAN: loss d: 3.30440    loss g: -1.41522\n"
     ]
    },
    {
     "name": "stderr",
     "output_type": "stream",
     "text": [
      " 78%|███████▊  | 78201/100001 [2:48:00<39:30,  9.20it/s]"
     ]
    },
    {
     "name": "stdout",
     "output_type": "stream",
     "text": [
      "GAN: loss d: 2.27901    loss g: -2.73360\n"
     ]
    },
    {
     "name": "stderr",
     "output_type": "stream",
     "text": [
      " 78%|███████▊  | 78303/100001 [2:48:11<38:08,  9.48it/s]"
     ]
    },
    {
     "name": "stdout",
     "output_type": "stream",
     "text": [
      "GAN: loss d: 1.65972    loss g: -1.70723\n"
     ]
    },
    {
     "name": "stderr",
     "output_type": "stream",
     "text": [
      " 78%|███████▊  | 78401/100001 [2:48:21<40:03,  8.99it/s]"
     ]
    },
    {
     "name": "stdout",
     "output_type": "stream",
     "text": [
      "GAN: loss d: 1.86029    loss g: -1.80460\n"
     ]
    },
    {
     "name": "stderr",
     "output_type": "stream",
     "text": [
      " 79%|███████▊  | 78503/100001 [2:48:32<38:05,  9.41it/s]"
     ]
    },
    {
     "name": "stdout",
     "output_type": "stream",
     "text": [
      "GAN: loss d: 3.01177    loss g: -2.67092\n"
     ]
    },
    {
     "name": "stderr",
     "output_type": "stream",
     "text": [
      " 79%|███████▊  | 78603/100001 [2:48:43<37:27,  9.52it/s]"
     ]
    },
    {
     "name": "stdout",
     "output_type": "stream",
     "text": [
      "GAN: loss d: 1.86595    loss g: -2.22311\n"
     ]
    },
    {
     "name": "stderr",
     "output_type": "stream",
     "text": [
      " 79%|███████▊  | 78703/100001 [2:48:53<36:37,  9.69it/s]"
     ]
    },
    {
     "name": "stdout",
     "output_type": "stream",
     "text": [
      "GAN: loss d: 2.42990    loss g: -2.64667\n"
     ]
    },
    {
     "name": "stderr",
     "output_type": "stream",
     "text": [
      " 79%|███████▉  | 78803/100001 [2:49:04<37:13,  9.49it/s]"
     ]
    },
    {
     "name": "stdout",
     "output_type": "stream",
     "text": [
      "GAN: loss d: 2.05028    loss g: -1.63158\n"
     ]
    },
    {
     "name": "stderr",
     "output_type": "stream",
     "text": [
      " 79%|███████▉  | 78903/100001 [2:49:15<36:50,  9.54it/s]"
     ]
    },
    {
     "name": "stdout",
     "output_type": "stream",
     "text": [
      "GAN: loss d: 1.82960    loss g: -2.19100\n"
     ]
    },
    {
     "name": "stderr",
     "output_type": "stream",
     "text": [
      " 79%|███████▉  | 79000/100001 [2:49:25<37:24,  9.36it/s]"
     ]
    },
    {
     "name": "stdout",
     "output_type": "stream",
     "text": [
      "GAN: loss d: 2.39359    loss g: -2.19644\n",
      "saving current model\n"
     ]
    },
    {
     "name": "stderr",
     "output_type": "stream",
     "text": [
      "\n",
      "  0%|          | 0/195 [00:00<?, ?it/s]\u001b[A"
     ]
    },
    {
     "name": "stdout",
     "output_type": "stream",
     "text": [
      "Number of real images: 6252\n"
     ]
    },
    {
     "name": "stderr",
     "output_type": "stream",
     "text": [
      "\n",
      "\n",
      "  0%|          | 0/15 [00:00<?, ?it/s]\u001b[A\u001b[A"
     ]
    },
    {
     "name": "stdout",
     "output_type": "stream",
     "text": [
      "Number of synthetic images: 500\n"
     ]
    },
    {
     "name": "stderr",
     "output_type": "stream",
     "text": [
      " 79%|███████▉  | 79001/100001 [2:49:47<38:29:38,  6.60s/it]"
     ]
    },
    {
     "name": "stdout",
     "output_type": "stream",
     "text": [
      "Current fid score: 0.8513702442009361\n",
      "Fid scores: [4.781169086965528, 2.5563023530045648, 2.463046801314256, 2.4992711961120584, 2.218550049566371, 2.964950268119857, 3.4702528654377076, 2.613245115961785, 2.34790911689727, 2.6919041220970037, 2.3144257756644073, 2.3240966003506536, 1.993653403354564, 2.697158487724515, 1.7994096039010472, 2.91434783406185, 2.7811489268397516, 2.2334427836959794, 2.2575362052527765, 2.130950188976346, 2.15637473746202, 2.4389161668575845, 2.2519582703541623, 2.1827718797205335, 2.3576301559437454, 2.6942066386249337, 2.6747271169665723, 2.8508206571304022, 2.837364124793419, 2.920850907282844, 2.6905573257954796, 1.3344332586511385, 2.1663599865511003, 0.855827226287527, 0.7591339506391392, 1.0899071055671108, 1.556975725398381, 1.6322229933262378, 1.4239017743813775, 1.5249018576080395, 1.2095302975349256, 0.8666642624319927, 1.061769574879687, 1.0549228395687074, 0.8332865353009247, 1.4093295915717334, 0.8253746464537564, 1.0501828097794572, 0.753537841488491, 0.9101388104903059, 0.8306977745111297, 1.0361210015169284, 0.8622839615512738, 1.0211583963511188, 1.0494697313231427, 0.7210932457566237, 1.1723560449956096, 1.6164965744993367, 1.768061074180352, 2.2152855954706574, 2.1226241732258586, 0.6317119417673425, 1.2031446041186733, 1.037733761688667, 1.0837845443159715, 0.9380651985760089, 0.9150319052622109, 0.808499389931665, 0.799970201460674, 0.8919625371349333, 0.8143693713058333, 0.8586844360966879, 0.8256128930717352, 0.8573169783381545, 0.8552612111319675, 0.7613616173214552, 0.6842404076214379, 0.6530841946693293, 0.7431871029727688, 0.8513702442009361]\n"
     ]
    },
    {
     "name": "stderr",
     "output_type": "stream",
     "text": [
      "  0%|          | 0/195 [00:14<?, ?it/s]36:46,  9.50it/s]   \n",
      "  0%|          | 0/15 [00:05<?, ?it/s]\n",
      " 79%|███████▉  | 79103/100001 [2:49:57<35:53,  9.70it/s]"
     ]
    },
    {
     "name": "stdout",
     "output_type": "stream",
     "text": [
      "GAN: loss d: 3.53549    loss g: -2.09471\n"
     ]
    },
    {
     "name": "stderr",
     "output_type": "stream",
     "text": [
      " 79%|███████▉  | 79203/100001 [2:50:08<36:33,  9.48it/s]"
     ]
    },
    {
     "name": "stdout",
     "output_type": "stream",
     "text": [
      "GAN: loss d: 1.45318    loss g: -2.41642\n"
     ]
    },
    {
     "name": "stderr",
     "output_type": "stream",
     "text": [
      " 79%|███████▉  | 79301/100001 [2:50:18<38:19,  9.00it/s]"
     ]
    },
    {
     "name": "stdout",
     "output_type": "stream",
     "text": [
      "GAN: loss d: 3.43963    loss g: -1.99214\n"
     ]
    },
    {
     "name": "stderr",
     "output_type": "stream",
     "text": [
      " 79%|███████▉  | 79401/100001 [2:50:29<37:26,  9.17it/s]"
     ]
    },
    {
     "name": "stdout",
     "output_type": "stream",
     "text": [
      "GAN: loss d: 3.64425    loss g: -2.42516\n"
     ]
    },
    {
     "name": "stderr",
     "output_type": "stream",
     "text": [
      " 80%|███████▉  | 79503/100001 [2:50:40<35:20,  9.67it/s]"
     ]
    },
    {
     "name": "stdout",
     "output_type": "stream",
     "text": [
      "GAN: loss d: 0.02251    loss g: -2.60714\n"
     ]
    },
    {
     "name": "stderr",
     "output_type": "stream",
     "text": [
      " 80%|███████▉  | 79603/100001 [2:50:50<35:50,  9.49it/s]"
     ]
    },
    {
     "name": "stdout",
     "output_type": "stream",
     "text": [
      "GAN: loss d: 1.65135    loss g: -1.70488\n"
     ]
    },
    {
     "name": "stderr",
     "output_type": "stream",
     "text": [
      " 80%|███████▉  | 79701/100001 [2:51:00<37:45,  8.96it/s]"
     ]
    },
    {
     "name": "stdout",
     "output_type": "stream",
     "text": [
      "GAN: loss d: 3.17680    loss g: -1.58834\n"
     ]
    },
    {
     "name": "stderr",
     "output_type": "stream",
     "text": [
      " 80%|███████▉  | 79801/100001 [2:51:11<36:43,  9.17it/s]"
     ]
    },
    {
     "name": "stdout",
     "output_type": "stream",
     "text": [
      "GAN: loss d: 3.78669    loss g: -2.31750\n"
     ]
    },
    {
     "name": "stderr",
     "output_type": "stream",
     "text": [
      " 80%|███████▉  | 79903/100001 [2:51:22<34:44,  9.64it/s]"
     ]
    },
    {
     "name": "stdout",
     "output_type": "stream",
     "text": [
      "GAN: loss d: 3.25683    loss g: -1.98159\n"
     ]
    },
    {
     "name": "stderr",
     "output_type": "stream",
     "text": [
      " 80%|███████▉  | 80000/100001 [2:51:32<35:25,  9.41it/s]"
     ]
    },
    {
     "name": "stdout",
     "output_type": "stream",
     "text": [
      "GAN: loss d: 3.15694    loss g: -2.51738\n",
      "saving current model\n"
     ]
    },
    {
     "name": "stderr",
     "output_type": "stream",
     "text": [
      "\n",
      "  0%|          | 0/195 [00:00<?, ?it/s]\u001b[A"
     ]
    },
    {
     "name": "stdout",
     "output_type": "stream",
     "text": [
      "Number of real images: 6252\n"
     ]
    },
    {
     "name": "stderr",
     "output_type": "stream",
     "text": [
      "\n",
      "\n",
      "  0%|          | 0/15 [00:00<?, ?it/s]\u001b[A\u001b[A"
     ]
    },
    {
     "name": "stdout",
     "output_type": "stream",
     "text": [
      "Number of synthetic images: 500\n"
     ]
    },
    {
     "name": "stderr",
     "output_type": "stream",
     "text": [
      " 80%|████████  | 80003/100001 [2:51:54<19:47:50,  3.56s/it]"
     ]
    },
    {
     "name": "stdout",
     "output_type": "stream",
     "text": [
      "Current fid score: 0.7277033269998512\n",
      "Fid scores: [4.781169086965528, 2.5563023530045648, 2.463046801314256, 2.4992711961120584, 2.218550049566371, 2.964950268119857, 3.4702528654377076, 2.613245115961785, 2.34790911689727, 2.6919041220970037, 2.3144257756644073, 2.3240966003506536, 1.993653403354564, 2.697158487724515, 1.7994096039010472, 2.91434783406185, 2.7811489268397516, 2.2334427836959794, 2.2575362052527765, 2.130950188976346, 2.15637473746202, 2.4389161668575845, 2.2519582703541623, 2.1827718797205335, 2.3576301559437454, 2.6942066386249337, 2.6747271169665723, 2.8508206571304022, 2.837364124793419, 2.920850907282844, 2.6905573257954796, 1.3344332586511385, 2.1663599865511003, 0.855827226287527, 0.7591339506391392, 1.0899071055671108, 1.556975725398381, 1.6322229933262378, 1.4239017743813775, 1.5249018576080395, 1.2095302975349256, 0.8666642624319927, 1.061769574879687, 1.0549228395687074, 0.8332865353009247, 1.4093295915717334, 0.8253746464537564, 1.0501828097794572, 0.753537841488491, 0.9101388104903059, 0.8306977745111297, 1.0361210015169284, 0.8622839615512738, 1.0211583963511188, 1.0494697313231427, 0.7210932457566237, 1.1723560449956096, 1.6164965744993367, 1.768061074180352, 2.2152855954706574, 2.1226241732258586, 0.6317119417673425, 1.2031446041186733, 1.037733761688667, 1.0837845443159715, 0.9380651985760089, 0.9150319052622109, 0.808499389931665, 0.799970201460674, 0.8919625371349333, 0.8143693713058333, 0.8586844360966879, 0.8256128930717352, 0.8573169783381545, 0.8552612111319675, 0.7613616173214552, 0.6842404076214379, 0.6530841946693293, 0.7431871029727688, 0.8513702442009361, 0.7277033269998512]\n"
     ]
    },
    {
     "name": "stderr",
     "output_type": "stream",
     "text": [
      "  0%|          | 0/195 [00:19<?, ?it/s]34:47,  9.54it/s]   \n",
      "  0%|          | 0/15 [00:09<?, ?it/s]\n",
      " 80%|████████  | 80103/100001 [2:52:05<34:34,  9.59it/s]"
     ]
    },
    {
     "name": "stdout",
     "output_type": "stream",
     "text": [
      "GAN: loss d: 4.15281    loss g: -2.45115\n"
     ]
    },
    {
     "name": "stderr",
     "output_type": "stream",
     "text": [
      " 80%|████████  | 80203/100001 [2:52:15<34:00,  9.70it/s]"
     ]
    },
    {
     "name": "stdout",
     "output_type": "stream",
     "text": [
      "GAN: loss d: 1.28648    loss g: -2.23571\n"
     ]
    },
    {
     "name": "stderr",
     "output_type": "stream",
     "text": [
      " 80%|████████  | 80301/100001 [2:52:25<35:50,  9.16it/s]"
     ]
    },
    {
     "name": "stdout",
     "output_type": "stream",
     "text": [
      "GAN: loss d: 3.66719    loss g: -1.90189\n"
     ]
    },
    {
     "name": "stderr",
     "output_type": "stream",
     "text": [
      " 80%|████████  | 80401/100001 [2:52:36<35:48,  9.12it/s]"
     ]
    },
    {
     "name": "stdout",
     "output_type": "stream",
     "text": [
      "GAN: loss d: 2.27397    loss g: -1.98186\n"
     ]
    },
    {
     "name": "stderr",
     "output_type": "stream",
     "text": [
      " 81%|████████  | 80503/100001 [2:52:47<34:07,  9.52it/s]"
     ]
    },
    {
     "name": "stdout",
     "output_type": "stream",
     "text": [
      "GAN: loss d: 2.87973    loss g: -2.16553\n"
     ]
    },
    {
     "name": "stderr",
     "output_type": "stream",
     "text": [
      " 81%|████████  | 80603/100001 [2:52:57<33:28,  9.66it/s]"
     ]
    },
    {
     "name": "stdout",
     "output_type": "stream",
     "text": [
      "GAN: loss d: 3.12055    loss g: -2.71995\n"
     ]
    },
    {
     "name": "stderr",
     "output_type": "stream",
     "text": [
      " 81%|████████  | 80701/100001 [2:53:08<35:59,  8.94it/s]"
     ]
    },
    {
     "name": "stdout",
     "output_type": "stream",
     "text": [
      "GAN: loss d: 1.53937    loss g: -2.93605\n"
     ]
    },
    {
     "name": "stderr",
     "output_type": "stream",
     "text": [
      " 81%|████████  | 80803/100001 [2:53:19<33:14,  9.62it/s]"
     ]
    },
    {
     "name": "stdout",
     "output_type": "stream",
     "text": [
      "GAN: loss d: 3.80315    loss g: -2.76146\n"
     ]
    },
    {
     "name": "stderr",
     "output_type": "stream",
     "text": [
      " 81%|████████  | 80903/100001 [2:53:29<33:33,  9.48it/s]"
     ]
    },
    {
     "name": "stdout",
     "output_type": "stream",
     "text": [
      "GAN: loss d: 3.72446    loss g: -2.76940\n"
     ]
    },
    {
     "name": "stderr",
     "output_type": "stream",
     "text": [
      " 81%|████████  | 81000/100001 [2:53:39<33:34,  9.43it/s]"
     ]
    },
    {
     "name": "stdout",
     "output_type": "stream",
     "text": [
      "GAN: loss d: 4.23073    loss g: -2.29310\n",
      "saving current model\n"
     ]
    },
    {
     "name": "stderr",
     "output_type": "stream",
     "text": [
      "\n",
      "  0%|          | 0/195 [00:00<?, ?it/s]\u001b[A"
     ]
    },
    {
     "name": "stdout",
     "output_type": "stream",
     "text": [
      "Number of real images: 6252\n"
     ]
    },
    {
     "name": "stderr",
     "output_type": "stream",
     "text": [
      "\n",
      "\n",
      "  0%|          | 0/15 [00:00<?, ?it/s]\u001b[A\u001b[A"
     ]
    },
    {
     "name": "stdout",
     "output_type": "stream",
     "text": [
      "Number of synthetic images: 500\n"
     ]
    },
    {
     "name": "stderr",
     "output_type": "stream",
     "text": [
      " 81%|████████  | 81002/100001 [2:54:01<24:13:12,  4.59s/it]"
     ]
    },
    {
     "name": "stdout",
     "output_type": "stream",
     "text": [
      "Current fid score: 0.784420810190916\n",
      "Fid scores: [4.781169086965528, 2.5563023530045648, 2.463046801314256, 2.4992711961120584, 2.218550049566371, 2.964950268119857, 3.4702528654377076, 2.613245115961785, 2.34790911689727, 2.6919041220970037, 2.3144257756644073, 2.3240966003506536, 1.993653403354564, 2.697158487724515, 1.7994096039010472, 2.91434783406185, 2.7811489268397516, 2.2334427836959794, 2.2575362052527765, 2.130950188976346, 2.15637473746202, 2.4389161668575845, 2.2519582703541623, 2.1827718797205335, 2.3576301559437454, 2.6942066386249337, 2.6747271169665723, 2.8508206571304022, 2.837364124793419, 2.920850907282844, 2.6905573257954796, 1.3344332586511385, 2.1663599865511003, 0.855827226287527, 0.7591339506391392, 1.0899071055671108, 1.556975725398381, 1.6322229933262378, 1.4239017743813775, 1.5249018576080395, 1.2095302975349256, 0.8666642624319927, 1.061769574879687, 1.0549228395687074, 0.8332865353009247, 1.4093295915717334, 0.8253746464537564, 1.0501828097794572, 0.753537841488491, 0.9101388104903059, 0.8306977745111297, 1.0361210015169284, 0.8622839615512738, 1.0211583963511188, 1.0494697313231427, 0.7210932457566237, 1.1723560449956096, 1.6164965744993367, 1.768061074180352, 2.2152855954706574, 2.1226241732258586, 0.6317119417673425, 1.2031446041186733, 1.037733761688667, 1.0837845443159715, 0.9380651985760089, 0.9150319052622109, 0.808499389931665, 0.799970201460674, 0.8919625371349333, 0.8143693713058333, 0.8586844360966879, 0.8256128930717352, 0.8573169783381545, 0.8552612111319675, 0.7613616173214552, 0.6842404076214379, 0.6530841946693293, 0.7431871029727688, 0.8513702442009361, 0.7277033269998512, 0.784420810190916]\n"
     ]
    },
    {
     "name": "stderr",
     "output_type": "stream",
     "text": [
      "  0%|          | 0/195 [00:15<?, ?it/s]33:02,  9.56it/s]   \n",
      "  0%|          | 0/15 [00:05<?, ?it/s]\n",
      " 81%|████████  | 81101/100001 [2:54:12<35:01,  8.99it/s]"
     ]
    },
    {
     "name": "stdout",
     "output_type": "stream",
     "text": [
      "GAN: loss d: 2.15370    loss g: -2.19643\n"
     ]
    },
    {
     "name": "stderr",
     "output_type": "stream",
     "text": [
      " 81%|████████  | 81201/100001 [2:54:22<34:36,  9.05it/s]"
     ]
    },
    {
     "name": "stdout",
     "output_type": "stream",
     "text": [
      "GAN: loss d: 2.93948    loss g: -2.49797\n"
     ]
    },
    {
     "name": "stderr",
     "output_type": "stream",
     "text": [
      " 81%|████████▏ | 81303/100001 [2:54:33<32:13,  9.67it/s]"
     ]
    },
    {
     "name": "stdout",
     "output_type": "stream",
     "text": [
      "GAN: loss d: 4.16880    loss g: -3.32880\n"
     ]
    },
    {
     "name": "stderr",
     "output_type": "stream",
     "text": [
      " 81%|████████▏ | 81403/100001 [2:54:43<31:55,  9.71it/s]"
     ]
    },
    {
     "name": "stdout",
     "output_type": "stream",
     "text": [
      "GAN: loss d: 1.70903    loss g: -3.06065\n"
     ]
    },
    {
     "name": "stderr",
     "output_type": "stream",
     "text": [
      " 82%|████████▏ | 81503/100001 [2:54:54<32:40,  9.43it/s]"
     ]
    },
    {
     "name": "stdout",
     "output_type": "stream",
     "text": [
      "GAN: loss d: 1.55046    loss g: -1.56246\n"
     ]
    },
    {
     "name": "stderr",
     "output_type": "stream",
     "text": [
      " 82%|████████▏ | 81603/100001 [2:55:05<31:56,  9.60it/s]"
     ]
    },
    {
     "name": "stdout",
     "output_type": "stream",
     "text": [
      "GAN: loss d: 2.46217    loss g: -2.89909\n"
     ]
    },
    {
     "name": "stderr",
     "output_type": "stream",
     "text": [
      " 82%|████████▏ | 81701/100001 [2:55:15<33:51,  9.01it/s]"
     ]
    },
    {
     "name": "stdout",
     "output_type": "stream",
     "text": [
      "GAN: loss d: 3.48262    loss g: -1.94482\n"
     ]
    },
    {
     "name": "stderr",
     "output_type": "stream",
     "text": [
      " 82%|████████▏ | 81802/100001 [2:55:26<32:36,  9.30it/s]"
     ]
    },
    {
     "name": "stdout",
     "output_type": "stream",
     "text": [
      "GAN: loss d: 0.39777    loss g: -1.98908\n"
     ]
    },
    {
     "name": "stderr",
     "output_type": "stream",
     "text": [
      " 82%|████████▏ | 81901/100001 [2:55:36<33:20,  9.05it/s]"
     ]
    },
    {
     "name": "stdout",
     "output_type": "stream",
     "text": [
      "GAN: loss d: 5.24616    loss g: -2.12342\n"
     ]
    },
    {
     "name": "stderr",
     "output_type": "stream",
     "text": [
      " 82%|████████▏ | 82000/100001 [2:55:47<31:45,  9.45it/s]"
     ]
    },
    {
     "name": "stdout",
     "output_type": "stream",
     "text": [
      "GAN: loss d: 2.97008    loss g: -3.16139\n",
      "saving current model\n"
     ]
    },
    {
     "name": "stderr",
     "output_type": "stream",
     "text": [
      "\n",
      "  0%|          | 0/195 [00:00<?, ?it/s]\u001b[A"
     ]
    },
    {
     "name": "stdout",
     "output_type": "stream",
     "text": [
      "Number of real images: 6252\n"
     ]
    },
    {
     "name": "stderr",
     "output_type": "stream",
     "text": [
      "\n",
      "\n",
      "  0%|          | 0/15 [00:00<?, ?it/s]\u001b[A\u001b[A"
     ]
    },
    {
     "name": "stdout",
     "output_type": "stream",
     "text": [
      "Number of synthetic images: 500\n"
     ]
    },
    {
     "name": "stderr",
     "output_type": "stream",
     "text": [
      " 82%|████████▏ | 82001/100001 [2:56:08<32:40:59,  6.54s/it]"
     ]
    },
    {
     "name": "stdout",
     "output_type": "stream",
     "text": [
      "Current fid score: 0.8702575161919981\n",
      "Fid scores: [4.781169086965528, 2.5563023530045648, 2.463046801314256, 2.4992711961120584, 2.218550049566371, 2.964950268119857, 3.4702528654377076, 2.613245115961785, 2.34790911689727, 2.6919041220970037, 2.3144257756644073, 2.3240966003506536, 1.993653403354564, 2.697158487724515, 1.7994096039010472, 2.91434783406185, 2.7811489268397516, 2.2334427836959794, 2.2575362052527765, 2.130950188976346, 2.15637473746202, 2.4389161668575845, 2.2519582703541623, 2.1827718797205335, 2.3576301559437454, 2.6942066386249337, 2.6747271169665723, 2.8508206571304022, 2.837364124793419, 2.920850907282844, 2.6905573257954796, 1.3344332586511385, 2.1663599865511003, 0.855827226287527, 0.7591339506391392, 1.0899071055671108, 1.556975725398381, 1.6322229933262378, 1.4239017743813775, 1.5249018576080395, 1.2095302975349256, 0.8666642624319927, 1.061769574879687, 1.0549228395687074, 0.8332865353009247, 1.4093295915717334, 0.8253746464537564, 1.0501828097794572, 0.753537841488491, 0.9101388104903059, 0.8306977745111297, 1.0361210015169284, 0.8622839615512738, 1.0211583963511188, 1.0494697313231427, 0.7210932457566237, 1.1723560449956096, 1.6164965744993367, 1.768061074180352, 2.2152855954706574, 2.1226241732258586, 0.6317119417673425, 1.2031446041186733, 1.037733761688667, 1.0837845443159715, 0.9380651985760089, 0.9150319052622109, 0.808499389931665, 0.799970201460674, 0.8919625371349333, 0.8143693713058333, 0.8586844360966879, 0.8256128930717352, 0.8573169783381545, 0.8552612111319675, 0.7613616173214552, 0.6842404076214379, 0.6530841946693293, 0.7431871029727688, 0.8513702442009361, 0.7277033269998512, 0.784420810190916, 0.8702575161919981]\n"
     ]
    },
    {
     "name": "stderr",
     "output_type": "stream",
     "text": [
      "  0%|          | 0/195 [00:20<?, ?it/s]31:05,  9.60it/s]   \n",
      "  0%|          | 0/15 [00:10<?, ?it/s]\n",
      " 82%|████████▏ | 82103/100001 [2:56:19<31:07,  9.59it/s]"
     ]
    },
    {
     "name": "stdout",
     "output_type": "stream",
     "text": [
      "GAN: loss d: 2.98016    loss g: -2.18389\n"
     ]
    },
    {
     "name": "stderr",
     "output_type": "stream",
     "text": [
      " 82%|████████▏ | 82203/100001 [2:56:29<30:54,  9.60it/s]"
     ]
    },
    {
     "name": "stdout",
     "output_type": "stream",
     "text": [
      "GAN: loss d: 5.32648    loss g: -1.52977\n"
     ]
    },
    {
     "name": "stderr",
     "output_type": "stream",
     "text": [
      " 82%|████████▏ | 82303/100001 [2:56:40<31:11,  9.46it/s]"
     ]
    },
    {
     "name": "stdout",
     "output_type": "stream",
     "text": [
      "GAN: loss d: -2.21754    loss g: -2.30812\n"
     ]
    },
    {
     "name": "stderr",
     "output_type": "stream",
     "text": [
      " 82%|████████▏ | 82403/100001 [2:56:51<30:44,  9.54it/s]"
     ]
    },
    {
     "name": "stdout",
     "output_type": "stream",
     "text": [
      "GAN: loss d: 5.56795    loss g: -2.03641\n"
     ]
    },
    {
     "name": "stderr",
     "output_type": "stream",
     "text": [
      " 83%|████████▎ | 82503/100001 [2:57:01<30:18,  9.62it/s]"
     ]
    },
    {
     "name": "stdout",
     "output_type": "stream",
     "text": [
      "GAN: loss d: 3.98838    loss g: -2.15157\n"
     ]
    },
    {
     "name": "stderr",
     "output_type": "stream",
     "text": [
      " 83%|████████▎ | 82603/100001 [2:57:12<30:37,  9.47it/s]"
     ]
    },
    {
     "name": "stdout",
     "output_type": "stream",
     "text": [
      "GAN: loss d: 2.16356    loss g: -2.56677\n"
     ]
    },
    {
     "name": "stderr",
     "output_type": "stream",
     "text": [
      " 83%|████████▎ | 82703/100001 [2:57:22<30:08,  9.56it/s]"
     ]
    },
    {
     "name": "stdout",
     "output_type": "stream",
     "text": [
      "GAN: loss d: 4.68841    loss g: -1.83380\n"
     ]
    },
    {
     "name": "stderr",
     "output_type": "stream",
     "text": [
      " 83%|████████▎ | 82803/100001 [2:57:33<29:45,  9.63it/s]"
     ]
    },
    {
     "name": "stdout",
     "output_type": "stream",
     "text": [
      "GAN: loss d: 0.25846    loss g: -1.46187\n"
     ]
    },
    {
     "name": "stderr",
     "output_type": "stream",
     "text": [
      " 83%|████████▎ | 82903/100001 [2:57:43<29:50,  9.55it/s]"
     ]
    },
    {
     "name": "stdout",
     "output_type": "stream",
     "text": [
      "GAN: loss d: 3.96772    loss g: -3.01966\n"
     ]
    },
    {
     "name": "stderr",
     "output_type": "stream",
     "text": [
      " 83%|████████▎ | 83000/100001 [2:57:54<30:11,  9.38it/s]"
     ]
    },
    {
     "name": "stdout",
     "output_type": "stream",
     "text": [
      "GAN: loss d: 2.95216    loss g: -2.65397\n",
      "saving current model\n"
     ]
    },
    {
     "name": "stderr",
     "output_type": "stream",
     "text": [
      "\n",
      "  0%|          | 0/195 [00:00<?, ?it/s]\u001b[A"
     ]
    },
    {
     "name": "stdout",
     "output_type": "stream",
     "text": [
      "Number of real images: 6252\n"
     ]
    },
    {
     "name": "stderr",
     "output_type": "stream",
     "text": [
      "\n",
      "\n",
      "  0%|          | 0/15 [00:00<?, ?it/s]\u001b[A\u001b[A"
     ]
    },
    {
     "name": "stdout",
     "output_type": "stream",
     "text": [
      "Number of synthetic images: 500\n"
     ]
    },
    {
     "name": "stderr",
     "output_type": "stream",
     "text": [
      " 83%|████████▎ | 83002/100001 [2:58:15<21:44:05,  4.60s/it]"
     ]
    },
    {
     "name": "stdout",
     "output_type": "stream",
     "text": [
      "Current fid score: 0.8843211438312402\n",
      "Fid scores: [4.781169086965528, 2.5563023530045648, 2.463046801314256, 2.4992711961120584, 2.218550049566371, 2.964950268119857, 3.4702528654377076, 2.613245115961785, 2.34790911689727, 2.6919041220970037, 2.3144257756644073, 2.3240966003506536, 1.993653403354564, 2.697158487724515, 1.7994096039010472, 2.91434783406185, 2.7811489268397516, 2.2334427836959794, 2.2575362052527765, 2.130950188976346, 2.15637473746202, 2.4389161668575845, 2.2519582703541623, 2.1827718797205335, 2.3576301559437454, 2.6942066386249337, 2.6747271169665723, 2.8508206571304022, 2.837364124793419, 2.920850907282844, 2.6905573257954796, 1.3344332586511385, 2.1663599865511003, 0.855827226287527, 0.7591339506391392, 1.0899071055671108, 1.556975725398381, 1.6322229933262378, 1.4239017743813775, 1.5249018576080395, 1.2095302975349256, 0.8666642624319927, 1.061769574879687, 1.0549228395687074, 0.8332865353009247, 1.4093295915717334, 0.8253746464537564, 1.0501828097794572, 0.753537841488491, 0.9101388104903059, 0.8306977745111297, 1.0361210015169284, 0.8622839615512738, 1.0211583963511188, 1.0494697313231427, 0.7210932457566237, 1.1723560449956096, 1.6164965744993367, 1.768061074180352, 2.2152855954706574, 2.1226241732258586, 0.6317119417673425, 1.2031446041186733, 1.037733761688667, 1.0837845443159715, 0.9380651985760089, 0.9150319052622109, 0.808499389931665, 0.799970201460674, 0.8919625371349333, 0.8143693713058333, 0.8586844360966879, 0.8256128930717352, 0.8573169783381545, 0.8552612111319675, 0.7613616173214552, 0.6842404076214379, 0.6530841946693293, 0.7431871029727688, 0.8513702442009361, 0.7277033269998512, 0.784420810190916, 0.8702575161919981, 0.8843211438312402]\n"
     ]
    },
    {
     "name": "stderr",
     "output_type": "stream",
     "text": [
      "  0%|          | 0/195 [00:15<?, ?it/s]29:26,  9.60it/s]   \n",
      "  0%|          | 0/15 [00:05<?, ?it/s]\n",
      " 83%|████████▎ | 83103/100001 [2:58:26<29:43,  9.47it/s]"
     ]
    },
    {
     "name": "stdout",
     "output_type": "stream",
     "text": [
      "GAN: loss d: 3.81976    loss g: -2.83558\n"
     ]
    },
    {
     "name": "stderr",
     "output_type": "stream",
     "text": [
      " 83%|████████▎ | 83203/100001 [2:58:37<29:02,  9.64it/s]"
     ]
    },
    {
     "name": "stdout",
     "output_type": "stream",
     "text": [
      "GAN: loss d: 3.55466    loss g: -2.70899\n"
     ]
    },
    {
     "name": "stderr",
     "output_type": "stream",
     "text": [
      " 83%|████████▎ | 83303/100001 [2:58:47<29:06,  9.56it/s]"
     ]
    },
    {
     "name": "stdout",
     "output_type": "stream",
     "text": [
      "GAN: loss d: 3.19638    loss g: -1.78232\n"
     ]
    },
    {
     "name": "stderr",
     "output_type": "stream",
     "text": [
      " 83%|████████▎ | 83403/100001 [2:58:58<28:54,  9.57it/s]"
     ]
    },
    {
     "name": "stdout",
     "output_type": "stream",
     "text": [
      "GAN: loss d: 2.81671    loss g: -1.79057\n"
     ]
    },
    {
     "name": "stderr",
     "output_type": "stream",
     "text": [
      " 84%|████████▎ | 83503/100001 [2:59:08<29:12,  9.41it/s]"
     ]
    },
    {
     "name": "stdout",
     "output_type": "stream",
     "text": [
      "GAN: loss d: 0.86004    loss g: -3.47275\n"
     ]
    },
    {
     "name": "stderr",
     "output_type": "stream",
     "text": [
      " 84%|████████▎ | 83603/100001 [2:59:19<28:50,  9.48it/s]"
     ]
    },
    {
     "name": "stdout",
     "output_type": "stream",
     "text": [
      "GAN: loss d: 3.83236    loss g: -3.02672\n"
     ]
    },
    {
     "name": "stderr",
     "output_type": "stream",
     "text": [
      " 84%|████████▎ | 83701/100001 [2:59:29<30:20,  8.95it/s]"
     ]
    },
    {
     "name": "stdout",
     "output_type": "stream",
     "text": [
      "GAN: loss d: 4.20994    loss g: -2.66656\n"
     ]
    },
    {
     "name": "stderr",
     "output_type": "stream",
     "text": [
      " 84%|████████▍ | 83801/100001 [2:59:40<30:02,  8.99it/s]"
     ]
    },
    {
     "name": "stdout",
     "output_type": "stream",
     "text": [
      "GAN: loss d: 3.74027    loss g: -2.01478\n"
     ]
    },
    {
     "name": "stderr",
     "output_type": "stream",
     "text": [
      " 84%|████████▍ | 83901/100001 [2:59:51<29:31,  9.09it/s]"
     ]
    },
    {
     "name": "stdout",
     "output_type": "stream",
     "text": [
      "GAN: loss d: -0.34092    loss g: -1.87929\n"
     ]
    },
    {
     "name": "stderr",
     "output_type": "stream",
     "text": [
      " 84%|████████▍ | 84000/100001 [3:00:01<28:10,  9.47it/s]"
     ]
    },
    {
     "name": "stdout",
     "output_type": "stream",
     "text": [
      "GAN: loss d: 3.26423    loss g: -1.64286\n",
      "saving current model\n"
     ]
    },
    {
     "name": "stderr",
     "output_type": "stream",
     "text": [
      "\n",
      "  0%|          | 0/195 [00:00<?, ?it/s]\u001b[A"
     ]
    },
    {
     "name": "stdout",
     "output_type": "stream",
     "text": [
      "Number of real images: 6252\n"
     ]
    },
    {
     "name": "stderr",
     "output_type": "stream",
     "text": [
      "\n",
      "\n",
      "  0%|          | 0/15 [00:00<?, ?it/s]\u001b[A\u001b[A"
     ]
    },
    {
     "name": "stdout",
     "output_type": "stream",
     "text": [
      "Number of synthetic images: 500\n"
     ]
    },
    {
     "name": "stderr",
     "output_type": "stream",
     "text": [
      " 84%|████████▍ | 84003/100001 [3:00:23<15:51:21,  3.57s/it]"
     ]
    },
    {
     "name": "stdout",
     "output_type": "stream",
     "text": [
      "Current fid score: 0.6391728278030762\n",
      "Fid scores: [4.781169086965528, 2.5563023530045648, 2.463046801314256, 2.4992711961120584, 2.218550049566371, 2.964950268119857, 3.4702528654377076, 2.613245115961785, 2.34790911689727, 2.6919041220970037, 2.3144257756644073, 2.3240966003506536, 1.993653403354564, 2.697158487724515, 1.7994096039010472, 2.91434783406185, 2.7811489268397516, 2.2334427836959794, 2.2575362052527765, 2.130950188976346, 2.15637473746202, 2.4389161668575845, 2.2519582703541623, 2.1827718797205335, 2.3576301559437454, 2.6942066386249337, 2.6747271169665723, 2.8508206571304022, 2.837364124793419, 2.920850907282844, 2.6905573257954796, 1.3344332586511385, 2.1663599865511003, 0.855827226287527, 0.7591339506391392, 1.0899071055671108, 1.556975725398381, 1.6322229933262378, 1.4239017743813775, 1.5249018576080395, 1.2095302975349256, 0.8666642624319927, 1.061769574879687, 1.0549228395687074, 0.8332865353009247, 1.4093295915717334, 0.8253746464537564, 1.0501828097794572, 0.753537841488491, 0.9101388104903059, 0.8306977745111297, 1.0361210015169284, 0.8622839615512738, 1.0211583963511188, 1.0494697313231427, 0.7210932457566237, 1.1723560449956096, 1.6164965744993367, 1.768061074180352, 2.2152855954706574, 2.1226241732258586, 0.6317119417673425, 1.2031446041186733, 1.037733761688667, 1.0837845443159715, 0.9380651985760089, 0.9150319052622109, 0.808499389931665, 0.799970201460674, 0.8919625371349333, 0.8143693713058333, 0.8586844360966879, 0.8256128930717352, 0.8573169783381545, 0.8552612111319675, 0.7613616173214552, 0.6842404076214379, 0.6530841946693293, 0.7431871029727688, 0.8513702442009361, 0.7277033269998512, 0.784420810190916, 0.8702575161919981, 0.8843211438312402, 0.6391728278030762]\n"
     ]
    },
    {
     "name": "stderr",
     "output_type": "stream",
     "text": [
      "  0%|          | 0/195 [00:11<?, ?it/s]9:00:26,  2.03s/it] \n",
      "  0%|          | 0/15 [00:01<?, ?it/s]\n",
      " 84%|████████▍ | 84101/100001 [3:00:33<29:09,  9.09it/s]  "
     ]
    },
    {
     "name": "stdout",
     "output_type": "stream",
     "text": [
      "GAN: loss d: 2.95068    loss g: -1.64637\n"
     ]
    },
    {
     "name": "stderr",
     "output_type": "stream",
     "text": [
      " 84%|████████▍ | 84203/100001 [3:00:44<27:29,  9.58it/s]"
     ]
    },
    {
     "name": "stdout",
     "output_type": "stream",
     "text": [
      "GAN: loss d: 0.71930    loss g: -2.19218\n"
     ]
    },
    {
     "name": "stderr",
     "output_type": "stream",
     "text": [
      " 84%|████████▍ | 84303/100001 [3:00:55<27:11,  9.62it/s]"
     ]
    },
    {
     "name": "stdout",
     "output_type": "stream",
     "text": [
      "GAN: loss d: 2.03497    loss g: -2.21846\n"
     ]
    },
    {
     "name": "stderr",
     "output_type": "stream",
     "text": [
      " 84%|████████▍ | 84403/100001 [3:01:05<27:07,  9.59it/s]"
     ]
    },
    {
     "name": "stdout",
     "output_type": "stream",
     "text": [
      "GAN: loss d: 4.08904    loss g: -2.03394\n"
     ]
    },
    {
     "name": "stderr",
     "output_type": "stream",
     "text": [
      " 85%|████████▍ | 84501/100001 [3:01:16<28:36,  9.03it/s]"
     ]
    },
    {
     "name": "stdout",
     "output_type": "stream",
     "text": [
      "GAN: loss d: 1.56789    loss g: -1.29212\n"
     ]
    },
    {
     "name": "stderr",
     "output_type": "stream",
     "text": [
      " 85%|████████▍ | 84601/100001 [3:01:26<28:03,  9.15it/s]"
     ]
    },
    {
     "name": "stdout",
     "output_type": "stream",
     "text": [
      "GAN: loss d: 3.17765    loss g: -1.59520\n"
     ]
    },
    {
     "name": "stderr",
     "output_type": "stream",
     "text": [
      " 85%|████████▍ | 84703/100001 [3:01:37<26:27,  9.64it/s]"
     ]
    },
    {
     "name": "stdout",
     "output_type": "stream",
     "text": [
      "GAN: loss d: 1.36700    loss g: -1.98818\n"
     ]
    },
    {
     "name": "stderr",
     "output_type": "stream",
     "text": [
      " 85%|████████▍ | 84803/100001 [3:01:47<26:52,  9.43it/s]"
     ]
    },
    {
     "name": "stdout",
     "output_type": "stream",
     "text": [
      "GAN: loss d: 3.59438    loss g: -2.50304\n"
     ]
    },
    {
     "name": "stderr",
     "output_type": "stream",
     "text": [
      " 85%|████████▍ | 84903/100001 [3:01:58<26:03,  9.66it/s]"
     ]
    },
    {
     "name": "stdout",
     "output_type": "stream",
     "text": [
      "GAN: loss d: 0.84859    loss g: -1.67690\n"
     ]
    },
    {
     "name": "stderr",
     "output_type": "stream",
     "text": [
      " 85%|████████▍ | 85000/100001 [3:02:08<26:13,  9.53it/s]"
     ]
    },
    {
     "name": "stdout",
     "output_type": "stream",
     "text": [
      "GAN: loss d: 3.75593    loss g: -2.80972\n",
      "saving current model\n"
     ]
    },
    {
     "name": "stderr",
     "output_type": "stream",
     "text": [
      "\n",
      "  0%|          | 0/195 [00:00<?, ?it/s]\u001b[A"
     ]
    },
    {
     "name": "stdout",
     "output_type": "stream",
     "text": [
      "Number of real images: 6252\n"
     ]
    },
    {
     "name": "stderr",
     "output_type": "stream",
     "text": [
      "\n",
      "\n",
      "  0%|          | 0/15 [00:00<?, ?it/s]\u001b[A\u001b[A"
     ]
    },
    {
     "name": "stdout",
     "output_type": "stream",
     "text": [
      "Number of synthetic images: 500\n"
     ]
    },
    {
     "name": "stderr",
     "output_type": "stream",
     "text": [
      " 85%|████████▌ | 85001/100001 [3:02:30<27:11:32,  6.53s/it]"
     ]
    },
    {
     "name": "stdout",
     "output_type": "stream",
     "text": [
      "Current fid score: 0.8442567628354993\n",
      "Fid scores: [4.781169086965528, 2.5563023530045648, 2.463046801314256, 2.4992711961120584, 2.218550049566371, 2.964950268119857, 3.4702528654377076, 2.613245115961785, 2.34790911689727, 2.6919041220970037, 2.3144257756644073, 2.3240966003506536, 1.993653403354564, 2.697158487724515, 1.7994096039010472, 2.91434783406185, 2.7811489268397516, 2.2334427836959794, 2.2575362052527765, 2.130950188976346, 2.15637473746202, 2.4389161668575845, 2.2519582703541623, 2.1827718797205335, 2.3576301559437454, 2.6942066386249337, 2.6747271169665723, 2.8508206571304022, 2.837364124793419, 2.920850907282844, 2.6905573257954796, 1.3344332586511385, 2.1663599865511003, 0.855827226287527, 0.7591339506391392, 1.0899071055671108, 1.556975725398381, 1.6322229933262378, 1.4239017743813775, 1.5249018576080395, 1.2095302975349256, 0.8666642624319927, 1.061769574879687, 1.0549228395687074, 0.8332865353009247, 1.4093295915717334, 0.8253746464537564, 1.0501828097794572, 0.753537841488491, 0.9101388104903059, 0.8306977745111297, 1.0361210015169284, 0.8622839615512738, 1.0211583963511188, 1.0494697313231427, 0.7210932457566237, 1.1723560449956096, 1.6164965744993367, 1.768061074180352, 2.2152855954706574, 2.1226241732258586, 0.6317119417673425, 1.2031446041186733, 1.037733761688667, 1.0837845443159715, 0.9380651985760089, 0.9150319052622109, 0.808499389931665, 0.799970201460674, 0.8919625371349333, 0.8143693713058333, 0.8586844360966879, 0.8256128930717352, 0.8573169783381545, 0.8552612111319675, 0.7613616173214552, 0.6842404076214379, 0.6530841946693293, 0.7431871029727688, 0.8513702442009361, 0.7277033269998512, 0.784420810190916, 0.8702575161919981, 0.8843211438312402, 0.6391728278030762, 0.8442567628354993]\n"
     ]
    },
    {
     "name": "stderr",
     "output_type": "stream",
     "text": [
      "  0%|          | 0/195 [00:16<?, ?it/s]26:08,  9.53it/s]   \n",
      "  0%|          | 0/15 [00:06<?, ?it/s]\n",
      " 85%|████████▌ | 85101/100001 [3:02:40<27:08,  9.15it/s]"
     ]
    },
    {
     "name": "stdout",
     "output_type": "stream",
     "text": [
      "GAN: loss d: 3.60617    loss g: -2.17050\n"
     ]
    },
    {
     "name": "stderr",
     "output_type": "stream",
     "text": [
      " 85%|████████▌ | 85203/100001 [3:02:51<25:40,  9.60it/s]"
     ]
    },
    {
     "name": "stdout",
     "output_type": "stream",
     "text": [
      "GAN: loss d: 3.43089    loss g: -2.96514\n"
     ]
    },
    {
     "name": "stderr",
     "output_type": "stream",
     "text": [
      " 85%|████████▌ | 85301/100001 [3:03:01<27:26,  8.93it/s]"
     ]
    },
    {
     "name": "stdout",
     "output_type": "stream",
     "text": [
      "GAN: loss d: 0.99221    loss g: -2.33392\n"
     ]
    },
    {
     "name": "stderr",
     "output_type": "stream",
     "text": [
      " 85%|████████▌ | 85403/100001 [3:03:12<25:53,  9.40it/s]"
     ]
    },
    {
     "name": "stdout",
     "output_type": "stream",
     "text": [
      "GAN: loss d: 1.17037    loss g: -1.27399\n"
     ]
    },
    {
     "name": "stderr",
     "output_type": "stream",
     "text": [
      " 86%|████████▌ | 85503/100001 [3:03:23<25:31,  9.47it/s]"
     ]
    },
    {
     "name": "stdout",
     "output_type": "stream",
     "text": [
      "GAN: loss d: 4.30785    loss g: -2.84907\n"
     ]
    },
    {
     "name": "stderr",
     "output_type": "stream",
     "text": [
      " 86%|████████▌ | 85601/100001 [3:03:33<26:22,  9.10it/s]"
     ]
    },
    {
     "name": "stdout",
     "output_type": "stream",
     "text": [
      "GAN: loss d: 3.08315    loss g: -2.38495\n"
     ]
    },
    {
     "name": "stderr",
     "output_type": "stream",
     "text": [
      " 86%|████████▌ | 85703/100001 [3:03:44<24:57,  9.54it/s]"
     ]
    },
    {
     "name": "stdout",
     "output_type": "stream",
     "text": [
      "GAN: loss d: 4.69878    loss g: -1.70631\n"
     ]
    },
    {
     "name": "stderr",
     "output_type": "stream",
     "text": [
      " 86%|████████▌ | 85803/100001 [3:03:54<24:34,  9.63it/s]"
     ]
    },
    {
     "name": "stdout",
     "output_type": "stream",
     "text": [
      "GAN: loss d: 1.66418    loss g: -2.50062\n"
     ]
    },
    {
     "name": "stderr",
     "output_type": "stream",
     "text": [
      " 86%|████████▌ | 85903/100001 [3:04:05<24:22,  9.64it/s]"
     ]
    },
    {
     "name": "stdout",
     "output_type": "stream",
     "text": [
      "GAN: loss d: 2.70838    loss g: -2.19956\n"
     ]
    },
    {
     "name": "stderr",
     "output_type": "stream",
     "text": [
      " 86%|████████▌ | 86000/100001 [3:04:15<24:11,  9.65it/s]"
     ]
    },
    {
     "name": "stdout",
     "output_type": "stream",
     "text": [
      "GAN: loss d: 5.27680    loss g: -2.12068\n",
      "saving current model\n"
     ]
    },
    {
     "name": "stderr",
     "output_type": "stream",
     "text": [
      "\n",
      "  0%|          | 0/195 [00:00<?, ?it/s]\u001b[A"
     ]
    },
    {
     "name": "stdout",
     "output_type": "stream",
     "text": [
      "Number of real images: 6252\n"
     ]
    },
    {
     "name": "stderr",
     "output_type": "stream",
     "text": [
      "\n",
      "\n",
      "  0%|          | 0/15 [00:00<?, ?it/s]\u001b[A\u001b[A"
     ]
    },
    {
     "name": "stdout",
     "output_type": "stream",
     "text": [
      "Number of synthetic images: 500\n"
     ]
    },
    {
     "name": "stderr",
     "output_type": "stream",
     "text": [
      " 86%|████████▌ | 86001/100001 [3:04:37<25:24:11,  6.53s/it]"
     ]
    },
    {
     "name": "stdout",
     "output_type": "stream",
     "text": [
      "Current fid score: 0.803738395099522\n",
      "Fid scores: [4.781169086965528, 2.5563023530045648, 2.463046801314256, 2.4992711961120584, 2.218550049566371, 2.964950268119857, 3.4702528654377076, 2.613245115961785, 2.34790911689727, 2.6919041220970037, 2.3144257756644073, 2.3240966003506536, 1.993653403354564, 2.697158487724515, 1.7994096039010472, 2.91434783406185, 2.7811489268397516, 2.2334427836959794, 2.2575362052527765, 2.130950188976346, 2.15637473746202, 2.4389161668575845, 2.2519582703541623, 2.1827718797205335, 2.3576301559437454, 2.6942066386249337, 2.6747271169665723, 2.8508206571304022, 2.837364124793419, 2.920850907282844, 2.6905573257954796, 1.3344332586511385, 2.1663599865511003, 0.855827226287527, 0.7591339506391392, 1.0899071055671108, 1.556975725398381, 1.6322229933262378, 1.4239017743813775, 1.5249018576080395, 1.2095302975349256, 0.8666642624319927, 1.061769574879687, 1.0549228395687074, 0.8332865353009247, 1.4093295915717334, 0.8253746464537564, 1.0501828097794572, 0.753537841488491, 0.9101388104903059, 0.8306977745111297, 1.0361210015169284, 0.8622839615512738, 1.0211583963511188, 1.0494697313231427, 0.7210932457566237, 1.1723560449956096, 1.6164965744993367, 1.768061074180352, 2.2152855954706574, 2.1226241732258586, 0.6317119417673425, 1.2031446041186733, 1.037733761688667, 1.0837845443159715, 0.9380651985760089, 0.9150319052622109, 0.808499389931665, 0.799970201460674, 0.8919625371349333, 0.8143693713058333, 0.8586844360966879, 0.8256128930717352, 0.8573169783381545, 0.8552612111319675, 0.7613616173214552, 0.6842404076214379, 0.6530841946693293, 0.7431871029727688, 0.8513702442009361, 0.7277033269998512, 0.784420810190916, 0.8702575161919981, 0.8843211438312402, 0.6391728278030762, 0.8442567628354993, 0.803738395099522]\n"
     ]
    },
    {
     "name": "stderr",
     "output_type": "stream",
     "text": [
      "  0%|          | 0/195 [00:11<?, ?it/s]10:31:20,  2.71s/it]\n",
      "  0%|          | 0/15 [00:01<?, ?it/s]\n",
      " 86%|████████▌ | 86101/100001 [3:04:47<25:41,  9.01it/s]   "
     ]
    },
    {
     "name": "stdout",
     "output_type": "stream",
     "text": [
      "GAN: loss d: 4.26885    loss g: -1.75765\n"
     ]
    },
    {
     "name": "stderr",
     "output_type": "stream",
     "text": [
      " 86%|████████▌ | 86203/100001 [3:04:58<24:08,  9.52it/s]"
     ]
    },
    {
     "name": "stdout",
     "output_type": "stream",
     "text": [
      "GAN: loss d: 1.17280    loss g: -1.79183\n"
     ]
    },
    {
     "name": "stderr",
     "output_type": "stream",
     "text": [
      " 86%|████████▋ | 86301/100001 [3:05:08<24:59,  9.13it/s]"
     ]
    },
    {
     "name": "stdout",
     "output_type": "stream",
     "text": [
      "GAN: loss d: 4.73261    loss g: -1.70146\n"
     ]
    },
    {
     "name": "stderr",
     "output_type": "stream",
     "text": [
      " 86%|████████▋ | 86403/100001 [3:05:19<23:30,  9.64it/s]"
     ]
    },
    {
     "name": "stdout",
     "output_type": "stream",
     "text": [
      "GAN: loss d: 2.44005    loss g: -1.90816\n"
     ]
    },
    {
     "name": "stderr",
     "output_type": "stream",
     "text": [
      " 87%|████████▋ | 86501/100001 [3:05:30<24:55,  9.02it/s]"
     ]
    },
    {
     "name": "stdout",
     "output_type": "stream",
     "text": [
      "GAN: loss d: 3.10840    loss g: -1.80800\n"
     ]
    },
    {
     "name": "stderr",
     "output_type": "stream",
     "text": [
      " 87%|████████▋ | 86603/100001 [3:05:40<23:17,  9.59it/s]"
     ]
    },
    {
     "name": "stdout",
     "output_type": "stream",
     "text": [
      "GAN: loss d: 0.27735    loss g: -2.42001\n"
     ]
    },
    {
     "name": "stderr",
     "output_type": "stream",
     "text": [
      " 87%|████████▋ | 86703/100001 [3:05:51<23:24,  9.46it/s]"
     ]
    },
    {
     "name": "stdout",
     "output_type": "stream",
     "text": [
      "GAN: loss d: 1.43182    loss g: -1.67364\n"
     ]
    },
    {
     "name": "stderr",
     "output_type": "stream",
     "text": [
      " 87%|████████▋ | 86803/100001 [3:06:02<23:19,  9.43it/s]"
     ]
    },
    {
     "name": "stdout",
     "output_type": "stream",
     "text": [
      "GAN: loss d: 4.34009    loss g: -2.61402\n"
     ]
    },
    {
     "name": "stderr",
     "output_type": "stream",
     "text": [
      " 87%|████████▋ | 86901/100001 [3:06:12<24:07,  9.05it/s]"
     ]
    },
    {
     "name": "stdout",
     "output_type": "stream",
     "text": [
      "GAN: loss d: 0.26461    loss g: -2.27130\n"
     ]
    },
    {
     "name": "stderr",
     "output_type": "stream",
     "text": [
      " 87%|████████▋ | 87000/100001 [3:06:22<23:11,  9.34it/s]"
     ]
    },
    {
     "name": "stdout",
     "output_type": "stream",
     "text": [
      "GAN: loss d: 4.19565    loss g: -2.51314\n",
      "saving current model\n"
     ]
    },
    {
     "name": "stderr",
     "output_type": "stream",
     "text": [
      "\n",
      "  0%|          | 0/195 [00:00<?, ?it/s]\u001b[A"
     ]
    },
    {
     "name": "stdout",
     "output_type": "stream",
     "text": [
      "Number of real images: 6252\n"
     ]
    },
    {
     "name": "stderr",
     "output_type": "stream",
     "text": [
      "\n",
      "\n",
      "  0%|          | 0/15 [00:00<?, ?it/s]\u001b[A\u001b[A"
     ]
    },
    {
     "name": "stdout",
     "output_type": "stream",
     "text": [
      "Number of synthetic images: 500\n"
     ]
    },
    {
     "name": "stderr",
     "output_type": "stream",
     "text": [
      " 87%|████████▋ | 87001/100001 [3:06:44<23:50:31,  6.60s/it]"
     ]
    },
    {
     "name": "stdout",
     "output_type": "stream",
     "text": [
      "Current fid score: 0.8126540751749438\n",
      "Fid scores: [4.781169086965528, 2.5563023530045648, 2.463046801314256, 2.4992711961120584, 2.218550049566371, 2.964950268119857, 3.4702528654377076, 2.613245115961785, 2.34790911689727, 2.6919041220970037, 2.3144257756644073, 2.3240966003506536, 1.993653403354564, 2.697158487724515, 1.7994096039010472, 2.91434783406185, 2.7811489268397516, 2.2334427836959794, 2.2575362052527765, 2.130950188976346, 2.15637473746202, 2.4389161668575845, 2.2519582703541623, 2.1827718797205335, 2.3576301559437454, 2.6942066386249337, 2.6747271169665723, 2.8508206571304022, 2.837364124793419, 2.920850907282844, 2.6905573257954796, 1.3344332586511385, 2.1663599865511003, 0.855827226287527, 0.7591339506391392, 1.0899071055671108, 1.556975725398381, 1.6322229933262378, 1.4239017743813775, 1.5249018576080395, 1.2095302975349256, 0.8666642624319927, 1.061769574879687, 1.0549228395687074, 0.8332865353009247, 1.4093295915717334, 0.8253746464537564, 1.0501828097794572, 0.753537841488491, 0.9101388104903059, 0.8306977745111297, 1.0361210015169284, 0.8622839615512738, 1.0211583963511188, 1.0494697313231427, 0.7210932457566237, 1.1723560449956096, 1.6164965744993367, 1.768061074180352, 2.2152855954706574, 2.1226241732258586, 0.6317119417673425, 1.2031446041186733, 1.037733761688667, 1.0837845443159715, 0.9380651985760089, 0.9150319052622109, 0.808499389931665, 0.799970201460674, 0.8919625371349333, 0.8143693713058333, 0.8586844360966879, 0.8256128930717352, 0.8573169783381545, 0.8552612111319675, 0.7613616173214552, 0.6842404076214379, 0.6530841946693293, 0.7431871029727688, 0.8513702442009361, 0.7277033269998512, 0.784420810190916, 0.8702575161919981, 0.8843211438312402, 0.6391728278030762, 0.8442567628354993, 0.803738395099522, 0.8126540751749438]\n"
     ]
    },
    {
     "name": "stderr",
     "output_type": "stream",
     "text": [
      "  0%|          | 0/195 [00:16<?, ?it/s]23:09,  9.32it/s]   \n",
      "  0%|          | 0/15 [00:06<?, ?it/s]\n",
      " 87%|████████▋ | 87101/100001 [3:06:55<23:41,  9.07it/s]"
     ]
    },
    {
     "name": "stdout",
     "output_type": "stream",
     "text": [
      "GAN: loss d: 2.62770    loss g: -2.41691\n"
     ]
    },
    {
     "name": "stderr",
     "output_type": "stream",
     "text": [
      " 87%|████████▋ | 87201/100001 [3:07:05<23:20,  9.14it/s]"
     ]
    },
    {
     "name": "stdout",
     "output_type": "stream",
     "text": [
      "GAN: loss d: 2.60059    loss g: -2.01531\n"
     ]
    },
    {
     "name": "stderr",
     "output_type": "stream",
     "text": [
      " 87%|████████▋ | 87303/100001 [3:07:16<22:18,  9.49it/s]"
     ]
    },
    {
     "name": "stdout",
     "output_type": "stream",
     "text": [
      "GAN: loss d: 2.98915    loss g: -2.19324\n"
     ]
    },
    {
     "name": "stderr",
     "output_type": "stream",
     "text": [
      " 87%|████████▋ | 87401/100001 [3:07:27<23:14,  9.03it/s]"
     ]
    },
    {
     "name": "stdout",
     "output_type": "stream",
     "text": [
      "GAN: loss d: 2.02308    loss g: -1.61907\n"
     ]
    },
    {
     "name": "stderr",
     "output_type": "stream",
     "text": [
      " 88%|████████▊ | 87503/100001 [3:07:37<21:49,  9.55it/s]"
     ]
    },
    {
     "name": "stdout",
     "output_type": "stream",
     "text": [
      "GAN: loss d: 3.31659    loss g: -2.49530\n"
     ]
    },
    {
     "name": "stderr",
     "output_type": "stream",
     "text": [
      " 88%|████████▊ | 87601/100001 [3:07:48<22:59,  8.99it/s]"
     ]
    },
    {
     "name": "stdout",
     "output_type": "stream",
     "text": [
      "GAN: loss d: 1.34278    loss g: -2.64755\n"
     ]
    },
    {
     "name": "stderr",
     "output_type": "stream",
     "text": [
      " 88%|████████▊ | 87701/100001 [3:07:58<22:32,  9.09it/s]"
     ]
    },
    {
     "name": "stdout",
     "output_type": "stream",
     "text": [
      "GAN: loss d: 3.25423    loss g: -2.66250\n"
     ]
    },
    {
     "name": "stderr",
     "output_type": "stream",
     "text": [
      " 88%|████████▊ | 87803/100001 [3:08:09<21:11,  9.60it/s]"
     ]
    },
    {
     "name": "stdout",
     "output_type": "stream",
     "text": [
      "GAN: loss d: 3.81945    loss g: -1.34703\n"
     ]
    },
    {
     "name": "stderr",
     "output_type": "stream",
     "text": [
      " 88%|████████▊ | 87903/100001 [3:08:20<21:00,  9.60it/s]"
     ]
    },
    {
     "name": "stdout",
     "output_type": "stream",
     "text": [
      "GAN: loss d: 2.13898    loss g: -1.99989\n"
     ]
    },
    {
     "name": "stderr",
     "output_type": "stream",
     "text": [
      " 88%|████████▊ | 88000/100001 [3:08:30<21:38,  9.24it/s]"
     ]
    },
    {
     "name": "stdout",
     "output_type": "stream",
     "text": [
      "GAN: loss d: 3.44611    loss g: -2.27418\n",
      "saving current model\n"
     ]
    },
    {
     "name": "stderr",
     "output_type": "stream",
     "text": [
      "\n",
      "  0%|          | 0/195 [00:00<?, ?it/s]\u001b[A"
     ]
    },
    {
     "name": "stdout",
     "output_type": "stream",
     "text": [
      "Number of real images: 6252\n"
     ]
    },
    {
     "name": "stderr",
     "output_type": "stream",
     "text": [
      "\n",
      "\n",
      "  0%|          | 0/15 [00:00<?, ?it/s]\u001b[A\u001b[A"
     ]
    },
    {
     "name": "stdout",
     "output_type": "stream",
     "text": [
      "Number of synthetic images: 500\n"
     ]
    },
    {
     "name": "stderr",
     "output_type": "stream",
     "text": [
      " 88%|████████▊ | 88001/100001 [3:08:52<21:54:37,  6.57s/it]"
     ]
    },
    {
     "name": "stdout",
     "output_type": "stream",
     "text": [
      "Current fid score: 0.7259157601009179\n",
      "Fid scores: [4.781169086965528, 2.5563023530045648, 2.463046801314256, 2.4992711961120584, 2.218550049566371, 2.964950268119857, 3.4702528654377076, 2.613245115961785, 2.34790911689727, 2.6919041220970037, 2.3144257756644073, 2.3240966003506536, 1.993653403354564, 2.697158487724515, 1.7994096039010472, 2.91434783406185, 2.7811489268397516, 2.2334427836959794, 2.2575362052527765, 2.130950188976346, 2.15637473746202, 2.4389161668575845, 2.2519582703541623, 2.1827718797205335, 2.3576301559437454, 2.6942066386249337, 2.6747271169665723, 2.8508206571304022, 2.837364124793419, 2.920850907282844, 2.6905573257954796, 1.3344332586511385, 2.1663599865511003, 0.855827226287527, 0.7591339506391392, 1.0899071055671108, 1.556975725398381, 1.6322229933262378, 1.4239017743813775, 1.5249018576080395, 1.2095302975349256, 0.8666642624319927, 1.061769574879687, 1.0549228395687074, 0.8332865353009247, 1.4093295915717334, 0.8253746464537564, 1.0501828097794572, 0.753537841488491, 0.9101388104903059, 0.8306977745111297, 1.0361210015169284, 0.8622839615512738, 1.0211583963511188, 1.0494697313231427, 0.7210932457566237, 1.1723560449956096, 1.6164965744993367, 1.768061074180352, 2.2152855954706574, 2.1226241732258586, 0.6317119417673425, 1.2031446041186733, 1.037733761688667, 1.0837845443159715, 0.9380651985760089, 0.9150319052622109, 0.808499389931665, 0.799970201460674, 0.8919625371349333, 0.8143693713058333, 0.8586844360966879, 0.8256128930717352, 0.8573169783381545, 0.8552612111319675, 0.7613616173214552, 0.6842404076214379, 0.6530841946693293, 0.7431871029727688, 0.8513702442009361, 0.7277033269998512, 0.784420810190916, 0.8702575161919981, 0.8843211438312402, 0.6391728278030762, 0.8442567628354993, 0.803738395099522, 0.8126540751749438, 0.7259157601009179]\n"
     ]
    },
    {
     "name": "stderr",
     "output_type": "stream",
     "text": [
      "  0%|          | 0/195 [00:11<?, ?it/s]9:04:22,  2.72s/it] \n",
      "  0%|          | 0/15 [00:01<?, ?it/s]\n",
      " 88%|████████▊ | 88103/100001 [3:09:02<20:47,  9.54it/s]  "
     ]
    },
    {
     "name": "stdout",
     "output_type": "stream",
     "text": [
      "GAN: loss d: 2.60125    loss g: -1.89789\n"
     ]
    },
    {
     "name": "stderr",
     "output_type": "stream",
     "text": [
      " 88%|████████▊ | 88203/100001 [3:09:13<20:27,  9.61it/s]"
     ]
    },
    {
     "name": "stdout",
     "output_type": "stream",
     "text": [
      "GAN: loss d: 1.27853    loss g: -2.07935\n"
     ]
    },
    {
     "name": "stderr",
     "output_type": "stream",
     "text": [
      " 88%|████████▊ | 88303/100001 [3:09:24<20:27,  9.53it/s]"
     ]
    },
    {
     "name": "stdout",
     "output_type": "stream",
     "text": [
      "GAN: loss d: 2.22934    loss g: -2.92563\n"
     ]
    },
    {
     "name": "stderr",
     "output_type": "stream",
     "text": [
      " 88%|████████▊ | 88403/100001 [3:09:34<20:27,  9.45it/s]"
     ]
    },
    {
     "name": "stdout",
     "output_type": "stream",
     "text": [
      "GAN: loss d: 3.11142    loss g: -2.33030\n"
     ]
    },
    {
     "name": "stderr",
     "output_type": "stream",
     "text": [
      " 89%|████████▊ | 88503/100001 [3:09:45<19:39,  9.75it/s]"
     ]
    },
    {
     "name": "stdout",
     "output_type": "stream",
     "text": [
      "GAN: loss d: 1.64508    loss g: -3.10599\n"
     ]
    },
    {
     "name": "stderr",
     "output_type": "stream",
     "text": [
      " 89%|████████▊ | 88601/100001 [3:09:55<20:51,  9.11it/s]"
     ]
    },
    {
     "name": "stdout",
     "output_type": "stream",
     "text": [
      "GAN: loss d: 3.18836    loss g: -1.67207\n"
     ]
    },
    {
     "name": "stderr",
     "output_type": "stream",
     "text": [
      " 89%|████████▊ | 88703/100001 [3:10:06<20:00,  9.41it/s]"
     ]
    },
    {
     "name": "stdout",
     "output_type": "stream",
     "text": [
      "GAN: loss d: 2.27022    loss g: -2.35800\n"
     ]
    },
    {
     "name": "stderr",
     "output_type": "stream",
     "text": [
      " 89%|████████▉ | 88803/100001 [3:10:17<19:20,  9.65it/s]"
     ]
    },
    {
     "name": "stdout",
     "output_type": "stream",
     "text": [
      "GAN: loss d: 2.97708    loss g: -2.70571\n"
     ]
    },
    {
     "name": "stderr",
     "output_type": "stream",
     "text": [
      " 89%|████████▉ | 88901/100001 [3:10:27<20:32,  9.00it/s]"
     ]
    },
    {
     "name": "stdout",
     "output_type": "stream",
     "text": [
      "GAN: loss d: 2.87124    loss g: -2.12216\n"
     ]
    },
    {
     "name": "stderr",
     "output_type": "stream",
     "text": [
      " 89%|████████▉ | 89000/100001 [3:10:38<19:39,  9.33it/s]"
     ]
    },
    {
     "name": "stdout",
     "output_type": "stream",
     "text": [
      "GAN: loss d: 3.16193    loss g: -1.50286\n",
      "saving current model\n"
     ]
    },
    {
     "name": "stderr",
     "output_type": "stream",
     "text": [
      "\n",
      "  0%|          | 0/195 [00:00<?, ?it/s]\u001b[A"
     ]
    },
    {
     "name": "stdout",
     "output_type": "stream",
     "text": [
      "Number of real images: 6252\n"
     ]
    },
    {
     "name": "stderr",
     "output_type": "stream",
     "text": [
      "\n",
      "\n",
      "  0%|          | 0/15 [00:00<?, ?it/s]\u001b[A\u001b[A"
     ]
    },
    {
     "name": "stdout",
     "output_type": "stream",
     "text": [
      "Number of synthetic images: 500\n"
     ]
    },
    {
     "name": "stderr",
     "output_type": "stream",
     "text": [
      " 89%|████████▉ | 89003/100001 [3:10:59<10:52:37,  3.56s/it]"
     ]
    },
    {
     "name": "stdout",
     "output_type": "stream",
     "text": [
      "Current fid score: 0.6885014061403396\n",
      "Fid scores: [4.781169086965528, 2.5563023530045648, 2.463046801314256, 2.4992711961120584, 2.218550049566371, 2.964950268119857, 3.4702528654377076, 2.613245115961785, 2.34790911689727, 2.6919041220970037, 2.3144257756644073, 2.3240966003506536, 1.993653403354564, 2.697158487724515, 1.7994096039010472, 2.91434783406185, 2.7811489268397516, 2.2334427836959794, 2.2575362052527765, 2.130950188976346, 2.15637473746202, 2.4389161668575845, 2.2519582703541623, 2.1827718797205335, 2.3576301559437454, 2.6942066386249337, 2.6747271169665723, 2.8508206571304022, 2.837364124793419, 2.920850907282844, 2.6905573257954796, 1.3344332586511385, 2.1663599865511003, 0.855827226287527, 0.7591339506391392, 1.0899071055671108, 1.556975725398381, 1.6322229933262378, 1.4239017743813775, 1.5249018576080395, 1.2095302975349256, 0.8666642624319927, 1.061769574879687, 1.0549228395687074, 0.8332865353009247, 1.4093295915717334, 0.8253746464537564, 1.0501828097794572, 0.753537841488491, 0.9101388104903059, 0.8306977745111297, 1.0361210015169284, 0.8622839615512738, 1.0211583963511188, 1.0494697313231427, 0.7210932457566237, 1.1723560449956096, 1.6164965744993367, 1.768061074180352, 2.2152855954706574, 2.1226241732258586, 0.6317119417673425, 1.2031446041186733, 1.037733761688667, 1.0837845443159715, 0.9380651985760089, 0.9150319052622109, 0.808499389931665, 0.799970201460674, 0.8919625371349333, 0.8143693713058333, 0.8586844360966879, 0.8256128930717352, 0.8573169783381545, 0.8552612111319675, 0.7613616173214552, 0.6842404076214379, 0.6530841946693293, 0.7431871029727688, 0.8513702442009361, 0.7277033269998512, 0.784420810190916, 0.8702575161919981, 0.8843211438312402, 0.6391728278030762, 0.8442567628354993, 0.803738395099522, 0.8126540751749438, 0.7259157601009179, 0.6885014061403396]\n"
     ]
    },
    {
     "name": "stderr",
     "output_type": "stream",
     "text": [
      "  0%|          | 0/195 [00:16<?, ?it/s]19:04,  9.57it/s]   \n",
      "  0%|          | 0/15 [00:06<?, ?it/s]\n",
      " 89%|████████▉ | 89101/100001 [3:11:10<19:38,  9.25it/s]"
     ]
    },
    {
     "name": "stdout",
     "output_type": "stream",
     "text": [
      "GAN: loss d: 3.61869    loss g: -2.37398\n"
     ]
    },
    {
     "name": "stderr",
     "output_type": "stream",
     "text": [
      " 89%|████████▉ | 89203/100001 [3:11:21<18:59,  9.47it/s]"
     ]
    },
    {
     "name": "stdout",
     "output_type": "stream",
     "text": [
      "GAN: loss d: 3.02010    loss g: -2.23419\n"
     ]
    },
    {
     "name": "stderr",
     "output_type": "stream",
     "text": [
      " 89%|████████▉ | 89303/100001 [3:11:31<18:31,  9.62it/s]"
     ]
    },
    {
     "name": "stdout",
     "output_type": "stream",
     "text": [
      "GAN: loss d: 4.70094    loss g: -1.65902\n"
     ]
    },
    {
     "name": "stderr",
     "output_type": "stream",
     "text": [
      " 89%|████████▉ | 89403/100001 [3:11:42<18:25,  9.59it/s]"
     ]
    },
    {
     "name": "stdout",
     "output_type": "stream",
     "text": [
      "GAN: loss d: 3.62068    loss g: -2.61303\n"
     ]
    },
    {
     "name": "stderr",
     "output_type": "stream",
     "text": [
      " 90%|████████▉ | 89503/100001 [3:11:52<18:09,  9.63it/s]"
     ]
    },
    {
     "name": "stdout",
     "output_type": "stream",
     "text": [
      "GAN: loss d: 1.49371    loss g: -1.79357\n"
     ]
    },
    {
     "name": "stderr",
     "output_type": "stream",
     "text": [
      " 90%|████████▉ | 89603/100001 [3:12:03<18:17,  9.47it/s]"
     ]
    },
    {
     "name": "stdout",
     "output_type": "stream",
     "text": [
      "GAN: loss d: 4.96757    loss g: -2.09261\n"
     ]
    },
    {
     "name": "stderr",
     "output_type": "stream",
     "text": [
      " 90%|████████▉ | 89703/100001 [3:12:13<17:56,  9.56it/s]"
     ]
    },
    {
     "name": "stdout",
     "output_type": "stream",
     "text": [
      "GAN: loss d: 2.24976    loss g: -2.86965\n"
     ]
    },
    {
     "name": "stderr",
     "output_type": "stream",
     "text": [
      " 90%|████████▉ | 89803/100001 [3:12:24<17:48,  9.55it/s]"
     ]
    },
    {
     "name": "stdout",
     "output_type": "stream",
     "text": [
      "GAN: loss d: 2.81016    loss g: -2.74947\n"
     ]
    },
    {
     "name": "stderr",
     "output_type": "stream",
     "text": [
      " 90%|████████▉ | 89903/100001 [3:12:35<17:41,  9.52it/s]"
     ]
    },
    {
     "name": "stdout",
     "output_type": "stream",
     "text": [
      "GAN: loss d: 4.19784    loss g: -1.94268\n"
     ]
    },
    {
     "name": "stderr",
     "output_type": "stream",
     "text": [
      " 90%|████████▉ | 90000/100001 [3:12:45<17:41,  9.42it/s]"
     ]
    },
    {
     "name": "stdout",
     "output_type": "stream",
     "text": [
      "GAN: loss d: 2.50539    loss g: -2.46017\n",
      "saving current model\n"
     ]
    },
    {
     "name": "stderr",
     "output_type": "stream",
     "text": [
      "\n",
      "  0%|          | 0/195 [00:00<?, ?it/s]\u001b[A"
     ]
    },
    {
     "name": "stdout",
     "output_type": "stream",
     "text": [
      "Number of real images: 6252\n"
     ]
    },
    {
     "name": "stderr",
     "output_type": "stream",
     "text": [
      "\n",
      "\n",
      "  0%|          | 0/15 [00:00<?, ?it/s]\u001b[A\u001b[A"
     ]
    },
    {
     "name": "stdout",
     "output_type": "stream",
     "text": [
      "Number of synthetic images: 500\n"
     ]
    },
    {
     "name": "stderr",
     "output_type": "stream",
     "text": [
      " 90%|█████████ | 90003/100001 [3:13:07<9:53:40,  3.56s/it] "
     ]
    },
    {
     "name": "stdout",
     "output_type": "stream",
     "text": [
      "Current fid score: 0.6711783130870579\n",
      "Fid scores: [4.781169086965528, 2.5563023530045648, 2.463046801314256, 2.4992711961120584, 2.218550049566371, 2.964950268119857, 3.4702528654377076, 2.613245115961785, 2.34790911689727, 2.6919041220970037, 2.3144257756644073, 2.3240966003506536, 1.993653403354564, 2.697158487724515, 1.7994096039010472, 2.91434783406185, 2.7811489268397516, 2.2334427836959794, 2.2575362052527765, 2.130950188976346, 2.15637473746202, 2.4389161668575845, 2.2519582703541623, 2.1827718797205335, 2.3576301559437454, 2.6942066386249337, 2.6747271169665723, 2.8508206571304022, 2.837364124793419, 2.920850907282844, 2.6905573257954796, 1.3344332586511385, 2.1663599865511003, 0.855827226287527, 0.7591339506391392, 1.0899071055671108, 1.556975725398381, 1.6322229933262378, 1.4239017743813775, 1.5249018576080395, 1.2095302975349256, 0.8666642624319927, 1.061769574879687, 1.0549228395687074, 0.8332865353009247, 1.4093295915717334, 0.8253746464537564, 1.0501828097794572, 0.753537841488491, 0.9101388104903059, 0.8306977745111297, 1.0361210015169284, 0.8622839615512738, 1.0211583963511188, 1.0494697313231427, 0.7210932457566237, 1.1723560449956096, 1.6164965744993367, 1.768061074180352, 2.2152855954706574, 2.1226241732258586, 0.6317119417673425, 1.2031446041186733, 1.037733761688667, 1.0837845443159715, 0.9380651985760089, 0.9150319052622109, 0.808499389931665, 0.799970201460674, 0.8919625371349333, 0.8143693713058333, 0.8586844360966879, 0.8256128930717352, 0.8573169783381545, 0.8552612111319675, 0.7613616173214552, 0.6842404076214379, 0.6530841946693293, 0.7431871029727688, 0.8513702442009361, 0.7277033269998512, 0.784420810190916, 0.8702575161919981, 0.8843211438312402, 0.6391728278030762, 0.8442567628354993, 0.803738395099522, 0.8126540751749438, 0.7259157601009179, 0.6885014061403396, 0.6711783130870579]\n"
     ]
    },
    {
     "name": "stderr",
     "output_type": "stream",
     "text": [
      "  0%|          | 0/195 [00:14<?, ?it/s]17:29,  9.49it/s]  \n",
      "  0%|          | 0/15 [00:04<?, ?it/s]\n",
      " 90%|█████████ | 90103/100001 [3:13:17<17:03,  9.67it/s]"
     ]
    },
    {
     "name": "stdout",
     "output_type": "stream",
     "text": [
      "GAN: loss d: 3.73651    loss g: -1.62437\n"
     ]
    },
    {
     "name": "stderr",
     "output_type": "stream",
     "text": [
      " 90%|█████████ | 90201/100001 [3:13:27<17:37,  9.27it/s]"
     ]
    },
    {
     "name": "stdout",
     "output_type": "stream",
     "text": [
      "GAN: loss d: 2.59396    loss g: -1.46016\n"
     ]
    },
    {
     "name": "stderr",
     "output_type": "stream",
     "text": [
      " 90%|█████████ | 90301/100001 [3:13:38<17:52,  9.04it/s]"
     ]
    },
    {
     "name": "stdout",
     "output_type": "stream",
     "text": [
      "GAN: loss d: 0.52104    loss g: -2.09796\n"
     ]
    },
    {
     "name": "stderr",
     "output_type": "stream",
     "text": [
      " 90%|█████████ | 90403/100001 [3:13:49<16:31,  9.68it/s]"
     ]
    },
    {
     "name": "stdout",
     "output_type": "stream",
     "text": [
      "GAN: loss d: 4.07898    loss g: -2.13457\n"
     ]
    },
    {
     "name": "stderr",
     "output_type": "stream",
     "text": [
      " 91%|█████████ | 90501/100001 [3:13:59<17:05,  9.26it/s]"
     ]
    },
    {
     "name": "stdout",
     "output_type": "stream",
     "text": [
      "GAN: loss d: 1.34981    loss g: -2.03270\n"
     ]
    },
    {
     "name": "stderr",
     "output_type": "stream",
     "text": [
      " 91%|█████████ | 90603/100001 [3:14:10<16:22,  9.56it/s]"
     ]
    },
    {
     "name": "stdout",
     "output_type": "stream",
     "text": [
      "GAN: loss d: 3.61271    loss g: -3.79679\n"
     ]
    },
    {
     "name": "stderr",
     "output_type": "stream",
     "text": [
      " 91%|█████████ | 90703/100001 [3:14:20<16:21,  9.47it/s]"
     ]
    },
    {
     "name": "stdout",
     "output_type": "stream",
     "text": [
      "GAN: loss d: 4.87243    loss g: -2.57046\n"
     ]
    },
    {
     "name": "stderr",
     "output_type": "stream",
     "text": [
      " 91%|█████████ | 90803/100001 [3:14:31<16:03,  9.55it/s]"
     ]
    },
    {
     "name": "stdout",
     "output_type": "stream",
     "text": [
      "GAN: loss d: 4.62830    loss g: -2.62443\n"
     ]
    },
    {
     "name": "stderr",
     "output_type": "stream",
     "text": [
      " 91%|█████████ | 90901/100001 [3:14:41<16:47,  9.04it/s]"
     ]
    },
    {
     "name": "stdout",
     "output_type": "stream",
     "text": [
      "GAN: loss d: 5.39028    loss g: -2.40318\n"
     ]
    },
    {
     "name": "stderr",
     "output_type": "stream",
     "text": [
      " 91%|█████████ | 91000/100001 [3:14:52<15:45,  9.52it/s]"
     ]
    },
    {
     "name": "stdout",
     "output_type": "stream",
     "text": [
      "GAN: loss d: 3.48094    loss g: -2.68704\n",
      "saving current model\n"
     ]
    },
    {
     "name": "stderr",
     "output_type": "stream",
     "text": [
      "\n",
      "  0%|          | 0/195 [00:00<?, ?it/s]\u001b[A"
     ]
    },
    {
     "name": "stdout",
     "output_type": "stream",
     "text": [
      "Number of real images: 6252\n"
     ]
    },
    {
     "name": "stderr",
     "output_type": "stream",
     "text": [
      "\n",
      "\n",
      "  0%|          | 0/15 [00:00<?, ?it/s]\u001b[A\u001b[A"
     ]
    },
    {
     "name": "stdout",
     "output_type": "stream",
     "text": [
      "Number of synthetic images: 500\n"
     ]
    },
    {
     "name": "stderr",
     "output_type": "stream",
     "text": [
      " 91%|█████████ | 91001/100001 [3:15:13<16:21:49,  6.55s/it]"
     ]
    },
    {
     "name": "stdout",
     "output_type": "stream",
     "text": [
      "Current fid score: 0.9429682922040961\n",
      "Fid scores: [4.781169086965528, 2.5563023530045648, 2.463046801314256, 2.4992711961120584, 2.218550049566371, 2.964950268119857, 3.4702528654377076, 2.613245115961785, 2.34790911689727, 2.6919041220970037, 2.3144257756644073, 2.3240966003506536, 1.993653403354564, 2.697158487724515, 1.7994096039010472, 2.91434783406185, 2.7811489268397516, 2.2334427836959794, 2.2575362052527765, 2.130950188976346, 2.15637473746202, 2.4389161668575845, 2.2519582703541623, 2.1827718797205335, 2.3576301559437454, 2.6942066386249337, 2.6747271169665723, 2.8508206571304022, 2.837364124793419, 2.920850907282844, 2.6905573257954796, 1.3344332586511385, 2.1663599865511003, 0.855827226287527, 0.7591339506391392, 1.0899071055671108, 1.556975725398381, 1.6322229933262378, 1.4239017743813775, 1.5249018576080395, 1.2095302975349256, 0.8666642624319927, 1.061769574879687, 1.0549228395687074, 0.8332865353009247, 1.4093295915717334, 0.8253746464537564, 1.0501828097794572, 0.753537841488491, 0.9101388104903059, 0.8306977745111297, 1.0361210015169284, 0.8622839615512738, 1.0211583963511188, 1.0494697313231427, 0.7210932457566237, 1.1723560449956096, 1.6164965744993367, 1.768061074180352, 2.2152855954706574, 2.1226241732258586, 0.6317119417673425, 1.2031446041186733, 1.037733761688667, 1.0837845443159715, 0.9380651985760089, 0.9150319052622109, 0.808499389931665, 0.799970201460674, 0.8919625371349333, 0.8143693713058333, 0.8586844360966879, 0.8256128930717352, 0.8573169783381545, 0.8552612111319675, 0.7613616173214552, 0.6842404076214379, 0.6530841946693293, 0.7431871029727688, 0.8513702442009361, 0.7277033269998512, 0.784420810190916, 0.8702575161919981, 0.8843211438312402, 0.6391728278030762, 0.8442567628354993, 0.803738395099522, 0.8126540751749438, 0.7259157601009179, 0.6885014061403396, 0.6711783130870579, 0.9429682922040961]\n"
     ]
    },
    {
     "name": "stderr",
     "output_type": "stream",
     "text": [
      "  0%|          | 0/195 [00:19<?, ?it/s]15:44,  9.45it/s]   \n",
      "  0%|          | 0/15 [00:09<?, ?it/s]\n",
      " 91%|█████████ | 91103/100001 [3:15:24<15:25,  9.61it/s]"
     ]
    },
    {
     "name": "stdout",
     "output_type": "stream",
     "text": [
      "GAN: loss d: 4.20448    loss g: -2.55841\n"
     ]
    },
    {
     "name": "stderr",
     "output_type": "stream",
     "text": [
      " 91%|█████████ | 91203/100001 [3:15:35<15:23,  9.53it/s]"
     ]
    },
    {
     "name": "stdout",
     "output_type": "stream",
     "text": [
      "GAN: loss d: 3.80468    loss g: -2.85340\n"
     ]
    },
    {
     "name": "stderr",
     "output_type": "stream",
     "text": [
      " 91%|█████████▏| 91301/100001 [3:15:45<15:50,  9.16it/s]"
     ]
    },
    {
     "name": "stdout",
     "output_type": "stream",
     "text": [
      "GAN: loss d: 2.88848    loss g: -2.54059\n"
     ]
    },
    {
     "name": "stderr",
     "output_type": "stream",
     "text": [
      " 91%|█████████▏| 91401/100001 [3:15:56<15:56,  8.99it/s]"
     ]
    },
    {
     "name": "stdout",
     "output_type": "stream",
     "text": [
      "GAN: loss d: 4.03077    loss g: -3.54508\n"
     ]
    },
    {
     "name": "stderr",
     "output_type": "stream",
     "text": [
      " 92%|█████████▏| 91501/100001 [3:16:06<15:47,  8.97it/s]"
     ]
    },
    {
     "name": "stdout",
     "output_type": "stream",
     "text": [
      "GAN: loss d: 4.35999    loss g: -3.08581\n"
     ]
    },
    {
     "name": "stderr",
     "output_type": "stream",
     "text": [
      " 92%|█████████▏| 91603/100001 [3:16:17<14:24,  9.72it/s]"
     ]
    },
    {
     "name": "stdout",
     "output_type": "stream",
     "text": [
      "GAN: loss d: 3.18006    loss g: -3.06224\n"
     ]
    },
    {
     "name": "stderr",
     "output_type": "stream",
     "text": [
      " 92%|█████████▏| 91703/100001 [3:16:28<14:30,  9.53it/s]"
     ]
    },
    {
     "name": "stdout",
     "output_type": "stream",
     "text": [
      "GAN: loss d: 2.27412    loss g: -2.77594\n"
     ]
    },
    {
     "name": "stderr",
     "output_type": "stream",
     "text": [
      " 92%|█████████▏| 91801/100001 [3:16:38<15:18,  8.93it/s]"
     ]
    },
    {
     "name": "stdout",
     "output_type": "stream",
     "text": [
      "GAN: loss d: 3.17964    loss g: -2.63977\n"
     ]
    },
    {
     "name": "stderr",
     "output_type": "stream",
     "text": [
      " 92%|█████████▏| 91901/100001 [3:16:49<14:46,  9.14it/s]"
     ]
    },
    {
     "name": "stdout",
     "output_type": "stream",
     "text": [
      "GAN: loss d: 2.43532    loss g: -3.23565\n"
     ]
    },
    {
     "name": "stderr",
     "output_type": "stream",
     "text": [
      " 92%|█████████▏| 92000/100001 [3:16:59<13:59,  9.53it/s]"
     ]
    },
    {
     "name": "stdout",
     "output_type": "stream",
     "text": [
      "GAN: loss d: 2.57965    loss g: -2.73430\n",
      "saving current model\n"
     ]
    },
    {
     "name": "stderr",
     "output_type": "stream",
     "text": [
      "\n",
      "  0%|          | 0/195 [00:00<?, ?it/s]\u001b[A"
     ]
    },
    {
     "name": "stdout",
     "output_type": "stream",
     "text": [
      "Number of real images: 6252\n"
     ]
    },
    {
     "name": "stderr",
     "output_type": "stream",
     "text": [
      "\n",
      "\n",
      "  0%|          | 0/15 [00:00<?, ?it/s]\u001b[A\u001b[A"
     ]
    },
    {
     "name": "stdout",
     "output_type": "stream",
     "text": [
      "Number of synthetic images: 500\n"
     ]
    },
    {
     "name": "stderr",
     "output_type": "stream",
     "text": [
      " 92%|█████████▏| 92001/100001 [3:17:21<14:31:03,  6.53s/it]"
     ]
    },
    {
     "name": "stdout",
     "output_type": "stream",
     "text": [
      "Current fid score: 1.3793077777228078\n",
      "Fid scores: [4.781169086965528, 2.5563023530045648, 2.463046801314256, 2.4992711961120584, 2.218550049566371, 2.964950268119857, 3.4702528654377076, 2.613245115961785, 2.34790911689727, 2.6919041220970037, 2.3144257756644073, 2.3240966003506536, 1.993653403354564, 2.697158487724515, 1.7994096039010472, 2.91434783406185, 2.7811489268397516, 2.2334427836959794, 2.2575362052527765, 2.130950188976346, 2.15637473746202, 2.4389161668575845, 2.2519582703541623, 2.1827718797205335, 2.3576301559437454, 2.6942066386249337, 2.6747271169665723, 2.8508206571304022, 2.837364124793419, 2.920850907282844, 2.6905573257954796, 1.3344332586511385, 2.1663599865511003, 0.855827226287527, 0.7591339506391392, 1.0899071055671108, 1.556975725398381, 1.6322229933262378, 1.4239017743813775, 1.5249018576080395, 1.2095302975349256, 0.8666642624319927, 1.061769574879687, 1.0549228395687074, 0.8332865353009247, 1.4093295915717334, 0.8253746464537564, 1.0501828097794572, 0.753537841488491, 0.9101388104903059, 0.8306977745111297, 1.0361210015169284, 0.8622839615512738, 1.0211583963511188, 1.0494697313231427, 0.7210932457566237, 1.1723560449956096, 1.6164965744993367, 1.768061074180352, 2.2152855954706574, 2.1226241732258586, 0.6317119417673425, 1.2031446041186733, 1.037733761688667, 1.0837845443159715, 0.9380651985760089, 0.9150319052622109, 0.808499389931665, 0.799970201460674, 0.8919625371349333, 0.8143693713058333, 0.8586844360966879, 0.8256128930717352, 0.8573169783381545, 0.8552612111319675, 0.7613616173214552, 0.6842404076214379, 0.6530841946693293, 0.7431871029727688, 0.8513702442009361, 0.7277033269998512, 0.784420810190916, 0.8702575161919981, 0.8843211438312402, 0.6391728278030762, 0.8442567628354993, 0.803738395099522, 0.8126540751749438, 0.7259157601009179, 0.6885014061403396, 0.6711783130870579, 0.9429682922040961, 1.3793077777228078]\n"
     ]
    },
    {
     "name": "stderr",
     "output_type": "stream",
     "text": [
      "  0%|          | 0/195 [00:15<?, ?it/s]14:08,  9.38it/s]   \n",
      "  0%|          | 0/15 [00:05<?, ?it/s]\n",
      " 92%|█████████▏| 92103/100001 [3:17:31<14:00,  9.40it/s]"
     ]
    },
    {
     "name": "stdout",
     "output_type": "stream",
     "text": [
      "GAN: loss d: 2.58936    loss g: -2.53431\n"
     ]
    },
    {
     "name": "stderr",
     "output_type": "stream",
     "text": [
      " 92%|█████████▏| 92201/100001 [3:17:42<14:15,  9.12it/s]"
     ]
    },
    {
     "name": "stdout",
     "output_type": "stream",
     "text": [
      "GAN: loss d: 2.95665    loss g: -2.68866\n"
     ]
    },
    {
     "name": "stderr",
     "output_type": "stream",
     "text": [
      " 92%|█████████▏| 92303/100001 [3:17:53<13:13,  9.70it/s]"
     ]
    },
    {
     "name": "stdout",
     "output_type": "stream",
     "text": [
      "GAN: loss d: 4.09952    loss g: -2.04026\n"
     ]
    },
    {
     "name": "stderr",
     "output_type": "stream",
     "text": [
      " 92%|█████████▏| 92403/100001 [3:18:03<13:05,  9.67it/s]"
     ]
    },
    {
     "name": "stdout",
     "output_type": "stream",
     "text": [
      "GAN: loss d: 0.79868    loss g: -2.71101\n"
     ]
    },
    {
     "name": "stderr",
     "output_type": "stream",
     "text": [
      " 93%|█████████▎| 92503/100001 [3:18:14<13:12,  9.46it/s]"
     ]
    },
    {
     "name": "stdout",
     "output_type": "stream",
     "text": [
      "GAN: loss d: 3.15837    loss g: -2.12370\n"
     ]
    },
    {
     "name": "stderr",
     "output_type": "stream",
     "text": [
      " 93%|█████████▎| 92601/100001 [3:18:24<13:28,  9.15it/s]"
     ]
    },
    {
     "name": "stdout",
     "output_type": "stream",
     "text": [
      "GAN: loss d: 4.61800    loss g: -2.91958\n"
     ]
    },
    {
     "name": "stderr",
     "output_type": "stream",
     "text": [
      " 93%|█████████▎| 92701/100001 [3:18:35<13:30,  9.00it/s]"
     ]
    },
    {
     "name": "stdout",
     "output_type": "stream",
     "text": [
      "GAN: loss d: 3.23017    loss g: -2.25546\n"
     ]
    },
    {
     "name": "stderr",
     "output_type": "stream",
     "text": [
      " 93%|█████████▎| 92801/100001 [3:18:45<13:11,  9.10it/s]"
     ]
    },
    {
     "name": "stdout",
     "output_type": "stream",
     "text": [
      "GAN: loss d: 4.13564    loss g: -1.84319\n"
     ]
    },
    {
     "name": "stderr",
     "output_type": "stream",
     "text": [
      " 93%|█████████▎| 92903/100001 [3:18:56<12:26,  9.51it/s]"
     ]
    },
    {
     "name": "stdout",
     "output_type": "stream",
     "text": [
      "GAN: loss d: 4.99950    loss g: -2.35085\n"
     ]
    },
    {
     "name": "stderr",
     "output_type": "stream",
     "text": [
      " 93%|█████████▎| 93000/100001 [3:19:06<12:26,  9.38it/s]"
     ]
    },
    {
     "name": "stdout",
     "output_type": "stream",
     "text": [
      "GAN: loss d: 3.35308    loss g: -1.81215\n",
      "saving current model\n"
     ]
    },
    {
     "name": "stderr",
     "output_type": "stream",
     "text": [
      "\n",
      "  0%|          | 0/195 [00:00<?, ?it/s]\u001b[A"
     ]
    },
    {
     "name": "stdout",
     "output_type": "stream",
     "text": [
      "Number of real images: 6252\n"
     ]
    },
    {
     "name": "stderr",
     "output_type": "stream",
     "text": [
      "\n",
      "\n",
      "  0%|          | 0/15 [00:00<?, ?it/s]\u001b[A\u001b[A"
     ]
    },
    {
     "name": "stdout",
     "output_type": "stream",
     "text": [
      "Number of synthetic images: 500\n"
     ]
    },
    {
     "name": "stderr",
     "output_type": "stream",
     "text": [
      " 93%|█████████▎| 93001/100001 [3:19:28<12:37:56,  6.50s/it]"
     ]
    },
    {
     "name": "stdout",
     "output_type": "stream",
     "text": [
      "Current fid score: 1.3560523541578249\n",
      "Fid scores: [4.781169086965528, 2.5563023530045648, 2.463046801314256, 2.4992711961120584, 2.218550049566371, 2.964950268119857, 3.4702528654377076, 2.613245115961785, 2.34790911689727, 2.6919041220970037, 2.3144257756644073, 2.3240966003506536, 1.993653403354564, 2.697158487724515, 1.7994096039010472, 2.91434783406185, 2.7811489268397516, 2.2334427836959794, 2.2575362052527765, 2.130950188976346, 2.15637473746202, 2.4389161668575845, 2.2519582703541623, 2.1827718797205335, 2.3576301559437454, 2.6942066386249337, 2.6747271169665723, 2.8508206571304022, 2.837364124793419, 2.920850907282844, 2.6905573257954796, 1.3344332586511385, 2.1663599865511003, 0.855827226287527, 0.7591339506391392, 1.0899071055671108, 1.556975725398381, 1.6322229933262378, 1.4239017743813775, 1.5249018576080395, 1.2095302975349256, 0.8666642624319927, 1.061769574879687, 1.0549228395687074, 0.8332865353009247, 1.4093295915717334, 0.8253746464537564, 1.0501828097794572, 0.753537841488491, 0.9101388104903059, 0.8306977745111297, 1.0361210015169284, 0.8622839615512738, 1.0211583963511188, 1.0494697313231427, 0.7210932457566237, 1.1723560449956096, 1.6164965744993367, 1.768061074180352, 2.2152855954706574, 2.1226241732258586, 0.6317119417673425, 1.2031446041186733, 1.037733761688667, 1.0837845443159715, 0.9380651985760089, 0.9150319052622109, 0.808499389931665, 0.799970201460674, 0.8919625371349333, 0.8143693713058333, 0.8586844360966879, 0.8256128930717352, 0.8573169783381545, 0.8552612111319675, 0.7613616173214552, 0.6842404076214379, 0.6530841946693293, 0.7431871029727688, 0.8513702442009361, 0.7277033269998512, 0.784420810190916, 0.8702575161919981, 0.8843211438312402, 0.6391728278030762, 0.8442567628354993, 0.803738395099522, 0.8126540751749438, 0.7259157601009179, 0.6885014061403396, 0.6711783130870579, 0.9429682922040961, 1.3793077777228078, 1.3560523541578249]\n"
     ]
    },
    {
     "name": "stderr",
     "output_type": "stream",
     "text": [
      "  0%|          | 0/195 [00:19<?, ?it/s]12:19,  9.35it/s]   \n",
      "  0%|          | 0/15 [00:09<?, ?it/s]\n",
      " 93%|█████████▎| 93103/100001 [3:19:39<12:04,  9.52it/s]"
     ]
    },
    {
     "name": "stdout",
     "output_type": "stream",
     "text": [
      "GAN: loss d: 3.91874    loss g: -2.02323\n"
     ]
    },
    {
     "name": "stderr",
     "output_type": "stream",
     "text": [
      " 93%|█████████▎| 93203/100001 [3:19:49<11:56,  9.48it/s]"
     ]
    },
    {
     "name": "stdout",
     "output_type": "stream",
     "text": [
      "GAN: loss d: 3.64591    loss g: -1.79455\n"
     ]
    },
    {
     "name": "stderr",
     "output_type": "stream",
     "text": [
      " 93%|█████████▎| 93301/100001 [3:20:00<12:22,  9.02it/s]"
     ]
    },
    {
     "name": "stdout",
     "output_type": "stream",
     "text": [
      "GAN: loss d: 3.55404    loss g: -2.61420\n"
     ]
    },
    {
     "name": "stderr",
     "output_type": "stream",
     "text": [
      " 93%|█████████▎| 93401/100001 [3:20:10<12:13,  9.00it/s]"
     ]
    },
    {
     "name": "stdout",
     "output_type": "stream",
     "text": [
      "GAN: loss d: 2.35006    loss g: -1.90907\n"
     ]
    },
    {
     "name": "stderr",
     "output_type": "stream",
     "text": [
      " 94%|█████████▎| 93501/100001 [3:20:21<12:01,  9.01it/s]"
     ]
    },
    {
     "name": "stdout",
     "output_type": "stream",
     "text": [
      "GAN: loss d: 1.31879    loss g: -2.54611\n"
     ]
    },
    {
     "name": "stderr",
     "output_type": "stream",
     "text": [
      " 94%|█████████▎| 93603/100001 [3:20:31<11:07,  9.58it/s]"
     ]
    },
    {
     "name": "stdout",
     "output_type": "stream",
     "text": [
      "GAN: loss d: 4.01115    loss g: -2.32765\n"
     ]
    },
    {
     "name": "stderr",
     "output_type": "stream",
     "text": [
      " 94%|█████████▎| 93703/100001 [3:20:42<11:00,  9.54it/s]"
     ]
    },
    {
     "name": "stdout",
     "output_type": "stream",
     "text": [
      "GAN: loss d: 2.64353    loss g: -2.20474\n"
     ]
    },
    {
     "name": "stderr",
     "output_type": "stream",
     "text": [
      " 94%|█████████▍| 93803/100001 [3:20:53<10:41,  9.66it/s]"
     ]
    },
    {
     "name": "stdout",
     "output_type": "stream",
     "text": [
      "GAN: loss d: 3.08948    loss g: -2.97915\n"
     ]
    },
    {
     "name": "stderr",
     "output_type": "stream",
     "text": [
      " 94%|█████████▍| 93901/100001 [3:21:03<11:15,  9.03it/s]"
     ]
    },
    {
     "name": "stdout",
     "output_type": "stream",
     "text": [
      "GAN: loss d: 2.18544    loss g: -2.24390\n"
     ]
    },
    {
     "name": "stderr",
     "output_type": "stream",
     "text": [
      " 94%|█████████▍| 94000/100001 [3:21:13<10:42,  9.34it/s]"
     ]
    },
    {
     "name": "stdout",
     "output_type": "stream",
     "text": [
      "GAN: loss d: 1.92494    loss g: -2.22690\n",
      "saving current model\n"
     ]
    },
    {
     "name": "stderr",
     "output_type": "stream",
     "text": [
      "\n",
      "  0%|          | 0/195 [00:00<?, ?it/s]\u001b[A"
     ]
    },
    {
     "name": "stdout",
     "output_type": "stream",
     "text": [
      "Number of real images: 6252\n"
     ]
    },
    {
     "name": "stderr",
     "output_type": "stream",
     "text": [
      "\n",
      "\n",
      "  0%|          | 0/15 [00:00<?, ?it/s]\u001b[A\u001b[A"
     ]
    },
    {
     "name": "stdout",
     "output_type": "stream",
     "text": [
      "Number of synthetic images: 500\n"
     ]
    },
    {
     "name": "stderr",
     "output_type": "stream",
     "text": [
      " 94%|█████████▍| 94001/100001 [3:21:35<10:50:21,  6.50s/it]"
     ]
    },
    {
     "name": "stdout",
     "output_type": "stream",
     "text": [
      "Current fid score: 0.9205852437708621\n",
      "Fid scores: [4.781169086965528, 2.5563023530045648, 2.463046801314256, 2.4992711961120584, 2.218550049566371, 2.964950268119857, 3.4702528654377076, 2.613245115961785, 2.34790911689727, 2.6919041220970037, 2.3144257756644073, 2.3240966003506536, 1.993653403354564, 2.697158487724515, 1.7994096039010472, 2.91434783406185, 2.7811489268397516, 2.2334427836959794, 2.2575362052527765, 2.130950188976346, 2.15637473746202, 2.4389161668575845, 2.2519582703541623, 2.1827718797205335, 2.3576301559437454, 2.6942066386249337, 2.6747271169665723, 2.8508206571304022, 2.837364124793419, 2.920850907282844, 2.6905573257954796, 1.3344332586511385, 2.1663599865511003, 0.855827226287527, 0.7591339506391392, 1.0899071055671108, 1.556975725398381, 1.6322229933262378, 1.4239017743813775, 1.5249018576080395, 1.2095302975349256, 0.8666642624319927, 1.061769574879687, 1.0549228395687074, 0.8332865353009247, 1.4093295915717334, 0.8253746464537564, 1.0501828097794572, 0.753537841488491, 0.9101388104903059, 0.8306977745111297, 1.0361210015169284, 0.8622839615512738, 1.0211583963511188, 1.0494697313231427, 0.7210932457566237, 1.1723560449956096, 1.6164965744993367, 1.768061074180352, 2.2152855954706574, 2.1226241732258586, 0.6317119417673425, 1.2031446041186733, 1.037733761688667, 1.0837845443159715, 0.9380651985760089, 0.9150319052622109, 0.808499389931665, 0.799970201460674, 0.8919625371349333, 0.8143693713058333, 0.8586844360966879, 0.8256128930717352, 0.8573169783381545, 0.8552612111319675, 0.7613616173214552, 0.6842404076214379, 0.6530841946693293, 0.7431871029727688, 0.8513702442009361, 0.7277033269998512, 0.784420810190916, 0.8702575161919981, 0.8843211438312402, 0.6391728278030762, 0.8442567628354993, 0.803738395099522, 0.8126540751749438, 0.7259157601009179, 0.6885014061403396, 0.6711783130870579, 0.9429682922040961, 1.3793077777228078, 1.3560523541578249, 0.9205852437708621]\n"
     ]
    },
    {
     "name": "stderr",
     "output_type": "stream",
     "text": [
      "  0%|          | 0/195 [00:15<?, ?it/s]10:30,  9.44it/s]   \n",
      "  0%|          | 0/15 [00:05<?, ?it/s]\n",
      " 94%|█████████▍| 94101/100001 [3:21:45<10:51,  9.05it/s]"
     ]
    },
    {
     "name": "stdout",
     "output_type": "stream",
     "text": [
      "GAN: loss d: 4.10090    loss g: -3.05254\n"
     ]
    },
    {
     "name": "stderr",
     "output_type": "stream",
     "text": [
      " 94%|█████████▍| 94203/100001 [3:21:56<10:03,  9.60it/s]"
     ]
    },
    {
     "name": "stdout",
     "output_type": "stream",
     "text": [
      "GAN: loss d: 1.42113    loss g: -2.91966\n"
     ]
    },
    {
     "name": "stderr",
     "output_type": "stream",
     "text": [
      " 94%|█████████▍| 94303/100001 [3:22:07<09:55,  9.57it/s]"
     ]
    },
    {
     "name": "stdout",
     "output_type": "stream",
     "text": [
      "GAN: loss d: 1.72136    loss g: -1.92352\n"
     ]
    },
    {
     "name": "stderr",
     "output_type": "stream",
     "text": [
      " 94%|█████████▍| 94403/100001 [3:22:17<09:40,  9.64it/s]"
     ]
    },
    {
     "name": "stdout",
     "output_type": "stream",
     "text": [
      "GAN: loss d: 2.83473    loss g: -2.78506\n"
     ]
    },
    {
     "name": "stderr",
     "output_type": "stream",
     "text": [
      " 95%|█████████▍| 94503/100001 [3:22:28<09:29,  9.65it/s]"
     ]
    },
    {
     "name": "stdout",
     "output_type": "stream",
     "text": [
      "GAN: loss d: 1.79442    loss g: -2.23258\n"
     ]
    },
    {
     "name": "stderr",
     "output_type": "stream",
     "text": [
      " 95%|█████████▍| 94603/100001 [3:22:38<09:31,  9.45it/s]"
     ]
    },
    {
     "name": "stdout",
     "output_type": "stream",
     "text": [
      "GAN: loss d: 2.62651    loss g: -2.76868\n"
     ]
    },
    {
     "name": "stderr",
     "output_type": "stream",
     "text": [
      " 95%|█████████▍| 94703/100001 [3:22:49<09:19,  9.47it/s]"
     ]
    },
    {
     "name": "stdout",
     "output_type": "stream",
     "text": [
      "GAN: loss d: 3.83521    loss g: -2.17374\n"
     ]
    },
    {
     "name": "stderr",
     "output_type": "stream",
     "text": [
      " 95%|█████████▍| 94803/100001 [3:23:00<09:01,  9.60it/s]"
     ]
    },
    {
     "name": "stdout",
     "output_type": "stream",
     "text": [
      "GAN: loss d: 2.83600    loss g: -1.37256\n"
     ]
    },
    {
     "name": "stderr",
     "output_type": "stream",
     "text": [
      " 95%|█████████▍| 94903/100001 [3:23:10<08:50,  9.61it/s]"
     ]
    },
    {
     "name": "stdout",
     "output_type": "stream",
     "text": [
      "GAN: loss d: 1.78132    loss g: -2.72326\n"
     ]
    },
    {
     "name": "stderr",
     "output_type": "stream",
     "text": [
      " 95%|█████████▍| 95000/100001 [3:23:20<08:47,  9.49it/s]"
     ]
    },
    {
     "name": "stdout",
     "output_type": "stream",
     "text": [
      "GAN: loss d: 3.35986    loss g: -2.38681\n",
      "saving current model\n"
     ]
    },
    {
     "name": "stderr",
     "output_type": "stream",
     "text": [
      "\n",
      "  0%|          | 0/195 [00:00<?, ?it/s]\u001b[A"
     ]
    },
    {
     "name": "stdout",
     "output_type": "stream",
     "text": [
      "Number of real images: 6252\n"
     ]
    },
    {
     "name": "stderr",
     "output_type": "stream",
     "text": [
      "\n",
      "\n",
      "  0%|          | 0/15 [00:00<?, ?it/s]\u001b[A\u001b[A"
     ]
    },
    {
     "name": "stdout",
     "output_type": "stream",
     "text": [
      "Number of synthetic images: 500\n"
     ]
    },
    {
     "name": "stderr",
     "output_type": "stream",
     "text": [
      "  0%|          | 0/195 [00:09<?, ?it/s]\n",
      "  0%|          | 0/195 [00:10<?, ?it/s]\n",
      "  0%|          | 0/195 [00:10<?, ?it/s]9:03:17,  6.52s/it]\n",
      "  0%|          | 0/15 [00:00<?, ?it/s]"
     ]
    },
    {
     "name": "stdout",
     "output_type": "stream",
     "text": [
      "Current fid score: 0.881803030831513\n",
      "Fid scores: [4.781169086965528, 2.5563023530045648, 2.463046801314256, 2.4992711961120584, 2.218550049566371, 2.964950268119857, 3.4702528654377076, 2.613245115961785, 2.34790911689727, 2.6919041220970037, 2.3144257756644073, 2.3240966003506536, 1.993653403354564, 2.697158487724515, 1.7994096039010472, 2.91434783406185, 2.7811489268397516, 2.2334427836959794, 2.2575362052527765, 2.130950188976346, 2.15637473746202, 2.4389161668575845, 2.2519582703541623, 2.1827718797205335, 2.3576301559437454, 2.6942066386249337, 2.6747271169665723, 2.8508206571304022, 2.837364124793419, 2.920850907282844, 2.6905573257954796, 1.3344332586511385, 2.1663599865511003, 0.855827226287527, 0.7591339506391392, 1.0899071055671108, 1.556975725398381, 1.6322229933262378, 1.4239017743813775, 1.5249018576080395, 1.2095302975349256, 0.8666642624319927, 1.061769574879687, 1.0549228395687074, 0.8332865353009247, 1.4093295915717334, 0.8253746464537564, 1.0501828097794572, 0.753537841488491, 0.9101388104903059, 0.8306977745111297, 1.0361210015169284, 0.8622839615512738, 1.0211583963511188, 1.0494697313231427, 0.7210932457566237, 1.1723560449956096, 1.6164965744993367, 1.768061074180352, 2.2152855954706574, 2.1226241732258586, 0.6317119417673425, 1.2031446041186733, 1.037733761688667, 1.0837845443159715, 0.9380651985760089, 0.9150319052622109, 0.808499389931665, 0.799970201460674, 0.8919625371349333, 0.8143693713058333, 0.8586844360966879, 0.8256128930717352, 0.8573169783381545, 0.8552612111319675, 0.7613616173214552, 0.6842404076214379, 0.6530841946693293, 0.7431871029727688, 0.8513702442009361, 0.7277033269998512, 0.784420810190916, 0.8702575161919981, 0.8843211438312402, 0.6391728278030762, 0.8442567628354993, 0.803738395099522, 0.8126540751749438, 0.7259157601009179, 0.6885014061403396, 0.6711783130870579, 0.9429682922040961, 1.3793077777228078, 1.3560523541578249, 0.9205852437708621, 0.881803030831513]\n"
     ]
    },
    {
     "name": "stderr",
     "output_type": "stream",
     "text": [
      "\n",
      " 95%|█████████▌| 95103/100001 [3:23:53<08:27,  9.64it/s]  "
     ]
    },
    {
     "name": "stdout",
     "output_type": "stream",
     "text": [
      "GAN: loss d: 1.49783    loss g: -1.88434\n"
     ]
    },
    {
     "name": "stderr",
     "output_type": "stream",
     "text": [
      " 95%|█████████▌| 95203/100001 [3:24:03<08:18,  9.63it/s]"
     ]
    },
    {
     "name": "stdout",
     "output_type": "stream",
     "text": [
      "GAN: loss d: 3.46788    loss g: -2.55943\n"
     ]
    },
    {
     "name": "stderr",
     "output_type": "stream",
     "text": [
      " 95%|█████████▌| 95301/100001 [3:24:14<08:39,  9.05it/s]"
     ]
    },
    {
     "name": "stdout",
     "output_type": "stream",
     "text": [
      "GAN: loss d: 2.39691    loss g: -1.66719\n"
     ]
    },
    {
     "name": "stderr",
     "output_type": "stream",
     "text": [
      " 95%|█████████▌| 95401/100001 [3:24:24<08:27,  9.06it/s]"
     ]
    },
    {
     "name": "stdout",
     "output_type": "stream",
     "text": [
      "GAN: loss d: 4.92627    loss g: -3.21143\n"
     ]
    },
    {
     "name": "stderr",
     "output_type": "stream",
     "text": [
      " 96%|█████████▌| 95501/100001 [3:24:35<08:18,  9.02it/s]"
     ]
    },
    {
     "name": "stdout",
     "output_type": "stream",
     "text": [
      "GAN: loss d: 2.97321    loss g: -1.75594\n"
     ]
    },
    {
     "name": "stderr",
     "output_type": "stream",
     "text": [
      " 96%|█████████▌| 95603/100001 [3:24:46<07:42,  9.50it/s]"
     ]
    },
    {
     "name": "stdout",
     "output_type": "stream",
     "text": [
      "GAN: loss d: 4.81639    loss g: -1.67449\n"
     ]
    },
    {
     "name": "stderr",
     "output_type": "stream",
     "text": [
      " 96%|█████████▌| 95703/100001 [3:24:56<07:35,  9.43it/s]"
     ]
    },
    {
     "name": "stdout",
     "output_type": "stream",
     "text": [
      "GAN: loss d: 3.14968    loss g: -2.47532\n"
     ]
    },
    {
     "name": "stderr",
     "output_type": "stream",
     "text": [
      " 96%|█████████▌| 95803/100001 [3:25:07<07:22,  9.49it/s]"
     ]
    },
    {
     "name": "stdout",
     "output_type": "stream",
     "text": [
      "GAN: loss d: 2.48481    loss g: -1.62799\n"
     ]
    },
    {
     "name": "stderr",
     "output_type": "stream",
     "text": [
      " 96%|█████████▌| 95903/100001 [3:25:17<07:05,  9.64it/s]"
     ]
    },
    {
     "name": "stdout",
     "output_type": "stream",
     "text": [
      "GAN: loss d: 2.88681    loss g: -2.45678\n"
     ]
    },
    {
     "name": "stderr",
     "output_type": "stream",
     "text": [
      " 96%|█████████▌| 96000/100001 [3:25:28<06:52,  9.69it/s]"
     ]
    },
    {
     "name": "stdout",
     "output_type": "stream",
     "text": [
      "GAN: loss d: 2.76682    loss g: -2.89503\n",
      "saving current model\n"
     ]
    },
    {
     "name": "stderr",
     "output_type": "stream",
     "text": [
      "\n",
      "  0%|          | 0/195 [00:00<?, ?it/s]\u001b[A"
     ]
    },
    {
     "name": "stdout",
     "output_type": "stream",
     "text": [
      "Number of real images: 6252\n"
     ]
    },
    {
     "name": "stderr",
     "output_type": "stream",
     "text": [
      "\n",
      "\n",
      "  0%|          | 0/15 [00:00<?, ?it/s]\u001b[A\u001b[A"
     ]
    },
    {
     "name": "stdout",
     "output_type": "stream",
     "text": [
      "Number of synthetic images: 500\n"
     ]
    },
    {
     "name": "stderr",
     "output_type": "stream",
     "text": [
      " 96%|█████████▌| 96003/100001 [3:25:49<3:57:33,  3.57s/it]"
     ]
    },
    {
     "name": "stdout",
     "output_type": "stream",
     "text": [
      "Current fid score: 0.8186847658414571\n",
      "Fid scores: [4.781169086965528, 2.5563023530045648, 2.463046801314256, 2.4992711961120584, 2.218550049566371, 2.964950268119857, 3.4702528654377076, 2.613245115961785, 2.34790911689727, 2.6919041220970037, 2.3144257756644073, 2.3240966003506536, 1.993653403354564, 2.697158487724515, 1.7994096039010472, 2.91434783406185, 2.7811489268397516, 2.2334427836959794, 2.2575362052527765, 2.130950188976346, 2.15637473746202, 2.4389161668575845, 2.2519582703541623, 2.1827718797205335, 2.3576301559437454, 2.6942066386249337, 2.6747271169665723, 2.8508206571304022, 2.837364124793419, 2.920850907282844, 2.6905573257954796, 1.3344332586511385, 2.1663599865511003, 0.855827226287527, 0.7591339506391392, 1.0899071055671108, 1.556975725398381, 1.6322229933262378, 1.4239017743813775, 1.5249018576080395, 1.2095302975349256, 0.8666642624319927, 1.061769574879687, 1.0549228395687074, 0.8332865353009247, 1.4093295915717334, 0.8253746464537564, 1.0501828097794572, 0.753537841488491, 0.9101388104903059, 0.8306977745111297, 1.0361210015169284, 0.8622839615512738, 1.0211583963511188, 1.0494697313231427, 0.7210932457566237, 1.1723560449956096, 1.6164965744993367, 1.768061074180352, 2.2152855954706574, 2.1226241732258586, 0.6317119417673425, 1.2031446041186733, 1.037733761688667, 1.0837845443159715, 0.9380651985760089, 0.9150319052622109, 0.808499389931665, 0.799970201460674, 0.8919625371349333, 0.8143693713058333, 0.8586844360966879, 0.8256128930717352, 0.8573169783381545, 0.8552612111319675, 0.7613616173214552, 0.6842404076214379, 0.6530841946693293, 0.7431871029727688, 0.8513702442009361, 0.7277033269998512, 0.784420810190916, 0.8702575161919981, 0.8843211438312402, 0.6391728278030762, 0.8442567628354993, 0.803738395099522, 0.8126540751749438, 0.7259157601009179, 0.6885014061403396, 0.6711783130870579, 0.9429682922040961, 1.3793077777228078, 1.3560523541578249, 0.9205852437708621, 0.881803030831513, 0.8186847658414571]\n"
     ]
    },
    {
     "name": "stderr",
     "output_type": "stream",
     "text": [
      "  0%|          | 0/195 [00:16<?, ?it/s]07:00,  9.40it/s]  \n",
      "  0%|          | 0/15 [00:06<?, ?it/s]\n",
      " 96%|█████████▌| 96101/100001 [3:26:00<07:09,  9.08it/s]"
     ]
    },
    {
     "name": "stdout",
     "output_type": "stream",
     "text": [
      "GAN: loss d: 5.20938    loss g: -2.27278\n"
     ]
    },
    {
     "name": "stderr",
     "output_type": "stream",
     "text": [
      " 96%|█████████▌| 96203/100001 [3:26:11<06:41,  9.46it/s]"
     ]
    },
    {
     "name": "stdout",
     "output_type": "stream",
     "text": [
      "GAN: loss d: 2.51989    loss g: -2.60988\n"
     ]
    },
    {
     "name": "stderr",
     "output_type": "stream",
     "text": [
      " 96%|█████████▋| 96301/100001 [3:26:21<06:47,  9.07it/s]"
     ]
    },
    {
     "name": "stdout",
     "output_type": "stream",
     "text": [
      "GAN: loss d: 4.39835    loss g: -2.30099\n"
     ]
    },
    {
     "name": "stderr",
     "output_type": "stream",
     "text": [
      " 96%|█████████▋| 96403/100001 [3:26:32<06:22,  9.41it/s]"
     ]
    },
    {
     "name": "stdout",
     "output_type": "stream",
     "text": [
      "GAN: loss d: 3.74724    loss g: -2.75022\n"
     ]
    },
    {
     "name": "stderr",
     "output_type": "stream",
     "text": [
      " 97%|█████████▋| 96503/100001 [3:26:42<06:10,  9.45it/s]"
     ]
    },
    {
     "name": "stdout",
     "output_type": "stream",
     "text": [
      "GAN: loss d: 3.11597    loss g: -1.76091\n"
     ]
    },
    {
     "name": "stderr",
     "output_type": "stream",
     "text": [
      " 97%|█████████▋| 96603/100001 [3:26:53<05:56,  9.52it/s]"
     ]
    },
    {
     "name": "stdout",
     "output_type": "stream",
     "text": [
      "GAN: loss d: 3.74622    loss g: -2.76860\n"
     ]
    },
    {
     "name": "stderr",
     "output_type": "stream",
     "text": [
      " 97%|█████████▋| 96703/100001 [3:27:04<05:41,  9.66it/s]"
     ]
    },
    {
     "name": "stdout",
     "output_type": "stream",
     "text": [
      "GAN: loss d: 1.94350    loss g: -1.97611\n"
     ]
    },
    {
     "name": "stderr",
     "output_type": "stream",
     "text": [
      " 97%|█████████▋| 96803/100001 [3:27:14<05:36,  9.49it/s]"
     ]
    },
    {
     "name": "stdout",
     "output_type": "stream",
     "text": [
      "GAN: loss d: 3.98388    loss g: -1.25587\n"
     ]
    },
    {
     "name": "stderr",
     "output_type": "stream",
     "text": [
      " 97%|█████████▋| 96903/100001 [3:27:25<05:25,  9.51it/s]"
     ]
    },
    {
     "name": "stdout",
     "output_type": "stream",
     "text": [
      "GAN: loss d: 2.30359    loss g: -2.45433\n"
     ]
    },
    {
     "name": "stderr",
     "output_type": "stream",
     "text": [
      " 97%|█████████▋| 97000/100001 [3:27:35<05:19,  9.39it/s]"
     ]
    },
    {
     "name": "stdout",
     "output_type": "stream",
     "text": [
      "GAN: loss d: 4.88403    loss g: -1.54092\n",
      "saving current model\n"
     ]
    },
    {
     "name": "stderr",
     "output_type": "stream",
     "text": [
      "\n",
      "  0%|          | 0/195 [00:00<?, ?it/s]\u001b[A"
     ]
    },
    {
     "name": "stdout",
     "output_type": "stream",
     "text": [
      "Number of real images: 6252\n"
     ]
    },
    {
     "name": "stderr",
     "output_type": "stream",
     "text": [
      "\n",
      "\n",
      "  0%|          | 0/15 [00:00<?, ?it/s]\u001b[A\u001b[A"
     ]
    },
    {
     "name": "stdout",
     "output_type": "stream",
     "text": [
      "Number of synthetic images: 500\n"
     ]
    },
    {
     "name": "stderr",
     "output_type": "stream",
     "text": [
      " 97%|█████████▋| 97001/100001 [3:27:56<5:26:42,  6.53s/it]"
     ]
    },
    {
     "name": "stdout",
     "output_type": "stream",
     "text": [
      "Current fid score: 0.9905696784461959\n",
      "Fid scores: [4.781169086965528, 2.5563023530045648, 2.463046801314256, 2.4992711961120584, 2.218550049566371, 2.964950268119857, 3.4702528654377076, 2.613245115961785, 2.34790911689727, 2.6919041220970037, 2.3144257756644073, 2.3240966003506536, 1.993653403354564, 2.697158487724515, 1.7994096039010472, 2.91434783406185, 2.7811489268397516, 2.2334427836959794, 2.2575362052527765, 2.130950188976346, 2.15637473746202, 2.4389161668575845, 2.2519582703541623, 2.1827718797205335, 2.3576301559437454, 2.6942066386249337, 2.6747271169665723, 2.8508206571304022, 2.837364124793419, 2.920850907282844, 2.6905573257954796, 1.3344332586511385, 2.1663599865511003, 0.855827226287527, 0.7591339506391392, 1.0899071055671108, 1.556975725398381, 1.6322229933262378, 1.4239017743813775, 1.5249018576080395, 1.2095302975349256, 0.8666642624319927, 1.061769574879687, 1.0549228395687074, 0.8332865353009247, 1.4093295915717334, 0.8253746464537564, 1.0501828097794572, 0.753537841488491, 0.9101388104903059, 0.8306977745111297, 1.0361210015169284, 0.8622839615512738, 1.0211583963511188, 1.0494697313231427, 0.7210932457566237, 1.1723560449956096, 1.6164965744993367, 1.768061074180352, 2.2152855954706574, 2.1226241732258586, 0.6317119417673425, 1.2031446041186733, 1.037733761688667, 1.0837845443159715, 0.9380651985760089, 0.9150319052622109, 0.808499389931665, 0.799970201460674, 0.8919625371349333, 0.8143693713058333, 0.8586844360966879, 0.8256128930717352, 0.8573169783381545, 0.8552612111319675, 0.7613616173214552, 0.6842404076214379, 0.6530841946693293, 0.7431871029727688, 0.8513702442009361, 0.7277033269998512, 0.784420810190916, 0.8702575161919981, 0.8843211438312402, 0.6391728278030762, 0.8442567628354993, 0.803738395099522, 0.8126540751749438, 0.7259157601009179, 0.6885014061403396, 0.6711783130870579, 0.9429682922040961, 1.3793077777228078, 1.3560523541578249, 0.9205852437708621, 0.881803030831513, 0.8186847658414571, 0.9905696784461959]\n"
     ]
    },
    {
     "name": "stderr",
     "output_type": "stream",
     "text": [
      "  0%|          | 0/195 [00:11<?, ?it/s]2:15:15,  2.71s/it]\n",
      "  0%|          | 0/15 [00:01<?, ?it/s]\n",
      " 97%|█████████▋| 97103/100001 [3:28:07<05:05,  9.49it/s]  "
     ]
    },
    {
     "name": "stdout",
     "output_type": "stream",
     "text": [
      "GAN: loss d: 3.17453    loss g: -1.79292\n"
     ]
    },
    {
     "name": "stderr",
     "output_type": "stream",
     "text": [
      " 97%|█████████▋| 97201/100001 [3:28:18<05:04,  9.19it/s]"
     ]
    },
    {
     "name": "stdout",
     "output_type": "stream",
     "text": [
      "GAN: loss d: 1.02311    loss g: -1.50863\n"
     ]
    },
    {
     "name": "stderr",
     "output_type": "stream",
     "text": [
      " 97%|█████████▋| 97303/100001 [3:28:28<04:43,  9.53it/s]"
     ]
    },
    {
     "name": "stdout",
     "output_type": "stream",
     "text": [
      "GAN: loss d: -0.17848    loss g: -1.40646\n"
     ]
    },
    {
     "name": "stderr",
     "output_type": "stream",
     "text": [
      " 97%|█████████▋| 97403/100001 [3:28:39<04:33,  9.49it/s]"
     ]
    },
    {
     "name": "stdout",
     "output_type": "stream",
     "text": [
      "GAN: loss d: 4.62986    loss g: -2.04196\n"
     ]
    },
    {
     "name": "stderr",
     "output_type": "stream",
     "text": [
      " 98%|█████████▊| 97503/100001 [3:28:50<04:19,  9.62it/s]"
     ]
    },
    {
     "name": "stdout",
     "output_type": "stream",
     "text": [
      "GAN: loss d: 2.90132    loss g: -3.43059\n"
     ]
    },
    {
     "name": "stderr",
     "output_type": "stream",
     "text": [
      " 98%|█████████▊| 97603/100001 [3:29:00<04:13,  9.47it/s]"
     ]
    },
    {
     "name": "stdout",
     "output_type": "stream",
     "text": [
      "GAN: loss d: -1.37472    loss g: -2.17747\n"
     ]
    },
    {
     "name": "stderr",
     "output_type": "stream",
     "text": [
      " 98%|█████████▊| 97703/100001 [3:29:11<03:59,  9.58it/s]"
     ]
    },
    {
     "name": "stdout",
     "output_type": "stream",
     "text": [
      "GAN: loss d: 2.73198    loss g: -2.22952\n"
     ]
    },
    {
     "name": "stderr",
     "output_type": "stream",
     "text": [
      " 98%|█████████▊| 97802/100001 [3:29:21<03:57,  9.28it/s]"
     ]
    },
    {
     "name": "stdout",
     "output_type": "stream",
     "text": [
      "GAN: loss d: 2.18575    loss g: -2.46001\n"
     ]
    },
    {
     "name": "stderr",
     "output_type": "stream",
     "text": [
      " 98%|█████████▊| 97903/100001 [3:29:32<03:37,  9.64it/s]"
     ]
    },
    {
     "name": "stdout",
     "output_type": "stream",
     "text": [
      "GAN: loss d: 3.30631    loss g: -2.23884\n"
     ]
    },
    {
     "name": "stderr",
     "output_type": "stream",
     "text": [
      " 98%|█████████▊| 98000/100001 [3:29:42<03:29,  9.54it/s]"
     ]
    },
    {
     "name": "stdout",
     "output_type": "stream",
     "text": [
      "GAN: loss d: 3.42811    loss g: -2.58971\n",
      "saving current model\n"
     ]
    },
    {
     "name": "stderr",
     "output_type": "stream",
     "text": [
      "\n",
      "  0%|          | 0/195 [00:00<?, ?it/s]\u001b[A"
     ]
    },
    {
     "name": "stdout",
     "output_type": "stream",
     "text": [
      "Number of real images: 6252\n"
     ]
    },
    {
     "name": "stderr",
     "output_type": "stream",
     "text": [
      "\n",
      "\n",
      "  0%|          | 0/15 [00:00<?, ?it/s]\u001b[A\u001b[A"
     ]
    },
    {
     "name": "stdout",
     "output_type": "stream",
     "text": [
      "Number of synthetic images: 500\n"
     ]
    },
    {
     "name": "stderr",
     "output_type": "stream",
     "text": [
      " 98%|█████████▊| 98003/100001 [3:30:04<1:57:59,  3.54s/it]"
     ]
    },
    {
     "name": "stdout",
     "output_type": "stream",
     "text": [
      "Current fid score: 0.8212255771639079\n",
      "Fid scores: [4.781169086965528, 2.5563023530045648, 2.463046801314256, 2.4992711961120584, 2.218550049566371, 2.964950268119857, 3.4702528654377076, 2.613245115961785, 2.34790911689727, 2.6919041220970037, 2.3144257756644073, 2.3240966003506536, 1.993653403354564, 2.697158487724515, 1.7994096039010472, 2.91434783406185, 2.7811489268397516, 2.2334427836959794, 2.2575362052527765, 2.130950188976346, 2.15637473746202, 2.4389161668575845, 2.2519582703541623, 2.1827718797205335, 2.3576301559437454, 2.6942066386249337, 2.6747271169665723, 2.8508206571304022, 2.837364124793419, 2.920850907282844, 2.6905573257954796, 1.3344332586511385, 2.1663599865511003, 0.855827226287527, 0.7591339506391392, 1.0899071055671108, 1.556975725398381, 1.6322229933262378, 1.4239017743813775, 1.5249018576080395, 1.2095302975349256, 0.8666642624319927, 1.061769574879687, 1.0549228395687074, 0.8332865353009247, 1.4093295915717334, 0.8253746464537564, 1.0501828097794572, 0.753537841488491, 0.9101388104903059, 0.8306977745111297, 1.0361210015169284, 0.8622839615512738, 1.0211583963511188, 1.0494697313231427, 0.7210932457566237, 1.1723560449956096, 1.6164965744993367, 1.768061074180352, 2.2152855954706574, 2.1226241732258586, 0.6317119417673425, 1.2031446041186733, 1.037733761688667, 1.0837845443159715, 0.9380651985760089, 0.9150319052622109, 0.808499389931665, 0.799970201460674, 0.8919625371349333, 0.8143693713058333, 0.8586844360966879, 0.8256128930717352, 0.8573169783381545, 0.8552612111319675, 0.7613616173214552, 0.6842404076214379, 0.6530841946693293, 0.7431871029727688, 0.8513702442009361, 0.7277033269998512, 0.784420810190916, 0.8702575161919981, 0.8843211438312402, 0.6391728278030762, 0.8442567628354993, 0.803738395099522, 0.8126540751749438, 0.7259157601009179, 0.6885014061403396, 0.6711783130870579, 0.9429682922040961, 1.3793077777228078, 1.3560523541578249, 0.9205852437708621, 0.881803030831513, 0.8186847658414571, 0.9905696784461959, 0.8212255771639079]\n"
     ]
    },
    {
     "name": "stderr",
     "output_type": "stream",
     "text": [
      "  0%|          | 0/195 [00:16<?, ?it/s]03:26,  9.41it/s]  \n",
      "  0%|          | 0/15 [00:06<?, ?it/s]\n",
      " 98%|█████████▊| 98103/100001 [3:30:15<03:15,  9.72it/s]"
     ]
    },
    {
     "name": "stdout",
     "output_type": "stream",
     "text": [
      "GAN: loss d: 3.83759    loss g: -2.52772\n"
     ]
    },
    {
     "name": "stderr",
     "output_type": "stream",
     "text": [
      " 98%|█████████▊| 98203/100001 [3:30:25<03:09,  9.47it/s]"
     ]
    },
    {
     "name": "stdout",
     "output_type": "stream",
     "text": [
      "GAN: loss d: 1.82243    loss g: -1.63965\n"
     ]
    },
    {
     "name": "stderr",
     "output_type": "stream",
     "text": [
      " 98%|█████████▊| 98301/100001 [3:30:36<03:11,  8.90it/s]"
     ]
    },
    {
     "name": "stdout",
     "output_type": "stream",
     "text": [
      "GAN: loss d: 4.25948    loss g: -3.21961\n"
     ]
    },
    {
     "name": "stderr",
     "output_type": "stream",
     "text": [
      " 98%|█████████▊| 98403/100001 [3:30:46<02:47,  9.55it/s]"
     ]
    },
    {
     "name": "stdout",
     "output_type": "stream",
     "text": [
      "GAN: loss d: 3.00123    loss g: -2.42962\n"
     ]
    },
    {
     "name": "stderr",
     "output_type": "stream",
     "text": [
      " 99%|█████████▊| 98503/100001 [3:30:57<02:37,  9.52it/s]"
     ]
    },
    {
     "name": "stdout",
     "output_type": "stream",
     "text": [
      "GAN: loss d: 4.23257    loss g: -2.35227\n"
     ]
    },
    {
     "name": "stderr",
     "output_type": "stream",
     "text": [
      " 99%|█████████▊| 98601/100001 [3:31:07<02:34,  9.07it/s]"
     ]
    },
    {
     "name": "stdout",
     "output_type": "stream",
     "text": [
      "GAN: loss d: 4.02686    loss g: -2.59372\n"
     ]
    },
    {
     "name": "stderr",
     "output_type": "stream",
     "text": [
      " 99%|█████████▊| 98703/100001 [3:31:18<02:16,  9.53it/s]"
     ]
    },
    {
     "name": "stdout",
     "output_type": "stream",
     "text": [
      "GAN: loss d: 0.71146    loss g: -2.25634\n"
     ]
    },
    {
     "name": "stderr",
     "output_type": "stream",
     "text": [
      " 99%|█████████▉| 98801/100001 [3:31:29<02:12,  9.05it/s]"
     ]
    },
    {
     "name": "stdout",
     "output_type": "stream",
     "text": [
      "GAN: loss d: 1.99199    loss g: -1.98842\n"
     ]
    },
    {
     "name": "stderr",
     "output_type": "stream",
     "text": [
      " 99%|█████████▉| 98901/100001 [3:31:39<01:59,  9.19it/s]"
     ]
    },
    {
     "name": "stdout",
     "output_type": "stream",
     "text": [
      "GAN: loss d: 1.68850    loss g: -2.58139\n"
     ]
    },
    {
     "name": "stderr",
     "output_type": "stream",
     "text": [
      " 99%|█████████▉| 99000/100001 [3:31:50<01:46,  9.37it/s]"
     ]
    },
    {
     "name": "stdout",
     "output_type": "stream",
     "text": [
      "GAN: loss d: 1.89403    loss g: -2.75485\n",
      "saving current model\n"
     ]
    },
    {
     "name": "stderr",
     "output_type": "stream",
     "text": [
      "\n",
      "  0%|          | 0/195 [00:00<?, ?it/s]\u001b[A"
     ]
    },
    {
     "name": "stdout",
     "output_type": "stream",
     "text": [
      "Number of real images: 6252\n"
     ]
    },
    {
     "name": "stderr",
     "output_type": "stream",
     "text": [
      "\n",
      "\n",
      "  0%|          | 0/15 [00:00<?, ?it/s]\u001b[A\u001b[A"
     ]
    },
    {
     "name": "stdout",
     "output_type": "stream",
     "text": [
      "Number of synthetic images: 500\n"
     ]
    },
    {
     "name": "stderr",
     "output_type": "stream",
     "text": [
      " 99%|█████████▉| 99001/100001 [3:32:11<1:48:02,  6.48s/it]"
     ]
    },
    {
     "name": "stdout",
     "output_type": "stream",
     "text": [
      "Current fid score: 0.7951567419313186\n",
      "Fid scores: [4.781169086965528, 2.5563023530045648, 2.463046801314256, 2.4992711961120584, 2.218550049566371, 2.964950268119857, 3.4702528654377076, 2.613245115961785, 2.34790911689727, 2.6919041220970037, 2.3144257756644073, 2.3240966003506536, 1.993653403354564, 2.697158487724515, 1.7994096039010472, 2.91434783406185, 2.7811489268397516, 2.2334427836959794, 2.2575362052527765, 2.130950188976346, 2.15637473746202, 2.4389161668575845, 2.2519582703541623, 2.1827718797205335, 2.3576301559437454, 2.6942066386249337, 2.6747271169665723, 2.8508206571304022, 2.837364124793419, 2.920850907282844, 2.6905573257954796, 1.3344332586511385, 2.1663599865511003, 0.855827226287527, 0.7591339506391392, 1.0899071055671108, 1.556975725398381, 1.6322229933262378, 1.4239017743813775, 1.5249018576080395, 1.2095302975349256, 0.8666642624319927, 1.061769574879687, 1.0549228395687074, 0.8332865353009247, 1.4093295915717334, 0.8253746464537564, 1.0501828097794572, 0.753537841488491, 0.9101388104903059, 0.8306977745111297, 1.0361210015169284, 0.8622839615512738, 1.0211583963511188, 1.0494697313231427, 0.7210932457566237, 1.1723560449956096, 1.6164965744993367, 1.768061074180352, 2.2152855954706574, 2.1226241732258586, 0.6317119417673425, 1.2031446041186733, 1.037733761688667, 1.0837845443159715, 0.9380651985760089, 0.9150319052622109, 0.808499389931665, 0.799970201460674, 0.8919625371349333, 0.8143693713058333, 0.8586844360966879, 0.8256128930717352, 0.8573169783381545, 0.8552612111319675, 0.7613616173214552, 0.6842404076214379, 0.6530841946693293, 0.7431871029727688, 0.8513702442009361, 0.7277033269998512, 0.784420810190916, 0.8702575161919981, 0.8843211438312402, 0.6391728278030762, 0.8442567628354993, 0.803738395099522, 0.8126540751749438, 0.7259157601009179, 0.6885014061403396, 0.6711783130870579, 0.9429682922040961, 1.3793077777228078, 1.3560523541578249, 0.9205852437708621, 0.881803030831513, 0.8186847658414571, 0.9905696784461959, 0.8212255771639079, 0.7951567419313186]\n"
     ]
    },
    {
     "name": "stderr",
     "output_type": "stream",
     "text": [
      "  0%|          | 0/195 [00:11<?, ?it/s]44:39,  2.69s/it]  \n",
      "  0%|          | 0/15 [00:01<?, ?it/s]\n",
      " 99%|█████████▉| 99103/100001 [3:32:22<01:34,  9.47it/s]"
     ]
    },
    {
     "name": "stdout",
     "output_type": "stream",
     "text": [
      "GAN: loss d: 4.62704    loss g: -1.92137\n"
     ]
    },
    {
     "name": "stderr",
     "output_type": "stream",
     "text": [
      " 99%|█████████▉| 99201/100001 [3:32:32<01:29,  8.95it/s]"
     ]
    },
    {
     "name": "stdout",
     "output_type": "stream",
     "text": [
      "GAN: loss d: 0.95756    loss g: -1.92869\n"
     ]
    },
    {
     "name": "stderr",
     "output_type": "stream",
     "text": [
      " 99%|█████████▉| 99303/100001 [3:32:43<01:12,  9.68it/s]"
     ]
    },
    {
     "name": "stdout",
     "output_type": "stream",
     "text": [
      "GAN: loss d: 1.44576    loss g: -2.20918\n"
     ]
    },
    {
     "name": "stderr",
     "output_type": "stream",
     "text": [
      " 99%|█████████▉| 99403/100001 [3:32:54<01:02,  9.58it/s]"
     ]
    },
    {
     "name": "stdout",
     "output_type": "stream",
     "text": [
      "GAN: loss d: 2.46662    loss g: -3.75416\n"
     ]
    },
    {
     "name": "stderr",
     "output_type": "stream",
     "text": [
      "100%|█████████▉| 99501/100001 [3:33:04<00:55,  9.07it/s]"
     ]
    },
    {
     "name": "stdout",
     "output_type": "stream",
     "text": [
      "GAN: loss d: 1.49614    loss g: -2.42383\n"
     ]
    },
    {
     "name": "stderr",
     "output_type": "stream",
     "text": [
      "100%|█████████▉| 99603/100001 [3:33:15<00:41,  9.58it/s]"
     ]
    },
    {
     "name": "stdout",
     "output_type": "stream",
     "text": [
      "GAN: loss d: 2.32877    loss g: -2.91129\n"
     ]
    },
    {
     "name": "stderr",
     "output_type": "stream",
     "text": [
      "100%|█████████▉| 99703/100001 [3:33:25<00:31,  9.55it/s]"
     ]
    },
    {
     "name": "stdout",
     "output_type": "stream",
     "text": [
      "GAN: loss d: 2.43980    loss g: -2.75412\n"
     ]
    },
    {
     "name": "stderr",
     "output_type": "stream",
     "text": [
      "100%|█████████▉| 99801/100001 [3:33:36<00:22,  8.83it/s]"
     ]
    },
    {
     "name": "stdout",
     "output_type": "stream",
     "text": [
      "GAN: loss d: 2.79021    loss g: -1.92057\n"
     ]
    },
    {
     "name": "stderr",
     "output_type": "stream",
     "text": [
      "100%|█████████▉| 99903/100001 [3:33:46<00:10,  9.60it/s]"
     ]
    },
    {
     "name": "stdout",
     "output_type": "stream",
     "text": [
      "GAN: loss d: 2.75986    loss g: -1.57288\n"
     ]
    },
    {
     "name": "stderr",
     "output_type": "stream",
     "text": [
      "100%|█████████▉| 100000/100001 [3:33:57<00:00,  9.39it/s]"
     ]
    },
    {
     "name": "stdout",
     "output_type": "stream",
     "text": [
      "GAN: loss d: 2.91343    loss g: -2.65678\n",
      "saving current model\n"
     ]
    },
    {
     "name": "stderr",
     "output_type": "stream",
     "text": [
      "\n",
      "  0%|          | 0/195 [00:00<?, ?it/s]\u001b[A"
     ]
    },
    {
     "name": "stdout",
     "output_type": "stream",
     "text": [
      "Number of real images: 6252\n"
     ]
    },
    {
     "name": "stderr",
     "output_type": "stream",
     "text": [
      "\n",
      "\n",
      "  0%|          | 0/15 [00:00<?, ?it/s]\u001b[A\u001b[A"
     ]
    },
    {
     "name": "stdout",
     "output_type": "stream",
     "text": [
      "Number of synthetic images: 500\n"
     ]
    },
    {
     "name": "stderr",
     "output_type": "stream",
     "text": [
      "100%|██████████| 100001/100001 [3:34:18<00:00,  7.78it/s]"
     ]
    },
    {
     "name": "stdout",
     "output_type": "stream",
     "text": [
      "Current fid score: 0.7662458239918557\n",
      "Fid scores: [4.781169086965528, 2.5563023530045648, 2.463046801314256, 2.4992711961120584, 2.218550049566371, 2.964950268119857, 3.4702528654377076, 2.613245115961785, 2.34790911689727, 2.6919041220970037, 2.3144257756644073, 2.3240966003506536, 1.993653403354564, 2.697158487724515, 1.7994096039010472, 2.91434783406185, 2.7811489268397516, 2.2334427836959794, 2.2575362052527765, 2.130950188976346, 2.15637473746202, 2.4389161668575845, 2.2519582703541623, 2.1827718797205335, 2.3576301559437454, 2.6942066386249337, 2.6747271169665723, 2.8508206571304022, 2.837364124793419, 2.920850907282844, 2.6905573257954796, 1.3344332586511385, 2.1663599865511003, 0.855827226287527, 0.7591339506391392, 1.0899071055671108, 1.556975725398381, 1.6322229933262378, 1.4239017743813775, 1.5249018576080395, 1.2095302975349256, 0.8666642624319927, 1.061769574879687, 1.0549228395687074, 0.8332865353009247, 1.4093295915717334, 0.8253746464537564, 1.0501828097794572, 0.753537841488491, 0.9101388104903059, 0.8306977745111297, 1.0361210015169284, 0.8622839615512738, 1.0211583963511188, 1.0494697313231427, 0.7210932457566237, 1.1723560449956096, 1.6164965744993367, 1.768061074180352, 2.2152855954706574, 2.1226241732258586, 0.6317119417673425, 1.2031446041186733, 1.037733761688667, 1.0837845443159715, 0.9380651985760089, 0.9150319052622109, 0.808499389931665, 0.799970201460674, 0.8919625371349333, 0.8143693713058333, 0.8586844360966879, 0.8256128930717352, 0.8573169783381545, 0.8552612111319675, 0.7613616173214552, 0.6842404076214379, 0.6530841946693293, 0.7431871029727688, 0.8513702442009361, 0.7277033269998512, 0.784420810190916, 0.8702575161919981, 0.8843211438312402, 0.6391728278030762, 0.8442567628354993, 0.803738395099522, 0.8126540751749438, 0.7259157601009179, 0.6885014061403396, 0.6711783130870579, 0.9429682922040961, 1.3793077777228078, 1.3560523541578249, 0.9205852437708621, 0.881803030831513, 0.8186847658414571, 0.9905696784461959, 0.8212255771639079, 0.7951567419313186, 0.7662458239918557]\n"
     ]
    },
    {
     "name": "stderr",
     "output_type": "stream",
     "text": [
      "\n"
     ]
    }
   ],
   "source": [
    "import torch\n",
    "from torch import nn\n",
    "import torch.optim as optim\n",
    "import torch.nn.functional as F\n",
    "from torchvision import transforms\n",
    "from torchvision import utils as vutils\n",
    "from torch.utils.data.dataloader import DataLoader\n",
    "from scipy import linalg\n",
    "import sys\n",
    "\n",
    "import argparse\n",
    "import random\n",
    "from tqdm import tqdm\n",
    "import easydict\n",
    "\n",
    "from diffaug import DiffAugment\n",
    "\n",
    "policy = 'color,translation'\n",
    "\n",
    "\n",
    "class FIDScore:\n",
    "    def __init__(self, path_a, path_b, image_size, batch_size, device='cuda'):\n",
    "        self.device = device\n",
    "        self.image_size = image_size\n",
    "        self.path_a = path_a\n",
    "        self.path_b = path_b\n",
    "        self.batch_size = batch_size\n",
    "        self.inception = self.load_patched_inception_v3().eval().to(device)\n",
    "        self.transform = transforms.Compose([\n",
    "            transforms.Resize((self.image_size, self.image_size)),\n",
    "            transforms.ToTensor(),\n",
    "            transforms.Normalize([0.5, 0.5, 0.5], [0.5, 0.5, 0.5])\n",
    "        ])\n",
    "\n",
    "    @torch.no_grad()\n",
    "    def extract_features(self, loader):\n",
    "        #for batch_idx, batch_data in enumerate(loader):\n",
    "            #print(f\"Batch {batch_idx} - Batch shape: {batch_data.shape}, Batch contents: {batch_data}\")\n",
    "        pbar = tqdm(loader)\n",
    "        feature_list = []\n",
    "        for img in loader:\n",
    "            img = img.to(self.device)\n",
    "            feature = self.inception(img)[0].view(img.shape[0], -1)\n",
    "            feature_list.append(feature.to('cpu'))\n",
    "        features = torch.cat(feature_list, 0)\n",
    "        return features\n",
    "\n",
    "    def calc_fid(self, sample_mean, sample_cov, real_mean, real_cov, eps=1e-6):\n",
    "        cov_sqrt, _ = linalg.sqrtm(sample_cov @ real_cov, disp=False)\n",
    "        if not np.isfinite(cov_sqrt).all():\n",
    "            print('product of cov matrices is singular')\n",
    "            offset = np.eye(sample_cov.shape[0]) * eps\n",
    "            cov_sqrt = linalg.sqrtm((sample_cov + offset) @ (real_cov + offset))\n",
    "        if np.iscomplexobj(cov_sqrt):\n",
    "            if not np.allclose(np.diagonal(cov_sqrt).imag, 0, atol=1e-3):\n",
    "                m = np.max(np.abs(cov_sqrt.imag))\n",
    "                raise ValueError(f'Imaginary component {m}')\n",
    "            cov_sqrt = cov_sqrt.real\n",
    "        mean_diff = sample_mean - real_mean\n",
    "        mean_norm = mean_diff @ mean_diff\n",
    "        trace = np.trace(sample_cov) + np.trace(real_cov) - 2 * np.trace(cov_sqrt)\n",
    "        fid = mean_norm + trace\n",
    "        return fid\n",
    "\n",
    "    def __call__(self, num_workers=4):\n",
    "        dset_a = ImageFolder(self.path_a, self.transform)\n",
    "        print(\"Number of real images:\", len(dset_a))\n",
    "        loader_a = DataLoader(dset_a, batch_size=self.batch_size, num_workers=num_workers, drop_last=True)\n",
    "        features_a = self.extract_features(loader_a).numpy()\n",
    "        real_mean = np.mean(features_a, 0)\n",
    "        real_cov = np.cov(features_a, rowvar=False)\n",
    "\n",
    "        dset_b = ImageFolder(self.path_b, self.transform)\n",
    "        print(\"Number of synthetic images:\", len(dset_b))\n",
    "        loader_b = DataLoader(dset_b, batch_size=self.batch_size, num_workers=num_workers, drop_last=True)\n",
    "        features_b = self.extract_features(loader_b).numpy()\n",
    "        sample_mean = np.mean(features_b, 0)\n",
    "        sample_cov = np.cov(features_b, rowvar=False)\n",
    "\n",
    "        fid = self.calc_fid(sample_mean, sample_cov, real_mean, real_cov)\n",
    "\n",
    "        return fid\n",
    "\n",
    "    @staticmethod\n",
    "    def load_patched_inception_v3():\n",
    "        inception = torch.hub.load('pytorch/vision:v0.9.0', 'inception_v3', pretrained=True)\n",
    "        inception.fc = nn.Identity()\n",
    "        return inception\n",
    "\n",
    "\n",
    "# torch.backends.cudnn.benchmark = True\n",
    "\n",
    "\n",
    "def crop_image_by_part(image, part):\n",
    "    hw = image.shape[2] // 2\n",
    "    if part == 0:\n",
    "        return image[:, :, :hw, :hw]\n",
    "    if part == 1:\n",
    "        return image[:, :, :hw, hw:]\n",
    "    if part == 2:\n",
    "        return image[:, :, hw:, :hw]\n",
    "    if part == 3:\n",
    "        return image[:, :, hw:, hw:]\n",
    "\n",
    "\n",
    "def train_d(net, data, label=\"real\"):\n",
    "    \"\"\"Train function of discriminator\"\"\"\n",
    "    if label == \"real\":\n",
    "        part = random.randint(0, 3)\n",
    "        pred, [rec_all, rec_small, rec_part] = net(data, label, part=part)\n",
    "        err = F.relu(torch.rand_like(pred) * 0.2 + 0.8 - pred).mean()\n",
    "        err.backward()\n",
    "        return pred.mean().item(), rec_all, rec_small, rec_part\n",
    "    else:\n",
    "        pred = net(data, label)\n",
    "        err = F.relu(torch.rand_like(pred) * 0.2 + 0.8 + pred).mean()\n",
    "        err.backward()\n",
    "        return pred.mean().item()\n",
    "\n",
    "\n",
    "def train(args):\n",
    "    data_root = args.path\n",
    "    total_iterations = args.iter\n",
    "    checkpoint = args.ckpt\n",
    "    batch_size = args.batch_size\n",
    "    im_size = args.im_size\n",
    "    ndf = 64\n",
    "    ngf = 64\n",
    "    nz = args.noise_dim\n",
    "    nlr = 0.0001\n",
    "    nbeta1 = 0.5\n",
    "    use_cuda = True\n",
    "    multi_gpu = True\n",
    "    dataloader_workers = 8\n",
    "    current_iteration = args.start_iter\n",
    "    save_interval = 100\n",
    "    saved_model_folder, saved_image_folder = get_dir(args)\n",
    "    fid_batch_size = args.fid_batch_size\n",
    "    save_results_dir = args.name\n",
    "    \n",
    "\n",
    "    device = torch.device(\"cpu\")\n",
    "    if use_cuda:\n",
    "        device = torch.device(\"cuda:0\")\n",
    "\n",
    "    transform_list = [\n",
    "        transforms.Resize((int(im_size), int(im_size))),\n",
    "        transforms.RandomHorizontalFlip(),\n",
    "        transforms.ToTensor(),\n",
    "        transforms.Normalize(mean=[0.5, 0.5, 0.5], std=[0.5, 0.5, 0.5])\n",
    "    ]\n",
    "    trans = transforms.Compose(transform_list)\n",
    "\n",
    "    if 'lmdb' in data_root:\n",
    "        from operation import MultiResolutionDataset\n",
    "        dataset = MultiResolutionDataset(data_root, trans, 1024)\n",
    "    else:\n",
    "        dataset = ImageFolder(root=data_root, transform=trans)\n",
    "\n",
    "    dataloader = iter(DataLoader(dataset, batch_size=batch_size, shuffle=False,\n",
    "                                 sampler=InfiniteSamplerWrapper(dataset), num_workers=dataloader_workers,\n",
    "                                 pin_memory=True))\n",
    "    '''\n",
    "    loader = MultiEpochsDataLoader(dataset, batch_size=batch_size, \n",
    "                               shuffle=True, num_workers=dataloader_workers, \n",
    "                               pin_memory=True)\n",
    "    dataloader = CudaDataLoader(loader, 'cuda')\n",
    "    '''\n",
    "\n",
    "    # from model_s import Generator, Discriminator\n",
    "    netG = Generator(ngf=ngf, nz=nz, im_size=im_size)\n",
    "    netG.apply(weights_init)\n",
    "\n",
    "    netD = Discriminator(ndf=ndf, im_size=im_size)\n",
    "    netD.apply(weights_init)\n",
    "\n",
    "    netG.to(device)\n",
    "    netD.to(device)\n",
    "\n",
    "    avg_param_G = copy_G_params(netG)\n",
    "\n",
    "    optimizerG = optim.Adam(netG.parameters(), lr=nlr, betas=(nbeta1, 0.999))\n",
    "    optimizerD = optim.Adam(netD.parameters(), lr=nlr, betas=(nbeta1, 0.999))\n",
    "    \n",
    "    generated_images = os.path.join(os.getcwd(), 'train_results', save_results_dir, \"images\")    \n",
    "    fid = FIDScore(data_root, generated_images, im_size, fid_batch_size)\n",
    "    fid_scores = []\n",
    "    min_fid_score = 999\n",
    "\n",
    "    if checkpoint != 'None':\n",
    "        ckpt = torch.load(checkpoint)\n",
    "        netG.load_state_dict({k.replace('module.', ''): v for k, v in ckpt['g'].items()})\n",
    "        netD.load_state_dict({k.replace('module.', ''): v for k, v in ckpt['d'].items()})\n",
    "        avg_param_G = ckpt['g_ema']\n",
    "        optimizerG.load_state_dict(ckpt['opt_g'])\n",
    "        optimizerD.load_state_dict(ckpt['opt_d'])\n",
    "        current_iteration = int(checkpoint.split('_')[-1].split('.')[0])\n",
    "        del ckpt\n",
    "\n",
    "    if multi_gpu:\n",
    "        netG = nn.DataParallel(netG.to(device))\n",
    "        netD = nn.DataParallel(netD.to(device))\n",
    "\n",
    "    for iteration in tqdm(range(current_iteration, total_iterations + 1)):\n",
    "        real_image = next(dataloader)\n",
    "        real_image = real_image.to(device)\n",
    "        current_batch_size = real_image.size(0)\n",
    "        noise = torch.Tensor(current_batch_size, nz).normal_(0, 1).to(device)\n",
    "\n",
    "        fake_images = netG(noise)\n",
    "\n",
    "        real_image = DiffAugment(real_image, policy=policy)\n",
    "        fake_images = [DiffAugment(fake, policy=policy) for fake in fake_images]\n",
    "\n",
    "        ## 2. train Discriminator\n",
    "        netD.zero_grad()\n",
    "\n",
    "        err_dr, rec_img_all, rec_img_small, rec_img_part = train_d(netD, real_image, label=\"real\")\n",
    "        train_d(netD, [fi.detach() for fi in fake_images], label=\"fake\")\n",
    "        optimizerD.step()\n",
    "\n",
    "        ## 3. train Generator\n",
    "        netG.zero_grad()\n",
    "        pred_g = netD(fake_images, \"fake\")\n",
    "        err_g = -pred_g.mean()\n",
    "\n",
    "        err_g.backward()\n",
    "        optimizerG.step()\n",
    "\n",
    "        for p, avg_p in zip(netG.parameters(), avg_param_G):\n",
    "            avg_p.mul_(0.999).add_(0.001 * p.data)\n",
    "\n",
    "        if iteration % 100 == 0:\n",
    "            print(\"GAN: loss d: %.5f    loss g: %.5f\" % (err_dr, -err_g.item()))\n",
    "\n",
    "        \n",
    "        if iteration % (save_interval * 10) == 0 or iteration == total_iterations:\n",
    "            backup_para = copy_G_params(netG)\n",
    "            load_params(netG, avg_param_G)\n",
    "            print (\"saving current model\")\n",
    "            torch.save({'g': netG.state_dict(), 'd': netD.state_dict()}, saved_model_folder + '/last_model.pth')\n",
    "            with torch.no_grad():\n",
    "                for i in range (500):\n",
    "                    fixed_noise = torch.FloatTensor(1, nz).normal_(0, 1).to(device)\n",
    "                    generated_images = netG(fixed_noise)                \n",
    "                    #print(\"saved %d image\" % i)\n",
    "                    vutils.save_image(generated_images[0].add(1).mul(0.5), saved_image_folder + '/%d.jpg' % i)\n",
    "\n",
    "            fid_score = fid()\n",
    "            fid_scores.append(fid_score)\n",
    "            print ('Current fid score:' , fid_score)\n",
    "            print ('Fid scores:' , fid_scores)\n",
    "            \n",
    "            fid_results_path = os.path.join(os.getcwd(), 'train_results', save_results_dir, \"fid.txt\")    \n",
    "\n",
    "            with open(fid_results_path, 'w') as file:\n",
    "                for value in fid_scores:\n",
    "                    file.write(str(value) + '\\n')\n",
    "            \n",
    "            if fid_score < min_fid_score:\n",
    "                min_fid_score = fid_score\n",
    "                print('New min fid score: %.12f' % fid_score)\n",
    "                print('Saving best model')\n",
    "                torch.save({'g': netG.state_dict(), 'd': netD.state_dict()}, saved_model_folder + '/min_fid_model.pth')\n",
    "                #load_params(netG, backup_para)\n",
    "                #torch.save({'g': netG.state_dict(), 'd': netD.state_dict(), 'g_ema': avg_param_G, 'opt_g': optimizerG.state_dict(), 'opt_d': optimizerD.state_dict()}, saved_model_folder + '/all_%d.pth' % iteration)\n",
    "\n",
    "            load_params(netG, backup_para)\n",
    "\n",
    "\n",
    "if __name__ == \"__main__\":\n",
    "    #data_root = os.path.join(os.path.abspath('..'), \"datasets\", \"drive\", \"img\")\n",
    "    data_root = os.path.join(os.path.abspath('..'), \"datasets\", \"BV\", \"img\")\n",
    "    print (data_root)\n",
    "    args = easydict.EasyDict({\n",
    "        \"path\": data_root,\n",
    "        \"cuda\": 0,\n",
    "        \"name\": 'test_bv_256',\n",
    "        \"iter\": 100000,\n",
    "        \"start_iter\": 0, \n",
    "        \"batch_size\": 1,\n",
    "        \"im_size\": 256,\n",
    "        \"ckpt\": 'None',\n",
    "        \"noise_dim\": 400,\n",
    "        \"fid_batch_size\": 32\n",
    "    })\n",
    "    \n",
    "    print(args)\n",
    "    torch.cuda.empty_cache()\n",
    "    #print(torch.cuda.memory_summary(device=None, abbreviated=False))\n",
    "    train(args)\n"
   ]
  }
 ],
 "metadata": {
  "kernelspec": {
   "display_name": "Python 3",
   "language": "python",
   "name": "python3"
  },
  "language_info": {
   "codemirror_mode": {
    "name": "ipython",
    "version": 3
   },
   "file_extension": ".py",
   "mimetype": "text/x-python",
   "name": "python",
   "nbconvert_exporter": "python",
   "pygments_lexer": "ipython3",
   "version": "3.7.9"
  }
 },
 "nbformat": 4,
 "nbformat_minor": 4
}
