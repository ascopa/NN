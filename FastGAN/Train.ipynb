{
 "cells": [
  {
   "cell_type": "markdown",
   "metadata": {},
   "source": [
    "Esta Jupyter Notebook es una adaptación de la red nueronal [implementada](https://github.com/odegeasslbc/FastGAN-pytorch) en el paper [\"Towards Faster and Stabilized GAN Training for High-fidelity Few-shot Image Synthesis\"](https://arxiv.org/pdf/2101.04775.pdf). La particularidad de la misma reside en su capacidad de generar imagenes a partir de datasets \"pequeños\" (>1000 muestras). El código está dividido en tres partes: definición de arquitectura generador/discriminador, funciones auxiliares (procesamiento de datasets, manejo de archivos) y algoritmo de entrenamiento."
   ]
  },
  {
   "cell_type": "markdown",
   "metadata": {},
   "source": [
    "Se utilizaron dos datasets, uno de retinas (Drive) con 160 imagenes en escala de grises y resolución 512x512. El otro consiste de patrones de venas o filamentos, en este caso 6000 imágenes también en escala de grises y resolución 256x256. El procesamiento de ambos casos se hace mediante las clases auxiliares de PyTorch ImageFolder y DataLoader, en batches de 32. Luego se entrena la red con el algoritmo convencional de GAN. Cada cierta cantidad de iteraciones se calcula la FID y se almacena ese valor. Con esto luego se compara en consecuentes iteraciones y se guarda el mejor modelo según esta métrica (menor es mejor). En ambos casos se ve un decenso progresivo de esta distancia, hasta una eventual meseta con sus pequeñas variaciones."
   ]
  },
  {
   "cell_type": "code",
   "execution_count": 1,
   "metadata": {},
   "outputs": [],
   "source": [
    "import torch\n",
    "import torch.nn as nn\n",
    "from torch.nn.utils import spectral_norm\n",
    "import torch.nn.functional as F\n",
    "\n",
    "import random\n",
    "\n",
    "seq = nn.Sequential\n",
    "\n",
    "def weights_init(m):\n",
    "    classname = m.__class__.__name__\n",
    "    if classname.find('Conv') != -1:\n",
    "        try:\n",
    "            m.weight.data.normal_(0.0, 0.02)\n",
    "        except:\n",
    "            pass\n",
    "    elif classname.find('BatchNorm') != -1:\n",
    "        m.weight.data.normal_(1.0, 0.02)\n",
    "        m.bias.data.fill_(0)\n",
    "\n",
    "def conv2d(*args, **kwargs):\n",
    "    return spectral_norm(nn.Conv2d(*args, **kwargs))\n",
    "\n",
    "def convTranspose2d(*args, **kwargs):\n",
    "    return spectral_norm(nn.ConvTranspose2d(*args, **kwargs))\n",
    "\n",
    "def batchNorm2d(*args, **kwargs):\n",
    "    return nn.BatchNorm2d(*args, **kwargs)\n",
    "\n",
    "def linear(*args, **kwargs):\n",
    "    return spectral_norm(nn.Linear(*args, **kwargs))\n",
    "\n",
    "class PixelNorm(nn.Module):\n",
    "    def forward(self, input):\n",
    "        return input * torch.rsqrt(torch.mean(input ** 2, dim=1, keepdim=True) + 1e-8)\n",
    "\n",
    "class Reshape(nn.Module):\n",
    "    def __init__(self, shape):\n",
    "        super().__init__()\n",
    "        self.target_shape = shape\n",
    "\n",
    "    def forward(self, feat):\n",
    "        batch = feat.shape[0]\n",
    "        return feat.view(batch, *self.target_shape)        \n",
    "\n",
    "\n",
    "class GLU(nn.Module):\n",
    "    def forward(self, x):\n",
    "        nc = x.size(1)\n",
    "        assert nc % 2 == 0, 'channels dont divide 2!'\n",
    "        nc = int(nc/2)\n",
    "        return x[:, :nc] * torch.sigmoid(x[:, nc:])\n",
    "\n",
    "\n",
    "class NoiseInjection(nn.Module):\n",
    "    def __init__(self):\n",
    "        super().__init__()\n",
    "\n",
    "        self.weight = nn.Parameter(torch.zeros(1), requires_grad=True)\n",
    "\n",
    "    def forward(self, feat, noise=None):\n",
    "        if noise is None:\n",
    "            batch, _, height, width = feat.shape\n",
    "            noise = torch.randn(batch, 1, height, width).to(feat.device)\n",
    "\n",
    "        return feat + self.weight * noise\n",
    "\n",
    "\n",
    "class Swish(nn.Module):\n",
    "    def forward(self, feat):\n",
    "        return feat * torch.sigmoid(feat)\n",
    "\n",
    "\n",
    "class SEBlock(nn.Module):\n",
    "    def __init__(self, ch_in, ch_out):\n",
    "        super().__init__()\n",
    "\n",
    "        self.main = nn.Sequential(  nn.AdaptiveAvgPool2d(4), \n",
    "                                    conv2d(ch_in, ch_out, 4, 1, 0, bias=False), Swish(),\n",
    "                                    conv2d(ch_out, ch_out, 1, 1, 0, bias=False), nn.Sigmoid() )\n",
    "\n",
    "    def forward(self, feat_small, feat_big):\n",
    "        return feat_big * self.main(feat_small)\n",
    "\n",
    "\n",
    "class InitLayer(nn.Module):\n",
    "    def __init__(self, nz, channel):\n",
    "        super().__init__()\n",
    "\n",
    "        self.init = nn.Sequential(\n",
    "                        convTranspose2d(nz, channel*2, 4, 1, 0, bias=False),\n",
    "                        batchNorm2d(channel*2), GLU() )\n",
    "\n",
    "    def forward(self, noise):\n",
    "        noise = noise.view(noise.shape[0], -1, 1, 1)\n",
    "        return self.init(noise)\n",
    "\n",
    "\n",
    "def UpBlock(in_planes, out_planes):\n",
    "    block = nn.Sequential(\n",
    "        nn.Upsample(scale_factor=2, mode='nearest'),\n",
    "        conv2d(in_planes, out_planes*2, 3, 1, 1, bias=False),\n",
    "        #convTranspose2d(in_planes, out_planes*2, 4, 2, 1, bias=False),\n",
    "        batchNorm2d(out_planes*2), GLU())\n",
    "    return block\n",
    "\n",
    "\n",
    "def UpBlockComp(in_planes, out_planes):\n",
    "    block = nn.Sequential(\n",
    "        nn.Upsample(scale_factor=2, mode='nearest'),\n",
    "        conv2d(in_planes, out_planes*2, 3, 1, 1, bias=False),\n",
    "        #convTranspose2d(in_planes, out_planes*2, 4, 2, 1, bias=False),\n",
    "        NoiseInjection(),\n",
    "        batchNorm2d(out_planes*2), GLU(),\n",
    "        conv2d(out_planes, out_planes*2, 3, 1, 1, bias=False),\n",
    "        NoiseInjection(),\n",
    "        batchNorm2d(out_planes*2), GLU()\n",
    "        )\n",
    "    return block\n",
    "\n",
    "\n",
    "class Generator(nn.Module):\n",
    "    def __init__(self, ngf=64, nz=100, nc=3, im_size=1024):\n",
    "        super(Generator, self).__init__()\n",
    "\n",
    "        nfc_multi = {4:16, 8:8, 16:4, 32:2, 64:2, 128:1, 256:0.5, 512:0.25, 1024:0.125}\n",
    "        nfc = {}\n",
    "        for k, v in nfc_multi.items():\n",
    "            nfc[k] = int(v*ngf)\n",
    "\n",
    "        self.im_size = im_size\n",
    "\n",
    "        self.init = InitLayer(nz, channel=nfc[4])\n",
    "                                \n",
    "        self.feat_8   = UpBlockComp(nfc[4], nfc[8])\n",
    "        self.feat_16  = UpBlock(nfc[8], nfc[16])\n",
    "        self.feat_32  = UpBlockComp(nfc[16], nfc[32])\n",
    "        self.feat_64  = UpBlock(nfc[32], nfc[64])\n",
    "        self.feat_128 = UpBlockComp(nfc[64], nfc[128])  \n",
    "        self.feat_256 = UpBlock(nfc[128], nfc[256]) \n",
    "\n",
    "        self.se_64  = SEBlock(nfc[4], nfc[64])\n",
    "        self.se_128 = SEBlock(nfc[8], nfc[128])\n",
    "        self.se_256 = SEBlock(nfc[16], nfc[256])\n",
    "\n",
    "        self.to_128 = conv2d(nfc[128], nc, 1, 1, 0, bias=False) \n",
    "        self.to_big = conv2d(nfc[im_size], nc, 3, 1, 1, bias=False) \n",
    "        \n",
    "        if im_size > 256:\n",
    "            self.feat_512 = UpBlockComp(nfc[256], nfc[512]) \n",
    "            self.se_512 = SEBlock(nfc[32], nfc[512])\n",
    "        if im_size > 512:\n",
    "            self.feat_1024 = UpBlock(nfc[512], nfc[1024])  \n",
    "        \n",
    "    def forward(self, input):\n",
    "        \n",
    "        feat_4   = self.init(input)\n",
    "        feat_8   = self.feat_8(feat_4)\n",
    "        feat_16  = self.feat_16(feat_8)\n",
    "        feat_32  = self.feat_32(feat_16)\n",
    "\n",
    "        feat_64  = self.se_64( feat_4, self.feat_64(feat_32) )\n",
    "\n",
    "        feat_128 = self.se_128( feat_8, self.feat_128(feat_64) )\n",
    "\n",
    "        feat_256 = self.se_256( feat_16, self.feat_256(feat_128) )\n",
    "\n",
    "        if self.im_size == 256:\n",
    "            return [self.to_big(feat_256), self.to_128(feat_128)]\n",
    "        \n",
    "        feat_512 = self.se_512( feat_32, self.feat_512(feat_256) )\n",
    "        if self.im_size == 512:\n",
    "            return [self.to_big(feat_512), self.to_128(feat_128)]\n",
    "\n",
    "        feat_1024 = self.feat_1024(feat_512)\n",
    "\n",
    "        im_128 = torch.tanh(self.to_128(feat_128))\n",
    "        im_1024 = torch.tanh(self.to_big(feat_1024))\n",
    "\n",
    "        return [im_1024, im_128]\n",
    "\n",
    "\n",
    "class DownBlock(nn.Module):\n",
    "    def __init__(self, in_planes, out_planes):\n",
    "        super(DownBlock, self).__init__()\n",
    "\n",
    "        self.main = nn.Sequential(\n",
    "            conv2d(in_planes, out_planes, 4, 2, 1, bias=False),\n",
    "            batchNorm2d(out_planes), nn.LeakyReLU(0.2, inplace=True),\n",
    "            )\n",
    "\n",
    "    def forward(self, feat):\n",
    "        return self.main(feat)\n",
    "\n",
    "\n",
    "class DownBlockComp(nn.Module):\n",
    "    def __init__(self, in_planes, out_planes):\n",
    "        super(DownBlockComp, self).__init__()\n",
    "\n",
    "        self.main = nn.Sequential(\n",
    "            conv2d(in_planes, out_planes, 4, 2, 1, bias=False),\n",
    "            batchNorm2d(out_planes), nn.LeakyReLU(0.2, inplace=True),\n",
    "            conv2d(out_planes, out_planes, 3, 1, 1, bias=False),\n",
    "            batchNorm2d(out_planes), nn.LeakyReLU(0.2)\n",
    "            )\n",
    "\n",
    "        self.direct = nn.Sequential(\n",
    "            nn.AvgPool2d(2, 2),\n",
    "            conv2d(in_planes, out_planes, 1, 1, 0, bias=False),\n",
    "            batchNorm2d(out_planes), nn.LeakyReLU(0.2))\n",
    "\n",
    "    def forward(self, feat):\n",
    "        return (self.main(feat) + self.direct(feat)) / 2\n",
    "\n",
    "\n",
    "class Discriminator(nn.Module):\n",
    "    def __init__(self, ndf=64, nc=3, im_size=512):\n",
    "        super(Discriminator, self).__init__()\n",
    "        self.ndf = ndf\n",
    "        self.im_size = im_size\n",
    "\n",
    "        nfc_multi = {4:16, 8:16, 16:8, 32:4, 64:2, 128:1, 256:0.5, 512:0.25, 1024:0.125}\n",
    "        nfc = {}\n",
    "        for k, v in nfc_multi.items():\n",
    "            nfc[k] = int(v*ndf)\n",
    "\n",
    "        if im_size == 1024:\n",
    "            self.down_from_big = nn.Sequential( \n",
    "                                    conv2d(nc, nfc[1024], 4, 2, 1, bias=False),\n",
    "                                    nn.LeakyReLU(0.2, inplace=True),\n",
    "                                    conv2d(nfc[1024], nfc[512], 4, 2, 1, bias=False),\n",
    "                                    batchNorm2d(nfc[512]),\n",
    "                                    nn.LeakyReLU(0.2, inplace=True))\n",
    "        elif im_size == 512:\n",
    "            self.down_from_big = nn.Sequential( \n",
    "                                    conv2d(nc, nfc[512], 4, 2, 1, bias=False),\n",
    "                                    nn.LeakyReLU(0.2, inplace=True) )\n",
    "        elif im_size == 256:\n",
    "            self.down_from_big = nn.Sequential( \n",
    "                                    conv2d(nc, nfc[512], 3, 1, 1, bias=False),\n",
    "                                    nn.LeakyReLU(0.2, inplace=True) )\n",
    "\n",
    "        self.down_4  = DownBlockComp(nfc[512], nfc[256])\n",
    "        self.down_8  = DownBlockComp(nfc[256], nfc[128])\n",
    "        self.down_16 = DownBlockComp(nfc[128], nfc[64])\n",
    "        self.down_32 = DownBlockComp(nfc[64],  nfc[32])\n",
    "        self.down_64 = DownBlockComp(nfc[32],  nfc[16])\n",
    "\n",
    "        self.rf_big = nn.Sequential(\n",
    "                            conv2d(nfc[16] , nfc[8], 1, 1, 0, bias=False),\n",
    "                            batchNorm2d(nfc[8]), nn.LeakyReLU(0.2, inplace=True),\n",
    "                            conv2d(nfc[8], 1, 4, 1, 0, bias=False))\n",
    "\n",
    "        self.se_2_16 = SEBlock(nfc[512], nfc[64])\n",
    "        self.se_4_32 = SEBlock(nfc[256], nfc[32])\n",
    "        self.se_8_64 = SEBlock(nfc[128], nfc[16])\n",
    "        \n",
    "        self.down_from_small = nn.Sequential( \n",
    "                                            conv2d(nc, nfc[256], 4, 2, 1, bias=False), \n",
    "                                            nn.LeakyReLU(0.2, inplace=True),\n",
    "                                            DownBlock(nfc[256],  nfc[128]),\n",
    "                                            DownBlock(nfc[128],  nfc[64]),\n",
    "                                            DownBlock(nfc[64],  nfc[32]), )\n",
    "\n",
    "        self.rf_small = conv2d(nfc[32], 1, 4, 1, 0, bias=False)\n",
    "\n",
    "        self.decoder_big = SimpleDecoder(nfc[16], nc)\n",
    "        self.decoder_part = SimpleDecoder(nfc[32], nc)\n",
    "        self.decoder_small = SimpleDecoder(nfc[32], nc)\n",
    "        \n",
    "    def forward(self, imgs, label, part=None):\n",
    "        if type(imgs) is not list:\n",
    "            imgs = [F.interpolate(imgs, size=self.im_size), F.interpolate(imgs, size=128)]\n",
    "\n",
    "        feat_2 = self.down_from_big(imgs[0])        \n",
    "        feat_4 = self.down_4(feat_2)\n",
    "        feat_8 = self.down_8(feat_4)\n",
    "        \n",
    "        feat_16 = self.down_16(feat_8)\n",
    "        feat_16 = self.se_2_16(feat_2, feat_16)\n",
    "\n",
    "        feat_32 = self.down_32(feat_16)\n",
    "        feat_32 = self.se_4_32(feat_4, feat_32)\n",
    "        \n",
    "        feat_last = self.down_64(feat_32)\n",
    "        feat_last = self.se_8_64(feat_8, feat_last)\n",
    "\n",
    "        #rf_0 = torch.cat([self.rf_big_1(feat_last).view(-1),self.rf_big_2(feat_last).view(-1)])\n",
    "        #rff_big = torch.sigmoid(self.rf_factor_big)\n",
    "        rf_0 = self.rf_big(feat_last).view(-1)\n",
    "\n",
    "        feat_small = self.down_from_small(imgs[1])\n",
    "        #rf_1 = torch.cat([self.rf_small_1(feat_small).view(-1),self.rf_small_2(feat_small).view(-1)])\n",
    "        rf_1 = self.rf_small(feat_small).view(-1)\n",
    "\n",
    "        if label=='real':    \n",
    "            rec_img_big = self.decoder_big(feat_last)\n",
    "            rec_img_small = self.decoder_small(feat_small)\n",
    "\n",
    "            assert part is not None\n",
    "            rec_img_part = None\n",
    "            if part==0:\n",
    "                rec_img_part = self.decoder_part(feat_32[:,:,:8,:8])\n",
    "            if part==1:\n",
    "                rec_img_part = self.decoder_part(feat_32[:,:,:8,8:])\n",
    "            if part==2:\n",
    "                rec_img_part = self.decoder_part(feat_32[:,:,8:,:8])\n",
    "            if part==3:\n",
    "                rec_img_part = self.decoder_part(feat_32[:,:,8:,8:])\n",
    "\n",
    "            return torch.cat([rf_0, rf_1]) , [rec_img_big, rec_img_small, rec_img_part]\n",
    "\n",
    "        return torch.cat([rf_0, rf_1]) \n",
    "\n",
    "\n",
    "class SimpleDecoder(nn.Module):\n",
    "    \"\"\"docstring for CAN_SimpleDecoder\"\"\"\n",
    "    def __init__(self, nfc_in=64, nc=3):\n",
    "        super(SimpleDecoder, self).__init__()\n",
    "\n",
    "        nfc_multi = {4:16, 8:8, 16:4, 32:2, 64:2, 128:1, 256:0.5, 512:0.25, 1024:0.125}\n",
    "        nfc = {}\n",
    "        for k, v in nfc_multi.items():\n",
    "            nfc[k] = int(v*32)\n",
    "\n",
    "        def upBlock(in_planes, out_planes):\n",
    "            block = nn.Sequential(\n",
    "                nn.Upsample(scale_factor=2, mode='nearest'),\n",
    "                conv2d(in_planes, out_planes*2, 3, 1, 1, bias=False),\n",
    "                batchNorm2d(out_planes*2), GLU())\n",
    "            return block\n",
    "\n",
    "        self.main = nn.Sequential(  nn.AdaptiveAvgPool2d(8),\n",
    "                                    upBlock(nfc_in, nfc[16]) ,\n",
    "                                    upBlock(nfc[16], nfc[32]),\n",
    "                                    upBlock(nfc[32], nfc[64]),\n",
    "                                    upBlock(nfc[64], nfc[128]),\n",
    "                                    conv2d(nfc[128], nc, 3, 1, 1, bias=False),\n",
    "                                    nn.Tanh() )\n",
    "\n",
    "    def forward(self, input):\n",
    "        # input shape: c x 4 x 4\n",
    "        return self.main(input)\n",
    "\n",
    "from random import randint\n",
    "def random_crop(image, size):\n",
    "    h, w = image.shape[2:]\n",
    "    ch = randint(0, h-size-1)\n",
    "    cw = randint(0, w-size-1)\n",
    "    return image[:,:,ch:ch+size,cw:cw+size]\n",
    "\n",
    "class TextureDiscriminator(nn.Module):\n",
    "    def __init__(self, ndf=64, nc=3, im_size=512):\n",
    "        super(TextureDiscriminator, self).__init__()\n",
    "        self.ndf = ndf\n",
    "        self.im_size = im_size\n",
    "\n",
    "        nfc_multi = {4:16, 8:8, 16:8, 32:4, 64:2, 128:1, 256:0.5, 512:0.25, 1024:0.125}\n",
    "        nfc = {}\n",
    "        for k, v in nfc_multi.items():\n",
    "            nfc[k] = int(v*ndf)\n",
    "\n",
    "        self.down_from_small = nn.Sequential( \n",
    "                                            conv2d(nc, nfc[256], 4, 2, 1, bias=False), \n",
    "                                            nn.LeakyReLU(0.2, inplace=True),\n",
    "                                            DownBlock(nfc[256],  nfc[128]),\n",
    "                                            DownBlock(nfc[128],  nfc[64]),\n",
    "                                            DownBlock(nfc[64],  nfc[32]), )\n",
    "        self.rf_small = nn.Sequential(\n",
    "                            conv2d(nfc[16], 1, 4, 1, 0, bias=False))\n",
    "\n",
    "        self.decoder_small = SimpleDecoder(nfc[32], nc)\n",
    "        \n",
    "    def forward(self, img, label):\n",
    "        img = random_crop(img, size=128)\n",
    "\n",
    "        feat_small = self.down_from_small(img)\n",
    "        rf = self.rf_small(feat_small).view(-1)\n",
    "        \n",
    "        if label=='real':    \n",
    "            rec_img_small = self.decoder_small(feat_small)\n",
    "\n",
    "            return rf, rec_img_small, img\n",
    "\n",
    "        return rf\n"
   ]
  },
  {
   "cell_type": "code",
   "execution_count": 2,
   "metadata": {},
   "outputs": [],
   "source": [
    "import os\n",
    "import numpy as np\n",
    "import torch\n",
    "import torch.utils.data as data\n",
    "from torch.utils.data import Dataset\n",
    "from PIL import Image\n",
    "from copy import deepcopy\n",
    "import shutil\n",
    "import json\n",
    "\n",
    "def InfiniteSampler(n):\n",
    "    \"\"\"Data sampler\"\"\"\n",
    "    i = n - 1\n",
    "    order = np.random.permutation(n)\n",
    "    while True:\n",
    "        yield order[i]\n",
    "        i += 1\n",
    "        if i >= n:\n",
    "            np.random.seed()\n",
    "            order = np.random.permutation(n)\n",
    "            i = 0\n",
    "\n",
    "\n",
    "class InfiniteSamplerWrapper(data.sampler.Sampler):\n",
    "    \"\"\"Data sampler wrapper\"\"\"\n",
    "    def __init__(self, data_source):\n",
    "        self.num_samples = len(data_source)\n",
    "\n",
    "    def __iter__(self):\n",
    "        return iter(InfiniteSampler(self.num_samples))\n",
    "\n",
    "    def __len__(self):\n",
    "        return 2 ** 31\n",
    "\n",
    "\n",
    "def copy_G_params(model):\n",
    "    flatten = deepcopy(list(p.data for p in model.parameters()))\n",
    "    return flatten\n",
    "    \n",
    "\n",
    "def load_params(model, new_param):\n",
    "    for p, new_p in zip(model.parameters(), new_param):\n",
    "        p.data.copy_(new_p)\n",
    "\n",
    "\n",
    "def get_dir(args):\n",
    "    task_name = 'train_results/' + args.name\n",
    "    saved_model_folder = os.path.join( task_name, 'models')\n",
    "    saved_image_folder = os.path.join( task_name, 'images')\n",
    "    \n",
    "    os.makedirs(saved_model_folder, exist_ok=True)\n",
    "    os.makedirs(saved_image_folder, exist_ok=True)\n",
    "\n",
    "\n",
    "    for f in os.listdir('./'):\n",
    "        if '.py' in f:\n",
    "            shutil.copy(f, task_name+'/'+f)\n",
    "    \n",
    "    with open( os.path.join(saved_model_folder, '../args.txt'), 'w') as f:\n",
    "        json.dump(args.__dict__, f, indent=2)\n",
    "\n",
    "    return saved_model_folder, saved_image_folder\n",
    "\n",
    "\n",
    "class  ImageFolder(Dataset):\n",
    "    \"\"\"docstring for ArtDataset\"\"\"\n",
    "    def __init__(self, root, transform=None):\n",
    "        super( ImageFolder, self).__init__()\n",
    "        self.root = root\n",
    "\n",
    "        self.frame = self._parse_frame()\n",
    "        self.transform = transform\n",
    "\n",
    "    def _parse_frame(self):\n",
    "        frame = []\n",
    "        img_names = os.listdir(self.root)\n",
    "        img_names.sort()\n",
    "        for i in range(len(img_names)):\n",
    "            image_path = os.path.join(self.root, img_names[i])\n",
    "            if image_path[-4:] == '.jpg' or image_path[-4:] == '.png' or image_path[-5:] == '.jpeg': \n",
    "                frame.append(image_path)\n",
    "        return frame\n",
    "\n",
    "    def __len__(self):\n",
    "        return len(self.frame)\n",
    "\n",
    "    def __getitem__(self, idx):\n",
    "        file = self.frame[idx]\n",
    "        img = Image.open(file).convert('RGB')\n",
    "            \n",
    "        if self.transform:\n",
    "            img = self.transform(img) \n",
    "\n",
    "        return img\n",
    "\n",
    "\n",
    "\n",
    "from io import BytesIO\n",
    "import lmdb\n",
    "from torch.utils.data import Dataset\n",
    "\n",
    "\n",
    "class MultiResolutionDataset(Dataset):\n",
    "    def __init__(self, path, transform, resolution=256):\n",
    "        self.env = lmdb.open(\n",
    "            path,\n",
    "            max_readers=32,\n",
    "            readonly=True,\n",
    "            lock=False,\n",
    "            readahead=False,\n",
    "            meminit=False,\n",
    "        )\n",
    "\n",
    "        if not self.env:\n",
    "            raise IOError('Cannot open lmdb dataset', path)\n",
    "\n",
    "        with self.env.begin(write=False) as txn:\n",
    "            self.length = int(txn.get('length'.encode('utf-8')).decode('utf-8'))\n",
    "\n",
    "        self.resolution = resolution\n",
    "        self.transform = transform\n",
    "\n",
    "    def __len__(self):\n",
    "        return self.length\n",
    "\n",
    "    def __getitem__(self, index):\n",
    "        with self.env.begin(write=False) as txn:\n",
    "            key = f'{self.resolution}-{str(index).zfill(5)}'.encode('utf-8')\n",
    "            img_bytes = txn.get(key)\n",
    "            #key_asp = f'aspect_ratio-{str(index).zfill(5)}'.encode('utf-8')\n",
    "            #aspect_ratio = float(txn.get(key_asp).decode())\n",
    "\n",
    "        buffer = BytesIO(img_bytes)\n",
    "        img = Image.open(buffer)\n",
    "        img = self.transform(img)\n",
    "\n",
    "        return img\n",
    "\n"
   ]
  },
  {
   "cell_type": "code",
   "execution_count": 3,
   "metadata": {},
   "outputs": [
    {
     "name": "stdout",
     "output_type": "stream",
     "text": [
      "/home/jovyan/NN/datasets/BV/train\n",
      "{'path': '/home/jovyan/NN/datasets/BV/train', 'cuda': 0, 'name': 'test_bv_256', 'iter': 100000, 'start_iter': 0, 'batch_size': 1, 'im_size': 256, 'ckpt': 'None', 'noise_dim': 400, 'fid_batch_size': 32}\n"
     ]
    },
    {
     "name": "stderr",
     "output_type": "stream",
     "text": [
      "Using cache found in /home/jovyan/.cache/torch/hub/pytorch_vision_v0.9.0\n",
      "/opt/conda/lib/python3.7/site-packages/torchvision/models/_utils.py:209: UserWarning: The parameter 'pretrained' is deprecated since 0.13 and may be removed in the future, please use 'weights' instead.\n",
      "  f\"The parameter '{pretrained_param}' is deprecated since 0.13 and may be removed in the future, \"\n",
      "/opt/conda/lib/python3.7/site-packages/torchvision/models/_utils.py:223: UserWarning: Arguments other than a weight enum or `None` for 'weights' are deprecated since 0.13 and may be removed in the future. The current behavior is equivalent to passing `weights=Inception_V3_Weights.IMAGENET1K_V1`. You can also use `weights=Inception_V3_Weights.DEFAULT` to get the most up-to-date weights.\n",
      "  warnings.warn(msg)\n",
      "  0%|          | 0/100001 [00:00<?, ?it/s]/opt/conda/lib/python3.7/site-packages/torch/functional.py:504: UserWarning: torch.meshgrid: in an upcoming release, it will be required to pass the indexing argument. (Triggered internally at ../aten/src/ATen/native/TensorShape.cpp:3190.)\n",
      "  return _VF.meshgrid(tensors, **kwargs)  # type: ignore[attr-defined]\n"
     ]
    },
    {
     "name": "stdout",
     "output_type": "stream",
     "text": [
      "GAN: loss d: -0.05264    loss g: -1.42263\n",
      "saving current model\n"
     ]
    },
    {
     "name": "stderr",
     "output_type": "stream",
     "text": [
      "\n",
      "  0%|          | 0/175 [00:00<?, ?it/s]\u001b[A"
     ]
    },
    {
     "name": "stdout",
     "output_type": "stream",
     "text": [
      "Number of real images: 5626\n"
     ]
    },
    {
     "name": "stderr",
     "output_type": "stream",
     "text": [
      "\n",
      "\n",
      "  0%|          | 0/15 [00:00<?, ?it/s]\u001b[A\u001b[A"
     ]
    },
    {
     "name": "stdout",
     "output_type": "stream",
     "text": [
      "Number of synthetic images: 500\n"
     ]
    },
    {
     "name": "stderr",
     "output_type": "stream",
     "text": [
      "  0%|          | 0/15 [00:00<?, ?it/s]\n",
      "  0%|          | 0/175 [00:09<?, ?it/s]"
     ]
    },
    {
     "name": "stdout",
     "output_type": "stream",
     "text": [
      "Current fid score: 5.176135784826485\n",
      "Fid scores: [5.176135784826485]\n",
      "New min fid score: 5.176135784826\n",
      "Saving best model\n"
     ]
    },
    {
     "name": "stderr",
     "output_type": "stream",
     "text": [
      "\n",
      "  0%|          | 103/100001 [00:36<2:54:26,  9.54it/s]"
     ]
    },
    {
     "name": "stdout",
     "output_type": "stream",
     "text": [
      "GAN: loss d: 1.91063    loss g: -2.06034\n"
     ]
    },
    {
     "name": "stderr",
     "output_type": "stream",
     "text": [
      "  0%|          | 201/100001 [00:46<3:05:31,  8.97it/s]"
     ]
    },
    {
     "name": "stdout",
     "output_type": "stream",
     "text": [
      "GAN: loss d: 2.19716    loss g: -2.33532\n"
     ]
    },
    {
     "name": "stderr",
     "output_type": "stream",
     "text": [
      "  0%|          | 302/100001 [00:57<3:02:15,  9.12it/s]"
     ]
    },
    {
     "name": "stdout",
     "output_type": "stream",
     "text": [
      "GAN: loss d: 1.82385    loss g: -2.11180\n"
     ]
    },
    {
     "name": "stderr",
     "output_type": "stream",
     "text": [
      "  0%|          | 401/100001 [01:08<3:03:16,  9.06it/s]"
     ]
    },
    {
     "name": "stdout",
     "output_type": "stream",
     "text": [
      "GAN: loss d: 2.45826    loss g: -2.82463\n"
     ]
    },
    {
     "name": "stderr",
     "output_type": "stream",
     "text": [
      "  1%|          | 503/100001 [01:19<2:52:54,  9.59it/s]"
     ]
    },
    {
     "name": "stdout",
     "output_type": "stream",
     "text": [
      "GAN: loss d: 3.15554    loss g: -2.34673\n"
     ]
    },
    {
     "name": "stderr",
     "output_type": "stream",
     "text": [
      "  1%|          | 601/100001 [01:29<3:10:11,  8.71it/s]"
     ]
    },
    {
     "name": "stdout",
     "output_type": "stream",
     "text": [
      "GAN: loss d: 3.51556    loss g: -2.50680\n"
     ]
    },
    {
     "name": "stderr",
     "output_type": "stream",
     "text": [
      "  1%|          | 703/100001 [01:40<2:53:28,  9.54it/s]"
     ]
    },
    {
     "name": "stdout",
     "output_type": "stream",
     "text": [
      "GAN: loss d: 3.46137    loss g: -2.89639\n"
     ]
    },
    {
     "name": "stderr",
     "output_type": "stream",
     "text": [
      "  1%|          | 803/100001 [01:51<2:53:59,  9.50it/s]"
     ]
    },
    {
     "name": "stdout",
     "output_type": "stream",
     "text": [
      "GAN: loss d: 2.81889    loss g: -3.07784\n"
     ]
    },
    {
     "name": "stderr",
     "output_type": "stream",
     "text": [
      "  1%|          | 901/100001 [02:01<3:06:04,  8.88it/s]"
     ]
    },
    {
     "name": "stdout",
     "output_type": "stream",
     "text": [
      "GAN: loss d: 3.16483    loss g: -3.30308\n"
     ]
    },
    {
     "name": "stderr",
     "output_type": "stream",
     "text": [
      "  1%|          | 1000/100001 [02:12<2:53:50,  9.49it/s]"
     ]
    },
    {
     "name": "stdout",
     "output_type": "stream",
     "text": [
      "GAN: loss d: 3.95183    loss g: -2.98056\n",
      "saving current model\n"
     ]
    },
    {
     "name": "stderr",
     "output_type": "stream",
     "text": [
      "\n",
      "  0%|          | 0/175 [00:00<?, ?it/s]\u001b[A"
     ]
    },
    {
     "name": "stdout",
     "output_type": "stream",
     "text": [
      "Number of real images: 5626\n"
     ]
    },
    {
     "name": "stderr",
     "output_type": "stream",
     "text": [
      "\n",
      "\n",
      "  0%|          | 0/15 [00:00<?, ?it/s]\u001b[A\u001b[A"
     ]
    },
    {
     "name": "stdout",
     "output_type": "stream",
     "text": [
      "Number of synthetic images: 500\n"
     ]
    },
    {
     "name": "stderr",
     "output_type": "stream",
     "text": [
      "  0%|          | 0/175 [00:09<?, ?it/s]\n",
      "  0%|          | 0/175 [00:09<?, ?it/s]\n",
      "  0%|          | 0/15 [00:00<?, ?it/s]"
     ]
    },
    {
     "name": "stdout",
     "output_type": "stream",
     "text": [
      "Current fid score: 2.49733748630797\n",
      "Fid scores: [5.176135784826485, 2.49733748630797]\n",
      "New min fid score: 2.497337486308\n",
      "Saving best model\n"
     ]
    },
    {
     "name": "stderr",
     "output_type": "stream",
     "text": [
      "\n",
      "  1%|          | 1102/100001 [02:46<2:56:40,  9.33it/s]  "
     ]
    },
    {
     "name": "stdout",
     "output_type": "stream",
     "text": [
      "GAN: loss d: 2.06930    loss g: -4.47355\n"
     ]
    },
    {
     "name": "stderr",
     "output_type": "stream",
     "text": [
      "  1%|          | 1201/100001 [02:57<3:01:40,  9.06it/s]"
     ]
    },
    {
     "name": "stdout",
     "output_type": "stream",
     "text": [
      "GAN: loss d: 3.72369    loss g: -3.24163\n"
     ]
    },
    {
     "name": "stderr",
     "output_type": "stream",
     "text": [
      "  1%|▏         | 1301/100001 [03:08<2:59:53,  9.14it/s]"
     ]
    },
    {
     "name": "stdout",
     "output_type": "stream",
     "text": [
      "GAN: loss d: 4.01105    loss g: -3.62917\n"
     ]
    },
    {
     "name": "stderr",
     "output_type": "stream",
     "text": [
      "  1%|▏         | 1401/100001 [03:19<3:00:36,  9.10it/s]"
     ]
    },
    {
     "name": "stdout",
     "output_type": "stream",
     "text": [
      "GAN: loss d: 2.28286    loss g: -3.41614\n"
     ]
    },
    {
     "name": "stderr",
     "output_type": "stream",
     "text": [
      "  2%|▏         | 1503/100001 [03:30<2:54:30,  9.41it/s]"
     ]
    },
    {
     "name": "stdout",
     "output_type": "stream",
     "text": [
      "GAN: loss d: 3.09486    loss g: -3.54161\n"
     ]
    },
    {
     "name": "stderr",
     "output_type": "stream",
     "text": [
      "  2%|▏         | 1601/100001 [03:40<3:00:13,  9.10it/s]"
     ]
    },
    {
     "name": "stdout",
     "output_type": "stream",
     "text": [
      "GAN: loss d: 2.81090    loss g: -4.34092\n"
     ]
    },
    {
     "name": "stderr",
     "output_type": "stream",
     "text": [
      "  2%|▏         | 1701/100001 [03:51<2:57:54,  9.21it/s]"
     ]
    },
    {
     "name": "stdout",
     "output_type": "stream",
     "text": [
      "GAN: loss d: 2.22915    loss g: -1.19255\n"
     ]
    },
    {
     "name": "stderr",
     "output_type": "stream",
     "text": [
      "  2%|▏         | 1802/100001 [04:02<2:57:36,  9.22it/s]"
     ]
    },
    {
     "name": "stdout",
     "output_type": "stream",
     "text": [
      "GAN: loss d: 1.15968    loss g: -2.41441\n"
     ]
    },
    {
     "name": "stderr",
     "output_type": "stream",
     "text": [
      "  2%|▏         | 1901/100001 [04:12<3:02:13,  8.97it/s]"
     ]
    },
    {
     "name": "stdout",
     "output_type": "stream",
     "text": [
      "GAN: loss d: 1.72792    loss g: -1.81397\n"
     ]
    },
    {
     "name": "stderr",
     "output_type": "stream",
     "text": [
      "  2%|▏         | 2000/100001 [04:23<2:52:24,  9.47it/s]"
     ]
    },
    {
     "name": "stdout",
     "output_type": "stream",
     "text": [
      "GAN: loss d: 1.40002    loss g: -2.21893\n",
      "saving current model\n"
     ]
    },
    {
     "name": "stderr",
     "output_type": "stream",
     "text": [
      "\n",
      "  0%|          | 0/175 [00:00<?, ?it/s]\u001b[A"
     ]
    },
    {
     "name": "stdout",
     "output_type": "stream",
     "text": [
      "Number of real images: 5626\n"
     ]
    },
    {
     "name": "stderr",
     "output_type": "stream",
     "text": [
      "\n",
      "\n",
      "  0%|          | 0/15 [00:00<?, ?it/s]\u001b[A\u001b[A"
     ]
    },
    {
     "name": "stdout",
     "output_type": "stream",
     "text": [
      "Number of synthetic images: 500\n"
     ]
    },
    {
     "name": "stderr",
     "output_type": "stream",
     "text": [
      "  2%|▏         | 2001/100001 [04:44<171:53:08,  6.31s/it]"
     ]
    },
    {
     "name": "stdout",
     "output_type": "stream",
     "text": [
      "Current fid score: 2.556800986640896\n",
      "Fid scores: [5.176135784826485, 2.49733748630797, 2.556800986640896]\n"
     ]
    },
    {
     "name": "stderr",
     "output_type": "stream",
     "text": [
      "  0%|          | 0/175 [00:15<?, ?it/s]5:17,  9.31it/s]  \n",
      "  0%|          | 0/15 [00:06<?, ?it/s]\n",
      "  2%|▏         | 2101/100001 [04:54<2:59:10,  9.11it/s]"
     ]
    },
    {
     "name": "stdout",
     "output_type": "stream",
     "text": [
      "GAN: loss d: 0.35224    loss g: -1.79732\n"
     ]
    },
    {
     "name": "stderr",
     "output_type": "stream",
     "text": [
      "  2%|▏         | 2201/100001 [05:05<3:01:38,  8.97it/s]"
     ]
    },
    {
     "name": "stdout",
     "output_type": "stream",
     "text": [
      "GAN: loss d: 1.92900    loss g: -3.11030\n"
     ]
    },
    {
     "name": "stderr",
     "output_type": "stream",
     "text": [
      "  2%|▏         | 2301/100001 [05:16<2:59:58,  9.05it/s]"
     ]
    },
    {
     "name": "stdout",
     "output_type": "stream",
     "text": [
      "GAN: loss d: 1.96955    loss g: -2.15188\n"
     ]
    },
    {
     "name": "stderr",
     "output_type": "stream",
     "text": [
      "  2%|▏         | 2401/100001 [05:26<3:02:27,  8.92it/s]"
     ]
    },
    {
     "name": "stdout",
     "output_type": "stream",
     "text": [
      "GAN: loss d: 2.62169    loss g: -2.72464\n"
     ]
    },
    {
     "name": "stderr",
     "output_type": "stream",
     "text": [
      "  3%|▎         | 2501/100001 [05:37<3:03:50,  8.84it/s]"
     ]
    },
    {
     "name": "stdout",
     "output_type": "stream",
     "text": [
      "GAN: loss d: 0.59028    loss g: -1.20208\n"
     ]
    },
    {
     "name": "stderr",
     "output_type": "stream",
     "text": [
      "  3%|▎         | 2601/100001 [05:48<2:57:55,  9.12it/s]"
     ]
    },
    {
     "name": "stdout",
     "output_type": "stream",
     "text": [
      "GAN: loss d: 1.67162    loss g: -1.42785\n"
     ]
    },
    {
     "name": "stderr",
     "output_type": "stream",
     "text": [
      "  3%|▎         | 2701/100001 [05:59<3:01:49,  8.92it/s]"
     ]
    },
    {
     "name": "stdout",
     "output_type": "stream",
     "text": [
      "GAN: loss d: 1.33924    loss g: -3.29306\n"
     ]
    },
    {
     "name": "stderr",
     "output_type": "stream",
     "text": [
      "  3%|▎         | 2803/100001 [06:10<2:53:24,  9.34it/s]"
     ]
    },
    {
     "name": "stdout",
     "output_type": "stream",
     "text": [
      "GAN: loss d: 1.18267    loss g: -2.65534\n"
     ]
    },
    {
     "name": "stderr",
     "output_type": "stream",
     "text": [
      "  3%|▎         | 2901/100001 [06:20<3:03:41,  8.81it/s]"
     ]
    },
    {
     "name": "stdout",
     "output_type": "stream",
     "text": [
      "GAN: loss d: 2.01733    loss g: -0.42135\n"
     ]
    },
    {
     "name": "stderr",
     "output_type": "stream",
     "text": [
      "  3%|▎         | 3000/100001 [06:31<2:51:06,  9.45it/s]"
     ]
    },
    {
     "name": "stdout",
     "output_type": "stream",
     "text": [
      "GAN: loss d: 0.22754    loss g: -1.91939\n",
      "saving current model\n"
     ]
    },
    {
     "name": "stderr",
     "output_type": "stream",
     "text": [
      "\n",
      "  0%|          | 0/175 [00:00<?, ?it/s]\u001b[A"
     ]
    },
    {
     "name": "stdout",
     "output_type": "stream",
     "text": [
      "Number of real images: 5626\n"
     ]
    },
    {
     "name": "stderr",
     "output_type": "stream",
     "text": [
      "\n",
      "\n",
      "  0%|          | 0/15 [00:00<?, ?it/s]\u001b[A\u001b[A"
     ]
    },
    {
     "name": "stdout",
     "output_type": "stream",
     "text": [
      "Number of synthetic images: 500\n"
     ]
    },
    {
     "name": "stderr",
     "output_type": "stream",
     "text": [
      "  3%|▎         | 3001/100001 [06:52<171:27:05,  6.36s/it]"
     ]
    },
    {
     "name": "stdout",
     "output_type": "stream",
     "text": [
      "Current fid score: 2.551807388342233\n",
      "Fid scores: [5.176135784826485, 2.49733748630797, 2.556800986640896, 2.551807388342233]\n"
     ]
    },
    {
     "name": "stderr",
     "output_type": "stream",
     "text": [
      "  0%|          | 0/175 [00:10<?, ?it/s]46:03,  1.24it/s] \n",
      "  0%|          | 0/15 [00:01<?, ?it/s]\n",
      "  3%|▎         | 3101/100001 [07:02<3:03:35,  8.80it/s] "
     ]
    },
    {
     "name": "stdout",
     "output_type": "stream",
     "text": [
      "GAN: loss d: 3.26600    loss g: -1.44863\n"
     ]
    },
    {
     "name": "stderr",
     "output_type": "stream",
     "text": [
      "  3%|▎         | 3201/100001 [07:13<3:01:39,  8.88it/s]"
     ]
    },
    {
     "name": "stdout",
     "output_type": "stream",
     "text": [
      "GAN: loss d: 2.78149    loss g: -2.26415\n"
     ]
    },
    {
     "name": "stderr",
     "output_type": "stream",
     "text": [
      "  3%|▎         | 3301/100001 [07:24<2:59:00,  9.00it/s]"
     ]
    },
    {
     "name": "stdout",
     "output_type": "stream",
     "text": [
      "GAN: loss d: -0.18583    loss g: -1.40238\n"
     ]
    },
    {
     "name": "stderr",
     "output_type": "stream",
     "text": [
      "  3%|▎         | 3401/100001 [07:35<2:59:41,  8.96it/s]"
     ]
    },
    {
     "name": "stdout",
     "output_type": "stream",
     "text": [
      "GAN: loss d: 1.91991    loss g: -2.51215\n"
     ]
    },
    {
     "name": "stderr",
     "output_type": "stream",
     "text": [
      "  4%|▎         | 3503/100001 [07:45<2:48:56,  9.52it/s]"
     ]
    },
    {
     "name": "stdout",
     "output_type": "stream",
     "text": [
      "GAN: loss d: 1.59035    loss g: -2.50041\n"
     ]
    },
    {
     "name": "stderr",
     "output_type": "stream",
     "text": [
      "  4%|▎         | 3602/100001 [07:56<2:54:32,  9.20it/s]"
     ]
    },
    {
     "name": "stdout",
     "output_type": "stream",
     "text": [
      "GAN: loss d: 1.78778    loss g: -1.89874\n"
     ]
    },
    {
     "name": "stderr",
     "output_type": "stream",
     "text": [
      "  4%|▎         | 3701/100001 [08:07<2:54:38,  9.19it/s]"
     ]
    },
    {
     "name": "stdout",
     "output_type": "stream",
     "text": [
      "GAN: loss d: 2.52861    loss g: -1.26229\n"
     ]
    },
    {
     "name": "stderr",
     "output_type": "stream",
     "text": [
      "  4%|▍         | 3803/100001 [08:18<2:51:41,  9.34it/s]"
     ]
    },
    {
     "name": "stdout",
     "output_type": "stream",
     "text": [
      "GAN: loss d: 2.08105    loss g: -1.39015\n"
     ]
    },
    {
     "name": "stderr",
     "output_type": "stream",
     "text": [
      "  4%|▍         | 3901/100001 [08:28<3:00:07,  8.89it/s]"
     ]
    },
    {
     "name": "stdout",
     "output_type": "stream",
     "text": [
      "GAN: loss d: 1.96234    loss g: -1.91638\n"
     ]
    },
    {
     "name": "stderr",
     "output_type": "stream",
     "text": [
      "  4%|▍         | 4000/100001 [08:39<2:48:26,  9.50it/s]"
     ]
    },
    {
     "name": "stdout",
     "output_type": "stream",
     "text": [
      "GAN: loss d: 0.40916    loss g: -1.90499\n",
      "saving current model\n"
     ]
    },
    {
     "name": "stderr",
     "output_type": "stream",
     "text": [
      "\n",
      "  0%|          | 0/175 [00:00<?, ?it/s]\u001b[A"
     ]
    },
    {
     "name": "stdout",
     "output_type": "stream",
     "text": [
      "Number of real images: 5626\n"
     ]
    },
    {
     "name": "stderr",
     "output_type": "stream",
     "text": [
      "\n",
      "\n",
      "  0%|          | 0/15 [00:00<?, ?it/s]\u001b[A\u001b[A"
     ]
    },
    {
     "name": "stdout",
     "output_type": "stream",
     "text": [
      "Number of synthetic images: 500\n"
     ]
    },
    {
     "name": "stderr",
     "output_type": "stream",
     "text": [
      "  4%|▍         | 4001/100001 [08:59<165:55:55,  6.22s/it]"
     ]
    },
    {
     "name": "stdout",
     "output_type": "stream",
     "text": [
      "Current fid score: 3.0005414208896823\n",
      "Fid scores: [5.176135784826485, 2.49733748630797, 2.556800986640896, 2.551807388342233, 3.0005414208896823]\n"
     ]
    },
    {
     "name": "stderr",
     "output_type": "stream",
     "text": [
      "  0%|          | 0/175 [00:10<?, ?it/s]3:38,  2.84it/s]  \n",
      "  0%|          | 0/15 [00:02<?, ?it/s]\n",
      "  4%|▍         | 4103/100001 [09:10<2:49:27,  9.43it/s]"
     ]
    },
    {
     "name": "stdout",
     "output_type": "stream",
     "text": [
      "GAN: loss d: 1.54421    loss g: -1.38554\n"
     ]
    },
    {
     "name": "stderr",
     "output_type": "stream",
     "text": [
      "  4%|▍         | 4201/100001 [09:21<2:58:16,  8.96it/s]"
     ]
    },
    {
     "name": "stdout",
     "output_type": "stream",
     "text": [
      "GAN: loss d: 0.36074    loss g: -0.87464\n"
     ]
    },
    {
     "name": "stderr",
     "output_type": "stream",
     "text": [
      "  4%|▍         | 4302/100001 [09:32<2:55:14,  9.10it/s]"
     ]
    },
    {
     "name": "stdout",
     "output_type": "stream",
     "text": [
      "GAN: loss d: 2.86876    loss g: -1.43104\n"
     ]
    },
    {
     "name": "stderr",
     "output_type": "stream",
     "text": [
      "  4%|▍         | 4401/100001 [09:42<3:00:32,  8.83it/s]"
     ]
    },
    {
     "name": "stdout",
     "output_type": "stream",
     "text": [
      "GAN: loss d: 2.54265    loss g: -2.02626\n"
     ]
    },
    {
     "name": "stderr",
     "output_type": "stream",
     "text": [
      "  5%|▍         | 4501/100001 [09:53<3:14:18,  8.19it/s]"
     ]
    },
    {
     "name": "stdout",
     "output_type": "stream",
     "text": [
      "GAN: loss d: 0.37210    loss g: -2.03676\n"
     ]
    },
    {
     "name": "stderr",
     "output_type": "stream",
     "text": [
      "  5%|▍         | 4601/100001 [10:04<2:54:28,  9.11it/s]"
     ]
    },
    {
     "name": "stdout",
     "output_type": "stream",
     "text": [
      "GAN: loss d: 0.85541    loss g: -2.05430\n"
     ]
    },
    {
     "name": "stderr",
     "output_type": "stream",
     "text": [
      "  5%|▍         | 4701/100001 [10:14<2:54:28,  9.10it/s]"
     ]
    },
    {
     "name": "stdout",
     "output_type": "stream",
     "text": [
      "GAN: loss d: 2.45017    loss g: -2.47108\n"
     ]
    },
    {
     "name": "stderr",
     "output_type": "stream",
     "text": [
      "  5%|▍         | 4803/100001 [10:25<2:47:41,  9.46it/s]"
     ]
    },
    {
     "name": "stdout",
     "output_type": "stream",
     "text": [
      "GAN: loss d: 2.75704    loss g: -2.62607\n"
     ]
    },
    {
     "name": "stderr",
     "output_type": "stream",
     "text": [
      "  5%|▍         | 4901/100001 [10:36<2:54:30,  9.08it/s]"
     ]
    },
    {
     "name": "stdout",
     "output_type": "stream",
     "text": [
      "GAN: loss d: 2.17624    loss g: -2.74580\n"
     ]
    },
    {
     "name": "stderr",
     "output_type": "stream",
     "text": [
      "  5%|▍         | 5000/100001 [10:47<2:51:02,  9.26it/s]"
     ]
    },
    {
     "name": "stdout",
     "output_type": "stream",
     "text": [
      "GAN: loss d: 2.26741    loss g: -2.63666\n",
      "saving current model\n"
     ]
    },
    {
     "name": "stderr",
     "output_type": "stream",
     "text": [
      "\n",
      "  0%|          | 0/175 [00:00<?, ?it/s]\u001b[A"
     ]
    },
    {
     "name": "stdout",
     "output_type": "stream",
     "text": [
      "Number of real images: 5626\n"
     ]
    },
    {
     "name": "stderr",
     "output_type": "stream",
     "text": [
      "\n",
      "\n",
      "  0%|          | 0/15 [00:00<?, ?it/s]\u001b[A\u001b[A"
     ]
    },
    {
     "name": "stdout",
     "output_type": "stream",
     "text": [
      "Number of synthetic images: 500\n"
     ]
    },
    {
     "name": "stderr",
     "output_type": "stream",
     "text": [
      "  5%|▌         | 5001/100001 [11:07<165:57:31,  6.29s/it]"
     ]
    },
    {
     "name": "stdout",
     "output_type": "stream",
     "text": [
      "Current fid score: 2.6693746896472135\n",
      "Fid scores: [5.176135784826485, 2.49733748630797, 2.556800986640896, 2.551807388342233, 3.0005414208896823, 2.6693746896472135]\n"
     ]
    },
    {
     "name": "stderr",
     "output_type": "stream",
     "text": [
      "  0%|          | 0/175 [00:18<?, ?it/s]1:47,  9.21it/s]  \n",
      "  0%|          | 0/15 [00:09<?, ?it/s]\n",
      "  5%|▌         | 5101/100001 [11:18<2:57:08,  8.93it/s]"
     ]
    },
    {
     "name": "stdout",
     "output_type": "stream",
     "text": [
      "GAN: loss d: 1.15664    loss g: -2.76877\n"
     ]
    },
    {
     "name": "stderr",
     "output_type": "stream",
     "text": [
      "  5%|▌         | 5203/100001 [11:29<2:46:46,  9.47it/s]"
     ]
    },
    {
     "name": "stdout",
     "output_type": "stream",
     "text": [
      "GAN: loss d: 1.84971    loss g: -2.25621\n"
     ]
    },
    {
     "name": "stderr",
     "output_type": "stream",
     "text": [
      "  5%|▌         | 5301/100001 [11:40<2:58:21,  8.85it/s]"
     ]
    },
    {
     "name": "stdout",
     "output_type": "stream",
     "text": [
      "GAN: loss d: 2.49272    loss g: -1.52499\n"
     ]
    },
    {
     "name": "stderr",
     "output_type": "stream",
     "text": [
      "  5%|▌         | 5403/100001 [11:50<2:48:09,  9.38it/s]"
     ]
    },
    {
     "name": "stdout",
     "output_type": "stream",
     "text": [
      "GAN: loss d: 2.95946    loss g: -2.68417\n"
     ]
    },
    {
     "name": "stderr",
     "output_type": "stream",
     "text": [
      "  6%|▌         | 5501/100001 [12:01<2:55:50,  8.96it/s]"
     ]
    },
    {
     "name": "stdout",
     "output_type": "stream",
     "text": [
      "GAN: loss d: 2.43520    loss g: -3.17652\n"
     ]
    },
    {
     "name": "stderr",
     "output_type": "stream",
     "text": [
      "  6%|▌         | 5603/100001 [12:12<2:46:11,  9.47it/s]"
     ]
    },
    {
     "name": "stdout",
     "output_type": "stream",
     "text": [
      "GAN: loss d: 2.25757    loss g: -3.40927\n"
     ]
    },
    {
     "name": "stderr",
     "output_type": "stream",
     "text": [
      "  6%|▌         | 5703/100001 [12:23<2:45:30,  9.50it/s]"
     ]
    },
    {
     "name": "stdout",
     "output_type": "stream",
     "text": [
      "GAN: loss d: 2.43714    loss g: -2.51864\n"
     ]
    },
    {
     "name": "stderr",
     "output_type": "stream",
     "text": [
      "  6%|▌         | 5801/100001 [12:33<2:54:18,  9.01it/s]"
     ]
    },
    {
     "name": "stdout",
     "output_type": "stream",
     "text": [
      "GAN: loss d: 1.49477    loss g: -2.83245\n"
     ]
    },
    {
     "name": "stderr",
     "output_type": "stream",
     "text": [
      "  6%|▌         | 5901/100001 [12:44<2:54:10,  9.00it/s]"
     ]
    },
    {
     "name": "stdout",
     "output_type": "stream",
     "text": [
      "GAN: loss d: 1.22532    loss g: -3.59278\n"
     ]
    },
    {
     "name": "stderr",
     "output_type": "stream",
     "text": [
      "  6%|▌         | 6000/100001 [12:55<2:47:32,  9.35it/s]"
     ]
    },
    {
     "name": "stdout",
     "output_type": "stream",
     "text": [
      "GAN: loss d: 1.13750    loss g: -2.57776\n",
      "saving current model\n"
     ]
    },
    {
     "name": "stderr",
     "output_type": "stream",
     "text": [
      "\n",
      "  0%|          | 0/175 [00:00<?, ?it/s]\u001b[A"
     ]
    },
    {
     "name": "stdout",
     "output_type": "stream",
     "text": [
      "Number of real images: 5626\n"
     ]
    },
    {
     "name": "stderr",
     "output_type": "stream",
     "text": [
      "\n",
      "\n",
      "  0%|          | 0/15 [00:00<?, ?it/s]\u001b[A\u001b[A"
     ]
    },
    {
     "name": "stdout",
     "output_type": "stream",
     "text": [
      "Number of synthetic images: 500\n"
     ]
    },
    {
     "name": "stderr",
     "output_type": "stream",
     "text": [
      "  0%|          | 0/175 [00:09<?, ?it/s]\n",
      "  0%|          | 0/15 [00:00<?, ?it/s]"
     ]
    },
    {
     "name": "stdout",
     "output_type": "stream",
     "text": [
      "Current fid score: 2.327712167642524\n",
      "Fid scores: [5.176135784826485, 2.49733748630797, 2.556800986640896, 2.551807388342233, 3.0005414208896823, 2.6693746896472135, 2.327712167642524]\n",
      "New min fid score: 2.327712167643\n",
      "Saving best model\n"
     ]
    },
    {
     "name": "stderr",
     "output_type": "stream",
     "text": [
      "\n",
      "  6%|▌         | 6101/100001 [13:29<2:52:31,  9.07it/s]  "
     ]
    },
    {
     "name": "stdout",
     "output_type": "stream",
     "text": [
      "GAN: loss d: 3.45197    loss g: -3.80980\n"
     ]
    },
    {
     "name": "stderr",
     "output_type": "stream",
     "text": [
      "  6%|▌         | 6201/100001 [13:40<2:53:40,  9.00it/s]"
     ]
    },
    {
     "name": "stdout",
     "output_type": "stream",
     "text": [
      "GAN: loss d: 1.48663    loss g: -2.49166\n"
     ]
    },
    {
     "name": "stderr",
     "output_type": "stream",
     "text": [
      "  6%|▋         | 6301/100001 [13:50<2:51:39,  9.10it/s]"
     ]
    },
    {
     "name": "stdout",
     "output_type": "stream",
     "text": [
      "GAN: loss d: 2.49288    loss g: -1.97594\n"
     ]
    },
    {
     "name": "stderr",
     "output_type": "stream",
     "text": [
      "  6%|▋         | 6401/100001 [14:01<2:52:32,  9.04it/s]"
     ]
    },
    {
     "name": "stdout",
     "output_type": "stream",
     "text": [
      "GAN: loss d: 1.82796    loss g: -1.71317\n"
     ]
    },
    {
     "name": "stderr",
     "output_type": "stream",
     "text": [
      "  7%|▋         | 6503/100001 [14:12<2:44:12,  9.49it/s]"
     ]
    },
    {
     "name": "stdout",
     "output_type": "stream",
     "text": [
      "GAN: loss d: 3.13873    loss g: -2.38029\n"
     ]
    },
    {
     "name": "stderr",
     "output_type": "stream",
     "text": [
      "  7%|▋         | 6601/100001 [14:22<2:58:11,  8.74it/s]"
     ]
    },
    {
     "name": "stdout",
     "output_type": "stream",
     "text": [
      "GAN: loss d: 2.25138    loss g: -3.45601\n"
     ]
    },
    {
     "name": "stderr",
     "output_type": "stream",
     "text": [
      "  7%|▋         | 6701/100001 [14:33<2:54:05,  8.93it/s]"
     ]
    },
    {
     "name": "stdout",
     "output_type": "stream",
     "text": [
      "GAN: loss d: 1.52324    loss g: -2.30848\n"
     ]
    },
    {
     "name": "stderr",
     "output_type": "stream",
     "text": [
      "  7%|▋         | 6801/100001 [14:44<2:48:58,  9.19it/s]"
     ]
    },
    {
     "name": "stdout",
     "output_type": "stream",
     "text": [
      "GAN: loss d: 3.54904    loss g: -2.81366\n"
     ]
    },
    {
     "name": "stderr",
     "output_type": "stream",
     "text": [
      "  7%|▋         | 6901/100001 [14:54<2:49:30,  9.15it/s]"
     ]
    },
    {
     "name": "stdout",
     "output_type": "stream",
     "text": [
      "GAN: loss d: 3.06074    loss g: -3.10625\n"
     ]
    },
    {
     "name": "stderr",
     "output_type": "stream",
     "text": [
      "  7%|▋         | 7000/100001 [15:05<2:43:17,  9.49it/s]"
     ]
    },
    {
     "name": "stdout",
     "output_type": "stream",
     "text": [
      "GAN: loss d: 2.35695    loss g: -2.68565\n",
      "saving current model\n"
     ]
    },
    {
     "name": "stderr",
     "output_type": "stream",
     "text": [
      "\n",
      "  0%|          | 0/175 [00:00<?, ?it/s]\u001b[A"
     ]
    },
    {
     "name": "stdout",
     "output_type": "stream",
     "text": [
      "Number of real images: 5626\n"
     ]
    },
    {
     "name": "stderr",
     "output_type": "stream",
     "text": [
      "\n",
      "\n",
      "  0%|          | 0/15 [00:00<?, ?it/s]\u001b[A\u001b[A"
     ]
    },
    {
     "name": "stdout",
     "output_type": "stream",
     "text": [
      "Number of synthetic images: 500\n"
     ]
    },
    {
     "name": "stderr",
     "output_type": "stream",
     "text": [
      "  7%|▋         | 7003/100001 [15:26<88:49:54,  3.44s/it] "
     ]
    },
    {
     "name": "stdout",
     "output_type": "stream",
     "text": [
      "Current fid score: 2.753024418615748\n",
      "Fid scores: [5.176135784826485, 2.49733748630797, 2.556800986640896, 2.551807388342233, 3.0005414208896823, 2.6693746896472135, 2.327712167642524, 2.753024418615748]\n"
     ]
    },
    {
     "name": "stderr",
     "output_type": "stream",
     "text": [
      "  0%|          | 0/175 [00:10<?, ?it/s]48:45,  2.19it/s]\n",
      "  0%|          | 0/15 [00:01<?, ?it/s]\n",
      "  7%|▋         | 7101/100001 [15:37<2:54:31,  8.87it/s] "
     ]
    },
    {
     "name": "stdout",
     "output_type": "stream",
     "text": [
      "GAN: loss d: 1.18948    loss g: -1.55798\n"
     ]
    },
    {
     "name": "stderr",
     "output_type": "stream",
     "text": [
      "  7%|▋         | 7201/100001 [15:47<2:54:06,  8.88it/s]"
     ]
    },
    {
     "name": "stdout",
     "output_type": "stream",
     "text": [
      "GAN: loss d: 0.81903    loss g: -2.01520\n"
     ]
    },
    {
     "name": "stderr",
     "output_type": "stream",
     "text": [
      "  7%|▋         | 7301/100001 [15:58<3:13:53,  7.97it/s]"
     ]
    },
    {
     "name": "stdout",
     "output_type": "stream",
     "text": [
      "GAN: loss d: 1.86678    loss g: -2.92750\n"
     ]
    },
    {
     "name": "stderr",
     "output_type": "stream",
     "text": [
      "  7%|▋         | 7401/100001 [16:09<2:48:43,  9.15it/s]"
     ]
    },
    {
     "name": "stdout",
     "output_type": "stream",
     "text": [
      "GAN: loss d: 2.15534    loss g: -1.90154\n"
     ]
    },
    {
     "name": "stderr",
     "output_type": "stream",
     "text": [
      "  8%|▊         | 7503/100001 [16:20<2:42:22,  9.49it/s]"
     ]
    },
    {
     "name": "stdout",
     "output_type": "stream",
     "text": [
      "GAN: loss d: 2.33950    loss g: -2.14027\n"
     ]
    },
    {
     "name": "stderr",
     "output_type": "stream",
     "text": [
      "  8%|▊         | 7603/100001 [16:31<2:42:50,  9.46it/s]"
     ]
    },
    {
     "name": "stdout",
     "output_type": "stream",
     "text": [
      "GAN: loss d: 3.26680    loss g: -2.21501\n"
     ]
    },
    {
     "name": "stderr",
     "output_type": "stream",
     "text": [
      "  8%|▊         | 7701/100001 [16:41<2:50:18,  9.03it/s]"
     ]
    },
    {
     "name": "stdout",
     "output_type": "stream",
     "text": [
      "GAN: loss d: 3.29542    loss g: -1.77445\n"
     ]
    },
    {
     "name": "stderr",
     "output_type": "stream",
     "text": [
      "  8%|▊         | 7803/100001 [16:52<2:42:37,  9.45it/s]"
     ]
    },
    {
     "name": "stdout",
     "output_type": "stream",
     "text": [
      "GAN: loss d: 3.01119    loss g: -2.72026\n"
     ]
    },
    {
     "name": "stderr",
     "output_type": "stream",
     "text": [
      "  8%|▊         | 7901/100001 [17:02<2:52:31,  8.90it/s]"
     ]
    },
    {
     "name": "stdout",
     "output_type": "stream",
     "text": [
      "GAN: loss d: 2.79924    loss g: -2.26366\n"
     ]
    },
    {
     "name": "stderr",
     "output_type": "stream",
     "text": [
      "  8%|▊         | 8000/100001 [17:13<2:48:26,  9.10it/s]"
     ]
    },
    {
     "name": "stdout",
     "output_type": "stream",
     "text": [
      "GAN: loss d: 1.66520    loss g: -2.51408\n",
      "saving current model\n"
     ]
    },
    {
     "name": "stderr",
     "output_type": "stream",
     "text": [
      "\n",
      "  0%|          | 0/175 [00:00<?, ?it/s]\u001b[A"
     ]
    },
    {
     "name": "stdout",
     "output_type": "stream",
     "text": [
      "Number of real images: 5626\n"
     ]
    },
    {
     "name": "stderr",
     "output_type": "stream",
     "text": [
      "\n",
      "\n",
      "  0%|          | 0/15 [00:00<?, ?it/s]\u001b[A\u001b[A"
     ]
    },
    {
     "name": "stdout",
     "output_type": "stream",
     "text": [
      "Number of synthetic images: 500\n"
     ]
    },
    {
     "name": "stderr",
     "output_type": "stream",
     "text": [
      "  0%|          | 0/175 [00:09<?, ?it/s]\n",
      "  0%|          | 0/15 [00:00<?, ?it/s]"
     ]
    },
    {
     "name": "stdout",
     "output_type": "stream",
     "text": [
      "Current fid score: 1.810803698247632\n",
      "Fid scores: [5.176135784826485, 2.49733748630797, 2.556800986640896, 2.551807388342233, 3.0005414208896823, 2.6693746896472135, 2.327712167642524, 2.753024418615748, 1.810803698247632]\n",
      "New min fid score: 1.810803698248\n",
      "Saving best model\n"
     ]
    },
    {
     "name": "stderr",
     "output_type": "stream",
     "text": [
      "\n",
      "  8%|▊         | 8101/100001 [17:48<2:48:56,  9.07it/s]  "
     ]
    },
    {
     "name": "stdout",
     "output_type": "stream",
     "text": [
      "GAN: loss d: 2.66056    loss g: -1.98033\n"
     ]
    },
    {
     "name": "stderr",
     "output_type": "stream",
     "text": [
      "  8%|▊         | 8201/100001 [17:58<2:49:13,  9.04it/s]"
     ]
    },
    {
     "name": "stdout",
     "output_type": "stream",
     "text": [
      "GAN: loss d: 2.48172    loss g: -1.59827\n"
     ]
    },
    {
     "name": "stderr",
     "output_type": "stream",
     "text": [
      "  8%|▊         | 8301/100001 [18:09<2:50:16,  8.98it/s]"
     ]
    },
    {
     "name": "stdout",
     "output_type": "stream",
     "text": [
      "GAN: loss d: 2.40993    loss g: -2.65420\n"
     ]
    },
    {
     "name": "stderr",
     "output_type": "stream",
     "text": [
      "  8%|▊         | 8401/100001 [18:20<2:46:52,  9.15it/s]"
     ]
    },
    {
     "name": "stdout",
     "output_type": "stream",
     "text": [
      "GAN: loss d: 2.85810    loss g: -1.28625\n"
     ]
    },
    {
     "name": "stderr",
     "output_type": "stream",
     "text": [
      "  9%|▊         | 8501/100001 [18:31<2:51:40,  8.88it/s]"
     ]
    },
    {
     "name": "stdout",
     "output_type": "stream",
     "text": [
      "GAN: loss d: 3.16637    loss g: -2.97089\n"
     ]
    },
    {
     "name": "stderr",
     "output_type": "stream",
     "text": [
      "  9%|▊         | 8601/100001 [18:41<2:46:31,  9.15it/s]"
     ]
    },
    {
     "name": "stdout",
     "output_type": "stream",
     "text": [
      "GAN: loss d: 2.17773    loss g: -2.80240\n"
     ]
    },
    {
     "name": "stderr",
     "output_type": "stream",
     "text": [
      "  9%|▊         | 8701/100001 [18:52<2:49:31,  8.98it/s]"
     ]
    },
    {
     "name": "stdout",
     "output_type": "stream",
     "text": [
      "GAN: loss d: 3.68578    loss g: -2.31103\n"
     ]
    },
    {
     "name": "stderr",
     "output_type": "stream",
     "text": [
      "  9%|▉         | 8801/100001 [19:03<2:45:52,  9.16it/s]"
     ]
    },
    {
     "name": "stdout",
     "output_type": "stream",
     "text": [
      "GAN: loss d: 2.94895    loss g: -2.75616\n"
     ]
    },
    {
     "name": "stderr",
     "output_type": "stream",
     "text": [
      "  9%|▉         | 8901/100001 [19:14<2:47:52,  9.04it/s]"
     ]
    },
    {
     "name": "stdout",
     "output_type": "stream",
     "text": [
      "GAN: loss d: 2.89038    loss g: -3.10934\n"
     ]
    },
    {
     "name": "stderr",
     "output_type": "stream",
     "text": [
      "  9%|▉         | 9000/100001 [19:24<2:40:04,  9.47it/s]"
     ]
    },
    {
     "name": "stdout",
     "output_type": "stream",
     "text": [
      "GAN: loss d: 2.51178    loss g: -3.33659\n",
      "saving current model\n"
     ]
    },
    {
     "name": "stderr",
     "output_type": "stream",
     "text": [
      "\n",
      "  0%|          | 0/175 [00:00<?, ?it/s]\u001b[A"
     ]
    },
    {
     "name": "stdout",
     "output_type": "stream",
     "text": [
      "Number of real images: 5626\n"
     ]
    },
    {
     "name": "stderr",
     "output_type": "stream",
     "text": [
      "\n",
      "\n",
      "  0%|          | 0/15 [00:00<?, ?it/s]\u001b[A\u001b[A"
     ]
    },
    {
     "name": "stdout",
     "output_type": "stream",
     "text": [
      "Number of synthetic images: 500\n"
     ]
    },
    {
     "name": "stderr",
     "output_type": "stream",
     "text": [
      "  9%|▉         | 9001/100001 [19:45<159:35:35,  6.31s/it]"
     ]
    },
    {
     "name": "stdout",
     "output_type": "stream",
     "text": [
      "Current fid score: 1.882469618869699\n",
      "Fid scores: [5.176135784826485, 2.49733748630797, 2.556800986640896, 2.551807388342233, 3.0005414208896823, 2.6693746896472135, 2.327712167642524, 2.753024418615748, 1.810803698247632, 1.882469618869699]\n"
     ]
    },
    {
     "name": "stderr",
     "output_type": "stream",
     "text": [
      "  0%|          | 0/175 [00:15<?, ?it/s]5:28,  9.16it/s]  \n",
      "  0%|          | 0/15 [00:06<?, ?it/s]\n",
      "  9%|▉         | 9102/100001 [19:56<2:45:16,  9.17it/s]"
     ]
    },
    {
     "name": "stdout",
     "output_type": "stream",
     "text": [
      "GAN: loss d: 2.81017    loss g: -2.87993\n"
     ]
    },
    {
     "name": "stderr",
     "output_type": "stream",
     "text": [
      "  9%|▉         | 9201/100001 [20:07<2:51:15,  8.84it/s]"
     ]
    },
    {
     "name": "stdout",
     "output_type": "stream",
     "text": [
      "GAN: loss d: 3.15915    loss g: -2.63695\n"
     ]
    },
    {
     "name": "stderr",
     "output_type": "stream",
     "text": [
      "  9%|▉         | 9303/100001 [20:17<2:40:56,  9.39it/s]"
     ]
    },
    {
     "name": "stdout",
     "output_type": "stream",
     "text": [
      "GAN: loss d: 3.49510    loss g: -2.32545\n"
     ]
    },
    {
     "name": "stderr",
     "output_type": "stream",
     "text": [
      "  9%|▉         | 9403/100001 [20:28<2:39:48,  9.45it/s]"
     ]
    },
    {
     "name": "stdout",
     "output_type": "stream",
     "text": [
      "GAN: loss d: 3.36086    loss g: -2.65011\n"
     ]
    },
    {
     "name": "stderr",
     "output_type": "stream",
     "text": [
      " 10%|▉         | 9501/100001 [20:39<2:49:17,  8.91it/s]"
     ]
    },
    {
     "name": "stdout",
     "output_type": "stream",
     "text": [
      "GAN: loss d: 4.01666    loss g: -2.79950\n"
     ]
    },
    {
     "name": "stderr",
     "output_type": "stream",
     "text": [
      " 10%|▉         | 9603/100001 [20:50<2:37:12,  9.58it/s]"
     ]
    },
    {
     "name": "stdout",
     "output_type": "stream",
     "text": [
      "GAN: loss d: 3.35542    loss g: -2.75751\n"
     ]
    },
    {
     "name": "stderr",
     "output_type": "stream",
     "text": [
      " 10%|▉         | 9703/100001 [21:00<2:39:30,  9.44it/s]"
     ]
    },
    {
     "name": "stdout",
     "output_type": "stream",
     "text": [
      "GAN: loss d: 2.19166    loss g: -2.74493\n"
     ]
    },
    {
     "name": "stderr",
     "output_type": "stream",
     "text": [
      " 10%|▉         | 9802/100001 [21:11<2:41:29,  9.31it/s]"
     ]
    },
    {
     "name": "stdout",
     "output_type": "stream",
     "text": [
      "GAN: loss d: 0.41773    loss g: -1.83578\n"
     ]
    },
    {
     "name": "stderr",
     "output_type": "stream",
     "text": [
      " 10%|▉         | 9902/100001 [21:22<2:45:18,  9.08it/s]"
     ]
    },
    {
     "name": "stdout",
     "output_type": "stream",
     "text": [
      "GAN: loss d: -0.74875    loss g: -1.90111\n"
     ]
    },
    {
     "name": "stderr",
     "output_type": "stream",
     "text": [
      " 10%|▉         | 10000/100001 [21:32<2:38:37,  9.46it/s]"
     ]
    },
    {
     "name": "stdout",
     "output_type": "stream",
     "text": [
      "GAN: loss d: 0.09383    loss g: -2.78546\n",
      "saving current model\n"
     ]
    },
    {
     "name": "stderr",
     "output_type": "stream",
     "text": [
      "\n",
      "  0%|          | 0/175 [00:00<?, ?it/s]\u001b[A"
     ]
    },
    {
     "name": "stdout",
     "output_type": "stream",
     "text": [
      "Number of real images: 5626\n"
     ]
    },
    {
     "name": "stderr",
     "output_type": "stream",
     "text": [
      "\n",
      "\n",
      "  0%|          | 0/15 [00:00<?, ?it/s]\u001b[A\u001b[A"
     ]
    },
    {
     "name": "stdout",
     "output_type": "stream",
     "text": [
      "Number of synthetic images: 500\n"
     ]
    },
    {
     "name": "stderr",
     "output_type": "stream",
     "text": [
      " 10%|█         | 10001/100001 [21:53<156:11:58,  6.25s/it]"
     ]
    },
    {
     "name": "stdout",
     "output_type": "stream",
     "text": [
      "Current fid score: 2.3049020902006205\n",
      "Fid scores: [5.176135784826485, 2.49733748630797, 2.556800986640896, 2.551807388342233, 3.0005414208896823, 2.6693746896472135, 2.327712167642524, 2.753024418615748, 1.810803698247632, 1.882469618869699, 2.3049020902006205]\n"
     ]
    },
    {
     "name": "stderr",
     "output_type": "stream",
     "text": [
      "  0%|          | 0/175 [00:10<?, ?it/s]:51:02,  1.26it/s] \n",
      "  0%|          | 0/15 [00:01<?, ?it/s]\n",
      " 10%|█         | 10101/100001 [22:04<2:45:41,  9.04it/s] "
     ]
    },
    {
     "name": "stdout",
     "output_type": "stream",
     "text": [
      "GAN: loss d: 1.85132    loss g: -1.67423\n"
     ]
    },
    {
     "name": "stderr",
     "output_type": "stream",
     "text": [
      " 10%|█         | 10201/100001 [22:14<2:43:44,  9.14it/s]"
     ]
    },
    {
     "name": "stdout",
     "output_type": "stream",
     "text": [
      "GAN: loss d: 3.03794    loss g: -2.59163\n"
     ]
    },
    {
     "name": "stderr",
     "output_type": "stream",
     "text": [
      " 10%|█         | 10301/100001 [22:25<2:45:30,  9.03it/s]"
     ]
    },
    {
     "name": "stdout",
     "output_type": "stream",
     "text": [
      "GAN: loss d: 2.95202    loss g: -2.36439\n"
     ]
    },
    {
     "name": "stderr",
     "output_type": "stream",
     "text": [
      " 10%|█         | 10401/100001 [22:36<2:45:18,  9.03it/s]"
     ]
    },
    {
     "name": "stdout",
     "output_type": "stream",
     "text": [
      "GAN: loss d: 2.05944    loss g: -1.92219\n"
     ]
    },
    {
     "name": "stderr",
     "output_type": "stream",
     "text": [
      " 11%|█         | 10501/100001 [22:46<2:49:31,  8.80it/s]"
     ]
    },
    {
     "name": "stdout",
     "output_type": "stream",
     "text": [
      "GAN: loss d: 2.92132    loss g: -2.15669\n"
     ]
    },
    {
     "name": "stderr",
     "output_type": "stream",
     "text": [
      " 11%|█         | 10602/100001 [22:57<2:44:45,  9.04it/s]"
     ]
    },
    {
     "name": "stdout",
     "output_type": "stream",
     "text": [
      "GAN: loss d: 3.19028    loss g: -1.71334\n"
     ]
    },
    {
     "name": "stderr",
     "output_type": "stream",
     "text": [
      " 11%|█         | 10701/100001 [23:08<2:46:06,  8.96it/s]"
     ]
    },
    {
     "name": "stdout",
     "output_type": "stream",
     "text": [
      "GAN: loss d: 3.15360    loss g: -1.97058\n"
     ]
    },
    {
     "name": "stderr",
     "output_type": "stream",
     "text": [
      " 11%|█         | 10801/100001 [23:19<2:43:13,  9.11it/s]"
     ]
    },
    {
     "name": "stdout",
     "output_type": "stream",
     "text": [
      "GAN: loss d: 2.11717    loss g: -1.85864\n"
     ]
    },
    {
     "name": "stderr",
     "output_type": "stream",
     "text": [
      " 11%|█         | 10902/100001 [23:30<2:43:05,  9.10it/s]"
     ]
    },
    {
     "name": "stdout",
     "output_type": "stream",
     "text": [
      "GAN: loss d: 2.94144    loss g: -2.03003\n"
     ]
    },
    {
     "name": "stderr",
     "output_type": "stream",
     "text": [
      " 11%|█         | 11000/100001 [23:40<2:36:36,  9.47it/s]"
     ]
    },
    {
     "name": "stdout",
     "output_type": "stream",
     "text": [
      "GAN: loss d: 2.77919    loss g: -2.36036\n",
      "saving current model\n"
     ]
    },
    {
     "name": "stderr",
     "output_type": "stream",
     "text": [
      "\n",
      "  0%|          | 0/175 [00:00<?, ?it/s]\u001b[A"
     ]
    },
    {
     "name": "stdout",
     "output_type": "stream",
     "text": [
      "Number of real images: 5626\n"
     ]
    },
    {
     "name": "stderr",
     "output_type": "stream",
     "text": [
      "\n",
      "\n",
      "  0%|          | 0/15 [00:00<?, ?it/s]\u001b[A\u001b[A"
     ]
    },
    {
     "name": "stdout",
     "output_type": "stream",
     "text": [
      "Number of synthetic images: 500\n"
     ]
    },
    {
     "name": "stderr",
     "output_type": "stream",
     "text": [
      "  0%|          | 0/175 [00:09<?, ?it/s]\n",
      "  0%|          | 0/15 [00:00<?, ?it/s]"
     ]
    },
    {
     "name": "stdout",
     "output_type": "stream",
     "text": [
      "Current fid score: 1.2671737770059046\n",
      "Fid scores: [5.176135784826485, 2.49733748630797, 2.556800986640896, 2.551807388342233, 3.0005414208896823, 2.6693746896472135, 2.327712167642524, 2.753024418615748, 1.810803698247632, 1.882469618869699, 2.3049020902006205, 1.2671737770059046]\n",
      "New min fid score: 1.267173777006\n",
      "Saving best model\n"
     ]
    },
    {
     "name": "stderr",
     "output_type": "stream",
     "text": [
      "\n",
      " 11%|█         | 11101/100001 [24:15<2:44:06,  9.03it/s]  "
     ]
    },
    {
     "name": "stdout",
     "output_type": "stream",
     "text": [
      "GAN: loss d: 2.85430    loss g: -1.56957\n"
     ]
    },
    {
     "name": "stderr",
     "output_type": "stream",
     "text": [
      " 11%|█         | 11201/100001 [24:25<2:43:32,  9.05it/s]"
     ]
    },
    {
     "name": "stdout",
     "output_type": "stream",
     "text": [
      "GAN: loss d: 3.73068    loss g: -2.04484\n"
     ]
    },
    {
     "name": "stderr",
     "output_type": "stream",
     "text": [
      " 11%|█▏        | 11303/100001 [24:36<2:36:27,  9.45it/s]"
     ]
    },
    {
     "name": "stdout",
     "output_type": "stream",
     "text": [
      "GAN: loss d: 1.71759    loss g: -2.20921\n"
     ]
    },
    {
     "name": "stderr",
     "output_type": "stream",
     "text": [
      " 11%|█▏        | 11401/100001 [24:47<2:43:48,  9.01it/s]"
     ]
    },
    {
     "name": "stdout",
     "output_type": "stream",
     "text": [
      "GAN: loss d: 3.32736    loss g: -2.09524\n"
     ]
    },
    {
     "name": "stderr",
     "output_type": "stream",
     "text": [
      " 12%|█▏        | 11501/100001 [24:58<2:44:33,  8.96it/s]"
     ]
    },
    {
     "name": "stdout",
     "output_type": "stream",
     "text": [
      "GAN: loss d: 2.55330    loss g: -2.24605\n"
     ]
    },
    {
     "name": "stderr",
     "output_type": "stream",
     "text": [
      " 12%|█▏        | 11603/100001 [25:09<2:36:06,  9.44it/s]"
     ]
    },
    {
     "name": "stdout",
     "output_type": "stream",
     "text": [
      "GAN: loss d: 3.06475    loss g: -1.82494\n"
     ]
    },
    {
     "name": "stderr",
     "output_type": "stream",
     "text": [
      " 12%|█▏        | 11701/100001 [25:19<2:41:15,  9.13it/s]"
     ]
    },
    {
     "name": "stdout",
     "output_type": "stream",
     "text": [
      "GAN: loss d: 2.67483    loss g: -1.71023\n"
     ]
    },
    {
     "name": "stderr",
     "output_type": "stream",
     "text": [
      " 12%|█▏        | 11803/100001 [25:30<2:34:16,  9.53it/s]"
     ]
    },
    {
     "name": "stdout",
     "output_type": "stream",
     "text": [
      "GAN: loss d: 2.11465    loss g: -1.78357\n"
     ]
    },
    {
     "name": "stderr",
     "output_type": "stream",
     "text": [
      " 12%|█▏        | 11901/100001 [25:40<2:41:54,  9.07it/s]"
     ]
    },
    {
     "name": "stdout",
     "output_type": "stream",
     "text": [
      "GAN: loss d: 1.43009    loss g: -2.15841\n"
     ]
    },
    {
     "name": "stderr",
     "output_type": "stream",
     "text": [
      " 12%|█▏        | 12000/100001 [25:51<2:40:04,  9.16it/s]"
     ]
    },
    {
     "name": "stdout",
     "output_type": "stream",
     "text": [
      "GAN: loss d: 3.52453    loss g: -2.03614\n",
      "saving current model\n"
     ]
    },
    {
     "name": "stderr",
     "output_type": "stream",
     "text": [
      "\n",
      "  0%|          | 0/175 [00:00<?, ?it/s]\u001b[A"
     ]
    },
    {
     "name": "stdout",
     "output_type": "stream",
     "text": [
      "Number of real images: 5626\n"
     ]
    },
    {
     "name": "stderr",
     "output_type": "stream",
     "text": [
      "\n",
      "\n",
      "  0%|          | 0/15 [00:00<?, ?it/s]\u001b[A\u001b[A"
     ]
    },
    {
     "name": "stdout",
     "output_type": "stream",
     "text": [
      "Number of synthetic images: 500\n"
     ]
    },
    {
     "name": "stderr",
     "output_type": "stream",
     "text": [
      " 12%|█▏        | 12001/100001 [26:12<153:47:44,  6.29s/it]"
     ]
    },
    {
     "name": "stdout",
     "output_type": "stream",
     "text": [
      "Current fid score: 2.1210468891055463\n",
      "Fid scores: [5.176135784826485, 2.49733748630797, 2.556800986640896, 2.551807388342233, 3.0005414208896823, 2.6693746896472135, 2.327712167642524, 2.753024418615748, 1.810803698247632, 1.882469618869699, 2.3049020902006205, 1.2671737770059046, 2.1210468891055463]\n"
     ]
    },
    {
     "name": "stderr",
     "output_type": "stream",
     "text": [
      "  0%|          | 0/175 [00:15<?, ?it/s]38:49,  9.23it/s]  \n",
      "  0%|          | 0/15 [00:06<?, ?it/s]\n",
      " 12%|█▏        | 12103/100001 [26:23<2:35:01,  9.45it/s]"
     ]
    },
    {
     "name": "stdout",
     "output_type": "stream",
     "text": [
      "GAN: loss d: 2.46132    loss g: -2.07389\n"
     ]
    },
    {
     "name": "stderr",
     "output_type": "stream",
     "text": [
      " 12%|█▏        | 12201/100001 [26:33<2:42:28,  9.01it/s]"
     ]
    },
    {
     "name": "stdout",
     "output_type": "stream",
     "text": [
      "GAN: loss d: 2.59598    loss g: -1.34553\n"
     ]
    },
    {
     "name": "stderr",
     "output_type": "stream",
     "text": [
      " 12%|█▏        | 12301/100001 [26:44<2:44:20,  8.89it/s]"
     ]
    },
    {
     "name": "stdout",
     "output_type": "stream",
     "text": [
      "GAN: loss d: 3.17773    loss g: -1.96730\n"
     ]
    },
    {
     "name": "stderr",
     "output_type": "stream",
     "text": [
      " 12%|█▏        | 12403/100001 [26:55<2:34:39,  9.44it/s]"
     ]
    },
    {
     "name": "stdout",
     "output_type": "stream",
     "text": [
      "GAN: loss d: 2.85274    loss g: -1.97995\n"
     ]
    },
    {
     "name": "stderr",
     "output_type": "stream",
     "text": [
      " 13%|█▎        | 12501/100001 [27:05<2:41:13,  9.04it/s]"
     ]
    },
    {
     "name": "stdout",
     "output_type": "stream",
     "text": [
      "GAN: loss d: 3.04489    loss g: -1.35512\n"
     ]
    },
    {
     "name": "stderr",
     "output_type": "stream",
     "text": [
      " 13%|█▎        | 12601/100001 [27:16<2:41:08,  9.04it/s]"
     ]
    },
    {
     "name": "stdout",
     "output_type": "stream",
     "text": [
      "GAN: loss d: 2.57096    loss g: -1.85506\n"
     ]
    },
    {
     "name": "stderr",
     "output_type": "stream",
     "text": [
      " 13%|█▎        | 12701/100001 [27:27<2:43:13,  8.91it/s]"
     ]
    },
    {
     "name": "stdout",
     "output_type": "stream",
     "text": [
      "GAN: loss d: 2.98235    loss g: -2.06117\n"
     ]
    },
    {
     "name": "stderr",
     "output_type": "stream",
     "text": [
      " 13%|█▎        | 12801/100001 [27:38<2:39:33,  9.11it/s]"
     ]
    },
    {
     "name": "stdout",
     "output_type": "stream",
     "text": [
      "GAN: loss d: 2.57116    loss g: -1.54033\n"
     ]
    },
    {
     "name": "stderr",
     "output_type": "stream",
     "text": [
      " 13%|█▎        | 12903/100001 [27:49<2:34:09,  9.42it/s]"
     ]
    },
    {
     "name": "stdout",
     "output_type": "stream",
     "text": [
      "GAN: loss d: 2.38597    loss g: -1.22681\n"
     ]
    },
    {
     "name": "stderr",
     "output_type": "stream",
     "text": [
      " 13%|█▎        | 13000/100001 [27:59<2:34:41,  9.37it/s]"
     ]
    },
    {
     "name": "stdout",
     "output_type": "stream",
     "text": [
      "GAN: loss d: 3.22738    loss g: -2.18353\n",
      "saving current model\n"
     ]
    },
    {
     "name": "stderr",
     "output_type": "stream",
     "text": [
      "\n",
      "  0%|          | 0/175 [00:00<?, ?it/s]\u001b[A"
     ]
    },
    {
     "name": "stdout",
     "output_type": "stream",
     "text": [
      "Number of real images: 5626\n"
     ]
    },
    {
     "name": "stderr",
     "output_type": "stream",
     "text": [
      "\n",
      "\n",
      "  0%|          | 0/15 [00:00<?, ?it/s]\u001b[A\u001b[A"
     ]
    },
    {
     "name": "stdout",
     "output_type": "stream",
     "text": [
      "Number of synthetic images: 500\n"
     ]
    },
    {
     "name": "stderr",
     "output_type": "stream",
     "text": [
      " 13%|█▎        | 13002/100001 [28:19<105:42:09,  4.37s/it]"
     ]
    },
    {
     "name": "stdout",
     "output_type": "stream",
     "text": [
      "Current fid score: 2.099174223550225\n",
      "Fid scores: [5.176135784826485, 2.49733748630797, 2.556800986640896, 2.551807388342233, 3.0005414208896823, 2.6693746896472135, 2.327712167642524, 2.753024418615748, 1.810803698247632, 1.882469618869699, 2.3049020902006205, 1.2671737770059046, 2.1210468891055463, 2.099174223550225]\n"
     ]
    },
    {
     "name": "stderr",
     "output_type": "stream",
     "text": [
      "  0%|          | 0/175 [00:10<?, ?it/s]:43:44,  1.64it/s] \n",
      "  0%|          | 0/15 [00:01<?, ?it/s]\n",
      " 13%|█▎        | 13101/100001 [28:30<2:40:25,  9.03it/s] "
     ]
    },
    {
     "name": "stdout",
     "output_type": "stream",
     "text": [
      "GAN: loss d: 2.52134    loss g: -1.62941\n"
     ]
    },
    {
     "name": "stderr",
     "output_type": "stream",
     "text": [
      " 13%|█▎        | 13203/100001 [28:41<2:32:32,  9.48it/s]"
     ]
    },
    {
     "name": "stdout",
     "output_type": "stream",
     "text": [
      "GAN: loss d: 2.78537    loss g: -1.72519\n"
     ]
    },
    {
     "name": "stderr",
     "output_type": "stream",
     "text": [
      " 13%|█▎        | 13301/100001 [28:51<2:40:31,  9.00it/s]"
     ]
    },
    {
     "name": "stdout",
     "output_type": "stream",
     "text": [
      "GAN: loss d: 3.06289    loss g: -2.83133\n"
     ]
    },
    {
     "name": "stderr",
     "output_type": "stream",
     "text": [
      " 13%|█▎        | 13403/100001 [29:02<2:31:53,  9.50it/s]"
     ]
    },
    {
     "name": "stdout",
     "output_type": "stream",
     "text": [
      "GAN: loss d: 2.42472    loss g: -1.81686\n"
     ]
    },
    {
     "name": "stderr",
     "output_type": "stream",
     "text": [
      " 14%|█▎        | 13501/100001 [29:13<2:37:44,  9.14it/s]"
     ]
    },
    {
     "name": "stdout",
     "output_type": "stream",
     "text": [
      "GAN: loss d: 2.42101    loss g: -1.42059\n"
     ]
    },
    {
     "name": "stderr",
     "output_type": "stream",
     "text": [
      " 14%|█▎        | 13603/100001 [29:24<2:32:45,  9.43it/s]"
     ]
    },
    {
     "name": "stdout",
     "output_type": "stream",
     "text": [
      "GAN: loss d: 3.60745    loss g: -1.57811\n"
     ]
    },
    {
     "name": "stderr",
     "output_type": "stream",
     "text": [
      " 14%|█▎        | 13701/100001 [29:34<2:42:26,  8.85it/s]"
     ]
    },
    {
     "name": "stdout",
     "output_type": "stream",
     "text": [
      "GAN: loss d: 3.19538    loss g: -1.62782\n"
     ]
    },
    {
     "name": "stderr",
     "output_type": "stream",
     "text": [
      " 14%|█▍        | 13801/100001 [29:45<2:40:08,  8.97it/s]"
     ]
    },
    {
     "name": "stdout",
     "output_type": "stream",
     "text": [
      "GAN: loss d: 2.96875    loss g: -1.34622\n"
     ]
    },
    {
     "name": "stderr",
     "output_type": "stream",
     "text": [
      " 14%|█▍        | 13901/100001 [29:56<2:41:41,  8.88it/s]"
     ]
    },
    {
     "name": "stdout",
     "output_type": "stream",
     "text": [
      "GAN: loss d: 2.45621    loss g: -1.85886\n"
     ]
    },
    {
     "name": "stderr",
     "output_type": "stream",
     "text": [
      " 14%|█▍        | 14000/100001 [30:06<2:37:35,  9.10it/s]"
     ]
    },
    {
     "name": "stdout",
     "output_type": "stream",
     "text": [
      "GAN: loss d: 3.00216    loss g: -1.57583\n",
      "saving current model\n"
     ]
    },
    {
     "name": "stderr",
     "output_type": "stream",
     "text": [
      "\n",
      "  0%|          | 0/175 [00:00<?, ?it/s]\u001b[A"
     ]
    },
    {
     "name": "stdout",
     "output_type": "stream",
     "text": [
      "Number of real images: 5626\n"
     ]
    },
    {
     "name": "stderr",
     "output_type": "stream",
     "text": [
      "\n",
      "\n",
      "  0%|          | 0/15 [00:00<?, ?it/s]\u001b[A\u001b[A"
     ]
    },
    {
     "name": "stdout",
     "output_type": "stream",
     "text": [
      "Number of synthetic images: 500\n"
     ]
    },
    {
     "name": "stderr",
     "output_type": "stream",
     "text": [
      " 14%|█▍        | 14001/100001 [30:27<148:35:18,  6.22s/it]"
     ]
    },
    {
     "name": "stdout",
     "output_type": "stream",
     "text": [
      "Current fid score: 2.916100690765896\n",
      "Fid scores: [5.176135784826485, 2.49733748630797, 2.556800986640896, 2.551807388342233, 3.0005414208896823, 2.6693746896472135, 2.327712167642524, 2.753024418615748, 1.810803698247632, 1.882469618869699, 2.3049020902006205, 1.2671737770059046, 2.1210468891055463, 2.099174223550225, 2.916100690765896]\n"
     ]
    },
    {
     "name": "stderr",
     "output_type": "stream",
     "text": [
      "  0%|          | 0/175 [00:10<?, ?it/s]22:25,  2.85it/s]  \n",
      "  0%|          | 0/15 [00:02<?, ?it/s]\n",
      " 14%|█▍        | 14103/100001 [30:38<2:31:01,  9.48it/s]"
     ]
    },
    {
     "name": "stdout",
     "output_type": "stream",
     "text": [
      "GAN: loss d: 2.96432    loss g: -1.83350\n"
     ]
    },
    {
     "name": "stderr",
     "output_type": "stream",
     "text": [
      " 14%|█▍        | 14203/100001 [30:48<2:30:46,  9.48it/s]"
     ]
    },
    {
     "name": "stdout",
     "output_type": "stream",
     "text": [
      "GAN: loss d: 2.58017    loss g: -1.70473\n"
     ]
    },
    {
     "name": "stderr",
     "output_type": "stream",
     "text": [
      " 14%|█▍        | 14303/100001 [30:59<2:30:43,  9.48it/s]"
     ]
    },
    {
     "name": "stdout",
     "output_type": "stream",
     "text": [
      "GAN: loss d: 2.59308    loss g: -1.78407\n"
     ]
    },
    {
     "name": "stderr",
     "output_type": "stream",
     "text": [
      " 14%|█▍        | 14401/100001 [31:10<2:36:58,  9.09it/s]"
     ]
    },
    {
     "name": "stdout",
     "output_type": "stream",
     "text": [
      "GAN: loss d: 3.96634    loss g: -1.82631\n"
     ]
    },
    {
     "name": "stderr",
     "output_type": "stream",
     "text": [
      " 15%|█▍        | 14501/100001 [31:20<2:35:23,  9.17it/s]"
     ]
    },
    {
     "name": "stdout",
     "output_type": "stream",
     "text": [
      "GAN: loss d: 3.07251    loss g: -1.82256\n"
     ]
    },
    {
     "name": "stderr",
     "output_type": "stream",
     "text": [
      " 15%|█▍        | 14601/100001 [31:31<2:36:27,  9.10it/s]"
     ]
    },
    {
     "name": "stdout",
     "output_type": "stream",
     "text": [
      "GAN: loss d: 2.41918    loss g: -1.45447\n"
     ]
    },
    {
     "name": "stderr",
     "output_type": "stream",
     "text": [
      " 15%|█▍        | 14701/100001 [31:42<2:37:25,  9.03it/s]"
     ]
    },
    {
     "name": "stdout",
     "output_type": "stream",
     "text": [
      "GAN: loss d: 3.99147    loss g: -1.05744\n"
     ]
    },
    {
     "name": "stderr",
     "output_type": "stream",
     "text": [
      " 15%|█▍        | 14801/100001 [31:53<2:37:42,  9.00it/s]"
     ]
    },
    {
     "name": "stdout",
     "output_type": "stream",
     "text": [
      "GAN: loss d: 2.21051    loss g: -1.99346\n"
     ]
    },
    {
     "name": "stderr",
     "output_type": "stream",
     "text": [
      " 15%|█▍        | 14901/100001 [32:03<2:40:27,  8.84it/s]"
     ]
    },
    {
     "name": "stdout",
     "output_type": "stream",
     "text": [
      "GAN: loss d: 2.53829    loss g: -1.84335\n"
     ]
    },
    {
     "name": "stderr",
     "output_type": "stream",
     "text": [
      " 15%|█▍        | 15000/100001 [32:14<2:32:32,  9.29it/s]"
     ]
    },
    {
     "name": "stdout",
     "output_type": "stream",
     "text": [
      "GAN: loss d: 2.22005    loss g: -1.84553\n",
      "saving current model\n"
     ]
    },
    {
     "name": "stderr",
     "output_type": "stream",
     "text": [
      "\n",
      "  0%|          | 0/175 [00:00<?, ?it/s]\u001b[A"
     ]
    },
    {
     "name": "stdout",
     "output_type": "stream",
     "text": [
      "Number of real images: 5626\n"
     ]
    },
    {
     "name": "stderr",
     "output_type": "stream",
     "text": [
      "\n",
      "\n",
      "  0%|          | 0/15 [00:00<?, ?it/s]\u001b[A\u001b[A"
     ]
    },
    {
     "name": "stdout",
     "output_type": "stream",
     "text": [
      "Number of synthetic images: 500\n"
     ]
    },
    {
     "name": "stderr",
     "output_type": "stream",
     "text": [
      " 15%|█▌        | 15001/100001 [32:34<146:07:47,  6.19s/it]"
     ]
    },
    {
     "name": "stdout",
     "output_type": "stream",
     "text": [
      "Current fid score: 3.40813729288425\n",
      "Fid scores: [5.176135784826485, 2.49733748630797, 2.556800986640896, 2.551807388342233, 3.0005414208896823, 2.6693746896472135, 2.327712167642524, 2.753024418615748, 1.810803698247632, 1.882469618869699, 2.3049020902006205, 1.2671737770059046, 2.1210468891055463, 2.099174223550225, 2.916100690765896, 3.40813729288425]\n"
     ]
    },
    {
     "name": "stderr",
     "output_type": "stream",
     "text": [
      "  0%|          | 0/175 [00:18<?, ?it/s]34:21,  9.17it/s]  \n",
      "  0%|          | 0/15 [00:09<?, ?it/s]\n",
      " 15%|█▌        | 15101/100001 [32:45<2:36:17,  9.05it/s]"
     ]
    },
    {
     "name": "stdout",
     "output_type": "stream",
     "text": [
      "GAN: loss d: 2.69129    loss g: -1.61451\n"
     ]
    },
    {
     "name": "stderr",
     "output_type": "stream",
     "text": [
      " 15%|█▌        | 15203/100001 [32:56<2:29:05,  9.48it/s]"
     ]
    },
    {
     "name": "stdout",
     "output_type": "stream",
     "text": [
      "GAN: loss d: 3.67184    loss g: -1.76495\n"
     ]
    },
    {
     "name": "stderr",
     "output_type": "stream",
     "text": [
      " 15%|█▌        | 15303/100001 [33:07<2:29:48,  9.42it/s]"
     ]
    },
    {
     "name": "stdout",
     "output_type": "stream",
     "text": [
      "GAN: loss d: 2.45473    loss g: -1.71576\n"
     ]
    },
    {
     "name": "stderr",
     "output_type": "stream",
     "text": [
      " 15%|█▌        | 15401/100001 [33:18<2:39:29,  8.84it/s]"
     ]
    },
    {
     "name": "stdout",
     "output_type": "stream",
     "text": [
      "GAN: loss d: 3.09109    loss g: -1.09171\n"
     ]
    },
    {
     "name": "stderr",
     "output_type": "stream",
     "text": [
      " 16%|█▌        | 15503/100001 [33:28<2:27:51,  9.52it/s]"
     ]
    },
    {
     "name": "stdout",
     "output_type": "stream",
     "text": [
      "GAN: loss d: 2.50179    loss g: -1.80659\n"
     ]
    },
    {
     "name": "stderr",
     "output_type": "stream",
     "text": [
      " 16%|█▌        | 15601/100001 [33:39<3:00:38,  7.79it/s]"
     ]
    },
    {
     "name": "stdout",
     "output_type": "stream",
     "text": [
      "GAN: loss d: 2.20450    loss g: -1.43283\n"
     ]
    },
    {
     "name": "stderr",
     "output_type": "stream",
     "text": [
      " 16%|█▌        | 15701/100001 [33:50<2:34:57,  9.07it/s]"
     ]
    },
    {
     "name": "stdout",
     "output_type": "stream",
     "text": [
      "GAN: loss d: 2.01018    loss g: -2.10416\n"
     ]
    },
    {
     "name": "stderr",
     "output_type": "stream",
     "text": [
      " 16%|█▌        | 15801/100001 [34:00<2:36:12,  8.98it/s]"
     ]
    },
    {
     "name": "stdout",
     "output_type": "stream",
     "text": [
      "GAN: loss d: 2.38393    loss g: -1.73166\n"
     ]
    },
    {
     "name": "stderr",
     "output_type": "stream",
     "text": [
      " 16%|█▌        | 15901/100001 [34:11<2:59:39,  7.80it/s]"
     ]
    },
    {
     "name": "stdout",
     "output_type": "stream",
     "text": [
      "GAN: loss d: 2.67215    loss g: -1.75267\n"
     ]
    },
    {
     "name": "stderr",
     "output_type": "stream",
     "text": [
      " 16%|█▌        | 16000/100001 [34:22<2:33:17,  9.13it/s]"
     ]
    },
    {
     "name": "stdout",
     "output_type": "stream",
     "text": [
      "GAN: loss d: 1.96092    loss g: -1.30541\n",
      "saving current model\n"
     ]
    },
    {
     "name": "stderr",
     "output_type": "stream",
     "text": [
      "\n",
      "  0%|          | 0/175 [00:00<?, ?it/s]\u001b[A"
     ]
    },
    {
     "name": "stdout",
     "output_type": "stream",
     "text": [
      "Number of real images: 5626\n"
     ]
    },
    {
     "name": "stderr",
     "output_type": "stream",
     "text": [
      "\n",
      "\n",
      "  0%|          | 0/15 [00:00<?, ?it/s]\u001b[A\u001b[A"
     ]
    },
    {
     "name": "stdout",
     "output_type": "stream",
     "text": [
      "Number of synthetic images: 500\n"
     ]
    },
    {
     "name": "stderr",
     "output_type": "stream",
     "text": [
      " 16%|█▌        | 16001/100001 [34:43<146:58:58,  6.30s/it]"
     ]
    },
    {
     "name": "stdout",
     "output_type": "stream",
     "text": [
      "Current fid score: 3.245391894475338\n",
      "Fid scores: [5.176135784826485, 2.49733748630797, 2.556800986640896, 2.551807388342233, 3.0005414208896823, 2.6693746896472135, 2.327712167642524, 2.753024418615748, 1.810803698247632, 1.882469618869699, 2.3049020902006205, 1.2671737770059046, 2.1210468891055463, 2.099174223550225, 2.916100690765896, 3.40813729288425, 3.245391894475338]\n"
     ]
    },
    {
     "name": "stderr",
     "output_type": "stream",
     "text": [
      "  0%|          | 0/175 [00:14<?, ?it/s]28:49,  9.40it/s]  \n",
      "  0%|          | 0/15 [00:06<?, ?it/s]\n",
      " 16%|█▌        | 16101/100001 [34:53<2:36:29,  8.94it/s]"
     ]
    },
    {
     "name": "stdout",
     "output_type": "stream",
     "text": [
      "GAN: loss d: 2.69074    loss g: -1.68348\n"
     ]
    },
    {
     "name": "stderr",
     "output_type": "stream",
     "text": [
      " 16%|█▌        | 16201/100001 [35:04<2:40:03,  8.73it/s]"
     ]
    },
    {
     "name": "stdout",
     "output_type": "stream",
     "text": [
      "GAN: loss d: 2.56647    loss g: -1.60586\n"
     ]
    },
    {
     "name": "stderr",
     "output_type": "stream",
     "text": [
      " 16%|█▋        | 16301/100001 [35:15<2:36:07,  8.94it/s]"
     ]
    },
    {
     "name": "stdout",
     "output_type": "stream",
     "text": [
      "GAN: loss d: 2.69653    loss g: -1.32704\n"
     ]
    },
    {
     "name": "stderr",
     "output_type": "stream",
     "text": [
      " 16%|█▋        | 16403/100001 [35:26<2:27:38,  9.44it/s]"
     ]
    },
    {
     "name": "stdout",
     "output_type": "stream",
     "text": [
      "GAN: loss d: 2.53135    loss g: -1.56348\n"
     ]
    },
    {
     "name": "stderr",
     "output_type": "stream",
     "text": [
      " 17%|█▋        | 16501/100001 [35:36<2:32:40,  9.11it/s]"
     ]
    },
    {
     "name": "stdout",
     "output_type": "stream",
     "text": [
      "GAN: loss d: 1.60102    loss g: -1.48419\n"
     ]
    },
    {
     "name": "stderr",
     "output_type": "stream",
     "text": [
      " 17%|█▋        | 16602/100001 [35:47<2:31:01,  9.20it/s]"
     ]
    },
    {
     "name": "stdout",
     "output_type": "stream",
     "text": [
      "GAN: loss d: 2.97405    loss g: -1.65447\n"
     ]
    },
    {
     "name": "stderr",
     "output_type": "stream",
     "text": [
      " 17%|█▋        | 16701/100001 [35:58<2:37:07,  8.84it/s]"
     ]
    },
    {
     "name": "stdout",
     "output_type": "stream",
     "text": [
      "GAN: loss d: 3.17489    loss g: -1.38674\n"
     ]
    },
    {
     "name": "stderr",
     "output_type": "stream",
     "text": [
      " 17%|█▋        | 16801/100001 [36:09<2:32:26,  9.10it/s]"
     ]
    },
    {
     "name": "stdout",
     "output_type": "stream",
     "text": [
      "GAN: loss d: 2.76956    loss g: -1.11961\n"
     ]
    },
    {
     "name": "stderr",
     "output_type": "stream",
     "text": [
      " 17%|█▋        | 16901/100001 [36:19<2:36:20,  8.86it/s]"
     ]
    },
    {
     "name": "stdout",
     "output_type": "stream",
     "text": [
      "GAN: loss d: 3.76155    loss g: -2.00980\n"
     ]
    },
    {
     "name": "stderr",
     "output_type": "stream",
     "text": [
      " 17%|█▋        | 17000/100001 [36:30<2:33:44,  9.00it/s]"
     ]
    },
    {
     "name": "stdout",
     "output_type": "stream",
     "text": [
      "GAN: loss d: 2.84040    loss g: -1.48069\n",
      "saving current model\n"
     ]
    },
    {
     "name": "stderr",
     "output_type": "stream",
     "text": [
      "\n",
      "  0%|          | 0/175 [00:00<?, ?it/s]\u001b[A"
     ]
    },
    {
     "name": "stdout",
     "output_type": "stream",
     "text": [
      "Number of real images: 5626\n"
     ]
    },
    {
     "name": "stderr",
     "output_type": "stream",
     "text": [
      "\n",
      "\n",
      "  0%|          | 0/15 [00:00<?, ?it/s]\u001b[A\u001b[A"
     ]
    },
    {
     "name": "stdout",
     "output_type": "stream",
     "text": [
      "Number of synthetic images: 500\n"
     ]
    },
    {
     "name": "stderr",
     "output_type": "stream",
     "text": [
      " 17%|█▋        | 17001/100001 [36:50<143:50:02,  6.24s/it]"
     ]
    },
    {
     "name": "stdout",
     "output_type": "stream",
     "text": [
      "Current fid score: 3.857025155346646\n",
      "Fid scores: [5.176135784826485, 2.49733748630797, 2.556800986640896, 2.551807388342233, 3.0005414208896823, 2.6693746896472135, 2.327712167642524, 2.753024418615748, 1.810803698247632, 1.882469618869699, 2.3049020902006205, 1.2671737770059046, 2.1210468891055463, 2.099174223550225, 2.916100690765896, 3.40813729288425, 3.245391894475338, 3.857025155346646]\n"
     ]
    },
    {
     "name": "stderr",
     "output_type": "stream",
     "text": [
      "  0%|          | 0/175 [00:10<?, ?it/s]:42:27,  1.68it/s] \n",
      "  0%|          | 0/15 [00:01<?, ?it/s]\n",
      " 17%|█▋        | 17101/100001 [37:01<2:32:36,  9.05it/s] "
     ]
    },
    {
     "name": "stdout",
     "output_type": "stream",
     "text": [
      "GAN: loss d: 3.87771    loss g: -1.56400\n"
     ]
    },
    {
     "name": "stderr",
     "output_type": "stream",
     "text": [
      " 17%|█▋        | 17201/100001 [37:12<2:35:41,  8.86it/s]"
     ]
    },
    {
     "name": "stdout",
     "output_type": "stream",
     "text": [
      "GAN: loss d: 3.63034    loss g: -1.82108\n"
     ]
    },
    {
     "name": "stderr",
     "output_type": "stream",
     "text": [
      " 17%|█▋        | 17301/100001 [37:23<2:32:49,  9.02it/s]"
     ]
    },
    {
     "name": "stdout",
     "output_type": "stream",
     "text": [
      "GAN: loss d: 4.75594    loss g: -1.40921\n"
     ]
    },
    {
     "name": "stderr",
     "output_type": "stream",
     "text": [
      " 17%|█▋        | 17403/100001 [37:34<2:25:08,  9.48it/s]"
     ]
    },
    {
     "name": "stdout",
     "output_type": "stream",
     "text": [
      "GAN: loss d: 3.47938    loss g: -1.97933\n"
     ]
    },
    {
     "name": "stderr",
     "output_type": "stream",
     "text": [
      " 18%|█▊        | 17501/100001 [37:44<3:03:06,  7.51it/s]"
     ]
    },
    {
     "name": "stdout",
     "output_type": "stream",
     "text": [
      "GAN: loss d: 2.07072    loss g: -3.24158\n"
     ]
    },
    {
     "name": "stderr",
     "output_type": "stream",
     "text": [
      " 18%|█▊        | 17601/100001 [37:55<2:47:57,  8.18it/s]"
     ]
    },
    {
     "name": "stdout",
     "output_type": "stream",
     "text": [
      "GAN: loss d: 2.44221    loss g: -2.61989\n"
     ]
    },
    {
     "name": "stderr",
     "output_type": "stream",
     "text": [
      " 18%|█▊        | 17703/100001 [38:06<2:25:32,  9.42it/s]"
     ]
    },
    {
     "name": "stdout",
     "output_type": "stream",
     "text": [
      "GAN: loss d: 3.62472    loss g: -3.17609\n"
     ]
    },
    {
     "name": "stderr",
     "output_type": "stream",
     "text": [
      " 18%|█▊        | 17801/100001 [38:17<2:31:47,  9.03it/s]"
     ]
    },
    {
     "name": "stdout",
     "output_type": "stream",
     "text": [
      "GAN: loss d: 3.72075    loss g: -3.77394\n"
     ]
    },
    {
     "name": "stderr",
     "output_type": "stream",
     "text": [
      " 18%|█▊        | 17901/100001 [38:27<2:32:08,  8.99it/s]"
     ]
    },
    {
     "name": "stdout",
     "output_type": "stream",
     "text": [
      "GAN: loss d: 2.24032    loss g: -2.33824\n"
     ]
    },
    {
     "name": "stderr",
     "output_type": "stream",
     "text": [
      " 18%|█▊        | 18000/100001 [38:38<2:26:26,  9.33it/s]"
     ]
    },
    {
     "name": "stdout",
     "output_type": "stream",
     "text": [
      "GAN: loss d: 3.72821    loss g: -2.18527\n",
      "saving current model\n"
     ]
    },
    {
     "name": "stderr",
     "output_type": "stream",
     "text": [
      "\n",
      "  0%|          | 0/175 [00:00<?, ?it/s]\u001b[A"
     ]
    },
    {
     "name": "stdout",
     "output_type": "stream",
     "text": [
      "Number of real images: 5626\n"
     ]
    },
    {
     "name": "stderr",
     "output_type": "stream",
     "text": [
      "\n",
      "\n",
      "  0%|          | 0/15 [00:00<?, ?it/s]\u001b[A\u001b[A"
     ]
    },
    {
     "name": "stdout",
     "output_type": "stream",
     "text": [
      "Number of synthetic images: 500\n"
     ]
    },
    {
     "name": "stderr",
     "output_type": "stream",
     "text": [
      " 18%|█▊        | 18002/100001 [38:59<100:04:54,  4.39s/it]"
     ]
    },
    {
     "name": "stdout",
     "output_type": "stream",
     "text": [
      "Current fid score: 3.9987907417992634\n",
      "Fid scores: [5.176135784826485, 2.49733748630797, 2.556800986640896, 2.551807388342233, 3.0005414208896823, 2.6693746896472135, 2.327712167642524, 2.753024418615748, 1.810803698247632, 1.882469618869699, 2.3049020902006205, 1.2671737770059046, 2.1210468891055463, 2.099174223550225, 2.916100690765896, 3.40813729288425, 3.245391894475338, 3.857025155346646, 3.9987907417992634]\n"
     ]
    },
    {
     "name": "stderr",
     "output_type": "stream",
     "text": [
      "  0%|          | 0/175 [00:18<?, ?it/s]26:18,  9.33it/s]  \n",
      "  0%|          | 0/15 [00:10<?, ?it/s]\n",
      " 18%|█▊        | 18102/100001 [39:09<2:29:23,  9.14it/s]"
     ]
    },
    {
     "name": "stdout",
     "output_type": "stream",
     "text": [
      "GAN: loss d: 3.45259    loss g: -3.18682\n"
     ]
    },
    {
     "name": "stderr",
     "output_type": "stream",
     "text": [
      " 18%|█▊        | 18201/100001 [39:20<2:29:07,  9.14it/s]"
     ]
    },
    {
     "name": "stdout",
     "output_type": "stream",
     "text": [
      "GAN: loss d: 3.34675    loss g: -2.95873\n"
     ]
    },
    {
     "name": "stderr",
     "output_type": "stream",
     "text": [
      " 18%|█▊        | 18301/100001 [39:31<2:31:41,  8.98it/s]"
     ]
    },
    {
     "name": "stdout",
     "output_type": "stream",
     "text": [
      "GAN: loss d: 1.58631    loss g: -3.23853\n"
     ]
    },
    {
     "name": "stderr",
     "output_type": "stream",
     "text": [
      " 18%|█▊        | 18401/100001 [39:41<2:32:55,  8.89it/s]"
     ]
    },
    {
     "name": "stdout",
     "output_type": "stream",
     "text": [
      "GAN: loss d: 1.30092    loss g: -1.73944\n"
     ]
    },
    {
     "name": "stderr",
     "output_type": "stream",
     "text": [
      " 19%|█▊        | 18503/100001 [39:52<2:23:04,  9.49it/s]"
     ]
    },
    {
     "name": "stdout",
     "output_type": "stream",
     "text": [
      "GAN: loss d: 2.57218    loss g: -1.78088\n"
     ]
    },
    {
     "name": "stderr",
     "output_type": "stream",
     "text": [
      " 19%|█▊        | 18601/100001 [40:03<2:28:24,  9.14it/s]"
     ]
    },
    {
     "name": "stdout",
     "output_type": "stream",
     "text": [
      "GAN: loss d: 0.11595    loss g: -1.06837\n"
     ]
    },
    {
     "name": "stderr",
     "output_type": "stream",
     "text": [
      " 19%|█▊        | 18701/100001 [40:14<2:31:40,  8.93it/s]"
     ]
    },
    {
     "name": "stdout",
     "output_type": "stream",
     "text": [
      "GAN: loss d: 0.73436    loss g: -1.32302\n"
     ]
    },
    {
     "name": "stderr",
     "output_type": "stream",
     "text": [
      " 19%|█▉        | 18803/100001 [40:24<2:21:24,  9.57it/s]"
     ]
    },
    {
     "name": "stdout",
     "output_type": "stream",
     "text": [
      "GAN: loss d: 2.16599    loss g: -2.13645\n"
     ]
    },
    {
     "name": "stderr",
     "output_type": "stream",
     "text": [
      " 19%|█▉        | 18901/100001 [40:35<2:30:55,  8.96it/s]"
     ]
    },
    {
     "name": "stdout",
     "output_type": "stream",
     "text": [
      "GAN: loss d: 1.05960    loss g: -1.94146\n"
     ]
    },
    {
     "name": "stderr",
     "output_type": "stream",
     "text": [
      " 19%|█▉        | 19000/100001 [40:46<2:24:48,  9.32it/s]"
     ]
    },
    {
     "name": "stdout",
     "output_type": "stream",
     "text": [
      "GAN: loss d: 3.40818    loss g: -3.06561\n",
      "saving current model\n"
     ]
    },
    {
     "name": "stderr",
     "output_type": "stream",
     "text": [
      "\n",
      "  0%|          | 0/175 [00:00<?, ?it/s]\u001b[A"
     ]
    },
    {
     "name": "stdout",
     "output_type": "stream",
     "text": [
      "Number of real images: 5626\n"
     ]
    },
    {
     "name": "stderr",
     "output_type": "stream",
     "text": [
      "\n",
      "\n",
      "  0%|          | 0/15 [00:00<?, ?it/s]\u001b[A\u001b[A"
     ]
    },
    {
     "name": "stdout",
     "output_type": "stream",
     "text": [
      "Number of synthetic images: 500\n"
     ]
    },
    {
     "name": "stderr",
     "output_type": "stream",
     "text": [
      "  0%|          | 0/175 [00:09<?, ?it/s]\n",
      "  0%|          | 0/15 [00:00<?, ?it/s]"
     ]
    },
    {
     "name": "stdout",
     "output_type": "stream",
     "text": [
      "Current fid score: 1.1312376693415231\n",
      "Fid scores: [5.176135784826485, 2.49733748630797, 2.556800986640896, 2.551807388342233, 3.0005414208896823, 2.6693746896472135, 2.327712167642524, 2.753024418615748, 1.810803698247632, 1.882469618869699, 2.3049020902006205, 1.2671737770059046, 2.1210468891055463, 2.099174223550225, 2.916100690765896, 3.40813729288425, 3.245391894475338, 3.857025155346646, 3.9987907417992634, 1.1312376693415231]\n",
      "New min fid score: 1.131237669342\n",
      "Saving best model\n"
     ]
    },
    {
     "name": "stderr",
     "output_type": "stream",
     "text": [
      "\n",
      " 19%|█▉        | 19101/100001 [41:20<2:29:53,  9.00it/s]  "
     ]
    },
    {
     "name": "stdout",
     "output_type": "stream",
     "text": [
      "GAN: loss d: 2.40373    loss g: -2.65633\n"
     ]
    },
    {
     "name": "stderr",
     "output_type": "stream",
     "text": [
      " 19%|█▉        | 19201/100001 [41:31<2:30:16,  8.96it/s]"
     ]
    },
    {
     "name": "stdout",
     "output_type": "stream",
     "text": [
      "GAN: loss d: 2.04717    loss g: -3.18453\n"
     ]
    },
    {
     "name": "stderr",
     "output_type": "stream",
     "text": [
      " 19%|█▉        | 19301/100001 [41:42<2:33:16,  8.78it/s]"
     ]
    },
    {
     "name": "stdout",
     "output_type": "stream",
     "text": [
      "GAN: loss d: 4.59708    loss g: -1.57251\n"
     ]
    },
    {
     "name": "stderr",
     "output_type": "stream",
     "text": [
      " 19%|█▉        | 19403/100001 [41:53<2:22:37,  9.42it/s]"
     ]
    },
    {
     "name": "stdout",
     "output_type": "stream",
     "text": [
      "GAN: loss d: 3.20140    loss g: -2.21438\n"
     ]
    },
    {
     "name": "stderr",
     "output_type": "stream",
     "text": [
      " 20%|█▉        | 19501/100001 [42:03<2:28:59,  9.01it/s]"
     ]
    },
    {
     "name": "stdout",
     "output_type": "stream",
     "text": [
      "GAN: loss d: 3.29592    loss g: -2.29937\n"
     ]
    },
    {
     "name": "stderr",
     "output_type": "stream",
     "text": [
      " 20%|█▉        | 19601/100001 [42:14<2:30:31,  8.90it/s]"
     ]
    },
    {
     "name": "stdout",
     "output_type": "stream",
     "text": [
      "GAN: loss d: 2.93739    loss g: -2.58726\n"
     ]
    },
    {
     "name": "stderr",
     "output_type": "stream",
     "text": [
      " 20%|█▉        | 19701/100001 [42:24<2:27:12,  9.09it/s]"
     ]
    },
    {
     "name": "stdout",
     "output_type": "stream",
     "text": [
      "GAN: loss d: 1.99406    loss g: -2.18788\n"
     ]
    },
    {
     "name": "stderr",
     "output_type": "stream",
     "text": [
      " 20%|█▉        | 19801/100001 [42:35<2:26:29,  9.12it/s]"
     ]
    },
    {
     "name": "stdout",
     "output_type": "stream",
     "text": [
      "GAN: loss d: 2.75218    loss g: -2.28719\n"
     ]
    },
    {
     "name": "stderr",
     "output_type": "stream",
     "text": [
      " 20%|█▉        | 19902/100001 [42:46<2:25:19,  9.19it/s]"
     ]
    },
    {
     "name": "stdout",
     "output_type": "stream",
     "text": [
      "GAN: loss d: 3.75544    loss g: -2.21490\n"
     ]
    },
    {
     "name": "stderr",
     "output_type": "stream",
     "text": [
      " 20%|█▉        | 20000/100001 [42:56<2:24:11,  9.25it/s]"
     ]
    },
    {
     "name": "stdout",
     "output_type": "stream",
     "text": [
      "GAN: loss d: 2.89257    loss g: -2.43695\n",
      "saving current model\n"
     ]
    },
    {
     "name": "stderr",
     "output_type": "stream",
     "text": [
      "\n",
      "  0%|          | 0/175 [00:00<?, ?it/s]\u001b[A"
     ]
    },
    {
     "name": "stdout",
     "output_type": "stream",
     "text": [
      "Number of real images: 5626\n"
     ]
    },
    {
     "name": "stderr",
     "output_type": "stream",
     "text": [
      "\n",
      "\n",
      "  0%|          | 0/15 [00:00<?, ?it/s]\u001b[A\u001b[A"
     ]
    },
    {
     "name": "stdout",
     "output_type": "stream",
     "text": [
      "Number of synthetic images: 500\n"
     ]
    },
    {
     "name": "stderr",
     "output_type": "stream",
     "text": [
      " 20%|██        | 20001/100001 [43:17<138:41:41,  6.24s/it]"
     ]
    },
    {
     "name": "stdout",
     "output_type": "stream",
     "text": [
      "Current fid score: 1.2186857992723503\n",
      "Fid scores: [5.176135784826485, 2.49733748630797, 2.556800986640896, 2.551807388342233, 3.0005414208896823, 2.6693746896472135, 2.327712167642524, 2.753024418615748, 1.810803698247632, 1.882469618869699, 2.3049020902006205, 1.2671737770059046, 2.1210468891055463, 2.099174223550225, 2.916100690765896, 3.40813729288425, 3.245391894475338, 3.857025155346646, 3.9987907417992634, 1.1312376693415231, 1.2186857992723503]\n"
     ]
    },
    {
     "name": "stderr",
     "output_type": "stream",
     "text": [
      "  0%|          | 0/175 [00:10<?, ?it/s]:36:27,  1.26it/s] \n",
      "  0%|          | 0/15 [00:01<?, ?it/s]\n",
      " 20%|██        | 20103/100001 [43:28<2:20:30,  9.48it/s] "
     ]
    },
    {
     "name": "stdout",
     "output_type": "stream",
     "text": [
      "GAN: loss d: 0.25134    loss g: -3.41996\n"
     ]
    },
    {
     "name": "stderr",
     "output_type": "stream",
     "text": [
      " 20%|██        | 20201/100001 [43:38<2:29:03,  8.92it/s]"
     ]
    },
    {
     "name": "stdout",
     "output_type": "stream",
     "text": [
      "GAN: loss d: 1.84221    loss g: -1.82906\n"
     ]
    },
    {
     "name": "stderr",
     "output_type": "stream",
     "text": [
      " 20%|██        | 20301/100001 [43:49<2:27:14,  9.02it/s]"
     ]
    },
    {
     "name": "stdout",
     "output_type": "stream",
     "text": [
      "GAN: loss d: 0.84011    loss g: -1.98125\n"
     ]
    },
    {
     "name": "stderr",
     "output_type": "stream",
     "text": [
      " 20%|██        | 20403/100001 [44:00<2:21:25,  9.38it/s]"
     ]
    },
    {
     "name": "stdout",
     "output_type": "stream",
     "text": [
      "GAN: loss d: 1.99733    loss g: -2.13686\n"
     ]
    },
    {
     "name": "stderr",
     "output_type": "stream",
     "text": [
      " 21%|██        | 20503/100001 [44:11<2:19:27,  9.50it/s]"
     ]
    },
    {
     "name": "stdout",
     "output_type": "stream",
     "text": [
      "GAN: loss d: 1.17061    loss g: -1.21355\n"
     ]
    },
    {
     "name": "stderr",
     "output_type": "stream",
     "text": [
      " 21%|██        | 20602/100001 [44:21<2:24:25,  9.16it/s]"
     ]
    },
    {
     "name": "stdout",
     "output_type": "stream",
     "text": [
      "GAN: loss d: 2.63379    loss g: -1.53016\n"
     ]
    },
    {
     "name": "stderr",
     "output_type": "stream",
     "text": [
      " 21%|██        | 20701/100001 [44:32<2:26:07,  9.05it/s]"
     ]
    },
    {
     "name": "stdout",
     "output_type": "stream",
     "text": [
      "GAN: loss d: 1.00400    loss g: -2.35066\n"
     ]
    },
    {
     "name": "stderr",
     "output_type": "stream",
     "text": [
      " 21%|██        | 20801/100001 [44:43<2:26:47,  8.99it/s]"
     ]
    },
    {
     "name": "stdout",
     "output_type": "stream",
     "text": [
      "GAN: loss d: 0.65810    loss g: -3.40178\n"
     ]
    },
    {
     "name": "stderr",
     "output_type": "stream",
     "text": [
      " 21%|██        | 20901/100001 [44:54<2:27:49,  8.92it/s]"
     ]
    },
    {
     "name": "stdout",
     "output_type": "stream",
     "text": [
      "GAN: loss d: 2.36738    loss g: -1.76332\n"
     ]
    },
    {
     "name": "stderr",
     "output_type": "stream",
     "text": [
      " 21%|██        | 21000/100001 [45:04<2:18:57,  9.48it/s]"
     ]
    },
    {
     "name": "stdout",
     "output_type": "stream",
     "text": [
      "GAN: loss d: 1.31842    loss g: -1.78283\n",
      "saving current model\n"
     ]
    },
    {
     "name": "stderr",
     "output_type": "stream",
     "text": [
      "\n",
      "  0%|          | 0/175 [00:00<?, ?it/s]\u001b[A"
     ]
    },
    {
     "name": "stdout",
     "output_type": "stream",
     "text": [
      "Number of real images: 5626\n"
     ]
    },
    {
     "name": "stderr",
     "output_type": "stream",
     "text": [
      "\n",
      "\n",
      "  0%|          | 0/15 [00:00<?, ?it/s]\u001b[A\u001b[A"
     ]
    },
    {
     "name": "stdout",
     "output_type": "stream",
     "text": [
      "Number of synthetic images: 500\n"
     ]
    },
    {
     "name": "stderr",
     "output_type": "stream",
     "text": [
      " 21%|██        | 21003/100001 [45:25<74:24:38,  3.39s/it] "
     ]
    },
    {
     "name": "stdout",
     "output_type": "stream",
     "text": [
      "Current fid score: 1.8961604960656189\n",
      "Fid scores: [5.176135784826485, 2.49733748630797, 2.556800986640896, 2.551807388342233, 3.0005414208896823, 2.6693746896472135, 2.327712167642524, 2.753024418615748, 1.810803698247632, 1.882469618869699, 2.3049020902006205, 1.2671737770059046, 2.1210468891055463, 2.099174223550225, 2.916100690765896, 3.40813729288425, 3.245391894475338, 3.857025155346646, 3.9987907417992634, 1.1312376693415231, 1.2186857992723503, 1.8961604960656189]\n"
     ]
    },
    {
     "name": "stderr",
     "output_type": "stream",
     "text": [
      "  0%|          | 0/175 [00:11<?, ?it/s]58:05,  4.42it/s] \n",
      "  0%|          | 0/15 [00:02<?, ?it/s]\n",
      " 21%|██        | 21101/100001 [45:35<2:28:02,  8.88it/s]"
     ]
    },
    {
     "name": "stdout",
     "output_type": "stream",
     "text": [
      "GAN: loss d: 0.70148    loss g: -2.59669\n"
     ]
    },
    {
     "name": "stderr",
     "output_type": "stream",
     "text": [
      " 21%|██        | 21203/100001 [45:46<2:17:27,  9.55it/s]"
     ]
    },
    {
     "name": "stdout",
     "output_type": "stream",
     "text": [
      "GAN: loss d: 1.72153    loss g: -1.96207\n"
     ]
    },
    {
     "name": "stderr",
     "output_type": "stream",
     "text": [
      " 21%|██▏       | 21301/100001 [45:57<2:24:39,  9.07it/s]"
     ]
    },
    {
     "name": "stdout",
     "output_type": "stream",
     "text": [
      "GAN: loss d: 0.13955    loss g: -1.11539\n"
     ]
    },
    {
     "name": "stderr",
     "output_type": "stream",
     "text": [
      " 21%|██▏       | 21403/100001 [46:08<2:19:00,  9.42it/s]"
     ]
    },
    {
     "name": "stdout",
     "output_type": "stream",
     "text": [
      "GAN: loss d: 1.03829    loss g: -2.78535\n"
     ]
    },
    {
     "name": "stderr",
     "output_type": "stream",
     "text": [
      " 22%|██▏       | 21503/100001 [46:18<2:19:19,  9.39it/s]"
     ]
    },
    {
     "name": "stdout",
     "output_type": "stream",
     "text": [
      "GAN: loss d: 0.92861    loss g: -1.72517\n"
     ]
    },
    {
     "name": "stderr",
     "output_type": "stream",
     "text": [
      " 22%|██▏       | 21603/100001 [46:29<2:17:07,  9.53it/s]"
     ]
    },
    {
     "name": "stdout",
     "output_type": "stream",
     "text": [
      "GAN: loss d: 3.40228    loss g: -1.91703\n"
     ]
    },
    {
     "name": "stderr",
     "output_type": "stream",
     "text": [
      " 22%|██▏       | 21701/100001 [46:39<2:24:18,  9.04it/s]"
     ]
    },
    {
     "name": "stdout",
     "output_type": "stream",
     "text": [
      "GAN: loss d: 1.93429    loss g: -2.99362\n"
     ]
    },
    {
     "name": "stderr",
     "output_type": "stream",
     "text": [
      " 22%|██▏       | 21803/100001 [46:50<2:16:50,  9.52it/s]"
     ]
    },
    {
     "name": "stdout",
     "output_type": "stream",
     "text": [
      "GAN: loss d: 2.02737    loss g: -1.97043\n"
     ]
    },
    {
     "name": "stderr",
     "output_type": "stream",
     "text": [
      " 22%|██▏       | 21901/100001 [47:01<2:25:21,  8.95it/s]"
     ]
    },
    {
     "name": "stdout",
     "output_type": "stream",
     "text": [
      "GAN: loss d: 2.04753    loss g: -2.21938\n"
     ]
    },
    {
     "name": "stderr",
     "output_type": "stream",
     "text": [
      " 22%|██▏       | 22000/100001 [47:11<2:21:13,  9.20it/s]"
     ]
    },
    {
     "name": "stdout",
     "output_type": "stream",
     "text": [
      "GAN: loss d: 0.64838    loss g: -0.96435\n",
      "saving current model\n"
     ]
    },
    {
     "name": "stderr",
     "output_type": "stream",
     "text": [
      "\n",
      "  0%|          | 0/175 [00:00<?, ?it/s]\u001b[A"
     ]
    },
    {
     "name": "stdout",
     "output_type": "stream",
     "text": [
      "Number of real images: 5626\n"
     ]
    },
    {
     "name": "stderr",
     "output_type": "stream",
     "text": [
      "\n",
      "\n",
      "  0%|          | 0/15 [00:00<?, ?it/s]\u001b[A\u001b[A"
     ]
    },
    {
     "name": "stdout",
     "output_type": "stream",
     "text": [
      "Number of synthetic images: 500\n"
     ]
    },
    {
     "name": "stderr",
     "output_type": "stream",
     "text": [
      " 22%|██▏       | 22001/100001 [47:32<136:11:13,  6.29s/it]"
     ]
    },
    {
     "name": "stdout",
     "output_type": "stream",
     "text": [
      "Current fid score: 1.639260863742642\n",
      "Fid scores: [5.176135784826485, 2.49733748630797, 2.556800986640896, 2.551807388342233, 3.0005414208896823, 2.6693746896472135, 2.327712167642524, 2.753024418615748, 1.810803698247632, 1.882469618869699, 2.3049020902006205, 1.2671737770059046, 2.1210468891055463, 2.099174223550225, 2.916100690765896, 3.40813729288425, 3.245391894475338, 3.857025155346646, 3.9987907417992634, 1.1312376693415231, 1.2186857992723503, 1.8961604960656189, 1.639260863742642]\n"
     ]
    },
    {
     "name": "stderr",
     "output_type": "stream",
     "text": [
      "  0%|          | 0/175 [00:15<?, ?it/s]20:00,  9.28it/s]  \n",
      "  0%|          | 0/15 [00:06<?, ?it/s]\n",
      " 22%|██▏       | 22101/100001 [47:43<2:22:53,  9.09it/s]"
     ]
    },
    {
     "name": "stdout",
     "output_type": "stream",
     "text": [
      "GAN: loss d: 3.36974    loss g: -2.36460\n"
     ]
    },
    {
     "name": "stderr",
     "output_type": "stream",
     "text": [
      " 22%|██▏       | 22201/100001 [47:54<2:28:08,  8.75it/s]"
     ]
    },
    {
     "name": "stdout",
     "output_type": "stream",
     "text": [
      "GAN: loss d: 3.04747    loss g: -2.43995\n"
     ]
    },
    {
     "name": "stderr",
     "output_type": "stream",
     "text": [
      " 22%|██▏       | 22301/100001 [48:04<2:26:51,  8.82it/s]"
     ]
    },
    {
     "name": "stdout",
     "output_type": "stream",
     "text": [
      "GAN: loss d: 1.72461    loss g: -2.43184\n"
     ]
    },
    {
     "name": "stderr",
     "output_type": "stream",
     "text": [
      " 22%|██▏       | 22401/100001 [48:15<2:24:18,  8.96it/s]"
     ]
    },
    {
     "name": "stdout",
     "output_type": "stream",
     "text": [
      "GAN: loss d: 2.40810    loss g: -2.14484\n"
     ]
    },
    {
     "name": "stderr",
     "output_type": "stream",
     "text": [
      " 23%|██▎       | 22502/100001 [48:26<2:20:37,  9.19it/s]"
     ]
    },
    {
     "name": "stdout",
     "output_type": "stream",
     "text": [
      "GAN: loss d: 1.18065    loss g: -2.70029\n"
     ]
    },
    {
     "name": "stderr",
     "output_type": "stream",
     "text": [
      " 23%|██▎       | 22601/100001 [48:37<2:24:11,  8.95it/s]"
     ]
    },
    {
     "name": "stdout",
     "output_type": "stream",
     "text": [
      "GAN: loss d: 1.77139    loss g: -2.12888\n"
     ]
    },
    {
     "name": "stderr",
     "output_type": "stream",
     "text": [
      " 23%|██▎       | 22701/100001 [48:47<2:23:48,  8.96it/s]"
     ]
    },
    {
     "name": "stdout",
     "output_type": "stream",
     "text": [
      "GAN: loss d: 2.50807    loss g: -2.36889\n"
     ]
    },
    {
     "name": "stderr",
     "output_type": "stream",
     "text": [
      " 23%|██▎       | 22801/100001 [48:58<2:21:44,  9.08it/s]"
     ]
    },
    {
     "name": "stdout",
     "output_type": "stream",
     "text": [
      "GAN: loss d: 0.77153    loss g: -2.43802\n"
     ]
    },
    {
     "name": "stderr",
     "output_type": "stream",
     "text": [
      " 23%|██▎       | 22903/100001 [49:09<2:15:07,  9.51it/s]"
     ]
    },
    {
     "name": "stdout",
     "output_type": "stream",
     "text": [
      "GAN: loss d: 1.12663    loss g: -1.98214\n"
     ]
    },
    {
     "name": "stderr",
     "output_type": "stream",
     "text": [
      " 23%|██▎       | 23000/100001 [49:19<2:15:45,  9.45it/s]"
     ]
    },
    {
     "name": "stdout",
     "output_type": "stream",
     "text": [
      "GAN: loss d: 0.79748    loss g: -1.82754\n",
      "saving current model\n"
     ]
    },
    {
     "name": "stderr",
     "output_type": "stream",
     "text": [
      "\n",
      "  0%|          | 0/175 [00:00<?, ?it/s]\u001b[A"
     ]
    },
    {
     "name": "stdout",
     "output_type": "stream",
     "text": [
      "Number of real images: 5626\n"
     ]
    },
    {
     "name": "stderr",
     "output_type": "stream",
     "text": [
      "\n",
      "\n",
      "  0%|          | 0/15 [00:00<?, ?it/s]\u001b[A\u001b[A"
     ]
    },
    {
     "name": "stdout",
     "output_type": "stream",
     "text": [
      "Number of synthetic images: 500\n"
     ]
    },
    {
     "name": "stderr",
     "output_type": "stream",
     "text": [
      " 23%|██▎       | 23001/100001 [49:40<132:52:31,  6.21s/it]"
     ]
    },
    {
     "name": "stdout",
     "output_type": "stream",
     "text": [
      "Current fid score: 1.4429721571320542\n",
      "Fid scores: [5.176135784826485, 2.49733748630797, 2.556800986640896, 2.551807388342233, 3.0005414208896823, 2.6693746896472135, 2.327712167642524, 2.753024418615748, 1.810803698247632, 1.882469618869699, 2.3049020902006205, 1.2671737770059046, 2.1210468891055463, 2.099174223550225, 2.916100690765896, 3.40813729288425, 3.245391894475338, 3.857025155346646, 3.9987907417992634, 1.1312376693415231, 1.2186857992723503, 1.8961604960656189, 1.639260863742642, 1.4429721571320542]\n"
     ]
    },
    {
     "name": "stderr",
     "output_type": "stream",
     "text": [
      "  0%|          | 0/175 [00:14<?, ?it/s]16:24,  9.40it/s]  \n",
      "  0%|          | 0/15 [00:05<?, ?it/s]\n",
      " 23%|██▎       | 23101/100001 [49:51<2:22:20,  9.00it/s]"
     ]
    },
    {
     "name": "stdout",
     "output_type": "stream",
     "text": [
      "GAN: loss d: 2.45845    loss g: -1.58986\n"
     ]
    },
    {
     "name": "stderr",
     "output_type": "stream",
     "text": [
      " 23%|██▎       | 23202/100001 [50:01<2:17:29,  9.31it/s]"
     ]
    },
    {
     "name": "stdout",
     "output_type": "stream",
     "text": [
      "GAN: loss d: 1.78963    loss g: -1.96806\n"
     ]
    },
    {
     "name": "stderr",
     "output_type": "stream",
     "text": [
      " 23%|██▎       | 23301/100001 [50:12<2:23:04,  8.93it/s]"
     ]
    },
    {
     "name": "stdout",
     "output_type": "stream",
     "text": [
      "GAN: loss d: 2.00179    loss g: -2.62449\n"
     ]
    },
    {
     "name": "stderr",
     "output_type": "stream",
     "text": [
      " 23%|██▎       | 23401/100001 [50:23<2:26:41,  8.70it/s]"
     ]
    },
    {
     "name": "stdout",
     "output_type": "stream",
     "text": [
      "GAN: loss d: 1.45722    loss g: -2.22096\n"
     ]
    },
    {
     "name": "stderr",
     "output_type": "stream",
     "text": [
      " 24%|██▎       | 23501/100001 [50:34<2:19:28,  9.14it/s]"
     ]
    },
    {
     "name": "stdout",
     "output_type": "stream",
     "text": [
      "GAN: loss d: 2.72638    loss g: -2.64866\n"
     ]
    },
    {
     "name": "stderr",
     "output_type": "stream",
     "text": [
      " 24%|██▎       | 23601/100001 [50:44<2:21:56,  8.97it/s]"
     ]
    },
    {
     "name": "stdout",
     "output_type": "stream",
     "text": [
      "GAN: loss d: 2.85254    loss g: -1.88725\n"
     ]
    },
    {
     "name": "stderr",
     "output_type": "stream",
     "text": [
      " 24%|██▎       | 23701/100001 [50:55<2:21:24,  8.99it/s]"
     ]
    },
    {
     "name": "stdout",
     "output_type": "stream",
     "text": [
      "GAN: loss d: 2.04932    loss g: -1.59061\n"
     ]
    },
    {
     "name": "stderr",
     "output_type": "stream",
     "text": [
      " 24%|██▍       | 23801/100001 [51:06<2:21:17,  8.99it/s]"
     ]
    },
    {
     "name": "stdout",
     "output_type": "stream",
     "text": [
      "GAN: loss d: 2.11272    loss g: -2.39717\n"
     ]
    },
    {
     "name": "stderr",
     "output_type": "stream",
     "text": [
      " 24%|██▍       | 23901/100001 [51:17<2:22:13,  8.92it/s]"
     ]
    },
    {
     "name": "stdout",
     "output_type": "stream",
     "text": [
      "GAN: loss d: 1.48742    loss g: -2.34604\n"
     ]
    },
    {
     "name": "stderr",
     "output_type": "stream",
     "text": [
      " 24%|██▍       | 24000/100001 [51:27<2:14:33,  9.41it/s]"
     ]
    },
    {
     "name": "stdout",
     "output_type": "stream",
     "text": [
      "GAN: loss d: 3.18879    loss g: -3.13458\n",
      "saving current model\n"
     ]
    },
    {
     "name": "stderr",
     "output_type": "stream",
     "text": [
      "\n",
      "  0%|          | 0/175 [00:00<?, ?it/s]\u001b[A"
     ]
    },
    {
     "name": "stdout",
     "output_type": "stream",
     "text": [
      "Number of real images: 5626\n"
     ]
    },
    {
     "name": "stderr",
     "output_type": "stream",
     "text": [
      "\n",
      "\n",
      "  0%|          | 0/15 [00:00<?, ?it/s]\u001b[A\u001b[A"
     ]
    },
    {
     "name": "stdout",
     "output_type": "stream",
     "text": [
      "Number of synthetic images: 500\n"
     ]
    },
    {
     "name": "stderr",
     "output_type": "stream",
     "text": [
      " 24%|██▍       | 24002/100001 [51:48<93:33:57,  4.43s/it] "
     ]
    },
    {
     "name": "stdout",
     "output_type": "stream",
     "text": [
      "Current fid score: 1.2975153110277695\n",
      "Fid scores: [5.176135784826485, 2.49733748630797, 2.556800986640896, 2.551807388342233, 3.0005414208896823, 2.6693746896472135, 2.327712167642524, 2.753024418615748, 1.810803698247632, 1.882469618869699, 2.3049020902006205, 1.2671737770059046, 2.1210468891055463, 2.099174223550225, 2.916100690765896, 3.40813729288425, 3.245391894475338, 3.857025155346646, 3.9987907417992634, 1.1312376693415231, 1.2186857992723503, 1.8961604960656189, 1.639260863742642, 1.4429721571320542, 1.2975153110277695]\n"
     ]
    },
    {
     "name": "stderr",
     "output_type": "stream",
     "text": [
      "  0%|          | 0/175 [00:10<?, ?it/s]57:54,  3.54it/s] \n",
      "  0%|          | 0/15 [00:02<?, ?it/s]\n",
      " 24%|██▍       | 24103/100001 [51:59<2:13:30,  9.47it/s]"
     ]
    },
    {
     "name": "stdout",
     "output_type": "stream",
     "text": [
      "GAN: loss d: 3.14434    loss g: -2.09393\n"
     ]
    },
    {
     "name": "stderr",
     "output_type": "stream",
     "text": [
      " 24%|██▍       | 24201/100001 [52:09<2:20:47,  8.97it/s]"
     ]
    },
    {
     "name": "stdout",
     "output_type": "stream",
     "text": [
      "GAN: loss d: 2.71933    loss g: -2.68471\n"
     ]
    },
    {
     "name": "stderr",
     "output_type": "stream",
     "text": [
      " 24%|██▍       | 24303/100001 [52:20<2:12:33,  9.52it/s]"
     ]
    },
    {
     "name": "stdout",
     "output_type": "stream",
     "text": [
      "GAN: loss d: 1.59288    loss g: -1.36905\n"
     ]
    },
    {
     "name": "stderr",
     "output_type": "stream",
     "text": [
      " 24%|██▍       | 24401/100001 [52:31<2:18:20,  9.11it/s]"
     ]
    },
    {
     "name": "stdout",
     "output_type": "stream",
     "text": [
      "GAN: loss d: 1.04423    loss g: -2.69582\n"
     ]
    },
    {
     "name": "stderr",
     "output_type": "stream",
     "text": [
      " 25%|██▍       | 24502/100001 [52:41<2:15:24,  9.29it/s]"
     ]
    },
    {
     "name": "stdout",
     "output_type": "stream",
     "text": [
      "GAN: loss d: 2.02173    loss g: -2.72775\n"
     ]
    },
    {
     "name": "stderr",
     "output_type": "stream",
     "text": [
      " 25%|██▍       | 24601/100001 [52:52<2:19:55,  8.98it/s]"
     ]
    },
    {
     "name": "stdout",
     "output_type": "stream",
     "text": [
      "GAN: loss d: 2.96230    loss g: -2.47495\n"
     ]
    },
    {
     "name": "stderr",
     "output_type": "stream",
     "text": [
      " 25%|██▍       | 24702/100001 [53:03<2:14:01,  9.36it/s]"
     ]
    },
    {
     "name": "stdout",
     "output_type": "stream",
     "text": [
      "GAN: loss d: 2.89217    loss g: -2.91316\n"
     ]
    },
    {
     "name": "stderr",
     "output_type": "stream",
     "text": [
      " 25%|██▍       | 24801/100001 [53:14<2:19:08,  9.01it/s]"
     ]
    },
    {
     "name": "stdout",
     "output_type": "stream",
     "text": [
      "GAN: loss d: 2.19529    loss g: -2.59550\n"
     ]
    },
    {
     "name": "stderr",
     "output_type": "stream",
     "text": [
      " 25%|██▍       | 24901/100001 [53:24<2:20:05,  8.94it/s]"
     ]
    },
    {
     "name": "stdout",
     "output_type": "stream",
     "text": [
      "GAN: loss d: 1.93577    loss g: -2.71099\n"
     ]
    },
    {
     "name": "stderr",
     "output_type": "stream",
     "text": [
      " 25%|██▍       | 25000/100001 [53:35<2:12:42,  9.42it/s]"
     ]
    },
    {
     "name": "stdout",
     "output_type": "stream",
     "text": [
      "GAN: loss d: 1.60243    loss g: -1.75974\n",
      "saving current model\n"
     ]
    },
    {
     "name": "stderr",
     "output_type": "stream",
     "text": [
      "\n",
      "  0%|          | 0/175 [00:00<?, ?it/s]\u001b[A"
     ]
    },
    {
     "name": "stdout",
     "output_type": "stream",
     "text": [
      "Number of real images: 5626\n"
     ]
    },
    {
     "name": "stderr",
     "output_type": "stream",
     "text": [
      "\n",
      "\n",
      "  0%|          | 0/15 [00:00<?, ?it/s]\u001b[A\u001b[A"
     ]
    },
    {
     "name": "stdout",
     "output_type": "stream",
     "text": [
      "Number of synthetic images: 500\n"
     ]
    },
    {
     "name": "stderr",
     "output_type": "stream",
     "text": [
      " 25%|██▌       | 25001/100001 [53:55<128:12:07,  6.15s/it]"
     ]
    },
    {
     "name": "stdout",
     "output_type": "stream",
     "text": [
      "Current fid score: 1.2989564652328056\n",
      "Fid scores: [5.176135784826485, 2.49733748630797, 2.556800986640896, 2.551807388342233, 3.0005414208896823, 2.6693746896472135, 2.327712167642524, 2.753024418615748, 1.810803698247632, 1.882469618869699, 2.3049020902006205, 1.2671737770059046, 2.1210468891055463, 2.099174223550225, 2.916100690765896, 3.40813729288425, 3.245391894475338, 3.857025155346646, 3.9987907417992634, 1.1312376693415231, 1.2186857992723503, 1.8961604960656189, 1.639260863742642, 1.4429721571320542, 1.2975153110277695, 1.2989564652328056]\n"
     ]
    },
    {
     "name": "stderr",
     "output_type": "stream",
     "text": [
      "  0%|          | 0/175 [00:18<?, ?it/s]14:17,  9.30it/s]  \n",
      "  0%|          | 0/15 [00:09<?, ?it/s]\n",
      " 25%|██▌       | 25101/100001 [54:06<2:19:35,  8.94it/s]"
     ]
    },
    {
     "name": "stdout",
     "output_type": "stream",
     "text": [
      "GAN: loss d: 3.45235    loss g: -2.12247\n"
     ]
    },
    {
     "name": "stderr",
     "output_type": "stream",
     "text": [
      " 25%|██▌       | 25201/100001 [54:17<2:19:13,  8.95it/s]"
     ]
    },
    {
     "name": "stdout",
     "output_type": "stream",
     "text": [
      "GAN: loss d: 3.74464    loss g: -2.57905\n"
     ]
    },
    {
     "name": "stderr",
     "output_type": "stream",
     "text": [
      " 25%|██▌       | 25301/100001 [54:27<2:18:21,  9.00it/s]"
     ]
    },
    {
     "name": "stdout",
     "output_type": "stream",
     "text": [
      "GAN: loss d: 0.13876    loss g: -2.07909\n"
     ]
    },
    {
     "name": "stderr",
     "output_type": "stream",
     "text": [
      " 25%|██▌       | 25402/100001 [54:38<2:13:53,  9.29it/s]"
     ]
    },
    {
     "name": "stdout",
     "output_type": "stream",
     "text": [
      "GAN: loss d: 3.68124    loss g: -2.84696\n"
     ]
    },
    {
     "name": "stderr",
     "output_type": "stream",
     "text": [
      " 26%|██▌       | 25503/100001 [54:49<2:11:35,  9.44it/s]"
     ]
    },
    {
     "name": "stdout",
     "output_type": "stream",
     "text": [
      "GAN: loss d: 4.29740    loss g: -2.83352\n"
     ]
    },
    {
     "name": "stderr",
     "output_type": "stream",
     "text": [
      " 26%|██▌       | 25601/100001 [54:59<2:17:07,  9.04it/s]"
     ]
    },
    {
     "name": "stdout",
     "output_type": "stream",
     "text": [
      "GAN: loss d: 1.13260    loss g: -2.17830\n"
     ]
    },
    {
     "name": "stderr",
     "output_type": "stream",
     "text": [
      " 26%|██▌       | 25701/100001 [55:10<2:17:08,  9.03it/s]"
     ]
    },
    {
     "name": "stdout",
     "output_type": "stream",
     "text": [
      "GAN: loss d: 0.91503    loss g: -1.89814\n"
     ]
    },
    {
     "name": "stderr",
     "output_type": "stream",
     "text": [
      " 26%|██▌       | 25802/100001 [55:21<2:12:45,  9.31it/s]"
     ]
    },
    {
     "name": "stdout",
     "output_type": "stream",
     "text": [
      "GAN: loss d: 4.05736    loss g: -2.17285\n"
     ]
    },
    {
     "name": "stderr",
     "output_type": "stream",
     "text": [
      " 26%|██▌       | 25901/100001 [55:32<2:21:26,  8.73it/s]"
     ]
    },
    {
     "name": "stdout",
     "output_type": "stream",
     "text": [
      "GAN: loss d: 2.21819    loss g: -2.92202\n"
     ]
    },
    {
     "name": "stderr",
     "output_type": "stream",
     "text": [
      " 26%|██▌       | 26000/100001 [55:42<2:10:17,  9.47it/s]"
     ]
    },
    {
     "name": "stdout",
     "output_type": "stream",
     "text": [
      "GAN: loss d: 3.89458    loss g: -2.15148\n",
      "saving current model\n"
     ]
    },
    {
     "name": "stderr",
     "output_type": "stream",
     "text": [
      "\n",
      "  0%|          | 0/175 [00:00<?, ?it/s]\u001b[A"
     ]
    },
    {
     "name": "stdout",
     "output_type": "stream",
     "text": [
      "Number of real images: 5626\n"
     ]
    },
    {
     "name": "stderr",
     "output_type": "stream",
     "text": [
      "\n",
      "\n",
      "  0%|          | 0/15 [00:00<?, ?it/s]\u001b[A\u001b[A"
     ]
    },
    {
     "name": "stdout",
     "output_type": "stream",
     "text": [
      "Number of synthetic images: 500\n"
     ]
    },
    {
     "name": "stderr",
     "output_type": "stream",
     "text": [
      " 26%|██▌       | 26003/100001 [56:03<70:42:54,  3.44s/it] "
     ]
    },
    {
     "name": "stdout",
     "output_type": "stream",
     "text": [
      "Current fid score: 1.2159174147751202\n",
      "Fid scores: [5.176135784826485, 2.49733748630797, 2.556800986640896, 2.551807388342233, 3.0005414208896823, 2.6693746896472135, 2.327712167642524, 2.753024418615748, 1.810803698247632, 1.882469618869699, 2.3049020902006205, 1.2671737770059046, 2.1210468891055463, 2.099174223550225, 2.916100690765896, 3.40813729288425, 3.245391894475338, 3.857025155346646, 3.9987907417992634, 1.1312376693415231, 1.2186857992723503, 1.8961604960656189, 1.639260863742642, 1.4429721571320542, 1.2975153110277695, 1.2989564652328056, 1.2159174147751202]\n"
     ]
    },
    {
     "name": "stderr",
     "output_type": "stream",
     "text": [
      "  0%|          | 0/175 [00:14<?, ?it/s]13:11,  9.25it/s] \n",
      "  0%|          | 0/15 [00:06<?, ?it/s]\n",
      " 26%|██▌       | 26103/100001 [56:14<2:08:36,  9.58it/s]"
     ]
    },
    {
     "name": "stdout",
     "output_type": "stream",
     "text": [
      "GAN: loss d: 2.71256    loss g: -2.79520\n"
     ]
    },
    {
     "name": "stderr",
     "output_type": "stream",
     "text": [
      " 26%|██▌       | 26203/100001 [56:25<2:10:54,  9.40it/s]"
     ]
    },
    {
     "name": "stdout",
     "output_type": "stream",
     "text": [
      "GAN: loss d: 1.27134    loss g: -2.10994\n"
     ]
    },
    {
     "name": "stderr",
     "output_type": "stream",
     "text": [
      " 26%|██▋       | 26303/100001 [56:35<2:09:04,  9.52it/s]"
     ]
    },
    {
     "name": "stdout",
     "output_type": "stream",
     "text": [
      "GAN: loss d: 2.29178    loss g: -3.05065\n"
     ]
    },
    {
     "name": "stderr",
     "output_type": "stream",
     "text": [
      " 26%|██▋       | 26401/100001 [56:46<2:16:37,  8.98it/s]"
     ]
    },
    {
     "name": "stdout",
     "output_type": "stream",
     "text": [
      "GAN: loss d: 5.19303    loss g: -1.63155\n"
     ]
    },
    {
     "name": "stderr",
     "output_type": "stream",
     "text": [
      " 27%|██▋       | 26501/100001 [56:57<2:18:20,  8.85it/s]"
     ]
    },
    {
     "name": "stdout",
     "output_type": "stream",
     "text": [
      "GAN: loss d: 3.19279    loss g: -2.26323\n"
     ]
    },
    {
     "name": "stderr",
     "output_type": "stream",
     "text": [
      " 27%|██▋       | 26601/100001 [57:08<2:16:36,  8.96it/s]"
     ]
    },
    {
     "name": "stdout",
     "output_type": "stream",
     "text": [
      "GAN: loss d: 3.58396    loss g: -2.83120\n"
     ]
    },
    {
     "name": "stderr",
     "output_type": "stream",
     "text": [
      " 27%|██▋       | 26701/100001 [57:18<2:14:30,  9.08it/s]"
     ]
    },
    {
     "name": "stdout",
     "output_type": "stream",
     "text": [
      "GAN: loss d: 1.52783    loss g: -2.28431\n"
     ]
    },
    {
     "name": "stderr",
     "output_type": "stream",
     "text": [
      " 27%|██▋       | 26801/100001 [57:29<2:14:51,  9.05it/s]"
     ]
    },
    {
     "name": "stdout",
     "output_type": "stream",
     "text": [
      "GAN: loss d: 1.98439    loss g: -2.78152\n"
     ]
    },
    {
     "name": "stderr",
     "output_type": "stream",
     "text": [
      " 27%|██▋       | 26903/100001 [57:40<2:08:07,  9.51it/s]"
     ]
    },
    {
     "name": "stdout",
     "output_type": "stream",
     "text": [
      "GAN: loss d: 4.12571    loss g: -2.85075\n"
     ]
    },
    {
     "name": "stderr",
     "output_type": "stream",
     "text": [
      " 27%|██▋       | 27000/100001 [57:50<2:10:41,  9.31it/s]"
     ]
    },
    {
     "name": "stdout",
     "output_type": "stream",
     "text": [
      "GAN: loss d: 2.72105    loss g: -2.21888\n",
      "saving current model\n"
     ]
    },
    {
     "name": "stderr",
     "output_type": "stream",
     "text": [
      "\n",
      "  0%|          | 0/175 [00:00<?, ?it/s]\u001b[A"
     ]
    },
    {
     "name": "stdout",
     "output_type": "stream",
     "text": [
      "Number of real images: 5626\n"
     ]
    },
    {
     "name": "stderr",
     "output_type": "stream",
     "text": [
      "\n",
      "\n",
      "  0%|          | 0/15 [00:00<?, ?it/s]\u001b[A\u001b[A"
     ]
    },
    {
     "name": "stdout",
     "output_type": "stream",
     "text": [
      "Number of synthetic images: 500\n"
     ]
    },
    {
     "name": "stderr",
     "output_type": "stream",
     "text": [
      " 27%|██▋       | 27001/100001 [58:11<127:30:07,  6.29s/it]"
     ]
    },
    {
     "name": "stdout",
     "output_type": "stream",
     "text": [
      "Current fid score: 1.2886615711632565\n",
      "Fid scores: [5.176135784826485, 2.49733748630797, 2.556800986640896, 2.551807388342233, 3.0005414208896823, 2.6693746896472135, 2.327712167642524, 2.753024418615748, 1.810803698247632, 1.882469618869699, 2.3049020902006205, 1.2671737770059046, 2.1210468891055463, 2.099174223550225, 2.916100690765896, 3.40813729288425, 3.245391894475338, 3.857025155346646, 3.9987907417992634, 1.1312376693415231, 1.2186857992723503, 1.8961604960656189, 1.639260863742642, 1.4429721571320542, 1.2975153110277695, 1.2989564652328056, 1.2159174147751202, 1.2886615711632565]\n"
     ]
    },
    {
     "name": "stderr",
     "output_type": "stream",
     "text": [
      "  0%|          | 0/175 [00:10<?, ?it/s]16:09,  2.19it/s]  \n",
      "  0%|          | 0/15 [00:01<?, ?it/s]\n",
      " 27%|██▋       | 27101/100001 [58:22<2:18:37,  8.76it/s]"
     ]
    },
    {
     "name": "stdout",
     "output_type": "stream",
     "text": [
      "GAN: loss d: 0.95974    loss g: -1.76747\n"
     ]
    },
    {
     "name": "stderr",
     "output_type": "stream",
     "text": [
      " 27%|██▋       | 27203/100001 [58:33<2:08:07,  9.47it/s]"
     ]
    },
    {
     "name": "stdout",
     "output_type": "stream",
     "text": [
      "GAN: loss d: 3.12429    loss g: -3.20387\n"
     ]
    },
    {
     "name": "stderr",
     "output_type": "stream",
     "text": [
      " 27%|██▋       | 27301/100001 [58:43<2:16:47,  8.86it/s]"
     ]
    },
    {
     "name": "stdout",
     "output_type": "stream",
     "text": [
      "GAN: loss d: 2.44373    loss g: -2.44106\n"
     ]
    },
    {
     "name": "stderr",
     "output_type": "stream",
     "text": [
      " 27%|██▋       | 27403/100001 [58:54<2:07:24,  9.50it/s]"
     ]
    },
    {
     "name": "stdout",
     "output_type": "stream",
     "text": [
      "GAN: loss d: 3.44651    loss g: -2.03620\n"
     ]
    },
    {
     "name": "stderr",
     "output_type": "stream",
     "text": [
      " 28%|██▊       | 27501/100001 [59:05<2:14:25,  8.99it/s]"
     ]
    },
    {
     "name": "stdout",
     "output_type": "stream",
     "text": [
      "GAN: loss d: 3.76641    loss g: -2.30976\n"
     ]
    },
    {
     "name": "stderr",
     "output_type": "stream",
     "text": [
      " 28%|██▊       | 27601/100001 [59:15<2:15:26,  8.91it/s]"
     ]
    },
    {
     "name": "stdout",
     "output_type": "stream",
     "text": [
      "GAN: loss d: 2.61423    loss g: -2.39451\n"
     ]
    },
    {
     "name": "stderr",
     "output_type": "stream",
     "text": [
      " 28%|██▊       | 27701/100001 [59:26<2:27:41,  8.16it/s]"
     ]
    },
    {
     "name": "stdout",
     "output_type": "stream",
     "text": [
      "GAN: loss d: 3.89587    loss g: -1.77421\n"
     ]
    },
    {
     "name": "stderr",
     "output_type": "stream",
     "text": [
      " 28%|██▊       | 27801/100001 [59:37<2:11:59,  9.12it/s]"
     ]
    },
    {
     "name": "stdout",
     "output_type": "stream",
     "text": [
      "GAN: loss d: 3.11648    loss g: -2.68840\n"
     ]
    },
    {
     "name": "stderr",
     "output_type": "stream",
     "text": [
      " 28%|██▊       | 27903/100001 [59:48<2:05:38,  9.56it/s]"
     ]
    },
    {
     "name": "stdout",
     "output_type": "stream",
     "text": [
      "GAN: loss d: 1.18467    loss g: -2.02181\n"
     ]
    },
    {
     "name": "stderr",
     "output_type": "stream",
     "text": [
      " 28%|██▊       | 28000/100001 [59:58<2:08:44,  9.32it/s]"
     ]
    },
    {
     "name": "stdout",
     "output_type": "stream",
     "text": [
      "GAN: loss d: 1.96427    loss g: -2.09908\n",
      "saving current model\n"
     ]
    },
    {
     "name": "stderr",
     "output_type": "stream",
     "text": [
      "\n",
      "  0%|          | 0/175 [00:00<?, ?it/s]\u001b[A"
     ]
    },
    {
     "name": "stdout",
     "output_type": "stream",
     "text": [
      "Number of real images: 5626\n"
     ]
    },
    {
     "name": "stderr",
     "output_type": "stream",
     "text": [
      "\n",
      "\n",
      "  0%|          | 0/15 [00:00<?, ?it/s]\u001b[A\u001b[A"
     ]
    },
    {
     "name": "stdout",
     "output_type": "stream",
     "text": [
      "Number of synthetic images: 500\n"
     ]
    },
    {
     "name": "stderr",
     "output_type": "stream",
     "text": [
      " 28%|██▊       | 28001/100001 [1:00:19<124:19:24,  6.22s/it]"
     ]
    },
    {
     "name": "stdout",
     "output_type": "stream",
     "text": [
      "Current fid score: 1.2749489523852944\n",
      "Fid scores: [5.176135784826485, 2.49733748630797, 2.556800986640896, 2.551807388342233, 3.0005414208896823, 2.6693746896472135, 2.327712167642524, 2.753024418615748, 1.810803698247632, 1.882469618869699, 2.3049020902006205, 1.2671737770059046, 2.1210468891055463, 2.099174223550225, 2.916100690765896, 3.40813729288425, 3.245391894475338, 3.857025155346646, 3.9987907417992634, 1.1312376693415231, 1.2186857992723503, 1.8961604960656189, 1.639260863742642, 1.4429721571320542, 1.2975153110277695, 1.2989564652328056, 1.2159174147751202, 1.2886615711632565, 1.2749489523852944]\n"
     ]
    },
    {
     "name": "stderr",
     "output_type": "stream",
     "text": [
      "  0%|          | 0/175 [00:18<?, ?it/s]2:06:32,  9.47it/s]  \n",
      "  0%|          | 0/15 [00:10<?, ?it/s]\n",
      " 28%|██▊       | 28103/100001 [1:00:30<2:05:28,  9.55it/s]"
     ]
    },
    {
     "name": "stdout",
     "output_type": "stream",
     "text": [
      "GAN: loss d: 1.73564    loss g: -1.98340\n"
     ]
    },
    {
     "name": "stderr",
     "output_type": "stream",
     "text": [
      " 28%|██▊       | 28203/100001 [1:00:40<2:06:35,  9.45it/s]"
     ]
    },
    {
     "name": "stdout",
     "output_type": "stream",
     "text": [
      "GAN: loss d: 2.56904    loss g: -2.38352\n"
     ]
    },
    {
     "name": "stderr",
     "output_type": "stream",
     "text": [
      " 28%|██▊       | 28302/100001 [1:00:51<2:09:16,  9.24it/s]"
     ]
    },
    {
     "name": "stdout",
     "output_type": "stream",
     "text": [
      "GAN: loss d: 5.02028    loss g: -1.81232\n"
     ]
    },
    {
     "name": "stderr",
     "output_type": "stream",
     "text": [
      " 28%|██▊       | 28401/100001 [1:01:02<2:14:33,  8.87it/s]"
     ]
    },
    {
     "name": "stdout",
     "output_type": "stream",
     "text": [
      "GAN: loss d: 4.18046    loss g: -2.10351\n"
     ]
    },
    {
     "name": "stderr",
     "output_type": "stream",
     "text": [
      " 29%|██▊       | 28503/100001 [1:01:12<2:05:31,  9.49it/s]"
     ]
    },
    {
     "name": "stdout",
     "output_type": "stream",
     "text": [
      "GAN: loss d: 3.68481    loss g: -2.23556\n"
     ]
    },
    {
     "name": "stderr",
     "output_type": "stream",
     "text": [
      " 29%|██▊       | 28601/100001 [1:01:23<2:14:15,  8.86it/s]"
     ]
    },
    {
     "name": "stdout",
     "output_type": "stream",
     "text": [
      "GAN: loss d: -0.19069    loss g: -2.51049\n"
     ]
    },
    {
     "name": "stderr",
     "output_type": "stream",
     "text": [
      " 29%|██▊       | 28701/100001 [1:01:34<2:12:59,  8.94it/s]"
     ]
    },
    {
     "name": "stdout",
     "output_type": "stream",
     "text": [
      "GAN: loss d: 3.13924    loss g: -2.03631\n"
     ]
    },
    {
     "name": "stderr",
     "output_type": "stream",
     "text": [
      " 29%|██▉       | 28801/100001 [1:01:44<2:12:28,  8.96it/s]"
     ]
    },
    {
     "name": "stdout",
     "output_type": "stream",
     "text": [
      "GAN: loss d: 2.15556    loss g: -2.84636\n"
     ]
    },
    {
     "name": "stderr",
     "output_type": "stream",
     "text": [
      " 29%|██▉       | 28901/100001 [1:01:55<2:13:41,  8.86it/s]"
     ]
    },
    {
     "name": "stdout",
     "output_type": "stream",
     "text": [
      "GAN: loss d: 4.14733    loss g: -2.70363\n"
     ]
    },
    {
     "name": "stderr",
     "output_type": "stream",
     "text": [
      " 29%|██▉       | 29000/100001 [1:02:06<2:08:42,  9.19it/s]"
     ]
    },
    {
     "name": "stdout",
     "output_type": "stream",
     "text": [
      "GAN: loss d: 2.39837    loss g: -1.94153\n",
      "saving current model\n"
     ]
    },
    {
     "name": "stderr",
     "output_type": "stream",
     "text": [
      "\n",
      "  0%|          | 0/175 [00:00<?, ?it/s]\u001b[A"
     ]
    },
    {
     "name": "stdout",
     "output_type": "stream",
     "text": [
      "Number of real images: 5626\n"
     ]
    },
    {
     "name": "stderr",
     "output_type": "stream",
     "text": [
      "\n",
      "\n",
      "  0%|          | 0/15 [00:00<?, ?it/s]\u001b[A\u001b[A"
     ]
    },
    {
     "name": "stdout",
     "output_type": "stream",
     "text": [
      "Number of synthetic images: 500\n"
     ]
    },
    {
     "name": "stderr",
     "output_type": "stream",
     "text": [
      " 29%|██▉       | 29002/100001 [1:02:27<86:33:25,  4.39s/it] "
     ]
    },
    {
     "name": "stdout",
     "output_type": "stream",
     "text": [
      "Current fid score: 1.2123217476264827\n",
      "Fid scores: [5.176135784826485, 2.49733748630797, 2.556800986640896, 2.551807388342233, 3.0005414208896823, 2.6693746896472135, 2.327712167642524, 2.753024418615748, 1.810803698247632, 1.882469618869699, 2.3049020902006205, 1.2671737770059046, 2.1210468891055463, 2.099174223550225, 2.916100690765896, 3.40813729288425, 3.245391894475338, 3.857025155346646, 3.9987907417992634, 1.1312376693415231, 1.2186857992723503, 1.8961604960656189, 1.639260863742642, 1.4429721571320542, 1.2975153110277695, 1.2989564652328056, 1.2159174147751202, 1.2886615711632565, 1.2749489523852944, 1.2123217476264827]\n"
     ]
    },
    {
     "name": "stderr",
     "output_type": "stream",
     "text": [
      "  0%|          | 0/175 [00:15<?, ?it/s]2:08:51,  9.18it/s] \n",
      "  0%|          | 0/15 [00:06<?, ?it/s]\n",
      " 29%|██▉       | 29101/100001 [1:02:37<2:41:02,  7.34it/s]"
     ]
    },
    {
     "name": "stdout",
     "output_type": "stream",
     "text": [
      "GAN: loss d: 1.47099    loss g: -1.29682\n"
     ]
    },
    {
     "name": "stderr",
     "output_type": "stream",
     "text": [
      " 29%|██▉       | 29201/100001 [1:02:48<2:09:58,  9.08it/s]"
     ]
    },
    {
     "name": "stdout",
     "output_type": "stream",
     "text": [
      "GAN: loss d: 2.23740    loss g: -1.92286\n"
     ]
    },
    {
     "name": "stderr",
     "output_type": "stream",
     "text": [
      " 29%|██▉       | 29303/100001 [1:02:59<2:04:52,  9.44it/s]"
     ]
    },
    {
     "name": "stdout",
     "output_type": "stream",
     "text": [
      "GAN: loss d: 1.87929    loss g: -2.63089\n"
     ]
    },
    {
     "name": "stderr",
     "output_type": "stream",
     "text": [
      " 29%|██▉       | 29403/100001 [1:03:10<2:04:47,  9.43it/s]"
     ]
    },
    {
     "name": "stdout",
     "output_type": "stream",
     "text": [
      "GAN: loss d: 0.89747    loss g: -2.50660\n"
     ]
    },
    {
     "name": "stderr",
     "output_type": "stream",
     "text": [
      " 30%|██▉       | 29503/100001 [1:03:20<2:04:22,  9.45it/s]"
     ]
    },
    {
     "name": "stdout",
     "output_type": "stream",
     "text": [
      "GAN: loss d: 5.54838    loss g: -2.87938\n"
     ]
    },
    {
     "name": "stderr",
     "output_type": "stream",
     "text": [
      " 30%|██▉       | 29601/100001 [1:03:31<2:09:26,  9.07it/s]"
     ]
    },
    {
     "name": "stdout",
     "output_type": "stream",
     "text": [
      "GAN: loss d: 6.80956    loss g: -2.10076\n"
     ]
    },
    {
     "name": "stderr",
     "output_type": "stream",
     "text": [
      " 30%|██▉       | 29701/100001 [1:03:42<2:10:05,  9.01it/s]"
     ]
    },
    {
     "name": "stdout",
     "output_type": "stream",
     "text": [
      "GAN: loss d: 2.99198    loss g: -2.22147\n"
     ]
    },
    {
     "name": "stderr",
     "output_type": "stream",
     "text": [
      " 30%|██▉       | 29802/100001 [1:03:52<2:07:47,  9.16it/s]"
     ]
    },
    {
     "name": "stdout",
     "output_type": "stream",
     "text": [
      "GAN: loss d: 2.79000    loss g: -2.78578\n"
     ]
    },
    {
     "name": "stderr",
     "output_type": "stream",
     "text": [
      " 30%|██▉       | 29903/100001 [1:04:03<2:03:41,  9.44it/s]"
     ]
    },
    {
     "name": "stdout",
     "output_type": "stream",
     "text": [
      "GAN: loss d: 2.62641    loss g: -2.50512\n"
     ]
    },
    {
     "name": "stderr",
     "output_type": "stream",
     "text": [
      " 30%|██▉       | 30000/100001 [1:04:14<2:03:37,  9.44it/s]"
     ]
    },
    {
     "name": "stdout",
     "output_type": "stream",
     "text": [
      "GAN: loss d: 2.61140    loss g: -2.42912\n",
      "saving current model\n"
     ]
    },
    {
     "name": "stderr",
     "output_type": "stream",
     "text": [
      "\n",
      "  0%|          | 0/175 [00:00<?, ?it/s]\u001b[A"
     ]
    },
    {
     "name": "stdout",
     "output_type": "stream",
     "text": [
      "Number of real images: 5626\n"
     ]
    },
    {
     "name": "stderr",
     "output_type": "stream",
     "text": [
      "\n",
      "\n",
      "  0%|          | 0/15 [00:00<?, ?it/s]\u001b[A\u001b[A"
     ]
    },
    {
     "name": "stdout",
     "output_type": "stream",
     "text": [
      "Number of synthetic images: 500\n"
     ]
    },
    {
     "name": "stderr",
     "output_type": "stream",
     "text": [
      "  0%|          | 0/175 [00:09<?, ?it/s]\n",
      "  0%|          | 0/15 [00:00<?, ?it/s]"
     ]
    },
    {
     "name": "stdout",
     "output_type": "stream",
     "text": [
      "Current fid score: 1.130321950731723\n",
      "Fid scores: [5.176135784826485, 2.49733748630797, 2.556800986640896, 2.551807388342233, 3.0005414208896823, 2.6693746896472135, 2.327712167642524, 2.753024418615748, 1.810803698247632, 1.882469618869699, 2.3049020902006205, 1.2671737770059046, 2.1210468891055463, 2.099174223550225, 2.916100690765896, 3.40813729288425, 3.245391894475338, 3.857025155346646, 3.9987907417992634, 1.1312376693415231, 1.2186857992723503, 1.8961604960656189, 1.639260863742642, 1.4429721571320542, 1.2975153110277695, 1.2989564652328056, 1.2159174147751202, 1.2886615711632565, 1.2749489523852944, 1.2123217476264827, 1.130321950731723]\n",
      "New min fid score: 1.130321950732\n",
      "Saving best model\n"
     ]
    },
    {
     "name": "stderr",
     "output_type": "stream",
     "text": [
      "\n",
      " 30%|███       | 30103/100001 [1:04:49<2:03:59,  9.40it/s]  "
     ]
    },
    {
     "name": "stdout",
     "output_type": "stream",
     "text": [
      "GAN: loss d: 1.40670    loss g: -2.73839\n"
     ]
    },
    {
     "name": "stderr",
     "output_type": "stream",
     "text": [
      " 30%|███       | 30201/100001 [1:04:59<2:12:12,  8.80it/s]"
     ]
    },
    {
     "name": "stdout",
     "output_type": "stream",
     "text": [
      "GAN: loss d: 2.15168    loss g: -2.88846\n"
     ]
    },
    {
     "name": "stderr",
     "output_type": "stream",
     "text": [
      " 30%|███       | 30301/100001 [1:05:10<2:08:16,  9.06it/s]"
     ]
    },
    {
     "name": "stdout",
     "output_type": "stream",
     "text": [
      "GAN: loss d: 1.33416    loss g: -2.58053\n"
     ]
    },
    {
     "name": "stderr",
     "output_type": "stream",
     "text": [
      " 30%|███       | 30403/100001 [1:05:21<2:02:02,  9.50it/s]"
     ]
    },
    {
     "name": "stdout",
     "output_type": "stream",
     "text": [
      "GAN: loss d: 1.95185    loss g: -2.79546\n"
     ]
    },
    {
     "name": "stderr",
     "output_type": "stream",
     "text": [
      " 31%|███       | 30501/100001 [1:05:31<2:08:18,  9.03it/s]"
     ]
    },
    {
     "name": "stdout",
     "output_type": "stream",
     "text": [
      "GAN: loss d: 1.27453    loss g: -2.22568\n"
     ]
    },
    {
     "name": "stderr",
     "output_type": "stream",
     "text": [
      " 31%|███       | 30601/100001 [1:05:42<2:26:11,  7.91it/s]"
     ]
    },
    {
     "name": "stdout",
     "output_type": "stream",
     "text": [
      "GAN: loss d: 3.26121    loss g: -2.05087\n"
     ]
    },
    {
     "name": "stderr",
     "output_type": "stream",
     "text": [
      " 31%|███       | 30701/100001 [1:05:53<2:10:34,  8.85it/s]"
     ]
    },
    {
     "name": "stdout",
     "output_type": "stream",
     "text": [
      "GAN: loss d: 4.07519    loss g: -1.81825\n"
     ]
    },
    {
     "name": "stderr",
     "output_type": "stream",
     "text": [
      " 31%|███       | 30801/100001 [1:06:04<2:08:18,  8.99it/s]"
     ]
    },
    {
     "name": "stdout",
     "output_type": "stream",
     "text": [
      "GAN: loss d: 3.75257    loss g: -2.22104\n"
     ]
    },
    {
     "name": "stderr",
     "output_type": "stream",
     "text": [
      " 31%|███       | 30901/100001 [1:06:14<2:07:17,  9.05it/s]"
     ]
    },
    {
     "name": "stdout",
     "output_type": "stream",
     "text": [
      "GAN: loss d: 3.68142    loss g: -2.25612\n"
     ]
    },
    {
     "name": "stderr",
     "output_type": "stream",
     "text": [
      " 31%|███       | 31000/100001 [1:06:25<2:02:54,  9.36it/s]"
     ]
    },
    {
     "name": "stdout",
     "output_type": "stream",
     "text": [
      "GAN: loss d: 2.95035    loss g: -2.97842\n",
      "saving current model\n"
     ]
    },
    {
     "name": "stderr",
     "output_type": "stream",
     "text": [
      "\n",
      "  0%|          | 0/175 [00:00<?, ?it/s]\u001b[A"
     ]
    },
    {
     "name": "stdout",
     "output_type": "stream",
     "text": [
      "Number of real images: 5626\n"
     ]
    },
    {
     "name": "stderr",
     "output_type": "stream",
     "text": [
      "\n",
      "\n",
      "  0%|          | 0/15 [00:00<?, ?it/s]\u001b[A\u001b[A"
     ]
    },
    {
     "name": "stdout",
     "output_type": "stream",
     "text": [
      "Number of synthetic images: 500\n"
     ]
    },
    {
     "name": "stderr",
     "output_type": "stream",
     "text": [
      " 31%|███       | 31001/100001 [1:06:46<121:07:30,  6.32s/it]"
     ]
    },
    {
     "name": "stdout",
     "output_type": "stream",
     "text": [
      "Current fid score: 1.4349116027401223\n",
      "Fid scores: [5.176135784826485, 2.49733748630797, 2.556800986640896, 2.551807388342233, 3.0005414208896823, 2.6693746896472135, 2.327712167642524, 2.753024418615748, 1.810803698247632, 1.882469618869699, 2.3049020902006205, 1.2671737770059046, 2.1210468891055463, 2.099174223550225, 2.916100690765896, 3.40813729288425, 3.245391894475338, 3.857025155346646, 3.9987907417992634, 1.1312376693415231, 1.2186857992723503, 1.8961604960656189, 1.639260863742642, 1.4429721571320542, 1.2975153110277695, 1.2989564652328056, 1.2159174147751202, 1.2886615711632565, 1.2749489523852944, 1.2123217476264827, 1.130321950731723, 1.4349116027401223]\n"
     ]
    },
    {
     "name": "stderr",
     "output_type": "stream",
     "text": [
      "  0%|          | 0/175 [00:11<?, ?it/s]4:25:02,  4.34it/s]  \n",
      "  0%|          | 0/15 [00:02<?, ?it/s]\n",
      " 31%|███       | 31101/100001 [1:06:56<2:08:21,  8.95it/s]"
     ]
    },
    {
     "name": "stdout",
     "output_type": "stream",
     "text": [
      "GAN: loss d: 2.39179    loss g: -2.84863\n"
     ]
    },
    {
     "name": "stderr",
     "output_type": "stream",
     "text": [
      " 31%|███       | 31203/100001 [1:07:07<2:02:47,  9.34it/s]"
     ]
    },
    {
     "name": "stdout",
     "output_type": "stream",
     "text": [
      "GAN: loss d: 4.25685    loss g: -2.00111\n"
     ]
    },
    {
     "name": "stderr",
     "output_type": "stream",
     "text": [
      " 31%|███▏      | 31301/100001 [1:07:18<2:05:59,  9.09it/s]"
     ]
    },
    {
     "name": "stdout",
     "output_type": "stream",
     "text": [
      "GAN: loss d: 1.96123    loss g: -2.58307\n"
     ]
    },
    {
     "name": "stderr",
     "output_type": "stream",
     "text": [
      " 31%|███▏      | 31401/100001 [1:07:29<2:06:10,  9.06it/s]"
     ]
    },
    {
     "name": "stdout",
     "output_type": "stream",
     "text": [
      "GAN: loss d: 4.36330    loss g: -1.66933\n"
     ]
    },
    {
     "name": "stderr",
     "output_type": "stream",
     "text": [
      " 32%|███▏      | 31501/100001 [1:07:39<2:24:17,  7.91it/s]"
     ]
    },
    {
     "name": "stdout",
     "output_type": "stream",
     "text": [
      "GAN: loss d: 3.14028    loss g: -2.92728\n"
     ]
    },
    {
     "name": "stderr",
     "output_type": "stream",
     "text": [
      " 32%|███▏      | 31601/100001 [1:07:50<2:08:42,  8.86it/s]"
     ]
    },
    {
     "name": "stdout",
     "output_type": "stream",
     "text": [
      "GAN: loss d: 2.76506    loss g: -2.07594\n"
     ]
    },
    {
     "name": "stderr",
     "output_type": "stream",
     "text": [
      " 32%|███▏      | 31701/100001 [1:08:01<2:05:30,  9.07it/s]"
     ]
    },
    {
     "name": "stdout",
     "output_type": "stream",
     "text": [
      "GAN: loss d: 3.35929    loss g: -2.35831\n"
     ]
    },
    {
     "name": "stderr",
     "output_type": "stream",
     "text": [
      " 32%|███▏      | 31801/100001 [1:08:11<2:08:22,  8.85it/s]"
     ]
    },
    {
     "name": "stdout",
     "output_type": "stream",
     "text": [
      "GAN: loss d: 4.86485    loss g: -2.14937\n"
     ]
    },
    {
     "name": "stderr",
     "output_type": "stream",
     "text": [
      " 32%|███▏      | 31901/100001 [1:08:22<2:08:08,  8.86it/s]"
     ]
    },
    {
     "name": "stdout",
     "output_type": "stream",
     "text": [
      "GAN: loss d: 3.23592    loss g: -2.17605\n"
     ]
    },
    {
     "name": "stderr",
     "output_type": "stream",
     "text": [
      " 32%|███▏      | 32000/100001 [1:08:33<1:59:37,  9.47it/s]"
     ]
    },
    {
     "name": "stdout",
     "output_type": "stream",
     "text": [
      "GAN: loss d: 3.57385    loss g: -2.43948\n",
      "saving current model\n"
     ]
    },
    {
     "name": "stderr",
     "output_type": "stream",
     "text": [
      "\n",
      "  0%|          | 0/175 [00:00<?, ?it/s]\u001b[A"
     ]
    },
    {
     "name": "stdout",
     "output_type": "stream",
     "text": [
      "Number of real images: 5626\n"
     ]
    },
    {
     "name": "stderr",
     "output_type": "stream",
     "text": [
      "\n",
      "\n",
      "  0%|          | 0/15 [00:00<?, ?it/s]\u001b[A\u001b[A"
     ]
    },
    {
     "name": "stdout",
     "output_type": "stream",
     "text": [
      "Number of synthetic images: 500\n"
     ]
    },
    {
     "name": "stderr",
     "output_type": "stream",
     "text": [
      " 32%|███▏      | 32001/100001 [1:08:53<118:13:45,  6.26s/it]"
     ]
    },
    {
     "name": "stdout",
     "output_type": "stream",
     "text": [
      "Current fid score: 1.325705351921183\n",
      "Fid scores: [5.176135784826485, 2.49733748630797, 2.556800986640896, 2.551807388342233, 3.0005414208896823, 2.6693746896472135, 2.327712167642524, 2.753024418615748, 1.810803698247632, 1.882469618869699, 2.3049020902006205, 1.2671737770059046, 2.1210468891055463, 2.099174223550225, 2.916100690765896, 3.40813729288425, 3.245391894475338, 3.857025155346646, 3.9987907417992634, 1.1312376693415231, 1.2186857992723503, 1.8961604960656189, 1.639260863742642, 1.4429721571320542, 1.2975153110277695, 1.2989564652328056, 1.2159174147751202, 1.2886615711632565, 1.2749489523852944, 1.2123217476264827, 1.130321950731723, 1.4349116027401223, 1.325705351921183]\n"
     ]
    },
    {
     "name": "stderr",
     "output_type": "stream",
     "text": [
      "  0%|          | 0/175 [00:15<?, ?it/s]2:00:58,  9.36it/s]  \n",
      "  0%|          | 0/15 [00:06<?, ?it/s]\n",
      " 32%|███▏      | 32101/100001 [1:09:04<2:06:42,  8.93it/s]"
     ]
    },
    {
     "name": "stdout",
     "output_type": "stream",
     "text": [
      "GAN: loss d: 1.80884    loss g: -3.69273\n"
     ]
    },
    {
     "name": "stderr",
     "output_type": "stream",
     "text": [
      " 32%|███▏      | 32201/100001 [1:09:15<2:05:25,  9.01it/s]"
     ]
    },
    {
     "name": "stdout",
     "output_type": "stream",
     "text": [
      "GAN: loss d: 3.08745    loss g: -1.95818\n"
     ]
    },
    {
     "name": "stderr",
     "output_type": "stream",
     "text": [
      " 32%|███▏      | 32301/100001 [1:09:26<2:05:42,  8.98it/s]"
     ]
    },
    {
     "name": "stdout",
     "output_type": "stream",
     "text": [
      "GAN: loss d: 2.84547    loss g: -3.15857\n"
     ]
    },
    {
     "name": "stderr",
     "output_type": "stream",
     "text": [
      " 32%|███▏      | 32401/100001 [1:09:36<2:04:09,  9.07it/s]"
     ]
    },
    {
     "name": "stdout",
     "output_type": "stream",
     "text": [
      "GAN: loss d: 4.00894    loss g: -2.54075\n"
     ]
    },
    {
     "name": "stderr",
     "output_type": "stream",
     "text": [
      " 33%|███▎      | 32501/100001 [1:09:47<2:07:20,  8.83it/s]"
     ]
    },
    {
     "name": "stdout",
     "output_type": "stream",
     "text": [
      "GAN: loss d: 0.90929    loss g: -1.06744\n"
     ]
    },
    {
     "name": "stderr",
     "output_type": "stream",
     "text": [
      " 33%|███▎      | 32601/100001 [1:09:58<2:07:18,  8.82it/s]"
     ]
    },
    {
     "name": "stdout",
     "output_type": "stream",
     "text": [
      "GAN: loss d: 3.02684    loss g: -3.41579\n"
     ]
    },
    {
     "name": "stderr",
     "output_type": "stream",
     "text": [
      " 33%|███▎      | 32703/100001 [1:10:09<1:58:36,  9.46it/s]"
     ]
    },
    {
     "name": "stdout",
     "output_type": "stream",
     "text": [
      "GAN: loss d: 2.23591    loss g: -2.89765\n"
     ]
    },
    {
     "name": "stderr",
     "output_type": "stream",
     "text": [
      " 33%|███▎      | 32801/100001 [1:10:19<2:20:28,  7.97it/s]"
     ]
    },
    {
     "name": "stdout",
     "output_type": "stream",
     "text": [
      "GAN: loss d: 3.44731    loss g: -3.09531\n"
     ]
    },
    {
     "name": "stderr",
     "output_type": "stream",
     "text": [
      " 33%|███▎      | 32901/100001 [1:10:30<2:03:57,  9.02it/s]"
     ]
    },
    {
     "name": "stdout",
     "output_type": "stream",
     "text": [
      "GAN: loss d: 4.47242    loss g: -3.06953\n"
     ]
    },
    {
     "name": "stderr",
     "output_type": "stream",
     "text": [
      " 33%|███▎      | 33000/100001 [1:10:40<2:00:41,  9.25it/s]"
     ]
    },
    {
     "name": "stdout",
     "output_type": "stream",
     "text": [
      "GAN: loss d: 2.95791    loss g: -2.94978\n",
      "saving current model\n"
     ]
    },
    {
     "name": "stderr",
     "output_type": "stream",
     "text": [
      "\n",
      "  0%|          | 0/175 [00:00<?, ?it/s]\u001b[A"
     ]
    },
    {
     "name": "stdout",
     "output_type": "stream",
     "text": [
      "Number of real images: 5626\n"
     ]
    },
    {
     "name": "stderr",
     "output_type": "stream",
     "text": [
      "\n",
      "\n",
      "  0%|          | 0/15 [00:00<?, ?it/s]\u001b[A\u001b[A"
     ]
    },
    {
     "name": "stdout",
     "output_type": "stream",
     "text": [
      "Number of synthetic images: 500\n"
     ]
    },
    {
     "name": "stderr",
     "output_type": "stream",
     "text": [
      "  0%|          | 0/175 [00:09<?, ?it/s]\n",
      "  0%|          | 0/15 [00:00<?, ?it/s]"
     ]
    },
    {
     "name": "stdout",
     "output_type": "stream",
     "text": [
      "Current fid score: 0.9511910740117848\n",
      "Fid scores: [5.176135784826485, 2.49733748630797, 2.556800986640896, 2.551807388342233, 3.0005414208896823, 2.6693746896472135, 2.327712167642524, 2.753024418615748, 1.810803698247632, 1.882469618869699, 2.3049020902006205, 1.2671737770059046, 2.1210468891055463, 2.099174223550225, 2.916100690765896, 3.40813729288425, 3.245391894475338, 3.857025155346646, 3.9987907417992634, 1.1312376693415231, 1.2186857992723503, 1.8961604960656189, 1.639260863742642, 1.4429721571320542, 1.2975153110277695, 1.2989564652328056, 1.2159174147751202, 1.2886615711632565, 1.2749489523852944, 1.2123217476264827, 1.130321950731723, 1.4349116027401223, 1.325705351921183, 0.9511910740117848]\n",
      "New min fid score: 0.951191074012\n",
      "Saving best model\n"
     ]
    },
    {
     "name": "stderr",
     "output_type": "stream",
     "text": [
      "\n",
      " 33%|███▎      | 33103/100001 [1:11:15<1:56:28,  9.57it/s]  "
     ]
    },
    {
     "name": "stdout",
     "output_type": "stream",
     "text": [
      "GAN: loss d: 5.59190    loss g: -3.70155\n"
     ]
    },
    {
     "name": "stderr",
     "output_type": "stream",
     "text": [
      " 33%|███▎      | 33201/100001 [1:11:25<2:05:10,  8.89it/s]"
     ]
    },
    {
     "name": "stdout",
     "output_type": "stream",
     "text": [
      "GAN: loss d: 4.17839    loss g: -2.55436\n"
     ]
    },
    {
     "name": "stderr",
     "output_type": "stream",
     "text": [
      " 33%|███▎      | 33301/100001 [1:11:36<2:04:53,  8.90it/s]"
     ]
    },
    {
     "name": "stdout",
     "output_type": "stream",
     "text": [
      "GAN: loss d: 4.06380    loss g: -2.58891\n"
     ]
    },
    {
     "name": "stderr",
     "output_type": "stream",
     "text": [
      " 33%|███▎      | 33401/100001 [1:11:47<2:05:24,  8.85it/s]"
     ]
    },
    {
     "name": "stdout",
     "output_type": "stream",
     "text": [
      "GAN: loss d: 1.33318    loss g: -3.19754\n"
     ]
    },
    {
     "name": "stderr",
     "output_type": "stream",
     "text": [
      " 34%|███▎      | 33501/100001 [1:11:58<2:04:08,  8.93it/s]"
     ]
    },
    {
     "name": "stdout",
     "output_type": "stream",
     "text": [
      "GAN: loss d: 4.76498    loss g: -2.19241\n"
     ]
    },
    {
     "name": "stderr",
     "output_type": "stream",
     "text": [
      " 34%|███▎      | 33601/100001 [1:12:08<2:04:33,  8.88it/s]"
     ]
    },
    {
     "name": "stdout",
     "output_type": "stream",
     "text": [
      "GAN: loss d: 3.13209    loss g: -1.51678\n"
     ]
    },
    {
     "name": "stderr",
     "output_type": "stream",
     "text": [
      " 34%|███▎      | 33701/100001 [1:12:19<2:02:19,  9.03it/s]"
     ]
    },
    {
     "name": "stdout",
     "output_type": "stream",
     "text": [
      "GAN: loss d: 1.13333    loss g: -1.81482\n"
     ]
    },
    {
     "name": "stderr",
     "output_type": "stream",
     "text": [
      " 34%|███▍      | 33801/100001 [1:12:30<2:03:51,  8.91it/s]"
     ]
    },
    {
     "name": "stdout",
     "output_type": "stream",
     "text": [
      "GAN: loss d: 1.73873    loss g: -3.09144\n"
     ]
    },
    {
     "name": "stderr",
     "output_type": "stream",
     "text": [
      " 34%|███▍      | 33901/100001 [1:12:40<2:02:26,  9.00it/s]"
     ]
    },
    {
     "name": "stdout",
     "output_type": "stream",
     "text": [
      "GAN: loss d: 3.98081    loss g: -3.33288\n"
     ]
    },
    {
     "name": "stderr",
     "output_type": "stream",
     "text": [
      " 34%|███▍      | 34000/100001 [1:12:51<1:57:35,  9.35it/s]"
     ]
    },
    {
     "name": "stdout",
     "output_type": "stream",
     "text": [
      "GAN: loss d: 1.96160    loss g: -1.94719\n",
      "saving current model\n"
     ]
    },
    {
     "name": "stderr",
     "output_type": "stream",
     "text": [
      "\n",
      "  0%|          | 0/175 [00:00<?, ?it/s]\u001b[A"
     ]
    },
    {
     "name": "stdout",
     "output_type": "stream",
     "text": [
      "Number of real images: 5626\n"
     ]
    },
    {
     "name": "stderr",
     "output_type": "stream",
     "text": [
      "\n",
      "\n",
      "  0%|          | 0/15 [00:00<?, ?it/s]\u001b[A\u001b[A"
     ]
    },
    {
     "name": "stdout",
     "output_type": "stream",
     "text": [
      "Number of synthetic images: 500\n"
     ]
    },
    {
     "name": "stderr",
     "output_type": "stream",
     "text": [
      "  0%|          | 0/175 [00:09<?, ?it/s]\n",
      "  0%|          | 0/15 [00:00<?, ?it/s]"
     ]
    },
    {
     "name": "stdout",
     "output_type": "stream",
     "text": [
      "Current fid score: 0.7728854208281035\n",
      "Fid scores: [5.176135784826485, 2.49733748630797, 2.556800986640896, 2.551807388342233, 3.0005414208896823, 2.6693746896472135, 2.327712167642524, 2.753024418615748, 1.810803698247632, 1.882469618869699, 2.3049020902006205, 1.2671737770059046, 2.1210468891055463, 2.099174223550225, 2.916100690765896, 3.40813729288425, 3.245391894475338, 3.857025155346646, 3.9987907417992634, 1.1312376693415231, 1.2186857992723503, 1.8961604960656189, 1.639260863742642, 1.4429721571320542, 1.2975153110277695, 1.2989564652328056, 1.2159174147751202, 1.2886615711632565, 1.2749489523852944, 1.2123217476264827, 1.130321950731723, 1.4349116027401223, 1.325705351921183, 0.9511910740117848, 0.7728854208281035]\n",
      "New min fid score: 0.772885420828\n",
      "Saving best model\n"
     ]
    },
    {
     "name": "stderr",
     "output_type": "stream",
     "text": [
      "\n",
      " 34%|███▍      | 34101/100001 [1:13:25<2:02:58,  8.93it/s]  "
     ]
    },
    {
     "name": "stdout",
     "output_type": "stream",
     "text": [
      "GAN: loss d: 2.36890    loss g: -2.49633\n"
     ]
    },
    {
     "name": "stderr",
     "output_type": "stream",
     "text": [
      " 34%|███▍      | 34203/100001 [1:13:36<1:56:02,  9.45it/s]"
     ]
    },
    {
     "name": "stdout",
     "output_type": "stream",
     "text": [
      "GAN: loss d: 2.33596    loss g: -2.78800\n"
     ]
    },
    {
     "name": "stderr",
     "output_type": "stream",
     "text": [
      " 34%|███▍      | 34301/100001 [1:13:47<2:02:58,  8.90it/s]"
     ]
    },
    {
     "name": "stdout",
     "output_type": "stream",
     "text": [
      "GAN: loss d: 3.75240    loss g: -2.48212\n"
     ]
    },
    {
     "name": "stderr",
     "output_type": "stream",
     "text": [
      " 34%|███▍      | 34402/100001 [1:13:58<1:59:18,  9.16it/s]"
     ]
    },
    {
     "name": "stdout",
     "output_type": "stream",
     "text": [
      "GAN: loss d: 2.40970    loss g: -0.98836\n"
     ]
    },
    {
     "name": "stderr",
     "output_type": "stream",
     "text": [
      " 35%|███▍      | 34503/100001 [1:14:08<1:55:28,  9.45it/s]"
     ]
    },
    {
     "name": "stdout",
     "output_type": "stream",
     "text": [
      "GAN: loss d: 4.90311    loss g: -1.80231\n"
     ]
    },
    {
     "name": "stderr",
     "output_type": "stream",
     "text": [
      " 35%|███▍      | 34601/100001 [1:14:19<1:59:48,  9.10it/s]"
     ]
    },
    {
     "name": "stdout",
     "output_type": "stream",
     "text": [
      "GAN: loss d: 1.89550    loss g: -2.40188\n"
     ]
    },
    {
     "name": "stderr",
     "output_type": "stream",
     "text": [
      " 35%|███▍      | 34701/100001 [1:14:30<1:58:23,  9.19it/s]"
     ]
    },
    {
     "name": "stdout",
     "output_type": "stream",
     "text": [
      "GAN: loss d: 1.11557    loss g: -2.11834\n"
     ]
    },
    {
     "name": "stderr",
     "output_type": "stream",
     "text": [
      " 35%|███▍      | 34801/100001 [1:14:40<1:59:27,  9.10it/s]"
     ]
    },
    {
     "name": "stdout",
     "output_type": "stream",
     "text": [
      "GAN: loss d: 2.85246    loss g: -2.34572\n"
     ]
    },
    {
     "name": "stderr",
     "output_type": "stream",
     "text": [
      " 35%|███▍      | 34901/100001 [1:14:51<2:01:09,  8.95it/s]"
     ]
    },
    {
     "name": "stdout",
     "output_type": "stream",
     "text": [
      "GAN: loss d: 2.87441    loss g: -3.01760\n"
     ]
    },
    {
     "name": "stderr",
     "output_type": "stream",
     "text": [
      " 35%|███▍      | 35000/100001 [1:15:02<1:56:08,  9.33it/s]"
     ]
    },
    {
     "name": "stdout",
     "output_type": "stream",
     "text": [
      "GAN: loss d: 4.57511    loss g: -1.30817\n",
      "saving current model\n"
     ]
    },
    {
     "name": "stderr",
     "output_type": "stream",
     "text": [
      "\n",
      "  0%|          | 0/175 [00:00<?, ?it/s]\u001b[A"
     ]
    },
    {
     "name": "stdout",
     "output_type": "stream",
     "text": [
      "Number of real images: 5626\n"
     ]
    },
    {
     "name": "stderr",
     "output_type": "stream",
     "text": [
      "\n",
      "\n",
      "  0%|          | 0/15 [00:00<?, ?it/s]\u001b[A\u001b[A"
     ]
    },
    {
     "name": "stdout",
     "output_type": "stream",
     "text": [
      "Number of synthetic images: 500\n"
     ]
    },
    {
     "name": "stderr",
     "output_type": "stream",
     "text": [
      " 35%|███▌      | 35001/100001 [1:15:22<112:43:38,  6.24s/it]"
     ]
    },
    {
     "name": "stdout",
     "output_type": "stream",
     "text": [
      "Current fid score: 1.0974412373000142\n",
      "Fid scores: [5.176135784826485, 2.49733748630797, 2.556800986640896, 2.551807388342233, 3.0005414208896823, 2.6693746896472135, 2.327712167642524, 2.753024418615748, 1.810803698247632, 1.882469618869699, 2.3049020902006205, 1.2671737770059046, 2.1210468891055463, 2.099174223550225, 2.916100690765896, 3.40813729288425, 3.245391894475338, 3.857025155346646, 3.9987907417992634, 1.1312376693415231, 1.2186857992723503, 1.8961604960656189, 1.639260863742642, 1.4429721571320542, 1.2975153110277695, 1.2989564652328056, 1.2159174147751202, 1.2886615711632565, 1.2749489523852944, 1.2123217476264827, 1.130321950731723, 1.4349116027401223, 1.325705351921183, 0.9511910740117848, 0.7728854208281035, 1.0974412373000142]\n"
     ]
    },
    {
     "name": "stderr",
     "output_type": "stream",
     "text": [
      "  0%|          | 0/175 [00:18<?, ?it/s]1:55:07,  9.40it/s]  \n",
      "  0%|          | 0/15 [00:09<?, ?it/s]\n",
      " 35%|███▌      | 35101/100001 [1:15:33<2:01:45,  8.88it/s]"
     ]
    },
    {
     "name": "stdout",
     "output_type": "stream",
     "text": [
      "GAN: loss d: 5.47035    loss g: -2.50478\n"
     ]
    },
    {
     "name": "stderr",
     "output_type": "stream",
     "text": [
      " 35%|███▌      | 35201/100001 [1:15:44<2:01:24,  8.90it/s]"
     ]
    },
    {
     "name": "stdout",
     "output_type": "stream",
     "text": [
      "GAN: loss d: 2.95111    loss g: -2.42320\n"
     ]
    },
    {
     "name": "stderr",
     "output_type": "stream",
     "text": [
      " 35%|███▌      | 35301/100001 [1:15:55<1:58:57,  9.06it/s]"
     ]
    },
    {
     "name": "stdout",
     "output_type": "stream",
     "text": [
      "GAN: loss d: 4.27287    loss g: -2.75333\n"
     ]
    },
    {
     "name": "stderr",
     "output_type": "stream",
     "text": [
      " 35%|███▌      | 35401/100001 [1:16:05<1:58:23,  9.09it/s]"
     ]
    },
    {
     "name": "stdout",
     "output_type": "stream",
     "text": [
      "GAN: loss d: 2.91353    loss g: -3.38889\n"
     ]
    },
    {
     "name": "stderr",
     "output_type": "stream",
     "text": [
      " 36%|███▌      | 35501/100001 [1:16:16<1:58:10,  9.10it/s]"
     ]
    },
    {
     "name": "stdout",
     "output_type": "stream",
     "text": [
      "GAN: loss d: 4.05702    loss g: -2.97285\n"
     ]
    },
    {
     "name": "stderr",
     "output_type": "stream",
     "text": [
      " 36%|███▌      | 35603/100001 [1:16:27<1:54:18,  9.39it/s]"
     ]
    },
    {
     "name": "stdout",
     "output_type": "stream",
     "text": [
      "GAN: loss d: 1.75925    loss g: -2.36442\n"
     ]
    },
    {
     "name": "stderr",
     "output_type": "stream",
     "text": [
      " 36%|███▌      | 35703/100001 [1:16:38<1:52:26,  9.53it/s]"
     ]
    },
    {
     "name": "stdout",
     "output_type": "stream",
     "text": [
      "GAN: loss d: 0.20658    loss g: -1.95892\n"
     ]
    },
    {
     "name": "stderr",
     "output_type": "stream",
     "text": [
      " 36%|███▌      | 35801/100001 [1:16:48<1:58:31,  9.03it/s]"
     ]
    },
    {
     "name": "stdout",
     "output_type": "stream",
     "text": [
      "GAN: loss d: -0.17347    loss g: -1.38182\n"
     ]
    },
    {
     "name": "stderr",
     "output_type": "stream",
     "text": [
      " 36%|███▌      | 35901/100001 [1:16:59<1:57:14,  9.11it/s]"
     ]
    },
    {
     "name": "stdout",
     "output_type": "stream",
     "text": [
      "GAN: loss d: 1.53539    loss g: -2.39079\n"
     ]
    },
    {
     "name": "stderr",
     "output_type": "stream",
     "text": [
      " 36%|███▌      | 36000/100001 [1:17:10<1:54:12,  9.34it/s]"
     ]
    },
    {
     "name": "stdout",
     "output_type": "stream",
     "text": [
      "GAN: loss d: 4.56268    loss g: -2.33803\n",
      "saving current model\n"
     ]
    },
    {
     "name": "stderr",
     "output_type": "stream",
     "text": [
      "\n",
      "  0%|          | 0/175 [00:00<?, ?it/s]\u001b[A"
     ]
    },
    {
     "name": "stdout",
     "output_type": "stream",
     "text": [
      "Number of real images: 5626\n"
     ]
    },
    {
     "name": "stderr",
     "output_type": "stream",
     "text": [
      "\n",
      "\n",
      "  0%|          | 0/15 [00:00<?, ?it/s]\u001b[A\u001b[A"
     ]
    },
    {
     "name": "stdout",
     "output_type": "stream",
     "text": [
      "Number of synthetic images: 500\n"
     ]
    },
    {
     "name": "stderr",
     "output_type": "stream",
     "text": [
      " 36%|███▌      | 36001/100001 [1:17:30<110:07:26,  6.19s/it]"
     ]
    },
    {
     "name": "stdout",
     "output_type": "stream",
     "text": [
      "Current fid score: 1.3230233049879843\n",
      "Fid scores: [5.176135784826485, 2.49733748630797, 2.556800986640896, 2.551807388342233, 3.0005414208896823, 2.6693746896472135, 2.327712167642524, 2.753024418615748, 1.810803698247632, 1.882469618869699, 2.3049020902006205, 1.2671737770059046, 2.1210468891055463, 2.099174223550225, 2.916100690765896, 3.40813729288425, 3.245391894475338, 3.857025155346646, 3.9987907417992634, 1.1312376693415231, 1.2186857992723503, 1.8961604960656189, 1.639260863742642, 1.4429721571320542, 1.2975153110277695, 1.2989564652328056, 1.2159174147751202, 1.2886615711632565, 1.2749489523852944, 1.2123217476264827, 1.130321950731723, 1.4349116027401223, 1.325705351921183, 0.9511910740117848, 0.7728854208281035, 1.0974412373000142, 1.3230233049879843]\n"
     ]
    },
    {
     "name": "stderr",
     "output_type": "stream",
     "text": [
      "  0%|          | 0/175 [00:14<?, ?it/s]1:54:47,  9.29it/s]  \n",
      "  0%|          | 0/15 [00:06<?, ?it/s]\n",
      " 36%|███▌      | 36101/100001 [1:17:41<1:58:38,  8.98it/s]"
     ]
    },
    {
     "name": "stdout",
     "output_type": "stream",
     "text": [
      "GAN: loss d: 4.11232    loss g: -1.44746\n"
     ]
    },
    {
     "name": "stderr",
     "output_type": "stream",
     "text": [
      " 36%|███▌      | 36202/100001 [1:17:51<1:55:38,  9.19it/s]"
     ]
    },
    {
     "name": "stdout",
     "output_type": "stream",
     "text": [
      "GAN: loss d: 3.52088    loss g: -2.18567\n"
     ]
    },
    {
     "name": "stderr",
     "output_type": "stream",
     "text": [
      " 36%|███▋      | 36301/100001 [1:18:02<1:59:03,  8.92it/s]"
     ]
    },
    {
     "name": "stdout",
     "output_type": "stream",
     "text": [
      "GAN: loss d: 2.46820    loss g: -3.09872\n"
     ]
    },
    {
     "name": "stderr",
     "output_type": "stream",
     "text": [
      " 36%|███▋      | 36401/100001 [1:18:13<1:56:55,  9.07it/s]"
     ]
    },
    {
     "name": "stdout",
     "output_type": "stream",
     "text": [
      "GAN: loss d: 5.57011    loss g: -2.29135\n"
     ]
    },
    {
     "name": "stderr",
     "output_type": "stream",
     "text": [
      " 37%|███▋      | 36501/100001 [1:18:23<1:59:03,  8.89it/s]"
     ]
    },
    {
     "name": "stdout",
     "output_type": "stream",
     "text": [
      "GAN: loss d: 3.87489    loss g: -2.34320\n"
     ]
    },
    {
     "name": "stderr",
     "output_type": "stream",
     "text": [
      " 37%|███▋      | 36601/100001 [1:18:34<1:56:06,  9.10it/s]"
     ]
    },
    {
     "name": "stdout",
     "output_type": "stream",
     "text": [
      "GAN: loss d: 4.13461    loss g: -3.26709\n"
     ]
    },
    {
     "name": "stderr",
     "output_type": "stream",
     "text": [
      " 37%|███▋      | 36703/100001 [1:18:45<1:50:14,  9.57it/s]"
     ]
    },
    {
     "name": "stdout",
     "output_type": "stream",
     "text": [
      "GAN: loss d: 3.49585    loss g: -2.42989\n"
     ]
    },
    {
     "name": "stderr",
     "output_type": "stream",
     "text": [
      " 37%|███▋      | 36801/100001 [1:18:56<1:57:45,  8.94it/s]"
     ]
    },
    {
     "name": "stdout",
     "output_type": "stream",
     "text": [
      "GAN: loss d: 2.12336    loss g: -1.45621\n"
     ]
    },
    {
     "name": "stderr",
     "output_type": "stream",
     "text": [
      " 37%|███▋      | 36901/100001 [1:19:06<2:01:37,  8.65it/s]"
     ]
    },
    {
     "name": "stdout",
     "output_type": "stream",
     "text": [
      "GAN: loss d: 2.25379    loss g: -1.95987\n"
     ]
    },
    {
     "name": "stderr",
     "output_type": "stream",
     "text": [
      " 37%|███▋      | 37000/100001 [1:19:17<1:50:51,  9.47it/s]"
     ]
    },
    {
     "name": "stdout",
     "output_type": "stream",
     "text": [
      "GAN: loss d: 3.64840    loss g: -2.04637\n",
      "saving current model\n"
     ]
    },
    {
     "name": "stderr",
     "output_type": "stream",
     "text": [
      "\n",
      "  0%|          | 0/175 [00:00<?, ?it/s]\u001b[A"
     ]
    },
    {
     "name": "stdout",
     "output_type": "stream",
     "text": [
      "Number of real images: 5626\n"
     ]
    },
    {
     "name": "stderr",
     "output_type": "stream",
     "text": [
      "\n",
      "\n",
      "  0%|          | 0/15 [00:00<?, ?it/s]\u001b[A\u001b[A"
     ]
    },
    {
     "name": "stdout",
     "output_type": "stream",
     "text": [
      "Number of synthetic images: 500\n"
     ]
    },
    {
     "name": "stderr",
     "output_type": "stream",
     "text": [
      "  0%|          | 0/175 [00:08<?, ?it/s]\n",
      "  0%|          | 0/175 [00:09<?, ?it/s]110:50:36,  6.33s/it]\n",
      "  0%|          | 0/15 [00:00<?, ?it/s]\n",
      " 37%|███▋      | 37002/100001 [1:19:38<78:07:11,  4.46s/it] "
     ]
    },
    {
     "name": "stdout",
     "output_type": "stream",
     "text": [
      "Current fid score: 1.456390242262266\n",
      "Fid scores: [5.176135784826485, 2.49733748630797, 2.556800986640896, 2.551807388342233, 3.0005414208896823, 2.6693746896472135, 2.327712167642524, 2.753024418615748, 1.810803698247632, 1.882469618869699, 2.3049020902006205, 1.2671737770059046, 2.1210468891055463, 2.099174223550225, 2.916100690765896, 3.40813729288425, 3.245391894475338, 3.857025155346646, 3.9987907417992634, 1.1312376693415231, 1.2186857992723503, 1.8961604960656189, 1.639260863742642, 1.4429721571320542, 1.2975153110277695, 1.2989564652328056, 1.2159174147751202, 1.2886615711632565, 1.2749489523852944, 1.2123217476264827, 1.130321950731723, 1.4349116027401223, 1.325705351921183, 0.9511910740117848, 0.7728854208281035, 1.0974412373000142, 1.3230233049879843, 1.456390242262266]\n"
     ]
    },
    {
     "name": "stderr",
     "output_type": "stream",
     "text": [
      " 37%|███▋      | 37101/100001 [1:19:49<1:54:35,  9.15it/s] "
     ]
    },
    {
     "name": "stdout",
     "output_type": "stream",
     "text": [
      "GAN: loss d: 3.18380    loss g: -2.51092\n"
     ]
    },
    {
     "name": "stderr",
     "output_type": "stream",
     "text": [
      " 37%|███▋      | 37201/100001 [1:19:59<1:57:59,  8.87it/s]"
     ]
    },
    {
     "name": "stdout",
     "output_type": "stream",
     "text": [
      "GAN: loss d: 4.35062    loss g: -1.75619\n"
     ]
    },
    {
     "name": "stderr",
     "output_type": "stream",
     "text": [
      " 37%|███▋      | 37301/100001 [1:20:10<1:55:17,  9.06it/s]"
     ]
    },
    {
     "name": "stdout",
     "output_type": "stream",
     "text": [
      "GAN: loss d: 4.03710    loss g: -2.37500\n"
     ]
    },
    {
     "name": "stderr",
     "output_type": "stream",
     "text": [
      " 37%|███▋      | 37403/100001 [1:20:21<1:48:52,  9.58it/s]"
     ]
    },
    {
     "name": "stdout",
     "output_type": "stream",
     "text": [
      "GAN: loss d: 4.18598    loss g: -2.63401\n"
     ]
    },
    {
     "name": "stderr",
     "output_type": "stream",
     "text": [
      " 38%|███▊      | 37502/100001 [1:20:32<1:53:01,  9.22it/s]"
     ]
    },
    {
     "name": "stdout",
     "output_type": "stream",
     "text": [
      "GAN: loss d: 3.29498    loss g: -1.84121\n"
     ]
    },
    {
     "name": "stderr",
     "output_type": "stream",
     "text": [
      " 38%|███▊      | 37601/100001 [1:20:42<1:55:18,  9.02it/s]"
     ]
    },
    {
     "name": "stdout",
     "output_type": "stream",
     "text": [
      "GAN: loss d: 2.75899    loss g: -1.91898\n"
     ]
    },
    {
     "name": "stderr",
     "output_type": "stream",
     "text": [
      " 38%|███▊      | 37701/100001 [1:20:53<1:56:36,  8.90it/s]"
     ]
    },
    {
     "name": "stdout",
     "output_type": "stream",
     "text": [
      "GAN: loss d: 0.59873    loss g: -1.22267\n"
     ]
    },
    {
     "name": "stderr",
     "output_type": "stream",
     "text": [
      " 38%|███▊      | 37801/100001 [1:21:04<1:56:00,  8.94it/s]"
     ]
    },
    {
     "name": "stdout",
     "output_type": "stream",
     "text": [
      "GAN: loss d: 4.34223    loss g: -2.34735\n"
     ]
    },
    {
     "name": "stderr",
     "output_type": "stream",
     "text": [
      " 38%|███▊      | 37901/100001 [1:21:14<2:11:52,  7.85it/s]"
     ]
    },
    {
     "name": "stdout",
     "output_type": "stream",
     "text": [
      "GAN: loss d: 2.52513    loss g: -2.10037\n"
     ]
    },
    {
     "name": "stderr",
     "output_type": "stream",
     "text": [
      " 38%|███▊      | 38000/100001 [1:21:25<1:48:49,  9.50it/s]"
     ]
    },
    {
     "name": "stdout",
     "output_type": "stream",
     "text": [
      "GAN: loss d: 4.61041    loss g: -2.24688\n",
      "saving current model\n"
     ]
    },
    {
     "name": "stderr",
     "output_type": "stream",
     "text": [
      "\n",
      "  0%|          | 0/175 [00:00<?, ?it/s]\u001b[A"
     ]
    },
    {
     "name": "stdout",
     "output_type": "stream",
     "text": [
      "Number of real images: 5626\n"
     ]
    },
    {
     "name": "stderr",
     "output_type": "stream",
     "text": [
      "\n",
      "\n",
      "  0%|          | 0/15 [00:00<?, ?it/s]\u001b[A\u001b[A"
     ]
    },
    {
     "name": "stdout",
     "output_type": "stream",
     "text": [
      "Number of synthetic images: 500\n"
     ]
    },
    {
     "name": "stderr",
     "output_type": "stream",
     "text": [
      " 38%|███▊      | 38001/100001 [1:21:46<107:43:14,  6.25s/it]"
     ]
    },
    {
     "name": "stdout",
     "output_type": "stream",
     "text": [
      "Current fid score: 0.9723678173420041\n",
      "Fid scores: [5.176135784826485, 2.49733748630797, 2.556800986640896, 2.551807388342233, 3.0005414208896823, 2.6693746896472135, 2.327712167642524, 2.753024418615748, 1.810803698247632, 1.882469618869699, 2.3049020902006205, 1.2671737770059046, 2.1210468891055463, 2.099174223550225, 2.916100690765896, 3.40813729288425, 3.245391894475338, 3.857025155346646, 3.9987907417992634, 1.1312376693415231, 1.2186857992723503, 1.8961604960656189, 1.639260863742642, 1.4429721571320542, 1.2975153110277695, 1.2989564652328056, 1.2159174147751202, 1.2886615711632565, 1.2749489523852944, 1.2123217476264827, 1.130321950731723, 1.4349116027401223, 1.325705351921183, 0.9511910740117848, 0.7728854208281035, 1.0974412373000142, 1.3230233049879843, 1.456390242262266, 0.9723678173420041]\n"
     ]
    },
    {
     "name": "stderr",
     "output_type": "stream",
     "text": [
      "  0%|          | 0/175 [00:19<?, ?it/s]1:50:10,  9.37it/s]  \n",
      "  0%|          | 0/15 [00:10<?, ?it/s]\n",
      " 38%|███▊      | 38102/100001 [1:21:56<1:53:56,  9.05it/s]"
     ]
    },
    {
     "name": "stdout",
     "output_type": "stream",
     "text": [
      "GAN: loss d: 2.77352    loss g: -3.38990\n"
     ]
    },
    {
     "name": "stderr",
     "output_type": "stream",
     "text": [
      " 38%|███▊      | 38201/100001 [1:22:07<1:54:41,  8.98it/s]"
     ]
    },
    {
     "name": "stdout",
     "output_type": "stream",
     "text": [
      "GAN: loss d: 3.08987    loss g: -2.69621\n"
     ]
    },
    {
     "name": "stderr",
     "output_type": "stream",
     "text": [
      " 38%|███▊      | 38301/100001 [1:22:18<1:53:14,  9.08it/s]"
     ]
    },
    {
     "name": "stdout",
     "output_type": "stream",
     "text": [
      "GAN: loss d: 4.52371    loss g: -1.62563\n"
     ]
    },
    {
     "name": "stderr",
     "output_type": "stream",
     "text": [
      " 38%|███▊      | 38401/100001 [1:22:29<1:52:48,  9.10it/s]"
     ]
    },
    {
     "name": "stdout",
     "output_type": "stream",
     "text": [
      "GAN: loss d: 2.00665    loss g: -1.82639\n"
     ]
    },
    {
     "name": "stderr",
     "output_type": "stream",
     "text": [
      " 39%|███▊      | 38501/100001 [1:22:39<2:11:20,  7.80it/s]"
     ]
    },
    {
     "name": "stdout",
     "output_type": "stream",
     "text": [
      "GAN: loss d: 2.76003    loss g: -2.68485\n"
     ]
    },
    {
     "name": "stderr",
     "output_type": "stream",
     "text": [
      " 39%|███▊      | 38603/100001 [1:22:50<1:47:27,  9.52it/s]"
     ]
    },
    {
     "name": "stdout",
     "output_type": "stream",
     "text": [
      "GAN: loss d: 5.91126    loss g: -3.24951\n"
     ]
    },
    {
     "name": "stderr",
     "output_type": "stream",
     "text": [
      " 39%|███▊      | 38703/100001 [1:23:01<1:47:38,  9.49it/s]"
     ]
    },
    {
     "name": "stdout",
     "output_type": "stream",
     "text": [
      "GAN: loss d: 3.16201    loss g: -1.75735\n"
     ]
    },
    {
     "name": "stderr",
     "output_type": "stream",
     "text": [
      " 39%|███▉      | 38801/100001 [1:23:11<1:54:01,  8.94it/s]"
     ]
    },
    {
     "name": "stdout",
     "output_type": "stream",
     "text": [
      "GAN: loss d: 1.78377    loss g: -3.04607\n"
     ]
    },
    {
     "name": "stderr",
     "output_type": "stream",
     "text": [
      " 39%|███▉      | 38901/100001 [1:23:22<1:57:12,  8.69it/s]"
     ]
    },
    {
     "name": "stdout",
     "output_type": "stream",
     "text": [
      "GAN: loss d: -0.01968    loss g: -2.37709\n"
     ]
    },
    {
     "name": "stderr",
     "output_type": "stream",
     "text": [
      " 39%|███▉      | 39000/100001 [1:23:33<1:48:10,  9.40it/s]"
     ]
    },
    {
     "name": "stdout",
     "output_type": "stream",
     "text": [
      "GAN: loss d: 2.62489    loss g: -3.31103\n",
      "saving current model\n"
     ]
    },
    {
     "name": "stderr",
     "output_type": "stream",
     "text": [
      "\n",
      "  0%|          | 0/175 [00:00<?, ?it/s]\u001b[A"
     ]
    },
    {
     "name": "stdout",
     "output_type": "stream",
     "text": [
      "Number of real images: 5626\n"
     ]
    },
    {
     "name": "stderr",
     "output_type": "stream",
     "text": [
      "\n",
      "\n",
      "  0%|          | 0/15 [00:00<?, ?it/s]\u001b[A\u001b[A"
     ]
    },
    {
     "name": "stdout",
     "output_type": "stream",
     "text": [
      "Number of synthetic images: 500\n"
     ]
    },
    {
     "name": "stderr",
     "output_type": "stream",
     "text": [
      " 39%|███▉      | 39001/100001 [1:23:53<105:37:21,  6.23s/it]"
     ]
    },
    {
     "name": "stdout",
     "output_type": "stream",
     "text": [
      "Current fid score: 1.0042308899555294\n",
      "Fid scores: [5.176135784826485, 2.49733748630797, 2.556800986640896, 2.551807388342233, 3.0005414208896823, 2.6693746896472135, 2.327712167642524, 2.753024418615748, 1.810803698247632, 1.882469618869699, 2.3049020902006205, 1.2671737770059046, 2.1210468891055463, 2.099174223550225, 2.916100690765896, 3.40813729288425, 3.245391894475338, 3.857025155346646, 3.9987907417992634, 1.1312376693415231, 1.2186857992723503, 1.8961604960656189, 1.639260863742642, 1.4429721571320542, 1.2975153110277695, 1.2989564652328056, 1.2159174147751202, 1.2886615711632565, 1.2749489523852944, 1.2123217476264827, 1.130321950731723, 1.4349116027401223, 1.325705351921183, 0.9511910740117848, 0.7728854208281035, 1.0974412373000142, 1.3230233049879843, 1.456390242262266, 0.9723678173420041, 1.0042308899555294]\n"
     ]
    },
    {
     "name": "stderr",
     "output_type": "stream",
     "text": [
      "  0%|          | 0/175 [00:15<?, ?it/s]1:49:11,  9.30it/s]  \n",
      "  0%|          | 0/15 [00:06<?, ?it/s]\n",
      " 39%|███▉      | 39101/100001 [1:24:04<1:53:49,  8.92it/s]"
     ]
    },
    {
     "name": "stdout",
     "output_type": "stream",
     "text": [
      "GAN: loss d: 1.58980    loss g: -1.96097\n"
     ]
    },
    {
     "name": "stderr",
     "output_type": "stream",
     "text": [
      " 39%|███▉      | 39201/100001 [1:24:15<1:53:05,  8.96it/s]"
     ]
    },
    {
     "name": "stdout",
     "output_type": "stream",
     "text": [
      "GAN: loss d: 2.41812    loss g: -2.39229\n"
     ]
    },
    {
     "name": "stderr",
     "output_type": "stream",
     "text": [
      " 39%|███▉      | 39301/100001 [1:24:26<1:53:37,  8.90it/s]"
     ]
    },
    {
     "name": "stdout",
     "output_type": "stream",
     "text": [
      "GAN: loss d: 1.73850    loss g: -3.17924\n"
     ]
    },
    {
     "name": "stderr",
     "output_type": "stream",
     "text": [
      " 39%|███▉      | 39401/100001 [1:24:36<1:55:28,  8.75it/s]"
     ]
    },
    {
     "name": "stdout",
     "output_type": "stream",
     "text": [
      "GAN: loss d: 2.26569    loss g: -2.43138\n"
     ]
    },
    {
     "name": "stderr",
     "output_type": "stream",
     "text": [
      " 40%|███▉      | 39501/100001 [1:24:47<1:53:45,  8.86it/s]"
     ]
    },
    {
     "name": "stdout",
     "output_type": "stream",
     "text": [
      "GAN: loss d: 2.50351    loss g: -2.67809\n"
     ]
    },
    {
     "name": "stderr",
     "output_type": "stream",
     "text": [
      " 40%|███▉      | 39603/100001 [1:24:58<1:46:35,  9.44it/s]"
     ]
    },
    {
     "name": "stdout",
     "output_type": "stream",
     "text": [
      "GAN: loss d: 2.45587    loss g: -2.89553\n"
     ]
    },
    {
     "name": "stderr",
     "output_type": "stream",
     "text": [
      " 40%|███▉      | 39701/100001 [1:25:09<1:50:36,  9.09it/s]"
     ]
    },
    {
     "name": "stdout",
     "output_type": "stream",
     "text": [
      "GAN: loss d: 1.66840    loss g: -2.90426\n"
     ]
    },
    {
     "name": "stderr",
     "output_type": "stream",
     "text": [
      " 40%|███▉      | 39803/100001 [1:25:20<1:45:00,  9.56it/s]"
     ]
    },
    {
     "name": "stdout",
     "output_type": "stream",
     "text": [
      "GAN: loss d: 5.29681    loss g: -2.15848\n"
     ]
    },
    {
     "name": "stderr",
     "output_type": "stream",
     "text": [
      " 40%|███▉      | 39903/100001 [1:25:30<1:46:50,  9.38it/s]"
     ]
    },
    {
     "name": "stdout",
     "output_type": "stream",
     "text": [
      "GAN: loss d: 2.05782    loss g: -2.83237\n"
     ]
    },
    {
     "name": "stderr",
     "output_type": "stream",
     "text": [
      " 40%|███▉      | 40000/100001 [1:25:41<1:46:58,  9.35it/s]"
     ]
    },
    {
     "name": "stdout",
     "output_type": "stream",
     "text": [
      "GAN: loss d: 4.45999    loss g: -2.21349\n",
      "saving current model\n"
     ]
    },
    {
     "name": "stderr",
     "output_type": "stream",
     "text": [
      "\n",
      "  0%|          | 0/175 [00:00<?, ?it/s]\u001b[A"
     ]
    },
    {
     "name": "stdout",
     "output_type": "stream",
     "text": [
      "Number of real images: 5626\n"
     ]
    },
    {
     "name": "stderr",
     "output_type": "stream",
     "text": [
      "\n",
      "\n",
      "  0%|          | 0/15 [00:00<?, ?it/s]\u001b[A\u001b[A"
     ]
    },
    {
     "name": "stdout",
     "output_type": "stream",
     "text": [
      "Number of synthetic images: 500\n"
     ]
    },
    {
     "name": "stderr",
     "output_type": "stream",
     "text": [
      " 40%|████      | 40002/100001 [1:26:01<73:20:11,  4.40s/it] "
     ]
    },
    {
     "name": "stdout",
     "output_type": "stream",
     "text": [
      "Current fid score: 1.147213070903458\n",
      "Fid scores: [5.176135784826485, 2.49733748630797, 2.556800986640896, 2.551807388342233, 3.0005414208896823, 2.6693746896472135, 2.327712167642524, 2.753024418615748, 1.810803698247632, 1.882469618869699, 2.3049020902006205, 1.2671737770059046, 2.1210468891055463, 2.099174223550225, 2.916100690765896, 3.40813729288425, 3.245391894475338, 3.857025155346646, 3.9987907417992634, 1.1312376693415231, 1.2186857992723503, 1.8961604960656189, 1.639260863742642, 1.4429721571320542, 1.2975153110277695, 1.2989564652328056, 1.2159174147751202, 1.2886615711632565, 1.2749489523852944, 1.2123217476264827, 1.130321950731723, 1.4349116027401223, 1.325705351921183, 0.9511910740117848, 0.7728854208281035, 1.0974412373000142, 1.3230233049879843, 1.456390242262266, 0.9723678173420041, 1.0042308899555294, 1.147213070903458]\n"
     ]
    },
    {
     "name": "stderr",
     "output_type": "stream",
     "text": [
      "  0%|          | 0/175 [00:10<?, ?it/s]10:11:11,  1.64it/s]\n",
      "  0%|          | 0/15 [00:01<?, ?it/s]\n",
      " 40%|████      | 40101/100001 [1:26:12<1:51:11,  8.98it/s] "
     ]
    },
    {
     "name": "stdout",
     "output_type": "stream",
     "text": [
      "GAN: loss d: 1.12688    loss g: -2.35227\n"
     ]
    },
    {
     "name": "stderr",
     "output_type": "stream",
     "text": [
      " 40%|████      | 40201/100001 [1:26:23<1:52:37,  8.85it/s]"
     ]
    },
    {
     "name": "stdout",
     "output_type": "stream",
     "text": [
      "GAN: loss d: 3.57983    loss g: -2.63893\n"
     ]
    },
    {
     "name": "stderr",
     "output_type": "stream",
     "text": [
      " 40%|████      | 40301/100001 [1:26:34<1:50:06,  9.04it/s]"
     ]
    },
    {
     "name": "stdout",
     "output_type": "stream",
     "text": [
      "GAN: loss d: 3.07039    loss g: -3.15573\n"
     ]
    },
    {
     "name": "stderr",
     "output_type": "stream",
     "text": [
      " 40%|████      | 40401/100001 [1:26:44<1:50:21,  9.00it/s]"
     ]
    },
    {
     "name": "stdout",
     "output_type": "stream",
     "text": [
      "GAN: loss d: 3.94856    loss g: -2.30191\n"
     ]
    },
    {
     "name": "stderr",
     "output_type": "stream",
     "text": [
      " 41%|████      | 40501/100001 [1:26:55<1:49:31,  9.05it/s]"
     ]
    },
    {
     "name": "stdout",
     "output_type": "stream",
     "text": [
      "GAN: loss d: 0.81592    loss g: -2.78561\n"
     ]
    },
    {
     "name": "stderr",
     "output_type": "stream",
     "text": [
      " 41%|████      | 40601/100001 [1:27:06<1:48:41,  9.11it/s]"
     ]
    },
    {
     "name": "stdout",
     "output_type": "stream",
     "text": [
      "GAN: loss d: 3.34575    loss g: -1.52438\n"
     ]
    },
    {
     "name": "stderr",
     "output_type": "stream",
     "text": [
      " 41%|████      | 40701/100001 [1:27:16<1:49:34,  9.02it/s]"
     ]
    },
    {
     "name": "stdout",
     "output_type": "stream",
     "text": [
      "GAN: loss d: 2.29154    loss g: -3.89199\n"
     ]
    },
    {
     "name": "stderr",
     "output_type": "stream",
     "text": [
      " 41%|████      | 40801/100001 [1:27:27<1:48:51,  9.06it/s]"
     ]
    },
    {
     "name": "stdout",
     "output_type": "stream",
     "text": [
      "GAN: loss d: 3.23352    loss g: -2.83439\n"
     ]
    },
    {
     "name": "stderr",
     "output_type": "stream",
     "text": [
      " 41%|████      | 40903/100001 [1:27:38<1:44:10,  9.46it/s]"
     ]
    },
    {
     "name": "stdout",
     "output_type": "stream",
     "text": [
      "GAN: loss d: 3.42949    loss g: -2.67896\n"
     ]
    },
    {
     "name": "stderr",
     "output_type": "stream",
     "text": [
      " 41%|████      | 41000/100001 [1:27:48<1:46:45,  9.21it/s]"
     ]
    },
    {
     "name": "stdout",
     "output_type": "stream",
     "text": [
      "GAN: loss d: 3.92919    loss g: -3.24551\n",
      "saving current model\n"
     ]
    },
    {
     "name": "stderr",
     "output_type": "stream",
     "text": [
      "\n",
      "  0%|          | 0/175 [00:00<?, ?it/s]\u001b[A"
     ]
    },
    {
     "name": "stdout",
     "output_type": "stream",
     "text": [
      "Number of real images: 5626\n"
     ]
    },
    {
     "name": "stderr",
     "output_type": "stream",
     "text": [
      "\n",
      "\n",
      "  0%|          | 0/15 [00:00<?, ?it/s]\u001b[A\u001b[A"
     ]
    },
    {
     "name": "stdout",
     "output_type": "stream",
     "text": [
      "Number of synthetic images: 500\n"
     ]
    },
    {
     "name": "stderr",
     "output_type": "stream",
     "text": [
      " 41%|████      | 41001/100001 [1:28:09<101:59:55,  6.22s/it]"
     ]
    },
    {
     "name": "stdout",
     "output_type": "stream",
     "text": [
      "Current fid score: 1.1264658019655336\n",
      "Fid scores: [5.176135784826485, 2.49733748630797, 2.556800986640896, 2.551807388342233, 3.0005414208896823, 2.6693746896472135, 2.327712167642524, 2.753024418615748, 1.810803698247632, 1.882469618869699, 2.3049020902006205, 1.2671737770059046, 2.1210468891055463, 2.099174223550225, 2.916100690765896, 3.40813729288425, 3.245391894475338, 3.857025155346646, 3.9987907417992634, 1.1312376693415231, 1.2186857992723503, 1.8961604960656189, 1.639260863742642, 1.4429721571320542, 1.2975153110277695, 1.2989564652328056, 1.2159174147751202, 1.2886615711632565, 1.2749489523852944, 1.2123217476264827, 1.130321950731723, 1.4349116027401223, 1.325705351921183, 0.9511910740117848, 0.7728854208281035, 1.0974412373000142, 1.3230233049879843, 1.456390242262266, 0.9723678173420041, 1.0042308899555294, 1.147213070903458, 1.1264658019655336]\n"
     ]
    },
    {
     "name": "stderr",
     "output_type": "stream",
     "text": [
      "  0%|          | 0/175 [00:10<?, ?it/s]4:34:10,  3.59it/s]  \n",
      "  0%|          | 0/15 [00:02<?, ?it/s]\n",
      " 41%|████      | 41103/100001 [1:28:20<1:42:23,  9.59it/s]"
     ]
    },
    {
     "name": "stdout",
     "output_type": "stream",
     "text": [
      "GAN: loss d: 2.54411    loss g: -2.24678\n"
     ]
    },
    {
     "name": "stderr",
     "output_type": "stream",
     "text": [
      " 41%|████      | 41201/100001 [1:28:30<1:48:42,  9.01it/s]"
     ]
    },
    {
     "name": "stdout",
     "output_type": "stream",
     "text": [
      "GAN: loss d: 3.66374    loss g: -3.38110\n"
     ]
    },
    {
     "name": "stderr",
     "output_type": "stream",
     "text": [
      " 41%|████▏     | 41301/100001 [1:28:41<1:49:11,  8.96it/s]"
     ]
    },
    {
     "name": "stdout",
     "output_type": "stream",
     "text": [
      "GAN: loss d: 3.53483    loss g: -3.95255\n"
     ]
    },
    {
     "name": "stderr",
     "output_type": "stream",
     "text": [
      " 41%|████▏     | 41401/100001 [1:28:52<1:50:47,  8.81it/s]"
     ]
    },
    {
     "name": "stdout",
     "output_type": "stream",
     "text": [
      "GAN: loss d: 3.93999    loss g: -3.03253\n"
     ]
    },
    {
     "name": "stderr",
     "output_type": "stream",
     "text": [
      " 42%|████▏     | 41501/100001 [1:29:02<1:49:22,  8.91it/s]"
     ]
    },
    {
     "name": "stdout",
     "output_type": "stream",
     "text": [
      "GAN: loss d: 3.77357    loss g: -4.14477\n"
     ]
    },
    {
     "name": "stderr",
     "output_type": "stream",
     "text": [
      " 42%|████▏     | 41601/100001 [1:29:13<1:58:03,  8.24it/s]"
     ]
    },
    {
     "name": "stdout",
     "output_type": "stream",
     "text": [
      "GAN: loss d: 4.42030    loss g: -3.11309\n"
     ]
    },
    {
     "name": "stderr",
     "output_type": "stream",
     "text": [
      " 42%|████▏     | 41701/100001 [1:29:24<1:48:34,  8.95it/s]"
     ]
    },
    {
     "name": "stdout",
     "output_type": "stream",
     "text": [
      "GAN: loss d: 3.08265    loss g: -3.51930\n"
     ]
    },
    {
     "name": "stderr",
     "output_type": "stream",
     "text": [
      " 42%|████▏     | 41803/100001 [1:29:35<1:42:26,  9.47it/s]"
     ]
    },
    {
     "name": "stdout",
     "output_type": "stream",
     "text": [
      "GAN: loss d: 2.54401    loss g: -3.39925\n"
     ]
    },
    {
     "name": "stderr",
     "output_type": "stream",
     "text": [
      " 42%|████▏     | 41901/100001 [1:29:45<1:46:07,  9.12it/s]"
     ]
    },
    {
     "name": "stdout",
     "output_type": "stream",
     "text": [
      "GAN: loss d: 3.15793    loss g: -3.24328\n"
     ]
    },
    {
     "name": "stderr",
     "output_type": "stream",
     "text": [
      " 42%|████▏     | 42000/100001 [1:29:56<1:44:46,  9.23it/s]"
     ]
    },
    {
     "name": "stdout",
     "output_type": "stream",
     "text": [
      "GAN: loss d: 3.33705    loss g: -3.45366\n",
      "saving current model\n"
     ]
    },
    {
     "name": "stderr",
     "output_type": "stream",
     "text": [
      "\n",
      "  0%|          | 0/175 [00:00<?, ?it/s]\u001b[A"
     ]
    },
    {
     "name": "stdout",
     "output_type": "stream",
     "text": [
      "Number of real images: 5626\n"
     ]
    },
    {
     "name": "stderr",
     "output_type": "stream",
     "text": [
      "\n",
      "\n",
      "  0%|          | 0/15 [00:00<?, ?it/s]\u001b[A\u001b[A"
     ]
    },
    {
     "name": "stdout",
     "output_type": "stream",
     "text": [
      "Number of synthetic images: 500\n"
     ]
    },
    {
     "name": "stderr",
     "output_type": "stream",
     "text": [
      " 42%|████▏     | 42002/100001 [1:30:17<71:10:16,  4.42s/it] "
     ]
    },
    {
     "name": "stdout",
     "output_type": "stream",
     "text": [
      "Current fid score: 1.0130370458094191\n",
      "Fid scores: [5.176135784826485, 2.49733748630797, 2.556800986640896, 2.551807388342233, 3.0005414208896823, 2.6693746896472135, 2.327712167642524, 2.753024418615748, 1.810803698247632, 1.882469618869699, 2.3049020902006205, 1.2671737770059046, 2.1210468891055463, 2.099174223550225, 2.916100690765896, 3.40813729288425, 3.245391894475338, 3.857025155346646, 3.9987907417992634, 1.1312376693415231, 1.2186857992723503, 1.8961604960656189, 1.639260863742642, 1.4429721571320542, 1.2975153110277695, 1.2989564652328056, 1.2159174147751202, 1.2886615711632565, 1.2749489523852944, 1.2123217476264827, 1.130321950731723, 1.4349116027401223, 1.325705351921183, 0.9511910740117848, 0.7728854208281035, 1.0974412373000142, 1.3230233049879843, 1.456390242262266, 0.9723678173420041, 1.0042308899555294, 1.147213070903458, 1.1264658019655336, 1.0130370458094191]\n"
     ]
    },
    {
     "name": "stderr",
     "output_type": "stream",
     "text": [
      "  0%|          | 0/175 [00:15<?, ?it/s]1:45:05,  9.19it/s] \n",
      "  0%|          | 0/15 [00:06<?, ?it/s]\n",
      " 42%|████▏     | 42101/100001 [1:30:27<1:49:20,  8.82it/s]"
     ]
    },
    {
     "name": "stdout",
     "output_type": "stream",
     "text": [
      "GAN: loss d: 4.18276    loss g: -3.86625\n"
     ]
    },
    {
     "name": "stderr",
     "output_type": "stream",
     "text": [
      " 42%|████▏     | 42201/100001 [1:30:38<1:45:17,  9.15it/s]"
     ]
    },
    {
     "name": "stdout",
     "output_type": "stream",
     "text": [
      "GAN: loss d: 2.90039    loss g: -3.83208\n"
     ]
    },
    {
     "name": "stderr",
     "output_type": "stream",
     "text": [
      " 42%|████▏     | 42301/100001 [1:30:49<1:47:12,  8.97it/s]"
     ]
    },
    {
     "name": "stdout",
     "output_type": "stream",
     "text": [
      "GAN: loss d: 5.26208    loss g: -2.49750\n"
     ]
    },
    {
     "name": "stderr",
     "output_type": "stream",
     "text": [
      " 42%|████▏     | 42401/100001 [1:30:59<1:47:07,  8.96it/s]"
     ]
    },
    {
     "name": "stdout",
     "output_type": "stream",
     "text": [
      "GAN: loss d: 4.68373    loss g: -2.76151\n"
     ]
    },
    {
     "name": "stderr",
     "output_type": "stream",
     "text": [
      " 43%|████▎     | 42503/100001 [1:31:10<1:40:14,  9.56it/s]"
     ]
    },
    {
     "name": "stdout",
     "output_type": "stream",
     "text": [
      "GAN: loss d: 3.51005    loss g: -3.04245\n"
     ]
    },
    {
     "name": "stderr",
     "output_type": "stream",
     "text": [
      " 43%|████▎     | 42603/100001 [1:31:21<1:40:02,  9.56it/s]"
     ]
    },
    {
     "name": "stdout",
     "output_type": "stream",
     "text": [
      "GAN: loss d: 1.24221    loss g: -2.47752\n"
     ]
    },
    {
     "name": "stderr",
     "output_type": "stream",
     "text": [
      " 43%|████▎     | 42701/100001 [1:31:31<1:46:24,  8.97it/s]"
     ]
    },
    {
     "name": "stdout",
     "output_type": "stream",
     "text": [
      "GAN: loss d: 1.86998    loss g: -3.10984\n"
     ]
    },
    {
     "name": "stderr",
     "output_type": "stream",
     "text": [
      " 43%|████▎     | 42801/100001 [1:31:42<1:47:57,  8.83it/s]"
     ]
    },
    {
     "name": "stdout",
     "output_type": "stream",
     "text": [
      "GAN: loss d: 4.76684    loss g: -3.20334\n"
     ]
    },
    {
     "name": "stderr",
     "output_type": "stream",
     "text": [
      " 43%|████▎     | 42902/100001 [1:31:53<1:44:04,  9.14it/s]"
     ]
    },
    {
     "name": "stdout",
     "output_type": "stream",
     "text": [
      "GAN: loss d: 2.05675    loss g: -2.98939\n"
     ]
    },
    {
     "name": "stderr",
     "output_type": "stream",
     "text": [
      " 43%|████▎     | 43000/100001 [1:32:03<1:41:09,  9.39it/s]"
     ]
    },
    {
     "name": "stdout",
     "output_type": "stream",
     "text": [
      "GAN: loss d: 4.16387    loss g: -3.22330\n",
      "saving current model\n"
     ]
    },
    {
     "name": "stderr",
     "output_type": "stream",
     "text": [
      "\n",
      "  0%|          | 0/175 [00:00<?, ?it/s]\u001b[A"
     ]
    },
    {
     "name": "stdout",
     "output_type": "stream",
     "text": [
      "Number of real images: 5626\n"
     ]
    },
    {
     "name": "stderr",
     "output_type": "stream",
     "text": [
      "\n",
      "\n",
      "  0%|          | 0/15 [00:00<?, ?it/s]\u001b[A\u001b[A"
     ]
    },
    {
     "name": "stdout",
     "output_type": "stream",
     "text": [
      "Number of synthetic images: 500\n"
     ]
    },
    {
     "name": "stderr",
     "output_type": "stream",
     "text": [
      " 43%|████▎     | 43002/100001 [1:32:24<69:34:51,  4.39s/it]"
     ]
    },
    {
     "name": "stdout",
     "output_type": "stream",
     "text": [
      "Current fid score: 1.2854713703383176\n",
      "Fid scores: [5.176135784826485, 2.49733748630797, 2.556800986640896, 2.551807388342233, 3.0005414208896823, 2.6693746896472135, 2.327712167642524, 2.753024418615748, 1.810803698247632, 1.882469618869699, 2.3049020902006205, 1.2671737770059046, 2.1210468891055463, 2.099174223550225, 2.916100690765896, 3.40813729288425, 3.245391894475338, 3.857025155346646, 3.9987907417992634, 1.1312376693415231, 1.2186857992723503, 1.8961604960656189, 1.639260863742642, 1.4429721571320542, 1.2975153110277695, 1.2989564652328056, 1.2159174147751202, 1.2886615711632565, 1.2749489523852944, 1.2123217476264827, 1.130321950731723, 1.4349116027401223, 1.325705351921183, 0.9511910740117848, 0.7728854208281035, 1.0974412373000142, 1.3230233049879843, 1.456390242262266, 0.9723678173420041, 1.0042308899555294, 1.147213070903458, 1.1264658019655336, 1.0130370458094191, 1.2854713703383176]\n"
     ]
    },
    {
     "name": "stderr",
     "output_type": "stream",
     "text": [
      "  0%|          | 0/175 [00:14<?, ?it/s]1:39:52,  9.50it/s] \n",
      "  0%|          | 0/15 [00:05<?, ?it/s]\n",
      " 43%|████▎     | 43103/100001 [1:32:35<1:40:45,  9.41it/s]"
     ]
    },
    {
     "name": "stdout",
     "output_type": "stream",
     "text": [
      "GAN: loss d: 2.76859    loss g: -4.28205\n"
     ]
    },
    {
     "name": "stderr",
     "output_type": "stream",
     "text": [
      " 43%|████▎     | 43201/100001 [1:32:46<1:45:10,  9.00it/s]"
     ]
    },
    {
     "name": "stdout",
     "output_type": "stream",
     "text": [
      "GAN: loss d: 4.78745    loss g: -3.28595\n"
     ]
    },
    {
     "name": "stderr",
     "output_type": "stream",
     "text": [
      " 43%|████▎     | 43301/100001 [1:32:56<1:45:34,  8.95it/s]"
     ]
    },
    {
     "name": "stdout",
     "output_type": "stream",
     "text": [
      "GAN: loss d: 4.22140    loss g: -2.41864\n"
     ]
    },
    {
     "name": "stderr",
     "output_type": "stream",
     "text": [
      " 43%|████▎     | 43401/100001 [1:33:07<2:00:29,  7.83it/s]"
     ]
    },
    {
     "name": "stdout",
     "output_type": "stream",
     "text": [
      "GAN: loss d: 3.96497    loss g: -1.75642\n"
     ]
    },
    {
     "name": "stderr",
     "output_type": "stream",
     "text": [
      " 44%|████▎     | 43501/100001 [1:33:18<1:44:51,  8.98it/s]"
     ]
    },
    {
     "name": "stdout",
     "output_type": "stream",
     "text": [
      "GAN: loss d: 2.18264    loss g: -3.10078\n"
     ]
    },
    {
     "name": "stderr",
     "output_type": "stream",
     "text": [
      " 44%|████▎     | 43601/100001 [1:33:29<1:43:43,  9.06it/s]"
     ]
    },
    {
     "name": "stdout",
     "output_type": "stream",
     "text": [
      "GAN: loss d: 3.97333    loss g: -2.27471\n"
     ]
    },
    {
     "name": "stderr",
     "output_type": "stream",
     "text": [
      " 44%|████▎     | 43701/100001 [1:33:39<1:46:55,  8.78it/s]"
     ]
    },
    {
     "name": "stdout",
     "output_type": "stream",
     "text": [
      "GAN: loss d: 4.29829    loss g: -2.43914\n"
     ]
    },
    {
     "name": "stderr",
     "output_type": "stream",
     "text": [
      " 44%|████▍     | 43801/100001 [1:33:50<1:54:55,  8.15it/s]"
     ]
    },
    {
     "name": "stdout",
     "output_type": "stream",
     "text": [
      "GAN: loss d: 3.10270    loss g: -3.81456\n"
     ]
    },
    {
     "name": "stderr",
     "output_type": "stream",
     "text": [
      " 44%|████▍     | 43903/100001 [1:34:01<1:38:33,  9.49it/s]"
     ]
    },
    {
     "name": "stdout",
     "output_type": "stream",
     "text": [
      "GAN: loss d: 3.55029    loss g: -2.44162\n"
     ]
    },
    {
     "name": "stderr",
     "output_type": "stream",
     "text": [
      " 44%|████▍     | 44000/100001 [1:34:11<1:42:28,  9.11it/s]"
     ]
    },
    {
     "name": "stdout",
     "output_type": "stream",
     "text": [
      "GAN: loss d: 0.87568    loss g: -1.90480\n",
      "saving current model\n"
     ]
    },
    {
     "name": "stderr",
     "output_type": "stream",
     "text": [
      "\n",
      "  0%|          | 0/175 [00:00<?, ?it/s]\u001b[A"
     ]
    },
    {
     "name": "stdout",
     "output_type": "stream",
     "text": [
      "Number of real images: 5626\n"
     ]
    },
    {
     "name": "stderr",
     "output_type": "stream",
     "text": [
      "\n",
      "\n",
      "  0%|          | 0/15 [00:00<?, ?it/s]\u001b[A\u001b[A"
     ]
    },
    {
     "name": "stdout",
     "output_type": "stream",
     "text": [
      "Number of synthetic images: 500\n"
     ]
    },
    {
     "name": "stderr",
     "output_type": "stream",
     "text": [
      " 44%|████▍     | 44001/100001 [1:34:32<98:33:33,  6.34s/it]"
     ]
    },
    {
     "name": "stdout",
     "output_type": "stream",
     "text": [
      "Current fid score: 1.395702880834726\n",
      "Fid scores: [5.176135784826485, 2.49733748630797, 2.556800986640896, 2.551807388342233, 3.0005414208896823, 2.6693746896472135, 2.327712167642524, 2.753024418615748, 1.810803698247632, 1.882469618869699, 2.3049020902006205, 1.2671737770059046, 2.1210468891055463, 2.099174223550225, 2.916100690765896, 3.40813729288425, 3.245391894475338, 3.857025155346646, 3.9987907417992634, 1.1312376693415231, 1.2186857992723503, 1.8961604960656189, 1.639260863742642, 1.4429721571320542, 1.2975153110277695, 1.2989564652328056, 1.2159174147751202, 1.2886615711632565, 1.2749489523852944, 1.2123217476264827, 1.130321950731723, 1.4349116027401223, 1.325705351921183, 0.9511910740117848, 0.7728854208281035, 1.0974412373000142, 1.3230233049879843, 1.456390242262266, 0.9723678173420041, 1.0042308899555294, 1.147213070903458, 1.1264658019655336, 1.0130370458094191, 1.2854713703383176, 1.395702880834726]\n"
     ]
    },
    {
     "name": "stderr",
     "output_type": "stream",
     "text": [
      "  0%|          | 0/175 [00:10<?, ?it/s]5:29:36,  2.83it/s] \n",
      "  0%|          | 0/15 [00:02<?, ?it/s]\n",
      " 44%|████▍     | 44101/100001 [1:34:43<1:46:30,  8.75it/s]"
     ]
    },
    {
     "name": "stdout",
     "output_type": "stream",
     "text": [
      "GAN: loss d: 3.76843    loss g: -4.37004\n"
     ]
    },
    {
     "name": "stderr",
     "output_type": "stream",
     "text": [
      " 44%|████▍     | 44203/100001 [1:34:54<1:38:20,  9.46it/s]"
     ]
    },
    {
     "name": "stdout",
     "output_type": "stream",
     "text": [
      "GAN: loss d: 4.83620    loss g: -2.22635\n"
     ]
    },
    {
     "name": "stderr",
     "output_type": "stream",
     "text": [
      " 44%|████▍     | 44303/100001 [1:35:05<1:38:35,  9.42it/s]"
     ]
    },
    {
     "name": "stdout",
     "output_type": "stream",
     "text": [
      "GAN: loss d: 3.78337    loss g: -2.75228\n"
     ]
    },
    {
     "name": "stderr",
     "output_type": "stream",
     "text": [
      " 44%|████▍     | 44401/100001 [1:35:15<1:42:29,  9.04it/s]"
     ]
    },
    {
     "name": "stdout",
     "output_type": "stream",
     "text": [
      "GAN: loss d: 2.74764    loss g: -1.94502\n"
     ]
    },
    {
     "name": "stderr",
     "output_type": "stream",
     "text": [
      " 45%|████▍     | 44503/100001 [1:35:26<1:38:29,  9.39it/s]"
     ]
    },
    {
     "name": "stdout",
     "output_type": "stream",
     "text": [
      "GAN: loss d: 2.29053    loss g: -3.21480\n"
     ]
    },
    {
     "name": "stderr",
     "output_type": "stream",
     "text": [
      " 45%|████▍     | 44603/100001 [1:35:37<1:38:10,  9.40it/s]"
     ]
    },
    {
     "name": "stdout",
     "output_type": "stream",
     "text": [
      "GAN: loss d: 4.15089    loss g: -1.91599\n"
     ]
    },
    {
     "name": "stderr",
     "output_type": "stream",
     "text": [
      " 45%|████▍     | 44701/100001 [1:35:47<1:47:59,  8.53it/s]"
     ]
    },
    {
     "name": "stdout",
     "output_type": "stream",
     "text": [
      "GAN: loss d: 3.07905    loss g: -3.84622\n"
     ]
    },
    {
     "name": "stderr",
     "output_type": "stream",
     "text": [
      " 45%|████▍     | 44801/100001 [1:35:58<1:59:40,  7.69it/s]"
     ]
    },
    {
     "name": "stdout",
     "output_type": "stream",
     "text": [
      "GAN: loss d: 3.89172    loss g: -2.41963\n"
     ]
    },
    {
     "name": "stderr",
     "output_type": "stream",
     "text": [
      " 45%|████▍     | 44903/100001 [1:36:09<1:37:23,  9.43it/s]"
     ]
    },
    {
     "name": "stdout",
     "output_type": "stream",
     "text": [
      "GAN: loss d: 4.04620    loss g: -2.28476\n"
     ]
    },
    {
     "name": "stderr",
     "output_type": "stream",
     "text": [
      " 45%|████▍     | 45000/100001 [1:36:19<1:38:33,  9.30it/s]"
     ]
    },
    {
     "name": "stdout",
     "output_type": "stream",
     "text": [
      "GAN: loss d: 2.50645    loss g: -2.83204\n",
      "saving current model\n"
     ]
    },
    {
     "name": "stderr",
     "output_type": "stream",
     "text": [
      "\n",
      "  0%|          | 0/175 [00:00<?, ?it/s]\u001b[A"
     ]
    },
    {
     "name": "stdout",
     "output_type": "stream",
     "text": [
      "Number of real images: 5626\n"
     ]
    },
    {
     "name": "stderr",
     "output_type": "stream",
     "text": [
      "\n",
      "\n",
      "  0%|          | 0/15 [00:00<?, ?it/s]\u001b[A\u001b[A"
     ]
    },
    {
     "name": "stdout",
     "output_type": "stream",
     "text": [
      "Number of synthetic images: 500\n"
     ]
    },
    {
     "name": "stderr",
     "output_type": "stream",
     "text": [
      " 45%|████▌     | 45001/100001 [1:36:40<95:15:28,  6.24s/it]"
     ]
    },
    {
     "name": "stdout",
     "output_type": "stream",
     "text": [
      "Current fid score: 1.2354265562601796\n",
      "Fid scores: [5.176135784826485, 2.49733748630797, 2.556800986640896, 2.551807388342233, 3.0005414208896823, 2.6693746896472135, 2.327712167642524, 2.753024418615748, 1.810803698247632, 1.882469618869699, 2.3049020902006205, 1.2671737770059046, 2.1210468891055463, 2.099174223550225, 2.916100690765896, 3.40813729288425, 3.245391894475338, 3.857025155346646, 3.9987907417992634, 1.1312376693415231, 1.2186857992723503, 1.8961604960656189, 1.639260863742642, 1.4429721571320542, 1.2975153110277695, 1.2989564652328056, 1.2159174147751202, 1.2886615711632565, 1.2749489523852944, 1.2123217476264827, 1.130321950731723, 1.4349116027401223, 1.325705351921183, 0.9511910740117848, 0.7728854208281035, 1.0974412373000142, 1.3230233049879843, 1.456390242262266, 0.9723678173420041, 1.0042308899555294, 1.147213070903458, 1.1264658019655336, 1.0130370458094191, 1.2854713703383176, 1.395702880834726, 1.2354265562601796]\n"
     ]
    },
    {
     "name": "stderr",
     "output_type": "stream",
     "text": [
      "  0%|          | 0/175 [00:18<?, ?it/s]1:40:42,  9.09it/s] \n",
      "  0%|          | 0/15 [00:09<?, ?it/s]\n",
      " 45%|████▌     | 45101/100001 [1:36:51<1:41:12,  9.04it/s]"
     ]
    },
    {
     "name": "stdout",
     "output_type": "stream",
     "text": [
      "GAN: loss d: 3.72541    loss g: -1.38160\n"
     ]
    },
    {
     "name": "stderr",
     "output_type": "stream",
     "text": [
      " 45%|████▌     | 45201/100001 [1:37:02<1:40:20,  9.10it/s]"
     ]
    },
    {
     "name": "stdout",
     "output_type": "stream",
     "text": [
      "GAN: loss d: 1.75648    loss g: -3.68052\n"
     ]
    },
    {
     "name": "stderr",
     "output_type": "stream",
     "text": [
      " 45%|████▌     | 45301/100001 [1:37:12<1:49:35,  8.32it/s]"
     ]
    },
    {
     "name": "stdout",
     "output_type": "stream",
     "text": [
      "GAN: loss d: 3.00329    loss g: -1.80758\n"
     ]
    },
    {
     "name": "stderr",
     "output_type": "stream",
     "text": [
      " 45%|████▌     | 45401/100001 [1:37:23<2:03:09,  7.39it/s]"
     ]
    },
    {
     "name": "stdout",
     "output_type": "stream",
     "text": [
      "GAN: loss d: 3.98841    loss g: -1.85649\n"
     ]
    },
    {
     "name": "stderr",
     "output_type": "stream",
     "text": [
      " 46%|████▌     | 45501/100001 [1:37:34<1:40:20,  9.05it/s]"
     ]
    },
    {
     "name": "stdout",
     "output_type": "stream",
     "text": [
      "GAN: loss d: 2.61390    loss g: -2.67702\n"
     ]
    },
    {
     "name": "stderr",
     "output_type": "stream",
     "text": [
      " 46%|████▌     | 45601/100001 [1:37:45<1:41:18,  8.95it/s]"
     ]
    },
    {
     "name": "stdout",
     "output_type": "stream",
     "text": [
      "GAN: loss d: -1.04722    loss g: -2.41241\n"
     ]
    },
    {
     "name": "stderr",
     "output_type": "stream",
     "text": [
      " 46%|████▌     | 45701/100001 [1:37:55<1:39:47,  9.07it/s]"
     ]
    },
    {
     "name": "stdout",
     "output_type": "stream",
     "text": [
      "GAN: loss d: 2.21167    loss g: -2.51089\n"
     ]
    },
    {
     "name": "stderr",
     "output_type": "stream",
     "text": [
      " 46%|████▌     | 45801/100001 [1:38:06<2:02:51,  7.35it/s]"
     ]
    },
    {
     "name": "stdout",
     "output_type": "stream",
     "text": [
      "GAN: loss d: 1.79461    loss g: -3.79038\n"
     ]
    },
    {
     "name": "stderr",
     "output_type": "stream",
     "text": [
      " 46%|████▌     | 45901/100001 [1:38:17<1:41:25,  8.89it/s]"
     ]
    },
    {
     "name": "stdout",
     "output_type": "stream",
     "text": [
      "GAN: loss d: 2.61271    loss g: -3.43390\n"
     ]
    },
    {
     "name": "stderr",
     "output_type": "stream",
     "text": [
      " 46%|████▌     | 46000/100001 [1:38:27<1:36:40,  9.31it/s]"
     ]
    },
    {
     "name": "stdout",
     "output_type": "stream",
     "text": [
      "GAN: loss d: 2.76805    loss g: -2.78596\n",
      "saving current model\n"
     ]
    },
    {
     "name": "stderr",
     "output_type": "stream",
     "text": [
      "\n",
      "  0%|          | 0/175 [00:00<?, ?it/s]\u001b[A"
     ]
    },
    {
     "name": "stdout",
     "output_type": "stream",
     "text": [
      "Number of real images: 5626\n"
     ]
    },
    {
     "name": "stderr",
     "output_type": "stream",
     "text": [
      "\n",
      "\n",
      "  0%|          | 0/15 [00:00<?, ?it/s]\u001b[A\u001b[A"
     ]
    },
    {
     "name": "stdout",
     "output_type": "stream",
     "text": [
      "Number of synthetic images: 500\n"
     ]
    },
    {
     "name": "stderr",
     "output_type": "stream",
     "text": [
      " 46%|████▌     | 46001/100001 [1:38:48<93:50:54,  6.26s/it]"
     ]
    },
    {
     "name": "stdout",
     "output_type": "stream",
     "text": [
      "Current fid score: 1.1165221470255844\n",
      "Fid scores: [5.176135784826485, 2.49733748630797, 2.556800986640896, 2.551807388342233, 3.0005414208896823, 2.6693746896472135, 2.327712167642524, 2.753024418615748, 1.810803698247632, 1.882469618869699, 2.3049020902006205, 1.2671737770059046, 2.1210468891055463, 2.099174223550225, 2.916100690765896, 3.40813729288425, 3.245391894475338, 3.857025155346646, 3.9987907417992634, 1.1312376693415231, 1.2186857992723503, 1.8961604960656189, 1.639260863742642, 1.4429721571320542, 1.2975153110277695, 1.2989564652328056, 1.2159174147751202, 1.2886615711632565, 1.2749489523852944, 1.2123217476264827, 1.130321950731723, 1.4349116027401223, 1.325705351921183, 0.9511910740117848, 0.7728854208281035, 1.0974412373000142, 1.3230233049879843, 1.456390242262266, 0.9723678173420041, 1.0042308899555294, 1.147213070903458, 1.1264658019655336, 1.0130370458094191, 1.2854713703383176, 1.395702880834726, 1.2354265562601796, 1.1165221470255844]\n"
     ]
    },
    {
     "name": "stderr",
     "output_type": "stream",
     "text": [
      "  0%|          | 0/175 [00:15<?, ?it/s]1:37:20,  9.24it/s] \n",
      "  0%|          | 0/15 [00:06<?, ?it/s]\n",
      " 46%|████▌     | 46101/100001 [1:38:59<1:37:54,  9.18it/s]"
     ]
    },
    {
     "name": "stdout",
     "output_type": "stream",
     "text": [
      "GAN: loss d: 2.98299    loss g: -2.49061\n"
     ]
    },
    {
     "name": "stderr",
     "output_type": "stream",
     "text": [
      " 46%|████▌     | 46201/100001 [1:39:10<1:39:07,  9.05it/s]"
     ]
    },
    {
     "name": "stdout",
     "output_type": "stream",
     "text": [
      "GAN: loss d: 4.26840    loss g: -2.46115\n"
     ]
    },
    {
     "name": "stderr",
     "output_type": "stream",
     "text": [
      " 46%|████▋     | 46301/100001 [1:39:20<1:40:43,  8.89it/s]"
     ]
    },
    {
     "name": "stdout",
     "output_type": "stream",
     "text": [
      "GAN: loss d: 2.45321    loss g: -2.89392\n"
     ]
    },
    {
     "name": "stderr",
     "output_type": "stream",
     "text": [
      " 46%|████▋     | 46401/100001 [1:39:31<1:39:32,  8.97it/s]"
     ]
    },
    {
     "name": "stdout",
     "output_type": "stream",
     "text": [
      "GAN: loss d: 2.42831    loss g: -2.43610\n"
     ]
    },
    {
     "name": "stderr",
     "output_type": "stream",
     "text": [
      " 47%|████▋     | 46501/100001 [1:39:42<1:40:17,  8.89it/s]"
     ]
    },
    {
     "name": "stdout",
     "output_type": "stream",
     "text": [
      "GAN: loss d: 1.84467    loss g: -2.49315\n"
     ]
    },
    {
     "name": "stderr",
     "output_type": "stream",
     "text": [
      " 47%|████▋     | 46601/100001 [1:39:53<1:39:02,  8.99it/s]"
     ]
    },
    {
     "name": "stdout",
     "output_type": "stream",
     "text": [
      "GAN: loss d: 4.50871    loss g: -2.81425\n"
     ]
    },
    {
     "name": "stderr",
     "output_type": "stream",
     "text": [
      " 47%|████▋     | 46703/100001 [1:40:04<1:33:37,  9.49it/s]"
     ]
    },
    {
     "name": "stdout",
     "output_type": "stream",
     "text": [
      "GAN: loss d: 1.95845    loss g: -2.54921\n"
     ]
    },
    {
     "name": "stderr",
     "output_type": "stream",
     "text": [
      " 47%|████▋     | 46803/100001 [1:40:14<1:33:35,  9.47it/s]"
     ]
    },
    {
     "name": "stdout",
     "output_type": "stream",
     "text": [
      "GAN: loss d: 3.26180    loss g: -3.77984\n"
     ]
    },
    {
     "name": "stderr",
     "output_type": "stream",
     "text": [
      " 47%|████▋     | 46901/100001 [1:40:25<1:39:48,  8.87it/s]"
     ]
    },
    {
     "name": "stdout",
     "output_type": "stream",
     "text": [
      "GAN: loss d: 2.86481    loss g: -2.66420\n"
     ]
    },
    {
     "name": "stderr",
     "output_type": "stream",
     "text": [
      " 47%|████▋     | 47000/100001 [1:40:36<1:35:02,  9.30it/s]"
     ]
    },
    {
     "name": "stdout",
     "output_type": "stream",
     "text": [
      "GAN: loss d: 2.30727    loss g: -4.08356\n",
      "saving current model\n"
     ]
    },
    {
     "name": "stderr",
     "output_type": "stream",
     "text": [
      "\n",
      "  0%|          | 0/175 [00:00<?, ?it/s]\u001b[A"
     ]
    },
    {
     "name": "stdout",
     "output_type": "stream",
     "text": [
      "Number of real images: 5626\n"
     ]
    },
    {
     "name": "stderr",
     "output_type": "stream",
     "text": [
      "\n",
      "\n",
      "  0%|          | 0/15 [00:00<?, ?it/s]\u001b[A\u001b[A"
     ]
    },
    {
     "name": "stdout",
     "output_type": "stream",
     "text": [
      "Number of synthetic images: 500\n"
     ]
    },
    {
     "name": "stderr",
     "output_type": "stream",
     "text": [
      " 47%|████▋     | 47003/100001 [1:40:56<50:09:42,  3.41s/it]"
     ]
    },
    {
     "name": "stdout",
     "output_type": "stream",
     "text": [
      "Current fid score: 0.8902281152901743\n",
      "Fid scores: [5.176135784826485, 2.49733748630797, 2.556800986640896, 2.551807388342233, 3.0005414208896823, 2.6693746896472135, 2.327712167642524, 2.753024418615748, 1.810803698247632, 1.882469618869699, 2.3049020902006205, 1.2671737770059046, 2.1210468891055463, 2.099174223550225, 2.916100690765896, 3.40813729288425, 3.245391894475338, 3.857025155346646, 3.9987907417992634, 1.1312376693415231, 1.2186857992723503, 1.8961604960656189, 1.639260863742642, 1.4429721571320542, 1.2975153110277695, 1.2989564652328056, 1.2159174147751202, 1.2886615711632565, 1.2749489523852944, 1.2123217476264827, 1.130321950731723, 1.4349116027401223, 1.325705351921183, 0.9511910740117848, 0.7728854208281035, 1.0974412373000142, 1.3230233049879843, 1.456390242262266, 0.9723678173420041, 1.0042308899555294, 1.147213070903458, 1.1264658019655336, 1.0130370458094191, 1.2854713703383176, 1.395702880834726, 1.2354265562601796, 1.1165221470255844, 0.8902281152901743]\n"
     ]
    },
    {
     "name": "stderr",
     "output_type": "stream",
     "text": [
      "  0%|          | 0/175 [00:10<?, ?it/s]8:45:10,  1.68it/s] \n",
      "  0%|          | 0/15 [00:01<?, ?it/s]\n",
      " 47%|████▋     | 47101/100001 [1:41:07<1:37:24,  9.05it/s]"
     ]
    },
    {
     "name": "stdout",
     "output_type": "stream",
     "text": [
      "GAN: loss d: 3.31663    loss g: -1.41875\n"
     ]
    },
    {
     "name": "stderr",
     "output_type": "stream",
     "text": [
      " 47%|████▋     | 47201/100001 [1:41:17<1:38:13,  8.96it/s]"
     ]
    },
    {
     "name": "stdout",
     "output_type": "stream",
     "text": [
      "GAN: loss d: 2.32514    loss g: -1.88049\n"
     ]
    },
    {
     "name": "stderr",
     "output_type": "stream",
     "text": [
      " 47%|████▋     | 47303/100001 [1:41:28<1:33:00,  9.44it/s]"
     ]
    },
    {
     "name": "stdout",
     "output_type": "stream",
     "text": [
      "GAN: loss d: 4.12079    loss g: -2.90293\n"
     ]
    },
    {
     "name": "stderr",
     "output_type": "stream",
     "text": [
      " 47%|████▋     | 47401/100001 [1:41:39<1:37:44,  8.97it/s]"
     ]
    },
    {
     "name": "stdout",
     "output_type": "stream",
     "text": [
      "GAN: loss d: 1.23902    loss g: -2.61007\n"
     ]
    },
    {
     "name": "stderr",
     "output_type": "stream",
     "text": [
      " 48%|████▊     | 47501/100001 [1:41:50<1:37:35,  8.97it/s]"
     ]
    },
    {
     "name": "stdout",
     "output_type": "stream",
     "text": [
      "GAN: loss d: 2.93561    loss g: -1.80932\n"
     ]
    },
    {
     "name": "stderr",
     "output_type": "stream",
     "text": [
      " 48%|████▊     | 47601/100001 [1:42:00<1:36:41,  9.03it/s]"
     ]
    },
    {
     "name": "stdout",
     "output_type": "stream",
     "text": [
      "GAN: loss d: 2.68761    loss g: -2.85400\n"
     ]
    },
    {
     "name": "stderr",
     "output_type": "stream",
     "text": [
      " 48%|████▊     | 47703/100001 [1:42:11<1:31:23,  9.54it/s]"
     ]
    },
    {
     "name": "stdout",
     "output_type": "stream",
     "text": [
      "GAN: loss d: 2.78418    loss g: -2.28924\n"
     ]
    },
    {
     "name": "stderr",
     "output_type": "stream",
     "text": [
      " 48%|████▊     | 47801/100001 [1:42:22<1:39:12,  8.77it/s]"
     ]
    },
    {
     "name": "stdout",
     "output_type": "stream",
     "text": [
      "GAN: loss d: 3.39576    loss g: -2.08150\n"
     ]
    },
    {
     "name": "stderr",
     "output_type": "stream",
     "text": [
      " 48%|████▊     | 47901/100001 [1:42:33<1:38:24,  8.82it/s]"
     ]
    },
    {
     "name": "stdout",
     "output_type": "stream",
     "text": [
      "GAN: loss d: 3.96067    loss g: -2.21368\n"
     ]
    },
    {
     "name": "stderr",
     "output_type": "stream",
     "text": [
      " 48%|████▊     | 48000/100001 [1:42:43<1:33:02,  9.32it/s]"
     ]
    },
    {
     "name": "stdout",
     "output_type": "stream",
     "text": [
      "GAN: loss d: 4.34421    loss g: -3.46888\n",
      "saving current model\n"
     ]
    },
    {
     "name": "stderr",
     "output_type": "stream",
     "text": [
      "\n",
      "  0%|          | 0/175 [00:00<?, ?it/s]\u001b[A"
     ]
    },
    {
     "name": "stdout",
     "output_type": "stream",
     "text": [
      "Number of real images: 5626\n"
     ]
    },
    {
     "name": "stderr",
     "output_type": "stream",
     "text": [
      "\n",
      "\n",
      "  0%|          | 0/15 [00:00<?, ?it/s]\u001b[A\u001b[A"
     ]
    },
    {
     "name": "stdout",
     "output_type": "stream",
     "text": [
      "Number of synthetic images: 500\n"
     ]
    },
    {
     "name": "stderr",
     "output_type": "stream",
     "text": [
      " 48%|████▊     | 48002/100001 [1:43:04<63:50:53,  4.42s/it]"
     ]
    },
    {
     "name": "stdout",
     "output_type": "stream",
     "text": [
      "Current fid score: 0.9371797233348538\n",
      "Fid scores: [5.176135784826485, 2.49733748630797, 2.556800986640896, 2.551807388342233, 3.0005414208896823, 2.6693746896472135, 2.327712167642524, 2.753024418615748, 1.810803698247632, 1.882469618869699, 2.3049020902006205, 1.2671737770059046, 2.1210468891055463, 2.099174223550225, 2.916100690765896, 3.40813729288425, 3.245391894475338, 3.857025155346646, 3.9987907417992634, 1.1312376693415231, 1.2186857992723503, 1.8961604960656189, 1.639260863742642, 1.4429721571320542, 1.2975153110277695, 1.2989564652328056, 1.2159174147751202, 1.2886615711632565, 1.2749489523852944, 1.2123217476264827, 1.130321950731723, 1.4349116027401223, 1.325705351921183, 0.9511910740117848, 0.7728854208281035, 1.0974412373000142, 1.3230233049879843, 1.456390242262266, 0.9723678173420041, 1.0042308899555294, 1.147213070903458, 1.1264658019655336, 1.0130370458094191, 1.2854713703383176, 1.395702880834726, 1.2354265562601796, 1.1165221470255844, 0.8902281152901743, 0.9371797233348538]\n"
     ]
    },
    {
     "name": "stderr",
     "output_type": "stream",
     "text": [
      "  0%|          | 0/175 [00:19<?, ?it/s]1:31:39,  9.44it/s] \n",
      "  0%|          | 0/15 [00:10<?, ?it/s]\n",
      " 48%|████▊     | 48103/100001 [1:43:15<1:31:04,  9.50it/s]"
     ]
    },
    {
     "name": "stdout",
     "output_type": "stream",
     "text": [
      "GAN: loss d: 4.54806    loss g: -3.31614\n"
     ]
    },
    {
     "name": "stderr",
     "output_type": "stream",
     "text": [
      " 48%|████▊     | 48201/100001 [1:43:25<1:36:19,  8.96it/s]"
     ]
    },
    {
     "name": "stdout",
     "output_type": "stream",
     "text": [
      "GAN: loss d: 1.98128    loss g: -3.59261\n"
     ]
    },
    {
     "name": "stderr",
     "output_type": "stream",
     "text": [
      " 48%|████▊     | 48301/100001 [1:43:36<1:37:01,  8.88it/s]"
     ]
    },
    {
     "name": "stdout",
     "output_type": "stream",
     "text": [
      "GAN: loss d: 4.60908    loss g: -2.55722\n"
     ]
    },
    {
     "name": "stderr",
     "output_type": "stream",
     "text": [
      " 48%|████▊     | 48401/100001 [1:43:47<1:35:28,  9.01it/s]"
     ]
    },
    {
     "name": "stdout",
     "output_type": "stream",
     "text": [
      "GAN: loss d: 4.52242    loss g: -2.88058\n"
     ]
    },
    {
     "name": "stderr",
     "output_type": "stream",
     "text": [
      " 49%|████▊     | 48501/100001 [1:43:58<1:37:49,  8.77it/s]"
     ]
    },
    {
     "name": "stdout",
     "output_type": "stream",
     "text": [
      "GAN: loss d: 3.93832    loss g: -3.69701\n"
     ]
    },
    {
     "name": "stderr",
     "output_type": "stream",
     "text": [
      " 49%|████▊     | 48603/100001 [1:44:09<1:29:42,  9.55it/s]"
     ]
    },
    {
     "name": "stdout",
     "output_type": "stream",
     "text": [
      "GAN: loss d: 4.51309    loss g: -2.47622\n"
     ]
    },
    {
     "name": "stderr",
     "output_type": "stream",
     "text": [
      " 49%|████▊     | 48701/100001 [1:44:19<1:36:04,  8.90it/s]"
     ]
    },
    {
     "name": "stdout",
     "output_type": "stream",
     "text": [
      "GAN: loss d: 1.42163    loss g: -1.92028\n"
     ]
    },
    {
     "name": "stderr",
     "output_type": "stream",
     "text": [
      " 49%|████▉     | 48802/100001 [1:44:30<1:32:31,  9.22it/s]"
     ]
    },
    {
     "name": "stdout",
     "output_type": "stream",
     "text": [
      "GAN: loss d: 2.18627    loss g: -3.83148\n"
     ]
    },
    {
     "name": "stderr",
     "output_type": "stream",
     "text": [
      " 49%|████▉     | 48901/100001 [1:44:41<1:34:42,  8.99it/s]"
     ]
    },
    {
     "name": "stdout",
     "output_type": "stream",
     "text": [
      "GAN: loss d: 0.87298    loss g: -2.27100\n"
     ]
    },
    {
     "name": "stderr",
     "output_type": "stream",
     "text": [
      " 49%|████▉     | 49000/100001 [1:44:51<1:32:12,  9.22it/s]"
     ]
    },
    {
     "name": "stdout",
     "output_type": "stream",
     "text": [
      "GAN: loss d: 5.17482    loss g: -3.46753\n",
      "saving current model\n"
     ]
    },
    {
     "name": "stderr",
     "output_type": "stream",
     "text": [
      "\n",
      "  0%|          | 0/175 [00:00<?, ?it/s]\u001b[A"
     ]
    },
    {
     "name": "stdout",
     "output_type": "stream",
     "text": [
      "Number of real images: 5626\n"
     ]
    },
    {
     "name": "stderr",
     "output_type": "stream",
     "text": [
      "\n",
      "\n",
      "  0%|          | 0/15 [00:00<?, ?it/s]\u001b[A\u001b[A"
     ]
    },
    {
     "name": "stdout",
     "output_type": "stream",
     "text": [
      "Number of synthetic images: 500\n"
     ]
    },
    {
     "name": "stderr",
     "output_type": "stream",
     "text": [
      " 49%|████▉     | 49002/100001 [1:45:12<62:04:48,  4.38s/it]"
     ]
    },
    {
     "name": "stdout",
     "output_type": "stream",
     "text": [
      "Current fid score: 0.961486559589865\n",
      "Fid scores: [5.176135784826485, 2.49733748630797, 2.556800986640896, 2.551807388342233, 3.0005414208896823, 2.6693746896472135, 2.327712167642524, 2.753024418615748, 1.810803698247632, 1.882469618869699, 2.3049020902006205, 1.2671737770059046, 2.1210468891055463, 2.099174223550225, 2.916100690765896, 3.40813729288425, 3.245391894475338, 3.857025155346646, 3.9987907417992634, 1.1312376693415231, 1.2186857992723503, 1.8961604960656189, 1.639260863742642, 1.4429721571320542, 1.2975153110277695, 1.2989564652328056, 1.2159174147751202, 1.2886615711632565, 1.2749489523852944, 1.2123217476264827, 1.130321950731723, 1.4349116027401223, 1.325705351921183, 0.9511910740117848, 0.7728854208281035, 1.0974412373000142, 1.3230233049879843, 1.456390242262266, 0.9723678173420041, 1.0042308899555294, 1.147213070903458, 1.1264658019655336, 1.0130370458094191, 1.2854713703383176, 1.395702880834726, 1.2354265562601796, 1.1165221470255844, 0.8902281152901743, 0.9371797233348538, 0.961486559589865]\n"
     ]
    },
    {
     "name": "stderr",
     "output_type": "stream",
     "text": [
      "  0%|          | 0/175 [00:15<?, ?it/s]1:31:19,  9.30it/s] \n",
      "  0%|          | 0/15 [00:06<?, ?it/s]\n",
      " 49%|████▉     | 49102/100001 [1:45:22<1:32:31,  9.17it/s]"
     ]
    },
    {
     "name": "stdout",
     "output_type": "stream",
     "text": [
      "GAN: loss d: 4.53165    loss g: -3.32344\n"
     ]
    },
    {
     "name": "stderr",
     "output_type": "stream",
     "text": [
      " 49%|████▉     | 49203/100001 [1:45:33<1:30:28,  9.36it/s]"
     ]
    },
    {
     "name": "stdout",
     "output_type": "stream",
     "text": [
      "GAN: loss d: 3.58726    loss g: -3.06300\n"
     ]
    },
    {
     "name": "stderr",
     "output_type": "stream",
     "text": [
      " 49%|████▉     | 49303/100001 [1:45:44<1:28:59,  9.50it/s]"
     ]
    },
    {
     "name": "stdout",
     "output_type": "stream",
     "text": [
      "GAN: loss d: 4.51608    loss g: -2.93087\n"
     ]
    },
    {
     "name": "stderr",
     "output_type": "stream",
     "text": [
      " 49%|████▉     | 49401/100001 [1:45:55<1:33:25,  9.03it/s]"
     ]
    },
    {
     "name": "stdout",
     "output_type": "stream",
     "text": [
      "GAN: loss d: 4.28683    loss g: -3.63505\n"
     ]
    },
    {
     "name": "stderr",
     "output_type": "stream",
     "text": [
      " 50%|████▉     | 49501/100001 [1:46:05<1:31:35,  9.19it/s]"
     ]
    },
    {
     "name": "stdout",
     "output_type": "stream",
     "text": [
      "GAN: loss d: 1.32500    loss g: -2.54461\n"
     ]
    },
    {
     "name": "stderr",
     "output_type": "stream",
     "text": [
      " 50%|████▉     | 49601/100001 [1:46:16<1:31:32,  9.18it/s]"
     ]
    },
    {
     "name": "stdout",
     "output_type": "stream",
     "text": [
      "GAN: loss d: 4.39223    loss g: -2.68372\n"
     ]
    },
    {
     "name": "stderr",
     "output_type": "stream",
     "text": [
      " 50%|████▉     | 49701/100001 [1:46:27<1:34:22,  8.88it/s]"
     ]
    },
    {
     "name": "stdout",
     "output_type": "stream",
     "text": [
      "GAN: loss d: 3.74356    loss g: -1.93372\n"
     ]
    },
    {
     "name": "stderr",
     "output_type": "stream",
     "text": [
      " 50%|████▉     | 49801/100001 [1:46:37<1:34:07,  8.89it/s]"
     ]
    },
    {
     "name": "stdout",
     "output_type": "stream",
     "text": [
      "GAN: loss d: 2.81354    loss g: -2.14749\n"
     ]
    },
    {
     "name": "stderr",
     "output_type": "stream",
     "text": [
      " 50%|████▉     | 49901/100001 [1:46:48<1:32:44,  9.00it/s]"
     ]
    },
    {
     "name": "stdout",
     "output_type": "stream",
     "text": [
      "GAN: loss d: 2.67424    loss g: -1.39223\n"
     ]
    },
    {
     "name": "stderr",
     "output_type": "stream",
     "text": [
      " 50%|████▉     | 50000/100001 [1:46:59<1:29:32,  9.31it/s]"
     ]
    },
    {
     "name": "stdout",
     "output_type": "stream",
     "text": [
      "GAN: loss d: 0.96103    loss g: -1.72784\n",
      "saving current model\n"
     ]
    },
    {
     "name": "stderr",
     "output_type": "stream",
     "text": [
      "\n",
      "  0%|          | 0/175 [00:00<?, ?it/s]\u001b[A"
     ]
    },
    {
     "name": "stdout",
     "output_type": "stream",
     "text": [
      "Number of real images: 5626\n"
     ]
    },
    {
     "name": "stderr",
     "output_type": "stream",
     "text": [
      "\n",
      "\n",
      "  0%|          | 0/15 [00:00<?, ?it/s]\u001b[A\u001b[A"
     ]
    },
    {
     "name": "stdout",
     "output_type": "stream",
     "text": [
      "Number of synthetic images: 500\n"
     ]
    },
    {
     "name": "stderr",
     "output_type": "stream",
     "text": [
      " 50%|█████     | 50001/100001 [1:47:19<86:05:46,  6.20s/it]"
     ]
    },
    {
     "name": "stdout",
     "output_type": "stream",
     "text": [
      "Current fid score: 0.9584809289781582\n",
      "Fid scores: [5.176135784826485, 2.49733748630797, 2.556800986640896, 2.551807388342233, 3.0005414208896823, 2.6693746896472135, 2.327712167642524, 2.753024418615748, 1.810803698247632, 1.882469618869699, 2.3049020902006205, 1.2671737770059046, 2.1210468891055463, 2.099174223550225, 2.916100690765896, 3.40813729288425, 3.245391894475338, 3.857025155346646, 3.9987907417992634, 1.1312376693415231, 1.2186857992723503, 1.8961604960656189, 1.639260863742642, 1.4429721571320542, 1.2975153110277695, 1.2989564652328056, 1.2159174147751202, 1.2886615711632565, 1.2749489523852944, 1.2123217476264827, 1.130321950731723, 1.4349116027401223, 1.325705351921183, 0.9511910740117848, 0.7728854208281035, 1.0974412373000142, 1.3230233049879843, 1.456390242262266, 0.9723678173420041, 1.0042308899555294, 1.147213070903458, 1.1264658019655336, 1.0130370458094191, 1.2854713703383176, 1.395702880834726, 1.2354265562601796, 1.1165221470255844, 0.8902281152901743, 0.9371797233348538, 0.961486559589865, 0.9584809289781582]\n"
     ]
    },
    {
     "name": "stderr",
     "output_type": "stream",
     "text": [
      "  0%|          | 0/175 [00:10<?, ?it/s]10:55:44,  1.27it/s]\n",
      "  0%|          | 0/15 [00:01<?, ?it/s]\n",
      " 50%|█████     | 50101/100001 [1:47:30<1:32:15,  9.02it/s] "
     ]
    },
    {
     "name": "stdout",
     "output_type": "stream",
     "text": [
      "GAN: loss d: 2.35399    loss g: -2.53799\n"
     ]
    },
    {
     "name": "stderr",
     "output_type": "stream",
     "text": [
      " 50%|█████     | 50201/100001 [1:47:41<1:32:48,  8.94it/s]"
     ]
    },
    {
     "name": "stdout",
     "output_type": "stream",
     "text": [
      "GAN: loss d: 0.49746    loss g: -2.89696\n"
     ]
    },
    {
     "name": "stderr",
     "output_type": "stream",
     "text": [
      " 50%|█████     | 50301/100001 [1:47:51<1:35:41,  8.66it/s]"
     ]
    },
    {
     "name": "stdout",
     "output_type": "stream",
     "text": [
      "GAN: loss d: 2.89205    loss g: -2.49057\n"
     ]
    },
    {
     "name": "stderr",
     "output_type": "stream",
     "text": [
      " 50%|█████     | 50401/100001 [1:48:02<1:32:52,  8.90it/s]"
     ]
    },
    {
     "name": "stdout",
     "output_type": "stream",
     "text": [
      "GAN: loss d: 1.46551    loss g: -2.18239\n"
     ]
    },
    {
     "name": "stderr",
     "output_type": "stream",
     "text": [
      " 51%|█████     | 50501/100001 [1:48:13<1:31:24,  9.02it/s]"
     ]
    },
    {
     "name": "stdout",
     "output_type": "stream",
     "text": [
      "GAN: loss d: 3.39405    loss g: -2.95895\n"
     ]
    },
    {
     "name": "stderr",
     "output_type": "stream",
     "text": [
      " 51%|█████     | 50601/100001 [1:48:24<1:32:13,  8.93it/s]"
     ]
    },
    {
     "name": "stdout",
     "output_type": "stream",
     "text": [
      "GAN: loss d: 2.77388    loss g: -2.60481\n"
     ]
    },
    {
     "name": "stderr",
     "output_type": "stream",
     "text": [
      " 51%|█████     | 50701/100001 [1:48:34<1:33:29,  8.79it/s]"
     ]
    },
    {
     "name": "stdout",
     "output_type": "stream",
     "text": [
      "GAN: loss d: 4.74511    loss g: -2.17542\n"
     ]
    },
    {
     "name": "stderr",
     "output_type": "stream",
     "text": [
      " 51%|█████     | 50803/100001 [1:48:45<1:26:16,  9.50it/s]"
     ]
    },
    {
     "name": "stdout",
     "output_type": "stream",
     "text": [
      "GAN: loss d: 5.94320    loss g: -3.72179\n"
     ]
    },
    {
     "name": "stderr",
     "output_type": "stream",
     "text": [
      " 51%|█████     | 50901/100001 [1:48:56<1:31:49,  8.91it/s]"
     ]
    },
    {
     "name": "stdout",
     "output_type": "stream",
     "text": [
      "GAN: loss d: 3.00085    loss g: -2.31363\n"
     ]
    },
    {
     "name": "stderr",
     "output_type": "stream",
     "text": [
      " 51%|█████     | 51000/100001 [1:49:06<1:28:31,  9.23it/s]"
     ]
    },
    {
     "name": "stdout",
     "output_type": "stream",
     "text": [
      "GAN: loss d: 4.15831    loss g: -2.26941\n",
      "saving current model\n"
     ]
    },
    {
     "name": "stderr",
     "output_type": "stream",
     "text": [
      "\n",
      "  0%|          | 0/175 [00:00<?, ?it/s]\u001b[A"
     ]
    },
    {
     "name": "stdout",
     "output_type": "stream",
     "text": [
      "Number of real images: 5626\n"
     ]
    },
    {
     "name": "stderr",
     "output_type": "stream",
     "text": [
      "\n",
      "\n",
      "  0%|          | 0/15 [00:00<?, ?it/s]\u001b[A\u001b[A"
     ]
    },
    {
     "name": "stdout",
     "output_type": "stream",
     "text": [
      "Number of synthetic images: 500\n"
     ]
    },
    {
     "name": "stderr",
     "output_type": "stream",
     "text": [
      " 51%|█████     | 51002/100001 [1:49:27<59:47:20,  4.39s/it]"
     ]
    },
    {
     "name": "stdout",
     "output_type": "stream",
     "text": [
      "Current fid score: 1.0195113882726083\n",
      "Fid scores: [5.176135784826485, 2.49733748630797, 2.556800986640896, 2.551807388342233, 3.0005414208896823, 2.6693746896472135, 2.327712167642524, 2.753024418615748, 1.810803698247632, 1.882469618869699, 2.3049020902006205, 1.2671737770059046, 2.1210468891055463, 2.099174223550225, 2.916100690765896, 3.40813729288425, 3.245391894475338, 3.857025155346646, 3.9987907417992634, 1.1312376693415231, 1.2186857992723503, 1.8961604960656189, 1.639260863742642, 1.4429721571320542, 1.2975153110277695, 1.2989564652328056, 1.2159174147751202, 1.2886615711632565, 1.2749489523852944, 1.2123217476264827, 1.130321950731723, 1.4349116027401223, 1.325705351921183, 0.9511910740117848, 0.7728854208281035, 1.0974412373000142, 1.3230233049879843, 1.456390242262266, 0.9723678173420041, 1.0042308899555294, 1.147213070903458, 1.1264658019655336, 1.0130370458094191, 1.2854713703383176, 1.395702880834726, 1.2354265562601796, 1.1165221470255844, 0.8902281152901743, 0.9371797233348538, 0.961486559589865, 0.9584809289781582, 1.0195113882726083]\n"
     ]
    },
    {
     "name": "stderr",
     "output_type": "stream",
     "text": [
      "  0%|          | 0/175 [00:10<?, ?it/s]3:06:36,  4.38it/s] \n",
      "  0%|          | 0/15 [00:02<?, ?it/s]\n",
      " 51%|█████     | 51103/100001 [1:49:38<1:25:29,  9.53it/s]"
     ]
    },
    {
     "name": "stdout",
     "output_type": "stream",
     "text": [
      "GAN: loss d: 3.54299    loss g: -2.86991\n"
     ]
    },
    {
     "name": "stderr",
     "output_type": "stream",
     "text": [
      " 51%|█████     | 51201/100001 [1:49:48<1:31:25,  8.90it/s]"
     ]
    },
    {
     "name": "stdout",
     "output_type": "stream",
     "text": [
      "GAN: loss d: 1.98068    loss g: -1.44785\n"
     ]
    },
    {
     "name": "stderr",
     "output_type": "stream",
     "text": [
      " 51%|█████▏    | 51301/100001 [1:49:59<1:31:29,  8.87it/s]"
     ]
    },
    {
     "name": "stdout",
     "output_type": "stream",
     "text": [
      "GAN: loss d: 2.54526    loss g: -3.01451\n"
     ]
    },
    {
     "name": "stderr",
     "output_type": "stream",
     "text": [
      " 51%|█████▏    | 51401/100001 [1:50:10<1:29:39,  9.03it/s]"
     ]
    },
    {
     "name": "stdout",
     "output_type": "stream",
     "text": [
      "GAN: loss d: 4.75212    loss g: -1.67195\n"
     ]
    },
    {
     "name": "stderr",
     "output_type": "stream",
     "text": [
      " 52%|█████▏    | 51503/100001 [1:50:21<1:24:56,  9.52it/s]"
     ]
    },
    {
     "name": "stdout",
     "output_type": "stream",
     "text": [
      "GAN: loss d: 4.75957    loss g: -2.73943\n"
     ]
    },
    {
     "name": "stderr",
     "output_type": "stream",
     "text": [
      " 52%|█████▏    | 51601/100001 [1:50:31<1:29:30,  9.01it/s]"
     ]
    },
    {
     "name": "stdout",
     "output_type": "stream",
     "text": [
      "GAN: loss d: 5.69828    loss g: -2.66179\n"
     ]
    },
    {
     "name": "stderr",
     "output_type": "stream",
     "text": [
      " 52%|█████▏    | 51701/100001 [1:50:42<1:29:05,  9.04it/s]"
     ]
    },
    {
     "name": "stdout",
     "output_type": "stream",
     "text": [
      "GAN: loss d: 4.95237    loss g: -2.66635\n"
     ]
    },
    {
     "name": "stderr",
     "output_type": "stream",
     "text": [
      " 52%|█████▏    | 51801/100001 [1:50:53<1:29:53,  8.94it/s]"
     ]
    },
    {
     "name": "stdout",
     "output_type": "stream",
     "text": [
      "GAN: loss d: 4.65793    loss g: -2.47616\n"
     ]
    },
    {
     "name": "stderr",
     "output_type": "stream",
     "text": [
      " 52%|█████▏    | 51901/100001 [1:51:04<1:28:20,  9.08it/s]"
     ]
    },
    {
     "name": "stdout",
     "output_type": "stream",
     "text": [
      "GAN: loss d: 4.40336    loss g: -3.82721\n"
     ]
    },
    {
     "name": "stderr",
     "output_type": "stream",
     "text": [
      " 52%|█████▏    | 52000/100001 [1:51:14<1:25:19,  9.38it/s]"
     ]
    },
    {
     "name": "stdout",
     "output_type": "stream",
     "text": [
      "GAN: loss d: 2.24706    loss g: -2.11411\n",
      "saving current model\n"
     ]
    },
    {
     "name": "stderr",
     "output_type": "stream",
     "text": [
      "\n",
      "  0%|          | 0/175 [00:00<?, ?it/s]\u001b[A"
     ]
    },
    {
     "name": "stdout",
     "output_type": "stream",
     "text": [
      "Number of real images: 5626\n"
     ]
    },
    {
     "name": "stderr",
     "output_type": "stream",
     "text": [
      "\n",
      "\n",
      "  0%|          | 0/15 [00:00<?, ?it/s]\u001b[A\u001b[A"
     ]
    },
    {
     "name": "stdout",
     "output_type": "stream",
     "text": [
      "Number of synthetic images: 500\n"
     ]
    },
    {
     "name": "stderr",
     "output_type": "stream",
     "text": [
      " 52%|█████▏    | 52001/100001 [1:51:35<83:18:15,  6.25s/it]"
     ]
    },
    {
     "name": "stdout",
     "output_type": "stream",
     "text": [
      "Current fid score: 1.1121585784748262\n",
      "Fid scores: [5.176135784826485, 2.49733748630797, 2.556800986640896, 2.551807388342233, 3.0005414208896823, 2.6693746896472135, 2.327712167642524, 2.753024418615748, 1.810803698247632, 1.882469618869699, 2.3049020902006205, 1.2671737770059046, 2.1210468891055463, 2.099174223550225, 2.916100690765896, 3.40813729288425, 3.245391894475338, 3.857025155346646, 3.9987907417992634, 1.1312376693415231, 1.2186857992723503, 1.8961604960656189, 1.639260863742642, 1.4429721571320542, 1.2975153110277695, 1.2989564652328056, 1.2159174147751202, 1.2886615711632565, 1.2749489523852944, 1.2123217476264827, 1.130321950731723, 1.4349116027401223, 1.325705351921183, 0.9511910740117848, 0.7728854208281035, 1.0974412373000142, 1.3230233049879843, 1.456390242262266, 0.9723678173420041, 1.0042308899555294, 1.147213070903458, 1.1264658019655336, 1.0130370458094191, 1.2854713703383176, 1.395702880834726, 1.2354265562601796, 1.1165221470255844, 0.8902281152901743, 0.9371797233348538, 0.961486559589865, 0.9584809289781582, 1.0195113882726083, 1.1121585784748262]\n"
     ]
    },
    {
     "name": "stderr",
     "output_type": "stream",
     "text": [
      "  0%|          | 0/175 [00:15<?, ?it/s]1:25:25,  9.35it/s] \n",
      "  0%|          | 0/15 [00:06<?, ?it/s]\n",
      " 52%|█████▏    | 52101/100001 [1:51:45<1:27:42,  9.10it/s]"
     ]
    },
    {
     "name": "stdout",
     "output_type": "stream",
     "text": [
      "GAN: loss d: 1.17984    loss g: -1.46509\n"
     ]
    },
    {
     "name": "stderr",
     "output_type": "stream",
     "text": [
      " 52%|█████▏    | 52201/100001 [1:51:56<1:30:39,  8.79it/s]"
     ]
    },
    {
     "name": "stdout",
     "output_type": "stream",
     "text": [
      "GAN: loss d: 0.39146    loss g: -1.71195\n"
     ]
    },
    {
     "name": "stderr",
     "output_type": "stream",
     "text": [
      " 52%|█████▏    | 52301/100001 [1:52:07<1:27:33,  9.08it/s]"
     ]
    },
    {
     "name": "stdout",
     "output_type": "stream",
     "text": [
      "GAN: loss d: 5.05624    loss g: -2.02011\n"
     ]
    },
    {
     "name": "stderr",
     "output_type": "stream",
     "text": [
      " 52%|█████▏    | 52401/100001 [1:52:18<1:28:58,  8.92it/s]"
     ]
    },
    {
     "name": "stdout",
     "output_type": "stream",
     "text": [
      "GAN: loss d: 0.03848    loss g: -1.90205\n"
     ]
    },
    {
     "name": "stderr",
     "output_type": "stream",
     "text": [
      " 53%|█████▎    | 52501/100001 [1:52:28<1:29:40,  8.83it/s]"
     ]
    },
    {
     "name": "stdout",
     "output_type": "stream",
     "text": [
      "GAN: loss d: 3.45491    loss g: -1.59322\n"
     ]
    },
    {
     "name": "stderr",
     "output_type": "stream",
     "text": [
      " 53%|█████▎    | 52601/100001 [1:52:39<1:29:27,  8.83it/s]"
     ]
    },
    {
     "name": "stdout",
     "output_type": "stream",
     "text": [
      "GAN: loss d: 1.78388    loss g: -2.37204\n"
     ]
    },
    {
     "name": "stderr",
     "output_type": "stream",
     "text": [
      " 53%|█████▎    | 52701/100001 [1:52:50<1:25:45,  9.19it/s]"
     ]
    },
    {
     "name": "stdout",
     "output_type": "stream",
     "text": [
      "GAN: loss d: 3.69427    loss g: -2.07093\n"
     ]
    },
    {
     "name": "stderr",
     "output_type": "stream",
     "text": [
      " 53%|█████▎    | 52801/100001 [1:53:01<1:28:27,  8.89it/s]"
     ]
    },
    {
     "name": "stdout",
     "output_type": "stream",
     "text": [
      "GAN: loss d: 0.53415    loss g: -1.42113\n"
     ]
    },
    {
     "name": "stderr",
     "output_type": "stream",
     "text": [
      " 53%|█████▎    | 52901/100001 [1:53:11<1:28:10,  8.90it/s]"
     ]
    },
    {
     "name": "stdout",
     "output_type": "stream",
     "text": [
      "GAN: loss d: 4.49495    loss g: -1.70307\n"
     ]
    },
    {
     "name": "stderr",
     "output_type": "stream",
     "text": [
      " 53%|█████▎    | 53000/100001 [1:53:22<1:24:07,  9.31it/s]"
     ]
    },
    {
     "name": "stdout",
     "output_type": "stream",
     "text": [
      "GAN: loss d: 2.02197    loss g: -3.02302\n",
      "saving current model\n"
     ]
    },
    {
     "name": "stderr",
     "output_type": "stream",
     "text": [
      "\n",
      "  0%|          | 0/175 [00:00<?, ?it/s]\u001b[A"
     ]
    },
    {
     "name": "stdout",
     "output_type": "stream",
     "text": [
      "Number of real images: 5626\n"
     ]
    },
    {
     "name": "stderr",
     "output_type": "stream",
     "text": [
      "\n",
      "\n",
      "  0%|          | 0/15 [00:00<?, ?it/s]\u001b[A\u001b[A"
     ]
    },
    {
     "name": "stdout",
     "output_type": "stream",
     "text": [
      "Number of synthetic images: 500\n"
     ]
    },
    {
     "name": "stderr",
     "output_type": "stream",
     "text": [
      " 53%|█████▎    | 53001/100001 [1:53:42<81:22:47,  6.23s/it]"
     ]
    },
    {
     "name": "stdout",
     "output_type": "stream",
     "text": [
      "Current fid score: 0.8836194939814135\n",
      "Fid scores: [5.176135784826485, 2.49733748630797, 2.556800986640896, 2.551807388342233, 3.0005414208896823, 2.6693746896472135, 2.327712167642524, 2.753024418615748, 1.810803698247632, 1.882469618869699, 2.3049020902006205, 1.2671737770059046, 2.1210468891055463, 2.099174223550225, 2.916100690765896, 3.40813729288425, 3.245391894475338, 3.857025155346646, 3.9987907417992634, 1.1312376693415231, 1.2186857992723503, 1.8961604960656189, 1.639260863742642, 1.4429721571320542, 1.2975153110277695, 1.2989564652328056, 1.2159174147751202, 1.2886615711632565, 1.2749489523852944, 1.2123217476264827, 1.130321950731723, 1.4349116027401223, 1.325705351921183, 0.9511910740117848, 0.7728854208281035, 1.0974412373000142, 1.3230233049879843, 1.456390242262266, 0.9723678173420041, 1.0042308899555294, 1.147213070903458, 1.1264658019655336, 1.0130370458094191, 1.2854713703383176, 1.395702880834726, 1.2354265562601796, 1.1165221470255844, 0.8902281152901743, 0.9371797233348538, 0.961486559589865, 0.9584809289781582, 1.0195113882726083, 1.1121585784748262, 0.8836194939814135]\n"
     ]
    },
    {
     "name": "stderr",
     "output_type": "stream",
     "text": [
      "  0%|          | 0/175 [00:14<?, ?it/s]1:26:30,  9.05it/s] \n",
      "  0%|          | 0/15 [00:05<?, ?it/s]\n",
      " 53%|█████▎    | 53101/100001 [1:53:53<1:29:07,  8.77it/s]"
     ]
    },
    {
     "name": "stdout",
     "output_type": "stream",
     "text": [
      "GAN: loss d: 2.93183    loss g: -3.00782\n"
     ]
    },
    {
     "name": "stderr",
     "output_type": "stream",
     "text": [
      " 53%|█████▎    | 53201/100001 [1:54:04<1:25:48,  9.09it/s]"
     ]
    },
    {
     "name": "stdout",
     "output_type": "stream",
     "text": [
      "GAN: loss d: 4.21815    loss g: -2.41837\n"
     ]
    },
    {
     "name": "stderr",
     "output_type": "stream",
     "text": [
      " 53%|█████▎    | 53303/100001 [1:54:15<1:21:48,  9.51it/s]"
     ]
    },
    {
     "name": "stdout",
     "output_type": "stream",
     "text": [
      "GAN: loss d: 5.48370    loss g: -2.58453\n"
     ]
    },
    {
     "name": "stderr",
     "output_type": "stream",
     "text": [
      " 53%|█████▎    | 53401/100001 [1:54:25<1:28:40,  8.76it/s]"
     ]
    },
    {
     "name": "stdout",
     "output_type": "stream",
     "text": [
      "GAN: loss d: -1.59067    loss g: -2.25472\n"
     ]
    },
    {
     "name": "stderr",
     "output_type": "stream",
     "text": [
      " 54%|█████▎    | 53501/100001 [1:54:36<1:25:59,  9.01it/s]"
     ]
    },
    {
     "name": "stdout",
     "output_type": "stream",
     "text": [
      "GAN: loss d: 2.27173    loss g: -2.74692\n"
     ]
    },
    {
     "name": "stderr",
     "output_type": "stream",
     "text": [
      " 54%|█████▎    | 53601/100001 [1:54:47<1:25:10,  9.08it/s]"
     ]
    },
    {
     "name": "stdout",
     "output_type": "stream",
     "text": [
      "GAN: loss d: 4.09773    loss g: -3.53954\n"
     ]
    },
    {
     "name": "stderr",
     "output_type": "stream",
     "text": [
      " 54%|█████▎    | 53701/100001 [1:54:57<1:38:25,  7.84it/s]"
     ]
    },
    {
     "name": "stdout",
     "output_type": "stream",
     "text": [
      "GAN: loss d: 2.58065    loss g: -2.71899\n"
     ]
    },
    {
     "name": "stderr",
     "output_type": "stream",
     "text": [
      " 54%|█████▍    | 53801/100001 [1:55:08<1:26:29,  8.90it/s]"
     ]
    },
    {
     "name": "stdout",
     "output_type": "stream",
     "text": [
      "GAN: loss d: 1.44977    loss g: -3.20558\n"
     ]
    },
    {
     "name": "stderr",
     "output_type": "stream",
     "text": [
      " 54%|█████▍    | 53901/100001 [1:55:19<1:25:16,  9.01it/s]"
     ]
    },
    {
     "name": "stdout",
     "output_type": "stream",
     "text": [
      "GAN: loss d: 1.69550    loss g: -3.12379\n"
     ]
    },
    {
     "name": "stderr",
     "output_type": "stream",
     "text": [
      " 54%|█████▍    | 54000/100001 [1:55:29<1:23:47,  9.15it/s]"
     ]
    },
    {
     "name": "stdout",
     "output_type": "stream",
     "text": [
      "GAN: loss d: 4.16163    loss g: -3.16219\n",
      "saving current model\n"
     ]
    },
    {
     "name": "stderr",
     "output_type": "stream",
     "text": [
      "\n",
      "  0%|          | 0/175 [00:00<?, ?it/s]\u001b[A"
     ]
    },
    {
     "name": "stdout",
     "output_type": "stream",
     "text": [
      "Number of real images: 5626\n"
     ]
    },
    {
     "name": "stderr",
     "output_type": "stream",
     "text": [
      "\n",
      "\n",
      "  0%|          | 0/15 [00:00<?, ?it/s]\u001b[A\u001b[A"
     ]
    },
    {
     "name": "stdout",
     "output_type": "stream",
     "text": [
      "Number of synthetic images: 500\n"
     ]
    },
    {
     "name": "stderr",
     "output_type": "stream",
     "text": [
      " 54%|█████▍    | 54001/100001 [1:55:50<80:01:44,  6.26s/it]"
     ]
    },
    {
     "name": "stdout",
     "output_type": "stream",
     "text": [
      "Current fid score: 1.2628025717982325\n",
      "Fid scores: [5.176135784826485, 2.49733748630797, 2.556800986640896, 2.551807388342233, 3.0005414208896823, 2.6693746896472135, 2.327712167642524, 2.753024418615748, 1.810803698247632, 1.882469618869699, 2.3049020902006205, 1.2671737770059046, 2.1210468891055463, 2.099174223550225, 2.916100690765896, 3.40813729288425, 3.245391894475338, 3.857025155346646, 3.9987907417992634, 1.1312376693415231, 1.2186857992723503, 1.8961604960656189, 1.639260863742642, 1.4429721571320542, 1.2975153110277695, 1.2989564652328056, 1.2159174147751202, 1.2886615711632565, 1.2749489523852944, 1.2123217476264827, 1.130321950731723, 1.4349116027401223, 1.325705351921183, 0.9511910740117848, 0.7728854208281035, 1.0974412373000142, 1.3230233049879843, 1.456390242262266, 0.9723678173420041, 1.0042308899555294, 1.147213070903458, 1.1264658019655336, 1.0130370458094191, 1.2854713703383176, 1.395702880834726, 1.2354265562601796, 1.1165221470255844, 0.8902281152901743, 0.9371797233348538, 0.961486559589865, 0.9584809289781582, 1.0195113882726083, 1.1121585784748262, 0.8836194939814135, 1.2628025717982325]\n"
     ]
    },
    {
     "name": "stderr",
     "output_type": "stream",
     "text": [
      "  0%|          | 0/175 [00:10<?, ?it/s]4:28:58,  2.85it/s] \n",
      "  0%|          | 0/15 [00:02<?, ?it/s]\n",
      " 54%|█████▍    | 54101/100001 [1:56:01<1:25:35,  8.94it/s]"
     ]
    },
    {
     "name": "stdout",
     "output_type": "stream",
     "text": [
      "GAN: loss d: 2.60779    loss g: -3.47858\n"
     ]
    },
    {
     "name": "stderr",
     "output_type": "stream",
     "text": [
      " 54%|█████▍    | 54201/100001 [1:56:11<1:25:00,  8.98it/s]"
     ]
    },
    {
     "name": "stdout",
     "output_type": "stream",
     "text": [
      "GAN: loss d: 3.44987    loss g: -1.80247\n"
     ]
    },
    {
     "name": "stderr",
     "output_type": "stream",
     "text": [
      " 54%|█████▍    | 54301/100001 [1:56:22<1:26:34,  8.80it/s]"
     ]
    },
    {
     "name": "stdout",
     "output_type": "stream",
     "text": [
      "GAN: loss d: 3.15949    loss g: -2.31651\n"
     ]
    },
    {
     "name": "stderr",
     "output_type": "stream",
     "text": [
      " 54%|█████▍    | 54401/100001 [1:56:33<1:24:27,  9.00it/s]"
     ]
    },
    {
     "name": "stdout",
     "output_type": "stream",
     "text": [
      "GAN: loss d: 3.16759    loss g: -2.99395\n"
     ]
    },
    {
     "name": "stderr",
     "output_type": "stream",
     "text": [
      " 55%|█████▍    | 54501/100001 [1:56:44<1:24:15,  9.00it/s]"
     ]
    },
    {
     "name": "stdout",
     "output_type": "stream",
     "text": [
      "GAN: loss d: 3.07731    loss g: -3.34674\n"
     ]
    },
    {
     "name": "stderr",
     "output_type": "stream",
     "text": [
      " 55%|█████▍    | 54603/100001 [1:56:55<1:19:25,  9.53it/s]"
     ]
    },
    {
     "name": "stdout",
     "output_type": "stream",
     "text": [
      "GAN: loss d: 2.94842    loss g: -1.96465\n"
     ]
    },
    {
     "name": "stderr",
     "output_type": "stream",
     "text": [
      " 55%|█████▍    | 54701/100001 [1:57:05<1:24:35,  8.92it/s]"
     ]
    },
    {
     "name": "stdout",
     "output_type": "stream",
     "text": [
      "GAN: loss d: 4.06561    loss g: -2.53155\n"
     ]
    },
    {
     "name": "stderr",
     "output_type": "stream",
     "text": [
      " 55%|█████▍    | 54801/100001 [1:57:16<1:23:35,  9.01it/s]"
     ]
    },
    {
     "name": "stdout",
     "output_type": "stream",
     "text": [
      "GAN: loss d: 2.23982    loss g: -2.64282\n"
     ]
    },
    {
     "name": "stderr",
     "output_type": "stream",
     "text": [
      " 55%|█████▍    | 54903/100001 [1:57:27<1:19:26,  9.46it/s]"
     ]
    },
    {
     "name": "stdout",
     "output_type": "stream",
     "text": [
      "GAN: loss d: 3.84093    loss g: -2.30027\n"
     ]
    },
    {
     "name": "stderr",
     "output_type": "stream",
     "text": [
      " 55%|█████▍    | 55000/100001 [1:57:37<1:21:07,  9.24it/s]"
     ]
    },
    {
     "name": "stdout",
     "output_type": "stream",
     "text": [
      "GAN: loss d: 1.24352    loss g: -4.10446\n",
      "saving current model\n"
     ]
    },
    {
     "name": "stderr",
     "output_type": "stream",
     "text": [
      "\n",
      "  0%|          | 0/175 [00:00<?, ?it/s]\u001b[A"
     ]
    },
    {
     "name": "stdout",
     "output_type": "stream",
     "text": [
      "Number of real images: 5626\n"
     ]
    },
    {
     "name": "stderr",
     "output_type": "stream",
     "text": [
      "\n",
      "\n",
      "  0%|          | 0/15 [00:00<?, ?it/s]\u001b[A\u001b[A"
     ]
    },
    {
     "name": "stdout",
     "output_type": "stream",
     "text": [
      "Number of synthetic images: 500\n"
     ]
    },
    {
     "name": "stderr",
     "output_type": "stream",
     "text": [
      " 55%|█████▌    | 55001/100001 [1:57:58<77:56:52,  6.24s/it]"
     ]
    },
    {
     "name": "stdout",
     "output_type": "stream",
     "text": [
      "Current fid score: 1.0003107218338911\n",
      "Fid scores: [5.176135784826485, 2.49733748630797, 2.556800986640896, 2.551807388342233, 3.0005414208896823, 2.6693746896472135, 2.327712167642524, 2.753024418615748, 1.810803698247632, 1.882469618869699, 2.3049020902006205, 1.2671737770059046, 2.1210468891055463, 2.099174223550225, 2.916100690765896, 3.40813729288425, 3.245391894475338, 3.857025155346646, 3.9987907417992634, 1.1312376693415231, 1.2186857992723503, 1.8961604960656189, 1.639260863742642, 1.4429721571320542, 1.2975153110277695, 1.2989564652328056, 1.2159174147751202, 1.2886615711632565, 1.2749489523852944, 1.2123217476264827, 1.130321950731723, 1.4349116027401223, 1.325705351921183, 0.9511910740117848, 0.7728854208281035, 1.0974412373000142, 1.3230233049879843, 1.456390242262266, 0.9723678173420041, 1.0042308899555294, 1.147213070903458, 1.1264658019655336, 1.0130370458094191, 1.2854713703383176, 1.395702880834726, 1.2354265562601796, 1.1165221470255844, 0.8902281152901743, 0.9371797233348538, 0.961486559589865, 0.9584809289781582, 1.0195113882726083, 1.1121585784748262, 0.8836194939814135, 1.2628025717982325, 1.0003107218338911]\n"
     ]
    },
    {
     "name": "stderr",
     "output_type": "stream",
     "text": [
      "  0%|          | 0/175 [00:18<?, ?it/s]1:19:20,  9.44it/s] \n",
      "  0%|          | 0/15 [00:09<?, ?it/s]\n",
      " 55%|█████▌    | 55101/100001 [1:58:08<1:23:15,  8.99it/s]"
     ]
    },
    {
     "name": "stdout",
     "output_type": "stream",
     "text": [
      "GAN: loss d: 4.29761    loss g: -2.33128\n"
     ]
    },
    {
     "name": "stderr",
     "output_type": "stream",
     "text": [
      " 55%|█████▌    | 55201/100001 [1:58:19<1:23:37,  8.93it/s]"
     ]
    },
    {
     "name": "stdout",
     "output_type": "stream",
     "text": [
      "GAN: loss d: 2.31494    loss g: -2.63684\n"
     ]
    },
    {
     "name": "stderr",
     "output_type": "stream",
     "text": [
      " 55%|█████▌    | 55303/100001 [1:58:30<1:18:16,  9.52it/s]"
     ]
    },
    {
     "name": "stdout",
     "output_type": "stream",
     "text": [
      "GAN: loss d: 4.23572    loss g: -2.36296\n"
     ]
    },
    {
     "name": "stderr",
     "output_type": "stream",
     "text": [
      " 55%|█████▌    | 55403/100001 [1:58:41<1:17:52,  9.55it/s]"
     ]
    },
    {
     "name": "stdout",
     "output_type": "stream",
     "text": [
      "GAN: loss d: 3.75273    loss g: -2.06757\n"
     ]
    },
    {
     "name": "stderr",
     "output_type": "stream",
     "text": [
      " 56%|█████▌    | 55502/100001 [1:58:51<1:20:56,  9.16it/s]"
     ]
    },
    {
     "name": "stdout",
     "output_type": "stream",
     "text": [
      "GAN: loss d: 3.13948    loss g: -4.01494\n"
     ]
    },
    {
     "name": "stderr",
     "output_type": "stream",
     "text": [
      " 56%|█████▌    | 55601/100001 [1:59:02<1:29:57,  8.23it/s]"
     ]
    },
    {
     "name": "stdout",
     "output_type": "stream",
     "text": [
      "GAN: loss d: 2.13299    loss g: -1.67102\n"
     ]
    },
    {
     "name": "stderr",
     "output_type": "stream",
     "text": [
      " 56%|█████▌    | 55701/100001 [1:59:13<1:20:43,  9.15it/s]"
     ]
    },
    {
     "name": "stdout",
     "output_type": "stream",
     "text": [
      "GAN: loss d: 4.61205    loss g: -2.88081\n"
     ]
    },
    {
     "name": "stderr",
     "output_type": "stream",
     "text": [
      " 56%|█████▌    | 55801/100001 [1:59:23<1:22:36,  8.92it/s]"
     ]
    },
    {
     "name": "stdout",
     "output_type": "stream",
     "text": [
      "GAN: loss d: 6.28362    loss g: -2.94111\n"
     ]
    },
    {
     "name": "stderr",
     "output_type": "stream",
     "text": [
      " 56%|█████▌    | 55901/100001 [1:59:34<1:22:00,  8.96it/s]"
     ]
    },
    {
     "name": "stdout",
     "output_type": "stream",
     "text": [
      "GAN: loss d: 3.46296    loss g: -1.78859\n"
     ]
    },
    {
     "name": "stderr",
     "output_type": "stream",
     "text": [
      " 56%|█████▌    | 56000/100001 [1:59:45<1:19:31,  9.22it/s]"
     ]
    },
    {
     "name": "stdout",
     "output_type": "stream",
     "text": [
      "GAN: loss d: -0.58204    loss g: -2.49399\n",
      "saving current model\n"
     ]
    },
    {
     "name": "stderr",
     "output_type": "stream",
     "text": [
      "\n",
      "  0%|          | 0/175 [00:00<?, ?it/s]\u001b[A"
     ]
    },
    {
     "name": "stdout",
     "output_type": "stream",
     "text": [
      "Number of real images: 5626\n"
     ]
    },
    {
     "name": "stderr",
     "output_type": "stream",
     "text": [
      "\n",
      "\n",
      "  0%|          | 0/15 [00:00<?, ?it/s]\u001b[A\u001b[A"
     ]
    },
    {
     "name": "stdout",
     "output_type": "stream",
     "text": [
      "Number of synthetic images: 500\n"
     ]
    },
    {
     "name": "stderr",
     "output_type": "stream",
     "text": [
      " 56%|█████▌    | 56002/100001 [2:00:05<53:25:43,  4.37s/it]"
     ]
    },
    {
     "name": "stdout",
     "output_type": "stream",
     "text": [
      "Current fid score: 1.0250539841592463\n",
      "Fid scores: [5.176135784826485, 2.49733748630797, 2.556800986640896, 2.551807388342233, 3.0005414208896823, 2.6693746896472135, 2.327712167642524, 2.753024418615748, 1.810803698247632, 1.882469618869699, 2.3049020902006205, 1.2671737770059046, 2.1210468891055463, 2.099174223550225, 2.916100690765896, 3.40813729288425, 3.245391894475338, 3.857025155346646, 3.9987907417992634, 1.1312376693415231, 1.2186857992723503, 1.8961604960656189, 1.639260863742642, 1.4429721571320542, 1.2975153110277695, 1.2989564652328056, 1.2159174147751202, 1.2886615711632565, 1.2749489523852944, 1.2123217476264827, 1.130321950731723, 1.4349116027401223, 1.325705351921183, 0.9511910740117848, 0.7728854208281035, 1.0974412373000142, 1.3230233049879843, 1.456390242262266, 0.9723678173420041, 1.0042308899555294, 1.147213070903458, 1.1264658019655336, 1.0130370458094191, 1.2854713703383176, 1.395702880834726, 1.2354265562601796, 1.1165221470255844, 0.8902281152901743, 0.9371797233348538, 0.961486559589865, 0.9584809289781582, 1.0195113882726083, 1.1121585784748262, 0.8836194939814135, 1.2628025717982325, 1.0003107218338911, 1.0250539841592463]\n"
     ]
    },
    {
     "name": "stderr",
     "output_type": "stream",
     "text": [
      "  0%|          | 0/175 [00:15<?, ?it/s]1:19:51,  9.17it/s] \n",
      "  0%|          | 0/15 [00:06<?, ?it/s]\n",
      " 56%|█████▌    | 56101/100001 [2:00:16<1:25:00,  8.61it/s]"
     ]
    },
    {
     "name": "stdout",
     "output_type": "stream",
     "text": [
      "GAN: loss d: 4.36145    loss g: -2.95889\n"
     ]
    },
    {
     "name": "stderr",
     "output_type": "stream",
     "text": [
      " 56%|█████▌    | 56201/100001 [2:00:27<1:21:09,  8.99it/s]"
     ]
    },
    {
     "name": "stdout",
     "output_type": "stream",
     "text": [
      "GAN: loss d: 4.09435    loss g: -2.72450\n"
     ]
    },
    {
     "name": "stderr",
     "output_type": "stream",
     "text": [
      " 56%|█████▋    | 56301/100001 [2:00:37<1:22:07,  8.87it/s]"
     ]
    },
    {
     "name": "stdout",
     "output_type": "stream",
     "text": [
      "GAN: loss d: 3.26638    loss g: -2.09905\n"
     ]
    },
    {
     "name": "stderr",
     "output_type": "stream",
     "text": [
      " 56%|█████▋    | 56401/100001 [2:00:48<1:21:54,  8.87it/s]"
     ]
    },
    {
     "name": "stdout",
     "output_type": "stream",
     "text": [
      "GAN: loss d: 4.35344    loss g: -2.66253\n"
     ]
    },
    {
     "name": "stderr",
     "output_type": "stream",
     "text": [
      " 57%|█████▋    | 56503/100001 [2:00:59<1:16:11,  9.51it/s]"
     ]
    },
    {
     "name": "stdout",
     "output_type": "stream",
     "text": [
      "GAN: loss d: 6.66968    loss g: -2.83623\n"
     ]
    },
    {
     "name": "stderr",
     "output_type": "stream",
     "text": [
      " 57%|█████▋    | 56601/100001 [2:01:10<1:21:07,  8.92it/s]"
     ]
    },
    {
     "name": "stdout",
     "output_type": "stream",
     "text": [
      "GAN: loss d: 3.45343    loss g: -2.60532\n"
     ]
    },
    {
     "name": "stderr",
     "output_type": "stream",
     "text": [
      " 57%|█████▋    | 56701/100001 [2:01:20<1:33:31,  7.72it/s]"
     ]
    },
    {
     "name": "stdout",
     "output_type": "stream",
     "text": [
      "GAN: loss d: 0.82012    loss g: -1.80537\n"
     ]
    },
    {
     "name": "stderr",
     "output_type": "stream",
     "text": [
      " 57%|█████▋    | 56801/100001 [2:01:31<1:19:13,  9.09it/s]"
     ]
    },
    {
     "name": "stdout",
     "output_type": "stream",
     "text": [
      "GAN: loss d: 1.52077    loss g: -3.11766\n"
     ]
    },
    {
     "name": "stderr",
     "output_type": "stream",
     "text": [
      " 57%|█████▋    | 56901/100001 [2:01:42<1:20:52,  8.88it/s]"
     ]
    },
    {
     "name": "stdout",
     "output_type": "stream",
     "text": [
      "GAN: loss d: 4.29795    loss g: -2.75654\n"
     ]
    },
    {
     "name": "stderr",
     "output_type": "stream",
     "text": [
      " 57%|█████▋    | 57000/100001 [2:01:52<1:15:34,  9.48it/s]"
     ]
    },
    {
     "name": "stdout",
     "output_type": "stream",
     "text": [
      "GAN: loss d: 2.20466    loss g: -3.00999\n",
      "saving current model\n"
     ]
    },
    {
     "name": "stderr",
     "output_type": "stream",
     "text": [
      "\n",
      "  0%|          | 0/175 [00:00<?, ?it/s]\u001b[A"
     ]
    },
    {
     "name": "stdout",
     "output_type": "stream",
     "text": [
      "Number of real images: 5626\n"
     ]
    },
    {
     "name": "stderr",
     "output_type": "stream",
     "text": [
      "\n",
      "\n",
      "  0%|          | 0/15 [00:00<?, ?it/s]\u001b[A\u001b[A"
     ]
    },
    {
     "name": "stdout",
     "output_type": "stream",
     "text": [
      "Number of synthetic images: 500\n"
     ]
    },
    {
     "name": "stderr",
     "output_type": "stream",
     "text": [
      " 57%|█████▋    | 57001/100001 [2:02:13<75:02:41,  6.28s/it]"
     ]
    },
    {
     "name": "stdout",
     "output_type": "stream",
     "text": [
      "Current fid score: 1.2311716920488536\n",
      "Fid scores: [5.176135784826485, 2.49733748630797, 2.556800986640896, 2.551807388342233, 3.0005414208896823, 2.6693746896472135, 2.327712167642524, 2.753024418615748, 1.810803698247632, 1.882469618869699, 2.3049020902006205, 1.2671737770059046, 2.1210468891055463, 2.099174223550225, 2.916100690765896, 3.40813729288425, 3.245391894475338, 3.857025155346646, 3.9987907417992634, 1.1312376693415231, 1.2186857992723503, 1.8961604960656189, 1.639260863742642, 1.4429721571320542, 1.2975153110277695, 1.2989564652328056, 1.2159174147751202, 1.2886615711632565, 1.2749489523852944, 1.2123217476264827, 1.130321950731723, 1.4349116027401223, 1.325705351921183, 0.9511910740117848, 0.7728854208281035, 1.0974412373000142, 1.3230233049879843, 1.456390242262266, 0.9723678173420041, 1.0042308899555294, 1.147213070903458, 1.1264658019655336, 1.0130370458094191, 1.2854713703383176, 1.395702880834726, 1.2354265562601796, 1.1165221470255844, 0.8902281152901743, 0.9371797233348538, 0.961486559589865, 0.9584809289781582, 1.0195113882726083, 1.1121585784748262, 0.8836194939814135, 1.2628025717982325, 1.0003107218338911, 1.0250539841592463, 1.2311716920488536]\n"
     ]
    },
    {
     "name": "stderr",
     "output_type": "stream",
     "text": [
      "  0%|          | 0/175 [00:10<?, ?it/s]7:07:03,  1.68it/s] \n",
      "  0%|          | 0/15 [00:01<?, ?it/s]\n",
      " 57%|█████▋    | 57102/100001 [2:02:24<1:18:47,  9.07it/s]"
     ]
    },
    {
     "name": "stdout",
     "output_type": "stream",
     "text": [
      "GAN: loss d: 2.88069    loss g: -3.47290\n"
     ]
    },
    {
     "name": "stderr",
     "output_type": "stream",
     "text": [
      " 57%|█████▋    | 57201/100001 [2:02:35<1:19:25,  8.98it/s]"
     ]
    },
    {
     "name": "stdout",
     "output_type": "stream",
     "text": [
      "GAN: loss d: 4.23098    loss g: -3.38448\n"
     ]
    },
    {
     "name": "stderr",
     "output_type": "stream",
     "text": [
      " 57%|█████▋    | 57301/100001 [2:02:45<1:18:08,  9.11it/s]"
     ]
    },
    {
     "name": "stdout",
     "output_type": "stream",
     "text": [
      "GAN: loss d: 3.67030    loss g: -1.73358\n"
     ]
    },
    {
     "name": "stderr",
     "output_type": "stream",
     "text": [
      " 57%|█████▋    | 57401/100001 [2:02:56<1:18:12,  9.08it/s]"
     ]
    },
    {
     "name": "stdout",
     "output_type": "stream",
     "text": [
      "GAN: loss d: 4.93091    loss g: -3.55118\n"
     ]
    },
    {
     "name": "stderr",
     "output_type": "stream",
     "text": [
      " 58%|█████▊    | 57501/100001 [2:03:07<1:18:29,  9.03it/s]"
     ]
    },
    {
     "name": "stdout",
     "output_type": "stream",
     "text": [
      "GAN: loss d: 2.48686    loss g: -3.50760\n"
     ]
    },
    {
     "name": "stderr",
     "output_type": "stream",
     "text": [
      " 58%|█████▊    | 57601/100001 [2:03:17<1:19:01,  8.94it/s]"
     ]
    },
    {
     "name": "stdout",
     "output_type": "stream",
     "text": [
      "GAN: loss d: 3.92135    loss g: -3.78678\n"
     ]
    },
    {
     "name": "stderr",
     "output_type": "stream",
     "text": [
      " 58%|█████▊    | 57703/100001 [2:03:28<1:13:47,  9.55it/s]"
     ]
    },
    {
     "name": "stdout",
     "output_type": "stream",
     "text": [
      "GAN: loss d: 3.05345    loss g: -3.42304\n"
     ]
    },
    {
     "name": "stderr",
     "output_type": "stream",
     "text": [
      " 58%|█████▊    | 57801/100001 [2:03:39<1:17:21,  9.09it/s]"
     ]
    },
    {
     "name": "stdout",
     "output_type": "stream",
     "text": [
      "GAN: loss d: 1.68112    loss g: -2.62139\n"
     ]
    },
    {
     "name": "stderr",
     "output_type": "stream",
     "text": [
      " 58%|█████▊    | 57901/100001 [2:03:50<1:18:07,  8.98it/s]"
     ]
    },
    {
     "name": "stdout",
     "output_type": "stream",
     "text": [
      "GAN: loss d: 0.23405    loss g: -1.56971\n"
     ]
    },
    {
     "name": "stderr",
     "output_type": "stream",
     "text": [
      " 58%|█████▊    | 58000/100001 [2:04:00<1:14:43,  9.37it/s]"
     ]
    },
    {
     "name": "stdout",
     "output_type": "stream",
     "text": [
      "GAN: loss d: 2.00614    loss g: -2.91829\n",
      "saving current model\n"
     ]
    },
    {
     "name": "stderr",
     "output_type": "stream",
     "text": [
      "\n",
      "  0%|          | 0/175 [00:00<?, ?it/s]\u001b[A"
     ]
    },
    {
     "name": "stdout",
     "output_type": "stream",
     "text": [
      "Number of real images: 5626\n"
     ]
    },
    {
     "name": "stderr",
     "output_type": "stream",
     "text": [
      "\n",
      "\n",
      "  0%|          | 0/15 [00:00<?, ?it/s]\u001b[A\u001b[A"
     ]
    },
    {
     "name": "stdout",
     "output_type": "stream",
     "text": [
      "Number of synthetic images: 500\n"
     ]
    },
    {
     "name": "stderr",
     "output_type": "stream",
     "text": [
      " 58%|█████▊    | 58001/100001 [2:04:21<72:32:13,  6.22s/it]"
     ]
    },
    {
     "name": "stdout",
     "output_type": "stream",
     "text": [
      "Current fid score: 0.8466612256589094\n",
      "Fid scores: [5.176135784826485, 2.49733748630797, 2.556800986640896, 2.551807388342233, 3.0005414208896823, 2.6693746896472135, 2.327712167642524, 2.753024418615748, 1.810803698247632, 1.882469618869699, 2.3049020902006205, 1.2671737770059046, 2.1210468891055463, 2.099174223550225, 2.916100690765896, 3.40813729288425, 3.245391894475338, 3.857025155346646, 3.9987907417992634, 1.1312376693415231, 1.2186857992723503, 1.8961604960656189, 1.639260863742642, 1.4429721571320542, 1.2975153110277695, 1.2989564652328056, 1.2159174147751202, 1.2886615711632565, 1.2749489523852944, 1.2123217476264827, 1.130321950731723, 1.4349116027401223, 1.325705351921183, 0.9511910740117848, 0.7728854208281035, 1.0974412373000142, 1.3230233049879843, 1.456390242262266, 0.9723678173420041, 1.0042308899555294, 1.147213070903458, 1.1264658019655336, 1.0130370458094191, 1.2854713703383176, 1.395702880834726, 1.2354265562601796, 1.1165221470255844, 0.8902281152901743, 0.9371797233348538, 0.961486559589865, 0.9584809289781582, 1.0195113882726083, 1.1121585784748262, 0.8836194939814135, 1.2628025717982325, 1.0003107218338911, 1.0250539841592463, 1.2311716920488536, 0.8466612256589094]\n"
     ]
    },
    {
     "name": "stderr",
     "output_type": "stream",
     "text": [
      "  0%|          | 0/175 [00:19<?, ?it/s]1:13:57,  9.45it/s] \n",
      "  0%|          | 0/15 [00:10<?, ?it/s]\n",
      " 58%|█████▊    | 58101/100001 [2:04:31<1:18:29,  8.90it/s]"
     ]
    },
    {
     "name": "stdout",
     "output_type": "stream",
     "text": [
      "GAN: loss d: 6.69209    loss g: -2.62896\n"
     ]
    },
    {
     "name": "stderr",
     "output_type": "stream",
     "text": [
      " 58%|█████▊    | 58201/100001 [2:04:42<1:18:17,  8.90it/s]"
     ]
    },
    {
     "name": "stdout",
     "output_type": "stream",
     "text": [
      "GAN: loss d: 5.67308    loss g: -2.65090\n"
     ]
    },
    {
     "name": "stderr",
     "output_type": "stream",
     "text": [
      " 58%|█████▊    | 58301/100001 [2:04:53<1:17:39,  8.95it/s]"
     ]
    },
    {
     "name": "stdout",
     "output_type": "stream",
     "text": [
      "GAN: loss d: 2.29829    loss g: -2.48112\n"
     ]
    },
    {
     "name": "stderr",
     "output_type": "stream",
     "text": [
      " 58%|█████▊    | 58403/100001 [2:05:04<1:12:42,  9.53it/s]"
     ]
    },
    {
     "name": "stdout",
     "output_type": "stream",
     "text": [
      "GAN: loss d: 3.49688    loss g: -2.79571\n"
     ]
    },
    {
     "name": "stderr",
     "output_type": "stream",
     "text": [
      " 59%|█████▊    | 58501/100001 [2:05:14<1:17:09,  8.96it/s]"
     ]
    },
    {
     "name": "stdout",
     "output_type": "stream",
     "text": [
      "GAN: loss d: 3.20939    loss g: -2.55526\n"
     ]
    },
    {
     "name": "stderr",
     "output_type": "stream",
     "text": [
      " 59%|█████▊    | 58601/100001 [2:05:25<1:16:17,  9.04it/s]"
     ]
    },
    {
     "name": "stdout",
     "output_type": "stream",
     "text": [
      "GAN: loss d: 0.91457    loss g: -2.65033\n"
     ]
    },
    {
     "name": "stderr",
     "output_type": "stream",
     "text": [
      " 59%|█████▊    | 58702/100001 [2:05:36<1:15:15,  9.15it/s]"
     ]
    },
    {
     "name": "stdout",
     "output_type": "stream",
     "text": [
      "GAN: loss d: 0.68978    loss g: -1.95008\n"
     ]
    },
    {
     "name": "stderr",
     "output_type": "stream",
     "text": [
      " 59%|█████▉    | 58801/100001 [2:05:46<1:15:58,  9.04it/s]"
     ]
    },
    {
     "name": "stdout",
     "output_type": "stream",
     "text": [
      "GAN: loss d: 3.45479    loss g: -4.39669\n"
     ]
    },
    {
     "name": "stderr",
     "output_type": "stream",
     "text": [
      " 59%|█████▉    | 58902/100001 [2:05:57<1:15:03,  9.13it/s]"
     ]
    },
    {
     "name": "stdout",
     "output_type": "stream",
     "text": [
      "GAN: loss d: 4.28644    loss g: -2.77982\n"
     ]
    },
    {
     "name": "stderr",
     "output_type": "stream",
     "text": [
      " 59%|█████▉    | 59000/100001 [2:06:08<1:12:14,  9.46it/s]"
     ]
    },
    {
     "name": "stdout",
     "output_type": "stream",
     "text": [
      "GAN: loss d: 1.79753    loss g: -2.81558\n",
      "saving current model\n"
     ]
    },
    {
     "name": "stderr",
     "output_type": "stream",
     "text": [
      "\n",
      "  0%|          | 0/175 [00:00<?, ?it/s]\u001b[A"
     ]
    },
    {
     "name": "stdout",
     "output_type": "stream",
     "text": [
      "Number of real images: 5626\n"
     ]
    },
    {
     "name": "stderr",
     "output_type": "stream",
     "text": [
      "\n",
      "\n",
      "  0%|          | 0/15 [00:00<?, ?it/s]\u001b[A\u001b[A"
     ]
    },
    {
     "name": "stdout",
     "output_type": "stream",
     "text": [
      "Number of synthetic images: 500\n"
     ]
    },
    {
     "name": "stderr",
     "output_type": "stream",
     "text": [
      " 59%|█████▉    | 59001/100001 [2:06:28<71:01:20,  6.24s/it]"
     ]
    },
    {
     "name": "stdout",
     "output_type": "stream",
     "text": [
      "Current fid score: 1.062360831083872\n",
      "Fid scores: [5.176135784826485, 2.49733748630797, 2.556800986640896, 2.551807388342233, 3.0005414208896823, 2.6693746896472135, 2.327712167642524, 2.753024418615748, 1.810803698247632, 1.882469618869699, 2.3049020902006205, 1.2671737770059046, 2.1210468891055463, 2.099174223550225, 2.916100690765896, 3.40813729288425, 3.245391894475338, 3.857025155346646, 3.9987907417992634, 1.1312376693415231, 1.2186857992723503, 1.8961604960656189, 1.639260863742642, 1.4429721571320542, 1.2975153110277695, 1.2989564652328056, 1.2159174147751202, 1.2886615711632565, 1.2749489523852944, 1.2123217476264827, 1.130321950731723, 1.4349116027401223, 1.325705351921183, 0.9511910740117848, 0.7728854208281035, 1.0974412373000142, 1.3230233049879843, 1.456390242262266, 0.9723678173420041, 1.0042308899555294, 1.147213070903458, 1.1264658019655336, 1.0130370458094191, 1.2854713703383176, 1.395702880834726, 1.2354265562601796, 1.1165221470255844, 0.8902281152901743, 0.9371797233348538, 0.961486559589865, 0.9584809289781582, 1.0195113882726083, 1.1121585784748262, 0.8836194939814135, 1.2628025717982325, 1.0003107218338911, 1.0250539841592463, 1.2311716920488536, 0.8466612256589094, 1.062360831083872]\n"
     ]
    },
    {
     "name": "stderr",
     "output_type": "stream",
     "text": [
      "  0%|          | 0/175 [00:15<?, ?it/s]1:12:04,  9.47it/s] \n",
      "  0%|          | 0/15 [00:06<?, ?it/s]\n",
      " 59%|█████▉    | 59101/100001 [2:06:39<1:15:30,  9.03it/s]"
     ]
    },
    {
     "name": "stdout",
     "output_type": "stream",
     "text": [
      "GAN: loss d: 2.67047    loss g: -3.29512\n"
     ]
    },
    {
     "name": "stderr",
     "output_type": "stream",
     "text": [
      " 59%|█████▉    | 59201/100001 [2:06:50<1:16:00,  8.95it/s]"
     ]
    },
    {
     "name": "stdout",
     "output_type": "stream",
     "text": [
      "GAN: loss d: 1.41752    loss g: -2.83686\n"
     ]
    },
    {
     "name": "stderr",
     "output_type": "stream",
     "text": [
      " 59%|█████▉    | 59301/100001 [2:07:00<1:15:54,  8.94it/s]"
     ]
    },
    {
     "name": "stdout",
     "output_type": "stream",
     "text": [
      "GAN: loss d: 2.70463    loss g: -3.52192\n"
     ]
    },
    {
     "name": "stderr",
     "output_type": "stream",
     "text": [
      " 59%|█████▉    | 59401/100001 [2:07:11<1:15:09,  9.00it/s]"
     ]
    },
    {
     "name": "stdout",
     "output_type": "stream",
     "text": [
      "GAN: loss d: 4.59749    loss g: -1.92643\n"
     ]
    },
    {
     "name": "stderr",
     "output_type": "stream",
     "text": [
      " 60%|█████▉    | 59501/100001 [2:07:22<1:15:08,  8.98it/s]"
     ]
    },
    {
     "name": "stdout",
     "output_type": "stream",
     "text": [
      "GAN: loss d: 1.15129    loss g: -2.63147\n"
     ]
    },
    {
     "name": "stderr",
     "output_type": "stream",
     "text": [
      " 60%|█████▉    | 59601/100001 [2:07:33<1:14:30,  9.04it/s]"
     ]
    },
    {
     "name": "stdout",
     "output_type": "stream",
     "text": [
      "GAN: loss d: 3.86454    loss g: -3.65739\n"
     ]
    },
    {
     "name": "stderr",
     "output_type": "stream",
     "text": [
      " 60%|█████▉    | 59703/100001 [2:07:44<1:11:11,  9.44it/s]"
     ]
    },
    {
     "name": "stdout",
     "output_type": "stream",
     "text": [
      "GAN: loss d: 2.39623    loss g: -2.55195\n"
     ]
    },
    {
     "name": "stderr",
     "output_type": "stream",
     "text": [
      " 60%|█████▉    | 59801/100001 [2:07:54<1:14:39,  8.97it/s]"
     ]
    },
    {
     "name": "stdout",
     "output_type": "stream",
     "text": [
      "GAN: loss d: 3.64396    loss g: -3.02481\n"
     ]
    },
    {
     "name": "stderr",
     "output_type": "stream",
     "text": [
      " 60%|█████▉    | 59901/100001 [2:08:05<1:13:55,  9.04it/s]"
     ]
    },
    {
     "name": "stdout",
     "output_type": "stream",
     "text": [
      "GAN: loss d: 0.40041    loss g: -3.20588\n"
     ]
    },
    {
     "name": "stderr",
     "output_type": "stream",
     "text": [
      " 60%|█████▉    | 60000/100001 [2:08:15<1:10:06,  9.51it/s]"
     ]
    },
    {
     "name": "stdout",
     "output_type": "stream",
     "text": [
      "GAN: loss d: 4.54315    loss g: -2.63493\n",
      "saving current model\n"
     ]
    },
    {
     "name": "stderr",
     "output_type": "stream",
     "text": [
      "\n",
      "  0%|          | 0/175 [00:00<?, ?it/s]\u001b[A"
     ]
    },
    {
     "name": "stdout",
     "output_type": "stream",
     "text": [
      "Number of real images: 5626\n"
     ]
    },
    {
     "name": "stderr",
     "output_type": "stream",
     "text": [
      "\n",
      "\n",
      "  0%|          | 0/15 [00:00<?, ?it/s]\u001b[A\u001b[A"
     ]
    },
    {
     "name": "stdout",
     "output_type": "stream",
     "text": [
      "Number of synthetic images: 500\n"
     ]
    },
    {
     "name": "stderr",
     "output_type": "stream",
     "text": [
      " 60%|██████    | 60001/100001 [2:08:36<69:37:48,  6.27s/it]"
     ]
    },
    {
     "name": "stdout",
     "output_type": "stream",
     "text": [
      "Current fid score: 1.2398349309790042\n",
      "Fid scores: [5.176135784826485, 2.49733748630797, 2.556800986640896, 2.551807388342233, 3.0005414208896823, 2.6693746896472135, 2.327712167642524, 2.753024418615748, 1.810803698247632, 1.882469618869699, 2.3049020902006205, 1.2671737770059046, 2.1210468891055463, 2.099174223550225, 2.916100690765896, 3.40813729288425, 3.245391894475338, 3.857025155346646, 3.9987907417992634, 1.1312376693415231, 1.2186857992723503, 1.8961604960656189, 1.639260863742642, 1.4429721571320542, 1.2975153110277695, 1.2989564652328056, 1.2159174147751202, 1.2886615711632565, 1.2749489523852944, 1.2123217476264827, 1.130321950731723, 1.4349116027401223, 1.325705351921183, 0.9511910740117848, 0.7728854208281035, 1.0974412373000142, 1.3230233049879843, 1.456390242262266, 0.9723678173420041, 1.0042308899555294, 1.147213070903458, 1.1264658019655336, 1.0130370458094191, 1.2854713703383176, 1.395702880834726, 1.2354265562601796, 1.1165221470255844, 0.8902281152901743, 0.9371797233348538, 0.961486559589865, 0.9584809289781582, 1.0195113882726083, 1.1121585784748262, 0.8836194939814135, 1.2628025717982325, 1.0003107218338911, 1.0250539841592463, 1.2311716920488536, 0.8466612256589094, 1.062360831083872, 1.2398349309790042]\n"
     ]
    },
    {
     "name": "stderr",
     "output_type": "stream",
     "text": [
      "  0%|          | 0/175 [00:10<?, ?it/s]8:51:24,  1.25it/s] \n",
      "  0%|          | 0/15 [00:01<?, ?it/s]\n",
      " 60%|██████    | 60103/100001 [2:08:47<1:10:08,  9.48it/s]"
     ]
    },
    {
     "name": "stdout",
     "output_type": "stream",
     "text": [
      "GAN: loss d: 3.93185    loss g: -2.32776\n"
     ]
    },
    {
     "name": "stderr",
     "output_type": "stream",
     "text": [
      " 60%|██████    | 60203/100001 [2:08:58<1:09:51,  9.49it/s]"
     ]
    },
    {
     "name": "stdout",
     "output_type": "stream",
     "text": [
      "GAN: loss d: 4.88415    loss g: -3.54403\n"
     ]
    },
    {
     "name": "stderr",
     "output_type": "stream",
     "text": [
      " 60%|██████    | 60301/100001 [2:09:08<1:14:53,  8.83it/s]"
     ]
    },
    {
     "name": "stdout",
     "output_type": "stream",
     "text": [
      "GAN: loss d: 3.35384    loss g: -2.24008\n"
     ]
    },
    {
     "name": "stderr",
     "output_type": "stream",
     "text": [
      " 60%|██████    | 60403/100001 [2:09:19<1:09:43,  9.47it/s]"
     ]
    },
    {
     "name": "stdout",
     "output_type": "stream",
     "text": [
      "GAN: loss d: 2.97938    loss g: -3.59114\n"
     ]
    },
    {
     "name": "stderr",
     "output_type": "stream",
     "text": [
      " 61%|██████    | 60501/100001 [2:09:30<1:11:52,  9.16it/s]"
     ]
    },
    {
     "name": "stdout",
     "output_type": "stream",
     "text": [
      "GAN: loss d: 2.94357    loss g: -3.87470\n"
     ]
    },
    {
     "name": "stderr",
     "output_type": "stream",
     "text": [
      " 61%|██████    | 60603/100001 [2:09:40<1:08:57,  9.52it/s]"
     ]
    },
    {
     "name": "stdout",
     "output_type": "stream",
     "text": [
      "GAN: loss d: 2.45310    loss g: -3.97709\n"
     ]
    },
    {
     "name": "stderr",
     "output_type": "stream",
     "text": [
      " 61%|██████    | 60701/100001 [2:09:51<1:13:19,  8.93it/s]"
     ]
    },
    {
     "name": "stdout",
     "output_type": "stream",
     "text": [
      "GAN: loss d: 3.73943    loss g: -4.29624\n"
     ]
    },
    {
     "name": "stderr",
     "output_type": "stream",
     "text": [
      " 61%|██████    | 60801/100001 [2:10:02<1:14:42,  8.75it/s]"
     ]
    },
    {
     "name": "stdout",
     "output_type": "stream",
     "text": [
      "GAN: loss d: 3.87614    loss g: -3.60029\n"
     ]
    },
    {
     "name": "stderr",
     "output_type": "stream",
     "text": [
      " 61%|██████    | 60901/100001 [2:10:12<1:12:38,  8.97it/s]"
     ]
    },
    {
     "name": "stdout",
     "output_type": "stream",
     "text": [
      "GAN: loss d: 3.98595    loss g: -3.04674\n"
     ]
    },
    {
     "name": "stderr",
     "output_type": "stream",
     "text": [
      " 61%|██████    | 61000/100001 [2:10:23<1:11:00,  9.15it/s]"
     ]
    },
    {
     "name": "stdout",
     "output_type": "stream",
     "text": [
      "GAN: loss d: 4.14739    loss g: -3.20615\n",
      "saving current model\n"
     ]
    },
    {
     "name": "stderr",
     "output_type": "stream",
     "text": [
      "\n",
      "  0%|          | 0/175 [00:00<?, ?it/s]\u001b[A"
     ]
    },
    {
     "name": "stdout",
     "output_type": "stream",
     "text": [
      "Number of real images: 5626\n"
     ]
    },
    {
     "name": "stderr",
     "output_type": "stream",
     "text": [
      "\n",
      "\n",
      "  0%|          | 0/15 [00:00<?, ?it/s]\u001b[A\u001b[A"
     ]
    },
    {
     "name": "stdout",
     "output_type": "stream",
     "text": [
      "Number of synthetic images: 500\n"
     ]
    },
    {
     "name": "stderr",
     "output_type": "stream",
     "text": [
      " 61%|██████    | 61001/100001 [2:10:44<67:48:51,  6.26s/it]"
     ]
    },
    {
     "name": "stdout",
     "output_type": "stream",
     "text": [
      "Current fid score: 1.140507671535076\n",
      "Fid scores: [5.176135784826485, 2.49733748630797, 2.556800986640896, 2.551807388342233, 3.0005414208896823, 2.6693746896472135, 2.327712167642524, 2.753024418615748, 1.810803698247632, 1.882469618869699, 2.3049020902006205, 1.2671737770059046, 2.1210468891055463, 2.099174223550225, 2.916100690765896, 3.40813729288425, 3.245391894475338, 3.857025155346646, 3.9987907417992634, 1.1312376693415231, 1.2186857992723503, 1.8961604960656189, 1.639260863742642, 1.4429721571320542, 1.2975153110277695, 1.2989564652328056, 1.2159174147751202, 1.2886615711632565, 1.2749489523852944, 1.2123217476264827, 1.130321950731723, 1.4349116027401223, 1.325705351921183, 0.9511910740117848, 0.7728854208281035, 1.0974412373000142, 1.3230233049879843, 1.456390242262266, 0.9723678173420041, 1.0042308899555294, 1.147213070903458, 1.1264658019655336, 1.0130370458094191, 1.2854713703383176, 1.395702880834726, 1.2354265562601796, 1.1165221470255844, 0.8902281152901743, 0.9371797233348538, 0.961486559589865, 0.9584809289781582, 1.0195113882726083, 1.1121585784748262, 0.8836194939814135, 1.2628025717982325, 1.0003107218338911, 1.0250539841592463, 1.2311716920488536, 0.8466612256589094, 1.062360831083872, 1.2398349309790042, 1.140507671535076]\n"
     ]
    },
    {
     "name": "stderr",
     "output_type": "stream",
     "text": [
      "  0%|          | 0/175 [00:10<?, ?it/s]3:00:45,  3.59it/s] \n",
      "  0%|          | 0/15 [00:02<?, ?it/s]\n",
      " 61%|██████    | 61101/100001 [2:10:54<1:11:33,  9.06it/s]"
     ]
    },
    {
     "name": "stdout",
     "output_type": "stream",
     "text": [
      "GAN: loss d: 3.38213    loss g: -2.46940\n"
     ]
    },
    {
     "name": "stderr",
     "output_type": "stream",
     "text": [
      " 61%|██████    | 61201/100001 [2:11:05<1:12:44,  8.89it/s]"
     ]
    },
    {
     "name": "stdout",
     "output_type": "stream",
     "text": [
      "GAN: loss d: 3.48978    loss g: -2.24124\n"
     ]
    },
    {
     "name": "stderr",
     "output_type": "stream",
     "text": [
      " 61%|██████▏   | 61301/100001 [2:11:16<1:11:56,  8.97it/s]"
     ]
    },
    {
     "name": "stdout",
     "output_type": "stream",
     "text": [
      "GAN: loss d: 3.39723    loss g: -2.30048\n"
     ]
    },
    {
     "name": "stderr",
     "output_type": "stream",
     "text": [
      " 61%|██████▏   | 61401/100001 [2:11:27<1:11:13,  9.03it/s]"
     ]
    },
    {
     "name": "stdout",
     "output_type": "stream",
     "text": [
      "GAN: loss d: 1.10797    loss g: -3.90017\n"
     ]
    },
    {
     "name": "stderr",
     "output_type": "stream",
     "text": [
      " 62%|██████▏   | 61501/100001 [2:11:37<1:11:21,  8.99it/s]"
     ]
    },
    {
     "name": "stdout",
     "output_type": "stream",
     "text": [
      "GAN: loss d: 1.64872    loss g: -2.29395\n"
     ]
    },
    {
     "name": "stderr",
     "output_type": "stream",
     "text": [
      " 62%|██████▏   | 61601/100001 [2:11:48<1:12:34,  8.82it/s]"
     ]
    },
    {
     "name": "stdout",
     "output_type": "stream",
     "text": [
      "GAN: loss d: 0.96708    loss g: -2.75506\n"
     ]
    },
    {
     "name": "stderr",
     "output_type": "stream",
     "text": [
      " 62%|██████▏   | 61701/100001 [2:11:59<1:10:14,  9.09it/s]"
     ]
    },
    {
     "name": "stdout",
     "output_type": "stream",
     "text": [
      "GAN: loss d: 2.65319    loss g: -2.23084\n"
     ]
    },
    {
     "name": "stderr",
     "output_type": "stream",
     "text": [
      " 62%|██████▏   | 61803/100001 [2:12:10<1:07:07,  9.48it/s]"
     ]
    },
    {
     "name": "stdout",
     "output_type": "stream",
     "text": [
      "GAN: loss d: 5.91853    loss g: -2.53288\n"
     ]
    },
    {
     "name": "stderr",
     "output_type": "stream",
     "text": [
      " 62%|██████▏   | 61901/100001 [2:12:20<1:09:43,  9.11it/s]"
     ]
    },
    {
     "name": "stdout",
     "output_type": "stream",
     "text": [
      "GAN: loss d: 3.06328    loss g: -3.34011\n"
     ]
    },
    {
     "name": "stderr",
     "output_type": "stream",
     "text": [
      " 62%|██████▏   | 62000/100001 [2:12:31<1:08:24,  9.26it/s]"
     ]
    },
    {
     "name": "stdout",
     "output_type": "stream",
     "text": [
      "GAN: loss d: 4.25897    loss g: -2.59328\n",
      "saving current model\n"
     ]
    },
    {
     "name": "stderr",
     "output_type": "stream",
     "text": [
      "\n",
      "  0%|          | 0/175 [00:00<?, ?it/s]\u001b[A"
     ]
    },
    {
     "name": "stdout",
     "output_type": "stream",
     "text": [
      "Number of real images: 5626\n"
     ]
    },
    {
     "name": "stderr",
     "output_type": "stream",
     "text": [
      "\n",
      "\n",
      "  0%|          | 0/15 [00:00<?, ?it/s]\u001b[A\u001b[A"
     ]
    },
    {
     "name": "stdout",
     "output_type": "stream",
     "text": [
      "Number of synthetic images: 500\n"
     ]
    },
    {
     "name": "stderr",
     "output_type": "stream",
     "text": [
      " 62%|██████▏   | 62001/100001 [2:12:51<65:45:45,  6.23s/it]"
     ]
    },
    {
     "name": "stdout",
     "output_type": "stream",
     "text": [
      "Current fid score: 1.289318961625014\n",
      "Fid scores: [5.176135784826485, 2.49733748630797, 2.556800986640896, 2.551807388342233, 3.0005414208896823, 2.6693746896472135, 2.327712167642524, 2.753024418615748, 1.810803698247632, 1.882469618869699, 2.3049020902006205, 1.2671737770059046, 2.1210468891055463, 2.099174223550225, 2.916100690765896, 3.40813729288425, 3.245391894475338, 3.857025155346646, 3.9987907417992634, 1.1312376693415231, 1.2186857992723503, 1.8961604960656189, 1.639260863742642, 1.4429721571320542, 1.2975153110277695, 1.2989564652328056, 1.2159174147751202, 1.2886615711632565, 1.2749489523852944, 1.2123217476264827, 1.130321950731723, 1.4349116027401223, 1.325705351921183, 0.9511910740117848, 0.7728854208281035, 1.0974412373000142, 1.3230233049879843, 1.456390242262266, 0.9723678173420041, 1.0042308899555294, 1.147213070903458, 1.1264658019655336, 1.0130370458094191, 1.2854713703383176, 1.395702880834726, 1.2354265562601796, 1.1165221470255844, 0.8902281152901743, 0.9371797233348538, 0.961486559589865, 0.9584809289781582, 1.0195113882726083, 1.1121585784748262, 0.8836194939814135, 1.2628025717982325, 1.0003107218338911, 1.0250539841592463, 1.2311716920488536, 0.8466612256589094, 1.062360831083872, 1.2398349309790042, 1.140507671535076, 1.289318961625014]\n"
     ]
    },
    {
     "name": "stderr",
     "output_type": "stream",
     "text": [
      "  0%|          | 0/175 [00:15<?, ?it/s]1:10:07,  9.02it/s] \n",
      "  0%|          | 0/15 [00:06<?, ?it/s]\n",
      " 62%|██████▏   | 62101/100001 [2:13:02<1:09:34,  9.08it/s]"
     ]
    },
    {
     "name": "stdout",
     "output_type": "stream",
     "text": [
      "GAN: loss d: 2.64966    loss g: -1.65427\n"
     ]
    },
    {
     "name": "stderr",
     "output_type": "stream",
     "text": [
      " 62%|██████▏   | 62201/100001 [2:13:13<1:10:14,  8.97it/s]"
     ]
    },
    {
     "name": "stdout",
     "output_type": "stream",
     "text": [
      "GAN: loss d: 2.40621    loss g: -2.90002\n"
     ]
    },
    {
     "name": "stderr",
     "output_type": "stream",
     "text": [
      " 62%|██████▏   | 62301/100001 [2:13:24<1:09:23,  9.06it/s]"
     ]
    },
    {
     "name": "stdout",
     "output_type": "stream",
     "text": [
      "GAN: loss d: 3.95247    loss g: -3.92930\n"
     ]
    },
    {
     "name": "stderr",
     "output_type": "stream",
     "text": [
      " 62%|██████▏   | 62403/100001 [2:13:35<1:06:18,  9.45it/s]"
     ]
    },
    {
     "name": "stdout",
     "output_type": "stream",
     "text": [
      "GAN: loss d: 4.58628    loss g: -4.04830\n"
     ]
    },
    {
     "name": "stderr",
     "output_type": "stream",
     "text": [
      " 63%|██████▎   | 62501/100001 [2:13:45<1:10:58,  8.81it/s]"
     ]
    },
    {
     "name": "stdout",
     "output_type": "stream",
     "text": [
      "GAN: loss d: 3.23921    loss g: -3.58696\n"
     ]
    },
    {
     "name": "stderr",
     "output_type": "stream",
     "text": [
      " 63%|██████▎   | 62601/100001 [2:13:56<1:09:40,  8.95it/s]"
     ]
    },
    {
     "name": "stdout",
     "output_type": "stream",
     "text": [
      "GAN: loss d: -0.01116    loss g: -1.32147\n"
     ]
    },
    {
     "name": "stderr",
     "output_type": "stream",
     "text": [
      " 63%|██████▎   | 62702/100001 [2:14:07<1:07:03,  9.27it/s]"
     ]
    },
    {
     "name": "stdout",
     "output_type": "stream",
     "text": [
      "GAN: loss d: 5.07629    loss g: -2.84346\n"
     ]
    },
    {
     "name": "stderr",
     "output_type": "stream",
     "text": [
      " 63%|██████▎   | 62801/100001 [2:14:17<1:10:21,  8.81it/s]"
     ]
    },
    {
     "name": "stdout",
     "output_type": "stream",
     "text": [
      "GAN: loss d: 1.61530    loss g: -3.41139\n"
     ]
    },
    {
     "name": "stderr",
     "output_type": "stream",
     "text": [
      " 63%|██████▎   | 62901/100001 [2:14:28<1:10:07,  8.82it/s]"
     ]
    },
    {
     "name": "stdout",
     "output_type": "stream",
     "text": [
      "GAN: loss d: 5.43417    loss g: -1.77237\n"
     ]
    },
    {
     "name": "stderr",
     "output_type": "stream",
     "text": [
      " 63%|██████▎   | 63000/100001 [2:14:39<1:05:23,  9.43it/s]"
     ]
    },
    {
     "name": "stdout",
     "output_type": "stream",
     "text": [
      "GAN: loss d: 2.49585    loss g: -3.30755\n",
      "saving current model\n"
     ]
    },
    {
     "name": "stderr",
     "output_type": "stream",
     "text": [
      "\n",
      "  0%|          | 0/175 [00:00<?, ?it/s]\u001b[A"
     ]
    },
    {
     "name": "stdout",
     "output_type": "stream",
     "text": [
      "Number of real images: 5626\n"
     ]
    },
    {
     "name": "stderr",
     "output_type": "stream",
     "text": [
      "\n",
      "\n",
      "  0%|          | 0/15 [00:00<?, ?it/s]\u001b[A\u001b[A"
     ]
    },
    {
     "name": "stdout",
     "output_type": "stream",
     "text": [
      "Number of synthetic images: 500\n"
     ]
    },
    {
     "name": "stderr",
     "output_type": "stream",
     "text": [
      " 63%|██████▎   | 63002/100001 [2:14:59<45:23:55,  4.42s/it]"
     ]
    },
    {
     "name": "stdout",
     "output_type": "stream",
     "text": [
      "Current fid score: 1.4735660614194437\n",
      "Fid scores: [5.176135784826485, 2.49733748630797, 2.556800986640896, 2.551807388342233, 3.0005414208896823, 2.6693746896472135, 2.327712167642524, 2.753024418615748, 1.810803698247632, 1.882469618869699, 2.3049020902006205, 1.2671737770059046, 2.1210468891055463, 2.099174223550225, 2.916100690765896, 3.40813729288425, 3.245391894475338, 3.857025155346646, 3.9987907417992634, 1.1312376693415231, 1.2186857992723503, 1.8961604960656189, 1.639260863742642, 1.4429721571320542, 1.2975153110277695, 1.2989564652328056, 1.2159174147751202, 1.2886615711632565, 1.2749489523852944, 1.2123217476264827, 1.130321950731723, 1.4349116027401223, 1.325705351921183, 0.9511910740117848, 0.7728854208281035, 1.0974412373000142, 1.3230233049879843, 1.456390242262266, 0.9723678173420041, 1.0042308899555294, 1.147213070903458, 1.1264658019655336, 1.0130370458094191, 1.2854713703383176, 1.395702880834726, 1.2354265562601796, 1.1165221470255844, 0.8902281152901743, 0.9371797233348538, 0.961486559589865, 0.9584809289781582, 1.0195113882726083, 1.1121585784748262, 0.8836194939814135, 1.2628025717982325, 1.0003107218338911, 1.0250539841592463, 1.2311716920488536, 0.8466612256589094, 1.062360831083872, 1.2398349309790042, 1.140507671535076, 1.289318961625014, 1.4735660614194437]\n"
     ]
    },
    {
     "name": "stderr",
     "output_type": "stream",
     "text": [
      "  0%|          | 0/175 [00:14<?, ?it/s]1:06:16,  9.29it/s] \n",
      "  0%|          | 0/15 [00:05<?, ?it/s]\n",
      " 63%|██████▎   | 63101/100001 [2:15:10<1:07:14,  9.15it/s]"
     ]
    },
    {
     "name": "stdout",
     "output_type": "stream",
     "text": [
      "GAN: loss d: 1.68266    loss g: -1.68210\n"
     ]
    },
    {
     "name": "stderr",
     "output_type": "stream",
     "text": [
      " 63%|██████▎   | 63201/100001 [2:15:21<1:09:04,  8.88it/s]"
     ]
    },
    {
     "name": "stdout",
     "output_type": "stream",
     "text": [
      "GAN: loss d: 3.15358    loss g: -2.29792\n"
     ]
    },
    {
     "name": "stderr",
     "output_type": "stream",
     "text": [
      " 63%|██████▎   | 63301/100001 [2:15:31<1:07:40,  9.04it/s]"
     ]
    },
    {
     "name": "stdout",
     "output_type": "stream",
     "text": [
      "GAN: loss d: 1.46015    loss g: -2.86231\n"
     ]
    },
    {
     "name": "stderr",
     "output_type": "stream",
     "text": [
      " 63%|██████▎   | 63403/100001 [2:15:42<1:04:43,  9.42it/s]"
     ]
    },
    {
     "name": "stdout",
     "output_type": "stream",
     "text": [
      "GAN: loss d: 3.48998    loss g: -3.13046\n"
     ]
    },
    {
     "name": "stderr",
     "output_type": "stream",
     "text": [
      " 64%|██████▎   | 63501/100001 [2:15:53<1:07:31,  9.01it/s]"
     ]
    },
    {
     "name": "stdout",
     "output_type": "stream",
     "text": [
      "GAN: loss d: 2.30921    loss g: -3.01758\n"
     ]
    },
    {
     "name": "stderr",
     "output_type": "stream",
     "text": [
      " 64%|██████▎   | 63601/100001 [2:16:04<1:06:29,  9.12it/s]"
     ]
    },
    {
     "name": "stdout",
     "output_type": "stream",
     "text": [
      "GAN: loss d: 3.69239    loss g: -2.55736\n"
     ]
    },
    {
     "name": "stderr",
     "output_type": "stream",
     "text": [
      " 64%|██████▎   | 63701/100001 [2:16:14<1:06:36,  9.08it/s]"
     ]
    },
    {
     "name": "stdout",
     "output_type": "stream",
     "text": [
      "GAN: loss d: 4.55040    loss g: -2.70974\n"
     ]
    },
    {
     "name": "stderr",
     "output_type": "stream",
     "text": [
      " 64%|██████▍   | 63801/100001 [2:16:25<1:06:26,  9.08it/s]"
     ]
    },
    {
     "name": "stdout",
     "output_type": "stream",
     "text": [
      "GAN: loss d: 4.46559    loss g: -2.43235\n"
     ]
    },
    {
     "name": "stderr",
     "output_type": "stream",
     "text": [
      " 64%|██████▍   | 63901/100001 [2:16:36<1:07:48,  8.87it/s]"
     ]
    },
    {
     "name": "stdout",
     "output_type": "stream",
     "text": [
      "GAN: loss d: 5.12814    loss g: -3.35663\n"
     ]
    },
    {
     "name": "stderr",
     "output_type": "stream",
     "text": [
      " 64%|██████▍   | 64000/100001 [2:16:46<1:04:23,  9.32it/s]"
     ]
    },
    {
     "name": "stdout",
     "output_type": "stream",
     "text": [
      "GAN: loss d: 5.40318    loss g: -2.29489\n",
      "saving current model\n"
     ]
    },
    {
     "name": "stderr",
     "output_type": "stream",
     "text": [
      "\n",
      "  0%|          | 0/175 [00:00<?, ?it/s]\u001b[A"
     ]
    },
    {
     "name": "stdout",
     "output_type": "stream",
     "text": [
      "Number of real images: 5626\n"
     ]
    },
    {
     "name": "stderr",
     "output_type": "stream",
     "text": [
      "\n",
      "\n",
      "  0%|          | 0/15 [00:00<?, ?it/s]\u001b[A\u001b[A"
     ]
    },
    {
     "name": "stdout",
     "output_type": "stream",
     "text": [
      "Number of synthetic images: 500\n"
     ]
    },
    {
     "name": "stderr",
     "output_type": "stream",
     "text": [
      " 64%|██████▍   | 64002/100001 [2:17:07<44:29:28,  4.45s/it]"
     ]
    },
    {
     "name": "stdout",
     "output_type": "stream",
     "text": [
      "Current fid score: 1.1830292778583882\n",
      "Fid scores: [5.176135784826485, 2.49733748630797, 2.556800986640896, 2.551807388342233, 3.0005414208896823, 2.6693746896472135, 2.327712167642524, 2.753024418615748, 1.810803698247632, 1.882469618869699, 2.3049020902006205, 1.2671737770059046, 2.1210468891055463, 2.099174223550225, 2.916100690765896, 3.40813729288425, 3.245391894475338, 3.857025155346646, 3.9987907417992634, 1.1312376693415231, 1.2186857992723503, 1.8961604960656189, 1.639260863742642, 1.4429721571320542, 1.2975153110277695, 1.2989564652328056, 1.2159174147751202, 1.2886615711632565, 1.2749489523852944, 1.2123217476264827, 1.130321950731723, 1.4349116027401223, 1.325705351921183, 0.9511910740117848, 0.7728854208281035, 1.0974412373000142, 1.3230233049879843, 1.456390242262266, 0.9723678173420041, 1.0042308899555294, 1.147213070903458, 1.1264658019655336, 1.0130370458094191, 1.2854713703383176, 1.395702880834726, 1.2354265562601796, 1.1165221470255844, 0.8902281152901743, 0.9371797233348538, 0.961486559589865, 0.9584809289781582, 1.0195113882726083, 1.1121585784748262, 0.8836194939814135, 1.2628025717982325, 1.0003107218338911, 1.0250539841592463, 1.2311716920488536, 0.8466612256589094, 1.062360831083872, 1.2398349309790042, 1.140507671535076, 1.289318961625014, 1.4735660614194437, 1.1830292778583882]\n"
     ]
    },
    {
     "name": "stderr",
     "output_type": "stream",
     "text": [
      "  0%|          | 0/175 [00:10<?, ?it/s]2:49:29,  3.54it/s] \n",
      "  0%|          | 0/15 [00:02<?, ?it/s]\n",
      " 64%|██████▍   | 64101/100001 [2:17:18<1:05:39,  9.11it/s]"
     ]
    },
    {
     "name": "stdout",
     "output_type": "stream",
     "text": [
      "GAN: loss d: 6.17786    loss g: -3.00689\n"
     ]
    },
    {
     "name": "stderr",
     "output_type": "stream",
     "text": [
      " 64%|██████▍   | 64201/100001 [2:17:29<1:19:10,  7.54it/s]"
     ]
    },
    {
     "name": "stdout",
     "output_type": "stream",
     "text": [
      "GAN: loss d: -1.70996    loss g: -2.13434\n"
     ]
    },
    {
     "name": "stderr",
     "output_type": "stream",
     "text": [
      " 64%|██████▍   | 64301/100001 [2:17:39<1:06:23,  8.96it/s]"
     ]
    },
    {
     "name": "stdout",
     "output_type": "stream",
     "text": [
      "GAN: loss d: 3.95332    loss g: -2.21355\n"
     ]
    },
    {
     "name": "stderr",
     "output_type": "stream",
     "text": [
      " 64%|██████▍   | 64401/100001 [2:17:50<1:14:27,  7.97it/s]"
     ]
    },
    {
     "name": "stdout",
     "output_type": "stream",
     "text": [
      "GAN: loss d: 7.73592    loss g: -2.28273\n"
     ]
    },
    {
     "name": "stderr",
     "output_type": "stream",
     "text": [
      " 65%|██████▍   | 64501/100001 [2:18:01<1:05:08,  9.08it/s]"
     ]
    },
    {
     "name": "stdout",
     "output_type": "stream",
     "text": [
      "GAN: loss d: 3.05099    loss g: -2.54194\n"
     ]
    },
    {
     "name": "stderr",
     "output_type": "stream",
     "text": [
      " 65%|██████▍   | 64601/100001 [2:18:11<1:05:36,  8.99it/s]"
     ]
    },
    {
     "name": "stdout",
     "output_type": "stream",
     "text": [
      "GAN: loss d: 4.83752    loss g: -2.56109\n"
     ]
    },
    {
     "name": "stderr",
     "output_type": "stream",
     "text": [
      " 65%|██████▍   | 64701/100001 [2:18:22<1:05:35,  8.97it/s]"
     ]
    },
    {
     "name": "stdout",
     "output_type": "stream",
     "text": [
      "GAN: loss d: 5.17794    loss g: -2.04400\n"
     ]
    },
    {
     "name": "stderr",
     "output_type": "stream",
     "text": [
      " 65%|██████▍   | 64801/100001 [2:18:33<1:21:29,  7.20it/s]"
     ]
    },
    {
     "name": "stdout",
     "output_type": "stream",
     "text": [
      "GAN: loss d: 3.21802    loss g: -2.97203\n"
     ]
    },
    {
     "name": "stderr",
     "output_type": "stream",
     "text": [
      " 65%|██████▍   | 64903/100001 [2:18:44<1:01:45,  9.47it/s]"
     ]
    },
    {
     "name": "stdout",
     "output_type": "stream",
     "text": [
      "GAN: loss d: 4.06105    loss g: -2.75097\n"
     ]
    },
    {
     "name": "stderr",
     "output_type": "stream",
     "text": [
      " 65%|██████▍   | 65000/100001 [2:18:54<1:01:56,  9.42it/s]"
     ]
    },
    {
     "name": "stdout",
     "output_type": "stream",
     "text": [
      "GAN: loss d: 4.89372    loss g: -2.95493\n",
      "saving current model\n"
     ]
    },
    {
     "name": "stderr",
     "output_type": "stream",
     "text": [
      "\n",
      "  0%|          | 0/175 [00:00<?, ?it/s]\u001b[A"
     ]
    },
    {
     "name": "stdout",
     "output_type": "stream",
     "text": [
      "Number of real images: 5626\n"
     ]
    },
    {
     "name": "stderr",
     "output_type": "stream",
     "text": [
      "\n",
      "\n",
      "  0%|          | 0/15 [00:00<?, ?it/s]\u001b[A\u001b[A"
     ]
    },
    {
     "name": "stdout",
     "output_type": "stream",
     "text": [
      "Number of synthetic images: 500\n"
     ]
    },
    {
     "name": "stderr",
     "output_type": "stream",
     "text": [
      " 65%|██████▌   | 65001/100001 [2:19:15<60:39:37,  6.24s/it]"
     ]
    },
    {
     "name": "stdout",
     "output_type": "stream",
     "text": [
      "Current fid score: 1.0022911738106046\n",
      "Fid scores: [5.176135784826485, 2.49733748630797, 2.556800986640896, 2.551807388342233, 3.0005414208896823, 2.6693746896472135, 2.327712167642524, 2.753024418615748, 1.810803698247632, 1.882469618869699, 2.3049020902006205, 1.2671737770059046, 2.1210468891055463, 2.099174223550225, 2.916100690765896, 3.40813729288425, 3.245391894475338, 3.857025155346646, 3.9987907417992634, 1.1312376693415231, 1.2186857992723503, 1.8961604960656189, 1.639260863742642, 1.4429721571320542, 1.2975153110277695, 1.2989564652328056, 1.2159174147751202, 1.2886615711632565, 1.2749489523852944, 1.2123217476264827, 1.130321950731723, 1.4349116027401223, 1.325705351921183, 0.9511910740117848, 0.7728854208281035, 1.0974412373000142, 1.3230233049879843, 1.456390242262266, 0.9723678173420041, 1.0042308899555294, 1.147213070903458, 1.1264658019655336, 1.0130370458094191, 1.2854713703383176, 1.395702880834726, 1.2354265562601796, 1.1165221470255844, 0.8902281152901743, 0.9371797233348538, 0.961486559589865, 0.9584809289781582, 1.0195113882726083, 1.1121585784748262, 0.8836194939814135, 1.2628025717982325, 1.0003107218338911, 1.0250539841592463, 1.2311716920488536, 0.8466612256589094, 1.062360831083872, 1.2398349309790042, 1.140507671535076, 1.289318961625014, 1.4735660614194437, 1.1830292778583882, 1.0022911738106046]\n"
     ]
    },
    {
     "name": "stderr",
     "output_type": "stream",
     "text": [
      "  0%|          | 0/175 [00:18<?, ?it/s]1:02:01,  9.38it/s] \n",
      "  0%|          | 0/15 [00:09<?, ?it/s]\n",
      " 65%|██████▌   | 65101/100001 [2:19:25<1:04:03,  9.08it/s]"
     ]
    },
    {
     "name": "stdout",
     "output_type": "stream",
     "text": [
      "GAN: loss d: 3.29078    loss g: -3.46732\n"
     ]
    },
    {
     "name": "stderr",
     "output_type": "stream",
     "text": [
      " 65%|██████▌   | 65201/100001 [2:19:36<1:05:21,  8.87it/s]"
     ]
    },
    {
     "name": "stdout",
     "output_type": "stream",
     "text": [
      "GAN: loss d: 3.29548    loss g: -2.41279\n"
     ]
    },
    {
     "name": "stderr",
     "output_type": "stream",
     "text": [
      " 65%|██████▌   | 65301/100001 [2:19:47<1:03:37,  9.09it/s]"
     ]
    },
    {
     "name": "stdout",
     "output_type": "stream",
     "text": [
      "GAN: loss d: 1.95562    loss g: -3.14048\n"
     ]
    },
    {
     "name": "stderr",
     "output_type": "stream",
     "text": [
      " 65%|██████▌   | 65401/100001 [2:19:58<1:05:25,  8.81it/s]"
     ]
    },
    {
     "name": "stdout",
     "output_type": "stream",
     "text": [
      "GAN: loss d: 5.55396    loss g: -3.68516\n"
     ]
    },
    {
     "name": "stderr",
     "output_type": "stream",
     "text": [
      " 66%|██████▌   | 65501/100001 [2:20:08<1:03:01,  9.12it/s]"
     ]
    },
    {
     "name": "stdout",
     "output_type": "stream",
     "text": [
      "GAN: loss d: 4.33913    loss g: -3.05590\n"
     ]
    },
    {
     "name": "stderr",
     "output_type": "stream",
     "text": [
      " 66%|██████▌   | 65603/100001 [2:20:19<1:00:11,  9.52it/s]"
     ]
    },
    {
     "name": "stdout",
     "output_type": "stream",
     "text": [
      "GAN: loss d: 3.62059    loss g: -2.08572\n"
     ]
    },
    {
     "name": "stderr",
     "output_type": "stream",
     "text": [
      " 66%|██████▌   | 65701/100001 [2:20:30<1:03:47,  8.96it/s]"
     ]
    },
    {
     "name": "stdout",
     "output_type": "stream",
     "text": [
      "GAN: loss d: 4.31254    loss g: -3.38009\n"
     ]
    },
    {
     "name": "stderr",
     "output_type": "stream",
     "text": [
      " 66%|██████▌   | 65801/100001 [2:20:41<1:03:03,  9.04it/s]"
     ]
    },
    {
     "name": "stdout",
     "output_type": "stream",
     "text": [
      "GAN: loss d: -0.04820    loss g: -3.69337\n"
     ]
    },
    {
     "name": "stderr",
     "output_type": "stream",
     "text": [
      " 66%|██████▌   | 65901/100001 [2:20:51<1:04:14,  8.85it/s]"
     ]
    },
    {
     "name": "stdout",
     "output_type": "stream",
     "text": [
      "GAN: loss d: 4.16490    loss g: -2.79631\n"
     ]
    },
    {
     "name": "stderr",
     "output_type": "stream",
     "text": [
      " 66%|██████▌   | 66000/100001 [2:21:02<1:00:34,  9.36it/s]"
     ]
    },
    {
     "name": "stdout",
     "output_type": "stream",
     "text": [
      "GAN: loss d: 4.40467    loss g: -1.79880\n",
      "saving current model\n"
     ]
    },
    {
     "name": "stderr",
     "output_type": "stream",
     "text": [
      "\n",
      "  0%|          | 0/175 [00:00<?, ?it/s]\u001b[A"
     ]
    },
    {
     "name": "stdout",
     "output_type": "stream",
     "text": [
      "Number of real images: 5626\n"
     ]
    },
    {
     "name": "stderr",
     "output_type": "stream",
     "text": [
      "\n",
      "\n",
      "  0%|          | 0/15 [00:00<?, ?it/s]\u001b[A\u001b[A"
     ]
    },
    {
     "name": "stdout",
     "output_type": "stream",
     "text": [
      "Number of synthetic images: 500\n"
     ]
    },
    {
     "name": "stderr",
     "output_type": "stream",
     "text": [
      " 66%|██████▌   | 66001/100001 [2:21:23<59:07:28,  6.26s/it]"
     ]
    },
    {
     "name": "stdout",
     "output_type": "stream",
     "text": [
      "Current fid score: 1.5096925650423003\n",
      "Fid scores: [5.176135784826485, 2.49733748630797, 2.556800986640896, 2.551807388342233, 3.0005414208896823, 2.6693746896472135, 2.327712167642524, 2.753024418615748, 1.810803698247632, 1.882469618869699, 2.3049020902006205, 1.2671737770059046, 2.1210468891055463, 2.099174223550225, 2.916100690765896, 3.40813729288425, 3.245391894475338, 3.857025155346646, 3.9987907417992634, 1.1312376693415231, 1.2186857992723503, 1.8961604960656189, 1.639260863742642, 1.4429721571320542, 1.2975153110277695, 1.2989564652328056, 1.2159174147751202, 1.2886615711632565, 1.2749489523852944, 1.2123217476264827, 1.130321950731723, 1.4349116027401223, 1.325705351921183, 0.9511910740117848, 0.7728854208281035, 1.0974412373000142, 1.3230233049879843, 1.456390242262266, 0.9723678173420041, 1.0042308899555294, 1.147213070903458, 1.1264658019655336, 1.0130370458094191, 1.2854713703383176, 1.395702880834726, 1.2354265562601796, 1.1165221470255844, 0.8902281152901743, 0.9371797233348538, 0.961486559589865, 0.9584809289781582, 1.0195113882726083, 1.1121585784748262, 0.8836194939814135, 1.2628025717982325, 1.0003107218338911, 1.0250539841592463, 1.2311716920488536, 0.8466612256589094, 1.062360831083872, 1.2398349309790042, 1.140507671535076, 1.289318961625014, 1.4735660614194437, 1.1830292778583882, 1.0022911738106046, 1.5096925650423003]\n"
     ]
    },
    {
     "name": "stderr",
     "output_type": "stream",
     "text": [
      "  0%|          | 0/175 [00:15<?, ?it/s]1:00:00,  9.43it/s] \n",
      "  0%|          | 0/15 [00:06<?, ?it/s]\n",
      " 66%|██████▌   | 66101/100001 [2:21:33<1:02:49,  8.99it/s]"
     ]
    },
    {
     "name": "stdout",
     "output_type": "stream",
     "text": [
      "GAN: loss d: 1.04901    loss g: -2.93041\n"
     ]
    },
    {
     "name": "stderr",
     "output_type": "stream",
     "text": [
      " 66%|██████▌   | 66201/100001 [2:21:44<1:03:08,  8.92it/s]"
     ]
    },
    {
     "name": "stdout",
     "output_type": "stream",
     "text": [
      "GAN: loss d: 6.43161    loss g: -3.40947\n"
     ]
    },
    {
     "name": "stderr",
     "output_type": "stream",
     "text": [
      " 66%|██████▋   | 66301/100001 [2:21:55<1:03:10,  8.89it/s]"
     ]
    },
    {
     "name": "stdout",
     "output_type": "stream",
     "text": [
      "GAN: loss d: 4.41371    loss g: -1.79209\n"
     ]
    },
    {
     "name": "stderr",
     "output_type": "stream",
     "text": [
      " 66%|██████▋   | 66401/100001 [2:22:06<1:01:16,  9.14it/s]"
     ]
    },
    {
     "name": "stdout",
     "output_type": "stream",
     "text": [
      "GAN: loss d: 3.61724    loss g: -1.87459\n"
     ]
    },
    {
     "name": "stderr",
     "output_type": "stream",
     "text": [
      " 67%|██████▋   | 66501/100001 [2:22:16<1:02:59,  8.86it/s]"
     ]
    },
    {
     "name": "stdout",
     "output_type": "stream",
     "text": [
      "GAN: loss d: 1.56575    loss g: -2.22894\n"
     ]
    },
    {
     "name": "stderr",
     "output_type": "stream",
     "text": [
      " 67%|██████▋   | 66601/100001 [2:22:27<1:02:38,  8.89it/s]"
     ]
    },
    {
     "name": "stdout",
     "output_type": "stream",
     "text": [
      "GAN: loss d: 3.85469    loss g: -2.65088\n"
     ]
    },
    {
     "name": "stderr",
     "output_type": "stream",
     "text": [
      " 67%|██████▋   | 66703/100001 [2:22:38<58:09,  9.54it/s]  "
     ]
    },
    {
     "name": "stdout",
     "output_type": "stream",
     "text": [
      "GAN: loss d: 4.85861    loss g: -2.63693\n"
     ]
    },
    {
     "name": "stderr",
     "output_type": "stream",
     "text": [
      " 67%|██████▋   | 66801/100001 [2:22:48<1:00:51,  9.09it/s]"
     ]
    },
    {
     "name": "stdout",
     "output_type": "stream",
     "text": [
      "GAN: loss d: 3.44127    loss g: -2.83043\n"
     ]
    },
    {
     "name": "stderr",
     "output_type": "stream",
     "text": [
      " 67%|██████▋   | 66901/100001 [2:22:59<1:01:13,  9.01it/s]"
     ]
    },
    {
     "name": "stdout",
     "output_type": "stream",
     "text": [
      "GAN: loss d: 4.37572    loss g: -3.98089\n"
     ]
    },
    {
     "name": "stderr",
     "output_type": "stream",
     "text": [
      " 67%|██████▋   | 67000/100001 [2:23:10<58:45,  9.36it/s]  "
     ]
    },
    {
     "name": "stdout",
     "output_type": "stream",
     "text": [
      "GAN: loss d: 3.66766    loss g: -2.24129\n",
      "saving current model\n"
     ]
    },
    {
     "name": "stderr",
     "output_type": "stream",
     "text": [
      "\n",
      "  0%|          | 0/175 [00:00<?, ?it/s]\u001b[A"
     ]
    },
    {
     "name": "stdout",
     "output_type": "stream",
     "text": [
      "Number of real images: 5626\n"
     ]
    },
    {
     "name": "stderr",
     "output_type": "stream",
     "text": [
      "\n",
      "\n",
      "  0%|          | 0/15 [00:00<?, ?it/s]\u001b[A\u001b[A"
     ]
    },
    {
     "name": "stdout",
     "output_type": "stream",
     "text": [
      "Number of synthetic images: 500\n"
     ]
    },
    {
     "name": "stderr",
     "output_type": "stream",
     "text": [
      " 67%|██████▋   | 67001/100001 [2:23:30<56:41:48,  6.19s/it]"
     ]
    },
    {
     "name": "stdout",
     "output_type": "stream",
     "text": [
      "Current fid score: 1.226437551227427\n",
      "Fid scores: [5.176135784826485, 2.49733748630797, 2.556800986640896, 2.551807388342233, 3.0005414208896823, 2.6693746896472135, 2.327712167642524, 2.753024418615748, 1.810803698247632, 1.882469618869699, 2.3049020902006205, 1.2671737770059046, 2.1210468891055463, 2.099174223550225, 2.916100690765896, 3.40813729288425, 3.245391894475338, 3.857025155346646, 3.9987907417992634, 1.1312376693415231, 1.2186857992723503, 1.8961604960656189, 1.639260863742642, 1.4429721571320542, 1.2975153110277695, 1.2989564652328056, 1.2159174147751202, 1.2886615711632565, 1.2749489523852944, 1.2123217476264827, 1.130321950731723, 1.4349116027401223, 1.325705351921183, 0.9511910740117848, 0.7728854208281035, 1.0974412373000142, 1.3230233049879843, 1.456390242262266, 0.9723678173420041, 1.0042308899555294, 1.147213070903458, 1.1264658019655336, 1.0130370458094191, 1.2854713703383176, 1.395702880834726, 1.2354265562601796, 1.1165221470255844, 0.8902281152901743, 0.9371797233348538, 0.961486559589865, 0.9584809289781582, 1.0195113882726083, 1.1121585784748262, 0.8836194939814135, 1.2628025717982325, 1.0003107218338911, 1.0250539841592463, 1.2311716920488536, 0.8466612256589094, 1.062360831083872, 1.2398349309790042, 1.140507671535076, 1.289318961625014, 1.4735660614194437, 1.1830292778583882, 1.0022911738106046, 1.5096925650423003, 1.226437551227427]\n"
     ]
    },
    {
     "name": "stderr",
     "output_type": "stream",
     "text": [
      "  0%|          | 0/175 [00:10<?, ?it/s]5:23:49,  1.70it/s] \n",
      "  0%|          | 0/15 [00:01<?, ?it/s]\n",
      " 67%|██████▋   | 67101/100001 [2:23:41<1:01:45,  8.88it/s]"
     ]
    },
    {
     "name": "stdout",
     "output_type": "stream",
     "text": [
      "GAN: loss d: 4.18294    loss g: -1.90318\n"
     ]
    },
    {
     "name": "stderr",
     "output_type": "stream",
     "text": [
      " 67%|██████▋   | 67201/100001 [2:23:51<1:01:45,  8.85it/s]"
     ]
    },
    {
     "name": "stdout",
     "output_type": "stream",
     "text": [
      "GAN: loss d: 4.92545    loss g: -2.66407\n"
     ]
    },
    {
     "name": "stderr",
     "output_type": "stream",
     "text": [
      " 67%|██████▋   | 67301/100001 [2:24:02<1:01:10,  8.91it/s]"
     ]
    },
    {
     "name": "stdout",
     "output_type": "stream",
     "text": [
      "GAN: loss d: 5.18224    loss g: -2.70491\n"
     ]
    },
    {
     "name": "stderr",
     "output_type": "stream",
     "text": [
      " 67%|██████▋   | 67401/100001 [2:24:13<1:00:15,  9.02it/s]"
     ]
    },
    {
     "name": "stdout",
     "output_type": "stream",
     "text": [
      "GAN: loss d: 3.47850    loss g: -2.58605\n"
     ]
    },
    {
     "name": "stderr",
     "output_type": "stream",
     "text": [
      " 68%|██████▊   | 67501/100001 [2:24:24<59:39,  9.08it/s]  "
     ]
    },
    {
     "name": "stdout",
     "output_type": "stream",
     "text": [
      "GAN: loss d: 5.53328    loss g: -2.75345\n"
     ]
    },
    {
     "name": "stderr",
     "output_type": "stream",
     "text": [
      " 68%|██████▊   | 67601/100001 [2:24:34<59:42,  9.04it/s]"
     ]
    },
    {
     "name": "stdout",
     "output_type": "stream",
     "text": [
      "GAN: loss d: 1.69413    loss g: -3.40243\n"
     ]
    },
    {
     "name": "stderr",
     "output_type": "stream",
     "text": [
      " 68%|██████▊   | 67701/100001 [2:24:45<59:27,  9.05it/s]"
     ]
    },
    {
     "name": "stdout",
     "output_type": "stream",
     "text": [
      "GAN: loss d: 4.66719    loss g: -3.16695\n"
     ]
    },
    {
     "name": "stderr",
     "output_type": "stream",
     "text": [
      " 68%|██████▊   | 67801/100001 [2:24:56<59:59,  8.95it/s]"
     ]
    },
    {
     "name": "stdout",
     "output_type": "stream",
     "text": [
      "GAN: loss d: 3.54160    loss g: -3.33553\n"
     ]
    },
    {
     "name": "stderr",
     "output_type": "stream",
     "text": [
      " 68%|██████▊   | 67901/100001 [2:25:06<1:00:04,  8.91it/s]"
     ]
    },
    {
     "name": "stdout",
     "output_type": "stream",
     "text": [
      "GAN: loss d: 2.46781    loss g: -2.65219\n"
     ]
    },
    {
     "name": "stderr",
     "output_type": "stream",
     "text": [
      " 68%|██████▊   | 68000/100001 [2:25:17<56:27,  9.45it/s]  "
     ]
    },
    {
     "name": "stdout",
     "output_type": "stream",
     "text": [
      "GAN: loss d: 3.53241    loss g: -3.54930\n",
      "saving current model\n"
     ]
    },
    {
     "name": "stderr",
     "output_type": "stream",
     "text": [
      "\n",
      "  0%|          | 0/175 [00:00<?, ?it/s]\u001b[A"
     ]
    },
    {
     "name": "stdout",
     "output_type": "stream",
     "text": [
      "Number of real images: 5626\n"
     ]
    },
    {
     "name": "stderr",
     "output_type": "stream",
     "text": [
      "\n",
      "\n",
      "  0%|          | 0/15 [00:00<?, ?it/s]\u001b[A\u001b[A"
     ]
    },
    {
     "name": "stdout",
     "output_type": "stream",
     "text": [
      "Number of synthetic images: 500\n"
     ]
    },
    {
     "name": "stderr",
     "output_type": "stream",
     "text": [
      " 68%|██████▊   | 68001/100001 [2:25:38<56:28:03,  6.35s/it]"
     ]
    },
    {
     "name": "stdout",
     "output_type": "stream",
     "text": [
      "Current fid score: 1.1657271872429895\n",
      "Fid scores: [5.176135784826485, 2.49733748630797, 2.556800986640896, 2.551807388342233, 3.0005414208896823, 2.6693746896472135, 2.327712167642524, 2.753024418615748, 1.810803698247632, 1.882469618869699, 2.3049020902006205, 1.2671737770059046, 2.1210468891055463, 2.099174223550225, 2.916100690765896, 3.40813729288425, 3.245391894475338, 3.857025155346646, 3.9987907417992634, 1.1312376693415231, 1.2186857992723503, 1.8961604960656189, 1.639260863742642, 1.4429721571320542, 1.2975153110277695, 1.2989564652328056, 1.2159174147751202, 1.2886615711632565, 1.2749489523852944, 1.2123217476264827, 1.130321950731723, 1.4349116027401223, 1.325705351921183, 0.9511910740117848, 0.7728854208281035, 1.0974412373000142, 1.3230233049879843, 1.456390242262266, 0.9723678173420041, 1.0042308899555294, 1.147213070903458, 1.1264658019655336, 1.0130370458094191, 1.2854713703383176, 1.395702880834726, 1.2354265562601796, 1.1165221470255844, 0.8902281152901743, 0.9371797233348538, 0.961486559589865, 0.9584809289781582, 1.0195113882726083, 1.1121585784748262, 0.8836194939814135, 1.2628025717982325, 1.0003107218338911, 1.0250539841592463, 1.2311716920488536, 0.8466612256589094, 1.062360831083872, 1.2398349309790042, 1.140507671535076, 1.289318961625014, 1.4735660614194437, 1.1830292778583882, 1.0022911738106046, 1.5096925650423003, 1.226437551227427, 1.1657271872429895]\n"
     ]
    },
    {
     "name": "stderr",
     "output_type": "stream",
     "text": [
      "  0%|          | 0/175 [00:19<?, ?it/s]57:18,  9.28it/s]   \n",
      "  0%|          | 0/15 [00:10<?, ?it/s]\n",
      " 68%|██████▊   | 68101/100001 [2:25:49<59:42,  8.90it/s]"
     ]
    },
    {
     "name": "stdout",
     "output_type": "stream",
     "text": [
      "GAN: loss d: 2.80103    loss g: -1.99828\n"
     ]
    },
    {
     "name": "stderr",
     "output_type": "stream",
     "text": [
      " 68%|██████▊   | 68201/100001 [2:25:59<58:49,  9.01it/s]"
     ]
    },
    {
     "name": "stdout",
     "output_type": "stream",
     "text": [
      "GAN: loss d: 0.88911    loss g: -1.36621\n"
     ]
    },
    {
     "name": "stderr",
     "output_type": "stream",
     "text": [
      " 68%|██████▊   | 68301/100001 [2:26:10<59:20,  8.90it/s]  "
     ]
    },
    {
     "name": "stdout",
     "output_type": "stream",
     "text": [
      "GAN: loss d: 2.98930    loss g: -2.59765\n"
     ]
    },
    {
     "name": "stderr",
     "output_type": "stream",
     "text": [
      " 68%|██████▊   | 68401/100001 [2:26:21<57:48,  9.11it/s]"
     ]
    },
    {
     "name": "stdout",
     "output_type": "stream",
     "text": [
      "GAN: loss d: 5.06876    loss g: -3.12815\n"
     ]
    },
    {
     "name": "stderr",
     "output_type": "stream",
     "text": [
      " 69%|██████▊   | 68502/100001 [2:26:32<56:41,  9.26it/s]"
     ]
    },
    {
     "name": "stdout",
     "output_type": "stream",
     "text": [
      "GAN: loss d: 5.87625    loss g: -1.80708\n"
     ]
    },
    {
     "name": "stderr",
     "output_type": "stream",
     "text": [
      " 69%|██████▊   | 68601/100001 [2:26:42<58:44,  8.91it/s]"
     ]
    },
    {
     "name": "stdout",
     "output_type": "stream",
     "text": [
      "GAN: loss d: 3.36698    loss g: -2.08355\n"
     ]
    },
    {
     "name": "stderr",
     "output_type": "stream",
     "text": [
      " 69%|██████▊   | 68701/100001 [2:26:53<58:31,  8.91it/s]"
     ]
    },
    {
     "name": "stdout",
     "output_type": "stream",
     "text": [
      "GAN: loss d: 4.65590    loss g: -2.47872\n"
     ]
    },
    {
     "name": "stderr",
     "output_type": "stream",
     "text": [
      " 69%|██████▉   | 68801/100001 [2:27:04<57:24,  9.06it/s]"
     ]
    },
    {
     "name": "stdout",
     "output_type": "stream",
     "text": [
      "GAN: loss d: 5.31322    loss g: -2.82170\n"
     ]
    },
    {
     "name": "stderr",
     "output_type": "stream",
     "text": [
      " 69%|██████▉   | 68903/100001 [2:27:15<54:07,  9.58it/s]"
     ]
    },
    {
     "name": "stdout",
     "output_type": "stream",
     "text": [
      "GAN: loss d: 2.92733    loss g: -2.10529\n"
     ]
    },
    {
     "name": "stderr",
     "output_type": "stream",
     "text": [
      " 69%|██████▉   | 69000/100001 [2:27:25<54:42,  9.45it/s]"
     ]
    },
    {
     "name": "stdout",
     "output_type": "stream",
     "text": [
      "GAN: loss d: 2.03721    loss g: -2.79596\n",
      "saving current model\n"
     ]
    },
    {
     "name": "stderr",
     "output_type": "stream",
     "text": [
      "\n",
      "  0%|          | 0/175 [00:00<?, ?it/s]\u001b[A"
     ]
    },
    {
     "name": "stdout",
     "output_type": "stream",
     "text": [
      "Number of real images: 5626\n"
     ]
    },
    {
     "name": "stderr",
     "output_type": "stream",
     "text": [
      "\n",
      "\n",
      "  0%|          | 0/15 [00:00<?, ?it/s]\u001b[A\u001b[A"
     ]
    },
    {
     "name": "stdout",
     "output_type": "stream",
     "text": [
      "Number of synthetic images: 500\n"
     ]
    },
    {
     "name": "stderr",
     "output_type": "stream",
     "text": [
      " 69%|██████▉   | 69002/100001 [2:27:46<37:43:46,  4.38s/it]"
     ]
    },
    {
     "name": "stdout",
     "output_type": "stream",
     "text": [
      "Current fid score: 0.9701383217156625\n",
      "Fid scores: [5.176135784826485, 2.49733748630797, 2.556800986640896, 2.551807388342233, 3.0005414208896823, 2.6693746896472135, 2.327712167642524, 2.753024418615748, 1.810803698247632, 1.882469618869699, 2.3049020902006205, 1.2671737770059046, 2.1210468891055463, 2.099174223550225, 2.916100690765896, 3.40813729288425, 3.245391894475338, 3.857025155346646, 3.9987907417992634, 1.1312376693415231, 1.2186857992723503, 1.8961604960656189, 1.639260863742642, 1.4429721571320542, 1.2975153110277695, 1.2989564652328056, 1.2159174147751202, 1.2886615711632565, 1.2749489523852944, 1.2123217476264827, 1.130321950731723, 1.4349116027401223, 1.325705351921183, 0.9511910740117848, 0.7728854208281035, 1.0974412373000142, 1.3230233049879843, 1.456390242262266, 0.9723678173420041, 1.0042308899555294, 1.147213070903458, 1.1264658019655336, 1.0130370458094191, 1.2854713703383176, 1.395702880834726, 1.2354265562601796, 1.1165221470255844, 0.8902281152901743, 0.9371797233348538, 0.961486559589865, 0.9584809289781582, 1.0195113882726083, 1.1121585784748262, 0.8836194939814135, 1.2628025717982325, 1.0003107218338911, 1.0250539841592463, 1.2311716920488536, 0.8466612256589094, 1.062360831083872, 1.2398349309790042, 1.140507671535076, 1.289318961625014, 1.4735660614194437, 1.1830292778583882, 1.0022911738106046, 1.5096925650423003, 1.226437551227427, 1.1657271872429895, 0.9701383217156625]\n"
     ]
    },
    {
     "name": "stderr",
     "output_type": "stream",
     "text": [
      "  0%|          | 0/175 [00:15<?, ?it/s]56:10,  9.18it/s]   \n",
      "  0%|          | 0/15 [00:06<?, ?it/s]\n",
      " 69%|██████▉   | 69102/100001 [2:27:56<57:02,  9.03it/s]"
     ]
    },
    {
     "name": "stdout",
     "output_type": "stream",
     "text": [
      "GAN: loss d: 1.03911    loss g: -3.24645\n"
     ]
    },
    {
     "name": "stderr",
     "output_type": "stream",
     "text": [
      " 69%|██████▉   | 69201/100001 [2:28:07<56:10,  9.14it/s]"
     ]
    },
    {
     "name": "stdout",
     "output_type": "stream",
     "text": [
      "GAN: loss d: 5.20129    loss g: -1.74773\n"
     ]
    },
    {
     "name": "stderr",
     "output_type": "stream",
     "text": [
      " 69%|██████▉   | 69301/100001 [2:28:18<56:38,  9.03it/s]"
     ]
    },
    {
     "name": "stdout",
     "output_type": "stream",
     "text": [
      "GAN: loss d: 3.42651    loss g: -3.68500\n"
     ]
    },
    {
     "name": "stderr",
     "output_type": "stream",
     "text": [
      " 69%|██████▉   | 69401/100001 [2:28:28<1:07:19,  7.58it/s]"
     ]
    },
    {
     "name": "stdout",
     "output_type": "stream",
     "text": [
      "GAN: loss d: 4.27014    loss g: -2.99368\n"
     ]
    },
    {
     "name": "stderr",
     "output_type": "stream",
     "text": [
      " 70%|██████▉   | 69501/100001 [2:28:39<1:00:40,  8.38it/s]"
     ]
    },
    {
     "name": "stdout",
     "output_type": "stream",
     "text": [
      "GAN: loss d: 5.06930    loss g: -2.31497\n"
     ]
    },
    {
     "name": "stderr",
     "output_type": "stream",
     "text": [
      " 70%|██████▉   | 69601/100001 [2:28:50<55:38,  9.11it/s]  "
     ]
    },
    {
     "name": "stdout",
     "output_type": "stream",
     "text": [
      "GAN: loss d: 2.27867    loss g: -1.78977\n"
     ]
    },
    {
     "name": "stderr",
     "output_type": "stream",
     "text": [
      " 70%|██████▉   | 69701/100001 [2:29:01<56:34,  8.93it/s]"
     ]
    },
    {
     "name": "stdout",
     "output_type": "stream",
     "text": [
      "GAN: loss d: 4.67502    loss g: -3.96305\n"
     ]
    },
    {
     "name": "stderr",
     "output_type": "stream",
     "text": [
      " 70%|██████▉   | 69801/100001 [2:29:11<56:36,  8.89it/s]"
     ]
    },
    {
     "name": "stdout",
     "output_type": "stream",
     "text": [
      "GAN: loss d: 4.27161    loss g: -3.13735\n"
     ]
    },
    {
     "name": "stderr",
     "output_type": "stream",
     "text": [
      " 70%|██████▉   | 69901/100001 [2:29:22<55:29,  9.04it/s]"
     ]
    },
    {
     "name": "stdout",
     "output_type": "stream",
     "text": [
      "GAN: loss d: 2.97615    loss g: -3.84567\n"
     ]
    },
    {
     "name": "stderr",
     "output_type": "stream",
     "text": [
      " 70%|██████▉   | 70000/100001 [2:29:33<52:49,  9.47it/s]"
     ]
    },
    {
     "name": "stdout",
     "output_type": "stream",
     "text": [
      "GAN: loss d: 5.38416    loss g: -3.08353\n",
      "saving current model\n"
     ]
    },
    {
     "name": "stderr",
     "output_type": "stream",
     "text": [
      "\n",
      "  0%|          | 0/175 [00:00<?, ?it/s]\u001b[A"
     ]
    },
    {
     "name": "stdout",
     "output_type": "stream",
     "text": [
      "Number of real images: 5626\n"
     ]
    },
    {
     "name": "stderr",
     "output_type": "stream",
     "text": [
      "\n",
      "\n",
      "  0%|          | 0/15 [00:00<?, ?it/s]\u001b[A\u001b[A"
     ]
    },
    {
     "name": "stdout",
     "output_type": "stream",
     "text": [
      "Number of synthetic images: 500\n"
     ]
    },
    {
     "name": "stderr",
     "output_type": "stream",
     "text": [
      " 70%|███████   | 70002/100001 [2:29:53<36:41:36,  4.40s/it]"
     ]
    },
    {
     "name": "stdout",
     "output_type": "stream",
     "text": [
      "Current fid score: 1.0896116345455056\n",
      "Fid scores: [5.176135784826485, 2.49733748630797, 2.556800986640896, 2.551807388342233, 3.0005414208896823, 2.6693746896472135, 2.327712167642524, 2.753024418615748, 1.810803698247632, 1.882469618869699, 2.3049020902006205, 1.2671737770059046, 2.1210468891055463, 2.099174223550225, 2.916100690765896, 3.40813729288425, 3.245391894475338, 3.857025155346646, 3.9987907417992634, 1.1312376693415231, 1.2186857992723503, 1.8961604960656189, 1.639260863742642, 1.4429721571320542, 1.2975153110277695, 1.2989564652328056, 1.2159174147751202, 1.2886615711632565, 1.2749489523852944, 1.2123217476264827, 1.130321950731723, 1.4349116027401223, 1.325705351921183, 0.9511910740117848, 0.7728854208281035, 1.0974412373000142, 1.3230233049879843, 1.456390242262266, 0.9723678173420041, 1.0042308899555294, 1.147213070903458, 1.1264658019655336, 1.0130370458094191, 1.2854713703383176, 1.395702880834726, 1.2354265562601796, 1.1165221470255844, 0.8902281152901743, 0.9371797233348538, 0.961486559589865, 0.9584809289781582, 1.0195113882726083, 1.1121585784748262, 0.8836194939814135, 1.2628025717982325, 1.0003107218338911, 1.0250539841592463, 1.2311716920488536, 0.8466612256589094, 1.062360831083872, 1.2398349309790042, 1.140507671535076, 1.289318961625014, 1.4735660614194437, 1.1830292778583882, 1.0022911738106046, 1.5096925650423003, 1.226437551227427, 1.1657271872429895, 0.9701383217156625, 1.0896116345455056]\n"
     ]
    },
    {
     "name": "stderr",
     "output_type": "stream",
     "text": [
      "  0%|          | 0/175 [00:10<?, ?it/s]5:06:19,  1.63it/s] \n",
      "  0%|          | 0/15 [00:01<?, ?it/s]\n",
      " 70%|███████   | 70101/100001 [2:30:04<56:17,  8.85it/s]  "
     ]
    },
    {
     "name": "stdout",
     "output_type": "stream",
     "text": [
      "GAN: loss d: 1.13500    loss g: -4.52468\n"
     ]
    },
    {
     "name": "stderr",
     "output_type": "stream",
     "text": [
      " 70%|███████   | 70201/100001 [2:30:15<54:57,  9.04it/s]"
     ]
    },
    {
     "name": "stdout",
     "output_type": "stream",
     "text": [
      "GAN: loss d: 4.00658    loss g: -3.18767\n"
     ]
    },
    {
     "name": "stderr",
     "output_type": "stream",
     "text": [
      " 70%|███████   | 70301/100001 [2:30:25<54:48,  9.03it/s]"
     ]
    },
    {
     "name": "stdout",
     "output_type": "stream",
     "text": [
      "GAN: loss d: 4.45367    loss g: -2.31382\n"
     ]
    },
    {
     "name": "stderr",
     "output_type": "stream",
     "text": [
      " 70%|███████   | 70401/100001 [2:30:36<55:07,  8.95it/s]"
     ]
    },
    {
     "name": "stdout",
     "output_type": "stream",
     "text": [
      "GAN: loss d: 2.24874    loss g: -3.09867\n"
     ]
    },
    {
     "name": "stderr",
     "output_type": "stream",
     "text": [
      " 71%|███████   | 70501/100001 [2:30:47<54:53,  8.96it/s]"
     ]
    },
    {
     "name": "stdout",
     "output_type": "stream",
     "text": [
      "GAN: loss d: 3.81840    loss g: -2.71530\n"
     ]
    },
    {
     "name": "stderr",
     "output_type": "stream",
     "text": [
      " 71%|███████   | 70601/100001 [2:30:58<55:33,  8.82it/s]"
     ]
    },
    {
     "name": "stdout",
     "output_type": "stream",
     "text": [
      "GAN: loss d: 4.29734    loss g: -2.43430\n"
     ]
    },
    {
     "name": "stderr",
     "output_type": "stream",
     "text": [
      " 71%|███████   | 70703/100001 [2:31:09<51:11,  9.54it/s]"
     ]
    },
    {
     "name": "stdout",
     "output_type": "stream",
     "text": [
      "GAN: loss d: 5.03534    loss g: -4.07333\n"
     ]
    },
    {
     "name": "stderr",
     "output_type": "stream",
     "text": [
      " 71%|███████   | 70803/100001 [2:31:19<51:24,  9.46it/s]"
     ]
    },
    {
     "name": "stdout",
     "output_type": "stream",
     "text": [
      "GAN: loss d: 1.15274    loss g: -2.82675\n"
     ]
    },
    {
     "name": "stderr",
     "output_type": "stream",
     "text": [
      " 71%|███████   | 70901/100001 [2:31:30<54:28,  8.90it/s]"
     ]
    },
    {
     "name": "stdout",
     "output_type": "stream",
     "text": [
      "GAN: loss d: 4.83507    loss g: -3.15576\n"
     ]
    },
    {
     "name": "stderr",
     "output_type": "stream",
     "text": [
      " 71%|███████   | 71000/100001 [2:31:40<51:35,  9.37it/s]"
     ]
    },
    {
     "name": "stdout",
     "output_type": "stream",
     "text": [
      "GAN: loss d: 4.16943    loss g: -2.56959\n",
      "saving current model\n"
     ]
    },
    {
     "name": "stderr",
     "output_type": "stream",
     "text": [
      "\n",
      "  0%|          | 0/175 [00:00<?, ?it/s]\u001b[A"
     ]
    },
    {
     "name": "stdout",
     "output_type": "stream",
     "text": [
      "Number of real images: 5626\n"
     ]
    },
    {
     "name": "stderr",
     "output_type": "stream",
     "text": [
      "\n",
      "\n",
      "  0%|          | 0/15 [00:00<?, ?it/s]\u001b[A\u001b[A"
     ]
    },
    {
     "name": "stdout",
     "output_type": "stream",
     "text": [
      "Number of synthetic images: 500\n"
     ]
    },
    {
     "name": "stderr",
     "output_type": "stream",
     "text": [
      " 71%|███████   | 71001/100001 [2:32:01<50:11:59,  6.23s/it]"
     ]
    },
    {
     "name": "stdout",
     "output_type": "stream",
     "text": [
      "Current fid score: 1.0267251792278955\n",
      "Fid scores: [5.176135784826485, 2.49733748630797, 2.556800986640896, 2.551807388342233, 3.0005414208896823, 2.6693746896472135, 2.327712167642524, 2.753024418615748, 1.810803698247632, 1.882469618869699, 2.3049020902006205, 1.2671737770059046, 2.1210468891055463, 2.099174223550225, 2.916100690765896, 3.40813729288425, 3.245391894475338, 3.857025155346646, 3.9987907417992634, 1.1312376693415231, 1.2186857992723503, 1.8961604960656189, 1.639260863742642, 1.4429721571320542, 1.2975153110277695, 1.2989564652328056, 1.2159174147751202, 1.2886615711632565, 1.2749489523852944, 1.2123217476264827, 1.130321950731723, 1.4349116027401223, 1.325705351921183, 0.9511910740117848, 0.7728854208281035, 1.0974412373000142, 1.3230233049879843, 1.456390242262266, 0.9723678173420041, 1.0042308899555294, 1.147213070903458, 1.1264658019655336, 1.0130370458094191, 1.2854713703383176, 1.395702880834726, 1.2354265562601796, 1.1165221470255844, 0.8902281152901743, 0.9371797233348538, 0.961486559589865, 0.9584809289781582, 1.0195113882726083, 1.1121585784748262, 0.8836194939814135, 1.2628025717982325, 1.0003107218338911, 1.0250539841592463, 1.2311716920488536, 0.8466612256589094, 1.062360831083872, 1.2398349309790042, 1.140507671535076, 1.289318961625014, 1.4735660614194437, 1.1830292778583882, 1.0022911738106046, 1.5096925650423003, 1.226437551227427, 1.1657271872429895, 0.9701383217156625, 1.0896116345455056, 1.0267251792278955]\n"
     ]
    },
    {
     "name": "stderr",
     "output_type": "stream",
     "text": [
      "  0%|          | 0/175 [00:10<?, ?it/s]2:13:52,  3.61it/s] \n",
      "  0%|          | 0/15 [00:02<?, ?it/s]\n",
      " 71%|███████   | 71101/100001 [2:32:12<55:06,  8.74it/s]  "
     ]
    },
    {
     "name": "stdout",
     "output_type": "stream",
     "text": [
      "GAN: loss d: 4.92950    loss g: -3.42813\n"
     ]
    },
    {
     "name": "stderr",
     "output_type": "stream",
     "text": [
      " 71%|███████   | 71201/100001 [2:32:22<1:03:00,  7.62it/s]"
     ]
    },
    {
     "name": "stdout",
     "output_type": "stream",
     "text": [
      "GAN: loss d: 2.99375    loss g: -3.91203\n"
     ]
    },
    {
     "name": "stderr",
     "output_type": "stream",
     "text": [
      " 71%|███████▏  | 71301/100001 [2:32:33<53:18,  8.97it/s]  "
     ]
    },
    {
     "name": "stdout",
     "output_type": "stream",
     "text": [
      "GAN: loss d: 4.89175    loss g: -3.49898\n"
     ]
    },
    {
     "name": "stderr",
     "output_type": "stream",
     "text": [
      " 71%|███████▏  | 71401/100001 [2:32:44<52:51,  9.02it/s]"
     ]
    },
    {
     "name": "stdout",
     "output_type": "stream",
     "text": [
      "GAN: loss d: 3.05877    loss g: -2.38220\n"
     ]
    },
    {
     "name": "stderr",
     "output_type": "stream",
     "text": [
      " 72%|███████▏  | 71501/100001 [2:32:54<53:09,  8.94it/s]"
     ]
    },
    {
     "name": "stdout",
     "output_type": "stream",
     "text": [
      "GAN: loss d: 2.86809    loss g: -2.00897\n"
     ]
    },
    {
     "name": "stderr",
     "output_type": "stream",
     "text": [
      " 72%|███████▏  | 71601/100001 [2:33:05<51:47,  9.14it/s]"
     ]
    },
    {
     "name": "stdout",
     "output_type": "stream",
     "text": [
      "GAN: loss d: 3.09709    loss g: -2.08907\n"
     ]
    },
    {
     "name": "stderr",
     "output_type": "stream",
     "text": [
      " 72%|███████▏  | 71701/100001 [2:33:16<53:02,  8.89it/s]"
     ]
    },
    {
     "name": "stdout",
     "output_type": "stream",
     "text": [
      "GAN: loss d: 3.15151    loss g: -3.33412\n"
     ]
    },
    {
     "name": "stderr",
     "output_type": "stream",
     "text": [
      " 72%|███████▏  | 71801/100001 [2:33:27<51:47,  9.07it/s]"
     ]
    },
    {
     "name": "stdout",
     "output_type": "stream",
     "text": [
      "GAN: loss d: 5.97503    loss g: -2.68392\n"
     ]
    },
    {
     "name": "stderr",
     "output_type": "stream",
     "text": [
      " 72%|███████▏  | 71901/100001 [2:33:37<51:47,  9.04it/s]"
     ]
    },
    {
     "name": "stdout",
     "output_type": "stream",
     "text": [
      "GAN: loss d: 3.30101    loss g: -3.59856\n"
     ]
    },
    {
     "name": "stderr",
     "output_type": "stream",
     "text": [
      " 72%|███████▏  | 72000/100001 [2:33:48<50:29,  9.24it/s]"
     ]
    },
    {
     "name": "stdout",
     "output_type": "stream",
     "text": [
      "GAN: loss d: 2.12190    loss g: -2.81939\n",
      "saving current model\n"
     ]
    },
    {
     "name": "stderr",
     "output_type": "stream",
     "text": [
      "\n",
      "  0%|          | 0/175 [00:00<?, ?it/s]\u001b[A"
     ]
    },
    {
     "name": "stdout",
     "output_type": "stream",
     "text": [
      "Number of real images: 5626\n"
     ]
    },
    {
     "name": "stderr",
     "output_type": "stream",
     "text": [
      "\n",
      "\n",
      "  0%|          | 0/15 [00:00<?, ?it/s]\u001b[A\u001b[A"
     ]
    },
    {
     "name": "stdout",
     "output_type": "stream",
     "text": [
      "Number of synthetic images: 500\n"
     ]
    },
    {
     "name": "stderr",
     "output_type": "stream",
     "text": [
      " 72%|███████▏  | 72001/100001 [2:34:09<49:04:39,  6.31s/it]"
     ]
    },
    {
     "name": "stdout",
     "output_type": "stream",
     "text": [
      "Current fid score: 0.8836643175091368\n",
      "Fid scores: [5.176135784826485, 2.49733748630797, 2.556800986640896, 2.551807388342233, 3.0005414208896823, 2.6693746896472135, 2.327712167642524, 2.753024418615748, 1.810803698247632, 1.882469618869699, 2.3049020902006205, 1.2671737770059046, 2.1210468891055463, 2.099174223550225, 2.916100690765896, 3.40813729288425, 3.245391894475338, 3.857025155346646, 3.9987907417992634, 1.1312376693415231, 1.2186857992723503, 1.8961604960656189, 1.639260863742642, 1.4429721571320542, 1.2975153110277695, 1.2989564652328056, 1.2159174147751202, 1.2886615711632565, 1.2749489523852944, 1.2123217476264827, 1.130321950731723, 1.4349116027401223, 1.325705351921183, 0.9511910740117848, 0.7728854208281035, 1.0974412373000142, 1.3230233049879843, 1.456390242262266, 0.9723678173420041, 1.0042308899555294, 1.147213070903458, 1.1264658019655336, 1.0130370458094191, 1.2854713703383176, 1.395702880834726, 1.2354265562601796, 1.1165221470255844, 0.8902281152901743, 0.9371797233348538, 0.961486559589865, 0.9584809289781582, 1.0195113882726083, 1.1121585784748262, 0.8836194939814135, 1.2628025717982325, 1.0003107218338911, 1.0250539841592463, 1.2311716920488536, 0.8466612256589094, 1.062360831083872, 1.2398349309790042, 1.140507671535076, 1.289318961625014, 1.4735660614194437, 1.1830292778583882, 1.0022911738106046, 1.5096925650423003, 1.226437551227427, 1.1657271872429895, 0.9701383217156625, 1.0896116345455056, 1.0267251792278955, 0.8836643175091368]\n"
     ]
    },
    {
     "name": "stderr",
     "output_type": "stream",
     "text": [
      "  0%|          | 0/175 [00:18<?, ?it/s]49:46,  9.35it/s]   \n",
      "  0%|          | 0/15 [00:09<?, ?it/s]\n",
      " 72%|███████▏  | 72101/100001 [2:34:19<52:19,  8.89it/s]"
     ]
    },
    {
     "name": "stdout",
     "output_type": "stream",
     "text": [
      "GAN: loss d: 2.49202    loss g: -3.05720\n"
     ]
    },
    {
     "name": "stderr",
     "output_type": "stream",
     "text": [
      " 72%|███████▏  | 72201/100001 [2:34:30<51:19,  9.03it/s]"
     ]
    },
    {
     "name": "stdout",
     "output_type": "stream",
     "text": [
      "GAN: loss d: 3.94785    loss g: -3.37770\n"
     ]
    },
    {
     "name": "stderr",
     "output_type": "stream",
     "text": [
      " 72%|███████▏  | 72301/100001 [2:34:41<51:46,  8.92it/s]"
     ]
    },
    {
     "name": "stdout",
     "output_type": "stream",
     "text": [
      "GAN: loss d: 4.63863    loss g: -3.10428\n"
     ]
    },
    {
     "name": "stderr",
     "output_type": "stream",
     "text": [
      " 72%|███████▏  | 72401/100001 [2:34:52<52:50,  8.70it/s]"
     ]
    },
    {
     "name": "stdout",
     "output_type": "stream",
     "text": [
      "GAN: loss d: 2.15943    loss g: -2.90902\n"
     ]
    },
    {
     "name": "stderr",
     "output_type": "stream",
     "text": [
      " 73%|███████▎  | 72501/100001 [2:35:03<51:06,  8.97it/s]"
     ]
    },
    {
     "name": "stdout",
     "output_type": "stream",
     "text": [
      "GAN: loss d: 2.46465    loss g: -2.56441\n"
     ]
    },
    {
     "name": "stderr",
     "output_type": "stream",
     "text": [
      " 73%|███████▎  | 72603/100001 [2:35:13<48:06,  9.49it/s]"
     ]
    },
    {
     "name": "stdout",
     "output_type": "stream",
     "text": [
      "GAN: loss d: 6.88795    loss g: -1.87265\n"
     ]
    },
    {
     "name": "stderr",
     "output_type": "stream",
     "text": [
      " 73%|███████▎  | 72701/100001 [2:35:24<50:46,  8.96it/s]"
     ]
    },
    {
     "name": "stdout",
     "output_type": "stream",
     "text": [
      "GAN: loss d: 4.80606    loss g: -2.84277\n"
     ]
    },
    {
     "name": "stderr",
     "output_type": "stream",
     "text": [
      " 73%|███████▎  | 72801/100001 [2:35:35<49:58,  9.07it/s]"
     ]
    },
    {
     "name": "stdout",
     "output_type": "stream",
     "text": [
      "GAN: loss d: 2.23126    loss g: -3.61021\n"
     ]
    },
    {
     "name": "stderr",
     "output_type": "stream",
     "text": [
      " 73%|███████▎  | 72901/100001 [2:35:45<49:34,  9.11it/s]"
     ]
    },
    {
     "name": "stdout",
     "output_type": "stream",
     "text": [
      "GAN: loss d: 2.75849    loss g: -2.15495\n"
     ]
    },
    {
     "name": "stderr",
     "output_type": "stream",
     "text": [
      " 73%|███████▎  | 73000/100001 [2:35:56<48:15,  9.32it/s]"
     ]
    },
    {
     "name": "stdout",
     "output_type": "stream",
     "text": [
      "GAN: loss d: 3.92227    loss g: -3.43611\n",
      "saving current model\n"
     ]
    },
    {
     "name": "stderr",
     "output_type": "stream",
     "text": [
      "\n",
      "  0%|          | 0/175 [00:00<?, ?it/s]\u001b[A"
     ]
    },
    {
     "name": "stdout",
     "output_type": "stream",
     "text": [
      "Number of real images: 5626\n"
     ]
    },
    {
     "name": "stderr",
     "output_type": "stream",
     "text": [
      "\n",
      "\n",
      "  0%|          | 0/15 [00:00<?, ?it/s]\u001b[A\u001b[A"
     ]
    },
    {
     "name": "stdout",
     "output_type": "stream",
     "text": [
      "Number of synthetic images: 500\n"
     ]
    },
    {
     "name": "stderr",
     "output_type": "stream",
     "text": [
      " 73%|███████▎  | 73002/100001 [2:36:17<33:01:48,  4.40s/it]"
     ]
    },
    {
     "name": "stdout",
     "output_type": "stream",
     "text": [
      "Current fid score: 1.1819464655556082\n",
      "Fid scores: [5.176135784826485, 2.49733748630797, 2.556800986640896, 2.551807388342233, 3.0005414208896823, 2.6693746896472135, 2.327712167642524, 2.753024418615748, 1.810803698247632, 1.882469618869699, 2.3049020902006205, 1.2671737770059046, 2.1210468891055463, 2.099174223550225, 2.916100690765896, 3.40813729288425, 3.245391894475338, 3.857025155346646, 3.9987907417992634, 1.1312376693415231, 1.2186857992723503, 1.8961604960656189, 1.639260863742642, 1.4429721571320542, 1.2975153110277695, 1.2989564652328056, 1.2159174147751202, 1.2886615711632565, 1.2749489523852944, 1.2123217476264827, 1.130321950731723, 1.4349116027401223, 1.325705351921183, 0.9511910740117848, 0.7728854208281035, 1.0974412373000142, 1.3230233049879843, 1.456390242262266, 0.9723678173420041, 1.0042308899555294, 1.147213070903458, 1.1264658019655336, 1.0130370458094191, 1.2854713703383176, 1.395702880834726, 1.2354265562601796, 1.1165221470255844, 0.8902281152901743, 0.9371797233348538, 0.961486559589865, 0.9584809289781582, 1.0195113882726083, 1.1121585784748262, 0.8836194939814135, 1.2628025717982325, 1.0003107218338911, 1.0250539841592463, 1.2311716920488536, 0.8466612256589094, 1.062360831083872, 1.2398349309790042, 1.140507671535076, 1.289318961625014, 1.4735660614194437, 1.1830292778583882, 1.0022911738106046, 1.5096925650423003, 1.226437551227427, 1.1657271872429895, 0.9701383217156625, 1.0896116345455056, 1.0267251792278955, 0.8836643175091368, 1.1819464655556082]\n"
     ]
    },
    {
     "name": "stderr",
     "output_type": "stream",
     "text": [
      "  0%|          | 0/175 [00:14<?, ?it/s]48:43,  9.22it/s]   \n",
      "  0%|          | 0/15 [00:05<?, ?it/s]\n",
      " 73%|███████▎  | 73101/100001 [2:36:27<50:40,  8.85it/s]"
     ]
    },
    {
     "name": "stdout",
     "output_type": "stream",
     "text": [
      "GAN: loss d: 3.93798    loss g: -2.47548\n"
     ]
    },
    {
     "name": "stderr",
     "output_type": "stream",
     "text": [
      " 73%|███████▎  | 73201/100001 [2:36:38<49:51,  8.96it/s]"
     ]
    },
    {
     "name": "stdout",
     "output_type": "stream",
     "text": [
      "GAN: loss d: 5.50874    loss g: -3.27283\n"
     ]
    },
    {
     "name": "stderr",
     "output_type": "stream",
     "text": [
      " 73%|███████▎  | 73303/100001 [2:36:49<47:11,  9.43it/s]"
     ]
    },
    {
     "name": "stdout",
     "output_type": "stream",
     "text": [
      "GAN: loss d: 3.73321    loss g: -2.04880\n"
     ]
    },
    {
     "name": "stderr",
     "output_type": "stream",
     "text": [
      " 73%|███████▎  | 73401/100001 [2:36:59<49:29,  8.96it/s]"
     ]
    },
    {
     "name": "stdout",
     "output_type": "stream",
     "text": [
      "GAN: loss d: 3.20923    loss g: -3.34777\n"
     ]
    },
    {
     "name": "stderr",
     "output_type": "stream",
     "text": [
      " 74%|███████▎  | 73503/100001 [2:37:10<46:24,  9.52it/s]"
     ]
    },
    {
     "name": "stdout",
     "output_type": "stream",
     "text": [
      "GAN: loss d: 2.76115    loss g: -2.71372\n"
     ]
    },
    {
     "name": "stderr",
     "output_type": "stream",
     "text": [
      " 74%|███████▎  | 73601/100001 [2:37:21<48:30,  9.07it/s]"
     ]
    },
    {
     "name": "stdout",
     "output_type": "stream",
     "text": [
      "GAN: loss d: 3.14415    loss g: -2.10396\n"
     ]
    },
    {
     "name": "stderr",
     "output_type": "stream",
     "text": [
      " 74%|███████▎  | 73701/100001 [2:37:31<48:58,  8.95it/s]"
     ]
    },
    {
     "name": "stdout",
     "output_type": "stream",
     "text": [
      "GAN: loss d: 2.60130    loss g: -2.90180\n"
     ]
    },
    {
     "name": "stderr",
     "output_type": "stream",
     "text": [
      " 74%|███████▍  | 73801/100001 [2:37:42<48:41,  8.97it/s]"
     ]
    },
    {
     "name": "stdout",
     "output_type": "stream",
     "text": [
      "GAN: loss d: 2.88729    loss g: -2.50972\n"
     ]
    },
    {
     "name": "stderr",
     "output_type": "stream",
     "text": [
      " 74%|███████▍  | 73901/100001 [2:37:53<47:46,  9.11it/s]"
     ]
    },
    {
     "name": "stdout",
     "output_type": "stream",
     "text": [
      "GAN: loss d: 1.59264    loss g: -2.32676\n"
     ]
    },
    {
     "name": "stderr",
     "output_type": "stream",
     "text": [
      " 74%|███████▍  | 74000/100001 [2:38:03<46:07,  9.39it/s]"
     ]
    },
    {
     "name": "stdout",
     "output_type": "stream",
     "text": [
      "GAN: loss d: 1.92047    loss g: -2.39172\n",
      "saving current model\n"
     ]
    },
    {
     "name": "stderr",
     "output_type": "stream",
     "text": [
      "\n",
      "  0%|          | 0/175 [00:00<?, ?it/s]\u001b[A"
     ]
    },
    {
     "name": "stdout",
     "output_type": "stream",
     "text": [
      "Number of real images: 5626\n"
     ]
    },
    {
     "name": "stderr",
     "output_type": "stream",
     "text": [
      "\n",
      "\n",
      "  0%|          | 0/15 [00:00<?, ?it/s]\u001b[A\u001b[A"
     ]
    },
    {
     "name": "stdout",
     "output_type": "stream",
     "text": [
      "Number of synthetic images: 500\n"
     ]
    },
    {
     "name": "stderr",
     "output_type": "stream",
     "text": [
      " 74%|███████▍  | 74001/100001 [2:38:24<44:47:25,  6.20s/it]"
     ]
    },
    {
     "name": "stdout",
     "output_type": "stream",
     "text": [
      "Current fid score: 1.104178601988096\n",
      "Fid scores: [5.176135784826485, 2.49733748630797, 2.556800986640896, 2.551807388342233, 3.0005414208896823, 2.6693746896472135, 2.327712167642524, 2.753024418615748, 1.810803698247632, 1.882469618869699, 2.3049020902006205, 1.2671737770059046, 2.1210468891055463, 2.099174223550225, 2.916100690765896, 3.40813729288425, 3.245391894475338, 3.857025155346646, 3.9987907417992634, 1.1312376693415231, 1.2186857992723503, 1.8961604960656189, 1.639260863742642, 1.4429721571320542, 1.2975153110277695, 1.2989564652328056, 1.2159174147751202, 1.2886615711632565, 1.2749489523852944, 1.2123217476264827, 1.130321950731723, 1.4349116027401223, 1.325705351921183, 0.9511910740117848, 0.7728854208281035, 1.0974412373000142, 1.3230233049879843, 1.456390242262266, 0.9723678173420041, 1.0042308899555294, 1.147213070903458, 1.1264658019655336, 1.0130370458094191, 1.2854713703383176, 1.395702880834726, 1.2354265562601796, 1.1165221470255844, 0.8902281152901743, 0.9371797233348538, 0.961486559589865, 0.9584809289781582, 1.0195113882726083, 1.1121585784748262, 0.8836194939814135, 1.2628025717982325, 1.0003107218338911, 1.0250539841592463, 1.2311716920488536, 0.8466612256589094, 1.062360831083872, 1.2398349309790042, 1.140507671535076, 1.289318961625014, 1.4735660614194437, 1.1830292778583882, 1.0022911738106046, 1.5096925650423003, 1.226437551227427, 1.1657271872429895, 0.9701383217156625, 1.0896116345455056, 1.0267251792278955, 0.8836643175091368, 1.1819464655556082, 1.104178601988096]\n"
     ]
    },
    {
     "name": "stderr",
     "output_type": "stream",
     "text": [
      "  0%|          | 0/175 [00:10<?, ?it/s]3:15:21,  2.22it/s] \n",
      "  0%|          | 0/15 [00:01<?, ?it/s]\n",
      " 74%|███████▍  | 74101/100001 [2:38:35<48:37,  8.88it/s]  "
     ]
    },
    {
     "name": "stdout",
     "output_type": "stream",
     "text": [
      "GAN: loss d: 3.84324    loss g: -3.21799\n"
     ]
    },
    {
     "name": "stderr",
     "output_type": "stream",
     "text": [
      " 74%|███████▍  | 74201/100001 [2:38:45<59:08,  7.27it/s]"
     ]
    },
    {
     "name": "stdout",
     "output_type": "stream",
     "text": [
      "GAN: loss d: 2.65543    loss g: -2.23210\n"
     ]
    },
    {
     "name": "stderr",
     "output_type": "stream",
     "text": [
      " 74%|███████▍  | 74301/100001 [2:38:56<48:37,  8.81it/s]"
     ]
    },
    {
     "name": "stdout",
     "output_type": "stream",
     "text": [
      "GAN: loss d: 2.52814    loss g: -3.38416\n"
     ]
    },
    {
     "name": "stderr",
     "output_type": "stream",
     "text": [
      " 74%|███████▍  | 74401/100001 [2:39:07<47:12,  9.04it/s]"
     ]
    },
    {
     "name": "stdout",
     "output_type": "stream",
     "text": [
      "GAN: loss d: 4.74445    loss g: -2.80080\n"
     ]
    },
    {
     "name": "stderr",
     "output_type": "stream",
     "text": [
      " 75%|███████▍  | 74501/100001 [2:39:18<47:23,  8.97it/s]"
     ]
    },
    {
     "name": "stdout",
     "output_type": "stream",
     "text": [
      "GAN: loss d: 4.76391    loss g: -2.29798\n"
     ]
    },
    {
     "name": "stderr",
     "output_type": "stream",
     "text": [
      " 75%|███████▍  | 74601/100001 [2:39:28<48:07,  8.80it/s]"
     ]
    },
    {
     "name": "stdout",
     "output_type": "stream",
     "text": [
      "GAN: loss d: 1.37165    loss g: -2.74594\n"
     ]
    },
    {
     "name": "stderr",
     "output_type": "stream",
     "text": [
      " 75%|███████▍  | 74701/100001 [2:39:39<46:49,  9.01it/s]"
     ]
    },
    {
     "name": "stdout",
     "output_type": "stream",
     "text": [
      "GAN: loss d: 3.60781    loss g: -2.63674\n"
     ]
    },
    {
     "name": "stderr",
     "output_type": "stream",
     "text": [
      " 75%|███████▍  | 74801/100001 [2:39:50<46:38,  9.00it/s]"
     ]
    },
    {
     "name": "stdout",
     "output_type": "stream",
     "text": [
      "GAN: loss d: 3.04187    loss g: -2.04987\n"
     ]
    },
    {
     "name": "stderr",
     "output_type": "stream",
     "text": [
      " 75%|███████▍  | 74901/100001 [2:40:01<46:01,  9.09it/s]"
     ]
    },
    {
     "name": "stdout",
     "output_type": "stream",
     "text": [
      "GAN: loss d: 1.24761    loss g: -2.39011\n"
     ]
    },
    {
     "name": "stderr",
     "output_type": "stream",
     "text": [
      " 75%|███████▍  | 75000/100001 [2:40:11<45:17,  9.20it/s]"
     ]
    },
    {
     "name": "stdout",
     "output_type": "stream",
     "text": [
      "GAN: loss d: 0.79782    loss g: -2.90013\n",
      "saving current model\n"
     ]
    },
    {
     "name": "stderr",
     "output_type": "stream",
     "text": [
      "\n",
      "  0%|          | 0/175 [00:00<?, ?it/s]\u001b[A"
     ]
    },
    {
     "name": "stdout",
     "output_type": "stream",
     "text": [
      "Number of real images: 5626\n"
     ]
    },
    {
     "name": "stderr",
     "output_type": "stream",
     "text": [
      "\n",
      "\n",
      "  0%|          | 0/15 [00:00<?, ?it/s]\u001b[A\u001b[A"
     ]
    },
    {
     "name": "stdout",
     "output_type": "stream",
     "text": [
      "Number of synthetic images: 500\n"
     ]
    },
    {
     "name": "stderr",
     "output_type": "stream",
     "text": [
      " 75%|███████▌  | 75001/100001 [2:40:32<43:35:03,  6.28s/it]"
     ]
    },
    {
     "name": "stdout",
     "output_type": "stream",
     "text": [
      "Current fid score: 1.200262096253411\n",
      "Fid scores: [5.176135784826485, 2.49733748630797, 2.556800986640896, 2.551807388342233, 3.0005414208896823, 2.6693746896472135, 2.327712167642524, 2.753024418615748, 1.810803698247632, 1.882469618869699, 2.3049020902006205, 1.2671737770059046, 2.1210468891055463, 2.099174223550225, 2.916100690765896, 3.40813729288425, 3.245391894475338, 3.857025155346646, 3.9987907417992634, 1.1312376693415231, 1.2186857992723503, 1.8961604960656189, 1.639260863742642, 1.4429721571320542, 1.2975153110277695, 1.2989564652328056, 1.2159174147751202, 1.2886615711632565, 1.2749489523852944, 1.2123217476264827, 1.130321950731723, 1.4349116027401223, 1.325705351921183, 0.9511910740117848, 0.7728854208281035, 1.0974412373000142, 1.3230233049879843, 1.456390242262266, 0.9723678173420041, 1.0042308899555294, 1.147213070903458, 1.1264658019655336, 1.0130370458094191, 1.2854713703383176, 1.395702880834726, 1.2354265562601796, 1.1165221470255844, 0.8902281152901743, 0.9371797233348538, 0.961486559589865, 0.9584809289781582, 1.0195113882726083, 1.1121585784748262, 0.8836194939814135, 1.2628025717982325, 1.0003107218338911, 1.0250539841592463, 1.2311716920488536, 0.8466612256589094, 1.062360831083872, 1.2398349309790042, 1.140507671535076, 1.289318961625014, 1.4735660614194437, 1.1830292778583882, 1.0022911738106046, 1.5096925650423003, 1.226437551227427, 1.1657271872429895, 0.9701383217156625, 1.0896116345455056, 1.0267251792278955, 0.8836643175091368, 1.1819464655556082, 1.104178601988096, 1.200262096253411]\n"
     ]
    },
    {
     "name": "stderr",
     "output_type": "stream",
     "text": [
      "  0%|          | 0/175 [00:18<?, ?it/s]43:53,  9.46it/s]   \n",
      "  0%|          | 0/15 [00:09<?, ?it/s]\n",
      " 75%|███████▌  | 75101/100001 [2:40:43<46:51,  8.86it/s]"
     ]
    },
    {
     "name": "stdout",
     "output_type": "stream",
     "text": [
      "GAN: loss d: 3.14270    loss g: -3.75944\n"
     ]
    },
    {
     "name": "stderr",
     "output_type": "stream",
     "text": [
      " 75%|███████▌  | 75201/100001 [2:40:53<46:35,  8.87it/s]"
     ]
    },
    {
     "name": "stdout",
     "output_type": "stream",
     "text": [
      "GAN: loss d: 3.02656    loss g: -1.82586\n"
     ]
    },
    {
     "name": "stderr",
     "output_type": "stream",
     "text": [
      " 75%|███████▌  | 75301/100001 [2:41:04<46:47,  8.80it/s]"
     ]
    },
    {
     "name": "stdout",
     "output_type": "stream",
     "text": [
      "GAN: loss d: 4.83835    loss g: -4.47591\n"
     ]
    },
    {
     "name": "stderr",
     "output_type": "stream",
     "text": [
      " 75%|███████▌  | 75401/100001 [2:41:15<44:58,  9.12it/s]"
     ]
    },
    {
     "name": "stdout",
     "output_type": "stream",
     "text": [
      "GAN: loss d: 2.32049    loss g: -2.93236\n"
     ]
    },
    {
     "name": "stderr",
     "output_type": "stream",
     "text": [
      " 76%|███████▌  | 75501/100001 [2:41:26<45:03,  9.06it/s]"
     ]
    },
    {
     "name": "stdout",
     "output_type": "stream",
     "text": [
      "GAN: loss d: 6.15498    loss g: -3.00235\n"
     ]
    },
    {
     "name": "stderr",
     "output_type": "stream",
     "text": [
      " 76%|███████▌  | 75601/100001 [2:41:36<44:50,  9.07it/s]"
     ]
    },
    {
     "name": "stdout",
     "output_type": "stream",
     "text": [
      "GAN: loss d: 3.69178    loss g: -1.74811\n"
     ]
    },
    {
     "name": "stderr",
     "output_type": "stream",
     "text": [
      " 76%|███████▌  | 75701/100001 [2:41:47<44:35,  9.08it/s]"
     ]
    },
    {
     "name": "stdout",
     "output_type": "stream",
     "text": [
      "GAN: loss d: 0.36401    loss g: -0.60603\n"
     ]
    },
    {
     "name": "stderr",
     "output_type": "stream",
     "text": [
      " 76%|███████▌  | 75801/100001 [2:41:58<44:58,  8.97it/s]"
     ]
    },
    {
     "name": "stdout",
     "output_type": "stream",
     "text": [
      "GAN: loss d: 2.76096    loss g: -3.21700\n"
     ]
    },
    {
     "name": "stderr",
     "output_type": "stream",
     "text": [
      " 76%|███████▌  | 75903/100001 [2:42:09<41:45,  9.62it/s]"
     ]
    },
    {
     "name": "stdout",
     "output_type": "stream",
     "text": [
      "GAN: loss d: 4.05935    loss g: -2.40396\n"
     ]
    },
    {
     "name": "stderr",
     "output_type": "stream",
     "text": [
      " 76%|███████▌  | 76000/100001 [2:42:19<42:46,  9.35it/s]"
     ]
    },
    {
     "name": "stdout",
     "output_type": "stream",
     "text": [
      "GAN: loss d: 4.48868    loss g: -3.29839\n",
      "saving current model\n"
     ]
    },
    {
     "name": "stderr",
     "output_type": "stream",
     "text": [
      "\n",
      "  0%|          | 0/175 [00:00<?, ?it/s]\u001b[A"
     ]
    },
    {
     "name": "stdout",
     "output_type": "stream",
     "text": [
      "Number of real images: 5626\n"
     ]
    },
    {
     "name": "stderr",
     "output_type": "stream",
     "text": [
      "\n",
      "\n",
      "  0%|          | 0/15 [00:00<?, ?it/s]\u001b[A\u001b[A"
     ]
    },
    {
     "name": "stdout",
     "output_type": "stream",
     "text": [
      "Number of synthetic images: 500\n"
     ]
    },
    {
     "name": "stderr",
     "output_type": "stream",
     "text": [
      " 76%|███████▌  | 76001/100001 [2:42:39<41:41:48,  6.25s/it]"
     ]
    },
    {
     "name": "stdout",
     "output_type": "stream",
     "text": [
      "Current fid score: 1.2101221598331264\n",
      "Fid scores: [5.176135784826485, 2.49733748630797, 2.556800986640896, 2.551807388342233, 3.0005414208896823, 2.6693746896472135, 2.327712167642524, 2.753024418615748, 1.810803698247632, 1.882469618869699, 2.3049020902006205, 1.2671737770059046, 2.1210468891055463, 2.099174223550225, 2.916100690765896, 3.40813729288425, 3.245391894475338, 3.857025155346646, 3.9987907417992634, 1.1312376693415231, 1.2186857992723503, 1.8961604960656189, 1.639260863742642, 1.4429721571320542, 1.2975153110277695, 1.2989564652328056, 1.2159174147751202, 1.2886615711632565, 1.2749489523852944, 1.2123217476264827, 1.130321950731723, 1.4349116027401223, 1.325705351921183, 0.9511910740117848, 0.7728854208281035, 1.0974412373000142, 1.3230233049879843, 1.456390242262266, 0.9723678173420041, 1.0042308899555294, 1.147213070903458, 1.1264658019655336, 1.0130370458094191, 1.2854713703383176, 1.395702880834726, 1.2354265562601796, 1.1165221470255844, 0.8902281152901743, 0.9371797233348538, 0.961486559589865, 0.9584809289781582, 1.0195113882726083, 1.1121585784748262, 0.8836194939814135, 1.2628025717982325, 1.0003107218338911, 1.0250539841592463, 1.2311716920488536, 0.8466612256589094, 1.062360831083872, 1.2398349309790042, 1.140507671535076, 1.289318961625014, 1.4735660614194437, 1.1830292778583882, 1.0022911738106046, 1.5096925650423003, 1.226437551227427, 1.1657271872429895, 0.9701383217156625, 1.0896116345455056, 1.0267251792278955, 0.8836643175091368, 1.1819464655556082, 1.104178601988096, 1.200262096253411, 1.2101221598331264]\n"
     ]
    },
    {
     "name": "stderr",
     "output_type": "stream",
     "text": [
      "  0%|          | 0/175 [00:15<?, ?it/s]41:47,  9.55it/s]   \n",
      "  0%|          | 0/15 [00:06<?, ?it/s]\n",
      " 76%|███████▌  | 76101/100001 [2:42:50<44:05,  9.03it/s]"
     ]
    },
    {
     "name": "stdout",
     "output_type": "stream",
     "text": [
      "GAN: loss d: 1.74622    loss g: -1.92491\n"
     ]
    },
    {
     "name": "stderr",
     "output_type": "stream",
     "text": [
      " 76%|███████▌  | 76201/100001 [2:43:01<43:29,  9.12it/s]"
     ]
    },
    {
     "name": "stdout",
     "output_type": "stream",
     "text": [
      "GAN: loss d: 5.37011    loss g: -3.06082\n"
     ]
    },
    {
     "name": "stderr",
     "output_type": "stream",
     "text": [
      " 76%|███████▋  | 76301/100001 [2:43:11<44:33,  8.86it/s]"
     ]
    },
    {
     "name": "stdout",
     "output_type": "stream",
     "text": [
      "GAN: loss d: 3.54191    loss g: -3.44822\n"
     ]
    },
    {
     "name": "stderr",
     "output_type": "stream",
     "text": [
      " 76%|███████▋  | 76403/100001 [2:43:22<41:21,  9.51it/s]"
     ]
    },
    {
     "name": "stdout",
     "output_type": "stream",
     "text": [
      "GAN: loss d: 3.78535    loss g: -2.80548\n"
     ]
    },
    {
     "name": "stderr",
     "output_type": "stream",
     "text": [
      " 77%|███████▋  | 76503/100001 [2:43:33<40:56,  9.57it/s]"
     ]
    },
    {
     "name": "stdout",
     "output_type": "stream",
     "text": [
      "GAN: loss d: 3.78954    loss g: -2.89013\n"
     ]
    },
    {
     "name": "stderr",
     "output_type": "stream",
     "text": [
      " 77%|███████▋  | 76601/100001 [2:43:43<43:42,  8.92it/s]"
     ]
    },
    {
     "name": "stdout",
     "output_type": "stream",
     "text": [
      "GAN: loss d: 4.76817    loss g: -2.76402\n"
     ]
    },
    {
     "name": "stderr",
     "output_type": "stream",
     "text": [
      " 77%|███████▋  | 76701/100001 [2:43:54<42:51,  9.06it/s]"
     ]
    },
    {
     "name": "stdout",
     "output_type": "stream",
     "text": [
      "GAN: loss d: 4.43729    loss g: -3.16908\n"
     ]
    },
    {
     "name": "stderr",
     "output_type": "stream",
     "text": [
      " 77%|███████▋  | 76803/100001 [2:44:05<40:35,  9.53it/s]"
     ]
    },
    {
     "name": "stdout",
     "output_type": "stream",
     "text": [
      "GAN: loss d: 4.21190    loss g: -2.57030\n"
     ]
    },
    {
     "name": "stderr",
     "output_type": "stream",
     "text": [
      " 77%|███████▋  | 76903/100001 [2:44:15<40:09,  9.59it/s]"
     ]
    },
    {
     "name": "stdout",
     "output_type": "stream",
     "text": [
      "GAN: loss d: 4.16243    loss g: -2.67968\n"
     ]
    },
    {
     "name": "stderr",
     "output_type": "stream",
     "text": [
      " 77%|███████▋  | 77000/100001 [2:44:26<41:37,  9.21it/s]"
     ]
    },
    {
     "name": "stdout",
     "output_type": "stream",
     "text": [
      "GAN: loss d: 3.26365    loss g: -2.31492\n",
      "saving current model\n"
     ]
    },
    {
     "name": "stderr",
     "output_type": "stream",
     "text": [
      "\n",
      "  0%|          | 0/175 [00:00<?, ?it/s]\u001b[A"
     ]
    },
    {
     "name": "stdout",
     "output_type": "stream",
     "text": [
      "Number of real images: 5626\n"
     ]
    },
    {
     "name": "stderr",
     "output_type": "stream",
     "text": [
      "\n",
      "\n",
      "  0%|          | 0/15 [00:00<?, ?it/s]\u001b[A\u001b[A"
     ]
    },
    {
     "name": "stdout",
     "output_type": "stream",
     "text": [
      "Number of synthetic images: 500\n"
     ]
    },
    {
     "name": "stderr",
     "output_type": "stream",
     "text": [
      " 77%|███████▋  | 77001/100001 [2:44:47<40:02:06,  6.27s/it]"
     ]
    },
    {
     "name": "stdout",
     "output_type": "stream",
     "text": [
      "Current fid score: 1.1974559710162183\n",
      "Fid scores: [5.176135784826485, 2.49733748630797, 2.556800986640896, 2.551807388342233, 3.0005414208896823, 2.6693746896472135, 2.327712167642524, 2.753024418615748, 1.810803698247632, 1.882469618869699, 2.3049020902006205, 1.2671737770059046, 2.1210468891055463, 2.099174223550225, 2.916100690765896, 3.40813729288425, 3.245391894475338, 3.857025155346646, 3.9987907417992634, 1.1312376693415231, 1.2186857992723503, 1.8961604960656189, 1.639260863742642, 1.4429721571320542, 1.2975153110277695, 1.2989564652328056, 1.2159174147751202, 1.2886615711632565, 1.2749489523852944, 1.2123217476264827, 1.130321950731723, 1.4349116027401223, 1.325705351921183, 0.9511910740117848, 0.7728854208281035, 1.0974412373000142, 1.3230233049879843, 1.456390242262266, 0.9723678173420041, 1.0042308899555294, 1.147213070903458, 1.1264658019655336, 1.0130370458094191, 1.2854713703383176, 1.395702880834726, 1.2354265562601796, 1.1165221470255844, 0.8902281152901743, 0.9371797233348538, 0.961486559589865, 0.9584809289781582, 1.0195113882726083, 1.1121585784748262, 0.8836194939814135, 1.2628025717982325, 1.0003107218338911, 1.0250539841592463, 1.2311716920488536, 0.8466612256589094, 1.062360831083872, 1.2398349309790042, 1.140507671535076, 1.289318961625014, 1.4735660614194437, 1.1830292778583882, 1.0022911738106046, 1.5096925650423003, 1.226437551227427, 1.1657271872429895, 0.9701383217156625, 1.0896116345455056, 1.0267251792278955, 0.8836643175091368, 1.1819464655556082, 1.104178601988096, 1.200262096253411, 1.2101221598331264, 1.1974559710162183]\n"
     ]
    },
    {
     "name": "stderr",
     "output_type": "stream",
     "text": [
      "  0%|          | 0/175 [00:10<?, ?it/s]5:05:07,  1.26it/s] \n",
      "  0%|          | 0/15 [00:01<?, ?it/s]\n",
      " 77%|███████▋  | 77101/100001 [2:44:57<43:10,  8.84it/s]  "
     ]
    },
    {
     "name": "stdout",
     "output_type": "stream",
     "text": [
      "GAN: loss d: 1.13078    loss g: -2.48863\n"
     ]
    },
    {
     "name": "stderr",
     "output_type": "stream",
     "text": [
      " 77%|███████▋  | 77201/100001 [2:45:08<41:36,  9.13it/s]"
     ]
    },
    {
     "name": "stdout",
     "output_type": "stream",
     "text": [
      "GAN: loss d: 4.31496    loss g: -2.91075\n"
     ]
    },
    {
     "name": "stderr",
     "output_type": "stream",
     "text": [
      " 77%|███████▋  | 77301/100001 [2:45:18<41:00,  9.23it/s]"
     ]
    },
    {
     "name": "stdout",
     "output_type": "stream",
     "text": [
      "GAN: loss d: 3.15837    loss g: -2.53900\n"
     ]
    },
    {
     "name": "stderr",
     "output_type": "stream",
     "text": [
      " 77%|███████▋  | 77403/100001 [2:45:29<39:55,  9.44it/s]"
     ]
    },
    {
     "name": "stdout",
     "output_type": "stream",
     "text": [
      "GAN: loss d: 2.30785    loss g: -2.74813\n"
     ]
    },
    {
     "name": "stderr",
     "output_type": "stream",
     "text": [
      " 78%|███████▊  | 77501/100001 [2:45:40<41:22,  9.06it/s]"
     ]
    },
    {
     "name": "stdout",
     "output_type": "stream",
     "text": [
      "GAN: loss d: 6.14107    loss g: -2.64730\n"
     ]
    },
    {
     "name": "stderr",
     "output_type": "stream",
     "text": [
      " 78%|███████▊  | 77601/100001 [2:45:50<47:19,  7.89it/s]"
     ]
    },
    {
     "name": "stdout",
     "output_type": "stream",
     "text": [
      "GAN: loss d: 2.40054    loss g: -2.17125\n"
     ]
    },
    {
     "name": "stderr",
     "output_type": "stream",
     "text": [
      " 78%|███████▊  | 77701/100001 [2:46:01<49:21,  7.53it/s]"
     ]
    },
    {
     "name": "stdout",
     "output_type": "stream",
     "text": [
      "GAN: loss d: 2.15887    loss g: -3.25387\n"
     ]
    },
    {
     "name": "stderr",
     "output_type": "stream",
     "text": [
      " 78%|███████▊  | 77801/100001 [2:46:12<41:08,  8.99it/s]"
     ]
    },
    {
     "name": "stdout",
     "output_type": "stream",
     "text": [
      "GAN: loss d: 6.91810    loss g: -3.06415\n"
     ]
    },
    {
     "name": "stderr",
     "output_type": "stream",
     "text": [
      " 78%|███████▊  | 77903/100001 [2:46:23<38:59,  9.45it/s]"
     ]
    },
    {
     "name": "stdout",
     "output_type": "stream",
     "text": [
      "GAN: loss d: 2.82954    loss g: -2.53634\n"
     ]
    },
    {
     "name": "stderr",
     "output_type": "stream",
     "text": [
      " 78%|███████▊  | 78000/100001 [2:46:33<38:58,  9.41it/s]"
     ]
    },
    {
     "name": "stdout",
     "output_type": "stream",
     "text": [
      "GAN: loss d: 3.08658    loss g: -3.15942\n",
      "saving current model\n"
     ]
    },
    {
     "name": "stderr",
     "output_type": "stream",
     "text": [
      "\n",
      "  0%|          | 0/175 [00:00<?, ?it/s]\u001b[A"
     ]
    },
    {
     "name": "stdout",
     "output_type": "stream",
     "text": [
      "Number of real images: 5626\n"
     ]
    },
    {
     "name": "stderr",
     "output_type": "stream",
     "text": [
      "\n",
      "\n",
      "  0%|          | 0/15 [00:00<?, ?it/s]\u001b[A\u001b[A"
     ]
    },
    {
     "name": "stdout",
     "output_type": "stream",
     "text": [
      "Number of synthetic images: 500\n"
     ]
    },
    {
     "name": "stderr",
     "output_type": "stream",
     "text": [
      " 78%|███████▊  | 78003/100001 [2:46:54<20:48:34,  3.41s/it]"
     ]
    },
    {
     "name": "stdout",
     "output_type": "stream",
     "text": [
      "Current fid score: 1.033596938814469\n",
      "Fid scores: [5.176135784826485, 2.49733748630797, 2.556800986640896, 2.551807388342233, 3.0005414208896823, 2.6693746896472135, 2.327712167642524, 2.753024418615748, 1.810803698247632, 1.882469618869699, 2.3049020902006205, 1.2671737770059046, 2.1210468891055463, 2.099174223550225, 2.916100690765896, 3.40813729288425, 3.245391894475338, 3.857025155346646, 3.9987907417992634, 1.1312376693415231, 1.2186857992723503, 1.8961604960656189, 1.639260863742642, 1.4429721571320542, 1.2975153110277695, 1.2989564652328056, 1.2159174147751202, 1.2886615711632565, 1.2749489523852944, 1.2123217476264827, 1.130321950731723, 1.4349116027401223, 1.325705351921183, 0.9511910740117848, 0.7728854208281035, 1.0974412373000142, 1.3230233049879843, 1.456390242262266, 0.9723678173420041, 1.0042308899555294, 1.147213070903458, 1.1264658019655336, 1.0130370458094191, 1.2854713703383176, 1.395702880834726, 1.2354265562601796, 1.1165221470255844, 0.8902281152901743, 0.9371797233348538, 0.961486559589865, 0.9584809289781582, 1.0195113882726083, 1.1121585784748262, 0.8836194939814135, 1.2628025717982325, 1.0003107218338911, 1.0250539841592463, 1.2311716920488536, 0.8466612256589094, 1.062360831083872, 1.2398349309790042, 1.140507671535076, 1.289318961625014, 1.4735660614194437, 1.1830292778583882, 1.0022911738106046, 1.5096925650423003, 1.226437551227427, 1.1657271872429895, 0.9701383217156625, 1.0896116345455056, 1.0267251792278955, 0.8836643175091368, 1.1819464655556082, 1.104178601988096, 1.200262096253411, 1.2101221598331264, 1.1974559710162183, 1.033596938814469]\n"
     ]
    },
    {
     "name": "stderr",
     "output_type": "stream",
     "text": [
      "  0%|          | 0/175 [00:19<?, ?it/s]38:44,  9.42it/s]   \n",
      "  0%|          | 0/15 [00:11<?, ?it/s]\n",
      " 78%|███████▊  | 78101/100001 [2:47:04<40:18,  9.06it/s]"
     ]
    },
    {
     "name": "stdout",
     "output_type": "stream",
     "text": [
      "GAN: loss d: 2.43675    loss g: -4.10371\n"
     ]
    },
    {
     "name": "stderr",
     "output_type": "stream",
     "text": [
      " 78%|███████▊  | 78203/100001 [2:47:15<38:30,  9.44it/s]"
     ]
    },
    {
     "name": "stdout",
     "output_type": "stream",
     "text": [
      "GAN: loss d: 3.00983    loss g: -3.66768\n"
     ]
    },
    {
     "name": "stderr",
     "output_type": "stream",
     "text": [
      " 78%|███████▊  | 78301/100001 [2:47:25<40:09,  9.01it/s]"
     ]
    },
    {
     "name": "stdout",
     "output_type": "stream",
     "text": [
      "GAN: loss d: 2.07292    loss g: -2.41748\n"
     ]
    },
    {
     "name": "stderr",
     "output_type": "stream",
     "text": [
      " 78%|███████▊  | 78403/100001 [2:47:36<38:06,  9.45it/s]"
     ]
    },
    {
     "name": "stdout",
     "output_type": "stream",
     "text": [
      "GAN: loss d: 4.89320    loss g: -3.43350\n"
     ]
    },
    {
     "name": "stderr",
     "output_type": "stream",
     "text": [
      " 79%|███████▊  | 78503/100001 [2:47:47<37:24,  9.58it/s]"
     ]
    },
    {
     "name": "stdout",
     "output_type": "stream",
     "text": [
      "GAN: loss d: 2.51318    loss g: -3.16405\n"
     ]
    },
    {
     "name": "stderr",
     "output_type": "stream",
     "text": [
      " 79%|███████▊  | 78601/100001 [2:47:57<39:23,  9.06it/s]"
     ]
    },
    {
     "name": "stdout",
     "output_type": "stream",
     "text": [
      "GAN: loss d: 1.51643    loss g: -3.04852\n"
     ]
    },
    {
     "name": "stderr",
     "output_type": "stream",
     "text": [
      " 79%|███████▊  | 78701/100001 [2:48:08<38:58,  9.11it/s]"
     ]
    },
    {
     "name": "stdout",
     "output_type": "stream",
     "text": [
      "GAN: loss d: 2.62321    loss g: -2.87518\n"
     ]
    },
    {
     "name": "stderr",
     "output_type": "stream",
     "text": [
      " 79%|███████▉  | 78801/100001 [2:48:18<38:44,  9.12it/s]"
     ]
    },
    {
     "name": "stdout",
     "output_type": "stream",
     "text": [
      "GAN: loss d: 3.18609    loss g: -3.63193\n"
     ]
    },
    {
     "name": "stderr",
     "output_type": "stream",
     "text": [
      " 79%|███████▉  | 78901/100001 [2:48:29<42:43,  8.23it/s]"
     ]
    },
    {
     "name": "stdout",
     "output_type": "stream",
     "text": [
      "GAN: loss d: 2.56982    loss g: -2.31849\n"
     ]
    },
    {
     "name": "stderr",
     "output_type": "stream",
     "text": [
      " 79%|███████▉  | 79000/100001 [2:48:40<37:02,  9.45it/s]"
     ]
    },
    {
     "name": "stdout",
     "output_type": "stream",
     "text": [
      "GAN: loss d: 1.90655    loss g: -2.01697\n",
      "saving current model\n"
     ]
    },
    {
     "name": "stderr",
     "output_type": "stream",
     "text": [
      "\n",
      "  0%|          | 0/175 [00:00<?, ?it/s]\u001b[A"
     ]
    },
    {
     "name": "stdout",
     "output_type": "stream",
     "text": [
      "Number of real images: 5626\n"
     ]
    },
    {
     "name": "stderr",
     "output_type": "stream",
     "text": [
      "\n",
      "\n",
      "  0%|          | 0/15 [00:00<?, ?it/s]\u001b[A\u001b[A"
     ]
    },
    {
     "name": "stdout",
     "output_type": "stream",
     "text": [
      "Number of synthetic images: 500\n"
     ]
    },
    {
     "name": "stderr",
     "output_type": "stream",
     "text": [
      " 79%|███████▉  | 79001/100001 [2:49:00<36:12:13,  6.21s/it]"
     ]
    },
    {
     "name": "stdout",
     "output_type": "stream",
     "text": [
      "Current fid score: 1.1349501660028807\n",
      "Fid scores: [5.176135784826485, 2.49733748630797, 2.556800986640896, 2.551807388342233, 3.0005414208896823, 2.6693746896472135, 2.327712167642524, 2.753024418615748, 1.810803698247632, 1.882469618869699, 2.3049020902006205, 1.2671737770059046, 2.1210468891055463, 2.099174223550225, 2.916100690765896, 3.40813729288425, 3.245391894475338, 3.857025155346646, 3.9987907417992634, 1.1312376693415231, 1.2186857992723503, 1.8961604960656189, 1.639260863742642, 1.4429721571320542, 1.2975153110277695, 1.2989564652328056, 1.2159174147751202, 1.2886615711632565, 1.2749489523852944, 1.2123217476264827, 1.130321950731723, 1.4349116027401223, 1.325705351921183, 0.9511910740117848, 0.7728854208281035, 1.0974412373000142, 1.3230233049879843, 1.456390242262266, 0.9723678173420041, 1.0042308899555294, 1.147213070903458, 1.1264658019655336, 1.0130370458094191, 1.2854713703383176, 1.395702880834726, 1.2354265562601796, 1.1165221470255844, 0.8902281152901743, 0.9371797233348538, 0.961486559589865, 0.9584809289781582, 1.0195113882726083, 1.1121585784748262, 0.8836194939814135, 1.2628025717982325, 1.0003107218338911, 1.0250539841592463, 1.2311716920488536, 0.8466612256589094, 1.062360831083872, 1.2398349309790042, 1.140507671535076, 1.289318961625014, 1.4735660614194437, 1.1830292778583882, 1.0022911738106046, 1.5096925650423003, 1.226437551227427, 1.1657271872429895, 0.9701383217156625, 1.0896116345455056, 1.0267251792278955, 0.8836643175091368, 1.1819464655556082, 1.104178601988096, 1.200262096253411, 1.2101221598331264, 1.1974559710162183, 1.033596938814469, 1.1349501660028807]\n"
     ]
    },
    {
     "name": "stderr",
     "output_type": "stream",
     "text": [
      "  0%|          | 0/175 [00:15<?, ?it/s]37:24,  9.33it/s]   \n",
      "  0%|          | 0/15 [00:06<?, ?it/s]\n",
      " 79%|███████▉  | 79103/100001 [2:49:11<36:40,  9.50it/s]"
     ]
    },
    {
     "name": "stdout",
     "output_type": "stream",
     "text": [
      "GAN: loss d: 6.39945    loss g: -2.56926\n"
     ]
    },
    {
     "name": "stderr",
     "output_type": "stream",
     "text": [
      " 79%|███████▉  | 79201/100001 [2:49:21<38:26,  9.02it/s]"
     ]
    },
    {
     "name": "stdout",
     "output_type": "stream",
     "text": [
      "GAN: loss d: 3.62113    loss g: -3.12822\n"
     ]
    },
    {
     "name": "stderr",
     "output_type": "stream",
     "text": [
      " 79%|███████▉  | 79301/100001 [2:49:32<38:18,  9.01it/s]"
     ]
    },
    {
     "name": "stdout",
     "output_type": "stream",
     "text": [
      "GAN: loss d: 3.45873    loss g: -2.43951\n"
     ]
    },
    {
     "name": "stderr",
     "output_type": "stream",
     "text": [
      " 79%|███████▉  | 79401/100001 [2:49:42<37:54,  9.06it/s]"
     ]
    },
    {
     "name": "stdout",
     "output_type": "stream",
     "text": [
      "GAN: loss d: 5.62794    loss g: -2.76730\n"
     ]
    },
    {
     "name": "stderr",
     "output_type": "stream",
     "text": [
      " 80%|███████▉  | 79501/100001 [2:49:53<41:43,  8.19it/s]"
     ]
    },
    {
     "name": "stdout",
     "output_type": "stream",
     "text": [
      "GAN: loss d: 4.24302    loss g: -3.63041\n"
     ]
    },
    {
     "name": "stderr",
     "output_type": "stream",
     "text": [
      " 80%|███████▉  | 79603/100001 [2:50:04<35:23,  9.61it/s]"
     ]
    },
    {
     "name": "stdout",
     "output_type": "stream",
     "text": [
      "GAN: loss d: 3.85814    loss g: -4.36070\n"
     ]
    },
    {
     "name": "stderr",
     "output_type": "stream",
     "text": [
      " 80%|███████▉  | 79703/100001 [2:50:14<35:24,  9.56it/s]"
     ]
    },
    {
     "name": "stdout",
     "output_type": "stream",
     "text": [
      "GAN: loss d: 2.28375    loss g: -1.69072\n"
     ]
    },
    {
     "name": "stderr",
     "output_type": "stream",
     "text": [
      " 80%|███████▉  | 79801/100001 [2:50:25<36:30,  9.22it/s]"
     ]
    },
    {
     "name": "stdout",
     "output_type": "stream",
     "text": [
      "GAN: loss d: 3.96781    loss g: -1.90861\n"
     ]
    },
    {
     "name": "stderr",
     "output_type": "stream",
     "text": [
      " 80%|███████▉  | 79901/100001 [2:50:35<37:13,  9.00it/s]"
     ]
    },
    {
     "name": "stdout",
     "output_type": "stream",
     "text": [
      "GAN: loss d: 2.59046    loss g: -2.38134\n"
     ]
    },
    {
     "name": "stderr",
     "output_type": "stream",
     "text": [
      " 80%|███████▉  | 80000/100001 [2:50:46<35:03,  9.51it/s]"
     ]
    },
    {
     "name": "stdout",
     "output_type": "stream",
     "text": [
      "GAN: loss d: 2.42325    loss g: -1.92906\n",
      "saving current model\n"
     ]
    },
    {
     "name": "stderr",
     "output_type": "stream",
     "text": [
      "\n",
      "  0%|          | 0/175 [00:00<?, ?it/s]\u001b[A"
     ]
    },
    {
     "name": "stdout",
     "output_type": "stream",
     "text": [
      "Number of real images: 5626\n"
     ]
    },
    {
     "name": "stderr",
     "output_type": "stream",
     "text": [
      "\n",
      "\n",
      "  0%|          | 0/15 [00:00<?, ?it/s]\u001b[A\u001b[A"
     ]
    },
    {
     "name": "stdout",
     "output_type": "stream",
     "text": [
      "Number of synthetic images: 500\n"
     ]
    },
    {
     "name": "stderr",
     "output_type": "stream",
     "text": [
      " 80%|████████  | 80002/100001 [2:51:07<24:28:36,  4.41s/it]"
     ]
    },
    {
     "name": "stdout",
     "output_type": "stream",
     "text": [
      "Current fid score: 1.3865367730111906\n",
      "Fid scores: [5.176135784826485, 2.49733748630797, 2.556800986640896, 2.551807388342233, 3.0005414208896823, 2.6693746896472135, 2.327712167642524, 2.753024418615748, 1.810803698247632, 1.882469618869699, 2.3049020902006205, 1.2671737770059046, 2.1210468891055463, 2.099174223550225, 2.916100690765896, 3.40813729288425, 3.245391894475338, 3.857025155346646, 3.9987907417992634, 1.1312376693415231, 1.2186857992723503, 1.8961604960656189, 1.639260863742642, 1.4429721571320542, 1.2975153110277695, 1.2989564652328056, 1.2159174147751202, 1.2886615711632565, 1.2749489523852944, 1.2123217476264827, 1.130321950731723, 1.4349116027401223, 1.325705351921183, 0.9511910740117848, 0.7728854208281035, 1.0974412373000142, 1.3230233049879843, 1.456390242262266, 0.9723678173420041, 1.0042308899555294, 1.147213070903458, 1.1264658019655336, 1.0130370458094191, 1.2854713703383176, 1.395702880834726, 1.2354265562601796, 1.1165221470255844, 0.8902281152901743, 0.9371797233348538, 0.961486559589865, 0.9584809289781582, 1.0195113882726083, 1.1121585784748262, 0.8836194939814135, 1.2628025717982325, 1.0003107218338911, 1.0250539841592463, 1.2311716920488536, 0.8466612256589094, 1.062360831083872, 1.2398349309790042, 1.140507671535076, 1.289318961625014, 1.4735660614194437, 1.1830292778583882, 1.0022911738106046, 1.5096925650423003, 1.226437551227427, 1.1657271872429895, 0.9701383217156625, 1.0896116345455056, 1.0267251792278955, 0.8836643175091368, 1.1819464655556082, 1.104178601988096, 1.200262096253411, 1.2101221598331264, 1.1974559710162183, 1.033596938814469, 1.1349501660028807, 1.3865367730111906]\n"
     ]
    },
    {
     "name": "stderr",
     "output_type": "stream",
     "text": [
      "  0%|          | 0/175 [00:10<?, ?it/s]3:24:36,  1.63it/s] \n",
      "  0%|          | 0/15 [00:01<?, ?it/s]\n",
      " 80%|████████  | 80101/100001 [2:51:17<36:41,  9.04it/s]  "
     ]
    },
    {
     "name": "stdout",
     "output_type": "stream",
     "text": [
      "GAN: loss d: 3.80487    loss g: -2.48206\n"
     ]
    },
    {
     "name": "stderr",
     "output_type": "stream",
     "text": [
      " 80%|████████  | 80201/100001 [2:51:28<36:29,  9.04it/s]"
     ]
    },
    {
     "name": "stdout",
     "output_type": "stream",
     "text": [
      "GAN: loss d: 3.35187    loss g: -2.64447\n"
     ]
    },
    {
     "name": "stderr",
     "output_type": "stream",
     "text": [
      " 80%|████████  | 80303/100001 [2:51:39<34:05,  9.63it/s]"
     ]
    },
    {
     "name": "stdout",
     "output_type": "stream",
     "text": [
      "GAN: loss d: 0.97259    loss g: -2.71222\n"
     ]
    },
    {
     "name": "stderr",
     "output_type": "stream",
     "text": [
      " 80%|████████  | 80403/100001 [2:51:49<34:22,  9.50it/s]"
     ]
    },
    {
     "name": "stdout",
     "output_type": "stream",
     "text": [
      "GAN: loss d: 3.11552    loss g: -3.09532\n"
     ]
    },
    {
     "name": "stderr",
     "output_type": "stream",
     "text": [
      " 81%|████████  | 80503/100001 [2:52:00<34:04,  9.54it/s]"
     ]
    },
    {
     "name": "stdout",
     "output_type": "stream",
     "text": [
      "GAN: loss d: 3.71515    loss g: -2.13527\n"
     ]
    },
    {
     "name": "stderr",
     "output_type": "stream",
     "text": [
      " 81%|████████  | 80601/100001 [2:52:10<37:32,  8.61it/s]"
     ]
    },
    {
     "name": "stdout",
     "output_type": "stream",
     "text": [
      "GAN: loss d: -0.08436    loss g: -3.39722\n"
     ]
    },
    {
     "name": "stderr",
     "output_type": "stream",
     "text": [
      " 81%|████████  | 80701/100001 [2:52:21<34:59,  9.19it/s]"
     ]
    },
    {
     "name": "stdout",
     "output_type": "stream",
     "text": [
      "GAN: loss d: 3.47476    loss g: -1.94167\n"
     ]
    },
    {
     "name": "stderr",
     "output_type": "stream",
     "text": [
      " 81%|████████  | 80801/100001 [2:52:32<35:11,  9.09it/s]"
     ]
    },
    {
     "name": "stdout",
     "output_type": "stream",
     "text": [
      "GAN: loss d: 4.15591    loss g: -2.61902\n"
     ]
    },
    {
     "name": "stderr",
     "output_type": "stream",
     "text": [
      " 81%|████████  | 80901/100001 [2:52:42<35:24,  8.99it/s]"
     ]
    },
    {
     "name": "stdout",
     "output_type": "stream",
     "text": [
      "GAN: loss d: 1.42975    loss g: -3.36212\n"
     ]
    },
    {
     "name": "stderr",
     "output_type": "stream",
     "text": [
      " 81%|████████  | 81000/100001 [2:52:53<33:38,  9.41it/s]"
     ]
    },
    {
     "name": "stdout",
     "output_type": "stream",
     "text": [
      "GAN: loss d: 4.51030    loss g: -2.22250\n",
      "saving current model\n"
     ]
    },
    {
     "name": "stderr",
     "output_type": "stream",
     "text": [
      "\n",
      "  0%|          | 0/175 [00:00<?, ?it/s]\u001b[A"
     ]
    },
    {
     "name": "stdout",
     "output_type": "stream",
     "text": [
      "Number of real images: 5626\n"
     ]
    },
    {
     "name": "stderr",
     "output_type": "stream",
     "text": [
      "\n",
      "\n",
      "  0%|          | 0/15 [00:00<?, ?it/s]\u001b[A\u001b[A"
     ]
    },
    {
     "name": "stdout",
     "output_type": "stream",
     "text": [
      "Number of synthetic images: 500\n"
     ]
    },
    {
     "name": "stderr",
     "output_type": "stream",
     "text": [
      " 81%|████████  | 81001/100001 [2:53:13<33:10:09,  6.28s/it]"
     ]
    },
    {
     "name": "stdout",
     "output_type": "stream",
     "text": [
      "Current fid score: 1.2460701708589177\n",
      "Fid scores: [5.176135784826485, 2.49733748630797, 2.556800986640896, 2.551807388342233, 3.0005414208896823, 2.6693746896472135, 2.327712167642524, 2.753024418615748, 1.810803698247632, 1.882469618869699, 2.3049020902006205, 1.2671737770059046, 2.1210468891055463, 2.099174223550225, 2.916100690765896, 3.40813729288425, 3.245391894475338, 3.857025155346646, 3.9987907417992634, 1.1312376693415231, 1.2186857992723503, 1.8961604960656189, 1.639260863742642, 1.4429721571320542, 1.2975153110277695, 1.2989564652328056, 1.2159174147751202, 1.2886615711632565, 1.2749489523852944, 1.2123217476264827, 1.130321950731723, 1.4349116027401223, 1.325705351921183, 0.9511910740117848, 0.7728854208281035, 1.0974412373000142, 1.3230233049879843, 1.456390242262266, 0.9723678173420041, 1.0042308899555294, 1.147213070903458, 1.1264658019655336, 1.0130370458094191, 1.2854713703383176, 1.395702880834726, 1.2354265562601796, 1.1165221470255844, 0.8902281152901743, 0.9371797233348538, 0.961486559589865, 0.9584809289781582, 1.0195113882726083, 1.1121585784748262, 0.8836194939814135, 1.2628025717982325, 1.0003107218338911, 1.0250539841592463, 1.2311716920488536, 0.8466612256589094, 1.062360831083872, 1.2398349309790042, 1.140507671535076, 1.289318961625014, 1.4735660614194437, 1.1830292778583882, 1.0022911738106046, 1.5096925650423003, 1.226437551227427, 1.1657271872429895, 0.9701383217156625, 1.0896116345455056, 1.0267251792278955, 0.8836643175091368, 1.1819464655556082, 1.104178601988096, 1.200262096253411, 1.2101221598331264, 1.1974559710162183, 1.033596938814469, 1.1349501660028807, 1.3865367730111906, 1.2460701708589177]\n"
     ]
    },
    {
     "name": "stderr",
     "output_type": "stream",
     "text": [
      "  0%|          | 0/175 [00:10<?, ?it/s]1:50:57,  2.85it/s] \n",
      "  0%|          | 0/15 [00:02<?, ?it/s]\n",
      " 81%|████████  | 81103/100001 [2:53:24<33:04,  9.52it/s]  "
     ]
    },
    {
     "name": "stdout",
     "output_type": "stream",
     "text": [
      "GAN: loss d: 2.66747    loss g: -3.45948\n"
     ]
    },
    {
     "name": "stderr",
     "output_type": "stream",
     "text": [
      " 81%|████████  | 81203/100001 [2:53:35<32:58,  9.50it/s]"
     ]
    },
    {
     "name": "stdout",
     "output_type": "stream",
     "text": [
      "GAN: loss d: 5.24697    loss g: -3.08194\n"
     ]
    },
    {
     "name": "stderr",
     "output_type": "stream",
     "text": [
      " 81%|████████▏ | 81303/100001 [2:53:45<32:24,  9.62it/s]"
     ]
    },
    {
     "name": "stdout",
     "output_type": "stream",
     "text": [
      "GAN: loss d: 1.23120    loss g: -2.13214\n"
     ]
    },
    {
     "name": "stderr",
     "output_type": "stream",
     "text": [
      " 81%|████████▏ | 81403/100001 [2:53:56<32:56,  9.41it/s]"
     ]
    },
    {
     "name": "stdout",
     "output_type": "stream",
     "text": [
      "GAN: loss d: 3.69058    loss g: -2.23130\n"
     ]
    },
    {
     "name": "stderr",
     "output_type": "stream",
     "text": [
      " 82%|████████▏ | 81501/100001 [2:54:06<34:34,  8.92it/s]"
     ]
    },
    {
     "name": "stdout",
     "output_type": "stream",
     "text": [
      "GAN: loss d: 3.98670    loss g: -2.82116\n"
     ]
    },
    {
     "name": "stderr",
     "output_type": "stream",
     "text": [
      " 82%|████████▏ | 81602/100001 [2:54:17<33:09,  9.25it/s]"
     ]
    },
    {
     "name": "stdout",
     "output_type": "stream",
     "text": [
      "GAN: loss d: 1.27251    loss g: -3.03460\n"
     ]
    },
    {
     "name": "stderr",
     "output_type": "stream",
     "text": [
      " 82%|████████▏ | 81703/100001 [2:54:28<31:49,  9.58it/s]"
     ]
    },
    {
     "name": "stdout",
     "output_type": "stream",
     "text": [
      "GAN: loss d: 1.16948    loss g: -2.82183\n"
     ]
    },
    {
     "name": "stderr",
     "output_type": "stream",
     "text": [
      " 82%|████████▏ | 81801/100001 [2:54:38<34:12,  8.87it/s]"
     ]
    },
    {
     "name": "stdout",
     "output_type": "stream",
     "text": [
      "GAN: loss d: 1.44362    loss g: -3.18515\n"
     ]
    },
    {
     "name": "stderr",
     "output_type": "stream",
     "text": [
      " 82%|████████▏ | 81903/100001 [2:54:49<31:51,  9.47it/s]"
     ]
    },
    {
     "name": "stdout",
     "output_type": "stream",
     "text": [
      "GAN: loss d: 0.94540    loss g: -1.54313\n"
     ]
    },
    {
     "name": "stderr",
     "output_type": "stream",
     "text": [
      " 82%|████████▏ | 82000/100001 [2:54:59<31:15,  9.60it/s]"
     ]
    },
    {
     "name": "stdout",
     "output_type": "stream",
     "text": [
      "GAN: loss d: 1.51969    loss g: -2.66023\n",
      "saving current model\n"
     ]
    },
    {
     "name": "stderr",
     "output_type": "stream",
     "text": [
      "\n",
      "  0%|          | 0/175 [00:00<?, ?it/s]\u001b[A"
     ]
    },
    {
     "name": "stdout",
     "output_type": "stream",
     "text": [
      "Number of real images: 5626\n"
     ]
    },
    {
     "name": "stderr",
     "output_type": "stream",
     "text": [
      "\n",
      "\n",
      "  0%|          | 0/15 [00:00<?, ?it/s]\u001b[A\u001b[A"
     ]
    },
    {
     "name": "stdout",
     "output_type": "stream",
     "text": [
      "Number of synthetic images: 500\n"
     ]
    },
    {
     "name": "stderr",
     "output_type": "stream",
     "text": [
      " 82%|████████▏ | 82001/100001 [2:55:20<31:07:54,  6.23s/it]"
     ]
    },
    {
     "name": "stdout",
     "output_type": "stream",
     "text": [
      "Current fid score: 1.2231399395632643\n",
      "Fid scores: [5.176135784826485, 2.49733748630797, 2.556800986640896, 2.551807388342233, 3.0005414208896823, 2.6693746896472135, 2.327712167642524, 2.753024418615748, 1.810803698247632, 1.882469618869699, 2.3049020902006205, 1.2671737770059046, 2.1210468891055463, 2.099174223550225, 2.916100690765896, 3.40813729288425, 3.245391894475338, 3.857025155346646, 3.9987907417992634, 1.1312376693415231, 1.2186857992723503, 1.8961604960656189, 1.639260863742642, 1.4429721571320542, 1.2975153110277695, 1.2989564652328056, 1.2159174147751202, 1.2886615711632565, 1.2749489523852944, 1.2123217476264827, 1.130321950731723, 1.4349116027401223, 1.325705351921183, 0.9511910740117848, 0.7728854208281035, 1.0974412373000142, 1.3230233049879843, 1.456390242262266, 0.9723678173420041, 1.0042308899555294, 1.147213070903458, 1.1264658019655336, 1.0130370458094191, 1.2854713703383176, 1.395702880834726, 1.2354265562601796, 1.1165221470255844, 0.8902281152901743, 0.9371797233348538, 0.961486559589865, 0.9584809289781582, 1.0195113882726083, 1.1121585784748262, 0.8836194939814135, 1.2628025717982325, 1.0003107218338911, 1.0250539841592463, 1.2311716920488536, 0.8466612256589094, 1.062360831083872, 1.2398349309790042, 1.140507671535076, 1.289318961625014, 1.4735660614194437, 1.1830292778583882, 1.0022911738106046, 1.5096925650423003, 1.226437551227427, 1.1657271872429895, 0.9701383217156625, 1.0896116345455056, 1.0267251792278955, 0.8836643175091368, 1.1819464655556082, 1.104178601988096, 1.200262096253411, 1.2101221598331264, 1.1974559710162183, 1.033596938814469, 1.1349501660028807, 1.3865367730111906, 1.2460701708589177, 1.2231399395632643]\n"
     ]
    },
    {
     "name": "stderr",
     "output_type": "stream",
     "text": [
      "  0%|          | 0/175 [00:18<?, ?it/s]32:02,  9.32it/s]   \n",
      "  0%|          | 0/15 [00:09<?, ?it/s]\n",
      " 82%|████████▏ | 82103/100001 [2:55:31<31:42,  9.41it/s]"
     ]
    },
    {
     "name": "stdout",
     "output_type": "stream",
     "text": [
      "GAN: loss d: 3.26884    loss g: -3.54741\n"
     ]
    },
    {
     "name": "stderr",
     "output_type": "stream",
     "text": [
      " 82%|████████▏ | 82201/100001 [2:55:41<32:54,  9.02it/s]"
     ]
    },
    {
     "name": "stdout",
     "output_type": "stream",
     "text": [
      "GAN: loss d: 3.39682    loss g: -2.39530\n"
     ]
    },
    {
     "name": "stderr",
     "output_type": "stream",
     "text": [
      " 82%|████████▏ | 82301/100001 [2:55:52<33:06,  8.91it/s]"
     ]
    },
    {
     "name": "stdout",
     "output_type": "stream",
     "text": [
      "GAN: loss d: 3.63835    loss g: -2.37716\n"
     ]
    },
    {
     "name": "stderr",
     "output_type": "stream",
     "text": [
      " 82%|████████▏ | 82401/100001 [2:56:02<32:03,  9.15it/s]"
     ]
    },
    {
     "name": "stdout",
     "output_type": "stream",
     "text": [
      "GAN: loss d: 5.10277    loss g: -2.67105\n"
     ]
    },
    {
     "name": "stderr",
     "output_type": "stream",
     "text": [
      " 83%|████████▎ | 82502/100001 [2:56:13<31:33,  9.24it/s]"
     ]
    },
    {
     "name": "stdout",
     "output_type": "stream",
     "text": [
      "GAN: loss d: 1.96304    loss g: -3.05953\n"
     ]
    },
    {
     "name": "stderr",
     "output_type": "stream",
     "text": [
      " 83%|████████▎ | 82601/100001 [2:56:24<32:03,  9.05it/s]"
     ]
    },
    {
     "name": "stdout",
     "output_type": "stream",
     "text": [
      "GAN: loss d: 0.94567    loss g: -3.64610\n"
     ]
    },
    {
     "name": "stderr",
     "output_type": "stream",
     "text": [
      " 83%|████████▎ | 82701/100001 [2:56:34<31:53,  9.04it/s]"
     ]
    },
    {
     "name": "stdout",
     "output_type": "stream",
     "text": [
      "GAN: loss d: 3.51031    loss g: -3.38491\n"
     ]
    },
    {
     "name": "stderr",
     "output_type": "stream",
     "text": [
      " 83%|████████▎ | 82801/100001 [2:56:45<31:15,  9.17it/s]"
     ]
    },
    {
     "name": "stdout",
     "output_type": "stream",
     "text": [
      "GAN: loss d: 2.61949    loss g: -2.61953\n"
     ]
    },
    {
     "name": "stderr",
     "output_type": "stream",
     "text": [
      " 83%|████████▎ | 82903/100001 [2:56:56<29:43,  9.59it/s]"
     ]
    },
    {
     "name": "stdout",
     "output_type": "stream",
     "text": [
      "GAN: loss d: 2.67102    loss g: -3.49800\n"
     ]
    },
    {
     "name": "stderr",
     "output_type": "stream",
     "text": [
      " 83%|████████▎ | 83000/100001 [2:57:06<30:14,  9.37it/s]"
     ]
    },
    {
     "name": "stdout",
     "output_type": "stream",
     "text": [
      "GAN: loss d: 2.87211    loss g: -2.86881\n",
      "saving current model\n"
     ]
    },
    {
     "name": "stderr",
     "output_type": "stream",
     "text": [
      "\n",
      "  0%|          | 0/175 [00:00<?, ?it/s]\u001b[A"
     ]
    },
    {
     "name": "stdout",
     "output_type": "stream",
     "text": [
      "Number of real images: 5626\n"
     ]
    },
    {
     "name": "stderr",
     "output_type": "stream",
     "text": [
      "\n",
      "\n",
      "  0%|          | 0/15 [00:00<?, ?it/s]\u001b[A\u001b[A"
     ]
    },
    {
     "name": "stdout",
     "output_type": "stream",
     "text": [
      "Number of synthetic images: 500\n"
     ]
    },
    {
     "name": "stderr",
     "output_type": "stream",
     "text": [
      " 83%|████████▎ | 83003/100001 [2:57:27<16:10:43,  3.43s/it]"
     ]
    },
    {
     "name": "stdout",
     "output_type": "stream",
     "text": [
      "Current fid score: 1.2734437497427322\n",
      "Fid scores: [5.176135784826485, 2.49733748630797, 2.556800986640896, 2.551807388342233, 3.0005414208896823, 2.6693746896472135, 2.327712167642524, 2.753024418615748, 1.810803698247632, 1.882469618869699, 2.3049020902006205, 1.2671737770059046, 2.1210468891055463, 2.099174223550225, 2.916100690765896, 3.40813729288425, 3.245391894475338, 3.857025155346646, 3.9987907417992634, 1.1312376693415231, 1.2186857992723503, 1.8961604960656189, 1.639260863742642, 1.4429721571320542, 1.2975153110277695, 1.2989564652328056, 1.2159174147751202, 1.2886615711632565, 1.2749489523852944, 1.2123217476264827, 1.130321950731723, 1.4349116027401223, 1.325705351921183, 0.9511910740117848, 0.7728854208281035, 1.0974412373000142, 1.3230233049879843, 1.456390242262266, 0.9723678173420041, 1.0042308899555294, 1.147213070903458, 1.1264658019655336, 1.0130370458094191, 1.2854713703383176, 1.395702880834726, 1.2354265562601796, 1.1165221470255844, 0.8902281152901743, 0.9371797233348538, 0.961486559589865, 0.9584809289781582, 1.0195113882726083, 1.1121585784748262, 0.8836194939814135, 1.2628025717982325, 1.0003107218338911, 1.0250539841592463, 1.2311716920488536, 0.8466612256589094, 1.062360831083872, 1.2398349309790042, 1.140507671535076, 1.289318961625014, 1.4735660614194437, 1.1830292778583882, 1.0022911738106046, 1.5096925650423003, 1.226437551227427, 1.1657271872429895, 0.9701383217156625, 1.0896116345455056, 1.0267251792278955, 0.8836643175091368, 1.1819464655556082, 1.104178601988096, 1.200262096253411, 1.2101221598331264, 1.1974559710162183, 1.033596938814469, 1.1349501660028807, 1.3865367730111906, 1.2460701708589177, 1.2231399395632643, 1.2734437497427322]\n"
     ]
    },
    {
     "name": "stderr",
     "output_type": "stream",
     "text": [
      "  0%|          | 0/175 [00:14<?, ?it/s]30:37,  9.22it/s]   \n",
      "  0%|          | 0/15 [00:05<?, ?it/s]\n",
      " 83%|████████▎ | 83101/100001 [2:57:37<31:38,  8.90it/s]"
     ]
    },
    {
     "name": "stdout",
     "output_type": "stream",
     "text": [
      "GAN: loss d: 1.39112    loss g: -1.90975\n"
     ]
    },
    {
     "name": "stderr",
     "output_type": "stream",
     "text": [
      " 83%|████████▎ | 83201/100001 [2:57:48<30:41,  9.12it/s]"
     ]
    },
    {
     "name": "stdout",
     "output_type": "stream",
     "text": [
      "GAN: loss d: 4.87912    loss g: -3.51056\n"
     ]
    },
    {
     "name": "stderr",
     "output_type": "stream",
     "text": [
      " 83%|████████▎ | 83301/100001 [2:57:58<30:40,  9.07it/s]"
     ]
    },
    {
     "name": "stdout",
     "output_type": "stream",
     "text": [
      "GAN: loss d: 3.51117    loss g: -3.30421\n"
     ]
    },
    {
     "name": "stderr",
     "output_type": "stream",
     "text": [
      " 83%|████████▎ | 83401/100001 [2:58:09<34:28,  8.03it/s]"
     ]
    },
    {
     "name": "stdout",
     "output_type": "stream",
     "text": [
      "GAN: loss d: 2.24022    loss g: -2.63673\n"
     ]
    },
    {
     "name": "stderr",
     "output_type": "stream",
     "text": [
      " 84%|████████▎ | 83503/100001 [2:58:20<28:49,  9.54it/s]"
     ]
    },
    {
     "name": "stdout",
     "output_type": "stream",
     "text": [
      "GAN: loss d: 2.43539    loss g: -3.17564\n"
     ]
    },
    {
     "name": "stderr",
     "output_type": "stream",
     "text": [
      " 84%|████████▎ | 83603/100001 [2:58:31<28:57,  9.44it/s]"
     ]
    },
    {
     "name": "stdout",
     "output_type": "stream",
     "text": [
      "GAN: loss d: 3.15699    loss g: -2.10351\n"
     ]
    },
    {
     "name": "stderr",
     "output_type": "stream",
     "text": [
      " 84%|████████▎ | 83701/100001 [2:58:41<30:17,  8.97it/s]"
     ]
    },
    {
     "name": "stdout",
     "output_type": "stream",
     "text": [
      "GAN: loss d: 5.50062    loss g: -2.27296\n"
     ]
    },
    {
     "name": "stderr",
     "output_type": "stream",
     "text": [
      " 84%|████████▍ | 83803/100001 [2:58:52<28:21,  9.52it/s]"
     ]
    },
    {
     "name": "stdout",
     "output_type": "stream",
     "text": [
      "GAN: loss d: 3.75681    loss g: -3.78427\n"
     ]
    },
    {
     "name": "stderr",
     "output_type": "stream",
     "text": [
      " 84%|████████▍ | 83901/100001 [2:59:02<32:07,  8.35it/s]"
     ]
    },
    {
     "name": "stdout",
     "output_type": "stream",
     "text": [
      "GAN: loss d: 1.06074    loss g: -3.23455\n"
     ]
    },
    {
     "name": "stderr",
     "output_type": "stream",
     "text": [
      " 84%|████████▍ | 84000/100001 [2:59:13<28:07,  9.48it/s]"
     ]
    },
    {
     "name": "stdout",
     "output_type": "stream",
     "text": [
      "GAN: loss d: 4.52833    loss g: -2.78483\n",
      "saving current model\n"
     ]
    },
    {
     "name": "stderr",
     "output_type": "stream",
     "text": [
      "\n",
      "  0%|          | 0/175 [00:00<?, ?it/s]\u001b[A"
     ]
    },
    {
     "name": "stdout",
     "output_type": "stream",
     "text": [
      "Number of real images: 5626\n"
     ]
    },
    {
     "name": "stderr",
     "output_type": "stream",
     "text": [
      "\n",
      "\n",
      "  0%|          | 0/15 [00:00<?, ?it/s]\u001b[A\u001b[A"
     ]
    },
    {
     "name": "stdout",
     "output_type": "stream",
     "text": [
      "Number of synthetic images: 500\n"
     ]
    },
    {
     "name": "stderr",
     "output_type": "stream",
     "text": [
      " 84%|████████▍ | 84001/100001 [2:59:34<27:57:18,  6.29s/it]"
     ]
    },
    {
     "name": "stdout",
     "output_type": "stream",
     "text": [
      "Current fid score: 1.573544349616249\n",
      "Fid scores: [5.176135784826485, 2.49733748630797, 2.556800986640896, 2.551807388342233, 3.0005414208896823, 2.6693746896472135, 2.327712167642524, 2.753024418615748, 1.810803698247632, 1.882469618869699, 2.3049020902006205, 1.2671737770059046, 2.1210468891055463, 2.099174223550225, 2.916100690765896, 3.40813729288425, 3.245391894475338, 3.857025155346646, 3.9987907417992634, 1.1312376693415231, 1.2186857992723503, 1.8961604960656189, 1.639260863742642, 1.4429721571320542, 1.2975153110277695, 1.2989564652328056, 1.2159174147751202, 1.2886615711632565, 1.2749489523852944, 1.2123217476264827, 1.130321950731723, 1.4349116027401223, 1.325705351921183, 0.9511910740117848, 0.7728854208281035, 1.0974412373000142, 1.3230233049879843, 1.456390242262266, 0.9723678173420041, 1.0042308899555294, 1.147213070903458, 1.1264658019655336, 1.0130370458094191, 1.2854713703383176, 1.395702880834726, 1.2354265562601796, 1.1165221470255844, 0.8902281152901743, 0.9371797233348538, 0.961486559589865, 0.9584809289781582, 1.0195113882726083, 1.1121585784748262, 0.8836194939814135, 1.2628025717982325, 1.0003107218338911, 1.0250539841592463, 1.2311716920488536, 0.8466612256589094, 1.062360831083872, 1.2398349309790042, 1.140507671535076, 1.289318961625014, 1.4735660614194437, 1.1830292778583882, 1.0022911738106046, 1.5096925650423003, 1.226437551227427, 1.1657271872429895, 0.9701383217156625, 1.0896116345455056, 1.0267251792278955, 0.8836643175091368, 1.1819464655556082, 1.104178601988096, 1.200262096253411, 1.2101221598331264, 1.1974559710162183, 1.033596938814469, 1.1349501660028807, 1.3865367730111906, 1.2460701708589177, 1.2231399395632643, 1.2734437497427322, 1.573544349616249]\n"
     ]
    },
    {
     "name": "stderr",
     "output_type": "stream",
     "text": [
      "  0%|          | 0/175 [00:10<?, ?it/s]2:01:23,  2.20it/s] \n",
      "  0%|          | 0/15 [00:01<?, ?it/s]\n",
      " 84%|████████▍ | 84101/100001 [2:59:44<29:01,  9.13it/s]  "
     ]
    },
    {
     "name": "stdout",
     "output_type": "stream",
     "text": [
      "GAN: loss d: 4.64534    loss g: -1.94064\n"
     ]
    },
    {
     "name": "stderr",
     "output_type": "stream",
     "text": [
      " 84%|████████▍ | 84201/100001 [2:59:55<28:38,  9.20it/s]"
     ]
    },
    {
     "name": "stdout",
     "output_type": "stream",
     "text": [
      "GAN: loss d: 1.32513    loss g: -2.73992\n"
     ]
    },
    {
     "name": "stderr",
     "output_type": "stream",
     "text": [
      " 84%|████████▍ | 84301/100001 [3:00:05<28:40,  9.12it/s]"
     ]
    },
    {
     "name": "stdout",
     "output_type": "stream",
     "text": [
      "GAN: loss d: -1.03442    loss g: -1.62818\n"
     ]
    },
    {
     "name": "stderr",
     "output_type": "stream",
     "text": [
      " 84%|████████▍ | 84401/100001 [3:00:16<32:13,  8.07it/s]"
     ]
    },
    {
     "name": "stdout",
     "output_type": "stream",
     "text": [
      "GAN: loss d: 6.03800    loss g: -2.74999\n"
     ]
    },
    {
     "name": "stderr",
     "output_type": "stream",
     "text": [
      " 85%|████████▍ | 84503/100001 [3:00:27<27:02,  9.55it/s]"
     ]
    },
    {
     "name": "stdout",
     "output_type": "stream",
     "text": [
      "GAN: loss d: 4.49883    loss g: -2.57260\n"
     ]
    },
    {
     "name": "stderr",
     "output_type": "stream",
     "text": [
      " 85%|████████▍ | 84603/100001 [3:00:38<27:04,  9.48it/s]"
     ]
    },
    {
     "name": "stdout",
     "output_type": "stream",
     "text": [
      "GAN: loss d: 6.34999    loss g: -1.90668\n"
     ]
    },
    {
     "name": "stderr",
     "output_type": "stream",
     "text": [
      " 85%|████████▍ | 84703/100001 [3:00:48<26:45,  9.53it/s]"
     ]
    },
    {
     "name": "stdout",
     "output_type": "stream",
     "text": [
      "GAN: loss d: 1.72590    loss g: -2.68878\n"
     ]
    },
    {
     "name": "stderr",
     "output_type": "stream",
     "text": [
      " 85%|████████▍ | 84801/100001 [3:00:59<28:00,  9.05it/s]"
     ]
    },
    {
     "name": "stdout",
     "output_type": "stream",
     "text": [
      "GAN: loss d: 4.24200    loss g: -3.38804\n"
     ]
    },
    {
     "name": "stderr",
     "output_type": "stream",
     "text": [
      " 85%|████████▍ | 84901/100001 [3:01:09<28:05,  8.96it/s]"
     ]
    },
    {
     "name": "stdout",
     "output_type": "stream",
     "text": [
      "GAN: loss d: 2.86402    loss g: -2.47106\n"
     ]
    },
    {
     "name": "stderr",
     "output_type": "stream",
     "text": [
      " 85%|████████▍ | 85000/100001 [3:01:20<26:17,  9.51it/s]"
     ]
    },
    {
     "name": "stdout",
     "output_type": "stream",
     "text": [
      "GAN: loss d: 3.46344    loss g: -2.82408\n",
      "saving current model\n"
     ]
    },
    {
     "name": "stderr",
     "output_type": "stream",
     "text": [
      "\n",
      "  0%|          | 0/175 [00:00<?, ?it/s]\u001b[A"
     ]
    },
    {
     "name": "stdout",
     "output_type": "stream",
     "text": [
      "Number of real images: 5626\n"
     ]
    },
    {
     "name": "stderr",
     "output_type": "stream",
     "text": [
      "\n",
      "\n",
      "  0%|          | 0/15 [00:00<?, ?it/s]\u001b[A\u001b[A"
     ]
    },
    {
     "name": "stdout",
     "output_type": "stream",
     "text": [
      "Number of synthetic images: 500\n"
     ]
    },
    {
     "name": "stderr",
     "output_type": "stream",
     "text": [
      " 85%|████████▌ | 85001/100001 [3:01:40<26:02:24,  6.25s/it]"
     ]
    },
    {
     "name": "stdout",
     "output_type": "stream",
     "text": [
      "Current fid score: 1.1789028514726745\n",
      "Fid scores: [5.176135784826485, 2.49733748630797, 2.556800986640896, 2.551807388342233, 3.0005414208896823, 2.6693746896472135, 2.327712167642524, 2.753024418615748, 1.810803698247632, 1.882469618869699, 2.3049020902006205, 1.2671737770059046, 2.1210468891055463, 2.099174223550225, 2.916100690765896, 3.40813729288425, 3.245391894475338, 3.857025155346646, 3.9987907417992634, 1.1312376693415231, 1.2186857992723503, 1.8961604960656189, 1.639260863742642, 1.4429721571320542, 1.2975153110277695, 1.2989564652328056, 1.2159174147751202, 1.2886615711632565, 1.2749489523852944, 1.2123217476264827, 1.130321950731723, 1.4349116027401223, 1.325705351921183, 0.9511910740117848, 0.7728854208281035, 1.0974412373000142, 1.3230233049879843, 1.456390242262266, 0.9723678173420041, 1.0042308899555294, 1.147213070903458, 1.1264658019655336, 1.0130370458094191, 1.2854713703383176, 1.395702880834726, 1.2354265562601796, 1.1165221470255844, 0.8902281152901743, 0.9371797233348538, 0.961486559589865, 0.9584809289781582, 1.0195113882726083, 1.1121585784748262, 0.8836194939814135, 1.2628025717982325, 1.0003107218338911, 1.0250539841592463, 1.2311716920488536, 0.8466612256589094, 1.062360831083872, 1.2398349309790042, 1.140507671535076, 1.289318961625014, 1.4735660614194437, 1.1830292778583882, 1.0022911738106046, 1.5096925650423003, 1.226437551227427, 1.1657271872429895, 0.9701383217156625, 1.0896116345455056, 1.0267251792278955, 0.8836643175091368, 1.1819464655556082, 1.104178601988096, 1.200262096253411, 1.2101221598331264, 1.1974559710162183, 1.033596938814469, 1.1349501660028807, 1.3865367730111906, 1.2460701708589177, 1.2231399395632643, 1.2734437497427322, 1.573544349616249, 1.1789028514726745]\n"
     ]
    },
    {
     "name": "stderr",
     "output_type": "stream",
     "text": [
      "  0%|          | 0/175 [00:18<?, ?it/s]26:13,  9.48it/s]   \n",
      "  0%|          | 0/15 [00:09<?, ?it/s]\n",
      " 85%|████████▌ | 85101/100001 [3:01:51<26:52,  9.24it/s]"
     ]
    },
    {
     "name": "stdout",
     "output_type": "stream",
     "text": [
      "GAN: loss d: 1.06561    loss g: -3.69478\n"
     ]
    },
    {
     "name": "stderr",
     "output_type": "stream",
     "text": [
      " 85%|████████▌ | 85201/100001 [3:02:02<27:08,  9.09it/s]"
     ]
    },
    {
     "name": "stdout",
     "output_type": "stream",
     "text": [
      "GAN: loss d: 4.52640    loss g: -3.17270\n"
     ]
    },
    {
     "name": "stderr",
     "output_type": "stream",
     "text": [
      " 85%|████████▌ | 85301/100001 [3:02:12<27:06,  9.04it/s]"
     ]
    },
    {
     "name": "stdout",
     "output_type": "stream",
     "text": [
      "GAN: loss d: 4.09332    loss g: -3.16254\n"
     ]
    },
    {
     "name": "stderr",
     "output_type": "stream",
     "text": [
      " 85%|████████▌ | 85401/100001 [3:02:23<26:49,  9.07it/s]"
     ]
    },
    {
     "name": "stdout",
     "output_type": "stream",
     "text": [
      "GAN: loss d: 3.64119    loss g: -2.41722\n"
     ]
    },
    {
     "name": "stderr",
     "output_type": "stream",
     "text": [
      " 86%|████████▌ | 85501/100001 [3:02:33<26:49,  9.01it/s]"
     ]
    },
    {
     "name": "stdout",
     "output_type": "stream",
     "text": [
      "GAN: loss d: 4.57634    loss g: -3.09183\n"
     ]
    },
    {
     "name": "stderr",
     "output_type": "stream",
     "text": [
      " 86%|████████▌ | 85601/100001 [3:02:44<26:33,  9.04it/s]"
     ]
    },
    {
     "name": "stdout",
     "output_type": "stream",
     "text": [
      "GAN: loss d: 4.30650    loss g: -3.54872\n"
     ]
    },
    {
     "name": "stderr",
     "output_type": "stream",
     "text": [
      " 86%|████████▌ | 85701/100001 [3:02:55<25:59,  9.17it/s]"
     ]
    },
    {
     "name": "stdout",
     "output_type": "stream",
     "text": [
      "GAN: loss d: 4.90936    loss g: -2.49594\n"
     ]
    },
    {
     "name": "stderr",
     "output_type": "stream",
     "text": [
      " 86%|████████▌ | 85803/100001 [3:03:05<24:50,  9.52it/s]"
     ]
    },
    {
     "name": "stdout",
     "output_type": "stream",
     "text": [
      "GAN: loss d: 2.28078    loss g: -2.81852\n"
     ]
    },
    {
     "name": "stderr",
     "output_type": "stream",
     "text": [
      " 86%|████████▌ | 85903/100001 [3:03:16<24:35,  9.55it/s]"
     ]
    },
    {
     "name": "stdout",
     "output_type": "stream",
     "text": [
      "GAN: loss d: 5.51366    loss g: -2.88907\n"
     ]
    },
    {
     "name": "stderr",
     "output_type": "stream",
     "text": [
      " 86%|████████▌ | 86000/100001 [3:03:26<25:00,  9.33it/s]"
     ]
    },
    {
     "name": "stdout",
     "output_type": "stream",
     "text": [
      "GAN: loss d: 4.96626    loss g: -2.86348\n",
      "saving current model\n"
     ]
    },
    {
     "name": "stderr",
     "output_type": "stream",
     "text": [
      "\n",
      "  0%|          | 0/175 [00:00<?, ?it/s]\u001b[A"
     ]
    },
    {
     "name": "stdout",
     "output_type": "stream",
     "text": [
      "Number of real images: 5626\n"
     ]
    },
    {
     "name": "stderr",
     "output_type": "stream",
     "text": [
      "\n",
      "\n",
      "  0%|          | 0/15 [00:00<?, ?it/s]\u001b[A\u001b[A"
     ]
    },
    {
     "name": "stdout",
     "output_type": "stream",
     "text": [
      "Number of synthetic images: 500\n"
     ]
    },
    {
     "name": "stderr",
     "output_type": "stream",
     "text": [
      " 86%|████████▌ | 86001/100001 [3:03:47<24:05:05,  6.19s/it]"
     ]
    },
    {
     "name": "stdout",
     "output_type": "stream",
     "text": [
      "Current fid score: 1.6287133320867149\n",
      "Fid scores: [5.176135784826485, 2.49733748630797, 2.556800986640896, 2.551807388342233, 3.0005414208896823, 2.6693746896472135, 2.327712167642524, 2.753024418615748, 1.810803698247632, 1.882469618869699, 2.3049020902006205, 1.2671737770059046, 2.1210468891055463, 2.099174223550225, 2.916100690765896, 3.40813729288425, 3.245391894475338, 3.857025155346646, 3.9987907417992634, 1.1312376693415231, 1.2186857992723503, 1.8961604960656189, 1.639260863742642, 1.4429721571320542, 1.2975153110277695, 1.2989564652328056, 1.2159174147751202, 1.2886615711632565, 1.2749489523852944, 1.2123217476264827, 1.130321950731723, 1.4349116027401223, 1.325705351921183, 0.9511910740117848, 0.7728854208281035, 1.0974412373000142, 1.3230233049879843, 1.456390242262266, 0.9723678173420041, 1.0042308899555294, 1.147213070903458, 1.1264658019655336, 1.0130370458094191, 1.2854713703383176, 1.395702880834726, 1.2354265562601796, 1.1165221470255844, 0.8902281152901743, 0.9371797233348538, 0.961486559589865, 0.9584809289781582, 1.0195113882726083, 1.1121585784748262, 0.8836194939814135, 1.2628025717982325, 1.0003107218338911, 1.0250539841592463, 1.2311716920488536, 0.8466612256589094, 1.062360831083872, 1.2398349309790042, 1.140507671535076, 1.289318961625014, 1.4735660614194437, 1.1830292778583882, 1.0022911738106046, 1.5096925650423003, 1.226437551227427, 1.1657271872429895, 0.9701383217156625, 1.0896116345455056, 1.0267251792278955, 0.8836643175091368, 1.1819464655556082, 1.104178601988096, 1.200262096253411, 1.2101221598331264, 1.1974559710162183, 1.033596938814469, 1.1349501660028807, 1.3865367730111906, 1.2460701708589177, 1.2231399395632643, 1.2734437497427322, 1.573544349616249, 1.1789028514726745, 1.6287133320867149]\n"
     ]
    },
    {
     "name": "stderr",
     "output_type": "stream",
     "text": [
      "  0%|          | 0/175 [00:15<?, ?it/s]24:33,  9.47it/s]   \n",
      "  0%|          | 0/15 [00:06<?, ?it/s]\n",
      " 86%|████████▌ | 86101/100001 [3:03:57<25:42,  9.01it/s]"
     ]
    },
    {
     "name": "stdout",
     "output_type": "stream",
     "text": [
      "GAN: loss d: 4.52418    loss g: -3.67944\n"
     ]
    },
    {
     "name": "stderr",
     "output_type": "stream",
     "text": [
      " 86%|████████▌ | 86201/100001 [3:04:08<25:14,  9.11it/s]"
     ]
    },
    {
     "name": "stdout",
     "output_type": "stream",
     "text": [
      "GAN: loss d: 3.19336    loss g: -3.21730\n"
     ]
    },
    {
     "name": "stderr",
     "output_type": "stream",
     "text": [
      " 86%|████████▋ | 86303/100001 [3:04:19<23:54,  9.55it/s]"
     ]
    },
    {
     "name": "stdout",
     "output_type": "stream",
     "text": [
      "GAN: loss d: 4.43248    loss g: -2.63256\n"
     ]
    },
    {
     "name": "stderr",
     "output_type": "stream",
     "text": [
      " 86%|████████▋ | 86401/100001 [3:04:29<24:51,  9.12it/s]"
     ]
    },
    {
     "name": "stdout",
     "output_type": "stream",
     "text": [
      "GAN: loss d: 3.43931    loss g: -3.69602\n"
     ]
    },
    {
     "name": "stderr",
     "output_type": "stream",
     "text": [
      " 87%|████████▋ | 86501/100001 [3:04:40<24:46,  9.08it/s]"
     ]
    },
    {
     "name": "stdout",
     "output_type": "stream",
     "text": [
      "GAN: loss d: 3.54671    loss g: -2.65924\n"
     ]
    },
    {
     "name": "stderr",
     "output_type": "stream",
     "text": [
      " 87%|████████▋ | 86601/100001 [3:04:50<24:40,  9.05it/s]"
     ]
    },
    {
     "name": "stdout",
     "output_type": "stream",
     "text": [
      "GAN: loss d: 4.72582    loss g: -3.62842\n"
     ]
    },
    {
     "name": "stderr",
     "output_type": "stream",
     "text": [
      " 87%|████████▋ | 86703/100001 [3:05:01<23:04,  9.61it/s]"
     ]
    },
    {
     "name": "stdout",
     "output_type": "stream",
     "text": [
      "GAN: loss d: 4.20359    loss g: -2.83763\n"
     ]
    },
    {
     "name": "stderr",
     "output_type": "stream",
     "text": [
      " 87%|████████▋ | 86803/100001 [3:05:12<23:13,  9.47it/s]"
     ]
    },
    {
     "name": "stdout",
     "output_type": "stream",
     "text": [
      "GAN: loss d: 4.02591    loss g: -3.11398\n"
     ]
    },
    {
     "name": "stderr",
     "output_type": "stream",
     "text": [
      " 87%|████████▋ | 86901/100001 [3:05:22<24:57,  8.75it/s]"
     ]
    },
    {
     "name": "stdout",
     "output_type": "stream",
     "text": [
      "GAN: loss d: 4.66056    loss g: -2.90055\n"
     ]
    },
    {
     "name": "stderr",
     "output_type": "stream",
     "text": [
      " 87%|████████▋ | 87000/100001 [3:05:33<23:15,  9.32it/s]"
     ]
    },
    {
     "name": "stdout",
     "output_type": "stream",
     "text": [
      "GAN: loss d: 3.96022    loss g: -1.95575\n",
      "saving current model\n"
     ]
    },
    {
     "name": "stderr",
     "output_type": "stream",
     "text": [
      "\n",
      "  0%|          | 0/175 [00:00<?, ?it/s]\u001b[A"
     ]
    },
    {
     "name": "stdout",
     "output_type": "stream",
     "text": [
      "Number of real images: 5626\n"
     ]
    },
    {
     "name": "stderr",
     "output_type": "stream",
     "text": [
      "\n",
      "\n",
      "  0%|          | 0/15 [00:00<?, ?it/s]\u001b[A\u001b[A"
     ]
    },
    {
     "name": "stdout",
     "output_type": "stream",
     "text": [
      "Number of synthetic images: 500\n"
     ]
    },
    {
     "name": "stderr",
     "output_type": "stream",
     "text": [
      " 87%|████████▋ | 87003/100001 [3:05:54<12:13:53,  3.39s/it]"
     ]
    },
    {
     "name": "stdout",
     "output_type": "stream",
     "text": [
      "Current fid score: 1.351215417397892\n",
      "Fid scores: [5.176135784826485, 2.49733748630797, 2.556800986640896, 2.551807388342233, 3.0005414208896823, 2.6693746896472135, 2.327712167642524, 2.753024418615748, 1.810803698247632, 1.882469618869699, 2.3049020902006205, 1.2671737770059046, 2.1210468891055463, 2.099174223550225, 2.916100690765896, 3.40813729288425, 3.245391894475338, 3.857025155346646, 3.9987907417992634, 1.1312376693415231, 1.2186857992723503, 1.8961604960656189, 1.639260863742642, 1.4429721571320542, 1.2975153110277695, 1.2989564652328056, 1.2159174147751202, 1.2886615711632565, 1.2749489523852944, 1.2123217476264827, 1.130321950731723, 1.4349116027401223, 1.325705351921183, 0.9511910740117848, 0.7728854208281035, 1.0974412373000142, 1.3230233049879843, 1.456390242262266, 0.9723678173420041, 1.0042308899555294, 1.147213070903458, 1.1264658019655336, 1.0130370458094191, 1.2854713703383176, 1.395702880834726, 1.2354265562601796, 1.1165221470255844, 0.8902281152901743, 0.9371797233348538, 0.961486559589865, 0.9584809289781582, 1.0195113882726083, 1.1121585784748262, 0.8836194939814135, 1.2628025717982325, 1.0003107218338911, 1.0250539841592463, 1.2311716920488536, 0.8466612256589094, 1.062360831083872, 1.2398349309790042, 1.140507671535076, 1.289318961625014, 1.4735660614194437, 1.1830292778583882, 1.0022911738106046, 1.5096925650423003, 1.226437551227427, 1.1657271872429895, 0.9701383217156625, 1.0896116345455056, 1.0267251792278955, 0.8836643175091368, 1.1819464655556082, 1.104178601988096, 1.200262096253411, 1.2101221598331264, 1.1974559710162183, 1.033596938814469, 1.1349501660028807, 1.3865367730111906, 1.2460701708589177, 1.2231399395632643, 1.2734437497427322, 1.573544349616249, 1.1789028514726745, 1.6287133320867149, 1.351215417397892]\n"
     ]
    },
    {
     "name": "stderr",
     "output_type": "stream",
     "text": [
      "  0%|          | 0/175 [00:10<?, ?it/s]2:50:35,  1.27it/s] \n",
      "  0%|          | 0/15 [00:01<?, ?it/s]\n",
      " 87%|████████▋ | 87103/100001 [3:06:04<22:35,  9.52it/s]  "
     ]
    },
    {
     "name": "stdout",
     "output_type": "stream",
     "text": [
      "GAN: loss d: 1.71821    loss g: -1.80520\n"
     ]
    },
    {
     "name": "stderr",
     "output_type": "stream",
     "text": [
      " 87%|████████▋ | 87203/100001 [3:06:15<22:29,  9.48it/s]"
     ]
    },
    {
     "name": "stdout",
     "output_type": "stream",
     "text": [
      "GAN: loss d: 2.19686    loss g: -2.00534\n"
     ]
    },
    {
     "name": "stderr",
     "output_type": "stream",
     "text": [
      " 87%|████████▋ | 87303/100001 [3:06:25<22:20,  9.47it/s]"
     ]
    },
    {
     "name": "stdout",
     "output_type": "stream",
     "text": [
      "GAN: loss d: 3.33898    loss g: -3.02864\n"
     ]
    },
    {
     "name": "stderr",
     "output_type": "stream",
     "text": [
      " 87%|████████▋ | 87403/100001 [3:06:36<22:00,  9.54it/s]"
     ]
    },
    {
     "name": "stdout",
     "output_type": "stream",
     "text": [
      "GAN: loss d: 4.41066    loss g: -2.63880\n"
     ]
    },
    {
     "name": "stderr",
     "output_type": "stream",
     "text": [
      " 88%|████████▊ | 87501/100001 [3:06:46<22:33,  9.24it/s]"
     ]
    },
    {
     "name": "stdout",
     "output_type": "stream",
     "text": [
      "GAN: loss d: 3.85389    loss g: -3.37497\n"
     ]
    },
    {
     "name": "stderr",
     "output_type": "stream",
     "text": [
      " 88%|████████▊ | 87601/100001 [3:06:57<22:46,  9.07it/s]"
     ]
    },
    {
     "name": "stdout",
     "output_type": "stream",
     "text": [
      "GAN: loss d: 4.68833    loss g: -3.81752\n"
     ]
    },
    {
     "name": "stderr",
     "output_type": "stream",
     "text": [
      " 88%|████████▊ | 87701/100001 [3:07:07<22:50,  8.97it/s]"
     ]
    },
    {
     "name": "stdout",
     "output_type": "stream",
     "text": [
      "GAN: loss d: 2.84653    loss g: -3.85264\n"
     ]
    },
    {
     "name": "stderr",
     "output_type": "stream",
     "text": [
      " 88%|████████▊ | 87801/100001 [3:07:18<22:34,  9.01it/s]"
     ]
    },
    {
     "name": "stdout",
     "output_type": "stream",
     "text": [
      "GAN: loss d: 4.42076    loss g: -3.37433\n"
     ]
    },
    {
     "name": "stderr",
     "output_type": "stream",
     "text": [
      " 88%|████████▊ | 87903/100001 [3:07:29<21:06,  9.55it/s]"
     ]
    },
    {
     "name": "stdout",
     "output_type": "stream",
     "text": [
      "GAN: loss d: 3.45281    loss g: -3.27621\n"
     ]
    },
    {
     "name": "stderr",
     "output_type": "stream",
     "text": [
      " 88%|████████▊ | 88000/100001 [3:07:39<21:20,  9.37it/s]"
     ]
    },
    {
     "name": "stdout",
     "output_type": "stream",
     "text": [
      "GAN: loss d: 5.37105    loss g: -3.00284\n",
      "saving current model\n"
     ]
    },
    {
     "name": "stderr",
     "output_type": "stream",
     "text": [
      "\n",
      "  0%|          | 0/175 [00:00<?, ?it/s]\u001b[A"
     ]
    },
    {
     "name": "stdout",
     "output_type": "stream",
     "text": [
      "Number of real images: 5626\n"
     ]
    },
    {
     "name": "stderr",
     "output_type": "stream",
     "text": [
      "\n",
      "\n",
      "  0%|          | 0/15 [00:00<?, ?it/s]\u001b[A\u001b[A"
     ]
    },
    {
     "name": "stdout",
     "output_type": "stream",
     "text": [
      "Number of synthetic images: 500\n"
     ]
    },
    {
     "name": "stderr",
     "output_type": "stream",
     "text": [
      " 88%|████████▊ | 88001/100001 [3:07:59<20:38:45,  6.19s/it]"
     ]
    },
    {
     "name": "stdout",
     "output_type": "stream",
     "text": [
      "Current fid score: 0.8958756997499506\n",
      "Fid scores: [5.176135784826485, 2.49733748630797, 2.556800986640896, 2.551807388342233, 3.0005414208896823, 2.6693746896472135, 2.327712167642524, 2.753024418615748, 1.810803698247632, 1.882469618869699, 2.3049020902006205, 1.2671737770059046, 2.1210468891055463, 2.099174223550225, 2.916100690765896, 3.40813729288425, 3.245391894475338, 3.857025155346646, 3.9987907417992634, 1.1312376693415231, 1.2186857992723503, 1.8961604960656189, 1.639260863742642, 1.4429721571320542, 1.2975153110277695, 1.2989564652328056, 1.2159174147751202, 1.2886615711632565, 1.2749489523852944, 1.2123217476264827, 1.130321950731723, 1.4349116027401223, 1.325705351921183, 0.9511910740117848, 0.7728854208281035, 1.0974412373000142, 1.3230233049879843, 1.456390242262266, 0.9723678173420041, 1.0042308899555294, 1.147213070903458, 1.1264658019655336, 1.0130370458094191, 1.2854713703383176, 1.395702880834726, 1.2354265562601796, 1.1165221470255844, 0.8902281152901743, 0.9371797233348538, 0.961486559589865, 0.9584809289781582, 1.0195113882726083, 1.1121585784748262, 0.8836194939814135, 1.2628025717982325, 1.0003107218338911, 1.0250539841592463, 1.2311716920488536, 0.8466612256589094, 1.062360831083872, 1.2398349309790042, 1.140507671535076, 1.289318961625014, 1.4735660614194437, 1.1830292778583882, 1.0022911738106046, 1.5096925650423003, 1.226437551227427, 1.1657271872429895, 0.9701383217156625, 1.0896116345455056, 1.0267251792278955, 0.8836643175091368, 1.1819464655556082, 1.104178601988096, 1.200262096253411, 1.2101221598331264, 1.1974559710162183, 1.033596938814469, 1.1349501660028807, 1.3865367730111906, 1.2460701708589177, 1.2231399395632643, 1.2734437497427322, 1.573544349616249, 1.1789028514726745, 1.6287133320867149, 1.351215417397892, 0.8958756997499506]\n"
     ]
    },
    {
     "name": "stderr",
     "output_type": "stream",
     "text": [
      "  0%|          | 0/175 [00:19<?, ?it/s]20:59,  9.45it/s]   \n",
      "  0%|          | 0/15 [00:11<?, ?it/s]\n",
      " 88%|████████▊ | 88103/100001 [3:08:10<20:45,  9.56it/s]"
     ]
    },
    {
     "name": "stdout",
     "output_type": "stream",
     "text": [
      "GAN: loss d: 3.04862    loss g: -2.73143\n"
     ]
    },
    {
     "name": "stderr",
     "output_type": "stream",
     "text": [
      " 88%|████████▊ | 88201/100001 [3:08:21<21:27,  9.17it/s]"
     ]
    },
    {
     "name": "stdout",
     "output_type": "stream",
     "text": [
      "GAN: loss d: 3.97225    loss g: -1.49434\n"
     ]
    },
    {
     "name": "stderr",
     "output_type": "stream",
     "text": [
      " 88%|████████▊ | 88301/100001 [3:08:31<21:21,  9.13it/s]"
     ]
    },
    {
     "name": "stdout",
     "output_type": "stream",
     "text": [
      "GAN: loss d: 3.75557    loss g: -1.66864\n"
     ]
    },
    {
     "name": "stderr",
     "output_type": "stream",
     "text": [
      " 88%|████████▊ | 88401/100001 [3:08:42<21:37,  8.94it/s]"
     ]
    },
    {
     "name": "stdout",
     "output_type": "stream",
     "text": [
      "GAN: loss d: 2.43408    loss g: -2.85193\n"
     ]
    },
    {
     "name": "stderr",
     "output_type": "stream",
     "text": [
      " 89%|████████▊ | 88503/100001 [3:08:53<19:53,  9.63it/s]"
     ]
    },
    {
     "name": "stdout",
     "output_type": "stream",
     "text": [
      "GAN: loss d: 6.15205    loss g: -2.64437\n"
     ]
    },
    {
     "name": "stderr",
     "output_type": "stream",
     "text": [
      " 89%|████████▊ | 88603/100001 [3:09:03<19:52,  9.56it/s]"
     ]
    },
    {
     "name": "stdout",
     "output_type": "stream",
     "text": [
      "GAN: loss d: 2.28068    loss g: -3.08430\n"
     ]
    },
    {
     "name": "stderr",
     "output_type": "stream",
     "text": [
      " 89%|████████▊ | 88701/100001 [3:09:14<20:47,  9.06it/s]"
     ]
    },
    {
     "name": "stdout",
     "output_type": "stream",
     "text": [
      "GAN: loss d: 3.24325    loss g: -2.80270\n"
     ]
    },
    {
     "name": "stderr",
     "output_type": "stream",
     "text": [
      " 89%|████████▉ | 88801/100001 [3:09:24<20:39,  9.04it/s]"
     ]
    },
    {
     "name": "stdout",
     "output_type": "stream",
     "text": [
      "GAN: loss d: 4.10084    loss g: -3.30075\n"
     ]
    },
    {
     "name": "stderr",
     "output_type": "stream",
     "text": [
      " 89%|████████▉ | 88901/100001 [3:09:35<20:39,  8.95it/s]"
     ]
    },
    {
     "name": "stdout",
     "output_type": "stream",
     "text": [
      "GAN: loss d: 3.71293    loss g: -1.60642\n"
     ]
    },
    {
     "name": "stderr",
     "output_type": "stream",
     "text": [
      " 89%|████████▉ | 89000/100001 [3:09:45<19:15,  9.52it/s]"
     ]
    },
    {
     "name": "stdout",
     "output_type": "stream",
     "text": [
      "GAN: loss d: 5.26203    loss g: -2.97966\n",
      "saving current model\n"
     ]
    },
    {
     "name": "stderr",
     "output_type": "stream",
     "text": [
      "\n",
      "  0%|          | 0/175 [00:00<?, ?it/s]\u001b[A"
     ]
    },
    {
     "name": "stdout",
     "output_type": "stream",
     "text": [
      "Number of real images: 5626\n"
     ]
    },
    {
     "name": "stderr",
     "output_type": "stream",
     "text": [
      "\n",
      "\n",
      "  0%|          | 0/15 [00:00<?, ?it/s]\u001b[A\u001b[A"
     ]
    },
    {
     "name": "stdout",
     "output_type": "stream",
     "text": [
      "Number of synthetic images: 500\n"
     ]
    },
    {
     "name": "stderr",
     "output_type": "stream",
     "text": [
      " 89%|████████▉ | 89002/100001 [3:10:06<13:24:44,  4.39s/it]"
     ]
    },
    {
     "name": "stdout",
     "output_type": "stream",
     "text": [
      "Current fid score: 1.3909470958166992\n",
      "Fid scores: [5.176135784826485, 2.49733748630797, 2.556800986640896, 2.551807388342233, 3.0005414208896823, 2.6693746896472135, 2.327712167642524, 2.753024418615748, 1.810803698247632, 1.882469618869699, 2.3049020902006205, 1.2671737770059046, 2.1210468891055463, 2.099174223550225, 2.916100690765896, 3.40813729288425, 3.245391894475338, 3.857025155346646, 3.9987907417992634, 1.1312376693415231, 1.2186857992723503, 1.8961604960656189, 1.639260863742642, 1.4429721571320542, 1.2975153110277695, 1.2989564652328056, 1.2159174147751202, 1.2886615711632565, 1.2749489523852944, 1.2123217476264827, 1.130321950731723, 1.4349116027401223, 1.325705351921183, 0.9511910740117848, 0.7728854208281035, 1.0974412373000142, 1.3230233049879843, 1.456390242262266, 0.9723678173420041, 1.0042308899555294, 1.147213070903458, 1.1264658019655336, 1.0130370458094191, 1.2854713703383176, 1.395702880834726, 1.2354265562601796, 1.1165221470255844, 0.8902281152901743, 0.9371797233348538, 0.961486559589865, 0.9584809289781582, 1.0195113882726083, 1.1121585784748262, 0.8836194939814135, 1.2628025717982325, 1.0003107218338911, 1.0250539841592463, 1.2311716920488536, 0.8466612256589094, 1.062360831083872, 1.2398349309790042, 1.140507671535076, 1.289318961625014, 1.4735660614194437, 1.1830292778583882, 1.0022911738106046, 1.5096925650423003, 1.226437551227427, 1.1657271872429895, 0.9701383217156625, 1.0896116345455056, 1.0267251792278955, 0.8836643175091368, 1.1819464655556082, 1.104178601988096, 1.200262096253411, 1.2101221598331264, 1.1974559710162183, 1.033596938814469, 1.1349501660028807, 1.3865367730111906, 1.2460701708589177, 1.2231399395632643, 1.2734437497427322, 1.573544349616249, 1.1789028514726745, 1.6287133320867149, 1.351215417397892, 0.8958756997499506, 1.3909470958166992]\n"
     ]
    },
    {
     "name": "stderr",
     "output_type": "stream",
     "text": [
      "  0%|          | 0/175 [00:15<?, ?it/s]19:29,  9.36it/s]   \n",
      "  0%|          | 0/15 [00:06<?, ?it/s]\n",
      " 89%|████████▉ | 89101/100001 [3:10:16<20:27,  8.88it/s]"
     ]
    },
    {
     "name": "stdout",
     "output_type": "stream",
     "text": [
      "GAN: loss d: 2.17253    loss g: -3.59478\n"
     ]
    },
    {
     "name": "stderr",
     "output_type": "stream",
     "text": [
      " 89%|████████▉ | 89201/100001 [3:10:27<19:50,  9.07it/s]"
     ]
    },
    {
     "name": "stdout",
     "output_type": "stream",
     "text": [
      "GAN: loss d: 6.41509    loss g: -3.09037\n"
     ]
    },
    {
     "name": "stderr",
     "output_type": "stream",
     "text": [
      " 89%|████████▉ | 89303/100001 [3:10:38<18:28,  9.65it/s]"
     ]
    },
    {
     "name": "stdout",
     "output_type": "stream",
     "text": [
      "GAN: loss d: 1.64968    loss g: -3.10546\n"
     ]
    },
    {
     "name": "stderr",
     "output_type": "stream",
     "text": [
      " 89%|████████▉ | 89401/100001 [3:10:48<19:28,  9.07it/s]"
     ]
    },
    {
     "name": "stdout",
     "output_type": "stream",
     "text": [
      "GAN: loss d: 1.93060    loss g: -3.59801\n"
     ]
    },
    {
     "name": "stderr",
     "output_type": "stream",
     "text": [
      " 90%|████████▉ | 89503/100001 [3:10:59<18:29,  9.46it/s]"
     ]
    },
    {
     "name": "stdout",
     "output_type": "stream",
     "text": [
      "GAN: loss d: 4.37326    loss g: -4.16071\n"
     ]
    },
    {
     "name": "stderr",
     "output_type": "stream",
     "text": [
      " 90%|████████▉ | 89601/100001 [3:11:09<19:23,  8.94it/s]"
     ]
    },
    {
     "name": "stdout",
     "output_type": "stream",
     "text": [
      "GAN: loss d: 4.33258    loss g: -3.56142\n"
     ]
    },
    {
     "name": "stderr",
     "output_type": "stream",
     "text": [
      " 90%|████████▉ | 89703/100001 [3:11:20<18:02,  9.51it/s]"
     ]
    },
    {
     "name": "stdout",
     "output_type": "stream",
     "text": [
      "GAN: loss d: 4.34222    loss g: -2.47385\n"
     ]
    },
    {
     "name": "stderr",
     "output_type": "stream",
     "text": [
      " 90%|████████▉ | 89803/100001 [3:11:31<17:54,  9.49it/s]"
     ]
    },
    {
     "name": "stdout",
     "output_type": "stream",
     "text": [
      "GAN: loss d: 2.14736    loss g: -2.63716\n"
     ]
    },
    {
     "name": "stderr",
     "output_type": "stream",
     "text": [
      " 90%|████████▉ | 89901/100001 [3:11:41<18:40,  9.01it/s]"
     ]
    },
    {
     "name": "stdout",
     "output_type": "stream",
     "text": [
      "GAN: loss d: 5.34079    loss g: -2.23496\n"
     ]
    },
    {
     "name": "stderr",
     "output_type": "stream",
     "text": [
      " 90%|████████▉ | 90000/100001 [3:11:52<17:55,  9.30it/s]"
     ]
    },
    {
     "name": "stdout",
     "output_type": "stream",
     "text": [
      "GAN: loss d: 5.01345    loss g: -3.34234\n",
      "saving current model\n"
     ]
    },
    {
     "name": "stderr",
     "output_type": "stream",
     "text": [
      "\n",
      "  0%|          | 0/175 [00:00<?, ?it/s]\u001b[A"
     ]
    },
    {
     "name": "stdout",
     "output_type": "stream",
     "text": [
      "Number of real images: 5626\n"
     ]
    },
    {
     "name": "stderr",
     "output_type": "stream",
     "text": [
      "\n",
      "\n",
      "  0%|          | 0/15 [00:00<?, ?it/s]\u001b[A\u001b[A"
     ]
    },
    {
     "name": "stdout",
     "output_type": "stream",
     "text": [
      "Number of synthetic images: 500\n"
     ]
    },
    {
     "name": "stderr",
     "output_type": "stream",
     "text": [
      " 90%|█████████ | 90001/100001 [3:12:12<17:28:58,  6.29s/it]"
     ]
    },
    {
     "name": "stdout",
     "output_type": "stream",
     "text": [
      "Current fid score: 1.1338990869158856\n",
      "Fid scores: [5.176135784826485, 2.49733748630797, 2.556800986640896, 2.551807388342233, 3.0005414208896823, 2.6693746896472135, 2.327712167642524, 2.753024418615748, 1.810803698247632, 1.882469618869699, 2.3049020902006205, 1.2671737770059046, 2.1210468891055463, 2.099174223550225, 2.916100690765896, 3.40813729288425, 3.245391894475338, 3.857025155346646, 3.9987907417992634, 1.1312376693415231, 1.2186857992723503, 1.8961604960656189, 1.639260863742642, 1.4429721571320542, 1.2975153110277695, 1.2989564652328056, 1.2159174147751202, 1.2886615711632565, 1.2749489523852944, 1.2123217476264827, 1.130321950731723, 1.4349116027401223, 1.325705351921183, 0.9511910740117848, 0.7728854208281035, 1.0974412373000142, 1.3230233049879843, 1.456390242262266, 0.9723678173420041, 1.0042308899555294, 1.147213070903458, 1.1264658019655336, 1.0130370458094191, 1.2854713703383176, 1.395702880834726, 1.2354265562601796, 1.1165221470255844, 0.8902281152901743, 0.9371797233348538, 0.961486559589865, 0.9584809289781582, 1.0195113882726083, 1.1121585784748262, 0.8836194939814135, 1.2628025717982325, 1.0003107218338911, 1.0250539841592463, 1.2311716920488536, 0.8466612256589094, 1.062360831083872, 1.2398349309790042, 1.140507671535076, 1.289318961625014, 1.4735660614194437, 1.1830292778583882, 1.0022911738106046, 1.5096925650423003, 1.226437551227427, 1.1657271872429895, 0.9701383217156625, 1.0896116345455056, 1.0267251792278955, 0.8836643175091368, 1.1819464655556082, 1.104178601988096, 1.200262096253411, 1.2101221598331264, 1.1974559710162183, 1.033596938814469, 1.1349501660028807, 1.3865367730111906, 1.2460701708589177, 1.2231399395632643, 1.2734437497427322, 1.573544349616249, 1.1789028514726745, 1.6287133320867149, 1.351215417397892, 0.8958756997499506, 1.3909470958166992, 1.1338990869158856]\n"
     ]
    },
    {
     "name": "stderr",
     "output_type": "stream",
     "text": [
      "  0%|          | 0/175 [00:10<?, ?it/s]2:13:06,  1.25it/s] \n",
      "  0%|          | 0/15 [00:01<?, ?it/s]\n",
      " 90%|█████████ | 90101/100001 [3:12:23<18:30,  8.92it/s]  "
     ]
    },
    {
     "name": "stdout",
     "output_type": "stream",
     "text": [
      "GAN: loss d: 5.16718    loss g: -2.41263\n"
     ]
    },
    {
     "name": "stderr",
     "output_type": "stream",
     "text": [
      " 90%|█████████ | 90203/100001 [3:12:34<17:04,  9.57it/s]"
     ]
    },
    {
     "name": "stdout",
     "output_type": "stream",
     "text": [
      "GAN: loss d: 3.37959    loss g: -2.78316\n"
     ]
    },
    {
     "name": "stderr",
     "output_type": "stream",
     "text": [
      " 90%|█████████ | 90303/100001 [3:12:44<16:49,  9.61it/s]"
     ]
    },
    {
     "name": "stdout",
     "output_type": "stream",
     "text": [
      "GAN: loss d: 4.12328    loss g: -3.97064\n"
     ]
    },
    {
     "name": "stderr",
     "output_type": "stream",
     "text": [
      " 90%|█████████ | 90401/100001 [3:12:55<17:37,  9.08it/s]"
     ]
    },
    {
     "name": "stdout",
     "output_type": "stream",
     "text": [
      "GAN: loss d: 3.85917    loss g: -2.06711\n"
     ]
    },
    {
     "name": "stderr",
     "output_type": "stream",
     "text": [
      " 91%|█████████ | 90501/100001 [3:13:06<17:24,  9.10it/s]"
     ]
    },
    {
     "name": "stdout",
     "output_type": "stream",
     "text": [
      "GAN: loss d: 2.93475    loss g: -3.25097\n"
     ]
    },
    {
     "name": "stderr",
     "output_type": "stream",
     "text": [
      " 91%|█████████ | 90603/100001 [3:13:16<16:23,  9.55it/s]"
     ]
    },
    {
     "name": "stdout",
     "output_type": "stream",
     "text": [
      "GAN: loss d: 1.47738    loss g: -4.33628\n"
     ]
    },
    {
     "name": "stderr",
     "output_type": "stream",
     "text": [
      " 91%|█████████ | 90703/100001 [3:13:27<16:23,  9.45it/s]"
     ]
    },
    {
     "name": "stdout",
     "output_type": "stream",
     "text": [
      "GAN: loss d: 2.14297    loss g: -3.06236\n"
     ]
    },
    {
     "name": "stderr",
     "output_type": "stream",
     "text": [
      " 91%|█████████ | 90801/100001 [3:13:37<16:54,  9.07it/s]"
     ]
    },
    {
     "name": "stdout",
     "output_type": "stream",
     "text": [
      "GAN: loss d: 4.56008    loss g: -3.61230\n"
     ]
    },
    {
     "name": "stderr",
     "output_type": "stream",
     "text": [
      " 91%|█████████ | 90901/100001 [3:13:48<16:29,  9.19it/s]"
     ]
    },
    {
     "name": "stdout",
     "output_type": "stream",
     "text": [
      "GAN: loss d: 0.97855    loss g: -3.60397\n"
     ]
    },
    {
     "name": "stderr",
     "output_type": "stream",
     "text": [
      " 91%|█████████ | 91000/100001 [3:13:58<15:52,  9.45it/s]"
     ]
    },
    {
     "name": "stdout",
     "output_type": "stream",
     "text": [
      "GAN: loss d: 4.38566    loss g: -3.46977\n",
      "saving current model\n"
     ]
    },
    {
     "name": "stderr",
     "output_type": "stream",
     "text": [
      "\n",
      "  0%|          | 0/175 [00:00<?, ?it/s]\u001b[A"
     ]
    },
    {
     "name": "stdout",
     "output_type": "stream",
     "text": [
      "Number of real images: 5626\n"
     ]
    },
    {
     "name": "stderr",
     "output_type": "stream",
     "text": [
      "\n",
      "\n",
      "  0%|          | 0/15 [00:00<?, ?it/s]\u001b[A\u001b[A"
     ]
    },
    {
     "name": "stdout",
     "output_type": "stream",
     "text": [
      "Number of synthetic images: 500\n"
     ]
    },
    {
     "name": "stderr",
     "output_type": "stream",
     "text": [
      " 91%|█████████ | 91001/100001 [3:14:19<15:38:30,  6.26s/it]"
     ]
    },
    {
     "name": "stdout",
     "output_type": "stream",
     "text": [
      "Current fid score: 1.421767614110518\n",
      "Fid scores: [5.176135784826485, 2.49733748630797, 2.556800986640896, 2.551807388342233, 3.0005414208896823, 2.6693746896472135, 2.327712167642524, 2.753024418615748, 1.810803698247632, 1.882469618869699, 2.3049020902006205, 1.2671737770059046, 2.1210468891055463, 2.099174223550225, 2.916100690765896, 3.40813729288425, 3.245391894475338, 3.857025155346646, 3.9987907417992634, 1.1312376693415231, 1.2186857992723503, 1.8961604960656189, 1.639260863742642, 1.4429721571320542, 1.2975153110277695, 1.2989564652328056, 1.2159174147751202, 1.2886615711632565, 1.2749489523852944, 1.2123217476264827, 1.130321950731723, 1.4349116027401223, 1.325705351921183, 0.9511910740117848, 0.7728854208281035, 1.0974412373000142, 1.3230233049879843, 1.456390242262266, 0.9723678173420041, 1.0042308899555294, 1.147213070903458, 1.1264658019655336, 1.0130370458094191, 1.2854713703383176, 1.395702880834726, 1.2354265562601796, 1.1165221470255844, 0.8902281152901743, 0.9371797233348538, 0.961486559589865, 0.9584809289781582, 1.0195113882726083, 1.1121585784748262, 0.8836194939814135, 1.2628025717982325, 1.0003107218338911, 1.0250539841592463, 1.2311716920488536, 0.8466612256589094, 1.062360831083872, 1.2398349309790042, 1.140507671535076, 1.289318961625014, 1.4735660614194437, 1.1830292778583882, 1.0022911738106046, 1.5096925650423003, 1.226437551227427, 1.1657271872429895, 0.9701383217156625, 1.0896116345455056, 1.0267251792278955, 0.8836643175091368, 1.1819464655556082, 1.104178601988096, 1.200262096253411, 1.2101221598331264, 1.1974559710162183, 1.033596938814469, 1.1349501660028807, 1.3865367730111906, 1.2460701708589177, 1.2231399395632643, 1.2734437497427322, 1.573544349616249, 1.1789028514726745, 1.6287133320867149, 1.351215417397892, 0.8958756997499506, 1.3909470958166992, 1.1338990869158856, 1.421767614110518]\n"
     ]
    },
    {
     "name": "stderr",
     "output_type": "stream",
     "text": [
      "  0%|          | 0/175 [00:10<?, ?it/s]52:40,  2.84it/s]   \n",
      "  0%|          | 0/15 [00:02<?, ?it/s]\n",
      " 91%|█████████ | 91101/100001 [3:14:30<16:08,  9.18it/s]"
     ]
    },
    {
     "name": "stdout",
     "output_type": "stream",
     "text": [
      "GAN: loss d: 4.27653    loss g: -3.05553\n"
     ]
    },
    {
     "name": "stderr",
     "output_type": "stream",
     "text": [
      " 91%|█████████ | 91201/100001 [3:14:40<16:03,  9.13it/s]"
     ]
    },
    {
     "name": "stdout",
     "output_type": "stream",
     "text": [
      "GAN: loss d: 2.64203    loss g: -3.08672\n"
     ]
    },
    {
     "name": "stderr",
     "output_type": "stream",
     "text": [
      " 91%|█████████▏| 91303/100001 [3:14:51<15:17,  9.48it/s]"
     ]
    },
    {
     "name": "stdout",
     "output_type": "stream",
     "text": [
      "GAN: loss d: 4.16396    loss g: -2.05524\n"
     ]
    },
    {
     "name": "stderr",
     "output_type": "stream",
     "text": [
      " 91%|█████████▏| 91401/100001 [3:15:01<15:53,  9.02it/s]"
     ]
    },
    {
     "name": "stdout",
     "output_type": "stream",
     "text": [
      "GAN: loss d: 1.55642    loss g: -3.94987\n"
     ]
    },
    {
     "name": "stderr",
     "output_type": "stream",
     "text": [
      " 92%|█████████▏| 91503/100001 [3:15:12<15:02,  9.42it/s]"
     ]
    },
    {
     "name": "stdout",
     "output_type": "stream",
     "text": [
      "GAN: loss d: 5.09950    loss g: -3.55795\n"
     ]
    },
    {
     "name": "stderr",
     "output_type": "stream",
     "text": [
      " 92%|█████████▏| 91602/100001 [3:15:22<15:13,  9.19it/s]"
     ]
    },
    {
     "name": "stdout",
     "output_type": "stream",
     "text": [
      "GAN: loss d: 5.80058    loss g: -2.02567\n"
     ]
    },
    {
     "name": "stderr",
     "output_type": "stream",
     "text": [
      " 92%|█████████▏| 91701/100001 [3:15:33<15:15,  9.07it/s]"
     ]
    },
    {
     "name": "stdout",
     "output_type": "stream",
     "text": [
      "GAN: loss d: 6.04514    loss g: -2.66896\n"
     ]
    },
    {
     "name": "stderr",
     "output_type": "stream",
     "text": [
      " 92%|█████████▏| 91801/100001 [3:15:43<14:50,  9.21it/s]"
     ]
    },
    {
     "name": "stdout",
     "output_type": "stream",
     "text": [
      "GAN: loss d: 5.99527    loss g: -3.12182\n"
     ]
    },
    {
     "name": "stderr",
     "output_type": "stream",
     "text": [
      " 92%|█████████▏| 91903/100001 [3:15:54<14:18,  9.44it/s]"
     ]
    },
    {
     "name": "stdout",
     "output_type": "stream",
     "text": [
      "GAN: loss d: 3.15368    loss g: -3.03743\n"
     ]
    },
    {
     "name": "stderr",
     "output_type": "stream",
     "text": [
      " 92%|█████████▏| 92000/100001 [3:16:05<14:11,  9.39it/s]"
     ]
    },
    {
     "name": "stdout",
     "output_type": "stream",
     "text": [
      "GAN: loss d: 3.92878    loss g: -2.58254\n",
      "saving current model\n"
     ]
    },
    {
     "name": "stderr",
     "output_type": "stream",
     "text": [
      "\n",
      "  0%|          | 0/175 [00:00<?, ?it/s]\u001b[A"
     ]
    },
    {
     "name": "stdout",
     "output_type": "stream",
     "text": [
      "Number of real images: 5626\n"
     ]
    },
    {
     "name": "stderr",
     "output_type": "stream",
     "text": [
      "\n",
      "\n",
      "  0%|          | 0/15 [00:00<?, ?it/s]\u001b[A\u001b[A"
     ]
    },
    {
     "name": "stdout",
     "output_type": "stream",
     "text": [
      "Number of synthetic images: 500\n"
     ]
    },
    {
     "name": "stderr",
     "output_type": "stream",
     "text": [
      " 92%|█████████▏| 92003/100001 [3:16:25<7:32:21,  3.39s/it] "
     ]
    },
    {
     "name": "stdout",
     "output_type": "stream",
     "text": [
      "Current fid score: 1.5098602366230054\n",
      "Fid scores: [5.176135784826485, 2.49733748630797, 2.556800986640896, 2.551807388342233, 3.0005414208896823, 2.6693746896472135, 2.327712167642524, 2.753024418615748, 1.810803698247632, 1.882469618869699, 2.3049020902006205, 1.2671737770059046, 2.1210468891055463, 2.099174223550225, 2.916100690765896, 3.40813729288425, 3.245391894475338, 3.857025155346646, 3.9987907417992634, 1.1312376693415231, 1.2186857992723503, 1.8961604960656189, 1.639260863742642, 1.4429721571320542, 1.2975153110277695, 1.2989564652328056, 1.2159174147751202, 1.2886615711632565, 1.2749489523852944, 1.2123217476264827, 1.130321950731723, 1.4349116027401223, 1.325705351921183, 0.9511910740117848, 0.7728854208281035, 1.0974412373000142, 1.3230233049879843, 1.456390242262266, 0.9723678173420041, 1.0042308899555294, 1.147213070903458, 1.1264658019655336, 1.0130370458094191, 1.2854713703383176, 1.395702880834726, 1.2354265562601796, 1.1165221470255844, 0.8902281152901743, 0.9371797233348538, 0.961486559589865, 0.9584809289781582, 1.0195113882726083, 1.1121585784748262, 0.8836194939814135, 1.2628025717982325, 1.0003107218338911, 1.0250539841592463, 1.2311716920488536, 0.8466612256589094, 1.062360831083872, 1.2398349309790042, 1.140507671535076, 1.289318961625014, 1.4735660614194437, 1.1830292778583882, 1.0022911738106046, 1.5096925650423003, 1.226437551227427, 1.1657271872429895, 0.9701383217156625, 1.0896116345455056, 1.0267251792278955, 0.8836643175091368, 1.1819464655556082, 1.104178601988096, 1.200262096253411, 1.2101221598331264, 1.1974559710162183, 1.033596938814469, 1.1349501660028807, 1.3865367730111906, 1.2460701708589177, 1.2231399395632643, 1.2734437497427322, 1.573544349616249, 1.1789028514726745, 1.6287133320867149, 1.351215417397892, 0.8958756997499506, 1.3909470958166992, 1.1338990869158856, 1.421767614110518, 1.5098602366230054]\n"
     ]
    },
    {
     "name": "stderr",
     "output_type": "stream",
     "text": [
      "  0%|          | 0/175 [00:18<?, ?it/s]13:45,  9.59it/s]  \n",
      "  0%|          | 0/15 [00:09<?, ?it/s]\n",
      " 92%|█████████▏| 92103/100001 [3:16:36<13:51,  9.50it/s]"
     ]
    },
    {
     "name": "stdout",
     "output_type": "stream",
     "text": [
      "GAN: loss d: 5.65536    loss g: -4.23653\n"
     ]
    },
    {
     "name": "stderr",
     "output_type": "stream",
     "text": [
      " 92%|█████████▏| 92201/100001 [3:16:46<14:06,  9.21it/s]"
     ]
    },
    {
     "name": "stdout",
     "output_type": "stream",
     "text": [
      "GAN: loss d: 3.11023    loss g: -3.14964\n"
     ]
    },
    {
     "name": "stderr",
     "output_type": "stream",
     "text": [
      " 92%|█████████▏| 92302/100001 [3:16:57<13:48,  9.29it/s]"
     ]
    },
    {
     "name": "stdout",
     "output_type": "stream",
     "text": [
      "GAN: loss d: 4.37986    loss g: -3.13121\n"
     ]
    },
    {
     "name": "stderr",
     "output_type": "stream",
     "text": [
      " 92%|█████████▏| 92403/100001 [3:17:08<13:19,  9.50it/s]"
     ]
    },
    {
     "name": "stdout",
     "output_type": "stream",
     "text": [
      "GAN: loss d: 4.69177    loss g: -3.83721\n"
     ]
    },
    {
     "name": "stderr",
     "output_type": "stream",
     "text": [
      " 93%|█████████▎| 92501/100001 [3:17:18<13:56,  8.96it/s]"
     ]
    },
    {
     "name": "stdout",
     "output_type": "stream",
     "text": [
      "GAN: loss d: 4.60689    loss g: -2.61415\n"
     ]
    },
    {
     "name": "stderr",
     "output_type": "stream",
     "text": [
      " 93%|█████████▎| 92603/100001 [3:17:29<12:44,  9.68it/s]"
     ]
    },
    {
     "name": "stdout",
     "output_type": "stream",
     "text": [
      "GAN: loss d: 1.12210    loss g: -2.93650\n"
     ]
    },
    {
     "name": "stderr",
     "output_type": "stream",
     "text": [
      " 93%|█████████▎| 92701/100001 [3:17:39<13:25,  9.06it/s]"
     ]
    },
    {
     "name": "stdout",
     "output_type": "stream",
     "text": [
      "GAN: loss d: 3.99756    loss g: -3.91421\n"
     ]
    },
    {
     "name": "stderr",
     "output_type": "stream",
     "text": [
      " 93%|█████████▎| 92803/100001 [3:17:50<12:37,  9.50it/s]"
     ]
    },
    {
     "name": "stdout",
     "output_type": "stream",
     "text": [
      "GAN: loss d: 4.61768    loss g: -2.51524\n"
     ]
    },
    {
     "name": "stderr",
     "output_type": "stream",
     "text": [
      " 93%|█████████▎| 92903/100001 [3:18:00<12:14,  9.66it/s]"
     ]
    },
    {
     "name": "stdout",
     "output_type": "stream",
     "text": [
      "GAN: loss d: 5.17465    loss g: -3.70987\n"
     ]
    },
    {
     "name": "stderr",
     "output_type": "stream",
     "text": [
      " 93%|█████████▎| 93000/100001 [3:18:11<12:05,  9.65it/s]"
     ]
    },
    {
     "name": "stdout",
     "output_type": "stream",
     "text": [
      "GAN: loss d: 4.45503    loss g: -2.58502\n",
      "saving current model\n"
     ]
    },
    {
     "name": "stderr",
     "output_type": "stream",
     "text": [
      "\n",
      "  0%|          | 0/175 [00:00<?, ?it/s]\u001b[A"
     ]
    },
    {
     "name": "stdout",
     "output_type": "stream",
     "text": [
      "Number of real images: 5626\n"
     ]
    },
    {
     "name": "stderr",
     "output_type": "stream",
     "text": [
      "\n",
      "\n",
      "  0%|          | 0/15 [00:00<?, ?it/s]\u001b[A\u001b[A"
     ]
    },
    {
     "name": "stdout",
     "output_type": "stream",
     "text": [
      "Number of synthetic images: 500\n"
     ]
    },
    {
     "name": "stderr",
     "output_type": "stream",
     "text": [
      " 93%|█████████▎| 93002/100001 [3:18:31<8:33:07,  4.40s/it] "
     ]
    },
    {
     "name": "stdout",
     "output_type": "stream",
     "text": [
      "Current fid score: 1.2181305756263114\n",
      "Fid scores: [5.176135784826485, 2.49733748630797, 2.556800986640896, 2.551807388342233, 3.0005414208896823, 2.6693746896472135, 2.327712167642524, 2.753024418615748, 1.810803698247632, 1.882469618869699, 2.3049020902006205, 1.2671737770059046, 2.1210468891055463, 2.099174223550225, 2.916100690765896, 3.40813729288425, 3.245391894475338, 3.857025155346646, 3.9987907417992634, 1.1312376693415231, 1.2186857992723503, 1.8961604960656189, 1.639260863742642, 1.4429721571320542, 1.2975153110277695, 1.2989564652328056, 1.2159174147751202, 1.2886615711632565, 1.2749489523852944, 1.2123217476264827, 1.130321950731723, 1.4349116027401223, 1.325705351921183, 0.9511910740117848, 0.7728854208281035, 1.0974412373000142, 1.3230233049879843, 1.456390242262266, 0.9723678173420041, 1.0042308899555294, 1.147213070903458, 1.1264658019655336, 1.0130370458094191, 1.2854713703383176, 1.395702880834726, 1.2354265562601796, 1.1165221470255844, 0.8902281152901743, 0.9371797233348538, 0.961486559589865, 0.9584809289781582, 1.0195113882726083, 1.1121585784748262, 0.8836194939814135, 1.2628025717982325, 1.0003107218338911, 1.0250539841592463, 1.2311716920488536, 0.8466612256589094, 1.062360831083872, 1.2398349309790042, 1.140507671535076, 1.289318961625014, 1.4735660614194437, 1.1830292778583882, 1.0022911738106046, 1.5096925650423003, 1.226437551227427, 1.1657271872429895, 0.9701383217156625, 1.0896116345455056, 1.0267251792278955, 0.8836643175091368, 1.1819464655556082, 1.104178601988096, 1.200262096253411, 1.2101221598331264, 1.1974559710162183, 1.033596938814469, 1.1349501660028807, 1.3865367730111906, 1.2460701708589177, 1.2231399395632643, 1.2734437497427322, 1.573544349616249, 1.1789028514726745, 1.6287133320867149, 1.351215417397892, 0.8958756997499506, 1.3909470958166992, 1.1338990869158856, 1.421767614110518, 1.5098602366230054, 1.2181305756263114]\n"
     ]
    },
    {
     "name": "stderr",
     "output_type": "stream",
     "text": [
      "  0%|          | 0/175 [00:14<?, ?it/s]12:23,  9.35it/s]  \n",
      "  0%|          | 0/15 [00:05<?, ?it/s]\n",
      " 93%|█████████▎| 93101/100001 [3:18:42<12:54,  8.91it/s]"
     ]
    },
    {
     "name": "stdout",
     "output_type": "stream",
     "text": [
      "GAN: loss d: 1.57067    loss g: -4.11038\n"
     ]
    },
    {
     "name": "stderr",
     "output_type": "stream",
     "text": [
      " 93%|█████████▎| 93201/100001 [3:18:52<12:20,  9.18it/s]"
     ]
    },
    {
     "name": "stdout",
     "output_type": "stream",
     "text": [
      "GAN: loss d: 4.09848    loss g: -3.58097\n"
     ]
    },
    {
     "name": "stderr",
     "output_type": "stream",
     "text": [
      " 93%|█████████▎| 93303/100001 [3:19:03<11:45,  9.49it/s]"
     ]
    },
    {
     "name": "stdout",
     "output_type": "stream",
     "text": [
      "GAN: loss d: 1.62151    loss g: -3.09034\n"
     ]
    },
    {
     "name": "stderr",
     "output_type": "stream",
     "text": [
      " 93%|█████████▎| 93403/100001 [3:19:14<11:30,  9.56it/s]"
     ]
    },
    {
     "name": "stdout",
     "output_type": "stream",
     "text": [
      "GAN: loss d: 1.12343    loss g: -2.46122\n"
     ]
    },
    {
     "name": "stderr",
     "output_type": "stream",
     "text": [
      " 94%|█████████▎| 93501/100001 [3:19:24<11:52,  9.12it/s]"
     ]
    },
    {
     "name": "stdout",
     "output_type": "stream",
     "text": [
      "GAN: loss d: 2.57180    loss g: -1.81252\n"
     ]
    },
    {
     "name": "stderr",
     "output_type": "stream",
     "text": [
      " 94%|█████████▎| 93603/100001 [3:19:35<11:13,  9.50it/s]"
     ]
    },
    {
     "name": "stdout",
     "output_type": "stream",
     "text": [
      "GAN: loss d: 4.83713    loss g: -2.94185\n"
     ]
    },
    {
     "name": "stderr",
     "output_type": "stream",
     "text": [
      " 94%|█████████▎| 93701/100001 [3:19:45<11:31,  9.11it/s]"
     ]
    },
    {
     "name": "stdout",
     "output_type": "stream",
     "text": [
      "GAN: loss d: 2.00639    loss g: -2.12153\n"
     ]
    },
    {
     "name": "stderr",
     "output_type": "stream",
     "text": [
      " 94%|█████████▍| 93801/100001 [3:19:56<11:21,  9.10it/s]"
     ]
    },
    {
     "name": "stdout",
     "output_type": "stream",
     "text": [
      "GAN: loss d: 2.55778    loss g: -3.75293\n"
     ]
    },
    {
     "name": "stderr",
     "output_type": "stream",
     "text": [
      " 94%|█████████▍| 93901/100001 [3:20:07<11:04,  9.19it/s]"
     ]
    },
    {
     "name": "stdout",
     "output_type": "stream",
     "text": [
      "GAN: loss d: 6.54474    loss g: -2.69393\n"
     ]
    },
    {
     "name": "stderr",
     "output_type": "stream",
     "text": [
      " 94%|█████████▍| 94000/100001 [3:20:17<10:30,  9.52it/s]"
     ]
    },
    {
     "name": "stdout",
     "output_type": "stream",
     "text": [
      "GAN: loss d: 3.80988    loss g: -2.66801\n",
      "saving current model\n"
     ]
    },
    {
     "name": "stderr",
     "output_type": "stream",
     "text": [
      "\n",
      "  0%|          | 0/175 [00:00<?, ?it/s]\u001b[A"
     ]
    },
    {
     "name": "stdout",
     "output_type": "stream",
     "text": [
      "Number of real images: 5626\n"
     ]
    },
    {
     "name": "stderr",
     "output_type": "stream",
     "text": [
      "\n",
      "\n",
      "  0%|          | 0/15 [00:00<?, ?it/s]\u001b[A\u001b[A"
     ]
    },
    {
     "name": "stdout",
     "output_type": "stream",
     "text": [
      "Number of synthetic images: 500\n"
     ]
    },
    {
     "name": "stderr",
     "output_type": "stream",
     "text": [
      " 94%|█████████▍| 94001/100001 [3:20:38<10:27:39,  6.28s/it]"
     ]
    },
    {
     "name": "stdout",
     "output_type": "stream",
     "text": [
      "Current fid score: 1.4075414010235718\n",
      "Fid scores: [5.176135784826485, 2.49733748630797, 2.556800986640896, 2.551807388342233, 3.0005414208896823, 2.6693746896472135, 2.327712167642524, 2.753024418615748, 1.810803698247632, 1.882469618869699, 2.3049020902006205, 1.2671737770059046, 2.1210468891055463, 2.099174223550225, 2.916100690765896, 3.40813729288425, 3.245391894475338, 3.857025155346646, 3.9987907417992634, 1.1312376693415231, 1.2186857992723503, 1.8961604960656189, 1.639260863742642, 1.4429721571320542, 1.2975153110277695, 1.2989564652328056, 1.2159174147751202, 1.2886615711632565, 1.2749489523852944, 1.2123217476264827, 1.130321950731723, 1.4349116027401223, 1.325705351921183, 0.9511910740117848, 0.7728854208281035, 1.0974412373000142, 1.3230233049879843, 1.456390242262266, 0.9723678173420041, 1.0042308899555294, 1.147213070903458, 1.1264658019655336, 1.0130370458094191, 1.2854713703383176, 1.395702880834726, 1.2354265562601796, 1.1165221470255844, 0.8902281152901743, 0.9371797233348538, 0.961486559589865, 0.9584809289781582, 1.0195113882726083, 1.1121585784748262, 0.8836194939814135, 1.2628025717982325, 1.0003107218338911, 1.0250539841592463, 1.2311716920488536, 0.8466612256589094, 1.062360831083872, 1.2398349309790042, 1.140507671535076, 1.289318961625014, 1.4735660614194437, 1.1830292778583882, 1.0022911738106046, 1.5096925650423003, 1.226437551227427, 1.1657271872429895, 0.9701383217156625, 1.0896116345455056, 1.0267251792278955, 0.8836643175091368, 1.1819464655556082, 1.104178601988096, 1.200262096253411, 1.2101221598331264, 1.1974559710162183, 1.033596938814469, 1.1349501660028807, 1.3865367730111906, 1.2460701708589177, 1.2231399395632643, 1.2734437497427322, 1.573544349616249, 1.1789028514726745, 1.6287133320867149, 1.351215417397892, 0.8958756997499506, 1.3909470958166992, 1.1338990869158856, 1.421767614110518, 1.5098602366230054, 1.2181305756263114, 1.4075414010235718]\n"
     ]
    },
    {
     "name": "stderr",
     "output_type": "stream",
     "text": [
      "  0%|          | 0/175 [00:10<?, ?it/s]45:24,  2.20it/s]   \n",
      "  0%|          | 0/15 [00:01<?, ?it/s]\n",
      " 94%|█████████▍| 94103/100001 [3:20:49<10:17,  9.56it/s]"
     ]
    },
    {
     "name": "stdout",
     "output_type": "stream",
     "text": [
      "GAN: loss d: 5.73998    loss g: -3.38553\n"
     ]
    },
    {
     "name": "stderr",
     "output_type": "stream",
     "text": [
      " 94%|█████████▍| 94203/100001 [3:20:59<10:08,  9.53it/s]"
     ]
    },
    {
     "name": "stdout",
     "output_type": "stream",
     "text": [
      "GAN: loss d: 5.48841    loss g: -3.26420\n"
     ]
    },
    {
     "name": "stderr",
     "output_type": "stream",
     "text": [
      " 94%|█████████▍| 94303/100001 [3:21:10<09:53,  9.61it/s]"
     ]
    },
    {
     "name": "stdout",
     "output_type": "stream",
     "text": [
      "GAN: loss d: 4.19804    loss g: -2.43466\n"
     ]
    },
    {
     "name": "stderr",
     "output_type": "stream",
     "text": [
      " 94%|█████████▍| 94401/100001 [3:21:20<10:20,  9.03it/s]"
     ]
    },
    {
     "name": "stdout",
     "output_type": "stream",
     "text": [
      "GAN: loss d: 5.68923    loss g: -2.87031\n"
     ]
    },
    {
     "name": "stderr",
     "output_type": "stream",
     "text": [
      " 95%|█████████▍| 94503/100001 [3:21:31<09:39,  9.48it/s]"
     ]
    },
    {
     "name": "stdout",
     "output_type": "stream",
     "text": [
      "GAN: loss d: 7.38595    loss g: -3.27910\n"
     ]
    },
    {
     "name": "stderr",
     "output_type": "stream",
     "text": [
      " 95%|█████████▍| 94601/100001 [3:21:41<09:51,  9.12it/s]"
     ]
    },
    {
     "name": "stdout",
     "output_type": "stream",
     "text": [
      "GAN: loss d: 6.10782    loss g: -3.09252\n"
     ]
    },
    {
     "name": "stderr",
     "output_type": "stream",
     "text": [
      " 95%|█████████▍| 94703/100001 [3:21:52<09:23,  9.40it/s]"
     ]
    },
    {
     "name": "stdout",
     "output_type": "stream",
     "text": [
      "GAN: loss d: 2.40388    loss g: -4.78632\n"
     ]
    },
    {
     "name": "stderr",
     "output_type": "stream",
     "text": [
      " 95%|█████████▍| 94801/100001 [3:22:02<09:27,  9.17it/s]"
     ]
    },
    {
     "name": "stdout",
     "output_type": "stream",
     "text": [
      "GAN: loss d: 3.66408    loss g: -3.03979\n"
     ]
    },
    {
     "name": "stderr",
     "output_type": "stream",
     "text": [
      " 95%|█████████▍| 94903/100001 [3:22:13<08:55,  9.51it/s]"
     ]
    },
    {
     "name": "stdout",
     "output_type": "stream",
     "text": [
      "GAN: loss d: 5.17559    loss g: -2.63012\n"
     ]
    },
    {
     "name": "stderr",
     "output_type": "stream",
     "text": [
      " 95%|█████████▍| 95000/100001 [3:22:23<08:52,  9.40it/s]"
     ]
    },
    {
     "name": "stdout",
     "output_type": "stream",
     "text": [
      "GAN: loss d: 4.18914    loss g: -2.39649\n",
      "saving current model\n"
     ]
    },
    {
     "name": "stderr",
     "output_type": "stream",
     "text": [
      "\n",
      "  0%|          | 0/175 [00:00<?, ?it/s]\u001b[A"
     ]
    },
    {
     "name": "stdout",
     "output_type": "stream",
     "text": [
      "Number of real images: 5626\n"
     ]
    },
    {
     "name": "stderr",
     "output_type": "stream",
     "text": [
      "\n",
      "\n",
      "  0%|          | 0/15 [00:00<?, ?it/s]\u001b[A\u001b[A"
     ]
    },
    {
     "name": "stdout",
     "output_type": "stream",
     "text": [
      "Number of synthetic images: 500\n"
     ]
    },
    {
     "name": "stderr",
     "output_type": "stream",
     "text": [
      " 95%|█████████▌| 95003/100001 [3:22:44<4:41:36,  3.38s/it]"
     ]
    },
    {
     "name": "stdout",
     "output_type": "stream",
     "text": [
      "Current fid score: 1.0315660954568315\n",
      "Fid scores: [5.176135784826485, 2.49733748630797, 2.556800986640896, 2.551807388342233, 3.0005414208896823, 2.6693746896472135, 2.327712167642524, 2.753024418615748, 1.810803698247632, 1.882469618869699, 2.3049020902006205, 1.2671737770059046, 2.1210468891055463, 2.099174223550225, 2.916100690765896, 3.40813729288425, 3.245391894475338, 3.857025155346646, 3.9987907417992634, 1.1312376693415231, 1.2186857992723503, 1.8961604960656189, 1.639260863742642, 1.4429721571320542, 1.2975153110277695, 1.2989564652328056, 1.2159174147751202, 1.2886615711632565, 1.2749489523852944, 1.2123217476264827, 1.130321950731723, 1.4349116027401223, 1.325705351921183, 0.9511910740117848, 0.7728854208281035, 1.0974412373000142, 1.3230233049879843, 1.456390242262266, 0.9723678173420041, 1.0042308899555294, 1.147213070903458, 1.1264658019655336, 1.0130370458094191, 1.2854713703383176, 1.395702880834726, 1.2354265562601796, 1.1165221470255844, 0.8902281152901743, 0.9371797233348538, 0.961486559589865, 0.9584809289781582, 1.0195113882726083, 1.1121585784748262, 0.8836194939814135, 1.2628025717982325, 1.0003107218338911, 1.0250539841592463, 1.2311716920488536, 0.8466612256589094, 1.062360831083872, 1.2398349309790042, 1.140507671535076, 1.289318961625014, 1.4735660614194437, 1.1830292778583882, 1.0022911738106046, 1.5096925650423003, 1.226437551227427, 1.1657271872429895, 0.9701383217156625, 1.0896116345455056, 1.0267251792278955, 0.8836643175091368, 1.1819464655556082, 1.104178601988096, 1.200262096253411, 1.2101221598331264, 1.1974559710162183, 1.033596938814469, 1.1349501660028807, 1.3865367730111906, 1.2460701708589177, 1.2231399395632643, 1.2734437497427322, 1.573544349616249, 1.1789028514726745, 1.6287133320867149, 1.351215417397892, 0.8958756997499506, 1.3909470958166992, 1.1338990869158856, 1.421767614110518, 1.5098602366230054, 1.2181305756263114, 1.4075414010235718, 1.0315660954568315]\n"
     ]
    },
    {
     "name": "stderr",
     "output_type": "stream",
     "text": [
      "  0%|          | 0/175 [00:18<?, ?it/s]08:37,  9.50it/s]  \n",
      "  0%|          | 0/15 [00:09<?, ?it/s]\n",
      " 95%|█████████▌| 95101/100001 [3:22:54<08:52,  9.20it/s]"
     ]
    },
    {
     "name": "stdout",
     "output_type": "stream",
     "text": [
      "GAN: loss d: 2.47861    loss g: -2.85026\n"
     ]
    },
    {
     "name": "stderr",
     "output_type": "stream",
     "text": [
      " 95%|█████████▌| 95201/100001 [3:23:05<08:57,  8.93it/s]"
     ]
    },
    {
     "name": "stdout",
     "output_type": "stream",
     "text": [
      "GAN: loss d: 2.42182    loss g: -3.69382\n"
     ]
    },
    {
     "name": "stderr",
     "output_type": "stream",
     "text": [
      " 95%|█████████▌| 95301/100001 [3:23:16<08:37,  9.09it/s]"
     ]
    },
    {
     "name": "stdout",
     "output_type": "stream",
     "text": [
      "GAN: loss d: 3.75319    loss g: -3.70618\n"
     ]
    },
    {
     "name": "stderr",
     "output_type": "stream",
     "text": [
      " 95%|█████████▌| 95401/100001 [3:23:26<08:31,  8.99it/s]"
     ]
    },
    {
     "name": "stdout",
     "output_type": "stream",
     "text": [
      "GAN: loss d: 5.24609    loss g: -4.18163\n"
     ]
    },
    {
     "name": "stderr",
     "output_type": "stream",
     "text": [
      " 96%|█████████▌| 95501/100001 [3:23:37<08:14,  9.10it/s]"
     ]
    },
    {
     "name": "stdout",
     "output_type": "stream",
     "text": [
      "GAN: loss d: 3.56442    loss g: -3.80151\n"
     ]
    },
    {
     "name": "stderr",
     "output_type": "stream",
     "text": [
      " 96%|█████████▌| 95603/100001 [3:23:48<07:38,  9.59it/s]"
     ]
    },
    {
     "name": "stdout",
     "output_type": "stream",
     "text": [
      "GAN: loss d: 5.71975    loss g: -4.26572\n"
     ]
    },
    {
     "name": "stderr",
     "output_type": "stream",
     "text": [
      " 96%|█████████▌| 95703/100001 [3:23:58<07:30,  9.54it/s]"
     ]
    },
    {
     "name": "stdout",
     "output_type": "stream",
     "text": [
      "GAN: loss d: 4.97375    loss g: -4.23050\n"
     ]
    },
    {
     "name": "stderr",
     "output_type": "stream",
     "text": [
      " 96%|█████████▌| 95803/100001 [3:24:09<07:15,  9.65it/s]"
     ]
    },
    {
     "name": "stdout",
     "output_type": "stream",
     "text": [
      "GAN: loss d: 4.72085    loss g: -3.56858\n"
     ]
    },
    {
     "name": "stderr",
     "output_type": "stream",
     "text": [
      " 96%|█████████▌| 95903/100001 [3:24:19<07:07,  9.59it/s]"
     ]
    },
    {
     "name": "stdout",
     "output_type": "stream",
     "text": [
      "GAN: loss d: -0.17787    loss g: -1.16155\n"
     ]
    },
    {
     "name": "stderr",
     "output_type": "stream",
     "text": [
      " 96%|█████████▌| 96000/100001 [3:24:30<07:08,  9.35it/s]"
     ]
    },
    {
     "name": "stdout",
     "output_type": "stream",
     "text": [
      "GAN: loss d: 2.69838    loss g: -2.18801\n",
      "saving current model\n"
     ]
    },
    {
     "name": "stderr",
     "output_type": "stream",
     "text": [
      "\n",
      "  0%|          | 0/175 [00:00<?, ?it/s]\u001b[A"
     ]
    },
    {
     "name": "stdout",
     "output_type": "stream",
     "text": [
      "Number of real images: 5626\n"
     ]
    },
    {
     "name": "stderr",
     "output_type": "stream",
     "text": [
      "\n",
      "\n",
      "  0%|          | 0/15 [00:00<?, ?it/s]\u001b[A\u001b[A"
     ]
    },
    {
     "name": "stdout",
     "output_type": "stream",
     "text": [
      "Number of synthetic images: 500\n"
     ]
    },
    {
     "name": "stderr",
     "output_type": "stream",
     "text": [
      " 96%|█████████▌| 96002/100001 [3:24:50<4:53:12,  4.40s/it]"
     ]
    },
    {
     "name": "stdout",
     "output_type": "stream",
     "text": [
      "Current fid score: 1.8026212086850109\n",
      "Fid scores: [5.176135784826485, 2.49733748630797, 2.556800986640896, 2.551807388342233, 3.0005414208896823, 2.6693746896472135, 2.327712167642524, 2.753024418615748, 1.810803698247632, 1.882469618869699, 2.3049020902006205, 1.2671737770059046, 2.1210468891055463, 2.099174223550225, 2.916100690765896, 3.40813729288425, 3.245391894475338, 3.857025155346646, 3.9987907417992634, 1.1312376693415231, 1.2186857992723503, 1.8961604960656189, 1.639260863742642, 1.4429721571320542, 1.2975153110277695, 1.2989564652328056, 1.2159174147751202, 1.2886615711632565, 1.2749489523852944, 1.2123217476264827, 1.130321950731723, 1.4349116027401223, 1.325705351921183, 0.9511910740117848, 0.7728854208281035, 1.0974412373000142, 1.3230233049879843, 1.456390242262266, 0.9723678173420041, 1.0042308899555294, 1.147213070903458, 1.1264658019655336, 1.0130370458094191, 1.2854713703383176, 1.395702880834726, 1.2354265562601796, 1.1165221470255844, 0.8902281152901743, 0.9371797233348538, 0.961486559589865, 0.9584809289781582, 1.0195113882726083, 1.1121585784748262, 0.8836194939814135, 1.2628025717982325, 1.0003107218338911, 1.0250539841592463, 1.2311716920488536, 0.8466612256589094, 1.062360831083872, 1.2398349309790042, 1.140507671535076, 1.289318961625014, 1.4735660614194437, 1.1830292778583882, 1.0022911738106046, 1.5096925650423003, 1.226437551227427, 1.1657271872429895, 0.9701383217156625, 1.0896116345455056, 1.0267251792278955, 0.8836643175091368, 1.1819464655556082, 1.104178601988096, 1.200262096253411, 1.2101221598331264, 1.1974559710162183, 1.033596938814469, 1.1349501660028807, 1.3865367730111906, 1.2460701708589177, 1.2231399395632643, 1.2734437497427322, 1.573544349616249, 1.1789028514726745, 1.6287133320867149, 1.351215417397892, 0.8958756997499506, 1.3909470958166992, 1.1338990869158856, 1.421767614110518, 1.5098602366230054, 1.2181305756263114, 1.4075414010235718, 1.0315660954568315, 1.8026212086850109]\n"
     ]
    },
    {
     "name": "stderr",
     "output_type": "stream",
     "text": [
      "  0%|          | 0/175 [00:15<?, ?it/s]06:56,  9.48it/s]  \n",
      "  0%|          | 0/15 [00:06<?, ?it/s]\n",
      " 96%|█████████▌| 96101/100001 [3:25:01<07:07,  9.12it/s]"
     ]
    },
    {
     "name": "stdout",
     "output_type": "stream",
     "text": [
      "GAN: loss d: 4.35393    loss g: -4.19825\n"
     ]
    },
    {
     "name": "stderr",
     "output_type": "stream",
     "text": [
      " 96%|█████████▌| 96201/100001 [3:25:11<07:14,  8.75it/s]"
     ]
    },
    {
     "name": "stdout",
     "output_type": "stream",
     "text": [
      "GAN: loss d: 4.84499    loss g: -2.67310\n"
     ]
    },
    {
     "name": "stderr",
     "output_type": "stream",
     "text": [
      " 96%|█████████▋| 96303/100001 [3:25:22<06:26,  9.58it/s]"
     ]
    },
    {
     "name": "stdout",
     "output_type": "stream",
     "text": [
      "GAN: loss d: 0.53012    loss g: -4.07751\n"
     ]
    },
    {
     "name": "stderr",
     "output_type": "stream",
     "text": [
      " 96%|█████████▋| 96403/100001 [3:25:33<06:17,  9.53it/s]"
     ]
    },
    {
     "name": "stdout",
     "output_type": "stream",
     "text": [
      "GAN: loss d: 4.28584    loss g: -4.46273\n"
     ]
    },
    {
     "name": "stderr",
     "output_type": "stream",
     "text": [
      " 97%|█████████▋| 96501/100001 [3:25:43<06:25,  9.08it/s]"
     ]
    },
    {
     "name": "stdout",
     "output_type": "stream",
     "text": [
      "GAN: loss d: 2.03330    loss g: -1.72720\n"
     ]
    },
    {
     "name": "stderr",
     "output_type": "stream",
     "text": [
      " 97%|█████████▋| 96601/100001 [3:25:54<06:12,  9.14it/s]"
     ]
    },
    {
     "name": "stdout",
     "output_type": "stream",
     "text": [
      "GAN: loss d: 3.92934    loss g: -3.84460\n"
     ]
    },
    {
     "name": "stderr",
     "output_type": "stream",
     "text": [
      " 97%|█████████▋| 96703/100001 [3:26:05<05:43,  9.60it/s]"
     ]
    },
    {
     "name": "stdout",
     "output_type": "stream",
     "text": [
      "GAN: loss d: 3.52376    loss g: -3.79298\n"
     ]
    },
    {
     "name": "stderr",
     "output_type": "stream",
     "text": [
      " 97%|█████████▋| 96803/100001 [3:26:15<05:32,  9.61it/s]"
     ]
    },
    {
     "name": "stdout",
     "output_type": "stream",
     "text": [
      "GAN: loss d: 5.84193    loss g: -2.79470\n"
     ]
    },
    {
     "name": "stderr",
     "output_type": "stream",
     "text": [
      " 97%|█████████▋| 96901/100001 [3:26:26<05:41,  9.08it/s]"
     ]
    },
    {
     "name": "stdout",
     "output_type": "stream",
     "text": [
      "GAN: loss d: 2.13206    loss g: -1.31341\n"
     ]
    },
    {
     "name": "stderr",
     "output_type": "stream",
     "text": [
      " 97%|█████████▋| 97000/100001 [3:26:36<05:23,  9.28it/s]"
     ]
    },
    {
     "name": "stdout",
     "output_type": "stream",
     "text": [
      "GAN: loss d: 5.72230    loss g: -3.32850\n",
      "saving current model\n"
     ]
    },
    {
     "name": "stderr",
     "output_type": "stream",
     "text": [
      "\n",
      "  0%|          | 0/175 [00:00<?, ?it/s]\u001b[A"
     ]
    },
    {
     "name": "stdout",
     "output_type": "stream",
     "text": [
      "Number of real images: 5626\n"
     ]
    },
    {
     "name": "stderr",
     "output_type": "stream",
     "text": [
      "\n",
      "\n",
      "  0%|          | 0/15 [00:00<?, ?it/s]\u001b[A\u001b[A"
     ]
    },
    {
     "name": "stdout",
     "output_type": "stream",
     "text": [
      "Number of synthetic images: 500\n"
     ]
    },
    {
     "name": "stderr",
     "output_type": "stream",
     "text": [
      " 97%|█████████▋| 97001/100001 [3:26:56<5:09:19,  6.19s/it]"
     ]
    },
    {
     "name": "stdout",
     "output_type": "stream",
     "text": [
      "Current fid score: 1.4862245544289685\n",
      "Fid scores: [5.176135784826485, 2.49733748630797, 2.556800986640896, 2.551807388342233, 3.0005414208896823, 2.6693746896472135, 2.327712167642524, 2.753024418615748, 1.810803698247632, 1.882469618869699, 2.3049020902006205, 1.2671737770059046, 2.1210468891055463, 2.099174223550225, 2.916100690765896, 3.40813729288425, 3.245391894475338, 3.857025155346646, 3.9987907417992634, 1.1312376693415231, 1.2186857992723503, 1.8961604960656189, 1.639260863742642, 1.4429721571320542, 1.2975153110277695, 1.2989564652328056, 1.2159174147751202, 1.2886615711632565, 1.2749489523852944, 1.2123217476264827, 1.130321950731723, 1.4349116027401223, 1.325705351921183, 0.9511910740117848, 0.7728854208281035, 1.0974412373000142, 1.3230233049879843, 1.456390242262266, 0.9723678173420041, 1.0042308899555294, 1.147213070903458, 1.1264658019655336, 1.0130370458094191, 1.2854713703383176, 1.395702880834726, 1.2354265562601796, 1.1165221470255844, 0.8902281152901743, 0.9371797233348538, 0.961486559589865, 0.9584809289781582, 1.0195113882726083, 1.1121585784748262, 0.8836194939814135, 1.2628025717982325, 1.0003107218338911, 1.0250539841592463, 1.2311716920488536, 0.8466612256589094, 1.062360831083872, 1.2398349309790042, 1.140507671535076, 1.289318961625014, 1.4735660614194437, 1.1830292778583882, 1.0022911738106046, 1.5096925650423003, 1.226437551227427, 1.1657271872429895, 0.9701383217156625, 1.0896116345455056, 1.0267251792278955, 0.8836643175091368, 1.1819464655556082, 1.104178601988096, 1.200262096253411, 1.2101221598331264, 1.1974559710162183, 1.033596938814469, 1.1349501660028807, 1.3865367730111906, 1.2460701708589177, 1.2231399395632643, 1.2734437497427322, 1.573544349616249, 1.1789028514726745, 1.6287133320867149, 1.351215417397892, 0.8958756997499506, 1.3909470958166992, 1.1338990869158856, 1.421767614110518, 1.5098602366230054, 1.2181305756263114, 1.4075414010235718, 1.0315660954568315, 1.8026212086850109, 1.4862245544289685]\n"
     ]
    },
    {
     "name": "stderr",
     "output_type": "stream",
     "text": [
      "  0%|          | 0/15 [00:04<?, ?it/s]<05:10,  9.53it/s]  \n",
      " 97%|█████████▋| 97101/100001 [3:27:07<05:18,  9.10it/s]"
     ]
    },
    {
     "name": "stdout",
     "output_type": "stream",
     "text": [
      "GAN: loss d: 2.01769    loss g: -2.28296\n"
     ]
    },
    {
     "name": "stderr",
     "output_type": "stream",
     "text": [
      " 97%|█████████▋| 97201/100001 [3:27:18<05:10,  9.01it/s]"
     ]
    },
    {
     "name": "stdout",
     "output_type": "stream",
     "text": [
      "GAN: loss d: 5.02474    loss g: -3.24599\n"
     ]
    },
    {
     "name": "stderr",
     "output_type": "stream",
     "text": [
      " 97%|█████████▋| 97301/100001 [3:27:28<04:55,  9.13it/s]"
     ]
    },
    {
     "name": "stdout",
     "output_type": "stream",
     "text": [
      "GAN: loss d: 1.94708    loss g: -2.22460\n"
     ]
    },
    {
     "name": "stderr",
     "output_type": "stream",
     "text": [
      " 97%|█████████▋| 97403/100001 [3:27:39<04:32,  9.54it/s]"
     ]
    },
    {
     "name": "stdout",
     "output_type": "stream",
     "text": [
      "GAN: loss d: 4.17084    loss g: -2.66743\n"
     ]
    },
    {
     "name": "stderr",
     "output_type": "stream",
     "text": [
      " 98%|█████████▊| 97501/100001 [3:27:49<04:37,  9.01it/s]"
     ]
    },
    {
     "name": "stdout",
     "output_type": "stream",
     "text": [
      "GAN: loss d: 2.15617    loss g: -2.15451\n"
     ]
    },
    {
     "name": "stderr",
     "output_type": "stream",
     "text": [
      " 98%|█████████▊| 97603/100001 [3:28:00<04:08,  9.65it/s]"
     ]
    },
    {
     "name": "stdout",
     "output_type": "stream",
     "text": [
      "GAN: loss d: 2.93037    loss g: -1.75800\n"
     ]
    },
    {
     "name": "stderr",
     "output_type": "stream",
     "text": [
      " 98%|█████████▊| 97703/100001 [3:28:11<03:58,  9.62it/s]"
     ]
    },
    {
     "name": "stdout",
     "output_type": "stream",
     "text": [
      "GAN: loss d: 4.97171    loss g: -1.96494\n"
     ]
    },
    {
     "name": "stderr",
     "output_type": "stream",
     "text": [
      " 98%|█████████▊| 97801/100001 [3:28:21<04:05,  8.98it/s]"
     ]
    },
    {
     "name": "stdout",
     "output_type": "stream",
     "text": [
      "GAN: loss d: 3.29178    loss g: -3.09930\n"
     ]
    },
    {
     "name": "stderr",
     "output_type": "stream",
     "text": [
      " 98%|█████████▊| 97901/100001 [3:28:32<03:50,  9.10it/s]"
     ]
    },
    {
     "name": "stdout",
     "output_type": "stream",
     "text": [
      "GAN: loss d: 3.72243    loss g: -3.31784\n"
     ]
    },
    {
     "name": "stderr",
     "output_type": "stream",
     "text": [
      "  0%|          | 0/175 [01:55<?, ?it/s]03:31,  9.46it/s]\n"
     ]
    },
    {
     "name": "stdout",
     "output_type": "stream",
     "text": [
      "GAN: loss d: 2.43389    loss g: -2.95768\n",
      "saving current model\n"
     ]
    },
    {
     "name": "stderr",
     "output_type": "stream",
     "text": [
      "\n",
      "  0%|          | 0/175 [00:00<?, ?it/s]\u001b[A"
     ]
    },
    {
     "name": "stdout",
     "output_type": "stream",
     "text": [
      "Number of real images: 5626\n"
     ]
    },
    {
     "name": "stderr",
     "output_type": "stream",
     "text": [
      "\n",
      "\n",
      "  0%|          | 0/15 [00:00<?, ?it/s]\u001b[A\u001b[A"
     ]
    },
    {
     "name": "stdout",
     "output_type": "stream",
     "text": [
      "Number of synthetic images: 500\n"
     ]
    },
    {
     "name": "stderr",
     "output_type": "stream",
     "text": [
      " 98%|█████████▊| 98002/100001 [3:29:03<2:26:39,  4.40s/it]"
     ]
    },
    {
     "name": "stdout",
     "output_type": "stream",
     "text": [
      "Current fid score: 1.579376227556768\n",
      "Fid scores: [5.176135784826485, 2.49733748630797, 2.556800986640896, 2.551807388342233, 3.0005414208896823, 2.6693746896472135, 2.327712167642524, 2.753024418615748, 1.810803698247632, 1.882469618869699, 2.3049020902006205, 1.2671737770059046, 2.1210468891055463, 2.099174223550225, 2.916100690765896, 3.40813729288425, 3.245391894475338, 3.857025155346646, 3.9987907417992634, 1.1312376693415231, 1.2186857992723503, 1.8961604960656189, 1.639260863742642, 1.4429721571320542, 1.2975153110277695, 1.2989564652328056, 1.2159174147751202, 1.2886615711632565, 1.2749489523852944, 1.2123217476264827, 1.130321950731723, 1.4349116027401223, 1.325705351921183, 0.9511910740117848, 0.7728854208281035, 1.0974412373000142, 1.3230233049879843, 1.456390242262266, 0.9723678173420041, 1.0042308899555294, 1.147213070903458, 1.1264658019655336, 1.0130370458094191, 1.2854713703383176, 1.395702880834726, 1.2354265562601796, 1.1165221470255844, 0.8902281152901743, 0.9371797233348538, 0.961486559589865, 0.9584809289781582, 1.0195113882726083, 1.1121585784748262, 0.8836194939814135, 1.2628025717982325, 1.0003107218338911, 1.0250539841592463, 1.2311716920488536, 0.8466612256589094, 1.062360831083872, 1.2398349309790042, 1.140507671535076, 1.289318961625014, 1.4735660614194437, 1.1830292778583882, 1.0022911738106046, 1.5096925650423003, 1.226437551227427, 1.1657271872429895, 0.9701383217156625, 1.0896116345455056, 1.0267251792278955, 0.8836643175091368, 1.1819464655556082, 1.104178601988096, 1.200262096253411, 1.2101221598331264, 1.1974559710162183, 1.033596938814469, 1.1349501660028807, 1.3865367730111906, 1.2460701708589177, 1.2231399395632643, 1.2734437497427322, 1.573544349616249, 1.1789028514726745, 1.6287133320867149, 1.351215417397892, 0.8958756997499506, 1.3909470958166992, 1.1338990869158856, 1.421767614110518, 1.5098602366230054, 1.2181305756263114, 1.4075414010235718, 1.0315660954568315, 1.8026212086850109, 1.4862245544289685, 1.579376227556768]\n"
     ]
    },
    {
     "name": "stderr",
     "output_type": "stream",
     "text": [
      "  0%|          | 0/175 [00:11<?, ?it/s]06:20,  5.23it/s]  \n",
      "  0%|          | 0/15 [00:02<?, ?it/s]\n",
      " 98%|█████████▊| 98103/100001 [3:29:14<03:17,  9.63it/s]"
     ]
    },
    {
     "name": "stdout",
     "output_type": "stream",
     "text": [
      "GAN: loss d: 4.91852    loss g: -3.03900\n"
     ]
    },
    {
     "name": "stderr",
     "output_type": "stream",
     "text": [
      " 98%|█████████▊| 98203/100001 [3:29:24<03:08,  9.54it/s]"
     ]
    },
    {
     "name": "stdout",
     "output_type": "stream",
     "text": [
      "GAN: loss d: 4.63062    loss g: -2.64720\n"
     ]
    },
    {
     "name": "stderr",
     "output_type": "stream",
     "text": [
      " 98%|█████████▊| 98301/100001 [3:29:35<03:08,  9.04it/s]"
     ]
    },
    {
     "name": "stdout",
     "output_type": "stream",
     "text": [
      "GAN: loss d: 5.75260    loss g: -2.34849\n"
     ]
    },
    {
     "name": "stderr",
     "output_type": "stream",
     "text": [
      " 98%|█████████▊| 98401/100001 [3:29:45<02:54,  9.16it/s]"
     ]
    },
    {
     "name": "stdout",
     "output_type": "stream",
     "text": [
      "GAN: loss d: 3.21446    loss g: -3.74361\n"
     ]
    },
    {
     "name": "stderr",
     "output_type": "stream",
     "text": [
      " 99%|█████████▊| 98501/100001 [3:29:56<02:46,  9.00it/s]"
     ]
    },
    {
     "name": "stdout",
     "output_type": "stream",
     "text": [
      "GAN: loss d: 5.11998    loss g: -3.22564\n"
     ]
    },
    {
     "name": "stderr",
     "output_type": "stream",
     "text": [
      " 99%|█████████▊| 98601/100001 [3:30:07<02:35,  9.03it/s]"
     ]
    },
    {
     "name": "stdout",
     "output_type": "stream",
     "text": [
      "GAN: loss d: 3.46245    loss g: -2.52809\n"
     ]
    },
    {
     "name": "stderr",
     "output_type": "stream",
     "text": [
      " 99%|█████████▊| 98703/100001 [3:30:17<02:16,  9.53it/s]"
     ]
    },
    {
     "name": "stdout",
     "output_type": "stream",
     "text": [
      "GAN: loss d: 6.91537    loss g: -3.44609\n"
     ]
    },
    {
     "name": "stderr",
     "output_type": "stream",
     "text": [
      " 99%|█████████▉| 98803/100001 [3:30:28<02:04,  9.61it/s]"
     ]
    },
    {
     "name": "stdout",
     "output_type": "stream",
     "text": [
      "GAN: loss d: 3.21126    loss g: -2.51249\n"
     ]
    },
    {
     "name": "stderr",
     "output_type": "stream",
     "text": [
      " 99%|█████████▉| 98901/100001 [3:30:38<02:03,  8.93it/s]"
     ]
    },
    {
     "name": "stdout",
     "output_type": "stream",
     "text": [
      "GAN: loss d: 2.05435    loss g: -2.85477\n"
     ]
    },
    {
     "name": "stderr",
     "output_type": "stream",
     "text": [
      " 99%|█████████▉| 99000/100001 [3:30:49<01:46,  9.43it/s]"
     ]
    },
    {
     "name": "stdout",
     "output_type": "stream",
     "text": [
      "GAN: loss d: 5.27731    loss g: -2.22827\n",
      "saving current model\n"
     ]
    },
    {
     "name": "stderr",
     "output_type": "stream",
     "text": [
      "\n",
      "  0%|          | 0/175 [00:00<?, ?it/s]\u001b[A"
     ]
    },
    {
     "name": "stdout",
     "output_type": "stream",
     "text": [
      "Number of real images: 5626\n"
     ]
    },
    {
     "name": "stderr",
     "output_type": "stream",
     "text": [
      "\n",
      "\n",
      "  0%|          | 0/15 [00:00<?, ?it/s]\u001b[A\u001b[A"
     ]
    },
    {
     "name": "stdout",
     "output_type": "stream",
     "text": [
      "Number of synthetic images: 500\n"
     ]
    },
    {
     "name": "stderr",
     "output_type": "stream",
     "text": [
      " 99%|█████████▉| 99003/100001 [3:31:09<56:30,  3.40s/it]  "
     ]
    },
    {
     "name": "stdout",
     "output_type": "stream",
     "text": [
      "Current fid score: 1.4029614524390404\n",
      "Fid scores: [5.176135784826485, 2.49733748630797, 2.556800986640896, 2.551807388342233, 3.0005414208896823, 2.6693746896472135, 2.327712167642524, 2.753024418615748, 1.810803698247632, 1.882469618869699, 2.3049020902006205, 1.2671737770059046, 2.1210468891055463, 2.099174223550225, 2.916100690765896, 3.40813729288425, 3.245391894475338, 3.857025155346646, 3.9987907417992634, 1.1312376693415231, 1.2186857992723503, 1.8961604960656189, 1.639260863742642, 1.4429721571320542, 1.2975153110277695, 1.2989564652328056, 1.2159174147751202, 1.2886615711632565, 1.2749489523852944, 1.2123217476264827, 1.130321950731723, 1.4349116027401223, 1.325705351921183, 0.9511910740117848, 0.7728854208281035, 1.0974412373000142, 1.3230233049879843, 1.456390242262266, 0.9723678173420041, 1.0042308899555294, 1.147213070903458, 1.1264658019655336, 1.0130370458094191, 1.2854713703383176, 1.395702880834726, 1.2354265562601796, 1.1165221470255844, 0.8902281152901743, 0.9371797233348538, 0.961486559589865, 0.9584809289781582, 1.0195113882726083, 1.1121585784748262, 0.8836194939814135, 1.2628025717982325, 1.0003107218338911, 1.0250539841592463, 1.2311716920488536, 0.8466612256589094, 1.062360831083872, 1.2398349309790042, 1.140507671535076, 1.289318961625014, 1.4735660614194437, 1.1830292778583882, 1.0022911738106046, 1.5096925650423003, 1.226437551227427, 1.1657271872429895, 0.9701383217156625, 1.0896116345455056, 1.0267251792278955, 0.8836643175091368, 1.1819464655556082, 1.104178601988096, 1.200262096253411, 1.2101221598331264, 1.1974559710162183, 1.033596938814469, 1.1349501660028807, 1.3865367730111906, 1.2460701708589177, 1.2231399395632643, 1.2734437497427322, 1.573544349616249, 1.1789028514726745, 1.6287133320867149, 1.351215417397892, 0.8958756997499506, 1.3909470958166992, 1.1338990869158856, 1.421767614110518, 1.5098602366230054, 1.2181305756263114, 1.4075414010235718, 1.0315660954568315, 1.8026212086850109, 1.4862245544289685, 1.579376227556768, 1.4029614524390404]\n"
     ]
    },
    {
     "name": "stderr",
     "output_type": "stream",
     "text": [
      "  0%|          | 0/175 [00:15<?, ?it/s]01:38,  9.54it/s]\n",
      "  0%|          | 0/15 [00:06<?, ?it/s]\n",
      " 99%|█████████▉| 99101/100001 [3:31:20<01:38,  9.12it/s]"
     ]
    },
    {
     "name": "stdout",
     "output_type": "stream",
     "text": [
      "GAN: loss d: 4.34828    loss g: -1.93981\n"
     ]
    },
    {
     "name": "stderr",
     "output_type": "stream",
     "text": [
      " 99%|█████████▉| 99201/100001 [3:31:30<01:26,  9.20it/s]"
     ]
    },
    {
     "name": "stdout",
     "output_type": "stream",
     "text": [
      "GAN: loss d: 2.77245    loss g: -3.08229\n"
     ]
    },
    {
     "name": "stderr",
     "output_type": "stream",
     "text": [
      " 99%|█████████▉| 99303/100001 [3:31:41<01:12,  9.59it/s]"
     ]
    },
    {
     "name": "stdout",
     "output_type": "stream",
     "text": [
      "GAN: loss d: 4.32391    loss g: -2.54319\n"
     ]
    },
    {
     "name": "stderr",
     "output_type": "stream",
     "text": [
      " 99%|█████████▉| 99402/100001 [3:31:52<01:06,  9.06it/s]"
     ]
    },
    {
     "name": "stdout",
     "output_type": "stream",
     "text": [
      "GAN: loss d: 0.71057    loss g: -4.45584\n"
     ]
    },
    {
     "name": "stderr",
     "output_type": "stream",
     "text": [
      "100%|█████████▉| 99501/100001 [3:32:02<00:55,  8.99it/s]"
     ]
    },
    {
     "name": "stdout",
     "output_type": "stream",
     "text": [
      "GAN: loss d: 2.05421    loss g: -3.30191\n"
     ]
    },
    {
     "name": "stderr",
     "output_type": "stream",
     "text": [
      "100%|█████████▉| 99602/100001 [3:32:13<00:43,  9.27it/s]"
     ]
    },
    {
     "name": "stdout",
     "output_type": "stream",
     "text": [
      "GAN: loss d: 3.70534    loss g: -2.61872\n"
     ]
    },
    {
     "name": "stderr",
     "output_type": "stream",
     "text": [
      "100%|█████████▉| 99703/100001 [3:32:24<00:31,  9.47it/s]"
     ]
    },
    {
     "name": "stdout",
     "output_type": "stream",
     "text": [
      "GAN: loss d: 2.93112    loss g: -2.78162\n"
     ]
    },
    {
     "name": "stderr",
     "output_type": "stream",
     "text": [
      "100%|█████████▉| 99801/100001 [3:32:34<00:22,  8.91it/s]"
     ]
    },
    {
     "name": "stdout",
     "output_type": "stream",
     "text": [
      "GAN: loss d: 5.63185    loss g: -3.26872\n"
     ]
    },
    {
     "name": "stderr",
     "output_type": "stream",
     "text": [
      "100%|█████████▉| 99903/100001 [3:32:45<00:10,  9.66it/s]"
     ]
    },
    {
     "name": "stdout",
     "output_type": "stream",
     "text": [
      "GAN: loss d: 1.52407    loss g: -2.87694\n"
     ]
    },
    {
     "name": "stderr",
     "output_type": "stream",
     "text": [
      "100%|█████████▉| 100000/100001 [3:32:55<00:00,  9.31it/s]"
     ]
    },
    {
     "name": "stdout",
     "output_type": "stream",
     "text": [
      "GAN: loss d: 5.40814    loss g: -3.19916\n",
      "saving current model\n"
     ]
    },
    {
     "name": "stderr",
     "output_type": "stream",
     "text": [
      "\n",
      "  0%|          | 0/175 [00:00<?, ?it/s]\u001b[A"
     ]
    },
    {
     "name": "stdout",
     "output_type": "stream",
     "text": [
      "Number of real images: 5626\n"
     ]
    },
    {
     "name": "stderr",
     "output_type": "stream",
     "text": [
      "\n",
      "\n",
      "  0%|          | 0/15 [00:00<?, ?it/s]\u001b[A\u001b[A"
     ]
    },
    {
     "name": "stdout",
     "output_type": "stream",
     "text": [
      "Number of synthetic images: 500\n"
     ]
    },
    {
     "name": "stderr",
     "output_type": "stream",
     "text": [
      "100%|██████████| 100001/100001 [3:33:15<00:00,  7.82it/s]"
     ]
    },
    {
     "name": "stdout",
     "output_type": "stream",
     "text": [
      "Current fid score: 1.2887633806050935\n",
      "Fid scores: [5.176135784826485, 2.49733748630797, 2.556800986640896, 2.551807388342233, 3.0005414208896823, 2.6693746896472135, 2.327712167642524, 2.753024418615748, 1.810803698247632, 1.882469618869699, 2.3049020902006205, 1.2671737770059046, 2.1210468891055463, 2.099174223550225, 2.916100690765896, 3.40813729288425, 3.245391894475338, 3.857025155346646, 3.9987907417992634, 1.1312376693415231, 1.2186857992723503, 1.8961604960656189, 1.639260863742642, 1.4429721571320542, 1.2975153110277695, 1.2989564652328056, 1.2159174147751202, 1.2886615711632565, 1.2749489523852944, 1.2123217476264827, 1.130321950731723, 1.4349116027401223, 1.325705351921183, 0.9511910740117848, 0.7728854208281035, 1.0974412373000142, 1.3230233049879843, 1.456390242262266, 0.9723678173420041, 1.0042308899555294, 1.147213070903458, 1.1264658019655336, 1.0130370458094191, 1.2854713703383176, 1.395702880834726, 1.2354265562601796, 1.1165221470255844, 0.8902281152901743, 0.9371797233348538, 0.961486559589865, 0.9584809289781582, 1.0195113882726083, 1.1121585784748262, 0.8836194939814135, 1.2628025717982325, 1.0003107218338911, 1.0250539841592463, 1.2311716920488536, 0.8466612256589094, 1.062360831083872, 1.2398349309790042, 1.140507671535076, 1.289318961625014, 1.4735660614194437, 1.1830292778583882, 1.0022911738106046, 1.5096925650423003, 1.226437551227427, 1.1657271872429895, 0.9701383217156625, 1.0896116345455056, 1.0267251792278955, 0.8836643175091368, 1.1819464655556082, 1.104178601988096, 1.200262096253411, 1.2101221598331264, 1.1974559710162183, 1.033596938814469, 1.1349501660028807, 1.3865367730111906, 1.2460701708589177, 1.2231399395632643, 1.2734437497427322, 1.573544349616249, 1.1789028514726745, 1.6287133320867149, 1.351215417397892, 0.8958756997499506, 1.3909470958166992, 1.1338990869158856, 1.421767614110518, 1.5098602366230054, 1.2181305756263114, 1.4075414010235718, 1.0315660954568315, 1.8026212086850109, 1.4862245544289685, 1.579376227556768, 1.4029614524390404, 1.2887633806050935]\n"
     ]
    },
    {
     "name": "stderr",
     "output_type": "stream",
     "text": [
      "\n"
     ]
    }
   ],
   "source": [
    "import torch\n",
    "from torch import nn\n",
    "import torch.optim as optim\n",
    "import torch.nn.functional as F\n",
    "from torchvision import transforms\n",
    "from torchvision import utils as vutils\n",
    "from torch.utils.data.dataloader import DataLoader\n",
    "from scipy import linalg\n",
    "import sys\n",
    "\n",
    "import argparse\n",
    "import random\n",
    "from tqdm import tqdm\n",
    "import easydict\n",
    "\n",
    "from diffaug import DiffAugment\n",
    "\n",
    "policy = 'color,translation'\n",
    "\n",
    "\n",
    "class FIDScore:\n",
    "    def __init__(self, path_a, path_b, image_size, batch_size, device='cuda'):\n",
    "        self.device = device\n",
    "        self.image_size = image_size\n",
    "        self.path_a = path_a\n",
    "        self.path_b = path_b\n",
    "        self.batch_size = batch_size\n",
    "        self.inception = self.load_patched_inception_v3().eval().to(device)\n",
    "        self.transform = transforms.Compose([\n",
    "            transforms.Resize((self.image_size, self.image_size)),\n",
    "            transforms.ToTensor(),\n",
    "            transforms.Normalize([0.5, 0.5, 0.5], [0.5, 0.5, 0.5])\n",
    "        ])\n",
    "\n",
    "    @torch.no_grad()\n",
    "    def extract_features(self, loader):\n",
    "        #for batch_idx, batch_data in enumerate(loader):\n",
    "            #print(f\"Batch {batch_idx} - Batch shape: {batch_data.shape}, Batch contents: {batch_data}\")\n",
    "        pbar = tqdm(loader)\n",
    "        feature_list = []\n",
    "        for img in loader:\n",
    "            img = img.to(self.device)\n",
    "            feature = self.inception(img)[0].view(img.shape[0], -1)\n",
    "            feature_list.append(feature.to('cpu'))\n",
    "        features = torch.cat(feature_list, 0)\n",
    "        return features\n",
    "\n",
    "    def calc_fid(self, sample_mean, sample_cov, real_mean, real_cov, eps=1e-6):\n",
    "        cov_sqrt, _ = linalg.sqrtm(sample_cov @ real_cov, disp=False)\n",
    "        if not np.isfinite(cov_sqrt).all():\n",
    "            print('product of cov matrices is singular')\n",
    "            offset = np.eye(sample_cov.shape[0]) * eps\n",
    "            cov_sqrt = linalg.sqrtm((sample_cov + offset) @ (real_cov + offset))\n",
    "        if np.iscomplexobj(cov_sqrt):\n",
    "            if not np.allclose(np.diagonal(cov_sqrt).imag, 0, atol=1e-3):\n",
    "                m = np.max(np.abs(cov_sqrt.imag))\n",
    "                raise ValueError(f'Imaginary component {m}')\n",
    "            cov_sqrt = cov_sqrt.real\n",
    "        mean_diff = sample_mean - real_mean\n",
    "        mean_norm = mean_diff @ mean_diff\n",
    "        trace = np.trace(sample_cov) + np.trace(real_cov) - 2 * np.trace(cov_sqrt)\n",
    "        fid = mean_norm + trace\n",
    "        return fid\n",
    "\n",
    "    def __call__(self, num_workers=4):\n",
    "        dset_a = ImageFolder(self.path_a, self.transform)\n",
    "        print(\"Number of real images:\", len(dset_a))\n",
    "        loader_a = DataLoader(dset_a, batch_size=self.batch_size, num_workers=num_workers, drop_last=True)\n",
    "        features_a = self.extract_features(loader_a).numpy()\n",
    "        real_mean = np.mean(features_a, 0)\n",
    "        real_cov = np.cov(features_a, rowvar=False)\n",
    "\n",
    "        dset_b = ImageFolder(self.path_b, self.transform)\n",
    "        print(\"Number of synthetic images:\", len(dset_b))\n",
    "        loader_b = DataLoader(dset_b, batch_size=self.batch_size, num_workers=num_workers, drop_last=True)\n",
    "        features_b = self.extract_features(loader_b).numpy()\n",
    "        sample_mean = np.mean(features_b, 0)\n",
    "        sample_cov = np.cov(features_b, rowvar=False)\n",
    "\n",
    "        fid = self.calc_fid(sample_mean, sample_cov, real_mean, real_cov)\n",
    "\n",
    "        return fid\n",
    "\n",
    "    @staticmethod\n",
    "    def load_patched_inception_v3():\n",
    "        inception = torch.hub.load('pytorch/vision:v0.9.0', 'inception_v3', pretrained=True)\n",
    "        inception.fc = nn.Identity()\n",
    "        return inception\n",
    "\n",
    "\n",
    "# torch.backends.cudnn.benchmark = True\n",
    "\n",
    "\n",
    "def crop_image_by_part(image, part):\n",
    "    hw = image.shape[2] // 2\n",
    "    if part == 0:\n",
    "        return image[:, :, :hw, :hw]\n",
    "    if part == 1:\n",
    "        return image[:, :, :hw, hw:]\n",
    "    if part == 2:\n",
    "        return image[:, :, hw:, :hw]\n",
    "    if part == 3:\n",
    "        return image[:, :, hw:, hw:]\n",
    "\n",
    "\n",
    "def train_d(net, data, label=\"real\"):\n",
    "    \"\"\"Train function of discriminator\"\"\"\n",
    "    if label == \"real\":\n",
    "        part = random.randint(0, 3)\n",
    "        pred, [rec_all, rec_small, rec_part] = net(data, label, part=part)\n",
    "        err = F.relu(torch.rand_like(pred) * 0.2 + 0.8 - pred).mean()\n",
    "        err.backward()\n",
    "        return pred.mean().item(), rec_all, rec_small, rec_part\n",
    "    else:\n",
    "        pred = net(data, label)\n",
    "        err = F.relu(torch.rand_like(pred) * 0.2 + 0.8 + pred).mean()\n",
    "        err.backward()\n",
    "        return pred.mean().item()\n",
    "\n",
    "\n",
    "def train(args):\n",
    "    data_root = args.path\n",
    "    total_iterations = args.iter\n",
    "    checkpoint = args.ckpt\n",
    "    batch_size = args.batch_size\n",
    "    im_size = args.im_size\n",
    "    ndf = 64\n",
    "    ngf = 64\n",
    "    nz = args.noise_dim\n",
    "    nlr = 0.0001\n",
    "    nbeta1 = 0.5\n",
    "    use_cuda = True\n",
    "    multi_gpu = True\n",
    "    dataloader_workers = 8\n",
    "    current_iteration = args.start_iter\n",
    "    save_interval = 100\n",
    "    saved_model_folder, saved_image_folder = get_dir(args)\n",
    "    fid_batch_size = args.fid_batch_size\n",
    "    save_results_dir = args.name\n",
    "    \n",
    "\n",
    "    device = torch.device(\"cpu\")\n",
    "    if use_cuda:\n",
    "        device = torch.device(\"cuda:0\")\n",
    "\n",
    "    transform_list = [\n",
    "        transforms.Resize((int(im_size), int(im_size))),\n",
    "        transforms.RandomHorizontalFlip(),\n",
    "        transforms.ToTensor(),\n",
    "        transforms.Normalize(mean=[0.5, 0.5, 0.5], std=[0.5, 0.5, 0.5])\n",
    "    ]\n",
    "    trans = transforms.Compose(transform_list)\n",
    "\n",
    "    if 'lmdb' in data_root:\n",
    "        from operation import MultiResolutionDataset\n",
    "        dataset = MultiResolutionDataset(data_root, trans, 1024)\n",
    "    else:\n",
    "        dataset = ImageFolder(root=data_root, transform=trans)\n",
    "\n",
    "    dataloader = iter(DataLoader(dataset, batch_size=batch_size, shuffle=False,\n",
    "                                 sampler=InfiniteSamplerWrapper(dataset), num_workers=dataloader_workers,\n",
    "                                 pin_memory=True))\n",
    "    '''\n",
    "    loader = MultiEpochsDataLoader(dataset, batch_size=batch_size, \n",
    "                               shuffle=True, num_workers=dataloader_workers, \n",
    "                               pin_memory=True)\n",
    "    dataloader = CudaDataLoader(loader, 'cuda')\n",
    "    '''\n",
    "\n",
    "    # from model_s import Generator, Discriminator\n",
    "    netG = Generator(ngf=ngf, nz=nz, im_size=im_size)\n",
    "    netG.apply(weights_init)\n",
    "\n",
    "    netD = Discriminator(ndf=ndf, im_size=im_size)\n",
    "    netD.apply(weights_init)\n",
    "\n",
    "    netG.to(device)\n",
    "    netD.to(device)\n",
    "\n",
    "    avg_param_G = copy_G_params(netG)\n",
    "\n",
    "    optimizerG = optim.Adam(netG.parameters(), lr=nlr, betas=(nbeta1, 0.999))\n",
    "    optimizerD = optim.Adam(netD.parameters(), lr=nlr, betas=(nbeta1, 0.999))\n",
    "    \n",
    "    generated_images = os.path.join(os.getcwd(), 'train_results', save_results_dir, \"images\")    \n",
    "    fid = FIDScore(data_root, generated_images, im_size, fid_batch_size)\n",
    "    fid_scores = []\n",
    "    losses = []\n",
    "    min_fid_score = 999\n",
    "    \n",
    "    data = {\n",
    "            \"loss_d\": [],\n",
    "            \"loss_g\": []\n",
    "        }\n",
    "\n",
    "    loss_results_path = os.path.join(os.getcwd(), 'train_results', save_results_dir, \"loss.json\")      \n",
    "\n",
    "    \n",
    "    if checkpoint != 'None':\n",
    "        ckpt = torch.load(checkpoint)\n",
    "        netG.load_state_dict({k.replace('module.', ''): v for k, v in ckpt['g'].items()})\n",
    "        netD.load_state_dict({k.replace('module.', ''): v for k, v in ckpt['d'].items()})\n",
    "        avg_param_G = ckpt['g_ema']\n",
    "        optimizerG.load_state_dict(ckpt['opt_g'])\n",
    "        optimizerD.load_state_dict(ckpt['opt_d'])\n",
    "        current_iteration = int(checkpoint.split('_')[-1].split('.')[0])\n",
    "        del ckpt\n",
    "\n",
    "    if multi_gpu:\n",
    "        netG = nn.DataParallel(netG.to(device))\n",
    "        netD = nn.DataParallel(netD.to(device))\n",
    "\n",
    "    for iteration in tqdm(range(current_iteration, total_iterations + 1)):\n",
    "        real_image = next(dataloader)\n",
    "        real_image = real_image.to(device)\n",
    "        current_batch_size = real_image.size(0)\n",
    "        noise = torch.Tensor(current_batch_size, nz).normal_(0, 1).to(device)\n",
    "\n",
    "        fake_images = netG(noise)\n",
    "\n",
    "        real_image = DiffAugment(real_image, policy=policy)\n",
    "        fake_images = [DiffAugment(fake, policy=policy) for fake in fake_images]\n",
    "\n",
    "        ## 2. train Discriminator\n",
    "        netD.zero_grad()\n",
    "\n",
    "        err_dr, rec_img_all, rec_img_small, rec_img_part = train_d(netD, real_image, label=\"real\")\n",
    "        train_d(netD, [fi.detach() for fi in fake_images], label=\"fake\")\n",
    "        optimizerD.step()\n",
    "\n",
    "        ## 3. train Generator\n",
    "        netG.zero_grad()\n",
    "        pred_g = netD(fake_images, \"fake\")\n",
    "        err_g = -pred_g.mean()\n",
    "\n",
    "        err_g.backward()\n",
    "        optimizerG.step()\n",
    "\n",
    "        for p, avg_p in zip(netG.parameters(), avg_param_G):\n",
    "            avg_p.mul_(0.999).add_(0.001 * p.data)\n",
    "\n",
    "            \n",
    "        if iteration % 100 == 0:\n",
    "            print(\"GAN: loss d: %.5f    loss g: %.5f\" % (err_dr, -err_g.item()))\n",
    "            data[\"loss_d\"].append(err_dr)\n",
    "            data[\"loss_g\"].append(-err_g.item())\n",
    "            \n",
    "            with open(loss_results_path, \"w\") as json_file:\n",
    "                json.dump(data, json_file, indent=4)\n",
    "\n",
    "        \n",
    "        if iteration % (save_interval * 10) == 0 or iteration == total_iterations:\n",
    "            backup_para = copy_G_params(netG)\n",
    "            load_params(netG, avg_param_G)\n",
    "            print (\"saving current model\")\n",
    "            torch.save({'g': netG.state_dict(), 'd': netD.state_dict()}, saved_model_folder + '/last_model.pth')\n",
    "            with torch.no_grad():\n",
    "                for i in range (500):\n",
    "                    fixed_noise = torch.FloatTensor(1, nz).normal_(0, 1).to(device)\n",
    "                    generated_images = netG(fixed_noise)                \n",
    "                    #print(\"saved %d image\" % i)\n",
    "                    vutils.save_image(generated_images[0].add(1).mul(0.5), saved_image_folder + '/%d.jpg' % i)\n",
    "\n",
    "            fid_score = fid()\n",
    "            fid_scores.append(fid_score)\n",
    "            print ('Current fid score:' , fid_score)\n",
    "            print ('Fid scores:' , fid_scores)\n",
    "            \n",
    "            fid_results_path = os.path.join(os.getcwd(), 'train_results', save_results_dir, \"fid.txt\")    \n",
    "\n",
    "            with open(fid_results_path, 'w') as file:\n",
    "                for value in fid_scores:\n",
    "                    file.write(str(value) + '\\n')\n",
    "            \n",
    "            if fid_score < min_fid_score:\n",
    "                min_fid_score = fid_score\n",
    "                print('New min fid score: %.12f' % fid_score)\n",
    "                print('Saving best model')\n",
    "                torch.save({'g': netG.state_dict(), 'd': netD.state_dict()}, saved_model_folder + '/min_fid_model.pth')\n",
    "                #load_params(netG, backup_para)\n",
    "                #torch.save({'g': netG.state_dict(), 'd': netD.state_dict(), 'g_ema': avg_param_G, 'opt_g': optimizerG.state_dict(), 'opt_d': optimizerD.state_dict()}, saved_model_folder + '/all_%d.pth' % iteration)\n",
    "\n",
    "            load_params(netG, backup_para)\n",
    "\n",
    "\n",
    "if __name__ == \"__main__\":\n",
    "    #data_root = os.path.join(os.path.abspath('..'), \"datasets\", \"drive\", \"img\")\n",
    "    #test_name= 'drive'\n",
    "    #im_size= 512\n",
    "    data_root = os.path.join(os.path.abspath('..'), \"datasets\", \"BV\", \"train\")\n",
    "    test_name= 'test_bv_256'\n",
    "    im_size= 256\n",
    "    print (data_root)\n",
    "    args = easydict.EasyDict({\n",
    "        \"path\": data_root,\n",
    "        \"cuda\": 0,\n",
    "        \"name\": test_name,\n",
    "        \"iter\": 100000,\n",
    "        \"start_iter\": 0, \n",
    "        \"batch_size\": 1,\n",
    "        \"im_size\": im_size,\n",
    "        \"ckpt\": 'None',\n",
    "        \"noise_dim\": 400,\n",
    "        \"fid_batch_size\": 32\n",
    "    })\n",
    "    \n",
    "    print(args)\n",
    "    torch.cuda.empty_cache()\n",
    "    #print(torch.cuda.memory_summary(device=None, abbreviated=False))\n",
    "    train(args)\n"
   ]
  },
  {
   "cell_type": "code",
   "execution_count": null,
   "metadata": {},
   "outputs": [],
   "source": []
  }
 ],
 "metadata": {
  "kernelspec": {
   "display_name": "Python 3",
   "language": "python",
   "name": "python3"
  },
  "language_info": {
   "codemirror_mode": {
    "name": "ipython",
    "version": 3
   },
   "file_extension": ".py",
   "mimetype": "text/x-python",
   "name": "python",
   "nbconvert_exporter": "python",
   "pygments_lexer": "ipython3",
   "version": "3.7.9"
  }
 },
 "nbformat": 4,
 "nbformat_minor": 4
}
