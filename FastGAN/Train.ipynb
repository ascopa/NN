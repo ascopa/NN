{
 "cells": [
  {
   "cell_type": "markdown",
   "metadata": {},
   "source": [
    "Esta Jupyter Notebook es una adaptación de la red nueronal [implementada](https://github.com/odegeasslbc/FastGAN-pytorch) en el paper [\"Towards Faster and Stabilized GAN Training for High-fidelity Few-shot Image Synthesis\"](https://arxiv.org/pdf/2101.04775.pdf). La particularidad de la misma reside en su capacidad de generar imagenes a partir de datasets \"pequeños\" (>1000 muestras). El código está dividido en tres partes: definición de arquitectura generador/discriminador, funciones auxiliares (procesamiento de datasets, manejo de archivos) y algoritmo de entrenamiento."
   ]
  },
  {
   "cell_type": "markdown",
   "metadata": {},
   "source": [
    "Se utilizaron dos datasets, uno de retinas (Drive) con 160 imagenes en escala de grises y resolución 512x512. El otro consiste de patrones de venas o filamentos, en este caso 6000 imágenes también en escala de grises y resolución 256x256. El procesamiento de ambos casos se hace mediante las clases auxiliares de PyTorch ImageFolder y DataLoader, en batches de 32. Luego se entrena la red con el algoritmo convencional de GAN. Cada cierta cantidad de iteraciones se calcula la FID y se almacena ese valor. Con esto luego se compara en consecuentes iteraciones y se guarda el mejor modelo según esta métrica (menor es mejor). En ambos casos se ve un decenso progresivo de esta distancia, hasta una eventual meseta con sus pequeñas variaciones."
   ]
  },
  {
   "cell_type": "code",
   "execution_count": 1,
   "metadata": {},
   "outputs": [],
   "source": [
    "import torch\n",
    "import torch.nn as nn\n",
    "from torch.nn.utils import spectral_norm\n",
    "import torch.nn.functional as F\n",
    "\n",
    "import random\n",
    "\n",
    "seq = nn.Sequential\n",
    "\n",
    "def weights_init(m):\n",
    "    classname = m.__class__.__name__\n",
    "    if classname.find('Conv') != -1:\n",
    "        try:\n",
    "            m.weight.data.normal_(0.0, 0.02)\n",
    "        except:\n",
    "            pass\n",
    "    elif classname.find('BatchNorm') != -1:\n",
    "        m.weight.data.normal_(1.0, 0.02)\n",
    "        m.bias.data.fill_(0)\n",
    "\n",
    "def conv2d(*args, **kwargs):\n",
    "    return spectral_norm(nn.Conv2d(*args, **kwargs))\n",
    "\n",
    "def convTranspose2d(*args, **kwargs):\n",
    "    return spectral_norm(nn.ConvTranspose2d(*args, **kwargs))\n",
    "\n",
    "def batchNorm2d(*args, **kwargs):\n",
    "    return nn.BatchNorm2d(*args, **kwargs)\n",
    "\n",
    "def linear(*args, **kwargs):\n",
    "    return spectral_norm(nn.Linear(*args, **kwargs))\n",
    "\n",
    "class PixelNorm(nn.Module):\n",
    "    def forward(self, input):\n",
    "        return input * torch.rsqrt(torch.mean(input ** 2, dim=1, keepdim=True) + 1e-8)\n",
    "\n",
    "class Reshape(nn.Module):\n",
    "    def __init__(self, shape):\n",
    "        super().__init__()\n",
    "        self.target_shape = shape\n",
    "\n",
    "    def forward(self, feat):\n",
    "        batch = feat.shape[0]\n",
    "        return feat.view(batch, *self.target_shape)        \n",
    "\n",
    "\n",
    "class GLU(nn.Module):\n",
    "    def forward(self, x):\n",
    "        nc = x.size(1)\n",
    "        assert nc % 2 == 0, 'channels dont divide 2!'\n",
    "        nc = int(nc/2)\n",
    "        return x[:, :nc] * torch.sigmoid(x[:, nc:])\n",
    "\n",
    "\n",
    "class NoiseInjection(nn.Module):\n",
    "    def __init__(self):\n",
    "        super().__init__()\n",
    "\n",
    "        self.weight = nn.Parameter(torch.zeros(1), requires_grad=True)\n",
    "\n",
    "    def forward(self, feat, noise=None):\n",
    "        if noise is None:\n",
    "            batch, _, height, width = feat.shape\n",
    "            noise = torch.randn(batch, 1, height, width).to(feat.device)\n",
    "\n",
    "        return feat + self.weight * noise\n",
    "\n",
    "\n",
    "class Swish(nn.Module):\n",
    "    def forward(self, feat):\n",
    "        return feat * torch.sigmoid(feat)\n",
    "\n",
    "\n",
    "class SEBlock(nn.Module):\n",
    "    def __init__(self, ch_in, ch_out):\n",
    "        super().__init__()\n",
    "\n",
    "        self.main = nn.Sequential(  nn.AdaptiveAvgPool2d(4), \n",
    "                                    conv2d(ch_in, ch_out, 4, 1, 0, bias=False), Swish(),\n",
    "                                    conv2d(ch_out, ch_out, 1, 1, 0, bias=False), nn.Sigmoid() )\n",
    "\n",
    "    def forward(self, feat_small, feat_big):\n",
    "        return feat_big * self.main(feat_small)\n",
    "\n",
    "\n",
    "class InitLayer(nn.Module):\n",
    "    def __init__(self, nz, channel):\n",
    "        super().__init__()\n",
    "\n",
    "        self.init = nn.Sequential(\n",
    "                        convTranspose2d(nz, channel*2, 4, 1, 0, bias=False),\n",
    "                        batchNorm2d(channel*2), GLU() )\n",
    "\n",
    "    def forward(self, noise):\n",
    "        noise = noise.view(noise.shape[0], -1, 1, 1)\n",
    "        return self.init(noise)\n",
    "\n",
    "\n",
    "def UpBlock(in_planes, out_planes):\n",
    "    block = nn.Sequential(\n",
    "        nn.Upsample(scale_factor=2, mode='nearest'),\n",
    "        conv2d(in_planes, out_planes*2, 3, 1, 1, bias=False),\n",
    "        #convTranspose2d(in_planes, out_planes*2, 4, 2, 1, bias=False),\n",
    "        batchNorm2d(out_planes*2), GLU())\n",
    "    return block\n",
    "\n",
    "\n",
    "def UpBlockComp(in_planes, out_planes):\n",
    "    block = nn.Sequential(\n",
    "        nn.Upsample(scale_factor=2, mode='nearest'),\n",
    "        conv2d(in_planes, out_planes*2, 3, 1, 1, bias=False),\n",
    "        #convTranspose2d(in_planes, out_planes*2, 4, 2, 1, bias=False),\n",
    "        NoiseInjection(),\n",
    "        batchNorm2d(out_planes*2), GLU(),\n",
    "        conv2d(out_planes, out_planes*2, 3, 1, 1, bias=False),\n",
    "        NoiseInjection(),\n",
    "        batchNorm2d(out_planes*2), GLU()\n",
    "        )\n",
    "    return block\n",
    "\n",
    "\n",
    "class Generator(nn.Module):\n",
    "    def __init__(self, ngf=64, nz=100, nc=3, im_size=1024):\n",
    "        super(Generator, self).__init__()\n",
    "\n",
    "        nfc_multi = {4:16, 8:8, 16:4, 32:2, 64:2, 128:1, 256:0.5, 512:0.25, 1024:0.125}\n",
    "        nfc = {}\n",
    "        for k, v in nfc_multi.items():\n",
    "            nfc[k] = int(v*ngf)\n",
    "\n",
    "        self.im_size = im_size\n",
    "\n",
    "        self.init = InitLayer(nz, channel=nfc[4])\n",
    "                                \n",
    "        self.feat_8   = UpBlockComp(nfc[4], nfc[8])\n",
    "        self.feat_16  = UpBlock(nfc[8], nfc[16])\n",
    "        self.feat_32  = UpBlockComp(nfc[16], nfc[32])\n",
    "        self.feat_64  = UpBlock(nfc[32], nfc[64])\n",
    "        self.feat_128 = UpBlockComp(nfc[64], nfc[128])  \n",
    "        self.feat_256 = UpBlock(nfc[128], nfc[256]) \n",
    "\n",
    "        self.se_64  = SEBlock(nfc[4], nfc[64])\n",
    "        self.se_128 = SEBlock(nfc[8], nfc[128])\n",
    "        self.se_256 = SEBlock(nfc[16], nfc[256])\n",
    "\n",
    "        self.to_128 = conv2d(nfc[128], nc, 1, 1, 0, bias=False) \n",
    "        self.to_big = conv2d(nfc[im_size], nc, 3, 1, 1, bias=False) \n",
    "        \n",
    "        if im_size > 256:\n",
    "            self.feat_512 = UpBlockComp(nfc[256], nfc[512]) \n",
    "            self.se_512 = SEBlock(nfc[32], nfc[512])\n",
    "        if im_size > 512:\n",
    "            self.feat_1024 = UpBlock(nfc[512], nfc[1024])  \n",
    "        \n",
    "    def forward(self, input):\n",
    "        \n",
    "        feat_4   = self.init(input)\n",
    "        feat_8   = self.feat_8(feat_4)\n",
    "        feat_16  = self.feat_16(feat_8)\n",
    "        feat_32  = self.feat_32(feat_16)\n",
    "\n",
    "        feat_64  = self.se_64( feat_4, self.feat_64(feat_32) )\n",
    "\n",
    "        feat_128 = self.se_128( feat_8, self.feat_128(feat_64) )\n",
    "\n",
    "        feat_256 = self.se_256( feat_16, self.feat_256(feat_128) )\n",
    "\n",
    "        if self.im_size == 256:\n",
    "            return [self.to_big(feat_256), self.to_128(feat_128)]\n",
    "        \n",
    "        feat_512 = self.se_512( feat_32, self.feat_512(feat_256) )\n",
    "        if self.im_size == 512:\n",
    "            return [self.to_big(feat_512), self.to_128(feat_128)]\n",
    "\n",
    "        feat_1024 = self.feat_1024(feat_512)\n",
    "\n",
    "        im_128 = torch.tanh(self.to_128(feat_128))\n",
    "        im_1024 = torch.tanh(self.to_big(feat_1024))\n",
    "\n",
    "        return [im_1024, im_128]\n",
    "\n",
    "\n",
    "class DownBlock(nn.Module):\n",
    "    def __init__(self, in_planes, out_planes):\n",
    "        super(DownBlock, self).__init__()\n",
    "\n",
    "        self.main = nn.Sequential(\n",
    "            conv2d(in_planes, out_planes, 4, 2, 1, bias=False),\n",
    "            batchNorm2d(out_planes), nn.LeakyReLU(0.2, inplace=True),\n",
    "            )\n",
    "\n",
    "    def forward(self, feat):\n",
    "        return self.main(feat)\n",
    "\n",
    "\n",
    "class DownBlockComp(nn.Module):\n",
    "    def __init__(self, in_planes, out_planes):\n",
    "        super(DownBlockComp, self).__init__()\n",
    "\n",
    "        self.main = nn.Sequential(\n",
    "            conv2d(in_planes, out_planes, 4, 2, 1, bias=False),\n",
    "            batchNorm2d(out_planes), nn.LeakyReLU(0.2, inplace=True),\n",
    "            conv2d(out_planes, out_planes, 3, 1, 1, bias=False),\n",
    "            batchNorm2d(out_planes), nn.LeakyReLU(0.2)\n",
    "            )\n",
    "\n",
    "        self.direct = nn.Sequential(\n",
    "            nn.AvgPool2d(2, 2),\n",
    "            conv2d(in_planes, out_planes, 1, 1, 0, bias=False),\n",
    "            batchNorm2d(out_planes), nn.LeakyReLU(0.2))\n",
    "\n",
    "    def forward(self, feat):\n",
    "        return (self.main(feat) + self.direct(feat)) / 2\n",
    "\n",
    "\n",
    "class Discriminator(nn.Module):\n",
    "    def __init__(self, ndf=64, nc=3, im_size=512):\n",
    "        super(Discriminator, self).__init__()\n",
    "        self.ndf = ndf\n",
    "        self.im_size = im_size\n",
    "\n",
    "        nfc_multi = {4:16, 8:16, 16:8, 32:4, 64:2, 128:1, 256:0.5, 512:0.25, 1024:0.125}\n",
    "        nfc = {}\n",
    "        for k, v in nfc_multi.items():\n",
    "            nfc[k] = int(v*ndf)\n",
    "\n",
    "        if im_size == 1024:\n",
    "            self.down_from_big = nn.Sequential( \n",
    "                                    conv2d(nc, nfc[1024], 4, 2, 1, bias=False),\n",
    "                                    nn.LeakyReLU(0.2, inplace=True),\n",
    "                                    conv2d(nfc[1024], nfc[512], 4, 2, 1, bias=False),\n",
    "                                    batchNorm2d(nfc[512]),\n",
    "                                    nn.LeakyReLU(0.2, inplace=True))\n",
    "        elif im_size == 512:\n",
    "            self.down_from_big = nn.Sequential( \n",
    "                                    conv2d(nc, nfc[512], 4, 2, 1, bias=False),\n",
    "                                    nn.LeakyReLU(0.2, inplace=True) )\n",
    "        elif im_size == 256:\n",
    "            self.down_from_big = nn.Sequential( \n",
    "                                    conv2d(nc, nfc[512], 3, 1, 1, bias=False),\n",
    "                                    nn.LeakyReLU(0.2, inplace=True) )\n",
    "\n",
    "        self.down_4  = DownBlockComp(nfc[512], nfc[256])\n",
    "        self.down_8  = DownBlockComp(nfc[256], nfc[128])\n",
    "        self.down_16 = DownBlockComp(nfc[128], nfc[64])\n",
    "        self.down_32 = DownBlockComp(nfc[64],  nfc[32])\n",
    "        self.down_64 = DownBlockComp(nfc[32],  nfc[16])\n",
    "\n",
    "        self.rf_big = nn.Sequential(\n",
    "                            conv2d(nfc[16] , nfc[8], 1, 1, 0, bias=False),\n",
    "                            batchNorm2d(nfc[8]), nn.LeakyReLU(0.2, inplace=True),\n",
    "                            conv2d(nfc[8], 1, 4, 1, 0, bias=False))\n",
    "\n",
    "        self.se_2_16 = SEBlock(nfc[512], nfc[64])\n",
    "        self.se_4_32 = SEBlock(nfc[256], nfc[32])\n",
    "        self.se_8_64 = SEBlock(nfc[128], nfc[16])\n",
    "        \n",
    "        self.down_from_small = nn.Sequential( \n",
    "                                            conv2d(nc, nfc[256], 4, 2, 1, bias=False), \n",
    "                                            nn.LeakyReLU(0.2, inplace=True),\n",
    "                                            DownBlock(nfc[256],  nfc[128]),\n",
    "                                            DownBlock(nfc[128],  nfc[64]),\n",
    "                                            DownBlock(nfc[64],  nfc[32]), )\n",
    "\n",
    "        self.rf_small = conv2d(nfc[32], 1, 4, 1, 0, bias=False)\n",
    "\n",
    "        self.decoder_big = SimpleDecoder(nfc[16], nc)\n",
    "        self.decoder_part = SimpleDecoder(nfc[32], nc)\n",
    "        self.decoder_small = SimpleDecoder(nfc[32], nc)\n",
    "        \n",
    "    def forward(self, imgs, label, part=None):\n",
    "        if type(imgs) is not list:\n",
    "            imgs = [F.interpolate(imgs, size=self.im_size), F.interpolate(imgs, size=128)]\n",
    "\n",
    "        feat_2 = self.down_from_big(imgs[0])        \n",
    "        feat_4 = self.down_4(feat_2)\n",
    "        feat_8 = self.down_8(feat_4)\n",
    "        \n",
    "        feat_16 = self.down_16(feat_8)\n",
    "        feat_16 = self.se_2_16(feat_2, feat_16)\n",
    "\n",
    "        feat_32 = self.down_32(feat_16)\n",
    "        feat_32 = self.se_4_32(feat_4, feat_32)\n",
    "        \n",
    "        feat_last = self.down_64(feat_32)\n",
    "        feat_last = self.se_8_64(feat_8, feat_last)\n",
    "\n",
    "        #rf_0 = torch.cat([self.rf_big_1(feat_last).view(-1),self.rf_big_2(feat_last).view(-1)])\n",
    "        #rff_big = torch.sigmoid(self.rf_factor_big)\n",
    "        rf_0 = self.rf_big(feat_last).view(-1)\n",
    "\n",
    "        feat_small = self.down_from_small(imgs[1])\n",
    "        #rf_1 = torch.cat([self.rf_small_1(feat_small).view(-1),self.rf_small_2(feat_small).view(-1)])\n",
    "        rf_1 = self.rf_small(feat_small).view(-1)\n",
    "\n",
    "        if label=='real':    \n",
    "            rec_img_big = self.decoder_big(feat_last)\n",
    "            rec_img_small = self.decoder_small(feat_small)\n",
    "\n",
    "            assert part is not None\n",
    "            rec_img_part = None\n",
    "            if part==0:\n",
    "                rec_img_part = self.decoder_part(feat_32[:,:,:8,:8])\n",
    "            if part==1:\n",
    "                rec_img_part = self.decoder_part(feat_32[:,:,:8,8:])\n",
    "            if part==2:\n",
    "                rec_img_part = self.decoder_part(feat_32[:,:,8:,:8])\n",
    "            if part==3:\n",
    "                rec_img_part = self.decoder_part(feat_32[:,:,8:,8:])\n",
    "\n",
    "            return torch.cat([rf_0, rf_1]) , [rec_img_big, rec_img_small, rec_img_part]\n",
    "\n",
    "        return torch.cat([rf_0, rf_1]) \n",
    "\n",
    "\n",
    "class SimpleDecoder(nn.Module):\n",
    "    \"\"\"docstring for CAN_SimpleDecoder\"\"\"\n",
    "    def __init__(self, nfc_in=64, nc=3):\n",
    "        super(SimpleDecoder, self).__init__()\n",
    "\n",
    "        nfc_multi = {4:16, 8:8, 16:4, 32:2, 64:2, 128:1, 256:0.5, 512:0.25, 1024:0.125}\n",
    "        nfc = {}\n",
    "        for k, v in nfc_multi.items():\n",
    "            nfc[k] = int(v*32)\n",
    "\n",
    "        def upBlock(in_planes, out_planes):\n",
    "            block = nn.Sequential(\n",
    "                nn.Upsample(scale_factor=2, mode='nearest'),\n",
    "                conv2d(in_planes, out_planes*2, 3, 1, 1, bias=False),\n",
    "                batchNorm2d(out_planes*2), GLU())\n",
    "            return block\n",
    "\n",
    "        self.main = nn.Sequential(  nn.AdaptiveAvgPool2d(8),\n",
    "                                    upBlock(nfc_in, nfc[16]) ,\n",
    "                                    upBlock(nfc[16], nfc[32]),\n",
    "                                    upBlock(nfc[32], nfc[64]),\n",
    "                                    upBlock(nfc[64], nfc[128]),\n",
    "                                    conv2d(nfc[128], nc, 3, 1, 1, bias=False),\n",
    "                                    nn.Tanh() )\n",
    "\n",
    "    def forward(self, input):\n",
    "        # input shape: c x 4 x 4\n",
    "        return self.main(input)\n",
    "\n",
    "from random import randint\n",
    "def random_crop(image, size):\n",
    "    h, w = image.shape[2:]\n",
    "    ch = randint(0, h-size-1)\n",
    "    cw = randint(0, w-size-1)\n",
    "    return image[:,:,ch:ch+size,cw:cw+size]\n",
    "\n",
    "class TextureDiscriminator(nn.Module):\n",
    "    def __init__(self, ndf=64, nc=3, im_size=512):\n",
    "        super(TextureDiscriminator, self).__init__()\n",
    "        self.ndf = ndf\n",
    "        self.im_size = im_size\n",
    "\n",
    "        nfc_multi = {4:16, 8:8, 16:8, 32:4, 64:2, 128:1, 256:0.5, 512:0.25, 1024:0.125}\n",
    "        nfc = {}\n",
    "        for k, v in nfc_multi.items():\n",
    "            nfc[k] = int(v*ndf)\n",
    "\n",
    "        self.down_from_small = nn.Sequential( \n",
    "                                            conv2d(nc, nfc[256], 4, 2, 1, bias=False), \n",
    "                                            nn.LeakyReLU(0.2, inplace=True),\n",
    "                                            DownBlock(nfc[256],  nfc[128]),\n",
    "                                            DownBlock(nfc[128],  nfc[64]),\n",
    "                                            DownBlock(nfc[64],  nfc[32]), )\n",
    "        self.rf_small = nn.Sequential(\n",
    "                            conv2d(nfc[16], 1, 4, 1, 0, bias=False))\n",
    "\n",
    "        self.decoder_small = SimpleDecoder(nfc[32], nc)\n",
    "        \n",
    "    def forward(self, img, label):\n",
    "        img = random_crop(img, size=128)\n",
    "\n",
    "        feat_small = self.down_from_small(img)\n",
    "        rf = self.rf_small(feat_small).view(-1)\n",
    "        \n",
    "        if label=='real':    \n",
    "            rec_img_small = self.decoder_small(feat_small)\n",
    "\n",
    "            return rf, rec_img_small, img\n",
    "\n",
    "        return rf\n"
   ]
  },
  {
   "cell_type": "code",
   "execution_count": 2,
   "metadata": {},
   "outputs": [],
   "source": [
    "import os\n",
    "import numpy as np\n",
    "import torch\n",
    "import torch.utils.data as data\n",
    "from torch.utils.data import Dataset\n",
    "from PIL import Image\n",
    "from copy import deepcopy\n",
    "import shutil\n",
    "import json\n",
    "\n",
    "def InfiniteSampler(n):\n",
    "    \"\"\"Data sampler\"\"\"\n",
    "    i = n - 1\n",
    "    order = np.random.permutation(n)\n",
    "    while True:\n",
    "        yield order[i]\n",
    "        i += 1\n",
    "        if i >= n:\n",
    "            np.random.seed()\n",
    "            order = np.random.permutation(n)\n",
    "            i = 0\n",
    "\n",
    "\n",
    "class InfiniteSamplerWrapper(data.sampler.Sampler):\n",
    "    \"\"\"Data sampler wrapper\"\"\"\n",
    "    def __init__(self, data_source):\n",
    "        self.num_samples = len(data_source)\n",
    "\n",
    "    def __iter__(self):\n",
    "        return iter(InfiniteSampler(self.num_samples))\n",
    "\n",
    "    def __len__(self):\n",
    "        return 2 ** 31\n",
    "\n",
    "\n",
    "def copy_G_params(model):\n",
    "    flatten = deepcopy(list(p.data for p in model.parameters()))\n",
    "    return flatten\n",
    "    \n",
    "\n",
    "def load_params(model, new_param):\n",
    "    for p, new_p in zip(model.parameters(), new_param):\n",
    "        p.data.copy_(new_p)\n",
    "\n",
    "\n",
    "def get_dir(args):\n",
    "    task_name = 'train_results/' + args.name\n",
    "    saved_model_folder = os.path.join( task_name, 'models')\n",
    "    saved_image_folder = os.path.join( task_name, 'images')\n",
    "    \n",
    "    os.makedirs(saved_model_folder, exist_ok=True)\n",
    "    os.makedirs(saved_image_folder, exist_ok=True)\n",
    "\n",
    "\n",
    "    for f in os.listdir('./'):\n",
    "        if '.py' in f:\n",
    "            shutil.copy(f, task_name+'/'+f)\n",
    "    \n",
    "    with open( os.path.join(saved_model_folder, '../args.txt'), 'w') as f:\n",
    "        json.dump(args.__dict__, f, indent=2)\n",
    "\n",
    "    return saved_model_folder, saved_image_folder\n",
    "\n",
    "\n",
    "class  ImageFolder(Dataset):\n",
    "    \"\"\"docstring for ArtDataset\"\"\"\n",
    "    def __init__(self, root, transform=None):\n",
    "        super( ImageFolder, self).__init__()\n",
    "        self.root = root\n",
    "\n",
    "        self.frame = self._parse_frame()\n",
    "        self.transform = transform\n",
    "\n",
    "    def _parse_frame(self):\n",
    "        frame = []\n",
    "        img_names = os.listdir(self.root)\n",
    "        img_names.sort()\n",
    "        for i in range(len(img_names)):\n",
    "            image_path = os.path.join(self.root, img_names[i])\n",
    "            if image_path[-4:] == '.jpg' or image_path[-4:] == '.png' or image_path[-5:] == '.jpeg': \n",
    "                frame.append(image_path)\n",
    "        return frame\n",
    "\n",
    "    def __len__(self):\n",
    "        return len(self.frame)\n",
    "\n",
    "    def __getitem__(self, idx):\n",
    "        file = self.frame[idx]\n",
    "        img = Image.open(file).convert('RGB')\n",
    "            \n",
    "        if self.transform:\n",
    "            img = self.transform(img) \n",
    "\n",
    "        return img\n",
    "\n",
    "\n",
    "\n",
    "from io import BytesIO\n",
    "import lmdb\n",
    "from torch.utils.data import Dataset\n",
    "\n",
    "\n",
    "class MultiResolutionDataset(Dataset):\n",
    "    def __init__(self, path, transform, resolution=256):\n",
    "        self.env = lmdb.open(\n",
    "            path,\n",
    "            max_readers=32,\n",
    "            readonly=True,\n",
    "            lock=False,\n",
    "            readahead=False,\n",
    "            meminit=False,\n",
    "        )\n",
    "\n",
    "        if not self.env:\n",
    "            raise IOError('Cannot open lmdb dataset', path)\n",
    "\n",
    "        with self.env.begin(write=False) as txn:\n",
    "            self.length = int(txn.get('length'.encode('utf-8')).decode('utf-8'))\n",
    "\n",
    "        self.resolution = resolution\n",
    "        self.transform = transform\n",
    "\n",
    "    def __len__(self):\n",
    "        return self.length\n",
    "\n",
    "    def __getitem__(self, index):\n",
    "        with self.env.begin(write=False) as txn:\n",
    "            key = f'{self.resolution}-{str(index).zfill(5)}'.encode('utf-8')\n",
    "            img_bytes = txn.get(key)\n",
    "            #key_asp = f'aspect_ratio-{str(index).zfill(5)}'.encode('utf-8')\n",
    "            #aspect_ratio = float(txn.get(key_asp).decode())\n",
    "\n",
    "        buffer = BytesIO(img_bytes)\n",
    "        img = Image.open(buffer)\n",
    "        img = self.transform(img)\n",
    "\n",
    "        return img\n",
    "\n"
   ]
  },
  {
   "cell_type": "code",
   "execution_count": 3,
   "metadata": {},
   "outputs": [
    {
     "name": "stdout",
     "output_type": "stream",
     "text": [
      "/home/jovyan/NN/datasets/BV/train\n",
      "{'path': '/home/jovyan/NN/datasets/BV/train', 'cuda': 0, 'name': 'test_bv_256', 'iter': 100000, 'start_iter': 0, 'batch_size': 1, 'im_size': 256, 'ckpt': 'None', 'noise_dim': 400, 'fid_batch_size': 32}\n"
     ]
    },
    {
     "name": "stderr",
     "output_type": "stream",
     "text": [
      "Using cache found in /home/jovyan/.cache/torch/hub/pytorch_vision_v0.9.0\n",
      "/opt/conda/lib/python3.7/site-packages/torchvision/models/_utils.py:209: UserWarning: The parameter 'pretrained' is deprecated since 0.13 and may be removed in the future, please use 'weights' instead.\n",
      "  f\"The parameter '{pretrained_param}' is deprecated since 0.13 and may be removed in the future, \"\n",
      "/opt/conda/lib/python3.7/site-packages/torchvision/models/_utils.py:223: UserWarning: Arguments other than a weight enum or `None` for 'weights' are deprecated since 0.13 and may be removed in the future. The current behavior is equivalent to passing `weights=Inception_V3_Weights.IMAGENET1K_V1`. You can also use `weights=Inception_V3_Weights.DEFAULT` to get the most up-to-date weights.\n",
      "  warnings.warn(msg)\n",
      "  0%|          | 0/100001 [00:00<?, ?it/s]/opt/conda/lib/python3.7/site-packages/torch/functional.py:504: UserWarning: torch.meshgrid: in an upcoming release, it will be required to pass the indexing argument. (Triggered internally at ../aten/src/ATen/native/TensorShape.cpp:3190.)\n",
      "  return _VF.meshgrid(tensors, **kwargs)  # type: ignore[attr-defined]\n"
     ]
    },
    {
     "name": "stdout",
     "output_type": "stream",
     "text": [
      "GAN: loss d: 0.40576    loss g: -1.07622\n",
      "saving current model\n"
     ]
    },
    {
     "name": "stderr",
     "output_type": "stream",
     "text": [
      "\n",
      "  0%|          | 0/175 [00:00<?, ?it/s]\u001b[A"
     ]
    },
    {
     "name": "stdout",
     "output_type": "stream",
     "text": [
      "Number of real images: 5626\n"
     ]
    },
    {
     "name": "stderr",
     "output_type": "stream",
     "text": [
      "\n",
      "\n",
      "  0%|          | 0/15 [00:00<?, ?it/s]\u001b[A\u001b[A"
     ]
    },
    {
     "name": "stdout",
     "output_type": "stream",
     "text": [
      "Number of synthetic images: 500\n"
     ]
    },
    {
     "name": "stderr",
     "output_type": "stream",
     "text": [
      "  0%|          | 0/175 [00:09<?, ?it/s]\n",
      "  0%|          | 0/15 [00:00<?, ?it/s]"
     ]
    },
    {
     "name": "stdout",
     "output_type": "stream",
     "text": [
      "Current fid score: 5.359689818244959\n",
      "Fid scores: [5.359689818244959]\n",
      "New min fid score: 5.359689818245\n",
      "Saving best model\n"
     ]
    },
    {
     "name": "stderr",
     "output_type": "stream",
     "text": [
      "\n",
      "  0%|          | 102/100001 [00:39<3:11:53,  8.68it/s]"
     ]
    },
    {
     "name": "stdout",
     "output_type": "stream",
     "text": [
      "GAN: loss d: 2.23301    loss g: -2.12445\n"
     ]
    },
    {
     "name": "stderr",
     "output_type": "stream",
     "text": [
      "  0%|          | 202/100001 [00:50<3:04:45,  9.00it/s]"
     ]
    },
    {
     "name": "stdout",
     "output_type": "stream",
     "text": [
      "GAN: loss d: 1.48640    loss g: -2.48154\n"
     ]
    },
    {
     "name": "stderr",
     "output_type": "stream",
     "text": [
      "  0%|          | 302/100001 [01:01<3:08:36,  8.81it/s]"
     ]
    },
    {
     "name": "stdout",
     "output_type": "stream",
     "text": [
      "GAN: loss d: 2.74465    loss g: -1.71063\n"
     ]
    },
    {
     "name": "stderr",
     "output_type": "stream",
     "text": [
      "  0%|          | 402/100001 [01:13<3:12:23,  8.63it/s]"
     ]
    },
    {
     "name": "stdout",
     "output_type": "stream",
     "text": [
      "GAN: loss d: 2.44694    loss g: -2.59427\n"
     ]
    },
    {
     "name": "stderr",
     "output_type": "stream",
     "text": [
      "  1%|          | 502/100001 [01:24<3:14:41,  8.52it/s]"
     ]
    },
    {
     "name": "stdout",
     "output_type": "stream",
     "text": [
      "GAN: loss d: 2.19377    loss g: -1.75053\n"
     ]
    },
    {
     "name": "stderr",
     "output_type": "stream",
     "text": [
      "  1%|          | 602/100001 [01:35<3:04:56,  8.96it/s]"
     ]
    },
    {
     "name": "stdout",
     "output_type": "stream",
     "text": [
      "GAN: loss d: 2.93848    loss g: -2.74019\n"
     ]
    },
    {
     "name": "stderr",
     "output_type": "stream",
     "text": [
      "  1%|          | 702/100001 [01:47<3:06:29,  8.87it/s]"
     ]
    },
    {
     "name": "stdout",
     "output_type": "stream",
     "text": [
      "GAN: loss d: -0.06580    loss g: -1.28039\n"
     ]
    },
    {
     "name": "stderr",
     "output_type": "stream",
     "text": [
      "  1%|          | 802/100001 [01:58<3:07:51,  8.80it/s]"
     ]
    },
    {
     "name": "stdout",
     "output_type": "stream",
     "text": [
      "GAN: loss d: 1.64167    loss g: -2.30204\n"
     ]
    },
    {
     "name": "stderr",
     "output_type": "stream",
     "text": [
      "  1%|          | 902/100001 [02:09<3:04:51,  8.93it/s]"
     ]
    },
    {
     "name": "stdout",
     "output_type": "stream",
     "text": [
      "GAN: loss d: 2.03056    loss g: -2.16008\n"
     ]
    },
    {
     "name": "stderr",
     "output_type": "stream",
     "text": [
      "  1%|          | 1000/100001 [02:21<3:12:01,  8.59it/s]"
     ]
    },
    {
     "name": "stdout",
     "output_type": "stream",
     "text": [
      "GAN: loss d: -0.03578    loss g: -1.08565\n",
      "saving current model\n"
     ]
    },
    {
     "name": "stderr",
     "output_type": "stream",
     "text": [
      "\n",
      "  0%|          | 0/175 [00:00<?, ?it/s]\u001b[A"
     ]
    },
    {
     "name": "stdout",
     "output_type": "stream",
     "text": [
      "Number of real images: 5626\n"
     ]
    },
    {
     "name": "stderr",
     "output_type": "stream",
     "text": [
      "\n",
      "\n",
      "  0%|          | 0/15 [00:00<?, ?it/s]\u001b[A\u001b[A"
     ]
    },
    {
     "name": "stdout",
     "output_type": "stream",
     "text": [
      "Number of synthetic images: 500\n"
     ]
    },
    {
     "name": "stderr",
     "output_type": "stream",
     "text": [
      "  0%|          | 0/175 [00:09<?, ?it/s]\n",
      "  0%|          | 0/175 [00:09<?, ?it/s]\n",
      "  0%|          | 0/15 [00:00<?, ?it/s]"
     ]
    },
    {
     "name": "stdout",
     "output_type": "stream",
     "text": [
      "Current fid score: 2.479945282201154\n",
      "Fid scores: [5.359689818244959, 2.479945282201154]\n",
      "New min fid score: 2.479945282201\n",
      "Saving best model\n"
     ]
    },
    {
     "name": "stderr",
     "output_type": "stream",
     "text": [
      "\n",
      "  1%|          | 1101/100001 [02:58<3:05:07,  8.90it/s]  "
     ]
    },
    {
     "name": "stdout",
     "output_type": "stream",
     "text": [
      "GAN: loss d: 2.04270    loss g: -4.06557\n"
     ]
    },
    {
     "name": "stderr",
     "output_type": "stream",
     "text": [
      "  1%|          | 1201/100001 [03:09<3:05:05,  8.90it/s]"
     ]
    },
    {
     "name": "stdout",
     "output_type": "stream",
     "text": [
      "GAN: loss d: 0.95421    loss g: -2.19241\n"
     ]
    },
    {
     "name": "stderr",
     "output_type": "stream",
     "text": [
      "  1%|▏         | 1302/100001 [03:21<3:17:36,  8.32it/s]"
     ]
    },
    {
     "name": "stdout",
     "output_type": "stream",
     "text": [
      "GAN: loss d: 0.42065    loss g: -2.86514\n"
     ]
    },
    {
     "name": "stderr",
     "output_type": "stream",
     "text": [
      "  1%|▏         | 1401/100001 [03:32<3:10:17,  8.64it/s]"
     ]
    },
    {
     "name": "stdout",
     "output_type": "stream",
     "text": [
      "GAN: loss d: 1.38865    loss g: -3.90569\n"
     ]
    },
    {
     "name": "stderr",
     "output_type": "stream",
     "text": [
      "  2%|▏         | 1502/100001 [03:43<3:14:37,  8.43it/s]"
     ]
    },
    {
     "name": "stdout",
     "output_type": "stream",
     "text": [
      "GAN: loss d: 2.24894    loss g: -3.76795\n"
     ]
    },
    {
     "name": "stderr",
     "output_type": "stream",
     "text": [
      "  2%|▏         | 1602/100001 [03:55<3:06:11,  8.81it/s]"
     ]
    },
    {
     "name": "stdout",
     "output_type": "stream",
     "text": [
      "GAN: loss d: 0.54386    loss g: -1.82546\n"
     ]
    },
    {
     "name": "stderr",
     "output_type": "stream",
     "text": [
      "  2%|▏         | 1702/100001 [04:07<3:04:04,  8.90it/s]"
     ]
    },
    {
     "name": "stdout",
     "output_type": "stream",
     "text": [
      "GAN: loss d: -1.19112    loss g: -2.67681\n"
     ]
    },
    {
     "name": "stderr",
     "output_type": "stream",
     "text": [
      "  2%|▏         | 1802/100001 [04:18<3:11:09,  8.56it/s]"
     ]
    },
    {
     "name": "stdout",
     "output_type": "stream",
     "text": [
      "GAN: loss d: 0.39384    loss g: -2.35319\n"
     ]
    },
    {
     "name": "stderr",
     "output_type": "stream",
     "text": [
      "  2%|▏         | 1902/100001 [04:29<3:09:15,  8.64it/s]"
     ]
    },
    {
     "name": "stdout",
     "output_type": "stream",
     "text": [
      "GAN: loss d: 0.04284    loss g: -1.39289\n"
     ]
    },
    {
     "name": "stderr",
     "output_type": "stream",
     "text": [
      "  2%|▏         | 2000/100001 [04:40<3:03:15,  8.91it/s]"
     ]
    },
    {
     "name": "stdout",
     "output_type": "stream",
     "text": [
      "GAN: loss d: 2.45379    loss g: -1.24847\n",
      "saving current model\n"
     ]
    },
    {
     "name": "stderr",
     "output_type": "stream",
     "text": [
      "\n",
      "  0%|          | 0/175 [00:00<?, ?it/s]\u001b[A"
     ]
    },
    {
     "name": "stdout",
     "output_type": "stream",
     "text": [
      "Number of real images: 5626\n"
     ]
    },
    {
     "name": "stderr",
     "output_type": "stream",
     "text": [
      "\n",
      "\n",
      "  0%|          | 0/15 [00:00<?, ?it/s]\u001b[A\u001b[A"
     ]
    },
    {
     "name": "stdout",
     "output_type": "stream",
     "text": [
      "Number of synthetic images: 500\n"
     ]
    },
    {
     "name": "stderr",
     "output_type": "stream",
     "text": [
      "  2%|▏         | 2002/100001 [05:02<127:20:21,  4.68s/it]"
     ]
    },
    {
     "name": "stdout",
     "output_type": "stream",
     "text": [
      "Current fid score: 4.276308166260009\n",
      "Fid scores: [5.359689818244959, 2.479945282201154, 4.276308166260009]\n"
     ]
    },
    {
     "name": "stderr",
     "output_type": "stream",
     "text": [
      "  0%|          | 0/175 [00:16<?, ?it/s]1:54,  8.97it/s]  \n",
      "  0%|          | 0/15 [00:07<?, ?it/s]\n",
      "  2%|▏         | 2102/100001 [05:14<3:02:48,  8.93it/s]"
     ]
    },
    {
     "name": "stdout",
     "output_type": "stream",
     "text": [
      "GAN: loss d: 2.77131    loss g: -1.79689\n"
     ]
    },
    {
     "name": "stderr",
     "output_type": "stream",
     "text": [
      "  2%|▏         | 2202/100001 [05:25<3:12:57,  8.45it/s]"
     ]
    },
    {
     "name": "stdout",
     "output_type": "stream",
     "text": [
      "GAN: loss d: 2.23820    loss g: -2.42643\n"
     ]
    },
    {
     "name": "stderr",
     "output_type": "stream",
     "text": [
      "  2%|▏         | 2302/100001 [05:36<3:01:17,  8.98it/s]"
     ]
    },
    {
     "name": "stdout",
     "output_type": "stream",
     "text": [
      "GAN: loss d: 1.90342    loss g: -2.00083\n"
     ]
    },
    {
     "name": "stderr",
     "output_type": "stream",
     "text": [
      "  2%|▏         | 2402/100001 [05:48<3:11:42,  8.49it/s]"
     ]
    },
    {
     "name": "stdout",
     "output_type": "stream",
     "text": [
      "GAN: loss d: 2.06519    loss g: -1.76394\n"
     ]
    },
    {
     "name": "stderr",
     "output_type": "stream",
     "text": [
      "  3%|▎         | 2502/100001 [06:00<3:02:08,  8.92it/s]"
     ]
    },
    {
     "name": "stdout",
     "output_type": "stream",
     "text": [
      "GAN: loss d: 1.04395    loss g: -1.53925\n"
     ]
    },
    {
     "name": "stderr",
     "output_type": "stream",
     "text": [
      "  3%|▎         | 2602/100001 [06:11<3:07:34,  8.65it/s]"
     ]
    },
    {
     "name": "stdout",
     "output_type": "stream",
     "text": [
      "GAN: loss d: 1.37373    loss g: -1.96620\n"
     ]
    },
    {
     "name": "stderr",
     "output_type": "stream",
     "text": [
      "  3%|▎         | 2702/100001 [06:22<3:04:26,  8.79it/s]"
     ]
    },
    {
     "name": "stdout",
     "output_type": "stream",
     "text": [
      "GAN: loss d: 2.03044    loss g: -2.73114\n"
     ]
    },
    {
     "name": "stderr",
     "output_type": "stream",
     "text": [
      "  3%|▎         | 2802/100001 [06:33<3:03:48,  8.81it/s]"
     ]
    },
    {
     "name": "stdout",
     "output_type": "stream",
     "text": [
      "GAN: loss d: 2.72682    loss g: -1.88218\n"
     ]
    },
    {
     "name": "stderr",
     "output_type": "stream",
     "text": [
      "  3%|▎         | 2902/100001 [06:45<3:04:02,  8.79it/s]"
     ]
    },
    {
     "name": "stdout",
     "output_type": "stream",
     "text": [
      "GAN: loss d: 1.23468    loss g: -1.78192\n"
     ]
    },
    {
     "name": "stderr",
     "output_type": "stream",
     "text": [
      "  3%|▎         | 3000/100001 [06:56<3:02:08,  8.88it/s]"
     ]
    },
    {
     "name": "stdout",
     "output_type": "stream",
     "text": [
      "GAN: loss d: 0.04340    loss g: -2.19575\n",
      "saving current model\n"
     ]
    },
    {
     "name": "stderr",
     "output_type": "stream",
     "text": [
      "\n",
      "  0%|          | 0/175 [00:00<?, ?it/s]\u001b[A"
     ]
    },
    {
     "name": "stdout",
     "output_type": "stream",
     "text": [
      "Number of real images: 5626\n"
     ]
    },
    {
     "name": "stderr",
     "output_type": "stream",
     "text": [
      "\n",
      "\n",
      "  0%|          | 0/15 [00:00<?, ?it/s]\u001b[A\u001b[A"
     ]
    },
    {
     "name": "stdout",
     "output_type": "stream",
     "text": [
      "Number of synthetic images: 500\n"
     ]
    },
    {
     "name": "stderr",
     "output_type": "stream",
     "text": [
      "  3%|▎         | 3001/100001 [07:19<187:34:40,  6.96s/it]"
     ]
    },
    {
     "name": "stdout",
     "output_type": "stream",
     "text": [
      "Current fid score: 2.7291028486932554\n",
      "Fid scores: [5.359689818244959, 2.479945282201154, 4.276308166260009, 2.7291028486932554]\n"
     ]
    },
    {
     "name": "stderr",
     "output_type": "stream",
     "text": [
      "  0%|          | 0/175 [00:10<?, ?it/s]41:19,  1.14it/s] \n",
      "  0%|          | 0/15 [00:01<?, ?it/s]\n",
      "  3%|▎         | 3102/100001 [07:30<3:00:53,  8.93it/s] "
     ]
    },
    {
     "name": "stdout",
     "output_type": "stream",
     "text": [
      "GAN: loss d: 2.44629    loss g: -1.02944\n"
     ]
    },
    {
     "name": "stderr",
     "output_type": "stream",
     "text": [
      "  3%|▎         | 3202/100001 [07:41<3:01:19,  8.90it/s]"
     ]
    },
    {
     "name": "stdout",
     "output_type": "stream",
     "text": [
      "GAN: loss d: 0.63581    loss g: -1.90225\n"
     ]
    },
    {
     "name": "stderr",
     "output_type": "stream",
     "text": [
      "  3%|▎         | 3302/100001 [07:53<3:00:09,  8.95it/s]"
     ]
    },
    {
     "name": "stdout",
     "output_type": "stream",
     "text": [
      "GAN: loss d: 2.57062    loss g: -1.90787\n"
     ]
    },
    {
     "name": "stderr",
     "output_type": "stream",
     "text": [
      "  3%|▎         | 3402/100001 [08:04<3:01:44,  8.86it/s]"
     ]
    },
    {
     "name": "stdout",
     "output_type": "stream",
     "text": [
      "GAN: loss d: 3.10203    loss g: -2.12589\n"
     ]
    },
    {
     "name": "stderr",
     "output_type": "stream",
     "text": [
      "  4%|▎         | 3502/100001 [08:16<3:01:34,  8.86it/s]"
     ]
    },
    {
     "name": "stdout",
     "output_type": "stream",
     "text": [
      "GAN: loss d: 2.58580    loss g: -2.30761\n"
     ]
    },
    {
     "name": "stderr",
     "output_type": "stream",
     "text": [
      "  4%|▎         | 3601/100001 [08:27<3:09:57,  8.46it/s]"
     ]
    },
    {
     "name": "stdout",
     "output_type": "stream",
     "text": [
      "GAN: loss d: 1.20226    loss g: -1.65745\n"
     ]
    },
    {
     "name": "stderr",
     "output_type": "stream",
     "text": [
      "  4%|▎         | 3702/100001 [08:38<3:00:20,  8.90it/s]"
     ]
    },
    {
     "name": "stdout",
     "output_type": "stream",
     "text": [
      "GAN: loss d: 1.76167    loss g: -1.95575\n"
     ]
    },
    {
     "name": "stderr",
     "output_type": "stream",
     "text": [
      "  4%|▍         | 3802/100001 [08:50<3:06:03,  8.62it/s]"
     ]
    },
    {
     "name": "stdout",
     "output_type": "stream",
     "text": [
      "GAN: loss d: 0.88795    loss g: -1.29994\n"
     ]
    },
    {
     "name": "stderr",
     "output_type": "stream",
     "text": [
      "  4%|▍         | 3902/100001 [09:01<3:02:03,  8.80it/s]"
     ]
    },
    {
     "name": "stdout",
     "output_type": "stream",
     "text": [
      "GAN: loss d: 0.75926    loss g: -2.27623\n"
     ]
    },
    {
     "name": "stderr",
     "output_type": "stream",
     "text": [
      "  4%|▍         | 4000/100001 [09:12<3:01:44,  8.80it/s]"
     ]
    },
    {
     "name": "stdout",
     "output_type": "stream",
     "text": [
      "GAN: loss d: 2.75331    loss g: -1.93502\n",
      "saving current model\n"
     ]
    },
    {
     "name": "stderr",
     "output_type": "stream",
     "text": [
      "\n",
      "  0%|          | 0/175 [00:00<?, ?it/s]\u001b[A"
     ]
    },
    {
     "name": "stdout",
     "output_type": "stream",
     "text": [
      "Number of real images: 5626\n"
     ]
    },
    {
     "name": "stderr",
     "output_type": "stream",
     "text": [
      "\n",
      "\n",
      "  0%|          | 0/15 [00:00<?, ?it/s]\u001b[A\u001b[A"
     ]
    },
    {
     "name": "stdout",
     "output_type": "stream",
     "text": [
      "Number of synthetic images: 500\n"
     ]
    },
    {
     "name": "stderr",
     "output_type": "stream",
     "text": [
      "  4%|▍         | 4002/100001 [09:35<131:14:31,  4.92s/it]"
     ]
    },
    {
     "name": "stdout",
     "output_type": "stream",
     "text": [
      "Current fid score: 2.7908292593055535\n",
      "Fid scores: [5.359689818244959, 2.479945282201154, 4.276308166260009, 2.7291028486932554, 2.7908292593055535]\n"
     ]
    },
    {
     "name": "stderr",
     "output_type": "stream",
     "text": [
      "  0%|          | 0/175 [00:11<?, ?it/s]4:50,  4.05it/s]  \n",
      "  0%|          | 0/15 [00:02<?, ?it/s]\n",
      "  4%|▍         | 4102/100001 [09:46<2:58:24,  8.96it/s]"
     ]
    },
    {
     "name": "stdout",
     "output_type": "stream",
     "text": [
      "GAN: loss d: 2.39058    loss g: -1.98567\n"
     ]
    },
    {
     "name": "stderr",
     "output_type": "stream",
     "text": [
      "  4%|▍         | 4202/100001 [09:58<3:03:25,  8.70it/s]"
     ]
    },
    {
     "name": "stdout",
     "output_type": "stream",
     "text": [
      "GAN: loss d: 2.05799    loss g: -1.68667\n"
     ]
    },
    {
     "name": "stderr",
     "output_type": "stream",
     "text": [
      "  4%|▍         | 4302/100001 [10:09<2:57:50,  8.97it/s]"
     ]
    },
    {
     "name": "stdout",
     "output_type": "stream",
     "text": [
      "GAN: loss d: 1.41383    loss g: -2.31491\n"
     ]
    },
    {
     "name": "stderr",
     "output_type": "stream",
     "text": [
      "  4%|▍         | 4402/100001 [10:21<3:03:05,  8.70it/s]"
     ]
    },
    {
     "name": "stdout",
     "output_type": "stream",
     "text": [
      "GAN: loss d: 2.34563    loss g: -2.39099\n"
     ]
    },
    {
     "name": "stderr",
     "output_type": "stream",
     "text": [
      "  5%|▍         | 4501/100001 [10:32<3:00:20,  8.83it/s]"
     ]
    },
    {
     "name": "stdout",
     "output_type": "stream",
     "text": [
      "GAN: loss d: 3.22985    loss g: -2.97933\n"
     ]
    },
    {
     "name": "stderr",
     "output_type": "stream",
     "text": [
      "  5%|▍         | 4602/100001 [10:43<3:00:19,  8.82it/s]"
     ]
    },
    {
     "name": "stdout",
     "output_type": "stream",
     "text": [
      "GAN: loss d: 2.54752    loss g: -2.81711\n"
     ]
    },
    {
     "name": "stderr",
     "output_type": "stream",
     "text": [
      "  5%|▍         | 4701/100001 [10:54<3:01:25,  8.75it/s]"
     ]
    },
    {
     "name": "stdout",
     "output_type": "stream",
     "text": [
      "GAN: loss d: 2.87386    loss g: -1.56249\n"
     ]
    },
    {
     "name": "stderr",
     "output_type": "stream",
     "text": [
      "  5%|▍         | 4802/100001 [11:06<2:58:19,  8.90it/s]"
     ]
    },
    {
     "name": "stdout",
     "output_type": "stream",
     "text": [
      "GAN: loss d: 1.50231    loss g: -1.61426\n"
     ]
    },
    {
     "name": "stderr",
     "output_type": "stream",
     "text": [
      "  5%|▍         | 4902/100001 [11:17<3:08:10,  8.42it/s]"
     ]
    },
    {
     "name": "stdout",
     "output_type": "stream",
     "text": [
      "GAN: loss d: 0.74049    loss g: -2.10948\n"
     ]
    },
    {
     "name": "stderr",
     "output_type": "stream",
     "text": [
      "  5%|▍         | 5000/100001 [11:28<3:07:12,  8.46it/s]"
     ]
    },
    {
     "name": "stdout",
     "output_type": "stream",
     "text": [
      "GAN: loss d: 2.67931    loss g: -2.12065\n",
      "saving current model\n"
     ]
    },
    {
     "name": "stderr",
     "output_type": "stream",
     "text": [
      "\n",
      "  0%|          | 0/175 [00:00<?, ?it/s]\u001b[A"
     ]
    },
    {
     "name": "stdout",
     "output_type": "stream",
     "text": [
      "Number of real images: 5626\n"
     ]
    },
    {
     "name": "stderr",
     "output_type": "stream",
     "text": [
      "\n",
      "\n",
      "  0%|          | 0/15 [00:00<?, ?it/s]\u001b[A\u001b[A"
     ]
    },
    {
     "name": "stdout",
     "output_type": "stream",
     "text": [
      "Number of synthetic images: 500\n"
     ]
    },
    {
     "name": "stderr",
     "output_type": "stream",
     "text": [
      "  0%|          | 0/175 [00:09<?, ?it/s]\n",
      "  0%|          | 0/15 [00:00<?, ?it/s]"
     ]
    },
    {
     "name": "stdout",
     "output_type": "stream",
     "text": [
      "Current fid score: 2.3554975684525594\n",
      "Fid scores: [5.359689818244959, 2.479945282201154, 4.276308166260009, 2.7291028486932554, 2.7908292593055535, 2.3554975684525594]\n",
      "New min fid score: 2.355497568453\n",
      "Saving best model\n"
     ]
    },
    {
     "name": "stderr",
     "output_type": "stream",
     "text": [
      "\n",
      "  5%|▌         | 5102/100001 [12:06<2:59:53,  8.79it/s]  "
     ]
    },
    {
     "name": "stdout",
     "output_type": "stream",
     "text": [
      "GAN: loss d: 3.24738    loss g: -1.67847\n"
     ]
    },
    {
     "name": "stderr",
     "output_type": "stream",
     "text": [
      "  5%|▌         | 5202/100001 [12:18<3:00:42,  8.74it/s]"
     ]
    },
    {
     "name": "stdout",
     "output_type": "stream",
     "text": [
      "GAN: loss d: 2.88666    loss g: -2.71406\n"
     ]
    },
    {
     "name": "stderr",
     "output_type": "stream",
     "text": [
      "  5%|▌         | 5301/100001 [12:29<3:05:04,  8.53it/s]"
     ]
    },
    {
     "name": "stdout",
     "output_type": "stream",
     "text": [
      "GAN: loss d: 3.12612    loss g: -2.96902\n"
     ]
    },
    {
     "name": "stderr",
     "output_type": "stream",
     "text": [
      "  5%|▌         | 5402/100001 [12:40<3:01:05,  8.71it/s]"
     ]
    },
    {
     "name": "stdout",
     "output_type": "stream",
     "text": [
      "GAN: loss d: 3.06710    loss g: -3.17893\n"
     ]
    },
    {
     "name": "stderr",
     "output_type": "stream",
     "text": [
      "  6%|▌         | 5502/100001 [12:51<2:57:55,  8.85it/s]"
     ]
    },
    {
     "name": "stdout",
     "output_type": "stream",
     "text": [
      "GAN: loss d: 2.46327    loss g: -2.95809\n"
     ]
    },
    {
     "name": "stderr",
     "output_type": "stream",
     "text": [
      "  6%|▌         | 5602/100001 [13:03<2:58:09,  8.83it/s]"
     ]
    },
    {
     "name": "stdout",
     "output_type": "stream",
     "text": [
      "GAN: loss d: -1.03016    loss g: -2.38206\n"
     ]
    },
    {
     "name": "stderr",
     "output_type": "stream",
     "text": [
      "  6%|▌         | 5702/100001 [13:14<3:01:45,  8.65it/s]"
     ]
    },
    {
     "name": "stdout",
     "output_type": "stream",
     "text": [
      "GAN: loss d: 1.40357    loss g: -2.05198\n"
     ]
    },
    {
     "name": "stderr",
     "output_type": "stream",
     "text": [
      "  6%|▌         | 5802/100001 [13:26<2:55:24,  8.95it/s]"
     ]
    },
    {
     "name": "stdout",
     "output_type": "stream",
     "text": [
      "GAN: loss d: 0.27902    loss g: -1.42886\n"
     ]
    },
    {
     "name": "stderr",
     "output_type": "stream",
     "text": [
      "  6%|▌         | 5901/100001 [13:37<2:58:38,  8.78it/s]"
     ]
    },
    {
     "name": "stdout",
     "output_type": "stream",
     "text": [
      "GAN: loss d: 1.38891    loss g: -2.24778\n"
     ]
    },
    {
     "name": "stderr",
     "output_type": "stream",
     "text": [
      "  6%|▌         | 6000/100001 [13:48<2:58:26,  8.78it/s]"
     ]
    },
    {
     "name": "stdout",
     "output_type": "stream",
     "text": [
      "GAN: loss d: 0.78968    loss g: -1.81961\n",
      "saving current model\n"
     ]
    },
    {
     "name": "stderr",
     "output_type": "stream",
     "text": [
      "\n",
      "  0%|          | 0/175 [00:00<?, ?it/s]\u001b[A"
     ]
    },
    {
     "name": "stdout",
     "output_type": "stream",
     "text": [
      "Number of real images: 5626\n"
     ]
    },
    {
     "name": "stderr",
     "output_type": "stream",
     "text": [
      "\n",
      "\n",
      "  0%|          | 0/15 [00:00<?, ?it/s]\u001b[A\u001b[A"
     ]
    },
    {
     "name": "stdout",
     "output_type": "stream",
     "text": [
      "Number of synthetic images: 500\n"
     ]
    },
    {
     "name": "stderr",
     "output_type": "stream",
     "text": [
      "  6%|▌         | 6002/100001 [14:11<127:09:08,  4.87s/it]"
     ]
    },
    {
     "name": "stdout",
     "output_type": "stream",
     "text": [
      "Current fid score: 2.6142447727283162\n",
      "Fid scores: [5.359689818244959, 2.479945282201154, 4.276308166260009, 2.7291028486932554, 2.7908292593055535, 2.3554975684525594, 2.6142447727283162]\n"
     ]
    },
    {
     "name": "stderr",
     "output_type": "stream",
     "text": [
      "  0%|          | 0/175 [00:15<?, ?it/s]7:15,  8.83it/s]  \n",
      "  0%|          | 0/15 [00:06<?, ?it/s]\n",
      "  6%|▌         | 6102/100001 [14:22<2:55:57,  8.89it/s]"
     ]
    },
    {
     "name": "stdout",
     "output_type": "stream",
     "text": [
      "GAN: loss d: 0.28038    loss g: -1.65946\n"
     ]
    },
    {
     "name": "stderr",
     "output_type": "stream",
     "text": [
      "  6%|▌         | 6201/100001 [14:33<2:56:24,  8.86it/s]"
     ]
    },
    {
     "name": "stdout",
     "output_type": "stream",
     "text": [
      "GAN: loss d: 1.72433    loss g: -2.00348\n"
     ]
    },
    {
     "name": "stderr",
     "output_type": "stream",
     "text": [
      "  6%|▋         | 6302/100001 [14:45<3:03:41,  8.50it/s]"
     ]
    },
    {
     "name": "stdout",
     "output_type": "stream",
     "text": [
      "GAN: loss d: 2.02421    loss g: -2.80015\n"
     ]
    },
    {
     "name": "stderr",
     "output_type": "stream",
     "text": [
      "  6%|▋         | 6402/100001 [14:56<2:53:46,  8.98it/s]"
     ]
    },
    {
     "name": "stdout",
     "output_type": "stream",
     "text": [
      "GAN: loss d: 2.45244    loss g: -2.79082\n"
     ]
    },
    {
     "name": "stderr",
     "output_type": "stream",
     "text": [
      "  7%|▋         | 6502/100001 [15:07<3:01:12,  8.60it/s]"
     ]
    },
    {
     "name": "stdout",
     "output_type": "stream",
     "text": [
      "GAN: loss d: 2.06598    loss g: -2.07501\n"
     ]
    },
    {
     "name": "stderr",
     "output_type": "stream",
     "text": [
      "  7%|▋         | 6602/100001 [15:19<2:54:55,  8.90it/s]"
     ]
    },
    {
     "name": "stdout",
     "output_type": "stream",
     "text": [
      "GAN: loss d: 2.53439    loss g: -2.01769\n"
     ]
    },
    {
     "name": "stderr",
     "output_type": "stream",
     "text": [
      "  7%|▋         | 6701/100001 [15:30<2:58:13,  8.72it/s]"
     ]
    },
    {
     "name": "stdout",
     "output_type": "stream",
     "text": [
      "GAN: loss d: 1.51020    loss g: -2.61157\n"
     ]
    },
    {
     "name": "stderr",
     "output_type": "stream",
     "text": [
      "  7%|▋         | 6802/100001 [15:41<2:53:13,  8.97it/s]"
     ]
    },
    {
     "name": "stdout",
     "output_type": "stream",
     "text": [
      "GAN: loss d: 3.07759    loss g: -1.81158\n"
     ]
    },
    {
     "name": "stderr",
     "output_type": "stream",
     "text": [
      "  7%|▋         | 6901/100001 [15:52<3:02:10,  8.52it/s]"
     ]
    },
    {
     "name": "stdout",
     "output_type": "stream",
     "text": [
      "GAN: loss d: 2.13861    loss g: -1.39617\n"
     ]
    },
    {
     "name": "stderr",
     "output_type": "stream",
     "text": [
      "  7%|▋         | 7000/100001 [16:04<2:56:11,  8.80it/s]"
     ]
    },
    {
     "name": "stdout",
     "output_type": "stream",
     "text": [
      "GAN: loss d: 1.66414    loss g: -1.32047\n",
      "saving current model\n"
     ]
    },
    {
     "name": "stderr",
     "output_type": "stream",
     "text": [
      "\n",
      "  0%|          | 0/175 [00:00<?, ?it/s]\u001b[A"
     ]
    },
    {
     "name": "stdout",
     "output_type": "stream",
     "text": [
      "Number of real images: 5626\n"
     ]
    },
    {
     "name": "stderr",
     "output_type": "stream",
     "text": [
      "\n",
      "\n",
      "  0%|          | 0/15 [00:00<?, ?it/s]\u001b[A\u001b[A"
     ]
    },
    {
     "name": "stdout",
     "output_type": "stream",
     "text": [
      "Number of synthetic images: 500\n"
     ]
    },
    {
     "name": "stderr",
     "output_type": "stream",
     "text": [
      "  0%|          | 0/175 [00:09<?, ?it/s]\n",
      "  0%|          | 0/15 [00:00<?, ?it/s]"
     ]
    },
    {
     "name": "stdout",
     "output_type": "stream",
     "text": [
      "Current fid score: 2.1934954575945866\n",
      "Fid scores: [5.359689818244959, 2.479945282201154, 4.276308166260009, 2.7291028486932554, 2.7908292593055535, 2.3554975684525594, 2.6142447727283162, 2.1934954575945866]\n",
      "New min fid score: 2.193495457595\n",
      "Saving best model\n"
     ]
    },
    {
     "name": "stderr",
     "output_type": "stream",
     "text": [
      "\n",
      "  7%|▋         | 7102/100001 [16:41<2:58:39,  8.67it/s]  "
     ]
    },
    {
     "name": "stdout",
     "output_type": "stream",
     "text": [
      "GAN: loss d: 1.57640    loss g: -1.18848\n"
     ]
    },
    {
     "name": "stderr",
     "output_type": "stream",
     "text": [
      "  7%|▋         | 7202/100001 [16:53<2:57:19,  8.72it/s]"
     ]
    },
    {
     "name": "stdout",
     "output_type": "stream",
     "text": [
      "GAN: loss d: 2.18882    loss g: -1.84284\n"
     ]
    },
    {
     "name": "stderr",
     "output_type": "stream",
     "text": [
      "  7%|▋         | 7302/100001 [17:04<2:59:57,  8.59it/s]"
     ]
    },
    {
     "name": "stdout",
     "output_type": "stream",
     "text": [
      "GAN: loss d: 1.82011    loss g: -2.61520\n"
     ]
    },
    {
     "name": "stderr",
     "output_type": "stream",
     "text": [
      "  7%|▋         | 7402/100001 [17:15<2:52:20,  8.95it/s]"
     ]
    },
    {
     "name": "stdout",
     "output_type": "stream",
     "text": [
      "GAN: loss d: 2.06366    loss g: -2.51834\n"
     ]
    },
    {
     "name": "stderr",
     "output_type": "stream",
     "text": [
      "  8%|▊         | 7501/100001 [17:27<2:54:41,  8.83it/s]"
     ]
    },
    {
     "name": "stdout",
     "output_type": "stream",
     "text": [
      "GAN: loss d: 3.19040    loss g: -1.79218\n"
     ]
    },
    {
     "name": "stderr",
     "output_type": "stream",
     "text": [
      "  8%|▊         | 7601/100001 [17:38<3:00:59,  8.51it/s]"
     ]
    },
    {
     "name": "stdout",
     "output_type": "stream",
     "text": [
      "GAN: loss d: 2.05949    loss g: -2.49772\n"
     ]
    },
    {
     "name": "stderr",
     "output_type": "stream",
     "text": [
      "  8%|▊         | 7702/100001 [17:49<2:52:33,  8.91it/s]"
     ]
    },
    {
     "name": "stdout",
     "output_type": "stream",
     "text": [
      "GAN: loss d: 1.71429    loss g: -2.83359\n"
     ]
    },
    {
     "name": "stderr",
     "output_type": "stream",
     "text": [
      "  8%|▊         | 7802/100001 [18:01<2:52:49,  8.89it/s]"
     ]
    },
    {
     "name": "stdout",
     "output_type": "stream",
     "text": [
      "GAN: loss d: -0.23555    loss g: -2.10563\n"
     ]
    },
    {
     "name": "stderr",
     "output_type": "stream",
     "text": [
      "  8%|▊         | 7901/100001 [18:12<2:52:50,  8.88it/s]"
     ]
    },
    {
     "name": "stdout",
     "output_type": "stream",
     "text": [
      "GAN: loss d: 1.76339    loss g: -1.14090\n"
     ]
    },
    {
     "name": "stderr",
     "output_type": "stream",
     "text": [
      "  8%|▊         | 8000/100001 [18:23<2:52:18,  8.90it/s]"
     ]
    },
    {
     "name": "stdout",
     "output_type": "stream",
     "text": [
      "GAN: loss d: 1.37107    loss g: -2.21148\n",
      "saving current model\n"
     ]
    },
    {
     "name": "stderr",
     "output_type": "stream",
     "text": [
      "\n",
      "  0%|          | 0/175 [00:00<?, ?it/s]\u001b[A"
     ]
    },
    {
     "name": "stdout",
     "output_type": "stream",
     "text": [
      "Number of real images: 5626\n"
     ]
    },
    {
     "name": "stderr",
     "output_type": "stream",
     "text": [
      "\n",
      "\n",
      "  0%|          | 0/15 [00:00<?, ?it/s]\u001b[A\u001b[A"
     ]
    },
    {
     "name": "stdout",
     "output_type": "stream",
     "text": [
      "Number of synthetic images: 500\n"
     ]
    },
    {
     "name": "stderr",
     "output_type": "stream",
     "text": [
      "  8%|▊         | 8002/100001 [18:45<119:13:19,  4.67s/it]"
     ]
    },
    {
     "name": "stdout",
     "output_type": "stream",
     "text": [
      "Current fid score: 2.3990477193970783\n",
      "Fid scores: [5.359689818244959, 2.479945282201154, 4.276308166260009, 2.7291028486932554, 2.7908292593055535, 2.3554975684525594, 2.6142447727283162, 2.1934954575945866, 2.3990477193970783]\n"
     ]
    },
    {
     "name": "stderr",
     "output_type": "stream",
     "text": [
      "  0%|          | 0/175 [00:19<?, ?it/s]9:32,  8.53it/s]  \n",
      "  0%|          | 0/15 [00:10<?, ?it/s]\n",
      "  8%|▊         | 8102/100001 [18:56<2:57:29,  8.63it/s]"
     ]
    },
    {
     "name": "stdout",
     "output_type": "stream",
     "text": [
      "GAN: loss d: 3.00960    loss g: -1.48682\n"
     ]
    },
    {
     "name": "stderr",
     "output_type": "stream",
     "text": [
      "  8%|▊         | 8202/100001 [19:08<2:50:58,  8.95it/s]"
     ]
    },
    {
     "name": "stdout",
     "output_type": "stream",
     "text": [
      "GAN: loss d: 0.81059    loss g: -2.23331\n"
     ]
    },
    {
     "name": "stderr",
     "output_type": "stream",
     "text": [
      "  8%|▊         | 8302/100001 [19:19<2:49:58,  8.99it/s]"
     ]
    },
    {
     "name": "stdout",
     "output_type": "stream",
     "text": [
      "GAN: loss d: 0.97061    loss g: -2.09718\n"
     ]
    },
    {
     "name": "stderr",
     "output_type": "stream",
     "text": [
      "  8%|▊         | 8402/100001 [19:31<2:49:52,  8.99it/s]"
     ]
    },
    {
     "name": "stdout",
     "output_type": "stream",
     "text": [
      "GAN: loss d: 4.27619    loss g: -1.96997\n"
     ]
    },
    {
     "name": "stderr",
     "output_type": "stream",
     "text": [
      "  9%|▊         | 8502/100001 [19:42<2:49:42,  8.99it/s]"
     ]
    },
    {
     "name": "stdout",
     "output_type": "stream",
     "text": [
      "GAN: loss d: 1.89568    loss g: -1.01222\n"
     ]
    },
    {
     "name": "stderr",
     "output_type": "stream",
     "text": [
      "  9%|▊         | 8601/100001 [19:53<2:52:18,  8.84it/s]"
     ]
    },
    {
     "name": "stdout",
     "output_type": "stream",
     "text": [
      "GAN: loss d: 1.70088    loss g: -2.71925\n"
     ]
    },
    {
     "name": "stderr",
     "output_type": "stream",
     "text": [
      "  9%|▊         | 8702/100001 [20:04<2:57:08,  8.59it/s]"
     ]
    },
    {
     "name": "stdout",
     "output_type": "stream",
     "text": [
      "GAN: loss d: 2.31627    loss g: -2.29109\n"
     ]
    },
    {
     "name": "stderr",
     "output_type": "stream",
     "text": [
      "  9%|▉         | 8802/100001 [20:16<2:52:55,  8.79it/s]"
     ]
    },
    {
     "name": "stdout",
     "output_type": "stream",
     "text": [
      "GAN: loss d: 0.47617    loss g: -0.16318\n"
     ]
    },
    {
     "name": "stderr",
     "output_type": "stream",
     "text": [
      "  9%|▉         | 8902/100001 [20:27<2:49:33,  8.95it/s]"
     ]
    },
    {
     "name": "stdout",
     "output_type": "stream",
     "text": [
      "GAN: loss d: 1.38552    loss g: -2.09873\n"
     ]
    },
    {
     "name": "stderr",
     "output_type": "stream",
     "text": [
      "  9%|▉         | 9000/100001 [20:38<2:53:34,  8.74it/s]"
     ]
    },
    {
     "name": "stdout",
     "output_type": "stream",
     "text": [
      "GAN: loss d: 1.67284    loss g: -1.16872\n",
      "saving current model\n"
     ]
    },
    {
     "name": "stderr",
     "output_type": "stream",
     "text": [
      "\n",
      "  0%|          | 0/175 [00:00<?, ?it/s]\u001b[A"
     ]
    },
    {
     "name": "stdout",
     "output_type": "stream",
     "text": [
      "Number of real images: 5626\n"
     ]
    },
    {
     "name": "stderr",
     "output_type": "stream",
     "text": [
      "\n",
      "\n",
      "  0%|          | 0/15 [00:00<?, ?it/s]\u001b[A\u001b[A"
     ]
    },
    {
     "name": "stdout",
     "output_type": "stream",
     "text": [
      "Number of synthetic images: 500\n"
     ]
    },
    {
     "name": "stderr",
     "output_type": "stream",
     "text": [
      "  9%|▉         | 9002/100001 [21:01<122:38:00,  4.85s/it]"
     ]
    },
    {
     "name": "stdout",
     "output_type": "stream",
     "text": [
      "Current fid score: 2.221711896216327\n",
      "Fid scores: [5.359689818244959, 2.479945282201154, 4.276308166260009, 2.7291028486932554, 2.7908292593055535, 2.3554975684525594, 2.6142447727283162, 2.1934954575945866, 2.3990477193970783, 2.221711896216327]\n"
     ]
    },
    {
     "name": "stderr",
     "output_type": "stream",
     "text": [
      "  0%|          | 0/175 [00:15<?, ?it/s]0:51,  8.87it/s]  \n",
      "  0%|          | 0/15 [00:06<?, ?it/s]\n",
      "  9%|▉         | 9102/100001 [21:13<2:51:49,  8.82it/s]"
     ]
    },
    {
     "name": "stdout",
     "output_type": "stream",
     "text": [
      "GAN: loss d: 0.21310    loss g: -1.14744\n"
     ]
    },
    {
     "name": "stderr",
     "output_type": "stream",
     "text": [
      "  9%|▉         | 9201/100001 [21:24<2:59:20,  8.44it/s]"
     ]
    },
    {
     "name": "stdout",
     "output_type": "stream",
     "text": [
      "GAN: loss d: 1.52686    loss g: -1.79159\n"
     ]
    },
    {
     "name": "stderr",
     "output_type": "stream",
     "text": [
      "  9%|▉         | 9302/100001 [21:35<2:50:11,  8.88it/s]"
     ]
    },
    {
     "name": "stdout",
     "output_type": "stream",
     "text": [
      "GAN: loss d: 3.20634    loss g: -1.90423\n"
     ]
    },
    {
     "name": "stderr",
     "output_type": "stream",
     "text": [
      "  9%|▉         | 9402/100001 [21:46<2:52:17,  8.76it/s]"
     ]
    },
    {
     "name": "stdout",
     "output_type": "stream",
     "text": [
      "GAN: loss d: 0.38417    loss g: -2.44696\n"
     ]
    },
    {
     "name": "stderr",
     "output_type": "stream",
     "text": [
      " 10%|▉         | 9501/100001 [21:58<2:49:44,  8.89it/s]"
     ]
    },
    {
     "name": "stdout",
     "output_type": "stream",
     "text": [
      "GAN: loss d: 1.62869    loss g: -1.74932\n"
     ]
    },
    {
     "name": "stderr",
     "output_type": "stream",
     "text": [
      " 10%|▉         | 9602/100001 [22:09<2:49:07,  8.91it/s]"
     ]
    },
    {
     "name": "stdout",
     "output_type": "stream",
     "text": [
      "GAN: loss d: 4.20787    loss g: -3.76945\n"
     ]
    },
    {
     "name": "stderr",
     "output_type": "stream",
     "text": [
      " 10%|▉         | 9702/100001 [22:20<2:48:21,  8.94it/s]"
     ]
    },
    {
     "name": "stdout",
     "output_type": "stream",
     "text": [
      "GAN: loss d: 2.94040    loss g: -2.42266\n"
     ]
    },
    {
     "name": "stderr",
     "output_type": "stream",
     "text": [
      " 10%|▉         | 9802/100001 [22:32<2:57:04,  8.49it/s]"
     ]
    },
    {
     "name": "stdout",
     "output_type": "stream",
     "text": [
      "GAN: loss d: 2.02436    loss g: -1.42006\n"
     ]
    },
    {
     "name": "stderr",
     "output_type": "stream",
     "text": [
      " 10%|▉         | 9902/100001 [22:43<2:51:46,  8.74it/s]"
     ]
    },
    {
     "name": "stdout",
     "output_type": "stream",
     "text": [
      "GAN: loss d: 3.33637    loss g: -2.77604\n"
     ]
    },
    {
     "name": "stderr",
     "output_type": "stream",
     "text": [
      " 10%|▉         | 10000/100001 [22:54<2:44:24,  9.12it/s]"
     ]
    },
    {
     "name": "stdout",
     "output_type": "stream",
     "text": [
      "GAN: loss d: 4.55946    loss g: -0.84555\n",
      "saving current model\n"
     ]
    },
    {
     "name": "stderr",
     "output_type": "stream",
     "text": [
      "\n",
      "  0%|          | 0/175 [00:00<?, ?it/s]\u001b[A"
     ]
    },
    {
     "name": "stdout",
     "output_type": "stream",
     "text": [
      "Number of real images: 5626\n"
     ]
    },
    {
     "name": "stderr",
     "output_type": "stream",
     "text": [
      "\n",
      "\n",
      "  0%|          | 0/15 [00:00<?, ?it/s]\u001b[A\u001b[A"
     ]
    },
    {
     "name": "stdout",
     "output_type": "stream",
     "text": [
      "Number of synthetic images: 500\n"
     ]
    },
    {
     "name": "stderr",
     "output_type": "stream",
     "text": [
      " 10%|█         | 10002/100001 [23:17<120:21:08,  4.81s/it]"
     ]
    },
    {
     "name": "stdout",
     "output_type": "stream",
     "text": [
      "Current fid score: 2.3744210742787253\n",
      "Fid scores: [5.359689818244959, 2.479945282201154, 4.276308166260009, 2.7291028486932554, 2.7908292593055535, 2.3554975684525594, 2.6142447727283162, 2.1934954575945866, 2.3990477193970783, 2.221711896216327, 2.3744210742787253]\n"
     ]
    },
    {
     "name": "stderr",
     "output_type": "stream",
     "text": [
      "  0%|          | 0/175 [00:10<?, ?it/s]:39:30,  1.50it/s] \n",
      "  0%|          | 0/15 [00:01<?, ?it/s]\n",
      " 10%|█         | 10102/100001 [23:28<2:52:27,  8.69it/s] "
     ]
    },
    {
     "name": "stdout",
     "output_type": "stream",
     "text": [
      "GAN: loss d: 0.37528    loss g: -1.13749\n"
     ]
    },
    {
     "name": "stderr",
     "output_type": "stream",
     "text": [
      " 10%|█         | 10202/100001 [23:40<2:48:25,  8.89it/s]"
     ]
    },
    {
     "name": "stdout",
     "output_type": "stream",
     "text": [
      "GAN: loss d: 1.60479    loss g: -2.08682\n"
     ]
    },
    {
     "name": "stderr",
     "output_type": "stream",
     "text": [
      " 10%|█         | 10302/100001 [23:51<2:47:48,  8.91it/s]"
     ]
    },
    {
     "name": "stdout",
     "output_type": "stream",
     "text": [
      "GAN: loss d: 1.64788    loss g: -2.60643\n"
     ]
    },
    {
     "name": "stderr",
     "output_type": "stream",
     "text": [
      " 10%|█         | 10402/100001 [24:02<2:52:37,  8.65it/s]"
     ]
    },
    {
     "name": "stdout",
     "output_type": "stream",
     "text": [
      "GAN: loss d: 2.12891    loss g: -1.50634\n"
     ]
    },
    {
     "name": "stderr",
     "output_type": "stream",
     "text": [
      " 11%|█         | 10502/100001 [24:13<2:46:41,  8.95it/s]"
     ]
    },
    {
     "name": "stdout",
     "output_type": "stream",
     "text": [
      "GAN: loss d: 1.98210    loss g: -1.30798\n"
     ]
    },
    {
     "name": "stderr",
     "output_type": "stream",
     "text": [
      " 11%|█         | 10602/100001 [24:25<2:52:25,  8.64it/s]"
     ]
    },
    {
     "name": "stdout",
     "output_type": "stream",
     "text": [
      "GAN: loss d: 1.27721    loss g: -2.84104\n"
     ]
    },
    {
     "name": "stderr",
     "output_type": "stream",
     "text": [
      " 11%|█         | 10702/100001 [24:36<2:46:24,  8.94it/s]"
     ]
    },
    {
     "name": "stdout",
     "output_type": "stream",
     "text": [
      "GAN: loss d: 1.55172    loss g: -1.98432\n"
     ]
    },
    {
     "name": "stderr",
     "output_type": "stream",
     "text": [
      " 11%|█         | 10802/100001 [24:48<2:46:09,  8.95it/s]"
     ]
    },
    {
     "name": "stdout",
     "output_type": "stream",
     "text": [
      "GAN: loss d: 0.91825    loss g: -2.52109\n"
     ]
    },
    {
     "name": "stderr",
     "output_type": "stream",
     "text": [
      " 11%|█         | 10902/100001 [24:59<2:47:52,  8.85it/s]"
     ]
    },
    {
     "name": "stdout",
     "output_type": "stream",
     "text": [
      "GAN: loss d: 1.50136    loss g: -2.14148\n"
     ]
    },
    {
     "name": "stderr",
     "output_type": "stream",
     "text": [
      " 11%|█         | 11000/100001 [25:10<2:49:00,  8.78it/s]"
     ]
    },
    {
     "name": "stdout",
     "output_type": "stream",
     "text": [
      "GAN: loss d: 1.76185    loss g: -1.56092\n",
      "saving current model\n"
     ]
    },
    {
     "name": "stderr",
     "output_type": "stream",
     "text": [
      "\n",
      "  0%|          | 0/175 [00:00<?, ?it/s]\u001b[A"
     ]
    },
    {
     "name": "stdout",
     "output_type": "stream",
     "text": [
      "Number of real images: 5626\n"
     ]
    },
    {
     "name": "stderr",
     "output_type": "stream",
     "text": [
      "\n",
      "\n",
      "  0%|          | 0/15 [00:00<?, ?it/s]\u001b[A\u001b[A"
     ]
    },
    {
     "name": "stdout",
     "output_type": "stream",
     "text": [
      "Number of synthetic images: 500\n"
     ]
    },
    {
     "name": "stderr",
     "output_type": "stream",
     "text": [
      "  0%|          | 0/175 [00:09<?, ?it/s]\n",
      "  0%|          | 0/15 [00:00<?, ?it/s]"
     ]
    },
    {
     "name": "stdout",
     "output_type": "stream",
     "text": [
      "Current fid score: 2.066927836690496\n",
      "Fid scores: [5.359689818244959, 2.479945282201154, 4.276308166260009, 2.7291028486932554, 2.7908292593055535, 2.3554975684525594, 2.6142447727283162, 2.1934954575945866, 2.3990477193970783, 2.221711896216327, 2.3744210742787253, 2.066927836690496]\n",
      "New min fid score: 2.066927836690\n",
      "Saving best model\n"
     ]
    },
    {
     "name": "stderr",
     "output_type": "stream",
     "text": [
      "\n",
      " 11%|█         | 11102/100001 [25:47<2:45:46,  8.94it/s]  "
     ]
    },
    {
     "name": "stdout",
     "output_type": "stream",
     "text": [
      "GAN: loss d: 3.82066    loss g: -1.80110\n"
     ]
    },
    {
     "name": "stderr",
     "output_type": "stream",
     "text": [
      " 11%|█         | 11202/100001 [25:59<2:46:16,  8.90it/s]"
     ]
    },
    {
     "name": "stdout",
     "output_type": "stream",
     "text": [
      "GAN: loss d: 3.30827    loss g: -2.13959\n"
     ]
    },
    {
     "name": "stderr",
     "output_type": "stream",
     "text": [
      " 11%|█▏        | 11301/100001 [26:10<2:52:14,  8.58it/s]"
     ]
    },
    {
     "name": "stdout",
     "output_type": "stream",
     "text": [
      "GAN: loss d: 1.38132    loss g: -1.73859\n"
     ]
    },
    {
     "name": "stderr",
     "output_type": "stream",
     "text": [
      " 11%|█▏        | 11402/100001 [26:22<3:12:41,  7.66it/s]"
     ]
    },
    {
     "name": "stdout",
     "output_type": "stream",
     "text": [
      "GAN: loss d: 1.11984    loss g: -2.07610\n"
     ]
    },
    {
     "name": "stderr",
     "output_type": "stream",
     "text": [
      " 12%|█▏        | 11502/100001 [26:33<2:46:27,  8.86it/s]"
     ]
    },
    {
     "name": "stdout",
     "output_type": "stream",
     "text": [
      "GAN: loss d: 2.92210    loss g: -2.55589\n"
     ]
    },
    {
     "name": "stderr",
     "output_type": "stream",
     "text": [
      " 12%|█▏        | 11602/100001 [26:44<2:42:13,  9.08it/s]"
     ]
    },
    {
     "name": "stdout",
     "output_type": "stream",
     "text": [
      "GAN: loss d: 0.83607    loss g: -2.62901\n"
     ]
    },
    {
     "name": "stderr",
     "output_type": "stream",
     "text": [
      " 12%|█▏        | 11702/100001 [26:56<2:46:14,  8.85it/s]"
     ]
    },
    {
     "name": "stdout",
     "output_type": "stream",
     "text": [
      "GAN: loss d: 1.97474    loss g: -2.83220\n"
     ]
    },
    {
     "name": "stderr",
     "output_type": "stream",
     "text": [
      " 12%|█▏        | 11802/100001 [27:07<2:46:38,  8.82it/s]"
     ]
    },
    {
     "name": "stdout",
     "output_type": "stream",
     "text": [
      "GAN: loss d: 1.90387    loss g: -2.56286\n"
     ]
    },
    {
     "name": "stderr",
     "output_type": "stream",
     "text": [
      " 12%|█▏        | 11902/100001 [27:18<2:43:08,  9.00it/s]"
     ]
    },
    {
     "name": "stdout",
     "output_type": "stream",
     "text": [
      "GAN: loss d: 1.12681    loss g: -1.80686\n"
     ]
    },
    {
     "name": "stderr",
     "output_type": "stream",
     "text": [
      " 12%|█▏        | 12000/100001 [27:29<2:48:25,  8.71it/s]"
     ]
    },
    {
     "name": "stdout",
     "output_type": "stream",
     "text": [
      "GAN: loss d: 2.49023    loss g: -1.51820\n",
      "saving current model\n"
     ]
    },
    {
     "name": "stderr",
     "output_type": "stream",
     "text": [
      "\n",
      "  0%|          | 0/175 [00:00<?, ?it/s]\u001b[A"
     ]
    },
    {
     "name": "stdout",
     "output_type": "stream",
     "text": [
      "Number of real images: 5626\n"
     ]
    },
    {
     "name": "stderr",
     "output_type": "stream",
     "text": [
      "\n",
      "\n",
      "  0%|          | 0/15 [00:00<?, ?it/s]\u001b[A\u001b[A"
     ]
    },
    {
     "name": "stdout",
     "output_type": "stream",
     "text": [
      "Number of synthetic images: 500\n"
     ]
    },
    {
     "name": "stderr",
     "output_type": "stream",
     "text": [
      " 12%|█▏        | 12002/100001 [27:52<118:50:42,  4.86s/it]"
     ]
    },
    {
     "name": "stdout",
     "output_type": "stream",
     "text": [
      "Current fid score: 2.3716458827445166\n",
      "Fid scores: [5.359689818244959, 2.479945282201154, 4.276308166260009, 2.7291028486932554, 2.7908292593055535, 2.3554975684525594, 2.6142447727283162, 2.1934954575945866, 2.3990477193970783, 2.221711896216327, 2.3744210742787253, 2.066927836690496, 2.3716458827445166]\n"
     ]
    },
    {
     "name": "stderr",
     "output_type": "stream",
     "text": [
      "  0%|          | 0/175 [00:16<?, ?it/s]41:54,  9.05it/s]  \n",
      "  0%|          | 0/15 [00:07<?, ?it/s]\n",
      " 12%|█▏        | 12102/100001 [28:04<2:45:40,  8.84it/s]"
     ]
    },
    {
     "name": "stdout",
     "output_type": "stream",
     "text": [
      "GAN: loss d: 3.41601    loss g: -3.79843\n"
     ]
    },
    {
     "name": "stderr",
     "output_type": "stream",
     "text": [
      " 12%|█▏        | 12202/100001 [28:15<2:44:02,  8.92it/s]"
     ]
    },
    {
     "name": "stdout",
     "output_type": "stream",
     "text": [
      "GAN: loss d: 1.65202    loss g: -1.89156\n"
     ]
    },
    {
     "name": "stderr",
     "output_type": "stream",
     "text": [
      " 12%|█▏        | 12302/100001 [28:26<2:46:28,  8.78it/s]"
     ]
    },
    {
     "name": "stdout",
     "output_type": "stream",
     "text": [
      "GAN: loss d: 2.59351    loss g: -1.41846\n"
     ]
    },
    {
     "name": "stderr",
     "output_type": "stream",
     "text": [
      " 12%|█▏        | 12402/100001 [28:38<2:42:06,  9.01it/s]"
     ]
    },
    {
     "name": "stdout",
     "output_type": "stream",
     "text": [
      "GAN: loss d: 1.68461    loss g: -2.91298\n"
     ]
    },
    {
     "name": "stderr",
     "output_type": "stream",
     "text": [
      " 13%|█▎        | 12502/100001 [28:49<2:41:06,  9.05it/s]"
     ]
    },
    {
     "name": "stdout",
     "output_type": "stream",
     "text": [
      "GAN: loss d: 1.76304    loss g: -2.71820\n"
     ]
    },
    {
     "name": "stderr",
     "output_type": "stream",
     "text": [
      " 13%|█▎        | 12602/100001 [29:00<2:42:41,  8.95it/s]"
     ]
    },
    {
     "name": "stdout",
     "output_type": "stream",
     "text": [
      "GAN: loss d: 0.43013    loss g: -1.68226\n"
     ]
    },
    {
     "name": "stderr",
     "output_type": "stream",
     "text": [
      " 13%|█▎        | 12702/100001 [29:12<2:51:36,  8.48it/s]"
     ]
    },
    {
     "name": "stdout",
     "output_type": "stream",
     "text": [
      "GAN: loss d: 1.41396    loss g: -2.10762\n"
     ]
    },
    {
     "name": "stderr",
     "output_type": "stream",
     "text": [
      " 13%|█▎        | 12801/100001 [29:23<2:51:30,  8.47it/s]"
     ]
    },
    {
     "name": "stdout",
     "output_type": "stream",
     "text": [
      "GAN: loss d: 2.22468    loss g: -2.12556\n"
     ]
    },
    {
     "name": "stderr",
     "output_type": "stream",
     "text": [
      " 13%|█▎        | 12901/100001 [29:34<2:45:37,  8.76it/s]"
     ]
    },
    {
     "name": "stdout",
     "output_type": "stream",
     "text": [
      "GAN: loss d: 1.67186    loss g: -2.02497\n"
     ]
    },
    {
     "name": "stderr",
     "output_type": "stream",
     "text": [
      " 13%|█▎        | 13000/100001 [29:46<2:47:36,  8.65it/s]"
     ]
    },
    {
     "name": "stdout",
     "output_type": "stream",
     "text": [
      "GAN: loss d: 2.75966    loss g: -2.65948\n",
      "saving current model\n"
     ]
    },
    {
     "name": "stderr",
     "output_type": "stream",
     "text": [
      "\n",
      "  0%|          | 0/175 [00:00<?, ?it/s]\u001b[A"
     ]
    },
    {
     "name": "stdout",
     "output_type": "stream",
     "text": [
      "Number of real images: 5626\n"
     ]
    },
    {
     "name": "stderr",
     "output_type": "stream",
     "text": [
      "\n",
      "\n",
      "  0%|          | 0/15 [00:00<?, ?it/s]\u001b[A\u001b[A"
     ]
    },
    {
     "name": "stdout",
     "output_type": "stream",
     "text": [
      "Number of synthetic images: 500\n"
     ]
    },
    {
     "name": "stderr",
     "output_type": "stream",
     "text": [
      "  0%|          | 0/175 [00:09<?, ?it/s]\n",
      "  0%|          | 0/15 [00:00<?, ?it/s]"
     ]
    },
    {
     "name": "stdout",
     "output_type": "stream",
     "text": [
      "Current fid score: 1.9648397602519267\n",
      "Fid scores: [5.359689818244959, 2.479945282201154, 4.276308166260009, 2.7291028486932554, 2.7908292593055535, 2.3554975684525594, 2.6142447727283162, 2.1934954575945866, 2.3990477193970783, 2.221711896216327, 2.3744210742787253, 2.066927836690496, 2.3716458827445166, 1.9648397602519267]\n",
      "New min fid score: 1.964839760252\n",
      "Saving best model\n"
     ]
    },
    {
     "name": "stderr",
     "output_type": "stream",
     "text": [
      "\n",
      " 13%|█▎        | 13102/100001 [30:23<2:41:16,  8.98it/s]  "
     ]
    },
    {
     "name": "stdout",
     "output_type": "stream",
     "text": [
      "GAN: loss d: 1.80870    loss g: -2.77996\n"
     ]
    },
    {
     "name": "stderr",
     "output_type": "stream",
     "text": [
      " 13%|█▎        | 13202/100001 [30:35<2:39:43,  9.06it/s]"
     ]
    },
    {
     "name": "stdout",
     "output_type": "stream",
     "text": [
      "GAN: loss d: 1.91421    loss g: -1.91648\n"
     ]
    },
    {
     "name": "stderr",
     "output_type": "stream",
     "text": [
      " 13%|█▎        | 13302/100001 [30:46<2:42:42,  8.88it/s]"
     ]
    },
    {
     "name": "stdout",
     "output_type": "stream",
     "text": [
      "GAN: loss d: 2.81590    loss g: -2.28915\n"
     ]
    },
    {
     "name": "stderr",
     "output_type": "stream",
     "text": [
      " 13%|█▎        | 13402/100001 [30:57<2:45:20,  8.73it/s]"
     ]
    },
    {
     "name": "stdout",
     "output_type": "stream",
     "text": [
      "GAN: loss d: 4.16471    loss g: -1.95200\n"
     ]
    },
    {
     "name": "stderr",
     "output_type": "stream",
     "text": [
      " 14%|█▎        | 13502/100001 [31:09<2:39:55,  9.01it/s]"
     ]
    },
    {
     "name": "stdout",
     "output_type": "stream",
     "text": [
      "GAN: loss d: 1.07851    loss g: -1.89217\n"
     ]
    },
    {
     "name": "stderr",
     "output_type": "stream",
     "text": [
      " 14%|█▎        | 13602/100001 [31:20<2:48:17,  8.56it/s]"
     ]
    },
    {
     "name": "stdout",
     "output_type": "stream",
     "text": [
      "GAN: loss d: 2.71989    loss g: -2.54226\n"
     ]
    },
    {
     "name": "stderr",
     "output_type": "stream",
     "text": [
      " 14%|█▎        | 13702/100001 [31:32<2:45:04,  8.71it/s]"
     ]
    },
    {
     "name": "stdout",
     "output_type": "stream",
     "text": [
      "GAN: loss d: 1.12443    loss g: -2.24114\n"
     ]
    },
    {
     "name": "stderr",
     "output_type": "stream",
     "text": [
      " 14%|█▍        | 13801/100001 [31:43<2:46:38,  8.62it/s]"
     ]
    },
    {
     "name": "stdout",
     "output_type": "stream",
     "text": [
      "GAN: loss d: 1.69729    loss g: -1.84000\n"
     ]
    },
    {
     "name": "stderr",
     "output_type": "stream",
     "text": [
      " 14%|█▍        | 13902/100001 [31:55<2:51:04,  8.39it/s]"
     ]
    },
    {
     "name": "stdout",
     "output_type": "stream",
     "text": [
      "GAN: loss d: 1.84321    loss g: -1.80179\n"
     ]
    },
    {
     "name": "stderr",
     "output_type": "stream",
     "text": [
      " 14%|█▍        | 14000/100001 [32:06<2:38:36,  9.04it/s]"
     ]
    },
    {
     "name": "stdout",
     "output_type": "stream",
     "text": [
      "GAN: loss d: 1.73133    loss g: -1.69051\n",
      "saving current model\n"
     ]
    },
    {
     "name": "stderr",
     "output_type": "stream",
     "text": [
      "\n",
      "  0%|          | 0/175 [00:00<?, ?it/s]\u001b[A"
     ]
    },
    {
     "name": "stdout",
     "output_type": "stream",
     "text": [
      "Number of real images: 5626\n"
     ]
    },
    {
     "name": "stderr",
     "output_type": "stream",
     "text": [
      "\n",
      "\n",
      "  0%|          | 0/15 [00:00<?, ?it/s]\u001b[A\u001b[A"
     ]
    },
    {
     "name": "stdout",
     "output_type": "stream",
     "text": [
      "Number of synthetic images: 500\n"
     ]
    },
    {
     "name": "stderr",
     "output_type": "stream",
     "text": [
      "  0%|          | 0/175 [00:10<?, ?it/s]\n",
      "  0%|          | 0/15 [00:01<?, ?it/s]"
     ]
    },
    {
     "name": "stdout",
     "output_type": "stream",
     "text": [
      "Current fid score: 1.6998954497984542\n",
      "Fid scores: [5.359689818244959, 2.479945282201154, 4.276308166260009, 2.7291028486932554, 2.7908292593055535, 2.3554975684525594, 2.6142447727283162, 2.1934954575945866, 2.3990477193970783, 2.221711896216327, 2.3744210742787253, 2.066927836690496, 2.3716458827445166, 1.9648397602519267, 1.6998954497984542]\n",
      "New min fid score: 1.699895449798\n",
      "Saving best model\n"
     ]
    },
    {
     "name": "stderr",
     "output_type": "stream",
     "text": [
      "\n",
      " 14%|█▍        | 14101/100001 [32:43<2:45:30,  8.65it/s]  "
     ]
    },
    {
     "name": "stdout",
     "output_type": "stream",
     "text": [
      "GAN: loss d: 1.70743    loss g: -1.30691\n"
     ]
    },
    {
     "name": "stderr",
     "output_type": "stream",
     "text": [
      " 14%|█▍        | 14202/100001 [32:55<2:45:21,  8.65it/s]"
     ]
    },
    {
     "name": "stdout",
     "output_type": "stream",
     "text": [
      "GAN: loss d: 3.57492    loss g: -2.53374\n"
     ]
    },
    {
     "name": "stderr",
     "output_type": "stream",
     "text": [
      " 14%|█▍        | 14302/100001 [33:06<2:44:07,  8.70it/s]"
     ]
    },
    {
     "name": "stdout",
     "output_type": "stream",
     "text": [
      "GAN: loss d: 3.18986    loss g: -2.39205\n"
     ]
    },
    {
     "name": "stderr",
     "output_type": "stream",
     "text": [
      " 14%|█▍        | 14402/100001 [33:17<2:41:31,  8.83it/s]"
     ]
    },
    {
     "name": "stdout",
     "output_type": "stream",
     "text": [
      "GAN: loss d: 2.84008    loss g: -2.50646\n"
     ]
    },
    {
     "name": "stderr",
     "output_type": "stream",
     "text": [
      " 15%|█▍        | 14502/100001 [33:29<2:44:48,  8.65it/s]"
     ]
    },
    {
     "name": "stdout",
     "output_type": "stream",
     "text": [
      "GAN: loss d: 1.13710    loss g: -1.48594\n"
     ]
    },
    {
     "name": "stderr",
     "output_type": "stream",
     "text": [
      " 15%|█▍        | 14602/100001 [33:40<2:41:00,  8.84it/s]"
     ]
    },
    {
     "name": "stdout",
     "output_type": "stream",
     "text": [
      "GAN: loss d: 2.84683    loss g: -2.03184\n"
     ]
    },
    {
     "name": "stderr",
     "output_type": "stream",
     "text": [
      " 15%|█▍        | 14701/100001 [33:51<2:50:22,  8.34it/s]"
     ]
    },
    {
     "name": "stdout",
     "output_type": "stream",
     "text": [
      "GAN: loss d: 3.70279    loss g: -3.31464\n"
     ]
    },
    {
     "name": "stderr",
     "output_type": "stream",
     "text": [
      " 15%|█▍        | 14801/100001 [34:03<2:55:40,  8.08it/s]"
     ]
    },
    {
     "name": "stdout",
     "output_type": "stream",
     "text": [
      "GAN: loss d: 3.18952    loss g: -2.64979\n"
     ]
    },
    {
     "name": "stderr",
     "output_type": "stream",
     "text": [
      " 15%|█▍        | 14902/100001 [34:14<2:43:41,  8.66it/s]"
     ]
    },
    {
     "name": "stdout",
     "output_type": "stream",
     "text": [
      "GAN: loss d: 3.61403    loss g: -1.42675\n"
     ]
    },
    {
     "name": "stderr",
     "output_type": "stream",
     "text": [
      " 15%|█▍        | 15000/100001 [34:25<2:39:33,  8.88it/s]"
     ]
    },
    {
     "name": "stdout",
     "output_type": "stream",
     "text": [
      "GAN: loss d: 1.12795    loss g: -3.53854\n",
      "saving current model\n"
     ]
    },
    {
     "name": "stderr",
     "output_type": "stream",
     "text": [
      "\n",
      "  0%|          | 0/175 [00:00<?, ?it/s]\u001b[A"
     ]
    },
    {
     "name": "stdout",
     "output_type": "stream",
     "text": [
      "Number of real images: 5626\n"
     ]
    },
    {
     "name": "stderr",
     "output_type": "stream",
     "text": [
      "\n",
      "\n",
      "  0%|          | 0/15 [00:00<?, ?it/s]\u001b[A\u001b[A"
     ]
    },
    {
     "name": "stdout",
     "output_type": "stream",
     "text": [
      "Number of synthetic images: 500\n"
     ]
    },
    {
     "name": "stderr",
     "output_type": "stream",
     "text": [
      " 15%|█▌        | 15002/100001 [34:48<113:50:51,  4.82s/it]"
     ]
    },
    {
     "name": "stdout",
     "output_type": "stream",
     "text": [
      "Current fid score: 2.319731846121897\n",
      "Fid scores: [5.359689818244959, 2.479945282201154, 4.276308166260009, 2.7291028486932554, 2.7908292593055535, 2.3554975684525594, 2.6142447727283162, 2.1934954575945866, 2.3990477193970783, 2.221711896216327, 2.3744210742787253, 2.066927836690496, 2.3716458827445166, 1.9648397602519267, 1.6998954497984542, 2.319731846121897]\n"
     ]
    },
    {
     "name": "stderr",
     "output_type": "stream",
     "text": [
      "  0%|          | 0/175 [00:19<?, ?it/s]38:47,  8.91it/s]  \n",
      "  0%|          | 0/15 [00:10<?, ?it/s]\n",
      " 15%|█▌        | 15102/100001 [34:59<2:44:38,  8.59it/s]"
     ]
    },
    {
     "name": "stdout",
     "output_type": "stream",
     "text": [
      "GAN: loss d: 4.35982    loss g: -2.88915\n"
     ]
    },
    {
     "name": "stderr",
     "output_type": "stream",
     "text": [
      " 15%|█▌        | 15202/100001 [35:11<2:38:04,  8.94it/s]"
     ]
    },
    {
     "name": "stdout",
     "output_type": "stream",
     "text": [
      "GAN: loss d: 2.62071    loss g: -3.21835\n"
     ]
    },
    {
     "name": "stderr",
     "output_type": "stream",
     "text": [
      " 15%|█▌        | 15302/100001 [35:22<2:42:38,  8.68it/s]"
     ]
    },
    {
     "name": "stdout",
     "output_type": "stream",
     "text": [
      "GAN: loss d: 4.07821    loss g: -3.03736\n"
     ]
    },
    {
     "name": "stderr",
     "output_type": "stream",
     "text": [
      " 15%|█▌        | 15401/100001 [35:33<2:42:30,  8.68it/s]"
     ]
    },
    {
     "name": "stdout",
     "output_type": "stream",
     "text": [
      "GAN: loss d: 1.01155    loss g: -2.45622\n"
     ]
    },
    {
     "name": "stderr",
     "output_type": "stream",
     "text": [
      " 16%|█▌        | 15502/100001 [35:45<2:45:33,  8.51it/s]"
     ]
    },
    {
     "name": "stdout",
     "output_type": "stream",
     "text": [
      "GAN: loss d: 3.39113    loss g: -2.99452\n"
     ]
    },
    {
     "name": "stderr",
     "output_type": "stream",
     "text": [
      " 16%|█▌        | 15602/100001 [35:56<2:41:54,  8.69it/s]"
     ]
    },
    {
     "name": "stdout",
     "output_type": "stream",
     "text": [
      "GAN: loss d: 3.03424    loss g: -0.84698\n"
     ]
    },
    {
     "name": "stderr",
     "output_type": "stream",
     "text": [
      " 16%|█▌        | 15702/100001 [36:08<2:36:25,  8.98it/s]"
     ]
    },
    {
     "name": "stdout",
     "output_type": "stream",
     "text": [
      "GAN: loss d: 4.36570    loss g: -1.29116\n"
     ]
    },
    {
     "name": "stderr",
     "output_type": "stream",
     "text": [
      " 16%|█▌        | 15802/100001 [36:19<2:35:55,  9.00it/s]"
     ]
    },
    {
     "name": "stdout",
     "output_type": "stream",
     "text": [
      "GAN: loss d: 2.70507    loss g: -2.47414\n"
     ]
    },
    {
     "name": "stderr",
     "output_type": "stream",
     "text": [
      " 16%|█▌        | 15901/100001 [36:30<2:41:22,  8.69it/s]"
     ]
    },
    {
     "name": "stdout",
     "output_type": "stream",
     "text": [
      "GAN: loss d: 4.83515    loss g: -1.71055\n"
     ]
    },
    {
     "name": "stderr",
     "output_type": "stream",
     "text": [
      " 16%|█▌        | 16000/100001 [36:41<2:38:45,  8.82it/s]"
     ]
    },
    {
     "name": "stdout",
     "output_type": "stream",
     "text": [
      "GAN: loss d: 2.07599    loss g: -1.99736\n",
      "saving current model\n"
     ]
    },
    {
     "name": "stderr",
     "output_type": "stream",
     "text": [
      "\n",
      "  0%|          | 0/175 [00:00<?, ?it/s]\u001b[A"
     ]
    },
    {
     "name": "stdout",
     "output_type": "stream",
     "text": [
      "Number of real images: 5626\n"
     ]
    },
    {
     "name": "stderr",
     "output_type": "stream",
     "text": [
      "\n",
      "\n",
      "  0%|          | 0/15 [00:00<?, ?it/s]\u001b[A\u001b[A"
     ]
    },
    {
     "name": "stdout",
     "output_type": "stream",
     "text": [
      "Number of synthetic images: 500\n"
     ]
    },
    {
     "name": "stderr",
     "output_type": "stream",
     "text": [
      " 16%|█▌        | 16001/100001 [37:04<161:46:14,  6.93s/it]"
     ]
    },
    {
     "name": "stdout",
     "output_type": "stream",
     "text": [
      "Current fid score: 1.7800607345901547\n",
      "Fid scores: [5.359689818244959, 2.479945282201154, 4.276308166260009, 2.7291028486932554, 2.7908292593055535, 2.3554975684525594, 2.6142447727283162, 2.1934954575945866, 2.3990477193970783, 2.221711896216327, 2.3744210742787253, 2.066927836690496, 2.3716458827445166, 1.9648397602519267, 1.6998954497984542, 2.319731846121897, 1.7800607345901547]\n"
     ]
    },
    {
     "name": "stderr",
     "output_type": "stream",
     "text": [
      "  0%|          | 0/175 [00:15<?, ?it/s]32:59,  9.15it/s]  \n",
      "  0%|          | 0/15 [00:06<?, ?it/s]\n",
      " 16%|█▌        | 16102/100001 [37:16<2:33:47,  9.09it/s]"
     ]
    },
    {
     "name": "stdout",
     "output_type": "stream",
     "text": [
      "GAN: loss d: 2.39639    loss g: -2.62726\n"
     ]
    },
    {
     "name": "stderr",
     "output_type": "stream",
     "text": [
      " 16%|█▌        | 16202/100001 [37:27<2:38:40,  8.80it/s]"
     ]
    },
    {
     "name": "stdout",
     "output_type": "stream",
     "text": [
      "GAN: loss d: 1.89035    loss g: -2.42676\n"
     ]
    },
    {
     "name": "stderr",
     "output_type": "stream",
     "text": [
      " 16%|█▋        | 16302/100001 [37:38<2:43:26,  8.53it/s]"
     ]
    },
    {
     "name": "stdout",
     "output_type": "stream",
     "text": [
      "GAN: loss d: 1.76364    loss g: -3.42723\n"
     ]
    },
    {
     "name": "stderr",
     "output_type": "stream",
     "text": [
      " 16%|█▋        | 16402/100001 [37:50<2:37:59,  8.82it/s]"
     ]
    },
    {
     "name": "stdout",
     "output_type": "stream",
     "text": [
      "GAN: loss d: 2.33668    loss g: -2.99600\n"
     ]
    },
    {
     "name": "stderr",
     "output_type": "stream",
     "text": [
      " 17%|█▋        | 16502/100001 [38:01<2:40:09,  8.69it/s]"
     ]
    },
    {
     "name": "stdout",
     "output_type": "stream",
     "text": [
      "GAN: loss d: 0.14005    loss g: -2.24695\n"
     ]
    },
    {
     "name": "stderr",
     "output_type": "stream",
     "text": [
      " 17%|█▋        | 16602/100001 [38:13<2:38:35,  8.76it/s]"
     ]
    },
    {
     "name": "stdout",
     "output_type": "stream",
     "text": [
      "GAN: loss d: 3.92165    loss g: -2.15141\n"
     ]
    },
    {
     "name": "stderr",
     "output_type": "stream",
     "text": [
      " 17%|█▋        | 16702/100001 [38:24<2:39:25,  8.71it/s]"
     ]
    },
    {
     "name": "stdout",
     "output_type": "stream",
     "text": [
      "GAN: loss d: 1.40643    loss g: -2.84598\n"
     ]
    },
    {
     "name": "stderr",
     "output_type": "stream",
     "text": [
      " 17%|█▋        | 16802/100001 [38:36<2:40:02,  8.66it/s]"
     ]
    },
    {
     "name": "stdout",
     "output_type": "stream",
     "text": [
      "GAN: loss d: 0.00298    loss g: -2.49722\n"
     ]
    },
    {
     "name": "stderr",
     "output_type": "stream",
     "text": [
      " 17%|█▋        | 16902/100001 [38:47<2:36:36,  8.84it/s]"
     ]
    },
    {
     "name": "stdout",
     "output_type": "stream",
     "text": [
      "GAN: loss d: 0.90972    loss g: -2.62399\n"
     ]
    },
    {
     "name": "stderr",
     "output_type": "stream",
     "text": [
      " 17%|█▋        | 17000/100001 [38:58<2:35:09,  8.92it/s]"
     ]
    },
    {
     "name": "stdout",
     "output_type": "stream",
     "text": [
      "GAN: loss d: 4.72533    loss g: -2.03426\n",
      "saving current model\n"
     ]
    },
    {
     "name": "stderr",
     "output_type": "stream",
     "text": [
      "\n",
      "  0%|          | 0/175 [00:00<?, ?it/s]\u001b[A"
     ]
    },
    {
     "name": "stdout",
     "output_type": "stream",
     "text": [
      "Number of real images: 5626\n"
     ]
    },
    {
     "name": "stderr",
     "output_type": "stream",
     "text": [
      "\n",
      "\n",
      "  0%|          | 0/15 [00:00<?, ?it/s]\u001b[A\u001b[A"
     ]
    },
    {
     "name": "stdout",
     "output_type": "stream",
     "text": [
      "Number of synthetic images: 500\n"
     ]
    },
    {
     "name": "stderr",
     "output_type": "stream",
     "text": [
      "  0%|          | 0/175 [00:09<?, ?it/s]\n",
      "  0%|          | 0/15 [00:00<?, ?it/s]"
     ]
    },
    {
     "name": "stdout",
     "output_type": "stream",
     "text": [
      "Current fid score: 1.4056094758332023\n",
      "Fid scores: [5.359689818244959, 2.479945282201154, 4.276308166260009, 2.7291028486932554, 2.7908292593055535, 2.3554975684525594, 2.6142447727283162, 2.1934954575945866, 2.3990477193970783, 2.221711896216327, 2.3744210742787253, 2.066927836690496, 2.3716458827445166, 1.9648397602519267, 1.6998954497984542, 2.319731846121897, 1.7800607345901547, 1.4056094758332023]\n",
      "New min fid score: 1.405609475833\n",
      "Saving best model\n"
     ]
    },
    {
     "name": "stderr",
     "output_type": "stream",
     "text": [
      "\n",
      " 17%|█▋        | 17102/100001 [39:35<2:40:00,  8.64it/s]  "
     ]
    },
    {
     "name": "stdout",
     "output_type": "stream",
     "text": [
      "GAN: loss d: 2.21056    loss g: -2.23479\n"
     ]
    },
    {
     "name": "stderr",
     "output_type": "stream",
     "text": [
      " 17%|█▋        | 17202/100001 [39:46<2:32:46,  9.03it/s]"
     ]
    },
    {
     "name": "stdout",
     "output_type": "stream",
     "text": [
      "GAN: loss d: 1.38043    loss g: -2.84666\n"
     ]
    },
    {
     "name": "stderr",
     "output_type": "stream",
     "text": [
      " 17%|█▋        | 17302/100001 [39:57<2:34:04,  8.95it/s]"
     ]
    },
    {
     "name": "stdout",
     "output_type": "stream",
     "text": [
      "GAN: loss d: 1.97519    loss g: -3.00121\n"
     ]
    },
    {
     "name": "stderr",
     "output_type": "stream",
     "text": [
      " 17%|█▋        | 17402/100001 [40:09<2:35:51,  8.83it/s]"
     ]
    },
    {
     "name": "stdout",
     "output_type": "stream",
     "text": [
      "GAN: loss d: 1.47778    loss g: -2.00611\n"
     ]
    },
    {
     "name": "stderr",
     "output_type": "stream",
     "text": [
      " 18%|█▊        | 17502/100001 [40:20<2:36:37,  8.78it/s]"
     ]
    },
    {
     "name": "stdout",
     "output_type": "stream",
     "text": [
      "GAN: loss d: 2.62179    loss g: -1.64739\n"
     ]
    },
    {
     "name": "stderr",
     "output_type": "stream",
     "text": [
      " 18%|█▊        | 17602/100001 [40:32<2:35:27,  8.83it/s]"
     ]
    },
    {
     "name": "stdout",
     "output_type": "stream",
     "text": [
      "GAN: loss d: 3.76208    loss g: -2.97418\n"
     ]
    },
    {
     "name": "stderr",
     "output_type": "stream",
     "text": [
      " 18%|█▊        | 17701/100001 [40:43<2:34:20,  8.89it/s]"
     ]
    },
    {
     "name": "stdout",
     "output_type": "stream",
     "text": [
      "GAN: loss d: 5.79981    loss g: -1.91686\n"
     ]
    },
    {
     "name": "stderr",
     "output_type": "stream",
     "text": [
      " 18%|█▊        | 17802/100001 [40:54<2:37:26,  8.70it/s]"
     ]
    },
    {
     "name": "stdout",
     "output_type": "stream",
     "text": [
      "GAN: loss d: 3.71660    loss g: -1.73527\n"
     ]
    },
    {
     "name": "stderr",
     "output_type": "stream",
     "text": [
      " 18%|█▊        | 17902/100001 [41:06<2:39:29,  8.58it/s]"
     ]
    },
    {
     "name": "stdout",
     "output_type": "stream",
     "text": [
      "GAN: loss d: 1.41583    loss g: -3.38456\n"
     ]
    },
    {
     "name": "stderr",
     "output_type": "stream",
     "text": [
      " 18%|█▊        | 18000/100001 [41:17<2:43:41,  8.35it/s]"
     ]
    },
    {
     "name": "stdout",
     "output_type": "stream",
     "text": [
      "GAN: loss d: 2.11948    loss g: -3.21853\n",
      "saving current model\n"
     ]
    },
    {
     "name": "stderr",
     "output_type": "stream",
     "text": [
      "\n",
      "  0%|          | 0/175 [00:00<?, ?it/s]\u001b[A"
     ]
    },
    {
     "name": "stdout",
     "output_type": "stream",
     "text": [
      "Number of real images: 5626\n"
     ]
    },
    {
     "name": "stderr",
     "output_type": "stream",
     "text": [
      "\n",
      "\n",
      "  0%|          | 0/15 [00:00<?, ?it/s]\u001b[A\u001b[A"
     ]
    },
    {
     "name": "stdout",
     "output_type": "stream",
     "text": [
      "Number of synthetic images: 500\n"
     ]
    },
    {
     "name": "stderr",
     "output_type": "stream",
     "text": [
      "  0%|          | 0/175 [00:09<?, ?it/s]\n",
      "  0%|          | 0/15 [00:00<?, ?it/s]"
     ]
    },
    {
     "name": "stdout",
     "output_type": "stream",
     "text": [
      "Current fid score: 1.1810571313010847\n",
      "Fid scores: [5.359689818244959, 2.479945282201154, 4.276308166260009, 2.7291028486932554, 2.7908292593055535, 2.3554975684525594, 2.6142447727283162, 2.1934954575945866, 2.3990477193970783, 2.221711896216327, 2.3744210742787253, 2.066927836690496, 2.3716458827445166, 1.9648397602519267, 1.6998954497984542, 2.319731846121897, 1.7800607345901547, 1.4056094758332023, 1.1810571313010847]\n",
      "New min fid score: 1.181057131301\n",
      "Saving best model\n"
     ]
    },
    {
     "name": "stderr",
     "output_type": "stream",
     "text": [
      "\n",
      " 18%|█▊        | 18102/100001 [41:55<2:36:30,  8.72it/s]  "
     ]
    },
    {
     "name": "stdout",
     "output_type": "stream",
     "text": [
      "GAN: loss d: 0.21921    loss g: -2.47106\n"
     ]
    },
    {
     "name": "stderr",
     "output_type": "stream",
     "text": [
      " 18%|█▊        | 18202/100001 [42:06<2:37:09,  8.68it/s]"
     ]
    },
    {
     "name": "stdout",
     "output_type": "stream",
     "text": [
      "GAN: loss d: 3.60110    loss g: -2.31543\n"
     ]
    },
    {
     "name": "stderr",
     "output_type": "stream",
     "text": [
      " 18%|█▊        | 18302/100001 [42:18<2:34:43,  8.80it/s]"
     ]
    },
    {
     "name": "stdout",
     "output_type": "stream",
     "text": [
      "GAN: loss d: 3.13204    loss g: -2.53826\n"
     ]
    },
    {
     "name": "stderr",
     "output_type": "stream",
     "text": [
      " 18%|█▊        | 18402/100001 [42:29<2:33:56,  8.83it/s]"
     ]
    },
    {
     "name": "stdout",
     "output_type": "stream",
     "text": [
      "GAN: loss d: 3.11772    loss g: -2.28268\n"
     ]
    },
    {
     "name": "stderr",
     "output_type": "stream",
     "text": [
      " 19%|█▊        | 18502/100001 [42:40<2:29:37,  9.08it/s]"
     ]
    },
    {
     "name": "stdout",
     "output_type": "stream",
     "text": [
      "GAN: loss d: 1.64522    loss g: -1.73576\n"
     ]
    },
    {
     "name": "stderr",
     "output_type": "stream",
     "text": [
      " 19%|█▊        | 18601/100001 [42:52<2:36:31,  8.67it/s]"
     ]
    },
    {
     "name": "stdout",
     "output_type": "stream",
     "text": [
      "GAN: loss d: 1.78760    loss g: -2.80907\n"
     ]
    },
    {
     "name": "stderr",
     "output_type": "stream",
     "text": [
      " 19%|█▊        | 18702/100001 [43:03<2:31:36,  8.94it/s]"
     ]
    },
    {
     "name": "stdout",
     "output_type": "stream",
     "text": [
      "GAN: loss d: 3.19324    loss g: -2.43975\n"
     ]
    },
    {
     "name": "stderr",
     "output_type": "stream",
     "text": [
      " 19%|█▉        | 18802/100001 [43:14<2:33:43,  8.80it/s]"
     ]
    },
    {
     "name": "stdout",
     "output_type": "stream",
     "text": [
      "GAN: loss d: 3.58446    loss g: -3.02490\n"
     ]
    },
    {
     "name": "stderr",
     "output_type": "stream",
     "text": [
      " 19%|█▉        | 18902/100001 [43:26<2:33:20,  8.81it/s]"
     ]
    },
    {
     "name": "stdout",
     "output_type": "stream",
     "text": [
      "GAN: loss d: 1.45158    loss g: -1.94338\n"
     ]
    },
    {
     "name": "stderr",
     "output_type": "stream",
     "text": [
      " 19%|█▉        | 19000/100001 [43:37<2:33:19,  8.81it/s]"
     ]
    },
    {
     "name": "stdout",
     "output_type": "stream",
     "text": [
      "GAN: loss d: 0.07120    loss g: -1.96082\n",
      "saving current model\n"
     ]
    },
    {
     "name": "stderr",
     "output_type": "stream",
     "text": [
      "\n",
      "  0%|          | 0/175 [00:00<?, ?it/s]\u001b[A"
     ]
    },
    {
     "name": "stdout",
     "output_type": "stream",
     "text": [
      "Number of real images: 5626\n"
     ]
    },
    {
     "name": "stderr",
     "output_type": "stream",
     "text": [
      "\n",
      "\n",
      "  0%|          | 0/15 [00:00<?, ?it/s]\u001b[A\u001b[A"
     ]
    },
    {
     "name": "stdout",
     "output_type": "stream",
     "text": [
      "Number of synthetic images: 500\n"
     ]
    },
    {
     "name": "stderr",
     "output_type": "stream",
     "text": [
      " 19%|█▉        | 19001/100001 [44:00<155:24:35,  6.91s/it]"
     ]
    },
    {
     "name": "stdout",
     "output_type": "stream",
     "text": [
      "Current fid score: 1.443624370521686\n",
      "Fid scores: [5.359689818244959, 2.479945282201154, 4.276308166260009, 2.7291028486932554, 2.7908292593055535, 2.3554975684525594, 2.6142447727283162, 2.1934954575945866, 2.3990477193970783, 2.221711896216327, 2.3744210742787253, 2.066927836690496, 2.3716458827445166, 1.9648397602519267, 1.6998954497984542, 2.319731846121897, 1.7800607345901547, 1.4056094758332023, 1.1810571313010847, 1.443624370521686]\n"
     ]
    },
    {
     "name": "stderr",
     "output_type": "stream",
     "text": [
      "  0%|          | 0/175 [00:15<?, ?it/s]37:17,  8.58it/s]  \n",
      "  0%|          | 0/15 [00:07<?, ?it/s]\n",
      " 19%|█▉        | 19102/100001 [44:11<2:35:09,  8.69it/s]"
     ]
    },
    {
     "name": "stdout",
     "output_type": "stream",
     "text": [
      "GAN: loss d: 0.59285    loss g: -2.55904\n"
     ]
    },
    {
     "name": "stderr",
     "output_type": "stream",
     "text": [
      " 19%|█▉        | 19202/100001 [44:23<2:30:22,  8.96it/s]"
     ]
    },
    {
     "name": "stdout",
     "output_type": "stream",
     "text": [
      "GAN: loss d: 3.34278    loss g: -2.97533\n"
     ]
    },
    {
     "name": "stderr",
     "output_type": "stream",
     "text": [
      " 19%|█▉        | 19302/100001 [44:34<2:33:50,  8.74it/s]"
     ]
    },
    {
     "name": "stdout",
     "output_type": "stream",
     "text": [
      "GAN: loss d: 3.57392    loss g: -3.00773\n"
     ]
    },
    {
     "name": "stderr",
     "output_type": "stream",
     "text": [
      " 19%|█▉        | 19402/100001 [44:45<2:31:22,  8.87it/s]"
     ]
    },
    {
     "name": "stdout",
     "output_type": "stream",
     "text": [
      "GAN: loss d: 3.55486    loss g: -2.40098\n"
     ]
    },
    {
     "name": "stderr",
     "output_type": "stream",
     "text": [
      " 20%|█▉        | 19502/100001 [44:57<2:31:24,  8.86it/s]"
     ]
    },
    {
     "name": "stdout",
     "output_type": "stream",
     "text": [
      "GAN: loss d: 4.94584    loss g: -2.12220\n"
     ]
    },
    {
     "name": "stderr",
     "output_type": "stream",
     "text": [
      " 20%|█▉        | 19602/100001 [45:08<2:31:03,  8.87it/s]"
     ]
    },
    {
     "name": "stdout",
     "output_type": "stream",
     "text": [
      "GAN: loss d: 4.42617    loss g: -2.85087\n"
     ]
    },
    {
     "name": "stderr",
     "output_type": "stream",
     "text": [
      " 20%|█▉        | 19702/100001 [45:20<2:30:28,  8.89it/s]"
     ]
    },
    {
     "name": "stdout",
     "output_type": "stream",
     "text": [
      "GAN: loss d: 3.31277    loss g: -2.97043\n"
     ]
    },
    {
     "name": "stderr",
     "output_type": "stream",
     "text": [
      " 20%|█▉        | 19802/100001 [45:31<2:34:52,  8.63it/s]"
     ]
    },
    {
     "name": "stdout",
     "output_type": "stream",
     "text": [
      "GAN: loss d: 1.77848    loss g: -2.34747\n"
     ]
    },
    {
     "name": "stderr",
     "output_type": "stream",
     "text": [
      " 20%|█▉        | 19902/100001 [45:43<2:30:02,  8.90it/s]"
     ]
    },
    {
     "name": "stdout",
     "output_type": "stream",
     "text": [
      "GAN: loss d: 3.04929    loss g: -3.24942\n"
     ]
    },
    {
     "name": "stderr",
     "output_type": "stream",
     "text": [
      " 20%|█▉        | 20000/100001 [45:54<2:32:28,  8.74it/s]"
     ]
    },
    {
     "name": "stdout",
     "output_type": "stream",
     "text": [
      "GAN: loss d: 3.19566    loss g: -3.06059\n",
      "saving current model\n"
     ]
    },
    {
     "name": "stderr",
     "output_type": "stream",
     "text": [
      "\n",
      "  0%|          | 0/175 [00:00<?, ?it/s]\u001b[A"
     ]
    },
    {
     "name": "stdout",
     "output_type": "stream",
     "text": [
      "Number of real images: 5626\n"
     ]
    },
    {
     "name": "stderr",
     "output_type": "stream",
     "text": [
      "\n",
      "\n",
      "  0%|          | 0/15 [00:00<?, ?it/s]\u001b[A\u001b[A"
     ]
    },
    {
     "name": "stdout",
     "output_type": "stream",
     "text": [
      "Number of synthetic images: 500\n"
     ]
    },
    {
     "name": "stderr",
     "output_type": "stream",
     "text": [
      " 20%|██        | 20002/100001 [46:16<106:25:09,  4.79s/it]"
     ]
    },
    {
     "name": "stdout",
     "output_type": "stream",
     "text": [
      "Current fid score: 1.5078741613768791\n",
      "Fid scores: [5.359689818244959, 2.479945282201154, 4.276308166260009, 2.7291028486932554, 2.7908292593055535, 2.3554975684525594, 2.6142447727283162, 2.1934954575945866, 2.3990477193970783, 2.221711896216327, 2.3744210742787253, 2.066927836690496, 2.3716458827445166, 1.9648397602519267, 1.6998954497984542, 2.319731846121897, 1.7800607345901547, 1.4056094758332023, 1.1810571313010847, 1.443624370521686, 1.5078741613768791]\n"
     ]
    },
    {
     "name": "stderr",
     "output_type": "stream",
     "text": [
      "  0%|          | 0/175 [00:10<?, ?it/s]:44:20,  1.51it/s] \n",
      "  0%|          | 0/15 [00:01<?, ?it/s]\n",
      " 20%|██        | 20102/100001 [46:28<2:34:06,  8.64it/s] "
     ]
    },
    {
     "name": "stdout",
     "output_type": "stream",
     "text": [
      "GAN: loss d: 2.10605    loss g: -2.67492\n"
     ]
    },
    {
     "name": "stderr",
     "output_type": "stream",
     "text": [
      " 20%|██        | 20202/100001 [46:39<2:30:34,  8.83it/s]"
     ]
    },
    {
     "name": "stdout",
     "output_type": "stream",
     "text": [
      "GAN: loss d: 2.40174    loss g: -2.79093\n"
     ]
    },
    {
     "name": "stderr",
     "output_type": "stream",
     "text": [
      " 20%|██        | 20302/100001 [46:51<2:29:10,  8.90it/s]"
     ]
    },
    {
     "name": "stdout",
     "output_type": "stream",
     "text": [
      "GAN: loss d: 2.56130    loss g: -2.74834\n"
     ]
    },
    {
     "name": "stderr",
     "output_type": "stream",
     "text": [
      " 20%|██        | 20402/100001 [47:02<2:33:37,  8.64it/s]"
     ]
    },
    {
     "name": "stdout",
     "output_type": "stream",
     "text": [
      "GAN: loss d: 1.13446    loss g: -3.49883\n"
     ]
    },
    {
     "name": "stderr",
     "output_type": "stream",
     "text": [
      " 21%|██        | 20502/100001 [47:13<2:35:59,  8.49it/s]"
     ]
    },
    {
     "name": "stdout",
     "output_type": "stream",
     "text": [
      "GAN: loss d: 2.35547    loss g: -2.18755\n"
     ]
    },
    {
     "name": "stderr",
     "output_type": "stream",
     "text": [
      " 21%|██        | 20602/100001 [47:24<2:28:16,  8.92it/s]"
     ]
    },
    {
     "name": "stdout",
     "output_type": "stream",
     "text": [
      "GAN: loss d: 1.32007    loss g: -2.57875\n"
     ]
    },
    {
     "name": "stderr",
     "output_type": "stream",
     "text": [
      " 21%|██        | 20702/100001 [47:36<2:27:41,  8.95it/s]"
     ]
    },
    {
     "name": "stdout",
     "output_type": "stream",
     "text": [
      "GAN: loss d: 2.98844    loss g: -1.31965\n"
     ]
    },
    {
     "name": "stderr",
     "output_type": "stream",
     "text": [
      " 21%|██        | 20802/100001 [47:47<2:28:50,  8.87it/s]"
     ]
    },
    {
     "name": "stdout",
     "output_type": "stream",
     "text": [
      "GAN: loss d: 0.91698    loss g: -1.75535\n"
     ]
    },
    {
     "name": "stderr",
     "output_type": "stream",
     "text": [
      " 21%|██        | 20902/100001 [47:59<2:28:24,  8.88it/s]"
     ]
    },
    {
     "name": "stdout",
     "output_type": "stream",
     "text": [
      "GAN: loss d: 4.00395    loss g: -2.77177\n"
     ]
    },
    {
     "name": "stderr",
     "output_type": "stream",
     "text": [
      " 21%|██        | 21000/100001 [48:10<2:25:53,  9.03it/s]"
     ]
    },
    {
     "name": "stdout",
     "output_type": "stream",
     "text": [
      "GAN: loss d: -1.64660    loss g: -1.48309\n",
      "saving current model\n"
     ]
    },
    {
     "name": "stderr",
     "output_type": "stream",
     "text": [
      "\n",
      "  0%|          | 0/175 [00:00<?, ?it/s]\u001b[A"
     ]
    },
    {
     "name": "stdout",
     "output_type": "stream",
     "text": [
      "Number of real images: 5626\n"
     ]
    },
    {
     "name": "stderr",
     "output_type": "stream",
     "text": [
      "\n",
      "\n",
      "  0%|          | 0/15 [00:00<?, ?it/s]\u001b[A\u001b[A"
     ]
    },
    {
     "name": "stdout",
     "output_type": "stream",
     "text": [
      "Number of synthetic images: 500\n"
     ]
    },
    {
     "name": "stderr",
     "output_type": "stream",
     "text": [
      "  0%|          | 0/175 [00:09<?, ?it/s]\n",
      "  0%|          | 0/15 [00:00<?, ?it/s]"
     ]
    },
    {
     "name": "stdout",
     "output_type": "stream",
     "text": [
      "Current fid score: 1.173364418143919\n",
      "Fid scores: [5.359689818244959, 2.479945282201154, 4.276308166260009, 2.7291028486932554, 2.7908292593055535, 2.3554975684525594, 2.6142447727283162, 2.1934954575945866, 2.3990477193970783, 2.221711896216327, 2.3744210742787253, 2.066927836690496, 2.3716458827445166, 1.9648397602519267, 1.6998954497984542, 2.319731846121897, 1.7800607345901547, 1.4056094758332023, 1.1810571313010847, 1.443624370521686, 1.5078741613768791, 1.173364418143919]\n",
      "New min fid score: 1.173364418144\n",
      "Saving best model\n"
     ]
    },
    {
     "name": "stderr",
     "output_type": "stream",
     "text": [
      "\n",
      " 21%|██        | 21102/100001 [48:47<2:27:35,  8.91it/s]  "
     ]
    },
    {
     "name": "stdout",
     "output_type": "stream",
     "text": [
      "GAN: loss d: 3.33090    loss g: -1.06392\n"
     ]
    },
    {
     "name": "stderr",
     "output_type": "stream",
     "text": [
      " 21%|██        | 21202/100001 [48:58<2:34:33,  8.50it/s]"
     ]
    },
    {
     "name": "stdout",
     "output_type": "stream",
     "text": [
      "GAN: loss d: 3.42364    loss g: -2.91442\n"
     ]
    },
    {
     "name": "stderr",
     "output_type": "stream",
     "text": [
      " 21%|██▏       | 21302/100001 [49:09<2:29:12,  8.79it/s]"
     ]
    },
    {
     "name": "stdout",
     "output_type": "stream",
     "text": [
      "GAN: loss d: 3.61300    loss g: -1.81096\n"
     ]
    },
    {
     "name": "stderr",
     "output_type": "stream",
     "text": [
      " 21%|██▏       | 21402/100001 [49:21<2:26:31,  8.94it/s]"
     ]
    },
    {
     "name": "stdout",
     "output_type": "stream",
     "text": [
      "GAN: loss d: 4.73189    loss g: -2.88592\n"
     ]
    },
    {
     "name": "stderr",
     "output_type": "stream",
     "text": [
      " 22%|██▏       | 21502/100001 [49:32<2:26:18,  8.94it/s]"
     ]
    },
    {
     "name": "stdout",
     "output_type": "stream",
     "text": [
      "GAN: loss d: 2.55759    loss g: -3.49956\n"
     ]
    },
    {
     "name": "stderr",
     "output_type": "stream",
     "text": [
      " 22%|██▏       | 21602/100001 [49:44<2:26:06,  8.94it/s]"
     ]
    },
    {
     "name": "stdout",
     "output_type": "stream",
     "text": [
      "GAN: loss d: 4.20366    loss g: -1.76311\n"
     ]
    },
    {
     "name": "stderr",
     "output_type": "stream",
     "text": [
      " 22%|██▏       | 21701/100001 [49:55<2:28:24,  8.79it/s]"
     ]
    },
    {
     "name": "stdout",
     "output_type": "stream",
     "text": [
      "GAN: loss d: 1.88193    loss g: -1.47950\n"
     ]
    },
    {
     "name": "stderr",
     "output_type": "stream",
     "text": [
      " 22%|██▏       | 21801/100001 [50:06<2:26:04,  8.92it/s]"
     ]
    },
    {
     "name": "stdout",
     "output_type": "stream",
     "text": [
      "GAN: loss d: 1.48860    loss g: -1.64927\n"
     ]
    },
    {
     "name": "stderr",
     "output_type": "stream",
     "text": [
      " 22%|██▏       | 21902/100001 [50:17<2:29:49,  8.69it/s]"
     ]
    },
    {
     "name": "stdout",
     "output_type": "stream",
     "text": [
      "GAN: loss d: 4.43691    loss g: -2.38359\n"
     ]
    },
    {
     "name": "stderr",
     "output_type": "stream",
     "text": [
      " 22%|██▏       | 22000/100001 [50:28<2:25:18,  8.95it/s]"
     ]
    },
    {
     "name": "stdout",
     "output_type": "stream",
     "text": [
      "GAN: loss d: 5.33818    loss g: -3.59241\n",
      "saving current model\n"
     ]
    },
    {
     "name": "stderr",
     "output_type": "stream",
     "text": [
      "\n",
      "  0%|          | 0/175 [00:00<?, ?it/s]\u001b[A"
     ]
    },
    {
     "name": "stdout",
     "output_type": "stream",
     "text": [
      "Number of real images: 5626\n"
     ]
    },
    {
     "name": "stderr",
     "output_type": "stream",
     "text": [
      "\n",
      "\n",
      "  0%|          | 0/15 [00:00<?, ?it/s]\u001b[A\u001b[A"
     ]
    },
    {
     "name": "stdout",
     "output_type": "stream",
     "text": [
      "Number of synthetic images: 500\n"
     ]
    },
    {
     "name": "stderr",
     "output_type": "stream",
     "text": [
      " 22%|██▏       | 22001/100001 [50:52<151:39:13,  7.00s/it]"
     ]
    },
    {
     "name": "stdout",
     "output_type": "stream",
     "text": [
      "Current fid score: 1.2011170423314468\n",
      "Fid scores: [5.359689818244959, 2.479945282201154, 4.276308166260009, 2.7291028486932554, 2.7908292593055535, 2.3554975684525594, 2.6142447727283162, 2.1934954575945866, 2.3990477193970783, 2.221711896216327, 2.3744210742787253, 2.066927836690496, 2.3716458827445166, 1.9648397602519267, 1.6998954497984542, 2.319731846121897, 1.7800607345901547, 1.4056094758332023, 1.1810571313010847, 1.443624370521686, 1.5078741613768791, 1.173364418143919, 1.2011170423314468]\n"
     ]
    },
    {
     "name": "stderr",
     "output_type": "stream",
     "text": [
      "  0%|          | 0/175 [00:16<?, ?it/s]25:39,  8.92it/s]  \n",
      "  0%|          | 0/15 [00:07<?, ?it/s]\n",
      " 22%|██▏       | 22102/100001 [51:03<2:27:46,  8.79it/s]"
     ]
    },
    {
     "name": "stdout",
     "output_type": "stream",
     "text": [
      "GAN: loss d: 3.02186    loss g: -2.84266\n"
     ]
    },
    {
     "name": "stderr",
     "output_type": "stream",
     "text": [
      " 22%|██▏       | 22202/100001 [51:14<2:27:10,  8.81it/s]"
     ]
    },
    {
     "name": "stdout",
     "output_type": "stream",
     "text": [
      "GAN: loss d: 2.72016    loss g: -2.89383\n"
     ]
    },
    {
     "name": "stderr",
     "output_type": "stream",
     "text": [
      " 22%|██▏       | 22302/100001 [51:26<2:25:23,  8.91it/s]"
     ]
    },
    {
     "name": "stdout",
     "output_type": "stream",
     "text": [
      "GAN: loss d: 2.46204    loss g: -3.63439\n"
     ]
    },
    {
     "name": "stderr",
     "output_type": "stream",
     "text": [
      " 22%|██▏       | 22402/100001 [51:37<2:30:33,  8.59it/s]"
     ]
    },
    {
     "name": "stdout",
     "output_type": "stream",
     "text": [
      "GAN: loss d: 2.51061    loss g: -2.55498\n"
     ]
    },
    {
     "name": "stderr",
     "output_type": "stream",
     "text": [
      " 23%|██▎       | 22502/100001 [51:49<2:22:58,  9.03it/s]"
     ]
    },
    {
     "name": "stdout",
     "output_type": "stream",
     "text": [
      "GAN: loss d: 4.26633    loss g: -1.92058\n"
     ]
    },
    {
     "name": "stderr",
     "output_type": "stream",
     "text": [
      " 23%|██▎       | 22602/100001 [52:00<2:28:47,  8.67it/s]"
     ]
    },
    {
     "name": "stdout",
     "output_type": "stream",
     "text": [
      "GAN: loss d: 2.65691    loss g: -1.96669\n"
     ]
    },
    {
     "name": "stderr",
     "output_type": "stream",
     "text": [
      " 23%|██▎       | 22702/100001 [52:12<2:32:19,  8.46it/s]"
     ]
    },
    {
     "name": "stdout",
     "output_type": "stream",
     "text": [
      "GAN: loss d: 3.48655    loss g: -3.41837\n"
     ]
    },
    {
     "name": "stderr",
     "output_type": "stream",
     "text": [
      " 23%|██▎       | 22801/100001 [52:23<2:26:43,  8.77it/s]"
     ]
    },
    {
     "name": "stdout",
     "output_type": "stream",
     "text": [
      "GAN: loss d: 4.25059    loss g: -1.62326\n"
     ]
    },
    {
     "name": "stderr",
     "output_type": "stream",
     "text": [
      " 23%|██▎       | 22902/100001 [52:35<2:42:57,  7.89it/s]"
     ]
    },
    {
     "name": "stdout",
     "output_type": "stream",
     "text": [
      "GAN: loss d: 2.28802    loss g: -1.82668\n"
     ]
    },
    {
     "name": "stderr",
     "output_type": "stream",
     "text": [
      " 23%|██▎       | 23000/100001 [52:46<2:24:19,  8.89it/s]"
     ]
    },
    {
     "name": "stdout",
     "output_type": "stream",
     "text": [
      "GAN: loss d: 1.71968    loss g: -2.88080\n",
      "saving current model\n"
     ]
    },
    {
     "name": "stderr",
     "output_type": "stream",
     "text": [
      "\n",
      "  0%|          | 0/175 [00:00<?, ?it/s]\u001b[A"
     ]
    },
    {
     "name": "stdout",
     "output_type": "stream",
     "text": [
      "Number of real images: 5626\n"
     ]
    },
    {
     "name": "stderr",
     "output_type": "stream",
     "text": [
      "\n",
      "\n",
      "  0%|          | 0/15 [00:00<?, ?it/s]\u001b[A\u001b[A"
     ]
    },
    {
     "name": "stdout",
     "output_type": "stream",
     "text": [
      "Number of synthetic images: 500\n"
     ]
    },
    {
     "name": "stderr",
     "output_type": "stream",
     "text": [
      "  0%|          | 0/175 [00:09<?, ?it/s]\n",
      "  0%|          | 0/15 [00:00<?, ?it/s]"
     ]
    },
    {
     "name": "stdout",
     "output_type": "stream",
     "text": [
      "Current fid score: 1.0761087412681398\n",
      "Fid scores: [5.359689818244959, 2.479945282201154, 4.276308166260009, 2.7291028486932554, 2.7908292593055535, 2.3554975684525594, 2.6142447727283162, 2.1934954575945866, 2.3990477193970783, 2.221711896216327, 2.3744210742787253, 2.066927836690496, 2.3716458827445166, 1.9648397602519267, 1.6998954497984542, 2.319731846121897, 1.7800607345901547, 1.4056094758332023, 1.1810571313010847, 1.443624370521686, 1.5078741613768791, 1.173364418143919, 1.2011170423314468, 1.0761087412681398]\n",
      "New min fid score: 1.076108741268\n",
      "Saving best model\n"
     ]
    },
    {
     "name": "stderr",
     "output_type": "stream",
     "text": [
      "\n",
      " 23%|██▎       | 23102/100001 [53:23<2:25:59,  8.78it/s]  "
     ]
    },
    {
     "name": "stdout",
     "output_type": "stream",
     "text": [
      "GAN: loss d: 3.90718    loss g: -2.73960\n"
     ]
    },
    {
     "name": "stderr",
     "output_type": "stream",
     "text": [
      " 23%|██▎       | 23202/100001 [53:34<2:28:39,  8.61it/s]"
     ]
    },
    {
     "name": "stdout",
     "output_type": "stream",
     "text": [
      "GAN: loss d: 0.74752    loss g: -2.07359\n"
     ]
    },
    {
     "name": "stderr",
     "output_type": "stream",
     "text": [
      " 23%|██▎       | 23302/100001 [53:45<2:19:19,  9.17it/s]"
     ]
    },
    {
     "name": "stdout",
     "output_type": "stream",
     "text": [
      "GAN: loss d: 1.94765    loss g: -2.41646\n"
     ]
    },
    {
     "name": "stderr",
     "output_type": "stream",
     "text": [
      " 23%|██▎       | 23402/100001 [53:56<2:29:53,  8.52it/s]"
     ]
    },
    {
     "name": "stdout",
     "output_type": "stream",
     "text": [
      "GAN: loss d: -0.60407    loss g: -2.28185\n"
     ]
    },
    {
     "name": "stderr",
     "output_type": "stream",
     "text": [
      " 24%|██▎       | 23502/100001 [54:08<2:21:15,  9.03it/s]"
     ]
    },
    {
     "name": "stdout",
     "output_type": "stream",
     "text": [
      "GAN: loss d: 2.07259    loss g: -3.10942\n"
     ]
    },
    {
     "name": "stderr",
     "output_type": "stream",
     "text": [
      " 24%|██▎       | 23602/100001 [54:19<2:21:16,  9.01it/s]"
     ]
    },
    {
     "name": "stdout",
     "output_type": "stream",
     "text": [
      "GAN: loss d: 5.13461    loss g: -3.32647\n"
     ]
    },
    {
     "name": "stderr",
     "output_type": "stream",
     "text": [
      " 24%|██▎       | 23701/100001 [54:30<2:26:18,  8.69it/s]"
     ]
    },
    {
     "name": "stdout",
     "output_type": "stream",
     "text": [
      "GAN: loss d: 0.77393    loss g: -2.52850\n"
     ]
    },
    {
     "name": "stderr",
     "output_type": "stream",
     "text": [
      " 24%|██▍       | 23802/100001 [54:42<2:23:03,  8.88it/s]"
     ]
    },
    {
     "name": "stdout",
     "output_type": "stream",
     "text": [
      "GAN: loss d: 2.63577    loss g: -2.50269\n"
     ]
    },
    {
     "name": "stderr",
     "output_type": "stream",
     "text": [
      " 24%|██▍       | 23902/100001 [54:53<2:23:20,  8.85it/s]"
     ]
    },
    {
     "name": "stdout",
     "output_type": "stream",
     "text": [
      "GAN: loss d: 2.08372    loss g: -3.27689\n"
     ]
    },
    {
     "name": "stderr",
     "output_type": "stream",
     "text": [
      " 24%|██▍       | 24000/100001 [55:04<2:22:08,  8.91it/s]"
     ]
    },
    {
     "name": "stdout",
     "output_type": "stream",
     "text": [
      "GAN: loss d: 2.29207    loss g: -2.91417\n",
      "saving current model\n"
     ]
    },
    {
     "name": "stderr",
     "output_type": "stream",
     "text": [
      "\n",
      "  0%|          | 0/175 [00:00<?, ?it/s]\u001b[A"
     ]
    },
    {
     "name": "stdout",
     "output_type": "stream",
     "text": [
      "Number of real images: 5626\n"
     ]
    },
    {
     "name": "stderr",
     "output_type": "stream",
     "text": [
      "\n",
      "\n",
      "  0%|          | 0/15 [00:00<?, ?it/s]\u001b[A\u001b[A"
     ]
    },
    {
     "name": "stdout",
     "output_type": "stream",
     "text": [
      "Number of synthetic images: 500\n"
     ]
    },
    {
     "name": "stderr",
     "output_type": "stream",
     "text": [
      " 24%|██▍       | 24002/100001 [55:27<102:40:17,  4.86s/it]"
     ]
    },
    {
     "name": "stdout",
     "output_type": "stream",
     "text": [
      "Current fid score: 1.2172281204321251\n",
      "Fid scores: [5.359689818244959, 2.479945282201154, 4.276308166260009, 2.7291028486932554, 2.7908292593055535, 2.3554975684525594, 2.6142447727283162, 2.1934954575945866, 2.3990477193970783, 2.221711896216327, 2.3744210742787253, 2.066927836690496, 2.3716458827445166, 1.9648397602519267, 1.6998954497984542, 2.319731846121897, 1.7800607345901547, 1.4056094758332023, 1.1810571313010847, 1.443624370521686, 1.5078741613768791, 1.173364418143919, 1.2011170423314468, 1.0761087412681398, 1.2172281204321251]\n"
     ]
    },
    {
     "name": "stderr",
     "output_type": "stream",
     "text": [
      "  0%|          | 0/175 [00:11<?, ?it/s]25:09,  3.29it/s]  \n",
      "  0%|          | 0/15 [00:02<?, ?it/s]\n",
      " 24%|██▍       | 24102/100001 [55:39<2:20:59,  8.97it/s]"
     ]
    },
    {
     "name": "stdout",
     "output_type": "stream",
     "text": [
      "GAN: loss d: 1.91137    loss g: -2.52833\n"
     ]
    },
    {
     "name": "stderr",
     "output_type": "stream",
     "text": [
      " 24%|██▍       | 24202/100001 [55:50<2:27:09,  8.58it/s]"
     ]
    },
    {
     "name": "stdout",
     "output_type": "stream",
     "text": [
      "GAN: loss d: 2.80261    loss g: -3.12151\n"
     ]
    },
    {
     "name": "stderr",
     "output_type": "stream",
     "text": [
      " 24%|██▍       | 24301/100001 [56:01<2:22:53,  8.83it/s]"
     ]
    },
    {
     "name": "stdout",
     "output_type": "stream",
     "text": [
      "GAN: loss d: -0.15079    loss g: -3.65736\n"
     ]
    },
    {
     "name": "stderr",
     "output_type": "stream",
     "text": [
      " 24%|██▍       | 24402/100001 [56:12<2:20:36,  8.96it/s]"
     ]
    },
    {
     "name": "stdout",
     "output_type": "stream",
     "text": [
      "GAN: loss d: 3.32172    loss g: -1.71368\n"
     ]
    },
    {
     "name": "stderr",
     "output_type": "stream",
     "text": [
      " 25%|██▍       | 24502/100001 [56:24<2:24:54,  8.68it/s]"
     ]
    },
    {
     "name": "stdout",
     "output_type": "stream",
     "text": [
      "GAN: loss d: 2.71376    loss g: -1.87761\n"
     ]
    },
    {
     "name": "stderr",
     "output_type": "stream",
     "text": [
      " 25%|██▍       | 24602/100001 [56:35<2:22:35,  8.81it/s]"
     ]
    },
    {
     "name": "stdout",
     "output_type": "stream",
     "text": [
      "GAN: loss d: 4.54625    loss g: -2.49673\n"
     ]
    },
    {
     "name": "stderr",
     "output_type": "stream",
     "text": [
      " 25%|██▍       | 24702/100001 [56:46<2:21:52,  8.85it/s]"
     ]
    },
    {
     "name": "stdout",
     "output_type": "stream",
     "text": [
      "GAN: loss d: 3.78074    loss g: -1.32431\n"
     ]
    },
    {
     "name": "stderr",
     "output_type": "stream",
     "text": [
      " 25%|██▍       | 24801/100001 [56:58<2:21:36,  8.85it/s]"
     ]
    },
    {
     "name": "stdout",
     "output_type": "stream",
     "text": [
      "GAN: loss d: 3.95035    loss g: -2.70183\n"
     ]
    },
    {
     "name": "stderr",
     "output_type": "stream",
     "text": [
      " 25%|██▍       | 24902/100001 [57:09<2:20:24,  8.91it/s]"
     ]
    },
    {
     "name": "stdout",
     "output_type": "stream",
     "text": [
      "GAN: loss d: 3.90375    loss g: -2.19621\n"
     ]
    },
    {
     "name": "stderr",
     "output_type": "stream",
     "text": [
      " 25%|██▍       | 25000/100001 [57:20<2:20:52,  8.87it/s]"
     ]
    },
    {
     "name": "stdout",
     "output_type": "stream",
     "text": [
      "GAN: loss d: 2.78168    loss g: -2.14161\n",
      "saving current model\n"
     ]
    },
    {
     "name": "stderr",
     "output_type": "stream",
     "text": [
      "\n",
      "  0%|          | 0/175 [00:00<?, ?it/s]\u001b[A"
     ]
    },
    {
     "name": "stdout",
     "output_type": "stream",
     "text": [
      "Number of real images: 5626\n"
     ]
    },
    {
     "name": "stderr",
     "output_type": "stream",
     "text": [
      "\n",
      "\n",
      "  0%|          | 0/15 [00:00<?, ?it/s]\u001b[A\u001b[A"
     ]
    },
    {
     "name": "stdout",
     "output_type": "stream",
     "text": [
      "Number of synthetic images: 500\n"
     ]
    },
    {
     "name": "stderr",
     "output_type": "stream",
     "text": [
      "  0%|          | 0/175 [00:09<?, ?it/s]\n",
      "  0%|          | 0/15 [00:00<?, ?it/s]"
     ]
    },
    {
     "name": "stdout",
     "output_type": "stream",
     "text": [
      "Current fid score: 1.000626947334709\n",
      "Fid scores: [5.359689818244959, 2.479945282201154, 4.276308166260009, 2.7291028486932554, 2.7908292593055535, 2.3554975684525594, 2.6142447727283162, 2.1934954575945866, 2.3990477193970783, 2.221711896216327, 2.3744210742787253, 2.066927836690496, 2.3716458827445166, 1.9648397602519267, 1.6998954497984542, 2.319731846121897, 1.7800607345901547, 1.4056094758332023, 1.1810571313010847, 1.443624370521686, 1.5078741613768791, 1.173364418143919, 1.2011170423314468, 1.0761087412681398, 1.2172281204321251, 1.000626947334709]\n",
      "New min fid score: 1.000626947335\n",
      "Saving best model\n"
     ]
    },
    {
     "name": "stderr",
     "output_type": "stream",
     "text": [
      "\n",
      " 25%|██▌       | 25102/100001 [57:57<2:19:50,  8.93it/s]  "
     ]
    },
    {
     "name": "stdout",
     "output_type": "stream",
     "text": [
      "GAN: loss d: 3.56346    loss g: -2.09340\n"
     ]
    },
    {
     "name": "stderr",
     "output_type": "stream",
     "text": [
      " 25%|██▌       | 25202/100001 [58:08<2:20:01,  8.90it/s]"
     ]
    },
    {
     "name": "stdout",
     "output_type": "stream",
     "text": [
      "GAN: loss d: 2.84958    loss g: -1.82456\n"
     ]
    },
    {
     "name": "stderr",
     "output_type": "stream",
     "text": [
      " 25%|██▌       | 25302/100001 [58:20<2:18:50,  8.97it/s]"
     ]
    },
    {
     "name": "stdout",
     "output_type": "stream",
     "text": [
      "GAN: loss d: 4.98194    loss g: -2.56691\n"
     ]
    },
    {
     "name": "stderr",
     "output_type": "stream",
     "text": [
      " 25%|██▌       | 25401/100001 [58:31<2:24:55,  8.58it/s]"
     ]
    },
    {
     "name": "stdout",
     "output_type": "stream",
     "text": [
      "GAN: loss d: 3.85028    loss g: -2.98155\n"
     ]
    },
    {
     "name": "stderr",
     "output_type": "stream",
     "text": [
      " 26%|██▌       | 25502/100001 [58:43<2:19:31,  8.90it/s]"
     ]
    },
    {
     "name": "stdout",
     "output_type": "stream",
     "text": [
      "GAN: loss d: 2.73389    loss g: -3.05382\n"
     ]
    },
    {
     "name": "stderr",
     "output_type": "stream",
     "text": [
      " 26%|██▌       | 25602/100001 [58:54<2:17:57,  8.99it/s]"
     ]
    },
    {
     "name": "stdout",
     "output_type": "stream",
     "text": [
      "GAN: loss d: 3.23026    loss g: -2.45714\n"
     ]
    },
    {
     "name": "stderr",
     "output_type": "stream",
     "text": [
      " 26%|██▌       | 25701/100001 [59:05<2:19:01,  8.91it/s]"
     ]
    },
    {
     "name": "stdout",
     "output_type": "stream",
     "text": [
      "GAN: loss d: 3.25568    loss g: -2.35143\n"
     ]
    },
    {
     "name": "stderr",
     "output_type": "stream",
     "text": [
      " 26%|██▌       | 25801/100001 [59:16<2:24:43,  8.55it/s]"
     ]
    },
    {
     "name": "stdout",
     "output_type": "stream",
     "text": [
      "GAN: loss d: 4.09470    loss g: -3.06588\n"
     ]
    },
    {
     "name": "stderr",
     "output_type": "stream",
     "text": [
      " 26%|██▌       | 25902/100001 [59:28<2:19:38,  8.84it/s]"
     ]
    },
    {
     "name": "stdout",
     "output_type": "stream",
     "text": [
      "GAN: loss d: 2.23786    loss g: -2.59114\n"
     ]
    },
    {
     "name": "stderr",
     "output_type": "stream",
     "text": [
      " 26%|██▌       | 26000/100001 [59:39<2:21:49,  8.70it/s]"
     ]
    },
    {
     "name": "stdout",
     "output_type": "stream",
     "text": [
      "GAN: loss d: 2.41906    loss g: -2.51774\n",
      "saving current model\n"
     ]
    },
    {
     "name": "stderr",
     "output_type": "stream",
     "text": [
      "\n",
      "  0%|          | 0/175 [00:00<?, ?it/s]\u001b[A"
     ]
    },
    {
     "name": "stdout",
     "output_type": "stream",
     "text": [
      "Number of real images: 5626\n"
     ]
    },
    {
     "name": "stderr",
     "output_type": "stream",
     "text": [
      "\n",
      "\n",
      "  0%|          | 0/15 [00:00<?, ?it/s]\u001b[A\u001b[A"
     ]
    },
    {
     "name": "stdout",
     "output_type": "stream",
     "text": [
      "Number of synthetic images: 500\n"
     ]
    },
    {
     "name": "stderr",
     "output_type": "stream",
     "text": [
      " 26%|██▌       | 26002/100001 [1:00:00<94:03:57,  4.58s/it] "
     ]
    },
    {
     "name": "stdout",
     "output_type": "stream",
     "text": [
      "Current fid score: 1.737750054809478\n",
      "Fid scores: [5.359689818244959, 2.479945282201154, 4.276308166260009, 2.7291028486932554, 2.7908292593055535, 2.3554975684525594, 2.6142447727283162, 2.1934954575945866, 2.3990477193970783, 2.221711896216327, 2.3744210742787253, 2.066927836690496, 2.3716458827445166, 1.9648397602519267, 1.6998954497984542, 2.319731846121897, 1.7800607345901547, 1.4056094758332023, 1.1810571313010847, 1.443624370521686, 1.5078741613768791, 1.173364418143919, 1.2011170423314468, 1.0761087412681398, 1.2172281204321251, 1.000626947334709, 1.737750054809478]\n"
     ]
    },
    {
     "name": "stderr",
     "output_type": "stream",
     "text": [
      "  0%|          | 0/175 [00:15<?, ?it/s]2:17:20,  8.97it/s] \n",
      "  0%|          | 0/15 [00:06<?, ?it/s]\n",
      " 26%|██▌       | 26101/100001 [1:00:11<2:20:47,  8.75it/s]"
     ]
    },
    {
     "name": "stdout",
     "output_type": "stream",
     "text": [
      "GAN: loss d: 2.66067    loss g: -1.74365\n"
     ]
    },
    {
     "name": "stderr",
     "output_type": "stream",
     "text": [
      " 26%|██▌       | 26202/100001 [1:00:23<2:18:47,  8.86it/s]"
     ]
    },
    {
     "name": "stdout",
     "output_type": "stream",
     "text": [
      "GAN: loss d: 2.88452    loss g: -2.15391\n"
     ]
    },
    {
     "name": "stderr",
     "output_type": "stream",
     "text": [
      " 26%|██▋       | 26302/100001 [1:00:34<2:22:01,  8.65it/s]"
     ]
    },
    {
     "name": "stdout",
     "output_type": "stream",
     "text": [
      "GAN: loss d: 3.74159    loss g: -2.70387\n"
     ]
    },
    {
     "name": "stderr",
     "output_type": "stream",
     "text": [
      " 26%|██▋       | 26402/100001 [1:00:46<2:18:26,  8.86it/s]"
     ]
    },
    {
     "name": "stdout",
     "output_type": "stream",
     "text": [
      "GAN: loss d: 2.96212    loss g: -3.04440\n"
     ]
    },
    {
     "name": "stderr",
     "output_type": "stream",
     "text": [
      " 27%|██▋       | 26502/100001 [1:00:57<2:22:06,  8.62it/s]"
     ]
    },
    {
     "name": "stdout",
     "output_type": "stream",
     "text": [
      "GAN: loss d: 3.57760    loss g: -2.20678\n"
     ]
    },
    {
     "name": "stderr",
     "output_type": "stream",
     "text": [
      " 27%|██▋       | 26602/100001 [1:01:08<2:18:48,  8.81it/s]"
     ]
    },
    {
     "name": "stdout",
     "output_type": "stream",
     "text": [
      "GAN: loss d: 3.44956    loss g: -2.70729\n"
     ]
    },
    {
     "name": "stderr",
     "output_type": "stream",
     "text": [
      " 27%|██▋       | 26702/100001 [1:01:20<2:19:03,  8.79it/s]"
     ]
    },
    {
     "name": "stdout",
     "output_type": "stream",
     "text": [
      "GAN: loss d: 3.14162    loss g: -2.69770\n"
     ]
    },
    {
     "name": "stderr",
     "output_type": "stream",
     "text": [
      " 27%|██▋       | 26802/100001 [1:01:31<2:20:53,  8.66it/s]"
     ]
    },
    {
     "name": "stdout",
     "output_type": "stream",
     "text": [
      "GAN: loss d: 2.14671    loss g: -2.45185\n"
     ]
    },
    {
     "name": "stderr",
     "output_type": "stream",
     "text": [
      " 27%|██▋       | 26902/100001 [1:01:42<2:17:35,  8.85it/s]"
     ]
    },
    {
     "name": "stdout",
     "output_type": "stream",
     "text": [
      "GAN: loss d: 3.20660    loss g: -2.50818\n"
     ]
    },
    {
     "name": "stderr",
     "output_type": "stream",
     "text": [
      " 27%|██▋       | 27000/100001 [1:01:53<2:12:15,  9.20it/s]"
     ]
    },
    {
     "name": "stdout",
     "output_type": "stream",
     "text": [
      "GAN: loss d: 4.37077    loss g: -2.52400\n",
      "saving current model\n"
     ]
    },
    {
     "name": "stderr",
     "output_type": "stream",
     "text": [
      "\n",
      "  0%|          | 0/175 [00:00<?, ?it/s]\u001b[A"
     ]
    },
    {
     "name": "stdout",
     "output_type": "stream",
     "text": [
      "Number of real images: 5626\n"
     ]
    },
    {
     "name": "stderr",
     "output_type": "stream",
     "text": [
      "\n",
      "\n",
      "  0%|          | 0/15 [00:00<?, ?it/s]\u001b[A\u001b[A"
     ]
    },
    {
     "name": "stdout",
     "output_type": "stream",
     "text": [
      "Number of synthetic images: 500\n"
     ]
    },
    {
     "name": "stderr",
     "output_type": "stream",
     "text": [
      " 27%|██▋       | 27002/100001 [1:02:15<94:08:36,  4.64s/it] "
     ]
    },
    {
     "name": "stdout",
     "output_type": "stream",
     "text": [
      "Current fid score: 2.0593230539007124\n",
      "Fid scores: [5.359689818244959, 2.479945282201154, 4.276308166260009, 2.7291028486932554, 2.7908292593055535, 2.3554975684525594, 2.6142447727283162, 2.1934954575945866, 2.3990477193970783, 2.221711896216327, 2.3744210742787253, 2.066927836690496, 2.3716458827445166, 1.9648397602519267, 1.6998954497984542, 2.319731846121897, 1.7800607345901547, 1.4056094758332023, 1.1810571313010847, 1.443624370521686, 1.5078741613768791, 1.173364418143919, 1.2011170423314468, 1.0761087412681398, 1.2172281204321251, 1.000626947334709, 1.737750054809478, 2.0593230539007124]\n"
     ]
    },
    {
     "name": "stderr",
     "output_type": "stream",
     "text": [
      "  0%|          | 0/175 [00:10<?, ?it/s]9:49:15,  2.06it/s] \n",
      "  0%|          | 0/15 [00:01<?, ?it/s]\n",
      " 27%|██▋       | 27102/100001 [1:02:27<2:18:40,  8.76it/s]"
     ]
    },
    {
     "name": "stdout",
     "output_type": "stream",
     "text": [
      "GAN: loss d: 3.05025    loss g: -1.78560\n"
     ]
    },
    {
     "name": "stderr",
     "output_type": "stream",
     "text": [
      " 27%|██▋       | 27202/100001 [1:02:38<2:20:44,  8.62it/s]"
     ]
    },
    {
     "name": "stdout",
     "output_type": "stream",
     "text": [
      "GAN: loss d: 3.55138    loss g: -2.20458\n"
     ]
    },
    {
     "name": "stderr",
     "output_type": "stream",
     "text": [
      " 27%|██▋       | 27302/100001 [1:02:49<2:18:39,  8.74it/s]"
     ]
    },
    {
     "name": "stdout",
     "output_type": "stream",
     "text": [
      "GAN: loss d: 2.48073    loss g: -2.30170\n"
     ]
    },
    {
     "name": "stderr",
     "output_type": "stream",
     "text": [
      " 27%|██▋       | 27402/100001 [1:03:01<2:24:30,  8.37it/s]"
     ]
    },
    {
     "name": "stdout",
     "output_type": "stream",
     "text": [
      "GAN: loss d: 3.24135    loss g: -2.37497\n"
     ]
    },
    {
     "name": "stderr",
     "output_type": "stream",
     "text": [
      " 28%|██▊       | 27502/100001 [1:03:12<2:16:39,  8.84it/s]"
     ]
    },
    {
     "name": "stdout",
     "output_type": "stream",
     "text": [
      "GAN: loss d: 3.10800    loss g: -1.92484\n"
     ]
    },
    {
     "name": "stderr",
     "output_type": "stream",
     "text": [
      " 28%|██▊       | 27602/100001 [1:03:24<2:20:40,  8.58it/s]"
     ]
    },
    {
     "name": "stdout",
     "output_type": "stream",
     "text": [
      "GAN: loss d: 3.27100    loss g: -1.83454\n"
     ]
    },
    {
     "name": "stderr",
     "output_type": "stream",
     "text": [
      " 28%|██▊       | 27702/100001 [1:03:35<2:15:29,  8.89it/s]"
     ]
    },
    {
     "name": "stdout",
     "output_type": "stream",
     "text": [
      "GAN: loss d: 3.48029    loss g: -2.14181\n"
     ]
    },
    {
     "name": "stderr",
     "output_type": "stream",
     "text": [
      " 28%|██▊       | 27802/100001 [1:03:46<2:17:08,  8.77it/s]"
     ]
    },
    {
     "name": "stdout",
     "output_type": "stream",
     "text": [
      "GAN: loss d: 3.43401    loss g: -2.17665\n"
     ]
    },
    {
     "name": "stderr",
     "output_type": "stream",
     "text": [
      " 28%|██▊       | 27902/100001 [1:03:58<2:14:47,  8.91it/s]"
     ]
    },
    {
     "name": "stdout",
     "output_type": "stream",
     "text": [
      "GAN: loss d: 2.84588    loss g: -2.87946\n"
     ]
    },
    {
     "name": "stderr",
     "output_type": "stream",
     "text": [
      " 28%|██▊       | 28000/100001 [1:04:09<2:20:42,  8.53it/s]"
     ]
    },
    {
     "name": "stdout",
     "output_type": "stream",
     "text": [
      "GAN: loss d: 2.62310    loss g: -2.37897\n",
      "saving current model\n"
     ]
    },
    {
     "name": "stderr",
     "output_type": "stream",
     "text": [
      "\n",
      "  0%|          | 0/175 [00:00<?, ?it/s]\u001b[A"
     ]
    },
    {
     "name": "stdout",
     "output_type": "stream",
     "text": [
      "Number of real images: 5626\n"
     ]
    },
    {
     "name": "stderr",
     "output_type": "stream",
     "text": [
      "\n",
      "\n",
      "  0%|          | 0/15 [00:00<?, ?it/s]\u001b[A\u001b[A"
     ]
    },
    {
     "name": "stdout",
     "output_type": "stream",
     "text": [
      "Number of synthetic images: 500\n"
     ]
    },
    {
     "name": "stderr",
     "output_type": "stream",
     "text": [
      " 28%|██▊       | 28002/100001 [1:04:32<97:37:42,  4.88s/it] "
     ]
    },
    {
     "name": "stdout",
     "output_type": "stream",
     "text": [
      "Current fid score: 2.160112364724526\n",
      "Fid scores: [5.359689818244959, 2.479945282201154, 4.276308166260009, 2.7291028486932554, 2.7908292593055535, 2.3554975684525594, 2.6142447727283162, 2.1934954575945866, 2.3990477193970783, 2.221711896216327, 2.3744210742787253, 2.066927836690496, 2.3716458827445166, 1.9648397602519267, 1.6998954497984542, 2.319731846121897, 1.7800607345901547, 1.4056094758332023, 1.1810571313010847, 1.443624370521686, 1.5078741613768791, 1.173364418143919, 1.2011170423314468, 1.0761087412681398, 1.2172281204321251, 1.000626947334709, 1.737750054809478, 2.0593230539007124, 2.160112364724526]\n"
     ]
    },
    {
     "name": "stderr",
     "output_type": "stream",
     "text": [
      "  0%|          | 0/175 [00:19<?, ?it/s]2:12:53,  9.02it/s] \n",
      "  0%|          | 0/15 [00:10<?, ?it/s]\n",
      " 28%|██▊       | 28102/100001 [1:04:43<2:18:06,  8.68it/s]"
     ]
    },
    {
     "name": "stdout",
     "output_type": "stream",
     "text": [
      "GAN: loss d: 3.95455    loss g: -2.87056\n"
     ]
    },
    {
     "name": "stderr",
     "output_type": "stream",
     "text": [
      " 28%|██▊       | 28202/100001 [1:04:54<2:16:36,  8.76it/s]"
     ]
    },
    {
     "name": "stdout",
     "output_type": "stream",
     "text": [
      "GAN: loss d: 4.08524    loss g: -2.81992\n"
     ]
    },
    {
     "name": "stderr",
     "output_type": "stream",
     "text": [
      " 28%|██▊       | 28302/100001 [1:05:06<2:27:03,  8.13it/s]"
     ]
    },
    {
     "name": "stdout",
     "output_type": "stream",
     "text": [
      "GAN: loss d: 3.69067    loss g: -2.05327\n"
     ]
    },
    {
     "name": "stderr",
     "output_type": "stream",
     "text": [
      " 28%|██▊       | 28401/100001 [1:05:17<2:27:45,  8.08it/s]"
     ]
    },
    {
     "name": "stdout",
     "output_type": "stream",
     "text": [
      "GAN: loss d: 3.94785    loss g: -2.70553\n"
     ]
    },
    {
     "name": "stderr",
     "output_type": "stream",
     "text": [
      " 29%|██▊       | 28501/100001 [1:05:28<2:15:27,  8.80it/s]"
     ]
    },
    {
     "name": "stdout",
     "output_type": "stream",
     "text": [
      "GAN: loss d: 5.25338    loss g: -2.25114\n"
     ]
    },
    {
     "name": "stderr",
     "output_type": "stream",
     "text": [
      " 29%|██▊       | 28602/100001 [1:05:39<2:18:36,  8.59it/s]"
     ]
    },
    {
     "name": "stdout",
     "output_type": "stream",
     "text": [
      "GAN: loss d: 3.42109    loss g: -3.01264\n"
     ]
    },
    {
     "name": "stderr",
     "output_type": "stream",
     "text": [
      " 29%|██▊       | 28702/100001 [1:05:51<2:14:52,  8.81it/s]"
     ]
    },
    {
     "name": "stdout",
     "output_type": "stream",
     "text": [
      "GAN: loss d: 2.88426    loss g: -2.88277\n"
     ]
    },
    {
     "name": "stderr",
     "output_type": "stream",
     "text": [
      " 29%|██▉       | 28802/100001 [1:06:02<2:17:37,  8.62it/s]"
     ]
    },
    {
     "name": "stdout",
     "output_type": "stream",
     "text": [
      "GAN: loss d: 3.10050    loss g: -1.64486\n"
     ]
    },
    {
     "name": "stderr",
     "output_type": "stream",
     "text": [
      " 29%|██▉       | 28902/100001 [1:06:13<2:16:31,  8.68it/s]"
     ]
    },
    {
     "name": "stdout",
     "output_type": "stream",
     "text": [
      "GAN: loss d: 3.69285    loss g: -2.57633\n"
     ]
    },
    {
     "name": "stderr",
     "output_type": "stream",
     "text": [
      " 29%|██▉       | 29000/100001 [1:06:25<2:10:44,  9.05it/s]"
     ]
    },
    {
     "name": "stdout",
     "output_type": "stream",
     "text": [
      "GAN: loss d: 3.13037    loss g: -2.29222\n",
      "saving current model\n"
     ]
    },
    {
     "name": "stderr",
     "output_type": "stream",
     "text": [
      "\n",
      "  0%|          | 0/175 [00:00<?, ?it/s]\u001b[A"
     ]
    },
    {
     "name": "stdout",
     "output_type": "stream",
     "text": [
      "Number of real images: 5626\n"
     ]
    },
    {
     "name": "stderr",
     "output_type": "stream",
     "text": [
      "\n",
      "\n",
      "  0%|          | 0/15 [00:00<?, ?it/s]\u001b[A\u001b[A"
     ]
    },
    {
     "name": "stdout",
     "output_type": "stream",
     "text": [
      "Number of synthetic images: 500\n"
     ]
    },
    {
     "name": "stderr",
     "output_type": "stream",
     "text": [
      " 29%|██▉       | 29002/100001 [1:06:47<92:56:41,  4.71s/it] "
     ]
    },
    {
     "name": "stdout",
     "output_type": "stream",
     "text": [
      "Current fid score: 2.195316465388501\n",
      "Fid scores: [5.359689818244959, 2.479945282201154, 4.276308166260009, 2.7291028486932554, 2.7908292593055535, 2.3554975684525594, 2.6142447727283162, 2.1934954575945866, 2.3990477193970783, 2.221711896216327, 2.3744210742787253, 2.066927836690496, 2.3716458827445166, 1.9648397602519267, 1.6998954497984542, 2.319731846121897, 1.7800607345901547, 1.4056094758332023, 1.1810571313010847, 1.443624370521686, 1.5078741613768791, 1.173364418143919, 1.2011170423314468, 1.0761087412681398, 1.2172281204321251, 1.000626947334709, 1.737750054809478, 2.0593230539007124, 2.160112364724526, 2.195316465388501]\n"
     ]
    },
    {
     "name": "stderr",
     "output_type": "stream",
     "text": [
      "  0%|          | 0/175 [00:16<?, ?it/s]2:16:46,  8.65it/s] \n",
      "  0%|          | 0/15 [00:07<?, ?it/s]\n",
      " 29%|██▉       | 29102/100001 [1:06:58<2:14:03,  8.81it/s]"
     ]
    },
    {
     "name": "stdout",
     "output_type": "stream",
     "text": [
      "GAN: loss d: 2.10748    loss g: -2.44511\n"
     ]
    },
    {
     "name": "stderr",
     "output_type": "stream",
     "text": [
      " 29%|██▉       | 29201/100001 [1:07:09<2:32:38,  7.73it/s]"
     ]
    },
    {
     "name": "stdout",
     "output_type": "stream",
     "text": [
      "GAN: loss d: 4.03710    loss g: -2.86859\n"
     ]
    },
    {
     "name": "stderr",
     "output_type": "stream",
     "text": [
      " 29%|██▉       | 29302/100001 [1:07:21<2:14:30,  8.76it/s]"
     ]
    },
    {
     "name": "stdout",
     "output_type": "stream",
     "text": [
      "GAN: loss d: 4.54497    loss g: -2.30525\n"
     ]
    },
    {
     "name": "stderr",
     "output_type": "stream",
     "text": [
      " 29%|██▉       | 29402/100001 [1:07:32<2:16:01,  8.65it/s]"
     ]
    },
    {
     "name": "stdout",
     "output_type": "stream",
     "text": [
      "GAN: loss d: 3.18205    loss g: -2.27571\n"
     ]
    },
    {
     "name": "stderr",
     "output_type": "stream",
     "text": [
      " 30%|██▉       | 29501/100001 [1:07:44<2:15:03,  8.70it/s]"
     ]
    },
    {
     "name": "stdout",
     "output_type": "stream",
     "text": [
      "GAN: loss d: 2.82337    loss g: -2.12796\n"
     ]
    },
    {
     "name": "stderr",
     "output_type": "stream",
     "text": [
      " 30%|██▉       | 29601/100001 [1:07:55<2:13:09,  8.81it/s]"
     ]
    },
    {
     "name": "stdout",
     "output_type": "stream",
     "text": [
      "GAN: loss d: 3.20212    loss g: -2.89927\n"
     ]
    },
    {
     "name": "stderr",
     "output_type": "stream",
     "text": [
      " 30%|██▉       | 29702/100001 [1:08:06<2:17:00,  8.55it/s]"
     ]
    },
    {
     "name": "stdout",
     "output_type": "stream",
     "text": [
      "GAN: loss d: 4.01394    loss g: -2.34468\n"
     ]
    },
    {
     "name": "stderr",
     "output_type": "stream",
     "text": [
      " 30%|██▉       | 29802/100001 [1:08:18<2:11:19,  8.91it/s]"
     ]
    },
    {
     "name": "stdout",
     "output_type": "stream",
     "text": [
      "GAN: loss d: 4.79266    loss g: -2.04075\n"
     ]
    },
    {
     "name": "stderr",
     "output_type": "stream",
     "text": [
      " 30%|██▉       | 29902/100001 [1:08:29<2:10:08,  8.98it/s]"
     ]
    },
    {
     "name": "stdout",
     "output_type": "stream",
     "text": [
      "GAN: loss d: 1.05455    loss g: -2.51482\n"
     ]
    },
    {
     "name": "stderr",
     "output_type": "stream",
     "text": [
      " 30%|██▉       | 30000/100001 [1:08:40<2:10:51,  8.92it/s]"
     ]
    },
    {
     "name": "stdout",
     "output_type": "stream",
     "text": [
      "GAN: loss d: 4.34135    loss g: -2.08704\n",
      "saving current model\n"
     ]
    },
    {
     "name": "stderr",
     "output_type": "stream",
     "text": [
      "\n",
      "  0%|          | 0/175 [00:00<?, ?it/s]\u001b[A"
     ]
    },
    {
     "name": "stdout",
     "output_type": "stream",
     "text": [
      "Number of real images: 5626\n"
     ]
    },
    {
     "name": "stderr",
     "output_type": "stream",
     "text": [
      "\n",
      "\n",
      "  0%|          | 0/15 [00:00<?, ?it/s]\u001b[A\u001b[A"
     ]
    },
    {
     "name": "stdout",
     "output_type": "stream",
     "text": [
      "Number of synthetic images: 500\n"
     ]
    },
    {
     "name": "stderr",
     "output_type": "stream",
     "text": [
      " 30%|███       | 30002/100001 [1:09:02<88:46:13,  4.57s/it] "
     ]
    },
    {
     "name": "stdout",
     "output_type": "stream",
     "text": [
      "Current fid score: 2.2950768584747436\n",
      "Fid scores: [5.359689818244959, 2.479945282201154, 4.276308166260009, 2.7291028486932554, 2.7908292593055535, 2.3554975684525594, 2.6142447727283162, 2.1934954575945866, 2.3990477193970783, 2.221711896216327, 2.3744210742787253, 2.066927836690496, 2.3716458827445166, 1.9648397602519267, 1.6998954497984542, 2.319731846121897, 1.7800607345901547, 1.4056094758332023, 1.1810571313010847, 1.443624370521686, 1.5078741613768791, 1.173364418143919, 1.2011170423314468, 1.0761087412681398, 1.2172281204321251, 1.000626947334709, 1.737750054809478, 2.0593230539007124, 2.160112364724526, 2.195316465388501, 2.2950768584747436]\n"
     ]
    },
    {
     "name": "stderr",
     "output_type": "stream",
     "text": [
      "  0%|          | 0/175 [00:10<?, ?it/s]12:22:36,  1.57it/s]\n",
      "  0%|          | 0/15 [00:01<?, ?it/s]\n",
      " 30%|███       | 30101/100001 [1:09:13<2:12:29,  8.79it/s] "
     ]
    },
    {
     "name": "stdout",
     "output_type": "stream",
     "text": [
      "GAN: loss d: 3.87227    loss g: -2.74044\n"
     ]
    },
    {
     "name": "stderr",
     "output_type": "stream",
     "text": [
      " 30%|███       | 30202/100001 [1:09:25<2:11:51,  8.82it/s]"
     ]
    },
    {
     "name": "stdout",
     "output_type": "stream",
     "text": [
      "GAN: loss d: 4.41822    loss g: -2.24626\n"
     ]
    },
    {
     "name": "stderr",
     "output_type": "stream",
     "text": [
      " 30%|███       | 30302/100001 [1:09:36<2:10:44,  8.89it/s]"
     ]
    },
    {
     "name": "stdout",
     "output_type": "stream",
     "text": [
      "GAN: loss d: 2.87225    loss g: -1.96709\n"
     ]
    },
    {
     "name": "stderr",
     "output_type": "stream",
     "text": [
      " 30%|███       | 30401/100001 [1:09:47<2:11:41,  8.81it/s]"
     ]
    },
    {
     "name": "stdout",
     "output_type": "stream",
     "text": [
      "GAN: loss d: 2.87982    loss g: -1.88266\n"
     ]
    },
    {
     "name": "stderr",
     "output_type": "stream",
     "text": [
      " 31%|███       | 30501/100001 [1:09:58<2:09:40,  8.93it/s]"
     ]
    },
    {
     "name": "stdout",
     "output_type": "stream",
     "text": [
      "GAN: loss d: 2.13763    loss g: -2.60260\n"
     ]
    },
    {
     "name": "stderr",
     "output_type": "stream",
     "text": [
      " 31%|███       | 30601/100001 [1:10:09<2:10:29,  8.86it/s]"
     ]
    },
    {
     "name": "stdout",
     "output_type": "stream",
     "text": [
      "GAN: loss d: 4.34951    loss g: -2.44463\n"
     ]
    },
    {
     "name": "stderr",
     "output_type": "stream",
     "text": [
      " 31%|███       | 30702/100001 [1:10:21<2:13:08,  8.68it/s]"
     ]
    },
    {
     "name": "stdout",
     "output_type": "stream",
     "text": [
      "GAN: loss d: 1.75045    loss g: -2.22247\n"
     ]
    },
    {
     "name": "stderr",
     "output_type": "stream",
     "text": [
      " 31%|███       | 30801/100001 [1:10:32<2:12:54,  8.68it/s]"
     ]
    },
    {
     "name": "stdout",
     "output_type": "stream",
     "text": [
      "GAN: loss d: 1.80195    loss g: -3.08845\n"
     ]
    },
    {
     "name": "stderr",
     "output_type": "stream",
     "text": [
      " 31%|███       | 30902/100001 [1:10:43<2:14:44,  8.55it/s]"
     ]
    },
    {
     "name": "stdout",
     "output_type": "stream",
     "text": [
      "GAN: loss d: 3.48727    loss g: -2.65874\n"
     ]
    },
    {
     "name": "stderr",
     "output_type": "stream",
     "text": [
      " 31%|███       | 31000/100001 [1:10:55<2:13:49,  8.59it/s]"
     ]
    },
    {
     "name": "stdout",
     "output_type": "stream",
     "text": [
      "GAN: loss d: 2.95789    loss g: -1.89264\n",
      "saving current model\n"
     ]
    },
    {
     "name": "stderr",
     "output_type": "stream",
     "text": [
      "\n",
      "  0%|          | 0/175 [00:00<?, ?it/s]\u001b[A"
     ]
    },
    {
     "name": "stdout",
     "output_type": "stream",
     "text": [
      "Number of real images: 5626\n"
     ]
    },
    {
     "name": "stderr",
     "output_type": "stream",
     "text": [
      "\n",
      "\n",
      "  0%|          | 0/15 [00:00<?, ?it/s]\u001b[A\u001b[A"
     ]
    },
    {
     "name": "stdout",
     "output_type": "stream",
     "text": [
      "Number of synthetic images: 500\n"
     ]
    },
    {
     "name": "stderr",
     "output_type": "stream",
     "text": [
      " 31%|███       | 31002/100001 [1:11:18<93:49:43,  4.90s/it] "
     ]
    },
    {
     "name": "stdout",
     "output_type": "stream",
     "text": [
      "Current fid score: 2.5124235574475904\n",
      "Fid scores: [5.359689818244959, 2.479945282201154, 4.276308166260009, 2.7291028486932554, 2.7908292593055535, 2.3554975684525594, 2.6142447727283162, 2.1934954575945866, 2.3990477193970783, 2.221711896216327, 2.3744210742787253, 2.066927836690496, 2.3716458827445166, 1.9648397602519267, 1.6998954497984542, 2.319731846121897, 1.7800607345901547, 1.4056094758332023, 1.1810571313010847, 1.443624370521686, 1.5078741613768791, 1.173364418143919, 1.2011170423314468, 1.0761087412681398, 1.2172281204321251, 1.000626947334709, 1.737750054809478, 2.0593230539007124, 2.160112364724526, 2.195316465388501, 2.2950768584747436, 2.5124235574475904]\n"
     ]
    },
    {
     "name": "stderr",
     "output_type": "stream",
     "text": [
      "  0%|          | 0/175 [00:11<?, ?it/s]4:45:25,  4.03it/s] \n",
      "  0%|          | 0/15 [00:02<?, ?it/s]\n",
      " 31%|███       | 31102/100001 [1:11:29<2:08:41,  8.92it/s]"
     ]
    },
    {
     "name": "stdout",
     "output_type": "stream",
     "text": [
      "GAN: loss d: 2.26037    loss g: -2.21115\n"
     ]
    },
    {
     "name": "stderr",
     "output_type": "stream",
     "text": [
      " 31%|███       | 31202/100001 [1:11:40<2:11:29,  8.72it/s]"
     ]
    },
    {
     "name": "stdout",
     "output_type": "stream",
     "text": [
      "GAN: loss d: 1.87947    loss g: -1.91580\n"
     ]
    },
    {
     "name": "stderr",
     "output_type": "stream",
     "text": [
      " 31%|███▏      | 31302/100001 [1:11:52<2:23:11,  8.00it/s]"
     ]
    },
    {
     "name": "stdout",
     "output_type": "stream",
     "text": [
      "GAN: loss d: 2.07055    loss g: -2.21596\n"
     ]
    },
    {
     "name": "stderr",
     "output_type": "stream",
     "text": [
      " 31%|███▏      | 31402/100001 [1:12:03<2:10:01,  8.79it/s]"
     ]
    },
    {
     "name": "stdout",
     "output_type": "stream",
     "text": [
      "GAN: loss d: 2.94318    loss g: -2.43853\n"
     ]
    },
    {
     "name": "stderr",
     "output_type": "stream",
     "text": [
      " 32%|███▏      | 31502/100001 [1:12:14<2:09:16,  8.83it/s]"
     ]
    },
    {
     "name": "stdout",
     "output_type": "stream",
     "text": [
      "GAN: loss d: 2.35629    loss g: -2.34572\n"
     ]
    },
    {
     "name": "stderr",
     "output_type": "stream",
     "text": [
      " 32%|███▏      | 31602/100001 [1:12:26<2:09:30,  8.80it/s]"
     ]
    },
    {
     "name": "stdout",
     "output_type": "stream",
     "text": [
      "GAN: loss d: 1.86447    loss g: -1.84570\n"
     ]
    },
    {
     "name": "stderr",
     "output_type": "stream",
     "text": [
      " 32%|███▏      | 31702/100001 [1:12:37<2:08:14,  8.88it/s]"
     ]
    },
    {
     "name": "stdout",
     "output_type": "stream",
     "text": [
      "GAN: loss d: 2.73746    loss g: -2.63567\n"
     ]
    },
    {
     "name": "stderr",
     "output_type": "stream",
     "text": [
      " 32%|███▏      | 31801/100001 [1:12:48<2:13:09,  8.54it/s]"
     ]
    },
    {
     "name": "stdout",
     "output_type": "stream",
     "text": [
      "GAN: loss d: 2.18200    loss g: -2.03428\n"
     ]
    },
    {
     "name": "stderr",
     "output_type": "stream",
     "text": [
      " 32%|███▏      | 31901/100001 [1:13:00<2:09:52,  8.74it/s]"
     ]
    },
    {
     "name": "stdout",
     "output_type": "stream",
     "text": [
      "GAN: loss d: 2.31353    loss g: -1.67076\n"
     ]
    },
    {
     "name": "stderr",
     "output_type": "stream",
     "text": [
      " 32%|███▏      | 32000/100001 [1:13:11<2:08:26,  8.82it/s]"
     ]
    },
    {
     "name": "stdout",
     "output_type": "stream",
     "text": [
      "GAN: loss d: 1.94764    loss g: -1.90464\n",
      "saving current model\n"
     ]
    },
    {
     "name": "stderr",
     "output_type": "stream",
     "text": [
      "\n",
      "  0%|          | 0/175 [00:00<?, ?it/s]\u001b[A"
     ]
    },
    {
     "name": "stdout",
     "output_type": "stream",
     "text": [
      "Number of real images: 5626\n"
     ]
    },
    {
     "name": "stderr",
     "output_type": "stream",
     "text": [
      "\n",
      "\n",
      "  0%|          | 0/15 [00:00<?, ?it/s]\u001b[A\u001b[A"
     ]
    },
    {
     "name": "stdout",
     "output_type": "stream",
     "text": [
      "Number of synthetic images: 500\n"
     ]
    },
    {
     "name": "stderr",
     "output_type": "stream",
     "text": [
      " 32%|███▏      | 32001/100001 [1:13:34<130:33:02,  6.91s/it]"
     ]
    },
    {
     "name": "stdout",
     "output_type": "stream",
     "text": [
      "Current fid score: 2.475506166692888\n",
      "Fid scores: [5.359689818244959, 2.479945282201154, 4.276308166260009, 2.7291028486932554, 2.7908292593055535, 2.3554975684525594, 2.6142447727283162, 2.1934954575945866, 2.3990477193970783, 2.221711896216327, 2.3744210742787253, 2.066927836690496, 2.3716458827445166, 1.9648397602519267, 1.6998954497984542, 2.319731846121897, 1.7800607345901547, 1.4056094758332023, 1.1810571313010847, 1.443624370521686, 1.5078741613768791, 1.173364418143919, 1.2011170423314468, 1.0761087412681398, 1.2172281204321251, 1.000626947334709, 1.737750054809478, 2.0593230539007124, 2.160112364724526, 2.195316465388501, 2.2950768584747436, 2.5124235574475904, 2.475506166692888]\n"
     ]
    },
    {
     "name": "stderr",
     "output_type": "stream",
     "text": [
      "  0%|          | 0/175 [00:16<?, ?it/s]2:05:30,  9.02it/s]  \n",
      "  0%|          | 0/15 [00:07<?, ?it/s]\n",
      " 32%|███▏      | 32101/100001 [1:13:45<2:08:47,  8.79it/s]"
     ]
    },
    {
     "name": "stdout",
     "output_type": "stream",
     "text": [
      "GAN: loss d: 1.52667    loss g: -2.88573\n"
     ]
    },
    {
     "name": "stderr",
     "output_type": "stream",
     "text": [
      " 32%|███▏      | 32202/100001 [1:13:56<2:06:15,  8.95it/s]"
     ]
    },
    {
     "name": "stdout",
     "output_type": "stream",
     "text": [
      "GAN: loss d: 1.06282    loss g: -2.38108\n"
     ]
    },
    {
     "name": "stderr",
     "output_type": "stream",
     "text": [
      " 32%|███▏      | 32301/100001 [1:14:08<2:12:59,  8.48it/s]"
     ]
    },
    {
     "name": "stdout",
     "output_type": "stream",
     "text": [
      "GAN: loss d: 2.96505    loss g: -2.67056\n"
     ]
    },
    {
     "name": "stderr",
     "output_type": "stream",
     "text": [
      " 32%|███▏      | 32402/100001 [1:14:19<2:09:52,  8.67it/s]"
     ]
    },
    {
     "name": "stdout",
     "output_type": "stream",
     "text": [
      "GAN: loss d: 2.76071    loss g: -2.76240\n"
     ]
    },
    {
     "name": "stderr",
     "output_type": "stream",
     "text": [
      " 33%|███▎      | 32502/100001 [1:14:31<2:05:04,  8.99it/s]"
     ]
    },
    {
     "name": "stdout",
     "output_type": "stream",
     "text": [
      "GAN: loss d: 3.11100    loss g: -1.99896\n"
     ]
    },
    {
     "name": "stderr",
     "output_type": "stream",
     "text": [
      " 33%|███▎      | 32601/100001 [1:14:42<2:08:36,  8.74it/s]"
     ]
    },
    {
     "name": "stdout",
     "output_type": "stream",
     "text": [
      "GAN: loss d: 4.22130    loss g: -2.57153\n"
     ]
    },
    {
     "name": "stderr",
     "output_type": "stream",
     "text": [
      " 33%|███▎      | 32702/100001 [1:14:53<2:06:21,  8.88it/s]"
     ]
    },
    {
     "name": "stdout",
     "output_type": "stream",
     "text": [
      "GAN: loss d: 3.10055    loss g: -1.98930\n"
     ]
    },
    {
     "name": "stderr",
     "output_type": "stream",
     "text": [
      " 33%|███▎      | 32802/100001 [1:15:05<2:22:40,  7.85it/s]"
     ]
    },
    {
     "name": "stdout",
     "output_type": "stream",
     "text": [
      "GAN: loss d: 1.40147    loss g: -2.77285\n"
     ]
    },
    {
     "name": "stderr",
     "output_type": "stream",
     "text": [
      " 33%|███▎      | 32901/100001 [1:15:16<2:15:09,  8.27it/s]"
     ]
    },
    {
     "name": "stdout",
     "output_type": "stream",
     "text": [
      "GAN: loss d: 2.14736    loss g: -2.11711\n"
     ]
    },
    {
     "name": "stderr",
     "output_type": "stream",
     "text": [
      " 33%|███▎      | 33000/100001 [1:15:27<2:05:21,  8.91it/s]"
     ]
    },
    {
     "name": "stdout",
     "output_type": "stream",
     "text": [
      "GAN: loss d: 3.31257    loss g: -2.42785\n",
      "saving current model\n"
     ]
    },
    {
     "name": "stderr",
     "output_type": "stream",
     "text": [
      "\n",
      "  0%|          | 0/175 [00:00<?, ?it/s]\u001b[A"
     ]
    },
    {
     "name": "stdout",
     "output_type": "stream",
     "text": [
      "Number of real images: 5626\n"
     ]
    },
    {
     "name": "stderr",
     "output_type": "stream",
     "text": [
      "\n",
      "\n",
      "  0%|          | 0/15 [00:00<?, ?it/s]\u001b[A\u001b[A"
     ]
    },
    {
     "name": "stdout",
     "output_type": "stream",
     "text": [
      "Number of synthetic images: 500\n"
     ]
    },
    {
     "name": "stderr",
     "output_type": "stream",
     "text": [
      " 33%|███▎      | 33001/100001 [1:15:50<128:44:12,  6.92s/it]"
     ]
    },
    {
     "name": "stdout",
     "output_type": "stream",
     "text": [
      "Current fid score: 3.0757913554101854\n",
      "Fid scores: [5.359689818244959, 2.479945282201154, 4.276308166260009, 2.7291028486932554, 2.7908292593055535, 2.3554975684525594, 2.6142447727283162, 2.1934954575945866, 2.3990477193970783, 2.221711896216327, 2.3744210742787253, 2.066927836690496, 2.3716458827445166, 1.9648397602519267, 1.6998954497984542, 2.319731846121897, 1.7800607345901547, 1.4056094758332023, 1.1810571313010847, 1.443624370521686, 1.5078741613768791, 1.173364418143919, 1.2011170423314468, 1.0761087412681398, 1.2172281204321251, 1.000626947334709, 1.737750054809478, 2.0593230539007124, 2.160112364724526, 2.195316465388501, 2.2950768584747436, 2.5124235574475904, 2.475506166692888, 3.0757913554101854]\n"
     ]
    },
    {
     "name": "stderr",
     "output_type": "stream",
     "text": [
      "  0%|          | 0/175 [00:14<?, ?it/s]2:02:23,  9.12it/s]  \n",
      "  0%|          | 0/15 [00:05<?, ?it/s]\n",
      " 33%|███▎      | 33102/100001 [1:16:01<2:08:54,  8.65it/s]"
     ]
    },
    {
     "name": "stdout",
     "output_type": "stream",
     "text": [
      "GAN: loss d: 3.22169    loss g: -2.18672\n"
     ]
    },
    {
     "name": "stderr",
     "output_type": "stream",
     "text": [
      " 33%|███▎      | 33202/100001 [1:16:13<2:09:31,  8.60it/s]"
     ]
    },
    {
     "name": "stdout",
     "output_type": "stream",
     "text": [
      "GAN: loss d: 2.66758    loss g: -2.79444\n"
     ]
    },
    {
     "name": "stderr",
     "output_type": "stream",
     "text": [
      " 33%|███▎      | 33302/100001 [1:16:24<2:05:53,  8.83it/s]"
     ]
    },
    {
     "name": "stdout",
     "output_type": "stream",
     "text": [
      "GAN: loss d: 2.49076    loss g: -2.08751\n"
     ]
    },
    {
     "name": "stderr",
     "output_type": "stream",
     "text": [
      " 33%|███▎      | 33402/100001 [1:16:35<2:05:33,  8.84it/s]"
     ]
    },
    {
     "name": "stdout",
     "output_type": "stream",
     "text": [
      "GAN: loss d: 3.12867    loss g: -2.60274\n"
     ]
    },
    {
     "name": "stderr",
     "output_type": "stream",
     "text": [
      " 34%|███▎      | 33502/100001 [1:16:47<2:03:46,  8.95it/s]"
     ]
    },
    {
     "name": "stdout",
     "output_type": "stream",
     "text": [
      "GAN: loss d: 2.63834    loss g: -1.72666\n"
     ]
    },
    {
     "name": "stderr",
     "output_type": "stream",
     "text": [
      " 34%|███▎      | 33602/100001 [1:16:58<2:03:31,  8.96it/s]"
     ]
    },
    {
     "name": "stdout",
     "output_type": "stream",
     "text": [
      "GAN: loss d: 3.87500    loss g: -2.08761\n"
     ]
    },
    {
     "name": "stderr",
     "output_type": "stream",
     "text": [
      " 34%|███▎      | 33702/100001 [1:17:10<2:03:07,  8.97it/s]"
     ]
    },
    {
     "name": "stdout",
     "output_type": "stream",
     "text": [
      "GAN: loss d: 5.74730    loss g: -2.08566\n"
     ]
    },
    {
     "name": "stderr",
     "output_type": "stream",
     "text": [
      " 34%|███▍      | 33802/100001 [1:17:21<2:05:06,  8.82it/s]"
     ]
    },
    {
     "name": "stdout",
     "output_type": "stream",
     "text": [
      "GAN: loss d: 3.64122    loss g: -2.07403\n"
     ]
    },
    {
     "name": "stderr",
     "output_type": "stream",
     "text": [
      " 34%|███▍      | 33901/100001 [1:17:32<2:06:29,  8.71it/s]"
     ]
    },
    {
     "name": "stdout",
     "output_type": "stream",
     "text": [
      "GAN: loss d: 3.36164    loss g: -2.57982\n"
     ]
    },
    {
     "name": "stderr",
     "output_type": "stream",
     "text": [
      " 34%|███▍      | 34000/100001 [1:17:43<2:03:40,  8.89it/s]"
     ]
    },
    {
     "name": "stdout",
     "output_type": "stream",
     "text": [
      "GAN: loss d: 3.34789    loss g: -2.48745\n",
      "saving current model\n"
     ]
    },
    {
     "name": "stderr",
     "output_type": "stream",
     "text": [
      "\n",
      "  0%|          | 0/175 [00:00<?, ?it/s]\u001b[A"
     ]
    },
    {
     "name": "stdout",
     "output_type": "stream",
     "text": [
      "Number of real images: 5626\n"
     ]
    },
    {
     "name": "stderr",
     "output_type": "stream",
     "text": [
      "\n",
      "\n",
      "  0%|          | 0/15 [00:00<?, ?it/s]\u001b[A\u001b[A"
     ]
    },
    {
     "name": "stdout",
     "output_type": "stream",
     "text": [
      "Number of synthetic images: 500\n"
     ]
    },
    {
     "name": "stderr",
     "output_type": "stream",
     "text": [
      " 34%|███▍      | 34002/100001 [1:18:06<88:34:16,  4.83s/it] "
     ]
    },
    {
     "name": "stdout",
     "output_type": "stream",
     "text": [
      "Current fid score: 3.3013338688781992\n",
      "Fid scores: [5.359689818244959, 2.479945282201154, 4.276308166260009, 2.7291028486932554, 2.7908292593055535, 2.3554975684525594, 2.6142447727283162, 2.1934954575945866, 2.3990477193970783, 2.221711896216327, 2.3744210742787253, 2.066927836690496, 2.3716458827445166, 1.9648397602519267, 1.6998954497984542, 2.319731846121897, 1.7800607345901547, 1.4056094758332023, 1.1810571313010847, 1.443624370521686, 1.5078741613768791, 1.173364418143919, 1.2011170423314468, 1.0761087412681398, 1.2172281204321251, 1.000626947334709, 1.737750054809478, 2.0593230539007124, 2.160112364724526, 2.195316465388501, 2.2950768584747436, 2.5124235574475904, 2.475506166692888, 3.0757913554101854, 3.3013338688781992]\n"
     ]
    },
    {
     "name": "stderr",
     "output_type": "stream",
     "text": [
      "  0%|          | 0/175 [00:11<?, ?it/s]5:34:18,  3.29it/s] \n",
      "  0%|          | 0/15 [00:02<?, ?it/s]\n",
      " 34%|███▍      | 34102/100001 [1:18:17<2:04:30,  8.82it/s]"
     ]
    },
    {
     "name": "stdout",
     "output_type": "stream",
     "text": [
      "GAN: loss d: 3.55460    loss g: -2.69359\n"
     ]
    },
    {
     "name": "stderr",
     "output_type": "stream",
     "text": [
      " 34%|███▍      | 34202/100001 [1:18:29<2:02:07,  8.98it/s]"
     ]
    },
    {
     "name": "stdout",
     "output_type": "stream",
     "text": [
      "GAN: loss d: 3.55241    loss g: -2.12843\n"
     ]
    },
    {
     "name": "stderr",
     "output_type": "stream",
     "text": [
      " 34%|███▍      | 34302/100001 [1:18:40<2:02:57,  8.91it/s]"
     ]
    },
    {
     "name": "stdout",
     "output_type": "stream",
     "text": [
      "GAN: loss d: 2.68755    loss g: -2.39284\n"
     ]
    },
    {
     "name": "stderr",
     "output_type": "stream",
     "text": [
      " 34%|███▍      | 34402/100001 [1:18:51<2:08:07,  8.53it/s]"
     ]
    },
    {
     "name": "stdout",
     "output_type": "stream",
     "text": [
      "GAN: loss d: 2.27579    loss g: -2.42171\n"
     ]
    },
    {
     "name": "stderr",
     "output_type": "stream",
     "text": [
      " 35%|███▍      | 34501/100001 [1:19:03<2:05:37,  8.69it/s]"
     ]
    },
    {
     "name": "stdout",
     "output_type": "stream",
     "text": [
      "GAN: loss d: 3.44849    loss g: -3.95990\n"
     ]
    },
    {
     "name": "stderr",
     "output_type": "stream",
     "text": [
      " 35%|███▍      | 34602/100001 [1:19:14<2:04:58,  8.72it/s]"
     ]
    },
    {
     "name": "stdout",
     "output_type": "stream",
     "text": [
      "GAN: loss d: 4.17920    loss g: -2.24178\n"
     ]
    },
    {
     "name": "stderr",
     "output_type": "stream",
     "text": [
      " 35%|███▍      | 34702/100001 [1:19:26<2:05:51,  8.65it/s]"
     ]
    },
    {
     "name": "stdout",
     "output_type": "stream",
     "text": [
      "GAN: loss d: 3.34534    loss g: -1.90482\n"
     ]
    },
    {
     "name": "stderr",
     "output_type": "stream",
     "text": [
      " 35%|███▍      | 34802/100001 [1:19:37<2:06:37,  8.58it/s]"
     ]
    },
    {
     "name": "stdout",
     "output_type": "stream",
     "text": [
      "GAN: loss d: 2.69517    loss g: -3.42697\n"
     ]
    },
    {
     "name": "stderr",
     "output_type": "stream",
     "text": [
      " 35%|███▍      | 34902/100001 [1:19:49<2:03:20,  8.80it/s]"
     ]
    },
    {
     "name": "stdout",
     "output_type": "stream",
     "text": [
      "GAN: loss d: 1.95866    loss g: -1.58994\n"
     ]
    },
    {
     "name": "stderr",
     "output_type": "stream",
     "text": [
      " 35%|███▍      | 35000/100001 [1:20:00<2:02:28,  8.85it/s]"
     ]
    },
    {
     "name": "stdout",
     "output_type": "stream",
     "text": [
      "GAN: loss d: 3.70590    loss g: -2.43154\n",
      "saving current model\n"
     ]
    },
    {
     "name": "stderr",
     "output_type": "stream",
     "text": [
      "\n",
      "  0%|          | 0/175 [00:00<?, ?it/s]\u001b[A"
     ]
    },
    {
     "name": "stdout",
     "output_type": "stream",
     "text": [
      "Number of real images: 5626\n"
     ]
    },
    {
     "name": "stderr",
     "output_type": "stream",
     "text": [
      "\n",
      "\n",
      "  0%|          | 0/15 [00:00<?, ?it/s]\u001b[A\u001b[A"
     ]
    },
    {
     "name": "stdout",
     "output_type": "stream",
     "text": [
      "Number of synthetic images: 500\n"
     ]
    },
    {
     "name": "stderr",
     "output_type": "stream",
     "text": [
      " 35%|███▌      | 35002/100001 [1:20:22<84:43:48,  4.69s/it] "
     ]
    },
    {
     "name": "stdout",
     "output_type": "stream",
     "text": [
      "Current fid score: 3.1298115638580413\n",
      "Fid scores: [5.359689818244959, 2.479945282201154, 4.276308166260009, 2.7291028486932554, 2.7908292593055535, 2.3554975684525594, 2.6142447727283162, 2.1934954575945866, 2.3990477193970783, 2.221711896216327, 2.3744210742787253, 2.066927836690496, 2.3716458827445166, 1.9648397602519267, 1.6998954497984542, 2.319731846121897, 1.7800607345901547, 1.4056094758332023, 1.1810571313010847, 1.443624370521686, 1.5078741613768791, 1.173364418143919, 1.2011170423314468, 1.0761087412681398, 1.2172281204321251, 1.000626947334709, 1.737750054809478, 2.0593230539007124, 2.160112364724526, 2.195316465388501, 2.2950768584747436, 2.5124235574475904, 2.475506166692888, 3.0757913554101854, 3.3013338688781992, 3.1298115638580413]\n"
     ]
    },
    {
     "name": "stderr",
     "output_type": "stream",
     "text": [
      "  0%|          | 0/175 [00:19<?, ?it/s]2:04:31,  8.69it/s] \n",
      "  0%|          | 0/15 [00:10<?, ?it/s]\n",
      " 35%|███▌      | 35102/100001 [1:20:33<2:02:41,  8.82it/s]"
     ]
    },
    {
     "name": "stdout",
     "output_type": "stream",
     "text": [
      "GAN: loss d: 2.52430    loss g: -3.22220\n"
     ]
    },
    {
     "name": "stderr",
     "output_type": "stream",
     "text": [
      " 35%|███▌      | 35202/100001 [1:20:45<2:03:59,  8.71it/s]"
     ]
    },
    {
     "name": "stdout",
     "output_type": "stream",
     "text": [
      "GAN: loss d: 3.63405    loss g: -2.30625\n"
     ]
    },
    {
     "name": "stderr",
     "output_type": "stream",
     "text": [
      " 35%|███▌      | 35302/100001 [1:20:56<2:03:47,  8.71it/s]"
     ]
    },
    {
     "name": "stdout",
     "output_type": "stream",
     "text": [
      "GAN: loss d: 2.89808    loss g: -2.66410\n"
     ]
    },
    {
     "name": "stderr",
     "output_type": "stream",
     "text": [
      " 35%|███▌      | 35402/100001 [1:21:08<2:02:43,  8.77it/s]"
     ]
    },
    {
     "name": "stdout",
     "output_type": "stream",
     "text": [
      "GAN: loss d: 3.93900    loss g: -2.44533\n"
     ]
    },
    {
     "name": "stderr",
     "output_type": "stream",
     "text": [
      " 36%|███▌      | 35502/100001 [1:21:19<1:59:30,  9.00it/s]"
     ]
    },
    {
     "name": "stdout",
     "output_type": "stream",
     "text": [
      "GAN: loss d: 2.18550    loss g: -2.08851\n"
     ]
    },
    {
     "name": "stderr",
     "output_type": "stream",
     "text": [
      " 36%|███▌      | 35601/100001 [1:21:30<2:00:59,  8.87it/s]"
     ]
    },
    {
     "name": "stdout",
     "output_type": "stream",
     "text": [
      "GAN: loss d: 3.49234    loss g: -2.23727\n"
     ]
    },
    {
     "name": "stderr",
     "output_type": "stream",
     "text": [
      " 36%|███▌      | 35702/100001 [1:21:41<2:00:11,  8.92it/s]"
     ]
    },
    {
     "name": "stdout",
     "output_type": "stream",
     "text": [
      "GAN: loss d: 2.66371    loss g: -1.98063\n"
     ]
    },
    {
     "name": "stderr",
     "output_type": "stream",
     "text": [
      " 36%|███▌      | 35801/100001 [1:21:53<2:03:54,  8.64it/s]"
     ]
    },
    {
     "name": "stdout",
     "output_type": "stream",
     "text": [
      "GAN: loss d: 2.08434    loss g: -2.56675\n"
     ]
    },
    {
     "name": "stderr",
     "output_type": "stream",
     "text": [
      " 36%|███▌      | 35902/100001 [1:22:04<2:00:01,  8.90it/s]"
     ]
    },
    {
     "name": "stdout",
     "output_type": "stream",
     "text": [
      "GAN: loss d: 2.91817    loss g: -2.51281\n"
     ]
    },
    {
     "name": "stderr",
     "output_type": "stream",
     "text": [
      " 36%|███▌      | 36000/100001 [1:22:15<2:03:08,  8.66it/s]"
     ]
    },
    {
     "name": "stdout",
     "output_type": "stream",
     "text": [
      "GAN: loss d: 2.12335    loss g: -2.50007\n",
      "saving current model\n"
     ]
    },
    {
     "name": "stderr",
     "output_type": "stream",
     "text": [
      "\n",
      "  0%|          | 0/175 [00:00<?, ?it/s]\u001b[A"
     ]
    },
    {
     "name": "stdout",
     "output_type": "stream",
     "text": [
      "Number of real images: 5626\n"
     ]
    },
    {
     "name": "stderr",
     "output_type": "stream",
     "text": [
      "\n",
      "\n",
      "  0%|          | 0/15 [00:00<?, ?it/s]\u001b[A\u001b[A"
     ]
    },
    {
     "name": "stdout",
     "output_type": "stream",
     "text": [
      "Number of synthetic images: 500\n"
     ]
    },
    {
     "name": "stderr",
     "output_type": "stream",
     "text": [
      " 36%|███▌      | 36002/100001 [1:22:38<87:00:10,  4.89s/it] "
     ]
    },
    {
     "name": "stdout",
     "output_type": "stream",
     "text": [
      "Current fid score: 3.361620915033507\n",
      "Fid scores: [5.359689818244959, 2.479945282201154, 4.276308166260009, 2.7291028486932554, 2.7908292593055535, 2.3554975684525594, 2.6142447727283162, 2.1934954575945866, 2.3990477193970783, 2.221711896216327, 2.3744210742787253, 2.066927836690496, 2.3716458827445166, 1.9648397602519267, 1.6998954497984542, 2.319731846121897, 1.7800607345901547, 1.4056094758332023, 1.1810571313010847, 1.443624370521686, 1.5078741613768791, 1.173364418143919, 1.2011170423314468, 1.0761087412681398, 1.2172281204321251, 1.000626947334709, 1.737750054809478, 2.0593230539007124, 2.160112364724526, 2.195316465388501, 2.2950768584747436, 2.5124235574475904, 2.475506166692888, 3.0757913554101854, 3.3013338688781992, 3.1298115638580413, 3.361620915033507]\n"
     ]
    },
    {
     "name": "stderr",
     "output_type": "stream",
     "text": [
      "  0%|          | 0/175 [00:15<?, ?it/s]1:59:21,  8.93it/s] \n",
      "  0%|          | 0/15 [00:06<?, ?it/s]\n",
      " 36%|███▌      | 36102/100001 [1:22:50<2:01:56,  8.73it/s]"
     ]
    },
    {
     "name": "stdout",
     "output_type": "stream",
     "text": [
      "GAN: loss d: 4.69950    loss g: -2.28020\n"
     ]
    },
    {
     "name": "stderr",
     "output_type": "stream",
     "text": [
      " 36%|███▌      | 36202/100001 [1:23:01<2:00:28,  8.83it/s]"
     ]
    },
    {
     "name": "stdout",
     "output_type": "stream",
     "text": [
      "GAN: loss d: 4.73842    loss g: -2.40212\n"
     ]
    },
    {
     "name": "stderr",
     "output_type": "stream",
     "text": [
      " 36%|███▋      | 36302/100001 [1:23:13<1:59:14,  8.90it/s]"
     ]
    },
    {
     "name": "stdout",
     "output_type": "stream",
     "text": [
      "GAN: loss d: 4.21220    loss g: -2.87370\n"
     ]
    },
    {
     "name": "stderr",
     "output_type": "stream",
     "text": [
      " 36%|███▋      | 36402/100001 [1:23:24<1:58:54,  8.91it/s]"
     ]
    },
    {
     "name": "stdout",
     "output_type": "stream",
     "text": [
      "GAN: loss d: 2.87466    loss g: -3.07958\n"
     ]
    },
    {
     "name": "stderr",
     "output_type": "stream",
     "text": [
      " 37%|███▋      | 36502/100001 [1:23:35<2:00:15,  8.80it/s]"
     ]
    },
    {
     "name": "stdout",
     "output_type": "stream",
     "text": [
      "GAN: loss d: 2.61029    loss g: -2.28608\n"
     ]
    },
    {
     "name": "stderr",
     "output_type": "stream",
     "text": [
      " 37%|███▋      | 36601/100001 [1:23:47<2:00:14,  8.79it/s]"
     ]
    },
    {
     "name": "stdout",
     "output_type": "stream",
     "text": [
      "GAN: loss d: 3.74114    loss g: -2.85813\n"
     ]
    },
    {
     "name": "stderr",
     "output_type": "stream",
     "text": [
      " 37%|███▋      | 36702/100001 [1:23:58<1:59:02,  8.86it/s]"
     ]
    },
    {
     "name": "stdout",
     "output_type": "stream",
     "text": [
      "GAN: loss d: 4.63950    loss g: -3.29209\n"
     ]
    },
    {
     "name": "stderr",
     "output_type": "stream",
     "text": [
      " 37%|███▋      | 36802/100001 [1:24:10<1:59:26,  8.82it/s]"
     ]
    },
    {
     "name": "stdout",
     "output_type": "stream",
     "text": [
      "GAN: loss d: 4.82807    loss g: -2.30680\n"
     ]
    },
    {
     "name": "stderr",
     "output_type": "stream",
     "text": [
      " 37%|███▋      | 36902/100001 [1:24:21<1:57:45,  8.93it/s]"
     ]
    },
    {
     "name": "stdout",
     "output_type": "stream",
     "text": [
      "GAN: loss d: 2.29338    loss g: -2.20617\n"
     ]
    },
    {
     "name": "stderr",
     "output_type": "stream",
     "text": [
      " 37%|███▋      | 37000/100001 [1:24:32<1:59:27,  8.79it/s]"
     ]
    },
    {
     "name": "stdout",
     "output_type": "stream",
     "text": [
      "GAN: loss d: 1.28623    loss g: -2.95406\n",
      "saving current model\n"
     ]
    },
    {
     "name": "stderr",
     "output_type": "stream",
     "text": [
      "\n",
      "  0%|          | 0/175 [00:00<?, ?it/s]\u001b[A"
     ]
    },
    {
     "name": "stdout",
     "output_type": "stream",
     "text": [
      "Number of real images: 5626\n"
     ]
    },
    {
     "name": "stderr",
     "output_type": "stream",
     "text": [
      "\n",
      "\n",
      "  0%|          | 0/15 [00:00<?, ?it/s]\u001b[A\u001b[A"
     ]
    },
    {
     "name": "stdout",
     "output_type": "stream",
     "text": [
      "Number of synthetic images: 500\n"
     ]
    },
    {
     "name": "stderr",
     "output_type": "stream",
     "text": [
      " 37%|███▋      | 37002/100001 [1:24:54<81:48:56,  4.68s/it] "
     ]
    },
    {
     "name": "stdout",
     "output_type": "stream",
     "text": [
      "Current fid score: 2.3989658516000354\n",
      "Fid scores: [5.359689818244959, 2.479945282201154, 4.276308166260009, 2.7291028486932554, 2.7908292593055535, 2.3554975684525594, 2.6142447727283162, 2.1934954575945866, 2.3990477193970783, 2.221711896216327, 2.3744210742787253, 2.066927836690496, 2.3716458827445166, 1.9648397602519267, 1.6998954497984542, 2.319731846121897, 1.7800607345901547, 1.4056094758332023, 1.1810571313010847, 1.443624370521686, 1.5078741613768791, 1.173364418143919, 1.2011170423314468, 1.0761087412681398, 1.2172281204321251, 1.000626947334709, 1.737750054809478, 2.0593230539007124, 2.160112364724526, 2.195316465388501, 2.2950768584747436, 2.5124235574475904, 2.475506166692888, 3.0757913554101854, 3.3013338688781992, 3.1298115638580413, 3.361620915033507, 2.3989658516000354]\n"
     ]
    },
    {
     "name": "stderr",
     "output_type": "stream",
     "text": [
      "  0%|          | 0/175 [00:11<?, ?it/s]8:32:36,  2.05it/s] \n",
      "  0%|          | 0/15 [00:01<?, ?it/s]\n",
      " 37%|███▋      | 37102/100001 [1:25:06<1:59:37,  8.76it/s]"
     ]
    },
    {
     "name": "stdout",
     "output_type": "stream",
     "text": [
      "GAN: loss d: 0.94768    loss g: -1.50504\n"
     ]
    },
    {
     "name": "stderr",
     "output_type": "stream",
     "text": [
      " 37%|███▋      | 37202/100001 [1:25:17<2:03:33,  8.47it/s]"
     ]
    },
    {
     "name": "stdout",
     "output_type": "stream",
     "text": [
      "GAN: loss d: 1.69340    loss g: -2.50550\n"
     ]
    },
    {
     "name": "stderr",
     "output_type": "stream",
     "text": [
      " 37%|███▋      | 37301/100001 [1:25:28<2:00:59,  8.64it/s]"
     ]
    },
    {
     "name": "stdout",
     "output_type": "stream",
     "text": [
      "GAN: loss d: 0.01408    loss g: -2.09510\n"
     ]
    },
    {
     "name": "stderr",
     "output_type": "stream",
     "text": [
      " 37%|███▋      | 37402/100001 [1:25:40<1:57:46,  8.86it/s]"
     ]
    },
    {
     "name": "stdout",
     "output_type": "stream",
     "text": [
      "GAN: loss d: 2.66941    loss g: -1.98420\n"
     ]
    },
    {
     "name": "stderr",
     "output_type": "stream",
     "text": [
      " 38%|███▊      | 37502/100001 [1:25:51<2:00:27,  8.65it/s]"
     ]
    },
    {
     "name": "stdout",
     "output_type": "stream",
     "text": [
      "GAN: loss d: 0.43668    loss g: -1.02937\n"
     ]
    },
    {
     "name": "stderr",
     "output_type": "stream",
     "text": [
      " 38%|███▊      | 37602/100001 [1:26:03<2:08:17,  8.11it/s]"
     ]
    },
    {
     "name": "stdout",
     "output_type": "stream",
     "text": [
      "GAN: loss d: 3.32989    loss g: -1.79654\n"
     ]
    },
    {
     "name": "stderr",
     "output_type": "stream",
     "text": [
      " 38%|███▊      | 37702/100001 [1:26:14<1:56:14,  8.93it/s]"
     ]
    },
    {
     "name": "stdout",
     "output_type": "stream",
     "text": [
      "GAN: loss d: 1.58602    loss g: -2.42620\n"
     ]
    },
    {
     "name": "stderr",
     "output_type": "stream",
     "text": [
      " 38%|███▊      | 37802/100001 [1:26:25<1:58:51,  8.72it/s]"
     ]
    },
    {
     "name": "stdout",
     "output_type": "stream",
     "text": [
      "GAN: loss d: 3.62525    loss g: -1.46415\n"
     ]
    },
    {
     "name": "stderr",
     "output_type": "stream",
     "text": [
      " 38%|███▊      | 37902/100001 [1:26:37<1:56:54,  8.85it/s]"
     ]
    },
    {
     "name": "stdout",
     "output_type": "stream",
     "text": [
      "GAN: loss d: 1.66557    loss g: -2.68272\n"
     ]
    },
    {
     "name": "stderr",
     "output_type": "stream",
     "text": [
      " 38%|███▊      | 38000/100001 [1:26:48<1:54:15,  9.04it/s]"
     ]
    },
    {
     "name": "stdout",
     "output_type": "stream",
     "text": [
      "GAN: loss d: 3.23690    loss g: -2.04977\n",
      "saving current model\n"
     ]
    },
    {
     "name": "stderr",
     "output_type": "stream",
     "text": [
      "\n",
      "  0%|          | 0/175 [00:00<?, ?it/s]\u001b[A"
     ]
    },
    {
     "name": "stdout",
     "output_type": "stream",
     "text": [
      "Number of real images: 5626\n"
     ]
    },
    {
     "name": "stderr",
     "output_type": "stream",
     "text": [
      "\n",
      "\n",
      "  0%|          | 0/15 [00:00<?, ?it/s]\u001b[A\u001b[A"
     ]
    },
    {
     "name": "stdout",
     "output_type": "stream",
     "text": [
      "Number of synthetic images: 500\n"
     ]
    },
    {
     "name": "stderr",
     "output_type": "stream",
     "text": [
      " 38%|███▊      | 38002/100001 [1:27:11<83:59:20,  4.88s/it] "
     ]
    },
    {
     "name": "stdout",
     "output_type": "stream",
     "text": [
      "Current fid score: 1.4239996589152213\n",
      "Fid scores: [5.359689818244959, 2.479945282201154, 4.276308166260009, 2.7291028486932554, 2.7908292593055535, 2.3554975684525594, 2.6142447727283162, 2.1934954575945866, 2.3990477193970783, 2.221711896216327, 2.3744210742787253, 2.066927836690496, 2.3716458827445166, 1.9648397602519267, 1.6998954497984542, 2.319731846121897, 1.7800607345901547, 1.4056094758332023, 1.1810571313010847, 1.443624370521686, 1.5078741613768791, 1.173364418143919, 1.2011170423314468, 1.0761087412681398, 1.2172281204321251, 1.000626947334709, 1.737750054809478, 2.0593230539007124, 2.160112364724526, 2.195316465388501, 2.2950768584747436, 2.5124235574475904, 2.475506166692888, 3.0757913554101854, 3.3013338688781992, 3.1298115638580413, 3.361620915033507, 2.3989658516000354, 1.4239996589152213]\n"
     ]
    },
    {
     "name": "stderr",
     "output_type": "stream",
     "text": [
      "  0%|          | 0/175 [00:20<?, ?it/s]1:56:22,  8.87it/s] \n",
      "  0%|          | 0/15 [00:11<?, ?it/s]\n",
      " 38%|███▊      | 38102/100001 [1:27:22<2:00:46,  8.54it/s]"
     ]
    },
    {
     "name": "stdout",
     "output_type": "stream",
     "text": [
      "GAN: loss d: 4.31936    loss g: -2.86265\n"
     ]
    },
    {
     "name": "stderr",
     "output_type": "stream",
     "text": [
      " 38%|███▊      | 38202/100001 [1:27:34<1:56:12,  8.86it/s]"
     ]
    },
    {
     "name": "stdout",
     "output_type": "stream",
     "text": [
      "GAN: loss d: 3.13795    loss g: -2.34274\n"
     ]
    },
    {
     "name": "stderr",
     "output_type": "stream",
     "text": [
      " 38%|███▊      | 38302/100001 [1:27:45<1:54:32,  8.98it/s]"
     ]
    },
    {
     "name": "stdout",
     "output_type": "stream",
     "text": [
      "GAN: loss d: 4.89012    loss g: -2.30453\n"
     ]
    },
    {
     "name": "stderr",
     "output_type": "stream",
     "text": [
      " 38%|███▊      | 38402/100001 [1:27:56<1:54:56,  8.93it/s]"
     ]
    },
    {
     "name": "stdout",
     "output_type": "stream",
     "text": [
      "GAN: loss d: -0.62395    loss g: -1.30383\n"
     ]
    },
    {
     "name": "stderr",
     "output_type": "stream",
     "text": [
      " 39%|███▊      | 38502/100001 [1:28:08<1:57:33,  8.72it/s]"
     ]
    },
    {
     "name": "stdout",
     "output_type": "stream",
     "text": [
      "GAN: loss d: 3.20203    loss g: -1.38401\n"
     ]
    },
    {
     "name": "stderr",
     "output_type": "stream",
     "text": [
      " 39%|███▊      | 38602/100001 [1:28:19<1:54:18,  8.95it/s]"
     ]
    },
    {
     "name": "stdout",
     "output_type": "stream",
     "text": [
      "GAN: loss d: 2.85852    loss g: -2.93453\n"
     ]
    },
    {
     "name": "stderr",
     "output_type": "stream",
     "text": [
      " 39%|███▊      | 38702/100001 [1:28:30<2:06:05,  8.10it/s]"
     ]
    },
    {
     "name": "stdout",
     "output_type": "stream",
     "text": [
      "GAN: loss d: 5.31549    loss g: -2.05715\n"
     ]
    },
    {
     "name": "stderr",
     "output_type": "stream",
     "text": [
      " 39%|███▉      | 38801/100001 [1:28:42<1:56:33,  8.75it/s]"
     ]
    },
    {
     "name": "stdout",
     "output_type": "stream",
     "text": [
      "GAN: loss d: 4.16276    loss g: -1.53037\n"
     ]
    },
    {
     "name": "stderr",
     "output_type": "stream",
     "text": [
      " 39%|███▉      | 38902/100001 [1:28:53<1:54:16,  8.91it/s]"
     ]
    },
    {
     "name": "stdout",
     "output_type": "stream",
     "text": [
      "GAN: loss d: 1.93480    loss g: -2.26980\n"
     ]
    },
    {
     "name": "stderr",
     "output_type": "stream",
     "text": [
      " 39%|███▉      | 39000/100001 [1:29:04<1:57:53,  8.62it/s]"
     ]
    },
    {
     "name": "stdout",
     "output_type": "stream",
     "text": [
      "GAN: loss d: 3.91845    loss g: -3.18969\n",
      "saving current model\n"
     ]
    },
    {
     "name": "stderr",
     "output_type": "stream",
     "text": [
      "\n",
      "  0%|          | 0/175 [00:00<?, ?it/s]\u001b[A"
     ]
    },
    {
     "name": "stdout",
     "output_type": "stream",
     "text": [
      "Number of real images: 5626\n"
     ]
    },
    {
     "name": "stderr",
     "output_type": "stream",
     "text": [
      "\n",
      "\n",
      "  0%|          | 0/15 [00:00<?, ?it/s]\u001b[A\u001b[A"
     ]
    },
    {
     "name": "stdout",
     "output_type": "stream",
     "text": [
      "Number of synthetic images: 500\n"
     ]
    },
    {
     "name": "stderr",
     "output_type": "stream",
     "text": [
      " 39%|███▉      | 39002/100001 [1:29:27<81:31:08,  4.81s/it] "
     ]
    },
    {
     "name": "stdout",
     "output_type": "stream",
     "text": [
      "Current fid score: 1.3841070462580056\n",
      "Fid scores: [5.359689818244959, 2.479945282201154, 4.276308166260009, 2.7291028486932554, 2.7908292593055535, 2.3554975684525594, 2.6142447727283162, 2.1934954575945866, 2.3990477193970783, 2.221711896216327, 2.3744210742787253, 2.066927836690496, 2.3716458827445166, 1.9648397602519267, 1.6998954497984542, 2.319731846121897, 1.7800607345901547, 1.4056094758332023, 1.1810571313010847, 1.443624370521686, 1.5078741613768791, 1.173364418143919, 1.2011170423314468, 1.0761087412681398, 1.2172281204321251, 1.000626947334709, 1.737750054809478, 2.0593230539007124, 2.160112364724526, 2.195316465388501, 2.2950768584747436, 2.5124235574475904, 2.475506166692888, 3.0757913554101854, 3.3013338688781992, 3.1298115638580413, 3.361620915033507, 2.3989658516000354, 1.4239996589152213, 1.3841070462580056]\n"
     ]
    },
    {
     "name": "stderr",
     "output_type": "stream",
     "text": [
      "  0%|          | 0/175 [00:15<?, ?it/s]1:53:04,  8.98it/s] \n",
      "  0%|          | 0/15 [00:07<?, ?it/s]\n",
      " 39%|███▉      | 39102/100001 [1:29:38<1:54:35,  8.86it/s]"
     ]
    },
    {
     "name": "stdout",
     "output_type": "stream",
     "text": [
      "GAN: loss d: 4.71967    loss g: -1.98647\n"
     ]
    },
    {
     "name": "stderr",
     "output_type": "stream",
     "text": [
      " 39%|███▉      | 39202/100001 [1:29:49<1:57:04,  8.65it/s]"
     ]
    },
    {
     "name": "stdout",
     "output_type": "stream",
     "text": [
      "GAN: loss d: 3.71288    loss g: -2.20152\n"
     ]
    },
    {
     "name": "stderr",
     "output_type": "stream",
     "text": [
      " 39%|███▉      | 39302/100001 [1:30:01<1:56:15,  8.70it/s]"
     ]
    },
    {
     "name": "stdout",
     "output_type": "stream",
     "text": [
      "GAN: loss d: 1.69240    loss g: -2.21286\n"
     ]
    },
    {
     "name": "stderr",
     "output_type": "stream",
     "text": [
      " 39%|███▉      | 39402/100001 [1:30:12<1:55:14,  8.76it/s]"
     ]
    },
    {
     "name": "stdout",
     "output_type": "stream",
     "text": [
      "GAN: loss d: 3.91861    loss g: -1.53221\n"
     ]
    },
    {
     "name": "stderr",
     "output_type": "stream",
     "text": [
      " 40%|███▉      | 39502/100001 [1:30:24<1:52:35,  8.96it/s]"
     ]
    },
    {
     "name": "stdout",
     "output_type": "stream",
     "text": [
      "GAN: loss d: 3.28114    loss g: -2.73288\n"
     ]
    },
    {
     "name": "stderr",
     "output_type": "stream",
     "text": [
      " 40%|███▉      | 39602/100001 [1:30:35<1:51:29,  9.03it/s]"
     ]
    },
    {
     "name": "stdout",
     "output_type": "stream",
     "text": [
      "GAN: loss d: 3.46543    loss g: -2.60006\n"
     ]
    },
    {
     "name": "stderr",
     "output_type": "stream",
     "text": [
      " 40%|███▉      | 39702/100001 [1:30:47<1:51:20,  9.03it/s]"
     ]
    },
    {
     "name": "stdout",
     "output_type": "stream",
     "text": [
      "GAN: loss d: 5.13535    loss g: -1.54594\n"
     ]
    },
    {
     "name": "stderr",
     "output_type": "stream",
     "text": [
      " 40%|███▉      | 39802/100001 [1:30:58<1:53:41,  8.82it/s]"
     ]
    },
    {
     "name": "stdout",
     "output_type": "stream",
     "text": [
      "GAN: loss d: 1.73197    loss g: -2.80954\n"
     ]
    },
    {
     "name": "stderr",
     "output_type": "stream",
     "text": [
      " 40%|███▉      | 39902/100001 [1:31:09<1:55:53,  8.64it/s]"
     ]
    },
    {
     "name": "stdout",
     "output_type": "stream",
     "text": [
      "GAN: loss d: 3.94913    loss g: -2.39743\n"
     ]
    },
    {
     "name": "stderr",
     "output_type": "stream",
     "text": [
      " 40%|███▉      | 40000/100001 [1:31:21<1:53:41,  8.80it/s]"
     ]
    },
    {
     "name": "stdout",
     "output_type": "stream",
     "text": [
      "GAN: loss d: 1.83796    loss g: -2.28253\n",
      "saving current model\n"
     ]
    },
    {
     "name": "stderr",
     "output_type": "stream",
     "text": [
      "\n",
      "  0%|          | 0/175 [00:00<?, ?it/s]\u001b[A"
     ]
    },
    {
     "name": "stdout",
     "output_type": "stream",
     "text": [
      "Number of real images: 5626\n"
     ]
    },
    {
     "name": "stderr",
     "output_type": "stream",
     "text": [
      "\n",
      "\n",
      "  0%|          | 0/15 [00:00<?, ?it/s]\u001b[A\u001b[A"
     ]
    },
    {
     "name": "stdout",
     "output_type": "stream",
     "text": [
      "Number of synthetic images: 500\n"
     ]
    },
    {
     "name": "stderr",
     "output_type": "stream",
     "text": [
      "  0%|          | 0/175 [00:09<?, ?it/s]\n",
      "  0%|          | 0/15 [00:01<?, ?it/s]"
     ]
    },
    {
     "name": "stdout",
     "output_type": "stream",
     "text": [
      "Current fid score: 0.8761920713293598\n",
      "Fid scores: [5.359689818244959, 2.479945282201154, 4.276308166260009, 2.7291028486932554, 2.7908292593055535, 2.3554975684525594, 2.6142447727283162, 2.1934954575945866, 2.3990477193970783, 2.221711896216327, 2.3744210742787253, 2.066927836690496, 2.3716458827445166, 1.9648397602519267, 1.6998954497984542, 2.319731846121897, 1.7800607345901547, 1.4056094758332023, 1.1810571313010847, 1.443624370521686, 1.5078741613768791, 1.173364418143919, 1.2011170423314468, 1.0761087412681398, 1.2172281204321251, 1.000626947334709, 1.737750054809478, 2.0593230539007124, 2.160112364724526, 2.195316465388501, 2.2950768584747436, 2.5124235574475904, 2.475506166692888, 3.0757913554101854, 3.3013338688781992, 3.1298115638580413, 3.361620915033507, 2.3989658516000354, 1.4239996589152213, 1.3841070462580056, 0.8761920713293598]\n",
      "New min fid score: 0.876192071329\n",
      "Saving best model\n"
     ]
    },
    {
     "name": "stderr",
     "output_type": "stream",
     "text": [
      "\n",
      " 40%|████      | 40101/100001 [1:31:58<1:54:08,  8.75it/s]  "
     ]
    },
    {
     "name": "stdout",
     "output_type": "stream",
     "text": [
      "GAN: loss d: 3.96302    loss g: -2.57351\n"
     ]
    },
    {
     "name": "stderr",
     "output_type": "stream",
     "text": [
      " 40%|████      | 40202/100001 [1:32:10<1:51:20,  8.95it/s]"
     ]
    },
    {
     "name": "stdout",
     "output_type": "stream",
     "text": [
      "GAN: loss d: 0.45632    loss g: -1.06520\n"
     ]
    },
    {
     "name": "stderr",
     "output_type": "stream",
     "text": [
      " 40%|████      | 40302/100001 [1:32:21<1:53:38,  8.76it/s]"
     ]
    },
    {
     "name": "stdout",
     "output_type": "stream",
     "text": [
      "GAN: loss d: 2.81148    loss g: -3.02191\n"
     ]
    },
    {
     "name": "stderr",
     "output_type": "stream",
     "text": [
      " 40%|████      | 40402/100001 [1:32:32<1:55:18,  8.61it/s]"
     ]
    },
    {
     "name": "stdout",
     "output_type": "stream",
     "text": [
      "GAN: loss d: 3.59536    loss g: -2.46964\n"
     ]
    },
    {
     "name": "stderr",
     "output_type": "stream",
     "text": [
      " 41%|████      | 40502/100001 [1:32:44<1:51:13,  8.92it/s]"
     ]
    },
    {
     "name": "stdout",
     "output_type": "stream",
     "text": [
      "GAN: loss d: 2.51488    loss g: -2.48825\n"
     ]
    },
    {
     "name": "stderr",
     "output_type": "stream",
     "text": [
      " 41%|████      | 40602/100001 [1:32:55<1:59:37,  8.28it/s]"
     ]
    },
    {
     "name": "stdout",
     "output_type": "stream",
     "text": [
      "GAN: loss d: 3.34543    loss g: -1.85780\n"
     ]
    },
    {
     "name": "stderr",
     "output_type": "stream",
     "text": [
      " 41%|████      | 40702/100001 [1:33:07<1:50:40,  8.93it/s]"
     ]
    },
    {
     "name": "stdout",
     "output_type": "stream",
     "text": [
      "GAN: loss d: 1.92730    loss g: -1.96302\n"
     ]
    },
    {
     "name": "stderr",
     "output_type": "stream",
     "text": [
      " 41%|████      | 40802/100001 [1:33:18<1:53:17,  8.71it/s]"
     ]
    },
    {
     "name": "stdout",
     "output_type": "stream",
     "text": [
      "GAN: loss d: 5.50374    loss g: -1.69888\n"
     ]
    },
    {
     "name": "stderr",
     "output_type": "stream",
     "text": [
      " 41%|████      | 40901/100001 [1:33:30<1:53:45,  8.66it/s]"
     ]
    },
    {
     "name": "stdout",
     "output_type": "stream",
     "text": [
      "GAN: loss d: 2.92540    loss g: -3.35638\n"
     ]
    },
    {
     "name": "stderr",
     "output_type": "stream",
     "text": [
      " 41%|████      | 41000/100001 [1:33:41<1:53:53,  8.63it/s]"
     ]
    },
    {
     "name": "stdout",
     "output_type": "stream",
     "text": [
      "GAN: loss d: 1.92605    loss g: -2.38375\n",
      "saving current model\n"
     ]
    },
    {
     "name": "stderr",
     "output_type": "stream",
     "text": [
      "\n",
      "  0%|          | 0/175 [00:00<?, ?it/s]\u001b[A"
     ]
    },
    {
     "name": "stdout",
     "output_type": "stream",
     "text": [
      "Number of real images: 5626\n"
     ]
    },
    {
     "name": "stderr",
     "output_type": "stream",
     "text": [
      "\n",
      "\n",
      "  0%|          | 0/15 [00:00<?, ?it/s]\u001b[A\u001b[A"
     ]
    },
    {
     "name": "stdout",
     "output_type": "stream",
     "text": [
      "Number of synthetic images: 500\n"
     ]
    },
    {
     "name": "stderr",
     "output_type": "stream",
     "text": [
      " 41%|████      | 41001/100001 [1:34:04<113:49:32,  6.95s/it]"
     ]
    },
    {
     "name": "stdout",
     "output_type": "stream",
     "text": [
      "Current fid score: 0.8968581288108979\n",
      "Fid scores: [5.359689818244959, 2.479945282201154, 4.276308166260009, 2.7291028486932554, 2.7908292593055535, 2.3554975684525594, 2.6142447727283162, 2.1934954575945866, 2.3990477193970783, 2.221711896216327, 2.3744210742787253, 2.066927836690496, 2.3716458827445166, 1.9648397602519267, 1.6998954497984542, 2.319731846121897, 1.7800607345901547, 1.4056094758332023, 1.1810571313010847, 1.443624370521686, 1.5078741613768791, 1.173364418143919, 1.2011170423314468, 1.0761087412681398, 1.2172281204321251, 1.000626947334709, 1.737750054809478, 2.0593230539007124, 2.160112364724526, 2.195316465388501, 2.2950768584747436, 2.5124235574475904, 2.475506166692888, 3.0757913554101854, 3.3013338688781992, 3.1298115638580413, 3.361620915033507, 2.3989658516000354, 1.4239996589152213, 1.3841070462580056, 0.8761920713293598, 0.8968581288108979]\n"
     ]
    },
    {
     "name": "stderr",
     "output_type": "stream",
     "text": [
      "  0%|          | 0/175 [00:11<?, ?it/s]4:58:26,  3.29it/s]  \n",
      "  0%|          | 0/15 [00:02<?, ?it/s]\n",
      " 41%|████      | 41102/100001 [1:34:15<1:51:26,  8.81it/s]"
     ]
    },
    {
     "name": "stdout",
     "output_type": "stream",
     "text": [
      "GAN: loss d: 3.27438    loss g: -3.55017\n"
     ]
    },
    {
     "name": "stderr",
     "output_type": "stream",
     "text": [
      " 41%|████      | 41201/100001 [1:34:26<1:51:34,  8.78it/s]"
     ]
    },
    {
     "name": "stdout",
     "output_type": "stream",
     "text": [
      "GAN: loss d: 5.50964    loss g: -2.57510\n"
     ]
    },
    {
     "name": "stderr",
     "output_type": "stream",
     "text": [
      " 41%|████▏     | 41302/100001 [1:34:38<1:54:48,  8.52it/s]"
     ]
    },
    {
     "name": "stdout",
     "output_type": "stream",
     "text": [
      "GAN: loss d: 3.46687    loss g: -3.14044\n"
     ]
    },
    {
     "name": "stderr",
     "output_type": "stream",
     "text": [
      " 41%|████▏     | 41402/100001 [1:34:49<1:49:46,  8.90it/s]"
     ]
    },
    {
     "name": "stdout",
     "output_type": "stream",
     "text": [
      "GAN: loss d: 3.78882    loss g: -1.79498\n"
     ]
    },
    {
     "name": "stderr",
     "output_type": "stream",
     "text": [
      " 42%|████▏     | 41502/100001 [1:35:00<1:51:43,  8.73it/s]"
     ]
    },
    {
     "name": "stdout",
     "output_type": "stream",
     "text": [
      "GAN: loss d: 4.55395    loss g: -2.71358\n"
     ]
    },
    {
     "name": "stderr",
     "output_type": "stream",
     "text": [
      " 42%|████▏     | 41602/100001 [1:35:12<1:49:21,  8.90it/s]"
     ]
    },
    {
     "name": "stdout",
     "output_type": "stream",
     "text": [
      "GAN: loss d: 5.00150    loss g: -2.60710\n"
     ]
    },
    {
     "name": "stderr",
     "output_type": "stream",
     "text": [
      " 42%|████▏     | 41702/100001 [1:35:23<1:47:23,  9.05it/s]"
     ]
    },
    {
     "name": "stdout",
     "output_type": "stream",
     "text": [
      "GAN: loss d: 0.89973    loss g: -1.62528\n"
     ]
    },
    {
     "name": "stderr",
     "output_type": "stream",
     "text": [
      " 42%|████▏     | 41802/100001 [1:35:34<1:51:47,  8.68it/s]"
     ]
    },
    {
     "name": "stdout",
     "output_type": "stream",
     "text": [
      "GAN: loss d: 3.28854    loss g: -2.60214\n"
     ]
    },
    {
     "name": "stderr",
     "output_type": "stream",
     "text": [
      " 42%|████▏     | 41902/100001 [1:35:46<1:50:48,  8.74it/s]"
     ]
    },
    {
     "name": "stdout",
     "output_type": "stream",
     "text": [
      "GAN: loss d: 3.50769    loss g: -2.61173\n"
     ]
    },
    {
     "name": "stderr",
     "output_type": "stream",
     "text": [
      " 42%|████▏     | 42000/100001 [1:35:57<1:47:44,  8.97it/s]"
     ]
    },
    {
     "name": "stdout",
     "output_type": "stream",
     "text": [
      "GAN: loss d: 2.17031    loss g: -2.85849\n",
      "saving current model\n"
     ]
    },
    {
     "name": "stderr",
     "output_type": "stream",
     "text": [
      "\n",
      "  0%|          | 0/175 [00:00<?, ?it/s]\u001b[A"
     ]
    },
    {
     "name": "stdout",
     "output_type": "stream",
     "text": [
      "Number of real images: 5626\n"
     ]
    },
    {
     "name": "stderr",
     "output_type": "stream",
     "text": [
      "\n",
      "\n",
      "  0%|          | 0/15 [00:00<?, ?it/s]\u001b[A\u001b[A"
     ]
    },
    {
     "name": "stdout",
     "output_type": "stream",
     "text": [
      "Number of synthetic images: 500\n"
     ]
    },
    {
     "name": "stderr",
     "output_type": "stream",
     "text": [
      " 42%|████▏     | 42002/100001 [1:36:20<77:55:22,  4.84s/it] "
     ]
    },
    {
     "name": "stdout",
     "output_type": "stream",
     "text": [
      "Current fid score: 0.9323025916764394\n",
      "Fid scores: [5.359689818244959, 2.479945282201154, 4.276308166260009, 2.7291028486932554, 2.7908292593055535, 2.3554975684525594, 2.6142447727283162, 2.1934954575945866, 2.3990477193970783, 2.221711896216327, 2.3744210742787253, 2.066927836690496, 2.3716458827445166, 1.9648397602519267, 1.6998954497984542, 2.319731846121897, 1.7800607345901547, 1.4056094758332023, 1.1810571313010847, 1.443624370521686, 1.5078741613768791, 1.173364418143919, 1.2011170423314468, 1.0761087412681398, 1.2172281204321251, 1.000626947334709, 1.737750054809478, 2.0593230539007124, 2.160112364724526, 2.195316465388501, 2.2950768584747436, 2.5124235574475904, 2.475506166692888, 3.0757913554101854, 3.3013338688781992, 3.1298115638580413, 3.361620915033507, 2.3989658516000354, 1.4239996589152213, 1.3841070462580056, 0.8761920713293598, 0.8968581288108979, 0.9323025916764394]\n"
     ]
    },
    {
     "name": "stderr",
     "output_type": "stream",
     "text": [
      "  0%|          | 0/175 [00:16<?, ?it/s]1:49:12,  8.84it/s] \n",
      "  0%|          | 0/15 [00:07<?, ?it/s]\n",
      " 42%|████▏     | 42102/100001 [1:36:31<1:50:34,  8.73it/s]"
     ]
    },
    {
     "name": "stdout",
     "output_type": "stream",
     "text": [
      "GAN: loss d: 3.68305    loss g: -2.04370\n"
     ]
    },
    {
     "name": "stderr",
     "output_type": "stream",
     "text": [
      " 42%|████▏     | 42202/100001 [1:36:42<1:46:33,  9.04it/s]"
     ]
    },
    {
     "name": "stdout",
     "output_type": "stream",
     "text": [
      "GAN: loss d: 0.97817    loss g: -2.22256\n"
     ]
    },
    {
     "name": "stderr",
     "output_type": "stream",
     "text": [
      " 42%|████▏     | 42302/100001 [1:36:54<1:56:05,  8.28it/s]"
     ]
    },
    {
     "name": "stdout",
     "output_type": "stream",
     "text": [
      "GAN: loss d: 2.60451    loss g: -2.46428\n"
     ]
    },
    {
     "name": "stderr",
     "output_type": "stream",
     "text": [
      " 42%|████▏     | 42402/100001 [1:37:05<1:45:26,  9.10it/s]"
     ]
    },
    {
     "name": "stdout",
     "output_type": "stream",
     "text": [
      "GAN: loss d: 2.45713    loss g: -3.24352\n"
     ]
    },
    {
     "name": "stderr",
     "output_type": "stream",
     "text": [
      " 43%|████▎     | 42502/100001 [1:37:16<1:48:24,  8.84it/s]"
     ]
    },
    {
     "name": "stdout",
     "output_type": "stream",
     "text": [
      "GAN: loss d: 3.76289    loss g: -3.02433\n"
     ]
    },
    {
     "name": "stderr",
     "output_type": "stream",
     "text": [
      " 43%|████▎     | 42602/100001 [1:37:28<1:46:47,  8.96it/s]"
     ]
    },
    {
     "name": "stdout",
     "output_type": "stream",
     "text": [
      "GAN: loss d: 3.88376    loss g: -2.86354\n"
     ]
    },
    {
     "name": "stderr",
     "output_type": "stream",
     "text": [
      " 43%|████▎     | 42702/100001 [1:37:39<1:53:17,  8.43it/s]"
     ]
    },
    {
     "name": "stdout",
     "output_type": "stream",
     "text": [
      "GAN: loss d: 1.57379    loss g: -1.19787\n"
     ]
    },
    {
     "name": "stderr",
     "output_type": "stream",
     "text": [
      " 43%|████▎     | 42801/100001 [1:37:51<2:26:56,  6.49it/s]"
     ]
    },
    {
     "name": "stdout",
     "output_type": "stream",
     "text": [
      "GAN: loss d: 2.06589    loss g: -2.23301\n"
     ]
    },
    {
     "name": "stderr",
     "output_type": "stream",
     "text": [
      " 43%|████▎     | 42902/100001 [1:38:02<1:51:25,  8.54it/s]"
     ]
    },
    {
     "name": "stdout",
     "output_type": "stream",
     "text": [
      "GAN: loss d: 1.99275    loss g: -2.09606\n"
     ]
    },
    {
     "name": "stderr",
     "output_type": "stream",
     "text": [
      " 43%|████▎     | 43000/100001 [1:38:13<1:49:02,  8.71it/s]"
     ]
    },
    {
     "name": "stdout",
     "output_type": "stream",
     "text": [
      "GAN: loss d: 2.63693    loss g: -2.13056\n",
      "saving current model\n"
     ]
    },
    {
     "name": "stderr",
     "output_type": "stream",
     "text": [
      "\n",
      "  0%|          | 0/175 [00:00<?, ?it/s]\u001b[A"
     ]
    },
    {
     "name": "stdout",
     "output_type": "stream",
     "text": [
      "Number of real images: 5626\n"
     ]
    },
    {
     "name": "stderr",
     "output_type": "stream",
     "text": [
      "\n",
      "\n",
      "  0%|          | 0/15 [00:00<?, ?it/s]\u001b[A\u001b[A"
     ]
    },
    {
     "name": "stdout",
     "output_type": "stream",
     "text": [
      "Number of synthetic images: 500\n"
     ]
    },
    {
     "name": "stderr",
     "output_type": "stream",
     "text": [
      " 43%|████▎     | 43002/100001 [1:38:36<77:12:30,  4.88s/it] "
     ]
    },
    {
     "name": "stdout",
     "output_type": "stream",
     "text": [
      "Current fid score: 1.2795383980460215\n",
      "Fid scores: [5.359689818244959, 2.479945282201154, 4.276308166260009, 2.7291028486932554, 2.7908292593055535, 2.3554975684525594, 2.6142447727283162, 2.1934954575945866, 2.3990477193970783, 2.221711896216327, 2.3744210742787253, 2.066927836690496, 2.3716458827445166, 1.9648397602519267, 1.6998954497984542, 2.319731846121897, 1.7800607345901547, 1.4056094758332023, 1.1810571313010847, 1.443624370521686, 1.5078741613768791, 1.173364418143919, 1.2011170423314468, 1.0761087412681398, 1.2172281204321251, 1.000626947334709, 1.737750054809478, 2.0593230539007124, 2.160112364724526, 2.195316465388501, 2.2950768584747436, 2.5124235574475904, 2.475506166692888, 3.0757913554101854, 3.3013338688781992, 3.1298115638580413, 3.361620915033507, 2.3989658516000354, 1.4239996589152213, 1.3841070462580056, 0.8761920713293598, 0.8968581288108979, 0.9323025916764394, 1.2795383980460215]\n"
     ]
    },
    {
     "name": "stderr",
     "output_type": "stream",
     "text": [
      "  0%|          | 0/175 [00:15<?, ?it/s]1:48:26,  8.75it/s] \n",
      "  0%|          | 0/15 [00:06<?, ?it/s]\n",
      " 43%|████▎     | 43102/100001 [1:38:48<1:48:27,  8.74it/s]"
     ]
    },
    {
     "name": "stdout",
     "output_type": "stream",
     "text": [
      "GAN: loss d: 4.09680    loss g: -2.16797\n"
     ]
    },
    {
     "name": "stderr",
     "output_type": "stream",
     "text": [
      " 43%|████▎     | 43201/100001 [1:38:59<1:48:43,  8.71it/s]"
     ]
    },
    {
     "name": "stdout",
     "output_type": "stream",
     "text": [
      "GAN: loss d: 4.60105    loss g: -2.78498\n"
     ]
    },
    {
     "name": "stderr",
     "output_type": "stream",
     "text": [
      " 43%|████▎     | 43302/100001 [1:39:10<1:45:49,  8.93it/s]"
     ]
    },
    {
     "name": "stdout",
     "output_type": "stream",
     "text": [
      "GAN: loss d: 1.65478    loss g: -1.85513\n"
     ]
    },
    {
     "name": "stderr",
     "output_type": "stream",
     "text": [
      " 43%|████▎     | 43402/100001 [1:39:22<1:47:15,  8.79it/s]"
     ]
    },
    {
     "name": "stdout",
     "output_type": "stream",
     "text": [
      "GAN: loss d: 4.17398    loss g: -2.22744\n"
     ]
    },
    {
     "name": "stderr",
     "output_type": "stream",
     "text": [
      " 44%|████▎     | 43502/100001 [1:39:33<1:45:01,  8.97it/s]"
     ]
    },
    {
     "name": "stdout",
     "output_type": "stream",
     "text": [
      "GAN: loss d: 1.10624    loss g: -2.65717\n"
     ]
    },
    {
     "name": "stderr",
     "output_type": "stream",
     "text": [
      " 44%|████▎     | 43602/100001 [1:39:45<1:44:55,  8.96it/s]"
     ]
    },
    {
     "name": "stdout",
     "output_type": "stream",
     "text": [
      "GAN: loss d: 1.24561    loss g: -3.14055\n"
     ]
    },
    {
     "name": "stderr",
     "output_type": "stream",
     "text": [
      " 44%|████▎     | 43702/100001 [1:39:56<1:44:58,  8.94it/s]"
     ]
    },
    {
     "name": "stdout",
     "output_type": "stream",
     "text": [
      "GAN: loss d: 4.98745    loss g: -1.93980\n"
     ]
    },
    {
     "name": "stderr",
     "output_type": "stream",
     "text": [
      " 44%|████▍     | 43802/100001 [1:40:07<1:44:12,  8.99it/s]"
     ]
    },
    {
     "name": "stdout",
     "output_type": "stream",
     "text": [
      "GAN: loss d: 4.41203    loss g: -1.76689\n"
     ]
    },
    {
     "name": "stderr",
     "output_type": "stream",
     "text": [
      " 44%|████▍     | 43901/100001 [1:40:19<1:44:50,  8.92it/s]"
     ]
    },
    {
     "name": "stdout",
     "output_type": "stream",
     "text": [
      "GAN: loss d: 4.45388    loss g: -3.00552\n"
     ]
    },
    {
     "name": "stderr",
     "output_type": "stream",
     "text": [
      " 44%|████▍     | 44000/100001 [1:40:30<1:48:26,  8.61it/s]"
     ]
    },
    {
     "name": "stdout",
     "output_type": "stream",
     "text": [
      "GAN: loss d: 3.33682    loss g: -1.59785\n",
      "saving current model\n"
     ]
    },
    {
     "name": "stderr",
     "output_type": "stream",
     "text": [
      "\n",
      "  0%|          | 0/175 [00:00<?, ?it/s]\u001b[A"
     ]
    },
    {
     "name": "stdout",
     "output_type": "stream",
     "text": [
      "Number of real images: 5626\n"
     ]
    },
    {
     "name": "stderr",
     "output_type": "stream",
     "text": [
      "\n",
      "\n",
      "  0%|          | 0/15 [00:00<?, ?it/s]\u001b[A\u001b[A"
     ]
    },
    {
     "name": "stdout",
     "output_type": "stream",
     "text": [
      "Number of synthetic images: 500\n"
     ]
    },
    {
     "name": "stderr",
     "output_type": "stream",
     "text": [
      " 44%|████▍     | 44002/100001 [1:40:52<75:31:32,  4.86s/it] "
     ]
    },
    {
     "name": "stdout",
     "output_type": "stream",
     "text": [
      "Current fid score: 1.1923953719678337\n",
      "Fid scores: [5.359689818244959, 2.479945282201154, 4.276308166260009, 2.7291028486932554, 2.7908292593055535, 2.3554975684525594, 2.6142447727283162, 2.1934954575945866, 2.3990477193970783, 2.221711896216327, 2.3744210742787253, 2.066927836690496, 2.3716458827445166, 1.9648397602519267, 1.6998954497984542, 2.319731846121897, 1.7800607345901547, 1.4056094758332023, 1.1810571313010847, 1.443624370521686, 1.5078741613768791, 1.173364418143919, 1.2011170423314468, 1.0761087412681398, 1.2172281204321251, 1.000626947334709, 1.737750054809478, 2.0593230539007124, 2.160112364724526, 2.195316465388501, 2.2950768584747436, 2.5124235574475904, 2.475506166692888, 3.0757913554101854, 3.3013338688781992, 3.1298115638580413, 3.361620915033507, 2.3989658516000354, 1.4239996589152213, 1.3841070462580056, 0.8761920713293598, 0.8968581288108979, 0.9323025916764394, 1.2795383980460215, 1.1923953719678337]\n"
     ]
    },
    {
     "name": "stderr",
     "output_type": "stream",
     "text": [
      "  0%|          | 0/175 [00:11<?, ?it/s]6:03:49,  2.56it/s] \n",
      "  0%|          | 0/15 [00:02<?, ?it/s]\n",
      " 44%|████▍     | 44102/100001 [1:41:04<1:44:28,  8.92it/s]"
     ]
    },
    {
     "name": "stdout",
     "output_type": "stream",
     "text": [
      "GAN: loss d: 3.30307    loss g: -2.48972\n"
     ]
    },
    {
     "name": "stderr",
     "output_type": "stream",
     "text": [
      " 44%|████▍     | 44202/100001 [1:41:15<1:44:42,  8.88it/s]"
     ]
    },
    {
     "name": "stdout",
     "output_type": "stream",
     "text": [
      "GAN: loss d: 5.40475    loss g: -1.65833\n"
     ]
    },
    {
     "name": "stderr",
     "output_type": "stream",
     "text": [
      " 44%|████▍     | 44302/100001 [1:41:27<1:44:48,  8.86it/s]"
     ]
    },
    {
     "name": "stdout",
     "output_type": "stream",
     "text": [
      "GAN: loss d: 1.20026    loss g: -2.80906\n"
     ]
    },
    {
     "name": "stderr",
     "output_type": "stream",
     "text": [
      " 44%|████▍     | 44402/100001 [1:41:38<1:47:11,  8.64it/s]"
     ]
    },
    {
     "name": "stdout",
     "output_type": "stream",
     "text": [
      "GAN: loss d: 2.07230    loss g: -3.33027\n"
     ]
    },
    {
     "name": "stderr",
     "output_type": "stream",
     "text": [
      " 45%|████▍     | 44502/100001 [1:41:50<1:43:49,  8.91it/s]"
     ]
    },
    {
     "name": "stdout",
     "output_type": "stream",
     "text": [
      "GAN: loss d: 4.72456    loss g: -3.51196\n"
     ]
    },
    {
     "name": "stderr",
     "output_type": "stream",
     "text": [
      " 45%|████▍     | 44601/100001 [1:42:01<1:43:47,  8.90it/s]"
     ]
    },
    {
     "name": "stdout",
     "output_type": "stream",
     "text": [
      "GAN: loss d: 3.93375    loss g: -2.43018\n"
     ]
    },
    {
     "name": "stderr",
     "output_type": "stream",
     "text": [
      " 45%|████▍     | 44702/100001 [1:42:12<1:45:19,  8.75it/s]"
     ]
    },
    {
     "name": "stdout",
     "output_type": "stream",
     "text": [
      "GAN: loss d: 1.12379    loss g: -2.95968\n"
     ]
    },
    {
     "name": "stderr",
     "output_type": "stream",
     "text": [
      " 45%|████▍     | 44802/100001 [1:42:24<1:47:02,  8.60it/s]"
     ]
    },
    {
     "name": "stdout",
     "output_type": "stream",
     "text": [
      "GAN: loss d: 3.88209    loss g: -1.92227\n"
     ]
    },
    {
     "name": "stderr",
     "output_type": "stream",
     "text": [
      " 45%|████▍     | 44902/100001 [1:42:35<1:43:10,  8.90it/s]"
     ]
    },
    {
     "name": "stdout",
     "output_type": "stream",
     "text": [
      "GAN: loss d: -0.22540    loss g: -2.42562\n"
     ]
    },
    {
     "name": "stderr",
     "output_type": "stream",
     "text": [
      " 45%|████▍     | 45000/100001 [1:42:46<1:42:57,  8.90it/s]"
     ]
    },
    {
     "name": "stdout",
     "output_type": "stream",
     "text": [
      "GAN: loss d: 1.18053    loss g: -1.59027\n",
      "saving current model\n"
     ]
    },
    {
     "name": "stderr",
     "output_type": "stream",
     "text": [
      "\n",
      "  0%|          | 0/175 [00:00<?, ?it/s]\u001b[A"
     ]
    },
    {
     "name": "stdout",
     "output_type": "stream",
     "text": [
      "Number of real images: 5626\n"
     ]
    },
    {
     "name": "stderr",
     "output_type": "stream",
     "text": [
      "\n",
      "\n",
      "  0%|          | 0/15 [00:00<?, ?it/s]\u001b[A\u001b[A"
     ]
    },
    {
     "name": "stdout",
     "output_type": "stream",
     "text": [
      "Number of synthetic images: 500\n"
     ]
    },
    {
     "name": "stderr",
     "output_type": "stream",
     "text": [
      " 45%|████▌     | 45002/100001 [1:43:10<76:58:28,  5.04s/it] "
     ]
    },
    {
     "name": "stdout",
     "output_type": "stream",
     "text": [
      "Current fid score: 1.4775258450924582\n",
      "Fid scores: [5.359689818244959, 2.479945282201154, 4.276308166260009, 2.7291028486932554, 2.7908292593055535, 2.3554975684525594, 2.6142447727283162, 2.1934954575945866, 2.3990477193970783, 2.221711896216327, 2.3744210742787253, 2.066927836690496, 2.3716458827445166, 1.9648397602519267, 1.6998954497984542, 2.319731846121897, 1.7800607345901547, 1.4056094758332023, 1.1810571313010847, 1.443624370521686, 1.5078741613768791, 1.173364418143919, 1.2011170423314468, 1.0761087412681398, 1.2172281204321251, 1.000626947334709, 1.737750054809478, 2.0593230539007124, 2.160112364724526, 2.195316465388501, 2.2950768584747436, 2.5124235574475904, 2.475506166692888, 3.0757913554101854, 3.3013338688781992, 3.1298115638580413, 3.361620915033507, 2.3989658516000354, 1.4239996589152213, 1.3841070462580056, 0.8761920713293598, 0.8968581288108979, 0.9323025916764394, 1.2795383980460215, 1.1923953719678337, 1.4775258450924582]\n"
     ]
    },
    {
     "name": "stderr",
     "output_type": "stream",
     "text": [
      "  0%|          | 0/175 [00:19<?, ?it/s]1:45:48,  8.65it/s] \n",
      "  0%|          | 0/15 [00:10<?, ?it/s]\n",
      " 45%|████▌     | 45102/100001 [1:43:21<1:42:04,  8.96it/s]"
     ]
    },
    {
     "name": "stdout",
     "output_type": "stream",
     "text": [
      "GAN: loss d: 4.51367    loss g: -1.60726\n"
     ]
    },
    {
     "name": "stderr",
     "output_type": "stream",
     "text": [
      " 45%|████▌     | 45202/100001 [1:43:33<1:42:30,  8.91it/s]"
     ]
    },
    {
     "name": "stdout",
     "output_type": "stream",
     "text": [
      "GAN: loss d: 1.91536    loss g: -1.93663\n"
     ]
    },
    {
     "name": "stderr",
     "output_type": "stream",
     "text": [
      " 45%|████▌     | 45302/100001 [1:43:44<1:42:45,  8.87it/s]"
     ]
    },
    {
     "name": "stdout",
     "output_type": "stream",
     "text": [
      "GAN: loss d: 3.33623    loss g: -3.38799\n"
     ]
    },
    {
     "name": "stderr",
     "output_type": "stream",
     "text": [
      " 45%|████▌     | 45402/100001 [1:43:56<1:41:58,  8.92it/s]"
     ]
    },
    {
     "name": "stdout",
     "output_type": "stream",
     "text": [
      "GAN: loss d: 4.86507    loss g: -2.63157\n"
     ]
    },
    {
     "name": "stderr",
     "output_type": "stream",
     "text": [
      " 46%|████▌     | 45501/100001 [1:44:07<1:42:42,  8.84it/s]"
     ]
    },
    {
     "name": "stdout",
     "output_type": "stream",
     "text": [
      "GAN: loss d: 1.63177    loss g: -2.32007\n"
     ]
    },
    {
     "name": "stderr",
     "output_type": "stream",
     "text": [
      " 46%|████▌     | 45602/100001 [1:44:18<1:45:57,  8.56it/s]"
     ]
    },
    {
     "name": "stdout",
     "output_type": "stream",
     "text": [
      "GAN: loss d: 2.88959    loss g: -2.81012\n"
     ]
    },
    {
     "name": "stderr",
     "output_type": "stream",
     "text": [
      " 46%|████▌     | 45702/100001 [1:44:30<1:40:56,  8.97it/s]"
     ]
    },
    {
     "name": "stdout",
     "output_type": "stream",
     "text": [
      "GAN: loss d: 1.57700    loss g: -2.27048\n"
     ]
    },
    {
     "name": "stderr",
     "output_type": "stream",
     "text": [
      " 46%|████▌     | 45802/100001 [1:44:41<1:41:15,  8.92it/s]"
     ]
    },
    {
     "name": "stdout",
     "output_type": "stream",
     "text": [
      "GAN: loss d: 2.22775    loss g: -2.64970\n"
     ]
    },
    {
     "name": "stderr",
     "output_type": "stream",
     "text": [
      " 46%|████▌     | 45901/100001 [1:44:52<1:46:37,  8.46it/s]"
     ]
    },
    {
     "name": "stdout",
     "output_type": "stream",
     "text": [
      "GAN: loss d: 4.88359    loss g: -1.76051\n"
     ]
    },
    {
     "name": "stderr",
     "output_type": "stream",
     "text": [
      " 46%|████▌     | 46000/100001 [1:45:04<1:38:31,  9.14it/s]"
     ]
    },
    {
     "name": "stdout",
     "output_type": "stream",
     "text": [
      "GAN: loss d: 3.94001    loss g: -3.04135\n",
      "saving current model\n"
     ]
    },
    {
     "name": "stderr",
     "output_type": "stream",
     "text": [
      "\n",
      "  0%|          | 0/175 [00:00<?, ?it/s]\u001b[A"
     ]
    },
    {
     "name": "stdout",
     "output_type": "stream",
     "text": [
      "Number of real images: 5626\n"
     ]
    },
    {
     "name": "stderr",
     "output_type": "stream",
     "text": [
      "\n",
      "\n",
      "  0%|          | 0/15 [00:00<?, ?it/s]\u001b[A\u001b[A"
     ]
    },
    {
     "name": "stdout",
     "output_type": "stream",
     "text": [
      "Number of synthetic images: 500\n"
     ]
    },
    {
     "name": "stderr",
     "output_type": "stream",
     "text": [
      " 46%|████▌     | 46002/100001 [1:45:25<68:36:34,  4.57s/it]"
     ]
    },
    {
     "name": "stdout",
     "output_type": "stream",
     "text": [
      "Current fid score: 1.2243412993235836\n",
      "Fid scores: [5.359689818244959, 2.479945282201154, 4.276308166260009, 2.7291028486932554, 2.7908292593055535, 2.3554975684525594, 2.6142447727283162, 2.1934954575945866, 2.3990477193970783, 2.221711896216327, 2.3744210742787253, 2.066927836690496, 2.3716458827445166, 1.9648397602519267, 1.6998954497984542, 2.319731846121897, 1.7800607345901547, 1.4056094758332023, 1.1810571313010847, 1.443624370521686, 1.5078741613768791, 1.173364418143919, 1.2011170423314468, 1.0761087412681398, 1.2172281204321251, 1.000626947334709, 1.737750054809478, 2.0593230539007124, 2.160112364724526, 2.195316465388501, 2.2950768584747436, 2.5124235574475904, 2.475506166692888, 3.0757913554101854, 3.3013338688781992, 3.1298115638580413, 3.361620915033507, 2.3989658516000354, 1.4239996589152213, 1.3841070462580056, 0.8761920713293598, 0.8968581288108979, 0.9323025916764394, 1.2795383980460215, 1.1923953719678337, 1.4775258450924582, 1.2243412993235836]\n"
     ]
    },
    {
     "name": "stderr",
     "output_type": "stream",
     "text": [
      "  0%|          | 0/175 [00:15<?, ?it/s]1:41:15,  8.88it/s] \n",
      "  0%|          | 0/15 [00:06<?, ?it/s]\n",
      " 46%|████▌     | 46102/100001 [1:45:37<1:44:34,  8.59it/s]"
     ]
    },
    {
     "name": "stdout",
     "output_type": "stream",
     "text": [
      "GAN: loss d: 2.64532    loss g: -1.18661\n"
     ]
    },
    {
     "name": "stderr",
     "output_type": "stream",
     "text": [
      " 46%|████▌     | 46202/100001 [1:45:48<1:41:19,  8.85it/s]"
     ]
    },
    {
     "name": "stdout",
     "output_type": "stream",
     "text": [
      "GAN: loss d: 2.75131    loss g: -2.10268\n"
     ]
    },
    {
     "name": "stderr",
     "output_type": "stream",
     "text": [
      " 46%|████▋     | 46302/100001 [1:45:59<1:41:31,  8.81it/s]"
     ]
    },
    {
     "name": "stdout",
     "output_type": "stream",
     "text": [
      "GAN: loss d: 4.54342    loss g: -3.00392\n"
     ]
    },
    {
     "name": "stderr",
     "output_type": "stream",
     "text": [
      " 46%|████▋     | 46402/100001 [1:46:11<1:41:14,  8.82it/s]"
     ]
    },
    {
     "name": "stdout",
     "output_type": "stream",
     "text": [
      "GAN: loss d: 3.46196    loss g: -3.34903\n"
     ]
    },
    {
     "name": "stderr",
     "output_type": "stream",
     "text": [
      " 47%|████▋     | 46502/100001 [1:46:22<1:40:25,  8.88it/s]"
     ]
    },
    {
     "name": "stdout",
     "output_type": "stream",
     "text": [
      "GAN: loss d: 2.38315    loss g: -2.46014\n"
     ]
    },
    {
     "name": "stderr",
     "output_type": "stream",
     "text": [
      " 47%|████▋     | 46602/100001 [1:46:34<1:42:46,  8.66it/s]"
     ]
    },
    {
     "name": "stdout",
     "output_type": "stream",
     "text": [
      "GAN: loss d: 3.36950    loss g: -3.37619\n"
     ]
    },
    {
     "name": "stderr",
     "output_type": "stream",
     "text": [
      " 47%|████▋     | 46702/100001 [1:46:45<1:40:17,  8.86it/s]"
     ]
    },
    {
     "name": "stdout",
     "output_type": "stream",
     "text": [
      "GAN: loss d: 1.72866    loss g: -2.06501\n"
     ]
    },
    {
     "name": "stderr",
     "output_type": "stream",
     "text": [
      " 47%|████▋     | 46801/100001 [1:46:56<1:41:35,  8.73it/s]"
     ]
    },
    {
     "name": "stdout",
     "output_type": "stream",
     "text": [
      "GAN: loss d: 1.97717    loss g: -3.42217\n"
     ]
    },
    {
     "name": "stderr",
     "output_type": "stream",
     "text": [
      " 47%|████▋     | 46902/100001 [1:47:08<1:40:00,  8.85it/s]"
     ]
    },
    {
     "name": "stdout",
     "output_type": "stream",
     "text": [
      "GAN: loss d: 4.00949    loss g: -2.81590\n"
     ]
    },
    {
     "name": "stderr",
     "output_type": "stream",
     "text": [
      " 47%|████▋     | 47000/100001 [1:47:19<1:39:42,  8.86it/s]"
     ]
    },
    {
     "name": "stdout",
     "output_type": "stream",
     "text": [
      "GAN: loss d: 4.16874    loss g: -2.19959\n",
      "saving current model\n"
     ]
    },
    {
     "name": "stderr",
     "output_type": "stream",
     "text": [
      "\n",
      "  0%|          | 0/175 [00:00<?, ?it/s]\u001b[A"
     ]
    },
    {
     "name": "stdout",
     "output_type": "stream",
     "text": [
      "Number of real images: 5626\n"
     ]
    },
    {
     "name": "stderr",
     "output_type": "stream",
     "text": [
      "\n",
      "\n",
      "  0%|          | 0/15 [00:00<?, ?it/s]\u001b[A\u001b[A"
     ]
    },
    {
     "name": "stdout",
     "output_type": "stream",
     "text": [
      "Number of synthetic images: 500\n"
     ]
    },
    {
     "name": "stderr",
     "output_type": "stream",
     "text": [
      " 47%|████▋     | 47002/100001 [1:47:41<71:02:18,  4.83s/it] "
     ]
    },
    {
     "name": "stdout",
     "output_type": "stream",
     "text": [
      "Current fid score: 1.3496958747738148\n",
      "Fid scores: [5.359689818244959, 2.479945282201154, 4.276308166260009, 2.7291028486932554, 2.7908292593055535, 2.3554975684525594, 2.6142447727283162, 2.1934954575945866, 2.3990477193970783, 2.221711896216327, 2.3744210742787253, 2.066927836690496, 2.3716458827445166, 1.9648397602519267, 1.6998954497984542, 2.319731846121897, 1.7800607345901547, 1.4056094758332023, 1.1810571313010847, 1.443624370521686, 1.5078741613768791, 1.173364418143919, 1.2011170423314468, 1.0761087412681398, 1.2172281204321251, 1.000626947334709, 1.737750054809478, 2.0593230539007124, 2.160112364724526, 2.195316465388501, 2.2950768584747436, 2.5124235574475904, 2.475506166692888, 3.0757913554101854, 3.3013338688781992, 3.1298115638580413, 3.361620915033507, 2.3989658516000354, 1.4239996589152213, 1.3841070462580056, 0.8761920713293598, 0.8968581288108979, 0.9323025916764394, 1.2795383980460215, 1.1923953719678337, 1.4775258450924582, 1.2243412993235836, 1.3496958747738148]\n"
     ]
    },
    {
     "name": "stderr",
     "output_type": "stream",
     "text": [
      "  0%|          | 0/175 [00:10<?, ?it/s]7:21:58,  2.00it/s] \n",
      "  0%|          | 0/15 [00:01<?, ?it/s]\n",
      " 47%|████▋     | 47102/100001 [1:47:53<1:39:19,  8.88it/s]"
     ]
    },
    {
     "name": "stdout",
     "output_type": "stream",
     "text": [
      "GAN: loss d: 2.48184    loss g: -1.42158\n"
     ]
    },
    {
     "name": "stderr",
     "output_type": "stream",
     "text": [
      " 47%|████▋     | 47202/100001 [1:48:04<1:39:17,  8.86it/s]"
     ]
    },
    {
     "name": "stdout",
     "output_type": "stream",
     "text": [
      "GAN: loss d: 2.89860    loss g: -2.75891\n"
     ]
    },
    {
     "name": "stderr",
     "output_type": "stream",
     "text": [
      " 47%|████▋     | 47302/100001 [1:48:16<1:40:02,  8.78it/s]"
     ]
    },
    {
     "name": "stdout",
     "output_type": "stream",
     "text": [
      "GAN: loss d: 3.37458    loss g: -2.11090\n"
     ]
    },
    {
     "name": "stderr",
     "output_type": "stream",
     "text": [
      " 47%|████▋     | 47402/100001 [1:48:27<1:36:28,  9.09it/s]"
     ]
    },
    {
     "name": "stdout",
     "output_type": "stream",
     "text": [
      "GAN: loss d: 2.80086    loss g: -1.94814\n"
     ]
    },
    {
     "name": "stderr",
     "output_type": "stream",
     "text": [
      " 48%|████▊     | 47502/100001 [1:48:38<1:41:15,  8.64it/s]"
     ]
    },
    {
     "name": "stdout",
     "output_type": "stream",
     "text": [
      "GAN: loss d: 6.69625    loss g: -2.15434\n"
     ]
    },
    {
     "name": "stderr",
     "output_type": "stream",
     "text": [
      " 48%|████▊     | 47601/100001 [1:48:50<1:41:16,  8.62it/s]"
     ]
    },
    {
     "name": "stdout",
     "output_type": "stream",
     "text": [
      "GAN: loss d: 2.00511    loss g: -2.89386\n"
     ]
    },
    {
     "name": "stderr",
     "output_type": "stream",
     "text": [
      " 48%|████▊     | 47702/100001 [1:49:01<1:39:47,  8.73it/s]"
     ]
    },
    {
     "name": "stdout",
     "output_type": "stream",
     "text": [
      "GAN: loss d: 0.34018    loss g: -1.71170\n"
     ]
    },
    {
     "name": "stderr",
     "output_type": "stream",
     "text": [
      " 48%|████▊     | 47802/100001 [1:49:12<1:38:20,  8.85it/s]"
     ]
    },
    {
     "name": "stdout",
     "output_type": "stream",
     "text": [
      "GAN: loss d: 4.01620    loss g: -2.89163\n"
     ]
    },
    {
     "name": "stderr",
     "output_type": "stream",
     "text": [
      " 48%|████▊     | 47902/100001 [1:49:24<1:39:08,  8.76it/s]"
     ]
    },
    {
     "name": "stdout",
     "output_type": "stream",
     "text": [
      "GAN: loss d: 3.58453    loss g: -1.74503\n"
     ]
    },
    {
     "name": "stderr",
     "output_type": "stream",
     "text": [
      " 48%|████▊     | 48000/100001 [1:49:35<1:40:21,  8.64it/s]"
     ]
    },
    {
     "name": "stdout",
     "output_type": "stream",
     "text": [
      "GAN: loss d: 3.80533    loss g: -2.84823\n",
      "saving current model\n"
     ]
    },
    {
     "name": "stderr",
     "output_type": "stream",
     "text": [
      "\n",
      "  0%|          | 0/175 [00:00<?, ?it/s]\u001b[A"
     ]
    },
    {
     "name": "stdout",
     "output_type": "stream",
     "text": [
      "Number of real images: 5626\n"
     ]
    },
    {
     "name": "stderr",
     "output_type": "stream",
     "text": [
      "\n",
      "\n",
      "  0%|          | 0/15 [00:00<?, ?it/s]\u001b[A\u001b[A"
     ]
    },
    {
     "name": "stdout",
     "output_type": "stream",
     "text": [
      "Number of synthetic images: 500\n"
     ]
    },
    {
     "name": "stderr",
     "output_type": "stream",
     "text": [
      " 48%|████▊     | 48002/100001 [1:49:58<70:24:33,  4.87s/it]"
     ]
    },
    {
     "name": "stdout",
     "output_type": "stream",
     "text": [
      "Current fid score: 1.546939973799251\n",
      "Fid scores: [5.359689818244959, 2.479945282201154, 4.276308166260009, 2.7291028486932554, 2.7908292593055535, 2.3554975684525594, 2.6142447727283162, 2.1934954575945866, 2.3990477193970783, 2.221711896216327, 2.3744210742787253, 2.066927836690496, 2.3716458827445166, 1.9648397602519267, 1.6998954497984542, 2.319731846121897, 1.7800607345901547, 1.4056094758332023, 1.1810571313010847, 1.443624370521686, 1.5078741613768791, 1.173364418143919, 1.2011170423314468, 1.0761087412681398, 1.2172281204321251, 1.000626947334709, 1.737750054809478, 2.0593230539007124, 2.160112364724526, 2.195316465388501, 2.2950768584747436, 2.5124235574475904, 2.475506166692888, 3.0757913554101854, 3.3013338688781992, 3.1298115638580413, 3.361620915033507, 2.3989658516000354, 1.4239996589152213, 1.3841070462580056, 0.8761920713293598, 0.8968581288108979, 0.9323025916764394, 1.2795383980460215, 1.1923953719678337, 1.4775258450924582, 1.2243412993235836, 1.3496958747738148, 1.546939973799251]\n"
     ]
    },
    {
     "name": "stderr",
     "output_type": "stream",
     "text": [
      "  0%|          | 0/175 [00:20<?, ?it/s]1:36:38,  8.95it/s] \n",
      "  0%|          | 0/15 [00:11<?, ?it/s]\n",
      " 48%|████▊     | 48102/100001 [1:50:09<1:38:08,  8.81it/s]"
     ]
    },
    {
     "name": "stdout",
     "output_type": "stream",
     "text": [
      "GAN: loss d: 6.04470    loss g: -2.03350\n"
     ]
    },
    {
     "name": "stderr",
     "output_type": "stream",
     "text": [
      " 48%|████▊     | 48202/100001 [1:50:21<1:39:51,  8.65it/s]"
     ]
    },
    {
     "name": "stdout",
     "output_type": "stream",
     "text": [
      "GAN: loss d: 2.23875    loss g: -2.43255\n"
     ]
    },
    {
     "name": "stderr",
     "output_type": "stream",
     "text": [
      " 48%|████▊     | 48302/100001 [1:50:32<1:37:38,  8.82it/s]"
     ]
    },
    {
     "name": "stdout",
     "output_type": "stream",
     "text": [
      "GAN: loss d: 1.71937    loss g: -3.02610\n"
     ]
    },
    {
     "name": "stderr",
     "output_type": "stream",
     "text": [
      " 48%|████▊     | 48401/100001 [1:50:44<1:40:23,  8.57it/s]"
     ]
    },
    {
     "name": "stdout",
     "output_type": "stream",
     "text": [
      "GAN: loss d: 1.56766    loss g: -2.68203\n"
     ]
    },
    {
     "name": "stderr",
     "output_type": "stream",
     "text": [
      " 49%|████▊     | 48502/100001 [1:50:55<1:38:29,  8.71it/s]"
     ]
    },
    {
     "name": "stdout",
     "output_type": "stream",
     "text": [
      "GAN: loss d: 1.18031    loss g: -1.43370\n"
     ]
    },
    {
     "name": "stderr",
     "output_type": "stream",
     "text": [
      " 49%|████▊     | 48602/100001 [1:51:06<1:36:17,  8.90it/s]"
     ]
    },
    {
     "name": "stdout",
     "output_type": "stream",
     "text": [
      "GAN: loss d: -0.47938    loss g: -2.70657\n"
     ]
    },
    {
     "name": "stderr",
     "output_type": "stream",
     "text": [
      " 49%|████▊     | 48702/100001 [1:51:18<1:36:09,  8.89it/s]"
     ]
    },
    {
     "name": "stdout",
     "output_type": "stream",
     "text": [
      "GAN: loss d: 1.86799    loss g: -2.18415\n"
     ]
    },
    {
     "name": "stderr",
     "output_type": "stream",
     "text": [
      " 49%|████▉     | 48802/100001 [1:51:29<1:37:50,  8.72it/s]"
     ]
    },
    {
     "name": "stdout",
     "output_type": "stream",
     "text": [
      "GAN: loss d: 4.53360    loss g: -3.27397\n"
     ]
    },
    {
     "name": "stderr",
     "output_type": "stream",
     "text": [
      " 49%|████▉     | 48901/100001 [1:51:41<1:36:47,  8.80it/s]"
     ]
    },
    {
     "name": "stdout",
     "output_type": "stream",
     "text": [
      "GAN: loss d: 3.67512    loss g: -1.94469\n"
     ]
    },
    {
     "name": "stderr",
     "output_type": "stream",
     "text": [
      " 49%|████▉     | 49000/100001 [1:51:52<1:35:50,  8.87it/s]"
     ]
    },
    {
     "name": "stdout",
     "output_type": "stream",
     "text": [
      "GAN: loss d: 2.70930    loss g: -2.82539\n",
      "saving current model\n"
     ]
    },
    {
     "name": "stderr",
     "output_type": "stream",
     "text": [
      "\n",
      "  0%|          | 0/175 [00:00<?, ?it/s]\u001b[A"
     ]
    },
    {
     "name": "stdout",
     "output_type": "stream",
     "text": [
      "Number of real images: 5626\n"
     ]
    },
    {
     "name": "stderr",
     "output_type": "stream",
     "text": [
      "\n",
      "\n",
      "  0%|          | 0/15 [00:00<?, ?it/s]\u001b[A\u001b[A"
     ]
    },
    {
     "name": "stdout",
     "output_type": "stream",
     "text": [
      "Number of synthetic images: 500\n"
     ]
    },
    {
     "name": "stderr",
     "output_type": "stream",
     "text": [
      " 49%|████▉     | 49001/100001 [1:52:15<98:49:28,  6.98s/it]"
     ]
    },
    {
     "name": "stdout",
     "output_type": "stream",
     "text": [
      "Current fid score: 1.040973777795589\n",
      "Fid scores: [5.359689818244959, 2.479945282201154, 4.276308166260009, 2.7291028486932554, 2.7908292593055535, 2.3554975684525594, 2.6142447727283162, 2.1934954575945866, 2.3990477193970783, 2.221711896216327, 2.3744210742787253, 2.066927836690496, 2.3716458827445166, 1.9648397602519267, 1.6998954497984542, 2.319731846121897, 1.7800607345901547, 1.4056094758332023, 1.1810571313010847, 1.443624370521686, 1.5078741613768791, 1.173364418143919, 1.2011170423314468, 1.0761087412681398, 1.2172281204321251, 1.000626947334709, 1.737750054809478, 2.0593230539007124, 2.160112364724526, 2.195316465388501, 2.2950768584747436, 2.5124235574475904, 2.475506166692888, 3.0757913554101854, 3.3013338688781992, 3.1298115638580413, 3.361620915033507, 2.3989658516000354, 1.4239996589152213, 1.3841070462580056, 0.8761920713293598, 0.8968581288108979, 0.9323025916764394, 1.2795383980460215, 1.1923953719678337, 1.4775258450924582, 1.2243412993235836, 1.3496958747738148, 1.546939973799251, 1.040973777795589]\n"
     ]
    },
    {
     "name": "stderr",
     "output_type": "stream",
     "text": [
      "  0%|          | 0/175 [00:15<?, ?it/s]1:36:54,  8.76it/s] \n",
      "  0%|          | 0/15 [00:07<?, ?it/s]\n",
      " 49%|████▉     | 49101/100001 [1:52:26<1:37:13,  8.73it/s]"
     ]
    },
    {
     "name": "stdout",
     "output_type": "stream",
     "text": [
      "GAN: loss d: 4.61749    loss g: -3.01082\n"
     ]
    },
    {
     "name": "stderr",
     "output_type": "stream",
     "text": [
      " 49%|████▉     | 49202/100001 [1:52:37<1:35:29,  8.87it/s]"
     ]
    },
    {
     "name": "stdout",
     "output_type": "stream",
     "text": [
      "GAN: loss d: 5.57373    loss g: -1.71093\n"
     ]
    },
    {
     "name": "stderr",
     "output_type": "stream",
     "text": [
      " 49%|████▉     | 49302/100001 [1:52:49<1:42:08,  8.27it/s]"
     ]
    },
    {
     "name": "stdout",
     "output_type": "stream",
     "text": [
      "GAN: loss d: 1.33385    loss g: -3.04197\n"
     ]
    },
    {
     "name": "stderr",
     "output_type": "stream",
     "text": [
      " 49%|████▉     | 49402/100001 [1:53:00<1:42:21,  8.24it/s]"
     ]
    },
    {
     "name": "stdout",
     "output_type": "stream",
     "text": [
      "GAN: loss d: 0.89841    loss g: -2.22864\n"
     ]
    },
    {
     "name": "stderr",
     "output_type": "stream",
     "text": [
      " 50%|████▉     | 49502/100001 [1:53:12<1:39:46,  8.43it/s]"
     ]
    },
    {
     "name": "stdout",
     "output_type": "stream",
     "text": [
      "GAN: loss d: 1.76179    loss g: -2.06405\n"
     ]
    },
    {
     "name": "stderr",
     "output_type": "stream",
     "text": [
      " 50%|████▉     | 49602/100001 [1:53:23<1:33:42,  8.96it/s]"
     ]
    },
    {
     "name": "stdout",
     "output_type": "stream",
     "text": [
      "GAN: loss d: 4.95120    loss g: -1.26503\n"
     ]
    },
    {
     "name": "stderr",
     "output_type": "stream",
     "text": [
      " 50%|████▉     | 49702/100001 [1:53:35<1:36:14,  8.71it/s]"
     ]
    },
    {
     "name": "stdout",
     "output_type": "stream",
     "text": [
      "GAN: loss d: 1.24064    loss g: -2.41559\n"
     ]
    },
    {
     "name": "stderr",
     "output_type": "stream",
     "text": [
      " 50%|████▉     | 49802/100001 [1:53:46<1:33:58,  8.90it/s]"
     ]
    },
    {
     "name": "stdout",
     "output_type": "stream",
     "text": [
      "GAN: loss d: 2.77338    loss g: -1.69616\n"
     ]
    },
    {
     "name": "stderr",
     "output_type": "stream",
     "text": [
      " 50%|████▉     | 49901/100001 [1:53:57<1:34:55,  8.80it/s]"
     ]
    },
    {
     "name": "stdout",
     "output_type": "stream",
     "text": [
      "GAN: loss d: 1.14864    loss g: -2.89045\n"
     ]
    },
    {
     "name": "stderr",
     "output_type": "stream",
     "text": [
      " 50%|████▉     | 50000/100001 [1:54:08<1:33:37,  8.90it/s]"
     ]
    },
    {
     "name": "stdout",
     "output_type": "stream",
     "text": [
      "GAN: loss d: 3.00351    loss g: -1.88526\n",
      "saving current model\n"
     ]
    },
    {
     "name": "stderr",
     "output_type": "stream",
     "text": [
      "\n",
      "  0%|          | 0/175 [00:00<?, ?it/s]\u001b[A"
     ]
    },
    {
     "name": "stdout",
     "output_type": "stream",
     "text": [
      "Number of real images: 5626\n"
     ]
    },
    {
     "name": "stderr",
     "output_type": "stream",
     "text": [
      "\n",
      "\n",
      "  0%|          | 0/15 [00:00<?, ?it/s]\u001b[A\u001b[A"
     ]
    },
    {
     "name": "stdout",
     "output_type": "stream",
     "text": [
      "Number of synthetic images: 500\n"
     ]
    },
    {
     "name": "stderr",
     "output_type": "stream",
     "text": [
      " 50%|█████     | 50002/100001 [1:54:31<67:46:48,  4.88s/it]"
     ]
    },
    {
     "name": "stdout",
     "output_type": "stream",
     "text": [
      "Current fid score: 1.0413172729060634\n",
      "Fid scores: [5.359689818244959, 2.479945282201154, 4.276308166260009, 2.7291028486932554, 2.7908292593055535, 2.3554975684525594, 2.6142447727283162, 2.1934954575945866, 2.3990477193970783, 2.221711896216327, 2.3744210742787253, 2.066927836690496, 2.3716458827445166, 1.9648397602519267, 1.6998954497984542, 2.319731846121897, 1.7800607345901547, 1.4056094758332023, 1.1810571313010847, 1.443624370521686, 1.5078741613768791, 1.173364418143919, 1.2011170423314468, 1.0761087412681398, 1.2172281204321251, 1.000626947334709, 1.737750054809478, 2.0593230539007124, 2.160112364724526, 2.195316465388501, 2.2950768584747436, 2.5124235574475904, 2.475506166692888, 3.0757913554101854, 3.3013338688781992, 3.1298115638580413, 3.361620915033507, 2.3989658516000354, 1.4239996589152213, 1.3841070462580056, 0.8761920713293598, 0.8968581288108979, 0.9323025916764394, 1.2795383980460215, 1.1923953719678337, 1.4775258450924582, 1.2243412993235836, 1.3496958747738148, 1.546939973799251, 1.040973777795589, 1.0413172729060634]\n"
     ]
    },
    {
     "name": "stderr",
     "output_type": "stream",
     "text": [
      "  0%|          | 0/175 [00:10<?, ?it/s]9:22:18,  1.48it/s] \n",
      "  0%|          | 0/15 [00:01<?, ?it/s]\n",
      " 50%|█████     | 50102/100001 [1:54:43<1:36:32,  8.62it/s]"
     ]
    },
    {
     "name": "stdout",
     "output_type": "stream",
     "text": [
      "GAN: loss d: 5.62837    loss g: -1.37545\n"
     ]
    },
    {
     "name": "stderr",
     "output_type": "stream",
     "text": [
      " 50%|█████     | 50202/100001 [1:54:54<1:36:43,  8.58it/s]"
     ]
    },
    {
     "name": "stdout",
     "output_type": "stream",
     "text": [
      "GAN: loss d: 4.76091    loss g: -2.61473\n"
     ]
    },
    {
     "name": "stderr",
     "output_type": "stream",
     "text": [
      " 50%|█████     | 50302/100001 [1:55:06<1:35:27,  8.68it/s]"
     ]
    },
    {
     "name": "stdout",
     "output_type": "stream",
     "text": [
      "GAN: loss d: 0.81917    loss g: -1.53919\n"
     ]
    },
    {
     "name": "stderr",
     "output_type": "stream",
     "text": [
      " 50%|█████     | 50401/100001 [1:55:17<1:36:06,  8.60it/s]"
     ]
    },
    {
     "name": "stdout",
     "output_type": "stream",
     "text": [
      "GAN: loss d: 3.56421    loss g: -1.45125\n"
     ]
    },
    {
     "name": "stderr",
     "output_type": "stream",
     "text": [
      " 51%|█████     | 50502/100001 [1:55:29<1:31:55,  8.97it/s]"
     ]
    },
    {
     "name": "stdout",
     "output_type": "stream",
     "text": [
      "GAN: loss d: 0.55993    loss g: -1.39408\n"
     ]
    },
    {
     "name": "stderr",
     "output_type": "stream",
     "text": [
      " 51%|█████     | 50602/100001 [1:55:40<1:34:57,  8.67it/s]"
     ]
    },
    {
     "name": "stdout",
     "output_type": "stream",
     "text": [
      "GAN: loss d: 1.33774    loss g: -1.79282\n"
     ]
    },
    {
     "name": "stderr",
     "output_type": "stream",
     "text": [
      " 51%|█████     | 50702/100001 [1:55:51<1:31:39,  8.96it/s]"
     ]
    },
    {
     "name": "stdout",
     "output_type": "stream",
     "text": [
      "GAN: loss d: 3.99190    loss g: -2.57272\n"
     ]
    },
    {
     "name": "stderr",
     "output_type": "stream",
     "text": [
      " 51%|█████     | 50802/100001 [1:56:03<1:35:32,  8.58it/s]"
     ]
    },
    {
     "name": "stdout",
     "output_type": "stream",
     "text": [
      "GAN: loss d: 3.65109    loss g: -2.45217\n"
     ]
    },
    {
     "name": "stderr",
     "output_type": "stream",
     "text": [
      " 51%|█████     | 50902/100001 [1:56:14<1:35:40,  8.55it/s]"
     ]
    },
    {
     "name": "stdout",
     "output_type": "stream",
     "text": [
      "GAN: loss d: 3.95778    loss g: -2.00163\n"
     ]
    },
    {
     "name": "stderr",
     "output_type": "stream",
     "text": [
      " 51%|█████     | 51000/100001 [1:56:26<1:30:54,  8.98it/s]"
     ]
    },
    {
     "name": "stdout",
     "output_type": "stream",
     "text": [
      "GAN: loss d: -0.07186    loss g: -1.70208\n",
      "saving current model\n"
     ]
    },
    {
     "name": "stderr",
     "output_type": "stream",
     "text": [
      "\n",
      "  0%|          | 0/175 [00:00<?, ?it/s]\u001b[A"
     ]
    },
    {
     "name": "stdout",
     "output_type": "stream",
     "text": [
      "Number of real images: 5626\n"
     ]
    },
    {
     "name": "stderr",
     "output_type": "stream",
     "text": [
      "\n",
      "\n",
      "  0%|          | 0/15 [00:00<?, ?it/s]\u001b[A\u001b[A"
     ]
    },
    {
     "name": "stdout",
     "output_type": "stream",
     "text": [
      "Number of synthetic images: 500\n"
     ]
    },
    {
     "name": "stderr",
     "output_type": "stream",
     "text": [
      " 51%|█████     | 51002/100001 [1:56:48<64:08:35,  4.71s/it]"
     ]
    },
    {
     "name": "stdout",
     "output_type": "stream",
     "text": [
      "Current fid score: 1.0205480305498185\n",
      "Fid scores: [5.359689818244959, 2.479945282201154, 4.276308166260009, 2.7291028486932554, 2.7908292593055535, 2.3554975684525594, 2.6142447727283162, 2.1934954575945866, 2.3990477193970783, 2.221711896216327, 2.3744210742787253, 2.066927836690496, 2.3716458827445166, 1.9648397602519267, 1.6998954497984542, 2.319731846121897, 1.7800607345901547, 1.4056094758332023, 1.1810571313010847, 1.443624370521686, 1.5078741613768791, 1.173364418143919, 1.2011170423314468, 1.0761087412681398, 1.2172281204321251, 1.000626947334709, 1.737750054809478, 2.0593230539007124, 2.160112364724526, 2.195316465388501, 2.2950768584747436, 2.5124235574475904, 2.475506166692888, 3.0757913554101854, 3.3013338688781992, 3.1298115638580413, 3.361620915033507, 2.3989658516000354, 1.4239996589152213, 1.3841070462580056, 0.8761920713293598, 0.8968581288108979, 0.9323025916764394, 1.2795383980460215, 1.1923953719678337, 1.4775258450924582, 1.2243412993235836, 1.3496958747738148, 1.546939973799251, 1.040973777795589, 1.0413172729060634, 1.0205480305498185]\n"
     ]
    },
    {
     "name": "stderr",
     "output_type": "stream",
     "text": [
      "  0%|          | 0/175 [00:11<?, ?it/s]3:18:31,  4.11it/s] \n",
      "  0%|          | 0/15 [00:02<?, ?it/s]\n",
      " 51%|█████     | 51102/100001 [1:56:59<1:31:26,  8.91it/s]"
     ]
    },
    {
     "name": "stdout",
     "output_type": "stream",
     "text": [
      "GAN: loss d: 2.99520    loss g: -3.58157\n"
     ]
    },
    {
     "name": "stderr",
     "output_type": "stream",
     "text": [
      " 51%|█████     | 51202/100001 [1:57:10<1:32:05,  8.83it/s]"
     ]
    },
    {
     "name": "stdout",
     "output_type": "stream",
     "text": [
      "GAN: loss d: 2.25107    loss g: -2.05126\n"
     ]
    },
    {
     "name": "stderr",
     "output_type": "stream",
     "text": [
      " 51%|█████▏    | 51302/100001 [1:57:22<1:33:01,  8.73it/s]"
     ]
    },
    {
     "name": "stdout",
     "output_type": "stream",
     "text": [
      "GAN: loss d: 2.53878    loss g: -2.28679\n"
     ]
    },
    {
     "name": "stderr",
     "output_type": "stream",
     "text": [
      " 51%|█████▏    | 51402/100001 [1:57:33<1:31:35,  8.84it/s]"
     ]
    },
    {
     "name": "stdout",
     "output_type": "stream",
     "text": [
      "GAN: loss d: 1.83349    loss g: -1.84163\n"
     ]
    },
    {
     "name": "stderr",
     "output_type": "stream",
     "text": [
      " 52%|█████▏    | 51501/100001 [1:57:45<1:33:37,  8.63it/s]"
     ]
    },
    {
     "name": "stdout",
     "output_type": "stream",
     "text": [
      "GAN: loss d: 5.60803    loss g: -3.79459\n"
     ]
    },
    {
     "name": "stderr",
     "output_type": "stream",
     "text": [
      " 52%|█████▏    | 51602/100001 [1:57:56<1:31:12,  8.84it/s]"
     ]
    },
    {
     "name": "stdout",
     "output_type": "stream",
     "text": [
      "GAN: loss d: 2.16349    loss g: -1.46236\n"
     ]
    },
    {
     "name": "stderr",
     "output_type": "stream",
     "text": [
      " 52%|█████▏    | 51702/100001 [1:58:08<1:33:11,  8.64it/s]"
     ]
    },
    {
     "name": "stdout",
     "output_type": "stream",
     "text": [
      "GAN: loss d: 0.90561    loss g: -1.28297\n"
     ]
    },
    {
     "name": "stderr",
     "output_type": "stream",
     "text": [
      " 52%|█████▏    | 51801/100001 [1:58:19<1:32:39,  8.67it/s]"
     ]
    },
    {
     "name": "stdout",
     "output_type": "stream",
     "text": [
      "GAN: loss d: 1.86224    loss g: -1.86147\n"
     ]
    },
    {
     "name": "stderr",
     "output_type": "stream",
     "text": [
      " 52%|█████▏    | 51902/100001 [1:58:30<1:30:34,  8.85it/s]"
     ]
    },
    {
     "name": "stdout",
     "output_type": "stream",
     "text": [
      "GAN: loss d: 3.01541    loss g: -2.23544\n"
     ]
    },
    {
     "name": "stderr",
     "output_type": "stream",
     "text": [
      " 52%|█████▏    | 52000/100001 [1:58:42<1:30:03,  8.88it/s]"
     ]
    },
    {
     "name": "stdout",
     "output_type": "stream",
     "text": [
      "GAN: loss d: 4.75245    loss g: -2.27878\n",
      "saving current model\n"
     ]
    },
    {
     "name": "stderr",
     "output_type": "stream",
     "text": [
      "\n",
      "  0%|          | 0/175 [00:00<?, ?it/s]\u001b[A"
     ]
    },
    {
     "name": "stdout",
     "output_type": "stream",
     "text": [
      "Number of real images: 5626\n"
     ]
    },
    {
     "name": "stderr",
     "output_type": "stream",
     "text": [
      "\n",
      "\n",
      "  0%|          | 0/15 [00:00<?, ?it/s]\u001b[A\u001b[A"
     ]
    },
    {
     "name": "stdout",
     "output_type": "stream",
     "text": [
      "Number of synthetic images: 500\n"
     ]
    },
    {
     "name": "stderr",
     "output_type": "stream",
     "text": [
      " 52%|█████▏    | 52002/100001 [1:59:04<62:38:23,  4.70s/it]"
     ]
    },
    {
     "name": "stdout",
     "output_type": "stream",
     "text": [
      "Current fid score: 1.3183341694682618\n",
      "Fid scores: [5.359689818244959, 2.479945282201154, 4.276308166260009, 2.7291028486932554, 2.7908292593055535, 2.3554975684525594, 2.6142447727283162, 2.1934954575945866, 2.3990477193970783, 2.221711896216327, 2.3744210742787253, 2.066927836690496, 2.3716458827445166, 1.9648397602519267, 1.6998954497984542, 2.319731846121897, 1.7800607345901547, 1.4056094758332023, 1.1810571313010847, 1.443624370521686, 1.5078741613768791, 1.173364418143919, 1.2011170423314468, 1.0761087412681398, 1.2172281204321251, 1.000626947334709, 1.737750054809478, 2.0593230539007124, 2.160112364724526, 2.195316465388501, 2.2950768584747436, 2.5124235574475904, 2.475506166692888, 3.0757913554101854, 3.3013338688781992, 3.1298115638580413, 3.361620915033507, 2.3989658516000354, 1.4239996589152213, 1.3841070462580056, 0.8761920713293598, 0.8968581288108979, 0.9323025916764394, 1.2795383980460215, 1.1923953719678337, 1.4775258450924582, 1.2243412993235836, 1.3496958747738148, 1.546939973799251, 1.040973777795589, 1.0413172729060634, 1.0205480305498185, 1.3183341694682618]\n"
     ]
    },
    {
     "name": "stderr",
     "output_type": "stream",
     "text": [
      "  0%|          | 0/175 [00:19<?, ?it/s]1:35:14,  8.39it/s] \n",
      "  0%|          | 0/15 [00:10<?, ?it/s]\n",
      " 52%|█████▏    | 52102/100001 [1:59:15<1:30:33,  8.82it/s]"
     ]
    },
    {
     "name": "stdout",
     "output_type": "stream",
     "text": [
      "GAN: loss d: 1.71735    loss g: -2.46340\n"
     ]
    },
    {
     "name": "stderr",
     "output_type": "stream",
     "text": [
      " 52%|█████▏    | 52202/100001 [1:59:27<1:29:31,  8.90it/s]"
     ]
    },
    {
     "name": "stdout",
     "output_type": "stream",
     "text": [
      "GAN: loss d: 3.03169    loss g: -1.66941\n"
     ]
    },
    {
     "name": "stderr",
     "output_type": "stream",
     "text": [
      " 52%|█████▏    | 52302/100001 [1:59:38<1:29:27,  8.89it/s]"
     ]
    },
    {
     "name": "stdout",
     "output_type": "stream",
     "text": [
      "GAN: loss d: 5.35224    loss g: -2.89736\n"
     ]
    },
    {
     "name": "stderr",
     "output_type": "stream",
     "text": [
      " 52%|█████▏    | 52402/100001 [1:59:49<1:31:22,  8.68it/s]"
     ]
    },
    {
     "name": "stdout",
     "output_type": "stream",
     "text": [
      "GAN: loss d: 5.89235    loss g: -2.88943\n"
     ]
    },
    {
     "name": "stderr",
     "output_type": "stream",
     "text": [
      " 53%|█████▎    | 52502/100001 [2:00:01<1:30:49,  8.72it/s]"
     ]
    },
    {
     "name": "stdout",
     "output_type": "stream",
     "text": [
      "GAN: loss d: 4.28487    loss g: -1.82278\n"
     ]
    },
    {
     "name": "stderr",
     "output_type": "stream",
     "text": [
      " 53%|█████▎    | 52602/100001 [2:00:12<1:28:54,  8.88it/s]"
     ]
    },
    {
     "name": "stdout",
     "output_type": "stream",
     "text": [
      "GAN: loss d: 4.58991    loss g: -2.53182\n"
     ]
    },
    {
     "name": "stderr",
     "output_type": "stream",
     "text": [
      " 53%|█████▎    | 52702/100001 [2:00:24<1:27:57,  8.96it/s]"
     ]
    },
    {
     "name": "stdout",
     "output_type": "stream",
     "text": [
      "GAN: loss d: 1.92194    loss g: -2.94615\n"
     ]
    },
    {
     "name": "stderr",
     "output_type": "stream",
     "text": [
      " 53%|█████▎    | 52802/100001 [2:00:35<1:28:30,  8.89it/s]"
     ]
    },
    {
     "name": "stdout",
     "output_type": "stream",
     "text": [
      "GAN: loss d: 1.96737    loss g: -1.48161\n"
     ]
    },
    {
     "name": "stderr",
     "output_type": "stream",
     "text": [
      " 53%|█████▎    | 52902/100001 [2:00:46<1:39:47,  7.87it/s]"
     ]
    },
    {
     "name": "stdout",
     "output_type": "stream",
     "text": [
      "GAN: loss d: 3.41729    loss g: -1.76612\n"
     ]
    },
    {
     "name": "stderr",
     "output_type": "stream",
     "text": [
      " 53%|█████▎    | 53000/100001 [2:00:58<1:28:57,  8.81it/s]"
     ]
    },
    {
     "name": "stdout",
     "output_type": "stream",
     "text": [
      "GAN: loss d: 4.71106    loss g: -1.75001\n",
      "saving current model\n"
     ]
    },
    {
     "name": "stderr",
     "output_type": "stream",
     "text": [
      "\n",
      "  0%|          | 0/175 [00:00<?, ?it/s]\u001b[A"
     ]
    },
    {
     "name": "stdout",
     "output_type": "stream",
     "text": [
      "Number of real images: 5626\n"
     ]
    },
    {
     "name": "stderr",
     "output_type": "stream",
     "text": [
      "\n",
      "\n",
      "  0%|          | 0/15 [00:00<?, ?it/s]\u001b[A\u001b[A"
     ]
    },
    {
     "name": "stdout",
     "output_type": "stream",
     "text": [
      "Number of synthetic images: 500\n"
     ]
    },
    {
     "name": "stderr",
     "output_type": "stream",
     "text": [
      " 53%|█████▎    | 53002/100001 [2:01:21<65:35:33,  5.02s/it]"
     ]
    },
    {
     "name": "stdout",
     "output_type": "stream",
     "text": [
      "Current fid score: 0.8797026053507153\n",
      "Fid scores: [5.359689818244959, 2.479945282201154, 4.276308166260009, 2.7291028486932554, 2.7908292593055535, 2.3554975684525594, 2.6142447727283162, 2.1934954575945866, 2.3990477193970783, 2.221711896216327, 2.3744210742787253, 2.066927836690496, 2.3716458827445166, 1.9648397602519267, 1.6998954497984542, 2.319731846121897, 1.7800607345901547, 1.4056094758332023, 1.1810571313010847, 1.443624370521686, 1.5078741613768791, 1.173364418143919, 1.2011170423314468, 1.0761087412681398, 1.2172281204321251, 1.000626947334709, 1.737750054809478, 2.0593230539007124, 2.160112364724526, 2.195316465388501, 2.2950768584747436, 2.5124235574475904, 2.475506166692888, 3.0757913554101854, 3.3013338688781992, 3.1298115638580413, 3.361620915033507, 2.3989658516000354, 1.4239996589152213, 1.3841070462580056, 0.8761920713293598, 0.8968581288108979, 0.9323025916764394, 1.2795383980460215, 1.1923953719678337, 1.4775258450924582, 1.2243412993235836, 1.3496958747738148, 1.546939973799251, 1.040973777795589, 1.0413172729060634, 1.0205480305498185, 1.3183341694682618, 0.8797026053507153]\n"
     ]
    },
    {
     "name": "stderr",
     "output_type": "stream",
     "text": [
      "  0%|          | 0/175 [00:15<?, ?it/s]1:25:25,  9.16it/s] \n",
      "  0%|          | 0/15 [00:06<?, ?it/s]\n",
      " 53%|█████▎    | 53102/100001 [2:01:32<1:30:48,  8.61it/s]"
     ]
    },
    {
     "name": "stdout",
     "output_type": "stream",
     "text": [
      "GAN: loss d: 2.97578    loss g: -2.64546\n"
     ]
    },
    {
     "name": "stderr",
     "output_type": "stream",
     "text": [
      " 53%|█████▎    | 53202/100001 [2:01:44<1:28:04,  8.86it/s]"
     ]
    },
    {
     "name": "stdout",
     "output_type": "stream",
     "text": [
      "GAN: loss d: 2.21274    loss g: -2.98746\n"
     ]
    },
    {
     "name": "stderr",
     "output_type": "stream",
     "text": [
      " 53%|█████▎    | 53302/100001 [2:01:55<1:27:12,  8.93it/s]"
     ]
    },
    {
     "name": "stdout",
     "output_type": "stream",
     "text": [
      "GAN: loss d: 3.39353    loss g: -2.11369\n"
     ]
    },
    {
     "name": "stderr",
     "output_type": "stream",
     "text": [
      " 53%|█████▎    | 53402/100001 [2:02:06<1:26:33,  8.97it/s]"
     ]
    },
    {
     "name": "stdout",
     "output_type": "stream",
     "text": [
      "GAN: loss d: 4.15385    loss g: -2.52153\n"
     ]
    },
    {
     "name": "stderr",
     "output_type": "stream",
     "text": [
      " 54%|█████▎    | 53502/100001 [2:02:18<1:27:04,  8.90it/s]"
     ]
    },
    {
     "name": "stdout",
     "output_type": "stream",
     "text": [
      "GAN: loss d: 2.68216    loss g: -2.44127\n"
     ]
    },
    {
     "name": "stderr",
     "output_type": "stream",
     "text": [
      " 54%|█████▎    | 53602/100001 [2:02:29<1:28:05,  8.78it/s]"
     ]
    },
    {
     "name": "stdout",
     "output_type": "stream",
     "text": [
      "GAN: loss d: 3.05202    loss g: -2.97968\n"
     ]
    },
    {
     "name": "stderr",
     "output_type": "stream",
     "text": [
      " 54%|█████▎    | 53702/100001 [2:02:40<1:26:06,  8.96it/s]"
     ]
    },
    {
     "name": "stdout",
     "output_type": "stream",
     "text": [
      "GAN: loss d: 4.29599    loss g: -2.13791\n"
     ]
    },
    {
     "name": "stderr",
     "output_type": "stream",
     "text": [
      " 54%|█████▍    | 53802/100001 [2:02:52<1:26:35,  8.89it/s]"
     ]
    },
    {
     "name": "stdout",
     "output_type": "stream",
     "text": [
      "GAN: loss d: 5.77427    loss g: -2.56571\n"
     ]
    },
    {
     "name": "stderr",
     "output_type": "stream",
     "text": [
      " 54%|█████▍    | 53902/100001 [2:03:03<1:27:13,  8.81it/s]"
     ]
    },
    {
     "name": "stdout",
     "output_type": "stream",
     "text": [
      "GAN: loss d: 5.17418    loss g: -1.98292\n"
     ]
    },
    {
     "name": "stderr",
     "output_type": "stream",
     "text": [
      " 54%|█████▍    | 54000/100001 [2:03:15<1:23:31,  9.18it/s]"
     ]
    },
    {
     "name": "stdout",
     "output_type": "stream",
     "text": [
      "GAN: loss d: 0.97068    loss g: -2.75206\n",
      "saving current model\n"
     ]
    },
    {
     "name": "stderr",
     "output_type": "stream",
     "text": [
      "\n",
      "  0%|          | 0/175 [00:00<?, ?it/s]\u001b[A"
     ]
    },
    {
     "name": "stdout",
     "output_type": "stream",
     "text": [
      "Number of real images: 5626\n"
     ]
    },
    {
     "name": "stderr",
     "output_type": "stream",
     "text": [
      "\n",
      "\n",
      "  0%|          | 0/15 [00:00<?, ?it/s]\u001b[A\u001b[A"
     ]
    },
    {
     "name": "stdout",
     "output_type": "stream",
     "text": [
      "Number of synthetic images: 500\n"
     ]
    },
    {
     "name": "stderr",
     "output_type": "stream",
     "text": [
      "  0%|          | 0/175 [00:09<?, ?it/s]\n",
      "  0%|          | 0/15 [00:00<?, ?it/s]"
     ]
    },
    {
     "name": "stdout",
     "output_type": "stream",
     "text": [
      "Current fid score: 0.8567828803491899\n",
      "Fid scores: [5.359689818244959, 2.479945282201154, 4.276308166260009, 2.7291028486932554, 2.7908292593055535, 2.3554975684525594, 2.6142447727283162, 2.1934954575945866, 2.3990477193970783, 2.221711896216327, 2.3744210742787253, 2.066927836690496, 2.3716458827445166, 1.9648397602519267, 1.6998954497984542, 2.319731846121897, 1.7800607345901547, 1.4056094758332023, 1.1810571313010847, 1.443624370521686, 1.5078741613768791, 1.173364418143919, 1.2011170423314468, 1.0761087412681398, 1.2172281204321251, 1.000626947334709, 1.737750054809478, 2.0593230539007124, 2.160112364724526, 2.195316465388501, 2.2950768584747436, 2.5124235574475904, 2.475506166692888, 3.0757913554101854, 3.3013338688781992, 3.1298115638580413, 3.361620915033507, 2.3989658516000354, 1.4239996589152213, 1.3841070462580056, 0.8761920713293598, 0.8968581288108979, 0.9323025916764394, 1.2795383980460215, 1.1923953719678337, 1.4775258450924582, 1.2243412993235836, 1.3496958747738148, 1.546939973799251, 1.040973777795589, 1.0413172729060634, 1.0205480305498185, 1.3183341694682618, 0.8797026053507153, 0.8567828803491899]\n",
      "New min fid score: 0.856782880349\n",
      "Saving best model\n"
     ]
    },
    {
     "name": "stderr",
     "output_type": "stream",
     "text": [
      "\n",
      " 54%|█████▍    | 54102/100001 [2:03:52<1:29:29,  8.55it/s] "
     ]
    },
    {
     "name": "stdout",
     "output_type": "stream",
     "text": [
      "GAN: loss d: 2.05135    loss g: -2.69179\n"
     ]
    },
    {
     "name": "stderr",
     "output_type": "stream",
     "text": [
      " 54%|█████▍    | 54202/100001 [2:04:03<1:25:05,  8.97it/s]"
     ]
    },
    {
     "name": "stdout",
     "output_type": "stream",
     "text": [
      "GAN: loss d: 4.56019    loss g: -3.17105\n"
     ]
    },
    {
     "name": "stderr",
     "output_type": "stream",
     "text": [
      " 54%|█████▍    | 54301/100001 [2:04:14<1:26:13,  8.83it/s]"
     ]
    },
    {
     "name": "stdout",
     "output_type": "stream",
     "text": [
      "GAN: loss d: 3.82416    loss g: -2.69160\n"
     ]
    },
    {
     "name": "stderr",
     "output_type": "stream",
     "text": [
      " 54%|█████▍    | 54402/100001 [2:04:26<1:26:24,  8.80it/s]"
     ]
    },
    {
     "name": "stdout",
     "output_type": "stream",
     "text": [
      "GAN: loss d: 4.10734    loss g: -3.06303\n"
     ]
    },
    {
     "name": "stderr",
     "output_type": "stream",
     "text": [
      " 55%|█████▍    | 54502/100001 [2:04:37<1:24:57,  8.93it/s]"
     ]
    },
    {
     "name": "stdout",
     "output_type": "stream",
     "text": [
      "GAN: loss d: 2.28101    loss g: -1.95353\n"
     ]
    },
    {
     "name": "stderr",
     "output_type": "stream",
     "text": [
      " 55%|█████▍    | 54602/100001 [2:04:48<1:24:27,  8.96it/s]"
     ]
    },
    {
     "name": "stdout",
     "output_type": "stream",
     "text": [
      "GAN: loss d: 4.24473    loss g: -2.39755\n"
     ]
    },
    {
     "name": "stderr",
     "output_type": "stream",
     "text": [
      " 55%|█████▍    | 54702/100001 [2:05:00<1:25:13,  8.86it/s]"
     ]
    },
    {
     "name": "stdout",
     "output_type": "stream",
     "text": [
      "GAN: loss d: 3.81181    loss g: -2.44341\n"
     ]
    },
    {
     "name": "stderr",
     "output_type": "stream",
     "text": [
      " 55%|█████▍    | 54802/100001 [2:05:11<1:23:54,  8.98it/s]"
     ]
    },
    {
     "name": "stdout",
     "output_type": "stream",
     "text": [
      "GAN: loss d: 1.99755    loss g: -1.99330\n"
     ]
    },
    {
     "name": "stderr",
     "output_type": "stream",
     "text": [
      " 55%|█████▍    | 54902/100001 [2:05:23<1:23:58,  8.95it/s]"
     ]
    },
    {
     "name": "stdout",
     "output_type": "stream",
     "text": [
      "GAN: loss d: 3.68461    loss g: -1.95948\n"
     ]
    },
    {
     "name": "stderr",
     "output_type": "stream",
     "text": [
      " 55%|█████▍    | 55000/100001 [2:05:34<1:24:32,  8.87it/s]"
     ]
    },
    {
     "name": "stdout",
     "output_type": "stream",
     "text": [
      "GAN: loss d: 0.94586    loss g: -1.86285\n",
      "saving current model\n"
     ]
    },
    {
     "name": "stderr",
     "output_type": "stream",
     "text": [
      "\n",
      "  0%|          | 0/175 [00:00<?, ?it/s]\u001b[A"
     ]
    },
    {
     "name": "stdout",
     "output_type": "stream",
     "text": [
      "Number of real images: 5626\n"
     ]
    },
    {
     "name": "stderr",
     "output_type": "stream",
     "text": [
      "\n",
      "\n",
      "  0%|          | 0/15 [00:00<?, ?it/s]\u001b[A\u001b[A"
     ]
    },
    {
     "name": "stdout",
     "output_type": "stream",
     "text": [
      "Number of synthetic images: 500\n"
     ]
    },
    {
     "name": "stderr",
     "output_type": "stream",
     "text": [
      " 55%|█████▌    | 55002/100001 [2:05:57<61:08:51,  4.89s/it]"
     ]
    },
    {
     "name": "stdout",
     "output_type": "stream",
     "text": [
      "Current fid score: 1.0769886742341122\n",
      "Fid scores: [5.359689818244959, 2.479945282201154, 4.276308166260009, 2.7291028486932554, 2.7908292593055535, 2.3554975684525594, 2.6142447727283162, 2.1934954575945866, 2.3990477193970783, 2.221711896216327, 2.3744210742787253, 2.066927836690496, 2.3716458827445166, 1.9648397602519267, 1.6998954497984542, 2.319731846121897, 1.7800607345901547, 1.4056094758332023, 1.1810571313010847, 1.443624370521686, 1.5078741613768791, 1.173364418143919, 1.2011170423314468, 1.0761087412681398, 1.2172281204321251, 1.000626947334709, 1.737750054809478, 2.0593230539007124, 2.160112364724526, 2.195316465388501, 2.2950768584747436, 2.5124235574475904, 2.475506166692888, 3.0757913554101854, 3.3013338688781992, 3.1298115638580413, 3.361620915033507, 2.3989658516000354, 1.4239996589152213, 1.3841070462580056, 0.8761920713293598, 0.8968581288108979, 0.9323025916764394, 1.2795383980460215, 1.1923953719678337, 1.4775258450924582, 1.2243412993235836, 1.3496958747738148, 1.546939973799251, 1.040973777795589, 1.0413172729060634, 1.0205480305498185, 1.3183341694682618, 0.8797026053507153, 0.8567828803491899, 1.0769886742341122]\n"
     ]
    },
    {
     "name": "stderr",
     "output_type": "stream",
     "text": [
      "  0%|          | 0/175 [00:19<?, ?it/s]1:29:43,  8.34it/s] \n",
      "  0%|          | 0/15 [00:10<?, ?it/s]\n",
      " 55%|█████▌    | 55101/100001 [2:06:08<1:27:48,  8.52it/s]"
     ]
    },
    {
     "name": "stdout",
     "output_type": "stream",
     "text": [
      "GAN: loss d: 4.73549    loss g: -1.95072\n"
     ]
    },
    {
     "name": "stderr",
     "output_type": "stream",
     "text": [
      " 55%|█████▌    | 55201/100001 [2:06:19<1:25:59,  8.68it/s]"
     ]
    },
    {
     "name": "stdout",
     "output_type": "stream",
     "text": [
      "GAN: loss d: 0.98086    loss g: -1.79809\n"
     ]
    },
    {
     "name": "stderr",
     "output_type": "stream",
     "text": [
      " 55%|█████▌    | 55302/100001 [2:06:31<1:24:06,  8.86it/s]"
     ]
    },
    {
     "name": "stdout",
     "output_type": "stream",
     "text": [
      "GAN: loss d: 1.82796    loss g: -1.83469\n"
     ]
    },
    {
     "name": "stderr",
     "output_type": "stream",
     "text": [
      " 55%|█████▌    | 55402/100001 [2:06:42<1:25:18,  8.71it/s]"
     ]
    },
    {
     "name": "stdout",
     "output_type": "stream",
     "text": [
      "GAN: loss d: 2.58687    loss g: -2.47848\n"
     ]
    },
    {
     "name": "stderr",
     "output_type": "stream",
     "text": [
      " 56%|█████▌    | 55502/100001 [2:06:54<1:24:24,  8.79it/s]"
     ]
    },
    {
     "name": "stdout",
     "output_type": "stream",
     "text": [
      "GAN: loss d: 3.41248    loss g: -1.85645\n"
     ]
    },
    {
     "name": "stderr",
     "output_type": "stream",
     "text": [
      " 56%|█████▌    | 55602/100001 [2:07:05<1:30:17,  8.20it/s]"
     ]
    },
    {
     "name": "stdout",
     "output_type": "stream",
     "text": [
      "GAN: loss d: 4.59410    loss g: -2.14209\n"
     ]
    },
    {
     "name": "stderr",
     "output_type": "stream",
     "text": [
      " 56%|█████▌    | 55702/100001 [2:07:17<1:25:46,  8.61it/s]"
     ]
    },
    {
     "name": "stdout",
     "output_type": "stream",
     "text": [
      "GAN: loss d: 4.35030    loss g: -1.93315\n"
     ]
    },
    {
     "name": "stderr",
     "output_type": "stream",
     "text": [
      " 56%|█████▌    | 55802/100001 [2:07:28<1:23:46,  8.79it/s]"
     ]
    },
    {
     "name": "stdout",
     "output_type": "stream",
     "text": [
      "GAN: loss d: 1.16963    loss g: -2.14566\n"
     ]
    },
    {
     "name": "stderr",
     "output_type": "stream",
     "text": [
      " 56%|█████▌    | 55902/100001 [2:07:39<1:23:03,  8.85it/s]"
     ]
    },
    {
     "name": "stdout",
     "output_type": "stream",
     "text": [
      "GAN: loss d: 4.03052    loss g: -3.20496\n"
     ]
    },
    {
     "name": "stderr",
     "output_type": "stream",
     "text": [
      " 56%|█████▌    | 56000/100001 [2:07:51<1:22:38,  8.87it/s]"
     ]
    },
    {
     "name": "stdout",
     "output_type": "stream",
     "text": [
      "GAN: loss d: 4.44522    loss g: -2.97168\n",
      "saving current model\n"
     ]
    },
    {
     "name": "stderr",
     "output_type": "stream",
     "text": [
      "\n",
      "  0%|          | 0/175 [00:00<?, ?it/s]\u001b[A"
     ]
    },
    {
     "name": "stdout",
     "output_type": "stream",
     "text": [
      "Number of real images: 5626\n"
     ]
    },
    {
     "name": "stderr",
     "output_type": "stream",
     "text": [
      "\n",
      "\n",
      "  0%|          | 0/15 [00:00<?, ?it/s]\u001b[A\u001b[A"
     ]
    },
    {
     "name": "stdout",
     "output_type": "stream",
     "text": [
      "Number of synthetic images: 500\n"
     ]
    },
    {
     "name": "stderr",
     "output_type": "stream",
     "text": [
      " 56%|█████▌    | 56001/100001 [2:08:13<82:20:46,  6.74s/it]"
     ]
    },
    {
     "name": "stdout",
     "output_type": "stream",
     "text": [
      "Current fid score: 0.8730820062121616\n",
      "Fid scores: [5.359689818244959, 2.479945282201154, 4.276308166260009, 2.7291028486932554, 2.7908292593055535, 2.3554975684525594, 2.6142447727283162, 2.1934954575945866, 2.3990477193970783, 2.221711896216327, 2.3744210742787253, 2.066927836690496, 2.3716458827445166, 1.9648397602519267, 1.6998954497984542, 2.319731846121897, 1.7800607345901547, 1.4056094758332023, 1.1810571313010847, 1.443624370521686, 1.5078741613768791, 1.173364418143919, 1.2011170423314468, 1.0761087412681398, 1.2172281204321251, 1.000626947334709, 1.737750054809478, 2.0593230539007124, 2.160112364724526, 2.195316465388501, 2.2950768584747436, 2.5124235574475904, 2.475506166692888, 3.0757913554101854, 3.3013338688781992, 3.1298115638580413, 3.361620915033507, 2.3989658516000354, 1.4239996589152213, 1.3841070462580056, 0.8761920713293598, 0.8968581288108979, 0.9323025916764394, 1.2795383980460215, 1.1923953719678337, 1.4775258450924582, 1.2243412993235836, 1.3496958747738148, 1.546939973799251, 1.040973777795589, 1.0413172729060634, 1.0205480305498185, 1.3183341694682618, 0.8797026053507153, 0.8567828803491899, 1.0769886742341122, 0.8730820062121616]\n"
     ]
    },
    {
     "name": "stderr",
     "output_type": "stream",
     "text": [
      "  0%|          | 0/175 [00:15<?, ?it/s]1:22:31,  8.88it/s] \n",
      "  0%|          | 0/15 [00:06<?, ?it/s]\n",
      " 56%|█████▌    | 56102/100001 [2:08:24<1:23:04,  8.81it/s]"
     ]
    },
    {
     "name": "stdout",
     "output_type": "stream",
     "text": [
      "GAN: loss d: 3.22457    loss g: -2.56377\n"
     ]
    },
    {
     "name": "stderr",
     "output_type": "stream",
     "text": [
      " 56%|█████▌    | 56202/100001 [2:08:36<1:26:15,  8.46it/s]"
     ]
    },
    {
     "name": "stdout",
     "output_type": "stream",
     "text": [
      "GAN: loss d: 4.25793    loss g: -2.05539\n"
     ]
    },
    {
     "name": "stderr",
     "output_type": "stream",
     "text": [
      " 56%|█████▋    | 56302/100001 [2:08:47<1:24:43,  8.60it/s]"
     ]
    },
    {
     "name": "stdout",
     "output_type": "stream",
     "text": [
      "GAN: loss d: 4.18903    loss g: -2.65459\n"
     ]
    },
    {
     "name": "stderr",
     "output_type": "stream",
     "text": [
      " 56%|█████▋    | 56402/100001 [2:08:58<1:23:11,  8.74it/s]"
     ]
    },
    {
     "name": "stdout",
     "output_type": "stream",
     "text": [
      "GAN: loss d: 4.19630    loss g: -2.98045\n"
     ]
    },
    {
     "name": "stderr",
     "output_type": "stream",
     "text": [
      " 57%|█████▋    | 56502/100001 [2:09:10<1:20:29,  9.01it/s]"
     ]
    },
    {
     "name": "stdout",
     "output_type": "stream",
     "text": [
      "GAN: loss d: 5.79547    loss g: -2.10595\n"
     ]
    },
    {
     "name": "stderr",
     "output_type": "stream",
     "text": [
      " 57%|█████▋    | 56602/100001 [2:09:21<1:25:20,  8.48it/s]"
     ]
    },
    {
     "name": "stdout",
     "output_type": "stream",
     "text": [
      "GAN: loss d: 3.40700    loss g: -1.57177\n"
     ]
    },
    {
     "name": "stderr",
     "output_type": "stream",
     "text": [
      " 57%|█████▋    | 56702/100001 [2:09:33<1:29:12,  8.09it/s]"
     ]
    },
    {
     "name": "stdout",
     "output_type": "stream",
     "text": [
      "GAN: loss d: 3.73093    loss g: -1.66621\n"
     ]
    },
    {
     "name": "stderr",
     "output_type": "stream",
     "text": [
      " 57%|█████▋    | 56802/100001 [2:09:44<1:20:06,  8.99it/s]"
     ]
    },
    {
     "name": "stdout",
     "output_type": "stream",
     "text": [
      "GAN: loss d: 4.31076    loss g: -2.48863\n"
     ]
    },
    {
     "name": "stderr",
     "output_type": "stream",
     "text": [
      " 57%|█████▋    | 56902/100001 [2:09:55<1:20:15,  8.95it/s]"
     ]
    },
    {
     "name": "stdout",
     "output_type": "stream",
     "text": [
      "GAN: loss d: 4.34386    loss g: -1.93621\n"
     ]
    },
    {
     "name": "stderr",
     "output_type": "stream",
     "text": [
      " 57%|█████▋    | 57000/100001 [2:10:06<1:23:47,  8.55it/s]"
     ]
    },
    {
     "name": "stdout",
     "output_type": "stream",
     "text": [
      "GAN: loss d: 4.76587    loss g: -2.61462\n",
      "saving current model\n"
     ]
    },
    {
     "name": "stderr",
     "output_type": "stream",
     "text": [
      "\n",
      "  0%|          | 0/175 [00:00<?, ?it/s]\u001b[A"
     ]
    },
    {
     "name": "stdout",
     "output_type": "stream",
     "text": [
      "Number of real images: 5626\n"
     ]
    },
    {
     "name": "stderr",
     "output_type": "stream",
     "text": [
      "\n",
      "\n",
      "  0%|          | 0/15 [00:00<?, ?it/s]\u001b[A\u001b[A"
     ]
    },
    {
     "name": "stdout",
     "output_type": "stream",
     "text": [
      "Number of synthetic images: 500\n"
     ]
    },
    {
     "name": "stderr",
     "output_type": "stream",
     "text": [
      " 57%|█████▋    | 57002/100001 [2:10:29<57:58:17,  4.85s/it]"
     ]
    },
    {
     "name": "stdout",
     "output_type": "stream",
     "text": [
      "Current fid score: 1.106999851042218\n",
      "Fid scores: [5.359689818244959, 2.479945282201154, 4.276308166260009, 2.7291028486932554, 2.7908292593055535, 2.3554975684525594, 2.6142447727283162, 2.1934954575945866, 2.3990477193970783, 2.221711896216327, 2.3744210742787253, 2.066927836690496, 2.3716458827445166, 1.9648397602519267, 1.6998954497984542, 2.319731846121897, 1.7800607345901547, 1.4056094758332023, 1.1810571313010847, 1.443624370521686, 1.5078741613768791, 1.173364418143919, 1.2011170423314468, 1.0761087412681398, 1.2172281204321251, 1.000626947334709, 1.737750054809478, 2.0593230539007124, 2.160112364724526, 2.195316465388501, 2.2950768584747436, 2.5124235574475904, 2.475506166692888, 3.0757913554101854, 3.3013338688781992, 3.1298115638580413, 3.361620915033507, 2.3989658516000354, 1.4239996589152213, 1.3841070462580056, 0.8761920713293598, 0.8968581288108979, 0.9323025916764394, 1.2795383980460215, 1.1923953719678337, 1.4775258450924582, 1.2243412993235836, 1.3496958747738148, 1.546939973799251, 1.040973777795589, 1.0413172729060634, 1.0205480305498185, 1.3183341694682618, 0.8797026053507153, 0.8567828803491899, 1.0769886742341122, 0.8730820062121616, 1.106999851042218]\n"
     ]
    },
    {
     "name": "stderr",
     "output_type": "stream",
     "text": [
      "  0%|          | 0/175 [00:10<?, ?it/s]8:01:22,  1.49it/s] \n",
      "  0%|          | 0/15 [00:01<?, ?it/s]\n",
      " 57%|█████▋    | 57102/100001 [2:10:41<1:22:49,  8.63it/s]"
     ]
    },
    {
     "name": "stdout",
     "output_type": "stream",
     "text": [
      "GAN: loss d: 3.53363    loss g: -2.44245\n"
     ]
    },
    {
     "name": "stderr",
     "output_type": "stream",
     "text": [
      " 57%|█████▋    | 57202/100001 [2:10:52<1:19:40,  8.95it/s]"
     ]
    },
    {
     "name": "stdout",
     "output_type": "stream",
     "text": [
      "GAN: loss d: 1.20950    loss g: -4.09067\n"
     ]
    },
    {
     "name": "stderr",
     "output_type": "stream",
     "text": [
      " 57%|█████▋    | 57302/100001 [2:11:03<1:21:17,  8.75it/s]"
     ]
    },
    {
     "name": "stdout",
     "output_type": "stream",
     "text": [
      "GAN: loss d: 1.86844    loss g: -2.65269\n"
     ]
    },
    {
     "name": "stderr",
     "output_type": "stream",
     "text": [
      " 57%|█████▋    | 57402/100001 [2:11:15<1:24:34,  8.39it/s]"
     ]
    },
    {
     "name": "stdout",
     "output_type": "stream",
     "text": [
      "GAN: loss d: 4.06335    loss g: -2.91808\n"
     ]
    },
    {
     "name": "stderr",
     "output_type": "stream",
     "text": [
      " 58%|█████▊    | 57502/100001 [2:11:26<1:22:41,  8.57it/s]"
     ]
    },
    {
     "name": "stdout",
     "output_type": "stream",
     "text": [
      "GAN: loss d: 0.86378    loss g: -2.24177\n"
     ]
    },
    {
     "name": "stderr",
     "output_type": "stream",
     "text": [
      " 58%|█████▊    | 57602/100001 [2:11:38<1:21:06,  8.71it/s]"
     ]
    },
    {
     "name": "stdout",
     "output_type": "stream",
     "text": [
      "GAN: loss d: 0.73283    loss g: -1.30866\n"
     ]
    },
    {
     "name": "stderr",
     "output_type": "stream",
     "text": [
      " 58%|█████▊    | 57702/100001 [2:11:49<1:20:38,  8.74it/s]"
     ]
    },
    {
     "name": "stdout",
     "output_type": "stream",
     "text": [
      "GAN: loss d: 3.86589    loss g: -3.68324\n"
     ]
    },
    {
     "name": "stderr",
     "output_type": "stream",
     "text": [
      " 58%|█████▊    | 57802/100001 [2:12:01<1:19:57,  8.80it/s]"
     ]
    },
    {
     "name": "stdout",
     "output_type": "stream",
     "text": [
      "GAN: loss d: 3.62385    loss g: -1.93783\n"
     ]
    },
    {
     "name": "stderr",
     "output_type": "stream",
     "text": [
      " 58%|█████▊    | 57902/100001 [2:12:12<1:19:15,  8.85it/s]"
     ]
    },
    {
     "name": "stdout",
     "output_type": "stream",
     "text": [
      "GAN: loss d: 5.58019    loss g: -1.64798\n"
     ]
    },
    {
     "name": "stderr",
     "output_type": "stream",
     "text": [
      " 58%|█████▊    | 58000/100001 [2:12:23<1:18:46,  8.89it/s]"
     ]
    },
    {
     "name": "stdout",
     "output_type": "stream",
     "text": [
      "GAN: loss d: 1.81539    loss g: -3.15050\n",
      "saving current model\n"
     ]
    },
    {
     "name": "stderr",
     "output_type": "stream",
     "text": [
      "\n",
      "  0%|          | 0/175 [00:00<?, ?it/s]\u001b[A"
     ]
    },
    {
     "name": "stdout",
     "output_type": "stream",
     "text": [
      "Number of real images: 5626\n"
     ]
    },
    {
     "name": "stderr",
     "output_type": "stream",
     "text": [
      "\n",
      "\n",
      "  0%|          | 0/15 [00:00<?, ?it/s]\u001b[A\u001b[A"
     ]
    },
    {
     "name": "stdout",
     "output_type": "stream",
     "text": [
      "Number of synthetic images: 500\n"
     ]
    },
    {
     "name": "stderr",
     "output_type": "stream",
     "text": [
      " 58%|█████▊    | 58002/100001 [2:12:46<56:30:33,  4.84s/it]"
     ]
    },
    {
     "name": "stdout",
     "output_type": "stream",
     "text": [
      "Current fid score: 1.1093197035925257\n",
      "Fid scores: [5.359689818244959, 2.479945282201154, 4.276308166260009, 2.7291028486932554, 2.7908292593055535, 2.3554975684525594, 2.6142447727283162, 2.1934954575945866, 2.3990477193970783, 2.221711896216327, 2.3744210742787253, 2.066927836690496, 2.3716458827445166, 1.9648397602519267, 1.6998954497984542, 2.319731846121897, 1.7800607345901547, 1.4056094758332023, 1.1810571313010847, 1.443624370521686, 1.5078741613768791, 1.173364418143919, 1.2011170423314468, 1.0761087412681398, 1.2172281204321251, 1.000626947334709, 1.737750054809478, 2.0593230539007124, 2.160112364724526, 2.195316465388501, 2.2950768584747436, 2.5124235574475904, 2.475506166692888, 3.0757913554101854, 3.3013338688781992, 3.1298115638580413, 3.361620915033507, 2.3989658516000354, 1.4239996589152213, 1.3841070462580056, 0.8761920713293598, 0.8968581288108979, 0.9323025916764394, 1.2795383980460215, 1.1923953719678337, 1.4775258450924582, 1.2243412993235836, 1.3496958747738148, 1.546939973799251, 1.040973777795589, 1.0413172729060634, 1.0205480305498185, 1.3183341694682618, 0.8797026053507153, 0.8567828803491899, 1.0769886742341122, 0.8730820062121616, 1.106999851042218, 1.1093197035925257]\n"
     ]
    },
    {
     "name": "stderr",
     "output_type": "stream",
     "text": [
      "  0%|          | 0/175 [00:11<?, ?it/s]2:26:20,  4.78it/s] \n",
      "  0%|          | 0/15 [00:02<?, ?it/s]\n",
      " 58%|█████▊    | 58102/100001 [2:12:57<1:20:46,  8.65it/s]"
     ]
    },
    {
     "name": "stdout",
     "output_type": "stream",
     "text": [
      "GAN: loss d: 4.80811    loss g: -3.45519\n"
     ]
    },
    {
     "name": "stderr",
     "output_type": "stream",
     "text": [
      " 58%|█████▊    | 58202/100001 [2:13:09<1:19:05,  8.81it/s]"
     ]
    },
    {
     "name": "stdout",
     "output_type": "stream",
     "text": [
      "GAN: loss d: 3.51144    loss g: -1.55467\n"
     ]
    },
    {
     "name": "stderr",
     "output_type": "stream",
     "text": [
      " 58%|█████▊    | 58301/100001 [2:13:20<1:19:25,  8.75it/s]"
     ]
    },
    {
     "name": "stdout",
     "output_type": "stream",
     "text": [
      "GAN: loss d: 3.25391    loss g: -1.43502\n"
     ]
    },
    {
     "name": "stderr",
     "output_type": "stream",
     "text": [
      " 58%|█████▊    | 58402/100001 [2:13:31<1:21:18,  8.53it/s]"
     ]
    },
    {
     "name": "stdout",
     "output_type": "stream",
     "text": [
      "GAN: loss d: 3.05626    loss g: -1.90466\n"
     ]
    },
    {
     "name": "stderr",
     "output_type": "stream",
     "text": [
      " 59%|█████▊    | 58502/100001 [2:13:43<1:18:15,  8.84it/s]"
     ]
    },
    {
     "name": "stdout",
     "output_type": "stream",
     "text": [
      "GAN: loss d: 2.93402    loss g: -2.26533\n"
     ]
    },
    {
     "name": "stderr",
     "output_type": "stream",
     "text": [
      " 59%|█████▊    | 58602/100001 [2:13:54<1:18:35,  8.78it/s]"
     ]
    },
    {
     "name": "stdout",
     "output_type": "stream",
     "text": [
      "GAN: loss d: 4.43210    loss g: -2.22853\n"
     ]
    },
    {
     "name": "stderr",
     "output_type": "stream",
     "text": [
      " 59%|█████▊    | 58702/100001 [2:14:06<1:16:51,  8.96it/s]"
     ]
    },
    {
     "name": "stdout",
     "output_type": "stream",
     "text": [
      "GAN: loss d: 2.89597    loss g: -2.50010\n"
     ]
    },
    {
     "name": "stderr",
     "output_type": "stream",
     "text": [
      " 59%|█████▉    | 58802/100001 [2:14:17<1:19:11,  8.67it/s]"
     ]
    },
    {
     "name": "stdout",
     "output_type": "stream",
     "text": [
      "GAN: loss d: 2.02096    loss g: -2.59834\n"
     ]
    },
    {
     "name": "stderr",
     "output_type": "stream",
     "text": [
      " 59%|█████▉    | 58902/100001 [2:14:28<1:17:55,  8.79it/s]"
     ]
    },
    {
     "name": "stdout",
     "output_type": "stream",
     "text": [
      "GAN: loss d: 2.91938    loss g: -2.60964\n"
     ]
    },
    {
     "name": "stderr",
     "output_type": "stream",
     "text": [
      " 59%|█████▉    | 59000/100001 [2:14:39<1:17:05,  8.86it/s]"
     ]
    },
    {
     "name": "stdout",
     "output_type": "stream",
     "text": [
      "GAN: loss d: 4.16729    loss g: -2.86292\n",
      "saving current model\n"
     ]
    },
    {
     "name": "stderr",
     "output_type": "stream",
     "text": [
      "\n",
      "  0%|          | 0/175 [00:00<?, ?it/s]\u001b[A"
     ]
    },
    {
     "name": "stdout",
     "output_type": "stream",
     "text": [
      "Number of real images: 5626\n"
     ]
    },
    {
     "name": "stderr",
     "output_type": "stream",
     "text": [
      "\n",
      "\n",
      "  0%|          | 0/15 [00:00<?, ?it/s]\u001b[A\u001b[A"
     ]
    },
    {
     "name": "stdout",
     "output_type": "stream",
     "text": [
      "Number of synthetic images: 500\n"
     ]
    },
    {
     "name": "stderr",
     "output_type": "stream",
     "text": [
      "  0%|          | 0/175 [00:09<?, ?it/s]\n",
      "  0%|          | 0/15 [00:00<?, ?it/s]"
     ]
    },
    {
     "name": "stdout",
     "output_type": "stream",
     "text": [
      "Current fid score: 0.743205909564626\n",
      "Fid scores: [5.359689818244959, 2.479945282201154, 4.276308166260009, 2.7291028486932554, 2.7908292593055535, 2.3554975684525594, 2.6142447727283162, 2.1934954575945866, 2.3990477193970783, 2.221711896216327, 2.3744210742787253, 2.066927836690496, 2.3716458827445166, 1.9648397602519267, 1.6998954497984542, 2.319731846121897, 1.7800607345901547, 1.4056094758332023, 1.1810571313010847, 1.443624370521686, 1.5078741613768791, 1.173364418143919, 1.2011170423314468, 1.0761087412681398, 1.2172281204321251, 1.000626947334709, 1.737750054809478, 2.0593230539007124, 2.160112364724526, 2.195316465388501, 2.2950768584747436, 2.5124235574475904, 2.475506166692888, 3.0757913554101854, 3.3013338688781992, 3.1298115638580413, 3.361620915033507, 2.3989658516000354, 1.4239996589152213, 1.3841070462580056, 0.8761920713293598, 0.8968581288108979, 0.9323025916764394, 1.2795383980460215, 1.1923953719678337, 1.4775258450924582, 1.2243412993235836, 1.3496958747738148, 1.546939973799251, 1.040973777795589, 1.0413172729060634, 1.0205480305498185, 1.3183341694682618, 0.8797026053507153, 0.8567828803491899, 1.0769886742341122, 0.8730820062121616, 1.106999851042218, 1.1093197035925257, 0.743205909564626]\n",
      "New min fid score: 0.743205909565\n",
      "Saving best model\n"
     ]
    },
    {
     "name": "stderr",
     "output_type": "stream",
     "text": [
      "\n",
      " 59%|█████▉    | 59101/100001 [2:15:17<1:19:16,  8.60it/s] "
     ]
    },
    {
     "name": "stdout",
     "output_type": "stream",
     "text": [
      "GAN: loss d: 3.07958    loss g: -1.94931\n"
     ]
    },
    {
     "name": "stderr",
     "output_type": "stream",
     "text": [
      " 59%|█████▉    | 59201/100001 [2:15:28<1:20:48,  8.42it/s]"
     ]
    },
    {
     "name": "stdout",
     "output_type": "stream",
     "text": [
      "GAN: loss d: 1.24668    loss g: -2.44302\n"
     ]
    },
    {
     "name": "stderr",
     "output_type": "stream",
     "text": [
      " 59%|█████▉    | 59302/100001 [2:15:40<1:16:15,  8.90it/s]"
     ]
    },
    {
     "name": "stdout",
     "output_type": "stream",
     "text": [
      "GAN: loss d: 3.67474    loss g: -3.05848\n"
     ]
    },
    {
     "name": "stderr",
     "output_type": "stream",
     "text": [
      " 59%|█████▉    | 59401/100001 [2:15:51<1:18:36,  8.61it/s]"
     ]
    },
    {
     "name": "stdout",
     "output_type": "stream",
     "text": [
      "GAN: loss d: 2.10019    loss g: -3.06489\n"
     ]
    },
    {
     "name": "stderr",
     "output_type": "stream",
     "text": [
      " 60%|█████▉    | 59502/100001 [2:16:02<1:18:10,  8.63it/s]"
     ]
    },
    {
     "name": "stdout",
     "output_type": "stream",
     "text": [
      "GAN: loss d: 3.35027    loss g: -2.29202\n"
     ]
    },
    {
     "name": "stderr",
     "output_type": "stream",
     "text": [
      " 60%|█████▉    | 59602/100001 [2:16:14<1:15:41,  8.89it/s]"
     ]
    },
    {
     "name": "stdout",
     "output_type": "stream",
     "text": [
      "GAN: loss d: 2.72944    loss g: -2.75526\n"
     ]
    },
    {
     "name": "stderr",
     "output_type": "stream",
     "text": [
      " 60%|█████▉    | 59702/100001 [2:16:25<1:17:34,  8.66it/s]"
     ]
    },
    {
     "name": "stdout",
     "output_type": "stream",
     "text": [
      "GAN: loss d: 4.39577    loss g: -2.83714\n"
     ]
    },
    {
     "name": "stderr",
     "output_type": "stream",
     "text": [
      " 60%|█████▉    | 59802/100001 [2:16:36<1:15:37,  8.86it/s]"
     ]
    },
    {
     "name": "stdout",
     "output_type": "stream",
     "text": [
      "GAN: loss d: 4.83045    loss g: -1.96085\n"
     ]
    },
    {
     "name": "stderr",
     "output_type": "stream",
     "text": [
      " 60%|█████▉    | 59902/100001 [2:16:48<1:15:53,  8.81it/s]"
     ]
    },
    {
     "name": "stdout",
     "output_type": "stream",
     "text": [
      "GAN: loss d: 3.39967    loss g: -2.77245\n"
     ]
    },
    {
     "name": "stderr",
     "output_type": "stream",
     "text": [
      " 60%|█████▉    | 60000/100001 [2:16:59<1:16:05,  8.76it/s]"
     ]
    },
    {
     "name": "stdout",
     "output_type": "stream",
     "text": [
      "GAN: loss d: 3.05750    loss g: -2.76107\n",
      "saving current model\n"
     ]
    },
    {
     "name": "stderr",
     "output_type": "stream",
     "text": [
      "\n",
      "  0%|          | 0/175 [00:00<?, ?it/s]\u001b[A"
     ]
    },
    {
     "name": "stdout",
     "output_type": "stream",
     "text": [
      "Number of real images: 5626\n"
     ]
    },
    {
     "name": "stderr",
     "output_type": "stream",
     "text": [
      "\n",
      "\n",
      "  0%|          | 0/15 [00:00<?, ?it/s]\u001b[A\u001b[A"
     ]
    },
    {
     "name": "stdout",
     "output_type": "stream",
     "text": [
      "Number of synthetic images: 500\n"
     ]
    },
    {
     "name": "stderr",
     "output_type": "stream",
     "text": [
      " 60%|██████    | 60002/100001 [2:17:22<55:36:28,  5.00s/it]"
     ]
    },
    {
     "name": "stdout",
     "output_type": "stream",
     "text": [
      "Current fid score: 1.041048778987438\n",
      "Fid scores: [5.359689818244959, 2.479945282201154, 4.276308166260009, 2.7291028486932554, 2.7908292593055535, 2.3554975684525594, 2.6142447727283162, 2.1934954575945866, 2.3990477193970783, 2.221711896216327, 2.3744210742787253, 2.066927836690496, 2.3716458827445166, 1.9648397602519267, 1.6998954497984542, 2.319731846121897, 1.7800607345901547, 1.4056094758332023, 1.1810571313010847, 1.443624370521686, 1.5078741613768791, 1.173364418143919, 1.2011170423314468, 1.0761087412681398, 1.2172281204321251, 1.000626947334709, 1.737750054809478, 2.0593230539007124, 2.160112364724526, 2.195316465388501, 2.2950768584747436, 2.5124235574475904, 2.475506166692888, 3.0757913554101854, 3.3013338688781992, 3.1298115638580413, 3.361620915033507, 2.3989658516000354, 1.4239996589152213, 1.3841070462580056, 0.8761920713293598, 0.8968581288108979, 0.9323025916764394, 1.2795383980460215, 1.1923953719678337, 1.4775258450924582, 1.2243412993235836, 1.3496958747738148, 1.546939973799251, 1.040973777795589, 1.0413172729060634, 1.0205480305498185, 1.3183341694682618, 0.8797026053507153, 0.8567828803491899, 1.0769886742341122, 0.8730820062121616, 1.106999851042218, 1.1093197035925257, 0.743205909564626, 1.041048778987438]\n"
     ]
    },
    {
     "name": "stderr",
     "output_type": "stream",
     "text": [
      "  0%|          | 0/175 [00:14<?, ?it/s]1:15:06,  8.87it/s] \n",
      "  0%|          | 0/15 [00:06<?, ?it/s]\n",
      " 60%|██████    | 60101/100001 [2:17:33<1:19:26,  8.37it/s]"
     ]
    },
    {
     "name": "stdout",
     "output_type": "stream",
     "text": [
      "GAN: loss d: 3.10347    loss g: -2.26469\n"
     ]
    },
    {
     "name": "stderr",
     "output_type": "stream",
     "text": [
      " 60%|██████    | 60202/100001 [2:17:45<1:15:01,  8.84it/s]"
     ]
    },
    {
     "name": "stdout",
     "output_type": "stream",
     "text": [
      "GAN: loss d: 5.18807    loss g: -2.61816\n"
     ]
    },
    {
     "name": "stderr",
     "output_type": "stream",
     "text": [
      " 60%|██████    | 60302/100001 [2:17:56<1:13:47,  8.97it/s]"
     ]
    },
    {
     "name": "stdout",
     "output_type": "stream",
     "text": [
      "GAN: loss d: -1.34935    loss g: -2.25445\n"
     ]
    },
    {
     "name": "stderr",
     "output_type": "stream",
     "text": [
      " 60%|██████    | 60402/100001 [2:18:08<1:15:47,  8.71it/s]"
     ]
    },
    {
     "name": "stdout",
     "output_type": "stream",
     "text": [
      "GAN: loss d: 3.60800    loss g: -2.29711\n"
     ]
    },
    {
     "name": "stderr",
     "output_type": "stream",
     "text": [
      " 61%|██████    | 60501/100001 [2:18:19<1:17:19,  8.51it/s]"
     ]
    },
    {
     "name": "stdout",
     "output_type": "stream",
     "text": [
      "GAN: loss d: 3.65066    loss g: -3.21655\n"
     ]
    },
    {
     "name": "stderr",
     "output_type": "stream",
     "text": [
      " 61%|██████    | 60602/100001 [2:18:30<1:16:41,  8.56it/s]"
     ]
    },
    {
     "name": "stdout",
     "output_type": "stream",
     "text": [
      "GAN: loss d: 2.93131    loss g: -2.78786\n"
     ]
    },
    {
     "name": "stderr",
     "output_type": "stream",
     "text": [
      " 61%|██████    | 60702/100001 [2:18:42<1:19:11,  8.27it/s]"
     ]
    },
    {
     "name": "stdout",
     "output_type": "stream",
     "text": [
      "GAN: loss d: -0.12691    loss g: -2.32962\n"
     ]
    },
    {
     "name": "stderr",
     "output_type": "stream",
     "text": [
      " 61%|██████    | 60802/100001 [2:18:53<1:13:10,  8.93it/s]"
     ]
    },
    {
     "name": "stdout",
     "output_type": "stream",
     "text": [
      "GAN: loss d: 2.37647    loss g: -2.26972\n"
     ]
    },
    {
     "name": "stderr",
     "output_type": "stream",
     "text": [
      " 61%|██████    | 60902/100001 [2:19:05<1:13:04,  8.92it/s]"
     ]
    },
    {
     "name": "stdout",
     "output_type": "stream",
     "text": [
      "GAN: loss d: 3.47637    loss g: -1.58963\n"
     ]
    },
    {
     "name": "stderr",
     "output_type": "stream",
     "text": [
      " 61%|██████    | 61000/100001 [2:19:16<1:14:40,  8.70it/s]"
     ]
    },
    {
     "name": "stdout",
     "output_type": "stream",
     "text": [
      "GAN: loss d: 3.15223    loss g: -1.65572\n",
      "saving current model\n"
     ]
    },
    {
     "name": "stderr",
     "output_type": "stream",
     "text": [
      "\n",
      "  0%|          | 0/175 [00:00<?, ?it/s]\u001b[A"
     ]
    },
    {
     "name": "stdout",
     "output_type": "stream",
     "text": [
      "Number of real images: 5626\n"
     ]
    },
    {
     "name": "stderr",
     "output_type": "stream",
     "text": [
      "\n",
      "\n",
      "  0%|          | 0/15 [00:00<?, ?it/s]\u001b[A\u001b[A"
     ]
    },
    {
     "name": "stdout",
     "output_type": "stream",
     "text": [
      "Number of synthetic images: 500\n"
     ]
    },
    {
     "name": "stderr",
     "output_type": "stream",
     "text": [
      " 61%|██████    | 61002/100001 [2:19:38<51:30:16,  4.75s/it]"
     ]
    },
    {
     "name": "stdout",
     "output_type": "stream",
     "text": [
      "Current fid score: 0.8566777191451536\n",
      "Fid scores: [5.359689818244959, 2.479945282201154, 4.276308166260009, 2.7291028486932554, 2.7908292593055535, 2.3554975684525594, 2.6142447727283162, 2.1934954575945866, 2.3990477193970783, 2.221711896216327, 2.3744210742787253, 2.066927836690496, 2.3716458827445166, 1.9648397602519267, 1.6998954497984542, 2.319731846121897, 1.7800607345901547, 1.4056094758332023, 1.1810571313010847, 1.443624370521686, 1.5078741613768791, 1.173364418143919, 1.2011170423314468, 1.0761087412681398, 1.2172281204321251, 1.000626947334709, 1.737750054809478, 2.0593230539007124, 2.160112364724526, 2.195316465388501, 2.2950768584747436, 2.5124235574475904, 2.475506166692888, 3.0757913554101854, 3.3013338688781992, 3.1298115638580413, 3.361620915033507, 2.3989658516000354, 1.4239996589152213, 1.3841070462580056, 0.8761920713293598, 0.8968581288108979, 0.9323025916764394, 1.2795383980460215, 1.1923953719678337, 1.4775258450924582, 1.2243412993235836, 1.3496958747738148, 1.546939973799251, 1.040973777795589, 1.0413172729060634, 1.0205480305498185, 1.3183341694682618, 0.8797026053507153, 0.8567828803491899, 1.0769886742341122, 0.8730820062121616, 1.106999851042218, 1.1093197035925257, 0.743205909564626, 1.041048778987438, 0.8566777191451536]\n"
     ]
    },
    {
     "name": "stderr",
     "output_type": "stream",
     "text": [
      "  0%|          | 0/175 [00:11<?, ?it/s]3:16:29,  3.31it/s] \n",
      "  0%|          | 0/15 [00:02<?, ?it/s]\n",
      " 61%|██████    | 61102/100001 [2:19:50<1:13:24,  8.83it/s]"
     ]
    },
    {
     "name": "stdout",
     "output_type": "stream",
     "text": [
      "GAN: loss d: 2.58055    loss g: -1.79901\n"
     ]
    },
    {
     "name": "stderr",
     "output_type": "stream",
     "text": [
      " 61%|██████    | 61202/100001 [2:20:01<1:14:03,  8.73it/s]"
     ]
    },
    {
     "name": "stdout",
     "output_type": "stream",
     "text": [
      "GAN: loss d: 4.51862    loss g: -2.72798\n"
     ]
    },
    {
     "name": "stderr",
     "output_type": "stream",
     "text": [
      " 61%|██████▏   | 61302/100001 [2:20:12<1:12:26,  8.90it/s]"
     ]
    },
    {
     "name": "stdout",
     "output_type": "stream",
     "text": [
      "GAN: loss d: 4.37351    loss g: -2.37781\n"
     ]
    },
    {
     "name": "stderr",
     "output_type": "stream",
     "text": [
      " 61%|██████▏   | 61402/100001 [2:20:24<1:17:56,  8.25it/s]"
     ]
    },
    {
     "name": "stdout",
     "output_type": "stream",
     "text": [
      "GAN: loss d: 3.36052    loss g: -1.01450\n"
     ]
    },
    {
     "name": "stderr",
     "output_type": "stream",
     "text": [
      " 62%|██████▏   | 61502/100001 [2:20:35<1:15:43,  8.47it/s]"
     ]
    },
    {
     "name": "stdout",
     "output_type": "stream",
     "text": [
      "GAN: loss d: 3.74535    loss g: -2.36209\n"
     ]
    },
    {
     "name": "stderr",
     "output_type": "stream",
     "text": [
      " 62%|██████▏   | 61602/100001 [2:20:47<1:14:34,  8.58it/s]"
     ]
    },
    {
     "name": "stdout",
     "output_type": "stream",
     "text": [
      "GAN: loss d: 1.36174    loss g: -2.21730\n"
     ]
    },
    {
     "name": "stderr",
     "output_type": "stream",
     "text": [
      " 62%|██████▏   | 61702/100001 [2:20:58<1:11:32,  8.92it/s]"
     ]
    },
    {
     "name": "stdout",
     "output_type": "stream",
     "text": [
      "GAN: loss d: 1.24823    loss g: -2.89600\n"
     ]
    },
    {
     "name": "stderr",
     "output_type": "stream",
     "text": [
      " 62%|██████▏   | 61802/100001 [2:21:09<1:11:13,  8.94it/s]"
     ]
    },
    {
     "name": "stdout",
     "output_type": "stream",
     "text": [
      "GAN: loss d: 2.83222    loss g: -1.61859\n"
     ]
    },
    {
     "name": "stderr",
     "output_type": "stream",
     "text": [
      " 62%|██████▏   | 61902/100001 [2:21:21<1:10:55,  8.95it/s]"
     ]
    },
    {
     "name": "stdout",
     "output_type": "stream",
     "text": [
      "GAN: loss d: 3.88439    loss g: -2.21886\n"
     ]
    },
    {
     "name": "stderr",
     "output_type": "stream",
     "text": [
      " 62%|██████▏   | 62000/100001 [2:21:32<1:10:14,  9.02it/s]"
     ]
    },
    {
     "name": "stdout",
     "output_type": "stream",
     "text": [
      "GAN: loss d: 0.52331    loss g: -2.85577\n",
      "saving current model\n"
     ]
    },
    {
     "name": "stderr",
     "output_type": "stream",
     "text": [
      "\n",
      "  0%|          | 0/175 [00:00<?, ?it/s]\u001b[A"
     ]
    },
    {
     "name": "stdout",
     "output_type": "stream",
     "text": [
      "Number of real images: 5626\n"
     ]
    },
    {
     "name": "stderr",
     "output_type": "stream",
     "text": [
      "\n",
      "\n",
      "  0%|          | 0/15 [00:00<?, ?it/s]\u001b[A\u001b[A"
     ]
    },
    {
     "name": "stdout",
     "output_type": "stream",
     "text": [
      "Number of synthetic images: 500\n"
     ]
    },
    {
     "name": "stderr",
     "output_type": "stream",
     "text": [
      " 62%|██████▏   | 62002/100001 [2:21:55<51:25:10,  4.87s/it]"
     ]
    },
    {
     "name": "stdout",
     "output_type": "stream",
     "text": [
      "Current fid score: 0.9813225837970734\n",
      "Fid scores: [5.359689818244959, 2.479945282201154, 4.276308166260009, 2.7291028486932554, 2.7908292593055535, 2.3554975684525594, 2.6142447727283162, 2.1934954575945866, 2.3990477193970783, 2.221711896216327, 2.3744210742787253, 2.066927836690496, 2.3716458827445166, 1.9648397602519267, 1.6998954497984542, 2.319731846121897, 1.7800607345901547, 1.4056094758332023, 1.1810571313010847, 1.443624370521686, 1.5078741613768791, 1.173364418143919, 1.2011170423314468, 1.0761087412681398, 1.2172281204321251, 1.000626947334709, 1.737750054809478, 2.0593230539007124, 2.160112364724526, 2.195316465388501, 2.2950768584747436, 2.5124235574475904, 2.475506166692888, 3.0757913554101854, 3.3013338688781992, 3.1298115638580413, 3.361620915033507, 2.3989658516000354, 1.4239996589152213, 1.3841070462580056, 0.8761920713293598, 0.8968581288108979, 0.9323025916764394, 1.2795383980460215, 1.1923953719678337, 1.4775258450924582, 1.2243412993235836, 1.3496958747738148, 1.546939973799251, 1.040973777795589, 1.0413172729060634, 1.0205480305498185, 1.3183341694682618, 0.8797026053507153, 0.8567828803491899, 1.0769886742341122, 0.8730820062121616, 1.106999851042218, 1.1093197035925257, 0.743205909564626, 1.041048778987438, 0.8566777191451536, 0.9813225837970734]\n"
     ]
    },
    {
     "name": "stderr",
     "output_type": "stream",
     "text": [
      "  0%|          | 0/175 [00:19<?, ?it/s]1:11:44,  8.81it/s] \n",
      "  0%|          | 0/15 [00:10<?, ?it/s]\n",
      " 62%|██████▏   | 62102/100001 [2:22:06<1:12:33,  8.71it/s]"
     ]
    },
    {
     "name": "stdout",
     "output_type": "stream",
     "text": [
      "GAN: loss d: 2.39775    loss g: -3.08703\n"
     ]
    },
    {
     "name": "stderr",
     "output_type": "stream",
     "text": [
      " 62%|██████▏   | 62202/100001 [2:22:17<1:13:04,  8.62it/s]"
     ]
    },
    {
     "name": "stdout",
     "output_type": "stream",
     "text": [
      "GAN: loss d: 2.90340    loss g: -3.04810\n"
     ]
    },
    {
     "name": "stderr",
     "output_type": "stream",
     "text": [
      " 62%|██████▏   | 62302/100001 [2:22:29<1:10:08,  8.96it/s]"
     ]
    },
    {
     "name": "stdout",
     "output_type": "stream",
     "text": [
      "GAN: loss d: 5.21646    loss g: -2.37567\n"
     ]
    },
    {
     "name": "stderr",
     "output_type": "stream",
     "text": [
      " 62%|██████▏   | 62402/100001 [2:22:40<1:11:12,  8.80it/s]"
     ]
    },
    {
     "name": "stdout",
     "output_type": "stream",
     "text": [
      "GAN: loss d: 1.54729    loss g: -2.12697\n"
     ]
    },
    {
     "name": "stderr",
     "output_type": "stream",
     "text": [
      " 63%|██████▎   | 62502/100001 [2:22:52<1:10:32,  8.86it/s]"
     ]
    },
    {
     "name": "stdout",
     "output_type": "stream",
     "text": [
      "GAN: loss d: 1.35150    loss g: -2.35250\n"
     ]
    },
    {
     "name": "stderr",
     "output_type": "stream",
     "text": [
      " 63%|██████▎   | 62602/100001 [2:23:03<1:12:48,  8.56it/s]"
     ]
    },
    {
     "name": "stdout",
     "output_type": "stream",
     "text": [
      "GAN: loss d: 4.05927    loss g: -2.09998\n"
     ]
    },
    {
     "name": "stderr",
     "output_type": "stream",
     "text": [
      " 63%|██████▎   | 62702/100001 [2:23:14<1:15:31,  8.23it/s]"
     ]
    },
    {
     "name": "stdout",
     "output_type": "stream",
     "text": [
      "GAN: loss d: 0.01896    loss g: -2.61945\n"
     ]
    },
    {
     "name": "stderr",
     "output_type": "stream",
     "text": [
      " 63%|██████▎   | 62802/100001 [2:23:26<1:10:15,  8.82it/s]"
     ]
    },
    {
     "name": "stdout",
     "output_type": "stream",
     "text": [
      "GAN: loss d: 1.68376    loss g: -2.78988\n"
     ]
    },
    {
     "name": "stderr",
     "output_type": "stream",
     "text": [
      " 63%|██████▎   | 62902/100001 [2:23:37<1:09:05,  8.95it/s]"
     ]
    },
    {
     "name": "stdout",
     "output_type": "stream",
     "text": [
      "GAN: loss d: 4.35366    loss g: -2.39513\n"
     ]
    },
    {
     "name": "stderr",
     "output_type": "stream",
     "text": [
      " 63%|██████▎   | 63000/100001 [2:23:48<1:11:07,  8.67it/s]"
     ]
    },
    {
     "name": "stdout",
     "output_type": "stream",
     "text": [
      "GAN: loss d: 3.11555    loss g: -2.55352\n",
      "saving current model\n"
     ]
    },
    {
     "name": "stderr",
     "output_type": "stream",
     "text": [
      "\n",
      "  0%|          | 0/175 [00:00<?, ?it/s]\u001b[A"
     ]
    },
    {
     "name": "stdout",
     "output_type": "stream",
     "text": [
      "Number of real images: 5626\n"
     ]
    },
    {
     "name": "stderr",
     "output_type": "stream",
     "text": [
      "\n",
      "\n",
      "  0%|          | 0/15 [00:00<?, ?it/s]\u001b[A\u001b[A"
     ]
    },
    {
     "name": "stdout",
     "output_type": "stream",
     "text": [
      "Number of synthetic images: 500\n"
     ]
    },
    {
     "name": "stderr",
     "output_type": "stream",
     "text": [
      " 63%|██████▎   | 63002/100001 [2:24:11<50:09:12,  4.88s/it]"
     ]
    },
    {
     "name": "stdout",
     "output_type": "stream",
     "text": [
      "Current fid score: 0.9843171522374483\n",
      "Fid scores: [5.359689818244959, 2.479945282201154, 4.276308166260009, 2.7291028486932554, 2.7908292593055535, 2.3554975684525594, 2.6142447727283162, 2.1934954575945866, 2.3990477193970783, 2.221711896216327, 2.3744210742787253, 2.066927836690496, 2.3716458827445166, 1.9648397602519267, 1.6998954497984542, 2.319731846121897, 1.7800607345901547, 1.4056094758332023, 1.1810571313010847, 1.443624370521686, 1.5078741613768791, 1.173364418143919, 1.2011170423314468, 1.0761087412681398, 1.2172281204321251, 1.000626947334709, 1.737750054809478, 2.0593230539007124, 2.160112364724526, 2.195316465388501, 2.2950768584747436, 2.5124235574475904, 2.475506166692888, 3.0757913554101854, 3.3013338688781992, 3.1298115638580413, 3.361620915033507, 2.3989658516000354, 1.4239996589152213, 1.3841070462580056, 0.8761920713293598, 0.8968581288108979, 0.9323025916764394, 1.2795383980460215, 1.1923953719678337, 1.4775258450924582, 1.2243412993235836, 1.3496958747738148, 1.546939973799251, 1.040973777795589, 1.0413172729060634, 1.0205480305498185, 1.3183341694682618, 0.8797026053507153, 0.8567828803491899, 1.0769886742341122, 0.8730820062121616, 1.106999851042218, 1.1093197035925257, 0.743205909564626, 1.041048778987438, 0.8566777191451536, 0.9813225837970734, 0.9843171522374483]\n"
     ]
    },
    {
     "name": "stderr",
     "output_type": "stream",
     "text": [
      "  0%|          | 0/175 [00:15<?, ?it/s]1:11:13,  8.65it/s] \n",
      "  0%|          | 0/15 [00:06<?, ?it/s]\n",
      " 63%|██████▎   | 63102/100001 [2:24:23<1:08:45,  8.94it/s]"
     ]
    },
    {
     "name": "stdout",
     "output_type": "stream",
     "text": [
      "GAN: loss d: 5.96141    loss g: -3.94129\n"
     ]
    },
    {
     "name": "stderr",
     "output_type": "stream",
     "text": [
      " 63%|██████▎   | 63202/100001 [2:24:34<1:09:35,  8.81it/s]"
     ]
    },
    {
     "name": "stdout",
     "output_type": "stream",
     "text": [
      "GAN: loss d: 2.72518    loss g: -2.49137\n"
     ]
    },
    {
     "name": "stderr",
     "output_type": "stream",
     "text": [
      " 63%|██████▎   | 63302/100001 [2:24:46<1:09:47,  8.76it/s]"
     ]
    },
    {
     "name": "stdout",
     "output_type": "stream",
     "text": [
      "GAN: loss d: 5.86528    loss g: -3.10640\n"
     ]
    },
    {
     "name": "stderr",
     "output_type": "stream",
     "text": [
      " 63%|██████▎   | 63401/100001 [2:24:57<1:12:43,  8.39it/s]"
     ]
    },
    {
     "name": "stdout",
     "output_type": "stream",
     "text": [
      "GAN: loss d: 6.92945    loss g: -1.83726\n"
     ]
    },
    {
     "name": "stderr",
     "output_type": "stream",
     "text": [
      " 64%|██████▎   | 63502/100001 [2:25:08<1:08:42,  8.85it/s]"
     ]
    },
    {
     "name": "stdout",
     "output_type": "stream",
     "text": [
      "GAN: loss d: 2.75999    loss g: -2.85637\n"
     ]
    },
    {
     "name": "stderr",
     "output_type": "stream",
     "text": [
      " 64%|██████▎   | 63602/100001 [2:25:20<1:07:56,  8.93it/s]"
     ]
    },
    {
     "name": "stdout",
     "output_type": "stream",
     "text": [
      "GAN: loss d: 3.80402    loss g: -3.17772\n"
     ]
    },
    {
     "name": "stderr",
     "output_type": "stream",
     "text": [
      " 64%|██████▎   | 63702/100001 [2:25:31<1:08:28,  8.83it/s]"
     ]
    },
    {
     "name": "stdout",
     "output_type": "stream",
     "text": [
      "GAN: loss d: 3.44490    loss g: -2.74088\n"
     ]
    },
    {
     "name": "stderr",
     "output_type": "stream",
     "text": [
      " 64%|██████▍   | 63802/100001 [2:25:42<1:06:25,  9.08it/s]"
     ]
    },
    {
     "name": "stdout",
     "output_type": "stream",
     "text": [
      "GAN: loss d: 4.44233    loss g: -2.83054\n"
     ]
    },
    {
     "name": "stderr",
     "output_type": "stream",
     "text": [
      " 64%|██████▍   | 63902/100001 [2:25:54<1:07:34,  8.90it/s]"
     ]
    },
    {
     "name": "stdout",
     "output_type": "stream",
     "text": [
      "GAN: loss d: 2.36744    loss g: -1.65447\n"
     ]
    },
    {
     "name": "stderr",
     "output_type": "stream",
     "text": [
      " 64%|██████▍   | 64000/100001 [2:26:05<1:07:48,  8.85it/s]"
     ]
    },
    {
     "name": "stdout",
     "output_type": "stream",
     "text": [
      "GAN: loss d: 3.91197    loss g: -3.13154\n",
      "saving current model\n"
     ]
    },
    {
     "name": "stderr",
     "output_type": "stream",
     "text": [
      "\n",
      "  0%|          | 0/175 [00:00<?, ?it/s]\u001b[A"
     ]
    },
    {
     "name": "stdout",
     "output_type": "stream",
     "text": [
      "Number of real images: 5626\n"
     ]
    },
    {
     "name": "stderr",
     "output_type": "stream",
     "text": [
      "\n",
      "\n",
      "  0%|          | 0/15 [00:00<?, ?it/s]\u001b[A\u001b[A"
     ]
    },
    {
     "name": "stdout",
     "output_type": "stream",
     "text": [
      "Number of synthetic images: 500\n"
     ]
    },
    {
     "name": "stderr",
     "output_type": "stream",
     "text": [
      " 64%|██████▍   | 64002/100001 [2:26:28<48:53:40,  4.89s/it]"
     ]
    },
    {
     "name": "stdout",
     "output_type": "stream",
     "text": [
      "Current fid score: 0.8424157107662538\n",
      "Fid scores: [5.359689818244959, 2.479945282201154, 4.276308166260009, 2.7291028486932554, 2.7908292593055535, 2.3554975684525594, 2.6142447727283162, 2.1934954575945866, 2.3990477193970783, 2.221711896216327, 2.3744210742787253, 2.066927836690496, 2.3716458827445166, 1.9648397602519267, 1.6998954497984542, 2.319731846121897, 1.7800607345901547, 1.4056094758332023, 1.1810571313010847, 1.443624370521686, 1.5078741613768791, 1.173364418143919, 1.2011170423314468, 1.0761087412681398, 1.2172281204321251, 1.000626947334709, 1.737750054809478, 2.0593230539007124, 2.160112364724526, 2.195316465388501, 2.2950768584747436, 2.5124235574475904, 2.475506166692888, 3.0757913554101854, 3.3013338688781992, 3.1298115638580413, 3.361620915033507, 2.3989658516000354, 1.4239996589152213, 1.3841070462580056, 0.8761920713293598, 0.8968581288108979, 0.9323025916764394, 1.2795383980460215, 1.1923953719678337, 1.4775258450924582, 1.2243412993235836, 1.3496958747738148, 1.546939973799251, 1.040973777795589, 1.0413172729060634, 1.0205480305498185, 1.3183341694682618, 0.8797026053507153, 0.8567828803491899, 1.0769886742341122, 0.8730820062121616, 1.106999851042218, 1.1093197035925257, 0.743205909564626, 1.041048778987438, 0.8566777191451536, 0.9813225837970734, 0.9843171522374483, 0.8424157107662538]\n"
     ]
    },
    {
     "name": "stderr",
     "output_type": "stream",
     "text": [
      "  0%|          | 0/175 [00:10<?, ?it/s]3:53:54,  2.56it/s] \n",
      "  0%|          | 0/15 [00:02<?, ?it/s]\n",
      " 64%|██████▍   | 64102/100001 [2:26:39<1:07:08,  8.91it/s]"
     ]
    },
    {
     "name": "stdout",
     "output_type": "stream",
     "text": [
      "GAN: loss d: 4.12676    loss g: -3.63121\n"
     ]
    },
    {
     "name": "stderr",
     "output_type": "stream",
     "text": [
      " 64%|██████▍   | 64202/100001 [2:26:51<1:07:08,  8.89it/s]"
     ]
    },
    {
     "name": "stdout",
     "output_type": "stream",
     "text": [
      "GAN: loss d: 1.39285    loss g: -3.14890\n"
     ]
    },
    {
     "name": "stderr",
     "output_type": "stream",
     "text": [
      " 64%|██████▍   | 64302/100001 [2:27:02<1:06:01,  9.01it/s]"
     ]
    },
    {
     "name": "stdout",
     "output_type": "stream",
     "text": [
      "GAN: loss d: 5.32886    loss g: -2.78390\n"
     ]
    },
    {
     "name": "stderr",
     "output_type": "stream",
     "text": [
      " 64%|██████▍   | 64402/100001 [2:27:13<1:08:00,  8.73it/s]"
     ]
    },
    {
     "name": "stdout",
     "output_type": "stream",
     "text": [
      "GAN: loss d: 3.66900    loss g: -1.79868\n"
     ]
    },
    {
     "name": "stderr",
     "output_type": "stream",
     "text": [
      " 65%|██████▍   | 64502/100001 [2:27:25<1:12:26,  8.17it/s]"
     ]
    },
    {
     "name": "stdout",
     "output_type": "stream",
     "text": [
      "GAN: loss d: 4.34185    loss g: -1.88963\n"
     ]
    },
    {
     "name": "stderr",
     "output_type": "stream",
     "text": [
      " 65%|██████▍   | 64602/100001 [2:27:36<1:05:54,  8.95it/s]"
     ]
    },
    {
     "name": "stdout",
     "output_type": "stream",
     "text": [
      "GAN: loss d: 4.14086    loss g: -2.66923\n"
     ]
    },
    {
     "name": "stderr",
     "output_type": "stream",
     "text": [
      " 65%|██████▍   | 64702/100001 [2:27:47<1:06:00,  8.91it/s]"
     ]
    },
    {
     "name": "stdout",
     "output_type": "stream",
     "text": [
      "GAN: loss d: 3.04906    loss g: -2.35339\n"
     ]
    },
    {
     "name": "stderr",
     "output_type": "stream",
     "text": [
      " 65%|██████▍   | 64802/100001 [2:27:59<1:05:35,  8.94it/s]"
     ]
    },
    {
     "name": "stdout",
     "output_type": "stream",
     "text": [
      "GAN: loss d: 2.43229    loss g: -2.44491\n"
     ]
    },
    {
     "name": "stderr",
     "output_type": "stream",
     "text": [
      " 65%|██████▍   | 64902/100001 [2:28:10<1:06:09,  8.84it/s]"
     ]
    },
    {
     "name": "stdout",
     "output_type": "stream",
     "text": [
      "GAN: loss d: 6.56716    loss g: -2.60577\n"
     ]
    },
    {
     "name": "stderr",
     "output_type": "stream",
     "text": [
      " 65%|██████▍   | 65000/100001 [2:28:21<1:06:24,  8.78it/s]"
     ]
    },
    {
     "name": "stdout",
     "output_type": "stream",
     "text": [
      "GAN: loss d: 2.04459    loss g: -3.11408\n",
      "saving current model\n"
     ]
    },
    {
     "name": "stderr",
     "output_type": "stream",
     "text": [
      "\n",
      "  0%|          | 0/175 [00:00<?, ?it/s]\u001b[A"
     ]
    },
    {
     "name": "stdout",
     "output_type": "stream",
     "text": [
      "Number of real images: 5626\n"
     ]
    },
    {
     "name": "stderr",
     "output_type": "stream",
     "text": [
      "\n",
      "\n",
      "  0%|          | 0/15 [00:00<?, ?it/s]\u001b[A\u001b[A"
     ]
    },
    {
     "name": "stdout",
     "output_type": "stream",
     "text": [
      "Number of synthetic images: 500\n"
     ]
    },
    {
     "name": "stderr",
     "output_type": "stream",
     "text": [
      "  0%|          | 0/175 [00:09<?, ?it/s]66:59:24,  6.89s/it]\n",
      "  0%|          | 0/15 [00:00<?, ?it/s]\n",
      " 65%|██████▌   | 65002/100001 [2:28:44<47:11:36,  4.85s/it]"
     ]
    },
    {
     "name": "stdout",
     "output_type": "stream",
     "text": [
      "Current fid score: 1.2353997849701912\n",
      "Fid scores: [5.359689818244959, 2.479945282201154, 4.276308166260009, 2.7291028486932554, 2.7908292593055535, 2.3554975684525594, 2.6142447727283162, 2.1934954575945866, 2.3990477193970783, 2.221711896216327, 2.3744210742787253, 2.066927836690496, 2.3716458827445166, 1.9648397602519267, 1.6998954497984542, 2.319731846121897, 1.7800607345901547, 1.4056094758332023, 1.1810571313010847, 1.443624370521686, 1.5078741613768791, 1.173364418143919, 1.2011170423314468, 1.0761087412681398, 1.2172281204321251, 1.000626947334709, 1.737750054809478, 2.0593230539007124, 2.160112364724526, 2.195316465388501, 2.2950768584747436, 2.5124235574475904, 2.475506166692888, 3.0757913554101854, 3.3013338688781992, 3.1298115638580413, 3.361620915033507, 2.3989658516000354, 1.4239996589152213, 1.3841070462580056, 0.8761920713293598, 0.8968581288108979, 0.9323025916764394, 1.2795383980460215, 1.1923953719678337, 1.4775258450924582, 1.2243412993235836, 1.3496958747738148, 1.546939973799251, 1.040973777795589, 1.0413172729060634, 1.0205480305498185, 1.3183341694682618, 0.8797026053507153, 0.8567828803491899, 1.0769886742341122, 0.8730820062121616, 1.106999851042218, 1.1093197035925257, 0.743205909564626, 1.041048778987438, 0.8566777191451536, 0.9813225837970734, 0.9843171522374483, 0.8424157107662538, 1.2353997849701912]\n"
     ]
    },
    {
     "name": "stderr",
     "output_type": "stream",
     "text": [
      " 65%|██████▌   | 65102/100001 [2:28:55<1:06:08,  8.79it/s] "
     ]
    },
    {
     "name": "stdout",
     "output_type": "stream",
     "text": [
      "GAN: loss d: 2.87768    loss g: -3.20424\n"
     ]
    },
    {
     "name": "stderr",
     "output_type": "stream",
     "text": [
      " 65%|██████▌   | 65201/100001 [2:29:07<1:07:09,  8.64it/s]"
     ]
    },
    {
     "name": "stdout",
     "output_type": "stream",
     "text": [
      "GAN: loss d: 3.16814    loss g: -2.05150\n"
     ]
    },
    {
     "name": "stderr",
     "output_type": "stream",
     "text": [
      " 65%|██████▌   | 65302/100001 [2:29:18<1:07:13,  8.60it/s]"
     ]
    },
    {
     "name": "stdout",
     "output_type": "stream",
     "text": [
      "GAN: loss d: 4.09468    loss g: -2.93835\n"
     ]
    },
    {
     "name": "stderr",
     "output_type": "stream",
     "text": [
      " 65%|██████▌   | 65401/100001 [2:29:29<1:05:56,  8.74it/s]"
     ]
    },
    {
     "name": "stdout",
     "output_type": "stream",
     "text": [
      "GAN: loss d: 4.37255    loss g: -3.18510\n"
     ]
    },
    {
     "name": "stderr",
     "output_type": "stream",
     "text": [
      " 66%|██████▌   | 65502/100001 [2:29:41<1:04:11,  8.96it/s]"
     ]
    },
    {
     "name": "stdout",
     "output_type": "stream",
     "text": [
      "GAN: loss d: 3.61042    loss g: -2.56249\n"
     ]
    },
    {
     "name": "stderr",
     "output_type": "stream",
     "text": [
      " 66%|██████▌   | 65602/100001 [2:29:52<1:04:14,  8.93it/s]"
     ]
    },
    {
     "name": "stdout",
     "output_type": "stream",
     "text": [
      "GAN: loss d: 3.25582    loss g: -2.14715\n"
     ]
    },
    {
     "name": "stderr",
     "output_type": "stream",
     "text": [
      " 66%|██████▌   | 65702/100001 [2:30:03<1:03:43,  8.97it/s]"
     ]
    },
    {
     "name": "stdout",
     "output_type": "stream",
     "text": [
      "GAN: loss d: 2.63504    loss g: -2.87944\n"
     ]
    },
    {
     "name": "stderr",
     "output_type": "stream",
     "text": [
      " 66%|██████▌   | 65802/100001 [2:30:15<1:03:34,  8.97it/s]"
     ]
    },
    {
     "name": "stdout",
     "output_type": "stream",
     "text": [
      "GAN: loss d: 3.76895    loss g: -3.63559\n"
     ]
    },
    {
     "name": "stderr",
     "output_type": "stream",
     "text": [
      " 66%|██████▌   | 65902/100001 [2:30:26<1:04:07,  8.86it/s]"
     ]
    },
    {
     "name": "stdout",
     "output_type": "stream",
     "text": [
      "GAN: loss d: 4.67075    loss g: -1.49842\n"
     ]
    },
    {
     "name": "stderr",
     "output_type": "stream",
     "text": [
      " 66%|██████▌   | 66000/100001 [2:30:37<1:05:43,  8.62it/s]"
     ]
    },
    {
     "name": "stdout",
     "output_type": "stream",
     "text": [
      "GAN: loss d: 1.81355    loss g: -3.15432\n",
      "saving current model\n"
     ]
    },
    {
     "name": "stderr",
     "output_type": "stream",
     "text": [
      "\n",
      "  0%|          | 0/175 [00:00<?, ?it/s]\u001b[A"
     ]
    },
    {
     "name": "stdout",
     "output_type": "stream",
     "text": [
      "Number of real images: 5626\n"
     ]
    },
    {
     "name": "stderr",
     "output_type": "stream",
     "text": [
      "\n",
      "\n",
      "  0%|          | 0/15 [00:00<?, ?it/s]\u001b[A\u001b[A"
     ]
    },
    {
     "name": "stdout",
     "output_type": "stream",
     "text": [
      "Number of synthetic images: 500\n"
     ]
    },
    {
     "name": "stderr",
     "output_type": "stream",
     "text": [
      " 66%|██████▌   | 66002/100001 [2:31:00<45:55:19,  4.86s/it]"
     ]
    },
    {
     "name": "stdout",
     "output_type": "stream",
     "text": [
      "Current fid score: 1.3380726899709607\n",
      "Fid scores: [5.359689818244959, 2.479945282201154, 4.276308166260009, 2.7291028486932554, 2.7908292593055535, 2.3554975684525594, 2.6142447727283162, 2.1934954575945866, 2.3990477193970783, 2.221711896216327, 2.3744210742787253, 2.066927836690496, 2.3716458827445166, 1.9648397602519267, 1.6998954497984542, 2.319731846121897, 1.7800607345901547, 1.4056094758332023, 1.1810571313010847, 1.443624370521686, 1.5078741613768791, 1.173364418143919, 1.2011170423314468, 1.0761087412681398, 1.2172281204321251, 1.000626947334709, 1.737750054809478, 2.0593230539007124, 2.160112364724526, 2.195316465388501, 2.2950768584747436, 2.5124235574475904, 2.475506166692888, 3.0757913554101854, 3.3013338688781992, 3.1298115638580413, 3.361620915033507, 2.3989658516000354, 1.4239996589152213, 1.3841070462580056, 0.8761920713293598, 0.8968581288108979, 0.9323025916764394, 1.2795383980460215, 1.1923953719678337, 1.4775258450924582, 1.2243412993235836, 1.3496958747738148, 1.546939973799251, 1.040973777795589, 1.0413172729060634, 1.0205480305498185, 1.3183341694682618, 0.8797026053507153, 0.8567828803491899, 1.0769886742341122, 0.8730820062121616, 1.106999851042218, 1.1093197035925257, 0.743205909564626, 1.041048778987438, 0.8566777191451536, 0.9813225837970734, 0.9843171522374483, 0.8424157107662538, 1.2353997849701912, 1.3380726899709607]\n"
     ]
    },
    {
     "name": "stderr",
     "output_type": "stream",
     "text": [
      "  0%|          | 0/175 [00:15<?, ?it/s]1:05:37,  8.62it/s] \n",
      "  0%|          | 0/15 [00:07<?, ?it/s]\n",
      " 66%|██████▌   | 66102/100001 [2:31:12<1:03:35,  8.88it/s]"
     ]
    },
    {
     "name": "stdout",
     "output_type": "stream",
     "text": [
      "GAN: loss d: 1.82776    loss g: -3.07039\n"
     ]
    },
    {
     "name": "stderr",
     "output_type": "stream",
     "text": [
      " 66%|██████▌   | 66202/100001 [2:31:23<1:03:48,  8.83it/s]"
     ]
    },
    {
     "name": "stdout",
     "output_type": "stream",
     "text": [
      "GAN: loss d: 2.55677    loss g: -3.24764\n"
     ]
    },
    {
     "name": "stderr",
     "output_type": "stream",
     "text": [
      " 66%|██████▋   | 66301/100001 [2:31:35<1:05:16,  8.60it/s]"
     ]
    },
    {
     "name": "stdout",
     "output_type": "stream",
     "text": [
      "GAN: loss d: 3.21398    loss g: -3.87924\n"
     ]
    },
    {
     "name": "stderr",
     "output_type": "stream",
     "text": [
      " 66%|██████▋   | 66402/100001 [2:31:46<1:05:44,  8.52it/s]"
     ]
    },
    {
     "name": "stdout",
     "output_type": "stream",
     "text": [
      "GAN: loss d: 3.45536    loss g: -3.62165\n"
     ]
    },
    {
     "name": "stderr",
     "output_type": "stream",
     "text": [
      " 67%|██████▋   | 66502/100001 [2:31:57<1:01:43,  9.04it/s]"
     ]
    },
    {
     "name": "stdout",
     "output_type": "stream",
     "text": [
      "GAN: loss d: 5.21660    loss g: -3.21124\n"
     ]
    },
    {
     "name": "stderr",
     "output_type": "stream",
     "text": [
      " 67%|██████▋   | 66602/100001 [2:32:08<1:01:33,  9.04it/s]"
     ]
    },
    {
     "name": "stdout",
     "output_type": "stream",
     "text": [
      "GAN: loss d: 2.19240    loss g: -2.89903\n"
     ]
    },
    {
     "name": "stderr",
     "output_type": "stream",
     "text": [
      " 67%|██████▋   | 66702/100001 [2:32:20<1:01:46,  8.98it/s]"
     ]
    },
    {
     "name": "stdout",
     "output_type": "stream",
     "text": [
      "GAN: loss d: 3.06909    loss g: -2.59266\n"
     ]
    },
    {
     "name": "stderr",
     "output_type": "stream",
     "text": [
      " 67%|██████▋   | 66802/100001 [2:32:31<1:02:17,  8.88it/s]"
     ]
    },
    {
     "name": "stdout",
     "output_type": "stream",
     "text": [
      "GAN: loss d: 0.42539    loss g: -2.81532\n"
     ]
    },
    {
     "name": "stderr",
     "output_type": "stream",
     "text": [
      " 67%|██████▋   | 66901/100001 [2:32:42<1:04:59,  8.49it/s]"
     ]
    },
    {
     "name": "stdout",
     "output_type": "stream",
     "text": [
      "GAN: loss d: 2.89818    loss g: -2.23288\n"
     ]
    },
    {
     "name": "stderr",
     "output_type": "stream",
     "text": [
      " 67%|██████▋   | 67000/100001 [2:32:53<1:02:39,  8.78it/s]"
     ]
    },
    {
     "name": "stdout",
     "output_type": "stream",
     "text": [
      "GAN: loss d: 2.61989    loss g: -2.67155\n",
      "saving current model\n"
     ]
    },
    {
     "name": "stderr",
     "output_type": "stream",
     "text": [
      "\n",
      "  0%|          | 0/175 [00:00<?, ?it/s]\u001b[A"
     ]
    },
    {
     "name": "stdout",
     "output_type": "stream",
     "text": [
      "Number of real images: 5626\n"
     ]
    },
    {
     "name": "stderr",
     "output_type": "stream",
     "text": [
      "\n",
      "\n",
      "  0%|          | 0/15 [00:00<?, ?it/s]\u001b[A\u001b[A"
     ]
    },
    {
     "name": "stdout",
     "output_type": "stream",
     "text": [
      "Number of synthetic images: 500\n"
     ]
    },
    {
     "name": "stderr",
     "output_type": "stream",
     "text": [
      " 67%|██████▋   | 67002/100001 [2:33:16<44:43:19,  4.88s/it]"
     ]
    },
    {
     "name": "stdout",
     "output_type": "stream",
     "text": [
      "Current fid score: 1.3012930998995103\n",
      "Fid scores: [5.359689818244959, 2.479945282201154, 4.276308166260009, 2.7291028486932554, 2.7908292593055535, 2.3554975684525594, 2.6142447727283162, 2.1934954575945866, 2.3990477193970783, 2.221711896216327, 2.3744210742787253, 2.066927836690496, 2.3716458827445166, 1.9648397602519267, 1.6998954497984542, 2.319731846121897, 1.7800607345901547, 1.4056094758332023, 1.1810571313010847, 1.443624370521686, 1.5078741613768791, 1.173364418143919, 1.2011170423314468, 1.0761087412681398, 1.2172281204321251, 1.000626947334709, 1.737750054809478, 2.0593230539007124, 2.160112364724526, 2.195316465388501, 2.2950768584747436, 2.5124235574475904, 2.475506166692888, 3.0757913554101854, 3.3013338688781992, 3.1298115638580413, 3.361620915033507, 2.3989658516000354, 1.4239996589152213, 1.3841070462580056, 0.8761920713293598, 0.8968581288108979, 0.9323025916764394, 1.2795383980460215, 1.1923953719678337, 1.4775258450924582, 1.2243412993235836, 1.3496958747738148, 1.546939973799251, 1.040973777795589, 1.0413172729060634, 1.0205480305498185, 1.3183341694682618, 0.8797026053507153, 0.8567828803491899, 1.0769886742341122, 0.8730820062121616, 1.106999851042218, 1.1093197035925257, 0.743205909564626, 1.041048778987438, 0.8566777191451536, 0.9813225837970734, 0.9843171522374483, 0.8424157107662538, 1.2353997849701912, 1.3380726899709607, 1.3012930998995103]\n"
     ]
    },
    {
     "name": "stderr",
     "output_type": "stream",
     "text": [
      "  0%|          | 0/175 [00:10<?, ?it/s]6:09:44,  1.49it/s] \n",
      "  0%|          | 0/15 [00:01<?, ?it/s]\n",
      " 67%|██████▋   | 67102/100001 [2:33:28<1:03:28,  8.64it/s]"
     ]
    },
    {
     "name": "stdout",
     "output_type": "stream",
     "text": [
      "GAN: loss d: 2.34736    loss g: -2.94764\n"
     ]
    },
    {
     "name": "stderr",
     "output_type": "stream",
     "text": [
      " 67%|██████▋   | 67202/100001 [2:33:39<1:03:14,  8.64it/s]"
     ]
    },
    {
     "name": "stdout",
     "output_type": "stream",
     "text": [
      "GAN: loss d: 4.38641    loss g: -1.76669\n"
     ]
    },
    {
     "name": "stderr",
     "output_type": "stream",
     "text": [
      " 67%|██████▋   | 67301/100001 [2:33:50<1:02:18,  8.75it/s]"
     ]
    },
    {
     "name": "stdout",
     "output_type": "stream",
     "text": [
      "GAN: loss d: 2.96342    loss g: -1.99412\n"
     ]
    },
    {
     "name": "stderr",
     "output_type": "stream",
     "text": [
      " 67%|██████▋   | 67402/100001 [2:34:01<1:01:50,  8.79it/s]"
     ]
    },
    {
     "name": "stdout",
     "output_type": "stream",
     "text": [
      "GAN: loss d: 2.04574    loss g: -2.93061\n"
     ]
    },
    {
     "name": "stderr",
     "output_type": "stream",
     "text": [
      " 68%|██████▊   | 67502/100001 [2:34:13<1:01:30,  8.81it/s]"
     ]
    },
    {
     "name": "stdout",
     "output_type": "stream",
     "text": [
      "GAN: loss d: 4.42245    loss g: -1.96408\n"
     ]
    },
    {
     "name": "stderr",
     "output_type": "stream",
     "text": [
      " 68%|██████▊   | 67602/100001 [2:34:24<1:02:25,  8.65it/s]"
     ]
    },
    {
     "name": "stdout",
     "output_type": "stream",
     "text": [
      "GAN: loss d: 4.10010    loss g: -2.74980\n"
     ]
    },
    {
     "name": "stderr",
     "output_type": "stream",
     "text": [
      " 68%|██████▊   | 67702/100001 [2:34:36<1:02:36,  8.60it/s]"
     ]
    },
    {
     "name": "stdout",
     "output_type": "stream",
     "text": [
      "GAN: loss d: 3.83508    loss g: -3.02539\n"
     ]
    },
    {
     "name": "stderr",
     "output_type": "stream",
     "text": [
      " 68%|██████▊   | 67802/100001 [2:34:47<1:04:21,  8.34it/s]"
     ]
    },
    {
     "name": "stdout",
     "output_type": "stream",
     "text": [
      "GAN: loss d: 5.68203    loss g: -2.11015\n"
     ]
    },
    {
     "name": "stderr",
     "output_type": "stream",
     "text": [
      " 68%|██████▊   | 67901/100001 [2:34:58<1:12:50,  7.34it/s]"
     ]
    },
    {
     "name": "stdout",
     "output_type": "stream",
     "text": [
      "GAN: loss d: 1.30452    loss g: -2.71393\n"
     ]
    },
    {
     "name": "stderr",
     "output_type": "stream",
     "text": [
      " 68%|██████▊   | 68000/100001 [2:35:10<1:00:17,  8.85it/s]"
     ]
    },
    {
     "name": "stdout",
     "output_type": "stream",
     "text": [
      "GAN: loss d: 1.38524    loss g: -3.84378\n",
      "saving current model\n"
     ]
    },
    {
     "name": "stderr",
     "output_type": "stream",
     "text": [
      "\n",
      "  0%|          | 0/175 [00:00<?, ?it/s]\u001b[A"
     ]
    },
    {
     "name": "stdout",
     "output_type": "stream",
     "text": [
      "Number of real images: 5626\n"
     ]
    },
    {
     "name": "stderr",
     "output_type": "stream",
     "text": [
      "\n",
      "\n",
      "  0%|          | 0/15 [00:00<?, ?it/s]\u001b[A\u001b[A"
     ]
    },
    {
     "name": "stdout",
     "output_type": "stream",
     "text": [
      "Number of synthetic images: 500\n"
     ]
    },
    {
     "name": "stderr",
     "output_type": "stream",
     "text": [
      " 68%|██████▊   | 68001/100001 [2:35:33<62:56:00,  7.08s/it]"
     ]
    },
    {
     "name": "stdout",
     "output_type": "stream",
     "text": [
      "Current fid score: 1.0876612213245274\n",
      "Fid scores: [5.359689818244959, 2.479945282201154, 4.276308166260009, 2.7291028486932554, 2.7908292593055535, 2.3554975684525594, 2.6142447727283162, 2.1934954575945866, 2.3990477193970783, 2.221711896216327, 2.3744210742787253, 2.066927836690496, 2.3716458827445166, 1.9648397602519267, 1.6998954497984542, 2.319731846121897, 1.7800607345901547, 1.4056094758332023, 1.1810571313010847, 1.443624370521686, 1.5078741613768791, 1.173364418143919, 1.2011170423314468, 1.0761087412681398, 1.2172281204321251, 1.000626947334709, 1.737750054809478, 2.0593230539007124, 2.160112364724526, 2.195316465388501, 2.2950768584747436, 2.5124235574475904, 2.475506166692888, 3.0757913554101854, 3.3013338688781992, 3.1298115638580413, 3.361620915033507, 2.3989658516000354, 1.4239996589152213, 1.3841070462580056, 0.8761920713293598, 0.8968581288108979, 0.9323025916764394, 1.2795383980460215, 1.1923953719678337, 1.4775258450924582, 1.2243412993235836, 1.3496958747738148, 1.546939973799251, 1.040973777795589, 1.0413172729060634, 1.0205480305498185, 1.3183341694682618, 0.8797026053507153, 0.8567828803491899, 1.0769886742341122, 0.8730820062121616, 1.106999851042218, 1.1093197035925257, 0.743205909564626, 1.041048778987438, 0.8566777191451536, 0.9813225837970734, 0.9843171522374483, 0.8424157107662538, 1.2353997849701912, 1.3380726899709607, 1.3012930998995103, 1.0876612213245274]\n"
     ]
    },
    {
     "name": "stderr",
     "output_type": "stream",
     "text": [
      "  0%|          | 0/175 [00:11<?, ?it/s]2:43:13,  3.27it/s] \n",
      "  0%|          | 0/15 [00:02<?, ?it/s]\n",
      " 68%|██████▊   | 68102/100001 [2:35:45<1:02:01,  8.57it/s]"
     ]
    },
    {
     "name": "stdout",
     "output_type": "stream",
     "text": [
      "GAN: loss d: 0.99255    loss g: -2.14639\n"
     ]
    },
    {
     "name": "stderr",
     "output_type": "stream",
     "text": [
      " 68%|██████▊   | 68201/100001 [2:35:56<1:01:44,  8.58it/s]"
     ]
    },
    {
     "name": "stdout",
     "output_type": "stream",
     "text": [
      "GAN: loss d: 3.86081    loss g: -2.66197\n"
     ]
    },
    {
     "name": "stderr",
     "output_type": "stream",
     "text": [
      " 68%|██████▊   | 68302/100001 [2:36:07<59:56,  8.81it/s]  "
     ]
    },
    {
     "name": "stdout",
     "output_type": "stream",
     "text": [
      "GAN: loss d: 3.09269    loss g: -2.23011\n"
     ]
    },
    {
     "name": "stderr",
     "output_type": "stream",
     "text": [
      " 68%|██████▊   | 68402/100001 [2:36:19<59:09,  8.90it/s]  "
     ]
    },
    {
     "name": "stdout",
     "output_type": "stream",
     "text": [
      "GAN: loss d: 1.48318    loss g: -2.13250\n"
     ]
    },
    {
     "name": "stderr",
     "output_type": "stream",
     "text": [
      " 69%|██████▊   | 68502/100001 [2:36:30<1:00:32,  8.67it/s]"
     ]
    },
    {
     "name": "stdout",
     "output_type": "stream",
     "text": [
      "GAN: loss d: 1.25916    loss g: -1.28849\n"
     ]
    },
    {
     "name": "stderr",
     "output_type": "stream",
     "text": [
      " 69%|██████▊   | 68602/100001 [2:36:42<1:01:15,  8.54it/s]"
     ]
    },
    {
     "name": "stdout",
     "output_type": "stream",
     "text": [
      "GAN: loss d: 4.86458    loss g: -2.49828\n"
     ]
    },
    {
     "name": "stderr",
     "output_type": "stream",
     "text": [
      " 69%|██████▊   | 68702/100001 [2:36:53<58:32,  8.91it/s]  "
     ]
    },
    {
     "name": "stdout",
     "output_type": "stream",
     "text": [
      "GAN: loss d: 4.57734    loss g: -2.21283\n"
     ]
    },
    {
     "name": "stderr",
     "output_type": "stream",
     "text": [
      " 69%|██████▉   | 68802/100001 [2:37:04<59:15,  8.78it/s]  "
     ]
    },
    {
     "name": "stdout",
     "output_type": "stream",
     "text": [
      "GAN: loss d: 4.79213    loss g: -2.85149\n"
     ]
    },
    {
     "name": "stderr",
     "output_type": "stream",
     "text": [
      " 69%|██████▉   | 68902/100001 [2:37:15<58:23,  8.88it/s]  "
     ]
    },
    {
     "name": "stdout",
     "output_type": "stream",
     "text": [
      "GAN: loss d: -0.20007    loss g: -3.14215\n"
     ]
    },
    {
     "name": "stderr",
     "output_type": "stream",
     "text": [
      " 69%|██████▉   | 69000/100001 [2:37:27<57:20,  9.01it/s]  "
     ]
    },
    {
     "name": "stdout",
     "output_type": "stream",
     "text": [
      "GAN: loss d: 6.79033    loss g: -2.63785\n",
      "saving current model\n"
     ]
    },
    {
     "name": "stderr",
     "output_type": "stream",
     "text": [
      "\n",
      "  0%|          | 0/175 [00:00<?, ?it/s]\u001b[A"
     ]
    },
    {
     "name": "stdout",
     "output_type": "stream",
     "text": [
      "Number of real images: 5626\n"
     ]
    },
    {
     "name": "stderr",
     "output_type": "stream",
     "text": [
      "\n",
      "\n",
      "  0%|          | 0/15 [00:00<?, ?it/s]\u001b[A\u001b[A"
     ]
    },
    {
     "name": "stdout",
     "output_type": "stream",
     "text": [
      "Number of synthetic images: 500\n"
     ]
    },
    {
     "name": "stderr",
     "output_type": "stream",
     "text": [
      " 69%|██████▉   | 69002/100001 [2:37:49<41:30:49,  4.82s/it]"
     ]
    },
    {
     "name": "stdout",
     "output_type": "stream",
     "text": [
      "Current fid score: 0.9504414477760186\n",
      "Fid scores: [5.359689818244959, 2.479945282201154, 4.276308166260009, 2.7291028486932554, 2.7908292593055535, 2.3554975684525594, 2.6142447727283162, 2.1934954575945866, 2.3990477193970783, 2.221711896216327, 2.3744210742787253, 2.066927836690496, 2.3716458827445166, 1.9648397602519267, 1.6998954497984542, 2.319731846121897, 1.7800607345901547, 1.4056094758332023, 1.1810571313010847, 1.443624370521686, 1.5078741613768791, 1.173364418143919, 1.2011170423314468, 1.0761087412681398, 1.2172281204321251, 1.000626947334709, 1.737750054809478, 2.0593230539007124, 2.160112364724526, 2.195316465388501, 2.2950768584747436, 2.5124235574475904, 2.475506166692888, 3.0757913554101854, 3.3013338688781992, 3.1298115638580413, 3.361620915033507, 2.3989658516000354, 1.4239996589152213, 1.3841070462580056, 0.8761920713293598, 0.8968581288108979, 0.9323025916764394, 1.2795383980460215, 1.1923953719678337, 1.4775258450924582, 1.2243412993235836, 1.3496958747738148, 1.546939973799251, 1.040973777795589, 1.0413172729060634, 1.0205480305498185, 1.3183341694682618, 0.8797026053507153, 0.8567828803491899, 1.0769886742341122, 0.8730820062121616, 1.106999851042218, 1.1093197035925257, 0.743205909564626, 1.041048778987438, 0.8566777191451536, 0.9813225837970734, 0.9843171522374483, 0.8424157107662538, 1.2353997849701912, 1.3380726899709607, 1.3012930998995103, 1.0876612213245274, 0.9504414477760186]\n"
     ]
    },
    {
     "name": "stderr",
     "output_type": "stream",
     "text": [
      "  0%|          | 0/175 [00:16<?, ?it/s]58:01,  8.89it/s]   \n",
      "  0%|          | 0/15 [00:07<?, ?it/s]\n",
      " 69%|██████▉   | 69102/100001 [2:38:01<58:59,  8.73it/s]  "
     ]
    },
    {
     "name": "stdout",
     "output_type": "stream",
     "text": [
      "GAN: loss d: 4.90941    loss g: -3.68914\n"
     ]
    },
    {
     "name": "stderr",
     "output_type": "stream",
     "text": [
      " 69%|██████▉   | 69202/100001 [2:38:12<57:58,  8.85it/s]  "
     ]
    },
    {
     "name": "stdout",
     "output_type": "stream",
     "text": [
      "GAN: loss d: 2.89712    loss g: -2.03273\n"
     ]
    },
    {
     "name": "stderr",
     "output_type": "stream",
     "text": [
      " 69%|██████▉   | 69302/100001 [2:38:24<58:24,  8.76it/s]  "
     ]
    },
    {
     "name": "stdout",
     "output_type": "stream",
     "text": [
      "GAN: loss d: 4.66798    loss g: -2.54902\n"
     ]
    },
    {
     "name": "stderr",
     "output_type": "stream",
     "text": [
      " 69%|██████▉   | 69402/100001 [2:38:35<56:55,  8.96it/s]"
     ]
    },
    {
     "name": "stdout",
     "output_type": "stream",
     "text": [
      "GAN: loss d: 3.24606    loss g: -1.39391\n"
     ]
    },
    {
     "name": "stderr",
     "output_type": "stream",
     "text": [
      " 70%|██████▉   | 69501/100001 [2:38:46<57:40,  8.81it/s]"
     ]
    },
    {
     "name": "stdout",
     "output_type": "stream",
     "text": [
      "GAN: loss d: 3.03825    loss g: -3.35544\n"
     ]
    },
    {
     "name": "stderr",
     "output_type": "stream",
     "text": [
      " 70%|██████▉   | 69601/100001 [2:38:57<59:33,  8.51it/s]  "
     ]
    },
    {
     "name": "stdout",
     "output_type": "stream",
     "text": [
      "GAN: loss d: 2.10477    loss g: -2.30583\n"
     ]
    },
    {
     "name": "stderr",
     "output_type": "stream",
     "text": [
      " 70%|██████▉   | 69702/100001 [2:39:09<56:25,  8.95it/s]  "
     ]
    },
    {
     "name": "stdout",
     "output_type": "stream",
     "text": [
      "GAN: loss d: 1.76312    loss g: -2.04564\n"
     ]
    },
    {
     "name": "stderr",
     "output_type": "stream",
     "text": [
      " 70%|██████▉   | 69802/100001 [2:39:20<56:52,  8.85it/s]"
     ]
    },
    {
     "name": "stdout",
     "output_type": "stream",
     "text": [
      "GAN: loss d: 3.55427    loss g: -2.03892\n"
     ]
    },
    {
     "name": "stderr",
     "output_type": "stream",
     "text": [
      " 70%|██████▉   | 69902/100001 [2:39:31<57:48,  8.68it/s]  "
     ]
    },
    {
     "name": "stdout",
     "output_type": "stream",
     "text": [
      "GAN: loss d: 4.35486    loss g: -3.05581\n"
     ]
    },
    {
     "name": "stderr",
     "output_type": "stream",
     "text": [
      " 70%|██████▉   | 70000/100001 [2:39:43<56:36,  8.83it/s]  "
     ]
    },
    {
     "name": "stdout",
     "output_type": "stream",
     "text": [
      "GAN: loss d: 2.50928    loss g: -2.13836\n",
      "saving current model\n"
     ]
    },
    {
     "name": "stderr",
     "output_type": "stream",
     "text": [
      "\n",
      "  0%|          | 0/175 [00:00<?, ?it/s]\u001b[A"
     ]
    },
    {
     "name": "stdout",
     "output_type": "stream",
     "text": [
      "Number of real images: 5626\n"
     ]
    },
    {
     "name": "stderr",
     "output_type": "stream",
     "text": [
      "\n",
      "\n",
      "  0%|          | 0/15 [00:00<?, ?it/s]\u001b[A\u001b[A"
     ]
    },
    {
     "name": "stdout",
     "output_type": "stream",
     "text": [
      "Number of synthetic images: 500\n"
     ]
    },
    {
     "name": "stderr",
     "output_type": "stream",
     "text": [
      " 70%|███████   | 70002/100001 [2:40:06<40:50:10,  4.90s/it]"
     ]
    },
    {
     "name": "stdout",
     "output_type": "stream",
     "text": [
      "Current fid score: 1.0793728213916438\n",
      "Fid scores: [5.359689818244959, 2.479945282201154, 4.276308166260009, 2.7291028486932554, 2.7908292593055535, 2.3554975684525594, 2.6142447727283162, 2.1934954575945866, 2.3990477193970783, 2.221711896216327, 2.3744210742787253, 2.066927836690496, 2.3716458827445166, 1.9648397602519267, 1.6998954497984542, 2.319731846121897, 1.7800607345901547, 1.4056094758332023, 1.1810571313010847, 1.443624370521686, 1.5078741613768791, 1.173364418143919, 1.2011170423314468, 1.0761087412681398, 1.2172281204321251, 1.000626947334709, 1.737750054809478, 2.0593230539007124, 2.160112364724526, 2.195316465388501, 2.2950768584747436, 2.5124235574475904, 2.475506166692888, 3.0757913554101854, 3.3013338688781992, 3.1298115638580413, 3.361620915033507, 2.3989658516000354, 1.4239996589152213, 1.3841070462580056, 0.8761920713293598, 0.8968581288108979, 0.9323025916764394, 1.2795383980460215, 1.1923953719678337, 1.4775258450924582, 1.2243412993235836, 1.3496958747738148, 1.546939973799251, 1.040973777795589, 1.0413172729060634, 1.0205480305498185, 1.3183341694682618, 0.8797026053507153, 0.8567828803491899, 1.0769886742341122, 0.8730820062121616, 1.106999851042218, 1.1093197035925257, 0.743205909564626, 1.041048778987438, 0.8566777191451536, 0.9813225837970734, 0.9843171522374483, 0.8424157107662538, 1.2353997849701912, 1.3380726899709607, 1.3012930998995103, 1.0876612213245274, 0.9504414477760186, 1.0793728213916438]\n"
     ]
    },
    {
     "name": "stderr",
     "output_type": "stream",
     "text": [
      "  0%|          | 0/175 [00:14<?, ?it/s]53:57,  9.25it/s]   \n",
      "  0%|          | 0/15 [00:05<?, ?it/s]\n",
      " 70%|███████   | 70101/100001 [2:40:17<56:49,  8.77it/s]"
     ]
    },
    {
     "name": "stdout",
     "output_type": "stream",
     "text": [
      "GAN: loss d: 3.51656    loss g: -3.78564\n"
     ]
    },
    {
     "name": "stderr",
     "output_type": "stream",
     "text": [
      " 70%|███████   | 70202/100001 [2:40:28<56:50,  8.74it/s]  "
     ]
    },
    {
     "name": "stdout",
     "output_type": "stream",
     "text": [
      "GAN: loss d: 3.76048    loss g: -3.00579\n"
     ]
    },
    {
     "name": "stderr",
     "output_type": "stream",
     "text": [
      " 70%|███████   | 70302/100001 [2:40:40<55:31,  8.91it/s]"
     ]
    },
    {
     "name": "stdout",
     "output_type": "stream",
     "text": [
      "GAN: loss d: 6.31038    loss g: -1.90580\n"
     ]
    },
    {
     "name": "stderr",
     "output_type": "stream",
     "text": [
      " 70%|███████   | 70401/100001 [2:40:51<58:10,  8.48it/s]"
     ]
    },
    {
     "name": "stdout",
     "output_type": "stream",
     "text": [
      "GAN: loss d: 3.27535    loss g: -2.35985\n"
     ]
    },
    {
     "name": "stderr",
     "output_type": "stream",
     "text": [
      " 71%|███████   | 70502/100001 [2:41:02<55:27,  8.86it/s]"
     ]
    },
    {
     "name": "stdout",
     "output_type": "stream",
     "text": [
      "GAN: loss d: 2.68746    loss g: -1.88964\n"
     ]
    },
    {
     "name": "stderr",
     "output_type": "stream",
     "text": [
      " 71%|███████   | 70602/100001 [2:41:14<55:38,  8.81it/s]"
     ]
    },
    {
     "name": "stdout",
     "output_type": "stream",
     "text": [
      "GAN: loss d: 2.33983    loss g: -3.45845\n"
     ]
    },
    {
     "name": "stderr",
     "output_type": "stream",
     "text": [
      " 71%|███████   | 70702/100001 [2:41:25<55:42,  8.77it/s]  "
     ]
    },
    {
     "name": "stdout",
     "output_type": "stream",
     "text": [
      "GAN: loss d: 0.38349    loss g: -2.08339\n"
     ]
    },
    {
     "name": "stderr",
     "output_type": "stream",
     "text": [
      " 71%|███████   | 70802/100001 [2:41:37<56:18,  8.64it/s]"
     ]
    },
    {
     "name": "stdout",
     "output_type": "stream",
     "text": [
      "GAN: loss d: 1.38135    loss g: -1.77217\n"
     ]
    },
    {
     "name": "stderr",
     "output_type": "stream",
     "text": [
      " 71%|███████   | 70902/100001 [2:41:48<57:39,  8.41it/s]"
     ]
    },
    {
     "name": "stdout",
     "output_type": "stream",
     "text": [
      "GAN: loss d: 1.73254    loss g: -2.94103\n"
     ]
    },
    {
     "name": "stderr",
     "output_type": "stream",
     "text": [
      " 71%|███████   | 71000/100001 [2:41:59<54:48,  8.82it/s]"
     ]
    },
    {
     "name": "stdout",
     "output_type": "stream",
     "text": [
      "GAN: loss d: 3.08368    loss g: -2.00580\n",
      "saving current model\n"
     ]
    },
    {
     "name": "stderr",
     "output_type": "stream",
     "text": [
      "\n",
      "  0%|          | 0/175 [00:00<?, ?it/s]\u001b[A"
     ]
    },
    {
     "name": "stdout",
     "output_type": "stream",
     "text": [
      "Number of real images: 5626\n"
     ]
    },
    {
     "name": "stderr",
     "output_type": "stream",
     "text": [
      "\n",
      "\n",
      "  0%|          | 0/15 [00:00<?, ?it/s]\u001b[A\u001b[A"
     ]
    },
    {
     "name": "stdout",
     "output_type": "stream",
     "text": [
      "Number of synthetic images: 500\n"
     ]
    },
    {
     "name": "stderr",
     "output_type": "stream",
     "text": [
      " 71%|███████   | 71002/100001 [2:42:21<38:07:03,  4.73s/it]"
     ]
    },
    {
     "name": "stdout",
     "output_type": "stream",
     "text": [
      "Current fid score: 1.0040024359416861\n",
      "Fid scores: [5.359689818244959, 2.479945282201154, 4.276308166260009, 2.7291028486932554, 2.7908292593055535, 2.3554975684525594, 2.6142447727283162, 2.1934954575945866, 2.3990477193970783, 2.221711896216327, 2.3744210742787253, 2.066927836690496, 2.3716458827445166, 1.9648397602519267, 1.6998954497984542, 2.319731846121897, 1.7800607345901547, 1.4056094758332023, 1.1810571313010847, 1.443624370521686, 1.5078741613768791, 1.173364418143919, 1.2011170423314468, 1.0761087412681398, 1.2172281204321251, 1.000626947334709, 1.737750054809478, 2.0593230539007124, 2.160112364724526, 2.195316465388501, 2.2950768584747436, 2.5124235574475904, 2.475506166692888, 3.0757913554101854, 3.3013338688781992, 3.1298115638580413, 3.361620915033507, 2.3989658516000354, 1.4239996589152213, 1.3841070462580056, 0.8761920713293598, 0.8968581288108979, 0.9323025916764394, 1.2795383980460215, 1.1923953719678337, 1.4775258450924582, 1.2243412993235836, 1.3496958747738148, 1.546939973799251, 1.040973777795589, 1.0413172729060634, 1.0205480305498185, 1.3183341694682618, 0.8797026053507153, 0.8567828803491899, 1.0769886742341122, 0.8730820062121616, 1.106999851042218, 1.1093197035925257, 0.743205909564626, 1.041048778987438, 0.8566777191451536, 0.9813225837970734, 0.9843171522374483, 0.8424157107662538, 1.2353997849701912, 1.3380726899709607, 1.3012930998995103, 1.0876612213245274, 0.9504414477760186, 1.0793728213916438, 1.0040024359416861]\n"
     ]
    },
    {
     "name": "stderr",
     "output_type": "stream",
     "text": [
      "  0%|          | 0/175 [00:10<?, ?it/s]2:24:52,  3.34it/s] \n",
      "  0%|          | 0/15 [00:02<?, ?it/s]\n",
      " 71%|███████   | 71102/100001 [2:42:33<54:04,  8.91it/s]  "
     ]
    },
    {
     "name": "stdout",
     "output_type": "stream",
     "text": [
      "GAN: loss d: 1.62250    loss g: -3.16243\n"
     ]
    },
    {
     "name": "stderr",
     "output_type": "stream",
     "text": [
      " 71%|███████   | 71202/100001 [2:42:44<53:59,  8.89it/s]"
     ]
    },
    {
     "name": "stdout",
     "output_type": "stream",
     "text": [
      "GAN: loss d: 4.26240    loss g: -2.73123\n"
     ]
    },
    {
     "name": "stderr",
     "output_type": "stream",
     "text": [
      " 71%|███████▏  | 71302/100001 [2:42:56<56:35,  8.45it/s]"
     ]
    },
    {
     "name": "stdout",
     "output_type": "stream",
     "text": [
      "GAN: loss d: 5.01483    loss g: -2.77679\n"
     ]
    },
    {
     "name": "stderr",
     "output_type": "stream",
     "text": [
      " 71%|███████▏  | 71402/100001 [2:43:07<53:28,  8.91it/s]"
     ]
    },
    {
     "name": "stdout",
     "output_type": "stream",
     "text": [
      "GAN: loss d: 5.11946    loss g: -2.88200\n"
     ]
    },
    {
     "name": "stderr",
     "output_type": "stream",
     "text": [
      " 72%|███████▏  | 71502/100001 [2:43:18<53:23,  8.90it/s]"
     ]
    },
    {
     "name": "stdout",
     "output_type": "stream",
     "text": [
      "GAN: loss d: 1.75804    loss g: -2.85130\n"
     ]
    },
    {
     "name": "stderr",
     "output_type": "stream",
     "text": [
      " 72%|███████▏  | 71602/100001 [2:43:30<53:22,  8.87it/s]"
     ]
    },
    {
     "name": "stdout",
     "output_type": "stream",
     "text": [
      "GAN: loss d: 2.32497    loss g: -2.91349\n"
     ]
    },
    {
     "name": "stderr",
     "output_type": "stream",
     "text": [
      " 72%|███████▏  | 71702/100001 [2:43:41<53:58,  8.74it/s]"
     ]
    },
    {
     "name": "stdout",
     "output_type": "stream",
     "text": [
      "GAN: loss d: 3.86592    loss g: -3.49563\n"
     ]
    },
    {
     "name": "stderr",
     "output_type": "stream",
     "text": [
      " 72%|███████▏  | 71802/100001 [2:43:52<52:46,  8.90it/s]"
     ]
    },
    {
     "name": "stdout",
     "output_type": "stream",
     "text": [
      "GAN: loss d: 5.96566    loss g: -2.55094\n"
     ]
    },
    {
     "name": "stderr",
     "output_type": "stream",
     "text": [
      " 72%|███████▏  | 71901/100001 [2:44:04<55:00,  8.51it/s]"
     ]
    },
    {
     "name": "stdout",
     "output_type": "stream",
     "text": [
      "GAN: loss d: 2.97168    loss g: -1.47673\n"
     ]
    },
    {
     "name": "stderr",
     "output_type": "stream",
     "text": [
      " 72%|███████▏  | 72000/100001 [2:44:15<52:24,  8.91it/s]"
     ]
    },
    {
     "name": "stdout",
     "output_type": "stream",
     "text": [
      "GAN: loss d: 2.84259    loss g: -3.53469\n",
      "saving current model\n"
     ]
    },
    {
     "name": "stderr",
     "output_type": "stream",
     "text": [
      "\n",
      "  0%|          | 0/175 [00:00<?, ?it/s]\u001b[A"
     ]
    },
    {
     "name": "stdout",
     "output_type": "stream",
     "text": [
      "Number of real images: 5626\n"
     ]
    },
    {
     "name": "stderr",
     "output_type": "stream",
     "text": [
      "\n",
      "\n",
      "  0%|          | 0/15 [00:00<?, ?it/s]\u001b[A\u001b[A"
     ]
    },
    {
     "name": "stdout",
     "output_type": "stream",
     "text": [
      "Number of synthetic images: 500\n"
     ]
    },
    {
     "name": "stderr",
     "output_type": "stream",
     "text": [
      " 72%|███████▏  | 72002/100001 [2:44:37<36:16:38,  4.66s/it]"
     ]
    },
    {
     "name": "stdout",
     "output_type": "stream",
     "text": [
      "Current fid score: 0.8540115679215035\n",
      "Fid scores: [5.359689818244959, 2.479945282201154, 4.276308166260009, 2.7291028486932554, 2.7908292593055535, 2.3554975684525594, 2.6142447727283162, 2.1934954575945866, 2.3990477193970783, 2.221711896216327, 2.3744210742787253, 2.066927836690496, 2.3716458827445166, 1.9648397602519267, 1.6998954497984542, 2.319731846121897, 1.7800607345901547, 1.4056094758332023, 1.1810571313010847, 1.443624370521686, 1.5078741613768791, 1.173364418143919, 1.2011170423314468, 1.0761087412681398, 1.2172281204321251, 1.000626947334709, 1.737750054809478, 2.0593230539007124, 2.160112364724526, 2.195316465388501, 2.2950768584747436, 2.5124235574475904, 2.475506166692888, 3.0757913554101854, 3.3013338688781992, 3.1298115638580413, 3.361620915033507, 2.3989658516000354, 1.4239996589152213, 1.3841070462580056, 0.8761920713293598, 0.8968581288108979, 0.9323025916764394, 1.2795383980460215, 1.1923953719678337, 1.4775258450924582, 1.2243412993235836, 1.3496958747738148, 1.546939973799251, 1.040973777795589, 1.0413172729060634, 1.0205480305498185, 1.3183341694682618, 0.8797026053507153, 0.8567828803491899, 1.0769886742341122, 0.8730820062121616, 1.106999851042218, 1.1093197035925257, 0.743205909564626, 1.041048778987438, 0.8566777191451536, 0.9813225837970734, 0.9843171522374483, 0.8424157107662538, 1.2353997849701912, 1.3380726899709607, 1.3012930998995103, 1.0876612213245274, 0.9504414477760186, 1.0793728213916438, 1.0040024359416861, 0.8540115679215035]\n"
     ]
    },
    {
     "name": "stderr",
     "output_type": "stream",
     "text": [
      "  0%|          | 0/175 [00:19<?, ?it/s]54:13,  8.58it/s]   \n",
      "  0%|          | 0/15 [00:10<?, ?it/s]\n",
      " 72%|███████▏  | 72101/100001 [2:44:48<53:21,  8.71it/s]"
     ]
    },
    {
     "name": "stdout",
     "output_type": "stream",
     "text": [
      "GAN: loss d: 0.49457    loss g: -1.85927\n"
     ]
    },
    {
     "name": "stderr",
     "output_type": "stream",
     "text": [
      " 72%|███████▏  | 72202/100001 [2:45:00<52:46,  8.78it/s]"
     ]
    },
    {
     "name": "stdout",
     "output_type": "stream",
     "text": [
      "GAN: loss d: 3.93368    loss g: -2.38775\n"
     ]
    },
    {
     "name": "stderr",
     "output_type": "stream",
     "text": [
      " 72%|███████▏  | 72302/100001 [2:45:11<51:52,  8.90it/s]"
     ]
    },
    {
     "name": "stdout",
     "output_type": "stream",
     "text": [
      "GAN: loss d: 0.32247    loss g: -2.61693\n"
     ]
    },
    {
     "name": "stderr",
     "output_type": "stream",
     "text": [
      " 72%|███████▏  | 72402/100001 [2:45:22<52:00,  8.84it/s]"
     ]
    },
    {
     "name": "stdout",
     "output_type": "stream",
     "text": [
      "GAN: loss d: 4.78546    loss g: -2.20807\n"
     ]
    },
    {
     "name": "stderr",
     "output_type": "stream",
     "text": [
      " 73%|███████▎  | 72502/100001 [2:45:34<52:07,  8.79it/s]"
     ]
    },
    {
     "name": "stdout",
     "output_type": "stream",
     "text": [
      "GAN: loss d: 1.95151    loss g: -2.46511\n"
     ]
    },
    {
     "name": "stderr",
     "output_type": "stream",
     "text": [
      " 73%|███████▎  | 72602/100001 [2:45:45<50:51,  8.98it/s]"
     ]
    },
    {
     "name": "stdout",
     "output_type": "stream",
     "text": [
      "GAN: loss d: 1.38792    loss g: -3.60222\n"
     ]
    },
    {
     "name": "stderr",
     "output_type": "stream",
     "text": [
      " 73%|███████▎  | 72702/100001 [2:45:57<51:21,  8.86it/s]"
     ]
    },
    {
     "name": "stdout",
     "output_type": "stream",
     "text": [
      "GAN: loss d: 2.68699    loss g: -1.93093\n"
     ]
    },
    {
     "name": "stderr",
     "output_type": "stream",
     "text": [
      " 73%|███████▎  | 72802/100001 [2:46:08<50:58,  8.89it/s]"
     ]
    },
    {
     "name": "stdout",
     "output_type": "stream",
     "text": [
      "GAN: loss d: 3.87959    loss g: -2.35870\n"
     ]
    },
    {
     "name": "stderr",
     "output_type": "stream",
     "text": [
      " 73%|███████▎  | 72902/100001 [2:46:19<50:23,  8.96it/s]"
     ]
    },
    {
     "name": "stdout",
     "output_type": "stream",
     "text": [
      "GAN: loss d: 4.42990    loss g: -1.63337\n"
     ]
    },
    {
     "name": "stderr",
     "output_type": "stream",
     "text": [
      " 73%|███████▎  | 73000/100001 [2:46:30<50:37,  8.89it/s]"
     ]
    },
    {
     "name": "stdout",
     "output_type": "stream",
     "text": [
      "GAN: loss d: 5.56381    loss g: -3.17305\n",
      "saving current model\n"
     ]
    },
    {
     "name": "stderr",
     "output_type": "stream",
     "text": [
      "\n",
      "  0%|          | 0/175 [00:00<?, ?it/s]\u001b[A"
     ]
    },
    {
     "name": "stdout",
     "output_type": "stream",
     "text": [
      "Number of real images: 5626\n"
     ]
    },
    {
     "name": "stderr",
     "output_type": "stream",
     "text": [
      "\n",
      "\n",
      "  0%|          | 0/15 [00:00<?, ?it/s]\u001b[A\u001b[A"
     ]
    },
    {
     "name": "stdout",
     "output_type": "stream",
     "text": [
      "Number of synthetic images: 500\n"
     ]
    },
    {
     "name": "stderr",
     "output_type": "stream",
     "text": [
      " 73%|███████▎  | 73002/100001 [2:46:53<36:26:47,  4.86s/it]"
     ]
    },
    {
     "name": "stdout",
     "output_type": "stream",
     "text": [
      "Current fid score: 0.9562752157405896\n",
      "Fid scores: [5.359689818244959, 2.479945282201154, 4.276308166260009, 2.7291028486932554, 2.7908292593055535, 2.3554975684525594, 2.6142447727283162, 2.1934954575945866, 2.3990477193970783, 2.221711896216327, 2.3744210742787253, 2.066927836690496, 2.3716458827445166, 1.9648397602519267, 1.6998954497984542, 2.319731846121897, 1.7800607345901547, 1.4056094758332023, 1.1810571313010847, 1.443624370521686, 1.5078741613768791, 1.173364418143919, 1.2011170423314468, 1.0761087412681398, 1.2172281204321251, 1.000626947334709, 1.737750054809478, 2.0593230539007124, 2.160112364724526, 2.195316465388501, 2.2950768584747436, 2.5124235574475904, 2.475506166692888, 3.0757913554101854, 3.3013338688781992, 3.1298115638580413, 3.361620915033507, 2.3989658516000354, 1.4239996589152213, 1.3841070462580056, 0.8761920713293598, 0.8968581288108979, 0.9323025916764394, 1.2795383980460215, 1.1923953719678337, 1.4775258450924582, 1.2243412993235836, 1.3496958747738148, 1.546939973799251, 1.040973777795589, 1.0413172729060634, 1.0205480305498185, 1.3183341694682618, 0.8797026053507153, 0.8567828803491899, 1.0769886742341122, 0.8730820062121616, 1.106999851042218, 1.1093197035925257, 0.743205909564626, 1.041048778987438, 0.8566777191451536, 0.9813225837970734, 0.9843171522374483, 0.8424157107662538, 1.2353997849701912, 1.3380726899709607, 1.3012930998995103, 1.0876612213245274, 0.9504414477760186, 1.0793728213916438, 1.0040024359416861, 0.8540115679215035, 0.9562752157405896]\n"
     ]
    },
    {
     "name": "stderr",
     "output_type": "stream",
     "text": [
      "  0%|          | 0/175 [00:15<?, ?it/s]50:39,  8.87it/s]   \n",
      "  0%|          | 0/15 [00:06<?, ?it/s]\n",
      " 73%|███████▎  | 73101/100001 [2:47:04<51:59,  8.62it/s]"
     ]
    },
    {
     "name": "stdout",
     "output_type": "stream",
     "text": [
      "GAN: loss d: 1.65381    loss g: -1.97283\n"
     ]
    },
    {
     "name": "stderr",
     "output_type": "stream",
     "text": [
      " 73%|███████▎  | 73202/100001 [2:47:16<50:14,  8.89it/s]"
     ]
    },
    {
     "name": "stdout",
     "output_type": "stream",
     "text": [
      "GAN: loss d: 1.04517    loss g: -2.67023\n"
     ]
    },
    {
     "name": "stderr",
     "output_type": "stream",
     "text": [
      " 73%|███████▎  | 73302/100001 [2:47:27<49:28,  8.99it/s]"
     ]
    },
    {
     "name": "stdout",
     "output_type": "stream",
     "text": [
      "GAN: loss d: 4.17587    loss g: -2.05764\n"
     ]
    },
    {
     "name": "stderr",
     "output_type": "stream",
     "text": [
      " 73%|███████▎  | 73402/100001 [2:47:39<49:48,  8.90it/s]"
     ]
    },
    {
     "name": "stdout",
     "output_type": "stream",
     "text": [
      "GAN: loss d: 1.26797    loss g: -3.02831\n"
     ]
    },
    {
     "name": "stderr",
     "output_type": "stream",
     "text": [
      " 74%|███████▎  | 73501/100001 [2:47:50<52:28,  8.42it/s]"
     ]
    },
    {
     "name": "stdout",
     "output_type": "stream",
     "text": [
      "GAN: loss d: 3.85035    loss g: -2.07597\n"
     ]
    },
    {
     "name": "stderr",
     "output_type": "stream",
     "text": [
      " 74%|███████▎  | 73602/100001 [2:48:01<50:16,  8.75it/s]"
     ]
    },
    {
     "name": "stdout",
     "output_type": "stream",
     "text": [
      "GAN: loss d: 3.46521    loss g: -1.82915\n"
     ]
    },
    {
     "name": "stderr",
     "output_type": "stream",
     "text": [
      " 74%|███████▎  | 73701/100001 [2:48:12<54:12,  8.09it/s]"
     ]
    },
    {
     "name": "stdout",
     "output_type": "stream",
     "text": [
      "GAN: loss d: 6.78185    loss g: -3.09080\n"
     ]
    },
    {
     "name": "stderr",
     "output_type": "stream",
     "text": [
      " 74%|███████▍  | 73802/100001 [2:48:24<49:46,  8.77it/s]"
     ]
    },
    {
     "name": "stdout",
     "output_type": "stream",
     "text": [
      "GAN: loss d: 4.34554    loss g: -4.32333\n"
     ]
    },
    {
     "name": "stderr",
     "output_type": "stream",
     "text": [
      " 74%|███████▍  | 73901/100001 [2:48:35<50:37,  8.59it/s]"
     ]
    },
    {
     "name": "stdout",
     "output_type": "stream",
     "text": [
      "GAN: loss d: 2.97381    loss g: -2.86709\n"
     ]
    },
    {
     "name": "stderr",
     "output_type": "stream",
     "text": [
      " 74%|███████▍  | 74000/100001 [2:48:46<49:07,  8.82it/s]"
     ]
    },
    {
     "name": "stdout",
     "output_type": "stream",
     "text": [
      "GAN: loss d: 3.58841    loss g: -1.81912\n",
      "saving current model\n"
     ]
    },
    {
     "name": "stderr",
     "output_type": "stream",
     "text": [
      "\n",
      "  0%|          | 0/175 [00:00<?, ?it/s]\u001b[A"
     ]
    },
    {
     "name": "stdout",
     "output_type": "stream",
     "text": [
      "Number of real images: 5626\n"
     ]
    },
    {
     "name": "stderr",
     "output_type": "stream",
     "text": [
      "\n",
      "\n",
      "  0%|          | 0/15 [00:00<?, ?it/s]\u001b[A\u001b[A"
     ]
    },
    {
     "name": "stdout",
     "output_type": "stream",
     "text": [
      "Number of synthetic images: 500\n"
     ]
    },
    {
     "name": "stderr",
     "output_type": "stream",
     "text": [
      " 74%|███████▍  | 74002/100001 [2:49:09<35:34:36,  4.93s/it]"
     ]
    },
    {
     "name": "stdout",
     "output_type": "stream",
     "text": [
      "Current fid score: 0.9313207139124025\n",
      "Fid scores: [5.359689818244959, 2.479945282201154, 4.276308166260009, 2.7291028486932554, 2.7908292593055535, 2.3554975684525594, 2.6142447727283162, 2.1934954575945866, 2.3990477193970783, 2.221711896216327, 2.3744210742787253, 2.066927836690496, 2.3716458827445166, 1.9648397602519267, 1.6998954497984542, 2.319731846121897, 1.7800607345901547, 1.4056094758332023, 1.1810571313010847, 1.443624370521686, 1.5078741613768791, 1.173364418143919, 1.2011170423314468, 1.0761087412681398, 1.2172281204321251, 1.000626947334709, 1.737750054809478, 2.0593230539007124, 2.160112364724526, 2.195316465388501, 2.2950768584747436, 2.5124235574475904, 2.475506166692888, 3.0757913554101854, 3.3013338688781992, 3.1298115638580413, 3.361620915033507, 2.3989658516000354, 1.4239996589152213, 1.3841070462580056, 0.8761920713293598, 0.8968581288108979, 0.9323025916764394, 1.2795383980460215, 1.1923953719678337, 1.4775258450924582, 1.2243412993235836, 1.3496958747738148, 1.546939973799251, 1.040973777795589, 1.0413172729060634, 1.0205480305498185, 1.3183341694682618, 0.8797026053507153, 0.8567828803491899, 1.0769886742341122, 0.8730820062121616, 1.106999851042218, 1.1093197035925257, 0.743205909564626, 1.041048778987438, 0.8566777191451536, 0.9813225837970734, 0.9843171522374483, 0.8424157107662538, 1.2353997849701912, 1.3380726899709607, 1.3012930998995103, 1.0876612213245274, 0.9504414477760186, 1.0793728213916438, 1.0040024359416861, 0.8540115679215035, 0.9562752157405896, 0.9313207139124025]\n"
     ]
    },
    {
     "name": "stderr",
     "output_type": "stream",
     "text": [
      "  0%|          | 0/175 [00:10<?, ?it/s]3:40:04,  1.97it/s] \n",
      "  0%|          | 0/15 [00:01<?, ?it/s]\n",
      " 74%|███████▍  | 74102/100001 [2:49:21<48:19,  8.93it/s]  "
     ]
    },
    {
     "name": "stdout",
     "output_type": "stream",
     "text": [
      "GAN: loss d: 1.98302    loss g: -1.49947\n"
     ]
    },
    {
     "name": "stderr",
     "output_type": "stream",
     "text": [
      " 74%|███████▍  | 74201/100001 [2:49:32<50:02,  8.59it/s]"
     ]
    },
    {
     "name": "stdout",
     "output_type": "stream",
     "text": [
      "GAN: loss d: 3.31661    loss g: -2.25392\n"
     ]
    },
    {
     "name": "stderr",
     "output_type": "stream",
     "text": [
      " 74%|███████▍  | 74302/100001 [2:49:44<48:00,  8.92it/s]"
     ]
    },
    {
     "name": "stdout",
     "output_type": "stream",
     "text": [
      "GAN: loss d: 4.35586    loss g: -2.64194\n"
     ]
    },
    {
     "name": "stderr",
     "output_type": "stream",
     "text": [
      " 74%|███████▍  | 74402/100001 [2:49:55<48:55,  8.72it/s]"
     ]
    },
    {
     "name": "stdout",
     "output_type": "stream",
     "text": [
      "GAN: loss d: 2.03637    loss g: -2.35982\n"
     ]
    },
    {
     "name": "stderr",
     "output_type": "stream",
     "text": [
      " 75%|███████▍  | 74502/100001 [2:50:06<48:41,  8.73it/s]"
     ]
    },
    {
     "name": "stdout",
     "output_type": "stream",
     "text": [
      "GAN: loss d: 3.81413    loss g: -2.59043\n"
     ]
    },
    {
     "name": "stderr",
     "output_type": "stream",
     "text": [
      " 75%|███████▍  | 74602/100001 [2:50:18<47:44,  8.87it/s]"
     ]
    },
    {
     "name": "stdout",
     "output_type": "stream",
     "text": [
      "GAN: loss d: 5.61528    loss g: -2.07853\n"
     ]
    },
    {
     "name": "stderr",
     "output_type": "stream",
     "text": [
      " 75%|███████▍  | 74701/100001 [2:50:29<49:03,  8.59it/s]"
     ]
    },
    {
     "name": "stdout",
     "output_type": "stream",
     "text": [
      "GAN: loss d: 2.58503    loss g: -3.02508\n"
     ]
    },
    {
     "name": "stderr",
     "output_type": "stream",
     "text": [
      " 75%|███████▍  | 74802/100001 [2:50:40<47:37,  8.82it/s]"
     ]
    },
    {
     "name": "stdout",
     "output_type": "stream",
     "text": [
      "GAN: loss d: 3.29506    loss g: -2.16028\n"
     ]
    },
    {
     "name": "stderr",
     "output_type": "stream",
     "text": [
      " 75%|███████▍  | 74902/100001 [2:50:52<47:04,  8.89it/s]"
     ]
    },
    {
     "name": "stdout",
     "output_type": "stream",
     "text": [
      "GAN: loss d: 2.30043    loss g: -3.71855\n"
     ]
    },
    {
     "name": "stderr",
     "output_type": "stream",
     "text": [
      " 75%|███████▍  | 75000/100001 [2:51:03<47:19,  8.81it/s]"
     ]
    },
    {
     "name": "stdout",
     "output_type": "stream",
     "text": [
      "GAN: loss d: 4.57770    loss g: -2.14455\n",
      "saving current model\n"
     ]
    },
    {
     "name": "stderr",
     "output_type": "stream",
     "text": [
      "\n",
      "  0%|          | 0/175 [00:00<?, ?it/s]\u001b[A"
     ]
    },
    {
     "name": "stdout",
     "output_type": "stream",
     "text": [
      "Number of real images: 5626\n"
     ]
    },
    {
     "name": "stderr",
     "output_type": "stream",
     "text": [
      "\n",
      "\n",
      "  0%|          | 0/15 [00:00<?, ?it/s]\u001b[A\u001b[A"
     ]
    },
    {
     "name": "stdout",
     "output_type": "stream",
     "text": [
      "Number of synthetic images: 500\n"
     ]
    },
    {
     "name": "stderr",
     "output_type": "stream",
     "text": [
      "  0%|          | 0/175 [00:09<?, ?it/s]\n",
      "  0%|          | 0/15 [00:00<?, ?it/s]"
     ]
    },
    {
     "name": "stdout",
     "output_type": "stream",
     "text": [
      "Current fid score: 0.7382853603752721\n",
      "Fid scores: [5.359689818244959, 2.479945282201154, 4.276308166260009, 2.7291028486932554, 2.7908292593055535, 2.3554975684525594, 2.6142447727283162, 2.1934954575945866, 2.3990477193970783, 2.221711896216327, 2.3744210742787253, 2.066927836690496, 2.3716458827445166, 1.9648397602519267, 1.6998954497984542, 2.319731846121897, 1.7800607345901547, 1.4056094758332023, 1.1810571313010847, 1.443624370521686, 1.5078741613768791, 1.173364418143919, 1.2011170423314468, 1.0761087412681398, 1.2172281204321251, 1.000626947334709, 1.737750054809478, 2.0593230539007124, 2.160112364724526, 2.195316465388501, 2.2950768584747436, 2.5124235574475904, 2.475506166692888, 3.0757913554101854, 3.3013338688781992, 3.1298115638580413, 3.361620915033507, 2.3989658516000354, 1.4239996589152213, 1.3841070462580056, 0.8761920713293598, 0.8968581288108979, 0.9323025916764394, 1.2795383980460215, 1.1923953719678337, 1.4775258450924582, 1.2243412993235836, 1.3496958747738148, 1.546939973799251, 1.040973777795589, 1.0413172729060634, 1.0205480305498185, 1.3183341694682618, 0.8797026053507153, 0.8567828803491899, 1.0769886742341122, 0.8730820062121616, 1.106999851042218, 1.1093197035925257, 0.743205909564626, 1.041048778987438, 0.8566777191451536, 0.9813225837970734, 0.9843171522374483, 0.8424157107662538, 1.2353997849701912, 1.3380726899709607, 1.3012930998995103, 1.0876612213245274, 0.9504414477760186, 1.0793728213916438, 1.0040024359416861, 0.8540115679215035, 0.9562752157405896, 0.9313207139124025, 0.7382853603752721]\n",
      "New min fid score: 0.738285360375\n",
      "Saving best model\n"
     ]
    },
    {
     "name": "stderr",
     "output_type": "stream",
     "text": [
      "\n",
      " 75%|███████▌  | 75102/100001 [2:51:41<47:45,  8.69it/s]   "
     ]
    },
    {
     "name": "stdout",
     "output_type": "stream",
     "text": [
      "GAN: loss d: 2.81962    loss g: -2.18941\n"
     ]
    },
    {
     "name": "stderr",
     "output_type": "stream",
     "text": [
      " 75%|███████▌  | 75202/100001 [2:51:52<46:32,  8.88it/s]"
     ]
    },
    {
     "name": "stdout",
     "output_type": "stream",
     "text": [
      "GAN: loss d: 4.40156    loss g: -2.13701\n"
     ]
    },
    {
     "name": "stderr",
     "output_type": "stream",
     "text": [
      " 75%|███████▌  | 75302/100001 [2:52:03<46:07,  8.92it/s]"
     ]
    },
    {
     "name": "stdout",
     "output_type": "stream",
     "text": [
      "GAN: loss d: 0.61520    loss g: -1.88538\n"
     ]
    },
    {
     "name": "stderr",
     "output_type": "stream",
     "text": [
      " 75%|███████▌  | 75402/100001 [2:52:15<46:22,  8.84it/s]"
     ]
    },
    {
     "name": "stdout",
     "output_type": "stream",
     "text": [
      "GAN: loss d: 3.60321    loss g: -3.40012\n"
     ]
    },
    {
     "name": "stderr",
     "output_type": "stream",
     "text": [
      " 76%|███████▌  | 75502/100001 [2:52:26<46:11,  8.84it/s]"
     ]
    },
    {
     "name": "stdout",
     "output_type": "stream",
     "text": [
      "GAN: loss d: -0.36575    loss g: -1.36456\n"
     ]
    },
    {
     "name": "stderr",
     "output_type": "stream",
     "text": [
      " 76%|███████▌  | 75602/100001 [2:52:37<47:54,  8.49it/s]"
     ]
    },
    {
     "name": "stdout",
     "output_type": "stream",
     "text": [
      "GAN: loss d: 0.28247    loss g: -1.59968\n"
     ]
    },
    {
     "name": "stderr",
     "output_type": "stream",
     "text": [
      " 76%|███████▌  | 75702/100001 [2:52:49<46:04,  8.79it/s]"
     ]
    },
    {
     "name": "stdout",
     "output_type": "stream",
     "text": [
      "GAN: loss d: 3.45234    loss g: -3.26800\n"
     ]
    },
    {
     "name": "stderr",
     "output_type": "stream",
     "text": [
      " 76%|███████▌  | 75802/100001 [2:53:00<46:27,  8.68it/s]"
     ]
    },
    {
     "name": "stdout",
     "output_type": "stream",
     "text": [
      "GAN: loss d: 4.28202    loss g: -1.89495\n"
     ]
    },
    {
     "name": "stderr",
     "output_type": "stream",
     "text": [
      " 76%|███████▌  | 75902/100001 [2:53:12<44:59,  8.93it/s]"
     ]
    },
    {
     "name": "stdout",
     "output_type": "stream",
     "text": [
      "GAN: loss d: 4.02332    loss g: -3.60538\n"
     ]
    },
    {
     "name": "stderr",
     "output_type": "stream",
     "text": [
      " 76%|███████▌  | 76000/100001 [2:53:23<45:28,  8.80it/s]"
     ]
    },
    {
     "name": "stdout",
     "output_type": "stream",
     "text": [
      "GAN: loss d: 3.29671    loss g: -2.64446\n",
      "saving current model\n"
     ]
    },
    {
     "name": "stderr",
     "output_type": "stream",
     "text": [
      "\n",
      "  0%|          | 0/175 [00:00<?, ?it/s]\u001b[A"
     ]
    },
    {
     "name": "stdout",
     "output_type": "stream",
     "text": [
      "Number of real images: 5626\n"
     ]
    },
    {
     "name": "stderr",
     "output_type": "stream",
     "text": [
      "\n",
      "\n",
      "  0%|          | 0/15 [00:00<?, ?it/s]\u001b[A\u001b[A"
     ]
    },
    {
     "name": "stdout",
     "output_type": "stream",
     "text": [
      "Number of synthetic images: 500\n"
     ]
    },
    {
     "name": "stderr",
     "output_type": "stream",
     "text": [
      " 76%|███████▌  | 76002/100001 [2:53:46<33:21:08,  5.00s/it]"
     ]
    },
    {
     "name": "stdout",
     "output_type": "stream",
     "text": [
      "Current fid score: 0.7534168851628351\n",
      "Fid scores: [5.359689818244959, 2.479945282201154, 4.276308166260009, 2.7291028486932554, 2.7908292593055535, 2.3554975684525594, 2.6142447727283162, 2.1934954575945866, 2.3990477193970783, 2.221711896216327, 2.3744210742787253, 2.066927836690496, 2.3716458827445166, 1.9648397602519267, 1.6998954497984542, 2.319731846121897, 1.7800607345901547, 1.4056094758332023, 1.1810571313010847, 1.443624370521686, 1.5078741613768791, 1.173364418143919, 1.2011170423314468, 1.0761087412681398, 1.2172281204321251, 1.000626947334709, 1.737750054809478, 2.0593230539007124, 2.160112364724526, 2.195316465388501, 2.2950768584747436, 2.5124235574475904, 2.475506166692888, 3.0757913554101854, 3.3013338688781992, 3.1298115638580413, 3.361620915033507, 2.3989658516000354, 1.4239996589152213, 1.3841070462580056, 0.8761920713293598, 0.8968581288108979, 0.9323025916764394, 1.2795383980460215, 1.1923953719678337, 1.4775258450924582, 1.2243412993235836, 1.3496958747738148, 1.546939973799251, 1.040973777795589, 1.0413172729060634, 1.0205480305498185, 1.3183341694682618, 0.8797026053507153, 0.8567828803491899, 1.0769886742341122, 0.8730820062121616, 1.106999851042218, 1.1093197035925257, 0.743205909564626, 1.041048778987438, 0.8566777191451536, 0.9813225837970734, 0.9843171522374483, 0.8424157107662538, 1.2353997849701912, 1.3380726899709607, 1.3012930998995103, 1.0876612213245274, 0.9504414477760186, 1.0793728213916438, 1.0040024359416861, 0.8540115679215035, 0.9562752157405896, 0.9313207139124025, 0.7382853603752721, 0.7534168851628351]\n"
     ]
    },
    {
     "name": "stderr",
     "output_type": "stream",
     "text": [
      "  0%|          | 0/175 [00:15<?, ?it/s]44:21,  9.00it/s]   \n",
      "  0%|          | 0/15 [00:06<?, ?it/s]\n",
      " 76%|███████▌  | 76102/100001 [2:53:57<45:23,  8.77it/s]"
     ]
    },
    {
     "name": "stdout",
     "output_type": "stream",
     "text": [
      "GAN: loss d: 4.86458    loss g: -2.05516\n"
     ]
    },
    {
     "name": "stderr",
     "output_type": "stream",
     "text": [
      " 76%|███████▌  | 76202/100001 [2:54:09<45:04,  8.80it/s]"
     ]
    },
    {
     "name": "stdout",
     "output_type": "stream",
     "text": [
      "GAN: loss d: 2.99381    loss g: -2.38080\n"
     ]
    },
    {
     "name": "stderr",
     "output_type": "stream",
     "text": [
      " 76%|███████▋  | 76302/100001 [2:54:20<43:51,  9.01it/s]"
     ]
    },
    {
     "name": "stdout",
     "output_type": "stream",
     "text": [
      "GAN: loss d: 3.82046    loss g: -2.42214\n"
     ]
    },
    {
     "name": "stderr",
     "output_type": "stream",
     "text": [
      " 76%|███████▋  | 76402/100001 [2:54:31<45:29,  8.64it/s]"
     ]
    },
    {
     "name": "stdout",
     "output_type": "stream",
     "text": [
      "GAN: loss d: 4.25247    loss g: -2.88781\n"
     ]
    },
    {
     "name": "stderr",
     "output_type": "stream",
     "text": [
      " 77%|███████▋  | 76502/100001 [2:54:43<44:54,  8.72it/s]"
     ]
    },
    {
     "name": "stdout",
     "output_type": "stream",
     "text": [
      "GAN: loss d: 4.17260    loss g: -3.88360\n"
     ]
    },
    {
     "name": "stderr",
     "output_type": "stream",
     "text": [
      " 77%|███████▋  | 76602/100001 [2:54:54<44:17,  8.80it/s]"
     ]
    },
    {
     "name": "stdout",
     "output_type": "stream",
     "text": [
      "GAN: loss d: -0.72626    loss g: -3.19840\n"
     ]
    },
    {
     "name": "stderr",
     "output_type": "stream",
     "text": [
      " 77%|███████▋  | 76702/100001 [2:55:06<44:21,  8.75it/s]"
     ]
    },
    {
     "name": "stdout",
     "output_type": "stream",
     "text": [
      "GAN: loss d: 3.05908    loss g: -2.67102\n"
     ]
    },
    {
     "name": "stderr",
     "output_type": "stream",
     "text": [
      " 77%|███████▋  | 76802/100001 [2:55:17<44:37,  8.66it/s]"
     ]
    },
    {
     "name": "stdout",
     "output_type": "stream",
     "text": [
      "GAN: loss d: 1.98347    loss g: -2.40283\n"
     ]
    },
    {
     "name": "stderr",
     "output_type": "stream",
     "text": [
      " 77%|███████▋  | 76902/100001 [2:55:29<46:36,  8.26it/s]"
     ]
    },
    {
     "name": "stdout",
     "output_type": "stream",
     "text": [
      "GAN: loss d: 2.91480    loss g: -2.18538\n"
     ]
    },
    {
     "name": "stderr",
     "output_type": "stream",
     "text": [
      " 77%|███████▋  | 77000/100001 [2:55:40<44:29,  8.62it/s]"
     ]
    },
    {
     "name": "stdout",
     "output_type": "stream",
     "text": [
      "GAN: loss d: 4.87170    loss g: -1.68107\n",
      "saving current model\n"
     ]
    },
    {
     "name": "stderr",
     "output_type": "stream",
     "text": [
      "\n",
      "  0%|          | 0/175 [00:00<?, ?it/s]\u001b[A"
     ]
    },
    {
     "name": "stdout",
     "output_type": "stream",
     "text": [
      "Number of real images: 5626\n"
     ]
    },
    {
     "name": "stderr",
     "output_type": "stream",
     "text": [
      "\n",
      "\n",
      "  0%|          | 0/15 [00:00<?, ?it/s]\u001b[A\u001b[A"
     ]
    },
    {
     "name": "stdout",
     "output_type": "stream",
     "text": [
      "Number of synthetic images: 500\n"
     ]
    },
    {
     "name": "stderr",
     "output_type": "stream",
     "text": [
      " 77%|███████▋  | 77002/100001 [2:56:03<31:03:53,  4.86s/it]"
     ]
    },
    {
     "name": "stdout",
     "output_type": "stream",
     "text": [
      "Current fid score: 0.8613407250179037\n",
      "Fid scores: [5.359689818244959, 2.479945282201154, 4.276308166260009, 2.7291028486932554, 2.7908292593055535, 2.3554975684525594, 2.6142447727283162, 2.1934954575945866, 2.3990477193970783, 2.221711896216327, 2.3744210742787253, 2.066927836690496, 2.3716458827445166, 1.9648397602519267, 1.6998954497984542, 2.319731846121897, 1.7800607345901547, 1.4056094758332023, 1.1810571313010847, 1.443624370521686, 1.5078741613768791, 1.173364418143919, 1.2011170423314468, 1.0761087412681398, 1.2172281204321251, 1.000626947334709, 1.737750054809478, 2.0593230539007124, 2.160112364724526, 2.195316465388501, 2.2950768584747436, 2.5124235574475904, 2.475506166692888, 3.0757913554101854, 3.3013338688781992, 3.1298115638580413, 3.361620915033507, 2.3989658516000354, 1.4239996589152213, 1.3841070462580056, 0.8761920713293598, 0.8968581288108979, 0.9323025916764394, 1.2795383980460215, 1.1923953719678337, 1.4775258450924582, 1.2243412993235836, 1.3496958747738148, 1.546939973799251, 1.040973777795589, 1.0413172729060634, 1.0205480305498185, 1.3183341694682618, 0.8797026053507153, 0.8567828803491899, 1.0769886742341122, 0.8730820062121616, 1.106999851042218, 1.1093197035925257, 0.743205909564626, 1.041048778987438, 0.8566777191451536, 0.9813225837970734, 0.9843171522374483, 0.8424157107662538, 1.2353997849701912, 1.3380726899709607, 1.3012930998995103, 1.0876612213245274, 0.9504414477760186, 1.0793728213916438, 1.0040024359416861, 0.8540115679215035, 0.9562752157405896, 0.9313207139124025, 0.7382853603752721, 0.7534168851628351, 0.8613407250179037]\n"
     ]
    },
    {
     "name": "stderr",
     "output_type": "stream",
     "text": [
      "  0%|          | 0/175 [00:10<?, ?it/s]4:17:07,  1.49it/s] \n",
      "  0%|          | 0/15 [00:01<?, ?it/s]\n",
      " 77%|███████▋  | 77101/100001 [2:56:14<43:15,  8.82it/s]  "
     ]
    },
    {
     "name": "stdout",
     "output_type": "stream",
     "text": [
      "GAN: loss d: 1.65115    loss g: -2.21003\n"
     ]
    },
    {
     "name": "stderr",
     "output_type": "stream",
     "text": [
      " 77%|███████▋  | 77202/100001 [2:56:25<42:44,  8.89it/s]"
     ]
    },
    {
     "name": "stdout",
     "output_type": "stream",
     "text": [
      "GAN: loss d: 4.00411    loss g: -2.23643\n"
     ]
    },
    {
     "name": "stderr",
     "output_type": "stream",
     "text": [
      " 77%|███████▋  | 77301/100001 [2:56:36<43:38,  8.67it/s]"
     ]
    },
    {
     "name": "stdout",
     "output_type": "stream",
     "text": [
      "GAN: loss d: 2.97867    loss g: -3.27634\n"
     ]
    },
    {
     "name": "stderr",
     "output_type": "stream",
     "text": [
      " 77%|███████▋  | 77402/100001 [2:56:48<42:14,  8.92it/s]"
     ]
    },
    {
     "name": "stdout",
     "output_type": "stream",
     "text": [
      "GAN: loss d: 1.31168    loss g: -3.13381\n"
     ]
    },
    {
     "name": "stderr",
     "output_type": "stream",
     "text": [
      " 78%|███████▊  | 77502/100001 [2:56:59<41:29,  9.04it/s]"
     ]
    },
    {
     "name": "stdout",
     "output_type": "stream",
     "text": [
      "GAN: loss d: -0.41689    loss g: -2.11039\n"
     ]
    },
    {
     "name": "stderr",
     "output_type": "stream",
     "text": [
      " 78%|███████▊  | 77601/100001 [2:57:10<42:47,  8.72it/s]"
     ]
    },
    {
     "name": "stdout",
     "output_type": "stream",
     "text": [
      "GAN: loss d: 2.55066    loss g: -2.66655\n"
     ]
    },
    {
     "name": "stderr",
     "output_type": "stream",
     "text": [
      " 78%|███████▊  | 77702/100001 [2:57:22<41:27,  8.96it/s]"
     ]
    },
    {
     "name": "stdout",
     "output_type": "stream",
     "text": [
      "GAN: loss d: 2.61236    loss g: -2.18718\n"
     ]
    },
    {
     "name": "stderr",
     "output_type": "stream",
     "text": [
      " 78%|███████▊  | 77802/100001 [2:57:33<41:00,  9.02it/s]"
     ]
    },
    {
     "name": "stdout",
     "output_type": "stream",
     "text": [
      "GAN: loss d: 1.83959    loss g: -2.94080\n"
     ]
    },
    {
     "name": "stderr",
     "output_type": "stream",
     "text": [
      " 78%|███████▊  | 77902/100001 [2:57:44<40:59,  8.99it/s]"
     ]
    },
    {
     "name": "stdout",
     "output_type": "stream",
     "text": [
      "GAN: loss d: 4.15673    loss g: -2.56541\n"
     ]
    },
    {
     "name": "stderr",
     "output_type": "stream",
     "text": [
      " 78%|███████▊  | 78000/100001 [2:57:55<42:36,  8.61it/s]"
     ]
    },
    {
     "name": "stdout",
     "output_type": "stream",
     "text": [
      "GAN: loss d: 1.36725    loss g: -1.67364\n",
      "saving current model\n"
     ]
    },
    {
     "name": "stderr",
     "output_type": "stream",
     "text": [
      "\n",
      "  0%|          | 0/175 [00:00<?, ?it/s]\u001b[A"
     ]
    },
    {
     "name": "stdout",
     "output_type": "stream",
     "text": [
      "Number of real images: 5626\n"
     ]
    },
    {
     "name": "stderr",
     "output_type": "stream",
     "text": [
      "\n",
      "\n",
      "  0%|          | 0/15 [00:00<?, ?it/s]\u001b[A\u001b[A"
     ]
    },
    {
     "name": "stdout",
     "output_type": "stream",
     "text": [
      "Number of synthetic images: 500\n"
     ]
    },
    {
     "name": "stderr",
     "output_type": "stream",
     "text": [
      " 78%|███████▊  | 78002/100001 [2:58:17<28:18:36,  4.63s/it]"
     ]
    },
    {
     "name": "stdout",
     "output_type": "stream",
     "text": [
      "Current fid score: 0.7680069818412036\n",
      "Fid scores: [5.359689818244959, 2.479945282201154, 4.276308166260009, 2.7291028486932554, 2.7908292593055535, 2.3554975684525594, 2.6142447727283162, 2.1934954575945866, 2.3990477193970783, 2.221711896216327, 2.3744210742787253, 2.066927836690496, 2.3716458827445166, 1.9648397602519267, 1.6998954497984542, 2.319731846121897, 1.7800607345901547, 1.4056094758332023, 1.1810571313010847, 1.443624370521686, 1.5078741613768791, 1.173364418143919, 1.2011170423314468, 1.0761087412681398, 1.2172281204321251, 1.000626947334709, 1.737750054809478, 2.0593230539007124, 2.160112364724526, 2.195316465388501, 2.2950768584747436, 2.5124235574475904, 2.475506166692888, 3.0757913554101854, 3.3013338688781992, 3.1298115638580413, 3.361620915033507, 2.3989658516000354, 1.4239996589152213, 1.3841070462580056, 0.8761920713293598, 0.8968581288108979, 0.9323025916764394, 1.2795383980460215, 1.1923953719678337, 1.4775258450924582, 1.2243412993235836, 1.3496958747738148, 1.546939973799251, 1.040973777795589, 1.0413172729060634, 1.0205480305498185, 1.3183341694682618, 0.8797026053507153, 0.8567828803491899, 1.0769886742341122, 0.8730820062121616, 1.106999851042218, 1.1093197035925257, 0.743205909564626, 1.041048778987438, 0.8566777191451536, 0.9813225837970734, 0.9843171522374483, 0.8424157107662538, 1.2353997849701912, 1.3380726899709607, 1.3012930998995103, 1.0876612213245274, 0.9504414477760186, 1.0793728213916438, 1.0040024359416861, 0.8540115679215035, 0.9562752157405896, 0.9313207139124025, 0.7382853603752721, 0.7534168851628351, 0.8613407250179037, 0.7680069818412036]\n"
     ]
    },
    {
     "name": "stderr",
     "output_type": "stream",
     "text": [
      "  0%|          | 0/175 [00:11<?, ?it/s]1:27:20,  4.20it/s] \n",
      "  0%|          | 0/15 [00:02<?, ?it/s]\n",
      " 78%|███████▊  | 78101/100001 [2:58:28<42:06,  8.67it/s]  "
     ]
    },
    {
     "name": "stdout",
     "output_type": "stream",
     "text": [
      "GAN: loss d: 5.26372    loss g: -2.19378\n"
     ]
    },
    {
     "name": "stderr",
     "output_type": "stream",
     "text": [
      " 78%|███████▊  | 78202/100001 [2:58:40<42:01,  8.65it/s]"
     ]
    },
    {
     "name": "stdout",
     "output_type": "stream",
     "text": [
      "GAN: loss d: 4.36799    loss g: -1.51172\n"
     ]
    },
    {
     "name": "stderr",
     "output_type": "stream",
     "text": [
      " 78%|███████▊  | 78302/100001 [2:58:51<42:03,  8.60it/s]"
     ]
    },
    {
     "name": "stdout",
     "output_type": "stream",
     "text": [
      "GAN: loss d: 4.71637    loss g: -2.04673\n"
     ]
    },
    {
     "name": "stderr",
     "output_type": "stream",
     "text": [
      " 78%|███████▊  | 78402/100001 [2:59:03<39:54,  9.02it/s]"
     ]
    },
    {
     "name": "stdout",
     "output_type": "stream",
     "text": [
      "GAN: loss d: 4.71193    loss g: -2.02434\n"
     ]
    },
    {
     "name": "stderr",
     "output_type": "stream",
     "text": [
      " 79%|███████▊  | 78501/100001 [2:59:14<42:35,  8.41it/s]"
     ]
    },
    {
     "name": "stdout",
     "output_type": "stream",
     "text": [
      "GAN: loss d: 2.53383    loss g: -2.85403\n"
     ]
    },
    {
     "name": "stderr",
     "output_type": "stream",
     "text": [
      " 79%|███████▊  | 78602/100001 [2:59:25<40:43,  8.76it/s]"
     ]
    },
    {
     "name": "stdout",
     "output_type": "stream",
     "text": [
      "GAN: loss d: 3.73425    loss g: -1.58691\n"
     ]
    },
    {
     "name": "stderr",
     "output_type": "stream",
     "text": [
      " 79%|███████▊  | 78702/100001 [2:59:37<40:49,  8.70it/s]"
     ]
    },
    {
     "name": "stdout",
     "output_type": "stream",
     "text": [
      "GAN: loss d: 1.05507    loss g: -3.68139\n"
     ]
    },
    {
     "name": "stderr",
     "output_type": "stream",
     "text": [
      " 79%|███████▉  | 78801/100001 [2:59:48<41:14,  8.57it/s]"
     ]
    },
    {
     "name": "stdout",
     "output_type": "stream",
     "text": [
      "GAN: loss d: 0.74829    loss g: -2.12746\n"
     ]
    },
    {
     "name": "stderr",
     "output_type": "stream",
     "text": [
      " 79%|███████▉  | 78902/100001 [2:59:59<40:42,  8.64it/s]"
     ]
    },
    {
     "name": "stdout",
     "output_type": "stream",
     "text": [
      "GAN: loss d: 6.40548    loss g: -1.67513\n"
     ]
    },
    {
     "name": "stderr",
     "output_type": "stream",
     "text": [
      " 79%|███████▉  | 79000/100001 [3:00:11<40:11,  8.71it/s]"
     ]
    },
    {
     "name": "stdout",
     "output_type": "stream",
     "text": [
      "GAN: loss d: 5.23008    loss g: -2.43149\n",
      "saving current model\n"
     ]
    },
    {
     "name": "stderr",
     "output_type": "stream",
     "text": [
      "\n",
      "  0%|          | 0/175 [00:00<?, ?it/s]\u001b[A"
     ]
    },
    {
     "name": "stdout",
     "output_type": "stream",
     "text": [
      "Number of real images: 5626\n"
     ]
    },
    {
     "name": "stderr",
     "output_type": "stream",
     "text": [
      "\n",
      "\n",
      "  0%|          | 0/15 [00:00<?, ?it/s]\u001b[A\u001b[A"
     ]
    },
    {
     "name": "stdout",
     "output_type": "stream",
     "text": [
      "Number of synthetic images: 500\n"
     ]
    },
    {
     "name": "stderr",
     "output_type": "stream",
     "text": [
      " 79%|███████▉  | 79002/100001 [3:00:33<28:24:54,  4.87s/it]"
     ]
    },
    {
     "name": "stdout",
     "output_type": "stream",
     "text": [
      "Current fid score: 0.9393416270148585\n",
      "Fid scores: [5.359689818244959, 2.479945282201154, 4.276308166260009, 2.7291028486932554, 2.7908292593055535, 2.3554975684525594, 2.6142447727283162, 2.1934954575945866, 2.3990477193970783, 2.221711896216327, 2.3744210742787253, 2.066927836690496, 2.3716458827445166, 1.9648397602519267, 1.6998954497984542, 2.319731846121897, 1.7800607345901547, 1.4056094758332023, 1.1810571313010847, 1.443624370521686, 1.5078741613768791, 1.173364418143919, 1.2011170423314468, 1.0761087412681398, 1.2172281204321251, 1.000626947334709, 1.737750054809478, 2.0593230539007124, 2.160112364724526, 2.195316465388501, 2.2950768584747436, 2.5124235574475904, 2.475506166692888, 3.0757913554101854, 3.3013338688781992, 3.1298115638580413, 3.361620915033507, 2.3989658516000354, 1.4239996589152213, 1.3841070462580056, 0.8761920713293598, 0.8968581288108979, 0.9323025916764394, 1.2795383980460215, 1.1923953719678337, 1.4775258450924582, 1.2243412993235836, 1.3496958747738148, 1.546939973799251, 1.040973777795589, 1.0413172729060634, 1.0205480305498185, 1.3183341694682618, 0.8797026053507153, 0.8567828803491899, 1.0769886742341122, 0.8730820062121616, 1.106999851042218, 1.1093197035925257, 0.743205909564626, 1.041048778987438, 0.8566777191451536, 0.9813225837970734, 0.9843171522374483, 0.8424157107662538, 1.2353997849701912, 1.3380726899709607, 1.3012930998995103, 1.0876612213245274, 0.9504414477760186, 1.0793728213916438, 1.0040024359416861, 0.8540115679215035, 0.9562752157405896, 0.9313207139124025, 0.7382853603752721, 0.7534168851628351, 0.8613407250179037, 0.7680069818412036, 0.9393416270148585]\n"
     ]
    },
    {
     "name": "stderr",
     "output_type": "stream",
     "text": [
      "  0%|          | 0/175 [00:16<?, ?it/s]38:05,  9.16it/s]   \n",
      "  0%|          | 0/15 [00:07<?, ?it/s]\n",
      " 79%|███████▉  | 79101/100001 [3:00:45<39:31,  8.81it/s]"
     ]
    },
    {
     "name": "stdout",
     "output_type": "stream",
     "text": [
      "GAN: loss d: 3.22833    loss g: -3.11773\n"
     ]
    },
    {
     "name": "stderr",
     "output_type": "stream",
     "text": [
      " 79%|███████▉  | 79202/100001 [3:00:56<39:11,  8.85it/s]"
     ]
    },
    {
     "name": "stdout",
     "output_type": "stream",
     "text": [
      "GAN: loss d: 5.29146    loss g: -3.06741\n"
     ]
    },
    {
     "name": "stderr",
     "output_type": "stream",
     "text": [
      " 79%|███████▉  | 79302/100001 [3:01:07<39:50,  8.66it/s]"
     ]
    },
    {
     "name": "stdout",
     "output_type": "stream",
     "text": [
      "GAN: loss d: 1.93939    loss g: -2.05438\n"
     ]
    },
    {
     "name": "stderr",
     "output_type": "stream",
     "text": [
      " 79%|███████▉  | 79402/100001 [3:01:19<38:45,  8.86it/s]"
     ]
    },
    {
     "name": "stdout",
     "output_type": "stream",
     "text": [
      "GAN: loss d: 2.74451    loss g: -3.24512\n"
     ]
    },
    {
     "name": "stderr",
     "output_type": "stream",
     "text": [
      " 80%|███████▉  | 79502/100001 [3:01:30<38:09,  8.95it/s]"
     ]
    },
    {
     "name": "stdout",
     "output_type": "stream",
     "text": [
      "GAN: loss d: 1.69544    loss g: -2.89329\n"
     ]
    },
    {
     "name": "stderr",
     "output_type": "stream",
     "text": [
      " 80%|███████▉  | 79602/100001 [3:01:42<37:45,  9.01it/s]"
     ]
    },
    {
     "name": "stdout",
     "output_type": "stream",
     "text": [
      "GAN: loss d: 4.66540    loss g: -2.02921\n"
     ]
    },
    {
     "name": "stderr",
     "output_type": "stream",
     "text": [
      " 80%|███████▉  | 79702/100001 [3:01:53<37:41,  8.98it/s]"
     ]
    },
    {
     "name": "stdout",
     "output_type": "stream",
     "text": [
      "GAN: loss d: 5.75851    loss g: -2.54275\n"
     ]
    },
    {
     "name": "stderr",
     "output_type": "stream",
     "text": [
      " 80%|███████▉  | 79801/100001 [3:02:04<37:59,  8.86it/s]"
     ]
    },
    {
     "name": "stdout",
     "output_type": "stream",
     "text": [
      "GAN: loss d: 2.80060    loss g: -3.14295\n"
     ]
    },
    {
     "name": "stderr",
     "output_type": "stream",
     "text": [
      " 80%|███████▉  | 79902/100001 [3:02:16<38:32,  8.69it/s]"
     ]
    },
    {
     "name": "stdout",
     "output_type": "stream",
     "text": [
      "GAN: loss d: 4.90935    loss g: -2.75788\n"
     ]
    },
    {
     "name": "stderr",
     "output_type": "stream",
     "text": [
      " 80%|███████▉  | 80000/100001 [3:02:27<38:05,  8.75it/s]"
     ]
    },
    {
     "name": "stdout",
     "output_type": "stream",
     "text": [
      "GAN: loss d: 5.04159    loss g: -2.53297\n",
      "saving current model\n"
     ]
    },
    {
     "name": "stderr",
     "output_type": "stream",
     "text": [
      "\n",
      "  0%|          | 0/175 [00:00<?, ?it/s]\u001b[A"
     ]
    },
    {
     "name": "stdout",
     "output_type": "stream",
     "text": [
      "Number of real images: 5626\n"
     ]
    },
    {
     "name": "stderr",
     "output_type": "stream",
     "text": [
      "\n",
      "\n",
      "  0%|          | 0/15 [00:00<?, ?it/s]\u001b[A\u001b[A"
     ]
    },
    {
     "name": "stdout",
     "output_type": "stream",
     "text": [
      "Number of synthetic images: 500\n"
     ]
    },
    {
     "name": "stderr",
     "output_type": "stream",
     "text": [
      " 80%|████████  | 80002/100001 [3:02:49<26:41:22,  4.80s/it]"
     ]
    },
    {
     "name": "stdout",
     "output_type": "stream",
     "text": [
      "Current fid score: 1.159315215735596\n",
      "Fid scores: [5.359689818244959, 2.479945282201154, 4.276308166260009, 2.7291028486932554, 2.7908292593055535, 2.3554975684525594, 2.6142447727283162, 2.1934954575945866, 2.3990477193970783, 2.221711896216327, 2.3744210742787253, 2.066927836690496, 2.3716458827445166, 1.9648397602519267, 1.6998954497984542, 2.319731846121897, 1.7800607345901547, 1.4056094758332023, 1.1810571313010847, 1.443624370521686, 1.5078741613768791, 1.173364418143919, 1.2011170423314468, 1.0761087412681398, 1.2172281204321251, 1.000626947334709, 1.737750054809478, 2.0593230539007124, 2.160112364724526, 2.195316465388501, 2.2950768584747436, 2.5124235574475904, 2.475506166692888, 3.0757913554101854, 3.3013338688781992, 3.1298115638580413, 3.361620915033507, 2.3989658516000354, 1.4239996589152213, 1.3841070462580056, 0.8761920713293598, 0.8968581288108979, 0.9323025916764394, 1.2795383980460215, 1.1923953719678337, 1.4775258450924582, 1.2243412993235836, 1.3496958747738148, 1.546939973799251, 1.040973777795589, 1.0413172729060634, 1.0205480305498185, 1.3183341694682618, 0.8797026053507153, 0.8567828803491899, 1.0769886742341122, 0.8730820062121616, 1.106999851042218, 1.1093197035925257, 0.743205909564626, 1.041048778987438, 0.8566777191451536, 0.9813225837970734, 0.9843171522374483, 0.8424157107662538, 1.2353997849701912, 1.3380726899709607, 1.3012930998995103, 1.0876612213245274, 0.9504414477760186, 1.0793728213916438, 1.0040024359416861, 0.8540115679215035, 0.9562752157405896, 0.9313207139124025, 0.7382853603752721, 0.7534168851628351, 0.8613407250179037, 0.7680069818412036, 0.9393416270148585, 1.159315215735596]\n"
     ]
    },
    {
     "name": "stderr",
     "output_type": "stream",
     "text": [
      "  0%|          | 0/175 [00:14<?, ?it/s]38:21,  8.67it/s]   \n",
      "  0%|          | 0/15 [00:06<?, ?it/s]\n",
      " 80%|████████  | 80102/100001 [3:03:01<37:48,  8.77it/s]"
     ]
    },
    {
     "name": "stdout",
     "output_type": "stream",
     "text": [
      "GAN: loss d: 4.54707    loss g: -2.80913\n"
     ]
    },
    {
     "name": "stderr",
     "output_type": "stream",
     "text": [
      " 80%|████████  | 80201/100001 [3:03:12<38:20,  8.61it/s]"
     ]
    },
    {
     "name": "stdout",
     "output_type": "stream",
     "text": [
      "GAN: loss d: 2.90764    loss g: -1.91002\n"
     ]
    },
    {
     "name": "stderr",
     "output_type": "stream",
     "text": [
      " 80%|████████  | 80302/100001 [3:03:24<37:21,  8.79it/s]"
     ]
    },
    {
     "name": "stdout",
     "output_type": "stream",
     "text": [
      "GAN: loss d: 3.78453    loss g: -2.93150\n"
     ]
    },
    {
     "name": "stderr",
     "output_type": "stream",
     "text": [
      " 80%|████████  | 80402/100001 [3:03:35<36:44,  8.89it/s]"
     ]
    },
    {
     "name": "stdout",
     "output_type": "stream",
     "text": [
      "GAN: loss d: 2.45967    loss g: -1.89810\n"
     ]
    },
    {
     "name": "stderr",
     "output_type": "stream",
     "text": [
      " 81%|████████  | 80501/100001 [3:03:46<37:40,  8.63it/s]"
     ]
    },
    {
     "name": "stdout",
     "output_type": "stream",
     "text": [
      "GAN: loss d: 2.44445    loss g: -1.37859\n"
     ]
    },
    {
     "name": "stderr",
     "output_type": "stream",
     "text": [
      " 81%|████████  | 80602/100001 [3:03:58<36:00,  8.98it/s]"
     ]
    },
    {
     "name": "stdout",
     "output_type": "stream",
     "text": [
      "GAN: loss d: 4.82045    loss g: -2.69556\n"
     ]
    },
    {
     "name": "stderr",
     "output_type": "stream",
     "text": [
      " 81%|████████  | 80702/100001 [3:04:09<36:00,  8.93it/s]"
     ]
    },
    {
     "name": "stdout",
     "output_type": "stream",
     "text": [
      "GAN: loss d: 1.80248    loss g: -2.68661\n"
     ]
    },
    {
     "name": "stderr",
     "output_type": "stream",
     "text": [
      " 81%|████████  | 80801/100001 [3:04:20<37:09,  8.61it/s]"
     ]
    },
    {
     "name": "stdout",
     "output_type": "stream",
     "text": [
      "GAN: loss d: 4.69105    loss g: -2.30459\n"
     ]
    },
    {
     "name": "stderr",
     "output_type": "stream",
     "text": [
      " 81%|████████  | 80901/100001 [3:04:31<36:16,  8.78it/s]"
     ]
    },
    {
     "name": "stdout",
     "output_type": "stream",
     "text": [
      "GAN: loss d: 5.65140    loss g: -1.83225\n"
     ]
    },
    {
     "name": "stderr",
     "output_type": "stream",
     "text": [
      " 81%|████████  | 81000/100001 [3:04:43<36:17,  8.73it/s]"
     ]
    },
    {
     "name": "stdout",
     "output_type": "stream",
     "text": [
      "GAN: loss d: 3.54987    loss g: -3.66566\n",
      "saving current model\n"
     ]
    },
    {
     "name": "stderr",
     "output_type": "stream",
     "text": [
      "\n",
      "  0%|          | 0/175 [00:00<?, ?it/s]\u001b[A"
     ]
    },
    {
     "name": "stdout",
     "output_type": "stream",
     "text": [
      "Number of real images: 5626\n"
     ]
    },
    {
     "name": "stderr",
     "output_type": "stream",
     "text": [
      "\n",
      "\n",
      "  0%|          | 0/15 [00:00<?, ?it/s]\u001b[A\u001b[A"
     ]
    },
    {
     "name": "stdout",
     "output_type": "stream",
     "text": [
      "Number of synthetic images: 500\n"
     ]
    },
    {
     "name": "stderr",
     "output_type": "stream",
     "text": [
      " 81%|████████  | 81001/100001 [3:05:05<36:11:29,  6.86s/it]"
     ]
    },
    {
     "name": "stdout",
     "output_type": "stream",
     "text": [
      "Current fid score: 0.9946700293956034\n",
      "Fid scores: [5.359689818244959, 2.479945282201154, 4.276308166260009, 2.7291028486932554, 2.7908292593055535, 2.3554975684525594, 2.6142447727283162, 2.1934954575945866, 2.3990477193970783, 2.221711896216327, 2.3744210742787253, 2.066927836690496, 2.3716458827445166, 1.9648397602519267, 1.6998954497984542, 2.319731846121897, 1.7800607345901547, 1.4056094758332023, 1.1810571313010847, 1.443624370521686, 1.5078741613768791, 1.173364418143919, 1.2011170423314468, 1.0761087412681398, 1.2172281204321251, 1.000626947334709, 1.737750054809478, 2.0593230539007124, 2.160112364724526, 2.195316465388501, 2.2950768584747436, 2.5124235574475904, 2.475506166692888, 3.0757913554101854, 3.3013338688781992, 3.1298115638580413, 3.361620915033507, 2.3989658516000354, 1.4239996589152213, 1.3841070462580056, 0.8761920713293598, 0.8968581288108979, 0.9323025916764394, 1.2795383980460215, 1.1923953719678337, 1.4775258450924582, 1.2243412993235836, 1.3496958747738148, 1.546939973799251, 1.040973777795589, 1.0413172729060634, 1.0205480305498185, 1.3183341694682618, 0.8797026053507153, 0.8567828803491899, 1.0769886742341122, 0.8730820062121616, 1.106999851042218, 1.1093197035925257, 0.743205909564626, 1.041048778987438, 0.8566777191451536, 0.9813225837970734, 0.9843171522374483, 0.8424157107662538, 1.2353997849701912, 1.3380726899709607, 1.3012930998995103, 1.0876612213245274, 0.9504414477760186, 1.0793728213916438, 1.0040024359416861, 0.8540115679215035, 0.9562752157405896, 0.9313207139124025, 0.7382853603752721, 0.7534168851628351, 0.8613407250179037, 0.7680069818412036, 0.9393416270148585, 1.159315215735596, 0.9946700293956034]\n"
     ]
    },
    {
     "name": "stderr",
     "output_type": "stream",
     "text": [
      "  0%|          | 0/175 [00:10<?, ?it/s]1:59:39,  2.64it/s] \n",
      "  0%|          | 0/15 [00:02<?, ?it/s]\n",
      " 81%|████████  | 81102/100001 [3:05:17<37:47,  8.34it/s]  "
     ]
    },
    {
     "name": "stdout",
     "output_type": "stream",
     "text": [
      "GAN: loss d: 4.98008    loss g: -1.92401\n"
     ]
    },
    {
     "name": "stderr",
     "output_type": "stream",
     "text": [
      " 81%|████████  | 81202/100001 [3:05:28<35:20,  8.87it/s]"
     ]
    },
    {
     "name": "stdout",
     "output_type": "stream",
     "text": [
      "GAN: loss d: 5.23005    loss g: -2.24962\n"
     ]
    },
    {
     "name": "stderr",
     "output_type": "stream",
     "text": [
      " 81%|████████▏ | 81302/100001 [3:05:40<35:00,  8.90it/s]"
     ]
    },
    {
     "name": "stdout",
     "output_type": "stream",
     "text": [
      "GAN: loss d: 0.20101    loss g: -1.90223\n"
     ]
    },
    {
     "name": "stderr",
     "output_type": "stream",
     "text": [
      " 81%|████████▏ | 81402/100001 [3:05:51<35:26,  8.75it/s]"
     ]
    },
    {
     "name": "stdout",
     "output_type": "stream",
     "text": [
      "GAN: loss d: 0.32683    loss g: -3.44142\n"
     ]
    },
    {
     "name": "stderr",
     "output_type": "stream",
     "text": [
      " 82%|████████▏ | 81502/100001 [3:06:03<35:53,  8.59it/s]"
     ]
    },
    {
     "name": "stdout",
     "output_type": "stream",
     "text": [
      "GAN: loss d: 1.76849    loss g: -2.54267\n"
     ]
    },
    {
     "name": "stderr",
     "output_type": "stream",
     "text": [
      " 82%|████████▏ | 81602/100001 [3:06:14<34:58,  8.77it/s]"
     ]
    },
    {
     "name": "stdout",
     "output_type": "stream",
     "text": [
      "GAN: loss d: 2.11125    loss g: -2.48850\n"
     ]
    },
    {
     "name": "stderr",
     "output_type": "stream",
     "text": [
      " 82%|████████▏ | 81702/100001 [3:06:25<34:06,  8.94it/s]"
     ]
    },
    {
     "name": "stdout",
     "output_type": "stream",
     "text": [
      "GAN: loss d: 3.75911    loss g: -3.52671\n"
     ]
    },
    {
     "name": "stderr",
     "output_type": "stream",
     "text": [
      " 82%|████████▏ | 81801/100001 [3:06:37<35:04,  8.65it/s]"
     ]
    },
    {
     "name": "stdout",
     "output_type": "stream",
     "text": [
      "GAN: loss d: 0.17542    loss g: -3.15768\n"
     ]
    },
    {
     "name": "stderr",
     "output_type": "stream",
     "text": [
      " 82%|████████▏ | 81902/100001 [3:06:48<34:16,  8.80it/s]"
     ]
    },
    {
     "name": "stdout",
     "output_type": "stream",
     "text": [
      "GAN: loss d: 3.17201    loss g: -3.27656\n"
     ]
    },
    {
     "name": "stderr",
     "output_type": "stream",
     "text": [
      " 82%|████████▏ | 82000/100001 [3:06:59<33:41,  8.90it/s]"
     ]
    },
    {
     "name": "stdout",
     "output_type": "stream",
     "text": [
      "GAN: loss d: 1.21556    loss g: -3.38070\n",
      "saving current model\n"
     ]
    },
    {
     "name": "stderr",
     "output_type": "stream",
     "text": [
      "\n",
      "  0%|          | 0/175 [00:00<?, ?it/s]\u001b[A"
     ]
    },
    {
     "name": "stdout",
     "output_type": "stream",
     "text": [
      "Number of real images: 5626\n"
     ]
    },
    {
     "name": "stderr",
     "output_type": "stream",
     "text": [
      "\n",
      "\n",
      "  0%|          | 0/15 [00:00<?, ?it/s]\u001b[A\u001b[A"
     ]
    },
    {
     "name": "stdout",
     "output_type": "stream",
     "text": [
      "Number of synthetic images: 500\n"
     ]
    },
    {
     "name": "stderr",
     "output_type": "stream",
     "text": [
      " 82%|████████▏ | 82002/100001 [3:07:21<23:43:56,  4.75s/it]"
     ]
    },
    {
     "name": "stdout",
     "output_type": "stream",
     "text": [
      "Current fid score: 0.8738252785552731\n",
      "Fid scores: [5.359689818244959, 2.479945282201154, 4.276308166260009, 2.7291028486932554, 2.7908292593055535, 2.3554975684525594, 2.6142447727283162, 2.1934954575945866, 2.3990477193970783, 2.221711896216327, 2.3744210742787253, 2.066927836690496, 2.3716458827445166, 1.9648397602519267, 1.6998954497984542, 2.319731846121897, 1.7800607345901547, 1.4056094758332023, 1.1810571313010847, 1.443624370521686, 1.5078741613768791, 1.173364418143919, 1.2011170423314468, 1.0761087412681398, 1.2172281204321251, 1.000626947334709, 1.737750054809478, 2.0593230539007124, 2.160112364724526, 2.195316465388501, 2.2950768584747436, 2.5124235574475904, 2.475506166692888, 3.0757913554101854, 3.3013338688781992, 3.1298115638580413, 3.361620915033507, 2.3989658516000354, 1.4239996589152213, 1.3841070462580056, 0.8761920713293598, 0.8968581288108979, 0.9323025916764394, 1.2795383980460215, 1.1923953719678337, 1.4775258450924582, 1.2243412993235836, 1.3496958747738148, 1.546939973799251, 1.040973777795589, 1.0413172729060634, 1.0205480305498185, 1.3183341694682618, 0.8797026053507153, 0.8567828803491899, 1.0769886742341122, 0.8730820062121616, 1.106999851042218, 1.1093197035925257, 0.743205909564626, 1.041048778987438, 0.8566777191451536, 0.9813225837970734, 0.9843171522374483, 0.8424157107662538, 1.2353997849701912, 1.3380726899709607, 1.3012930998995103, 1.0876612213245274, 0.9504414477760186, 1.0793728213916438, 1.0040024359416861, 0.8540115679215035, 0.9562752157405896, 0.9313207139124025, 0.7382853603752721, 0.7534168851628351, 0.8613407250179037, 0.7680069818412036, 0.9393416270148585, 1.159315215735596, 0.9946700293956034, 0.8738252785552731]\n"
     ]
    },
    {
     "name": "stderr",
     "output_type": "stream",
     "text": [
      "  0%|          | 0/175 [00:19<?, ?it/s]33:51,  8.82it/s]   \n",
      "  0%|          | 0/15 [00:10<?, ?it/s]\n",
      " 82%|████████▏ | 82102/100001 [3:07:33<33:28,  8.91it/s]"
     ]
    },
    {
     "name": "stdout",
     "output_type": "stream",
     "text": [
      "GAN: loss d: -0.16014    loss g: -2.27956\n"
     ]
    },
    {
     "name": "stderr",
     "output_type": "stream",
     "text": [
      " 82%|████████▏ | 82202/100001 [3:07:44<32:56,  9.01it/s]"
     ]
    },
    {
     "name": "stdout",
     "output_type": "stream",
     "text": [
      "GAN: loss d: 1.27461    loss g: -2.08781\n"
     ]
    },
    {
     "name": "stderr",
     "output_type": "stream",
     "text": [
      " 82%|████████▏ | 82302/100001 [3:07:55<33:07,  8.91it/s]"
     ]
    },
    {
     "name": "stdout",
     "output_type": "stream",
     "text": [
      "GAN: loss d: 3.07359    loss g: -2.86345\n"
     ]
    },
    {
     "name": "stderr",
     "output_type": "stream",
     "text": [
      " 82%|████████▏ | 82402/100001 [3:08:07<34:47,  8.43it/s]"
     ]
    },
    {
     "name": "stdout",
     "output_type": "stream",
     "text": [
      "GAN: loss d: 3.66215    loss g: -1.68333\n"
     ]
    },
    {
     "name": "stderr",
     "output_type": "stream",
     "text": [
      " 83%|████████▎ | 82502/100001 [3:08:18<32:33,  8.96it/s]"
     ]
    },
    {
     "name": "stdout",
     "output_type": "stream",
     "text": [
      "GAN: loss d: 0.36365    loss g: -2.78959\n"
     ]
    },
    {
     "name": "stderr",
     "output_type": "stream",
     "text": [
      " 83%|████████▎ | 82602/100001 [3:08:30<32:33,  8.91it/s]"
     ]
    },
    {
     "name": "stdout",
     "output_type": "stream",
     "text": [
      "GAN: loss d: 1.31217    loss g: -2.54676\n"
     ]
    },
    {
     "name": "stderr",
     "output_type": "stream",
     "text": [
      " 83%|████████▎ | 82702/100001 [3:08:41<32:08,  8.97it/s]"
     ]
    },
    {
     "name": "stdout",
     "output_type": "stream",
     "text": [
      "GAN: loss d: 5.36409    loss g: -2.47306\n"
     ]
    },
    {
     "name": "stderr",
     "output_type": "stream",
     "text": [
      " 83%|████████▎ | 82802/100001 [3:08:52<32:21,  8.86it/s]"
     ]
    },
    {
     "name": "stdout",
     "output_type": "stream",
     "text": [
      "GAN: loss d: 3.41995    loss g: -1.77842\n"
     ]
    },
    {
     "name": "stderr",
     "output_type": "stream",
     "text": [
      " 83%|████████▎ | 82902/100001 [3:09:04<32:18,  8.82it/s]"
     ]
    },
    {
     "name": "stdout",
     "output_type": "stream",
     "text": [
      "GAN: loss d: 2.71182    loss g: -1.64066\n"
     ]
    },
    {
     "name": "stderr",
     "output_type": "stream",
     "text": [
      " 83%|████████▎ | 83000/100001 [3:09:15<32:00,  8.85it/s]"
     ]
    },
    {
     "name": "stdout",
     "output_type": "stream",
     "text": [
      "GAN: loss d: 3.47658    loss g: -3.68702\n",
      "saving current model\n"
     ]
    },
    {
     "name": "stderr",
     "output_type": "stream",
     "text": [
      "\n",
      "  0%|          | 0/175 [00:00<?, ?it/s]\u001b[A"
     ]
    },
    {
     "name": "stdout",
     "output_type": "stream",
     "text": [
      "Number of real images: 5626\n"
     ]
    },
    {
     "name": "stderr",
     "output_type": "stream",
     "text": [
      "\n",
      "\n",
      "  0%|          | 0/15 [00:00<?, ?it/s]\u001b[A\u001b[A"
     ]
    },
    {
     "name": "stdout",
     "output_type": "stream",
     "text": [
      "Number of synthetic images: 500\n"
     ]
    },
    {
     "name": "stderr",
     "output_type": "stream",
     "text": [
      "  0%|          | 0/175 [00:10<?, ?it/s]\n",
      "  0%|          | 0/15 [00:00<?, ?it/s]"
     ]
    },
    {
     "name": "stdout",
     "output_type": "stream",
     "text": [
      "Current fid score: 0.5127191479024731\n",
      "Fid scores: [5.359689818244959, 2.479945282201154, 4.276308166260009, 2.7291028486932554, 2.7908292593055535, 2.3554975684525594, 2.6142447727283162, 2.1934954575945866, 2.3990477193970783, 2.221711896216327, 2.3744210742787253, 2.066927836690496, 2.3716458827445166, 1.9648397602519267, 1.6998954497984542, 2.319731846121897, 1.7800607345901547, 1.4056094758332023, 1.1810571313010847, 1.443624370521686, 1.5078741613768791, 1.173364418143919, 1.2011170423314468, 1.0761087412681398, 1.2172281204321251, 1.000626947334709, 1.737750054809478, 2.0593230539007124, 2.160112364724526, 2.195316465388501, 2.2950768584747436, 2.5124235574475904, 2.475506166692888, 3.0757913554101854, 3.3013338688781992, 3.1298115638580413, 3.361620915033507, 2.3989658516000354, 1.4239996589152213, 1.3841070462580056, 0.8761920713293598, 0.8968581288108979, 0.9323025916764394, 1.2795383980460215, 1.1923953719678337, 1.4775258450924582, 1.2243412993235836, 1.3496958747738148, 1.546939973799251, 1.040973777795589, 1.0413172729060634, 1.0205480305498185, 1.3183341694682618, 0.8797026053507153, 0.8567828803491899, 1.0769886742341122, 0.8730820062121616, 1.106999851042218, 1.1093197035925257, 0.743205909564626, 1.041048778987438, 0.8566777191451536, 0.9813225837970734, 0.9843171522374483, 0.8424157107662538, 1.2353997849701912, 1.3380726899709607, 1.3012930998995103, 1.0876612213245274, 0.9504414477760186, 1.0793728213916438, 1.0040024359416861, 0.8540115679215035, 0.9562752157405896, 0.9313207139124025, 0.7382853603752721, 0.7534168851628351, 0.8613407250179037, 0.7680069818412036, 0.9393416270148585, 1.159315215735596, 0.9946700293956034, 0.8738252785552731, 0.5127191479024731]\n",
      "New min fid score: 0.512719147902\n",
      "Saving best model\n"
     ]
    },
    {
     "name": "stderr",
     "output_type": "stream",
     "text": [
      "\n",
      " 83%|████████▎ | 83102/100001 [3:09:53<31:21,  8.98it/s]   "
     ]
    },
    {
     "name": "stdout",
     "output_type": "stream",
     "text": [
      "GAN: loss d: 3.01148    loss g: -2.80108\n"
     ]
    },
    {
     "name": "stderr",
     "output_type": "stream",
     "text": [
      " 83%|████████▎ | 83201/100001 [3:10:04<31:37,  8.85it/s]"
     ]
    },
    {
     "name": "stdout",
     "output_type": "stream",
     "text": [
      "GAN: loss d: 4.98290    loss g: -2.25759\n"
     ]
    },
    {
     "name": "stderr",
     "output_type": "stream",
     "text": [
      " 83%|████████▎ | 83302/100001 [3:10:15<31:09,  8.93it/s]"
     ]
    },
    {
     "name": "stdout",
     "output_type": "stream",
     "text": [
      "GAN: loss d: 4.61568    loss g: -2.82339\n"
     ]
    },
    {
     "name": "stderr",
     "output_type": "stream",
     "text": [
      " 83%|████████▎ | 83402/100001 [3:10:27<31:54,  8.67it/s]"
     ]
    },
    {
     "name": "stdout",
     "output_type": "stream",
     "text": [
      "GAN: loss d: 2.96527    loss g: -2.40678\n"
     ]
    },
    {
     "name": "stderr",
     "output_type": "stream",
     "text": [
      " 84%|████████▎ | 83502/100001 [3:10:38<32:06,  8.57it/s]"
     ]
    },
    {
     "name": "stdout",
     "output_type": "stream",
     "text": [
      "GAN: loss d: 3.06574    loss g: -2.04157\n"
     ]
    },
    {
     "name": "stderr",
     "output_type": "stream",
     "text": [
      " 84%|████████▎ | 83602/100001 [3:10:49<30:31,  8.96it/s]"
     ]
    },
    {
     "name": "stdout",
     "output_type": "stream",
     "text": [
      "GAN: loss d: 7.29983    loss g: -2.23843\n"
     ]
    },
    {
     "name": "stderr",
     "output_type": "stream",
     "text": [
      " 84%|████████▎ | 83702/100001 [3:11:01<30:33,  8.89it/s]"
     ]
    },
    {
     "name": "stdout",
     "output_type": "stream",
     "text": [
      "GAN: loss d: 2.50735    loss g: -2.08372\n"
     ]
    },
    {
     "name": "stderr",
     "output_type": "stream",
     "text": [
      " 84%|████████▍ | 83802/100001 [3:11:12<30:41,  8.80it/s]"
     ]
    },
    {
     "name": "stdout",
     "output_type": "stream",
     "text": [
      "GAN: loss d: 5.03155    loss g: -2.81575\n"
     ]
    },
    {
     "name": "stderr",
     "output_type": "stream",
     "text": [
      " 84%|████████▍ | 83902/100001 [3:11:24<30:05,  8.91it/s]"
     ]
    },
    {
     "name": "stdout",
     "output_type": "stream",
     "text": [
      "GAN: loss d: 3.42293    loss g: -2.57851\n"
     ]
    },
    {
     "name": "stderr",
     "output_type": "stream",
     "text": [
      " 84%|████████▍ | 84000/100001 [3:11:35<29:16,  9.11it/s]"
     ]
    },
    {
     "name": "stdout",
     "output_type": "stream",
     "text": [
      "GAN: loss d: 3.53595    loss g: -2.06350\n",
      "saving current model\n"
     ]
    },
    {
     "name": "stderr",
     "output_type": "stream",
     "text": [
      "\n",
      "  0%|          | 0/175 [00:00<?, ?it/s]\u001b[A"
     ]
    },
    {
     "name": "stdout",
     "output_type": "stream",
     "text": [
      "Number of real images: 5626\n"
     ]
    },
    {
     "name": "stderr",
     "output_type": "stream",
     "text": [
      "\n",
      "\n",
      "  0%|          | 0/15 [00:00<?, ?it/s]\u001b[A\u001b[A"
     ]
    },
    {
     "name": "stdout",
     "output_type": "stream",
     "text": [
      "Number of synthetic images: 500\n"
     ]
    },
    {
     "name": "stderr",
     "output_type": "stream",
     "text": [
      "  0%|          | 0/175 [00:09<?, ?it/s]\n",
      "  0%|          | 0/15 [00:01<?, ?it/s]"
     ]
    },
    {
     "name": "stdout",
     "output_type": "stream",
     "text": [
      "Current fid score: 0.5008922532457483\n",
      "Fid scores: [5.359689818244959, 2.479945282201154, 4.276308166260009, 2.7291028486932554, 2.7908292593055535, 2.3554975684525594, 2.6142447727283162, 2.1934954575945866, 2.3990477193970783, 2.221711896216327, 2.3744210742787253, 2.066927836690496, 2.3716458827445166, 1.9648397602519267, 1.6998954497984542, 2.319731846121897, 1.7800607345901547, 1.4056094758332023, 1.1810571313010847, 1.443624370521686, 1.5078741613768791, 1.173364418143919, 1.2011170423314468, 1.0761087412681398, 1.2172281204321251, 1.000626947334709, 1.737750054809478, 2.0593230539007124, 2.160112364724526, 2.195316465388501, 2.2950768584747436, 2.5124235574475904, 2.475506166692888, 3.0757913554101854, 3.3013338688781992, 3.1298115638580413, 3.361620915033507, 2.3989658516000354, 1.4239996589152213, 1.3841070462580056, 0.8761920713293598, 0.8968581288108979, 0.9323025916764394, 1.2795383980460215, 1.1923953719678337, 1.4775258450924582, 1.2243412993235836, 1.3496958747738148, 1.546939973799251, 1.040973777795589, 1.0413172729060634, 1.0205480305498185, 1.3183341694682618, 0.8797026053507153, 0.8567828803491899, 1.0769886742341122, 0.8730820062121616, 1.106999851042218, 1.1093197035925257, 0.743205909564626, 1.041048778987438, 0.8566777191451536, 0.9813225837970734, 0.9843171522374483, 0.8424157107662538, 1.2353997849701912, 1.3380726899709607, 1.3012930998995103, 1.0876612213245274, 0.9504414477760186, 1.0793728213916438, 1.0040024359416861, 0.8540115679215035, 0.9562752157405896, 0.9313207139124025, 0.7382853603752721, 0.7534168851628351, 0.8613407250179037, 0.7680069818412036, 0.9393416270148585, 1.159315215735596, 0.9946700293956034, 0.8738252785552731, 0.5127191479024731, 0.5008922532457483]\n",
      "New min fid score: 0.500892253246\n",
      "Saving best model\n"
     ]
    },
    {
     "name": "stderr",
     "output_type": "stream",
     "text": [
      "\n",
      " 84%|████████▍ | 84102/100001 [3:12:11<29:42,  8.92it/s]   "
     ]
    },
    {
     "name": "stdout",
     "output_type": "stream",
     "text": [
      "GAN: loss d: 1.89456    loss g: -1.51053\n"
     ]
    },
    {
     "name": "stderr",
     "output_type": "stream",
     "text": [
      " 84%|████████▍ | 84202/100001 [3:12:22<30:04,  8.75it/s]"
     ]
    },
    {
     "name": "stdout",
     "output_type": "stream",
     "text": [
      "GAN: loss d: 2.56056    loss g: -2.74343\n"
     ]
    },
    {
     "name": "stderr",
     "output_type": "stream",
     "text": [
      " 84%|████████▍ | 84302/100001 [3:12:33<29:23,  8.90it/s]"
     ]
    },
    {
     "name": "stdout",
     "output_type": "stream",
     "text": [
      "GAN: loss d: 1.20422    loss g: -1.81231\n"
     ]
    },
    {
     "name": "stderr",
     "output_type": "stream",
     "text": [
      " 84%|████████▍ | 84402/100001 [3:12:45<29:07,  8.93it/s]"
     ]
    },
    {
     "name": "stdout",
     "output_type": "stream",
     "text": [
      "GAN: loss d: 1.46683    loss g: -1.44234\n"
     ]
    },
    {
     "name": "stderr",
     "output_type": "stream",
     "text": [
      " 85%|████████▍ | 84501/100001 [3:12:56<29:24,  8.78it/s]"
     ]
    },
    {
     "name": "stdout",
     "output_type": "stream",
     "text": [
      "GAN: loss d: 1.44088    loss g: -2.49575\n"
     ]
    },
    {
     "name": "stderr",
     "output_type": "stream",
     "text": [
      " 85%|████████▍ | 84602/100001 [3:13:07<28:48,  8.91it/s]"
     ]
    },
    {
     "name": "stdout",
     "output_type": "stream",
     "text": [
      "GAN: loss d: 4.26387    loss g: -1.46569\n"
     ]
    },
    {
     "name": "stderr",
     "output_type": "stream",
     "text": [
      " 85%|████████▍ | 84701/100001 [3:13:19<29:27,  8.66it/s]"
     ]
    },
    {
     "name": "stdout",
     "output_type": "stream",
     "text": [
      "GAN: loss d: 1.38331    loss g: -3.67488\n"
     ]
    },
    {
     "name": "stderr",
     "output_type": "stream",
     "text": [
      " 85%|████████▍ | 84802/100001 [3:13:30<28:52,  8.77it/s]"
     ]
    },
    {
     "name": "stdout",
     "output_type": "stream",
     "text": [
      "GAN: loss d: 5.72671    loss g: -2.66755\n"
     ]
    },
    {
     "name": "stderr",
     "output_type": "stream",
     "text": [
      " 85%|████████▍ | 84902/100001 [3:13:41<29:21,  8.57it/s]"
     ]
    },
    {
     "name": "stdout",
     "output_type": "stream",
     "text": [
      "GAN: loss d: 3.57830    loss g: -2.03839\n"
     ]
    },
    {
     "name": "stderr",
     "output_type": "stream",
     "text": [
      " 85%|████████▍ | 85000/100001 [3:13:52<28:31,  8.77it/s]"
     ]
    },
    {
     "name": "stdout",
     "output_type": "stream",
     "text": [
      "GAN: loss d: 2.08611    loss g: -2.86964\n",
      "saving current model\n"
     ]
    },
    {
     "name": "stderr",
     "output_type": "stream",
     "text": [
      "\n",
      "  0%|          | 0/175 [00:00<?, ?it/s]\u001b[A"
     ]
    },
    {
     "name": "stdout",
     "output_type": "stream",
     "text": [
      "Number of real images: 5626\n"
     ]
    },
    {
     "name": "stderr",
     "output_type": "stream",
     "text": [
      "\n",
      "\n",
      "  0%|          | 0/15 [00:00<?, ?it/s]\u001b[A\u001b[A"
     ]
    },
    {
     "name": "stdout",
     "output_type": "stream",
     "text": [
      "Number of synthetic images: 500\n"
     ]
    },
    {
     "name": "stderr",
     "output_type": "stream",
     "text": [
      " 85%|████████▌ | 85002/100001 [3:14:15<20:25:38,  4.90s/it]"
     ]
    },
    {
     "name": "stdout",
     "output_type": "stream",
     "text": [
      "Current fid score: 0.5501819891207447\n",
      "Fid scores: [5.359689818244959, 2.479945282201154, 4.276308166260009, 2.7291028486932554, 2.7908292593055535, 2.3554975684525594, 2.6142447727283162, 2.1934954575945866, 2.3990477193970783, 2.221711896216327, 2.3744210742787253, 2.066927836690496, 2.3716458827445166, 1.9648397602519267, 1.6998954497984542, 2.319731846121897, 1.7800607345901547, 1.4056094758332023, 1.1810571313010847, 1.443624370521686, 1.5078741613768791, 1.173364418143919, 1.2011170423314468, 1.0761087412681398, 1.2172281204321251, 1.000626947334709, 1.737750054809478, 2.0593230539007124, 2.160112364724526, 2.195316465388501, 2.2950768584747436, 2.5124235574475904, 2.475506166692888, 3.0757913554101854, 3.3013338688781992, 3.1298115638580413, 3.361620915033507, 2.3989658516000354, 1.4239996589152213, 1.3841070462580056, 0.8761920713293598, 0.8968581288108979, 0.9323025916764394, 1.2795383980460215, 1.1923953719678337, 1.4775258450924582, 1.2243412993235836, 1.3496958747738148, 1.546939973799251, 1.040973777795589, 1.0413172729060634, 1.0205480305498185, 1.3183341694682618, 0.8797026053507153, 0.8567828803491899, 1.0769886742341122, 0.8730820062121616, 1.106999851042218, 1.1093197035925257, 0.743205909564626, 1.041048778987438, 0.8566777191451536, 0.9813225837970734, 0.9843171522374483, 0.8424157107662538, 1.2353997849701912, 1.3380726899709607, 1.3012930998995103, 1.0876612213245274, 0.9504414477760186, 1.0793728213916438, 1.0040024359416861, 0.8540115679215035, 0.9562752157405896, 0.9313207139124025, 0.7382853603752721, 0.7534168851628351, 0.8613407250179037, 0.7680069818412036, 0.9393416270148585, 1.159315215735596, 0.9946700293956034, 0.8738252785552731, 0.5127191479024731, 0.5008922532457483, 0.5501819891207447]\n"
     ]
    },
    {
     "name": "stderr",
     "output_type": "stream",
     "text": [
      "  0%|          | 0/175 [00:20<?, ?it/s]28:26,  8.73it/s]   \n",
      "  0%|          | 0/15 [00:11<?, ?it/s]\n",
      " 85%|████████▌ | 85102/100001 [3:14:27<29:31,  8.41it/s]"
     ]
    },
    {
     "name": "stdout",
     "output_type": "stream",
     "text": [
      "GAN: loss d: 2.85520    loss g: -2.16270\n"
     ]
    },
    {
     "name": "stderr",
     "output_type": "stream",
     "text": [
      " 85%|████████▌ | 85202/100001 [3:14:38<27:31,  8.96it/s]"
     ]
    },
    {
     "name": "stdout",
     "output_type": "stream",
     "text": [
      "GAN: loss d: 6.09413    loss g: -3.40660\n"
     ]
    },
    {
     "name": "stderr",
     "output_type": "stream",
     "text": [
      " 85%|████████▌ | 85301/100001 [3:14:49<29:57,  8.18it/s]"
     ]
    },
    {
     "name": "stdout",
     "output_type": "stream",
     "text": [
      "GAN: loss d: 2.41072    loss g: -1.83165\n"
     ]
    },
    {
     "name": "stderr",
     "output_type": "stream",
     "text": [
      " 85%|████████▌ | 85402/100001 [3:15:01<27:44,  8.77it/s]"
     ]
    },
    {
     "name": "stdout",
     "output_type": "stream",
     "text": [
      "GAN: loss d: 1.62298    loss g: -1.40374\n"
     ]
    },
    {
     "name": "stderr",
     "output_type": "stream",
     "text": [
      " 86%|████████▌ | 85502/100001 [3:15:12<27:15,  8.87it/s]"
     ]
    },
    {
     "name": "stdout",
     "output_type": "stream",
     "text": [
      "GAN: loss d: 2.00143    loss g: -2.06075\n"
     ]
    },
    {
     "name": "stderr",
     "output_type": "stream",
     "text": [
      " 86%|████████▌ | 85602/100001 [3:15:23<27:52,  8.61it/s]"
     ]
    },
    {
     "name": "stdout",
     "output_type": "stream",
     "text": [
      "GAN: loss d: 4.62117    loss g: -1.78458\n"
     ]
    },
    {
     "name": "stderr",
     "output_type": "stream",
     "text": [
      " 86%|████████▌ | 85701/100001 [3:15:35<27:35,  8.64it/s]"
     ]
    },
    {
     "name": "stdout",
     "output_type": "stream",
     "text": [
      "GAN: loss d: 5.44948    loss g: -1.77229\n"
     ]
    },
    {
     "name": "stderr",
     "output_type": "stream",
     "text": [
      " 86%|████████▌ | 85802/100001 [3:15:46<26:57,  8.78it/s]"
     ]
    },
    {
     "name": "stdout",
     "output_type": "stream",
     "text": [
      "GAN: loss d: 2.16100    loss g: -1.99910\n"
     ]
    },
    {
     "name": "stderr",
     "output_type": "stream",
     "text": [
      " 86%|████████▌ | 85902/100001 [3:15:58<27:10,  8.65it/s]"
     ]
    },
    {
     "name": "stdout",
     "output_type": "stream",
     "text": [
      "GAN: loss d: 5.88142    loss g: -2.08650\n"
     ]
    },
    {
     "name": "stderr",
     "output_type": "stream",
     "text": [
      " 86%|████████▌ | 86000/100001 [3:16:09<26:22,  8.85it/s]"
     ]
    },
    {
     "name": "stdout",
     "output_type": "stream",
     "text": [
      "GAN: loss d: 1.31664    loss g: -2.03966\n",
      "saving current model\n"
     ]
    },
    {
     "name": "stderr",
     "output_type": "stream",
     "text": [
      "\n",
      "  0%|          | 0/175 [00:00<?, ?it/s]\u001b[A"
     ]
    },
    {
     "name": "stdout",
     "output_type": "stream",
     "text": [
      "Number of real images: 5626\n"
     ]
    },
    {
     "name": "stderr",
     "output_type": "stream",
     "text": [
      "\n",
      "\n",
      "  0%|          | 0/15 [00:00<?, ?it/s]\u001b[A\u001b[A"
     ]
    },
    {
     "name": "stdout",
     "output_type": "stream",
     "text": [
      "Number of synthetic images: 500\n"
     ]
    },
    {
     "name": "stderr",
     "output_type": "stream",
     "text": [
      " 86%|████████▌ | 86002/100001 [3:16:32<19:08:22,  4.92s/it]"
     ]
    },
    {
     "name": "stdout",
     "output_type": "stream",
     "text": [
      "Current fid score: 0.7775785598177798\n",
      "Fid scores: [5.359689818244959, 2.479945282201154, 4.276308166260009, 2.7291028486932554, 2.7908292593055535, 2.3554975684525594, 2.6142447727283162, 2.1934954575945866, 2.3990477193970783, 2.221711896216327, 2.3744210742787253, 2.066927836690496, 2.3716458827445166, 1.9648397602519267, 1.6998954497984542, 2.319731846121897, 1.7800607345901547, 1.4056094758332023, 1.1810571313010847, 1.443624370521686, 1.5078741613768791, 1.173364418143919, 1.2011170423314468, 1.0761087412681398, 1.2172281204321251, 1.000626947334709, 1.737750054809478, 2.0593230539007124, 2.160112364724526, 2.195316465388501, 2.2950768584747436, 2.5124235574475904, 2.475506166692888, 3.0757913554101854, 3.3013338688781992, 3.1298115638580413, 3.361620915033507, 2.3989658516000354, 1.4239996589152213, 1.3841070462580056, 0.8761920713293598, 0.8968581288108979, 0.9323025916764394, 1.2795383980460215, 1.1923953719678337, 1.4775258450924582, 1.2243412993235836, 1.3496958747738148, 1.546939973799251, 1.040973777795589, 1.0413172729060634, 1.0205480305498185, 1.3183341694682618, 0.8797026053507153, 0.8567828803491899, 1.0769886742341122, 0.8730820062121616, 1.106999851042218, 1.1093197035925257, 0.743205909564626, 1.041048778987438, 0.8566777191451536, 0.9813225837970734, 0.9843171522374483, 0.8424157107662538, 1.2353997849701912, 1.3380726899709607, 1.3012930998995103, 1.0876612213245274, 0.9504414477760186, 1.0793728213916438, 1.0040024359416861, 0.8540115679215035, 0.9562752157405896, 0.9313207139124025, 0.7382853603752721, 0.7534168851628351, 0.8613407250179037, 0.7680069818412036, 0.9393416270148585, 1.159315215735596, 0.9946700293956034, 0.8738252785552731, 0.5127191479024731, 0.5008922532457483, 0.5501819891207447, 0.7775785598177798]\n"
     ]
    },
    {
     "name": "stderr",
     "output_type": "stream",
     "text": [
      "  0%|          | 0/175 [00:16<?, ?it/s]25:50,  9.00it/s]   \n",
      "  0%|          | 0/15 [00:07<?, ?it/s]\n",
      " 86%|████████▌ | 86102/100001 [3:16:43<25:59,  8.91it/s]"
     ]
    },
    {
     "name": "stdout",
     "output_type": "stream",
     "text": [
      "GAN: loss d: 4.79320    loss g: -2.75703\n"
     ]
    },
    {
     "name": "stderr",
     "output_type": "stream",
     "text": [
      " 86%|████████▌ | 86202/100001 [3:16:55<26:31,  8.67it/s]"
     ]
    },
    {
     "name": "stdout",
     "output_type": "stream",
     "text": [
      "GAN: loss d: 2.55957    loss g: -2.29876\n"
     ]
    },
    {
     "name": "stderr",
     "output_type": "stream",
     "text": [
      " 86%|████████▋ | 86302/100001 [3:17:06<26:29,  8.62it/s]"
     ]
    },
    {
     "name": "stdout",
     "output_type": "stream",
     "text": [
      "GAN: loss d: 4.69964    loss g: -3.17259\n"
     ]
    },
    {
     "name": "stderr",
     "output_type": "stream",
     "text": [
      " 86%|████████▋ | 86402/100001 [3:17:18<25:38,  8.84it/s]"
     ]
    },
    {
     "name": "stdout",
     "output_type": "stream",
     "text": [
      "GAN: loss d: 0.95118    loss g: -2.05458\n"
     ]
    },
    {
     "name": "stderr",
     "output_type": "stream",
     "text": [
      " 87%|████████▋ | 86502/100001 [3:17:29<26:07,  8.61it/s]"
     ]
    },
    {
     "name": "stdout",
     "output_type": "stream",
     "text": [
      "GAN: loss d: 4.39046    loss g: -3.67584\n"
     ]
    },
    {
     "name": "stderr",
     "output_type": "stream",
     "text": [
      " 87%|████████▋ | 86602/100001 [3:17:41<26:02,  8.58it/s]"
     ]
    },
    {
     "name": "stdout",
     "output_type": "stream",
     "text": [
      "GAN: loss d: 6.09107    loss g: -2.25717\n"
     ]
    },
    {
     "name": "stderr",
     "output_type": "stream",
     "text": [
      " 87%|████████▋ | 86702/100001 [3:17:52<24:54,  8.90it/s]"
     ]
    },
    {
     "name": "stdout",
     "output_type": "stream",
     "text": [
      "GAN: loss d: 0.50422    loss g: -1.90702\n"
     ]
    },
    {
     "name": "stderr",
     "output_type": "stream",
     "text": [
      " 87%|████████▋ | 86802/100001 [3:18:04<24:56,  8.82it/s]"
     ]
    },
    {
     "name": "stdout",
     "output_type": "stream",
     "text": [
      "GAN: loss d: 2.54919    loss g: -2.38744\n"
     ]
    },
    {
     "name": "stderr",
     "output_type": "stream",
     "text": [
      " 87%|████████▋ | 86902/100001 [3:18:15<26:16,  8.31it/s]"
     ]
    },
    {
     "name": "stdout",
     "output_type": "stream",
     "text": [
      "GAN: loss d: 3.75022    loss g: -2.17715\n"
     ]
    },
    {
     "name": "stderr",
     "output_type": "stream",
     "text": [
      " 87%|████████▋ | 87000/100001 [3:18:26<24:00,  9.02it/s]"
     ]
    },
    {
     "name": "stdout",
     "output_type": "stream",
     "text": [
      "GAN: loss d: 1.64736    loss g: -4.01663\n",
      "saving current model\n"
     ]
    },
    {
     "name": "stderr",
     "output_type": "stream",
     "text": [
      "\n",
      "  0%|          | 0/175 [00:00<?, ?it/s]\u001b[A"
     ]
    },
    {
     "name": "stdout",
     "output_type": "stream",
     "text": [
      "Number of real images: 5626\n"
     ]
    },
    {
     "name": "stderr",
     "output_type": "stream",
     "text": [
      "\n",
      "\n",
      "  0%|          | 0/15 [00:00<?, ?it/s]\u001b[A\u001b[A"
     ]
    },
    {
     "name": "stdout",
     "output_type": "stream",
     "text": [
      "Number of synthetic images: 500\n"
     ]
    },
    {
     "name": "stderr",
     "output_type": "stream",
     "text": [
      " 87%|████████▋ | 87002/100001 [3:18:49<17:36:59,  4.88s/it]"
     ]
    },
    {
     "name": "stdout",
     "output_type": "stream",
     "text": [
      "Current fid score: 0.9029580042702747\n",
      "Fid scores: [5.359689818244959, 2.479945282201154, 4.276308166260009, 2.7291028486932554, 2.7908292593055535, 2.3554975684525594, 2.6142447727283162, 2.1934954575945866, 2.3990477193970783, 2.221711896216327, 2.3744210742787253, 2.066927836690496, 2.3716458827445166, 1.9648397602519267, 1.6998954497984542, 2.319731846121897, 1.7800607345901547, 1.4056094758332023, 1.1810571313010847, 1.443624370521686, 1.5078741613768791, 1.173364418143919, 1.2011170423314468, 1.0761087412681398, 1.2172281204321251, 1.000626947334709, 1.737750054809478, 2.0593230539007124, 2.160112364724526, 2.195316465388501, 2.2950768584747436, 2.5124235574475904, 2.475506166692888, 3.0757913554101854, 3.3013338688781992, 3.1298115638580413, 3.361620915033507, 2.3989658516000354, 1.4239996589152213, 1.3841070462580056, 0.8761920713293598, 0.8968581288108979, 0.9323025916764394, 1.2795383980460215, 1.1923953719678337, 1.4775258450924582, 1.2243412993235836, 1.3496958747738148, 1.546939973799251, 1.040973777795589, 1.0413172729060634, 1.0205480305498185, 1.3183341694682618, 0.8797026053507153, 0.8567828803491899, 1.0769886742341122, 0.8730820062121616, 1.106999851042218, 1.1093197035925257, 0.743205909564626, 1.041048778987438, 0.8566777191451536, 0.9813225837970734, 0.9843171522374483, 0.8424157107662538, 1.2353997849701912, 1.3380726899709607, 1.3012930998995103, 1.0876612213245274, 0.9504414477760186, 1.0793728213916438, 1.0040024359416861, 0.8540115679215035, 0.9562752157405896, 0.9313207139124025, 0.7382853603752721, 0.7534168851628351, 0.8613407250179037, 0.7680069818412036, 0.9393416270148585, 1.159315215735596, 0.9946700293956034, 0.8738252785552731, 0.5127191479024731, 0.5008922532457483, 0.5501819891207447, 0.7775785598177798, 0.9029580042702747]\n"
     ]
    },
    {
     "name": "stderr",
     "output_type": "stream",
     "text": [
      "  0%|          | 0/175 [00:10<?, ?it/s]2:26:13,  1.48it/s] \n",
      "  0%|          | 0/15 [00:01<?, ?it/s]\n",
      " 87%|████████▋ | 87101/100001 [3:19:00<25:07,  8.56it/s]  "
     ]
    },
    {
     "name": "stdout",
     "output_type": "stream",
     "text": [
      "GAN: loss d: 3.10078    loss g: -1.98908\n"
     ]
    },
    {
     "name": "stderr",
     "output_type": "stream",
     "text": [
      " 87%|████████▋ | 87201/100001 [3:19:11<25:00,  8.53it/s]"
     ]
    },
    {
     "name": "stdout",
     "output_type": "stream",
     "text": [
      "GAN: loss d: 4.71803    loss g: -4.03610\n"
     ]
    },
    {
     "name": "stderr",
     "output_type": "stream",
     "text": [
      " 87%|████████▋ | 87302/100001 [3:19:23<23:57,  8.83it/s]"
     ]
    },
    {
     "name": "stdout",
     "output_type": "stream",
     "text": [
      "GAN: loss d: 2.14614    loss g: -1.68666\n"
     ]
    },
    {
     "name": "stderr",
     "output_type": "stream",
     "text": [
      " 87%|████████▋ | 87402/100001 [3:19:34<23:12,  9.05it/s]"
     ]
    },
    {
     "name": "stdout",
     "output_type": "stream",
     "text": [
      "GAN: loss d: 3.36814    loss g: -1.50642\n"
     ]
    },
    {
     "name": "stderr",
     "output_type": "stream",
     "text": [
      " 88%|████████▊ | 87502/100001 [3:19:46<23:18,  8.94it/s]"
     ]
    },
    {
     "name": "stdout",
     "output_type": "stream",
     "text": [
      "GAN: loss d: -0.44948    loss g: -2.19507\n"
     ]
    },
    {
     "name": "stderr",
     "output_type": "stream",
     "text": [
      " 88%|████████▊ | 87602/100001 [3:19:57<23:43,  8.71it/s]"
     ]
    },
    {
     "name": "stdout",
     "output_type": "stream",
     "text": [
      "GAN: loss d: 2.42691    loss g: -2.16898\n"
     ]
    },
    {
     "name": "stderr",
     "output_type": "stream",
     "text": [
      " 88%|████████▊ | 87701/100001 [3:20:08<23:54,  8.58it/s]"
     ]
    },
    {
     "name": "stdout",
     "output_type": "stream",
     "text": [
      "GAN: loss d: 4.49753    loss g: -1.54481\n"
     ]
    },
    {
     "name": "stderr",
     "output_type": "stream",
     "text": [
      " 88%|████████▊ | 87802/100001 [3:20:20<22:54,  8.88it/s]"
     ]
    },
    {
     "name": "stdout",
     "output_type": "stream",
     "text": [
      "GAN: loss d: 0.75152    loss g: -2.40970\n"
     ]
    },
    {
     "name": "stderr",
     "output_type": "stream",
     "text": [
      " 88%|████████▊ | 87902/100001 [3:20:31<23:36,  8.54it/s]"
     ]
    },
    {
     "name": "stdout",
     "output_type": "stream",
     "text": [
      "GAN: loss d: 3.76737    loss g: -2.91647\n"
     ]
    },
    {
     "name": "stderr",
     "output_type": "stream",
     "text": [
      " 88%|████████▊ | 88000/100001 [3:20:42<22:03,  9.07it/s]"
     ]
    },
    {
     "name": "stdout",
     "output_type": "stream",
     "text": [
      "GAN: loss d: 2.64582    loss g: -4.17308\n",
      "saving current model\n"
     ]
    },
    {
     "name": "stderr",
     "output_type": "stream",
     "text": [
      "\n",
      "  0%|          | 0/175 [00:00<?, ?it/s]\u001b[A"
     ]
    },
    {
     "name": "stdout",
     "output_type": "stream",
     "text": [
      "Number of real images: 5626\n"
     ]
    },
    {
     "name": "stderr",
     "output_type": "stream",
     "text": [
      "\n",
      "\n",
      "  0%|          | 0/15 [00:00<?, ?it/s]\u001b[A\u001b[A"
     ]
    },
    {
     "name": "stdout",
     "output_type": "stream",
     "text": [
      "Number of synthetic images: 500\n"
     ]
    },
    {
     "name": "stderr",
     "output_type": "stream",
     "text": [
      " 88%|████████▊ | 88002/100001 [3:21:05<16:14:45,  4.87s/it]"
     ]
    },
    {
     "name": "stdout",
     "output_type": "stream",
     "text": [
      "Current fid score: 0.6972966558082696\n",
      "Fid scores: [5.359689818244959, 2.479945282201154, 4.276308166260009, 2.7291028486932554, 2.7908292593055535, 2.3554975684525594, 2.6142447727283162, 2.1934954575945866, 2.3990477193970783, 2.221711896216327, 2.3744210742787253, 2.066927836690496, 2.3716458827445166, 1.9648397602519267, 1.6998954497984542, 2.319731846121897, 1.7800607345901547, 1.4056094758332023, 1.1810571313010847, 1.443624370521686, 1.5078741613768791, 1.173364418143919, 1.2011170423314468, 1.0761087412681398, 1.2172281204321251, 1.000626947334709, 1.737750054809478, 2.0593230539007124, 2.160112364724526, 2.195316465388501, 2.2950768584747436, 2.5124235574475904, 2.475506166692888, 3.0757913554101854, 3.3013338688781992, 3.1298115638580413, 3.361620915033507, 2.3989658516000354, 1.4239996589152213, 1.3841070462580056, 0.8761920713293598, 0.8968581288108979, 0.9323025916764394, 1.2795383980460215, 1.1923953719678337, 1.4775258450924582, 1.2243412993235836, 1.3496958747738148, 1.546939973799251, 1.040973777795589, 1.0413172729060634, 1.0205480305498185, 1.3183341694682618, 0.8797026053507153, 0.8567828803491899, 1.0769886742341122, 0.8730820062121616, 1.106999851042218, 1.1093197035925257, 0.743205909564626, 1.041048778987438, 0.8566777191451536, 0.9813225837970734, 0.9843171522374483, 0.8424157107662538, 1.2353997849701912, 1.3380726899709607, 1.3012930998995103, 1.0876612213245274, 0.9504414477760186, 1.0793728213916438, 1.0040024359416861, 0.8540115679215035, 0.9562752157405896, 0.9313207139124025, 0.7382853603752721, 0.7534168851628351, 0.8613407250179037, 0.7680069818412036, 0.9393416270148585, 1.159315215735596, 0.9946700293956034, 0.8738252785552731, 0.5127191479024731, 0.5008922532457483, 0.5501819891207447, 0.7775785598177798, 0.9029580042702747, 0.6972966558082696]\n"
     ]
    },
    {
     "name": "stderr",
     "output_type": "stream",
     "text": [
      "  0%|          | 0/175 [00:11<?, ?it/s]49:30,  4.04it/s]   \n",
      "  0%|          | 0/15 [00:02<?, ?it/s]\n",
      " 88%|████████▊ | 88102/100001 [3:21:16<22:16,  8.90it/s]"
     ]
    },
    {
     "name": "stdout",
     "output_type": "stream",
     "text": [
      "GAN: loss d: 4.95879    loss g: -2.73412\n"
     ]
    },
    {
     "name": "stderr",
     "output_type": "stream",
     "text": [
      " 88%|████████▊ | 88201/100001 [3:21:28<22:43,  8.66it/s]"
     ]
    },
    {
     "name": "stdout",
     "output_type": "stream",
     "text": [
      "GAN: loss d: 2.60955    loss g: -3.37717\n"
     ]
    },
    {
     "name": "stderr",
     "output_type": "stream",
     "text": [
      " 88%|████████▊ | 88302/100001 [3:21:39<22:38,  8.61it/s]"
     ]
    },
    {
     "name": "stdout",
     "output_type": "stream",
     "text": [
      "GAN: loss d: 2.35726    loss g: -2.38985\n"
     ]
    },
    {
     "name": "stderr",
     "output_type": "stream",
     "text": [
      " 88%|████████▊ | 88402/100001 [3:21:51<21:40,  8.92it/s]"
     ]
    },
    {
     "name": "stdout",
     "output_type": "stream",
     "text": [
      "GAN: loss d: 3.99231    loss g: -1.81111\n"
     ]
    },
    {
     "name": "stderr",
     "output_type": "stream",
     "text": [
      " 89%|████████▊ | 88502/100001 [3:22:02<21:50,  8.78it/s]"
     ]
    },
    {
     "name": "stdout",
     "output_type": "stream",
     "text": [
      "GAN: loss d: 1.19287    loss g: -3.74098\n"
     ]
    },
    {
     "name": "stderr",
     "output_type": "stream",
     "text": [
      " 89%|████████▊ | 88602/100001 [3:22:14<21:34,  8.81it/s]"
     ]
    },
    {
     "name": "stdout",
     "output_type": "stream",
     "text": [
      "GAN: loss d: 3.52182    loss g: -1.53074\n"
     ]
    },
    {
     "name": "stderr",
     "output_type": "stream",
     "text": [
      " 89%|████████▊ | 88702/100001 [3:22:25<22:12,  8.48it/s]"
     ]
    },
    {
     "name": "stdout",
     "output_type": "stream",
     "text": [
      "GAN: loss d: 0.32254    loss g: -2.04413\n"
     ]
    },
    {
     "name": "stderr",
     "output_type": "stream",
     "text": [
      " 89%|████████▉ | 88801/100001 [3:22:36<21:47,  8.56it/s]"
     ]
    },
    {
     "name": "stdout",
     "output_type": "stream",
     "text": [
      "GAN: loss d: 3.26891    loss g: -2.83740\n"
     ]
    },
    {
     "name": "stderr",
     "output_type": "stream",
     "text": [
      " 89%|████████▉ | 88901/100001 [3:22:47<21:46,  8.50it/s]"
     ]
    },
    {
     "name": "stdout",
     "output_type": "stream",
     "text": [
      "GAN: loss d: 5.53350    loss g: -2.07551\n"
     ]
    },
    {
     "name": "stderr",
     "output_type": "stream",
     "text": [
      " 89%|████████▉ | 89000/100001 [3:22:59<21:19,  8.60it/s]"
     ]
    },
    {
     "name": "stdout",
     "output_type": "stream",
     "text": [
      "GAN: loss d: 4.61460    loss g: -2.65629\n",
      "saving current model\n"
     ]
    },
    {
     "name": "stderr",
     "output_type": "stream",
     "text": [
      "\n",
      "  0%|          | 0/175 [00:00<?, ?it/s]\u001b[A"
     ]
    },
    {
     "name": "stdout",
     "output_type": "stream",
     "text": [
      "Number of real images: 5626\n"
     ]
    },
    {
     "name": "stderr",
     "output_type": "stream",
     "text": [
      "\n",
      "\n",
      "  0%|          | 0/15 [00:00<?, ?it/s]\u001b[A\u001b[A"
     ]
    },
    {
     "name": "stdout",
     "output_type": "stream",
     "text": [
      "Number of synthetic images: 500\n"
     ]
    },
    {
     "name": "stderr",
     "output_type": "stream",
     "text": [
      " 89%|████████▉ | 89002/100001 [3:23:20<13:50:04,  4.53s/it]"
     ]
    },
    {
     "name": "stdout",
     "output_type": "stream",
     "text": [
      "Current fid score: 0.6222831780559126\n",
      "Fid scores: [5.359689818244959, 2.479945282201154, 4.276308166260009, 2.7291028486932554, 2.7908292593055535, 2.3554975684525594, 2.6142447727283162, 2.1934954575945866, 2.3990477193970783, 2.221711896216327, 2.3744210742787253, 2.066927836690496, 2.3716458827445166, 1.9648397602519267, 1.6998954497984542, 2.319731846121897, 1.7800607345901547, 1.4056094758332023, 1.1810571313010847, 1.443624370521686, 1.5078741613768791, 1.173364418143919, 1.2011170423314468, 1.0761087412681398, 1.2172281204321251, 1.000626947334709, 1.737750054809478, 2.0593230539007124, 2.160112364724526, 2.195316465388501, 2.2950768584747436, 2.5124235574475904, 2.475506166692888, 3.0757913554101854, 3.3013338688781992, 3.1298115638580413, 3.361620915033507, 2.3989658516000354, 1.4239996589152213, 1.3841070462580056, 0.8761920713293598, 0.8968581288108979, 0.9323025916764394, 1.2795383980460215, 1.1923953719678337, 1.4775258450924582, 1.2243412993235836, 1.3496958747738148, 1.546939973799251, 1.040973777795589, 1.0413172729060634, 1.0205480305498185, 1.3183341694682618, 0.8797026053507153, 0.8567828803491899, 1.0769886742341122, 0.8730820062121616, 1.106999851042218, 1.1093197035925257, 0.743205909564626, 1.041048778987438, 0.8566777191451536, 0.9813225837970734, 0.9843171522374483, 0.8424157107662538, 1.2353997849701912, 1.3380726899709607, 1.3012930998995103, 1.0876612213245274, 0.9504414477760186, 1.0793728213916438, 1.0040024359416861, 0.8540115679215035, 0.9562752157405896, 0.9313207139124025, 0.7382853603752721, 0.7534168851628351, 0.8613407250179037, 0.7680069818412036, 0.9393416270148585, 1.159315215735596, 0.9946700293956034, 0.8738252785552731, 0.5127191479024731, 0.5008922532457483, 0.5501819891207447, 0.7775785598177798, 0.9029580042702747, 0.6972966558082696, 0.6222831780559126]\n"
     ]
    },
    {
     "name": "stderr",
     "output_type": "stream",
     "text": [
      "  0%|          | 0/175 [00:16<?, ?it/s]20:46,  8.78it/s]   \n",
      "  0%|          | 0/15 [00:07<?, ?it/s]\n",
      " 89%|████████▉ | 89102/100001 [3:23:31<21:51,  8.31it/s]"
     ]
    },
    {
     "name": "stdout",
     "output_type": "stream",
     "text": [
      "GAN: loss d: 2.56986    loss g: -3.35625\n"
     ]
    },
    {
     "name": "stderr",
     "output_type": "stream",
     "text": [
      " 89%|████████▉ | 89202/100001 [3:23:43<20:57,  8.59it/s]"
     ]
    },
    {
     "name": "stdout",
     "output_type": "stream",
     "text": [
      "GAN: loss d: 2.85131    loss g: -2.36240\n"
     ]
    },
    {
     "name": "stderr",
     "output_type": "stream",
     "text": [
      " 89%|████████▉ | 89302/100001 [3:23:54<20:16,  8.80it/s]"
     ]
    },
    {
     "name": "stdout",
     "output_type": "stream",
     "text": [
      "GAN: loss d: 1.49054    loss g: -2.79605\n"
     ]
    },
    {
     "name": "stderr",
     "output_type": "stream",
     "text": [
      " 89%|████████▉ | 89402/100001 [3:24:06<20:05,  8.79it/s]"
     ]
    },
    {
     "name": "stdout",
     "output_type": "stream",
     "text": [
      "GAN: loss d: 3.61683    loss g: -3.08807\n"
     ]
    },
    {
     "name": "stderr",
     "output_type": "stream",
     "text": [
      " 90%|████████▉ | 89502/100001 [3:24:17<19:52,  8.81it/s]"
     ]
    },
    {
     "name": "stdout",
     "output_type": "stream",
     "text": [
      "GAN: loss d: 3.28240    loss g: -2.19849\n"
     ]
    },
    {
     "name": "stderr",
     "output_type": "stream",
     "text": [
      " 90%|████████▉ | 89602/100001 [3:24:29<19:55,  8.70it/s]"
     ]
    },
    {
     "name": "stdout",
     "output_type": "stream",
     "text": [
      "GAN: loss d: 3.80007    loss g: -1.90513\n"
     ]
    },
    {
     "name": "stderr",
     "output_type": "stream",
     "text": [
      " 90%|████████▉ | 89702/100001 [3:24:40<19:12,  8.94it/s]"
     ]
    },
    {
     "name": "stdout",
     "output_type": "stream",
     "text": [
      "GAN: loss d: 2.03664    loss g: -2.56683\n"
     ]
    },
    {
     "name": "stderr",
     "output_type": "stream",
     "text": [
      " 90%|████████▉ | 89802/100001 [3:24:51<19:07,  8.88it/s]"
     ]
    },
    {
     "name": "stdout",
     "output_type": "stream",
     "text": [
      "GAN: loss d: 2.42515    loss g: -2.52789\n"
     ]
    },
    {
     "name": "stderr",
     "output_type": "stream",
     "text": [
      " 90%|████████▉ | 89902/100001 [3:25:03<18:54,  8.90it/s]"
     ]
    },
    {
     "name": "stdout",
     "output_type": "stream",
     "text": [
      "GAN: loss d: 3.60345    loss g: -2.56532\n"
     ]
    },
    {
     "name": "stderr",
     "output_type": "stream",
     "text": [
      " 90%|████████▉ | 90000/100001 [3:25:14<18:26,  9.04it/s]"
     ]
    },
    {
     "name": "stdout",
     "output_type": "stream",
     "text": [
      "GAN: loss d: 2.09903    loss g: -3.96845\n",
      "saving current model\n"
     ]
    },
    {
     "name": "stderr",
     "output_type": "stream",
     "text": [
      "\n",
      "  0%|          | 0/175 [00:00<?, ?it/s]\u001b[A"
     ]
    },
    {
     "name": "stdout",
     "output_type": "stream",
     "text": [
      "Number of real images: 5626\n"
     ]
    },
    {
     "name": "stderr",
     "output_type": "stream",
     "text": [
      "\n",
      "\n",
      "  0%|          | 0/15 [00:00<?, ?it/s]\u001b[A\u001b[A"
     ]
    },
    {
     "name": "stdout",
     "output_type": "stream",
     "text": [
      "Number of synthetic images: 500\n"
     ]
    },
    {
     "name": "stderr",
     "output_type": "stream",
     "text": [
      " 90%|█████████ | 90002/100001 [3:25:36<13:26:04,  4.84s/it]"
     ]
    },
    {
     "name": "stdout",
     "output_type": "stream",
     "text": [
      "Current fid score: 0.7528759967103937\n",
      "Fid scores: [5.359689818244959, 2.479945282201154, 4.276308166260009, 2.7291028486932554, 2.7908292593055535, 2.3554975684525594, 2.6142447727283162, 2.1934954575945866, 2.3990477193970783, 2.221711896216327, 2.3744210742787253, 2.066927836690496, 2.3716458827445166, 1.9648397602519267, 1.6998954497984542, 2.319731846121897, 1.7800607345901547, 1.4056094758332023, 1.1810571313010847, 1.443624370521686, 1.5078741613768791, 1.173364418143919, 1.2011170423314468, 1.0761087412681398, 1.2172281204321251, 1.000626947334709, 1.737750054809478, 2.0593230539007124, 2.160112364724526, 2.195316465388501, 2.2950768584747436, 2.5124235574475904, 2.475506166692888, 3.0757913554101854, 3.3013338688781992, 3.1298115638580413, 3.361620915033507, 2.3989658516000354, 1.4239996589152213, 1.3841070462580056, 0.8761920713293598, 0.8968581288108979, 0.9323025916764394, 1.2795383980460215, 1.1923953719678337, 1.4775258450924582, 1.2243412993235836, 1.3496958747738148, 1.546939973799251, 1.040973777795589, 1.0413172729060634, 1.0205480305498185, 1.3183341694682618, 0.8797026053507153, 0.8567828803491899, 1.0769886742341122, 0.8730820062121616, 1.106999851042218, 1.1093197035925257, 0.743205909564626, 1.041048778987438, 0.8566777191451536, 0.9813225837970734, 0.9843171522374483, 0.8424157107662538, 1.2353997849701912, 1.3380726899709607, 1.3012930998995103, 1.0876612213245274, 0.9504414477760186, 1.0793728213916438, 1.0040024359416861, 0.8540115679215035, 0.9562752157405896, 0.9313207139124025, 0.7382853603752721, 0.7534168851628351, 0.8613407250179037, 0.7680069818412036, 0.9393416270148585, 1.159315215735596, 0.9946700293956034, 0.8738252785552731, 0.5127191479024731, 0.5008922532457483, 0.5501819891207447, 0.7775785598177798, 0.9029580042702747, 0.6972966558082696, 0.6222831780559126, 0.7528759967103937]\n"
     ]
    },
    {
     "name": "stderr",
     "output_type": "stream",
     "text": [
      "  0%|          | 0/175 [00:15<?, ?it/s]20:10,  8.23it/s]   \n",
      "  0%|          | 0/15 [00:06<?, ?it/s]\n",
      " 90%|█████████ | 90102/100001 [3:25:48<18:58,  8.69it/s]"
     ]
    },
    {
     "name": "stdout",
     "output_type": "stream",
     "text": [
      "GAN: loss d: 1.56237    loss g: -3.31090\n"
     ]
    },
    {
     "name": "stderr",
     "output_type": "stream",
     "text": [
      " 90%|█████████ | 90201/100001 [3:25:59<18:40,  8.74it/s]"
     ]
    },
    {
     "name": "stdout",
     "output_type": "stream",
     "text": [
      "GAN: loss d: 3.15938    loss g: -2.30918\n"
     ]
    },
    {
     "name": "stderr",
     "output_type": "stream",
     "text": [
      " 90%|█████████ | 90302/100001 [3:26:10<18:26,  8.76it/s]"
     ]
    },
    {
     "name": "stdout",
     "output_type": "stream",
     "text": [
      "GAN: loss d: 5.23772    loss g: -2.65850\n"
     ]
    },
    {
     "name": "stderr",
     "output_type": "stream",
     "text": [
      " 90%|█████████ | 90401/100001 [3:26:22<18:11,  8.79it/s]"
     ]
    },
    {
     "name": "stdout",
     "output_type": "stream",
     "text": [
      "GAN: loss d: 1.34322    loss g: -2.73265\n"
     ]
    },
    {
     "name": "stderr",
     "output_type": "stream",
     "text": [
      " 91%|█████████ | 90502/100001 [3:26:33<17:56,  8.83it/s]"
     ]
    },
    {
     "name": "stdout",
     "output_type": "stream",
     "text": [
      "GAN: loss d: 6.26516    loss g: -2.66665\n"
     ]
    },
    {
     "name": "stderr",
     "output_type": "stream",
     "text": [
      " 91%|█████████ | 90602/100001 [3:26:44<17:28,  8.97it/s]"
     ]
    },
    {
     "name": "stdout",
     "output_type": "stream",
     "text": [
      "GAN: loss d: 2.03501    loss g: -2.86753\n"
     ]
    },
    {
     "name": "stderr",
     "output_type": "stream",
     "text": [
      " 91%|█████████ | 90702/100001 [3:26:56<17:18,  8.95it/s]"
     ]
    },
    {
     "name": "stdout",
     "output_type": "stream",
     "text": [
      "GAN: loss d: 1.66880    loss g: -3.37703\n"
     ]
    },
    {
     "name": "stderr",
     "output_type": "stream",
     "text": [
      " 91%|█████████ | 90802/100001 [3:27:07<17:40,  8.67it/s]"
     ]
    },
    {
     "name": "stdout",
     "output_type": "stream",
     "text": [
      "GAN: loss d: 5.55431    loss g: -2.24841\n"
     ]
    },
    {
     "name": "stderr",
     "output_type": "stream",
     "text": [
      " 91%|█████████ | 90901/100001 [3:27:19<17:26,  8.69it/s]"
     ]
    },
    {
     "name": "stdout",
     "output_type": "stream",
     "text": [
      "GAN: loss d: -0.00091    loss g: -1.71773\n"
     ]
    },
    {
     "name": "stderr",
     "output_type": "stream",
     "text": [
      " 91%|█████████ | 91000/100001 [3:27:30<16:50,  8.90it/s]"
     ]
    },
    {
     "name": "stdout",
     "output_type": "stream",
     "text": [
      "GAN: loss d: 2.98356    loss g: -2.44564\n",
      "saving current model\n"
     ]
    },
    {
     "name": "stderr",
     "output_type": "stream",
     "text": [
      "\n",
      "  0%|          | 0/175 [00:00<?, ?it/s]\u001b[A"
     ]
    },
    {
     "name": "stdout",
     "output_type": "stream",
     "text": [
      "Number of real images: 5626\n"
     ]
    },
    {
     "name": "stderr",
     "output_type": "stream",
     "text": [
      "\n",
      "\n",
      "  0%|          | 0/15 [00:00<?, ?it/s]\u001b[A\u001b[A"
     ]
    },
    {
     "name": "stdout",
     "output_type": "stream",
     "text": [
      "Number of synthetic images: 500\n"
     ]
    },
    {
     "name": "stderr",
     "output_type": "stream",
     "text": [
      " 91%|█████████ | 91002/100001 [3:27:53<12:22:42,  4.95s/it]"
     ]
    },
    {
     "name": "stdout",
     "output_type": "stream",
     "text": [
      "Current fid score: 0.6338051510754283\n",
      "Fid scores: [5.359689818244959, 2.479945282201154, 4.276308166260009, 2.7291028486932554, 2.7908292593055535, 2.3554975684525594, 2.6142447727283162, 2.1934954575945866, 2.3990477193970783, 2.221711896216327, 2.3744210742787253, 2.066927836690496, 2.3716458827445166, 1.9648397602519267, 1.6998954497984542, 2.319731846121897, 1.7800607345901547, 1.4056094758332023, 1.1810571313010847, 1.443624370521686, 1.5078741613768791, 1.173364418143919, 1.2011170423314468, 1.0761087412681398, 1.2172281204321251, 1.000626947334709, 1.737750054809478, 2.0593230539007124, 2.160112364724526, 2.195316465388501, 2.2950768584747436, 2.5124235574475904, 2.475506166692888, 3.0757913554101854, 3.3013338688781992, 3.1298115638580413, 3.361620915033507, 2.3989658516000354, 1.4239996589152213, 1.3841070462580056, 0.8761920713293598, 0.8968581288108979, 0.9323025916764394, 1.2795383980460215, 1.1923953719678337, 1.4775258450924582, 1.2243412993235836, 1.3496958747738148, 1.546939973799251, 1.040973777795589, 1.0413172729060634, 1.0205480305498185, 1.3183341694682618, 0.8797026053507153, 0.8567828803491899, 1.0769886742341122, 0.8730820062121616, 1.106999851042218, 1.1093197035925257, 0.743205909564626, 1.041048778987438, 0.8566777191451536, 0.9813225837970734, 0.9843171522374483, 0.8424157107662538, 1.2353997849701912, 1.3380726899709607, 1.3012930998995103, 1.0876612213245274, 0.9504414477760186, 1.0793728213916438, 1.0040024359416861, 0.8540115679215035, 0.9562752157405896, 0.9313207139124025, 0.7382853603752721, 0.7534168851628351, 0.8613407250179037, 0.7680069818412036, 0.9393416270148585, 1.159315215735596, 0.9946700293956034, 0.8738252785552731, 0.5127191479024731, 0.5008922532457483, 0.5501819891207447, 0.7775785598177798, 0.9029580042702747, 0.6972966558082696, 0.6222831780559126, 0.7528759967103937, 0.6338051510754283]\n"
     ]
    },
    {
     "name": "stderr",
     "output_type": "stream",
     "text": [
      "  0%|          | 0/175 [00:10<?, ?it/s]58:39,  2.55it/s]   \n",
      "  0%|          | 0/15 [00:02<?, ?it/s]\n",
      " 91%|█████████ | 91102/100001 [3:28:04<16:23,  9.05it/s]"
     ]
    },
    {
     "name": "stdout",
     "output_type": "stream",
     "text": [
      "GAN: loss d: 5.54615    loss g: -1.82946\n"
     ]
    },
    {
     "name": "stderr",
     "output_type": "stream",
     "text": [
      " 91%|█████████ | 91202/100001 [3:28:15<16:59,  8.63it/s]"
     ]
    },
    {
     "name": "stdout",
     "output_type": "stream",
     "text": [
      "GAN: loss d: 3.34360    loss g: -3.18033\n"
     ]
    },
    {
     "name": "stderr",
     "output_type": "stream",
     "text": [
      " 91%|█████████▏| 91302/100001 [3:28:27<16:21,  8.86it/s]"
     ]
    },
    {
     "name": "stdout",
     "output_type": "stream",
     "text": [
      "GAN: loss d: 4.89537    loss g: -2.59821\n"
     ]
    },
    {
     "name": "stderr",
     "output_type": "stream",
     "text": [
      " 91%|█████████▏| 91402/100001 [3:28:38<16:06,  8.90it/s]"
     ]
    },
    {
     "name": "stdout",
     "output_type": "stream",
     "text": [
      "GAN: loss d: 3.90561    loss g: -2.68096\n"
     ]
    },
    {
     "name": "stderr",
     "output_type": "stream",
     "text": [
      " 92%|█████████▏| 91501/100001 [3:28:49<16:10,  8.76it/s]"
     ]
    },
    {
     "name": "stdout",
     "output_type": "stream",
     "text": [
      "GAN: loss d: 0.66339    loss g: -3.11021\n"
     ]
    },
    {
     "name": "stderr",
     "output_type": "stream",
     "text": [
      " 92%|█████████▏| 91602/100001 [3:29:01<15:57,  8.77it/s]"
     ]
    },
    {
     "name": "stdout",
     "output_type": "stream",
     "text": [
      "GAN: loss d: 0.39413    loss g: -1.70932\n"
     ]
    },
    {
     "name": "stderr",
     "output_type": "stream",
     "text": [
      " 92%|█████████▏| 91702/100001 [3:29:12<15:51,  8.72it/s]"
     ]
    },
    {
     "name": "stdout",
     "output_type": "stream",
     "text": [
      "GAN: loss d: 5.12728    loss g: -2.52293\n"
     ]
    },
    {
     "name": "stderr",
     "output_type": "stream",
     "text": [
      " 92%|█████████▏| 91802/100001 [3:29:24<15:13,  8.97it/s]"
     ]
    },
    {
     "name": "stdout",
     "output_type": "stream",
     "text": [
      "GAN: loss d: 3.39246    loss g: -3.21802\n"
     ]
    },
    {
     "name": "stderr",
     "output_type": "stream",
     "text": [
      " 92%|█████████▏| 91902/100001 [3:29:35<15:13,  8.87it/s]"
     ]
    },
    {
     "name": "stdout",
     "output_type": "stream",
     "text": [
      "GAN: loss d: 3.83853    loss g: -2.91088\n"
     ]
    },
    {
     "name": "stderr",
     "output_type": "stream",
     "text": [
      " 92%|█████████▏| 92000/100001 [3:29:46<14:59,  8.89it/s]"
     ]
    },
    {
     "name": "stdout",
     "output_type": "stream",
     "text": [
      "GAN: loss d: 4.10349    loss g: -2.22459\n",
      "saving current model\n"
     ]
    },
    {
     "name": "stderr",
     "output_type": "stream",
     "text": [
      "\n",
      "  0%|          | 0/175 [00:00<?, ?it/s]\u001b[A"
     ]
    },
    {
     "name": "stdout",
     "output_type": "stream",
     "text": [
      "Number of real images: 5626\n"
     ]
    },
    {
     "name": "stderr",
     "output_type": "stream",
     "text": [
      "\n",
      "\n",
      "  0%|          | 0/15 [00:00<?, ?it/s]\u001b[A\u001b[A"
     ]
    },
    {
     "name": "stdout",
     "output_type": "stream",
     "text": [
      "Number of synthetic images: 500\n"
     ]
    },
    {
     "name": "stderr",
     "output_type": "stream",
     "text": [
      " 92%|█████████▏| 92002/100001 [3:30:08<10:28:36,  4.72s/it]"
     ]
    },
    {
     "name": "stdout",
     "output_type": "stream",
     "text": [
      "Current fid score: 0.6218562765539453\n",
      "Fid scores: [5.359689818244959, 2.479945282201154, 4.276308166260009, 2.7291028486932554, 2.7908292593055535, 2.3554975684525594, 2.6142447727283162, 2.1934954575945866, 2.3990477193970783, 2.221711896216327, 2.3744210742787253, 2.066927836690496, 2.3716458827445166, 1.9648397602519267, 1.6998954497984542, 2.319731846121897, 1.7800607345901547, 1.4056094758332023, 1.1810571313010847, 1.443624370521686, 1.5078741613768791, 1.173364418143919, 1.2011170423314468, 1.0761087412681398, 1.2172281204321251, 1.000626947334709, 1.737750054809478, 2.0593230539007124, 2.160112364724526, 2.195316465388501, 2.2950768584747436, 2.5124235574475904, 2.475506166692888, 3.0757913554101854, 3.3013338688781992, 3.1298115638580413, 3.361620915033507, 2.3989658516000354, 1.4239996589152213, 1.3841070462580056, 0.8761920713293598, 0.8968581288108979, 0.9323025916764394, 1.2795383980460215, 1.1923953719678337, 1.4775258450924582, 1.2243412993235836, 1.3496958747738148, 1.546939973799251, 1.040973777795589, 1.0413172729060634, 1.0205480305498185, 1.3183341694682618, 0.8797026053507153, 0.8567828803491899, 1.0769886742341122, 0.8730820062121616, 1.106999851042218, 1.1093197035925257, 0.743205909564626, 1.041048778987438, 0.8566777191451536, 0.9813225837970734, 0.9843171522374483, 0.8424157107662538, 1.2353997849701912, 1.3380726899709607, 1.3012930998995103, 1.0876612213245274, 0.9504414477760186, 1.0793728213916438, 1.0040024359416861, 0.8540115679215035, 0.9562752157405896, 0.9313207139124025, 0.7382853603752721, 0.7534168851628351, 0.8613407250179037, 0.7680069818412036, 0.9393416270148585, 1.159315215735596, 0.9946700293956034, 0.8738252785552731, 0.5127191479024731, 0.5008922532457483, 0.5501819891207447, 0.7775785598177798, 0.9029580042702747, 0.6972966558082696, 0.6222831780559126, 0.7528759967103937, 0.6338051510754283, 0.6218562765539453]\n"
     ]
    },
    {
     "name": "stderr",
     "output_type": "stream",
     "text": [
      "  0%|          | 0/175 [00:19<?, ?it/s]14:53,  8.86it/s]   \n",
      "  0%|          | 0/15 [00:10<?, ?it/s]\n",
      " 92%|█████████▏| 92102/100001 [3:30:20<14:53,  8.85it/s]"
     ]
    },
    {
     "name": "stdout",
     "output_type": "stream",
     "text": [
      "GAN: loss d: 0.56629    loss g: -2.01959\n"
     ]
    },
    {
     "name": "stderr",
     "output_type": "stream",
     "text": [
      " 92%|█████████▏| 92202/100001 [3:30:31<14:43,  8.83it/s]"
     ]
    },
    {
     "name": "stdout",
     "output_type": "stream",
     "text": [
      "GAN: loss d: 2.42116    loss g: -2.01007\n"
     ]
    },
    {
     "name": "stderr",
     "output_type": "stream",
     "text": [
      " 92%|█████████▏| 92302/100001 [3:30:42<14:27,  8.87it/s]"
     ]
    },
    {
     "name": "stdout",
     "output_type": "stream",
     "text": [
      "GAN: loss d: -0.49924    loss g: -3.22626\n"
     ]
    },
    {
     "name": "stderr",
     "output_type": "stream",
     "text": [
      " 92%|█████████▏| 92401/100001 [3:30:54<14:37,  8.66it/s]"
     ]
    },
    {
     "name": "stdout",
     "output_type": "stream",
     "text": [
      "GAN: loss d: 5.82033    loss g: -2.30652\n"
     ]
    },
    {
     "name": "stderr",
     "output_type": "stream",
     "text": [
      " 93%|█████████▎| 92502/100001 [3:31:05<14:47,  8.45it/s]"
     ]
    },
    {
     "name": "stdout",
     "output_type": "stream",
     "text": [
      "GAN: loss d: 1.74292    loss g: -1.70173\n"
     ]
    },
    {
     "name": "stderr",
     "output_type": "stream",
     "text": [
      " 93%|█████████▎| 92601/100001 [3:31:16<14:00,  8.81it/s]"
     ]
    },
    {
     "name": "stdout",
     "output_type": "stream",
     "text": [
      "GAN: loss d: 3.33813    loss g: -1.84822\n"
     ]
    },
    {
     "name": "stderr",
     "output_type": "stream",
     "text": [
      " 93%|█████████▎| 92702/100001 [3:31:28<13:43,  8.86it/s]"
     ]
    },
    {
     "name": "stdout",
     "output_type": "stream",
     "text": [
      "GAN: loss d: 1.85753    loss g: -1.85382\n"
     ]
    },
    {
     "name": "stderr",
     "output_type": "stream",
     "text": [
      " 93%|█████████▎| 92802/100001 [3:31:39<13:32,  8.86it/s]"
     ]
    },
    {
     "name": "stdout",
     "output_type": "stream",
     "text": [
      "GAN: loss d: 2.56639    loss g: -2.44502\n"
     ]
    },
    {
     "name": "stderr",
     "output_type": "stream",
     "text": [
      " 93%|█████████▎| 92902/100001 [3:31:51<13:19,  8.88it/s]"
     ]
    },
    {
     "name": "stdout",
     "output_type": "stream",
     "text": [
      "GAN: loss d: 2.45301    loss g: -1.96150\n"
     ]
    },
    {
     "name": "stderr",
     "output_type": "stream",
     "text": [
      " 93%|█████████▎| 93000/100001 [3:32:02<13:05,  8.92it/s]"
     ]
    },
    {
     "name": "stdout",
     "output_type": "stream",
     "text": [
      "GAN: loss d: 5.41440    loss g: -2.57188\n",
      "saving current model\n"
     ]
    },
    {
     "name": "stderr",
     "output_type": "stream",
     "text": [
      "\n",
      "  0%|          | 0/175 [00:00<?, ?it/s]\u001b[A"
     ]
    },
    {
     "name": "stdout",
     "output_type": "stream",
     "text": [
      "Number of real images: 5626\n"
     ]
    },
    {
     "name": "stderr",
     "output_type": "stream",
     "text": [
      "\n",
      "\n",
      "  0%|          | 0/15 [00:00<?, ?it/s]\u001b[A\u001b[A"
     ]
    },
    {
     "name": "stdout",
     "output_type": "stream",
     "text": [
      "Number of synthetic images: 500\n"
     ]
    },
    {
     "name": "stderr",
     "output_type": "stream",
     "text": [
      " 93%|█████████▎| 93002/100001 [3:32:25<9:31:16,  4.90s/it] "
     ]
    },
    {
     "name": "stdout",
     "output_type": "stream",
     "text": [
      "Current fid score: 0.5774037700573018\n",
      "Fid scores: [5.359689818244959, 2.479945282201154, 4.276308166260009, 2.7291028486932554, 2.7908292593055535, 2.3554975684525594, 2.6142447727283162, 2.1934954575945866, 2.3990477193970783, 2.221711896216327, 2.3744210742787253, 2.066927836690496, 2.3716458827445166, 1.9648397602519267, 1.6998954497984542, 2.319731846121897, 1.7800607345901547, 1.4056094758332023, 1.1810571313010847, 1.443624370521686, 1.5078741613768791, 1.173364418143919, 1.2011170423314468, 1.0761087412681398, 1.2172281204321251, 1.000626947334709, 1.737750054809478, 2.0593230539007124, 2.160112364724526, 2.195316465388501, 2.2950768584747436, 2.5124235574475904, 2.475506166692888, 3.0757913554101854, 3.3013338688781992, 3.1298115638580413, 3.361620915033507, 2.3989658516000354, 1.4239996589152213, 1.3841070462580056, 0.8761920713293598, 0.8968581288108979, 0.9323025916764394, 1.2795383980460215, 1.1923953719678337, 1.4775258450924582, 1.2243412993235836, 1.3496958747738148, 1.546939973799251, 1.040973777795589, 1.0413172729060634, 1.0205480305498185, 1.3183341694682618, 0.8797026053507153, 0.8567828803491899, 1.0769886742341122, 0.8730820062121616, 1.106999851042218, 1.1093197035925257, 0.743205909564626, 1.041048778987438, 0.8566777191451536, 0.9813225837970734, 0.9843171522374483, 0.8424157107662538, 1.2353997849701912, 1.3380726899709607, 1.3012930998995103, 1.0876612213245274, 0.9504414477760186, 1.0793728213916438, 1.0040024359416861, 0.8540115679215035, 0.9562752157405896, 0.9313207139124025, 0.7382853603752721, 0.7534168851628351, 0.8613407250179037, 0.7680069818412036, 0.9393416270148585, 1.159315215735596, 0.9946700293956034, 0.8738252785552731, 0.5127191479024731, 0.5008922532457483, 0.5501819891207447, 0.7775785598177798, 0.9029580042702747, 0.6972966558082696, 0.6222831780559126, 0.7528759967103937, 0.6338051510754283, 0.6218562765539453, 0.5774037700573018]\n"
     ]
    },
    {
     "name": "stderr",
     "output_type": "stream",
     "text": [
      "  0%|          | 0/175 [00:15<?, ?it/s]13:11,  8.78it/s]  \n",
      "  0%|          | 0/15 [00:06<?, ?it/s]\n",
      " 93%|█████████▎| 93102/100001 [3:32:36<12:52,  8.93it/s]"
     ]
    },
    {
     "name": "stdout",
     "output_type": "stream",
     "text": [
      "GAN: loss d: 2.54108    loss g: -2.10502\n"
     ]
    },
    {
     "name": "stderr",
     "output_type": "stream",
     "text": [
      " 93%|█████████▎| 93202/100001 [3:32:47<12:49,  8.84it/s]"
     ]
    },
    {
     "name": "stdout",
     "output_type": "stream",
     "text": [
      "GAN: loss d: 2.31283    loss g: -2.13693\n"
     ]
    },
    {
     "name": "stderr",
     "output_type": "stream",
     "text": [
      " 93%|█████████▎| 93302/100001 [3:32:59<12:55,  8.64it/s]"
     ]
    },
    {
     "name": "stdout",
     "output_type": "stream",
     "text": [
      "GAN: loss d: 6.03475    loss g: -1.52067\n"
     ]
    },
    {
     "name": "stderr",
     "output_type": "stream",
     "text": [
      " 93%|█████████▎| 93402/100001 [3:33:10<12:28,  8.82it/s]"
     ]
    },
    {
     "name": "stdout",
     "output_type": "stream",
     "text": [
      "GAN: loss d: 2.56242    loss g: -3.02699\n"
     ]
    },
    {
     "name": "stderr",
     "output_type": "stream",
     "text": [
      " 94%|█████████▎| 93502/100001 [3:33:21<12:06,  8.94it/s]"
     ]
    },
    {
     "name": "stdout",
     "output_type": "stream",
     "text": [
      "GAN: loss d: 4.85254    loss g: -2.87562\n"
     ]
    },
    {
     "name": "stderr",
     "output_type": "stream",
     "text": [
      " 94%|█████████▎| 93602/100001 [3:33:33<11:54,  8.95it/s]"
     ]
    },
    {
     "name": "stdout",
     "output_type": "stream",
     "text": [
      "GAN: loss d: 4.47039    loss g: -2.39508\n"
     ]
    },
    {
     "name": "stderr",
     "output_type": "stream",
     "text": [
      " 94%|█████████▎| 93702/100001 [3:33:44<12:07,  8.66it/s]"
     ]
    },
    {
     "name": "stdout",
     "output_type": "stream",
     "text": [
      "GAN: loss d: 4.59872    loss g: -1.71298\n"
     ]
    },
    {
     "name": "stderr",
     "output_type": "stream",
     "text": [
      " 94%|█████████▍| 93802/100001 [3:33:55<11:45,  8.79it/s]"
     ]
    },
    {
     "name": "stdout",
     "output_type": "stream",
     "text": [
      "GAN: loss d: 4.23499    loss g: -2.10378\n"
     ]
    },
    {
     "name": "stderr",
     "output_type": "stream",
     "text": [
      " 94%|█████████▍| 93902/100001 [3:34:07<11:20,  8.97it/s]"
     ]
    },
    {
     "name": "stdout",
     "output_type": "stream",
     "text": [
      "GAN: loss d: 2.95460    loss g: -2.61896\n"
     ]
    },
    {
     "name": "stderr",
     "output_type": "stream",
     "text": [
      " 94%|█████████▍| 94000/100001 [3:34:18<11:13,  8.90it/s]"
     ]
    },
    {
     "name": "stdout",
     "output_type": "stream",
     "text": [
      "GAN: loss d: 5.53977    loss g: -2.73896\n",
      "saving current model\n"
     ]
    },
    {
     "name": "stderr",
     "output_type": "stream",
     "text": [
      "\n",
      "  0%|          | 0/175 [00:00<?, ?it/s]\u001b[A"
     ]
    },
    {
     "name": "stdout",
     "output_type": "stream",
     "text": [
      "Number of real images: 5626\n"
     ]
    },
    {
     "name": "stderr",
     "output_type": "stream",
     "text": [
      "\n",
      "\n",
      "  0%|          | 0/15 [00:00<?, ?it/s]\u001b[A\u001b[A"
     ]
    },
    {
     "name": "stdout",
     "output_type": "stream",
     "text": [
      "Number of synthetic images: 500\n"
     ]
    },
    {
     "name": "stderr",
     "output_type": "stream",
     "text": [
      " 94%|█████████▍| 94002/100001 [3:34:41<8:12:44,  4.93s/it] "
     ]
    },
    {
     "name": "stdout",
     "output_type": "stream",
     "text": [
      "Current fid score: 0.6812490254733703\n",
      "Fid scores: [5.359689818244959, 2.479945282201154, 4.276308166260009, 2.7291028486932554, 2.7908292593055535, 2.3554975684525594, 2.6142447727283162, 2.1934954575945866, 2.3990477193970783, 2.221711896216327, 2.3744210742787253, 2.066927836690496, 2.3716458827445166, 1.9648397602519267, 1.6998954497984542, 2.319731846121897, 1.7800607345901547, 1.4056094758332023, 1.1810571313010847, 1.443624370521686, 1.5078741613768791, 1.173364418143919, 1.2011170423314468, 1.0761087412681398, 1.2172281204321251, 1.000626947334709, 1.737750054809478, 2.0593230539007124, 2.160112364724526, 2.195316465388501, 2.2950768584747436, 2.5124235574475904, 2.475506166692888, 3.0757913554101854, 3.3013338688781992, 3.1298115638580413, 3.361620915033507, 2.3989658516000354, 1.4239996589152213, 1.3841070462580056, 0.8761920713293598, 0.8968581288108979, 0.9323025916764394, 1.2795383980460215, 1.1923953719678337, 1.4775258450924582, 1.2243412993235836, 1.3496958747738148, 1.546939973799251, 1.040973777795589, 1.0413172729060634, 1.0205480305498185, 1.3183341694682618, 0.8797026053507153, 0.8567828803491899, 1.0769886742341122, 0.8730820062121616, 1.106999851042218, 1.1093197035925257, 0.743205909564626, 1.041048778987438, 0.8566777191451536, 0.9813225837970734, 0.9843171522374483, 0.8424157107662538, 1.2353997849701912, 1.3380726899709607, 1.3012930998995103, 1.0876612213245274, 0.9504414477760186, 1.0793728213916438, 1.0040024359416861, 0.8540115679215035, 0.9562752157405896, 0.9313207139124025, 0.7382853603752721, 0.7534168851628351, 0.8613407250179037, 0.7680069818412036, 0.9393416270148585, 1.159315215735596, 0.9946700293956034, 0.8738252785552731, 0.5127191479024731, 0.5008922532457483, 0.5501819891207447, 0.7775785598177798, 0.9029580042702747, 0.6972966558082696, 0.6222831780559126, 0.7528759967103937, 0.6338051510754283, 0.6218562765539453, 0.5774037700573018, 0.6812490254733703]\n"
     ]
    },
    {
     "name": "stderr",
     "output_type": "stream",
     "text": [
      "  0%|          | 0/175 [00:10<?, ?it/s]1:07:53,  1.47it/s]\n",
      "  0%|          | 0/15 [00:01<?, ?it/s]\n",
      " 94%|█████████▍| 94102/100001 [3:34:52<11:01,  8.91it/s]  "
     ]
    },
    {
     "name": "stdout",
     "output_type": "stream",
     "text": [
      "GAN: loss d: 1.54323    loss g: -3.06858\n"
     ]
    },
    {
     "name": "stderr",
     "output_type": "stream",
     "text": [
      " 94%|█████████▍| 94201/100001 [3:35:04<11:03,  8.75it/s]"
     ]
    },
    {
     "name": "stdout",
     "output_type": "stream",
     "text": [
      "GAN: loss d: 0.55447    loss g: -2.26666\n"
     ]
    },
    {
     "name": "stderr",
     "output_type": "stream",
     "text": [
      " 94%|█████████▍| 94302/100001 [3:35:15<10:43,  8.86it/s]"
     ]
    },
    {
     "name": "stdout",
     "output_type": "stream",
     "text": [
      "GAN: loss d: 2.91034    loss g: -2.64556\n"
     ]
    },
    {
     "name": "stderr",
     "output_type": "stream",
     "text": [
      " 94%|█████████▍| 94402/100001 [3:35:26<10:34,  8.82it/s]"
     ]
    },
    {
     "name": "stdout",
     "output_type": "stream",
     "text": [
      "GAN: loss d: 4.70417    loss g: -1.84636\n"
     ]
    },
    {
     "name": "stderr",
     "output_type": "stream",
     "text": [
      " 95%|█████████▍| 94502/100001 [3:35:38<10:04,  9.10it/s]"
     ]
    },
    {
     "name": "stdout",
     "output_type": "stream",
     "text": [
      "GAN: loss d: 0.62630    loss g: -2.27362\n"
     ]
    },
    {
     "name": "stderr",
     "output_type": "stream",
     "text": [
      " 95%|█████████▍| 94601/100001 [3:35:49<10:40,  8.43it/s]"
     ]
    },
    {
     "name": "stdout",
     "output_type": "stream",
     "text": [
      "GAN: loss d: 4.17582    loss g: -1.52293\n"
     ]
    },
    {
     "name": "stderr",
     "output_type": "stream",
     "text": [
      " 95%|█████████▍| 94702/100001 [3:36:01<09:55,  8.90it/s]"
     ]
    },
    {
     "name": "stdout",
     "output_type": "stream",
     "text": [
      "GAN: loss d: 2.50290    loss g: -2.77058\n"
     ]
    },
    {
     "name": "stderr",
     "output_type": "stream",
     "text": [
      " 95%|█████████▍| 94802/100001 [3:36:12<09:55,  8.73it/s]"
     ]
    },
    {
     "name": "stdout",
     "output_type": "stream",
     "text": [
      "GAN: loss d: 6.10983    loss g: -1.94084\n"
     ]
    },
    {
     "name": "stderr",
     "output_type": "stream",
     "text": [
      " 95%|█████████▍| 94902/100001 [3:36:23<09:32,  8.91it/s]"
     ]
    },
    {
     "name": "stdout",
     "output_type": "stream",
     "text": [
      "GAN: loss d: 4.14534    loss g: -3.12792\n"
     ]
    },
    {
     "name": "stderr",
     "output_type": "stream",
     "text": [
      " 95%|█████████▍| 95000/100001 [3:36:34<09:22,  8.89it/s]"
     ]
    },
    {
     "name": "stdout",
     "output_type": "stream",
     "text": [
      "GAN: loss d: 4.13366    loss g: -3.21329\n",
      "saving current model\n"
     ]
    },
    {
     "name": "stderr",
     "output_type": "stream",
     "text": [
      "\n",
      "  0%|          | 0/175 [00:00<?, ?it/s]\u001b[A"
     ]
    },
    {
     "name": "stdout",
     "output_type": "stream",
     "text": [
      "Number of real images: 5626\n"
     ]
    },
    {
     "name": "stderr",
     "output_type": "stream",
     "text": [
      "\n",
      "\n",
      "  0%|          | 0/15 [00:00<?, ?it/s]\u001b[A\u001b[A"
     ]
    },
    {
     "name": "stdout",
     "output_type": "stream",
     "text": [
      "Number of synthetic images: 500\n"
     ]
    },
    {
     "name": "stderr",
     "output_type": "stream",
     "text": [
      " 95%|█████████▌| 95002/100001 [3:36:57<6:45:10,  4.86s/it]"
     ]
    },
    {
     "name": "stdout",
     "output_type": "stream",
     "text": [
      "Current fid score: 0.6039969491104529\n",
      "Fid scores: [5.359689818244959, 2.479945282201154, 4.276308166260009, 2.7291028486932554, 2.7908292593055535, 2.3554975684525594, 2.6142447727283162, 2.1934954575945866, 2.3990477193970783, 2.221711896216327, 2.3744210742787253, 2.066927836690496, 2.3716458827445166, 1.9648397602519267, 1.6998954497984542, 2.319731846121897, 1.7800607345901547, 1.4056094758332023, 1.1810571313010847, 1.443624370521686, 1.5078741613768791, 1.173364418143919, 1.2011170423314468, 1.0761087412681398, 1.2172281204321251, 1.000626947334709, 1.737750054809478, 2.0593230539007124, 2.160112364724526, 2.195316465388501, 2.2950768584747436, 2.5124235574475904, 2.475506166692888, 3.0757913554101854, 3.3013338688781992, 3.1298115638580413, 3.361620915033507, 2.3989658516000354, 1.4239996589152213, 1.3841070462580056, 0.8761920713293598, 0.8968581288108979, 0.9323025916764394, 1.2795383980460215, 1.1923953719678337, 1.4775258450924582, 1.2243412993235836, 1.3496958747738148, 1.546939973799251, 1.040973777795589, 1.0413172729060634, 1.0205480305498185, 1.3183341694682618, 0.8797026053507153, 0.8567828803491899, 1.0769886742341122, 0.8730820062121616, 1.106999851042218, 1.1093197035925257, 0.743205909564626, 1.041048778987438, 0.8566777191451536, 0.9813225837970734, 0.9843171522374483, 0.8424157107662538, 1.2353997849701912, 1.3380726899709607, 1.3012930998995103, 1.0876612213245274, 0.9504414477760186, 1.0793728213916438, 1.0040024359416861, 0.8540115679215035, 0.9562752157405896, 0.9313207139124025, 0.7382853603752721, 0.7534168851628351, 0.8613407250179037, 0.7680069818412036, 0.9393416270148585, 1.159315215735596, 0.9946700293956034, 0.8738252785552731, 0.5127191479024731, 0.5008922532457483, 0.5501819891207447, 0.7775785598177798, 0.9029580042702747, 0.6972966558082696, 0.6222831780559126, 0.7528759967103937, 0.6338051510754283, 0.6218562765539453, 0.5774037700573018, 0.6812490254733703, 0.6039969491104529]\n"
     ]
    },
    {
     "name": "stderr",
     "output_type": "stream",
     "text": [
      "  0%|          | 0/175 [00:20<?, ?it/s]09:26,  8.66it/s]  \n",
      "  0%|          | 0/15 [00:11<?, ?it/s]\n",
      " 95%|█████████▌| 95102/100001 [3:37:08<09:14,  8.84it/s]"
     ]
    },
    {
     "name": "stdout",
     "output_type": "stream",
     "text": [
      "GAN: loss d: 3.99482    loss g: -2.77002\n"
     ]
    },
    {
     "name": "stderr",
     "output_type": "stream",
     "text": [
      " 95%|█████████▌| 95202/100001 [3:37:20<08:58,  8.90it/s]"
     ]
    },
    {
     "name": "stdout",
     "output_type": "stream",
     "text": [
      "GAN: loss d: 2.65612    loss g: -2.40661\n"
     ]
    },
    {
     "name": "stderr",
     "output_type": "stream",
     "text": [
      " 95%|█████████▌| 95302/100001 [3:37:31<08:44,  8.96it/s]"
     ]
    },
    {
     "name": "stdout",
     "output_type": "stream",
     "text": [
      "GAN: loss d: 5.01605    loss g: -2.58921\n"
     ]
    },
    {
     "name": "stderr",
     "output_type": "stream",
     "text": [
      " 95%|█████████▌| 95402/100001 [3:37:43<08:35,  8.93it/s]"
     ]
    },
    {
     "name": "stdout",
     "output_type": "stream",
     "text": [
      "GAN: loss d: 5.43578    loss g: -2.90899\n"
     ]
    },
    {
     "name": "stderr",
     "output_type": "stream",
     "text": [
      " 96%|█████████▌| 95502/100001 [3:37:54<08:48,  8.51it/s]"
     ]
    },
    {
     "name": "stdout",
     "output_type": "stream",
     "text": [
      "GAN: loss d: -1.25883    loss g: -1.88639\n"
     ]
    },
    {
     "name": "stderr",
     "output_type": "stream",
     "text": [
      " 96%|█████████▌| 95602/100001 [3:38:06<08:21,  8.77it/s]"
     ]
    },
    {
     "name": "stdout",
     "output_type": "stream",
     "text": [
      "GAN: loss d: 4.74154    loss g: -1.89271\n"
     ]
    },
    {
     "name": "stderr",
     "output_type": "stream",
     "text": [
      " 96%|█████████▌| 95702/100001 [3:38:17<08:04,  8.87it/s]"
     ]
    },
    {
     "name": "stdout",
     "output_type": "stream",
     "text": [
      "GAN: loss d: 2.39724    loss g: -2.07625\n"
     ]
    },
    {
     "name": "stderr",
     "output_type": "stream",
     "text": [
      " 96%|█████████▌| 95802/100001 [3:38:28<07:39,  9.13it/s]"
     ]
    },
    {
     "name": "stdout",
     "output_type": "stream",
     "text": [
      "GAN: loss d: 4.78899    loss g: -1.94882\n"
     ]
    },
    {
     "name": "stderr",
     "output_type": "stream",
     "text": [
      " 96%|█████████▌| 95902/100001 [3:38:40<07:44,  8.82it/s]"
     ]
    },
    {
     "name": "stdout",
     "output_type": "stream",
     "text": [
      "GAN: loss d: 3.11850    loss g: -2.66129\n"
     ]
    },
    {
     "name": "stderr",
     "output_type": "stream",
     "text": [
      " 96%|█████████▌| 96000/100001 [3:38:51<07:39,  8.72it/s]"
     ]
    },
    {
     "name": "stdout",
     "output_type": "stream",
     "text": [
      "GAN: loss d: 5.36808    loss g: -2.45098\n",
      "saving current model\n"
     ]
    },
    {
     "name": "stderr",
     "output_type": "stream",
     "text": [
      "\n",
      "  0%|          | 0/175 [00:00<?, ?it/s]\u001b[A"
     ]
    },
    {
     "name": "stdout",
     "output_type": "stream",
     "text": [
      "Number of real images: 5626\n"
     ]
    },
    {
     "name": "stderr",
     "output_type": "stream",
     "text": [
      "\n",
      "\n",
      "  0%|          | 0/15 [00:00<?, ?it/s]\u001b[A\u001b[A"
     ]
    },
    {
     "name": "stdout",
     "output_type": "stream",
     "text": [
      "Number of synthetic images: 500\n"
     ]
    },
    {
     "name": "stderr",
     "output_type": "stream",
     "text": [
      " 96%|█████████▌| 96002/100001 [3:39:13<5:24:47,  4.87s/it]"
     ]
    },
    {
     "name": "stdout",
     "output_type": "stream",
     "text": [
      "Current fid score: 0.585489483907196\n",
      "Fid scores: [5.359689818244959, 2.479945282201154, 4.276308166260009, 2.7291028486932554, 2.7908292593055535, 2.3554975684525594, 2.6142447727283162, 2.1934954575945866, 2.3990477193970783, 2.221711896216327, 2.3744210742787253, 2.066927836690496, 2.3716458827445166, 1.9648397602519267, 1.6998954497984542, 2.319731846121897, 1.7800607345901547, 1.4056094758332023, 1.1810571313010847, 1.443624370521686, 1.5078741613768791, 1.173364418143919, 1.2011170423314468, 1.0761087412681398, 1.2172281204321251, 1.000626947334709, 1.737750054809478, 2.0593230539007124, 2.160112364724526, 2.195316465388501, 2.2950768584747436, 2.5124235574475904, 2.475506166692888, 3.0757913554101854, 3.3013338688781992, 3.1298115638580413, 3.361620915033507, 2.3989658516000354, 1.4239996589152213, 1.3841070462580056, 0.8761920713293598, 0.8968581288108979, 0.9323025916764394, 1.2795383980460215, 1.1923953719678337, 1.4775258450924582, 1.2243412993235836, 1.3496958747738148, 1.546939973799251, 1.040973777795589, 1.0413172729060634, 1.0205480305498185, 1.3183341694682618, 0.8797026053507153, 0.8567828803491899, 1.0769886742341122, 0.8730820062121616, 1.106999851042218, 1.1093197035925257, 0.743205909564626, 1.041048778987438, 0.8566777191451536, 0.9813225837970734, 0.9843171522374483, 0.8424157107662538, 1.2353997849701912, 1.3380726899709607, 1.3012930998995103, 1.0876612213245274, 0.9504414477760186, 1.0793728213916438, 1.0040024359416861, 0.8540115679215035, 0.9562752157405896, 0.9313207139124025, 0.7382853603752721, 0.7534168851628351, 0.8613407250179037, 0.7680069818412036, 0.9393416270148585, 1.159315215735596, 0.9946700293956034, 0.8738252785552731, 0.5127191479024731, 0.5008922532457483, 0.5501819891207447, 0.7775785598177798, 0.9029580042702747, 0.6972966558082696, 0.6222831780559126, 0.7528759967103937, 0.6338051510754283, 0.6218562765539453, 0.5774037700573018, 0.6812490254733703, 0.6039969491104529, 0.585489483907196]\n"
     ]
    },
    {
     "name": "stderr",
     "output_type": "stream",
     "text": [
      "  0%|          | 0/175 [00:16<?, ?it/s]07:29,  8.78it/s]  \n",
      "  0%|          | 0/15 [00:07<?, ?it/s]\n",
      " 96%|█████████▌| 96102/100001 [3:39:25<07:21,  8.83it/s]"
     ]
    },
    {
     "name": "stdout",
     "output_type": "stream",
     "text": [
      "GAN: loss d: 2.16898    loss g: -2.25777\n"
     ]
    },
    {
     "name": "stderr",
     "output_type": "stream",
     "text": [
      " 96%|█████████▌| 96202/100001 [3:39:36<07:07,  8.89it/s]"
     ]
    },
    {
     "name": "stdout",
     "output_type": "stream",
     "text": [
      "GAN: loss d: 2.05530    loss g: -2.19302\n"
     ]
    },
    {
     "name": "stderr",
     "output_type": "stream",
     "text": [
      " 96%|█████████▋| 96302/100001 [3:39:48<07:15,  8.49it/s]"
     ]
    },
    {
     "name": "stdout",
     "output_type": "stream",
     "text": [
      "GAN: loss d: 1.51905    loss g: -3.12479\n"
     ]
    },
    {
     "name": "stderr",
     "output_type": "stream",
     "text": [
      " 96%|█████████▋| 96402/100001 [3:39:59<06:56,  8.64it/s]"
     ]
    },
    {
     "name": "stdout",
     "output_type": "stream",
     "text": [
      "GAN: loss d: -0.12849    loss g: -1.76933\n"
     ]
    },
    {
     "name": "stderr",
     "output_type": "stream",
     "text": [
      " 97%|█████████▋| 96501/100001 [3:40:10<06:44,  8.65it/s]"
     ]
    },
    {
     "name": "stdout",
     "output_type": "stream",
     "text": [
      "GAN: loss d: 3.40594    loss g: -2.12224\n"
     ]
    },
    {
     "name": "stderr",
     "output_type": "stream",
     "text": [
      " 97%|█████████▋| 96602/100001 [3:40:22<06:17,  9.00it/s]"
     ]
    },
    {
     "name": "stdout",
     "output_type": "stream",
     "text": [
      "GAN: loss d: 2.55426    loss g: -1.54261\n"
     ]
    },
    {
     "name": "stderr",
     "output_type": "stream",
     "text": [
      " 97%|█████████▋| 96702/100001 [3:40:33<06:31,  8.43it/s]"
     ]
    },
    {
     "name": "stdout",
     "output_type": "stream",
     "text": [
      "GAN: loss d: 3.32050    loss g: -2.57546\n"
     ]
    },
    {
     "name": "stderr",
     "output_type": "stream",
     "text": [
      " 97%|█████████▋| 96802/100001 [3:40:45<06:10,  8.63it/s]"
     ]
    },
    {
     "name": "stdout",
     "output_type": "stream",
     "text": [
      "GAN: loss d: 2.74252    loss g: -3.00649\n"
     ]
    },
    {
     "name": "stderr",
     "output_type": "stream",
     "text": [
      " 97%|█████████▋| 96902/100001 [3:40:56<05:47,  8.91it/s]"
     ]
    },
    {
     "name": "stdout",
     "output_type": "stream",
     "text": [
      "GAN: loss d: 2.81092    loss g: -3.00538\n"
     ]
    },
    {
     "name": "stderr",
     "output_type": "stream",
     "text": [
      " 97%|█████████▋| 97000/100001 [3:41:07<05:29,  9.11it/s]"
     ]
    },
    {
     "name": "stdout",
     "output_type": "stream",
     "text": [
      "GAN: loss d: 1.49656    loss g: -2.08594\n",
      "saving current model\n"
     ]
    },
    {
     "name": "stderr",
     "output_type": "stream",
     "text": [
      "\n",
      "  0%|          | 0/175 [00:00<?, ?it/s]\u001b[A"
     ]
    },
    {
     "name": "stdout",
     "output_type": "stream",
     "text": [
      "Number of real images: 5626\n"
     ]
    },
    {
     "name": "stderr",
     "output_type": "stream",
     "text": [
      "\n",
      "\n",
      "  0%|          | 0/15 [00:00<?, ?it/s]\u001b[A\u001b[A"
     ]
    },
    {
     "name": "stdout",
     "output_type": "stream",
     "text": [
      "Number of synthetic images: 500\n"
     ]
    },
    {
     "name": "stderr",
     "output_type": "stream",
     "text": [
      " 97%|█████████▋| 97002/100001 [3:41:30<4:01:07,  4.82s/it]"
     ]
    },
    {
     "name": "stdout",
     "output_type": "stream",
     "text": [
      "Current fid score: 0.5603865474431906\n",
      "Fid scores: [5.359689818244959, 2.479945282201154, 4.276308166260009, 2.7291028486932554, 2.7908292593055535, 2.3554975684525594, 2.6142447727283162, 2.1934954575945866, 2.3990477193970783, 2.221711896216327, 2.3744210742787253, 2.066927836690496, 2.3716458827445166, 1.9648397602519267, 1.6998954497984542, 2.319731846121897, 1.7800607345901547, 1.4056094758332023, 1.1810571313010847, 1.443624370521686, 1.5078741613768791, 1.173364418143919, 1.2011170423314468, 1.0761087412681398, 1.2172281204321251, 1.000626947334709, 1.737750054809478, 2.0593230539007124, 2.160112364724526, 2.195316465388501, 2.2950768584747436, 2.5124235574475904, 2.475506166692888, 3.0757913554101854, 3.3013338688781992, 3.1298115638580413, 3.361620915033507, 2.3989658516000354, 1.4239996589152213, 1.3841070462580056, 0.8761920713293598, 0.8968581288108979, 0.9323025916764394, 1.2795383980460215, 1.1923953719678337, 1.4775258450924582, 1.2243412993235836, 1.3496958747738148, 1.546939973799251, 1.040973777795589, 1.0413172729060634, 1.0205480305498185, 1.3183341694682618, 0.8797026053507153, 0.8567828803491899, 1.0769886742341122, 0.8730820062121616, 1.106999851042218, 1.1093197035925257, 0.743205909564626, 1.041048778987438, 0.8566777191451536, 0.9813225837970734, 0.9843171522374483, 0.8424157107662538, 1.2353997849701912, 1.3380726899709607, 1.3012930998995103, 1.0876612213245274, 0.9504414477760186, 1.0793728213916438, 1.0040024359416861, 0.8540115679215035, 0.9562752157405896, 0.9313207139124025, 0.7382853603752721, 0.7534168851628351, 0.8613407250179037, 0.7680069818412036, 0.9393416270148585, 1.159315215735596, 0.9946700293956034, 0.8738252785552731, 0.5127191479024731, 0.5008922532457483, 0.5501819891207447, 0.7775785598177798, 0.9029580042702747, 0.6972966558082696, 0.6222831780559126, 0.7528759967103937, 0.6338051510754283, 0.6218562765539453, 0.5774037700573018, 0.6812490254733703, 0.6039969491104529, 0.585489483907196, 0.5603865474431906]\n"
     ]
    },
    {
     "name": "stderr",
     "output_type": "stream",
     "text": [
      "  0%|          | 0/175 [00:10<?, ?it/s]33:09,  1.50it/s]  \n",
      "  0%|          | 0/15 [00:01<?, ?it/s]\n",
      " 97%|█████████▋| 97102/100001 [3:41:41<05:31,  8.75it/s]"
     ]
    },
    {
     "name": "stdout",
     "output_type": "stream",
     "text": [
      "GAN: loss d: 2.74984    loss g: -1.25866\n"
     ]
    },
    {
     "name": "stderr",
     "output_type": "stream",
     "text": [
      " 97%|█████████▋| 97201/100001 [3:41:52<05:23,  8.65it/s]"
     ]
    },
    {
     "name": "stdout",
     "output_type": "stream",
     "text": [
      "GAN: loss d: 6.08351    loss g: -3.10066\n"
     ]
    },
    {
     "name": "stderr",
     "output_type": "stream",
     "text": [
      " 97%|█████████▋| 97302/100001 [3:42:04<05:10,  8.69it/s]"
     ]
    },
    {
     "name": "stdout",
     "output_type": "stream",
     "text": [
      "GAN: loss d: 2.57352    loss g: -3.35980\n"
     ]
    },
    {
     "name": "stderr",
     "output_type": "stream",
     "text": [
      " 97%|█████████▋| 97402/100001 [3:42:15<05:00,  8.65it/s]"
     ]
    },
    {
     "name": "stdout",
     "output_type": "stream",
     "text": [
      "GAN: loss d: 4.31818    loss g: -1.96625\n"
     ]
    },
    {
     "name": "stderr",
     "output_type": "stream",
     "text": [
      " 98%|█████████▊| 97501/100001 [3:42:26<04:44,  8.79it/s]"
     ]
    },
    {
     "name": "stdout",
     "output_type": "stream",
     "text": [
      "GAN: loss d: 3.15567    loss g: -1.67122\n"
     ]
    },
    {
     "name": "stderr",
     "output_type": "stream",
     "text": [
      " 98%|█████████▊| 97602/100001 [3:42:38<04:31,  8.85it/s]"
     ]
    },
    {
     "name": "stdout",
     "output_type": "stream",
     "text": [
      "GAN: loss d: 5.00048    loss g: -2.68699\n"
     ]
    },
    {
     "name": "stderr",
     "output_type": "stream",
     "text": [
      " 98%|█████████▊| 97702/100001 [3:42:49<04:33,  8.40it/s]"
     ]
    },
    {
     "name": "stdout",
     "output_type": "stream",
     "text": [
      "GAN: loss d: 4.38155    loss g: -2.82143\n"
     ]
    },
    {
     "name": "stderr",
     "output_type": "stream",
     "text": [
      " 98%|█████████▊| 97802/100001 [3:43:01<04:11,  8.73it/s]"
     ]
    },
    {
     "name": "stdout",
     "output_type": "stream",
     "text": [
      "GAN: loss d: 4.72074    loss g: -1.49669\n"
     ]
    },
    {
     "name": "stderr",
     "output_type": "stream",
     "text": [
      " 98%|█████████▊| 97902/100001 [3:43:12<03:55,  8.91it/s]"
     ]
    },
    {
     "name": "stdout",
     "output_type": "stream",
     "text": [
      "GAN: loss d: 5.58258    loss g: -1.97447\n"
     ]
    },
    {
     "name": "stderr",
     "output_type": "stream",
     "text": [
      " 98%|█████████▊| 98000/100001 [3:43:23<03:46,  8.83it/s]"
     ]
    },
    {
     "name": "stdout",
     "output_type": "stream",
     "text": [
      "GAN: loss d: 3.37138    loss g: -2.22503\n",
      "saving current model\n"
     ]
    },
    {
     "name": "stderr",
     "output_type": "stream",
     "text": [
      "\n",
      "  0%|          | 0/175 [00:00<?, ?it/s]\u001b[A"
     ]
    },
    {
     "name": "stdout",
     "output_type": "stream",
     "text": [
      "Number of real images: 5626\n"
     ]
    },
    {
     "name": "stderr",
     "output_type": "stream",
     "text": [
      "\n",
      "\n",
      "  0%|          | 0/15 [00:00<?, ?it/s]\u001b[A\u001b[A"
     ]
    },
    {
     "name": "stdout",
     "output_type": "stream",
     "text": [
      "Number of synthetic images: 500\n"
     ]
    },
    {
     "name": "stderr",
     "output_type": "stream",
     "text": [
      " 98%|█████████▊| 98002/100001 [3:43:46<2:42:04,  4.86s/it]"
     ]
    },
    {
     "name": "stdout",
     "output_type": "stream",
     "text": [
      "Current fid score: 0.7620905797836812\n",
      "Fid scores: [5.359689818244959, 2.479945282201154, 4.276308166260009, 2.7291028486932554, 2.7908292593055535, 2.3554975684525594, 2.6142447727283162, 2.1934954575945866, 2.3990477193970783, 2.221711896216327, 2.3744210742787253, 2.066927836690496, 2.3716458827445166, 1.9648397602519267, 1.6998954497984542, 2.319731846121897, 1.7800607345901547, 1.4056094758332023, 1.1810571313010847, 1.443624370521686, 1.5078741613768791, 1.173364418143919, 1.2011170423314468, 1.0761087412681398, 1.2172281204321251, 1.000626947334709, 1.737750054809478, 2.0593230539007124, 2.160112364724526, 2.195316465388501, 2.2950768584747436, 2.5124235574475904, 2.475506166692888, 3.0757913554101854, 3.3013338688781992, 3.1298115638580413, 3.361620915033507, 2.3989658516000354, 1.4239996589152213, 1.3841070462580056, 0.8761920713293598, 0.8968581288108979, 0.9323025916764394, 1.2795383980460215, 1.1923953719678337, 1.4775258450924582, 1.2243412993235836, 1.3496958747738148, 1.546939973799251, 1.040973777795589, 1.0413172729060634, 1.0205480305498185, 1.3183341694682618, 0.8797026053507153, 0.8567828803491899, 1.0769886742341122, 0.8730820062121616, 1.106999851042218, 1.1093197035925257, 0.743205909564626, 1.041048778987438, 0.8566777191451536, 0.9813225837970734, 0.9843171522374483, 0.8424157107662538, 1.2353997849701912, 1.3380726899709607, 1.3012930998995103, 1.0876612213245274, 0.9504414477760186, 1.0793728213916438, 1.0040024359416861, 0.8540115679215035, 0.9562752157405896, 0.9313207139124025, 0.7382853603752721, 0.7534168851628351, 0.8613407250179037, 0.7680069818412036, 0.9393416270148585, 1.159315215735596, 0.9946700293956034, 0.8738252785552731, 0.5127191479024731, 0.5008922532457483, 0.5501819891207447, 0.7775785598177798, 0.9029580042702747, 0.6972966558082696, 0.6222831780559126, 0.7528759967103937, 0.6338051510754283, 0.6218562765539453, 0.5774037700573018, 0.6812490254733703, 0.6039969491104529, 0.585489483907196, 0.5603865474431906, 0.7620905797836812]\n"
     ]
    },
    {
     "name": "stderr",
     "output_type": "stream",
     "text": [
      "  0%|          | 0/175 [00:11<?, ?it/s]10:06,  3.28it/s]  \n",
      "  0%|          | 0/15 [00:02<?, ?it/s]\n",
      " 98%|█████████▊| 98102/100001 [3:43:57<03:33,  8.88it/s]"
     ]
    },
    {
     "name": "stdout",
     "output_type": "stream",
     "text": [
      "GAN: loss d: 2.92731    loss g: -3.13316\n"
     ]
    },
    {
     "name": "stderr",
     "output_type": "stream",
     "text": [
      " 98%|█████████▊| 98202/100001 [3:44:09<03:24,  8.81it/s]"
     ]
    },
    {
     "name": "stdout",
     "output_type": "stream",
     "text": [
      "GAN: loss d: 6.67698    loss g: -1.65895\n"
     ]
    },
    {
     "name": "stderr",
     "output_type": "stream",
     "text": [
      " 98%|█████████▊| 98302/100001 [3:44:20<03:11,  8.89it/s]"
     ]
    },
    {
     "name": "stdout",
     "output_type": "stream",
     "text": [
      "GAN: loss d: 2.11159    loss g: -2.95896\n"
     ]
    },
    {
     "name": "stderr",
     "output_type": "stream",
     "text": [
      " 98%|█████████▊| 98401/100001 [3:44:31<03:12,  8.31it/s]"
     ]
    },
    {
     "name": "stdout",
     "output_type": "stream",
     "text": [
      "GAN: loss d: 2.73782    loss g: -1.51388\n"
     ]
    },
    {
     "name": "stderr",
     "output_type": "stream",
     "text": [
      " 99%|█████████▊| 98502/100001 [3:44:43<02:53,  8.64it/s]"
     ]
    },
    {
     "name": "stdout",
     "output_type": "stream",
     "text": [
      "GAN: loss d: 3.40314    loss g: -2.84265\n"
     ]
    },
    {
     "name": "stderr",
     "output_type": "stream",
     "text": [
      " 99%|█████████▊| 98602/100001 [3:44:54<02:42,  8.60it/s]"
     ]
    },
    {
     "name": "stdout",
     "output_type": "stream",
     "text": [
      "GAN: loss d: 0.41856    loss g: -1.90208\n"
     ]
    },
    {
     "name": "stderr",
     "output_type": "stream",
     "text": [
      " 99%|█████████▊| 98702/100001 [3:45:06<02:25,  8.93it/s]"
     ]
    },
    {
     "name": "stdout",
     "output_type": "stream",
     "text": [
      "GAN: loss d: 4.11675    loss g: -2.43386\n"
     ]
    },
    {
     "name": "stderr",
     "output_type": "stream",
     "text": [
      " 99%|█████████▉| 98802/100001 [3:45:17<02:14,  8.90it/s]"
     ]
    },
    {
     "name": "stdout",
     "output_type": "stream",
     "text": [
      "GAN: loss d: 1.39921    loss g: -1.68980\n"
     ]
    },
    {
     "name": "stderr",
     "output_type": "stream",
     "text": [
      " 99%|█████████▉| 98902/100001 [3:45:28<02:03,  8.87it/s]"
     ]
    },
    {
     "name": "stdout",
     "output_type": "stream",
     "text": [
      "GAN: loss d: 6.31066    loss g: -2.10359\n"
     ]
    },
    {
     "name": "stderr",
     "output_type": "stream",
     "text": [
      " 99%|█████████▉| 99000/100001 [3:45:39<01:51,  9.02it/s]"
     ]
    },
    {
     "name": "stdout",
     "output_type": "stream",
     "text": [
      "GAN: loss d: 6.52265    loss g: -3.20203\n",
      "saving current model\n"
     ]
    },
    {
     "name": "stderr",
     "output_type": "stream",
     "text": [
      "\n",
      "  0%|          | 0/175 [00:00<?, ?it/s]\u001b[A"
     ]
    },
    {
     "name": "stdout",
     "output_type": "stream",
     "text": [
      "Number of real images: 5626\n"
     ]
    },
    {
     "name": "stderr",
     "output_type": "stream",
     "text": [
      "\n",
      "\n",
      "  0%|          | 0/15 [00:00<?, ?it/s]\u001b[A\u001b[A"
     ]
    },
    {
     "name": "stdout",
     "output_type": "stream",
     "text": [
      "Number of synthetic images: 500\n"
     ]
    },
    {
     "name": "stderr",
     "output_type": "stream",
     "text": [
      " 99%|█████████▉| 99002/100001 [3:46:03<1:23:52,  5.04s/it]"
     ]
    },
    {
     "name": "stdout",
     "output_type": "stream",
     "text": [
      "Current fid score: 0.641650938755582\n",
      "Fid scores: [5.359689818244959, 2.479945282201154, 4.276308166260009, 2.7291028486932554, 2.7908292593055535, 2.3554975684525594, 2.6142447727283162, 2.1934954575945866, 2.3990477193970783, 2.221711896216327, 2.3744210742787253, 2.066927836690496, 2.3716458827445166, 1.9648397602519267, 1.6998954497984542, 2.319731846121897, 1.7800607345901547, 1.4056094758332023, 1.1810571313010847, 1.443624370521686, 1.5078741613768791, 1.173364418143919, 1.2011170423314468, 1.0761087412681398, 1.2172281204321251, 1.000626947334709, 1.737750054809478, 2.0593230539007124, 2.160112364724526, 2.195316465388501, 2.2950768584747436, 2.5124235574475904, 2.475506166692888, 3.0757913554101854, 3.3013338688781992, 3.1298115638580413, 3.361620915033507, 2.3989658516000354, 1.4239996589152213, 1.3841070462580056, 0.8761920713293598, 0.8968581288108979, 0.9323025916764394, 1.2795383980460215, 1.1923953719678337, 1.4775258450924582, 1.2243412993235836, 1.3496958747738148, 1.546939973799251, 1.040973777795589, 1.0413172729060634, 1.0205480305498185, 1.3183341694682618, 0.8797026053507153, 0.8567828803491899, 1.0769886742341122, 0.8730820062121616, 1.106999851042218, 1.1093197035925257, 0.743205909564626, 1.041048778987438, 0.8566777191451536, 0.9813225837970734, 0.9843171522374483, 0.8424157107662538, 1.2353997849701912, 1.3380726899709607, 1.3012930998995103, 1.0876612213245274, 0.9504414477760186, 1.0793728213916438, 1.0040024359416861, 0.8540115679215035, 0.9562752157405896, 0.9313207139124025, 0.7382853603752721, 0.7534168851628351, 0.8613407250179037, 0.7680069818412036, 0.9393416270148585, 1.159315215735596, 0.9946700293956034, 0.8738252785552731, 0.5127191479024731, 0.5008922532457483, 0.5501819891207447, 0.7775785598177798, 0.9029580042702747, 0.6972966558082696, 0.6222831780559126, 0.7528759967103937, 0.6338051510754283, 0.6218562765539453, 0.5774037700573018, 0.6812490254733703, 0.6039969491104529, 0.585489483907196, 0.5603865474431906, 0.7620905797836812, 0.641650938755582]\n"
     ]
    },
    {
     "name": "stderr",
     "output_type": "stream",
     "text": [
      "  0%|          | 0/175 [00:19<?, ?it/s]01:44,  8.82it/s]  \n",
      "  0%|          | 0/15 [00:10<?, ?it/s]\n",
      " 99%|█████████▉| 99102/100001 [3:46:14<01:41,  8.87it/s]"
     ]
    },
    {
     "name": "stdout",
     "output_type": "stream",
     "text": [
      "GAN: loss d: 2.14611    loss g: -1.31884\n"
     ]
    },
    {
     "name": "stderr",
     "output_type": "stream",
     "text": [
      " 99%|█████████▉| 99202/100001 [3:46:26<01:30,  8.88it/s]"
     ]
    },
    {
     "name": "stdout",
     "output_type": "stream",
     "text": [
      "GAN: loss d: 2.09536    loss g: -2.84299\n"
     ]
    },
    {
     "name": "stderr",
     "output_type": "stream",
     "text": [
      " 99%|█████████▉| 99302/100001 [3:46:37<01:19,  8.81it/s]"
     ]
    },
    {
     "name": "stdout",
     "output_type": "stream",
     "text": [
      "GAN: loss d: 3.08642    loss g: -2.37686\n"
     ]
    },
    {
     "name": "stderr",
     "output_type": "stream",
     "text": [
      " 99%|█████████▉| 99402/100001 [3:46:48<01:07,  8.87it/s]"
     ]
    },
    {
     "name": "stdout",
     "output_type": "stream",
     "text": [
      "GAN: loss d: 2.74776    loss g: -1.84103\n"
     ]
    },
    {
     "name": "stderr",
     "output_type": "stream",
     "text": [
      "100%|█████████▉| 99502/100001 [3:47:00<00:56,  8.84it/s]"
     ]
    },
    {
     "name": "stdout",
     "output_type": "stream",
     "text": [
      "GAN: loss d: 5.14027    loss g: -3.43396\n"
     ]
    },
    {
     "name": "stderr",
     "output_type": "stream",
     "text": [
      "100%|█████████▉| 99602/100001 [3:47:11<00:45,  8.83it/s]"
     ]
    },
    {
     "name": "stdout",
     "output_type": "stream",
     "text": [
      "GAN: loss d: 4.43968    loss g: -3.14554\n"
     ]
    },
    {
     "name": "stderr",
     "output_type": "stream",
     "text": [
      "100%|█████████▉| 99702/100001 [3:47:22<00:33,  8.98it/s]"
     ]
    },
    {
     "name": "stdout",
     "output_type": "stream",
     "text": [
      "GAN: loss d: 3.58079    loss g: -1.70700\n"
     ]
    },
    {
     "name": "stderr",
     "output_type": "stream",
     "text": [
      "100%|█████████▉| 99802/100001 [3:47:34<00:22,  8.86it/s]"
     ]
    },
    {
     "name": "stdout",
     "output_type": "stream",
     "text": [
      "GAN: loss d: 2.42239    loss g: -1.96442\n"
     ]
    },
    {
     "name": "stderr",
     "output_type": "stream",
     "text": [
      "100%|█████████▉| 99902/100001 [3:47:45<00:11,  8.79it/s]"
     ]
    },
    {
     "name": "stdout",
     "output_type": "stream",
     "text": [
      "GAN: loss d: 2.92183    loss g: -2.68891\n"
     ]
    },
    {
     "name": "stderr",
     "output_type": "stream",
     "text": [
      "100%|█████████▉| 100000/100001 [3:47:56<00:00,  9.00it/s]"
     ]
    },
    {
     "name": "stdout",
     "output_type": "stream",
     "text": [
      "GAN: loss d: 2.56317    loss g: -2.68741\n",
      "saving current model\n"
     ]
    },
    {
     "name": "stderr",
     "output_type": "stream",
     "text": [
      "\n",
      "  0%|          | 0/175 [00:00<?, ?it/s]\u001b[A"
     ]
    },
    {
     "name": "stdout",
     "output_type": "stream",
     "text": [
      "Number of real images: 5626\n"
     ]
    },
    {
     "name": "stderr",
     "output_type": "stream",
     "text": [
      "\n",
      "\n",
      "  0%|          | 0/15 [00:00<?, ?it/s]\u001b[A\u001b[A"
     ]
    },
    {
     "name": "stdout",
     "output_type": "stream",
     "text": [
      "Number of synthetic images: 500\n"
     ]
    },
    {
     "name": "stderr",
     "output_type": "stream",
     "text": [
      "100%|██████████| 100001/100001 [3:48:19<00:00,  7.30it/s]"
     ]
    },
    {
     "name": "stdout",
     "output_type": "stream",
     "text": [
      "Current fid score: 0.6825261428481859\n",
      "Fid scores: [5.359689818244959, 2.479945282201154, 4.276308166260009, 2.7291028486932554, 2.7908292593055535, 2.3554975684525594, 2.6142447727283162, 2.1934954575945866, 2.3990477193970783, 2.221711896216327, 2.3744210742787253, 2.066927836690496, 2.3716458827445166, 1.9648397602519267, 1.6998954497984542, 2.319731846121897, 1.7800607345901547, 1.4056094758332023, 1.1810571313010847, 1.443624370521686, 1.5078741613768791, 1.173364418143919, 1.2011170423314468, 1.0761087412681398, 1.2172281204321251, 1.000626947334709, 1.737750054809478, 2.0593230539007124, 2.160112364724526, 2.195316465388501, 2.2950768584747436, 2.5124235574475904, 2.475506166692888, 3.0757913554101854, 3.3013338688781992, 3.1298115638580413, 3.361620915033507, 2.3989658516000354, 1.4239996589152213, 1.3841070462580056, 0.8761920713293598, 0.8968581288108979, 0.9323025916764394, 1.2795383980460215, 1.1923953719678337, 1.4775258450924582, 1.2243412993235836, 1.3496958747738148, 1.546939973799251, 1.040973777795589, 1.0413172729060634, 1.0205480305498185, 1.3183341694682618, 0.8797026053507153, 0.8567828803491899, 1.0769886742341122, 0.8730820062121616, 1.106999851042218, 1.1093197035925257, 0.743205909564626, 1.041048778987438, 0.8566777191451536, 0.9813225837970734, 0.9843171522374483, 0.8424157107662538, 1.2353997849701912, 1.3380726899709607, 1.3012930998995103, 1.0876612213245274, 0.9504414477760186, 1.0793728213916438, 1.0040024359416861, 0.8540115679215035, 0.9562752157405896, 0.9313207139124025, 0.7382853603752721, 0.7534168851628351, 0.8613407250179037, 0.7680069818412036, 0.9393416270148585, 1.159315215735596, 0.9946700293956034, 0.8738252785552731, 0.5127191479024731, 0.5008922532457483, 0.5501819891207447, 0.7775785598177798, 0.9029580042702747, 0.6972966558082696, 0.6222831780559126, 0.7528759967103937, 0.6338051510754283, 0.6218562765539453, 0.5774037700573018, 0.6812490254733703, 0.6039969491104529, 0.585489483907196, 0.5603865474431906, 0.7620905797836812, 0.641650938755582, 0.6825261428481859]\n"
     ]
    },
    {
     "name": "stderr",
     "output_type": "stream",
     "text": [
      "\n"
     ]
    }
   ],
   "source": [
    "import torch\n",
    "from torch import nn\n",
    "import torch.optim as optim\n",
    "import torch.nn.functional as F\n",
    "from torchvision import transforms\n",
    "from torchvision import utils as vutils\n",
    "from torch.utils.data.dataloader import DataLoader\n",
    "from scipy import linalg\n",
    "import sys\n",
    "\n",
    "import argparse\n",
    "import random\n",
    "from tqdm import tqdm\n",
    "import easydict\n",
    "\n",
    "from diffaug import DiffAugment\n",
    "\n",
    "policy = 'color,translation'\n",
    "\n",
    "\n",
    "class FIDScore:\n",
    "    def __init__(self, path_a, path_b, image_size, batch_size, device='cuda'):\n",
    "        self.device = device\n",
    "        self.image_size = image_size\n",
    "        self.path_a = path_a\n",
    "        self.path_b = path_b\n",
    "        self.batch_size = batch_size\n",
    "        self.inception = self.load_patched_inception_v3().eval().to(device)\n",
    "        self.transform = transforms.Compose([\n",
    "            transforms.Resize((self.image_size, self.image_size)),\n",
    "            transforms.ToTensor(),\n",
    "            transforms.Normalize([0.5, 0.5, 0.5], [0.5, 0.5, 0.5])\n",
    "        ])\n",
    "\n",
    "    @torch.no_grad()\n",
    "    def extract_features(self, loader):\n",
    "        #for batch_idx, batch_data in enumerate(loader):\n",
    "            #print(f\"Batch {batch_idx} - Batch shape: {batch_data.shape}, Batch contents: {batch_data}\")\n",
    "        pbar = tqdm(loader)\n",
    "        feature_list = []\n",
    "        for img in loader:\n",
    "            img = img.to(self.device)\n",
    "            feature = self.inception(img)[0].view(img.shape[0], -1)\n",
    "            feature_list.append(feature.to('cpu'))\n",
    "        features = torch.cat(feature_list, 0)\n",
    "        return features\n",
    "\n",
    "    def calc_fid(self, sample_mean, sample_cov, real_mean, real_cov, eps=1e-6):\n",
    "        cov_sqrt, _ = linalg.sqrtm(sample_cov @ real_cov, disp=False)\n",
    "        if not np.isfinite(cov_sqrt).all():\n",
    "            print('product of cov matrices is singular')\n",
    "            offset = np.eye(sample_cov.shape[0]) * eps\n",
    "            cov_sqrt = linalg.sqrtm((sample_cov + offset) @ (real_cov + offset))\n",
    "        if np.iscomplexobj(cov_sqrt):\n",
    "            if not np.allclose(np.diagonal(cov_sqrt).imag, 0, atol=1e-3):\n",
    "                m = np.max(np.abs(cov_sqrt.imag))\n",
    "                raise ValueError(f'Imaginary component {m}')\n",
    "            cov_sqrt = cov_sqrt.real\n",
    "        mean_diff = sample_mean - real_mean\n",
    "        mean_norm = mean_diff @ mean_diff\n",
    "        trace = np.trace(sample_cov) + np.trace(real_cov) - 2 * np.trace(cov_sqrt)\n",
    "        fid = mean_norm + trace\n",
    "        return fid\n",
    "\n",
    "    def __call__(self, num_workers=4):\n",
    "        dset_a = ImageFolder(self.path_a, self.transform)\n",
    "        print(\"Number of real images:\", len(dset_a))\n",
    "        loader_a = DataLoader(dset_a, batch_size=self.batch_size, num_workers=num_workers, drop_last=True)\n",
    "        features_a = self.extract_features(loader_a).numpy()\n",
    "        real_mean = np.mean(features_a, 0)\n",
    "        real_cov = np.cov(features_a, rowvar=False)\n",
    "\n",
    "        dset_b = ImageFolder(self.path_b, self.transform)\n",
    "        print(\"Number of synthetic images:\", len(dset_b))\n",
    "        loader_b = DataLoader(dset_b, batch_size=self.batch_size, num_workers=num_workers, drop_last=True)\n",
    "        features_b = self.extract_features(loader_b).numpy()\n",
    "        sample_mean = np.mean(features_b, 0)\n",
    "        sample_cov = np.cov(features_b, rowvar=False)\n",
    "\n",
    "        fid = self.calc_fid(sample_mean, sample_cov, real_mean, real_cov)\n",
    "\n",
    "        return fid\n",
    "\n",
    "    @staticmethod\n",
    "    def load_patched_inception_v3():\n",
    "        inception = torch.hub.load('pytorch/vision:v0.9.0', 'inception_v3', pretrained=True)\n",
    "        inception.fc = nn.Identity()\n",
    "        return inception\n",
    "\n",
    "\n",
    "# torch.backends.cudnn.benchmark = True\n",
    "\n",
    "\n",
    "def crop_image_by_part(image, part):\n",
    "    hw = image.shape[2] // 2\n",
    "    if part == 0:\n",
    "        return image[:, :, :hw, :hw]\n",
    "    if part == 1:\n",
    "        return image[:, :, :hw, hw:]\n",
    "    if part == 2:\n",
    "        return image[:, :, hw:, :hw]\n",
    "    if part == 3:\n",
    "        return image[:, :, hw:, hw:]\n",
    "\n",
    "\n",
    "def train_d(net, data, label=\"real\"):\n",
    "    \"\"\"Train function of discriminator\"\"\"\n",
    "    if label == \"real\":\n",
    "        part = random.randint(0, 3)\n",
    "        pred, [rec_all, rec_small, rec_part] = net(data, label, part=part)\n",
    "        err = F.relu(torch.rand_like(pred) * 0.2 + 0.8 - pred).mean()\n",
    "        err.backward()\n",
    "        return pred.mean().item(), rec_all, rec_small, rec_part\n",
    "    else:\n",
    "        pred = net(data, label)\n",
    "        err = F.relu(torch.rand_like(pred) * 0.2 + 0.8 + pred).mean()\n",
    "        err.backward()\n",
    "        return pred.mean().item()\n",
    "\n",
    "\n",
    "def train(args):\n",
    "    data_root = args.path\n",
    "    total_iterations = args.iter\n",
    "    checkpoint = args.ckpt\n",
    "    batch_size = args.batch_size\n",
    "    im_size = args.im_size\n",
    "    ndf = 64\n",
    "    ngf = 64\n",
    "    nz = args.noise_dim\n",
    "    nlr = 0.0001\n",
    "    nbeta1 = 0.5\n",
    "    use_cuda = True\n",
    "    multi_gpu = True\n",
    "    dataloader_workers = 8\n",
    "    current_iteration = args.start_iter\n",
    "    save_interval = 100\n",
    "    saved_model_folder, saved_image_folder = get_dir(args)\n",
    "    fid_batch_size = args.fid_batch_size\n",
    "    save_results_dir = args.name\n",
    "    \n",
    "\n",
    "    device = torch.device(\"cpu\")\n",
    "    if use_cuda:\n",
    "        device = torch.device(\"cuda:0\")\n",
    "\n",
    "    transform_list = [\n",
    "        transforms.Resize((int(im_size), int(im_size))),\n",
    "        transforms.RandomHorizontalFlip(),\n",
    "        transforms.ToTensor(),\n",
    "        transforms.Normalize(mean=[0.5, 0.5, 0.5], std=[0.5, 0.5, 0.5])\n",
    "    ]\n",
    "    trans = transforms.Compose(transform_list)\n",
    "\n",
    "    if 'lmdb' in data_root:\n",
    "        from operation import MultiResolutionDataset\n",
    "        dataset = MultiResolutionDataset(data_root, trans, 1024)\n",
    "    else:\n",
    "        dataset = ImageFolder(root=data_root, transform=trans)\n",
    "\n",
    "    dataloader = iter(DataLoader(dataset, batch_size=batch_size, shuffle=False,\n",
    "                                 sampler=InfiniteSamplerWrapper(dataset), num_workers=dataloader_workers,\n",
    "                                 pin_memory=True))\n",
    "    '''\n",
    "    loader = MultiEpochsDataLoader(dataset, batch_size=batch_size, \n",
    "                               shuffle=True, num_workers=dataloader_workers, \n",
    "                               pin_memory=True)\n",
    "    dataloader = CudaDataLoader(loader, 'cuda')\n",
    "    '''\n",
    "\n",
    "    # from model_s import Generator, Discriminator\n",
    "    netG = Generator(ngf=ngf, nz=nz, im_size=im_size)\n",
    "    netG.apply(weights_init)\n",
    "\n",
    "    netD = Discriminator(ndf=ndf, im_size=im_size)\n",
    "    netD.apply(weights_init)\n",
    "\n",
    "    netG.to(device)\n",
    "    netD.to(device)\n",
    "\n",
    "    avg_param_G = copy_G_params(netG)\n",
    "\n",
    "    optimizerG = optim.Adam(netG.parameters(), lr=nlr, betas=(nbeta1, 0.999))\n",
    "    optimizerD = optim.Adam(netD.parameters(), lr=nlr, betas=(nbeta1, 0.999))\n",
    "    \n",
    "    generated_images = os.path.join(os.getcwd(), 'train_results', save_results_dir, \"images\")    \n",
    "    fid = FIDScore(data_root, generated_images, im_size, fid_batch_size)\n",
    "    fid_scores = []\n",
    "    losses = []\n",
    "    min_fid_score = 999\n",
    "    \n",
    "    data = {\n",
    "            \"loss_d\": [],\n",
    "            \"loss_g\": []\n",
    "        }\n",
    "\n",
    "    loss_results_path = os.path.join(os.getcwd(), 'train_results', save_results_dir, \"loss.json\")      \n",
    "\n",
    "    \n",
    "    if checkpoint != 'None':\n",
    "        ckpt = torch.load(checkpoint)\n",
    "        netG.load_state_dict({k.replace('module.', ''): v for k, v in ckpt['g'].items()})\n",
    "        netD.load_state_dict({k.replace('module.', ''): v for k, v in ckpt['d'].items()})\n",
    "        avg_param_G = ckpt['g_ema']\n",
    "        optimizerG.load_state_dict(ckpt['opt_g'])\n",
    "        optimizerD.load_state_dict(ckpt['opt_d'])\n",
    "        current_iteration = int(checkpoint.split('_')[-1].split('.')[0])\n",
    "        del ckpt\n",
    "\n",
    "    if multi_gpu:\n",
    "        netG = nn.DataParallel(netG.to(device))\n",
    "        netD = nn.DataParallel(netD.to(device))\n",
    "\n",
    "    for iteration in tqdm(range(current_iteration, total_iterations + 1)):\n",
    "        real_image = next(dataloader)\n",
    "        real_image = real_image.to(device)\n",
    "        current_batch_size = real_image.size(0)\n",
    "        noise = torch.Tensor(current_batch_size, nz).normal_(0, 1).to(device)\n",
    "\n",
    "        fake_images = netG(noise)\n",
    "\n",
    "        real_image = DiffAugment(real_image, policy=policy)\n",
    "        fake_images = [DiffAugment(fake, policy=policy) for fake in fake_images]\n",
    "\n",
    "        ## 2. train Discriminator\n",
    "        netD.zero_grad()\n",
    "\n",
    "        err_dr, rec_img_all, rec_img_small, rec_img_part = train_d(netD, real_image, label=\"real\")\n",
    "        train_d(netD, [fi.detach() for fi in fake_images], label=\"fake\")\n",
    "        optimizerD.step()\n",
    "\n",
    "        ## 3. train Generator\n",
    "        netG.zero_grad()\n",
    "        pred_g = netD(fake_images, \"fake\")\n",
    "        err_g = -pred_g.mean()\n",
    "\n",
    "        err_g.backward()\n",
    "        optimizerG.step()\n",
    "\n",
    "        for p, avg_p in zip(netG.parameters(), avg_param_G):\n",
    "            avg_p.mul_(0.999).add_(0.001 * p.data)\n",
    "\n",
    "            \n",
    "        if iteration % 100 == 0:\n",
    "            print(\"GAN: loss d: %.5f    loss g: %.5f\" % (err_dr, -err_g.item()))\n",
    "            data[\"loss_d\"].append(err_dr)\n",
    "            data[\"loss_g\"].append(-err_g.item())\n",
    "            \n",
    "            with open(loss_results_path, \"w\") as json_file:\n",
    "                json.dump(data, json_file, indent=4)\n",
    "\n",
    "        \n",
    "        if iteration % (save_interval * 10) == 0 or iteration == total_iterations:\n",
    "            backup_para = copy_G_params(netG)\n",
    "            load_params(netG, avg_param_G)\n",
    "            print (\"saving current model\")\n",
    "            torch.save({'g': netG.state_dict(), 'd': netD.state_dict()}, saved_model_folder + '/last_model.pth')\n",
    "            with torch.no_grad():\n",
    "                for i in range (500):\n",
    "                    fixed_noise = torch.FloatTensor(1, nz).normal_(0, 1).to(device)\n",
    "                    generated_images = netG(fixed_noise)                \n",
    "                    #print(\"saved %d image\" % i)\n",
    "                    vutils.save_image(generated_images[0].add(1).mul(0.5), saved_image_folder + '/%d.jpg' % i)\n",
    "\n",
    "            fid_score = fid()\n",
    "            fid_scores.append(fid_score)\n",
    "            print ('Current fid score:' , fid_score)\n",
    "            print ('Fid scores:' , fid_scores)\n",
    "            \n",
    "            fid_results_path = os.path.join(os.getcwd(), 'train_results', save_results_dir, \"fid.txt\")    \n",
    "\n",
    "            with open(fid_results_path, 'w') as file:\n",
    "                for value in fid_scores:\n",
    "                    file.write(str(value) + '\\n')\n",
    "            \n",
    "            if fid_score < min_fid_score:\n",
    "                min_fid_score = fid_score\n",
    "                print('New min fid score: %.12f' % fid_score)\n",
    "                print('Saving best model')\n",
    "                torch.save({'g': netG.state_dict(), 'd': netD.state_dict()}, saved_model_folder + '/min_fid_model.pth')\n",
    "                #load_params(netG, backup_para)\n",
    "                #torch.save({'g': netG.state_dict(), 'd': netD.state_dict(), 'g_ema': avg_param_G, 'opt_g': optimizerG.state_dict(), 'opt_d': optimizerD.state_dict()}, saved_model_folder + '/all_%d.pth' % iteration)\n",
    "\n",
    "            load_params(netG, backup_para)\n",
    "\n",
    "\n",
    "if __name__ == \"__main__\":\n",
    "    #data_root = os.path.join(os.path.abspath('..'), \"datasets\", \"drive\", \"img\")\n",
    "    #test_name= 'drive'\n",
    "    #im_size= 512\n",
    "    data_root = os.path.join(os.path.abspath('..'), \"datasets\", \"BV\", \"train\")\n",
    "    test_name= 'test_bv_256'\n",
    "    im_size= 256\n",
    "    print (data_root)\n",
    "    args = easydict.EasyDict({\n",
    "        \"path\": data_root,\n",
    "        \"cuda\": 0,\n",
    "        \"name\": test_name,\n",
    "        \"iter\": 100000,\n",
    "        \"start_iter\": 0, \n",
    "        \"batch_size\": 1,\n",
    "        \"im_size\": im_size,\n",
    "        \"ckpt\": 'None',\n",
    "        \"noise_dim\": 400,\n",
    "        \"fid_batch_size\": 32\n",
    "    })\n",
    "    \n",
    "    print(args)\n",
    "    torch.cuda.empty_cache()\n",
    "    #print(torch.cuda.memory_summary(device=None, abbreviated=False))\n",
    "    train(args)\n"
   ]
  },
  {
   "cell_type": "code",
   "execution_count": null,
   "metadata": {},
   "outputs": [],
   "source": []
  }
 ],
 "metadata": {
  "kernelspec": {
   "display_name": "Python 3",
   "language": "python",
   "name": "python3"
  },
  "language_info": {
   "codemirror_mode": {
    "name": "ipython",
    "version": 3
   },
   "file_extension": ".py",
   "mimetype": "text/x-python",
   "name": "python",
   "nbconvert_exporter": "python",
   "pygments_lexer": "ipython3",
   "version": "3.7.9"
  }
 },
 "nbformat": 4,
 "nbformat_minor": 4
}
